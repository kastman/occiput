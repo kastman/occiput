{
 "metadata": {
  "name": ""
 },
 "nbformat": 3,
 "nbformat_minor": 0,
 "worksheets": [
  {
   "cells": [
    {
     "cell_type": "code",
     "collapsed": false,
     "input": [
      "import occiput\n",
      "occiput.initialise()\n",
      "import numpy\n",
      "import time\n",
      "import nibabel"
     ],
     "language": "python",
     "metadata": {},
     "outputs": [
      {
       "html": [
        "\n",
        "        <style>\n",
        "        div.nav.brand.pull-left {\n",
        "        width:  300px; \n",
        "        height: 35px; \n",
        "        background-repeat: no-repeat;\n",
        "\t    background-image: url(data:image/png;base64,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);\n",
        "\t    text-indent: -999px;\n",
        "    }\n",
        "    </style>"
       ],
       "metadata": {},
       "output_type": "display_data",
       "text": [
        "<IPython.core.display.HTML at 0x10ee45d50>"
       ]
      },
      {
       "html": [
        "\n",
        "        <style>\n",
        "        div.nav.brand.pull-left {\n",
        "        width:  300px; \n",
        "        height: 35px; \n",
        "        background-repeat: no-repeat;\n",
        "\t    background-image: url(data:image/png;base64,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);\n",
        "\t    text-indent: -999px;\n",
        "    }\n",
        "    </style>"
       ],
       "metadata": {},
       "output_type": "display_data",
       "text": [
        "<IPython.core.display.HTML at 0x1029c6950>"
       ]
      }
     ],
     "prompt_number": 1
    },
    {
     "cell_type": "code",
     "collapsed": false,
     "input": [
      "# Dynamic PET acquisition: \n",
      "SCAN = occiput.Reconstruction.PET.PET_Dynamic_Scan();\n",
      "\n",
      "# Load list-mode data: \n",
      "filename    = '/Users/spedemon/Desktop/mMR_data/2013_12_12_pineapple/listmode/PET_ACQ_78_20131212120347-0.l.hdr'\n",
      "N_time_bins = 200\n",
      "SCAN.load_listmode_file(filename,N_time_bins);"
     ],
     "language": "python",
     "metadata": {},
     "outputs": [
      {
       "html": [
        "\n",
        "        <div style=\"border: 1px solid white; width:100%%; height:6px; background-color:rgb(200,228,246)\">\n",
        "            <div id=\"6390c4f1-deed-4cd8-b9c7-a570fd538f52\" style=\"background-color:rgb(47,128,246); width:0%; height:6px\"> </div>\n",
        "        </div> \n",
        "        "
       ],
       "metadata": {},
       "output_type": "display_data",
       "text": [
        "<IPython.core.display.HTML at 0x10ee4f890>"
       ]
      },
      {
       "javascript": [
        "$('div#6390c4f1-deed-4cd8-b9c7-a570fd538f52').width('1%')"
       ],
       "metadata": {},
       "output_type": "display_data",
       "text": [
        "<IPython.core.display.Javascript at 0x10ee4ffd0>"
       ]
      },
      {
       "javascript": [
        "$('div#6390c4f1-deed-4cd8-b9c7-a570fd538f52').width('2%')"
       ],
       "metadata": {},
       "output_type": "display_data",
       "text": [
        "<IPython.core.display.Javascript at 0x10ee4ffd0>"
       ]
      },
      {
       "javascript": [
        "$('div#6390c4f1-deed-4cd8-b9c7-a570fd538f52').width('3%')"
       ],
       "metadata": {},
       "output_type": "display_data",
       "text": [
        "<IPython.core.display.Javascript at 0x10ee4ffd0>"
       ]
      },
      {
       "javascript": [
        "$('div#6390c4f1-deed-4cd8-b9c7-a570fd538f52').width('4%')"
       ],
       "metadata": {},
       "output_type": "display_data",
       "text": [
        "<IPython.core.display.Javascript at 0x10ee4ffd0>"
       ]
      },
      {
       "javascript": [
        "$('div#6390c4f1-deed-4cd8-b9c7-a570fd538f52').width('5%')"
       ],
       "metadata": {},
       "output_type": "display_data",
       "text": [
        "<IPython.core.display.Javascript at 0x10ee4ffd0>"
       ]
      },
      {
       "javascript": [
        "$('div#6390c4f1-deed-4cd8-b9c7-a570fd538f52').width('6%')"
       ],
       "metadata": {},
       "output_type": "display_data",
       "text": [
        "<IPython.core.display.Javascript at 0x10ee4ffd0>"
       ]
      },
      {
       "javascript": [
        "$('div#6390c4f1-deed-4cd8-b9c7-a570fd538f52').width('7%')"
       ],
       "metadata": {},
       "output_type": "display_data",
       "text": [
        "<IPython.core.display.Javascript at 0x10ee4ffd0>"
       ]
      },
      {
       "javascript": [
        "$('div#6390c4f1-deed-4cd8-b9c7-a570fd538f52').width('8%')"
       ],
       "metadata": {},
       "output_type": "display_data",
       "text": [
        "<IPython.core.display.Javascript at 0x10ee4ffd0>"
       ]
      },
      {
       "javascript": [
        "$('div#6390c4f1-deed-4cd8-b9c7-a570fd538f52').width('9%')"
       ],
       "metadata": {},
       "output_type": "display_data",
       "text": [
        "<IPython.core.display.Javascript at 0x10ee4ffd0>"
       ]
      },
      {
       "javascript": [
        "$('div#6390c4f1-deed-4cd8-b9c7-a570fd538f52').width('10%')"
       ],
       "metadata": {},
       "output_type": "display_data",
       "text": [
        "<IPython.core.display.Javascript at 0x10ee4ffd0>"
       ]
      },
      {
       "javascript": [
        "$('div#6390c4f1-deed-4cd8-b9c7-a570fd538f52').width('11%')"
       ],
       "metadata": {},
       "output_type": "display_data",
       "text": [
        "<IPython.core.display.Javascript at 0x10ee4ffd0>"
       ]
      },
      {
       "javascript": [
        "$('div#6390c4f1-deed-4cd8-b9c7-a570fd538f52').width('12%')"
       ],
       "metadata": {},
       "output_type": "display_data",
       "text": [
        "<IPython.core.display.Javascript at 0x10ee4ffd0>"
       ]
      },
      {
       "javascript": [
        "$('div#6390c4f1-deed-4cd8-b9c7-a570fd538f52').width('13%')"
       ],
       "metadata": {},
       "output_type": "display_data",
       "text": [
        "<IPython.core.display.Javascript at 0x10ee4ffd0>"
       ]
      },
      {
       "javascript": [
        "$('div#6390c4f1-deed-4cd8-b9c7-a570fd538f52').width('14%')"
       ],
       "metadata": {},
       "output_type": "display_data",
       "text": [
        "<IPython.core.display.Javascript at 0x10ee4ffd0>"
       ]
      },
      {
       "javascript": [
        "$('div#6390c4f1-deed-4cd8-b9c7-a570fd538f52').width('15%')"
       ],
       "metadata": {},
       "output_type": "display_data",
       "text": [
        "<IPython.core.display.Javascript at 0x10ee4ffd0>"
       ]
      },
      {
       "javascript": [
        "$('div#6390c4f1-deed-4cd8-b9c7-a570fd538f52').width('16%')"
       ],
       "metadata": {},
       "output_type": "display_data",
       "text": [
        "<IPython.core.display.Javascript at 0x10ee4ffd0>"
       ]
      },
      {
       "javascript": [
        "$('div#6390c4f1-deed-4cd8-b9c7-a570fd538f52').width('17%')"
       ],
       "metadata": {},
       "output_type": "display_data",
       "text": [
        "<IPython.core.display.Javascript at 0x10ee4ffd0>"
       ]
      },
      {
       "javascript": [
        "$('div#6390c4f1-deed-4cd8-b9c7-a570fd538f52').width('18%')"
       ],
       "metadata": {},
       "output_type": "display_data",
       "text": [
        "<IPython.core.display.Javascript at 0x10ee4ffd0>"
       ]
      },
      {
       "javascript": [
        "$('div#6390c4f1-deed-4cd8-b9c7-a570fd538f52').width('19%')"
       ],
       "metadata": {},
       "output_type": "display_data",
       "text": [
        "<IPython.core.display.Javascript at 0x10ee4ffd0>"
       ]
      },
      {
       "javascript": [
        "$('div#6390c4f1-deed-4cd8-b9c7-a570fd538f52').width('20%')"
       ],
       "metadata": {},
       "output_type": "display_data",
       "text": [
        "<IPython.core.display.Javascript at 0x10ee4ffd0>"
       ]
      },
      {
       "javascript": [
        "$('div#6390c4f1-deed-4cd8-b9c7-a570fd538f52').width('21%')"
       ],
       "metadata": {},
       "output_type": "display_data",
       "text": [
        "<IPython.core.display.Javascript at 0x10ee4ffd0>"
       ]
      },
      {
       "javascript": [
        "$('div#6390c4f1-deed-4cd8-b9c7-a570fd538f52').width('22%')"
       ],
       "metadata": {},
       "output_type": "display_data",
       "text": [
        "<IPython.core.display.Javascript at 0x10ee4ffd0>"
       ]
      },
      {
       "javascript": [
        "$('div#6390c4f1-deed-4cd8-b9c7-a570fd538f52').width('23%')"
       ],
       "metadata": {},
       "output_type": "display_data",
       "text": [
        "<IPython.core.display.Javascript at 0x10ee4ffd0>"
       ]
      },
      {
       "javascript": [
        "$('div#6390c4f1-deed-4cd8-b9c7-a570fd538f52').width('24%')"
       ],
       "metadata": {},
       "output_type": "display_data",
       "text": [
        "<IPython.core.display.Javascript at 0x10ee4ffd0>"
       ]
      },
      {
       "javascript": [
        "$('div#6390c4f1-deed-4cd8-b9c7-a570fd538f52').width('25%')"
       ],
       "metadata": {},
       "output_type": "display_data",
       "text": [
        "<IPython.core.display.Javascript at 0x10ee4ffd0>"
       ]
      },
      {
       "javascript": [
        "$('div#6390c4f1-deed-4cd8-b9c7-a570fd538f52').width('26%')"
       ],
       "metadata": {},
       "output_type": "display_data",
       "text": [
        "<IPython.core.display.Javascript at 0x10ee4ffd0>"
       ]
      },
      {
       "javascript": [
        "$('div#6390c4f1-deed-4cd8-b9c7-a570fd538f52').width('27%')"
       ],
       "metadata": {},
       "output_type": "display_data",
       "text": [
        "<IPython.core.display.Javascript at 0x10ee4ffd0>"
       ]
      },
      {
       "javascript": [
        "$('div#6390c4f1-deed-4cd8-b9c7-a570fd538f52').width('28%')"
       ],
       "metadata": {},
       "output_type": "display_data",
       "text": [
        "<IPython.core.display.Javascript at 0x10ee4ffd0>"
       ]
      },
      {
       "javascript": [
        "$('div#6390c4f1-deed-4cd8-b9c7-a570fd538f52').width('29%')"
       ],
       "metadata": {},
       "output_type": "display_data",
       "text": [
        "<IPython.core.display.Javascript at 0x10ee4ffd0>"
       ]
      },
      {
       "javascript": [
        "$('div#6390c4f1-deed-4cd8-b9c7-a570fd538f52').width('30%')"
       ],
       "metadata": {},
       "output_type": "display_data",
       "text": [
        "<IPython.core.display.Javascript at 0x10ee4ffd0>"
       ]
      },
      {
       "javascript": [
        "$('div#6390c4f1-deed-4cd8-b9c7-a570fd538f52').width('31%')"
       ],
       "metadata": {},
       "output_type": "display_data",
       "text": [
        "<IPython.core.display.Javascript at 0x10ee4ffd0>"
       ]
      },
      {
       "javascript": [
        "$('div#6390c4f1-deed-4cd8-b9c7-a570fd538f52').width('32%')"
       ],
       "metadata": {},
       "output_type": "display_data",
       "text": [
        "<IPython.core.display.Javascript at 0x10ee4ffd0>"
       ]
      },
      {
       "javascript": [
        "$('div#6390c4f1-deed-4cd8-b9c7-a570fd538f52').width('33%')"
       ],
       "metadata": {},
       "output_type": "display_data",
       "text": [
        "<IPython.core.display.Javascript at 0x10ee4ffd0>"
       ]
      },
      {
       "javascript": [
        "$('div#6390c4f1-deed-4cd8-b9c7-a570fd538f52').width('34%')"
       ],
       "metadata": {},
       "output_type": "display_data",
       "text": [
        "<IPython.core.display.Javascript at 0x10ee4ffd0>"
       ]
      },
      {
       "javascript": [
        "$('div#6390c4f1-deed-4cd8-b9c7-a570fd538f52').width('35%')"
       ],
       "metadata": {},
       "output_type": "display_data",
       "text": [
        "<IPython.core.display.Javascript at 0x10ee4ffd0>"
       ]
      },
      {
       "javascript": [
        "$('div#6390c4f1-deed-4cd8-b9c7-a570fd538f52').width('36%')"
       ],
       "metadata": {},
       "output_type": "display_data",
       "text": [
        "<IPython.core.display.Javascript at 0x10ee4ffd0>"
       ]
      },
      {
       "javascript": [
        "$('div#6390c4f1-deed-4cd8-b9c7-a570fd538f52').width('37%')"
       ],
       "metadata": {},
       "output_type": "display_data",
       "text": [
        "<IPython.core.display.Javascript at 0x10ee4ffd0>"
       ]
      },
      {
       "javascript": [
        "$('div#6390c4f1-deed-4cd8-b9c7-a570fd538f52').width('38%')"
       ],
       "metadata": {},
       "output_type": "display_data",
       "text": [
        "<IPython.core.display.Javascript at 0x10ee4ffd0>"
       ]
      },
      {
       "javascript": [
        "$('div#6390c4f1-deed-4cd8-b9c7-a570fd538f52').width('39%')"
       ],
       "metadata": {},
       "output_type": "display_data",
       "text": [
        "<IPython.core.display.Javascript at 0x10ee4ffd0>"
       ]
      },
      {
       "javascript": [
        "$('div#6390c4f1-deed-4cd8-b9c7-a570fd538f52').width('40%')"
       ],
       "metadata": {},
       "output_type": "display_data",
       "text": [
        "<IPython.core.display.Javascript at 0x10ee4ffd0>"
       ]
      },
      {
       "javascript": [
        "$('div#6390c4f1-deed-4cd8-b9c7-a570fd538f52').width('41%')"
       ],
       "metadata": {},
       "output_type": "display_data",
       "text": [
        "<IPython.core.display.Javascript at 0x10ee4ffd0>"
       ]
      },
      {
       "javascript": [
        "$('div#6390c4f1-deed-4cd8-b9c7-a570fd538f52').width('42%')"
       ],
       "metadata": {},
       "output_type": "display_data",
       "text": [
        "<IPython.core.display.Javascript at 0x10ee4ffd0>"
       ]
      },
      {
       "javascript": [
        "$('div#6390c4f1-deed-4cd8-b9c7-a570fd538f52').width('43%')"
       ],
       "metadata": {},
       "output_type": "display_data",
       "text": [
        "<IPython.core.display.Javascript at 0x10ee4ffd0>"
       ]
      },
      {
       "javascript": [
        "$('div#6390c4f1-deed-4cd8-b9c7-a570fd538f52').width('44%')"
       ],
       "metadata": {},
       "output_type": "display_data",
       "text": [
        "<IPython.core.display.Javascript at 0x10ee4ffd0>"
       ]
      },
      {
       "javascript": [
        "$('div#6390c4f1-deed-4cd8-b9c7-a570fd538f52').width('45%')"
       ],
       "metadata": {},
       "output_type": "display_data",
       "text": [
        "<IPython.core.display.Javascript at 0x10ee4ffd0>"
       ]
      },
      {
       "javascript": [
        "$('div#6390c4f1-deed-4cd8-b9c7-a570fd538f52').width('46%')"
       ],
       "metadata": {},
       "output_type": "display_data",
       "text": [
        "<IPython.core.display.Javascript at 0x10ee4ffd0>"
       ]
      },
      {
       "javascript": [
        "$('div#6390c4f1-deed-4cd8-b9c7-a570fd538f52').width('47%')"
       ],
       "metadata": {},
       "output_type": "display_data",
       "text": [
        "<IPython.core.display.Javascript at 0x10ee4ffd0>"
       ]
      },
      {
       "javascript": [
        "$('div#6390c4f1-deed-4cd8-b9c7-a570fd538f52').width('48%')"
       ],
       "metadata": {},
       "output_type": "display_data",
       "text": [
        "<IPython.core.display.Javascript at 0x10ee4ffd0>"
       ]
      },
      {
       "javascript": [
        "$('div#6390c4f1-deed-4cd8-b9c7-a570fd538f52').width('49%')"
       ],
       "metadata": {},
       "output_type": "display_data",
       "text": [
        "<IPython.core.display.Javascript at 0x10ee4ffd0>"
       ]
      },
      {
       "javascript": [
        "$('div#6390c4f1-deed-4cd8-b9c7-a570fd538f52').width('50%')"
       ],
       "metadata": {},
       "output_type": "display_data",
       "text": [
        "<IPython.core.display.Javascript at 0x10ee4ffd0>"
       ]
      },
      {
       "javascript": [
        "$('div#6390c4f1-deed-4cd8-b9c7-a570fd538f52').width('51%')"
       ],
       "metadata": {},
       "output_type": "display_data",
       "text": [
        "<IPython.core.display.Javascript at 0x10ee4ffd0>"
       ]
      },
      {
       "javascript": [
        "$('div#6390c4f1-deed-4cd8-b9c7-a570fd538f52').width('52%')"
       ],
       "metadata": {},
       "output_type": "display_data",
       "text": [
        "<IPython.core.display.Javascript at 0x10ee4ffd0>"
       ]
      },
      {
       "javascript": [
        "$('div#6390c4f1-deed-4cd8-b9c7-a570fd538f52').width('53%')"
       ],
       "metadata": {},
       "output_type": "display_data",
       "text": [
        "<IPython.core.display.Javascript at 0x10ee4ffd0>"
       ]
      },
      {
       "javascript": [
        "$('div#6390c4f1-deed-4cd8-b9c7-a570fd538f52').width('54%')"
       ],
       "metadata": {},
       "output_type": "display_data",
       "text": [
        "<IPython.core.display.Javascript at 0x10ee4ffd0>"
       ]
      },
      {
       "javascript": [
        "$('div#6390c4f1-deed-4cd8-b9c7-a570fd538f52').width('55%')"
       ],
       "metadata": {},
       "output_type": "display_data",
       "text": [
        "<IPython.core.display.Javascript at 0x10ee4ffd0>"
       ]
      },
      {
       "javascript": [
        "$('div#6390c4f1-deed-4cd8-b9c7-a570fd538f52').width('56%')"
       ],
       "metadata": {},
       "output_type": "display_data",
       "text": [
        "<IPython.core.display.Javascript at 0x10ee4ffd0>"
       ]
      },
      {
       "javascript": [
        "$('div#6390c4f1-deed-4cd8-b9c7-a570fd538f52').width('57%')"
       ],
       "metadata": {},
       "output_type": "display_data",
       "text": [
        "<IPython.core.display.Javascript at 0x10ee4ffd0>"
       ]
      },
      {
       "javascript": [
        "$('div#6390c4f1-deed-4cd8-b9c7-a570fd538f52').width('58%')"
       ],
       "metadata": {},
       "output_type": "display_data",
       "text": [
        "<IPython.core.display.Javascript at 0x10ee4ffd0>"
       ]
      },
      {
       "javascript": [
        "$('div#6390c4f1-deed-4cd8-b9c7-a570fd538f52').width('59%')"
       ],
       "metadata": {},
       "output_type": "display_data",
       "text": [
        "<IPython.core.display.Javascript at 0x10ee4ffd0>"
       ]
      },
      {
       "javascript": [
        "$('div#6390c4f1-deed-4cd8-b9c7-a570fd538f52').width('60%')"
       ],
       "metadata": {},
       "output_type": "display_data",
       "text": [
        "<IPython.core.display.Javascript at 0x10ee4ffd0>"
       ]
      },
      {
       "javascript": [
        "$('div#6390c4f1-deed-4cd8-b9c7-a570fd538f52').width('61%')"
       ],
       "metadata": {},
       "output_type": "display_data",
       "text": [
        "<IPython.core.display.Javascript at 0x10ee4ffd0>"
       ]
      },
      {
       "javascript": [
        "$('div#6390c4f1-deed-4cd8-b9c7-a570fd538f52').width('62%')"
       ],
       "metadata": {},
       "output_type": "display_data",
       "text": [
        "<IPython.core.display.Javascript at 0x10ee4ffd0>"
       ]
      },
      {
       "javascript": [
        "$('div#6390c4f1-deed-4cd8-b9c7-a570fd538f52').width('63%')"
       ],
       "metadata": {},
       "output_type": "display_data",
       "text": [
        "<IPython.core.display.Javascript at 0x10ee4ffd0>"
       ]
      },
      {
       "javascript": [
        "$('div#6390c4f1-deed-4cd8-b9c7-a570fd538f52').width('64%')"
       ],
       "metadata": {},
       "output_type": "display_data",
       "text": [
        "<IPython.core.display.Javascript at 0x10ee4ffd0>"
       ]
      },
      {
       "javascript": [
        "$('div#6390c4f1-deed-4cd8-b9c7-a570fd538f52').width('65%')"
       ],
       "metadata": {},
       "output_type": "display_data",
       "text": [
        "<IPython.core.display.Javascript at 0x10ee4ffd0>"
       ]
      },
      {
       "javascript": [
        "$('div#6390c4f1-deed-4cd8-b9c7-a570fd538f52').width('66%')"
       ],
       "metadata": {},
       "output_type": "display_data",
       "text": [
        "<IPython.core.display.Javascript at 0x10ee4ffd0>"
       ]
      },
      {
       "javascript": [
        "$('div#6390c4f1-deed-4cd8-b9c7-a570fd538f52').width('67%')"
       ],
       "metadata": {},
       "output_type": "display_data",
       "text": [
        "<IPython.core.display.Javascript at 0x10ee4ffd0>"
       ]
      },
      {
       "javascript": [
        "$('div#6390c4f1-deed-4cd8-b9c7-a570fd538f52').width('68%')"
       ],
       "metadata": {},
       "output_type": "display_data",
       "text": [
        "<IPython.core.display.Javascript at 0x10ee4ffd0>"
       ]
      },
      {
       "javascript": [
        "$('div#6390c4f1-deed-4cd8-b9c7-a570fd538f52').width('69%')"
       ],
       "metadata": {},
       "output_type": "display_data",
       "text": [
        "<IPython.core.display.Javascript at 0x10ee4ffd0>"
       ]
      },
      {
       "javascript": [
        "$('div#6390c4f1-deed-4cd8-b9c7-a570fd538f52').width('70%')"
       ],
       "metadata": {},
       "output_type": "display_data",
       "text": [
        "<IPython.core.display.Javascript at 0x10ee4ffd0>"
       ]
      },
      {
       "javascript": [
        "$('div#6390c4f1-deed-4cd8-b9c7-a570fd538f52').width('71%')"
       ],
       "metadata": {},
       "output_type": "display_data",
       "text": [
        "<IPython.core.display.Javascript at 0x10ee4ffd0>"
       ]
      },
      {
       "javascript": [
        "$('div#6390c4f1-deed-4cd8-b9c7-a570fd538f52').width('72%')"
       ],
       "metadata": {},
       "output_type": "display_data",
       "text": [
        "<IPython.core.display.Javascript at 0x10ee4ffd0>"
       ]
      },
      {
       "javascript": [
        "$('div#6390c4f1-deed-4cd8-b9c7-a570fd538f52').width('73%')"
       ],
       "metadata": {},
       "output_type": "display_data",
       "text": [
        "<IPython.core.display.Javascript at 0x10ee4ffd0>"
       ]
      },
      {
       "javascript": [
        "$('div#6390c4f1-deed-4cd8-b9c7-a570fd538f52').width('74%')"
       ],
       "metadata": {},
       "output_type": "display_data",
       "text": [
        "<IPython.core.display.Javascript at 0x10ee4ffd0>"
       ]
      },
      {
       "javascript": [
        "$('div#6390c4f1-deed-4cd8-b9c7-a570fd538f52').width('75%')"
       ],
       "metadata": {},
       "output_type": "display_data",
       "text": [
        "<IPython.core.display.Javascript at 0x10ee4ffd0>"
       ]
      },
      {
       "javascript": [
        "$('div#6390c4f1-deed-4cd8-b9c7-a570fd538f52').width('76%')"
       ],
       "metadata": {},
       "output_type": "display_data",
       "text": [
        "<IPython.core.display.Javascript at 0x10ee4ffd0>"
       ]
      },
      {
       "javascript": [
        "$('div#6390c4f1-deed-4cd8-b9c7-a570fd538f52').width('77%')"
       ],
       "metadata": {},
       "output_type": "display_data",
       "text": [
        "<IPython.core.display.Javascript at 0x10ee4ffd0>"
       ]
      },
      {
       "javascript": [
        "$('div#6390c4f1-deed-4cd8-b9c7-a570fd538f52').width('78%')"
       ],
       "metadata": {},
       "output_type": "display_data",
       "text": [
        "<IPython.core.display.Javascript at 0x10ee4ffd0>"
       ]
      },
      {
       "javascript": [
        "$('div#6390c4f1-deed-4cd8-b9c7-a570fd538f52').width('79%')"
       ],
       "metadata": {},
       "output_type": "display_data",
       "text": [
        "<IPython.core.display.Javascript at 0x10ee4ffd0>"
       ]
      },
      {
       "javascript": [
        "$('div#6390c4f1-deed-4cd8-b9c7-a570fd538f52').width('80%')"
       ],
       "metadata": {},
       "output_type": "display_data",
       "text": [
        "<IPython.core.display.Javascript at 0x10ee4ffd0>"
       ]
      },
      {
       "javascript": [
        "$('div#6390c4f1-deed-4cd8-b9c7-a570fd538f52').width('81%')"
       ],
       "metadata": {},
       "output_type": "display_data",
       "text": [
        "<IPython.core.display.Javascript at 0x10ee4ffd0>"
       ]
      },
      {
       "javascript": [
        "$('div#6390c4f1-deed-4cd8-b9c7-a570fd538f52').width('82%')"
       ],
       "metadata": {},
       "output_type": "display_data",
       "text": [
        "<IPython.core.display.Javascript at 0x10ee4ffd0>"
       ]
      },
      {
       "javascript": [
        "$('div#6390c4f1-deed-4cd8-b9c7-a570fd538f52').width('83%')"
       ],
       "metadata": {},
       "output_type": "display_data",
       "text": [
        "<IPython.core.display.Javascript at 0x10ee4ffd0>"
       ]
      },
      {
       "javascript": [
        "$('div#6390c4f1-deed-4cd8-b9c7-a570fd538f52').width('84%')"
       ],
       "metadata": {},
       "output_type": "display_data",
       "text": [
        "<IPython.core.display.Javascript at 0x10ee4ffd0>"
       ]
      },
      {
       "javascript": [
        "$('div#6390c4f1-deed-4cd8-b9c7-a570fd538f52').width('85%')"
       ],
       "metadata": {},
       "output_type": "display_data",
       "text": [
        "<IPython.core.display.Javascript at 0x10ee4ffd0>"
       ]
      },
      {
       "javascript": [
        "$('div#6390c4f1-deed-4cd8-b9c7-a570fd538f52').width('86%')"
       ],
       "metadata": {},
       "output_type": "display_data",
       "text": [
        "<IPython.core.display.Javascript at 0x10ee4ffd0>"
       ]
      },
      {
       "javascript": [
        "$('div#6390c4f1-deed-4cd8-b9c7-a570fd538f52').width('87%')"
       ],
       "metadata": {},
       "output_type": "display_data",
       "text": [
        "<IPython.core.display.Javascript at 0x10ee4ffd0>"
       ]
      },
      {
       "javascript": [
        "$('div#6390c4f1-deed-4cd8-b9c7-a570fd538f52').width('88%')"
       ],
       "metadata": {},
       "output_type": "display_data",
       "text": [
        "<IPython.core.display.Javascript at 0x10ee4ffd0>"
       ]
      },
      {
       "javascript": [
        "$('div#6390c4f1-deed-4cd8-b9c7-a570fd538f52').width('89%')"
       ],
       "metadata": {},
       "output_type": "display_data",
       "text": [
        "<IPython.core.display.Javascript at 0x10ee4ffd0>"
       ]
      },
      {
       "javascript": [
        "$('div#6390c4f1-deed-4cd8-b9c7-a570fd538f52').width('100%')"
       ],
       "metadata": {},
       "output_type": "display_data",
       "text": [
        "<IPython.core.display.Javascript at 0x10ee4fd90>"
       ]
      }
     ],
     "prompt_number": 2
    },
    {
     "cell_type": "code",
     "collapsed": false,
     "input": [
      "for i in range(N_time_bins): \n",
      "    m = SCAN[i].uncompressed_measurement()\n",
      "    m = m.data.reshape(252,344,64)\n",
      "    m1 = m[:,(344-128)/2:(344-128)/2+128,:]\n",
      "    img = nibabel.Nifti1Image(m1, numpy.eye(4)) \n",
      "    img.to_filename('/Users/spedemon/Desktop/motion_estimation/pineapple/sinograms/frame_%d.nii'%i)\n",
      "\n",
      "    m = SCAN.static.uncompressed_measurement()\n",
      "    m = m.data.reshape(252,344,64)\n",
      "    m1 = m[:,(344-128)/2:(344-128)/2+128,:]\n",
      "    img = nibabel.Nifti1Image(m1, numpy.eye(4)) \n",
      "    img.to_filename('/Users/spedemon/Desktop/motion_estimation/pineapple/sinograms/static.nii')"
     ],
     "language": "python",
     "metadata": {},
     "outputs": [],
     "prompt_number": 10
    },
    {
     "cell_type": "code",
     "collapsed": false,
     "input": [
      "import nibabel\n",
      "import numpy\n",
      "img = nibabel.Nifti1Image(m1, numpy.eye(4)) \n",
      "img.to_filename('/Users/spedemon/Desktop/img.nii')"
     ],
     "language": "python",
     "metadata": {},
     "outputs": [],
     "prompt_number": 4
    },
    {
     "cell_type": "code",
     "collapsed": false,
     "input": [
      "# Display static measurement: \n",
      "measurement = SCAN.static.uncompressed_measurement()\n",
      "measurement.display(scale=6)"
     ],
     "language": "python",
     "metadata": {},
     "outputs": [
      {
       "html": [
        "\n",
        "        <div style=\"border: 1px solid white; width:100%%; height:6px; background-color:rgb(246,246,246)\">\n",
        "            <div id=\"6ac38ecf-c642-4e24-abb3-133a82c45283\" style=\"background-color:rgb(200,200,200); width:0%; height:6px\"> </div>\n",
        "        </div> \n",
        "        "
       ],
       "metadata": {},
       "output_type": "display_data",
       "text": [
        "<IPython.core.display.HTML at 0x10ee4fa10>"
       ]
      },
      {
       "javascript": [
        "$('div#6ac38ecf-c642-4e24-abb3-133a82c45283').width('1%')"
       ],
       "metadata": {},
       "output_type": "display_data",
       "text": [
        "<IPython.core.display.Javascript at 0x10ee4f9d0>"
       ]
      },
      {
       "javascript": [
        "$('div#6ac38ecf-c642-4e24-abb3-133a82c45283').width('1%')"
       ],
       "metadata": {},
       "output_type": "display_data",
       "text": [
        "<IPython.core.display.Javascript at 0x10ee4f9d0>"
       ]
      },
      {
       "javascript": [
        "$('div#6ac38ecf-c642-4e24-abb3-133a82c45283').width('1%')"
       ],
       "metadata": {},
       "output_type": "display_data",
       "text": [
        "<IPython.core.display.Javascript at 0x10ee4f9d0>"
       ]
      },
      {
       "javascript": [
        "$('div#6ac38ecf-c642-4e24-abb3-133a82c45283').width('1%')"
       ],
       "metadata": {},
       "output_type": "display_data",
       "text": [
        "<IPython.core.display.Javascript at 0x10ee4f9d0>"
       ]
      },
      {
       "javascript": [
        "$('div#6ac38ecf-c642-4e24-abb3-133a82c45283').width('1%')"
       ],
       "metadata": {},
       "output_type": "display_data",
       "text": [
        "<IPython.core.display.Javascript at 0x10ee4f9d0>"
       ]
      },
      {
       "javascript": [
        "$('div#6ac38ecf-c642-4e24-abb3-133a82c45283').width('1%')"
       ],
       "metadata": {},
       "output_type": "display_data",
       "text": [
        "<IPython.core.display.Javascript at 0x10ee4f9d0>"
       ]
      },
      {
       "javascript": [
        "$('div#6ac38ecf-c642-4e24-abb3-133a82c45283').width('2%')"
       ],
       "metadata": {},
       "output_type": "display_data",
       "text": [
        "<IPython.core.display.Javascript at 0x10ee4f9d0>"
       ]
      },
      {
       "javascript": [
        "$('div#6ac38ecf-c642-4e24-abb3-133a82c45283').width('2%')"
       ],
       "metadata": {},
       "output_type": "display_data",
       "text": [
        "<IPython.core.display.Javascript at 0x10ee4f9d0>"
       ]
      },
      {
       "javascript": [
        "$('div#6ac38ecf-c642-4e24-abb3-133a82c45283').width('3%')"
       ],
       "metadata": {},
       "output_type": "display_data",
       "text": [
        "<IPython.core.display.Javascript at 0x10ee4f9d0>"
       ]
      },
      {
       "javascript": [
        "$('div#6ac38ecf-c642-4e24-abb3-133a82c45283').width('3%')"
       ],
       "metadata": {},
       "output_type": "display_data",
       "text": [
        "<IPython.core.display.Javascript at 0x10ee4f9d0>"
       ]
      },
      {
       "javascript": [
        "$('div#6ac38ecf-c642-4e24-abb3-133a82c45283').width('3%')"
       ],
       "metadata": {},
       "output_type": "display_data",
       "text": [
        "<IPython.core.display.Javascript at 0x10ee4f9d0>"
       ]
      },
      {
       "javascript": [
        "$('div#6ac38ecf-c642-4e24-abb3-133a82c45283').width('4%')"
       ],
       "metadata": {},
       "output_type": "display_data",
       "text": [
        "<IPython.core.display.Javascript at 0x10ee4f9d0>"
       ]
      },
      {
       "javascript": [
        "$('div#6ac38ecf-c642-4e24-abb3-133a82c45283').width('4%')"
       ],
       "metadata": {},
       "output_type": "display_data",
       "text": [
        "<IPython.core.display.Javascript at 0x10ee4f9d0>"
       ]
      },
      {
       "javascript": [
        "$('div#6ac38ecf-c642-4e24-abb3-133a82c45283').width('5%')"
       ],
       "metadata": {},
       "output_type": "display_data",
       "text": [
        "<IPython.core.display.Javascript at 0x10ee4f9d0>"
       ]
      },
      {
       "javascript": [
        "$('div#6ac38ecf-c642-4e24-abb3-133a82c45283').width('5%')"
       ],
       "metadata": {},
       "output_type": "display_data",
       "text": [
        "<IPython.core.display.Javascript at 0x10ee4f9d0>"
       ]
      },
      {
       "javascript": [
        "$('div#6ac38ecf-c642-4e24-abb3-133a82c45283').width('5%')"
       ],
       "metadata": {},
       "output_type": "display_data",
       "text": [
        "<IPython.core.display.Javascript at 0x10ee4f9d0>"
       ]
      },
      {
       "javascript": [
        "$('div#6ac38ecf-c642-4e24-abb3-133a82c45283').width('6%')"
       ],
       "metadata": {},
       "output_type": "display_data",
       "text": [
        "<IPython.core.display.Javascript at 0x10ee4f9d0>"
       ]
      },
      {
       "javascript": [
        "$('div#6ac38ecf-c642-4e24-abb3-133a82c45283').width('6%')"
       ],
       "metadata": {},
       "output_type": "display_data",
       "text": [
        "<IPython.core.display.Javascript at 0x10ee4f9d0>"
       ]
      },
      {
       "javascript": [
        "$('div#6ac38ecf-c642-4e24-abb3-133a82c45283').width('7%')"
       ],
       "metadata": {},
       "output_type": "display_data",
       "text": [
        "<IPython.core.display.Javascript at 0x10ee4f9d0>"
       ]
      },
      {
       "javascript": [
        "$('div#6ac38ecf-c642-4e24-abb3-133a82c45283').width('7%')"
       ],
       "metadata": {},
       "output_type": "display_data",
       "text": [
        "<IPython.core.display.Javascript at 0x10ee4f9d0>"
       ]
      },
      {
       "javascript": [
        "$('div#6ac38ecf-c642-4e24-abb3-133a82c45283').width('7%')"
       ],
       "metadata": {},
       "output_type": "display_data",
       "text": [
        "<IPython.core.display.Javascript at 0x10ee4f9d0>"
       ]
      },
      {
       "javascript": [
        "$('div#6ac38ecf-c642-4e24-abb3-133a82c45283').width('8%')"
       ],
       "metadata": {},
       "output_type": "display_data",
       "text": [
        "<IPython.core.display.Javascript at 0x10ee4f9d0>"
       ]
      },
      {
       "javascript": [
        "$('div#6ac38ecf-c642-4e24-abb3-133a82c45283').width('8%')"
       ],
       "metadata": {},
       "output_type": "display_data",
       "text": [
        "<IPython.core.display.Javascript at 0x10ee4f9d0>"
       ]
      },
      {
       "javascript": [
        "$('div#6ac38ecf-c642-4e24-abb3-133a82c45283').width('9%')"
       ],
       "metadata": {},
       "output_type": "display_data",
       "text": [
        "<IPython.core.display.Javascript at 0x10ee4f9d0>"
       ]
      },
      {
       "javascript": [
        "$('div#6ac38ecf-c642-4e24-abb3-133a82c45283').width('9%')"
       ],
       "metadata": {},
       "output_type": "display_data",
       "text": [
        "<IPython.core.display.Javascript at 0x10ee4f9d0>"
       ]
      },
      {
       "javascript": [
        "$('div#6ac38ecf-c642-4e24-abb3-133a82c45283').width('9%')"
       ],
       "metadata": {},
       "output_type": "display_data",
       "text": [
        "<IPython.core.display.Javascript at 0x10ee4f9d0>"
       ]
      },
      {
       "javascript": [
        "$('div#6ac38ecf-c642-4e24-abb3-133a82c45283').width('10%')"
       ],
       "metadata": {},
       "output_type": "display_data",
       "text": [
        "<IPython.core.display.Javascript at 0x10ee4f9d0>"
       ]
      },
      {
       "javascript": [
        "$('div#6ac38ecf-c642-4e24-abb3-133a82c45283').width('10%')"
       ],
       "metadata": {},
       "output_type": "display_data",
       "text": [
        "<IPython.core.display.Javascript at 0x10ee4f9d0>"
       ]
      },
      {
       "javascript": [
        "$('div#6ac38ecf-c642-4e24-abb3-133a82c45283').width('11%')"
       ],
       "metadata": {},
       "output_type": "display_data",
       "text": [
        "<IPython.core.display.Javascript at 0x10ee4f9d0>"
       ]
      },
      {
       "javascript": [
        "$('div#6ac38ecf-c642-4e24-abb3-133a82c45283').width('11%')"
       ],
       "metadata": {},
       "output_type": "display_data",
       "text": [
        "<IPython.core.display.Javascript at 0x10ee4f9d0>"
       ]
      },
      {
       "javascript": [
        "$('div#6ac38ecf-c642-4e24-abb3-133a82c45283').width('11%')"
       ],
       "metadata": {},
       "output_type": "display_data",
       "text": [
        "<IPython.core.display.Javascript at 0x10ee4f9d0>"
       ]
      },
      {
       "javascript": [
        "$('div#6ac38ecf-c642-4e24-abb3-133a82c45283').width('12%')"
       ],
       "metadata": {},
       "output_type": "display_data",
       "text": [
        "<IPython.core.display.Javascript at 0x10ee4f9d0>"
       ]
      },
      {
       "javascript": [
        "$('div#6ac38ecf-c642-4e24-abb3-133a82c45283').width('12%')"
       ],
       "metadata": {},
       "output_type": "display_data",
       "text": [
        "<IPython.core.display.Javascript at 0x10ee4f9d0>"
       ]
      },
      {
       "javascript": [
        "$('div#6ac38ecf-c642-4e24-abb3-133a82c45283').width('13%')"
       ],
       "metadata": {},
       "output_type": "display_data",
       "text": [
        "<IPython.core.display.Javascript at 0x10ee4f9d0>"
       ]
      },
      {
       "javascript": [
        "$('div#6ac38ecf-c642-4e24-abb3-133a82c45283').width('13%')"
       ],
       "metadata": {},
       "output_type": "display_data",
       "text": [
        "<IPython.core.display.Javascript at 0x10ee4f9d0>"
       ]
      },
      {
       "javascript": [
        "$('div#6ac38ecf-c642-4e24-abb3-133a82c45283').width('13%')"
       ],
       "metadata": {},
       "output_type": "display_data",
       "text": [
        "<IPython.core.display.Javascript at 0x10ee4f9d0>"
       ]
      },
      {
       "javascript": [
        "$('div#6ac38ecf-c642-4e24-abb3-133a82c45283').width('14%')"
       ],
       "metadata": {},
       "output_type": "display_data",
       "text": [
        "<IPython.core.display.Javascript at 0x10ee4f9d0>"
       ]
      },
      {
       "javascript": [
        "$('div#6ac38ecf-c642-4e24-abb3-133a82c45283').width('14%')"
       ],
       "metadata": {},
       "output_type": "display_data",
       "text": [
        "<IPython.core.display.Javascript at 0x10ee4f9d0>"
       ]
      },
      {
       "javascript": [
        "$('div#6ac38ecf-c642-4e24-abb3-133a82c45283').width('15%')"
       ],
       "metadata": {},
       "output_type": "display_data",
       "text": [
        "<IPython.core.display.Javascript at 0x10ee4f9d0>"
       ]
      },
      {
       "javascript": [
        "$('div#6ac38ecf-c642-4e24-abb3-133a82c45283').width('15%')"
       ],
       "metadata": {},
       "output_type": "display_data",
       "text": [
        "<IPython.core.display.Javascript at 0x10ee4f9d0>"
       ]
      },
      {
       "javascript": [
        "$('div#6ac38ecf-c642-4e24-abb3-133a82c45283').width('15%')"
       ],
       "metadata": {},
       "output_type": "display_data",
       "text": [
        "<IPython.core.display.Javascript at 0x10ee4f9d0>"
       ]
      },
      {
       "javascript": [
        "$('div#6ac38ecf-c642-4e24-abb3-133a82c45283').width('16%')"
       ],
       "metadata": {},
       "output_type": "display_data",
       "text": [
        "<IPython.core.display.Javascript at 0x10ee4f9d0>"
       ]
      },
      {
       "javascript": [
        "$('div#6ac38ecf-c642-4e24-abb3-133a82c45283').width('16%')"
       ],
       "metadata": {},
       "output_type": "display_data",
       "text": [
        "<IPython.core.display.Javascript at 0x10ee4f9d0>"
       ]
      },
      {
       "javascript": [
        "$('div#6ac38ecf-c642-4e24-abb3-133a82c45283').width('17%')"
       ],
       "metadata": {},
       "output_type": "display_data",
       "text": [
        "<IPython.core.display.Javascript at 0x10ee4f9d0>"
       ]
      },
      {
       "javascript": [
        "$('div#6ac38ecf-c642-4e24-abb3-133a82c45283').width('17%')"
       ],
       "metadata": {},
       "output_type": "display_data",
       "text": [
        "<IPython.core.display.Javascript at 0x10ee4f9d0>"
       ]
      },
      {
       "javascript": [
        "$('div#6ac38ecf-c642-4e24-abb3-133a82c45283').width('17%')"
       ],
       "metadata": {},
       "output_type": "display_data",
       "text": [
        "<IPython.core.display.Javascript at 0x10ee4f9d0>"
       ]
      },
      {
       "javascript": [
        "$('div#6ac38ecf-c642-4e24-abb3-133a82c45283').width('18%')"
       ],
       "metadata": {},
       "output_type": "display_data",
       "text": [
        "<IPython.core.display.Javascript at 0x10ee4f9d0>"
       ]
      },
      {
       "javascript": [
        "$('div#6ac38ecf-c642-4e24-abb3-133a82c45283').width('18%')"
       ],
       "metadata": {},
       "output_type": "display_data",
       "text": [
        "<IPython.core.display.Javascript at 0x10ee4f9d0>"
       ]
      },
      {
       "javascript": [
        "$('div#6ac38ecf-c642-4e24-abb3-133a82c45283').width('19%')"
       ],
       "metadata": {},
       "output_type": "display_data",
       "text": [
        "<IPython.core.display.Javascript at 0x10ee4f9d0>"
       ]
      },
      {
       "javascript": [
        "$('div#6ac38ecf-c642-4e24-abb3-133a82c45283').width('19%')"
       ],
       "metadata": {},
       "output_type": "display_data",
       "text": [
        "<IPython.core.display.Javascript at 0x10ee4f9d0>"
       ]
      },
      {
       "javascript": [
        "$('div#6ac38ecf-c642-4e24-abb3-133a82c45283').width('19%')"
       ],
       "metadata": {},
       "output_type": "display_data",
       "text": [
        "<IPython.core.display.Javascript at 0x10ee4f9d0>"
       ]
      },
      {
       "javascript": [
        "$('div#6ac38ecf-c642-4e24-abb3-133a82c45283').width('20%')"
       ],
       "metadata": {},
       "output_type": "display_data",
       "text": [
        "<IPython.core.display.Javascript at 0x10ee4f9d0>"
       ]
      },
      {
       "javascript": [
        "$('div#6ac38ecf-c642-4e24-abb3-133a82c45283').width('20%')"
       ],
       "metadata": {},
       "output_type": "display_data",
       "text": [
        "<IPython.core.display.Javascript at 0x10ee4f9d0>"
       ]
      },
      {
       "javascript": [
        "$('div#6ac38ecf-c642-4e24-abb3-133a82c45283').width('21%')"
       ],
       "metadata": {},
       "output_type": "display_data",
       "text": [
        "<IPython.core.display.Javascript at 0x10ee4f9d0>"
       ]
      },
      {
       "javascript": [
        "$('div#6ac38ecf-c642-4e24-abb3-133a82c45283').width('21%')"
       ],
       "metadata": {},
       "output_type": "display_data",
       "text": [
        "<IPython.core.display.Javascript at 0x10ee4f9d0>"
       ]
      },
      {
       "javascript": [
        "$('div#6ac38ecf-c642-4e24-abb3-133a82c45283').width('21%')"
       ],
       "metadata": {},
       "output_type": "display_data",
       "text": [
        "<IPython.core.display.Javascript at 0x10ee4f9d0>"
       ]
      },
      {
       "javascript": [
        "$('div#6ac38ecf-c642-4e24-abb3-133a82c45283').width('22%')"
       ],
       "metadata": {},
       "output_type": "display_data",
       "text": [
        "<IPython.core.display.Javascript at 0x10ee4f9d0>"
       ]
      },
      {
       "javascript": [
        "$('div#6ac38ecf-c642-4e24-abb3-133a82c45283').width('22%')"
       ],
       "metadata": {},
       "output_type": "display_data",
       "text": [
        "<IPython.core.display.Javascript at 0x10ee4f9d0>"
       ]
      },
      {
       "javascript": [
        "$('div#6ac38ecf-c642-4e24-abb3-133a82c45283').width('23%')"
       ],
       "metadata": {},
       "output_type": "display_data",
       "text": [
        "<IPython.core.display.Javascript at 0x10ee4f9d0>"
       ]
      },
      {
       "javascript": [
        "$('div#6ac38ecf-c642-4e24-abb3-133a82c45283').width('23%')"
       ],
       "metadata": {},
       "output_type": "display_data",
       "text": [
        "<IPython.core.display.Javascript at 0x10ee4f9d0>"
       ]
      },
      {
       "javascript": [
        "$('div#6ac38ecf-c642-4e24-abb3-133a82c45283').width('23%')"
       ],
       "metadata": {},
       "output_type": "display_data",
       "text": [
        "<IPython.core.display.Javascript at 0x10ee4f9d0>"
       ]
      },
      {
       "javascript": [
        "$('div#6ac38ecf-c642-4e24-abb3-133a82c45283').width('24%')"
       ],
       "metadata": {},
       "output_type": "display_data",
       "text": [
        "<IPython.core.display.Javascript at 0x10ee4f9d0>"
       ]
      },
      {
       "javascript": [
        "$('div#6ac38ecf-c642-4e24-abb3-133a82c45283').width('24%')"
       ],
       "metadata": {},
       "output_type": "display_data",
       "text": [
        "<IPython.core.display.Javascript at 0x10ee4f9d0>"
       ]
      },
      {
       "javascript": [
        "$('div#6ac38ecf-c642-4e24-abb3-133a82c45283').width('25%')"
       ],
       "metadata": {},
       "output_type": "display_data",
       "text": [
        "<IPython.core.display.Javascript at 0x10ee4f9d0>"
       ]
      },
      {
       "javascript": [
        "$('div#6ac38ecf-c642-4e24-abb3-133a82c45283').width('25%')"
       ],
       "metadata": {},
       "output_type": "display_data",
       "text": [
        "<IPython.core.display.Javascript at 0x10ee4f9d0>"
       ]
      },
      {
       "javascript": [
        "$('div#6ac38ecf-c642-4e24-abb3-133a82c45283').width('25%')"
       ],
       "metadata": {},
       "output_type": "display_data",
       "text": [
        "<IPython.core.display.Javascript at 0x10ee4f9d0>"
       ]
      },
      {
       "javascript": [
        "$('div#6ac38ecf-c642-4e24-abb3-133a82c45283').width('26%')"
       ],
       "metadata": {},
       "output_type": "display_data",
       "text": [
        "<IPython.core.display.Javascript at 0x10ee4f9d0>"
       ]
      },
      {
       "javascript": [
        "$('div#6ac38ecf-c642-4e24-abb3-133a82c45283').width('26%')"
       ],
       "metadata": {},
       "output_type": "display_data",
       "text": [
        "<IPython.core.display.Javascript at 0x10ee4f9d0>"
       ]
      },
      {
       "javascript": [
        "$('div#6ac38ecf-c642-4e24-abb3-133a82c45283').width('26%')"
       ],
       "metadata": {},
       "output_type": "display_data",
       "text": [
        "<IPython.core.display.Javascript at 0x10ee4f9d0>"
       ]
      },
      {
       "javascript": [
        "$('div#6ac38ecf-c642-4e24-abb3-133a82c45283').width('27%')"
       ],
       "metadata": {},
       "output_type": "display_data",
       "text": [
        "<IPython.core.display.Javascript at 0x10ee4f9d0>"
       ]
      },
      {
       "javascript": [
        "$('div#6ac38ecf-c642-4e24-abb3-133a82c45283').width('27%')"
       ],
       "metadata": {},
       "output_type": "display_data",
       "text": [
        "<IPython.core.display.Javascript at 0x10ee4f9d0>"
       ]
      },
      {
       "javascript": [
        "$('div#6ac38ecf-c642-4e24-abb3-133a82c45283').width('28%')"
       ],
       "metadata": {},
       "output_type": "display_data",
       "text": [
        "<IPython.core.display.Javascript at 0x10ee4f9d0>"
       ]
      },
      {
       "javascript": [
        "$('div#6ac38ecf-c642-4e24-abb3-133a82c45283').width('28%')"
       ],
       "metadata": {},
       "output_type": "display_data",
       "text": [
        "<IPython.core.display.Javascript at 0x10ee4f9d0>"
       ]
      },
      {
       "javascript": [
        "$('div#6ac38ecf-c642-4e24-abb3-133a82c45283').width('28%')"
       ],
       "metadata": {},
       "output_type": "display_data",
       "text": [
        "<IPython.core.display.Javascript at 0x10ee4f9d0>"
       ]
      },
      {
       "javascript": [
        "$('div#6ac38ecf-c642-4e24-abb3-133a82c45283').width('29%')"
       ],
       "metadata": {},
       "output_type": "display_data",
       "text": [
        "<IPython.core.display.Javascript at 0x10ee4f9d0>"
       ]
      },
      {
       "javascript": [
        "$('div#6ac38ecf-c642-4e24-abb3-133a82c45283').width('29%')"
       ],
       "metadata": {},
       "output_type": "display_data",
       "text": [
        "<IPython.core.display.Javascript at 0x10ee4f9d0>"
       ]
      },
      {
       "javascript": [
        "$('div#6ac38ecf-c642-4e24-abb3-133a82c45283').width('30%')"
       ],
       "metadata": {},
       "output_type": "display_data",
       "text": [
        "<IPython.core.display.Javascript at 0x10ee4f9d0>"
       ]
      },
      {
       "javascript": [
        "$('div#6ac38ecf-c642-4e24-abb3-133a82c45283').width('30%')"
       ],
       "metadata": {},
       "output_type": "display_data",
       "text": [
        "<IPython.core.display.Javascript at 0x10ee4f9d0>"
       ]
      },
      {
       "javascript": [
        "$('div#6ac38ecf-c642-4e24-abb3-133a82c45283').width('30%')"
       ],
       "metadata": {},
       "output_type": "display_data",
       "text": [
        "<IPython.core.display.Javascript at 0x10ee4f9d0>"
       ]
      },
      {
       "javascript": [
        "$('div#6ac38ecf-c642-4e24-abb3-133a82c45283').width('31%')"
       ],
       "metadata": {},
       "output_type": "display_data",
       "text": [
        "<IPython.core.display.Javascript at 0x10ee4f9d0>"
       ]
      },
      {
       "javascript": [
        "$('div#6ac38ecf-c642-4e24-abb3-133a82c45283').width('31%')"
       ],
       "metadata": {},
       "output_type": "display_data",
       "text": [
        "<IPython.core.display.Javascript at 0x10ee4f9d0>"
       ]
      },
      {
       "javascript": [
        "$('div#6ac38ecf-c642-4e24-abb3-133a82c45283').width('32%')"
       ],
       "metadata": {},
       "output_type": "display_data",
       "text": [
        "<IPython.core.display.Javascript at 0x10ee4f9d0>"
       ]
      },
      {
       "javascript": [
        "$('div#6ac38ecf-c642-4e24-abb3-133a82c45283').width('32%')"
       ],
       "metadata": {},
       "output_type": "display_data",
       "text": [
        "<IPython.core.display.Javascript at 0x10ee4f9d0>"
       ]
      },
      {
       "javascript": [
        "$('div#6ac38ecf-c642-4e24-abb3-133a82c45283').width('32%')"
       ],
       "metadata": {},
       "output_type": "display_data",
       "text": [
        "<IPython.core.display.Javascript at 0x10ee4f9d0>"
       ]
      },
      {
       "javascript": [
        "$('div#6ac38ecf-c642-4e24-abb3-133a82c45283').width('33%')"
       ],
       "metadata": {},
       "output_type": "display_data",
       "text": [
        "<IPython.core.display.Javascript at 0x10ee4f9d0>"
       ]
      },
      {
       "javascript": [
        "$('div#6ac38ecf-c642-4e24-abb3-133a82c45283').width('33%')"
       ],
       "metadata": {},
       "output_type": "display_data",
       "text": [
        "<IPython.core.display.Javascript at 0x10ee4f9d0>"
       ]
      },
      {
       "javascript": [
        "$('div#6ac38ecf-c642-4e24-abb3-133a82c45283').width('34%')"
       ],
       "metadata": {},
       "output_type": "display_data",
       "text": [
        "<IPython.core.display.Javascript at 0x10ee4f9d0>"
       ]
      },
      {
       "javascript": [
        "$('div#6ac38ecf-c642-4e24-abb3-133a82c45283').width('34%')"
       ],
       "metadata": {},
       "output_type": "display_data",
       "text": [
        "<IPython.core.display.Javascript at 0x10ee4f9d0>"
       ]
      },
      {
       "javascript": [
        "$('div#6ac38ecf-c642-4e24-abb3-133a82c45283').width('34%')"
       ],
       "metadata": {},
       "output_type": "display_data",
       "text": [
        "<IPython.core.display.Javascript at 0x10ee4f9d0>"
       ]
      },
      {
       "javascript": [
        "$('div#6ac38ecf-c642-4e24-abb3-133a82c45283').width('35%')"
       ],
       "metadata": {},
       "output_type": "display_data",
       "text": [
        "<IPython.core.display.Javascript at 0x10ee4f9d0>"
       ]
      },
      {
       "javascript": [
        "$('div#6ac38ecf-c642-4e24-abb3-133a82c45283').width('35%')"
       ],
       "metadata": {},
       "output_type": "display_data",
       "text": [
        "<IPython.core.display.Javascript at 0x10ee4f9d0>"
       ]
      },
      {
       "javascript": [
        "$('div#6ac38ecf-c642-4e24-abb3-133a82c45283').width('36%')"
       ],
       "metadata": {},
       "output_type": "display_data",
       "text": [
        "<IPython.core.display.Javascript at 0x10ee4f9d0>"
       ]
      },
      {
       "javascript": [
        "$('div#6ac38ecf-c642-4e24-abb3-133a82c45283').width('36%')"
       ],
       "metadata": {},
       "output_type": "display_data",
       "text": [
        "<IPython.core.display.Javascript at 0x10ee4f9d0>"
       ]
      },
      {
       "javascript": [
        "$('div#6ac38ecf-c642-4e24-abb3-133a82c45283').width('36%')"
       ],
       "metadata": {},
       "output_type": "display_data",
       "text": [
        "<IPython.core.display.Javascript at 0x10ee4f9d0>"
       ]
      },
      {
       "javascript": [
        "$('div#6ac38ecf-c642-4e24-abb3-133a82c45283').width('37%')"
       ],
       "metadata": {},
       "output_type": "display_data",
       "text": [
        "<IPython.core.display.Javascript at 0x10ee4f9d0>"
       ]
      },
      {
       "javascript": [
        "$('div#6ac38ecf-c642-4e24-abb3-133a82c45283').width('37%')"
       ],
       "metadata": {},
       "output_type": "display_data",
       "text": [
        "<IPython.core.display.Javascript at 0x10ee4f9d0>"
       ]
      },
      {
       "javascript": [
        "$('div#6ac38ecf-c642-4e24-abb3-133a82c45283').width('38%')"
       ],
       "metadata": {},
       "output_type": "display_data",
       "text": [
        "<IPython.core.display.Javascript at 0x10ee4f9d0>"
       ]
      },
      {
       "javascript": [
        "$('div#6ac38ecf-c642-4e24-abb3-133a82c45283').width('38%')"
       ],
       "metadata": {},
       "output_type": "display_data",
       "text": [
        "<IPython.core.display.Javascript at 0x10ee4f9d0>"
       ]
      },
      {
       "javascript": [
        "$('div#6ac38ecf-c642-4e24-abb3-133a82c45283').width('38%')"
       ],
       "metadata": {},
       "output_type": "display_data",
       "text": [
        "<IPython.core.display.Javascript at 0x10ee4f9d0>"
       ]
      },
      {
       "javascript": [
        "$('div#6ac38ecf-c642-4e24-abb3-133a82c45283').width('39%')"
       ],
       "metadata": {},
       "output_type": "display_data",
       "text": [
        "<IPython.core.display.Javascript at 0x10ee4f9d0>"
       ]
      },
      {
       "javascript": [
        "$('div#6ac38ecf-c642-4e24-abb3-133a82c45283').width('39%')"
       ],
       "metadata": {},
       "output_type": "display_data",
       "text": [
        "<IPython.core.display.Javascript at 0x10ee4f9d0>"
       ]
      },
      {
       "javascript": [
        "$('div#6ac38ecf-c642-4e24-abb3-133a82c45283').width('40%')"
       ],
       "metadata": {},
       "output_type": "display_data",
       "text": [
        "<IPython.core.display.Javascript at 0x10ee4f9d0>"
       ]
      },
      {
       "javascript": [
        "$('div#6ac38ecf-c642-4e24-abb3-133a82c45283').width('40%')"
       ],
       "metadata": {},
       "output_type": "display_data",
       "text": [
        "<IPython.core.display.Javascript at 0x10ee4f9d0>"
       ]
      },
      {
       "javascript": [
        "$('div#6ac38ecf-c642-4e24-abb3-133a82c45283').width('40%')"
       ],
       "metadata": {},
       "output_type": "display_data",
       "text": [
        "<IPython.core.display.Javascript at 0x10ee4f9d0>"
       ]
      },
      {
       "javascript": [
        "$('div#6ac38ecf-c642-4e24-abb3-133a82c45283').width('41%')"
       ],
       "metadata": {},
       "output_type": "display_data",
       "text": [
        "<IPython.core.display.Javascript at 0x10ee4f9d0>"
       ]
      },
      {
       "javascript": [
        "$('div#6ac38ecf-c642-4e24-abb3-133a82c45283').width('41%')"
       ],
       "metadata": {},
       "output_type": "display_data",
       "text": [
        "<IPython.core.display.Javascript at 0x10ee4f9d0>"
       ]
      },
      {
       "javascript": [
        "$('div#6ac38ecf-c642-4e24-abb3-133a82c45283').width('42%')"
       ],
       "metadata": {},
       "output_type": "display_data",
       "text": [
        "<IPython.core.display.Javascript at 0x10ee4f9d0>"
       ]
      },
      {
       "javascript": [
        "$('div#6ac38ecf-c642-4e24-abb3-133a82c45283').width('42%')"
       ],
       "metadata": {},
       "output_type": "display_data",
       "text": [
        "<IPython.core.display.Javascript at 0x10ee4f9d0>"
       ]
      },
      {
       "javascript": [
        "$('div#6ac38ecf-c642-4e24-abb3-133a82c45283').width('42%')"
       ],
       "metadata": {},
       "output_type": "display_data",
       "text": [
        "<IPython.core.display.Javascript at 0x10ee4f9d0>"
       ]
      },
      {
       "javascript": [
        "$('div#6ac38ecf-c642-4e24-abb3-133a82c45283').width('43%')"
       ],
       "metadata": {},
       "output_type": "display_data",
       "text": [
        "<IPython.core.display.Javascript at 0x10ee4f9d0>"
       ]
      },
      {
       "javascript": [
        "$('div#6ac38ecf-c642-4e24-abb3-133a82c45283').width('43%')"
       ],
       "metadata": {},
       "output_type": "display_data",
       "text": [
        "<IPython.core.display.Javascript at 0x10ee4f9d0>"
       ]
      },
      {
       "javascript": [
        "$('div#6ac38ecf-c642-4e24-abb3-133a82c45283').width('44%')"
       ],
       "metadata": {},
       "output_type": "display_data",
       "text": [
        "<IPython.core.display.Javascript at 0x10ee4f9d0>"
       ]
      },
      {
       "javascript": [
        "$('div#6ac38ecf-c642-4e24-abb3-133a82c45283').width('44%')"
       ],
       "metadata": {},
       "output_type": "display_data",
       "text": [
        "<IPython.core.display.Javascript at 0x10ee4f9d0>"
       ]
      },
      {
       "javascript": [
        "$('div#6ac38ecf-c642-4e24-abb3-133a82c45283').width('44%')"
       ],
       "metadata": {},
       "output_type": "display_data",
       "text": [
        "<IPython.core.display.Javascript at 0x10ee4f9d0>"
       ]
      },
      {
       "javascript": [
        "$('div#6ac38ecf-c642-4e24-abb3-133a82c45283').width('45%')"
       ],
       "metadata": {},
       "output_type": "display_data",
       "text": [
        "<IPython.core.display.Javascript at 0x10ee4f9d0>"
       ]
      },
      {
       "javascript": [
        "$('div#6ac38ecf-c642-4e24-abb3-133a82c45283').width('45%')"
       ],
       "metadata": {},
       "output_type": "display_data",
       "text": [
        "<IPython.core.display.Javascript at 0x10ee4f9d0>"
       ]
      },
      {
       "javascript": [
        "$('div#6ac38ecf-c642-4e24-abb3-133a82c45283').width('46%')"
       ],
       "metadata": {},
       "output_type": "display_data",
       "text": [
        "<IPython.core.display.Javascript at 0x10ee4f9d0>"
       ]
      },
      {
       "javascript": [
        "$('div#6ac38ecf-c642-4e24-abb3-133a82c45283').width('46%')"
       ],
       "metadata": {},
       "output_type": "display_data",
       "text": [
        "<IPython.core.display.Javascript at 0x10ee4f9d0>"
       ]
      },
      {
       "javascript": [
        "$('div#6ac38ecf-c642-4e24-abb3-133a82c45283').width('46%')"
       ],
       "metadata": {},
       "output_type": "display_data",
       "text": [
        "<IPython.core.display.Javascript at 0x10ee4f9d0>"
       ]
      },
      {
       "javascript": [
        "$('div#6ac38ecf-c642-4e24-abb3-133a82c45283').width('47%')"
       ],
       "metadata": {},
       "output_type": "display_data",
       "text": [
        "<IPython.core.display.Javascript at 0x10ee4f9d0>"
       ]
      },
      {
       "javascript": [
        "$('div#6ac38ecf-c642-4e24-abb3-133a82c45283').width('47%')"
       ],
       "metadata": {},
       "output_type": "display_data",
       "text": [
        "<IPython.core.display.Javascript at 0x10ee4f9d0>"
       ]
      },
      {
       "javascript": [
        "$('div#6ac38ecf-c642-4e24-abb3-133a82c45283').width('48%')"
       ],
       "metadata": {},
       "output_type": "display_data",
       "text": [
        "<IPython.core.display.Javascript at 0x10ee4f9d0>"
       ]
      },
      {
       "javascript": [
        "$('div#6ac38ecf-c642-4e24-abb3-133a82c45283').width('48%')"
       ],
       "metadata": {},
       "output_type": "display_data",
       "text": [
        "<IPython.core.display.Javascript at 0x10ee4f9d0>"
       ]
      },
      {
       "javascript": [
        "$('div#6ac38ecf-c642-4e24-abb3-133a82c45283').width('48%')"
       ],
       "metadata": {},
       "output_type": "display_data",
       "text": [
        "<IPython.core.display.Javascript at 0x10ee4f9d0>"
       ]
      },
      {
       "javascript": [
        "$('div#6ac38ecf-c642-4e24-abb3-133a82c45283').width('49%')"
       ],
       "metadata": {},
       "output_type": "display_data",
       "text": [
        "<IPython.core.display.Javascript at 0x10ee4f9d0>"
       ]
      },
      {
       "javascript": [
        "$('div#6ac38ecf-c642-4e24-abb3-133a82c45283').width('49%')"
       ],
       "metadata": {},
       "output_type": "display_data",
       "text": [
        "<IPython.core.display.Javascript at 0x10ee4f9d0>"
       ]
      },
      {
       "javascript": [
        "$('div#6ac38ecf-c642-4e24-abb3-133a82c45283').width('50%')"
       ],
       "metadata": {},
       "output_type": "display_data",
       "text": [
        "<IPython.core.display.Javascript at 0x10ee4f9d0>"
       ]
      },
      {
       "javascript": [
        "$('div#6ac38ecf-c642-4e24-abb3-133a82c45283').width('50%')"
       ],
       "metadata": {},
       "output_type": "display_data",
       "text": [
        "<IPython.core.display.Javascript at 0x10ee4f9d0>"
       ]
      },
      {
       "javascript": [
        "$('div#6ac38ecf-c642-4e24-abb3-133a82c45283').width('50%')"
       ],
       "metadata": {},
       "output_type": "display_data",
       "text": [
        "<IPython.core.display.Javascript at 0x10ee4f9d0>"
       ]
      },
      {
       "javascript": [
        "$('div#6ac38ecf-c642-4e24-abb3-133a82c45283').width('51%')"
       ],
       "metadata": {},
       "output_type": "display_data",
       "text": [
        "<IPython.core.display.Javascript at 0x10ee4f9d0>"
       ]
      },
      {
       "javascript": [
        "$('div#6ac38ecf-c642-4e24-abb3-133a82c45283').width('51%')"
       ],
       "metadata": {},
       "output_type": "display_data",
       "text": [
        "<IPython.core.display.Javascript at 0x10ee4f9d0>"
       ]
      },
      {
       "javascript": [
        "$('div#6ac38ecf-c642-4e24-abb3-133a82c45283').width('51%')"
       ],
       "metadata": {},
       "output_type": "display_data",
       "text": [
        "<IPython.core.display.Javascript at 0x10ee4f9d0>"
       ]
      },
      {
       "javascript": [
        "$('div#6ac38ecf-c642-4e24-abb3-133a82c45283').width('52%')"
       ],
       "metadata": {},
       "output_type": "display_data",
       "text": [
        "<IPython.core.display.Javascript at 0x10ee4f9d0>"
       ]
      },
      {
       "javascript": [
        "$('div#6ac38ecf-c642-4e24-abb3-133a82c45283').width('52%')"
       ],
       "metadata": {},
       "output_type": "display_data",
       "text": [
        "<IPython.core.display.Javascript at 0x10ee4f9d0>"
       ]
      },
      {
       "javascript": [
        "$('div#6ac38ecf-c642-4e24-abb3-133a82c45283').width('53%')"
       ],
       "metadata": {},
       "output_type": "display_data",
       "text": [
        "<IPython.core.display.Javascript at 0x10ee4f9d0>"
       ]
      },
      {
       "javascript": [
        "$('div#6ac38ecf-c642-4e24-abb3-133a82c45283').width('53%')"
       ],
       "metadata": {},
       "output_type": "display_data",
       "text": [
        "<IPython.core.display.Javascript at 0x10ee4f9d0>"
       ]
      },
      {
       "javascript": [
        "$('div#6ac38ecf-c642-4e24-abb3-133a82c45283').width('53%')"
       ],
       "metadata": {},
       "output_type": "display_data",
       "text": [
        "<IPython.core.display.Javascript at 0x10ee4f9d0>"
       ]
      },
      {
       "javascript": [
        "$('div#6ac38ecf-c642-4e24-abb3-133a82c45283').width('54%')"
       ],
       "metadata": {},
       "output_type": "display_data",
       "text": [
        "<IPython.core.display.Javascript at 0x10ee4f9d0>"
       ]
      },
      {
       "javascript": [
        "$('div#6ac38ecf-c642-4e24-abb3-133a82c45283').width('54%')"
       ],
       "metadata": {},
       "output_type": "display_data",
       "text": [
        "<IPython.core.display.Javascript at 0x10ee4f9d0>"
       ]
      },
      {
       "javascript": [
        "$('div#6ac38ecf-c642-4e24-abb3-133a82c45283').width('55%')"
       ],
       "metadata": {},
       "output_type": "display_data",
       "text": [
        "<IPython.core.display.Javascript at 0x10ee4f9d0>"
       ]
      },
      {
       "javascript": [
        "$('div#6ac38ecf-c642-4e24-abb3-133a82c45283').width('55%')"
       ],
       "metadata": {},
       "output_type": "display_data",
       "text": [
        "<IPython.core.display.Javascript at 0x10ee4f9d0>"
       ]
      },
      {
       "javascript": [
        "$('div#6ac38ecf-c642-4e24-abb3-133a82c45283').width('55%')"
       ],
       "metadata": {},
       "output_type": "display_data",
       "text": [
        "<IPython.core.display.Javascript at 0x10ee4f9d0>"
       ]
      },
      {
       "javascript": [
        "$('div#6ac38ecf-c642-4e24-abb3-133a82c45283').width('56%')"
       ],
       "metadata": {},
       "output_type": "display_data",
       "text": [
        "<IPython.core.display.Javascript at 0x10ee4f9d0>"
       ]
      },
      {
       "javascript": [
        "$('div#6ac38ecf-c642-4e24-abb3-133a82c45283').width('56%')"
       ],
       "metadata": {},
       "output_type": "display_data",
       "text": [
        "<IPython.core.display.Javascript at 0x10ee4f9d0>"
       ]
      },
      {
       "javascript": [
        "$('div#6ac38ecf-c642-4e24-abb3-133a82c45283').width('57%')"
       ],
       "metadata": {},
       "output_type": "display_data",
       "text": [
        "<IPython.core.display.Javascript at 0x10ee4f9d0>"
       ]
      },
      {
       "javascript": [
        "$('div#6ac38ecf-c642-4e24-abb3-133a82c45283').width('57%')"
       ],
       "metadata": {},
       "output_type": "display_data",
       "text": [
        "<IPython.core.display.Javascript at 0x10ee4f9d0>"
       ]
      },
      {
       "javascript": [
        "$('div#6ac38ecf-c642-4e24-abb3-133a82c45283').width('57%')"
       ],
       "metadata": {},
       "output_type": "display_data",
       "text": [
        "<IPython.core.display.Javascript at 0x10ee4f9d0>"
       ]
      },
      {
       "javascript": [
        "$('div#6ac38ecf-c642-4e24-abb3-133a82c45283').width('58%')"
       ],
       "metadata": {},
       "output_type": "display_data",
       "text": [
        "<IPython.core.display.Javascript at 0x10ee4f9d0>"
       ]
      },
      {
       "javascript": [
        "$('div#6ac38ecf-c642-4e24-abb3-133a82c45283').width('58%')"
       ],
       "metadata": {},
       "output_type": "display_data",
       "text": [
        "<IPython.core.display.Javascript at 0x10ee4f9d0>"
       ]
      },
      {
       "javascript": [
        "$('div#6ac38ecf-c642-4e24-abb3-133a82c45283').width('59%')"
       ],
       "metadata": {},
       "output_type": "display_data",
       "text": [
        "<IPython.core.display.Javascript at 0x10ee4f9d0>"
       ]
      },
      {
       "javascript": [
        "$('div#6ac38ecf-c642-4e24-abb3-133a82c45283').width('59%')"
       ],
       "metadata": {},
       "output_type": "display_data",
       "text": [
        "<IPython.core.display.Javascript at 0x10ee4f9d0>"
       ]
      },
      {
       "javascript": [
        "$('div#6ac38ecf-c642-4e24-abb3-133a82c45283').width('59%')"
       ],
       "metadata": {},
       "output_type": "display_data",
       "text": [
        "<IPython.core.display.Javascript at 0x10ee4f9d0>"
       ]
      },
      {
       "javascript": [
        "$('div#6ac38ecf-c642-4e24-abb3-133a82c45283').width('60%')"
       ],
       "metadata": {},
       "output_type": "display_data",
       "text": [
        "<IPython.core.display.Javascript at 0x10ee4f9d0>"
       ]
      },
      {
       "javascript": [
        "$('div#6ac38ecf-c642-4e24-abb3-133a82c45283').width('60%')"
       ],
       "metadata": {},
       "output_type": "display_data",
       "text": [
        "<IPython.core.display.Javascript at 0x10ee4f9d0>"
       ]
      },
      {
       "javascript": [
        "$('div#6ac38ecf-c642-4e24-abb3-133a82c45283').width('61%')"
       ],
       "metadata": {},
       "output_type": "display_data",
       "text": [
        "<IPython.core.display.Javascript at 0x10ee4f9d0>"
       ]
      },
      {
       "javascript": [
        "$('div#6ac38ecf-c642-4e24-abb3-133a82c45283').width('61%')"
       ],
       "metadata": {},
       "output_type": "display_data",
       "text": [
        "<IPython.core.display.Javascript at 0x10ee4f9d0>"
       ]
      },
      {
       "javascript": [
        "$('div#6ac38ecf-c642-4e24-abb3-133a82c45283').width('61%')"
       ],
       "metadata": {},
       "output_type": "display_data",
       "text": [
        "<IPython.core.display.Javascript at 0x10ee4f9d0>"
       ]
      },
      {
       "javascript": [
        "$('div#6ac38ecf-c642-4e24-abb3-133a82c45283').width('62%')"
       ],
       "metadata": {},
       "output_type": "display_data",
       "text": [
        "<IPython.core.display.Javascript at 0x10ee4f9d0>"
       ]
      },
      {
       "javascript": [
        "$('div#6ac38ecf-c642-4e24-abb3-133a82c45283').width('62%')"
       ],
       "metadata": {},
       "output_type": "display_data",
       "text": [
        "<IPython.core.display.Javascript at 0x10ee4f9d0>"
       ]
      },
      {
       "javascript": [
        "$('div#6ac38ecf-c642-4e24-abb3-133a82c45283').width('63%')"
       ],
       "metadata": {},
       "output_type": "display_data",
       "text": [
        "<IPython.core.display.Javascript at 0x10ee4f9d0>"
       ]
      },
      {
       "javascript": [
        "$('div#6ac38ecf-c642-4e24-abb3-133a82c45283').width('63%')"
       ],
       "metadata": {},
       "output_type": "display_data",
       "text": [
        "<IPython.core.display.Javascript at 0x10ee4f9d0>"
       ]
      },
      {
       "javascript": [
        "$('div#6ac38ecf-c642-4e24-abb3-133a82c45283').width('63%')"
       ],
       "metadata": {},
       "output_type": "display_data",
       "text": [
        "<IPython.core.display.Javascript at 0x10ee4f9d0>"
       ]
      },
      {
       "javascript": [
        "$('div#6ac38ecf-c642-4e24-abb3-133a82c45283').width('64%')"
       ],
       "metadata": {},
       "output_type": "display_data",
       "text": [
        "<IPython.core.display.Javascript at 0x10ee4f9d0>"
       ]
      },
      {
       "javascript": [
        "$('div#6ac38ecf-c642-4e24-abb3-133a82c45283').width('64%')"
       ],
       "metadata": {},
       "output_type": "display_data",
       "text": [
        "<IPython.core.display.Javascript at 0x10ee4f9d0>"
       ]
      },
      {
       "javascript": [
        "$('div#6ac38ecf-c642-4e24-abb3-133a82c45283').width('65%')"
       ],
       "metadata": {},
       "output_type": "display_data",
       "text": [
        "<IPython.core.display.Javascript at 0x10ee4f9d0>"
       ]
      },
      {
       "javascript": [
        "$('div#6ac38ecf-c642-4e24-abb3-133a82c45283').width('65%')"
       ],
       "metadata": {},
       "output_type": "display_data",
       "text": [
        "<IPython.core.display.Javascript at 0x10ee4f9d0>"
       ]
      },
      {
       "javascript": [
        "$('div#6ac38ecf-c642-4e24-abb3-133a82c45283').width('65%')"
       ],
       "metadata": {},
       "output_type": "display_data",
       "text": [
        "<IPython.core.display.Javascript at 0x10ee4f9d0>"
       ]
      },
      {
       "javascript": [
        "$('div#6ac38ecf-c642-4e24-abb3-133a82c45283').width('66%')"
       ],
       "metadata": {},
       "output_type": "display_data",
       "text": [
        "<IPython.core.display.Javascript at 0x10ee4f9d0>"
       ]
      },
      {
       "javascript": [
        "$('div#6ac38ecf-c642-4e24-abb3-133a82c45283').width('66%')"
       ],
       "metadata": {},
       "output_type": "display_data",
       "text": [
        "<IPython.core.display.Javascript at 0x10ee4f9d0>"
       ]
      },
      {
       "javascript": [
        "$('div#6ac38ecf-c642-4e24-abb3-133a82c45283').width('67%')"
       ],
       "metadata": {},
       "output_type": "display_data",
       "text": [
        "<IPython.core.display.Javascript at 0x10ee4f9d0>"
       ]
      },
      {
       "javascript": [
        "$('div#6ac38ecf-c642-4e24-abb3-133a82c45283').width('67%')"
       ],
       "metadata": {},
       "output_type": "display_data",
       "text": [
        "<IPython.core.display.Javascript at 0x10ee4f9d0>"
       ]
      },
      {
       "javascript": [
        "$('div#6ac38ecf-c642-4e24-abb3-133a82c45283').width('67%')"
       ],
       "metadata": {},
       "output_type": "display_data",
       "text": [
        "<IPython.core.display.Javascript at 0x10ee4f9d0>"
       ]
      },
      {
       "javascript": [
        "$('div#6ac38ecf-c642-4e24-abb3-133a82c45283').width('68%')"
       ],
       "metadata": {},
       "output_type": "display_data",
       "text": [
        "<IPython.core.display.Javascript at 0x10ee4f9d0>"
       ]
      },
      {
       "javascript": [
        "$('div#6ac38ecf-c642-4e24-abb3-133a82c45283').width('68%')"
       ],
       "metadata": {},
       "output_type": "display_data",
       "text": [
        "<IPython.core.display.Javascript at 0x10ee4f9d0>"
       ]
      },
      {
       "javascript": [
        "$('div#6ac38ecf-c642-4e24-abb3-133a82c45283').width('69%')"
       ],
       "metadata": {},
       "output_type": "display_data",
       "text": [
        "<IPython.core.display.Javascript at 0x10ee4f9d0>"
       ]
      },
      {
       "javascript": [
        "$('div#6ac38ecf-c642-4e24-abb3-133a82c45283').width('69%')"
       ],
       "metadata": {},
       "output_type": "display_data",
       "text": [
        "<IPython.core.display.Javascript at 0x10ee4f9d0>"
       ]
      },
      {
       "javascript": [
        "$('div#6ac38ecf-c642-4e24-abb3-133a82c45283').width('69%')"
       ],
       "metadata": {},
       "output_type": "display_data",
       "text": [
        "<IPython.core.display.Javascript at 0x10ee4f9d0>"
       ]
      },
      {
       "javascript": [
        "$('div#6ac38ecf-c642-4e24-abb3-133a82c45283').width('70%')"
       ],
       "metadata": {},
       "output_type": "display_data",
       "text": [
        "<IPython.core.display.Javascript at 0x10ee4f9d0>"
       ]
      },
      {
       "javascript": [
        "$('div#6ac38ecf-c642-4e24-abb3-133a82c45283').width('70%')"
       ],
       "metadata": {},
       "output_type": "display_data",
       "text": [
        "<IPython.core.display.Javascript at 0x10ee4f9d0>"
       ]
      },
      {
       "javascript": [
        "$('div#6ac38ecf-c642-4e24-abb3-133a82c45283').width('71%')"
       ],
       "metadata": {},
       "output_type": "display_data",
       "text": [
        "<IPython.core.display.Javascript at 0x10ee4f9d0>"
       ]
      },
      {
       "javascript": [
        "$('div#6ac38ecf-c642-4e24-abb3-133a82c45283').width('71%')"
       ],
       "metadata": {},
       "output_type": "display_data",
       "text": [
        "<IPython.core.display.Javascript at 0x10ee4f9d0>"
       ]
      },
      {
       "javascript": [
        "$('div#6ac38ecf-c642-4e24-abb3-133a82c45283').width('71%')"
       ],
       "metadata": {},
       "output_type": "display_data",
       "text": [
        "<IPython.core.display.Javascript at 0x10ee4f9d0>"
       ]
      },
      {
       "javascript": [
        "$('div#6ac38ecf-c642-4e24-abb3-133a82c45283').width('72%')"
       ],
       "metadata": {},
       "output_type": "display_data",
       "text": [
        "<IPython.core.display.Javascript at 0x10ee4f9d0>"
       ]
      },
      {
       "javascript": [
        "$('div#6ac38ecf-c642-4e24-abb3-133a82c45283').width('72%')"
       ],
       "metadata": {},
       "output_type": "display_data",
       "text": [
        "<IPython.core.display.Javascript at 0x10ee4f9d0>"
       ]
      },
      {
       "javascript": [
        "$('div#6ac38ecf-c642-4e24-abb3-133a82c45283').width('73%')"
       ],
       "metadata": {},
       "output_type": "display_data",
       "text": [
        "<IPython.core.display.Javascript at 0x10ee4f9d0>"
       ]
      },
      {
       "javascript": [
        "$('div#6ac38ecf-c642-4e24-abb3-133a82c45283').width('73%')"
       ],
       "metadata": {},
       "output_type": "display_data",
       "text": [
        "<IPython.core.display.Javascript at 0x10ee4f9d0>"
       ]
      },
      {
       "javascript": [
        "$('div#6ac38ecf-c642-4e24-abb3-133a82c45283').width('73%')"
       ],
       "metadata": {},
       "output_type": "display_data",
       "text": [
        "<IPython.core.display.Javascript at 0x10ee4f9d0>"
       ]
      },
      {
       "javascript": [
        "$('div#6ac38ecf-c642-4e24-abb3-133a82c45283').width('74%')"
       ],
       "metadata": {},
       "output_type": "display_data",
       "text": [
        "<IPython.core.display.Javascript at 0x10ee4f9d0>"
       ]
      },
      {
       "javascript": [
        "$('div#6ac38ecf-c642-4e24-abb3-133a82c45283').width('74%')"
       ],
       "metadata": {},
       "output_type": "display_data",
       "text": [
        "<IPython.core.display.Javascript at 0x10ee4f9d0>"
       ]
      },
      {
       "javascript": [
        "$('div#6ac38ecf-c642-4e24-abb3-133a82c45283').width('75%')"
       ],
       "metadata": {},
       "output_type": "display_data",
       "text": [
        "<IPython.core.display.Javascript at 0x10ee4f9d0>"
       ]
      },
      {
       "javascript": [
        "$('div#6ac38ecf-c642-4e24-abb3-133a82c45283').width('75%')"
       ],
       "metadata": {},
       "output_type": "display_data",
       "text": [
        "<IPython.core.display.Javascript at 0x10ee4f9d0>"
       ]
      },
      {
       "javascript": [
        "$('div#6ac38ecf-c642-4e24-abb3-133a82c45283').width('75%')"
       ],
       "metadata": {},
       "output_type": "display_data",
       "text": [
        "<IPython.core.display.Javascript at 0x10ee4f9d0>"
       ]
      },
      {
       "javascript": [
        "$('div#6ac38ecf-c642-4e24-abb3-133a82c45283').width('76%')"
       ],
       "metadata": {},
       "output_type": "display_data",
       "text": [
        "<IPython.core.display.Javascript at 0x10ee4f9d0>"
       ]
      },
      {
       "javascript": [
        "$('div#6ac38ecf-c642-4e24-abb3-133a82c45283').width('76%')"
       ],
       "metadata": {},
       "output_type": "display_data",
       "text": [
        "<IPython.core.display.Javascript at 0x10ee4f9d0>"
       ]
      },
      {
       "javascript": [
        "$('div#6ac38ecf-c642-4e24-abb3-133a82c45283').width('76%')"
       ],
       "metadata": {},
       "output_type": "display_data",
       "text": [
        "<IPython.core.display.Javascript at 0x10ee4f9d0>"
       ]
      },
      {
       "javascript": [
        "$('div#6ac38ecf-c642-4e24-abb3-133a82c45283').width('77%')"
       ],
       "metadata": {},
       "output_type": "display_data",
       "text": [
        "<IPython.core.display.Javascript at 0x10ee4f9d0>"
       ]
      },
      {
       "javascript": [
        "$('div#6ac38ecf-c642-4e24-abb3-133a82c45283').width('77%')"
       ],
       "metadata": {},
       "output_type": "display_data",
       "text": [
        "<IPython.core.display.Javascript at 0x10ee4f9d0>"
       ]
      },
      {
       "javascript": [
        "$('div#6ac38ecf-c642-4e24-abb3-133a82c45283').width('78%')"
       ],
       "metadata": {},
       "output_type": "display_data",
       "text": [
        "<IPython.core.display.Javascript at 0x10ee4f9d0>"
       ]
      },
      {
       "javascript": [
        "$('div#6ac38ecf-c642-4e24-abb3-133a82c45283').width('78%')"
       ],
       "metadata": {},
       "output_type": "display_data",
       "text": [
        "<IPython.core.display.Javascript at 0x10ee4f9d0>"
       ]
      },
      {
       "javascript": [
        "$('div#6ac38ecf-c642-4e24-abb3-133a82c45283').width('78%')"
       ],
       "metadata": {},
       "output_type": "display_data",
       "text": [
        "<IPython.core.display.Javascript at 0x10ee4f9d0>"
       ]
      },
      {
       "javascript": [
        "$('div#6ac38ecf-c642-4e24-abb3-133a82c45283').width('79%')"
       ],
       "metadata": {},
       "output_type": "display_data",
       "text": [
        "<IPython.core.display.Javascript at 0x10ee4f9d0>"
       ]
      },
      {
       "javascript": [
        "$('div#6ac38ecf-c642-4e24-abb3-133a82c45283').width('79%')"
       ],
       "metadata": {},
       "output_type": "display_data",
       "text": [
        "<IPython.core.display.Javascript at 0x10ee4f9d0>"
       ]
      },
      {
       "javascript": [
        "$('div#6ac38ecf-c642-4e24-abb3-133a82c45283').width('80%')"
       ],
       "metadata": {},
       "output_type": "display_data",
       "text": [
        "<IPython.core.display.Javascript at 0x10ee4f9d0>"
       ]
      },
      {
       "javascript": [
        "$('div#6ac38ecf-c642-4e24-abb3-133a82c45283').width('80%')"
       ],
       "metadata": {},
       "output_type": "display_data",
       "text": [
        "<IPython.core.display.Javascript at 0x10ee4f9d0>"
       ]
      },
      {
       "javascript": [
        "$('div#6ac38ecf-c642-4e24-abb3-133a82c45283').width('80%')"
       ],
       "metadata": {},
       "output_type": "display_data",
       "text": [
        "<IPython.core.display.Javascript at 0x10ee4f9d0>"
       ]
      },
      {
       "javascript": [
        "$('div#6ac38ecf-c642-4e24-abb3-133a82c45283').width('81%')"
       ],
       "metadata": {},
       "output_type": "display_data",
       "text": [
        "<IPython.core.display.Javascript at 0x10ee4f9d0>"
       ]
      },
      {
       "javascript": [
        "$('div#6ac38ecf-c642-4e24-abb3-133a82c45283').width('81%')"
       ],
       "metadata": {},
       "output_type": "display_data",
       "text": [
        "<IPython.core.display.Javascript at 0x10ee4f9d0>"
       ]
      },
      {
       "javascript": [
        "$('div#6ac38ecf-c642-4e24-abb3-133a82c45283').width('82%')"
       ],
       "metadata": {},
       "output_type": "display_data",
       "text": [
        "<IPython.core.display.Javascript at 0x10ee4f9d0>"
       ]
      },
      {
       "javascript": [
        "$('div#6ac38ecf-c642-4e24-abb3-133a82c45283').width('82%')"
       ],
       "metadata": {},
       "output_type": "display_data",
       "text": [
        "<IPython.core.display.Javascript at 0x10ee4f9d0>"
       ]
      },
      {
       "javascript": [
        "$('div#6ac38ecf-c642-4e24-abb3-133a82c45283').width('82%')"
       ],
       "metadata": {},
       "output_type": "display_data",
       "text": [
        "<IPython.core.display.Javascript at 0x10ee4f9d0>"
       ]
      },
      {
       "javascript": [
        "$('div#6ac38ecf-c642-4e24-abb3-133a82c45283').width('83%')"
       ],
       "metadata": {},
       "output_type": "display_data",
       "text": [
        "<IPython.core.display.Javascript at 0x10ee4f9d0>"
       ]
      },
      {
       "javascript": [
        "$('div#6ac38ecf-c642-4e24-abb3-133a82c45283').width('83%')"
       ],
       "metadata": {},
       "output_type": "display_data",
       "text": [
        "<IPython.core.display.Javascript at 0x10ee4f9d0>"
       ]
      },
      {
       "javascript": [
        "$('div#6ac38ecf-c642-4e24-abb3-133a82c45283').width('84%')"
       ],
       "metadata": {},
       "output_type": "display_data",
       "text": [
        "<IPython.core.display.Javascript at 0x10ee4f9d0>"
       ]
      },
      {
       "javascript": [
        "$('div#6ac38ecf-c642-4e24-abb3-133a82c45283').width('84%')"
       ],
       "metadata": {},
       "output_type": "display_data",
       "text": [
        "<IPython.core.display.Javascript at 0x10ee4f9d0>"
       ]
      },
      {
       "javascript": [
        "$('div#6ac38ecf-c642-4e24-abb3-133a82c45283').width('84%')"
       ],
       "metadata": {},
       "output_type": "display_data",
       "text": [
        "<IPython.core.display.Javascript at 0x10ee4f9d0>"
       ]
      },
      {
       "javascript": [
        "$('div#6ac38ecf-c642-4e24-abb3-133a82c45283').width('85%')"
       ],
       "metadata": {},
       "output_type": "display_data",
       "text": [
        "<IPython.core.display.Javascript at 0x10ee4f9d0>"
       ]
      },
      {
       "javascript": [
        "$('div#6ac38ecf-c642-4e24-abb3-133a82c45283').width('85%')"
       ],
       "metadata": {},
       "output_type": "display_data",
       "text": [
        "<IPython.core.display.Javascript at 0x10ee4f9d0>"
       ]
      },
      {
       "javascript": [
        "$('div#6ac38ecf-c642-4e24-abb3-133a82c45283').width('86%')"
       ],
       "metadata": {},
       "output_type": "display_data",
       "text": [
        "<IPython.core.display.Javascript at 0x10ee4f9d0>"
       ]
      },
      {
       "javascript": [
        "$('div#6ac38ecf-c642-4e24-abb3-133a82c45283').width('86%')"
       ],
       "metadata": {},
       "output_type": "display_data",
       "text": [
        "<IPython.core.display.Javascript at 0x10ee4f9d0>"
       ]
      },
      {
       "javascript": [
        "$('div#6ac38ecf-c642-4e24-abb3-133a82c45283').width('86%')"
       ],
       "metadata": {},
       "output_type": "display_data",
       "text": [
        "<IPython.core.display.Javascript at 0x10ee4f9d0>"
       ]
      },
      {
       "javascript": [
        "$('div#6ac38ecf-c642-4e24-abb3-133a82c45283').width('87%')"
       ],
       "metadata": {},
       "output_type": "display_data",
       "text": [
        "<IPython.core.display.Javascript at 0x10ee4f9d0>"
       ]
      },
      {
       "javascript": [
        "$('div#6ac38ecf-c642-4e24-abb3-133a82c45283').width('87%')"
       ],
       "metadata": {},
       "output_type": "display_data",
       "text": [
        "<IPython.core.display.Javascript at 0x10ee4f9d0>"
       ]
      },
      {
       "javascript": [
        "$('div#6ac38ecf-c642-4e24-abb3-133a82c45283').width('88%')"
       ],
       "metadata": {},
       "output_type": "display_data",
       "text": [
        "<IPython.core.display.Javascript at 0x10ee4f9d0>"
       ]
      },
      {
       "javascript": [
        "$('div#6ac38ecf-c642-4e24-abb3-133a82c45283').width('88%')"
       ],
       "metadata": {},
       "output_type": "display_data",
       "text": [
        "<IPython.core.display.Javascript at 0x10ee4f9d0>"
       ]
      },
      {
       "javascript": [
        "$('div#6ac38ecf-c642-4e24-abb3-133a82c45283').width('88%')"
       ],
       "metadata": {},
       "output_type": "display_data",
       "text": [
        "<IPython.core.display.Javascript at 0x10ee4f9d0>"
       ]
      },
      {
       "javascript": [
        "$('div#6ac38ecf-c642-4e24-abb3-133a82c45283').width('89%')"
       ],
       "metadata": {},
       "output_type": "display_data",
       "text": [
        "<IPython.core.display.Javascript at 0x10ee4f9d0>"
       ]
      },
      {
       "javascript": [
        "$('div#6ac38ecf-c642-4e24-abb3-133a82c45283').width('89%')"
       ],
       "metadata": {},
       "output_type": "display_data",
       "text": [
        "<IPython.core.display.Javascript at 0x10ee4f9d0>"
       ]
      },
      {
       "javascript": [
        "$('div#6ac38ecf-c642-4e24-abb3-133a82c45283').width('90%')"
       ],
       "metadata": {},
       "output_type": "display_data",
       "text": [
        "<IPython.core.display.Javascript at 0x10ee4f9d0>"
       ]
      },
      {
       "javascript": [
        "$('div#6ac38ecf-c642-4e24-abb3-133a82c45283').width('90%')"
       ],
       "metadata": {},
       "output_type": "display_data",
       "text": [
        "<IPython.core.display.Javascript at 0x10ee4f9d0>"
       ]
      },
      {
       "javascript": [
        "$('div#6ac38ecf-c642-4e24-abb3-133a82c45283').width('90%')"
       ],
       "metadata": {},
       "output_type": "display_data",
       "text": [
        "<IPython.core.display.Javascript at 0x10ee4f9d0>"
       ]
      },
      {
       "javascript": [
        "$('div#6ac38ecf-c642-4e24-abb3-133a82c45283').width('91%')"
       ],
       "metadata": {},
       "output_type": "display_data",
       "text": [
        "<IPython.core.display.Javascript at 0x10ee4f9d0>"
       ]
      },
      {
       "javascript": [
        "$('div#6ac38ecf-c642-4e24-abb3-133a82c45283').width('91%')"
       ],
       "metadata": {},
       "output_type": "display_data",
       "text": [
        "<IPython.core.display.Javascript at 0x10ee4f9d0>"
       ]
      },
      {
       "javascript": [
        "$('div#6ac38ecf-c642-4e24-abb3-133a82c45283').width('92%')"
       ],
       "metadata": {},
       "output_type": "display_data",
       "text": [
        "<IPython.core.display.Javascript at 0x10ee4f9d0>"
       ]
      },
      {
       "javascript": [
        "$('div#6ac38ecf-c642-4e24-abb3-133a82c45283').width('92%')"
       ],
       "metadata": {},
       "output_type": "display_data",
       "text": [
        "<IPython.core.display.Javascript at 0x10ee4f9d0>"
       ]
      },
      {
       "javascript": [
        "$('div#6ac38ecf-c642-4e24-abb3-133a82c45283').width('92%')"
       ],
       "metadata": {},
       "output_type": "display_data",
       "text": [
        "<IPython.core.display.Javascript at 0x10ee4f9d0>"
       ]
      },
      {
       "javascript": [
        "$('div#6ac38ecf-c642-4e24-abb3-133a82c45283').width('93%')"
       ],
       "metadata": {},
       "output_type": "display_data",
       "text": [
        "<IPython.core.display.Javascript at 0x10ee4f9d0>"
       ]
      },
      {
       "javascript": [
        "$('div#6ac38ecf-c642-4e24-abb3-133a82c45283').width('93%')"
       ],
       "metadata": {},
       "output_type": "display_data",
       "text": [
        "<IPython.core.display.Javascript at 0x10ee4f9d0>"
       ]
      },
      {
       "javascript": [
        "$('div#6ac38ecf-c642-4e24-abb3-133a82c45283').width('94%')"
       ],
       "metadata": {},
       "output_type": "display_data",
       "text": [
        "<IPython.core.display.Javascript at 0x10ee4f9d0>"
       ]
      },
      {
       "javascript": [
        "$('div#6ac38ecf-c642-4e24-abb3-133a82c45283').width('94%')"
       ],
       "metadata": {},
       "output_type": "display_data",
       "text": [
        "<IPython.core.display.Javascript at 0x10ee4f9d0>"
       ]
      },
      {
       "javascript": [
        "$('div#6ac38ecf-c642-4e24-abb3-133a82c45283').width('94%')"
       ],
       "metadata": {},
       "output_type": "display_data",
       "text": [
        "<IPython.core.display.Javascript at 0x10ee4f9d0>"
       ]
      },
      {
       "javascript": [
        "$('div#6ac38ecf-c642-4e24-abb3-133a82c45283').width('95%')"
       ],
       "metadata": {},
       "output_type": "display_data",
       "text": [
        "<IPython.core.display.Javascript at 0x10ee4f9d0>"
       ]
      },
      {
       "javascript": [
        "$('div#6ac38ecf-c642-4e24-abb3-133a82c45283').width('95%')"
       ],
       "metadata": {},
       "output_type": "display_data",
       "text": [
        "<IPython.core.display.Javascript at 0x10ee4f9d0>"
       ]
      },
      {
       "javascript": [
        "$('div#6ac38ecf-c642-4e24-abb3-133a82c45283').width('96%')"
       ],
       "metadata": {},
       "output_type": "display_data",
       "text": [
        "<IPython.core.display.Javascript at 0x10ee4f9d0>"
       ]
      },
      {
       "javascript": [
        "$('div#6ac38ecf-c642-4e24-abb3-133a82c45283').width('96%')"
       ],
       "metadata": {},
       "output_type": "display_data",
       "text": [
        "<IPython.core.display.Javascript at 0x10ee4f9d0>"
       ]
      },
      {
       "javascript": [
        "$('div#6ac38ecf-c642-4e24-abb3-133a82c45283').width('96%')"
       ],
       "metadata": {},
       "output_type": "display_data",
       "text": [
        "<IPython.core.display.Javascript at 0x10ee4f9d0>"
       ]
      },
      {
       "javascript": [
        "$('div#6ac38ecf-c642-4e24-abb3-133a82c45283').width('97%')"
       ],
       "metadata": {},
       "output_type": "display_data",
       "text": [
        "<IPython.core.display.Javascript at 0x10ee4f9d0>"
       ]
      },
      {
       "javascript": [
        "$('div#6ac38ecf-c642-4e24-abb3-133a82c45283').width('97%')"
       ],
       "metadata": {},
       "output_type": "display_data",
       "text": [
        "<IPython.core.display.Javascript at 0x10ee4f9d0>"
       ]
      },
      {
       "javascript": [
        "$('div#6ac38ecf-c642-4e24-abb3-133a82c45283').width('98%')"
       ],
       "metadata": {},
       "output_type": "display_data",
       "text": [
        "<IPython.core.display.Javascript at 0x10ee4f9d0>"
       ]
      },
      {
       "javascript": [
        "$('div#6ac38ecf-c642-4e24-abb3-133a82c45283').width('98%')"
       ],
       "metadata": {},
       "output_type": "display_data",
       "text": [
        "<IPython.core.display.Javascript at 0x10ee4f9d0>"
       ]
      },
      {
       "javascript": [
        "$('div#6ac38ecf-c642-4e24-abb3-133a82c45283').width('98%')"
       ],
       "metadata": {},
       "output_type": "display_data",
       "text": [
        "<IPython.core.display.Javascript at 0x10ee4f9d0>"
       ]
      },
      {
       "javascript": [
        "$('div#6ac38ecf-c642-4e24-abb3-133a82c45283').width('99%')"
       ],
       "metadata": {},
       "output_type": "display_data",
       "text": [
        "<IPython.core.display.Javascript at 0x10ee4f9d0>"
       ]
      },
      {
       "javascript": [
        "$('div#6ac38ecf-c642-4e24-abb3-133a82c45283').width('99%')"
       ],
       "metadata": {},
       "output_type": "display_data",
       "text": [
        "<IPython.core.display.Javascript at 0x10ee4f9d0>"
       ]
      },
      {
       "javascript": [
        "$('div#6ac38ecf-c642-4e24-abb3-133a82c45283').width('100%')"
       ],
       "metadata": {},
       "output_type": "display_data",
       "text": [
        "<IPython.core.display.Javascript at 0x10ee4f590>"
       ]
      },
      {
       "html": [
        "<iframe src=http://127.0.0.1:8001/9692924 width=100%% height=420 frameborder=0></iframe>"
       ],
       "metadata": {},
       "output_type": "pyout",
       "prompt_number": 3,
       "text": [
        "<DisplayNode.DisplayNodeProxy.DisplayNode instance at 0x10ee501b8>"
       ]
      }
     ],
     "prompt_number": 3
    },
    {
     "cell_type": "code",
     "collapsed": false,
     "input": [
      "# Display dynamic measurements: \n",
      "SCAN.display_measurements(scale=2)"
     ],
     "language": "python",
     "metadata": {},
     "outputs": [
      {
       "html": [
        "\n",
        "        <div style=\"border: 1px solid white; width:100%%; height:6px; background-color:rgb(246,246,246)\">\n",
        "            <div id=\"5cb9f116-1faa-46d1-815c-69d48db01a7c\" style=\"background-color:rgb(200,200,200); width:0%; height:6px\"> </div>\n",
        "        </div> \n",
        "        "
       ],
       "metadata": {},
       "output_type": "display_data",
       "text": [
        "<IPython.core.display.HTML at 0x1b7c96f10>"
       ]
      },
      {
       "javascript": [
        "$('div#5cb9f116-1faa-46d1-815c-69d48db01a7c').width('1%')"
       ],
       "metadata": {},
       "output_type": "display_data",
       "text": [
        "<IPython.core.display.Javascript at 0x1b7c8fc90>"
       ]
      },
      {
       "javascript": [
        "$('div#5cb9f116-1faa-46d1-815c-69d48db01a7c').width('1%')"
       ],
       "metadata": {},
       "output_type": "display_data",
       "text": [
        "<IPython.core.display.Javascript at 0x1b7c96fd0>"
       ]
      },
      {
       "javascript": [
        "$('div#5cb9f116-1faa-46d1-815c-69d48db01a7c').width('1%')"
       ],
       "metadata": {},
       "output_type": "display_data",
       "text": [
        "<IPython.core.display.Javascript at 0x1b7c96e50>"
       ]
      },
      {
       "javascript": [
        "$('div#5cb9f116-1faa-46d1-815c-69d48db01a7c').width('1%')"
       ],
       "metadata": {},
       "output_type": "display_data",
       "text": [
        "<IPython.core.display.Javascript at 0x1b7c96f50>"
       ]
      },
      {
       "javascript": [
        "$('div#5cb9f116-1faa-46d1-815c-69d48db01a7c').width('2%')"
       ],
       "metadata": {},
       "output_type": "display_data",
       "text": [
        "<IPython.core.display.Javascript at 0x1b7c96fd0>"
       ]
      },
      {
       "javascript": [
        "$('div#5cb9f116-1faa-46d1-815c-69d48db01a7c').width('2%')"
       ],
       "metadata": {},
       "output_type": "display_data",
       "text": [
        "<IPython.core.display.Javascript at 0x1b7c96e50>"
       ]
      },
      {
       "javascript": [
        "$('div#5cb9f116-1faa-46d1-815c-69d48db01a7c').width('3%')"
       ],
       "metadata": {},
       "output_type": "display_data",
       "text": [
        "<IPython.core.display.Javascript at 0x1b7c96f50>"
       ]
      },
      {
       "javascript": [
        "$('div#5cb9f116-1faa-46d1-815c-69d48db01a7c').width('3%')"
       ],
       "metadata": {},
       "output_type": "display_data",
       "text": [
        "<IPython.core.display.Javascript at 0x1b7c96fd0>"
       ]
      },
      {
       "javascript": [
        "$('div#5cb9f116-1faa-46d1-815c-69d48db01a7c').width('4%')"
       ],
       "metadata": {},
       "output_type": "display_data",
       "text": [
        "<IPython.core.display.Javascript at 0x1b7c96e50>"
       ]
      },
      {
       "javascript": [
        "$('div#5cb9f116-1faa-46d1-815c-69d48db01a7c').width('4%')"
       ],
       "metadata": {},
       "output_type": "display_data",
       "text": [
        "<IPython.core.display.Javascript at 0x1b7c96f50>"
       ]
      },
      {
       "javascript": [
        "$('div#5cb9f116-1faa-46d1-815c-69d48db01a7c').width('5%')"
       ],
       "metadata": {},
       "output_type": "display_data",
       "text": [
        "<IPython.core.display.Javascript at 0x1b7c96fd0>"
       ]
      },
      {
       "javascript": [
        "$('div#5cb9f116-1faa-46d1-815c-69d48db01a7c').width('5%')"
       ],
       "metadata": {},
       "output_type": "display_data",
       "text": [
        "<IPython.core.display.Javascript at 0x1b7c96e50>"
       ]
      },
      {
       "javascript": [
        "$('div#5cb9f116-1faa-46d1-815c-69d48db01a7c').width('6%')"
       ],
       "metadata": {},
       "output_type": "display_data",
       "text": [
        "<IPython.core.display.Javascript at 0x1b7c96f50>"
       ]
      },
      {
       "javascript": [
        "$('div#5cb9f116-1faa-46d1-815c-69d48db01a7c').width('6%')"
       ],
       "metadata": {},
       "output_type": "display_data",
       "text": [
        "<IPython.core.display.Javascript at 0x1b7c96fd0>"
       ]
      },
      {
       "javascript": [
        "$('div#5cb9f116-1faa-46d1-815c-69d48db01a7c').width('7%')"
       ],
       "metadata": {},
       "output_type": "display_data",
       "text": [
        "<IPython.core.display.Javascript at 0x1b7c96e50>"
       ]
      },
      {
       "javascript": [
        "$('div#5cb9f116-1faa-46d1-815c-69d48db01a7c').width('7%')"
       ],
       "metadata": {},
       "output_type": "display_data",
       "text": [
        "<IPython.core.display.Javascript at 0x1b7c96f50>"
       ]
      },
      {
       "javascript": [
        "$('div#5cb9f116-1faa-46d1-815c-69d48db01a7c').width('8%')"
       ],
       "metadata": {},
       "output_type": "display_data",
       "text": [
        "<IPython.core.display.Javascript at 0x1b7c96fd0>"
       ]
      },
      {
       "javascript": [
        "$('div#5cb9f116-1faa-46d1-815c-69d48db01a7c').width('8%')"
       ],
       "metadata": {},
       "output_type": "display_data",
       "text": [
        "<IPython.core.display.Javascript at 0x1b7c96e50>"
       ]
      },
      {
       "javascript": [
        "$('div#5cb9f116-1faa-46d1-815c-69d48db01a7c').width('9%')"
       ],
       "metadata": {},
       "output_type": "display_data",
       "text": [
        "<IPython.core.display.Javascript at 0x1b7c96f50>"
       ]
      },
      {
       "javascript": [
        "$('div#5cb9f116-1faa-46d1-815c-69d48db01a7c').width('9%')"
       ],
       "metadata": {},
       "output_type": "display_data",
       "text": [
        "<IPython.core.display.Javascript at 0x1b7c96fd0>"
       ]
      },
      {
       "javascript": [
        "$('div#5cb9f116-1faa-46d1-815c-69d48db01a7c').width('10%')"
       ],
       "metadata": {},
       "output_type": "display_data",
       "text": [
        "<IPython.core.display.Javascript at 0x1b7c96e50>"
       ]
      },
      {
       "javascript": [
        "$('div#5cb9f116-1faa-46d1-815c-69d48db01a7c').width('10%')"
       ],
       "metadata": {},
       "output_type": "display_data",
       "text": [
        "<IPython.core.display.Javascript at 0x1b7c96f50>"
       ]
      },
      {
       "javascript": [
        "$('div#5cb9f116-1faa-46d1-815c-69d48db01a7c').width('11%')"
       ],
       "metadata": {},
       "output_type": "display_data",
       "text": [
        "<IPython.core.display.Javascript at 0x1b7c96fd0>"
       ]
      },
      {
       "javascript": [
        "$('div#5cb9f116-1faa-46d1-815c-69d48db01a7c').width('11%')"
       ],
       "metadata": {},
       "output_type": "display_data",
       "text": [
        "<IPython.core.display.Javascript at 0x1b7c96e50>"
       ]
      },
      {
       "javascript": [
        "$('div#5cb9f116-1faa-46d1-815c-69d48db01a7c').width('12%')"
       ],
       "metadata": {},
       "output_type": "display_data",
       "text": [
        "<IPython.core.display.Javascript at 0x1b7c96f50>"
       ]
      },
      {
       "javascript": [
        "$('div#5cb9f116-1faa-46d1-815c-69d48db01a7c').width('12%')"
       ],
       "metadata": {},
       "output_type": "display_data",
       "text": [
        "<IPython.core.display.Javascript at 0x1b7c96fd0>"
       ]
      },
      {
       "javascript": [
        "$('div#5cb9f116-1faa-46d1-815c-69d48db01a7c').width('13%')"
       ],
       "metadata": {},
       "output_type": "display_data",
       "text": [
        "<IPython.core.display.Javascript at 0x1b7c96e50>"
       ]
      },
      {
       "javascript": [
        "$('div#5cb9f116-1faa-46d1-815c-69d48db01a7c').width('13%')"
       ],
       "metadata": {},
       "output_type": "display_data",
       "text": [
        "<IPython.core.display.Javascript at 0x1b7c96f50>"
       ]
      },
      {
       "javascript": [
        "$('div#5cb9f116-1faa-46d1-815c-69d48db01a7c').width('14%')"
       ],
       "metadata": {},
       "output_type": "display_data",
       "text": [
        "<IPython.core.display.Javascript at 0x1b7c96fd0>"
       ]
      },
      {
       "javascript": [
        "$('div#5cb9f116-1faa-46d1-815c-69d48db01a7c').width('14%')"
       ],
       "metadata": {},
       "output_type": "display_data",
       "text": [
        "<IPython.core.display.Javascript at 0x1b7c96e50>"
       ]
      },
      {
       "javascript": [
        "$('div#5cb9f116-1faa-46d1-815c-69d48db01a7c').width('15%')"
       ],
       "metadata": {},
       "output_type": "display_data",
       "text": [
        "<IPython.core.display.Javascript at 0x1b7c96f50>"
       ]
      },
      {
       "javascript": [
        "$('div#5cb9f116-1faa-46d1-815c-69d48db01a7c').width('15%')"
       ],
       "metadata": {},
       "output_type": "display_data",
       "text": [
        "<IPython.core.display.Javascript at 0x1b7c96fd0>"
       ]
      },
      {
       "javascript": [
        "$('div#5cb9f116-1faa-46d1-815c-69d48db01a7c').width('16%')"
       ],
       "metadata": {},
       "output_type": "display_data",
       "text": [
        "<IPython.core.display.Javascript at 0x1b7c96e50>"
       ]
      },
      {
       "javascript": [
        "$('div#5cb9f116-1faa-46d1-815c-69d48db01a7c').width('16%')"
       ],
       "metadata": {},
       "output_type": "display_data",
       "text": [
        "<IPython.core.display.Javascript at 0x1b7c96f50>"
       ]
      },
      {
       "javascript": [
        "$('div#5cb9f116-1faa-46d1-815c-69d48db01a7c').width('17%')"
       ],
       "metadata": {},
       "output_type": "display_data",
       "text": [
        "<IPython.core.display.Javascript at 0x1b7c96fd0>"
       ]
      },
      {
       "javascript": [
        "$('div#5cb9f116-1faa-46d1-815c-69d48db01a7c').width('17%')"
       ],
       "metadata": {},
       "output_type": "display_data",
       "text": [
        "<IPython.core.display.Javascript at 0x1b7c96e50>"
       ]
      },
      {
       "javascript": [
        "$('div#5cb9f116-1faa-46d1-815c-69d48db01a7c').width('18%')"
       ],
       "metadata": {},
       "output_type": "display_data",
       "text": [
        "<IPython.core.display.Javascript at 0x1b7c96f50>"
       ]
      },
      {
       "javascript": [
        "$('div#5cb9f116-1faa-46d1-815c-69d48db01a7c').width('18%')"
       ],
       "metadata": {},
       "output_type": "display_data",
       "text": [
        "<IPython.core.display.Javascript at 0x1b7c96fd0>"
       ]
      },
      {
       "javascript": [
        "$('div#5cb9f116-1faa-46d1-815c-69d48db01a7c').width('19%')"
       ],
       "metadata": {},
       "output_type": "display_data",
       "text": [
        "<IPython.core.display.Javascript at 0x1b7c96e50>"
       ]
      },
      {
       "javascript": [
        "$('div#5cb9f116-1faa-46d1-815c-69d48db01a7c').width('19%')"
       ],
       "metadata": {},
       "output_type": "display_data",
       "text": [
        "<IPython.core.display.Javascript at 0x1b7c96f50>"
       ]
      },
      {
       "javascript": [
        "$('div#5cb9f116-1faa-46d1-815c-69d48db01a7c').width('20%')"
       ],
       "metadata": {},
       "output_type": "display_data",
       "text": [
        "<IPython.core.display.Javascript at 0x1b7c96fd0>"
       ]
      },
      {
       "javascript": [
        "$('div#5cb9f116-1faa-46d1-815c-69d48db01a7c').width('20%')"
       ],
       "metadata": {},
       "output_type": "display_data",
       "text": [
        "<IPython.core.display.Javascript at 0x1b7c96e50>"
       ]
      },
      {
       "javascript": [
        "$('div#5cb9f116-1faa-46d1-815c-69d48db01a7c').width('21%')"
       ],
       "metadata": {},
       "output_type": "display_data",
       "text": [
        "<IPython.core.display.Javascript at 0x1b7c96f50>"
       ]
      },
      {
       "javascript": [
        "$('div#5cb9f116-1faa-46d1-815c-69d48db01a7c').width('21%')"
       ],
       "metadata": {},
       "output_type": "display_data",
       "text": [
        "<IPython.core.display.Javascript at 0x1b7c96fd0>"
       ]
      },
      {
       "javascript": [
        "$('div#5cb9f116-1faa-46d1-815c-69d48db01a7c').width('22%')"
       ],
       "metadata": {},
       "output_type": "display_data",
       "text": [
        "<IPython.core.display.Javascript at 0x1b7c96e50>"
       ]
      },
      {
       "javascript": [
        "$('div#5cb9f116-1faa-46d1-815c-69d48db01a7c').width('22%')"
       ],
       "metadata": {},
       "output_type": "display_data",
       "text": [
        "<IPython.core.display.Javascript at 0x1b7c96f50>"
       ]
      },
      {
       "javascript": [
        "$('div#5cb9f116-1faa-46d1-815c-69d48db01a7c').width('23%')"
       ],
       "metadata": {},
       "output_type": "display_data",
       "text": [
        "<IPython.core.display.Javascript at 0x1b7c96fd0>"
       ]
      },
      {
       "javascript": [
        "$('div#5cb9f116-1faa-46d1-815c-69d48db01a7c').width('23%')"
       ],
       "metadata": {},
       "output_type": "display_data",
       "text": [
        "<IPython.core.display.Javascript at 0x1b7c96e50>"
       ]
      },
      {
       "javascript": [
        "$('div#5cb9f116-1faa-46d1-815c-69d48db01a7c').width('24%')"
       ],
       "metadata": {},
       "output_type": "display_data",
       "text": [
        "<IPython.core.display.Javascript at 0x1b7c96f50>"
       ]
      },
      {
       "javascript": [
        "$('div#5cb9f116-1faa-46d1-815c-69d48db01a7c').width('24%')"
       ],
       "metadata": {},
       "output_type": "display_data",
       "text": [
        "<IPython.core.display.Javascript at 0x1b7c96fd0>"
       ]
      },
      {
       "javascript": [
        "$('div#5cb9f116-1faa-46d1-815c-69d48db01a7c').width('25%')"
       ],
       "metadata": {},
       "output_type": "display_data",
       "text": [
        "<IPython.core.display.Javascript at 0x1b7c96e50>"
       ]
      },
      {
       "javascript": [
        "$('div#5cb9f116-1faa-46d1-815c-69d48db01a7c').width('25%')"
       ],
       "metadata": {},
       "output_type": "display_data",
       "text": [
        "<IPython.core.display.Javascript at 0x1b7c96f50>"
       ]
      },
      {
       "javascript": [
        "$('div#5cb9f116-1faa-46d1-815c-69d48db01a7c').width('26%')"
       ],
       "metadata": {},
       "output_type": "display_data",
       "text": [
        "<IPython.core.display.Javascript at 0x1b7c96fd0>"
       ]
      },
      {
       "javascript": [
        "$('div#5cb9f116-1faa-46d1-815c-69d48db01a7c').width('26%')"
       ],
       "metadata": {},
       "output_type": "display_data",
       "text": [
        "<IPython.core.display.Javascript at 0x1b7c96e50>"
       ]
      },
      {
       "javascript": [
        "$('div#5cb9f116-1faa-46d1-815c-69d48db01a7c').width('27%')"
       ],
       "metadata": {},
       "output_type": "display_data",
       "text": [
        "<IPython.core.display.Javascript at 0x1b7c96f50>"
       ]
      },
      {
       "javascript": [
        "$('div#5cb9f116-1faa-46d1-815c-69d48db01a7c').width('27%')"
       ],
       "metadata": {},
       "output_type": "display_data",
       "text": [
        "<IPython.core.display.Javascript at 0x1b7c96fd0>"
       ]
      },
      {
       "javascript": [
        "$('div#5cb9f116-1faa-46d1-815c-69d48db01a7c').width('28%')"
       ],
       "metadata": {},
       "output_type": "display_data",
       "text": [
        "<IPython.core.display.Javascript at 0x1b7c96e50>"
       ]
      },
      {
       "javascript": [
        "$('div#5cb9f116-1faa-46d1-815c-69d48db01a7c').width('28%')"
       ],
       "metadata": {},
       "output_type": "display_data",
       "text": [
        "<IPython.core.display.Javascript at 0x1b7c96f50>"
       ]
      },
      {
       "javascript": [
        "$('div#5cb9f116-1faa-46d1-815c-69d48db01a7c').width('29%')"
       ],
       "metadata": {},
       "output_type": "display_data",
       "text": [
        "<IPython.core.display.Javascript at 0x1b7c96fd0>"
       ]
      },
      {
       "javascript": [
        "$('div#5cb9f116-1faa-46d1-815c-69d48db01a7c').width('29%')"
       ],
       "metadata": {},
       "output_type": "display_data",
       "text": [
        "<IPython.core.display.Javascript at 0x1b7c96e50>"
       ]
      },
      {
       "javascript": [
        "$('div#5cb9f116-1faa-46d1-815c-69d48db01a7c').width('30%')"
       ],
       "metadata": {},
       "output_type": "display_data",
       "text": [
        "<IPython.core.display.Javascript at 0x1b7c96f50>"
       ]
      },
      {
       "javascript": [
        "$('div#5cb9f116-1faa-46d1-815c-69d48db01a7c').width('30%')"
       ],
       "metadata": {},
       "output_type": "display_data",
       "text": [
        "<IPython.core.display.Javascript at 0x1b7c96fd0>"
       ]
      },
      {
       "javascript": [
        "$('div#5cb9f116-1faa-46d1-815c-69d48db01a7c').width('31%')"
       ],
       "metadata": {},
       "output_type": "display_data",
       "text": [
        "<IPython.core.display.Javascript at 0x1b7c96e50>"
       ]
      },
      {
       "javascript": [
        "$('div#5cb9f116-1faa-46d1-815c-69d48db01a7c').width('31%')"
       ],
       "metadata": {},
       "output_type": "display_data",
       "text": [
        "<IPython.core.display.Javascript at 0x1b7c96f50>"
       ]
      },
      {
       "javascript": [
        "$('div#5cb9f116-1faa-46d1-815c-69d48db01a7c').width('32%')"
       ],
       "metadata": {},
       "output_type": "display_data",
       "text": [
        "<IPython.core.display.Javascript at 0x1b7c96fd0>"
       ]
      },
      {
       "javascript": [
        "$('div#5cb9f116-1faa-46d1-815c-69d48db01a7c').width('32%')"
       ],
       "metadata": {},
       "output_type": "display_data",
       "text": [
        "<IPython.core.display.Javascript at 0x1b7c96e50>"
       ]
      },
      {
       "javascript": [
        "$('div#5cb9f116-1faa-46d1-815c-69d48db01a7c').width('33%')"
       ],
       "metadata": {},
       "output_type": "display_data",
       "text": [
        "<IPython.core.display.Javascript at 0x1b7c96f50>"
       ]
      },
      {
       "javascript": [
        "$('div#5cb9f116-1faa-46d1-815c-69d48db01a7c').width('33%')"
       ],
       "metadata": {},
       "output_type": "display_data",
       "text": [
        "<IPython.core.display.Javascript at 0x1b7c96fd0>"
       ]
      },
      {
       "javascript": [
        "$('div#5cb9f116-1faa-46d1-815c-69d48db01a7c').width('34%')"
       ],
       "metadata": {},
       "output_type": "display_data",
       "text": [
        "<IPython.core.display.Javascript at 0x1b7c96e50>"
       ]
      },
      {
       "javascript": [
        "$('div#5cb9f116-1faa-46d1-815c-69d48db01a7c').width('34%')"
       ],
       "metadata": {},
       "output_type": "display_data",
       "text": [
        "<IPython.core.display.Javascript at 0x1b7c96f50>"
       ]
      },
      {
       "javascript": [
        "$('div#5cb9f116-1faa-46d1-815c-69d48db01a7c').width('35%')"
       ],
       "metadata": {},
       "output_type": "display_data",
       "text": [
        "<IPython.core.display.Javascript at 0x1b7c96fd0>"
       ]
      },
      {
       "javascript": [
        "$('div#5cb9f116-1faa-46d1-815c-69d48db01a7c').width('35%')"
       ],
       "metadata": {},
       "output_type": "display_data",
       "text": [
        "<IPython.core.display.Javascript at 0x1b7c96e50>"
       ]
      },
      {
       "javascript": [
        "$('div#5cb9f116-1faa-46d1-815c-69d48db01a7c').width('36%')"
       ],
       "metadata": {},
       "output_type": "display_data",
       "text": [
        "<IPython.core.display.Javascript at 0x1b7c96f50>"
       ]
      },
      {
       "javascript": [
        "$('div#5cb9f116-1faa-46d1-815c-69d48db01a7c').width('36%')"
       ],
       "metadata": {},
       "output_type": "display_data",
       "text": [
        "<IPython.core.display.Javascript at 0x1b7c96fd0>"
       ]
      },
      {
       "javascript": [
        "$('div#5cb9f116-1faa-46d1-815c-69d48db01a7c').width('37%')"
       ],
       "metadata": {},
       "output_type": "display_data",
       "text": [
        "<IPython.core.display.Javascript at 0x1b7c96e50>"
       ]
      },
      {
       "javascript": [
        "$('div#5cb9f116-1faa-46d1-815c-69d48db01a7c').width('37%')"
       ],
       "metadata": {},
       "output_type": "display_data",
       "text": [
        "<IPython.core.display.Javascript at 0x1b7c96f50>"
       ]
      },
      {
       "javascript": [
        "$('div#5cb9f116-1faa-46d1-815c-69d48db01a7c').width('38%')"
       ],
       "metadata": {},
       "output_type": "display_data",
       "text": [
        "<IPython.core.display.Javascript at 0x1b7c96fd0>"
       ]
      },
      {
       "javascript": [
        "$('div#5cb9f116-1faa-46d1-815c-69d48db01a7c').width('38%')"
       ],
       "metadata": {},
       "output_type": "display_data",
       "text": [
        "<IPython.core.display.Javascript at 0x1b7c96e50>"
       ]
      },
      {
       "javascript": [
        "$('div#5cb9f116-1faa-46d1-815c-69d48db01a7c').width('39%')"
       ],
       "metadata": {},
       "output_type": "display_data",
       "text": [
        "<IPython.core.display.Javascript at 0x1b7c96f50>"
       ]
      },
      {
       "javascript": [
        "$('div#5cb9f116-1faa-46d1-815c-69d48db01a7c').width('39%')"
       ],
       "metadata": {},
       "output_type": "display_data",
       "text": [
        "<IPython.core.display.Javascript at 0x1b7c96fd0>"
       ]
      },
      {
       "javascript": [
        "$('div#5cb9f116-1faa-46d1-815c-69d48db01a7c').width('40%')"
       ],
       "metadata": {},
       "output_type": "display_data",
       "text": [
        "<IPython.core.display.Javascript at 0x1b7c96e50>"
       ]
      },
      {
       "javascript": [
        "$('div#5cb9f116-1faa-46d1-815c-69d48db01a7c').width('40%')"
       ],
       "metadata": {},
       "output_type": "display_data",
       "text": [
        "<IPython.core.display.Javascript at 0x1b7c96f50>"
       ]
      },
      {
       "javascript": [
        "$('div#5cb9f116-1faa-46d1-815c-69d48db01a7c').width('41%')"
       ],
       "metadata": {},
       "output_type": "display_data",
       "text": [
        "<IPython.core.display.Javascript at 0x1b7c96fd0>"
       ]
      },
      {
       "javascript": [
        "$('div#5cb9f116-1faa-46d1-815c-69d48db01a7c').width('41%')"
       ],
       "metadata": {},
       "output_type": "display_data",
       "text": [
        "<IPython.core.display.Javascript at 0x1b7c96e50>"
       ]
      },
      {
       "javascript": [
        "$('div#5cb9f116-1faa-46d1-815c-69d48db01a7c').width('42%')"
       ],
       "metadata": {},
       "output_type": "display_data",
       "text": [
        "<IPython.core.display.Javascript at 0x1b7c96f50>"
       ]
      },
      {
       "javascript": [
        "$('div#5cb9f116-1faa-46d1-815c-69d48db01a7c').width('42%')"
       ],
       "metadata": {},
       "output_type": "display_data",
       "text": [
        "<IPython.core.display.Javascript at 0x1b7c96fd0>"
       ]
      },
      {
       "javascript": [
        "$('div#5cb9f116-1faa-46d1-815c-69d48db01a7c').width('43%')"
       ],
       "metadata": {},
       "output_type": "display_data",
       "text": [
        "<IPython.core.display.Javascript at 0x1b7c96e50>"
       ]
      },
      {
       "javascript": [
        "$('div#5cb9f116-1faa-46d1-815c-69d48db01a7c').width('43%')"
       ],
       "metadata": {},
       "output_type": "display_data",
       "text": [
        "<IPython.core.display.Javascript at 0x1b7c96f50>"
       ]
      },
      {
       "javascript": [
        "$('div#5cb9f116-1faa-46d1-815c-69d48db01a7c').width('44%')"
       ],
       "metadata": {},
       "output_type": "display_data",
       "text": [
        "<IPython.core.display.Javascript at 0x1b7c96fd0>"
       ]
      },
      {
       "javascript": [
        "$('div#5cb9f116-1faa-46d1-815c-69d48db01a7c').width('44%')"
       ],
       "metadata": {},
       "output_type": "display_data",
       "text": [
        "<IPython.core.display.Javascript at 0x1b7c96e50>"
       ]
      },
      {
       "javascript": [
        "$('div#5cb9f116-1faa-46d1-815c-69d48db01a7c').width('45%')"
       ],
       "metadata": {},
       "output_type": "display_data",
       "text": [
        "<IPython.core.display.Javascript at 0x1b7c96f50>"
       ]
      },
      {
       "javascript": [
        "$('div#5cb9f116-1faa-46d1-815c-69d48db01a7c').width('45%')"
       ],
       "metadata": {},
       "output_type": "display_data",
       "text": [
        "<IPython.core.display.Javascript at 0x1b7c96fd0>"
       ]
      },
      {
       "javascript": [
        "$('div#5cb9f116-1faa-46d1-815c-69d48db01a7c').width('46%')"
       ],
       "metadata": {},
       "output_type": "display_data",
       "text": [
        "<IPython.core.display.Javascript at 0x1b7c96e50>"
       ]
      },
      {
       "javascript": [
        "$('div#5cb9f116-1faa-46d1-815c-69d48db01a7c').width('46%')"
       ],
       "metadata": {},
       "output_type": "display_data",
       "text": [
        "<IPython.core.display.Javascript at 0x1b7c96f50>"
       ]
      },
      {
       "javascript": [
        "$('div#5cb9f116-1faa-46d1-815c-69d48db01a7c').width('47%')"
       ],
       "metadata": {},
       "output_type": "display_data",
       "text": [
        "<IPython.core.display.Javascript at 0x1b7c96fd0>"
       ]
      },
      {
       "javascript": [
        "$('div#5cb9f116-1faa-46d1-815c-69d48db01a7c').width('47%')"
       ],
       "metadata": {},
       "output_type": "display_data",
       "text": [
        "<IPython.core.display.Javascript at 0x1b7c96e50>"
       ]
      },
      {
       "javascript": [
        "$('div#5cb9f116-1faa-46d1-815c-69d48db01a7c').width('48%')"
       ],
       "metadata": {},
       "output_type": "display_data",
       "text": [
        "<IPython.core.display.Javascript at 0x1b7c96f50>"
       ]
      },
      {
       "javascript": [
        "$('div#5cb9f116-1faa-46d1-815c-69d48db01a7c').width('48%')"
       ],
       "metadata": {},
       "output_type": "display_data",
       "text": [
        "<IPython.core.display.Javascript at 0x1b7c96fd0>"
       ]
      },
      {
       "javascript": [
        "$('div#5cb9f116-1faa-46d1-815c-69d48db01a7c').width('49%')"
       ],
       "metadata": {},
       "output_type": "display_data",
       "text": [
        "<IPython.core.display.Javascript at 0x1b7c96e50>"
       ]
      },
      {
       "javascript": [
        "$('div#5cb9f116-1faa-46d1-815c-69d48db01a7c').width('49%')"
       ],
       "metadata": {},
       "output_type": "display_data",
       "text": [
        "<IPython.core.display.Javascript at 0x1b7c96f50>"
       ]
      },
      {
       "javascript": [
        "$('div#5cb9f116-1faa-46d1-815c-69d48db01a7c').width('50%')"
       ],
       "metadata": {},
       "output_type": "display_data",
       "text": [
        "<IPython.core.display.Javascript at 0x1b7c96fd0>"
       ]
      },
      {
       "javascript": [
        "$('div#5cb9f116-1faa-46d1-815c-69d48db01a7c').width('50%')"
       ],
       "metadata": {},
       "output_type": "display_data",
       "text": [
        "<IPython.core.display.Javascript at 0x1b7c96e50>"
       ]
      },
      {
       "javascript": [
        "$('div#5cb9f116-1faa-46d1-815c-69d48db01a7c').width('51%')"
       ],
       "metadata": {},
       "output_type": "display_data",
       "text": [
        "<IPython.core.display.Javascript at 0x1b7c96f50>"
       ]
      },
      {
       "javascript": [
        "$('div#5cb9f116-1faa-46d1-815c-69d48db01a7c').width('51%')"
       ],
       "metadata": {},
       "output_type": "display_data",
       "text": [
        "<IPython.core.display.Javascript at 0x1b7c96fd0>"
       ]
      },
      {
       "javascript": [
        "$('div#5cb9f116-1faa-46d1-815c-69d48db01a7c').width('52%')"
       ],
       "metadata": {},
       "output_type": "display_data",
       "text": [
        "<IPython.core.display.Javascript at 0x1b7c96e50>"
       ]
      },
      {
       "javascript": [
        "$('div#5cb9f116-1faa-46d1-815c-69d48db01a7c').width('52%')"
       ],
       "metadata": {},
       "output_type": "display_data",
       "text": [
        "<IPython.core.display.Javascript at 0x1b7c96f50>"
       ]
      },
      {
       "javascript": [
        "$('div#5cb9f116-1faa-46d1-815c-69d48db01a7c').width('53%')"
       ],
       "metadata": {},
       "output_type": "display_data",
       "text": [
        "<IPython.core.display.Javascript at 0x1b7c96fd0>"
       ]
      },
      {
       "javascript": [
        "$('div#5cb9f116-1faa-46d1-815c-69d48db01a7c').width('53%')"
       ],
       "metadata": {},
       "output_type": "display_data",
       "text": [
        "<IPython.core.display.Javascript at 0x1b7c96e50>"
       ]
      },
      {
       "javascript": [
        "$('div#5cb9f116-1faa-46d1-815c-69d48db01a7c').width('54%')"
       ],
       "metadata": {},
       "output_type": "display_data",
       "text": [
        "<IPython.core.display.Javascript at 0x1b7c96f50>"
       ]
      },
      {
       "javascript": [
        "$('div#5cb9f116-1faa-46d1-815c-69d48db01a7c').width('54%')"
       ],
       "metadata": {},
       "output_type": "display_data",
       "text": [
        "<IPython.core.display.Javascript at 0x1b7c96fd0>"
       ]
      },
      {
       "javascript": [
        "$('div#5cb9f116-1faa-46d1-815c-69d48db01a7c').width('55%')"
       ],
       "metadata": {},
       "output_type": "display_data",
       "text": [
        "<IPython.core.display.Javascript at 0x1b7c96e50>"
       ]
      },
      {
       "javascript": [
        "$('div#5cb9f116-1faa-46d1-815c-69d48db01a7c').width('55%')"
       ],
       "metadata": {},
       "output_type": "display_data",
       "text": [
        "<IPython.core.display.Javascript at 0x1b7c96f50>"
       ]
      },
      {
       "javascript": [
        "$('div#5cb9f116-1faa-46d1-815c-69d48db01a7c').width('56%')"
       ],
       "metadata": {},
       "output_type": "display_data",
       "text": [
        "<IPython.core.display.Javascript at 0x1b7c96fd0>"
       ]
      },
      {
       "javascript": [
        "$('div#5cb9f116-1faa-46d1-815c-69d48db01a7c').width('56%')"
       ],
       "metadata": {},
       "output_type": "display_data",
       "text": [
        "<IPython.core.display.Javascript at 0x1b7c96e50>"
       ]
      },
      {
       "javascript": [
        "$('div#5cb9f116-1faa-46d1-815c-69d48db01a7c').width('57%')"
       ],
       "metadata": {},
       "output_type": "display_data",
       "text": [
        "<IPython.core.display.Javascript at 0x1b7c96f50>"
       ]
      },
      {
       "javascript": [
        "$('div#5cb9f116-1faa-46d1-815c-69d48db01a7c').width('57%')"
       ],
       "metadata": {},
       "output_type": "display_data",
       "text": [
        "<IPython.core.display.Javascript at 0x1b7c96fd0>"
       ]
      },
      {
       "javascript": [
        "$('div#5cb9f116-1faa-46d1-815c-69d48db01a7c').width('58%')"
       ],
       "metadata": {},
       "output_type": "display_data",
       "text": [
        "<IPython.core.display.Javascript at 0x1b7c96e50>"
       ]
      },
      {
       "javascript": [
        "$('div#5cb9f116-1faa-46d1-815c-69d48db01a7c').width('58%')"
       ],
       "metadata": {},
       "output_type": "display_data",
       "text": [
        "<IPython.core.display.Javascript at 0x1b7c96f50>"
       ]
      },
      {
       "javascript": [
        "$('div#5cb9f116-1faa-46d1-815c-69d48db01a7c').width('59%')"
       ],
       "metadata": {},
       "output_type": "display_data",
       "text": [
        "<IPython.core.display.Javascript at 0x1b7c96fd0>"
       ]
      },
      {
       "javascript": [
        "$('div#5cb9f116-1faa-46d1-815c-69d48db01a7c').width('59%')"
       ],
       "metadata": {},
       "output_type": "display_data",
       "text": [
        "<IPython.core.display.Javascript at 0x1b7c96e50>"
       ]
      },
      {
       "javascript": [
        "$('div#5cb9f116-1faa-46d1-815c-69d48db01a7c').width('60%')"
       ],
       "metadata": {},
       "output_type": "display_data",
       "text": [
        "<IPython.core.display.Javascript at 0x1b7c96f50>"
       ]
      },
      {
       "javascript": [
        "$('div#5cb9f116-1faa-46d1-815c-69d48db01a7c').width('60%')"
       ],
       "metadata": {},
       "output_type": "display_data",
       "text": [
        "<IPython.core.display.Javascript at 0x1b7c96fd0>"
       ]
      },
      {
       "javascript": [
        "$('div#5cb9f116-1faa-46d1-815c-69d48db01a7c').width('61%')"
       ],
       "metadata": {},
       "output_type": "display_data",
       "text": [
        "<IPython.core.display.Javascript at 0x1b7c96e50>"
       ]
      },
      {
       "javascript": [
        "$('div#5cb9f116-1faa-46d1-815c-69d48db01a7c').width('61%')"
       ],
       "metadata": {},
       "output_type": "display_data",
       "text": [
        "<IPython.core.display.Javascript at 0x1b7c96f50>"
       ]
      },
      {
       "javascript": [
        "$('div#5cb9f116-1faa-46d1-815c-69d48db01a7c').width('62%')"
       ],
       "metadata": {},
       "output_type": "display_data",
       "text": [
        "<IPython.core.display.Javascript at 0x1b7c96fd0>"
       ]
      },
      {
       "javascript": [
        "$('div#5cb9f116-1faa-46d1-815c-69d48db01a7c').width('62%')"
       ],
       "metadata": {},
       "output_type": "display_data",
       "text": [
        "<IPython.core.display.Javascript at 0x1b7c96e50>"
       ]
      },
      {
       "javascript": [
        "$('div#5cb9f116-1faa-46d1-815c-69d48db01a7c').width('63%')"
       ],
       "metadata": {},
       "output_type": "display_data",
       "text": [
        "<IPython.core.display.Javascript at 0x1b7c96f50>"
       ]
      },
      {
       "javascript": [
        "$('div#5cb9f116-1faa-46d1-815c-69d48db01a7c').width('63%')"
       ],
       "metadata": {},
       "output_type": "display_data",
       "text": [
        "<IPython.core.display.Javascript at 0x1b7c96fd0>"
       ]
      },
      {
       "javascript": [
        "$('div#5cb9f116-1faa-46d1-815c-69d48db01a7c').width('64%')"
       ],
       "metadata": {},
       "output_type": "display_data",
       "text": [
        "<IPython.core.display.Javascript at 0x1b7c96e50>"
       ]
      },
      {
       "javascript": [
        "$('div#5cb9f116-1faa-46d1-815c-69d48db01a7c').width('64%')"
       ],
       "metadata": {},
       "output_type": "display_data",
       "text": [
        "<IPython.core.display.Javascript at 0x1b7c96f50>"
       ]
      },
      {
       "javascript": [
        "$('div#5cb9f116-1faa-46d1-815c-69d48db01a7c').width('65%')"
       ],
       "metadata": {},
       "output_type": "display_data",
       "text": [
        "<IPython.core.display.Javascript at 0x1b7c96fd0>"
       ]
      },
      {
       "javascript": [
        "$('div#5cb9f116-1faa-46d1-815c-69d48db01a7c').width('65%')"
       ],
       "metadata": {},
       "output_type": "display_data",
       "text": [
        "<IPython.core.display.Javascript at 0x1b7c96e50>"
       ]
      },
      {
       "javascript": [
        "$('div#5cb9f116-1faa-46d1-815c-69d48db01a7c').width('66%')"
       ],
       "metadata": {},
       "output_type": "display_data",
       "text": [
        "<IPython.core.display.Javascript at 0x1b7c96f50>"
       ]
      },
      {
       "javascript": [
        "$('div#5cb9f116-1faa-46d1-815c-69d48db01a7c').width('66%')"
       ],
       "metadata": {},
       "output_type": "display_data",
       "text": [
        "<IPython.core.display.Javascript at 0x1b7c96fd0>"
       ]
      },
      {
       "javascript": [
        "$('div#5cb9f116-1faa-46d1-815c-69d48db01a7c').width('67%')"
       ],
       "metadata": {},
       "output_type": "display_data",
       "text": [
        "<IPython.core.display.Javascript at 0x1b7c96e50>"
       ]
      },
      {
       "javascript": [
        "$('div#5cb9f116-1faa-46d1-815c-69d48db01a7c').width('67%')"
       ],
       "metadata": {},
       "output_type": "display_data",
       "text": [
        "<IPython.core.display.Javascript at 0x1b7c96f50>"
       ]
      },
      {
       "javascript": [
        "$('div#5cb9f116-1faa-46d1-815c-69d48db01a7c').width('68%')"
       ],
       "metadata": {},
       "output_type": "display_data",
       "text": [
        "<IPython.core.display.Javascript at 0x1b7c96fd0>"
       ]
      },
      {
       "javascript": [
        "$('div#5cb9f116-1faa-46d1-815c-69d48db01a7c').width('68%')"
       ],
       "metadata": {},
       "output_type": "display_data",
       "text": [
        "<IPython.core.display.Javascript at 0x1b7c96e50>"
       ]
      },
      {
       "javascript": [
        "$('div#5cb9f116-1faa-46d1-815c-69d48db01a7c').width('69%')"
       ],
       "metadata": {},
       "output_type": "display_data",
       "text": [
        "<IPython.core.display.Javascript at 0x1b7c96f50>"
       ]
      },
      {
       "javascript": [
        "$('div#5cb9f116-1faa-46d1-815c-69d48db01a7c').width('69%')"
       ],
       "metadata": {},
       "output_type": "display_data",
       "text": [
        "<IPython.core.display.Javascript at 0x1b7c96fd0>"
       ]
      },
      {
       "javascript": [
        "$('div#5cb9f116-1faa-46d1-815c-69d48db01a7c').width('70%')"
       ],
       "metadata": {},
       "output_type": "display_data",
       "text": [
        "<IPython.core.display.Javascript at 0x1b7c96e50>"
       ]
      },
      {
       "javascript": [
        "$('div#5cb9f116-1faa-46d1-815c-69d48db01a7c').width('70%')"
       ],
       "metadata": {},
       "output_type": "display_data",
       "text": [
        "<IPython.core.display.Javascript at 0x1b7c96f50>"
       ]
      },
      {
       "javascript": [
        "$('div#5cb9f116-1faa-46d1-815c-69d48db01a7c').width('71%')"
       ],
       "metadata": {},
       "output_type": "display_data",
       "text": [
        "<IPython.core.display.Javascript at 0x1b7c96fd0>"
       ]
      },
      {
       "javascript": [
        "$('div#5cb9f116-1faa-46d1-815c-69d48db01a7c').width('71%')"
       ],
       "metadata": {},
       "output_type": "display_data",
       "text": [
        "<IPython.core.display.Javascript at 0x1b7c96e50>"
       ]
      },
      {
       "javascript": [
        "$('div#5cb9f116-1faa-46d1-815c-69d48db01a7c').width('72%')"
       ],
       "metadata": {},
       "output_type": "display_data",
       "text": [
        "<IPython.core.display.Javascript at 0x1b7c96f50>"
       ]
      },
      {
       "javascript": [
        "$('div#5cb9f116-1faa-46d1-815c-69d48db01a7c').width('72%')"
       ],
       "metadata": {},
       "output_type": "display_data",
       "text": [
        "<IPython.core.display.Javascript at 0x1b7c96fd0>"
       ]
      },
      {
       "javascript": [
        "$('div#5cb9f116-1faa-46d1-815c-69d48db01a7c').width('73%')"
       ],
       "metadata": {},
       "output_type": "display_data",
       "text": [
        "<IPython.core.display.Javascript at 0x1b7c96e50>"
       ]
      },
      {
       "javascript": [
        "$('div#5cb9f116-1faa-46d1-815c-69d48db01a7c').width('73%')"
       ],
       "metadata": {},
       "output_type": "display_data",
       "text": [
        "<IPython.core.display.Javascript at 0x1b7c96f50>"
       ]
      },
      {
       "javascript": [
        "$('div#5cb9f116-1faa-46d1-815c-69d48db01a7c').width('74%')"
       ],
       "metadata": {},
       "output_type": "display_data",
       "text": [
        "<IPython.core.display.Javascript at 0x1b7c96fd0>"
       ]
      },
      {
       "javascript": [
        "$('div#5cb9f116-1faa-46d1-815c-69d48db01a7c').width('74%')"
       ],
       "metadata": {},
       "output_type": "display_data",
       "text": [
        "<IPython.core.display.Javascript at 0x1b7c96e50>"
       ]
      },
      {
       "javascript": [
        "$('div#5cb9f116-1faa-46d1-815c-69d48db01a7c').width('75%')"
       ],
       "metadata": {},
       "output_type": "display_data",
       "text": [
        "<IPython.core.display.Javascript at 0x1b7c96f50>"
       ]
      },
      {
       "javascript": [
        "$('div#5cb9f116-1faa-46d1-815c-69d48db01a7c').width('75%')"
       ],
       "metadata": {},
       "output_type": "display_data",
       "text": [
        "<IPython.core.display.Javascript at 0x1b7c96fd0>"
       ]
      },
      {
       "javascript": [
        "$('div#5cb9f116-1faa-46d1-815c-69d48db01a7c').width('76%')"
       ],
       "metadata": {},
       "output_type": "display_data",
       "text": [
        "<IPython.core.display.Javascript at 0x1b7c96e50>"
       ]
      },
      {
       "javascript": [
        "$('div#5cb9f116-1faa-46d1-815c-69d48db01a7c').width('76%')"
       ],
       "metadata": {},
       "output_type": "display_data",
       "text": [
        "<IPython.core.display.Javascript at 0x1b7c96f50>"
       ]
      },
      {
       "javascript": [
        "$('div#5cb9f116-1faa-46d1-815c-69d48db01a7c').width('77%')"
       ],
       "metadata": {},
       "output_type": "display_data",
       "text": [
        "<IPython.core.display.Javascript at 0x1b7c96fd0>"
       ]
      },
      {
       "javascript": [
        "$('div#5cb9f116-1faa-46d1-815c-69d48db01a7c').width('77%')"
       ],
       "metadata": {},
       "output_type": "display_data",
       "text": [
        "<IPython.core.display.Javascript at 0x1b7c96e50>"
       ]
      },
      {
       "javascript": [
        "$('div#5cb9f116-1faa-46d1-815c-69d48db01a7c').width('78%')"
       ],
       "metadata": {},
       "output_type": "display_data",
       "text": [
        "<IPython.core.display.Javascript at 0x1b7c96f50>"
       ]
      },
      {
       "javascript": [
        "$('div#5cb9f116-1faa-46d1-815c-69d48db01a7c').width('78%')"
       ],
       "metadata": {},
       "output_type": "display_data",
       "text": [
        "<IPython.core.display.Javascript at 0x1b7c96fd0>"
       ]
      },
      {
       "javascript": [
        "$('div#5cb9f116-1faa-46d1-815c-69d48db01a7c').width('79%')"
       ],
       "metadata": {},
       "output_type": "display_data",
       "text": [
        "<IPython.core.display.Javascript at 0x1b7c96e50>"
       ]
      },
      {
       "javascript": [
        "$('div#5cb9f116-1faa-46d1-815c-69d48db01a7c').width('79%')"
       ],
       "metadata": {},
       "output_type": "display_data",
       "text": [
        "<IPython.core.display.Javascript at 0x1b7c96f50>"
       ]
      },
      {
       "javascript": [
        "$('div#5cb9f116-1faa-46d1-815c-69d48db01a7c').width('80%')"
       ],
       "metadata": {},
       "output_type": "display_data",
       "text": [
        "<IPython.core.display.Javascript at 0x1b7c96fd0>"
       ]
      },
      {
       "javascript": [
        "$('div#5cb9f116-1faa-46d1-815c-69d48db01a7c').width('80%')"
       ],
       "metadata": {},
       "output_type": "display_data",
       "text": [
        "<IPython.core.display.Javascript at 0x1b7c96e50>"
       ]
      },
      {
       "javascript": [
        "$('div#5cb9f116-1faa-46d1-815c-69d48db01a7c').width('81%')"
       ],
       "metadata": {},
       "output_type": "display_data",
       "text": [
        "<IPython.core.display.Javascript at 0x1b7c96f50>"
       ]
      },
      {
       "javascript": [
        "$('div#5cb9f116-1faa-46d1-815c-69d48db01a7c').width('81%')"
       ],
       "metadata": {},
       "output_type": "display_data",
       "text": [
        "<IPython.core.display.Javascript at 0x1b7c96fd0>"
       ]
      },
      {
       "javascript": [
        "$('div#5cb9f116-1faa-46d1-815c-69d48db01a7c').width('82%')"
       ],
       "metadata": {},
       "output_type": "display_data",
       "text": [
        "<IPython.core.display.Javascript at 0x1b7c96e50>"
       ]
      },
      {
       "javascript": [
        "$('div#5cb9f116-1faa-46d1-815c-69d48db01a7c').width('82%')"
       ],
       "metadata": {},
       "output_type": "display_data",
       "text": [
        "<IPython.core.display.Javascript at 0x1b7c96f50>"
       ]
      },
      {
       "javascript": [
        "$('div#5cb9f116-1faa-46d1-815c-69d48db01a7c').width('83%')"
       ],
       "metadata": {},
       "output_type": "display_data",
       "text": [
        "<IPython.core.display.Javascript at 0x1b7c96fd0>"
       ]
      },
      {
       "javascript": [
        "$('div#5cb9f116-1faa-46d1-815c-69d48db01a7c').width('83%')"
       ],
       "metadata": {},
       "output_type": "display_data",
       "text": [
        "<IPython.core.display.Javascript at 0x1b7c96e50>"
       ]
      },
      {
       "javascript": [
        "$('div#5cb9f116-1faa-46d1-815c-69d48db01a7c').width('84%')"
       ],
       "metadata": {},
       "output_type": "display_data",
       "text": [
        "<IPython.core.display.Javascript at 0x1b7c96f50>"
       ]
      },
      {
       "javascript": [
        "$('div#5cb9f116-1faa-46d1-815c-69d48db01a7c').width('84%')"
       ],
       "metadata": {},
       "output_type": "display_data",
       "text": [
        "<IPython.core.display.Javascript at 0x1b7c96fd0>"
       ]
      },
      {
       "javascript": [
        "$('div#5cb9f116-1faa-46d1-815c-69d48db01a7c').width('85%')"
       ],
       "metadata": {},
       "output_type": "display_data",
       "text": [
        "<IPython.core.display.Javascript at 0x1b7c96e50>"
       ]
      },
      {
       "javascript": [
        "$('div#5cb9f116-1faa-46d1-815c-69d48db01a7c').width('85%')"
       ],
       "metadata": {},
       "output_type": "display_data",
       "text": [
        "<IPython.core.display.Javascript at 0x1b7c96f50>"
       ]
      },
      {
       "javascript": [
        "$('div#5cb9f116-1faa-46d1-815c-69d48db01a7c').width('86%')"
       ],
       "metadata": {},
       "output_type": "display_data",
       "text": [
        "<IPython.core.display.Javascript at 0x1b7c96fd0>"
       ]
      },
      {
       "javascript": [
        "$('div#5cb9f116-1faa-46d1-815c-69d48db01a7c').width('86%')"
       ],
       "metadata": {},
       "output_type": "display_data",
       "text": [
        "<IPython.core.display.Javascript at 0x1b7c96e50>"
       ]
      },
      {
       "javascript": [
        "$('div#5cb9f116-1faa-46d1-815c-69d48db01a7c').width('87%')"
       ],
       "metadata": {},
       "output_type": "display_data",
       "text": [
        "<IPython.core.display.Javascript at 0x1b7c96f50>"
       ]
      },
      {
       "javascript": [
        "$('div#5cb9f116-1faa-46d1-815c-69d48db01a7c').width('87%')"
       ],
       "metadata": {},
       "output_type": "display_data",
       "text": [
        "<IPython.core.display.Javascript at 0x1b7c96fd0>"
       ]
      },
      {
       "javascript": [
        "$('div#5cb9f116-1faa-46d1-815c-69d48db01a7c').width('88%')"
       ],
       "metadata": {},
       "output_type": "display_data",
       "text": [
        "<IPython.core.display.Javascript at 0x1b7c96e50>"
       ]
      },
      {
       "javascript": [
        "$('div#5cb9f116-1faa-46d1-815c-69d48db01a7c').width('88%')"
       ],
       "metadata": {},
       "output_type": "display_data",
       "text": [
        "<IPython.core.display.Javascript at 0x1b7c96f50>"
       ]
      },
      {
       "javascript": [
        "$('div#5cb9f116-1faa-46d1-815c-69d48db01a7c').width('89%')"
       ],
       "metadata": {},
       "output_type": "display_data",
       "text": [
        "<IPython.core.display.Javascript at 0x1b7c96fd0>"
       ]
      },
      {
       "javascript": [
        "$('div#5cb9f116-1faa-46d1-815c-69d48db01a7c').width('89%')"
       ],
       "metadata": {},
       "output_type": "display_data",
       "text": [
        "<IPython.core.display.Javascript at 0x1b7c96e50>"
       ]
      },
      {
       "javascript": [
        "$('div#5cb9f116-1faa-46d1-815c-69d48db01a7c').width('90%')"
       ],
       "metadata": {},
       "output_type": "display_data",
       "text": [
        "<IPython.core.display.Javascript at 0x1b7c96f50>"
       ]
      },
      {
       "javascript": [
        "$('div#5cb9f116-1faa-46d1-815c-69d48db01a7c').width('90%')"
       ],
       "metadata": {},
       "output_type": "display_data",
       "text": [
        "<IPython.core.display.Javascript at 0x1b7c96fd0>"
       ]
      },
      {
       "javascript": [
        "$('div#5cb9f116-1faa-46d1-815c-69d48db01a7c').width('91%')"
       ],
       "metadata": {},
       "output_type": "display_data",
       "text": [
        "<IPython.core.display.Javascript at 0x1b7c96e50>"
       ]
      },
      {
       "javascript": [
        "$('div#5cb9f116-1faa-46d1-815c-69d48db01a7c').width('91%')"
       ],
       "metadata": {},
       "output_type": "display_data",
       "text": [
        "<IPython.core.display.Javascript at 0x1b7c96f50>"
       ]
      },
      {
       "javascript": [
        "$('div#5cb9f116-1faa-46d1-815c-69d48db01a7c').width('92%')"
       ],
       "metadata": {},
       "output_type": "display_data",
       "text": [
        "<IPython.core.display.Javascript at 0x1b7c96fd0>"
       ]
      },
      {
       "javascript": [
        "$('div#5cb9f116-1faa-46d1-815c-69d48db01a7c').width('92%')"
       ],
       "metadata": {},
       "output_type": "display_data",
       "text": [
        "<IPython.core.display.Javascript at 0x1b7c96e50>"
       ]
      },
      {
       "javascript": [
        "$('div#5cb9f116-1faa-46d1-815c-69d48db01a7c').width('93%')"
       ],
       "metadata": {},
       "output_type": "display_data",
       "text": [
        "<IPython.core.display.Javascript at 0x1b7c96f50>"
       ]
      },
      {
       "javascript": [
        "$('div#5cb9f116-1faa-46d1-815c-69d48db01a7c').width('93%')"
       ],
       "metadata": {},
       "output_type": "display_data",
       "text": [
        "<IPython.core.display.Javascript at 0x1b7c96fd0>"
       ]
      },
      {
       "javascript": [
        "$('div#5cb9f116-1faa-46d1-815c-69d48db01a7c').width('94%')"
       ],
       "metadata": {},
       "output_type": "display_data",
       "text": [
        "<IPython.core.display.Javascript at 0x1b7c96e50>"
       ]
      },
      {
       "javascript": [
        "$('div#5cb9f116-1faa-46d1-815c-69d48db01a7c').width('94%')"
       ],
       "metadata": {},
       "output_type": "display_data",
       "text": [
        "<IPython.core.display.Javascript at 0x1b7c96f50>"
       ]
      },
      {
       "javascript": [
        "$('div#5cb9f116-1faa-46d1-815c-69d48db01a7c').width('95%')"
       ],
       "metadata": {},
       "output_type": "display_data",
       "text": [
        "<IPython.core.display.Javascript at 0x1b7c96fd0>"
       ]
      },
      {
       "javascript": [
        "$('div#5cb9f116-1faa-46d1-815c-69d48db01a7c').width('95%')"
       ],
       "metadata": {},
       "output_type": "display_data",
       "text": [
        "<IPython.core.display.Javascript at 0x1b7c96e50>"
       ]
      },
      {
       "javascript": [
        "$('div#5cb9f116-1faa-46d1-815c-69d48db01a7c').width('96%')"
       ],
       "metadata": {},
       "output_type": "display_data",
       "text": [
        "<IPython.core.display.Javascript at 0x1b7c96f50>"
       ]
      },
      {
       "javascript": [
        "$('div#5cb9f116-1faa-46d1-815c-69d48db01a7c').width('96%')"
       ],
       "metadata": {},
       "output_type": "display_data",
       "text": [
        "<IPython.core.display.Javascript at 0x1b7c96fd0>"
       ]
      },
      {
       "javascript": [
        "$('div#5cb9f116-1faa-46d1-815c-69d48db01a7c').width('97%')"
       ],
       "metadata": {},
       "output_type": "display_data",
       "text": [
        "<IPython.core.display.Javascript at 0x1b7c96e50>"
       ]
      },
      {
       "javascript": [
        "$('div#5cb9f116-1faa-46d1-815c-69d48db01a7c').width('97%')"
       ],
       "metadata": {},
       "output_type": "display_data",
       "text": [
        "<IPython.core.display.Javascript at 0x1b7c96f50>"
       ]
      },
      {
       "javascript": [
        "$('div#5cb9f116-1faa-46d1-815c-69d48db01a7c').width('98%')"
       ],
       "metadata": {},
       "output_type": "display_data",
       "text": [
        "<IPython.core.display.Javascript at 0x1b7c96fd0>"
       ]
      },
      {
       "javascript": [
        "$('div#5cb9f116-1faa-46d1-815c-69d48db01a7c').width('98%')"
       ],
       "metadata": {},
       "output_type": "display_data",
       "text": [
        "<IPython.core.display.Javascript at 0x1b7c96e50>"
       ]
      },
      {
       "javascript": [
        "$('div#5cb9f116-1faa-46d1-815c-69d48db01a7c').width('99%')"
       ],
       "metadata": {},
       "output_type": "display_data",
       "text": [
        "<IPython.core.display.Javascript at 0x1b7c96f50>"
       ]
      },
      {
       "javascript": [
        "$('div#5cb9f116-1faa-46d1-815c-69d48db01a7c').width('99%')"
       ],
       "metadata": {},
       "output_type": "display_data",
       "text": [
        "<IPython.core.display.Javascript at 0x1b7c96fd0>"
       ]
      },
      {
       "javascript": [
        "$('div#5cb9f116-1faa-46d1-815c-69d48db01a7c').width('100%')"
       ],
       "metadata": {},
       "output_type": "display_data",
       "text": [
        "<IPython.core.display.Javascript at 0x1b7c96f90>"
       ]
      },
      {
       "html": [
        "<iframe src=http://127.0.0.1:8001/1766841 width=100%% height=420 frameborder=0></iframe>"
       ],
       "metadata": {},
       "output_type": "pyout",
       "prompt_number": 4,
       "text": [
        "<DisplayNode.DisplayNodeProxy.DisplayNode instance at 0x1c6034cf8>"
       ]
      }
     ],
     "prompt_number": 4
    },
    {
     "cell_type": "code",
     "collapsed": false,
     "input": [
      "activity = SCAN.static.estimate_activity(iterations=5, subset_size=120) \n",
      "SCAN.static.volume_render(activity,scale=8)"
     ],
     "language": "python",
     "metadata": {},
     "outputs": [
      {
       "html": [
        "\n",
        "        <div style=\"border: 1px solid white; width:100%%; height:6px; background-color:rgb(200,228,246)\">\n",
        "            <div id=\"170e0abc-021c-473b-96db-ae88f873a958\" style=\"background-color:rgb(47,128,246); width:0%; height:6px\"> </div>\n",
        "        </div> \n",
        "        "
       ],
       "metadata": {},
       "output_type": "display_data",
       "text": [
        "<IPython.core.display.HTML at 0x1c8dd6050>"
       ]
      },
      {
       "javascript": [
        "$('div#170e0abc-021c-473b-96db-ae88f873a958').width('1%')"
       ],
       "metadata": {},
       "output_type": "display_data",
       "text": [
        "<IPython.core.display.Javascript at 0x1c8dd60d0>"
       ]
      },
      {
       "javascript": [
        "$('div#170e0abc-021c-473b-96db-ae88f873a958').width('20%')"
       ],
       "metadata": {},
       "output_type": "display_data",
       "text": [
        "<IPython.core.display.Javascript at 0x1c8dd6fd0>"
       ]
      },
      {
       "javascript": [
        "$('div#170e0abc-021c-473b-96db-ae88f873a958').width('40%')"
       ],
       "metadata": {},
       "output_type": "display_data",
       "text": [
        "<IPython.core.display.Javascript at 0x10ee4f210>"
       ]
      },
      {
       "javascript": [
        "$('div#170e0abc-021c-473b-96db-ae88f873a958').width('60%')"
       ],
       "metadata": {},
       "output_type": "display_data",
       "text": [
        "<IPython.core.display.Javascript at 0x1029ba1d0>"
       ]
      },
      {
       "javascript": [
        "$('div#170e0abc-021c-473b-96db-ae88f873a958').width('80%')"
       ],
       "metadata": {},
       "output_type": "display_data",
       "text": [
        "<IPython.core.display.Javascript at 0x1c8dd6fd0>"
       ]
      },
      {
       "javascript": [
        "$('div#170e0abc-021c-473b-96db-ae88f873a958').width('100%')"
       ],
       "metadata": {},
       "output_type": "display_data",
       "text": [
        "<IPython.core.display.Javascript at 0x10ee4f210>"
       ]
      },
      {
       "javascript": [
        "$('div#170e0abc-021c-473b-96db-ae88f873a958').width('100%')"
       ],
       "metadata": {},
       "output_type": "display_data",
       "text": [
        "<IPython.core.display.Javascript at 0x10ee4f210>"
       ]
      },
      {
       "html": [
        "\n",
        "        <div style=\"border: 1px solid white; width:100%%; height:6px; background-color:rgb(246,246,246)\">\n",
        "            <div id=\"f51c3d78-362a-459e-bd8d-0ec7eff338f4\" style=\"background-color:rgb(200,200,200); width:0%; height:6px\"> </div>\n",
        "        </div> \n",
        "        "
       ],
       "metadata": {},
       "output_type": "display_data",
       "text": [
        "<IPython.core.display.HTML at 0x1c8dd6cd0>"
       ]
      },
      {
       "javascript": [
        "$('div#f51c3d78-362a-459e-bd8d-0ec7eff338f4').width('1%')"
       ],
       "metadata": {},
       "output_type": "display_data",
       "text": [
        "<IPython.core.display.Javascript at 0x1c8dd6a90>"
       ]
      },
      {
       "javascript": [
        "$('div#f51c3d78-362a-459e-bd8d-0ec7eff338f4').width('1%')"
       ],
       "metadata": {},
       "output_type": "display_data",
       "text": [
        "<IPython.core.display.Javascript at 0x1c8dd6a90>"
       ]
      },
      {
       "javascript": [
        "$('div#f51c3d78-362a-459e-bd8d-0ec7eff338f4').width('1%')"
       ],
       "metadata": {},
       "output_type": "display_data",
       "text": [
        "<IPython.core.display.Javascript at 0x1c8dd6a90>"
       ]
      },
      {
       "javascript": [
        "$('div#f51c3d78-362a-459e-bd8d-0ec7eff338f4').width('1%')"
       ],
       "metadata": {},
       "output_type": "display_data",
       "text": [
        "<IPython.core.display.Javascript at 0x1c8dd6a90>"
       ]
      },
      {
       "javascript": [
        "$('div#f51c3d78-362a-459e-bd8d-0ec7eff338f4').width('2%')"
       ],
       "metadata": {},
       "output_type": "display_data",
       "text": [
        "<IPython.core.display.Javascript at 0x1c8dd6a90>"
       ]
      },
      {
       "javascript": [
        "$('div#f51c3d78-362a-459e-bd8d-0ec7eff338f4').width('2%')"
       ],
       "metadata": {},
       "output_type": "display_data",
       "text": [
        "<IPython.core.display.Javascript at 0x1c8dd6a90>"
       ]
      },
      {
       "javascript": [
        "$('div#f51c3d78-362a-459e-bd8d-0ec7eff338f4').width('3%')"
       ],
       "metadata": {},
       "output_type": "display_data",
       "text": [
        "<IPython.core.display.Javascript at 0x1c8dd6a90>"
       ]
      },
      {
       "javascript": [
        "$('div#f51c3d78-362a-459e-bd8d-0ec7eff338f4').width('3%')"
       ],
       "metadata": {},
       "output_type": "display_data",
       "text": [
        "<IPython.core.display.Javascript at 0x1c8dd6a90>"
       ]
      },
      {
       "javascript": [
        "$('div#f51c3d78-362a-459e-bd8d-0ec7eff338f4').width('4%')"
       ],
       "metadata": {},
       "output_type": "display_data",
       "text": [
        "<IPython.core.display.Javascript at 0x1c8dd6a90>"
       ]
      },
      {
       "javascript": [
        "$('div#f51c3d78-362a-459e-bd8d-0ec7eff338f4').width('5%')"
       ],
       "metadata": {},
       "output_type": "display_data",
       "text": [
        "<IPython.core.display.Javascript at 0x1c8dd6a90>"
       ]
      },
      {
       "javascript": [
        "$('div#f51c3d78-362a-459e-bd8d-0ec7eff338f4').width('5%')"
       ],
       "metadata": {},
       "output_type": "display_data",
       "text": [
        "<IPython.core.display.Javascript at 0x1c8dd6a90>"
       ]
      },
      {
       "javascript": [
        "$('div#f51c3d78-362a-459e-bd8d-0ec7eff338f4').width('6%')"
       ],
       "metadata": {},
       "output_type": "display_data",
       "text": [
        "<IPython.core.display.Javascript at 0x1c8dd6a90>"
       ]
      },
      {
       "javascript": [
        "$('div#f51c3d78-362a-459e-bd8d-0ec7eff338f4').width('6%')"
       ],
       "metadata": {},
       "output_type": "display_data",
       "text": [
        "<IPython.core.display.Javascript at 0x1c8dd6a90>"
       ]
      },
      {
       "javascript": [
        "$('div#f51c3d78-362a-459e-bd8d-0ec7eff338f4').width('7%')"
       ],
       "metadata": {},
       "output_type": "display_data",
       "text": [
        "<IPython.core.display.Javascript at 0x1c8dd6a90>"
       ]
      },
      {
       "javascript": [
        "$('div#f51c3d78-362a-459e-bd8d-0ec7eff338f4').width('7%')"
       ],
       "metadata": {},
       "output_type": "display_data",
       "text": [
        "<IPython.core.display.Javascript at 0x1c8dd6a90>"
       ]
      },
      {
       "javascript": [
        "$('div#f51c3d78-362a-459e-bd8d-0ec7eff338f4').width('8%')"
       ],
       "metadata": {},
       "output_type": "display_data",
       "text": [
        "<IPython.core.display.Javascript at 0x1c8dd6a90>"
       ]
      },
      {
       "javascript": [
        "$('div#f51c3d78-362a-459e-bd8d-0ec7eff338f4').width('8%')"
       ],
       "metadata": {},
       "output_type": "display_data",
       "text": [
        "<IPython.core.display.Javascript at 0x1c8dd6a90>"
       ]
      },
      {
       "javascript": [
        "$('div#f51c3d78-362a-459e-bd8d-0ec7eff338f4').width('9%')"
       ],
       "metadata": {},
       "output_type": "display_data",
       "text": [
        "<IPython.core.display.Javascript at 0x1c8dd6a90>"
       ]
      },
      {
       "javascript": [
        "$('div#f51c3d78-362a-459e-bd8d-0ec7eff338f4').width('10%')"
       ],
       "metadata": {},
       "output_type": "display_data",
       "text": [
        "<IPython.core.display.Javascript at 0x1c8dd6a90>"
       ]
      },
      {
       "javascript": [
        "$('div#f51c3d78-362a-459e-bd8d-0ec7eff338f4').width('10%')"
       ],
       "metadata": {},
       "output_type": "display_data",
       "text": [
        "<IPython.core.display.Javascript at 0x1c8dd6a90>"
       ]
      },
      {
       "javascript": [
        "$('div#f51c3d78-362a-459e-bd8d-0ec7eff338f4').width('11%')"
       ],
       "metadata": {},
       "output_type": "display_data",
       "text": [
        "<IPython.core.display.Javascript at 0x1c8dd6a90>"
       ]
      },
      {
       "javascript": [
        "$('div#f51c3d78-362a-459e-bd8d-0ec7eff338f4').width('11%')"
       ],
       "metadata": {},
       "output_type": "display_data",
       "text": [
        "<IPython.core.display.Javascript at 0x1c8dd6a90>"
       ]
      },
      {
       "javascript": [
        "$('div#f51c3d78-362a-459e-bd8d-0ec7eff338f4').width('12%')"
       ],
       "metadata": {},
       "output_type": "display_data",
       "text": [
        "<IPython.core.display.Javascript at 0x1c8dd6a90>"
       ]
      },
      {
       "javascript": [
        "$('div#f51c3d78-362a-459e-bd8d-0ec7eff338f4').width('12%')"
       ],
       "metadata": {},
       "output_type": "display_data",
       "text": [
        "<IPython.core.display.Javascript at 0x1c8dd6a90>"
       ]
      },
      {
       "javascript": [
        "$('div#f51c3d78-362a-459e-bd8d-0ec7eff338f4').width('13%')"
       ],
       "metadata": {},
       "output_type": "display_data",
       "text": [
        "<IPython.core.display.Javascript at 0x1c8dd6a90>"
       ]
      },
      {
       "javascript": [
        "$('div#f51c3d78-362a-459e-bd8d-0ec7eff338f4').width('13%')"
       ],
       "metadata": {},
       "output_type": "display_data",
       "text": [
        "<IPython.core.display.Javascript at 0x1c8dd6a90>"
       ]
      },
      {
       "javascript": [
        "$('div#f51c3d78-362a-459e-bd8d-0ec7eff338f4').width('14%')"
       ],
       "metadata": {},
       "output_type": "display_data",
       "text": [
        "<IPython.core.display.Javascript at 0x1c8dd6a90>"
       ]
      },
      {
       "javascript": [
        "$('div#f51c3d78-362a-459e-bd8d-0ec7eff338f4').width('15%')"
       ],
       "metadata": {},
       "output_type": "display_data",
       "text": [
        "<IPython.core.display.Javascript at 0x1c8dd6a90>"
       ]
      },
      {
       "javascript": [
        "$('div#f51c3d78-362a-459e-bd8d-0ec7eff338f4').width('15%')"
       ],
       "metadata": {},
       "output_type": "display_data",
       "text": [
        "<IPython.core.display.Javascript at 0x1c8dd6a90>"
       ]
      },
      {
       "javascript": [
        "$('div#f51c3d78-362a-459e-bd8d-0ec7eff338f4').width('16%')"
       ],
       "metadata": {},
       "output_type": "display_data",
       "text": [
        "<IPython.core.display.Javascript at 0x1c8dd6a90>"
       ]
      },
      {
       "javascript": [
        "$('div#f51c3d78-362a-459e-bd8d-0ec7eff338f4').width('16%')"
       ],
       "metadata": {},
       "output_type": "display_data",
       "text": [
        "<IPython.core.display.Javascript at 0x1c8dd6a90>"
       ]
      },
      {
       "javascript": [
        "$('div#f51c3d78-362a-459e-bd8d-0ec7eff338f4').width('17%')"
       ],
       "metadata": {},
       "output_type": "display_data",
       "text": [
        "<IPython.core.display.Javascript at 0x1c8dd6a90>"
       ]
      },
      {
       "javascript": [
        "$('div#f51c3d78-362a-459e-bd8d-0ec7eff338f4').width('17%')"
       ],
       "metadata": {},
       "output_type": "display_data",
       "text": [
        "<IPython.core.display.Javascript at 0x1c8dd6a90>"
       ]
      },
      {
       "javascript": [
        "$('div#f51c3d78-362a-459e-bd8d-0ec7eff338f4').width('18%')"
       ],
       "metadata": {},
       "output_type": "display_data",
       "text": [
        "<IPython.core.display.Javascript at 0x1c8dd6a90>"
       ]
      },
      {
       "javascript": [
        "$('div#f51c3d78-362a-459e-bd8d-0ec7eff338f4').width('18%')"
       ],
       "metadata": {},
       "output_type": "display_data",
       "text": [
        "<IPython.core.display.Javascript at 0x1c8dd6a90>"
       ]
      },
      {
       "javascript": [
        "$('div#f51c3d78-362a-459e-bd8d-0ec7eff338f4').width('19%')"
       ],
       "metadata": {},
       "output_type": "display_data",
       "text": [
        "<IPython.core.display.Javascript at 0x1c8dd6a90>"
       ]
      },
      {
       "javascript": [
        "$('div#f51c3d78-362a-459e-bd8d-0ec7eff338f4').width('20%')"
       ],
       "metadata": {},
       "output_type": "display_data",
       "text": [
        "<IPython.core.display.Javascript at 0x1c8dd6a90>"
       ]
      },
      {
       "javascript": [
        "$('div#f51c3d78-362a-459e-bd8d-0ec7eff338f4').width('20%')"
       ],
       "metadata": {},
       "output_type": "display_data",
       "text": [
        "<IPython.core.display.Javascript at 0x1c8dd6a90>"
       ]
      },
      {
       "javascript": [
        "$('div#f51c3d78-362a-459e-bd8d-0ec7eff338f4').width('21%')"
       ],
       "metadata": {},
       "output_type": "display_data",
       "text": [
        "<IPython.core.display.Javascript at 0x1c8dd6a90>"
       ]
      },
      {
       "javascript": [
        "$('div#f51c3d78-362a-459e-bd8d-0ec7eff338f4').width('21%')"
       ],
       "metadata": {},
       "output_type": "display_data",
       "text": [
        "<IPython.core.display.Javascript at 0x1c8dd6a90>"
       ]
      },
      {
       "javascript": [
        "$('div#f51c3d78-362a-459e-bd8d-0ec7eff338f4').width('22%')"
       ],
       "metadata": {},
       "output_type": "display_data",
       "text": [
        "<IPython.core.display.Javascript at 0x1c8dd6a90>"
       ]
      },
      {
       "javascript": [
        "$('div#f51c3d78-362a-459e-bd8d-0ec7eff338f4').width('22%')"
       ],
       "metadata": {},
       "output_type": "display_data",
       "text": [
        "<IPython.core.display.Javascript at 0x1c8dd6a90>"
       ]
      },
      {
       "javascript": [
        "$('div#f51c3d78-362a-459e-bd8d-0ec7eff338f4').width('23%')"
       ],
       "metadata": {},
       "output_type": "display_data",
       "text": [
        "<IPython.core.display.Javascript at 0x1c8dd6a90>"
       ]
      },
      {
       "javascript": [
        "$('div#f51c3d78-362a-459e-bd8d-0ec7eff338f4').width('23%')"
       ],
       "metadata": {},
       "output_type": "display_data",
       "text": [
        "<IPython.core.display.Javascript at 0x1c8dd6a90>"
       ]
      },
      {
       "javascript": [
        "$('div#f51c3d78-362a-459e-bd8d-0ec7eff338f4').width('24%')"
       ],
       "metadata": {},
       "output_type": "display_data",
       "text": [
        "<IPython.core.display.Javascript at 0x1c8dd6a90>"
       ]
      },
      {
       "javascript": [
        "$('div#f51c3d78-362a-459e-bd8d-0ec7eff338f4').width('25%')"
       ],
       "metadata": {},
       "output_type": "display_data",
       "text": [
        "<IPython.core.display.Javascript at 0x1c8dd6a90>"
       ]
      },
      {
       "javascript": [
        "$('div#f51c3d78-362a-459e-bd8d-0ec7eff338f4').width('25%')"
       ],
       "metadata": {},
       "output_type": "display_data",
       "text": [
        "<IPython.core.display.Javascript at 0x1c8dd6a90>"
       ]
      },
      {
       "javascript": [
        "$('div#f51c3d78-362a-459e-bd8d-0ec7eff338f4').width('26%')"
       ],
       "metadata": {},
       "output_type": "display_data",
       "text": [
        "<IPython.core.display.Javascript at 0x1c8dd6a90>"
       ]
      },
      {
       "javascript": [
        "$('div#f51c3d78-362a-459e-bd8d-0ec7eff338f4').width('26%')"
       ],
       "metadata": {},
       "output_type": "display_data",
       "text": [
        "<IPython.core.display.Javascript at 0x1c8dd6a90>"
       ]
      },
      {
       "javascript": [
        "$('div#f51c3d78-362a-459e-bd8d-0ec7eff338f4').width('27%')"
       ],
       "metadata": {},
       "output_type": "display_data",
       "text": [
        "<IPython.core.display.Javascript at 0x1c8dd6a90>"
       ]
      },
      {
       "javascript": [
        "$('div#f51c3d78-362a-459e-bd8d-0ec7eff338f4').width('27%')"
       ],
       "metadata": {},
       "output_type": "display_data",
       "text": [
        "<IPython.core.display.Javascript at 0x1c8dd6a90>"
       ]
      },
      {
       "javascript": [
        "$('div#f51c3d78-362a-459e-bd8d-0ec7eff338f4').width('28%')"
       ],
       "metadata": {},
       "output_type": "display_data",
       "text": [
        "<IPython.core.display.Javascript at 0x1c8dd6a90>"
       ]
      },
      {
       "javascript": [
        "$('div#f51c3d78-362a-459e-bd8d-0ec7eff338f4').width('28%')"
       ],
       "metadata": {},
       "output_type": "display_data",
       "text": [
        "<IPython.core.display.Javascript at 0x1c8dd6a90>"
       ]
      },
      {
       "javascript": [
        "$('div#f51c3d78-362a-459e-bd8d-0ec7eff338f4').width('29%')"
       ],
       "metadata": {},
       "output_type": "display_data",
       "text": [
        "<IPython.core.display.Javascript at 0x1c8dd6a90>"
       ]
      },
      {
       "javascript": [
        "$('div#f51c3d78-362a-459e-bd8d-0ec7eff338f4').width('30%')"
       ],
       "metadata": {},
       "output_type": "display_data",
       "text": [
        "<IPython.core.display.Javascript at 0x1c8dd6a90>"
       ]
      },
      {
       "javascript": [
        "$('div#f51c3d78-362a-459e-bd8d-0ec7eff338f4').width('30%')"
       ],
       "metadata": {},
       "output_type": "display_data",
       "text": [
        "<IPython.core.display.Javascript at 0x1c8dd6a90>"
       ]
      },
      {
       "javascript": [
        "$('div#f51c3d78-362a-459e-bd8d-0ec7eff338f4').width('31%')"
       ],
       "metadata": {},
       "output_type": "display_data",
       "text": [
        "<IPython.core.display.Javascript at 0x1c8dd6a90>"
       ]
      },
      {
       "javascript": [
        "$('div#f51c3d78-362a-459e-bd8d-0ec7eff338f4').width('31%')"
       ],
       "metadata": {},
       "output_type": "display_data",
       "text": [
        "<IPython.core.display.Javascript at 0x1c8dd6a90>"
       ]
      },
      {
       "javascript": [
        "$('div#f51c3d78-362a-459e-bd8d-0ec7eff338f4').width('32%')"
       ],
       "metadata": {},
       "output_type": "display_data",
       "text": [
        "<IPython.core.display.Javascript at 0x1c8dd6a90>"
       ]
      },
      {
       "javascript": [
        "$('div#f51c3d78-362a-459e-bd8d-0ec7eff338f4').width('32%')"
       ],
       "metadata": {},
       "output_type": "display_data",
       "text": [
        "<IPython.core.display.Javascript at 0x1c8dd6a90>"
       ]
      },
      {
       "javascript": [
        "$('div#f51c3d78-362a-459e-bd8d-0ec7eff338f4').width('33%')"
       ],
       "metadata": {},
       "output_type": "display_data",
       "text": [
        "<IPython.core.display.Javascript at 0x1c8dd6a90>"
       ]
      },
      {
       "javascript": [
        "$('div#f51c3d78-362a-459e-bd8d-0ec7eff338f4').width('33%')"
       ],
       "metadata": {},
       "output_type": "display_data",
       "text": [
        "<IPython.core.display.Javascript at 0x1c8dd6a90>"
       ]
      },
      {
       "javascript": [
        "$('div#f51c3d78-362a-459e-bd8d-0ec7eff338f4').width('34%')"
       ],
       "metadata": {},
       "output_type": "display_data",
       "text": [
        "<IPython.core.display.Javascript at 0x1c8dd6a90>"
       ]
      },
      {
       "javascript": [
        "$('div#f51c3d78-362a-459e-bd8d-0ec7eff338f4').width('35%')"
       ],
       "metadata": {},
       "output_type": "display_data",
       "text": [
        "<IPython.core.display.Javascript at 0x1c8dd6a90>"
       ]
      },
      {
       "javascript": [
        "$('div#f51c3d78-362a-459e-bd8d-0ec7eff338f4').width('35%')"
       ],
       "metadata": {},
       "output_type": "display_data",
       "text": [
        "<IPython.core.display.Javascript at 0x1c8dd6a90>"
       ]
      },
      {
       "javascript": [
        "$('div#f51c3d78-362a-459e-bd8d-0ec7eff338f4').width('36%')"
       ],
       "metadata": {},
       "output_type": "display_data",
       "text": [
        "<IPython.core.display.Javascript at 0x1c8dd6a90>"
       ]
      },
      {
       "javascript": [
        "$('div#f51c3d78-362a-459e-bd8d-0ec7eff338f4').width('36%')"
       ],
       "metadata": {},
       "output_type": "display_data",
       "text": [
        "<IPython.core.display.Javascript at 0x1c8dd6a90>"
       ]
      },
      {
       "javascript": [
        "$('div#f51c3d78-362a-459e-bd8d-0ec7eff338f4').width('37%')"
       ],
       "metadata": {},
       "output_type": "display_data",
       "text": [
        "<IPython.core.display.Javascript at 0x1c8dd6a90>"
       ]
      },
      {
       "javascript": [
        "$('div#f51c3d78-362a-459e-bd8d-0ec7eff338f4').width('37%')"
       ],
       "metadata": {},
       "output_type": "display_data",
       "text": [
        "<IPython.core.display.Javascript at 0x1c8dd6a90>"
       ]
      },
      {
       "javascript": [
        "$('div#f51c3d78-362a-459e-bd8d-0ec7eff338f4').width('38%')"
       ],
       "metadata": {},
       "output_type": "display_data",
       "text": [
        "<IPython.core.display.Javascript at 0x1c8dd6a90>"
       ]
      },
      {
       "javascript": [
        "$('div#f51c3d78-362a-459e-bd8d-0ec7eff338f4').width('38%')"
       ],
       "metadata": {},
       "output_type": "display_data",
       "text": [
        "<IPython.core.display.Javascript at 0x1c8dd6a90>"
       ]
      },
      {
       "javascript": [
        "$('div#f51c3d78-362a-459e-bd8d-0ec7eff338f4').width('39%')"
       ],
       "metadata": {},
       "output_type": "display_data",
       "text": [
        "<IPython.core.display.Javascript at 0x1c8dd6a90>"
       ]
      },
      {
       "javascript": [
        "$('div#f51c3d78-362a-459e-bd8d-0ec7eff338f4').width('40%')"
       ],
       "metadata": {},
       "output_type": "display_data",
       "text": [
        "<IPython.core.display.Javascript at 0x1c8dd6a90>"
       ]
      },
      {
       "javascript": [
        "$('div#f51c3d78-362a-459e-bd8d-0ec7eff338f4').width('40%')"
       ],
       "metadata": {},
       "output_type": "display_data",
       "text": [
        "<IPython.core.display.Javascript at 0x1c8dd6a90>"
       ]
      },
      {
       "javascript": [
        "$('div#f51c3d78-362a-459e-bd8d-0ec7eff338f4').width('41%')"
       ],
       "metadata": {},
       "output_type": "display_data",
       "text": [
        "<IPython.core.display.Javascript at 0x1c8dd6a90>"
       ]
      },
      {
       "javascript": [
        "$('div#f51c3d78-362a-459e-bd8d-0ec7eff338f4').width('41%')"
       ],
       "metadata": {},
       "output_type": "display_data",
       "text": [
        "<IPython.core.display.Javascript at 0x1c8dd6a90>"
       ]
      },
      {
       "javascript": [
        "$('div#f51c3d78-362a-459e-bd8d-0ec7eff338f4').width('42%')"
       ],
       "metadata": {},
       "output_type": "display_data",
       "text": [
        "<IPython.core.display.Javascript at 0x1c8dd6a90>"
       ]
      },
      {
       "javascript": [
        "$('div#f51c3d78-362a-459e-bd8d-0ec7eff338f4').width('42%')"
       ],
       "metadata": {},
       "output_type": "display_data",
       "text": [
        "<IPython.core.display.Javascript at 0x1c8dd6a90>"
       ]
      },
      {
       "javascript": [
        "$('div#f51c3d78-362a-459e-bd8d-0ec7eff338f4').width('43%')"
       ],
       "metadata": {},
       "output_type": "display_data",
       "text": [
        "<IPython.core.display.Javascript at 0x1c8dd6a90>"
       ]
      },
      {
       "javascript": [
        "$('div#f51c3d78-362a-459e-bd8d-0ec7eff338f4').width('43%')"
       ],
       "metadata": {},
       "output_type": "display_data",
       "text": [
        "<IPython.core.display.Javascript at 0x1c8dd6a90>"
       ]
      },
      {
       "javascript": [
        "$('div#f51c3d78-362a-459e-bd8d-0ec7eff338f4').width('44%')"
       ],
       "metadata": {},
       "output_type": "display_data",
       "text": [
        "<IPython.core.display.Javascript at 0x1c8dd6a90>"
       ]
      },
      {
       "javascript": [
        "$('div#f51c3d78-362a-459e-bd8d-0ec7eff338f4').width('45%')"
       ],
       "metadata": {},
       "output_type": "display_data",
       "text": [
        "<IPython.core.display.Javascript at 0x1c8dd6a90>"
       ]
      },
      {
       "javascript": [
        "$('div#f51c3d78-362a-459e-bd8d-0ec7eff338f4').width('45%')"
       ],
       "metadata": {},
       "output_type": "display_data",
       "text": [
        "<IPython.core.display.Javascript at 0x1c8dd6a90>"
       ]
      },
      {
       "javascript": [
        "$('div#f51c3d78-362a-459e-bd8d-0ec7eff338f4').width('46%')"
       ],
       "metadata": {},
       "output_type": "display_data",
       "text": [
        "<IPython.core.display.Javascript at 0x1c8dd6a90>"
       ]
      },
      {
       "javascript": [
        "$('div#f51c3d78-362a-459e-bd8d-0ec7eff338f4').width('46%')"
       ],
       "metadata": {},
       "output_type": "display_data",
       "text": [
        "<IPython.core.display.Javascript at 0x1c8dd6a90>"
       ]
      },
      {
       "javascript": [
        "$('div#f51c3d78-362a-459e-bd8d-0ec7eff338f4').width('47%')"
       ],
       "metadata": {},
       "output_type": "display_data",
       "text": [
        "<IPython.core.display.Javascript at 0x1c8dd6a90>"
       ]
      },
      {
       "javascript": [
        "$('div#f51c3d78-362a-459e-bd8d-0ec7eff338f4').width('47%')"
       ],
       "metadata": {},
       "output_type": "display_data",
       "text": [
        "<IPython.core.display.Javascript at 0x1c8dd6a90>"
       ]
      },
      {
       "javascript": [
        "$('div#f51c3d78-362a-459e-bd8d-0ec7eff338f4').width('48%')"
       ],
       "metadata": {},
       "output_type": "display_data",
       "text": [
        "<IPython.core.display.Javascript at 0x1c8dd6a90>"
       ]
      },
      {
       "javascript": [
        "$('div#f51c3d78-362a-459e-bd8d-0ec7eff338f4').width('48%')"
       ],
       "metadata": {},
       "output_type": "display_data",
       "text": [
        "<IPython.core.display.Javascript at 0x1c8dd6a90>"
       ]
      },
      {
       "javascript": [
        "$('div#f51c3d78-362a-459e-bd8d-0ec7eff338f4').width('49%')"
       ],
       "metadata": {},
       "output_type": "display_data",
       "text": [
        "<IPython.core.display.Javascript at 0x1c8dd6a90>"
       ]
      },
      {
       "javascript": [
        "$('div#f51c3d78-362a-459e-bd8d-0ec7eff338f4').width('50%')"
       ],
       "metadata": {},
       "output_type": "display_data",
       "text": [
        "<IPython.core.display.Javascript at 0x1c8dd6a90>"
       ]
      },
      {
       "javascript": [
        "$('div#f51c3d78-362a-459e-bd8d-0ec7eff338f4').width('50%')"
       ],
       "metadata": {},
       "output_type": "display_data",
       "text": [
        "<IPython.core.display.Javascript at 0x1c8dd6a90>"
       ]
      },
      {
       "javascript": [
        "$('div#f51c3d78-362a-459e-bd8d-0ec7eff338f4').width('51%')"
       ],
       "metadata": {},
       "output_type": "display_data",
       "text": [
        "<IPython.core.display.Javascript at 0x1c8dd6a90>"
       ]
      },
      {
       "javascript": [
        "$('div#f51c3d78-362a-459e-bd8d-0ec7eff338f4').width('51%')"
       ],
       "metadata": {},
       "output_type": "display_data",
       "text": [
        "<IPython.core.display.Javascript at 0x1c8dd6a90>"
       ]
      },
      {
       "javascript": [
        "$('div#f51c3d78-362a-459e-bd8d-0ec7eff338f4').width('52%')"
       ],
       "metadata": {},
       "output_type": "display_data",
       "text": [
        "<IPython.core.display.Javascript at 0x1c8dd6a90>"
       ]
      },
      {
       "javascript": [
        "$('div#f51c3d78-362a-459e-bd8d-0ec7eff338f4').width('52%')"
       ],
       "metadata": {},
       "output_type": "display_data",
       "text": [
        "<IPython.core.display.Javascript at 0x1c8dd6a90>"
       ]
      },
      {
       "javascript": [
        "$('div#f51c3d78-362a-459e-bd8d-0ec7eff338f4').width('53%')"
       ],
       "metadata": {},
       "output_type": "display_data",
       "text": [
        "<IPython.core.display.Javascript at 0x1c8dd6a90>"
       ]
      },
      {
       "javascript": [
        "$('div#f51c3d78-362a-459e-bd8d-0ec7eff338f4').width('53%')"
       ],
       "metadata": {},
       "output_type": "display_data",
       "text": [
        "<IPython.core.display.Javascript at 0x1c8dd6a90>"
       ]
      },
      {
       "javascript": [
        "$('div#f51c3d78-362a-459e-bd8d-0ec7eff338f4').width('54%')"
       ],
       "metadata": {},
       "output_type": "display_data",
       "text": [
        "<IPython.core.display.Javascript at 0x1c8dd6a90>"
       ]
      },
      {
       "javascript": [
        "$('div#f51c3d78-362a-459e-bd8d-0ec7eff338f4').width('55%')"
       ],
       "metadata": {},
       "output_type": "display_data",
       "text": [
        "<IPython.core.display.Javascript at 0x1c8dd6a90>"
       ]
      },
      {
       "javascript": [
        "$('div#f51c3d78-362a-459e-bd8d-0ec7eff338f4').width('55%')"
       ],
       "metadata": {},
       "output_type": "display_data",
       "text": [
        "<IPython.core.display.Javascript at 0x1c8dd6a90>"
       ]
      },
      {
       "javascript": [
        "$('div#f51c3d78-362a-459e-bd8d-0ec7eff338f4').width('56%')"
       ],
       "metadata": {},
       "output_type": "display_data",
       "text": [
        "<IPython.core.display.Javascript at 0x1c8dd6a90>"
       ]
      },
      {
       "javascript": [
        "$('div#f51c3d78-362a-459e-bd8d-0ec7eff338f4').width('56%')"
       ],
       "metadata": {},
       "output_type": "display_data",
       "text": [
        "<IPython.core.display.Javascript at 0x1c8dd6a90>"
       ]
      },
      {
       "javascript": [
        "$('div#f51c3d78-362a-459e-bd8d-0ec7eff338f4').width('57%')"
       ],
       "metadata": {},
       "output_type": "display_data",
       "text": [
        "<IPython.core.display.Javascript at 0x1c8dd6a90>"
       ]
      },
      {
       "javascript": [
        "$('div#f51c3d78-362a-459e-bd8d-0ec7eff338f4').width('57%')"
       ],
       "metadata": {},
       "output_type": "display_data",
       "text": [
        "<IPython.core.display.Javascript at 0x1c8dd6a90>"
       ]
      },
      {
       "javascript": [
        "$('div#f51c3d78-362a-459e-bd8d-0ec7eff338f4').width('58%')"
       ],
       "metadata": {},
       "output_type": "display_data",
       "text": [
        "<IPython.core.display.Javascript at 0x1c8dd6a90>"
       ]
      },
      {
       "javascript": [
        "$('div#f51c3d78-362a-459e-bd8d-0ec7eff338f4').width('58%')"
       ],
       "metadata": {},
       "output_type": "display_data",
       "text": [
        "<IPython.core.display.Javascript at 0x1c8dd6a90>"
       ]
      },
      {
       "javascript": [
        "$('div#f51c3d78-362a-459e-bd8d-0ec7eff338f4').width('59%')"
       ],
       "metadata": {},
       "output_type": "display_data",
       "text": [
        "<IPython.core.display.Javascript at 0x1c8dd6a90>"
       ]
      },
      {
       "javascript": [
        "$('div#f51c3d78-362a-459e-bd8d-0ec7eff338f4').width('60%')"
       ],
       "metadata": {},
       "output_type": "display_data",
       "text": [
        "<IPython.core.display.Javascript at 0x1c8dd6a90>"
       ]
      },
      {
       "javascript": [
        "$('div#f51c3d78-362a-459e-bd8d-0ec7eff338f4').width('60%')"
       ],
       "metadata": {},
       "output_type": "display_data",
       "text": [
        "<IPython.core.display.Javascript at 0x1c8dd6a90>"
       ]
      },
      {
       "javascript": [
        "$('div#f51c3d78-362a-459e-bd8d-0ec7eff338f4').width('61%')"
       ],
       "metadata": {},
       "output_type": "display_data",
       "text": [
        "<IPython.core.display.Javascript at 0x1c8dd6a90>"
       ]
      },
      {
       "javascript": [
        "$('div#f51c3d78-362a-459e-bd8d-0ec7eff338f4').width('61%')"
       ],
       "metadata": {},
       "output_type": "display_data",
       "text": [
        "<IPython.core.display.Javascript at 0x1c8dd6a90>"
       ]
      },
      {
       "javascript": [
        "$('div#f51c3d78-362a-459e-bd8d-0ec7eff338f4').width('62%')"
       ],
       "metadata": {},
       "output_type": "display_data",
       "text": [
        "<IPython.core.display.Javascript at 0x1c8dd6a90>"
       ]
      },
      {
       "javascript": [
        "$('div#f51c3d78-362a-459e-bd8d-0ec7eff338f4').width('62%')"
       ],
       "metadata": {},
       "output_type": "display_data",
       "text": [
        "<IPython.core.display.Javascript at 0x1c8dd6a90>"
       ]
      },
      {
       "javascript": [
        "$('div#f51c3d78-362a-459e-bd8d-0ec7eff338f4').width('63%')"
       ],
       "metadata": {},
       "output_type": "display_data",
       "text": [
        "<IPython.core.display.Javascript at 0x1c8dd6a90>"
       ]
      },
      {
       "javascript": [
        "$('div#f51c3d78-362a-459e-bd8d-0ec7eff338f4').width('63%')"
       ],
       "metadata": {},
       "output_type": "display_data",
       "text": [
        "<IPython.core.display.Javascript at 0x1c8dd6a90>"
       ]
      },
      {
       "javascript": [
        "$('div#f51c3d78-362a-459e-bd8d-0ec7eff338f4').width('64%')"
       ],
       "metadata": {},
       "output_type": "display_data",
       "text": [
        "<IPython.core.display.Javascript at 0x1c8dd6a90>"
       ]
      },
      {
       "javascript": [
        "$('div#f51c3d78-362a-459e-bd8d-0ec7eff338f4').width('65%')"
       ],
       "metadata": {},
       "output_type": "display_data",
       "text": [
        "<IPython.core.display.Javascript at 0x1c8dd6a90>"
       ]
      },
      {
       "javascript": [
        "$('div#f51c3d78-362a-459e-bd8d-0ec7eff338f4').width('65%')"
       ],
       "metadata": {},
       "output_type": "display_data",
       "text": [
        "<IPython.core.display.Javascript at 0x1c8dd6a90>"
       ]
      },
      {
       "javascript": [
        "$('div#f51c3d78-362a-459e-bd8d-0ec7eff338f4').width('66%')"
       ],
       "metadata": {},
       "output_type": "display_data",
       "text": [
        "<IPython.core.display.Javascript at 0x1c8dd6a90>"
       ]
      },
      {
       "javascript": [
        "$('div#f51c3d78-362a-459e-bd8d-0ec7eff338f4').width('66%')"
       ],
       "metadata": {},
       "output_type": "display_data",
       "text": [
        "<IPython.core.display.Javascript at 0x1c8dd6a90>"
       ]
      },
      {
       "javascript": [
        "$('div#f51c3d78-362a-459e-bd8d-0ec7eff338f4').width('67%')"
       ],
       "metadata": {},
       "output_type": "display_data",
       "text": [
        "<IPython.core.display.Javascript at 0x1c8dd6a90>"
       ]
      },
      {
       "javascript": [
        "$('div#f51c3d78-362a-459e-bd8d-0ec7eff338f4').width('67%')"
       ],
       "metadata": {},
       "output_type": "display_data",
       "text": [
        "<IPython.core.display.Javascript at 0x1c8dd6a90>"
       ]
      },
      {
       "javascript": [
        "$('div#f51c3d78-362a-459e-bd8d-0ec7eff338f4').width('68%')"
       ],
       "metadata": {},
       "output_type": "display_data",
       "text": [
        "<IPython.core.display.Javascript at 0x1c8dd6a90>"
       ]
      },
      {
       "javascript": [
        "$('div#f51c3d78-362a-459e-bd8d-0ec7eff338f4').width('68%')"
       ],
       "metadata": {},
       "output_type": "display_data",
       "text": [
        "<IPython.core.display.Javascript at 0x1c8dd6a90>"
       ]
      },
      {
       "javascript": [
        "$('div#f51c3d78-362a-459e-bd8d-0ec7eff338f4').width('69%')"
       ],
       "metadata": {},
       "output_type": "display_data",
       "text": [
        "<IPython.core.display.Javascript at 0x1c8dd6a90>"
       ]
      },
      {
       "javascript": [
        "$('div#f51c3d78-362a-459e-bd8d-0ec7eff338f4').width('70%')"
       ],
       "metadata": {},
       "output_type": "display_data",
       "text": [
        "<IPython.core.display.Javascript at 0x1c8dd6a90>"
       ]
      },
      {
       "javascript": [
        "$('div#f51c3d78-362a-459e-bd8d-0ec7eff338f4').width('70%')"
       ],
       "metadata": {},
       "output_type": "display_data",
       "text": [
        "<IPython.core.display.Javascript at 0x1c8dd6a90>"
       ]
      },
      {
       "javascript": [
        "$('div#f51c3d78-362a-459e-bd8d-0ec7eff338f4').width('71%')"
       ],
       "metadata": {},
       "output_type": "display_data",
       "text": [
        "<IPython.core.display.Javascript at 0x1c8dd6a90>"
       ]
      },
      {
       "javascript": [
        "$('div#f51c3d78-362a-459e-bd8d-0ec7eff338f4').width('71%')"
       ],
       "metadata": {},
       "output_type": "display_data",
       "text": [
        "<IPython.core.display.Javascript at 0x1c8dd6a90>"
       ]
      },
      {
       "javascript": [
        "$('div#f51c3d78-362a-459e-bd8d-0ec7eff338f4').width('72%')"
       ],
       "metadata": {},
       "output_type": "display_data",
       "text": [
        "<IPython.core.display.Javascript at 0x1c8dd6a90>"
       ]
      },
      {
       "javascript": [
        "$('div#f51c3d78-362a-459e-bd8d-0ec7eff338f4').width('72%')"
       ],
       "metadata": {},
       "output_type": "display_data",
       "text": [
        "<IPython.core.display.Javascript at 0x1c8dd6a90>"
       ]
      },
      {
       "javascript": [
        "$('div#f51c3d78-362a-459e-bd8d-0ec7eff338f4').width('73%')"
       ],
       "metadata": {},
       "output_type": "display_data",
       "text": [
        "<IPython.core.display.Javascript at 0x1c8dd6a90>"
       ]
      },
      {
       "javascript": [
        "$('div#f51c3d78-362a-459e-bd8d-0ec7eff338f4').width('73%')"
       ],
       "metadata": {},
       "output_type": "display_data",
       "text": [
        "<IPython.core.display.Javascript at 0x1c8dd6a90>"
       ]
      },
      {
       "javascript": [
        "$('div#f51c3d78-362a-459e-bd8d-0ec7eff338f4').width('74%')"
       ],
       "metadata": {},
       "output_type": "display_data",
       "text": [
        "<IPython.core.display.Javascript at 0x1c8dd6a90>"
       ]
      },
      {
       "javascript": [
        "$('div#f51c3d78-362a-459e-bd8d-0ec7eff338f4').width('75%')"
       ],
       "metadata": {},
       "output_type": "display_data",
       "text": [
        "<IPython.core.display.Javascript at 0x1c8dd6a90>"
       ]
      },
      {
       "javascript": [
        "$('div#f51c3d78-362a-459e-bd8d-0ec7eff338f4').width('75%')"
       ],
       "metadata": {},
       "output_type": "display_data",
       "text": [
        "<IPython.core.display.Javascript at 0x1c8dd6a90>"
       ]
      },
      {
       "javascript": [
        "$('div#f51c3d78-362a-459e-bd8d-0ec7eff338f4').width('76%')"
       ],
       "metadata": {},
       "output_type": "display_data",
       "text": [
        "<IPython.core.display.Javascript at 0x1c8dd6a90>"
       ]
      },
      {
       "javascript": [
        "$('div#f51c3d78-362a-459e-bd8d-0ec7eff338f4').width('76%')"
       ],
       "metadata": {},
       "output_type": "display_data",
       "text": [
        "<IPython.core.display.Javascript at 0x1c8dd6a90>"
       ]
      },
      {
       "javascript": [
        "$('div#f51c3d78-362a-459e-bd8d-0ec7eff338f4').width('77%')"
       ],
       "metadata": {},
       "output_type": "display_data",
       "text": [
        "<IPython.core.display.Javascript at 0x1c8dd6a90>"
       ]
      },
      {
       "javascript": [
        "$('div#f51c3d78-362a-459e-bd8d-0ec7eff338f4').width('77%')"
       ],
       "metadata": {},
       "output_type": "display_data",
       "text": [
        "<IPython.core.display.Javascript at 0x1c8dd6a90>"
       ]
      },
      {
       "javascript": [
        "$('div#f51c3d78-362a-459e-bd8d-0ec7eff338f4').width('78%')"
       ],
       "metadata": {},
       "output_type": "display_data",
       "text": [
        "<IPython.core.display.Javascript at 0x1c8dd6a90>"
       ]
      },
      {
       "javascript": [
        "$('div#f51c3d78-362a-459e-bd8d-0ec7eff338f4').width('78%')"
       ],
       "metadata": {},
       "output_type": "display_data",
       "text": [
        "<IPython.core.display.Javascript at 0x1c8dd6a90>"
       ]
      },
      {
       "javascript": [
        "$('div#f51c3d78-362a-459e-bd8d-0ec7eff338f4').width('79%')"
       ],
       "metadata": {},
       "output_type": "display_data",
       "text": [
        "<IPython.core.display.Javascript at 0x1c8dd6a90>"
       ]
      },
      {
       "javascript": [
        "$('div#f51c3d78-362a-459e-bd8d-0ec7eff338f4').width('80%')"
       ],
       "metadata": {},
       "output_type": "display_data",
       "text": [
        "<IPython.core.display.Javascript at 0x1c8dd6a90>"
       ]
      },
      {
       "javascript": [
        "$('div#f51c3d78-362a-459e-bd8d-0ec7eff338f4').width('80%')"
       ],
       "metadata": {},
       "output_type": "display_data",
       "text": [
        "<IPython.core.display.Javascript at 0x1c8dd6a90>"
       ]
      },
      {
       "javascript": [
        "$('div#f51c3d78-362a-459e-bd8d-0ec7eff338f4').width('81%')"
       ],
       "metadata": {},
       "output_type": "display_data",
       "text": [
        "<IPython.core.display.Javascript at 0x1c8dd6a90>"
       ]
      },
      {
       "javascript": [
        "$('div#f51c3d78-362a-459e-bd8d-0ec7eff338f4').width('81%')"
       ],
       "metadata": {},
       "output_type": "display_data",
       "text": [
        "<IPython.core.display.Javascript at 0x1c8dd6a90>"
       ]
      },
      {
       "javascript": [
        "$('div#f51c3d78-362a-459e-bd8d-0ec7eff338f4').width('82%')"
       ],
       "metadata": {},
       "output_type": "display_data",
       "text": [
        "<IPython.core.display.Javascript at 0x1c8dd6a90>"
       ]
      },
      {
       "javascript": [
        "$('div#f51c3d78-362a-459e-bd8d-0ec7eff338f4').width('82%')"
       ],
       "metadata": {},
       "output_type": "display_data",
       "text": [
        "<IPython.core.display.Javascript at 0x1c8dd6a90>"
       ]
      },
      {
       "javascript": [
        "$('div#f51c3d78-362a-459e-bd8d-0ec7eff338f4').width('83%')"
       ],
       "metadata": {},
       "output_type": "display_data",
       "text": [
        "<IPython.core.display.Javascript at 0x1c8dd6a90>"
       ]
      },
      {
       "javascript": [
        "$('div#f51c3d78-362a-459e-bd8d-0ec7eff338f4').width('83%')"
       ],
       "metadata": {},
       "output_type": "display_data",
       "text": [
        "<IPython.core.display.Javascript at 0x1c8dd6a90>"
       ]
      },
      {
       "javascript": [
        "$('div#f51c3d78-362a-459e-bd8d-0ec7eff338f4').width('84%')"
       ],
       "metadata": {},
       "output_type": "display_data",
       "text": [
        "<IPython.core.display.Javascript at 0x1c8dd6a90>"
       ]
      },
      {
       "javascript": [
        "$('div#f51c3d78-362a-459e-bd8d-0ec7eff338f4').width('85%')"
       ],
       "metadata": {},
       "output_type": "display_data",
       "text": [
        "<IPython.core.display.Javascript at 0x1c8dd6a90>"
       ]
      },
      {
       "javascript": [
        "$('div#f51c3d78-362a-459e-bd8d-0ec7eff338f4').width('85%')"
       ],
       "metadata": {},
       "output_type": "display_data",
       "text": [
        "<IPython.core.display.Javascript at 0x1c8dd6a90>"
       ]
      },
      {
       "javascript": [
        "$('div#f51c3d78-362a-459e-bd8d-0ec7eff338f4').width('86%')"
       ],
       "metadata": {},
       "output_type": "display_data",
       "text": [
        "<IPython.core.display.Javascript at 0x1c8dd6a90>"
       ]
      },
      {
       "javascript": [
        "$('div#f51c3d78-362a-459e-bd8d-0ec7eff338f4').width('86%')"
       ],
       "metadata": {},
       "output_type": "display_data",
       "text": [
        "<IPython.core.display.Javascript at 0x1c8dd6a90>"
       ]
      },
      {
       "javascript": [
        "$('div#f51c3d78-362a-459e-bd8d-0ec7eff338f4').width('87%')"
       ],
       "metadata": {},
       "output_type": "display_data",
       "text": [
        "<IPython.core.display.Javascript at 0x1c8dd6a90>"
       ]
      },
      {
       "javascript": [
        "$('div#f51c3d78-362a-459e-bd8d-0ec7eff338f4').width('87%')"
       ],
       "metadata": {},
       "output_type": "display_data",
       "text": [
        "<IPython.core.display.Javascript at 0x1c8dd6a90>"
       ]
      },
      {
       "javascript": [
        "$('div#f51c3d78-362a-459e-bd8d-0ec7eff338f4').width('88%')"
       ],
       "metadata": {},
       "output_type": "display_data",
       "text": [
        "<IPython.core.display.Javascript at 0x1c8dd6a90>"
       ]
      },
      {
       "javascript": [
        "$('div#f51c3d78-362a-459e-bd8d-0ec7eff338f4').width('88%')"
       ],
       "metadata": {},
       "output_type": "display_data",
       "text": [
        "<IPython.core.display.Javascript at 0x1c8dd6a90>"
       ]
      },
      {
       "javascript": [
        "$('div#f51c3d78-362a-459e-bd8d-0ec7eff338f4').width('89%')"
       ],
       "metadata": {},
       "output_type": "display_data",
       "text": [
        "<IPython.core.display.Javascript at 0x1c8dd6a90>"
       ]
      },
      {
       "javascript": [
        "$('div#f51c3d78-362a-459e-bd8d-0ec7eff338f4').width('90%')"
       ],
       "metadata": {},
       "output_type": "display_data",
       "text": [
        "<IPython.core.display.Javascript at 0x1c8dd6a90>"
       ]
      },
      {
       "javascript": [
        "$('div#f51c3d78-362a-459e-bd8d-0ec7eff338f4').width('90%')"
       ],
       "metadata": {},
       "output_type": "display_data",
       "text": [
        "<IPython.core.display.Javascript at 0x1c8dd6a90>"
       ]
      },
      {
       "javascript": [
        "$('div#f51c3d78-362a-459e-bd8d-0ec7eff338f4').width('91%')"
       ],
       "metadata": {},
       "output_type": "display_data",
       "text": [
        "<IPython.core.display.Javascript at 0x1c8dd6a90>"
       ]
      },
      {
       "javascript": [
        "$('div#f51c3d78-362a-459e-bd8d-0ec7eff338f4').width('91%')"
       ],
       "metadata": {},
       "output_type": "display_data",
       "text": [
        "<IPython.core.display.Javascript at 0x1c8dd6a90>"
       ]
      },
      {
       "javascript": [
        "$('div#f51c3d78-362a-459e-bd8d-0ec7eff338f4').width('92%')"
       ],
       "metadata": {},
       "output_type": "display_data",
       "text": [
        "<IPython.core.display.Javascript at 0x1c8dd6a90>"
       ]
      },
      {
       "javascript": [
        "$('div#f51c3d78-362a-459e-bd8d-0ec7eff338f4').width('92%')"
       ],
       "metadata": {},
       "output_type": "display_data",
       "text": [
        "<IPython.core.display.Javascript at 0x1c8dd6a90>"
       ]
      },
      {
       "javascript": [
        "$('div#f51c3d78-362a-459e-bd8d-0ec7eff338f4').width('93%')"
       ],
       "metadata": {},
       "output_type": "display_data",
       "text": [
        "<IPython.core.display.Javascript at 0x1c8dd6a90>"
       ]
      },
      {
       "javascript": [
        "$('div#f51c3d78-362a-459e-bd8d-0ec7eff338f4').width('93%')"
       ],
       "metadata": {},
       "output_type": "display_data",
       "text": [
        "<IPython.core.display.Javascript at 0x1c8dd6a90>"
       ]
      },
      {
       "javascript": [
        "$('div#f51c3d78-362a-459e-bd8d-0ec7eff338f4').width('94%')"
       ],
       "metadata": {},
       "output_type": "display_data",
       "text": [
        "<IPython.core.display.Javascript at 0x1c8dd6a90>"
       ]
      },
      {
       "javascript": [
        "$('div#f51c3d78-362a-459e-bd8d-0ec7eff338f4').width('95%')"
       ],
       "metadata": {},
       "output_type": "display_data",
       "text": [
        "<IPython.core.display.Javascript at 0x1c8dd6a90>"
       ]
      },
      {
       "javascript": [
        "$('div#f51c3d78-362a-459e-bd8d-0ec7eff338f4').width('95%')"
       ],
       "metadata": {},
       "output_type": "display_data",
       "text": [
        "<IPython.core.display.Javascript at 0x1c8dd6a90>"
       ]
      },
      {
       "javascript": [
        "$('div#f51c3d78-362a-459e-bd8d-0ec7eff338f4').width('96%')"
       ],
       "metadata": {},
       "output_type": "display_data",
       "text": [
        "<IPython.core.display.Javascript at 0x1c8dd6a90>"
       ]
      },
      {
       "javascript": [
        "$('div#f51c3d78-362a-459e-bd8d-0ec7eff338f4').width('96%')"
       ],
       "metadata": {},
       "output_type": "display_data",
       "text": [
        "<IPython.core.display.Javascript at 0x1c8dd6a90>"
       ]
      },
      {
       "javascript": [
        "$('div#f51c3d78-362a-459e-bd8d-0ec7eff338f4').width('97%')"
       ],
       "metadata": {},
       "output_type": "display_data",
       "text": [
        "<IPython.core.display.Javascript at 0x1c8dd6a90>"
       ]
      },
      {
       "javascript": [
        "$('div#f51c3d78-362a-459e-bd8d-0ec7eff338f4').width('97%')"
       ],
       "metadata": {},
       "output_type": "display_data",
       "text": [
        "<IPython.core.display.Javascript at 0x1c8dd6a90>"
       ]
      },
      {
       "javascript": [
        "$('div#f51c3d78-362a-459e-bd8d-0ec7eff338f4').width('98%')"
       ],
       "metadata": {},
       "output_type": "display_data",
       "text": [
        "<IPython.core.display.Javascript at 0x1c8dd6a90>"
       ]
      },
      {
       "javascript": [
        "$('div#f51c3d78-362a-459e-bd8d-0ec7eff338f4').width('98%')"
       ],
       "metadata": {},
       "output_type": "display_data",
       "text": [
        "<IPython.core.display.Javascript at 0x1c8dd6a90>"
       ]
      },
      {
       "javascript": [
        "$('div#f51c3d78-362a-459e-bd8d-0ec7eff338f4').width('99%')"
       ],
       "metadata": {},
       "output_type": "display_data",
       "text": [
        "<IPython.core.display.Javascript at 0x1c8dd6a90>"
       ]
      },
      {
       "javascript": [
        "$('div#f51c3d78-362a-459e-bd8d-0ec7eff338f4').width('100%')"
       ],
       "metadata": {},
       "output_type": "display_data",
       "text": [
        "<IPython.core.display.Javascript at 0x1c8dd6c50>"
       ]
      },
      {
       "html": [
        "<iframe src=http://127.0.0.1:8001/3736895 width=100%% height=420 frameborder=0></iframe>"
       ],
       "metadata": {},
       "output_type": "pyout",
       "prompt_number": 9,
       "text": [
        "<mMR.mMR.UncompressedMeasurement instance at 0x1c6057ef0>"
       ]
      }
     ],
     "prompt_number": 9
    },
    {
     "cell_type": "code",
     "collapsed": false,
     "input": [],
     "language": "python",
     "metadata": {},
     "outputs": [],
     "prompt_number": 5
    },
    {
     "cell_type": "code",
     "collapsed": false,
     "input": [
      "activity = occiput.DataSources.FileSource('/Users/spedemon/Desktop/activity.nii')"
     ],
     "language": "python",
     "metadata": {},
     "outputs": [],
     "prompt_number": 13
    },
    {
     "cell_type": "code",
     "collapsed": false,
     "input": [
      "activity.display(scale_factor=0.3)"
     ],
     "language": "python",
     "metadata": {},
     "outputs": [
      {
       "html": [
        "\n",
        "        <div style=\"border: 1px solid white; width:100%%; height:6px; background-color:rgb(246,246,246)\">\n",
        "            <div id=\"6c13d28b-8427-4fd1-af03-6ca494fc42dd\" style=\"background-color:rgb(200,200,200); width:0%; height:6px\"> </div>\n",
        "        </div> \n",
        "        "
       ],
       "metadata": {},
       "output_type": "display_data",
       "text": [
        "<IPython.core.display.HTML at 0x1c8dea4d0>"
       ]
      },
      {
       "javascript": [
        "$('div#6c13d28b-8427-4fd1-af03-6ca494fc42dd').width('1%')"
       ],
       "metadata": {},
       "output_type": "display_data",
       "text": [
        "<IPython.core.display.Javascript at 0x1c8dea3d0>"
       ]
      },
      {
       "javascript": [
        "$('div#6c13d28b-8427-4fd1-af03-6ca494fc42dd').width('1%')"
       ],
       "metadata": {},
       "output_type": "display_data",
       "text": [
        "<IPython.core.display.Javascript at 0x1c8dea3d0>"
       ]
      },
      {
       "javascript": [
        "$('div#6c13d28b-8427-4fd1-af03-6ca494fc42dd').width('1%')"
       ],
       "metadata": {},
       "output_type": "display_data",
       "text": [
        "<IPython.core.display.Javascript at 0x1c8dea3d0>"
       ]
      },
      {
       "javascript": [
        "$('div#6c13d28b-8427-4fd1-af03-6ca494fc42dd').width('2%')"
       ],
       "metadata": {},
       "output_type": "display_data",
       "text": [
        "<IPython.core.display.Javascript at 0x1c8dea3d0>"
       ]
      },
      {
       "javascript": [
        "$('div#6c13d28b-8427-4fd1-af03-6ca494fc42dd').width('3%')"
       ],
       "metadata": {},
       "output_type": "display_data",
       "text": [
        "<IPython.core.display.Javascript at 0x1c8dea3d0>"
       ]
      },
      {
       "javascript": [
        "$('div#6c13d28b-8427-4fd1-af03-6ca494fc42dd').width('3%')"
       ],
       "metadata": {},
       "output_type": "display_data",
       "text": [
        "<IPython.core.display.Javascript at 0x1c8dea3d0>"
       ]
      },
      {
       "javascript": [
        "$('div#6c13d28b-8427-4fd1-af03-6ca494fc42dd').width('4%')"
       ],
       "metadata": {},
       "output_type": "display_data",
       "text": [
        "<IPython.core.display.Javascript at 0x1c8dea3d0>"
       ]
      },
      {
       "javascript": [
        "$('div#6c13d28b-8427-4fd1-af03-6ca494fc42dd').width('5%')"
       ],
       "metadata": {},
       "output_type": "display_data",
       "text": [
        "<IPython.core.display.Javascript at 0x1c8dea3d0>"
       ]
      },
      {
       "javascript": [
        "$('div#6c13d28b-8427-4fd1-af03-6ca494fc42dd').width('6%')"
       ],
       "metadata": {},
       "output_type": "display_data",
       "text": [
        "<IPython.core.display.Javascript at 0x1c8dea3d0>"
       ]
      },
      {
       "javascript": [
        "$('div#6c13d28b-8427-4fd1-af03-6ca494fc42dd').width('7%')"
       ],
       "metadata": {},
       "output_type": "display_data",
       "text": [
        "<IPython.core.display.Javascript at 0x1c8dea3d0>"
       ]
      },
      {
       "javascript": [
        "$('div#6c13d28b-8427-4fd1-af03-6ca494fc42dd').width('7%')"
       ],
       "metadata": {},
       "output_type": "display_data",
       "text": [
        "<IPython.core.display.Javascript at 0x1c8dea3d0>"
       ]
      },
      {
       "javascript": [
        "$('div#6c13d28b-8427-4fd1-af03-6ca494fc42dd').width('8%')"
       ],
       "metadata": {},
       "output_type": "display_data",
       "text": [
        "<IPython.core.display.Javascript at 0x1c8dea3d0>"
       ]
      },
      {
       "javascript": [
        "$('div#6c13d28b-8427-4fd1-af03-6ca494fc42dd').width('9%')"
       ],
       "metadata": {},
       "output_type": "display_data",
       "text": [
        "<IPython.core.display.Javascript at 0x1c8dea3d0>"
       ]
      },
      {
       "javascript": [
        "$('div#6c13d28b-8427-4fd1-af03-6ca494fc42dd').width('10%')"
       ],
       "metadata": {},
       "output_type": "display_data",
       "text": [
        "<IPython.core.display.Javascript at 0x1c8dea3d0>"
       ]
      },
      {
       "javascript": [
        "$('div#6c13d28b-8427-4fd1-af03-6ca494fc42dd').width('10%')"
       ],
       "metadata": {},
       "output_type": "display_data",
       "text": [
        "<IPython.core.display.Javascript at 0x1c8dea3d0>"
       ]
      },
      {
       "javascript": [
        "$('div#6c13d28b-8427-4fd1-af03-6ca494fc42dd').width('11%')"
       ],
       "metadata": {},
       "output_type": "display_data",
       "text": [
        "<IPython.core.display.Javascript at 0x1c8dea3d0>"
       ]
      },
      {
       "javascript": [
        "$('div#6c13d28b-8427-4fd1-af03-6ca494fc42dd').width('12%')"
       ],
       "metadata": {},
       "output_type": "display_data",
       "text": [
        "<IPython.core.display.Javascript at 0x1c8dea3d0>"
       ]
      },
      {
       "javascript": [
        "$('div#6c13d28b-8427-4fd1-af03-6ca494fc42dd').width('13%')"
       ],
       "metadata": {},
       "output_type": "display_data",
       "text": [
        "<IPython.core.display.Javascript at 0x1c8dea3d0>"
       ]
      },
      {
       "javascript": [
        "$('div#6c13d28b-8427-4fd1-af03-6ca494fc42dd').width('14%')"
       ],
       "metadata": {},
       "output_type": "display_data",
       "text": [
        "<IPython.core.display.Javascript at 0x1c8dea3d0>"
       ]
      },
      {
       "javascript": [
        "$('div#6c13d28b-8427-4fd1-af03-6ca494fc42dd').width('14%')"
       ],
       "metadata": {},
       "output_type": "display_data",
       "text": [
        "<IPython.core.display.Javascript at 0x1c8dea3d0>"
       ]
      },
      {
       "javascript": [
        "$('div#6c13d28b-8427-4fd1-af03-6ca494fc42dd').width('15%')"
       ],
       "metadata": {},
       "output_type": "display_data",
       "text": [
        "<IPython.core.display.Javascript at 0x1c8dea3d0>"
       ]
      },
      {
       "javascript": [
        "$('div#6c13d28b-8427-4fd1-af03-6ca494fc42dd').width('16%')"
       ],
       "metadata": {},
       "output_type": "display_data",
       "text": [
        "<IPython.core.display.Javascript at 0x1c8dea3d0>"
       ]
      },
      {
       "javascript": [
        "$('div#6c13d28b-8427-4fd1-af03-6ca494fc42dd').width('17%')"
       ],
       "metadata": {},
       "output_type": "display_data",
       "text": [
        "<IPython.core.display.Javascript at 0x1c8dea3d0>"
       ]
      },
      {
       "javascript": [
        "$('div#6c13d28b-8427-4fd1-af03-6ca494fc42dd').width('17%')"
       ],
       "metadata": {},
       "output_type": "display_data",
       "text": [
        "<IPython.core.display.Javascript at 0x1c8dea3d0>"
       ]
      },
      {
       "javascript": [
        "$('div#6c13d28b-8427-4fd1-af03-6ca494fc42dd').width('18%')"
       ],
       "metadata": {},
       "output_type": "display_data",
       "text": [
        "<IPython.core.display.Javascript at 0x1c8dea3d0>"
       ]
      },
      {
       "javascript": [
        "$('div#6c13d28b-8427-4fd1-af03-6ca494fc42dd').width('19%')"
       ],
       "metadata": {},
       "output_type": "display_data",
       "text": [
        "<IPython.core.display.Javascript at 0x1c8dea3d0>"
       ]
      },
      {
       "javascript": [
        "$('div#6c13d28b-8427-4fd1-af03-6ca494fc42dd').width('20%')"
       ],
       "metadata": {},
       "output_type": "display_data",
       "text": [
        "<IPython.core.display.Javascript at 0x1c8dea3d0>"
       ]
      },
      {
       "javascript": [
        "$('div#6c13d28b-8427-4fd1-af03-6ca494fc42dd').width('21%')"
       ],
       "metadata": {},
       "output_type": "display_data",
       "text": [
        "<IPython.core.display.Javascript at 0x1c8dea3d0>"
       ]
      },
      {
       "javascript": [
        "$('div#6c13d28b-8427-4fd1-af03-6ca494fc42dd').width('21%')"
       ],
       "metadata": {},
       "output_type": "display_data",
       "text": [
        "<IPython.core.display.Javascript at 0x1c8dea3d0>"
       ]
      },
      {
       "javascript": [
        "$('div#6c13d28b-8427-4fd1-af03-6ca494fc42dd').width('22%')"
       ],
       "metadata": {},
       "output_type": "display_data",
       "text": [
        "<IPython.core.display.Javascript at 0x1c8dea3d0>"
       ]
      },
      {
       "javascript": [
        "$('div#6c13d28b-8427-4fd1-af03-6ca494fc42dd').width('23%')"
       ],
       "metadata": {},
       "output_type": "display_data",
       "text": [
        "<IPython.core.display.Javascript at 0x1c8dea3d0>"
       ]
      },
      {
       "javascript": [
        "$('div#6c13d28b-8427-4fd1-af03-6ca494fc42dd').width('24%')"
       ],
       "metadata": {},
       "output_type": "display_data",
       "text": [
        "<IPython.core.display.Javascript at 0x1c8dea3d0>"
       ]
      },
      {
       "javascript": [
        "$('div#6c13d28b-8427-4fd1-af03-6ca494fc42dd').width('25%')"
       ],
       "metadata": {},
       "output_type": "display_data",
       "text": [
        "<IPython.core.display.Javascript at 0x1c8dea3d0>"
       ]
      },
      {
       "javascript": [
        "$('div#6c13d28b-8427-4fd1-af03-6ca494fc42dd').width('25%')"
       ],
       "metadata": {},
       "output_type": "display_data",
       "text": [
        "<IPython.core.display.Javascript at 0x1c8dea3d0>"
       ]
      },
      {
       "javascript": [
        "$('div#6c13d28b-8427-4fd1-af03-6ca494fc42dd').width('26%')"
       ],
       "metadata": {},
       "output_type": "display_data",
       "text": [
        "<IPython.core.display.Javascript at 0x1c8dea3d0>"
       ]
      },
      {
       "javascript": [
        "$('div#6c13d28b-8427-4fd1-af03-6ca494fc42dd').width('27%')"
       ],
       "metadata": {},
       "output_type": "display_data",
       "text": [
        "<IPython.core.display.Javascript at 0x1c8dea3d0>"
       ]
      },
      {
       "javascript": [
        "$('div#6c13d28b-8427-4fd1-af03-6ca494fc42dd').width('28%')"
       ],
       "metadata": {},
       "output_type": "display_data",
       "text": [
        "<IPython.core.display.Javascript at 0x1c8dea3d0>"
       ]
      },
      {
       "javascript": [
        "$('div#6c13d28b-8427-4fd1-af03-6ca494fc42dd').width('28%')"
       ],
       "metadata": {},
       "output_type": "display_data",
       "text": [
        "<IPython.core.display.Javascript at 0x1c8dea3d0>"
       ]
      },
      {
       "javascript": [
        "$('div#6c13d28b-8427-4fd1-af03-6ca494fc42dd').width('29%')"
       ],
       "metadata": {},
       "output_type": "display_data",
       "text": [
        "<IPython.core.display.Javascript at 0x1c8dea3d0>"
       ]
      },
      {
       "javascript": [
        "$('div#6c13d28b-8427-4fd1-af03-6ca494fc42dd').width('30%')"
       ],
       "metadata": {},
       "output_type": "display_data",
       "text": [
        "<IPython.core.display.Javascript at 0x1c8dea3d0>"
       ]
      },
      {
       "javascript": [
        "$('div#6c13d28b-8427-4fd1-af03-6ca494fc42dd').width('31%')"
       ],
       "metadata": {},
       "output_type": "display_data",
       "text": [
        "<IPython.core.display.Javascript at 0x1c8dea3d0>"
       ]
      },
      {
       "javascript": [
        "$('div#6c13d28b-8427-4fd1-af03-6ca494fc42dd').width('32%')"
       ],
       "metadata": {},
       "output_type": "display_data",
       "text": [
        "<IPython.core.display.Javascript at 0x1c8dea3d0>"
       ]
      },
      {
       "javascript": [
        "$('div#6c13d28b-8427-4fd1-af03-6ca494fc42dd').width('32%')"
       ],
       "metadata": {},
       "output_type": "display_data",
       "text": [
        "<IPython.core.display.Javascript at 0x1c8dea3d0>"
       ]
      },
      {
       "javascript": [
        "$('div#6c13d28b-8427-4fd1-af03-6ca494fc42dd').width('33%')"
       ],
       "metadata": {},
       "output_type": "display_data",
       "text": [
        "<IPython.core.display.Javascript at 0x1c8dea3d0>"
       ]
      },
      {
       "javascript": [
        "$('div#6c13d28b-8427-4fd1-af03-6ca494fc42dd').width('34%')"
       ],
       "metadata": {},
       "output_type": "display_data",
       "text": [
        "<IPython.core.display.Javascript at 0x1c8dea3d0>"
       ]
      },
      {
       "javascript": [
        "$('div#6c13d28b-8427-4fd1-af03-6ca494fc42dd').width('35%')"
       ],
       "metadata": {},
       "output_type": "display_data",
       "text": [
        "<IPython.core.display.Javascript at 0x1c8dea3d0>"
       ]
      },
      {
       "javascript": [
        "$('div#6c13d28b-8427-4fd1-af03-6ca494fc42dd').width('35%')"
       ],
       "metadata": {},
       "output_type": "display_data",
       "text": [
        "<IPython.core.display.Javascript at 0x1c8dea3d0>"
       ]
      },
      {
       "javascript": [
        "$('div#6c13d28b-8427-4fd1-af03-6ca494fc42dd').width('36%')"
       ],
       "metadata": {},
       "output_type": "display_data",
       "text": [
        "<IPython.core.display.Javascript at 0x1c8dea3d0>"
       ]
      },
      {
       "javascript": [
        "$('div#6c13d28b-8427-4fd1-af03-6ca494fc42dd').width('37%')"
       ],
       "metadata": {},
       "output_type": "display_data",
       "text": [
        "<IPython.core.display.Javascript at 0x1c8dea3d0>"
       ]
      },
      {
       "javascript": [
        "$('div#6c13d28b-8427-4fd1-af03-6ca494fc42dd').width('38%')"
       ],
       "metadata": {},
       "output_type": "display_data",
       "text": [
        "<IPython.core.display.Javascript at 0x1c8dea3d0>"
       ]
      },
      {
       "javascript": [
        "$('div#6c13d28b-8427-4fd1-af03-6ca494fc42dd').width('39%')"
       ],
       "metadata": {},
       "output_type": "display_data",
       "text": [
        "<IPython.core.display.Javascript at 0x1c8dea3d0>"
       ]
      },
      {
       "javascript": [
        "$('div#6c13d28b-8427-4fd1-af03-6ca494fc42dd').width('39%')"
       ],
       "metadata": {},
       "output_type": "display_data",
       "text": [
        "<IPython.core.display.Javascript at 0x1c8dea3d0>"
       ]
      },
      {
       "javascript": [
        "$('div#6c13d28b-8427-4fd1-af03-6ca494fc42dd').width('40%')"
       ],
       "metadata": {},
       "output_type": "display_data",
       "text": [
        "<IPython.core.display.Javascript at 0x1c8dea3d0>"
       ]
      },
      {
       "javascript": [
        "$('div#6c13d28b-8427-4fd1-af03-6ca494fc42dd').width('41%')"
       ],
       "metadata": {},
       "output_type": "display_data",
       "text": [
        "<IPython.core.display.Javascript at 0x1c8dea3d0>"
       ]
      },
      {
       "javascript": [
        "$('div#6c13d28b-8427-4fd1-af03-6ca494fc42dd').width('42%')"
       ],
       "metadata": {},
       "output_type": "display_data",
       "text": [
        "<IPython.core.display.Javascript at 0x1c8dea3d0>"
       ]
      },
      {
       "javascript": [
        "$('div#6c13d28b-8427-4fd1-af03-6ca494fc42dd').width('42%')"
       ],
       "metadata": {},
       "output_type": "display_data",
       "text": [
        "<IPython.core.display.Javascript at 0x1c8dea3d0>"
       ]
      },
      {
       "javascript": [
        "$('div#6c13d28b-8427-4fd1-af03-6ca494fc42dd').width('43%')"
       ],
       "metadata": {},
       "output_type": "display_data",
       "text": [
        "<IPython.core.display.Javascript at 0x1c8dea3d0>"
       ]
      },
      {
       "javascript": [
        "$('div#6c13d28b-8427-4fd1-af03-6ca494fc42dd').width('44%')"
       ],
       "metadata": {},
       "output_type": "display_data",
       "text": [
        "<IPython.core.display.Javascript at 0x1c8dea3d0>"
       ]
      },
      {
       "javascript": [
        "$('div#6c13d28b-8427-4fd1-af03-6ca494fc42dd').width('45%')"
       ],
       "metadata": {},
       "output_type": "display_data",
       "text": [
        "<IPython.core.display.Javascript at 0x1c8dea3d0>"
       ]
      },
      {
       "javascript": [
        "$('div#6c13d28b-8427-4fd1-af03-6ca494fc42dd').width('46%')"
       ],
       "metadata": {},
       "output_type": "display_data",
       "text": [
        "<IPython.core.display.Javascript at 0x1c8dea3d0>"
       ]
      },
      {
       "javascript": [
        "$('div#6c13d28b-8427-4fd1-af03-6ca494fc42dd').width('46%')"
       ],
       "metadata": {},
       "output_type": "display_data",
       "text": [
        "<IPython.core.display.Javascript at 0x1c8dea3d0>"
       ]
      },
      {
       "javascript": [
        "$('div#6c13d28b-8427-4fd1-af03-6ca494fc42dd').width('47%')"
       ],
       "metadata": {},
       "output_type": "display_data",
       "text": [
        "<IPython.core.display.Javascript at 0x1c8dea3d0>"
       ]
      },
      {
       "javascript": [
        "$('div#6c13d28b-8427-4fd1-af03-6ca494fc42dd').width('48%')"
       ],
       "metadata": {},
       "output_type": "display_data",
       "text": [
        "<IPython.core.display.Javascript at 0x1c8dea3d0>"
       ]
      },
      {
       "javascript": [
        "$('div#6c13d28b-8427-4fd1-af03-6ca494fc42dd').width('49%')"
       ],
       "metadata": {},
       "output_type": "display_data",
       "text": [
        "<IPython.core.display.Javascript at 0x1c8dea3d0>"
       ]
      },
      {
       "javascript": [
        "$('div#6c13d28b-8427-4fd1-af03-6ca494fc42dd').width('50%')"
       ],
       "metadata": {},
       "output_type": "display_data",
       "text": [
        "<IPython.core.display.Javascript at 0x1c8dea3d0>"
       ]
      },
      {
       "javascript": [
        "$('div#6c13d28b-8427-4fd1-af03-6ca494fc42dd').width('50%')"
       ],
       "metadata": {},
       "output_type": "display_data",
       "text": [
        "<IPython.core.display.Javascript at 0x1c8dea3d0>"
       ]
      },
      {
       "javascript": [
        "$('div#6c13d28b-8427-4fd1-af03-6ca494fc42dd').width('51%')"
       ],
       "metadata": {},
       "output_type": "display_data",
       "text": [
        "<IPython.core.display.Javascript at 0x1c8dea3d0>"
       ]
      },
      {
       "javascript": [
        "$('div#6c13d28b-8427-4fd1-af03-6ca494fc42dd').width('52%')"
       ],
       "metadata": {},
       "output_type": "display_data",
       "text": [
        "<IPython.core.display.Javascript at 0x1c8dea3d0>"
       ]
      },
      {
       "javascript": [
        "$('div#6c13d28b-8427-4fd1-af03-6ca494fc42dd').width('53%')"
       ],
       "metadata": {},
       "output_type": "display_data",
       "text": [
        "<IPython.core.display.Javascript at 0x1c8dea3d0>"
       ]
      },
      {
       "javascript": [
        "$('div#6c13d28b-8427-4fd1-af03-6ca494fc42dd').width('53%')"
       ],
       "metadata": {},
       "output_type": "display_data",
       "text": [
        "<IPython.core.display.Javascript at 0x1c8dea3d0>"
       ]
      },
      {
       "javascript": [
        "$('div#6c13d28b-8427-4fd1-af03-6ca494fc42dd').width('54%')"
       ],
       "metadata": {},
       "output_type": "display_data",
       "text": [
        "<IPython.core.display.Javascript at 0x1c8dea3d0>"
       ]
      },
      {
       "javascript": [
        "$('div#6c13d28b-8427-4fd1-af03-6ca494fc42dd').width('55%')"
       ],
       "metadata": {},
       "output_type": "display_data",
       "text": [
        "<IPython.core.display.Javascript at 0x1c8dea3d0>"
       ]
      },
      {
       "javascript": [
        "$('div#6c13d28b-8427-4fd1-af03-6ca494fc42dd').width('56%')"
       ],
       "metadata": {},
       "output_type": "display_data",
       "text": [
        "<IPython.core.display.Javascript at 0x1c8dea3d0>"
       ]
      },
      {
       "javascript": [
        "$('div#6c13d28b-8427-4fd1-af03-6ca494fc42dd').width('57%')"
       ],
       "metadata": {},
       "output_type": "display_data",
       "text": [
        "<IPython.core.display.Javascript at 0x1c8dea3d0>"
       ]
      },
      {
       "javascript": [
        "$('div#6c13d28b-8427-4fd1-af03-6ca494fc42dd').width('57%')"
       ],
       "metadata": {},
       "output_type": "display_data",
       "text": [
        "<IPython.core.display.Javascript at 0x1c8dea3d0>"
       ]
      },
      {
       "javascript": [
        "$('div#6c13d28b-8427-4fd1-af03-6ca494fc42dd').width('58%')"
       ],
       "metadata": {},
       "output_type": "display_data",
       "text": [
        "<IPython.core.display.Javascript at 0x1c8dea3d0>"
       ]
      },
      {
       "javascript": [
        "$('div#6c13d28b-8427-4fd1-af03-6ca494fc42dd').width('59%')"
       ],
       "metadata": {},
       "output_type": "display_data",
       "text": [
        "<IPython.core.display.Javascript at 0x1c8dea3d0>"
       ]
      },
      {
       "javascript": [
        "$('div#6c13d28b-8427-4fd1-af03-6ca494fc42dd').width('60%')"
       ],
       "metadata": {},
       "output_type": "display_data",
       "text": [
        "<IPython.core.display.Javascript at 0x1c8dea3d0>"
       ]
      },
      {
       "javascript": [
        "$('div#6c13d28b-8427-4fd1-af03-6ca494fc42dd').width('60%')"
       ],
       "metadata": {},
       "output_type": "display_data",
       "text": [
        "<IPython.core.display.Javascript at 0x1c8dea3d0>"
       ]
      },
      {
       "javascript": [
        "$('div#6c13d28b-8427-4fd1-af03-6ca494fc42dd').width('61%')"
       ],
       "metadata": {},
       "output_type": "display_data",
       "text": [
        "<IPython.core.display.Javascript at 0x1c8dea3d0>"
       ]
      },
      {
       "javascript": [
        "$('div#6c13d28b-8427-4fd1-af03-6ca494fc42dd').width('62%')"
       ],
       "metadata": {},
       "output_type": "display_data",
       "text": [
        "<IPython.core.display.Javascript at 0x1c8dea3d0>"
       ]
      },
      {
       "javascript": [
        "$('div#6c13d28b-8427-4fd1-af03-6ca494fc42dd').width('63%')"
       ],
       "metadata": {},
       "output_type": "display_data",
       "text": [
        "<IPython.core.display.Javascript at 0x1c8dea3d0>"
       ]
      },
      {
       "javascript": [
        "$('div#6c13d28b-8427-4fd1-af03-6ca494fc42dd').width('64%')"
       ],
       "metadata": {},
       "output_type": "display_data",
       "text": [
        "<IPython.core.display.Javascript at 0x1c8dea3d0>"
       ]
      },
      {
       "javascript": [
        "$('div#6c13d28b-8427-4fd1-af03-6ca494fc42dd').width('64%')"
       ],
       "metadata": {},
       "output_type": "display_data",
       "text": [
        "<IPython.core.display.Javascript at 0x1c8dea3d0>"
       ]
      },
      {
       "javascript": [
        "$('div#6c13d28b-8427-4fd1-af03-6ca494fc42dd').width('65%')"
       ],
       "metadata": {},
       "output_type": "display_data",
       "text": [
        "<IPython.core.display.Javascript at 0x1c8dea3d0>"
       ]
      },
      {
       "javascript": [
        "$('div#6c13d28b-8427-4fd1-af03-6ca494fc42dd').width('66%')"
       ],
       "metadata": {},
       "output_type": "display_data",
       "text": [
        "<IPython.core.display.Javascript at 0x1c8dea3d0>"
       ]
      },
      {
       "javascript": [
        "$('div#6c13d28b-8427-4fd1-af03-6ca494fc42dd').width('67%')"
       ],
       "metadata": {},
       "output_type": "display_data",
       "text": [
        "<IPython.core.display.Javascript at 0x1c8dea3d0>"
       ]
      },
      {
       "javascript": [
        "$('div#6c13d28b-8427-4fd1-af03-6ca494fc42dd').width('67%')"
       ],
       "metadata": {},
       "output_type": "display_data",
       "text": [
        "<IPython.core.display.Javascript at 0x1c8dea3d0>"
       ]
      },
      {
       "javascript": [
        "$('div#6c13d28b-8427-4fd1-af03-6ca494fc42dd').width('68%')"
       ],
       "metadata": {},
       "output_type": "display_data",
       "text": [
        "<IPython.core.display.Javascript at 0x1c8dea3d0>"
       ]
      },
      {
       "javascript": [
        "$('div#6c13d28b-8427-4fd1-af03-6ca494fc42dd').width('69%')"
       ],
       "metadata": {},
       "output_type": "display_data",
       "text": [
        "<IPython.core.display.Javascript at 0x1c8dea3d0>"
       ]
      },
      {
       "javascript": [
        "$('div#6c13d28b-8427-4fd1-af03-6ca494fc42dd').width('70%')"
       ],
       "metadata": {},
       "output_type": "display_data",
       "text": [
        "<IPython.core.display.Javascript at 0x1c8dea3d0>"
       ]
      },
      {
       "javascript": [
        "$('div#6c13d28b-8427-4fd1-af03-6ca494fc42dd').width('71%')"
       ],
       "metadata": {},
       "output_type": "display_data",
       "text": [
        "<IPython.core.display.Javascript at 0x1c8dea3d0>"
       ]
      },
      {
       "javascript": [
        "$('div#6c13d28b-8427-4fd1-af03-6ca494fc42dd').width('71%')"
       ],
       "metadata": {},
       "output_type": "display_data",
       "text": [
        "<IPython.core.display.Javascript at 0x1c8dea3d0>"
       ]
      },
      {
       "javascript": [
        "$('div#6c13d28b-8427-4fd1-af03-6ca494fc42dd').width('72%')"
       ],
       "metadata": {},
       "output_type": "display_data",
       "text": [
        "<IPython.core.display.Javascript at 0x1c8dea3d0>"
       ]
      },
      {
       "javascript": [
        "$('div#6c13d28b-8427-4fd1-af03-6ca494fc42dd').width('73%')"
       ],
       "metadata": {},
       "output_type": "display_data",
       "text": [
        "<IPython.core.display.Javascript at 0x1c8dea3d0>"
       ]
      },
      {
       "javascript": [
        "$('div#6c13d28b-8427-4fd1-af03-6ca494fc42dd').width('74%')"
       ],
       "metadata": {},
       "output_type": "display_data",
       "text": [
        "<IPython.core.display.Javascript at 0x1c8dea3d0>"
       ]
      },
      {
       "javascript": [
        "$('div#6c13d28b-8427-4fd1-af03-6ca494fc42dd').width('75%')"
       ],
       "metadata": {},
       "output_type": "display_data",
       "text": [
        "<IPython.core.display.Javascript at 0x1c8dea3d0>"
       ]
      },
      {
       "javascript": [
        "$('div#6c13d28b-8427-4fd1-af03-6ca494fc42dd').width('75%')"
       ],
       "metadata": {},
       "output_type": "display_data",
       "text": [
        "<IPython.core.display.Javascript at 0x1c8dea3d0>"
       ]
      },
      {
       "javascript": [
        "$('div#6c13d28b-8427-4fd1-af03-6ca494fc42dd').width('76%')"
       ],
       "metadata": {},
       "output_type": "display_data",
       "text": [
        "<IPython.core.display.Javascript at 0x1c8dea3d0>"
       ]
      },
      {
       "javascript": [
        "$('div#6c13d28b-8427-4fd1-af03-6ca494fc42dd').width('77%')"
       ],
       "metadata": {},
       "output_type": "display_data",
       "text": [
        "<IPython.core.display.Javascript at 0x1c8dea3d0>"
       ]
      },
      {
       "javascript": [
        "$('div#6c13d28b-8427-4fd1-af03-6ca494fc42dd').width('78%')"
       ],
       "metadata": {},
       "output_type": "display_data",
       "text": [
        "<IPython.core.display.Javascript at 0x1c8dea3d0>"
       ]
      },
      {
       "javascript": [
        "$('div#6c13d28b-8427-4fd1-af03-6ca494fc42dd').width('78%')"
       ],
       "metadata": {},
       "output_type": "display_data",
       "text": [
        "<IPython.core.display.Javascript at 0x1c8dea3d0>"
       ]
      },
      {
       "javascript": [
        "$('div#6c13d28b-8427-4fd1-af03-6ca494fc42dd').width('79%')"
       ],
       "metadata": {},
       "output_type": "display_data",
       "text": [
        "<IPython.core.display.Javascript at 0x1c8dea3d0>"
       ]
      },
      {
       "javascript": [
        "$('div#6c13d28b-8427-4fd1-af03-6ca494fc42dd').width('80%')"
       ],
       "metadata": {},
       "output_type": "display_data",
       "text": [
        "<IPython.core.display.Javascript at 0x1c8dea3d0>"
       ]
      },
      {
       "javascript": [
        "$('div#6c13d28b-8427-4fd1-af03-6ca494fc42dd').width('81%')"
       ],
       "metadata": {},
       "output_type": "display_data",
       "text": [
        "<IPython.core.display.Javascript at 0x1c8dea3d0>"
       ]
      },
      {
       "javascript": [
        "$('div#6c13d28b-8427-4fd1-af03-6ca494fc42dd').width('82%')"
       ],
       "metadata": {},
       "output_type": "display_data",
       "text": [
        "<IPython.core.display.Javascript at 0x1c8dea3d0>"
       ]
      },
      {
       "javascript": [
        "$('div#6c13d28b-8427-4fd1-af03-6ca494fc42dd').width('82%')"
       ],
       "metadata": {},
       "output_type": "display_data",
       "text": [
        "<IPython.core.display.Javascript at 0x1c8dea3d0>"
       ]
      },
      {
       "javascript": [
        "$('div#6c13d28b-8427-4fd1-af03-6ca494fc42dd').width('83%')"
       ],
       "metadata": {},
       "output_type": "display_data",
       "text": [
        "<IPython.core.display.Javascript at 0x1c8dea3d0>"
       ]
      },
      {
       "javascript": [
        "$('div#6c13d28b-8427-4fd1-af03-6ca494fc42dd').width('84%')"
       ],
       "metadata": {},
       "output_type": "display_data",
       "text": [
        "<IPython.core.display.Javascript at 0x1c8dea3d0>"
       ]
      },
      {
       "javascript": [
        "$('div#6c13d28b-8427-4fd1-af03-6ca494fc42dd').width('85%')"
       ],
       "metadata": {},
       "output_type": "display_data",
       "text": [
        "<IPython.core.display.Javascript at 0x1c8dea3d0>"
       ]
      },
      {
       "javascript": [
        "$('div#6c13d28b-8427-4fd1-af03-6ca494fc42dd').width('85%')"
       ],
       "metadata": {},
       "output_type": "display_data",
       "text": [
        "<IPython.core.display.Javascript at 0x1c8dea3d0>"
       ]
      },
      {
       "javascript": [
        "$('div#6c13d28b-8427-4fd1-af03-6ca494fc42dd').width('86%')"
       ],
       "metadata": {},
       "output_type": "display_data",
       "text": [
        "<IPython.core.display.Javascript at 0x1c8dea3d0>"
       ]
      },
      {
       "javascript": [
        "$('div#6c13d28b-8427-4fd1-af03-6ca494fc42dd').width('87%')"
       ],
       "metadata": {},
       "output_type": "display_data",
       "text": [
        "<IPython.core.display.Javascript at 0x1c8dea3d0>"
       ]
      },
      {
       "javascript": [
        "$('div#6c13d28b-8427-4fd1-af03-6ca494fc42dd').width('88%')"
       ],
       "metadata": {},
       "output_type": "display_data",
       "text": [
        "<IPython.core.display.Javascript at 0x1c8dea3d0>"
       ]
      },
      {
       "javascript": [
        "$('div#6c13d28b-8427-4fd1-af03-6ca494fc42dd').width('89%')"
       ],
       "metadata": {},
       "output_type": "display_data",
       "text": [
        "<IPython.core.display.Javascript at 0x1c8dea3d0>"
       ]
      },
      {
       "javascript": [
        "$('div#6c13d28b-8427-4fd1-af03-6ca494fc42dd').width('89%')"
       ],
       "metadata": {},
       "output_type": "display_data",
       "text": [
        "<IPython.core.display.Javascript at 0x1c8dea3d0>"
       ]
      },
      {
       "javascript": [
        "$('div#6c13d28b-8427-4fd1-af03-6ca494fc42dd').width('90%')"
       ],
       "metadata": {},
       "output_type": "display_data",
       "text": [
        "<IPython.core.display.Javascript at 0x1c8dea3d0>"
       ]
      },
      {
       "javascript": [
        "$('div#6c13d28b-8427-4fd1-af03-6ca494fc42dd').width('91%')"
       ],
       "metadata": {},
       "output_type": "display_data",
       "text": [
        "<IPython.core.display.Javascript at 0x1c8dea3d0>"
       ]
      },
      {
       "javascript": [
        "$('div#6c13d28b-8427-4fd1-af03-6ca494fc42dd').width('92%')"
       ],
       "metadata": {},
       "output_type": "display_data",
       "text": [
        "<IPython.core.display.Javascript at 0x1c8dea3d0>"
       ]
      },
      {
       "javascript": [
        "$('div#6c13d28b-8427-4fd1-af03-6ca494fc42dd').width('92%')"
       ],
       "metadata": {},
       "output_type": "display_data",
       "text": [
        "<IPython.core.display.Javascript at 0x1c8dea3d0>"
       ]
      },
      {
       "javascript": [
        "$('div#6c13d28b-8427-4fd1-af03-6ca494fc42dd').width('93%')"
       ],
       "metadata": {},
       "output_type": "display_data",
       "text": [
        "<IPython.core.display.Javascript at 0x1c8dea3d0>"
       ]
      },
      {
       "javascript": [
        "$('div#6c13d28b-8427-4fd1-af03-6ca494fc42dd').width('94%')"
       ],
       "metadata": {},
       "output_type": "display_data",
       "text": [
        "<IPython.core.display.Javascript at 0x1c8dea3d0>"
       ]
      },
      {
       "javascript": [
        "$('div#6c13d28b-8427-4fd1-af03-6ca494fc42dd').width('95%')"
       ],
       "metadata": {},
       "output_type": "display_data",
       "text": [
        "<IPython.core.display.Javascript at 0x1c8dea3d0>"
       ]
      },
      {
       "javascript": [
        "$('div#6c13d28b-8427-4fd1-af03-6ca494fc42dd').width('96%')"
       ],
       "metadata": {},
       "output_type": "display_data",
       "text": [
        "<IPython.core.display.Javascript at 0x1c8dea3d0>"
       ]
      },
      {
       "javascript": [
        "$('div#6c13d28b-8427-4fd1-af03-6ca494fc42dd').width('96%')"
       ],
       "metadata": {},
       "output_type": "display_data",
       "text": [
        "<IPython.core.display.Javascript at 0x1c8dea3d0>"
       ]
      },
      {
       "javascript": [
        "$('div#6c13d28b-8427-4fd1-af03-6ca494fc42dd').width('97%')"
       ],
       "metadata": {},
       "output_type": "display_data",
       "text": [
        "<IPython.core.display.Javascript at 0x1c8dea3d0>"
       ]
      },
      {
       "javascript": [
        "$('div#6c13d28b-8427-4fd1-af03-6ca494fc42dd').width('98%')"
       ],
       "metadata": {},
       "output_type": "display_data",
       "text": [
        "<IPython.core.display.Javascript at 0x1c8dea3d0>"
       ]
      },
      {
       "javascript": [
        "$('div#6c13d28b-8427-4fd1-af03-6ca494fc42dd').width('99%')"
       ],
       "metadata": {},
       "output_type": "display_data",
       "text": [
        "<IPython.core.display.Javascript at 0x1c8dea3d0>"
       ]
      },
      {
       "javascript": [
        "$('div#6c13d28b-8427-4fd1-af03-6ca494fc42dd').width('100%')"
       ],
       "metadata": {},
       "output_type": "display_data",
       "text": [
        "<IPython.core.display.Javascript at 0x1c8dea9d0>"
       ]
      },
      {
       "html": [
        "<iframe src=http://127.0.0.1:8001/7037530 width=100%% height=420 frameborder=0></iframe>"
       ],
       "metadata": {},
       "output_type": "pyout",
       "prompt_number": 20,
       "text": [
        "<DisplayNode.DisplayNodeProxy.DisplayNode instance at 0x1d920ce60>"
       ]
      }
     ],
     "prompt_number": 20
    },
    {
     "cell_type": "code",
     "collapsed": false,
     "input": [],
     "language": "python",
     "metadata": {},
     "outputs": [],
     "prompt_number": 7
    },
    {
     "cell_type": "code",
     "collapsed": false,
     "input": [],
     "language": "python",
     "metadata": {},
     "outputs": [],
     "prompt_number": 7
    },
    {
     "cell_type": "code",
     "collapsed": false,
     "input": [],
     "language": "python",
     "metadata": {},
     "outputs": [],
     "prompt_number": 7
    },
    {
     "cell_type": "code",
     "collapsed": false,
     "input": [],
     "language": "python",
     "metadata": {},
     "outputs": []
    },
    {
     "cell_type": "code",
     "collapsed": false,
     "input": [],
     "language": "python",
     "metadata": {},
     "outputs": []
    },
    {
     "cell_type": "code",
     "collapsed": false,
     "input": [],
     "language": "python",
     "metadata": {},
     "outputs": [],
     "prompt_number": 18
    },
    {
     "cell_type": "code",
     "collapsed": false,
     "input": [],
     "language": "python",
     "metadata": {},
     "outputs": []
    },
    {
     "cell_type": "code",
     "collapsed": false,
     "input": [],
     "language": "python",
     "metadata": {},
     "outputs": []
    },
    {
     "cell_type": "code",
     "collapsed": false,
     "input": [],
     "language": "python",
     "metadata": {},
     "outputs": [],
     "prompt_number": 6
    },
    {
     "cell_type": "code",
     "collapsed": false,
     "input": [],
     "language": "python",
     "metadata": {},
     "outputs": [],
     "prompt_number": 6
    },
    {
     "cell_type": "code",
     "collapsed": false,
     "input": [],
     "language": "python",
     "metadata": {},
     "outputs": [],
     "prompt_number": 6
    },
    {
     "cell_type": "code",
     "collapsed": false,
     "input": [],
     "language": "python",
     "metadata": {},
     "outputs": [],
     "prompt_number": 47
    },
    {
     "cell_type": "code",
     "collapsed": false,
     "input": [],
     "language": "python",
     "metadata": {},
     "outputs": [],
     "prompt_number": 6
    },
    {
     "cell_type": "code",
     "collapsed": false,
     "input": [],
     "language": "python",
     "metadata": {},
     "outputs": [],
     "prompt_number": 6
    },
    {
     "cell_type": "code",
     "collapsed": false,
     "input": [],
     "language": "python",
     "metadata": {},
     "outputs": [],
     "prompt_number": 6
    },
    {
     "cell_type": "code",
     "collapsed": false,
     "input": [],
     "language": "python",
     "metadata": {},
     "outputs": [],
     "prompt_number": 55
    },
    {
     "cell_type": "code",
     "collapsed": false,
     "input": [],
     "language": "python",
     "metadata": {},
     "outputs": [],
     "prompt_number": 21
    },
    {
     "cell_type": "code",
     "collapsed": false,
     "input": [],
     "language": "python",
     "metadata": {},
     "outputs": [],
     "prompt_number": 21
    },
    {
     "cell_type": "code",
     "collapsed": false,
     "input": [],
     "language": "python",
     "metadata": {},
     "outputs": [],
     "prompt_number": 21
    },
    {
     "cell_type": "code",
     "collapsed": false,
     "input": [],
     "language": "python",
     "metadata": {},
     "outputs": [],
     "prompt_number": 21
    },
    {
     "cell_type": "code",
     "collapsed": false,
     "input": [],
     "language": "python",
     "metadata": {},
     "outputs": [],
     "prompt_number": 9
    },
    {
     "cell_type": "code",
     "collapsed": false,
     "input": [],
     "language": "python",
     "metadata": {},
     "outputs": [],
     "prompt_number": 8
    },
    {
     "cell_type": "code",
     "collapsed": false,
     "input": [],
     "language": "python",
     "metadata": {},
     "outputs": [],
     "prompt_number": 8
    },
    {
     "cell_type": "code",
     "collapsed": false,
     "input": [],
     "language": "python",
     "metadata": {},
     "outputs": []
    }
   ],
   "metadata": {}
  }
 ]
}