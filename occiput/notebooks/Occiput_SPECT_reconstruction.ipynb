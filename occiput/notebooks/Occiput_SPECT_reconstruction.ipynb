{
 "metadata": {
  "name": ""
 },
 "nbformat": 3,
 "nbformat_minor": 0,
 "worksheets": [
  {
   "cells": [
    {
     "cell_type": "code",
     "collapsed": false,
     "input": [
      "import occiput\n",
      "occiput.initialise()\n",
      "\n",
      "from occiput.Reconstruction.SPECT import SPECT_Static_Scan\n",
      "from occiput.DataSources.Synthetic import uniform_sphere, uniform_spheres_ring\n",
      "\n",
      "import numpy"
     ],
     "language": "python",
     "metadata": {},
     "outputs": [
      {
       "html": [
        "\n",
        "        <style>\n",
        "        div.nav.brand.pull-left {\n",
        "        width:  300px; \n",
        "        height: 35px; \n",
        "        background-repeat: no-repeat;\n",
        "\t    background-image: url(data:image/png;base64,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);\n",
        "\t    text-indent: -999px;\n",
        "    }\n",
        "    </style>"
       ],
       "metadata": {},
       "output_type": "display_data",
       "text": [
        "<IPython.core.display.HTML at 0x1227999d0>"
       ]
      }
     ],
     "prompt_number": 30
    },
    {
     "cell_type": "code",
     "collapsed": false,
     "input": [
      "# Number of voxels of the synthetic activity volume: \n",
      "\n",
      "phantom_voxels_x       = 128                       # voxels\n",
      "phantom_voxels_y       = 128                       # voxels\n",
      "phantom_voxels_z       = 128                       # voxels\n",
      "\n",
      "# Size of the synthetic activity volume in [mm] \n",
      "\n",
      "phantom_size_x         = 128                       # [mm]\n",
      "phantom_size_y         = 128                       # [mm]\n",
      "phantom_size_z         = 128                       # [mm]\n",
      "\n",
      "\n",
      "# Center of the synthetic activity volume in [mm]\n",
      "\n",
      "phantom_center_x       = 0.5  * phantom_size_x     # [mm]\n",
      "phantom_center_y       = 0.5  * phantom_size_y     # [mm]\n",
      "phantom_center_z       = 0.5  * phantom_size_z     # [mm]\n",
      "\n",
      "\n",
      "# Synthetic activity parameters: \n",
      "\n",
      "phantom_n_spheres      = 6                         # number of spheres\n",
      "phantom_ring_radius    = 0.4  * phantom_size_x     # radius of the ring of spheres  [mm]\n",
      "phantom_small_radius   = 0.04 * phantom_size_z     # radius of the smallest spheres [mm]\n",
      "phantom_large_radius   = 0.10 * phantom_size_z     # radius of the largest sphere   [mm]\n",
      "phantom_value          = 10.0                      # activity inside the spheres\n",
      "phantom_background     = 0.25                      # activity outside the spheres \n",
      "phantom_ring_axis      = 1                         # axis of the ring of spheres : 0 for X, 1 for Y, 2 for Z \n",
      "phantom_extrusion      = 0.6  * phantom_size_z     # extrusion along axis           [mm] \n",
      "\n",
      "\n",
      "# Make the synthetic activity volume: \n",
      "\n",
      "phantom = uniform_spheres_ring(  [phantom_voxels_x, phantom_voxels_y, phantom_voxels_z], \n",
      "                                 [phantom_size_x,   phantom_size_y,   phantom_size_z  ], \n",
      "                                 [phantom_center_x, phantom_center_y, phantom_center_z], \n",
      "                                  phantom_ring_radius, phantom_small_radius, phantom_large_radius, \n",
      "                                  phantom_n_spheres, phantom_value, phantom_background, phantom_extrusion, phantom_ring_axis)  "
     ],
     "language": "python",
     "metadata": {},
     "outputs": [],
     "prompt_number": 31
    },
    {
     "cell_type": "code",
     "collapsed": false,
     "input": [
      "SCAN = SPECT_Static_Scan()"
     ],
     "language": "python",
     "metadata": {},
     "outputs": [],
     "prompt_number": 32
    },
    {
     "cell_type": "code",
     "collapsed": false,
     "input": [
      "projection = SCAN.project(phantom.data)\n",
      "SCAN.set_measurement(projection.data)\n",
      "SCAN.display_measurement()"
     ],
     "language": "python",
     "metadata": {},
     "outputs": [],
     "prompt_number": 5
    },
    {
     "cell_type": "code",
     "collapsed": false,
     "input": [
      "activity=SCAN.estimate_activity(iterations=40, subset_size=180)"
     ],
     "language": "python",
     "metadata": {},
     "outputs": [],
     "prompt_number": 6
    },
    {
     "cell_type": "code",
     "collapsed": false,
     "input": [
      "SCAN.volume_render(activity)"
     ],
     "language": "python",
     "metadata": {},
     "outputs": [
      {
       "html": [
        "\n",
        "        <div style=\"border: 1px solid white; width:100%%; height:6px; background-color:rgb(246,246,246)\">\n",
        "            <div id=\"5f664c52-15e2-4d75-a03d-e1004eeffe0e\" style=\"background-color:rgb(200,200,200); width:0%; height:6px\"> </div>\n",
        "        </div> \n",
        "        "
       ],
       "metadata": {},
       "output_type": "display_data",
       "text": [
        "<IPython.core.display.HTML at 0x11c55d1d0>"
       ]
      },
      {
       "javascript": [
        "$('div#5f664c52-15e2-4d75-a03d-e1004eeffe0e').width('1%')"
       ],
       "metadata": {},
       "output_type": "display_data",
       "text": [
        "<IPython.core.display.Javascript at 0x11c55d950>"
       ]
      },
      {
       "javascript": [
        "$('div#5f664c52-15e2-4d75-a03d-e1004eeffe0e').width('1%')"
       ],
       "metadata": {},
       "output_type": "display_data",
       "text": [
        "<IPython.core.display.Javascript at 0x11c55d950>"
       ]
      },
      {
       "javascript": [
        "$('div#5f664c52-15e2-4d75-a03d-e1004eeffe0e').width('1%')"
       ],
       "metadata": {},
       "output_type": "display_data",
       "text": [
        "<IPython.core.display.Javascript at 0x11c55d950>"
       ]
      },
      {
       "javascript": [
        "$('div#5f664c52-15e2-4d75-a03d-e1004eeffe0e').width('1%')"
       ],
       "metadata": {},
       "output_type": "display_data",
       "text": [
        "<IPython.core.display.Javascript at 0x11c55d950>"
       ]
      },
      {
       "javascript": [
        "$('div#5f664c52-15e2-4d75-a03d-e1004eeffe0e').width('2%')"
       ],
       "metadata": {},
       "output_type": "display_data",
       "text": [
        "<IPython.core.display.Javascript at 0x11c55d950>"
       ]
      },
      {
       "javascript": [
        "$('div#5f664c52-15e2-4d75-a03d-e1004eeffe0e').width('2%')"
       ],
       "metadata": {},
       "output_type": "display_data",
       "text": [
        "<IPython.core.display.Javascript at 0x11c55d950>"
       ]
      },
      {
       "javascript": [
        "$('div#5f664c52-15e2-4d75-a03d-e1004eeffe0e').width('3%')"
       ],
       "metadata": {},
       "output_type": "display_data",
       "text": [
        "<IPython.core.display.Javascript at 0x11c55d950>"
       ]
      },
      {
       "javascript": [
        "$('div#5f664c52-15e2-4d75-a03d-e1004eeffe0e').width('3%')"
       ],
       "metadata": {},
       "output_type": "display_data",
       "text": [
        "<IPython.core.display.Javascript at 0x11c55d950>"
       ]
      },
      {
       "javascript": [
        "$('div#5f664c52-15e2-4d75-a03d-e1004eeffe0e').width('4%')"
       ],
       "metadata": {},
       "output_type": "display_data",
       "text": [
        "<IPython.core.display.Javascript at 0x11c55d950>"
       ]
      },
      {
       "javascript": [
        "$('div#5f664c52-15e2-4d75-a03d-e1004eeffe0e').width('5%')"
       ],
       "metadata": {},
       "output_type": "display_data",
       "text": [
        "<IPython.core.display.Javascript at 0x11c55d950>"
       ]
      },
      {
       "javascript": [
        "$('div#5f664c52-15e2-4d75-a03d-e1004eeffe0e').width('5%')"
       ],
       "metadata": {},
       "output_type": "display_data",
       "text": [
        "<IPython.core.display.Javascript at 0x11c55d950>"
       ]
      },
      {
       "javascript": [
        "$('div#5f664c52-15e2-4d75-a03d-e1004eeffe0e').width('6%')"
       ],
       "metadata": {},
       "output_type": "display_data",
       "text": [
        "<IPython.core.display.Javascript at 0x11c55d950>"
       ]
      },
      {
       "javascript": [
        "$('div#5f664c52-15e2-4d75-a03d-e1004eeffe0e').width('6%')"
       ],
       "metadata": {},
       "output_type": "display_data",
       "text": [
        "<IPython.core.display.Javascript at 0x11c55d950>"
       ]
      },
      {
       "javascript": [
        "$('div#5f664c52-15e2-4d75-a03d-e1004eeffe0e').width('7%')"
       ],
       "metadata": {},
       "output_type": "display_data",
       "text": [
        "<IPython.core.display.Javascript at 0x11c55d950>"
       ]
      },
      {
       "javascript": [
        "$('div#5f664c52-15e2-4d75-a03d-e1004eeffe0e').width('7%')"
       ],
       "metadata": {},
       "output_type": "display_data",
       "text": [
        "<IPython.core.display.Javascript at 0x11c55d950>"
       ]
      },
      {
       "javascript": [
        "$('div#5f664c52-15e2-4d75-a03d-e1004eeffe0e').width('8%')"
       ],
       "metadata": {},
       "output_type": "display_data",
       "text": [
        "<IPython.core.display.Javascript at 0x11c55d950>"
       ]
      },
      {
       "javascript": [
        "$('div#5f664c52-15e2-4d75-a03d-e1004eeffe0e').width('8%')"
       ],
       "metadata": {},
       "output_type": "display_data",
       "text": [
        "<IPython.core.display.Javascript at 0x11c55d950>"
       ]
      },
      {
       "javascript": [
        "$('div#5f664c52-15e2-4d75-a03d-e1004eeffe0e').width('9%')"
       ],
       "metadata": {},
       "output_type": "display_data",
       "text": [
        "<IPython.core.display.Javascript at 0x11c55d950>"
       ]
      },
      {
       "javascript": [
        "$('div#5f664c52-15e2-4d75-a03d-e1004eeffe0e').width('10%')"
       ],
       "metadata": {},
       "output_type": "display_data",
       "text": [
        "<IPython.core.display.Javascript at 0x11c55d950>"
       ]
      },
      {
       "javascript": [
        "$('div#5f664c52-15e2-4d75-a03d-e1004eeffe0e').width('10%')"
       ],
       "metadata": {},
       "output_type": "display_data",
       "text": [
        "<IPython.core.display.Javascript at 0x11c55d950>"
       ]
      },
      {
       "javascript": [
        "$('div#5f664c52-15e2-4d75-a03d-e1004eeffe0e').width('11%')"
       ],
       "metadata": {},
       "output_type": "display_data",
       "text": [
        "<IPython.core.display.Javascript at 0x11c55d950>"
       ]
      },
      {
       "javascript": [
        "$('div#5f664c52-15e2-4d75-a03d-e1004eeffe0e').width('11%')"
       ],
       "metadata": {},
       "output_type": "display_data",
       "text": [
        "<IPython.core.display.Javascript at 0x11c55d950>"
       ]
      },
      {
       "javascript": [
        "$('div#5f664c52-15e2-4d75-a03d-e1004eeffe0e').width('12%')"
       ],
       "metadata": {},
       "output_type": "display_data",
       "text": [
        "<IPython.core.display.Javascript at 0x11c55d950>"
       ]
      },
      {
       "javascript": [
        "$('div#5f664c52-15e2-4d75-a03d-e1004eeffe0e').width('12%')"
       ],
       "metadata": {},
       "output_type": "display_data",
       "text": [
        "<IPython.core.display.Javascript at 0x11c55d950>"
       ]
      },
      {
       "javascript": [
        "$('div#5f664c52-15e2-4d75-a03d-e1004eeffe0e').width('13%')"
       ],
       "metadata": {},
       "output_type": "display_data",
       "text": [
        "<IPython.core.display.Javascript at 0x11c55d950>"
       ]
      },
      {
       "javascript": [
        "$('div#5f664c52-15e2-4d75-a03d-e1004eeffe0e').width('13%')"
       ],
       "metadata": {},
       "output_type": "display_data",
       "text": [
        "<IPython.core.display.Javascript at 0x11c55d950>"
       ]
      },
      {
       "javascript": [
        "$('div#5f664c52-15e2-4d75-a03d-e1004eeffe0e').width('14%')"
       ],
       "metadata": {},
       "output_type": "display_data",
       "text": [
        "<IPython.core.display.Javascript at 0x11c55d950>"
       ]
      },
      {
       "javascript": [
        "$('div#5f664c52-15e2-4d75-a03d-e1004eeffe0e').width('15%')"
       ],
       "metadata": {},
       "output_type": "display_data",
       "text": [
        "<IPython.core.display.Javascript at 0x11c55d950>"
       ]
      },
      {
       "javascript": [
        "$('div#5f664c52-15e2-4d75-a03d-e1004eeffe0e').width('15%')"
       ],
       "metadata": {},
       "output_type": "display_data",
       "text": [
        "<IPython.core.display.Javascript at 0x11c55d950>"
       ]
      },
      {
       "javascript": [
        "$('div#5f664c52-15e2-4d75-a03d-e1004eeffe0e').width('16%')"
       ],
       "metadata": {},
       "output_type": "display_data",
       "text": [
        "<IPython.core.display.Javascript at 0x11c55d950>"
       ]
      },
      {
       "javascript": [
        "$('div#5f664c52-15e2-4d75-a03d-e1004eeffe0e').width('16%')"
       ],
       "metadata": {},
       "output_type": "display_data",
       "text": [
        "<IPython.core.display.Javascript at 0x11c55d950>"
       ]
      },
      {
       "javascript": [
        "$('div#5f664c52-15e2-4d75-a03d-e1004eeffe0e').width('17%')"
       ],
       "metadata": {},
       "output_type": "display_data",
       "text": [
        "<IPython.core.display.Javascript at 0x11c55d950>"
       ]
      },
      {
       "javascript": [
        "$('div#5f664c52-15e2-4d75-a03d-e1004eeffe0e').width('17%')"
       ],
       "metadata": {},
       "output_type": "display_data",
       "text": [
        "<IPython.core.display.Javascript at 0x11c55d950>"
       ]
      },
      {
       "javascript": [
        "$('div#5f664c52-15e2-4d75-a03d-e1004eeffe0e').width('18%')"
       ],
       "metadata": {},
       "output_type": "display_data",
       "text": [
        "<IPython.core.display.Javascript at 0x11c55d950>"
       ]
      },
      {
       "javascript": [
        "$('div#5f664c52-15e2-4d75-a03d-e1004eeffe0e').width('18%')"
       ],
       "metadata": {},
       "output_type": "display_data",
       "text": [
        "<IPython.core.display.Javascript at 0x11c55d950>"
       ]
      },
      {
       "javascript": [
        "$('div#5f664c52-15e2-4d75-a03d-e1004eeffe0e').width('19%')"
       ],
       "metadata": {},
       "output_type": "display_data",
       "text": [
        "<IPython.core.display.Javascript at 0x11c55d950>"
       ]
      },
      {
       "javascript": [
        "$('div#5f664c52-15e2-4d75-a03d-e1004eeffe0e').width('20%')"
       ],
       "metadata": {},
       "output_type": "display_data",
       "text": [
        "<IPython.core.display.Javascript at 0x11c55d950>"
       ]
      },
      {
       "javascript": [
        "$('div#5f664c52-15e2-4d75-a03d-e1004eeffe0e').width('20%')"
       ],
       "metadata": {},
       "output_type": "display_data",
       "text": [
        "<IPython.core.display.Javascript at 0x11c55d950>"
       ]
      },
      {
       "javascript": [
        "$('div#5f664c52-15e2-4d75-a03d-e1004eeffe0e').width('21%')"
       ],
       "metadata": {},
       "output_type": "display_data",
       "text": [
        "<IPython.core.display.Javascript at 0x11c55d950>"
       ]
      },
      {
       "javascript": [
        "$('div#5f664c52-15e2-4d75-a03d-e1004eeffe0e').width('21%')"
       ],
       "metadata": {},
       "output_type": "display_data",
       "text": [
        "<IPython.core.display.Javascript at 0x11c55d950>"
       ]
      },
      {
       "javascript": [
        "$('div#5f664c52-15e2-4d75-a03d-e1004eeffe0e').width('22%')"
       ],
       "metadata": {},
       "output_type": "display_data",
       "text": [
        "<IPython.core.display.Javascript at 0x11c55d950>"
       ]
      },
      {
       "javascript": [
        "$('div#5f664c52-15e2-4d75-a03d-e1004eeffe0e').width('22%')"
       ],
       "metadata": {},
       "output_type": "display_data",
       "text": [
        "<IPython.core.display.Javascript at 0x11c55d950>"
       ]
      },
      {
       "javascript": [
        "$('div#5f664c52-15e2-4d75-a03d-e1004eeffe0e').width('23%')"
       ],
       "metadata": {},
       "output_type": "display_data",
       "text": [
        "<IPython.core.display.Javascript at 0x11c55d950>"
       ]
      },
      {
       "javascript": [
        "$('div#5f664c52-15e2-4d75-a03d-e1004eeffe0e').width('23%')"
       ],
       "metadata": {},
       "output_type": "display_data",
       "text": [
        "<IPython.core.display.Javascript at 0x11c55d950>"
       ]
      },
      {
       "javascript": [
        "$('div#5f664c52-15e2-4d75-a03d-e1004eeffe0e').width('24%')"
       ],
       "metadata": {},
       "output_type": "display_data",
       "text": [
        "<IPython.core.display.Javascript at 0x11c55d950>"
       ]
      },
      {
       "javascript": [
        "$('div#5f664c52-15e2-4d75-a03d-e1004eeffe0e').width('25%')"
       ],
       "metadata": {},
       "output_type": "display_data",
       "text": [
        "<IPython.core.display.Javascript at 0x11c55d950>"
       ]
      },
      {
       "javascript": [
        "$('div#5f664c52-15e2-4d75-a03d-e1004eeffe0e').width('25%')"
       ],
       "metadata": {},
       "output_type": "display_data",
       "text": [
        "<IPython.core.display.Javascript at 0x11c55d950>"
       ]
      },
      {
       "javascript": [
        "$('div#5f664c52-15e2-4d75-a03d-e1004eeffe0e').width('26%')"
       ],
       "metadata": {},
       "output_type": "display_data",
       "text": [
        "<IPython.core.display.Javascript at 0x11c55d950>"
       ]
      },
      {
       "javascript": [
        "$('div#5f664c52-15e2-4d75-a03d-e1004eeffe0e').width('26%')"
       ],
       "metadata": {},
       "output_type": "display_data",
       "text": [
        "<IPython.core.display.Javascript at 0x11c55d950>"
       ]
      },
      {
       "javascript": [
        "$('div#5f664c52-15e2-4d75-a03d-e1004eeffe0e').width('27%')"
       ],
       "metadata": {},
       "output_type": "display_data",
       "text": [
        "<IPython.core.display.Javascript at 0x11c55d950>"
       ]
      },
      {
       "javascript": [
        "$('div#5f664c52-15e2-4d75-a03d-e1004eeffe0e').width('27%')"
       ],
       "metadata": {},
       "output_type": "display_data",
       "text": [
        "<IPython.core.display.Javascript at 0x11c55d950>"
       ]
      },
      {
       "javascript": [
        "$('div#5f664c52-15e2-4d75-a03d-e1004eeffe0e').width('28%')"
       ],
       "metadata": {},
       "output_type": "display_data",
       "text": [
        "<IPython.core.display.Javascript at 0x11c55d950>"
       ]
      },
      {
       "javascript": [
        "$('div#5f664c52-15e2-4d75-a03d-e1004eeffe0e').width('28%')"
       ],
       "metadata": {},
       "output_type": "display_data",
       "text": [
        "<IPython.core.display.Javascript at 0x11c55d950>"
       ]
      },
      {
       "javascript": [
        "$('div#5f664c52-15e2-4d75-a03d-e1004eeffe0e').width('29%')"
       ],
       "metadata": {},
       "output_type": "display_data",
       "text": [
        "<IPython.core.display.Javascript at 0x11c55d950>"
       ]
      },
      {
       "javascript": [
        "$('div#5f664c52-15e2-4d75-a03d-e1004eeffe0e').width('30%')"
       ],
       "metadata": {},
       "output_type": "display_data",
       "text": [
        "<IPython.core.display.Javascript at 0x11c55d950>"
       ]
      },
      {
       "javascript": [
        "$('div#5f664c52-15e2-4d75-a03d-e1004eeffe0e').width('30%')"
       ],
       "metadata": {},
       "output_type": "display_data",
       "text": [
        "<IPython.core.display.Javascript at 0x11c55d950>"
       ]
      },
      {
       "javascript": [
        "$('div#5f664c52-15e2-4d75-a03d-e1004eeffe0e').width('31%')"
       ],
       "metadata": {},
       "output_type": "display_data",
       "text": [
        "<IPython.core.display.Javascript at 0x11c55d950>"
       ]
      },
      {
       "javascript": [
        "$('div#5f664c52-15e2-4d75-a03d-e1004eeffe0e').width('31%')"
       ],
       "metadata": {},
       "output_type": "display_data",
       "text": [
        "<IPython.core.display.Javascript at 0x11c55d950>"
       ]
      },
      {
       "javascript": [
        "$('div#5f664c52-15e2-4d75-a03d-e1004eeffe0e').width('32%')"
       ],
       "metadata": {},
       "output_type": "display_data",
       "text": [
        "<IPython.core.display.Javascript at 0x11c55d950>"
       ]
      },
      {
       "javascript": [
        "$('div#5f664c52-15e2-4d75-a03d-e1004eeffe0e').width('32%')"
       ],
       "metadata": {},
       "output_type": "display_data",
       "text": [
        "<IPython.core.display.Javascript at 0x11c55d950>"
       ]
      },
      {
       "javascript": [
        "$('div#5f664c52-15e2-4d75-a03d-e1004eeffe0e').width('33%')"
       ],
       "metadata": {},
       "output_type": "display_data",
       "text": [
        "<IPython.core.display.Javascript at 0x11c55d950>"
       ]
      },
      {
       "javascript": [
        "$('div#5f664c52-15e2-4d75-a03d-e1004eeffe0e').width('33%')"
       ],
       "metadata": {},
       "output_type": "display_data",
       "text": [
        "<IPython.core.display.Javascript at 0x11c55d950>"
       ]
      },
      {
       "javascript": [
        "$('div#5f664c52-15e2-4d75-a03d-e1004eeffe0e').width('34%')"
       ],
       "metadata": {},
       "output_type": "display_data",
       "text": [
        "<IPython.core.display.Javascript at 0x11c55d950>"
       ]
      },
      {
       "javascript": [
        "$('div#5f664c52-15e2-4d75-a03d-e1004eeffe0e').width('35%')"
       ],
       "metadata": {},
       "output_type": "display_data",
       "text": [
        "<IPython.core.display.Javascript at 0x11c55d950>"
       ]
      },
      {
       "javascript": [
        "$('div#5f664c52-15e2-4d75-a03d-e1004eeffe0e').width('35%')"
       ],
       "metadata": {},
       "output_type": "display_data",
       "text": [
        "<IPython.core.display.Javascript at 0x11c55d950>"
       ]
      },
      {
       "javascript": [
        "$('div#5f664c52-15e2-4d75-a03d-e1004eeffe0e').width('36%')"
       ],
       "metadata": {},
       "output_type": "display_data",
       "text": [
        "<IPython.core.display.Javascript at 0x11c55d950>"
       ]
      },
      {
       "javascript": [
        "$('div#5f664c52-15e2-4d75-a03d-e1004eeffe0e').width('36%')"
       ],
       "metadata": {},
       "output_type": "display_data",
       "text": [
        "<IPython.core.display.Javascript at 0x11c55d950>"
       ]
      },
      {
       "javascript": [
        "$('div#5f664c52-15e2-4d75-a03d-e1004eeffe0e').width('37%')"
       ],
       "metadata": {},
       "output_type": "display_data",
       "text": [
        "<IPython.core.display.Javascript at 0x11c55d950>"
       ]
      },
      {
       "javascript": [
        "$('div#5f664c52-15e2-4d75-a03d-e1004eeffe0e').width('37%')"
       ],
       "metadata": {},
       "output_type": "display_data",
       "text": [
        "<IPython.core.display.Javascript at 0x11c55d950>"
       ]
      },
      {
       "javascript": [
        "$('div#5f664c52-15e2-4d75-a03d-e1004eeffe0e').width('38%')"
       ],
       "metadata": {},
       "output_type": "display_data",
       "text": [
        "<IPython.core.display.Javascript at 0x11c55d950>"
       ]
      },
      {
       "javascript": [
        "$('div#5f664c52-15e2-4d75-a03d-e1004eeffe0e').width('38%')"
       ],
       "metadata": {},
       "output_type": "display_data",
       "text": [
        "<IPython.core.display.Javascript at 0x11c55d950>"
       ]
      },
      {
       "javascript": [
        "$('div#5f664c52-15e2-4d75-a03d-e1004eeffe0e').width('39%')"
       ],
       "metadata": {},
       "output_type": "display_data",
       "text": [
        "<IPython.core.display.Javascript at 0x11c55d950>"
       ]
      },
      {
       "javascript": [
        "$('div#5f664c52-15e2-4d75-a03d-e1004eeffe0e').width('40%')"
       ],
       "metadata": {},
       "output_type": "display_data",
       "text": [
        "<IPython.core.display.Javascript at 0x11c55d950>"
       ]
      },
      {
       "javascript": [
        "$('div#5f664c52-15e2-4d75-a03d-e1004eeffe0e').width('40%')"
       ],
       "metadata": {},
       "output_type": "display_data",
       "text": [
        "<IPython.core.display.Javascript at 0x11c55d950>"
       ]
      },
      {
       "javascript": [
        "$('div#5f664c52-15e2-4d75-a03d-e1004eeffe0e').width('41%')"
       ],
       "metadata": {},
       "output_type": "display_data",
       "text": [
        "<IPython.core.display.Javascript at 0x11c55d950>"
       ]
      },
      {
       "javascript": [
        "$('div#5f664c52-15e2-4d75-a03d-e1004eeffe0e').width('41%')"
       ],
       "metadata": {},
       "output_type": "display_data",
       "text": [
        "<IPython.core.display.Javascript at 0x11c55d950>"
       ]
      },
      {
       "javascript": [
        "$('div#5f664c52-15e2-4d75-a03d-e1004eeffe0e').width('42%')"
       ],
       "metadata": {},
       "output_type": "display_data",
       "text": [
        "<IPython.core.display.Javascript at 0x11c55d950>"
       ]
      },
      {
       "javascript": [
        "$('div#5f664c52-15e2-4d75-a03d-e1004eeffe0e').width('42%')"
       ],
       "metadata": {},
       "output_type": "display_data",
       "text": [
        "<IPython.core.display.Javascript at 0x11c55d950>"
       ]
      },
      {
       "javascript": [
        "$('div#5f664c52-15e2-4d75-a03d-e1004eeffe0e').width('43%')"
       ],
       "metadata": {},
       "output_type": "display_data",
       "text": [
        "<IPython.core.display.Javascript at 0x11c55d950>"
       ]
      },
      {
       "javascript": [
        "$('div#5f664c52-15e2-4d75-a03d-e1004eeffe0e').width('43%')"
       ],
       "metadata": {},
       "output_type": "display_data",
       "text": [
        "<IPython.core.display.Javascript at 0x11c55d950>"
       ]
      },
      {
       "javascript": [
        "$('div#5f664c52-15e2-4d75-a03d-e1004eeffe0e').width('44%')"
       ],
       "metadata": {},
       "output_type": "display_data",
       "text": [
        "<IPython.core.display.Javascript at 0x11c55d950>"
       ]
      },
      {
       "javascript": [
        "$('div#5f664c52-15e2-4d75-a03d-e1004eeffe0e').width('45%')"
       ],
       "metadata": {},
       "output_type": "display_data",
       "text": [
        "<IPython.core.display.Javascript at 0x11c55d950>"
       ]
      },
      {
       "javascript": [
        "$('div#5f664c52-15e2-4d75-a03d-e1004eeffe0e').width('45%')"
       ],
       "metadata": {},
       "output_type": "display_data",
       "text": [
        "<IPython.core.display.Javascript at 0x11c55d950>"
       ]
      },
      {
       "javascript": [
        "$('div#5f664c52-15e2-4d75-a03d-e1004eeffe0e').width('46%')"
       ],
       "metadata": {},
       "output_type": "display_data",
       "text": [
        "<IPython.core.display.Javascript at 0x11c55d950>"
       ]
      },
      {
       "javascript": [
        "$('div#5f664c52-15e2-4d75-a03d-e1004eeffe0e').width('46%')"
       ],
       "metadata": {},
       "output_type": "display_data",
       "text": [
        "<IPython.core.display.Javascript at 0x11c55d950>"
       ]
      },
      {
       "javascript": [
        "$('div#5f664c52-15e2-4d75-a03d-e1004eeffe0e').width('47%')"
       ],
       "metadata": {},
       "output_type": "display_data",
       "text": [
        "<IPython.core.display.Javascript at 0x11c55d950>"
       ]
      },
      {
       "javascript": [
        "$('div#5f664c52-15e2-4d75-a03d-e1004eeffe0e').width('47%')"
       ],
       "metadata": {},
       "output_type": "display_data",
       "text": [
        "<IPython.core.display.Javascript at 0x11c55d950>"
       ]
      },
      {
       "javascript": [
        "$('div#5f664c52-15e2-4d75-a03d-e1004eeffe0e').width('48%')"
       ],
       "metadata": {},
       "output_type": "display_data",
       "text": [
        "<IPython.core.display.Javascript at 0x11c55d950>"
       ]
      },
      {
       "javascript": [
        "$('div#5f664c52-15e2-4d75-a03d-e1004eeffe0e').width('48%')"
       ],
       "metadata": {},
       "output_type": "display_data",
       "text": [
        "<IPython.core.display.Javascript at 0x11c55d950>"
       ]
      },
      {
       "javascript": [
        "$('div#5f664c52-15e2-4d75-a03d-e1004eeffe0e').width('49%')"
       ],
       "metadata": {},
       "output_type": "display_data",
       "text": [
        "<IPython.core.display.Javascript at 0x11c55d950>"
       ]
      },
      {
       "javascript": [
        "$('div#5f664c52-15e2-4d75-a03d-e1004eeffe0e').width('50%')"
       ],
       "metadata": {},
       "output_type": "display_data",
       "text": [
        "<IPython.core.display.Javascript at 0x11c55d950>"
       ]
      },
      {
       "javascript": [
        "$('div#5f664c52-15e2-4d75-a03d-e1004eeffe0e').width('50%')"
       ],
       "metadata": {},
       "output_type": "display_data",
       "text": [
        "<IPython.core.display.Javascript at 0x11c55d950>"
       ]
      },
      {
       "javascript": [
        "$('div#5f664c52-15e2-4d75-a03d-e1004eeffe0e').width('51%')"
       ],
       "metadata": {},
       "output_type": "display_data",
       "text": [
        "<IPython.core.display.Javascript at 0x11c55d950>"
       ]
      },
      {
       "javascript": [
        "$('div#5f664c52-15e2-4d75-a03d-e1004eeffe0e').width('51%')"
       ],
       "metadata": {},
       "output_type": "display_data",
       "text": [
        "<IPython.core.display.Javascript at 0x11c55d950>"
       ]
      },
      {
       "javascript": [
        "$('div#5f664c52-15e2-4d75-a03d-e1004eeffe0e').width('52%')"
       ],
       "metadata": {},
       "output_type": "display_data",
       "text": [
        "<IPython.core.display.Javascript at 0x11c55d950>"
       ]
      },
      {
       "javascript": [
        "$('div#5f664c52-15e2-4d75-a03d-e1004eeffe0e').width('52%')"
       ],
       "metadata": {},
       "output_type": "display_data",
       "text": [
        "<IPython.core.display.Javascript at 0x11c55d950>"
       ]
      },
      {
       "javascript": [
        "$('div#5f664c52-15e2-4d75-a03d-e1004eeffe0e').width('53%')"
       ],
       "metadata": {},
       "output_type": "display_data",
       "text": [
        "<IPython.core.display.Javascript at 0x11c55d950>"
       ]
      },
      {
       "javascript": [
        "$('div#5f664c52-15e2-4d75-a03d-e1004eeffe0e').width('53%')"
       ],
       "metadata": {},
       "output_type": "display_data",
       "text": [
        "<IPython.core.display.Javascript at 0x11c55d950>"
       ]
      },
      {
       "javascript": [
        "$('div#5f664c52-15e2-4d75-a03d-e1004eeffe0e').width('54%')"
       ],
       "metadata": {},
       "output_type": "display_data",
       "text": [
        "<IPython.core.display.Javascript at 0x11c55d950>"
       ]
      },
      {
       "javascript": [
        "$('div#5f664c52-15e2-4d75-a03d-e1004eeffe0e').width('55%')"
       ],
       "metadata": {},
       "output_type": "display_data",
       "text": [
        "<IPython.core.display.Javascript at 0x11c55d950>"
       ]
      },
      {
       "javascript": [
        "$('div#5f664c52-15e2-4d75-a03d-e1004eeffe0e').width('55%')"
       ],
       "metadata": {},
       "output_type": "display_data",
       "text": [
        "<IPython.core.display.Javascript at 0x11c55d950>"
       ]
      },
      {
       "javascript": [
        "$('div#5f664c52-15e2-4d75-a03d-e1004eeffe0e').width('56%')"
       ],
       "metadata": {},
       "output_type": "display_data",
       "text": [
        "<IPython.core.display.Javascript at 0x11c55d950>"
       ]
      },
      {
       "javascript": [
        "$('div#5f664c52-15e2-4d75-a03d-e1004eeffe0e').width('56%')"
       ],
       "metadata": {},
       "output_type": "display_data",
       "text": [
        "<IPython.core.display.Javascript at 0x11c55d950>"
       ]
      },
      {
       "javascript": [
        "$('div#5f664c52-15e2-4d75-a03d-e1004eeffe0e').width('57%')"
       ],
       "metadata": {},
       "output_type": "display_data",
       "text": [
        "<IPython.core.display.Javascript at 0x11c55d950>"
       ]
      },
      {
       "javascript": [
        "$('div#5f664c52-15e2-4d75-a03d-e1004eeffe0e').width('57%')"
       ],
       "metadata": {},
       "output_type": "display_data",
       "text": [
        "<IPython.core.display.Javascript at 0x11c55d950>"
       ]
      },
      {
       "javascript": [
        "$('div#5f664c52-15e2-4d75-a03d-e1004eeffe0e').width('58%')"
       ],
       "metadata": {},
       "output_type": "display_data",
       "text": [
        "<IPython.core.display.Javascript at 0x11c55d950>"
       ]
      },
      {
       "javascript": [
        "$('div#5f664c52-15e2-4d75-a03d-e1004eeffe0e').width('58%')"
       ],
       "metadata": {},
       "output_type": "display_data",
       "text": [
        "<IPython.core.display.Javascript at 0x11c55d950>"
       ]
      },
      {
       "javascript": [
        "$('div#5f664c52-15e2-4d75-a03d-e1004eeffe0e').width('59%')"
       ],
       "metadata": {},
       "output_type": "display_data",
       "text": [
        "<IPython.core.display.Javascript at 0x11c55d950>"
       ]
      },
      {
       "javascript": [
        "$('div#5f664c52-15e2-4d75-a03d-e1004eeffe0e').width('60%')"
       ],
       "metadata": {},
       "output_type": "display_data",
       "text": [
        "<IPython.core.display.Javascript at 0x11c55d950>"
       ]
      },
      {
       "javascript": [
        "$('div#5f664c52-15e2-4d75-a03d-e1004eeffe0e').width('60%')"
       ],
       "metadata": {},
       "output_type": "display_data",
       "text": [
        "<IPython.core.display.Javascript at 0x11c55d950>"
       ]
      },
      {
       "javascript": [
        "$('div#5f664c52-15e2-4d75-a03d-e1004eeffe0e').width('61%')"
       ],
       "metadata": {},
       "output_type": "display_data",
       "text": [
        "<IPython.core.display.Javascript at 0x11c55d950>"
       ]
      },
      {
       "javascript": [
        "$('div#5f664c52-15e2-4d75-a03d-e1004eeffe0e').width('61%')"
       ],
       "metadata": {},
       "output_type": "display_data",
       "text": [
        "<IPython.core.display.Javascript at 0x11c55d950>"
       ]
      },
      {
       "javascript": [
        "$('div#5f664c52-15e2-4d75-a03d-e1004eeffe0e').width('62%')"
       ],
       "metadata": {},
       "output_type": "display_data",
       "text": [
        "<IPython.core.display.Javascript at 0x11c55d950>"
       ]
      },
      {
       "javascript": [
        "$('div#5f664c52-15e2-4d75-a03d-e1004eeffe0e').width('62%')"
       ],
       "metadata": {},
       "output_type": "display_data",
       "text": [
        "<IPython.core.display.Javascript at 0x11c55d950>"
       ]
      },
      {
       "javascript": [
        "$('div#5f664c52-15e2-4d75-a03d-e1004eeffe0e').width('63%')"
       ],
       "metadata": {},
       "output_type": "display_data",
       "text": [
        "<IPython.core.display.Javascript at 0x11c55d950>"
       ]
      },
      {
       "javascript": [
        "$('div#5f664c52-15e2-4d75-a03d-e1004eeffe0e').width('63%')"
       ],
       "metadata": {},
       "output_type": "display_data",
       "text": [
        "<IPython.core.display.Javascript at 0x11c55d950>"
       ]
      },
      {
       "javascript": [
        "$('div#5f664c52-15e2-4d75-a03d-e1004eeffe0e').width('64%')"
       ],
       "metadata": {},
       "output_type": "display_data",
       "text": [
        "<IPython.core.display.Javascript at 0x11c55d950>"
       ]
      },
      {
       "javascript": [
        "$('div#5f664c52-15e2-4d75-a03d-e1004eeffe0e').width('65%')"
       ],
       "metadata": {},
       "output_type": "display_data",
       "text": [
        "<IPython.core.display.Javascript at 0x11c55d950>"
       ]
      },
      {
       "javascript": [
        "$('div#5f664c52-15e2-4d75-a03d-e1004eeffe0e').width('65%')"
       ],
       "metadata": {},
       "output_type": "display_data",
       "text": [
        "<IPython.core.display.Javascript at 0x11c55d950>"
       ]
      },
      {
       "javascript": [
        "$('div#5f664c52-15e2-4d75-a03d-e1004eeffe0e').width('66%')"
       ],
       "metadata": {},
       "output_type": "display_data",
       "text": [
        "<IPython.core.display.Javascript at 0x11c55d950>"
       ]
      },
      {
       "javascript": [
        "$('div#5f664c52-15e2-4d75-a03d-e1004eeffe0e').width('66%')"
       ],
       "metadata": {},
       "output_type": "display_data",
       "text": [
        "<IPython.core.display.Javascript at 0x11c55d950>"
       ]
      },
      {
       "javascript": [
        "$('div#5f664c52-15e2-4d75-a03d-e1004eeffe0e').width('67%')"
       ],
       "metadata": {},
       "output_type": "display_data",
       "text": [
        "<IPython.core.display.Javascript at 0x11c55d950>"
       ]
      },
      {
       "javascript": [
        "$('div#5f664c52-15e2-4d75-a03d-e1004eeffe0e').width('67%')"
       ],
       "metadata": {},
       "output_type": "display_data",
       "text": [
        "<IPython.core.display.Javascript at 0x11c55d950>"
       ]
      },
      {
       "javascript": [
        "$('div#5f664c52-15e2-4d75-a03d-e1004eeffe0e').width('68%')"
       ],
       "metadata": {},
       "output_type": "display_data",
       "text": [
        "<IPython.core.display.Javascript at 0x11c55d950>"
       ]
      },
      {
       "javascript": [
        "$('div#5f664c52-15e2-4d75-a03d-e1004eeffe0e').width('68%')"
       ],
       "metadata": {},
       "output_type": "display_data",
       "text": [
        "<IPython.core.display.Javascript at 0x11c55d950>"
       ]
      },
      {
       "javascript": [
        "$('div#5f664c52-15e2-4d75-a03d-e1004eeffe0e').width('69%')"
       ],
       "metadata": {},
       "output_type": "display_data",
       "text": [
        "<IPython.core.display.Javascript at 0x11c55d950>"
       ]
      },
      {
       "javascript": [
        "$('div#5f664c52-15e2-4d75-a03d-e1004eeffe0e').width('70%')"
       ],
       "metadata": {},
       "output_type": "display_data",
       "text": [
        "<IPython.core.display.Javascript at 0x11c55d950>"
       ]
      },
      {
       "javascript": [
        "$('div#5f664c52-15e2-4d75-a03d-e1004eeffe0e').width('70%')"
       ],
       "metadata": {},
       "output_type": "display_data",
       "text": [
        "<IPython.core.display.Javascript at 0x11c55d950>"
       ]
      },
      {
       "javascript": [
        "$('div#5f664c52-15e2-4d75-a03d-e1004eeffe0e').width('71%')"
       ],
       "metadata": {},
       "output_type": "display_data",
       "text": [
        "<IPython.core.display.Javascript at 0x11c55d950>"
       ]
      },
      {
       "javascript": [
        "$('div#5f664c52-15e2-4d75-a03d-e1004eeffe0e').width('71%')"
       ],
       "metadata": {},
       "output_type": "display_data",
       "text": [
        "<IPython.core.display.Javascript at 0x11c55d950>"
       ]
      },
      {
       "javascript": [
        "$('div#5f664c52-15e2-4d75-a03d-e1004eeffe0e').width('72%')"
       ],
       "metadata": {},
       "output_type": "display_data",
       "text": [
        "<IPython.core.display.Javascript at 0x11c55d950>"
       ]
      },
      {
       "javascript": [
        "$('div#5f664c52-15e2-4d75-a03d-e1004eeffe0e').width('72%')"
       ],
       "metadata": {},
       "output_type": "display_data",
       "text": [
        "<IPython.core.display.Javascript at 0x11c55d950>"
       ]
      },
      {
       "javascript": [
        "$('div#5f664c52-15e2-4d75-a03d-e1004eeffe0e').width('73%')"
       ],
       "metadata": {},
       "output_type": "display_data",
       "text": [
        "<IPython.core.display.Javascript at 0x11c55d950>"
       ]
      },
      {
       "javascript": [
        "$('div#5f664c52-15e2-4d75-a03d-e1004eeffe0e').width('73%')"
       ],
       "metadata": {},
       "output_type": "display_data",
       "text": [
        "<IPython.core.display.Javascript at 0x11c55d950>"
       ]
      },
      {
       "javascript": [
        "$('div#5f664c52-15e2-4d75-a03d-e1004eeffe0e').width('74%')"
       ],
       "metadata": {},
       "output_type": "display_data",
       "text": [
        "<IPython.core.display.Javascript at 0x11c55d950>"
       ]
      },
      {
       "javascript": [
        "$('div#5f664c52-15e2-4d75-a03d-e1004eeffe0e').width('75%')"
       ],
       "metadata": {},
       "output_type": "display_data",
       "text": [
        "<IPython.core.display.Javascript at 0x11c55d950>"
       ]
      },
      {
       "javascript": [
        "$('div#5f664c52-15e2-4d75-a03d-e1004eeffe0e').width('75%')"
       ],
       "metadata": {},
       "output_type": "display_data",
       "text": [
        "<IPython.core.display.Javascript at 0x11c55d950>"
       ]
      },
      {
       "javascript": [
        "$('div#5f664c52-15e2-4d75-a03d-e1004eeffe0e').width('76%')"
       ],
       "metadata": {},
       "output_type": "display_data",
       "text": [
        "<IPython.core.display.Javascript at 0x11c55d950>"
       ]
      },
      {
       "javascript": [
        "$('div#5f664c52-15e2-4d75-a03d-e1004eeffe0e').width('76%')"
       ],
       "metadata": {},
       "output_type": "display_data",
       "text": [
        "<IPython.core.display.Javascript at 0x11c55d950>"
       ]
      },
      {
       "javascript": [
        "$('div#5f664c52-15e2-4d75-a03d-e1004eeffe0e').width('77%')"
       ],
       "metadata": {},
       "output_type": "display_data",
       "text": [
        "<IPython.core.display.Javascript at 0x11c55d950>"
       ]
      },
      {
       "javascript": [
        "$('div#5f664c52-15e2-4d75-a03d-e1004eeffe0e').width('77%')"
       ],
       "metadata": {},
       "output_type": "display_data",
       "text": [
        "<IPython.core.display.Javascript at 0x11c55d950>"
       ]
      },
      {
       "javascript": [
        "$('div#5f664c52-15e2-4d75-a03d-e1004eeffe0e').width('78%')"
       ],
       "metadata": {},
       "output_type": "display_data",
       "text": [
        "<IPython.core.display.Javascript at 0x11c55d950>"
       ]
      },
      {
       "javascript": [
        "$('div#5f664c52-15e2-4d75-a03d-e1004eeffe0e').width('78%')"
       ],
       "metadata": {},
       "output_type": "display_data",
       "text": [
        "<IPython.core.display.Javascript at 0x11c55d950>"
       ]
      },
      {
       "javascript": [
        "$('div#5f664c52-15e2-4d75-a03d-e1004eeffe0e').width('79%')"
       ],
       "metadata": {},
       "output_type": "display_data",
       "text": [
        "<IPython.core.display.Javascript at 0x11c55d950>"
       ]
      },
      {
       "javascript": [
        "$('div#5f664c52-15e2-4d75-a03d-e1004eeffe0e').width('80%')"
       ],
       "metadata": {},
       "output_type": "display_data",
       "text": [
        "<IPython.core.display.Javascript at 0x11c55d950>"
       ]
      },
      {
       "javascript": [
        "$('div#5f664c52-15e2-4d75-a03d-e1004eeffe0e').width('80%')"
       ],
       "metadata": {},
       "output_type": "display_data",
       "text": [
        "<IPython.core.display.Javascript at 0x11c55d950>"
       ]
      },
      {
       "javascript": [
        "$('div#5f664c52-15e2-4d75-a03d-e1004eeffe0e').width('81%')"
       ],
       "metadata": {},
       "output_type": "display_data",
       "text": [
        "<IPython.core.display.Javascript at 0x11c55d950>"
       ]
      },
      {
       "javascript": [
        "$('div#5f664c52-15e2-4d75-a03d-e1004eeffe0e').width('81%')"
       ],
       "metadata": {},
       "output_type": "display_data",
       "text": [
        "<IPython.core.display.Javascript at 0x11c55d950>"
       ]
      },
      {
       "javascript": [
        "$('div#5f664c52-15e2-4d75-a03d-e1004eeffe0e').width('82%')"
       ],
       "metadata": {},
       "output_type": "display_data",
       "text": [
        "<IPython.core.display.Javascript at 0x11c55d950>"
       ]
      },
      {
       "javascript": [
        "$('div#5f664c52-15e2-4d75-a03d-e1004eeffe0e').width('82%')"
       ],
       "metadata": {},
       "output_type": "display_data",
       "text": [
        "<IPython.core.display.Javascript at 0x11c55d950>"
       ]
      },
      {
       "javascript": [
        "$('div#5f664c52-15e2-4d75-a03d-e1004eeffe0e').width('83%')"
       ],
       "metadata": {},
       "output_type": "display_data",
       "text": [
        "<IPython.core.display.Javascript at 0x11c55d950>"
       ]
      },
      {
       "javascript": [
        "$('div#5f664c52-15e2-4d75-a03d-e1004eeffe0e').width('83%')"
       ],
       "metadata": {},
       "output_type": "display_data",
       "text": [
        "<IPython.core.display.Javascript at 0x11c55d950>"
       ]
      },
      {
       "javascript": [
        "$('div#5f664c52-15e2-4d75-a03d-e1004eeffe0e').width('84%')"
       ],
       "metadata": {},
       "output_type": "display_data",
       "text": [
        "<IPython.core.display.Javascript at 0x11c55d950>"
       ]
      },
      {
       "javascript": [
        "$('div#5f664c52-15e2-4d75-a03d-e1004eeffe0e').width('85%')"
       ],
       "metadata": {},
       "output_type": "display_data",
       "text": [
        "<IPython.core.display.Javascript at 0x11c55d950>"
       ]
      },
      {
       "javascript": [
        "$('div#5f664c52-15e2-4d75-a03d-e1004eeffe0e').width('85%')"
       ],
       "metadata": {},
       "output_type": "display_data",
       "text": [
        "<IPython.core.display.Javascript at 0x11c55d950>"
       ]
      },
      {
       "javascript": [
        "$('div#5f664c52-15e2-4d75-a03d-e1004eeffe0e').width('86%')"
       ],
       "metadata": {},
       "output_type": "display_data",
       "text": [
        "<IPython.core.display.Javascript at 0x11c55d950>"
       ]
      },
      {
       "javascript": [
        "$('div#5f664c52-15e2-4d75-a03d-e1004eeffe0e').width('86%')"
       ],
       "metadata": {},
       "output_type": "display_data",
       "text": [
        "<IPython.core.display.Javascript at 0x11c55d950>"
       ]
      },
      {
       "javascript": [
        "$('div#5f664c52-15e2-4d75-a03d-e1004eeffe0e').width('87%')"
       ],
       "metadata": {},
       "output_type": "display_data",
       "text": [
        "<IPython.core.display.Javascript at 0x11c55d950>"
       ]
      },
      {
       "javascript": [
        "$('div#5f664c52-15e2-4d75-a03d-e1004eeffe0e').width('87%')"
       ],
       "metadata": {},
       "output_type": "display_data",
       "text": [
        "<IPython.core.display.Javascript at 0x11c55d950>"
       ]
      },
      {
       "javascript": [
        "$('div#5f664c52-15e2-4d75-a03d-e1004eeffe0e').width('88%')"
       ],
       "metadata": {},
       "output_type": "display_data",
       "text": [
        "<IPython.core.display.Javascript at 0x11c55d950>"
       ]
      },
      {
       "javascript": [
        "$('div#5f664c52-15e2-4d75-a03d-e1004eeffe0e').width('88%')"
       ],
       "metadata": {},
       "output_type": "display_data",
       "text": [
        "<IPython.core.display.Javascript at 0x11c55d950>"
       ]
      },
      {
       "javascript": [
        "$('div#5f664c52-15e2-4d75-a03d-e1004eeffe0e').width('89%')"
       ],
       "metadata": {},
       "output_type": "display_data",
       "text": [
        "<IPython.core.display.Javascript at 0x11c55d950>"
       ]
      },
      {
       "javascript": [
        "$('div#5f664c52-15e2-4d75-a03d-e1004eeffe0e').width('90%')"
       ],
       "metadata": {},
       "output_type": "display_data",
       "text": [
        "<IPython.core.display.Javascript at 0x11c55d950>"
       ]
      },
      {
       "javascript": [
        "$('div#5f664c52-15e2-4d75-a03d-e1004eeffe0e').width('90%')"
       ],
       "metadata": {},
       "output_type": "display_data",
       "text": [
        "<IPython.core.display.Javascript at 0x11c55d950>"
       ]
      },
      {
       "javascript": [
        "$('div#5f664c52-15e2-4d75-a03d-e1004eeffe0e').width('91%')"
       ],
       "metadata": {},
       "output_type": "display_data",
       "text": [
        "<IPython.core.display.Javascript at 0x11c55d950>"
       ]
      },
      {
       "javascript": [
        "$('div#5f664c52-15e2-4d75-a03d-e1004eeffe0e').width('91%')"
       ],
       "metadata": {},
       "output_type": "display_data",
       "text": [
        "<IPython.core.display.Javascript at 0x11c55d950>"
       ]
      },
      {
       "javascript": [
        "$('div#5f664c52-15e2-4d75-a03d-e1004eeffe0e').width('92%')"
       ],
       "metadata": {},
       "output_type": "display_data",
       "text": [
        "<IPython.core.display.Javascript at 0x11c55d950>"
       ]
      },
      {
       "javascript": [
        "$('div#5f664c52-15e2-4d75-a03d-e1004eeffe0e').width('92%')"
       ],
       "metadata": {},
       "output_type": "display_data",
       "text": [
        "<IPython.core.display.Javascript at 0x11c55d950>"
       ]
      },
      {
       "javascript": [
        "$('div#5f664c52-15e2-4d75-a03d-e1004eeffe0e').width('93%')"
       ],
       "metadata": {},
       "output_type": "display_data",
       "text": [
        "<IPython.core.display.Javascript at 0x11c55d950>"
       ]
      },
      {
       "javascript": [
        "$('div#5f664c52-15e2-4d75-a03d-e1004eeffe0e').width('93%')"
       ],
       "metadata": {},
       "output_type": "display_data",
       "text": [
        "<IPython.core.display.Javascript at 0x11c55d950>"
       ]
      },
      {
       "javascript": [
        "$('div#5f664c52-15e2-4d75-a03d-e1004eeffe0e').width('94%')"
       ],
       "metadata": {},
       "output_type": "display_data",
       "text": [
        "<IPython.core.display.Javascript at 0x11c55d950>"
       ]
      },
      {
       "javascript": [
        "$('div#5f664c52-15e2-4d75-a03d-e1004eeffe0e').width('95%')"
       ],
       "metadata": {},
       "output_type": "display_data",
       "text": [
        "<IPython.core.display.Javascript at 0x11c55d950>"
       ]
      },
      {
       "javascript": [
        "$('div#5f664c52-15e2-4d75-a03d-e1004eeffe0e').width('95%')"
       ],
       "metadata": {},
       "output_type": "display_data",
       "text": [
        "<IPython.core.display.Javascript at 0x11c55d950>"
       ]
      },
      {
       "javascript": [
        "$('div#5f664c52-15e2-4d75-a03d-e1004eeffe0e').width('96%')"
       ],
       "metadata": {},
       "output_type": "display_data",
       "text": [
        "<IPython.core.display.Javascript at 0x11c55d950>"
       ]
      },
      {
       "javascript": [
        "$('div#5f664c52-15e2-4d75-a03d-e1004eeffe0e').width('96%')"
       ],
       "metadata": {},
       "output_type": "display_data",
       "text": [
        "<IPython.core.display.Javascript at 0x11c55d950>"
       ]
      },
      {
       "javascript": [
        "$('div#5f664c52-15e2-4d75-a03d-e1004eeffe0e').width('97%')"
       ],
       "metadata": {},
       "output_type": "display_data",
       "text": [
        "<IPython.core.display.Javascript at 0x11c55d950>"
       ]
      },
      {
       "javascript": [
        "$('div#5f664c52-15e2-4d75-a03d-e1004eeffe0e').width('97%')"
       ],
       "metadata": {},
       "output_type": "display_data",
       "text": [
        "<IPython.core.display.Javascript at 0x11c55d950>"
       ]
      },
      {
       "javascript": [
        "$('div#5f664c52-15e2-4d75-a03d-e1004eeffe0e').width('98%')"
       ],
       "metadata": {},
       "output_type": "display_data",
       "text": [
        "<IPython.core.display.Javascript at 0x11c55d950>"
       ]
      },
      {
       "javascript": [
        "$('div#5f664c52-15e2-4d75-a03d-e1004eeffe0e').width('98%')"
       ],
       "metadata": {},
       "output_type": "display_data",
       "text": [
        "<IPython.core.display.Javascript at 0x11c55d950>"
       ]
      },
      {
       "javascript": [
        "$('div#5f664c52-15e2-4d75-a03d-e1004eeffe0e').width('99%')"
       ],
       "metadata": {},
       "output_type": "display_data",
       "text": [
        "<IPython.core.display.Javascript at 0x11c55d950>"
       ]
      },
      {
       "javascript": [
        "$('div#5f664c52-15e2-4d75-a03d-e1004eeffe0e').width('100%')"
       ],
       "metadata": {},
       "output_type": "display_data",
       "text": [
        "<IPython.core.display.Javascript at 0x11c55d450>"
       ]
      },
      {
       "html": [
        "<iframe src=http://127.0.0.1:8001/9413179 width=100%% height=420 frameborder=0></iframe>"
       ],
       "metadata": {},
       "output_type": "pyout",
       "prompt_number": 7,
       "text": [
        "<DisplayNode.DisplayNodeProxy.DisplayNode instance at 0x11c56a098>"
       ]
      }
     ],
     "prompt_number": 7
    },
    {
     "cell_type": "code",
     "collapsed": false,
     "input": [
      "occiput.Visualization.MultipleVolumes([phantom,activity],scales=[1,0.05],axis=1)"
     ],
     "language": "python",
     "metadata": {},
     "outputs": [
      {
       "html": [
        "\n",
        "        <div style=\"border: 1px solid white; width:100%%; height:6px; background-color:rgb(200,228,246)\">\n",
        "            <div id=\"9a7ccdc9-e54e-48e7-bf3c-85830ec82a98\" style=\"background-color:rgb(47,128,246); width:0%; height:6px\"> </div>\n",
        "        </div> \n",
        "        "
       ],
       "metadata": {},
       "output_type": "display_data",
       "text": [
        "<IPython.core.display.HTML at 0x1227999d0>"
       ]
      },
      {
       "javascript": [
        "$('div#9a7ccdc9-e54e-48e7-bf3c-85830ec82a98').width('1%')"
       ],
       "metadata": {},
       "output_type": "display_data",
       "text": [
        "<IPython.core.display.Javascript at 0x11c55d1d0>"
       ]
      },
      {
       "javascript": [
        "$('div#9a7ccdc9-e54e-48e7-bf3c-85830ec82a98').width('2%')"
       ],
       "metadata": {},
       "output_type": "display_data",
       "text": [
        "<IPython.core.display.Javascript at 0x11c55d250>"
       ]
      },
      {
       "javascript": [
        "$('div#9a7ccdc9-e54e-48e7-bf3c-85830ec82a98').width('5%')"
       ],
       "metadata": {},
       "output_type": "display_data",
       "text": [
        "<IPython.core.display.Javascript at 0x11c55d250>"
       ]
      },
      {
       "javascript": [
        "$('div#9a7ccdc9-e54e-48e7-bf3c-85830ec82a98').width('7%')"
       ],
       "metadata": {},
       "output_type": "display_data",
       "text": [
        "<IPython.core.display.Javascript at 0x11c55d250>"
       ]
      },
      {
       "javascript": [
        "$('div#9a7ccdc9-e54e-48e7-bf3c-85830ec82a98').width('10%')"
       ],
       "metadata": {},
       "output_type": "display_data",
       "text": [
        "<IPython.core.display.Javascript at 0x11c55d250>"
       ]
      },
      {
       "javascript": [
        "$('div#9a7ccdc9-e54e-48e7-bf3c-85830ec82a98').width('12%')"
       ],
       "metadata": {},
       "output_type": "display_data",
       "text": [
        "<IPython.core.display.Javascript at 0x11c55d250>"
       ]
      },
      {
       "javascript": [
        "$('div#9a7ccdc9-e54e-48e7-bf3c-85830ec82a98').width('15%')"
       ],
       "metadata": {},
       "output_type": "display_data",
       "text": [
        "<IPython.core.display.Javascript at 0x11c55d250>"
       ]
      },
      {
       "javascript": [
        "$('div#9a7ccdc9-e54e-48e7-bf3c-85830ec82a98').width('17%')"
       ],
       "metadata": {},
       "output_type": "display_data",
       "text": [
        "<IPython.core.display.Javascript at 0x11c55d250>"
       ]
      },
      {
       "javascript": [
        "$('div#9a7ccdc9-e54e-48e7-bf3c-85830ec82a98').width('20%')"
       ],
       "metadata": {},
       "output_type": "display_data",
       "text": [
        "<IPython.core.display.Javascript at 0x11c55d250>"
       ]
      },
      {
       "javascript": [
        "$('div#9a7ccdc9-e54e-48e7-bf3c-85830ec82a98').width('22%')"
       ],
       "metadata": {},
       "output_type": "display_data",
       "text": [
        "<IPython.core.display.Javascript at 0x11c55d250>"
       ]
      },
      {
       "javascript": [
        "$('div#9a7ccdc9-e54e-48e7-bf3c-85830ec82a98').width('25%')"
       ],
       "metadata": {},
       "output_type": "display_data",
       "text": [
        "<IPython.core.display.Javascript at 0x11c55d250>"
       ]
      },
      {
       "javascript": [
        "$('div#9a7ccdc9-e54e-48e7-bf3c-85830ec82a98').width('27%')"
       ],
       "metadata": {},
       "output_type": "display_data",
       "text": [
        "<IPython.core.display.Javascript at 0x11c55d250>"
       ]
      },
      {
       "javascript": [
        "$('div#9a7ccdc9-e54e-48e7-bf3c-85830ec82a98').width('30%')"
       ],
       "metadata": {},
       "output_type": "display_data",
       "text": [
        "<IPython.core.display.Javascript at 0x11c55d250>"
       ]
      },
      {
       "javascript": [
        "$('div#9a7ccdc9-e54e-48e7-bf3c-85830ec82a98').width('32%')"
       ],
       "metadata": {},
       "output_type": "display_data",
       "text": [
        "<IPython.core.display.Javascript at 0x11c55d250>"
       ]
      },
      {
       "javascript": [
        "$('div#9a7ccdc9-e54e-48e7-bf3c-85830ec82a98').width('35%')"
       ],
       "metadata": {},
       "output_type": "display_data",
       "text": [
        "<IPython.core.display.Javascript at 0x11c55d250>"
       ]
      },
      {
       "javascript": [
        "$('div#9a7ccdc9-e54e-48e7-bf3c-85830ec82a98').width('37%')"
       ],
       "metadata": {},
       "output_type": "display_data",
       "text": [
        "<IPython.core.display.Javascript at 0x11c55d250>"
       ]
      },
      {
       "javascript": [
        "$('div#9a7ccdc9-e54e-48e7-bf3c-85830ec82a98').width('40%')"
       ],
       "metadata": {},
       "output_type": "display_data",
       "text": [
        "<IPython.core.display.Javascript at 0x11c55d250>"
       ]
      },
      {
       "javascript": [
        "$('div#9a7ccdc9-e54e-48e7-bf3c-85830ec82a98').width('42%')"
       ],
       "metadata": {},
       "output_type": "display_data",
       "text": [
        "<IPython.core.display.Javascript at 0x11c55d250>"
       ]
      },
      {
       "javascript": [
        "$('div#9a7ccdc9-e54e-48e7-bf3c-85830ec82a98').width('45%')"
       ],
       "metadata": {},
       "output_type": "display_data",
       "text": [
        "<IPython.core.display.Javascript at 0x11c55d250>"
       ]
      },
      {
       "javascript": [
        "$('div#9a7ccdc9-e54e-48e7-bf3c-85830ec82a98').width('47%')"
       ],
       "metadata": {},
       "output_type": "display_data",
       "text": [
        "<IPython.core.display.Javascript at 0x11c55d250>"
       ]
      },
      {
       "javascript": [
        "$('div#9a7ccdc9-e54e-48e7-bf3c-85830ec82a98').width('50%')"
       ],
       "metadata": {},
       "output_type": "display_data",
       "text": [
        "<IPython.core.display.Javascript at 0x11c55d250>"
       ]
      },
      {
       "javascript": [
        "$('div#9a7ccdc9-e54e-48e7-bf3c-85830ec82a98').width('52%')"
       ],
       "metadata": {},
       "output_type": "display_data",
       "text": [
        "<IPython.core.display.Javascript at 0x11c55d250>"
       ]
      },
      {
       "javascript": [
        "$('div#9a7ccdc9-e54e-48e7-bf3c-85830ec82a98').width('55%')"
       ],
       "metadata": {},
       "output_type": "display_data",
       "text": [
        "<IPython.core.display.Javascript at 0x11c55d250>"
       ]
      },
      {
       "javascript": [
        "$('div#9a7ccdc9-e54e-48e7-bf3c-85830ec82a98').width('57%')"
       ],
       "metadata": {},
       "output_type": "display_data",
       "text": [
        "<IPython.core.display.Javascript at 0x11c55d250>"
       ]
      },
      {
       "javascript": [
        "$('div#9a7ccdc9-e54e-48e7-bf3c-85830ec82a98').width('60%')"
       ],
       "metadata": {},
       "output_type": "display_data",
       "text": [
        "<IPython.core.display.Javascript at 0x11c55d250>"
       ]
      },
      {
       "javascript": [
        "$('div#9a7ccdc9-e54e-48e7-bf3c-85830ec82a98').width('62%')"
       ],
       "metadata": {},
       "output_type": "display_data",
       "text": [
        "<IPython.core.display.Javascript at 0x11c55d250>"
       ]
      },
      {
       "javascript": [
        "$('div#9a7ccdc9-e54e-48e7-bf3c-85830ec82a98').width('65%')"
       ],
       "metadata": {},
       "output_type": "display_data",
       "text": [
        "<IPython.core.display.Javascript at 0x11c55d250>"
       ]
      },
      {
       "javascript": [
        "$('div#9a7ccdc9-e54e-48e7-bf3c-85830ec82a98').width('67%')"
       ],
       "metadata": {},
       "output_type": "display_data",
       "text": [
        "<IPython.core.display.Javascript at 0x11c55d250>"
       ]
      },
      {
       "javascript": [
        "$('div#9a7ccdc9-e54e-48e7-bf3c-85830ec82a98').width('70%')"
       ],
       "metadata": {},
       "output_type": "display_data",
       "text": [
        "<IPython.core.display.Javascript at 0x11c55d250>"
       ]
      },
      {
       "javascript": [
        "$('div#9a7ccdc9-e54e-48e7-bf3c-85830ec82a98').width('72%')"
       ],
       "metadata": {},
       "output_type": "display_data",
       "text": [
        "<IPython.core.display.Javascript at 0x11c55d250>"
       ]
      },
      {
       "javascript": [
        "$('div#9a7ccdc9-e54e-48e7-bf3c-85830ec82a98').width('75%')"
       ],
       "metadata": {},
       "output_type": "display_data",
       "text": [
        "<IPython.core.display.Javascript at 0x11c55d250>"
       ]
      },
      {
       "javascript": [
        "$('div#9a7ccdc9-e54e-48e7-bf3c-85830ec82a98').width('77%')"
       ],
       "metadata": {},
       "output_type": "display_data",
       "text": [
        "<IPython.core.display.Javascript at 0x11c55d250>"
       ]
      },
      {
       "javascript": [
        "$('div#9a7ccdc9-e54e-48e7-bf3c-85830ec82a98').width('80%')"
       ],
       "metadata": {},
       "output_type": "display_data",
       "text": [
        "<IPython.core.display.Javascript at 0x11c55d250>"
       ]
      },
      {
       "javascript": [
        "$('div#9a7ccdc9-e54e-48e7-bf3c-85830ec82a98').width('82%')"
       ],
       "metadata": {},
       "output_type": "display_data",
       "text": [
        "<IPython.core.display.Javascript at 0x11c55d250>"
       ]
      },
      {
       "javascript": [
        "$('div#9a7ccdc9-e54e-48e7-bf3c-85830ec82a98').width('85%')"
       ],
       "metadata": {},
       "output_type": "display_data",
       "text": [
        "<IPython.core.display.Javascript at 0x11c55d250>"
       ]
      },
      {
       "javascript": [
        "$('div#9a7ccdc9-e54e-48e7-bf3c-85830ec82a98').width('87%')"
       ],
       "metadata": {},
       "output_type": "display_data",
       "text": [
        "<IPython.core.display.Javascript at 0x11c55d250>"
       ]
      },
      {
       "javascript": [
        "$('div#9a7ccdc9-e54e-48e7-bf3c-85830ec82a98').width('90%')"
       ],
       "metadata": {},
       "output_type": "display_data",
       "text": [
        "<IPython.core.display.Javascript at 0x11c55d250>"
       ]
      },
      {
       "javascript": [
        "$('div#9a7ccdc9-e54e-48e7-bf3c-85830ec82a98').width('92%')"
       ],
       "metadata": {},
       "output_type": "display_data",
       "text": [
        "<IPython.core.display.Javascript at 0x11c55d250>"
       ]
      },
      {
       "javascript": [
        "$('div#9a7ccdc9-e54e-48e7-bf3c-85830ec82a98').width('95%')"
       ],
       "metadata": {},
       "output_type": "display_data",
       "text": [
        "<IPython.core.display.Javascript at 0x11c55d250>"
       ]
      },
      {
       "javascript": [
        "$('div#9a7ccdc9-e54e-48e7-bf3c-85830ec82a98').width('97%')"
       ],
       "metadata": {},
       "output_type": "display_data",
       "text": [
        "<IPython.core.display.Javascript at 0x11c55d250>"
       ]
      },
      {
       "javascript": [
        "$('div#9a7ccdc9-e54e-48e7-bf3c-85830ec82a98').width('100%')"
       ],
       "metadata": {},
       "output_type": "display_data",
       "text": [
        "<IPython.core.display.Javascript at 0x11c55d250>"
       ]
      },
      {
       "javascript": [
        "$('div#9a7ccdc9-e54e-48e7-bf3c-85830ec82a98').width('100%')"
       ],
       "metadata": {},
       "output_type": "display_data",
       "text": [
        "<IPython.core.display.Javascript at 0x11c55d1d0>"
       ]
      }
     ],
     "prompt_number": 26
    },
    {
     "cell_type": "code",
     "collapsed": false,
     "input": [],
     "language": "python",
     "metadata": {},
     "outputs": [
      {
       "html": [
        "\n",
        "        <div style=\"border: 1px solid white; width:100%%; height:6px; background-color:rgb(246,246,246)\">\n",
        "            <div id=\"b97290b6-09d8-4229-9342-c8159716b791\" style=\"background-color:rgb(200,200,200); width:0%; height:6px\"> </div>\n",
        "        </div> \n",
        "        "
       ],
       "metadata": {},
       "output_type": "display_data",
       "text": [
        "<IPython.core.display.HTML at 0x11c55d310>"
       ]
      },
      {
       "javascript": [
        "$('div#b97290b6-09d8-4229-9342-c8159716b791').width('1%')"
       ],
       "metadata": {},
       "output_type": "display_data",
       "text": [
        "<IPython.core.display.Javascript at 0x122799dd0>"
       ]
      },
      {
       "javascript": [
        "$('div#b97290b6-09d8-4229-9342-c8159716b791').width('1%')"
       ],
       "metadata": {},
       "output_type": "display_data",
       "text": [
        "<IPython.core.display.Javascript at 0x122799dd0>"
       ]
      },
      {
       "javascript": [
        "$('div#b97290b6-09d8-4229-9342-c8159716b791').width('1%')"
       ],
       "metadata": {},
       "output_type": "display_data",
       "text": [
        "<IPython.core.display.Javascript at 0x122799dd0>"
       ]
      },
      {
       "javascript": [
        "$('div#b97290b6-09d8-4229-9342-c8159716b791').width('2%')"
       ],
       "metadata": {},
       "output_type": "display_data",
       "text": [
        "<IPython.core.display.Javascript at 0x122799dd0>"
       ]
      },
      {
       "javascript": [
        "$('div#b97290b6-09d8-4229-9342-c8159716b791').width('3%')"
       ],
       "metadata": {},
       "output_type": "display_data",
       "text": [
        "<IPython.core.display.Javascript at 0x122799dd0>"
       ]
      },
      {
       "javascript": [
        "$('div#b97290b6-09d8-4229-9342-c8159716b791').width('3%')"
       ],
       "metadata": {},
       "output_type": "display_data",
       "text": [
        "<IPython.core.display.Javascript at 0x122799dd0>"
       ]
      },
      {
       "javascript": [
        "$('div#b97290b6-09d8-4229-9342-c8159716b791').width('4%')"
       ],
       "metadata": {},
       "output_type": "display_data",
       "text": [
        "<IPython.core.display.Javascript at 0x122799dd0>"
       ]
      },
      {
       "javascript": [
        "$('div#b97290b6-09d8-4229-9342-c8159716b791').width('5%')"
       ],
       "metadata": {},
       "output_type": "display_data",
       "text": [
        "<IPython.core.display.Javascript at 0x122799dd0>"
       ]
      },
      {
       "javascript": [
        "$('div#b97290b6-09d8-4229-9342-c8159716b791').width('6%')"
       ],
       "metadata": {},
       "output_type": "display_data",
       "text": [
        "<IPython.core.display.Javascript at 0x122799dd0>"
       ]
      },
      {
       "javascript": [
        "$('div#b97290b6-09d8-4229-9342-c8159716b791').width('7%')"
       ],
       "metadata": {},
       "output_type": "display_data",
       "text": [
        "<IPython.core.display.Javascript at 0x122799dd0>"
       ]
      },
      {
       "javascript": [
        "$('div#b97290b6-09d8-4229-9342-c8159716b791').width('7%')"
       ],
       "metadata": {},
       "output_type": "display_data",
       "text": [
        "<IPython.core.display.Javascript at 0x122799dd0>"
       ]
      },
      {
       "javascript": [
        "$('div#b97290b6-09d8-4229-9342-c8159716b791').width('8%')"
       ],
       "metadata": {},
       "output_type": "display_data",
       "text": [
        "<IPython.core.display.Javascript at 0x122799dd0>"
       ]
      },
      {
       "javascript": [
        "$('div#b97290b6-09d8-4229-9342-c8159716b791').width('9%')"
       ],
       "metadata": {},
       "output_type": "display_data",
       "text": [
        "<IPython.core.display.Javascript at 0x122799dd0>"
       ]
      },
      {
       "javascript": [
        "$('div#b97290b6-09d8-4229-9342-c8159716b791').width('10%')"
       ],
       "metadata": {},
       "output_type": "display_data",
       "text": [
        "<IPython.core.display.Javascript at 0x122799dd0>"
       ]
      },
      {
       "javascript": [
        "$('div#b97290b6-09d8-4229-9342-c8159716b791').width('10%')"
       ],
       "metadata": {},
       "output_type": "display_data",
       "text": [
        "<IPython.core.display.Javascript at 0x122799dd0>"
       ]
      },
      {
       "javascript": [
        "$('div#b97290b6-09d8-4229-9342-c8159716b791').width('11%')"
       ],
       "metadata": {},
       "output_type": "display_data",
       "text": [
        "<IPython.core.display.Javascript at 0x122799dd0>"
       ]
      },
      {
       "javascript": [
        "$('div#b97290b6-09d8-4229-9342-c8159716b791').width('12%')"
       ],
       "metadata": {},
       "output_type": "display_data",
       "text": [
        "<IPython.core.display.Javascript at 0x122799dd0>"
       ]
      },
      {
       "javascript": [
        "$('div#b97290b6-09d8-4229-9342-c8159716b791').width('13%')"
       ],
       "metadata": {},
       "output_type": "display_data",
       "text": [
        "<IPython.core.display.Javascript at 0x122799dd0>"
       ]
      },
      {
       "javascript": [
        "$('div#b97290b6-09d8-4229-9342-c8159716b791').width('14%')"
       ],
       "metadata": {},
       "output_type": "display_data",
       "text": [
        "<IPython.core.display.Javascript at 0x122799dd0>"
       ]
      },
      {
       "javascript": [
        "$('div#b97290b6-09d8-4229-9342-c8159716b791').width('14%')"
       ],
       "metadata": {},
       "output_type": "display_data",
       "text": [
        "<IPython.core.display.Javascript at 0x122799dd0>"
       ]
      },
      {
       "javascript": [
        "$('div#b97290b6-09d8-4229-9342-c8159716b791').width('15%')"
       ],
       "metadata": {},
       "output_type": "display_data",
       "text": [
        "<IPython.core.display.Javascript at 0x122799dd0>"
       ]
      },
      {
       "javascript": [
        "$('div#b97290b6-09d8-4229-9342-c8159716b791').width('16%')"
       ],
       "metadata": {},
       "output_type": "display_data",
       "text": [
        "<IPython.core.display.Javascript at 0x122799dd0>"
       ]
      },
      {
       "javascript": [
        "$('div#b97290b6-09d8-4229-9342-c8159716b791').width('17%')"
       ],
       "metadata": {},
       "output_type": "display_data",
       "text": [
        "<IPython.core.display.Javascript at 0x122799dd0>"
       ]
      },
      {
       "javascript": [
        "$('div#b97290b6-09d8-4229-9342-c8159716b791').width('17%')"
       ],
       "metadata": {},
       "output_type": "display_data",
       "text": [
        "<IPython.core.display.Javascript at 0x122799dd0>"
       ]
      },
      {
       "javascript": [
        "$('div#b97290b6-09d8-4229-9342-c8159716b791').width('18%')"
       ],
       "metadata": {},
       "output_type": "display_data",
       "text": [
        "<IPython.core.display.Javascript at 0x122799dd0>"
       ]
      },
      {
       "javascript": [
        "$('div#b97290b6-09d8-4229-9342-c8159716b791').width('19%')"
       ],
       "metadata": {},
       "output_type": "display_data",
       "text": [
        "<IPython.core.display.Javascript at 0x122799dd0>"
       ]
      },
      {
       "javascript": [
        "$('div#b97290b6-09d8-4229-9342-c8159716b791').width('20%')"
       ],
       "metadata": {},
       "output_type": "display_data",
       "text": [
        "<IPython.core.display.Javascript at 0x122799dd0>"
       ]
      },
      {
       "javascript": [
        "$('div#b97290b6-09d8-4229-9342-c8159716b791').width('21%')"
       ],
       "metadata": {},
       "output_type": "display_data",
       "text": [
        "<IPython.core.display.Javascript at 0x122799dd0>"
       ]
      },
      {
       "javascript": [
        "$('div#b97290b6-09d8-4229-9342-c8159716b791').width('21%')"
       ],
       "metadata": {},
       "output_type": "display_data",
       "text": [
        "<IPython.core.display.Javascript at 0x122799dd0>"
       ]
      },
      {
       "javascript": [
        "$('div#b97290b6-09d8-4229-9342-c8159716b791').width('22%')"
       ],
       "metadata": {},
       "output_type": "display_data",
       "text": [
        "<IPython.core.display.Javascript at 0x122799dd0>"
       ]
      },
      {
       "javascript": [
        "$('div#b97290b6-09d8-4229-9342-c8159716b791').width('23%')"
       ],
       "metadata": {},
       "output_type": "display_data",
       "text": [
        "<IPython.core.display.Javascript at 0x122799dd0>"
       ]
      },
      {
       "javascript": [
        "$('div#b97290b6-09d8-4229-9342-c8159716b791').width('24%')"
       ],
       "metadata": {},
       "output_type": "display_data",
       "text": [
        "<IPython.core.display.Javascript at 0x122799dd0>"
       ]
      },
      {
       "javascript": [
        "$('div#b97290b6-09d8-4229-9342-c8159716b791').width('25%')"
       ],
       "metadata": {},
       "output_type": "display_data",
       "text": [
        "<IPython.core.display.Javascript at 0x122799dd0>"
       ]
      },
      {
       "javascript": [
        "$('div#b97290b6-09d8-4229-9342-c8159716b791').width('25%')"
       ],
       "metadata": {},
       "output_type": "display_data",
       "text": [
        "<IPython.core.display.Javascript at 0x122799dd0>"
       ]
      },
      {
       "javascript": [
        "$('div#b97290b6-09d8-4229-9342-c8159716b791').width('26%')"
       ],
       "metadata": {},
       "output_type": "display_data",
       "text": [
        "<IPython.core.display.Javascript at 0x122799dd0>"
       ]
      },
      {
       "javascript": [
        "$('div#b97290b6-09d8-4229-9342-c8159716b791').width('27%')"
       ],
       "metadata": {},
       "output_type": "display_data",
       "text": [
        "<IPython.core.display.Javascript at 0x122799dd0>"
       ]
      },
      {
       "javascript": [
        "$('div#b97290b6-09d8-4229-9342-c8159716b791').width('28%')"
       ],
       "metadata": {},
       "output_type": "display_data",
       "text": [
        "<IPython.core.display.Javascript at 0x122799dd0>"
       ]
      },
      {
       "javascript": [
        "$('div#b97290b6-09d8-4229-9342-c8159716b791').width('28%')"
       ],
       "metadata": {},
       "output_type": "display_data",
       "text": [
        "<IPython.core.display.Javascript at 0x122799dd0>"
       ]
      },
      {
       "javascript": [
        "$('div#b97290b6-09d8-4229-9342-c8159716b791').width('29%')"
       ],
       "metadata": {},
       "output_type": "display_data",
       "text": [
        "<IPython.core.display.Javascript at 0x122799dd0>"
       ]
      },
      {
       "javascript": [
        "$('div#b97290b6-09d8-4229-9342-c8159716b791').width('30%')"
       ],
       "metadata": {},
       "output_type": "display_data",
       "text": [
        "<IPython.core.display.Javascript at 0x122799dd0>"
       ]
      },
      {
       "javascript": [
        "$('div#b97290b6-09d8-4229-9342-c8159716b791').width('31%')"
       ],
       "metadata": {},
       "output_type": "display_data",
       "text": [
        "<IPython.core.display.Javascript at 0x122799dd0>"
       ]
      },
      {
       "javascript": [
        "$('div#b97290b6-09d8-4229-9342-c8159716b791').width('32%')"
       ],
       "metadata": {},
       "output_type": "display_data",
       "text": [
        "<IPython.core.display.Javascript at 0x122799dd0>"
       ]
      },
      {
       "javascript": [
        "$('div#b97290b6-09d8-4229-9342-c8159716b791').width('32%')"
       ],
       "metadata": {},
       "output_type": "display_data",
       "text": [
        "<IPython.core.display.Javascript at 0x122799dd0>"
       ]
      },
      {
       "javascript": [
        "$('div#b97290b6-09d8-4229-9342-c8159716b791').width('33%')"
       ],
       "metadata": {},
       "output_type": "display_data",
       "text": [
        "<IPython.core.display.Javascript at 0x122799dd0>"
       ]
      },
      {
       "javascript": [
        "$('div#b97290b6-09d8-4229-9342-c8159716b791').width('34%')"
       ],
       "metadata": {},
       "output_type": "display_data",
       "text": [
        "<IPython.core.display.Javascript at 0x122799dd0>"
       ]
      },
      {
       "javascript": [
        "$('div#b97290b6-09d8-4229-9342-c8159716b791').width('35%')"
       ],
       "metadata": {},
       "output_type": "display_data",
       "text": [
        "<IPython.core.display.Javascript at 0x122799dd0>"
       ]
      },
      {
       "javascript": [
        "$('div#b97290b6-09d8-4229-9342-c8159716b791').width('35%')"
       ],
       "metadata": {},
       "output_type": "display_data",
       "text": [
        "<IPython.core.display.Javascript at 0x122799dd0>"
       ]
      },
      {
       "javascript": [
        "$('div#b97290b6-09d8-4229-9342-c8159716b791').width('36%')"
       ],
       "metadata": {},
       "output_type": "display_data",
       "text": [
        "<IPython.core.display.Javascript at 0x122799dd0>"
       ]
      },
      {
       "javascript": [
        "$('div#b97290b6-09d8-4229-9342-c8159716b791').width('37%')"
       ],
       "metadata": {},
       "output_type": "display_data",
       "text": [
        "<IPython.core.display.Javascript at 0x122799dd0>"
       ]
      },
      {
       "javascript": [
        "$('div#b97290b6-09d8-4229-9342-c8159716b791').width('38%')"
       ],
       "metadata": {},
       "output_type": "display_data",
       "text": [
        "<IPython.core.display.Javascript at 0x122799dd0>"
       ]
      },
      {
       "javascript": [
        "$('div#b97290b6-09d8-4229-9342-c8159716b791').width('39%')"
       ],
       "metadata": {},
       "output_type": "display_data",
       "text": [
        "<IPython.core.display.Javascript at 0x122799dd0>"
       ]
      },
      {
       "javascript": [
        "$('div#b97290b6-09d8-4229-9342-c8159716b791').width('39%')"
       ],
       "metadata": {},
       "output_type": "display_data",
       "text": [
        "<IPython.core.display.Javascript at 0x122799dd0>"
       ]
      },
      {
       "javascript": [
        "$('div#b97290b6-09d8-4229-9342-c8159716b791').width('40%')"
       ],
       "metadata": {},
       "output_type": "display_data",
       "text": [
        "<IPython.core.display.Javascript at 0x122799dd0>"
       ]
      },
      {
       "javascript": [
        "$('div#b97290b6-09d8-4229-9342-c8159716b791').width('41%')"
       ],
       "metadata": {},
       "output_type": "display_data",
       "text": [
        "<IPython.core.display.Javascript at 0x122799dd0>"
       ]
      },
      {
       "javascript": [
        "$('div#b97290b6-09d8-4229-9342-c8159716b791').width('42%')"
       ],
       "metadata": {},
       "output_type": "display_data",
       "text": [
        "<IPython.core.display.Javascript at 0x122799dd0>"
       ]
      },
      {
       "javascript": [
        "$('div#b97290b6-09d8-4229-9342-c8159716b791').width('42%')"
       ],
       "metadata": {},
       "output_type": "display_data",
       "text": [
        "<IPython.core.display.Javascript at 0x122799dd0>"
       ]
      },
      {
       "javascript": [
        "$('div#b97290b6-09d8-4229-9342-c8159716b791').width('43%')"
       ],
       "metadata": {},
       "output_type": "display_data",
       "text": [
        "<IPython.core.display.Javascript at 0x122799dd0>"
       ]
      },
      {
       "javascript": [
        "$('div#b97290b6-09d8-4229-9342-c8159716b791').width('44%')"
       ],
       "metadata": {},
       "output_type": "display_data",
       "text": [
        "<IPython.core.display.Javascript at 0x122799dd0>"
       ]
      },
      {
       "javascript": [
        "$('div#b97290b6-09d8-4229-9342-c8159716b791').width('45%')"
       ],
       "metadata": {},
       "output_type": "display_data",
       "text": [
        "<IPython.core.display.Javascript at 0x122799dd0>"
       ]
      },
      {
       "javascript": [
        "$('div#b97290b6-09d8-4229-9342-c8159716b791').width('46%')"
       ],
       "metadata": {},
       "output_type": "display_data",
       "text": [
        "<IPython.core.display.Javascript at 0x122799dd0>"
       ]
      },
      {
       "javascript": [
        "$('div#b97290b6-09d8-4229-9342-c8159716b791').width('46%')"
       ],
       "metadata": {},
       "output_type": "display_data",
       "text": [
        "<IPython.core.display.Javascript at 0x122799dd0>"
       ]
      },
      {
       "javascript": [
        "$('div#b97290b6-09d8-4229-9342-c8159716b791').width('47%')"
       ],
       "metadata": {},
       "output_type": "display_data",
       "text": [
        "<IPython.core.display.Javascript at 0x122799dd0>"
       ]
      },
      {
       "javascript": [
        "$('div#b97290b6-09d8-4229-9342-c8159716b791').width('48%')"
       ],
       "metadata": {},
       "output_type": "display_data",
       "text": [
        "<IPython.core.display.Javascript at 0x122799dd0>"
       ]
      },
      {
       "javascript": [
        "$('div#b97290b6-09d8-4229-9342-c8159716b791').width('49%')"
       ],
       "metadata": {},
       "output_type": "display_data",
       "text": [
        "<IPython.core.display.Javascript at 0x122799dd0>"
       ]
      },
      {
       "javascript": [
        "$('div#b97290b6-09d8-4229-9342-c8159716b791').width('50%')"
       ],
       "metadata": {},
       "output_type": "display_data",
       "text": [
        "<IPython.core.display.Javascript at 0x122799dd0>"
       ]
      },
      {
       "javascript": [
        "$('div#b97290b6-09d8-4229-9342-c8159716b791').width('50%')"
       ],
       "metadata": {},
       "output_type": "display_data",
       "text": [
        "<IPython.core.display.Javascript at 0x122799dd0>"
       ]
      },
      {
       "javascript": [
        "$('div#b97290b6-09d8-4229-9342-c8159716b791').width('51%')"
       ],
       "metadata": {},
       "output_type": "display_data",
       "text": [
        "<IPython.core.display.Javascript at 0x122799dd0>"
       ]
      },
      {
       "javascript": [
        "$('div#b97290b6-09d8-4229-9342-c8159716b791').width('52%')"
       ],
       "metadata": {},
       "output_type": "display_data",
       "text": [
        "<IPython.core.display.Javascript at 0x122799dd0>"
       ]
      },
      {
       "javascript": [
        "$('div#b97290b6-09d8-4229-9342-c8159716b791').width('53%')"
       ],
       "metadata": {},
       "output_type": "display_data",
       "text": [
        "<IPython.core.display.Javascript at 0x122799dd0>"
       ]
      },
      {
       "javascript": [
        "$('div#b97290b6-09d8-4229-9342-c8159716b791').width('53%')"
       ],
       "metadata": {},
       "output_type": "display_data",
       "text": [
        "<IPython.core.display.Javascript at 0x122799dd0>"
       ]
      },
      {
       "javascript": [
        "$('div#b97290b6-09d8-4229-9342-c8159716b791').width('54%')"
       ],
       "metadata": {},
       "output_type": "display_data",
       "text": [
        "<IPython.core.display.Javascript at 0x122799dd0>"
       ]
      },
      {
       "javascript": [
        "$('div#b97290b6-09d8-4229-9342-c8159716b791').width('55%')"
       ],
       "metadata": {},
       "output_type": "display_data",
       "text": [
        "<IPython.core.display.Javascript at 0x122799dd0>"
       ]
      },
      {
       "javascript": [
        "$('div#b97290b6-09d8-4229-9342-c8159716b791').width('56%')"
       ],
       "metadata": {},
       "output_type": "display_data",
       "text": [
        "<IPython.core.display.Javascript at 0x122799dd0>"
       ]
      },
      {
       "javascript": [
        "$('div#b97290b6-09d8-4229-9342-c8159716b791').width('57%')"
       ],
       "metadata": {},
       "output_type": "display_data",
       "text": [
        "<IPython.core.display.Javascript at 0x122799dd0>"
       ]
      },
      {
       "javascript": [
        "$('div#b97290b6-09d8-4229-9342-c8159716b791').width('57%')"
       ],
       "metadata": {},
       "output_type": "display_data",
       "text": [
        "<IPython.core.display.Javascript at 0x122799dd0>"
       ]
      },
      {
       "javascript": [
        "$('div#b97290b6-09d8-4229-9342-c8159716b791').width('58%')"
       ],
       "metadata": {},
       "output_type": "display_data",
       "text": [
        "<IPython.core.display.Javascript at 0x122799dd0>"
       ]
      },
      {
       "javascript": [
        "$('div#b97290b6-09d8-4229-9342-c8159716b791').width('59%')"
       ],
       "metadata": {},
       "output_type": "display_data",
       "text": [
        "<IPython.core.display.Javascript at 0x122799dd0>"
       ]
      },
      {
       "javascript": [
        "$('div#b97290b6-09d8-4229-9342-c8159716b791').width('60%')"
       ],
       "metadata": {},
       "output_type": "display_data",
       "text": [
        "<IPython.core.display.Javascript at 0x122799dd0>"
       ]
      },
      {
       "javascript": [
        "$('div#b97290b6-09d8-4229-9342-c8159716b791').width('60%')"
       ],
       "metadata": {},
       "output_type": "display_data",
       "text": [
        "<IPython.core.display.Javascript at 0x122799dd0>"
       ]
      },
      {
       "javascript": [
        "$('div#b97290b6-09d8-4229-9342-c8159716b791').width('61%')"
       ],
       "metadata": {},
       "output_type": "display_data",
       "text": [
        "<IPython.core.display.Javascript at 0x122799dd0>"
       ]
      },
      {
       "javascript": [
        "$('div#b97290b6-09d8-4229-9342-c8159716b791').width('62%')"
       ],
       "metadata": {},
       "output_type": "display_data",
       "text": [
        "<IPython.core.display.Javascript at 0x122799dd0>"
       ]
      },
      {
       "javascript": [
        "$('div#b97290b6-09d8-4229-9342-c8159716b791').width('63%')"
       ],
       "metadata": {},
       "output_type": "display_data",
       "text": [
        "<IPython.core.display.Javascript at 0x122799dd0>"
       ]
      },
      {
       "javascript": [
        "$('div#b97290b6-09d8-4229-9342-c8159716b791').width('64%')"
       ],
       "metadata": {},
       "output_type": "display_data",
       "text": [
        "<IPython.core.display.Javascript at 0x122799dd0>"
       ]
      },
      {
       "javascript": [
        "$('div#b97290b6-09d8-4229-9342-c8159716b791').width('64%')"
       ],
       "metadata": {},
       "output_type": "display_data",
       "text": [
        "<IPython.core.display.Javascript at 0x122799dd0>"
       ]
      },
      {
       "javascript": [
        "$('div#b97290b6-09d8-4229-9342-c8159716b791').width('65%')"
       ],
       "metadata": {},
       "output_type": "display_data",
       "text": [
        "<IPython.core.display.Javascript at 0x122799dd0>"
       ]
      },
      {
       "javascript": [
        "$('div#b97290b6-09d8-4229-9342-c8159716b791').width('66%')"
       ],
       "metadata": {},
       "output_type": "display_data",
       "text": [
        "<IPython.core.display.Javascript at 0x122799dd0>"
       ]
      },
      {
       "javascript": [
        "$('div#b97290b6-09d8-4229-9342-c8159716b791').width('67%')"
       ],
       "metadata": {},
       "output_type": "display_data",
       "text": [
        "<IPython.core.display.Javascript at 0x122799dd0>"
       ]
      },
      {
       "javascript": [
        "$('div#b97290b6-09d8-4229-9342-c8159716b791').width('67%')"
       ],
       "metadata": {},
       "output_type": "display_data",
       "text": [
        "<IPython.core.display.Javascript at 0x122799dd0>"
       ]
      },
      {
       "javascript": [
        "$('div#b97290b6-09d8-4229-9342-c8159716b791').width('68%')"
       ],
       "metadata": {},
       "output_type": "display_data",
       "text": [
        "<IPython.core.display.Javascript at 0x122799dd0>"
       ]
      },
      {
       "javascript": [
        "$('div#b97290b6-09d8-4229-9342-c8159716b791').width('69%')"
       ],
       "metadata": {},
       "output_type": "display_data",
       "text": [
        "<IPython.core.display.Javascript at 0x122799dd0>"
       ]
      },
      {
       "javascript": [
        "$('div#b97290b6-09d8-4229-9342-c8159716b791').width('70%')"
       ],
       "metadata": {},
       "output_type": "display_data",
       "text": [
        "<IPython.core.display.Javascript at 0x122799dd0>"
       ]
      },
      {
       "javascript": [
        "$('div#b97290b6-09d8-4229-9342-c8159716b791').width('71%')"
       ],
       "metadata": {},
       "output_type": "display_data",
       "text": [
        "<IPython.core.display.Javascript at 0x122799dd0>"
       ]
      },
      {
       "javascript": [
        "$('div#b97290b6-09d8-4229-9342-c8159716b791').width('71%')"
       ],
       "metadata": {},
       "output_type": "display_data",
       "text": [
        "<IPython.core.display.Javascript at 0x122799dd0>"
       ]
      },
      {
       "javascript": [
        "$('div#b97290b6-09d8-4229-9342-c8159716b791').width('72%')"
       ],
       "metadata": {},
       "output_type": "display_data",
       "text": [
        "<IPython.core.display.Javascript at 0x122799dd0>"
       ]
      },
      {
       "javascript": [
        "$('div#b97290b6-09d8-4229-9342-c8159716b791').width('73%')"
       ],
       "metadata": {},
       "output_type": "display_data",
       "text": [
        "<IPython.core.display.Javascript at 0x122799dd0>"
       ]
      },
      {
       "javascript": [
        "$('div#b97290b6-09d8-4229-9342-c8159716b791').width('74%')"
       ],
       "metadata": {},
       "output_type": "display_data",
       "text": [
        "<IPython.core.display.Javascript at 0x122799dd0>"
       ]
      },
      {
       "javascript": [
        "$('div#b97290b6-09d8-4229-9342-c8159716b791').width('75%')"
       ],
       "metadata": {},
       "output_type": "display_data",
       "text": [
        "<IPython.core.display.Javascript at 0x122799dd0>"
       ]
      },
      {
       "javascript": [
        "$('div#b97290b6-09d8-4229-9342-c8159716b791').width('75%')"
       ],
       "metadata": {},
       "output_type": "display_data",
       "text": [
        "<IPython.core.display.Javascript at 0x122799dd0>"
       ]
      },
      {
       "javascript": [
        "$('div#b97290b6-09d8-4229-9342-c8159716b791').width('76%')"
       ],
       "metadata": {},
       "output_type": "display_data",
       "text": [
        "<IPython.core.display.Javascript at 0x122799dd0>"
       ]
      },
      {
       "javascript": [
        "$('div#b97290b6-09d8-4229-9342-c8159716b791').width('77%')"
       ],
       "metadata": {},
       "output_type": "display_data",
       "text": [
        "<IPython.core.display.Javascript at 0x122799dd0>"
       ]
      },
      {
       "javascript": [
        "$('div#b97290b6-09d8-4229-9342-c8159716b791').width('78%')"
       ],
       "metadata": {},
       "output_type": "display_data",
       "text": [
        "<IPython.core.display.Javascript at 0x122799dd0>"
       ]
      },
      {
       "javascript": [
        "$('div#b97290b6-09d8-4229-9342-c8159716b791').width('78%')"
       ],
       "metadata": {},
       "output_type": "display_data",
       "text": [
        "<IPython.core.display.Javascript at 0x122799dd0>"
       ]
      },
      {
       "javascript": [
        "$('div#b97290b6-09d8-4229-9342-c8159716b791').width('79%')"
       ],
       "metadata": {},
       "output_type": "display_data",
       "text": [
        "<IPython.core.display.Javascript at 0x122799dd0>"
       ]
      },
      {
       "javascript": [
        "$('div#b97290b6-09d8-4229-9342-c8159716b791').width('80%')"
       ],
       "metadata": {},
       "output_type": "display_data",
       "text": [
        "<IPython.core.display.Javascript at 0x122799dd0>"
       ]
      },
      {
       "javascript": [
        "$('div#b97290b6-09d8-4229-9342-c8159716b791').width('81%')"
       ],
       "metadata": {},
       "output_type": "display_data",
       "text": [
        "<IPython.core.display.Javascript at 0x122799dd0>"
       ]
      },
      {
       "javascript": [
        "$('div#b97290b6-09d8-4229-9342-c8159716b791').width('82%')"
       ],
       "metadata": {},
       "output_type": "display_data",
       "text": [
        "<IPython.core.display.Javascript at 0x122799dd0>"
       ]
      },
      {
       "javascript": [
        "$('div#b97290b6-09d8-4229-9342-c8159716b791').width('82%')"
       ],
       "metadata": {},
       "output_type": "display_data",
       "text": [
        "<IPython.core.display.Javascript at 0x122799dd0>"
       ]
      },
      {
       "javascript": [
        "$('div#b97290b6-09d8-4229-9342-c8159716b791').width('83%')"
       ],
       "metadata": {},
       "output_type": "display_data",
       "text": [
        "<IPython.core.display.Javascript at 0x122799dd0>"
       ]
      },
      {
       "javascript": [
        "$('div#b97290b6-09d8-4229-9342-c8159716b791').width('84%')"
       ],
       "metadata": {},
       "output_type": "display_data",
       "text": [
        "<IPython.core.display.Javascript at 0x122799dd0>"
       ]
      },
      {
       "javascript": [
        "$('div#b97290b6-09d8-4229-9342-c8159716b791').width('85%')"
       ],
       "metadata": {},
       "output_type": "display_data",
       "text": [
        "<IPython.core.display.Javascript at 0x122799dd0>"
       ]
      },
      {
       "javascript": [
        "$('div#b97290b6-09d8-4229-9342-c8159716b791').width('85%')"
       ],
       "metadata": {},
       "output_type": "display_data",
       "text": [
        "<IPython.core.display.Javascript at 0x122799dd0>"
       ]
      },
      {
       "javascript": [
        "$('div#b97290b6-09d8-4229-9342-c8159716b791').width('86%')"
       ],
       "metadata": {},
       "output_type": "display_data",
       "text": [
        "<IPython.core.display.Javascript at 0x122799dd0>"
       ]
      },
      {
       "javascript": [
        "$('div#b97290b6-09d8-4229-9342-c8159716b791').width('87%')"
       ],
       "metadata": {},
       "output_type": "display_data",
       "text": [
        "<IPython.core.display.Javascript at 0x122799dd0>"
       ]
      },
      {
       "javascript": [
        "$('div#b97290b6-09d8-4229-9342-c8159716b791').width('88%')"
       ],
       "metadata": {},
       "output_type": "display_data",
       "text": [
        "<IPython.core.display.Javascript at 0x122799dd0>"
       ]
      },
      {
       "javascript": [
        "$('div#b97290b6-09d8-4229-9342-c8159716b791').width('89%')"
       ],
       "metadata": {},
       "output_type": "display_data",
       "text": [
        "<IPython.core.display.Javascript at 0x122799dd0>"
       ]
      },
      {
       "javascript": [
        "$('div#b97290b6-09d8-4229-9342-c8159716b791').width('89%')"
       ],
       "metadata": {},
       "output_type": "display_data",
       "text": [
        "<IPython.core.display.Javascript at 0x122799dd0>"
       ]
      },
      {
       "javascript": [
        "$('div#b97290b6-09d8-4229-9342-c8159716b791').width('90%')"
       ],
       "metadata": {},
       "output_type": "display_data",
       "text": [
        "<IPython.core.display.Javascript at 0x122799dd0>"
       ]
      },
      {
       "javascript": [
        "$('div#b97290b6-09d8-4229-9342-c8159716b791').width('91%')"
       ],
       "metadata": {},
       "output_type": "display_data",
       "text": [
        "<IPython.core.display.Javascript at 0x122799dd0>"
       ]
      },
      {
       "javascript": [
        "$('div#b97290b6-09d8-4229-9342-c8159716b791').width('92%')"
       ],
       "metadata": {},
       "output_type": "display_data",
       "text": [
        "<IPython.core.display.Javascript at 0x122799dd0>"
       ]
      },
      {
       "javascript": [
        "$('div#b97290b6-09d8-4229-9342-c8159716b791').width('92%')"
       ],
       "metadata": {},
       "output_type": "display_data",
       "text": [
        "<IPython.core.display.Javascript at 0x122799dd0>"
       ]
      },
      {
       "javascript": [
        "$('div#b97290b6-09d8-4229-9342-c8159716b791').width('93%')"
       ],
       "metadata": {},
       "output_type": "display_data",
       "text": [
        "<IPython.core.display.Javascript at 0x122799dd0>"
       ]
      },
      {
       "javascript": [
        "$('div#b97290b6-09d8-4229-9342-c8159716b791').width('94%')"
       ],
       "metadata": {},
       "output_type": "display_data",
       "text": [
        "<IPython.core.display.Javascript at 0x122799dd0>"
       ]
      },
      {
       "javascript": [
        "$('div#b97290b6-09d8-4229-9342-c8159716b791').width('95%')"
       ],
       "metadata": {},
       "output_type": "display_data",
       "text": [
        "<IPython.core.display.Javascript at 0x122799dd0>"
       ]
      },
      {
       "javascript": [
        "$('div#b97290b6-09d8-4229-9342-c8159716b791').width('96%')"
       ],
       "metadata": {},
       "output_type": "display_data",
       "text": [
        "<IPython.core.display.Javascript at 0x122799dd0>"
       ]
      },
      {
       "javascript": [
        "$('div#b97290b6-09d8-4229-9342-c8159716b791').width('96%')"
       ],
       "metadata": {},
       "output_type": "display_data",
       "text": [
        "<IPython.core.display.Javascript at 0x122799dd0>"
       ]
      },
      {
       "javascript": [
        "$('div#b97290b6-09d8-4229-9342-c8159716b791').width('97%')"
       ],
       "metadata": {},
       "output_type": "display_data",
       "text": [
        "<IPython.core.display.Javascript at 0x122799dd0>"
       ]
      },
      {
       "javascript": [
        "$('div#b97290b6-09d8-4229-9342-c8159716b791').width('98%')"
       ],
       "metadata": {},
       "output_type": "display_data",
       "text": [
        "<IPython.core.display.Javascript at 0x122799dd0>"
       ]
      },
      {
       "javascript": [
        "$('div#b97290b6-09d8-4229-9342-c8159716b791').width('99%')"
       ],
       "metadata": {},
       "output_type": "display_data",
       "text": [
        "<IPython.core.display.Javascript at 0x122799dd0>"
       ]
      },
      {
       "javascript": [
        "$('div#b97290b6-09d8-4229-9342-c8159716b791').width('100%')"
       ],
       "metadata": {},
       "output_type": "display_data",
       "text": [
        "<IPython.core.display.Javascript at 0x11c55d250>"
       ]
      },
      {
       "html": [
        "<iframe src=http://127.0.0.1:8001/5803213 width=100%% height=420 frameborder=0></iframe>"
       ],
       "metadata": {},
       "output_type": "pyout",
       "prompt_number": 27,
       "text": [
        "<DisplayNode.DisplayNodeProxy.DisplayNode instance at 0x1227af170>"
       ]
      }
     ],
     "prompt_number": 27
    },
    {
     "cell_type": "code",
     "collapsed": false,
     "input": [],
     "language": "python",
     "metadata": {},
     "outputs": [],
     "prompt_number": 27
    },
    {
     "cell_type": "code",
     "collapsed": false,
     "input": [],
     "language": "python",
     "metadata": {},
     "outputs": [],
     "prompt_number": 27
    },
    {
     "cell_type": "code",
     "collapsed": false,
     "input": [],
     "language": "python",
     "metadata": {},
     "outputs": [],
     "prompt_number": 27
    },
    {
     "cell_type": "code",
     "collapsed": false,
     "input": [],
     "language": "python",
     "metadata": {},
     "outputs": [
      {
       "html": [
        "\n",
        "        <div style=\"border: 1px solid white; width:100%%; height:6px; background-color:rgb(246,246,246)\">\n",
        "            <div id=\"10946a82-d17c-429d-a5bb-a848573dc2dd\" style=\"background-color:rgb(200,200,200); width:0%; height:6px\"> </div>\n",
        "        </div> \n",
        "        "
       ],
       "metadata": {},
       "output_type": "display_data",
       "text": [
        "<IPython.core.display.HTML at 0x122799dd0>"
       ]
      },
      {
       "javascript": [
        "$('div#10946a82-d17c-429d-a5bb-a848573dc2dd').width('1%')"
       ],
       "metadata": {},
       "output_type": "display_data",
       "text": [
        "<IPython.core.display.Javascript at 0x122799990>"
       ]
      },
      {
       "javascript": [
        "$('div#10946a82-d17c-429d-a5bb-a848573dc2dd').width('1%')"
       ],
       "metadata": {},
       "output_type": "display_data",
       "text": [
        "<IPython.core.display.Javascript at 0x122799990>"
       ]
      },
      {
       "javascript": [
        "$('div#10946a82-d17c-429d-a5bb-a848573dc2dd').width('1%')"
       ],
       "metadata": {},
       "output_type": "display_data",
       "text": [
        "<IPython.core.display.Javascript at 0x122799990>"
       ]
      },
      {
       "javascript": [
        "$('div#10946a82-d17c-429d-a5bb-a848573dc2dd').width('1%')"
       ],
       "metadata": {},
       "output_type": "display_data",
       "text": [
        "<IPython.core.display.Javascript at 0x122799990>"
       ]
      },
      {
       "javascript": [
        "$('div#10946a82-d17c-429d-a5bb-a848573dc2dd').width('1%')"
       ],
       "metadata": {},
       "output_type": "display_data",
       "text": [
        "<IPython.core.display.Javascript at 0x122799990>"
       ]
      },
      {
       "javascript": [
        "$('div#10946a82-d17c-429d-a5bb-a848573dc2dd').width('2%')"
       ],
       "metadata": {},
       "output_type": "display_data",
       "text": [
        "<IPython.core.display.Javascript at 0x122799990>"
       ]
      },
      {
       "javascript": [
        "$('div#10946a82-d17c-429d-a5bb-a848573dc2dd').width('2%')"
       ],
       "metadata": {},
       "output_type": "display_data",
       "text": [
        "<IPython.core.display.Javascript at 0x122799990>"
       ]
      },
      {
       "javascript": [
        "$('div#10946a82-d17c-429d-a5bb-a848573dc2dd').width('3%')"
       ],
       "metadata": {},
       "output_type": "display_data",
       "text": [
        "<IPython.core.display.Javascript at 0x122799990>"
       ]
      },
      {
       "javascript": [
        "$('div#10946a82-d17c-429d-a5bb-a848573dc2dd').width('3%')"
       ],
       "metadata": {},
       "output_type": "display_data",
       "text": [
        "<IPython.core.display.Javascript at 0x122799990>"
       ]
      },
      {
       "javascript": [
        "$('div#10946a82-d17c-429d-a5bb-a848573dc2dd').width('3%')"
       ],
       "metadata": {},
       "output_type": "display_data",
       "text": [
        "<IPython.core.display.Javascript at 0x122799990>"
       ]
      },
      {
       "javascript": [
        "$('div#10946a82-d17c-429d-a5bb-a848573dc2dd').width('4%')"
       ],
       "metadata": {},
       "output_type": "display_data",
       "text": [
        "<IPython.core.display.Javascript at 0x122799990>"
       ]
      },
      {
       "javascript": [
        "$('div#10946a82-d17c-429d-a5bb-a848573dc2dd').width('4%')"
       ],
       "metadata": {},
       "output_type": "display_data",
       "text": [
        "<IPython.core.display.Javascript at 0x122799990>"
       ]
      },
      {
       "javascript": [
        "$('div#10946a82-d17c-429d-a5bb-a848573dc2dd').width('5%')"
       ],
       "metadata": {},
       "output_type": "display_data",
       "text": [
        "<IPython.core.display.Javascript at 0x122799990>"
       ]
      },
      {
       "javascript": [
        "$('div#10946a82-d17c-429d-a5bb-a848573dc2dd').width('5%')"
       ],
       "metadata": {},
       "output_type": "display_data",
       "text": [
        "<IPython.core.display.Javascript at 0x122799990>"
       ]
      },
      {
       "javascript": [
        "$('div#10946a82-d17c-429d-a5bb-a848573dc2dd').width('5%')"
       ],
       "metadata": {},
       "output_type": "display_data",
       "text": [
        "<IPython.core.display.Javascript at 0x122799990>"
       ]
      },
      {
       "javascript": [
        "$('div#10946a82-d17c-429d-a5bb-a848573dc2dd').width('6%')"
       ],
       "metadata": {},
       "output_type": "display_data",
       "text": [
        "<IPython.core.display.Javascript at 0x122799990>"
       ]
      },
      {
       "javascript": [
        "$('div#10946a82-d17c-429d-a5bb-a848573dc2dd').width('6%')"
       ],
       "metadata": {},
       "output_type": "display_data",
       "text": [
        "<IPython.core.display.Javascript at 0x122799990>"
       ]
      },
      {
       "javascript": [
        "$('div#10946a82-d17c-429d-a5bb-a848573dc2dd').width('7%')"
       ],
       "metadata": {},
       "output_type": "display_data",
       "text": [
        "<IPython.core.display.Javascript at 0x122799990>"
       ]
      },
      {
       "javascript": [
        "$('div#10946a82-d17c-429d-a5bb-a848573dc2dd').width('7%')"
       ],
       "metadata": {},
       "output_type": "display_data",
       "text": [
        "<IPython.core.display.Javascript at 0x122799990>"
       ]
      },
      {
       "javascript": [
        "$('div#10946a82-d17c-429d-a5bb-a848573dc2dd').width('7%')"
       ],
       "metadata": {},
       "output_type": "display_data",
       "text": [
        "<IPython.core.display.Javascript at 0x122799990>"
       ]
      },
      {
       "javascript": [
        "$('div#10946a82-d17c-429d-a5bb-a848573dc2dd').width('8%')"
       ],
       "metadata": {},
       "output_type": "display_data",
       "text": [
        "<IPython.core.display.Javascript at 0x122799990>"
       ]
      },
      {
       "javascript": [
        "$('div#10946a82-d17c-429d-a5bb-a848573dc2dd').width('8%')"
       ],
       "metadata": {},
       "output_type": "display_data",
       "text": [
        "<IPython.core.display.Javascript at 0x122799990>"
       ]
      },
      {
       "javascript": [
        "$('div#10946a82-d17c-429d-a5bb-a848573dc2dd').width('8%')"
       ],
       "metadata": {},
       "output_type": "display_data",
       "text": [
        "<IPython.core.display.Javascript at 0x122799990>"
       ]
      },
      {
       "javascript": [
        "$('div#10946a82-d17c-429d-a5bb-a848573dc2dd').width('9%')"
       ],
       "metadata": {},
       "output_type": "display_data",
       "text": [
        "<IPython.core.display.Javascript at 0x122799990>"
       ]
      },
      {
       "javascript": [
        "$('div#10946a82-d17c-429d-a5bb-a848573dc2dd').width('9%')"
       ],
       "metadata": {},
       "output_type": "display_data",
       "text": [
        "<IPython.core.display.Javascript at 0x122799990>"
       ]
      },
      {
       "javascript": [
        "$('div#10946a82-d17c-429d-a5bb-a848573dc2dd').width('10%')"
       ],
       "metadata": {},
       "output_type": "display_data",
       "text": [
        "<IPython.core.display.Javascript at 0x122799990>"
       ]
      },
      {
       "javascript": [
        "$('div#10946a82-d17c-429d-a5bb-a848573dc2dd').width('10%')"
       ],
       "metadata": {},
       "output_type": "display_data",
       "text": [
        "<IPython.core.display.Javascript at 0x122799990>"
       ]
      },
      {
       "javascript": [
        "$('div#10946a82-d17c-429d-a5bb-a848573dc2dd').width('10%')"
       ],
       "metadata": {},
       "output_type": "display_data",
       "text": [
        "<IPython.core.display.Javascript at 0x122799990>"
       ]
      },
      {
       "javascript": [
        "$('div#10946a82-d17c-429d-a5bb-a848573dc2dd').width('11%')"
       ],
       "metadata": {},
       "output_type": "display_data",
       "text": [
        "<IPython.core.display.Javascript at 0x122799990>"
       ]
      },
      {
       "javascript": [
        "$('div#10946a82-d17c-429d-a5bb-a848573dc2dd').width('11%')"
       ],
       "metadata": {},
       "output_type": "display_data",
       "text": [
        "<IPython.core.display.Javascript at 0x122799990>"
       ]
      },
      {
       "javascript": [
        "$('div#10946a82-d17c-429d-a5bb-a848573dc2dd').width('12%')"
       ],
       "metadata": {},
       "output_type": "display_data",
       "text": [
        "<IPython.core.display.Javascript at 0x122799990>"
       ]
      },
      {
       "javascript": [
        "$('div#10946a82-d17c-429d-a5bb-a848573dc2dd').width('12%')"
       ],
       "metadata": {},
       "output_type": "display_data",
       "text": [
        "<IPython.core.display.Javascript at 0x122799990>"
       ]
      },
      {
       "javascript": [
        "$('div#10946a82-d17c-429d-a5bb-a848573dc2dd').width('12%')"
       ],
       "metadata": {},
       "output_type": "display_data",
       "text": [
        "<IPython.core.display.Javascript at 0x122799990>"
       ]
      },
      {
       "javascript": [
        "$('div#10946a82-d17c-429d-a5bb-a848573dc2dd').width('13%')"
       ],
       "metadata": {},
       "output_type": "display_data",
       "text": [
        "<IPython.core.display.Javascript at 0x122799990>"
       ]
      },
      {
       "javascript": [
        "$('div#10946a82-d17c-429d-a5bb-a848573dc2dd').width('13%')"
       ],
       "metadata": {},
       "output_type": "display_data",
       "text": [
        "<IPython.core.display.Javascript at 0x122799990>"
       ]
      },
      {
       "javascript": [
        "$('div#10946a82-d17c-429d-a5bb-a848573dc2dd').width('14%')"
       ],
       "metadata": {},
       "output_type": "display_data",
       "text": [
        "<IPython.core.display.Javascript at 0x122799990>"
       ]
      },
      {
       "javascript": [
        "$('div#10946a82-d17c-429d-a5bb-a848573dc2dd').width('14%')"
       ],
       "metadata": {},
       "output_type": "display_data",
       "text": [
        "<IPython.core.display.Javascript at 0x122799990>"
       ]
      },
      {
       "javascript": [
        "$('div#10946a82-d17c-429d-a5bb-a848573dc2dd').width('14%')"
       ],
       "metadata": {},
       "output_type": "display_data",
       "text": [
        "<IPython.core.display.Javascript at 0x122799990>"
       ]
      },
      {
       "javascript": [
        "$('div#10946a82-d17c-429d-a5bb-a848573dc2dd').width('15%')"
       ],
       "metadata": {},
       "output_type": "display_data",
       "text": [
        "<IPython.core.display.Javascript at 0x122799990>"
       ]
      },
      {
       "javascript": [
        "$('div#10946a82-d17c-429d-a5bb-a848573dc2dd').width('15%')"
       ],
       "metadata": {},
       "output_type": "display_data",
       "text": [
        "<IPython.core.display.Javascript at 0x122799990>"
       ]
      },
      {
       "javascript": [
        "$('div#10946a82-d17c-429d-a5bb-a848573dc2dd').width('16%')"
       ],
       "metadata": {},
       "output_type": "display_data",
       "text": [
        "<IPython.core.display.Javascript at 0x122799990>"
       ]
      },
      {
       "javascript": [
        "$('div#10946a82-d17c-429d-a5bb-a848573dc2dd').width('16%')"
       ],
       "metadata": {},
       "output_type": "display_data",
       "text": [
        "<IPython.core.display.Javascript at 0x122799990>"
       ]
      },
      {
       "javascript": [
        "$('div#10946a82-d17c-429d-a5bb-a848573dc2dd').width('16%')"
       ],
       "metadata": {},
       "output_type": "display_data",
       "text": [
        "<IPython.core.display.Javascript at 0x122799990>"
       ]
      },
      {
       "javascript": [
        "$('div#10946a82-d17c-429d-a5bb-a848573dc2dd').width('17%')"
       ],
       "metadata": {},
       "output_type": "display_data",
       "text": [
        "<IPython.core.display.Javascript at 0x122799990>"
       ]
      },
      {
       "javascript": [
        "$('div#10946a82-d17c-429d-a5bb-a848573dc2dd').width('17%')"
       ],
       "metadata": {},
       "output_type": "display_data",
       "text": [
        "<IPython.core.display.Javascript at 0x122799990>"
       ]
      },
      {
       "javascript": [
        "$('div#10946a82-d17c-429d-a5bb-a848573dc2dd').width('17%')"
       ],
       "metadata": {},
       "output_type": "display_data",
       "text": [
        "<IPython.core.display.Javascript at 0x122799990>"
       ]
      },
      {
       "javascript": [
        "$('div#10946a82-d17c-429d-a5bb-a848573dc2dd').width('18%')"
       ],
       "metadata": {},
       "output_type": "display_data",
       "text": [
        "<IPython.core.display.Javascript at 0x122799990>"
       ]
      },
      {
       "javascript": [
        "$('div#10946a82-d17c-429d-a5bb-a848573dc2dd').width('18%')"
       ],
       "metadata": {},
       "output_type": "display_data",
       "text": [
        "<IPython.core.display.Javascript at 0x122799990>"
       ]
      },
      {
       "javascript": [
        "$('div#10946a82-d17c-429d-a5bb-a848573dc2dd').width('19%')"
       ],
       "metadata": {},
       "output_type": "display_data",
       "text": [
        "<IPython.core.display.Javascript at 0x122799990>"
       ]
      },
      {
       "javascript": [
        "$('div#10946a82-d17c-429d-a5bb-a848573dc2dd').width('19%')"
       ],
       "metadata": {},
       "output_type": "display_data",
       "text": [
        "<IPython.core.display.Javascript at 0x122799990>"
       ]
      },
      {
       "javascript": [
        "$('div#10946a82-d17c-429d-a5bb-a848573dc2dd').width('19%')"
       ],
       "metadata": {},
       "output_type": "display_data",
       "text": [
        "<IPython.core.display.Javascript at 0x122799990>"
       ]
      },
      {
       "javascript": [
        "$('div#10946a82-d17c-429d-a5bb-a848573dc2dd').width('20%')"
       ],
       "metadata": {},
       "output_type": "display_data",
       "text": [
        "<IPython.core.display.Javascript at 0x122799990>"
       ]
      },
      {
       "javascript": [
        "$('div#10946a82-d17c-429d-a5bb-a848573dc2dd').width('20%')"
       ],
       "metadata": {},
       "output_type": "display_data",
       "text": [
        "<IPython.core.display.Javascript at 0x122799990>"
       ]
      },
      {
       "javascript": [
        "$('div#10946a82-d17c-429d-a5bb-a848573dc2dd').width('21%')"
       ],
       "metadata": {},
       "output_type": "display_data",
       "text": [
        "<IPython.core.display.Javascript at 0x122799990>"
       ]
      },
      {
       "javascript": [
        "$('div#10946a82-d17c-429d-a5bb-a848573dc2dd').width('21%')"
       ],
       "metadata": {},
       "output_type": "display_data",
       "text": [
        "<IPython.core.display.Javascript at 0x122799990>"
       ]
      },
      {
       "javascript": [
        "$('div#10946a82-d17c-429d-a5bb-a848573dc2dd').width('21%')"
       ],
       "metadata": {},
       "output_type": "display_data",
       "text": [
        "<IPython.core.display.Javascript at 0x122799990>"
       ]
      },
      {
       "javascript": [
        "$('div#10946a82-d17c-429d-a5bb-a848573dc2dd').width('22%')"
       ],
       "metadata": {},
       "output_type": "display_data",
       "text": [
        "<IPython.core.display.Javascript at 0x122799990>"
       ]
      },
      {
       "javascript": [
        "$('div#10946a82-d17c-429d-a5bb-a848573dc2dd').width('22%')"
       ],
       "metadata": {},
       "output_type": "display_data",
       "text": [
        "<IPython.core.display.Javascript at 0x122799990>"
       ]
      },
      {
       "javascript": [
        "$('div#10946a82-d17c-429d-a5bb-a848573dc2dd').width('23%')"
       ],
       "metadata": {},
       "output_type": "display_data",
       "text": [
        "<IPython.core.display.Javascript at 0x122799990>"
       ]
      },
      {
       "javascript": [
        "$('div#10946a82-d17c-429d-a5bb-a848573dc2dd').width('23%')"
       ],
       "metadata": {},
       "output_type": "display_data",
       "text": [
        "<IPython.core.display.Javascript at 0x122799990>"
       ]
      },
      {
       "javascript": [
        "$('div#10946a82-d17c-429d-a5bb-a848573dc2dd').width('23%')"
       ],
       "metadata": {},
       "output_type": "display_data",
       "text": [
        "<IPython.core.display.Javascript at 0x122799990>"
       ]
      },
      {
       "javascript": [
        "$('div#10946a82-d17c-429d-a5bb-a848573dc2dd').width('24%')"
       ],
       "metadata": {},
       "output_type": "display_data",
       "text": [
        "<IPython.core.display.Javascript at 0x122799990>"
       ]
      },
      {
       "javascript": [
        "$('div#10946a82-d17c-429d-a5bb-a848573dc2dd').width('24%')"
       ],
       "metadata": {},
       "output_type": "display_data",
       "text": [
        "<IPython.core.display.Javascript at 0x122799990>"
       ]
      },
      {
       "javascript": [
        "$('div#10946a82-d17c-429d-a5bb-a848573dc2dd').width('25%')"
       ],
       "metadata": {},
       "output_type": "display_data",
       "text": [
        "<IPython.core.display.Javascript at 0x122799990>"
       ]
      },
      {
       "javascript": [
        "$('div#10946a82-d17c-429d-a5bb-a848573dc2dd').width('25%')"
       ],
       "metadata": {},
       "output_type": "display_data",
       "text": [
        "<IPython.core.display.Javascript at 0x122799990>"
       ]
      },
      {
       "javascript": [
        "$('div#10946a82-d17c-429d-a5bb-a848573dc2dd').width('25%')"
       ],
       "metadata": {},
       "output_type": "display_data",
       "text": [
        "<IPython.core.display.Javascript at 0x122799990>"
       ]
      },
      {
       "javascript": [
        "$('div#10946a82-d17c-429d-a5bb-a848573dc2dd').width('26%')"
       ],
       "metadata": {},
       "output_type": "display_data",
       "text": [
        "<IPython.core.display.Javascript at 0x122799990>"
       ]
      },
      {
       "javascript": [
        "$('div#10946a82-d17c-429d-a5bb-a848573dc2dd').width('26%')"
       ],
       "metadata": {},
       "output_type": "display_data",
       "text": [
        "<IPython.core.display.Javascript at 0x122799990>"
       ]
      },
      {
       "javascript": [
        "$('div#10946a82-d17c-429d-a5bb-a848573dc2dd').width('26%')"
       ],
       "metadata": {},
       "output_type": "display_data",
       "text": [
        "<IPython.core.display.Javascript at 0x122799990>"
       ]
      },
      {
       "javascript": [
        "$('div#10946a82-d17c-429d-a5bb-a848573dc2dd').width('27%')"
       ],
       "metadata": {},
       "output_type": "display_data",
       "text": [
        "<IPython.core.display.Javascript at 0x122799990>"
       ]
      },
      {
       "javascript": [
        "$('div#10946a82-d17c-429d-a5bb-a848573dc2dd').width('27%')"
       ],
       "metadata": {},
       "output_type": "display_data",
       "text": [
        "<IPython.core.display.Javascript at 0x122799990>"
       ]
      },
      {
       "javascript": [
        "$('div#10946a82-d17c-429d-a5bb-a848573dc2dd').width('28%')"
       ],
       "metadata": {},
       "output_type": "display_data",
       "text": [
        "<IPython.core.display.Javascript at 0x122799990>"
       ]
      },
      {
       "javascript": [
        "$('div#10946a82-d17c-429d-a5bb-a848573dc2dd').width('28%')"
       ],
       "metadata": {},
       "output_type": "display_data",
       "text": [
        "<IPython.core.display.Javascript at 0x122799990>"
       ]
      },
      {
       "javascript": [
        "$('div#10946a82-d17c-429d-a5bb-a848573dc2dd').width('28%')"
       ],
       "metadata": {},
       "output_type": "display_data",
       "text": [
        "<IPython.core.display.Javascript at 0x122799990>"
       ]
      },
      {
       "javascript": [
        "$('div#10946a82-d17c-429d-a5bb-a848573dc2dd').width('29%')"
       ],
       "metadata": {},
       "output_type": "display_data",
       "text": [
        "<IPython.core.display.Javascript at 0x122799990>"
       ]
      },
      {
       "javascript": [
        "$('div#10946a82-d17c-429d-a5bb-a848573dc2dd').width('29%')"
       ],
       "metadata": {},
       "output_type": "display_data",
       "text": [
        "<IPython.core.display.Javascript at 0x122799990>"
       ]
      },
      {
       "javascript": [
        "$('div#10946a82-d17c-429d-a5bb-a848573dc2dd').width('30%')"
       ],
       "metadata": {},
       "output_type": "display_data",
       "text": [
        "<IPython.core.display.Javascript at 0x122799990>"
       ]
      },
      {
       "javascript": [
        "$('div#10946a82-d17c-429d-a5bb-a848573dc2dd').width('30%')"
       ],
       "metadata": {},
       "output_type": "display_data",
       "text": [
        "<IPython.core.display.Javascript at 0x122799990>"
       ]
      },
      {
       "javascript": [
        "$('div#10946a82-d17c-429d-a5bb-a848573dc2dd').width('30%')"
       ],
       "metadata": {},
       "output_type": "display_data",
       "text": [
        "<IPython.core.display.Javascript at 0x122799990>"
       ]
      },
      {
       "javascript": [
        "$('div#10946a82-d17c-429d-a5bb-a848573dc2dd').width('31%')"
       ],
       "metadata": {},
       "output_type": "display_data",
       "text": [
        "<IPython.core.display.Javascript at 0x122799990>"
       ]
      },
      {
       "javascript": [
        "$('div#10946a82-d17c-429d-a5bb-a848573dc2dd').width('31%')"
       ],
       "metadata": {},
       "output_type": "display_data",
       "text": [
        "<IPython.core.display.Javascript at 0x122799990>"
       ]
      },
      {
       "javascript": [
        "$('div#10946a82-d17c-429d-a5bb-a848573dc2dd').width('32%')"
       ],
       "metadata": {},
       "output_type": "display_data",
       "text": [
        "<IPython.core.display.Javascript at 0x122799990>"
       ]
      },
      {
       "javascript": [
        "$('div#10946a82-d17c-429d-a5bb-a848573dc2dd').width('32%')"
       ],
       "metadata": {},
       "output_type": "display_data",
       "text": [
        "<IPython.core.display.Javascript at 0x122799990>"
       ]
      },
      {
       "javascript": [
        "$('div#10946a82-d17c-429d-a5bb-a848573dc2dd').width('32%')"
       ],
       "metadata": {},
       "output_type": "display_data",
       "text": [
        "<IPython.core.display.Javascript at 0x122799990>"
       ]
      },
      {
       "javascript": [
        "$('div#10946a82-d17c-429d-a5bb-a848573dc2dd').width('33%')"
       ],
       "metadata": {},
       "output_type": "display_data",
       "text": [
        "<IPython.core.display.Javascript at 0x122799990>"
       ]
      },
      {
       "javascript": [
        "$('div#10946a82-d17c-429d-a5bb-a848573dc2dd').width('33%')"
       ],
       "metadata": {},
       "output_type": "display_data",
       "text": [
        "<IPython.core.display.Javascript at 0x122799990>"
       ]
      },
      {
       "javascript": [
        "$('div#10946a82-d17c-429d-a5bb-a848573dc2dd').width('33%')"
       ],
       "metadata": {},
       "output_type": "display_data",
       "text": [
        "<IPython.core.display.Javascript at 0x122799990>"
       ]
      },
      {
       "javascript": [
        "$('div#10946a82-d17c-429d-a5bb-a848573dc2dd').width('34%')"
       ],
       "metadata": {},
       "output_type": "display_data",
       "text": [
        "<IPython.core.display.Javascript at 0x122799990>"
       ]
      },
      {
       "javascript": [
        "$('div#10946a82-d17c-429d-a5bb-a848573dc2dd').width('34%')"
       ],
       "metadata": {},
       "output_type": "display_data",
       "text": [
        "<IPython.core.display.Javascript at 0x122799990>"
       ]
      },
      {
       "javascript": [
        "$('div#10946a82-d17c-429d-a5bb-a848573dc2dd').width('35%')"
       ],
       "metadata": {},
       "output_type": "display_data",
       "text": [
        "<IPython.core.display.Javascript at 0x122799990>"
       ]
      },
      {
       "javascript": [
        "$('div#10946a82-d17c-429d-a5bb-a848573dc2dd').width('35%')"
       ],
       "metadata": {},
       "output_type": "display_data",
       "text": [
        "<IPython.core.display.Javascript at 0x122799990>"
       ]
      },
      {
       "javascript": [
        "$('div#10946a82-d17c-429d-a5bb-a848573dc2dd').width('35%')"
       ],
       "metadata": {},
       "output_type": "display_data",
       "text": [
        "<IPython.core.display.Javascript at 0x122799990>"
       ]
      },
      {
       "javascript": [
        "$('div#10946a82-d17c-429d-a5bb-a848573dc2dd').width('36%')"
       ],
       "metadata": {},
       "output_type": "display_data",
       "text": [
        "<IPython.core.display.Javascript at 0x122799990>"
       ]
      },
      {
       "javascript": [
        "$('div#10946a82-d17c-429d-a5bb-a848573dc2dd').width('36%')"
       ],
       "metadata": {},
       "output_type": "display_data",
       "text": [
        "<IPython.core.display.Javascript at 0x122799990>"
       ]
      },
      {
       "javascript": [
        "$('div#10946a82-d17c-429d-a5bb-a848573dc2dd').width('37%')"
       ],
       "metadata": {},
       "output_type": "display_data",
       "text": [
        "<IPython.core.display.Javascript at 0x122799990>"
       ]
      },
      {
       "javascript": [
        "$('div#10946a82-d17c-429d-a5bb-a848573dc2dd').width('37%')"
       ],
       "metadata": {},
       "output_type": "display_data",
       "text": [
        "<IPython.core.display.Javascript at 0x122799990>"
       ]
      },
      {
       "javascript": [
        "$('div#10946a82-d17c-429d-a5bb-a848573dc2dd').width('37%')"
       ],
       "metadata": {},
       "output_type": "display_data",
       "text": [
        "<IPython.core.display.Javascript at 0x122799990>"
       ]
      },
      {
       "javascript": [
        "$('div#10946a82-d17c-429d-a5bb-a848573dc2dd').width('38%')"
       ],
       "metadata": {},
       "output_type": "display_data",
       "text": [
        "<IPython.core.display.Javascript at 0x122799990>"
       ]
      },
      {
       "javascript": [
        "$('div#10946a82-d17c-429d-a5bb-a848573dc2dd').width('38%')"
       ],
       "metadata": {},
       "output_type": "display_data",
       "text": [
        "<IPython.core.display.Javascript at 0x122799990>"
       ]
      },
      {
       "javascript": [
        "$('div#10946a82-d17c-429d-a5bb-a848573dc2dd').width('39%')"
       ],
       "metadata": {},
       "output_type": "display_data",
       "text": [
        "<IPython.core.display.Javascript at 0x122799990>"
       ]
      },
      {
       "javascript": [
        "$('div#10946a82-d17c-429d-a5bb-a848573dc2dd').width('39%')"
       ],
       "metadata": {},
       "output_type": "display_data",
       "text": [
        "<IPython.core.display.Javascript at 0x122799990>"
       ]
      },
      {
       "javascript": [
        "$('div#10946a82-d17c-429d-a5bb-a848573dc2dd').width('39%')"
       ],
       "metadata": {},
       "output_type": "display_data",
       "text": [
        "<IPython.core.display.Javascript at 0x122799990>"
       ]
      },
      {
       "javascript": [
        "$('div#10946a82-d17c-429d-a5bb-a848573dc2dd').width('40%')"
       ],
       "metadata": {},
       "output_type": "display_data",
       "text": [
        "<IPython.core.display.Javascript at 0x122799990>"
       ]
      },
      {
       "javascript": [
        "$('div#10946a82-d17c-429d-a5bb-a848573dc2dd').width('40%')"
       ],
       "metadata": {},
       "output_type": "display_data",
       "text": [
        "<IPython.core.display.Javascript at 0x122799990>"
       ]
      },
      {
       "javascript": [
        "$('div#10946a82-d17c-429d-a5bb-a848573dc2dd').width('41%')"
       ],
       "metadata": {},
       "output_type": "display_data",
       "text": [
        "<IPython.core.display.Javascript at 0x122799990>"
       ]
      },
      {
       "javascript": [
        "$('div#10946a82-d17c-429d-a5bb-a848573dc2dd').width('41%')"
       ],
       "metadata": {},
       "output_type": "display_data",
       "text": [
        "<IPython.core.display.Javascript at 0x122799990>"
       ]
      },
      {
       "javascript": [
        "$('div#10946a82-d17c-429d-a5bb-a848573dc2dd').width('41%')"
       ],
       "metadata": {},
       "output_type": "display_data",
       "text": [
        "<IPython.core.display.Javascript at 0x122799990>"
       ]
      },
      {
       "javascript": [
        "$('div#10946a82-d17c-429d-a5bb-a848573dc2dd').width('42%')"
       ],
       "metadata": {},
       "output_type": "display_data",
       "text": [
        "<IPython.core.display.Javascript at 0x122799990>"
       ]
      },
      {
       "javascript": [
        "$('div#10946a82-d17c-429d-a5bb-a848573dc2dd').width('42%')"
       ],
       "metadata": {},
       "output_type": "display_data",
       "text": [
        "<IPython.core.display.Javascript at 0x122799990>"
       ]
      },
      {
       "javascript": [
        "$('div#10946a82-d17c-429d-a5bb-a848573dc2dd').width('42%')"
       ],
       "metadata": {},
       "output_type": "display_data",
       "text": [
        "<IPython.core.display.Javascript at 0x122799990>"
       ]
      },
      {
       "javascript": [
        "$('div#10946a82-d17c-429d-a5bb-a848573dc2dd').width('43%')"
       ],
       "metadata": {},
       "output_type": "display_data",
       "text": [
        "<IPython.core.display.Javascript at 0x122799990>"
       ]
      },
      {
       "javascript": [
        "$('div#10946a82-d17c-429d-a5bb-a848573dc2dd').width('43%')"
       ],
       "metadata": {},
       "output_type": "display_data",
       "text": [
        "<IPython.core.display.Javascript at 0x122799990>"
       ]
      },
      {
       "javascript": [
        "$('div#10946a82-d17c-429d-a5bb-a848573dc2dd').width('44%')"
       ],
       "metadata": {},
       "output_type": "display_data",
       "text": [
        "<IPython.core.display.Javascript at 0x122799990>"
       ]
      },
      {
       "javascript": [
        "$('div#10946a82-d17c-429d-a5bb-a848573dc2dd').width('44%')"
       ],
       "metadata": {},
       "output_type": "display_data",
       "text": [
        "<IPython.core.display.Javascript at 0x122799990>"
       ]
      },
      {
       "javascript": [
        "$('div#10946a82-d17c-429d-a5bb-a848573dc2dd').width('44%')"
       ],
       "metadata": {},
       "output_type": "display_data",
       "text": [
        "<IPython.core.display.Javascript at 0x122799990>"
       ]
      },
      {
       "javascript": [
        "$('div#10946a82-d17c-429d-a5bb-a848573dc2dd').width('45%')"
       ],
       "metadata": {},
       "output_type": "display_data",
       "text": [
        "<IPython.core.display.Javascript at 0x122799990>"
       ]
      },
      {
       "javascript": [
        "$('div#10946a82-d17c-429d-a5bb-a848573dc2dd').width('45%')"
       ],
       "metadata": {},
       "output_type": "display_data",
       "text": [
        "<IPython.core.display.Javascript at 0x122799990>"
       ]
      },
      {
       "javascript": [
        "$('div#10946a82-d17c-429d-a5bb-a848573dc2dd').width('46%')"
       ],
       "metadata": {},
       "output_type": "display_data",
       "text": [
        "<IPython.core.display.Javascript at 0x122799990>"
       ]
      },
      {
       "javascript": [
        "$('div#10946a82-d17c-429d-a5bb-a848573dc2dd').width('46%')"
       ],
       "metadata": {},
       "output_type": "display_data",
       "text": [
        "<IPython.core.display.Javascript at 0x122799990>"
       ]
      },
      {
       "javascript": [
        "$('div#10946a82-d17c-429d-a5bb-a848573dc2dd').width('46%')"
       ],
       "metadata": {},
       "output_type": "display_data",
       "text": [
        "<IPython.core.display.Javascript at 0x122799990>"
       ]
      },
      {
       "javascript": [
        "$('div#10946a82-d17c-429d-a5bb-a848573dc2dd').width('47%')"
       ],
       "metadata": {},
       "output_type": "display_data",
       "text": [
        "<IPython.core.display.Javascript at 0x122799990>"
       ]
      },
      {
       "javascript": [
        "$('div#10946a82-d17c-429d-a5bb-a848573dc2dd').width('47%')"
       ],
       "metadata": {},
       "output_type": "display_data",
       "text": [
        "<IPython.core.display.Javascript at 0x122799990>"
       ]
      },
      {
       "javascript": [
        "$('div#10946a82-d17c-429d-a5bb-a848573dc2dd').width('48%')"
       ],
       "metadata": {},
       "output_type": "display_data",
       "text": [
        "<IPython.core.display.Javascript at 0x122799990>"
       ]
      },
      {
       "javascript": [
        "$('div#10946a82-d17c-429d-a5bb-a848573dc2dd').width('48%')"
       ],
       "metadata": {},
       "output_type": "display_data",
       "text": [
        "<IPython.core.display.Javascript at 0x122799990>"
       ]
      },
      {
       "javascript": [
        "$('div#10946a82-d17c-429d-a5bb-a848573dc2dd').width('48%')"
       ],
       "metadata": {},
       "output_type": "display_data",
       "text": [
        "<IPython.core.display.Javascript at 0x122799990>"
       ]
      },
      {
       "javascript": [
        "$('div#10946a82-d17c-429d-a5bb-a848573dc2dd').width('49%')"
       ],
       "metadata": {},
       "output_type": "display_data",
       "text": [
        "<IPython.core.display.Javascript at 0x122799990>"
       ]
      },
      {
       "javascript": [
        "$('div#10946a82-d17c-429d-a5bb-a848573dc2dd').width('49%')"
       ],
       "metadata": {},
       "output_type": "display_data",
       "text": [
        "<IPython.core.display.Javascript at 0x122799990>"
       ]
      },
      {
       "javascript": [
        "$('div#10946a82-d17c-429d-a5bb-a848573dc2dd').width('50%')"
       ],
       "metadata": {},
       "output_type": "display_data",
       "text": [
        "<IPython.core.display.Javascript at 0x122799990>"
       ]
      },
      {
       "javascript": [
        "$('div#10946a82-d17c-429d-a5bb-a848573dc2dd').width('50%')"
       ],
       "metadata": {},
       "output_type": "display_data",
       "text": [
        "<IPython.core.display.Javascript at 0x122799990>"
       ]
      },
      {
       "javascript": [
        "$('div#10946a82-d17c-429d-a5bb-a848573dc2dd').width('50%')"
       ],
       "metadata": {},
       "output_type": "display_data",
       "text": [
        "<IPython.core.display.Javascript at 0x122799990>"
       ]
      },
      {
       "javascript": [
        "$('div#10946a82-d17c-429d-a5bb-a848573dc2dd').width('51%')"
       ],
       "metadata": {},
       "output_type": "display_data",
       "text": [
        "<IPython.core.display.Javascript at 0x122799990>"
       ]
      },
      {
       "javascript": [
        "$('div#10946a82-d17c-429d-a5bb-a848573dc2dd').width('51%')"
       ],
       "metadata": {},
       "output_type": "display_data",
       "text": [
        "<IPython.core.display.Javascript at 0x122799990>"
       ]
      },
      {
       "javascript": [
        "$('div#10946a82-d17c-429d-a5bb-a848573dc2dd').width('51%')"
       ],
       "metadata": {},
       "output_type": "display_data",
       "text": [
        "<IPython.core.display.Javascript at 0x122799990>"
       ]
      },
      {
       "javascript": [
        "$('div#10946a82-d17c-429d-a5bb-a848573dc2dd').width('52%')"
       ],
       "metadata": {},
       "output_type": "display_data",
       "text": [
        "<IPython.core.display.Javascript at 0x122799990>"
       ]
      },
      {
       "javascript": [
        "$('div#10946a82-d17c-429d-a5bb-a848573dc2dd').width('52%')"
       ],
       "metadata": {},
       "output_type": "display_data",
       "text": [
        "<IPython.core.display.Javascript at 0x122799990>"
       ]
      },
      {
       "javascript": [
        "$('div#10946a82-d17c-429d-a5bb-a848573dc2dd').width('53%')"
       ],
       "metadata": {},
       "output_type": "display_data",
       "text": [
        "<IPython.core.display.Javascript at 0x122799990>"
       ]
      },
      {
       "javascript": [
        "$('div#10946a82-d17c-429d-a5bb-a848573dc2dd').width('53%')"
       ],
       "metadata": {},
       "output_type": "display_data",
       "text": [
        "<IPython.core.display.Javascript at 0x122799990>"
       ]
      },
      {
       "javascript": [
        "$('div#10946a82-d17c-429d-a5bb-a848573dc2dd').width('53%')"
       ],
       "metadata": {},
       "output_type": "display_data",
       "text": [
        "<IPython.core.display.Javascript at 0x122799990>"
       ]
      },
      {
       "javascript": [
        "$('div#10946a82-d17c-429d-a5bb-a848573dc2dd').width('54%')"
       ],
       "metadata": {},
       "output_type": "display_data",
       "text": [
        "<IPython.core.display.Javascript at 0x122799990>"
       ]
      },
      {
       "javascript": [
        "$('div#10946a82-d17c-429d-a5bb-a848573dc2dd').width('54%')"
       ],
       "metadata": {},
       "output_type": "display_data",
       "text": [
        "<IPython.core.display.Javascript at 0x122799990>"
       ]
      },
      {
       "javascript": [
        "$('div#10946a82-d17c-429d-a5bb-a848573dc2dd').width('55%')"
       ],
       "metadata": {},
       "output_type": "display_data",
       "text": [
        "<IPython.core.display.Javascript at 0x122799990>"
       ]
      },
      {
       "javascript": [
        "$('div#10946a82-d17c-429d-a5bb-a848573dc2dd').width('55%')"
       ],
       "metadata": {},
       "output_type": "display_data",
       "text": [
        "<IPython.core.display.Javascript at 0x122799990>"
       ]
      },
      {
       "javascript": [
        "$('div#10946a82-d17c-429d-a5bb-a848573dc2dd').width('55%')"
       ],
       "metadata": {},
       "output_type": "display_data",
       "text": [
        "<IPython.core.display.Javascript at 0x122799990>"
       ]
      },
      {
       "javascript": [
        "$('div#10946a82-d17c-429d-a5bb-a848573dc2dd').width('56%')"
       ],
       "metadata": {},
       "output_type": "display_data",
       "text": [
        "<IPython.core.display.Javascript at 0x122799990>"
       ]
      },
      {
       "javascript": [
        "$('div#10946a82-d17c-429d-a5bb-a848573dc2dd').width('56%')"
       ],
       "metadata": {},
       "output_type": "display_data",
       "text": [
        "<IPython.core.display.Javascript at 0x122799990>"
       ]
      },
      {
       "javascript": [
        "$('div#10946a82-d17c-429d-a5bb-a848573dc2dd').width('57%')"
       ],
       "metadata": {},
       "output_type": "display_data",
       "text": [
        "<IPython.core.display.Javascript at 0x122799990>"
       ]
      },
      {
       "javascript": [
        "$('div#10946a82-d17c-429d-a5bb-a848573dc2dd').width('57%')"
       ],
       "metadata": {},
       "output_type": "display_data",
       "text": [
        "<IPython.core.display.Javascript at 0x122799990>"
       ]
      },
      {
       "javascript": [
        "$('div#10946a82-d17c-429d-a5bb-a848573dc2dd').width('57%')"
       ],
       "metadata": {},
       "output_type": "display_data",
       "text": [
        "<IPython.core.display.Javascript at 0x122799990>"
       ]
      },
      {
       "javascript": [
        "$('div#10946a82-d17c-429d-a5bb-a848573dc2dd').width('58%')"
       ],
       "metadata": {},
       "output_type": "display_data",
       "text": [
        "<IPython.core.display.Javascript at 0x122799990>"
       ]
      },
      {
       "javascript": [
        "$('div#10946a82-d17c-429d-a5bb-a848573dc2dd').width('58%')"
       ],
       "metadata": {},
       "output_type": "display_data",
       "text": [
        "<IPython.core.display.Javascript at 0x122799990>"
       ]
      },
      {
       "javascript": [
        "$('div#10946a82-d17c-429d-a5bb-a848573dc2dd').width('58%')"
       ],
       "metadata": {},
       "output_type": "display_data",
       "text": [
        "<IPython.core.display.Javascript at 0x122799990>"
       ]
      },
      {
       "javascript": [
        "$('div#10946a82-d17c-429d-a5bb-a848573dc2dd').width('59%')"
       ],
       "metadata": {},
       "output_type": "display_data",
       "text": [
        "<IPython.core.display.Javascript at 0x122799990>"
       ]
      },
      {
       "javascript": [
        "$('div#10946a82-d17c-429d-a5bb-a848573dc2dd').width('59%')"
       ],
       "metadata": {},
       "output_type": "display_data",
       "text": [
        "<IPython.core.display.Javascript at 0x122799990>"
       ]
      },
      {
       "javascript": [
        "$('div#10946a82-d17c-429d-a5bb-a848573dc2dd').width('60%')"
       ],
       "metadata": {},
       "output_type": "display_data",
       "text": [
        "<IPython.core.display.Javascript at 0x122799990>"
       ]
      },
      {
       "javascript": [
        "$('div#10946a82-d17c-429d-a5bb-a848573dc2dd').width('60%')"
       ],
       "metadata": {},
       "output_type": "display_data",
       "text": [
        "<IPython.core.display.Javascript at 0x122799990>"
       ]
      },
      {
       "javascript": [
        "$('div#10946a82-d17c-429d-a5bb-a848573dc2dd').width('60%')"
       ],
       "metadata": {},
       "output_type": "display_data",
       "text": [
        "<IPython.core.display.Javascript at 0x122799990>"
       ]
      },
      {
       "javascript": [
        "$('div#10946a82-d17c-429d-a5bb-a848573dc2dd').width('61%')"
       ],
       "metadata": {},
       "output_type": "display_data",
       "text": [
        "<IPython.core.display.Javascript at 0x122799990>"
       ]
      },
      {
       "javascript": [
        "$('div#10946a82-d17c-429d-a5bb-a848573dc2dd').width('61%')"
       ],
       "metadata": {},
       "output_type": "display_data",
       "text": [
        "<IPython.core.display.Javascript at 0x122799990>"
       ]
      },
      {
       "javascript": [
        "$('div#10946a82-d17c-429d-a5bb-a848573dc2dd').width('62%')"
       ],
       "metadata": {},
       "output_type": "display_data",
       "text": [
        "<IPython.core.display.Javascript at 0x122799990>"
       ]
      },
      {
       "javascript": [
        "$('div#10946a82-d17c-429d-a5bb-a848573dc2dd').width('62%')"
       ],
       "metadata": {},
       "output_type": "display_data",
       "text": [
        "<IPython.core.display.Javascript at 0x122799990>"
       ]
      },
      {
       "javascript": [
        "$('div#10946a82-d17c-429d-a5bb-a848573dc2dd').width('62%')"
       ],
       "metadata": {},
       "output_type": "display_data",
       "text": [
        "<IPython.core.display.Javascript at 0x122799990>"
       ]
      },
      {
       "javascript": [
        "$('div#10946a82-d17c-429d-a5bb-a848573dc2dd').width('63%')"
       ],
       "metadata": {},
       "output_type": "display_data",
       "text": [
        "<IPython.core.display.Javascript at 0x122799990>"
       ]
      },
      {
       "javascript": [
        "$('div#10946a82-d17c-429d-a5bb-a848573dc2dd').width('63%')"
       ],
       "metadata": {},
       "output_type": "display_data",
       "text": [
        "<IPython.core.display.Javascript at 0x122799990>"
       ]
      },
      {
       "javascript": [
        "$('div#10946a82-d17c-429d-a5bb-a848573dc2dd').width('64%')"
       ],
       "metadata": {},
       "output_type": "display_data",
       "text": [
        "<IPython.core.display.Javascript at 0x122799990>"
       ]
      },
      {
       "javascript": [
        "$('div#10946a82-d17c-429d-a5bb-a848573dc2dd').width('64%')"
       ],
       "metadata": {},
       "output_type": "display_data",
       "text": [
        "<IPython.core.display.Javascript at 0x122799990>"
       ]
      },
      {
       "javascript": [
        "$('div#10946a82-d17c-429d-a5bb-a848573dc2dd').width('64%')"
       ],
       "metadata": {},
       "output_type": "display_data",
       "text": [
        "<IPython.core.display.Javascript at 0x122799990>"
       ]
      },
      {
       "javascript": [
        "$('div#10946a82-d17c-429d-a5bb-a848573dc2dd').width('65%')"
       ],
       "metadata": {},
       "output_type": "display_data",
       "text": [
        "<IPython.core.display.Javascript at 0x122799990>"
       ]
      },
      {
       "javascript": [
        "$('div#10946a82-d17c-429d-a5bb-a848573dc2dd').width('65%')"
       ],
       "metadata": {},
       "output_type": "display_data",
       "text": [
        "<IPython.core.display.Javascript at 0x122799990>"
       ]
      },
      {
       "javascript": [
        "$('div#10946a82-d17c-429d-a5bb-a848573dc2dd').width('66%')"
       ],
       "metadata": {},
       "output_type": "display_data",
       "text": [
        "<IPython.core.display.Javascript at 0x122799990>"
       ]
      },
      {
       "javascript": [
        "$('div#10946a82-d17c-429d-a5bb-a848573dc2dd').width('66%')"
       ],
       "metadata": {},
       "output_type": "display_data",
       "text": [
        "<IPython.core.display.Javascript at 0x122799990>"
       ]
      },
      {
       "javascript": [
        "$('div#10946a82-d17c-429d-a5bb-a848573dc2dd').width('66%')"
       ],
       "metadata": {},
       "output_type": "display_data",
       "text": [
        "<IPython.core.display.Javascript at 0x122799990>"
       ]
      },
      {
       "javascript": [
        "$('div#10946a82-d17c-429d-a5bb-a848573dc2dd').width('67%')"
       ],
       "metadata": {},
       "output_type": "display_data",
       "text": [
        "<IPython.core.display.Javascript at 0x122799990>"
       ]
      },
      {
       "javascript": [
        "$('div#10946a82-d17c-429d-a5bb-a848573dc2dd').width('67%')"
       ],
       "metadata": {},
       "output_type": "display_data",
       "text": [
        "<IPython.core.display.Javascript at 0x122799990>"
       ]
      },
      {
       "javascript": [
        "$('div#10946a82-d17c-429d-a5bb-a848573dc2dd').width('67%')"
       ],
       "metadata": {},
       "output_type": "display_data",
       "text": [
        "<IPython.core.display.Javascript at 0x122799990>"
       ]
      },
      {
       "javascript": [
        "$('div#10946a82-d17c-429d-a5bb-a848573dc2dd').width('68%')"
       ],
       "metadata": {},
       "output_type": "display_data",
       "text": [
        "<IPython.core.display.Javascript at 0x122799990>"
       ]
      },
      {
       "javascript": [
        "$('div#10946a82-d17c-429d-a5bb-a848573dc2dd').width('68%')"
       ],
       "metadata": {},
       "output_type": "display_data",
       "text": [
        "<IPython.core.display.Javascript at 0x122799990>"
       ]
      },
      {
       "javascript": [
        "$('div#10946a82-d17c-429d-a5bb-a848573dc2dd').width('69%')"
       ],
       "metadata": {},
       "output_type": "display_data",
       "text": [
        "<IPython.core.display.Javascript at 0x122799990>"
       ]
      },
      {
       "javascript": [
        "$('div#10946a82-d17c-429d-a5bb-a848573dc2dd').width('69%')"
       ],
       "metadata": {},
       "output_type": "display_data",
       "text": [
        "<IPython.core.display.Javascript at 0x122799990>"
       ]
      },
      {
       "javascript": [
        "$('div#10946a82-d17c-429d-a5bb-a848573dc2dd').width('69%')"
       ],
       "metadata": {},
       "output_type": "display_data",
       "text": [
        "<IPython.core.display.Javascript at 0x122799990>"
       ]
      },
      {
       "javascript": [
        "$('div#10946a82-d17c-429d-a5bb-a848573dc2dd').width('70%')"
       ],
       "metadata": {},
       "output_type": "display_data",
       "text": [
        "<IPython.core.display.Javascript at 0x122799990>"
       ]
      },
      {
       "javascript": [
        "$('div#10946a82-d17c-429d-a5bb-a848573dc2dd').width('70%')"
       ],
       "metadata": {},
       "output_type": "display_data",
       "text": [
        "<IPython.core.display.Javascript at 0x122799990>"
       ]
      },
      {
       "javascript": [
        "$('div#10946a82-d17c-429d-a5bb-a848573dc2dd').width('71%')"
       ],
       "metadata": {},
       "output_type": "display_data",
       "text": [
        "<IPython.core.display.Javascript at 0x122799990>"
       ]
      },
      {
       "javascript": [
        "$('div#10946a82-d17c-429d-a5bb-a848573dc2dd').width('71%')"
       ],
       "metadata": {},
       "output_type": "display_data",
       "text": [
        "<IPython.core.display.Javascript at 0x122799990>"
       ]
      },
      {
       "javascript": [
        "$('div#10946a82-d17c-429d-a5bb-a848573dc2dd').width('71%')"
       ],
       "metadata": {},
       "output_type": "display_data",
       "text": [
        "<IPython.core.display.Javascript at 0x122799990>"
       ]
      },
      {
       "javascript": [
        "$('div#10946a82-d17c-429d-a5bb-a848573dc2dd').width('72%')"
       ],
       "metadata": {},
       "output_type": "display_data",
       "text": [
        "<IPython.core.display.Javascript at 0x122799990>"
       ]
      },
      {
       "javascript": [
        "$('div#10946a82-d17c-429d-a5bb-a848573dc2dd').width('72%')"
       ],
       "metadata": {},
       "output_type": "display_data",
       "text": [
        "<IPython.core.display.Javascript at 0x122799990>"
       ]
      },
      {
       "javascript": [
        "$('div#10946a82-d17c-429d-a5bb-a848573dc2dd').width('73%')"
       ],
       "metadata": {},
       "output_type": "display_data",
       "text": [
        "<IPython.core.display.Javascript at 0x122799990>"
       ]
      },
      {
       "javascript": [
        "$('div#10946a82-d17c-429d-a5bb-a848573dc2dd').width('73%')"
       ],
       "metadata": {},
       "output_type": "display_data",
       "text": [
        "<IPython.core.display.Javascript at 0x122799990>"
       ]
      },
      {
       "javascript": [
        "$('div#10946a82-d17c-429d-a5bb-a848573dc2dd').width('73%')"
       ],
       "metadata": {},
       "output_type": "display_data",
       "text": [
        "<IPython.core.display.Javascript at 0x122799990>"
       ]
      },
      {
       "javascript": [
        "$('div#10946a82-d17c-429d-a5bb-a848573dc2dd').width('74%')"
       ],
       "metadata": {},
       "output_type": "display_data",
       "text": [
        "<IPython.core.display.Javascript at 0x122799990>"
       ]
      },
      {
       "javascript": [
        "$('div#10946a82-d17c-429d-a5bb-a848573dc2dd').width('74%')"
       ],
       "metadata": {},
       "output_type": "display_data",
       "text": [
        "<IPython.core.display.Javascript at 0x122799990>"
       ]
      },
      {
       "javascript": [
        "$('div#10946a82-d17c-429d-a5bb-a848573dc2dd').width('75%')"
       ],
       "metadata": {},
       "output_type": "display_data",
       "text": [
        "<IPython.core.display.Javascript at 0x122799990>"
       ]
      },
      {
       "javascript": [
        "$('div#10946a82-d17c-429d-a5bb-a848573dc2dd').width('75%')"
       ],
       "metadata": {},
       "output_type": "display_data",
       "text": [
        "<IPython.core.display.Javascript at 0x122799990>"
       ]
      },
      {
       "javascript": [
        "$('div#10946a82-d17c-429d-a5bb-a848573dc2dd').width('75%')"
       ],
       "metadata": {},
       "output_type": "display_data",
       "text": [
        "<IPython.core.display.Javascript at 0x122799990>"
       ]
      },
      {
       "javascript": [
        "$('div#10946a82-d17c-429d-a5bb-a848573dc2dd').width('76%')"
       ],
       "metadata": {},
       "output_type": "display_data",
       "text": [
        "<IPython.core.display.Javascript at 0x122799990>"
       ]
      },
      {
       "javascript": [
        "$('div#10946a82-d17c-429d-a5bb-a848573dc2dd').width('76%')"
       ],
       "metadata": {},
       "output_type": "display_data",
       "text": [
        "<IPython.core.display.Javascript at 0x122799990>"
       ]
      },
      {
       "javascript": [
        "$('div#10946a82-d17c-429d-a5bb-a848573dc2dd').width('76%')"
       ],
       "metadata": {},
       "output_type": "display_data",
       "text": [
        "<IPython.core.display.Javascript at 0x122799990>"
       ]
      },
      {
       "javascript": [
        "$('div#10946a82-d17c-429d-a5bb-a848573dc2dd').width('77%')"
       ],
       "metadata": {},
       "output_type": "display_data",
       "text": [
        "<IPython.core.display.Javascript at 0x122799990>"
       ]
      },
      {
       "javascript": [
        "$('div#10946a82-d17c-429d-a5bb-a848573dc2dd').width('77%')"
       ],
       "metadata": {},
       "output_type": "display_data",
       "text": [
        "<IPython.core.display.Javascript at 0x122799990>"
       ]
      },
      {
       "javascript": [
        "$('div#10946a82-d17c-429d-a5bb-a848573dc2dd').width('78%')"
       ],
       "metadata": {},
       "output_type": "display_data",
       "text": [
        "<IPython.core.display.Javascript at 0x122799990>"
       ]
      },
      {
       "javascript": [
        "$('div#10946a82-d17c-429d-a5bb-a848573dc2dd').width('78%')"
       ],
       "metadata": {},
       "output_type": "display_data",
       "text": [
        "<IPython.core.display.Javascript at 0x122799990>"
       ]
      },
      {
       "javascript": [
        "$('div#10946a82-d17c-429d-a5bb-a848573dc2dd').width('78%')"
       ],
       "metadata": {},
       "output_type": "display_data",
       "text": [
        "<IPython.core.display.Javascript at 0x122799990>"
       ]
      },
      {
       "javascript": [
        "$('div#10946a82-d17c-429d-a5bb-a848573dc2dd').width('79%')"
       ],
       "metadata": {},
       "output_type": "display_data",
       "text": [
        "<IPython.core.display.Javascript at 0x122799990>"
       ]
      },
      {
       "javascript": [
        "$('div#10946a82-d17c-429d-a5bb-a848573dc2dd').width('79%')"
       ],
       "metadata": {},
       "output_type": "display_data",
       "text": [
        "<IPython.core.display.Javascript at 0x122799990>"
       ]
      },
      {
       "javascript": [
        "$('div#10946a82-d17c-429d-a5bb-a848573dc2dd').width('80%')"
       ],
       "metadata": {},
       "output_type": "display_data",
       "text": [
        "<IPython.core.display.Javascript at 0x122799990>"
       ]
      },
      {
       "javascript": [
        "$('div#10946a82-d17c-429d-a5bb-a848573dc2dd').width('80%')"
       ],
       "metadata": {},
       "output_type": "display_data",
       "text": [
        "<IPython.core.display.Javascript at 0x122799990>"
       ]
      },
      {
       "javascript": [
        "$('div#10946a82-d17c-429d-a5bb-a848573dc2dd').width('80%')"
       ],
       "metadata": {},
       "output_type": "display_data",
       "text": [
        "<IPython.core.display.Javascript at 0x122799990>"
       ]
      },
      {
       "javascript": [
        "$('div#10946a82-d17c-429d-a5bb-a848573dc2dd').width('81%')"
       ],
       "metadata": {},
       "output_type": "display_data",
       "text": [
        "<IPython.core.display.Javascript at 0x122799990>"
       ]
      },
      {
       "javascript": [
        "$('div#10946a82-d17c-429d-a5bb-a848573dc2dd').width('81%')"
       ],
       "metadata": {},
       "output_type": "display_data",
       "text": [
        "<IPython.core.display.Javascript at 0x122799990>"
       ]
      },
      {
       "javascript": [
        "$('div#10946a82-d17c-429d-a5bb-a848573dc2dd').width('82%')"
       ],
       "metadata": {},
       "output_type": "display_data",
       "text": [
        "<IPython.core.display.Javascript at 0x122799990>"
       ]
      },
      {
       "javascript": [
        "$('div#10946a82-d17c-429d-a5bb-a848573dc2dd').width('82%')"
       ],
       "metadata": {},
       "output_type": "display_data",
       "text": [
        "<IPython.core.display.Javascript at 0x122799990>"
       ]
      },
      {
       "javascript": [
        "$('div#10946a82-d17c-429d-a5bb-a848573dc2dd').width('82%')"
       ],
       "metadata": {},
       "output_type": "display_data",
       "text": [
        "<IPython.core.display.Javascript at 0x122799990>"
       ]
      },
      {
       "javascript": [
        "$('div#10946a82-d17c-429d-a5bb-a848573dc2dd').width('83%')"
       ],
       "metadata": {},
       "output_type": "display_data",
       "text": [
        "<IPython.core.display.Javascript at 0x122799990>"
       ]
      },
      {
       "javascript": [
        "$('div#10946a82-d17c-429d-a5bb-a848573dc2dd').width('83%')"
       ],
       "metadata": {},
       "output_type": "display_data",
       "text": [
        "<IPython.core.display.Javascript at 0x122799990>"
       ]
      },
      {
       "javascript": [
        "$('div#10946a82-d17c-429d-a5bb-a848573dc2dd').width('83%')"
       ],
       "metadata": {},
       "output_type": "display_data",
       "text": [
        "<IPython.core.display.Javascript at 0x122799990>"
       ]
      },
      {
       "javascript": [
        "$('div#10946a82-d17c-429d-a5bb-a848573dc2dd').width('84%')"
       ],
       "metadata": {},
       "output_type": "display_data",
       "text": [
        "<IPython.core.display.Javascript at 0x122799990>"
       ]
      },
      {
       "javascript": [
        "$('div#10946a82-d17c-429d-a5bb-a848573dc2dd').width('84%')"
       ],
       "metadata": {},
       "output_type": "display_data",
       "text": [
        "<IPython.core.display.Javascript at 0x122799990>"
       ]
      },
      {
       "javascript": [
        "$('div#10946a82-d17c-429d-a5bb-a848573dc2dd').width('85%')"
       ],
       "metadata": {},
       "output_type": "display_data",
       "text": [
        "<IPython.core.display.Javascript at 0x122799990>"
       ]
      },
      {
       "javascript": [
        "$('div#10946a82-d17c-429d-a5bb-a848573dc2dd').width('85%')"
       ],
       "metadata": {},
       "output_type": "display_data",
       "text": [
        "<IPython.core.display.Javascript at 0x122799990>"
       ]
      },
      {
       "javascript": [
        "$('div#10946a82-d17c-429d-a5bb-a848573dc2dd').width('85%')"
       ],
       "metadata": {},
       "output_type": "display_data",
       "text": [
        "<IPython.core.display.Javascript at 0x122799990>"
       ]
      },
      {
       "javascript": [
        "$('div#10946a82-d17c-429d-a5bb-a848573dc2dd').width('86%')"
       ],
       "metadata": {},
       "output_type": "display_data",
       "text": [
        "<IPython.core.display.Javascript at 0x122799990>"
       ]
      },
      {
       "javascript": [
        "$('div#10946a82-d17c-429d-a5bb-a848573dc2dd').width('86%')"
       ],
       "metadata": {},
       "output_type": "display_data",
       "text": [
        "<IPython.core.display.Javascript at 0x122799990>"
       ]
      },
      {
       "javascript": [
        "$('div#10946a82-d17c-429d-a5bb-a848573dc2dd').width('87%')"
       ],
       "metadata": {},
       "output_type": "display_data",
       "text": [
        "<IPython.core.display.Javascript at 0x122799990>"
       ]
      },
      {
       "javascript": [
        "$('div#10946a82-d17c-429d-a5bb-a848573dc2dd').width('87%')"
       ],
       "metadata": {},
       "output_type": "display_data",
       "text": [
        "<IPython.core.display.Javascript at 0x122799990>"
       ]
      },
      {
       "javascript": [
        "$('div#10946a82-d17c-429d-a5bb-a848573dc2dd').width('87%')"
       ],
       "metadata": {},
       "output_type": "display_data",
       "text": [
        "<IPython.core.display.Javascript at 0x122799990>"
       ]
      },
      {
       "javascript": [
        "$('div#10946a82-d17c-429d-a5bb-a848573dc2dd').width('88%')"
       ],
       "metadata": {},
       "output_type": "display_data",
       "text": [
        "<IPython.core.display.Javascript at 0x122799990>"
       ]
      },
      {
       "javascript": [
        "$('div#10946a82-d17c-429d-a5bb-a848573dc2dd').width('88%')"
       ],
       "metadata": {},
       "output_type": "display_data",
       "text": [
        "<IPython.core.display.Javascript at 0x122799990>"
       ]
      },
      {
       "javascript": [
        "$('div#10946a82-d17c-429d-a5bb-a848573dc2dd').width('89%')"
       ],
       "metadata": {},
       "output_type": "display_data",
       "text": [
        "<IPython.core.display.Javascript at 0x122799990>"
       ]
      },
      {
       "javascript": [
        "$('div#10946a82-d17c-429d-a5bb-a848573dc2dd').width('89%')"
       ],
       "metadata": {},
       "output_type": "display_data",
       "text": [
        "<IPython.core.display.Javascript at 0x122799990>"
       ]
      },
      {
       "javascript": [
        "$('div#10946a82-d17c-429d-a5bb-a848573dc2dd').width('89%')"
       ],
       "metadata": {},
       "output_type": "display_data",
       "text": [
        "<IPython.core.display.Javascript at 0x122799990>"
       ]
      },
      {
       "javascript": [
        "$('div#10946a82-d17c-429d-a5bb-a848573dc2dd').width('90%')"
       ],
       "metadata": {},
       "output_type": "display_data",
       "text": [
        "<IPython.core.display.Javascript at 0x122799990>"
       ]
      },
      {
       "javascript": [
        "$('div#10946a82-d17c-429d-a5bb-a848573dc2dd').width('90%')"
       ],
       "metadata": {},
       "output_type": "display_data",
       "text": [
        "<IPython.core.display.Javascript at 0x122799990>"
       ]
      },
      {
       "javascript": [
        "$('div#10946a82-d17c-429d-a5bb-a848573dc2dd').width('91%')"
       ],
       "metadata": {},
       "output_type": "display_data",
       "text": [
        "<IPython.core.display.Javascript at 0x122799990>"
       ]
      },
      {
       "javascript": [
        "$('div#10946a82-d17c-429d-a5bb-a848573dc2dd').width('91%')"
       ],
       "metadata": {},
       "output_type": "display_data",
       "text": [
        "<IPython.core.display.Javascript at 0x122799990>"
       ]
      },
      {
       "javascript": [
        "$('div#10946a82-d17c-429d-a5bb-a848573dc2dd').width('91%')"
       ],
       "metadata": {},
       "output_type": "display_data",
       "text": [
        "<IPython.core.display.Javascript at 0x122799990>"
       ]
      },
      {
       "javascript": [
        "$('div#10946a82-d17c-429d-a5bb-a848573dc2dd').width('92%')"
       ],
       "metadata": {},
       "output_type": "display_data",
       "text": [
        "<IPython.core.display.Javascript at 0x122799990>"
       ]
      },
      {
       "javascript": [
        "$('div#10946a82-d17c-429d-a5bb-a848573dc2dd').width('92%')"
       ],
       "metadata": {},
       "output_type": "display_data",
       "text": [
        "<IPython.core.display.Javascript at 0x122799990>"
       ]
      },
      {
       "javascript": [
        "$('div#10946a82-d17c-429d-a5bb-a848573dc2dd').width('92%')"
       ],
       "metadata": {},
       "output_type": "display_data",
       "text": [
        "<IPython.core.display.Javascript at 0x122799990>"
       ]
      },
      {
       "javascript": [
        "$('div#10946a82-d17c-429d-a5bb-a848573dc2dd').width('93%')"
       ],
       "metadata": {},
       "output_type": "display_data",
       "text": [
        "<IPython.core.display.Javascript at 0x122799990>"
       ]
      },
      {
       "javascript": [
        "$('div#10946a82-d17c-429d-a5bb-a848573dc2dd').width('93%')"
       ],
       "metadata": {},
       "output_type": "display_data",
       "text": [
        "<IPython.core.display.Javascript at 0x122799990>"
       ]
      },
      {
       "javascript": [
        "$('div#10946a82-d17c-429d-a5bb-a848573dc2dd').width('94%')"
       ],
       "metadata": {},
       "output_type": "display_data",
       "text": [
        "<IPython.core.display.Javascript at 0x122799990>"
       ]
      },
      {
       "javascript": [
        "$('div#10946a82-d17c-429d-a5bb-a848573dc2dd').width('94%')"
       ],
       "metadata": {},
       "output_type": "display_data",
       "text": [
        "<IPython.core.display.Javascript at 0x122799990>"
       ]
      },
      {
       "javascript": [
        "$('div#10946a82-d17c-429d-a5bb-a848573dc2dd').width('94%')"
       ],
       "metadata": {},
       "output_type": "display_data",
       "text": [
        "<IPython.core.display.Javascript at 0x122799990>"
       ]
      },
      {
       "javascript": [
        "$('div#10946a82-d17c-429d-a5bb-a848573dc2dd').width('95%')"
       ],
       "metadata": {},
       "output_type": "display_data",
       "text": [
        "<IPython.core.display.Javascript at 0x122799990>"
       ]
      },
      {
       "javascript": [
        "$('div#10946a82-d17c-429d-a5bb-a848573dc2dd').width('95%')"
       ],
       "metadata": {},
       "output_type": "display_data",
       "text": [
        "<IPython.core.display.Javascript at 0x122799990>"
       ]
      },
      {
       "javascript": [
        "$('div#10946a82-d17c-429d-a5bb-a848573dc2dd').width('96%')"
       ],
       "metadata": {},
       "output_type": "display_data",
       "text": [
        "<IPython.core.display.Javascript at 0x122799990>"
       ]
      },
      {
       "javascript": [
        "$('div#10946a82-d17c-429d-a5bb-a848573dc2dd').width('96%')"
       ],
       "metadata": {},
       "output_type": "display_data",
       "text": [
        "<IPython.core.display.Javascript at 0x122799990>"
       ]
      },
      {
       "javascript": [
        "$('div#10946a82-d17c-429d-a5bb-a848573dc2dd').width('96%')"
       ],
       "metadata": {},
       "output_type": "display_data",
       "text": [
        "<IPython.core.display.Javascript at 0x122799990>"
       ]
      },
      {
       "javascript": [
        "$('div#10946a82-d17c-429d-a5bb-a848573dc2dd').width('97%')"
       ],
       "metadata": {},
       "output_type": "display_data",
       "text": [
        "<IPython.core.display.Javascript at 0x122799990>"
       ]
      },
      {
       "javascript": [
        "$('div#10946a82-d17c-429d-a5bb-a848573dc2dd').width('97%')"
       ],
       "metadata": {},
       "output_type": "display_data",
       "text": [
        "<IPython.core.display.Javascript at 0x122799990>"
       ]
      },
      {
       "javascript": [
        "$('div#10946a82-d17c-429d-a5bb-a848573dc2dd').width('98%')"
       ],
       "metadata": {},
       "output_type": "display_data",
       "text": [
        "<IPython.core.display.Javascript at 0x122799990>"
       ]
      },
      {
       "javascript": [
        "$('div#10946a82-d17c-429d-a5bb-a848573dc2dd').width('98%')"
       ],
       "metadata": {},
       "output_type": "display_data",
       "text": [
        "<IPython.core.display.Javascript at 0x122799990>"
       ]
      },
      {
       "javascript": [
        "$('div#10946a82-d17c-429d-a5bb-a848573dc2dd').width('98%')"
       ],
       "metadata": {},
       "output_type": "display_data",
       "text": [
        "<IPython.core.display.Javascript at 0x122799990>"
       ]
      },
      {
       "javascript": [
        "$('div#10946a82-d17c-429d-a5bb-a848573dc2dd').width('99%')"
       ],
       "metadata": {},
       "output_type": "display_data",
       "text": [
        "<IPython.core.display.Javascript at 0x122799990>"
       ]
      },
      {
       "javascript": [
        "$('div#10946a82-d17c-429d-a5bb-a848573dc2dd').width('99%')"
       ],
       "metadata": {},
       "output_type": "display_data",
       "text": [
        "<IPython.core.display.Javascript at 0x122799990>"
       ]
      },
      {
       "javascript": [
        "$('div#10946a82-d17c-429d-a5bb-a848573dc2dd').width('100%')"
       ],
       "metadata": {},
       "output_type": "display_data",
       "text": [
        "<IPython.core.display.Javascript at 0x122799990>"
       ]
      },
      {
       "html": [
        "<iframe src=http://127.0.0.1:8001/6916572 width=100%% height=420 frameborder=0></iframe>"
       ],
       "metadata": {},
       "output_type": "pyout",
       "prompt_number": 28,
       "text": [
        "<occiput.Visualization.Visualization.MultipleVolumes instance at 0x1227ab950>"
       ]
      }
     ],
     "prompt_number": 28
    },
    {
     "cell_type": "code",
     "collapsed": false,
     "input": [],
     "language": "python",
     "metadata": {},
     "outputs": [
      {
       "html": [
        "\n",
        "        <div style=\"border: 1px solid white; width:100%%; height:6px; background-color:rgb(246,246,246)\">\n",
        "            <div id=\"ab397cb9-d9ed-4050-bb33-3c9f1223dcb4\" style=\"background-color:rgb(200,200,200); width:0%; height:6px\"> </div>\n",
        "        </div> \n",
        "        "
       ],
       "metadata": {},
       "output_type": "display_data",
       "text": [
        "<IPython.core.display.HTML at 0x1227998d0>"
       ]
      },
      {
       "javascript": [
        "$('div#ab397cb9-d9ed-4050-bb33-3c9f1223dcb4').width('1%')"
       ],
       "metadata": {},
       "output_type": "display_data",
       "text": [
        "<IPython.core.display.Javascript at 0x122799e50>"
       ]
      },
      {
       "javascript": [
        "$('div#ab397cb9-d9ed-4050-bb33-3c9f1223dcb4').width('1%')"
       ],
       "metadata": {},
       "output_type": "display_data",
       "text": [
        "<IPython.core.display.Javascript at 0x122799e50>"
       ]
      },
      {
       "javascript": [
        "$('div#ab397cb9-d9ed-4050-bb33-3c9f1223dcb4').width('1%')"
       ],
       "metadata": {},
       "output_type": "display_data",
       "text": [
        "<IPython.core.display.Javascript at 0x122799e50>"
       ]
      },
      {
       "javascript": [
        "$('div#ab397cb9-d9ed-4050-bb33-3c9f1223dcb4').width('1%')"
       ],
       "metadata": {},
       "output_type": "display_data",
       "text": [
        "<IPython.core.display.Javascript at 0x122799e50>"
       ]
      },
      {
       "javascript": [
        "$('div#ab397cb9-d9ed-4050-bb33-3c9f1223dcb4').width('2%')"
       ],
       "metadata": {},
       "output_type": "display_data",
       "text": [
        "<IPython.core.display.Javascript at 0x122799e50>"
       ]
      },
      {
       "javascript": [
        "$('div#ab397cb9-d9ed-4050-bb33-3c9f1223dcb4').width('2%')"
       ],
       "metadata": {},
       "output_type": "display_data",
       "text": [
        "<IPython.core.display.Javascript at 0x122799e50>"
       ]
      },
      {
       "javascript": [
        "$('div#ab397cb9-d9ed-4050-bb33-3c9f1223dcb4').width('3%')"
       ],
       "metadata": {},
       "output_type": "display_data",
       "text": [
        "<IPython.core.display.Javascript at 0x122799e50>"
       ]
      },
      {
       "javascript": [
        "$('div#ab397cb9-d9ed-4050-bb33-3c9f1223dcb4').width('3%')"
       ],
       "metadata": {},
       "output_type": "display_data",
       "text": [
        "<IPython.core.display.Javascript at 0x122799e50>"
       ]
      },
      {
       "javascript": [
        "$('div#ab397cb9-d9ed-4050-bb33-3c9f1223dcb4').width('4%')"
       ],
       "metadata": {},
       "output_type": "display_data",
       "text": [
        "<IPython.core.display.Javascript at 0x122799e50>"
       ]
      },
      {
       "javascript": [
        "$('div#ab397cb9-d9ed-4050-bb33-3c9f1223dcb4').width('5%')"
       ],
       "metadata": {},
       "output_type": "display_data",
       "text": [
        "<IPython.core.display.Javascript at 0x122799e50>"
       ]
      },
      {
       "javascript": [
        "$('div#ab397cb9-d9ed-4050-bb33-3c9f1223dcb4').width('5%')"
       ],
       "metadata": {},
       "output_type": "display_data",
       "text": [
        "<IPython.core.display.Javascript at 0x122799e50>"
       ]
      },
      {
       "javascript": [
        "$('div#ab397cb9-d9ed-4050-bb33-3c9f1223dcb4').width('6%')"
       ],
       "metadata": {},
       "output_type": "display_data",
       "text": [
        "<IPython.core.display.Javascript at 0x122799e50>"
       ]
      },
      {
       "javascript": [
        "$('div#ab397cb9-d9ed-4050-bb33-3c9f1223dcb4').width('6%')"
       ],
       "metadata": {},
       "output_type": "display_data",
       "text": [
        "<IPython.core.display.Javascript at 0x122799e50>"
       ]
      },
      {
       "javascript": [
        "$('div#ab397cb9-d9ed-4050-bb33-3c9f1223dcb4').width('7%')"
       ],
       "metadata": {},
       "output_type": "display_data",
       "text": [
        "<IPython.core.display.Javascript at 0x122799e50>"
       ]
      },
      {
       "javascript": [
        "$('div#ab397cb9-d9ed-4050-bb33-3c9f1223dcb4').width('7%')"
       ],
       "metadata": {},
       "output_type": "display_data",
       "text": [
        "<IPython.core.display.Javascript at 0x122799e50>"
       ]
      },
      {
       "javascript": [
        "$('div#ab397cb9-d9ed-4050-bb33-3c9f1223dcb4').width('8%')"
       ],
       "metadata": {},
       "output_type": "display_data",
       "text": [
        "<IPython.core.display.Javascript at 0x122799e50>"
       ]
      },
      {
       "javascript": [
        "$('div#ab397cb9-d9ed-4050-bb33-3c9f1223dcb4').width('8%')"
       ],
       "metadata": {},
       "output_type": "display_data",
       "text": [
        "<IPython.core.display.Javascript at 0x122799e50>"
       ]
      },
      {
       "javascript": [
        "$('div#ab397cb9-d9ed-4050-bb33-3c9f1223dcb4').width('9%')"
       ],
       "metadata": {},
       "output_type": "display_data",
       "text": [
        "<IPython.core.display.Javascript at 0x122799e50>"
       ]
      },
      {
       "javascript": [
        "$('div#ab397cb9-d9ed-4050-bb33-3c9f1223dcb4').width('10%')"
       ],
       "metadata": {},
       "output_type": "display_data",
       "text": [
        "<IPython.core.display.Javascript at 0x122799e50>"
       ]
      },
      {
       "javascript": [
        "$('div#ab397cb9-d9ed-4050-bb33-3c9f1223dcb4').width('10%')"
       ],
       "metadata": {},
       "output_type": "display_data",
       "text": [
        "<IPython.core.display.Javascript at 0x122799e50>"
       ]
      },
      {
       "javascript": [
        "$('div#ab397cb9-d9ed-4050-bb33-3c9f1223dcb4').width('11%')"
       ],
       "metadata": {},
       "output_type": "display_data",
       "text": [
        "<IPython.core.display.Javascript at 0x122799e50>"
       ]
      },
      {
       "javascript": [
        "$('div#ab397cb9-d9ed-4050-bb33-3c9f1223dcb4').width('11%')"
       ],
       "metadata": {},
       "output_type": "display_data",
       "text": [
        "<IPython.core.display.Javascript at 0x122799e50>"
       ]
      },
      {
       "javascript": [
        "$('div#ab397cb9-d9ed-4050-bb33-3c9f1223dcb4').width('12%')"
       ],
       "metadata": {},
       "output_type": "display_data",
       "text": [
        "<IPython.core.display.Javascript at 0x122799e50>"
       ]
      },
      {
       "javascript": [
        "$('div#ab397cb9-d9ed-4050-bb33-3c9f1223dcb4').width('12%')"
       ],
       "metadata": {},
       "output_type": "display_data",
       "text": [
        "<IPython.core.display.Javascript at 0x122799e50>"
       ]
      },
      {
       "javascript": [
        "$('div#ab397cb9-d9ed-4050-bb33-3c9f1223dcb4').width('13%')"
       ],
       "metadata": {},
       "output_type": "display_data",
       "text": [
        "<IPython.core.display.Javascript at 0x122799e50>"
       ]
      },
      {
       "javascript": [
        "$('div#ab397cb9-d9ed-4050-bb33-3c9f1223dcb4').width('13%')"
       ],
       "metadata": {},
       "output_type": "display_data",
       "text": [
        "<IPython.core.display.Javascript at 0x122799e50>"
       ]
      },
      {
       "javascript": [
        "$('div#ab397cb9-d9ed-4050-bb33-3c9f1223dcb4').width('14%')"
       ],
       "metadata": {},
       "output_type": "display_data",
       "text": [
        "<IPython.core.display.Javascript at 0x122799e50>"
       ]
      },
      {
       "javascript": [
        "$('div#ab397cb9-d9ed-4050-bb33-3c9f1223dcb4').width('15%')"
       ],
       "metadata": {},
       "output_type": "display_data",
       "text": [
        "<IPython.core.display.Javascript at 0x122799e50>"
       ]
      },
      {
       "javascript": [
        "$('div#ab397cb9-d9ed-4050-bb33-3c9f1223dcb4').width('15%')"
       ],
       "metadata": {},
       "output_type": "display_data",
       "text": [
        "<IPython.core.display.Javascript at 0x122799e50>"
       ]
      },
      {
       "javascript": [
        "$('div#ab397cb9-d9ed-4050-bb33-3c9f1223dcb4').width('16%')"
       ],
       "metadata": {},
       "output_type": "display_data",
       "text": [
        "<IPython.core.display.Javascript at 0x122799e50>"
       ]
      },
      {
       "javascript": [
        "$('div#ab397cb9-d9ed-4050-bb33-3c9f1223dcb4').width('16%')"
       ],
       "metadata": {},
       "output_type": "display_data",
       "text": [
        "<IPython.core.display.Javascript at 0x122799e50>"
       ]
      },
      {
       "javascript": [
        "$('div#ab397cb9-d9ed-4050-bb33-3c9f1223dcb4').width('17%')"
       ],
       "metadata": {},
       "output_type": "display_data",
       "text": [
        "<IPython.core.display.Javascript at 0x122799e50>"
       ]
      },
      {
       "javascript": [
        "$('div#ab397cb9-d9ed-4050-bb33-3c9f1223dcb4').width('17%')"
       ],
       "metadata": {},
       "output_type": "display_data",
       "text": [
        "<IPython.core.display.Javascript at 0x122799e50>"
       ]
      },
      {
       "javascript": [
        "$('div#ab397cb9-d9ed-4050-bb33-3c9f1223dcb4').width('18%')"
       ],
       "metadata": {},
       "output_type": "display_data",
       "text": [
        "<IPython.core.display.Javascript at 0x122799e50>"
       ]
      },
      {
       "javascript": [
        "$('div#ab397cb9-d9ed-4050-bb33-3c9f1223dcb4').width('18%')"
       ],
       "metadata": {},
       "output_type": "display_data",
       "text": [
        "<IPython.core.display.Javascript at 0x122799e50>"
       ]
      },
      {
       "javascript": [
        "$('div#ab397cb9-d9ed-4050-bb33-3c9f1223dcb4').width('19%')"
       ],
       "metadata": {},
       "output_type": "display_data",
       "text": [
        "<IPython.core.display.Javascript at 0x122799e50>"
       ]
      },
      {
       "javascript": [
        "$('div#ab397cb9-d9ed-4050-bb33-3c9f1223dcb4').width('20%')"
       ],
       "metadata": {},
       "output_type": "display_data",
       "text": [
        "<IPython.core.display.Javascript at 0x122799e50>"
       ]
      },
      {
       "javascript": [
        "$('div#ab397cb9-d9ed-4050-bb33-3c9f1223dcb4').width('20%')"
       ],
       "metadata": {},
       "output_type": "display_data",
       "text": [
        "<IPython.core.display.Javascript at 0x122799e50>"
       ]
      },
      {
       "javascript": [
        "$('div#ab397cb9-d9ed-4050-bb33-3c9f1223dcb4').width('21%')"
       ],
       "metadata": {},
       "output_type": "display_data",
       "text": [
        "<IPython.core.display.Javascript at 0x122799e50>"
       ]
      },
      {
       "javascript": [
        "$('div#ab397cb9-d9ed-4050-bb33-3c9f1223dcb4').width('21%')"
       ],
       "metadata": {},
       "output_type": "display_data",
       "text": [
        "<IPython.core.display.Javascript at 0x122799e50>"
       ]
      },
      {
       "javascript": [
        "$('div#ab397cb9-d9ed-4050-bb33-3c9f1223dcb4').width('22%')"
       ],
       "metadata": {},
       "output_type": "display_data",
       "text": [
        "<IPython.core.display.Javascript at 0x122799e50>"
       ]
      },
      {
       "javascript": [
        "$('div#ab397cb9-d9ed-4050-bb33-3c9f1223dcb4').width('22%')"
       ],
       "metadata": {},
       "output_type": "display_data",
       "text": [
        "<IPython.core.display.Javascript at 0x122799e50>"
       ]
      },
      {
       "javascript": [
        "$('div#ab397cb9-d9ed-4050-bb33-3c9f1223dcb4').width('23%')"
       ],
       "metadata": {},
       "output_type": "display_data",
       "text": [
        "<IPython.core.display.Javascript at 0x122799e50>"
       ]
      },
      {
       "javascript": [
        "$('div#ab397cb9-d9ed-4050-bb33-3c9f1223dcb4').width('23%')"
       ],
       "metadata": {},
       "output_type": "display_data",
       "text": [
        "<IPython.core.display.Javascript at 0x122799e50>"
       ]
      },
      {
       "javascript": [
        "$('div#ab397cb9-d9ed-4050-bb33-3c9f1223dcb4').width('24%')"
       ],
       "metadata": {},
       "output_type": "display_data",
       "text": [
        "<IPython.core.display.Javascript at 0x122799e50>"
       ]
      },
      {
       "javascript": [
        "$('div#ab397cb9-d9ed-4050-bb33-3c9f1223dcb4').width('25%')"
       ],
       "metadata": {},
       "output_type": "display_data",
       "text": [
        "<IPython.core.display.Javascript at 0x122799e50>"
       ]
      },
      {
       "javascript": [
        "$('div#ab397cb9-d9ed-4050-bb33-3c9f1223dcb4').width('25%')"
       ],
       "metadata": {},
       "output_type": "display_data",
       "text": [
        "<IPython.core.display.Javascript at 0x122799e50>"
       ]
      },
      {
       "javascript": [
        "$('div#ab397cb9-d9ed-4050-bb33-3c9f1223dcb4').width('26%')"
       ],
       "metadata": {},
       "output_type": "display_data",
       "text": [
        "<IPython.core.display.Javascript at 0x122799e50>"
       ]
      },
      {
       "javascript": [
        "$('div#ab397cb9-d9ed-4050-bb33-3c9f1223dcb4').width('26%')"
       ],
       "metadata": {},
       "output_type": "display_data",
       "text": [
        "<IPython.core.display.Javascript at 0x122799e50>"
       ]
      },
      {
       "javascript": [
        "$('div#ab397cb9-d9ed-4050-bb33-3c9f1223dcb4').width('27%')"
       ],
       "metadata": {},
       "output_type": "display_data",
       "text": [
        "<IPython.core.display.Javascript at 0x122799e50>"
       ]
      },
      {
       "javascript": [
        "$('div#ab397cb9-d9ed-4050-bb33-3c9f1223dcb4').width('27%')"
       ],
       "metadata": {},
       "output_type": "display_data",
       "text": [
        "<IPython.core.display.Javascript at 0x122799e50>"
       ]
      },
      {
       "javascript": [
        "$('div#ab397cb9-d9ed-4050-bb33-3c9f1223dcb4').width('28%')"
       ],
       "metadata": {},
       "output_type": "display_data",
       "text": [
        "<IPython.core.display.Javascript at 0x122799e50>"
       ]
      },
      {
       "javascript": [
        "$('div#ab397cb9-d9ed-4050-bb33-3c9f1223dcb4').width('28%')"
       ],
       "metadata": {},
       "output_type": "display_data",
       "text": [
        "<IPython.core.display.Javascript at 0x122799e50>"
       ]
      },
      {
       "javascript": [
        "$('div#ab397cb9-d9ed-4050-bb33-3c9f1223dcb4').width('29%')"
       ],
       "metadata": {},
       "output_type": "display_data",
       "text": [
        "<IPython.core.display.Javascript at 0x122799e50>"
       ]
      },
      {
       "javascript": [
        "$('div#ab397cb9-d9ed-4050-bb33-3c9f1223dcb4').width('30%')"
       ],
       "metadata": {},
       "output_type": "display_data",
       "text": [
        "<IPython.core.display.Javascript at 0x122799e50>"
       ]
      },
      {
       "javascript": [
        "$('div#ab397cb9-d9ed-4050-bb33-3c9f1223dcb4').width('30%')"
       ],
       "metadata": {},
       "output_type": "display_data",
       "text": [
        "<IPython.core.display.Javascript at 0x122799e50>"
       ]
      },
      {
       "javascript": [
        "$('div#ab397cb9-d9ed-4050-bb33-3c9f1223dcb4').width('31%')"
       ],
       "metadata": {},
       "output_type": "display_data",
       "text": [
        "<IPython.core.display.Javascript at 0x122799e50>"
       ]
      },
      {
       "javascript": [
        "$('div#ab397cb9-d9ed-4050-bb33-3c9f1223dcb4').width('31%')"
       ],
       "metadata": {},
       "output_type": "display_data",
       "text": [
        "<IPython.core.display.Javascript at 0x122799e50>"
       ]
      },
      {
       "javascript": [
        "$('div#ab397cb9-d9ed-4050-bb33-3c9f1223dcb4').width('32%')"
       ],
       "metadata": {},
       "output_type": "display_data",
       "text": [
        "<IPython.core.display.Javascript at 0x122799e50>"
       ]
      },
      {
       "javascript": [
        "$('div#ab397cb9-d9ed-4050-bb33-3c9f1223dcb4').width('32%')"
       ],
       "metadata": {},
       "output_type": "display_data",
       "text": [
        "<IPython.core.display.Javascript at 0x122799e50>"
       ]
      },
      {
       "javascript": [
        "$('div#ab397cb9-d9ed-4050-bb33-3c9f1223dcb4').width('33%')"
       ],
       "metadata": {},
       "output_type": "display_data",
       "text": [
        "<IPython.core.display.Javascript at 0x122799e50>"
       ]
      },
      {
       "javascript": [
        "$('div#ab397cb9-d9ed-4050-bb33-3c9f1223dcb4').width('33%')"
       ],
       "metadata": {},
       "output_type": "display_data",
       "text": [
        "<IPython.core.display.Javascript at 0x122799e50>"
       ]
      },
      {
       "javascript": [
        "$('div#ab397cb9-d9ed-4050-bb33-3c9f1223dcb4').width('34%')"
       ],
       "metadata": {},
       "output_type": "display_data",
       "text": [
        "<IPython.core.display.Javascript at 0x122799e50>"
       ]
      },
      {
       "javascript": [
        "$('div#ab397cb9-d9ed-4050-bb33-3c9f1223dcb4').width('35%')"
       ],
       "metadata": {},
       "output_type": "display_data",
       "text": [
        "<IPython.core.display.Javascript at 0x122799e50>"
       ]
      },
      {
       "javascript": [
        "$('div#ab397cb9-d9ed-4050-bb33-3c9f1223dcb4').width('35%')"
       ],
       "metadata": {},
       "output_type": "display_data",
       "text": [
        "<IPython.core.display.Javascript at 0x122799e50>"
       ]
      },
      {
       "javascript": [
        "$('div#ab397cb9-d9ed-4050-bb33-3c9f1223dcb4').width('36%')"
       ],
       "metadata": {},
       "output_type": "display_data",
       "text": [
        "<IPython.core.display.Javascript at 0x122799e50>"
       ]
      },
      {
       "javascript": [
        "$('div#ab397cb9-d9ed-4050-bb33-3c9f1223dcb4').width('36%')"
       ],
       "metadata": {},
       "output_type": "display_data",
       "text": [
        "<IPython.core.display.Javascript at 0x122799e50>"
       ]
      },
      {
       "javascript": [
        "$('div#ab397cb9-d9ed-4050-bb33-3c9f1223dcb4').width('37%')"
       ],
       "metadata": {},
       "output_type": "display_data",
       "text": [
        "<IPython.core.display.Javascript at 0x122799e50>"
       ]
      },
      {
       "javascript": [
        "$('div#ab397cb9-d9ed-4050-bb33-3c9f1223dcb4').width('37%')"
       ],
       "metadata": {},
       "output_type": "display_data",
       "text": [
        "<IPython.core.display.Javascript at 0x122799e50>"
       ]
      },
      {
       "javascript": [
        "$('div#ab397cb9-d9ed-4050-bb33-3c9f1223dcb4').width('38%')"
       ],
       "metadata": {},
       "output_type": "display_data",
       "text": [
        "<IPython.core.display.Javascript at 0x122799e50>"
       ]
      },
      {
       "javascript": [
        "$('div#ab397cb9-d9ed-4050-bb33-3c9f1223dcb4').width('38%')"
       ],
       "metadata": {},
       "output_type": "display_data",
       "text": [
        "<IPython.core.display.Javascript at 0x122799e50>"
       ]
      },
      {
       "javascript": [
        "$('div#ab397cb9-d9ed-4050-bb33-3c9f1223dcb4').width('39%')"
       ],
       "metadata": {},
       "output_type": "display_data",
       "text": [
        "<IPython.core.display.Javascript at 0x122799e50>"
       ]
      },
      {
       "javascript": [
        "$('div#ab397cb9-d9ed-4050-bb33-3c9f1223dcb4').width('40%')"
       ],
       "metadata": {},
       "output_type": "display_data",
       "text": [
        "<IPython.core.display.Javascript at 0x122799e50>"
       ]
      },
      {
       "javascript": [
        "$('div#ab397cb9-d9ed-4050-bb33-3c9f1223dcb4').width('40%')"
       ],
       "metadata": {},
       "output_type": "display_data",
       "text": [
        "<IPython.core.display.Javascript at 0x122799e50>"
       ]
      },
      {
       "javascript": [
        "$('div#ab397cb9-d9ed-4050-bb33-3c9f1223dcb4').width('41%')"
       ],
       "metadata": {},
       "output_type": "display_data",
       "text": [
        "<IPython.core.display.Javascript at 0x122799e50>"
       ]
      },
      {
       "javascript": [
        "$('div#ab397cb9-d9ed-4050-bb33-3c9f1223dcb4').width('41%')"
       ],
       "metadata": {},
       "output_type": "display_data",
       "text": [
        "<IPython.core.display.Javascript at 0x122799e50>"
       ]
      },
      {
       "javascript": [
        "$('div#ab397cb9-d9ed-4050-bb33-3c9f1223dcb4').width('42%')"
       ],
       "metadata": {},
       "output_type": "display_data",
       "text": [
        "<IPython.core.display.Javascript at 0x122799e50>"
       ]
      },
      {
       "javascript": [
        "$('div#ab397cb9-d9ed-4050-bb33-3c9f1223dcb4').width('42%')"
       ],
       "metadata": {},
       "output_type": "display_data",
       "text": [
        "<IPython.core.display.Javascript at 0x122799e50>"
       ]
      },
      {
       "javascript": [
        "$('div#ab397cb9-d9ed-4050-bb33-3c9f1223dcb4').width('43%')"
       ],
       "metadata": {},
       "output_type": "display_data",
       "text": [
        "<IPython.core.display.Javascript at 0x122799e50>"
       ]
      },
      {
       "javascript": [
        "$('div#ab397cb9-d9ed-4050-bb33-3c9f1223dcb4').width('43%')"
       ],
       "metadata": {},
       "output_type": "display_data",
       "text": [
        "<IPython.core.display.Javascript at 0x122799e50>"
       ]
      },
      {
       "javascript": [
        "$('div#ab397cb9-d9ed-4050-bb33-3c9f1223dcb4').width('44%')"
       ],
       "metadata": {},
       "output_type": "display_data",
       "text": [
        "<IPython.core.display.Javascript at 0x122799e50>"
       ]
      },
      {
       "javascript": [
        "$('div#ab397cb9-d9ed-4050-bb33-3c9f1223dcb4').width('45%')"
       ],
       "metadata": {},
       "output_type": "display_data",
       "text": [
        "<IPython.core.display.Javascript at 0x122799e50>"
       ]
      },
      {
       "javascript": [
        "$('div#ab397cb9-d9ed-4050-bb33-3c9f1223dcb4').width('45%')"
       ],
       "metadata": {},
       "output_type": "display_data",
       "text": [
        "<IPython.core.display.Javascript at 0x122799e50>"
       ]
      },
      {
       "javascript": [
        "$('div#ab397cb9-d9ed-4050-bb33-3c9f1223dcb4').width('46%')"
       ],
       "metadata": {},
       "output_type": "display_data",
       "text": [
        "<IPython.core.display.Javascript at 0x122799e50>"
       ]
      },
      {
       "javascript": [
        "$('div#ab397cb9-d9ed-4050-bb33-3c9f1223dcb4').width('46%')"
       ],
       "metadata": {},
       "output_type": "display_data",
       "text": [
        "<IPython.core.display.Javascript at 0x122799e50>"
       ]
      },
      {
       "javascript": [
        "$('div#ab397cb9-d9ed-4050-bb33-3c9f1223dcb4').width('47%')"
       ],
       "metadata": {},
       "output_type": "display_data",
       "text": [
        "<IPython.core.display.Javascript at 0x122799e50>"
       ]
      },
      {
       "javascript": [
        "$('div#ab397cb9-d9ed-4050-bb33-3c9f1223dcb4').width('47%')"
       ],
       "metadata": {},
       "output_type": "display_data",
       "text": [
        "<IPython.core.display.Javascript at 0x122799e50>"
       ]
      },
      {
       "javascript": [
        "$('div#ab397cb9-d9ed-4050-bb33-3c9f1223dcb4').width('48%')"
       ],
       "metadata": {},
       "output_type": "display_data",
       "text": [
        "<IPython.core.display.Javascript at 0x122799e50>"
       ]
      },
      {
       "javascript": [
        "$('div#ab397cb9-d9ed-4050-bb33-3c9f1223dcb4').width('48%')"
       ],
       "metadata": {},
       "output_type": "display_data",
       "text": [
        "<IPython.core.display.Javascript at 0x122799e50>"
       ]
      },
      {
       "javascript": [
        "$('div#ab397cb9-d9ed-4050-bb33-3c9f1223dcb4').width('49%')"
       ],
       "metadata": {},
       "output_type": "display_data",
       "text": [
        "<IPython.core.display.Javascript at 0x122799e50>"
       ]
      },
      {
       "javascript": [
        "$('div#ab397cb9-d9ed-4050-bb33-3c9f1223dcb4').width('50%')"
       ],
       "metadata": {},
       "output_type": "display_data",
       "text": [
        "<IPython.core.display.Javascript at 0x122799e50>"
       ]
      },
      {
       "javascript": [
        "$('div#ab397cb9-d9ed-4050-bb33-3c9f1223dcb4').width('50%')"
       ],
       "metadata": {},
       "output_type": "display_data",
       "text": [
        "<IPython.core.display.Javascript at 0x122799e50>"
       ]
      },
      {
       "javascript": [
        "$('div#ab397cb9-d9ed-4050-bb33-3c9f1223dcb4').width('51%')"
       ],
       "metadata": {},
       "output_type": "display_data",
       "text": [
        "<IPython.core.display.Javascript at 0x122799e50>"
       ]
      },
      {
       "javascript": [
        "$('div#ab397cb9-d9ed-4050-bb33-3c9f1223dcb4').width('51%')"
       ],
       "metadata": {},
       "output_type": "display_data",
       "text": [
        "<IPython.core.display.Javascript at 0x122799e50>"
       ]
      },
      {
       "javascript": [
        "$('div#ab397cb9-d9ed-4050-bb33-3c9f1223dcb4').width('52%')"
       ],
       "metadata": {},
       "output_type": "display_data",
       "text": [
        "<IPython.core.display.Javascript at 0x122799e50>"
       ]
      },
      {
       "javascript": [
        "$('div#ab397cb9-d9ed-4050-bb33-3c9f1223dcb4').width('52%')"
       ],
       "metadata": {},
       "output_type": "display_data",
       "text": [
        "<IPython.core.display.Javascript at 0x122799e50>"
       ]
      },
      {
       "javascript": [
        "$('div#ab397cb9-d9ed-4050-bb33-3c9f1223dcb4').width('53%')"
       ],
       "metadata": {},
       "output_type": "display_data",
       "text": [
        "<IPython.core.display.Javascript at 0x122799e50>"
       ]
      },
      {
       "javascript": [
        "$('div#ab397cb9-d9ed-4050-bb33-3c9f1223dcb4').width('53%')"
       ],
       "metadata": {},
       "output_type": "display_data",
       "text": [
        "<IPython.core.display.Javascript at 0x122799e50>"
       ]
      },
      {
       "javascript": [
        "$('div#ab397cb9-d9ed-4050-bb33-3c9f1223dcb4').width('54%')"
       ],
       "metadata": {},
       "output_type": "display_data",
       "text": [
        "<IPython.core.display.Javascript at 0x122799e50>"
       ]
      },
      {
       "javascript": [
        "$('div#ab397cb9-d9ed-4050-bb33-3c9f1223dcb4').width('55%')"
       ],
       "metadata": {},
       "output_type": "display_data",
       "text": [
        "<IPython.core.display.Javascript at 0x122799e50>"
       ]
      },
      {
       "javascript": [
        "$('div#ab397cb9-d9ed-4050-bb33-3c9f1223dcb4').width('55%')"
       ],
       "metadata": {},
       "output_type": "display_data",
       "text": [
        "<IPython.core.display.Javascript at 0x122799e50>"
       ]
      },
      {
       "javascript": [
        "$('div#ab397cb9-d9ed-4050-bb33-3c9f1223dcb4').width('56%')"
       ],
       "metadata": {},
       "output_type": "display_data",
       "text": [
        "<IPython.core.display.Javascript at 0x122799e50>"
       ]
      },
      {
       "javascript": [
        "$('div#ab397cb9-d9ed-4050-bb33-3c9f1223dcb4').width('56%')"
       ],
       "metadata": {},
       "output_type": "display_data",
       "text": [
        "<IPython.core.display.Javascript at 0x122799e50>"
       ]
      },
      {
       "javascript": [
        "$('div#ab397cb9-d9ed-4050-bb33-3c9f1223dcb4').width('57%')"
       ],
       "metadata": {},
       "output_type": "display_data",
       "text": [
        "<IPython.core.display.Javascript at 0x122799e50>"
       ]
      },
      {
       "javascript": [
        "$('div#ab397cb9-d9ed-4050-bb33-3c9f1223dcb4').width('57%')"
       ],
       "metadata": {},
       "output_type": "display_data",
       "text": [
        "<IPython.core.display.Javascript at 0x122799e50>"
       ]
      },
      {
       "javascript": [
        "$('div#ab397cb9-d9ed-4050-bb33-3c9f1223dcb4').width('58%')"
       ],
       "metadata": {},
       "output_type": "display_data",
       "text": [
        "<IPython.core.display.Javascript at 0x122799e50>"
       ]
      },
      {
       "javascript": [
        "$('div#ab397cb9-d9ed-4050-bb33-3c9f1223dcb4').width('58%')"
       ],
       "metadata": {},
       "output_type": "display_data",
       "text": [
        "<IPython.core.display.Javascript at 0x122799e50>"
       ]
      },
      {
       "javascript": [
        "$('div#ab397cb9-d9ed-4050-bb33-3c9f1223dcb4').width('59%')"
       ],
       "metadata": {},
       "output_type": "display_data",
       "text": [
        "<IPython.core.display.Javascript at 0x122799e50>"
       ]
      },
      {
       "javascript": [
        "$('div#ab397cb9-d9ed-4050-bb33-3c9f1223dcb4').width('60%')"
       ],
       "metadata": {},
       "output_type": "display_data",
       "text": [
        "<IPython.core.display.Javascript at 0x122799e50>"
       ]
      },
      {
       "javascript": [
        "$('div#ab397cb9-d9ed-4050-bb33-3c9f1223dcb4').width('60%')"
       ],
       "metadata": {},
       "output_type": "display_data",
       "text": [
        "<IPython.core.display.Javascript at 0x122799e50>"
       ]
      },
      {
       "javascript": [
        "$('div#ab397cb9-d9ed-4050-bb33-3c9f1223dcb4').width('61%')"
       ],
       "metadata": {},
       "output_type": "display_data",
       "text": [
        "<IPython.core.display.Javascript at 0x122799e50>"
       ]
      },
      {
       "javascript": [
        "$('div#ab397cb9-d9ed-4050-bb33-3c9f1223dcb4').width('61%')"
       ],
       "metadata": {},
       "output_type": "display_data",
       "text": [
        "<IPython.core.display.Javascript at 0x122799e50>"
       ]
      },
      {
       "javascript": [
        "$('div#ab397cb9-d9ed-4050-bb33-3c9f1223dcb4').width('62%')"
       ],
       "metadata": {},
       "output_type": "display_data",
       "text": [
        "<IPython.core.display.Javascript at 0x122799e50>"
       ]
      },
      {
       "javascript": [
        "$('div#ab397cb9-d9ed-4050-bb33-3c9f1223dcb4').width('62%')"
       ],
       "metadata": {},
       "output_type": "display_data",
       "text": [
        "<IPython.core.display.Javascript at 0x122799e50>"
       ]
      },
      {
       "javascript": [
        "$('div#ab397cb9-d9ed-4050-bb33-3c9f1223dcb4').width('63%')"
       ],
       "metadata": {},
       "output_type": "display_data",
       "text": [
        "<IPython.core.display.Javascript at 0x122799e50>"
       ]
      },
      {
       "javascript": [
        "$('div#ab397cb9-d9ed-4050-bb33-3c9f1223dcb4').width('63%')"
       ],
       "metadata": {},
       "output_type": "display_data",
       "text": [
        "<IPython.core.display.Javascript at 0x122799e50>"
       ]
      },
      {
       "javascript": [
        "$('div#ab397cb9-d9ed-4050-bb33-3c9f1223dcb4').width('64%')"
       ],
       "metadata": {},
       "output_type": "display_data",
       "text": [
        "<IPython.core.display.Javascript at 0x122799e50>"
       ]
      },
      {
       "javascript": [
        "$('div#ab397cb9-d9ed-4050-bb33-3c9f1223dcb4').width('65%')"
       ],
       "metadata": {},
       "output_type": "display_data",
       "text": [
        "<IPython.core.display.Javascript at 0x122799e50>"
       ]
      },
      {
       "javascript": [
        "$('div#ab397cb9-d9ed-4050-bb33-3c9f1223dcb4').width('65%')"
       ],
       "metadata": {},
       "output_type": "display_data",
       "text": [
        "<IPython.core.display.Javascript at 0x122799e50>"
       ]
      },
      {
       "javascript": [
        "$('div#ab397cb9-d9ed-4050-bb33-3c9f1223dcb4').width('66%')"
       ],
       "metadata": {},
       "output_type": "display_data",
       "text": [
        "<IPython.core.display.Javascript at 0x122799e50>"
       ]
      },
      {
       "javascript": [
        "$('div#ab397cb9-d9ed-4050-bb33-3c9f1223dcb4').width('66%')"
       ],
       "metadata": {},
       "output_type": "display_data",
       "text": [
        "<IPython.core.display.Javascript at 0x122799e50>"
       ]
      },
      {
       "javascript": [
        "$('div#ab397cb9-d9ed-4050-bb33-3c9f1223dcb4').width('67%')"
       ],
       "metadata": {},
       "output_type": "display_data",
       "text": [
        "<IPython.core.display.Javascript at 0x122799e50>"
       ]
      },
      {
       "javascript": [
        "$('div#ab397cb9-d9ed-4050-bb33-3c9f1223dcb4').width('67%')"
       ],
       "metadata": {},
       "output_type": "display_data",
       "text": [
        "<IPython.core.display.Javascript at 0x122799e50>"
       ]
      },
      {
       "javascript": [
        "$('div#ab397cb9-d9ed-4050-bb33-3c9f1223dcb4').width('68%')"
       ],
       "metadata": {},
       "output_type": "display_data",
       "text": [
        "<IPython.core.display.Javascript at 0x122799e50>"
       ]
      },
      {
       "javascript": [
        "$('div#ab397cb9-d9ed-4050-bb33-3c9f1223dcb4').width('68%')"
       ],
       "metadata": {},
       "output_type": "display_data",
       "text": [
        "<IPython.core.display.Javascript at 0x122799e50>"
       ]
      },
      {
       "javascript": [
        "$('div#ab397cb9-d9ed-4050-bb33-3c9f1223dcb4').width('69%')"
       ],
       "metadata": {},
       "output_type": "display_data",
       "text": [
        "<IPython.core.display.Javascript at 0x122799e50>"
       ]
      },
      {
       "javascript": [
        "$('div#ab397cb9-d9ed-4050-bb33-3c9f1223dcb4').width('70%')"
       ],
       "metadata": {},
       "output_type": "display_data",
       "text": [
        "<IPython.core.display.Javascript at 0x122799e50>"
       ]
      },
      {
       "javascript": [
        "$('div#ab397cb9-d9ed-4050-bb33-3c9f1223dcb4').width('70%')"
       ],
       "metadata": {},
       "output_type": "display_data",
       "text": [
        "<IPython.core.display.Javascript at 0x122799e50>"
       ]
      },
      {
       "javascript": [
        "$('div#ab397cb9-d9ed-4050-bb33-3c9f1223dcb4').width('71%')"
       ],
       "metadata": {},
       "output_type": "display_data",
       "text": [
        "<IPython.core.display.Javascript at 0x122799e50>"
       ]
      },
      {
       "javascript": [
        "$('div#ab397cb9-d9ed-4050-bb33-3c9f1223dcb4').width('71%')"
       ],
       "metadata": {},
       "output_type": "display_data",
       "text": [
        "<IPython.core.display.Javascript at 0x122799e50>"
       ]
      },
      {
       "javascript": [
        "$('div#ab397cb9-d9ed-4050-bb33-3c9f1223dcb4').width('72%')"
       ],
       "metadata": {},
       "output_type": "display_data",
       "text": [
        "<IPython.core.display.Javascript at 0x122799e50>"
       ]
      },
      {
       "javascript": [
        "$('div#ab397cb9-d9ed-4050-bb33-3c9f1223dcb4').width('72%')"
       ],
       "metadata": {},
       "output_type": "display_data",
       "text": [
        "<IPython.core.display.Javascript at 0x122799e50>"
       ]
      },
      {
       "javascript": [
        "$('div#ab397cb9-d9ed-4050-bb33-3c9f1223dcb4').width('73%')"
       ],
       "metadata": {},
       "output_type": "display_data",
       "text": [
        "<IPython.core.display.Javascript at 0x122799e50>"
       ]
      },
      {
       "javascript": [
        "$('div#ab397cb9-d9ed-4050-bb33-3c9f1223dcb4').width('73%')"
       ],
       "metadata": {},
       "output_type": "display_data",
       "text": [
        "<IPython.core.display.Javascript at 0x122799e50>"
       ]
      },
      {
       "javascript": [
        "$('div#ab397cb9-d9ed-4050-bb33-3c9f1223dcb4').width('74%')"
       ],
       "metadata": {},
       "output_type": "display_data",
       "text": [
        "<IPython.core.display.Javascript at 0x122799e50>"
       ]
      },
      {
       "javascript": [
        "$('div#ab397cb9-d9ed-4050-bb33-3c9f1223dcb4').width('75%')"
       ],
       "metadata": {},
       "output_type": "display_data",
       "text": [
        "<IPython.core.display.Javascript at 0x122799e50>"
       ]
      },
      {
       "javascript": [
        "$('div#ab397cb9-d9ed-4050-bb33-3c9f1223dcb4').width('75%')"
       ],
       "metadata": {},
       "output_type": "display_data",
       "text": [
        "<IPython.core.display.Javascript at 0x122799e50>"
       ]
      },
      {
       "javascript": [
        "$('div#ab397cb9-d9ed-4050-bb33-3c9f1223dcb4').width('76%')"
       ],
       "metadata": {},
       "output_type": "display_data",
       "text": [
        "<IPython.core.display.Javascript at 0x122799e50>"
       ]
      },
      {
       "javascript": [
        "$('div#ab397cb9-d9ed-4050-bb33-3c9f1223dcb4').width('76%')"
       ],
       "metadata": {},
       "output_type": "display_data",
       "text": [
        "<IPython.core.display.Javascript at 0x122799e50>"
       ]
      },
      {
       "javascript": [
        "$('div#ab397cb9-d9ed-4050-bb33-3c9f1223dcb4').width('77%')"
       ],
       "metadata": {},
       "output_type": "display_data",
       "text": [
        "<IPython.core.display.Javascript at 0x122799e50>"
       ]
      },
      {
       "javascript": [
        "$('div#ab397cb9-d9ed-4050-bb33-3c9f1223dcb4').width('77%')"
       ],
       "metadata": {},
       "output_type": "display_data",
       "text": [
        "<IPython.core.display.Javascript at 0x122799e50>"
       ]
      },
      {
       "javascript": [
        "$('div#ab397cb9-d9ed-4050-bb33-3c9f1223dcb4').width('78%')"
       ],
       "metadata": {},
       "output_type": "display_data",
       "text": [
        "<IPython.core.display.Javascript at 0x122799e50>"
       ]
      },
      {
       "javascript": [
        "$('div#ab397cb9-d9ed-4050-bb33-3c9f1223dcb4').width('78%')"
       ],
       "metadata": {},
       "output_type": "display_data",
       "text": [
        "<IPython.core.display.Javascript at 0x122799e50>"
       ]
      },
      {
       "javascript": [
        "$('div#ab397cb9-d9ed-4050-bb33-3c9f1223dcb4').width('79%')"
       ],
       "metadata": {},
       "output_type": "display_data",
       "text": [
        "<IPython.core.display.Javascript at 0x122799e50>"
       ]
      },
      {
       "javascript": [
        "$('div#ab397cb9-d9ed-4050-bb33-3c9f1223dcb4').width('80%')"
       ],
       "metadata": {},
       "output_type": "display_data",
       "text": [
        "<IPython.core.display.Javascript at 0x122799e50>"
       ]
      },
      {
       "javascript": [
        "$('div#ab397cb9-d9ed-4050-bb33-3c9f1223dcb4').width('80%')"
       ],
       "metadata": {},
       "output_type": "display_data",
       "text": [
        "<IPython.core.display.Javascript at 0x122799e50>"
       ]
      },
      {
       "javascript": [
        "$('div#ab397cb9-d9ed-4050-bb33-3c9f1223dcb4').width('81%')"
       ],
       "metadata": {},
       "output_type": "display_data",
       "text": [
        "<IPython.core.display.Javascript at 0x122799e50>"
       ]
      },
      {
       "javascript": [
        "$('div#ab397cb9-d9ed-4050-bb33-3c9f1223dcb4').width('81%')"
       ],
       "metadata": {},
       "output_type": "display_data",
       "text": [
        "<IPython.core.display.Javascript at 0x122799e50>"
       ]
      },
      {
       "javascript": [
        "$('div#ab397cb9-d9ed-4050-bb33-3c9f1223dcb4').width('82%')"
       ],
       "metadata": {},
       "output_type": "display_data",
       "text": [
        "<IPython.core.display.Javascript at 0x122799e50>"
       ]
      },
      {
       "javascript": [
        "$('div#ab397cb9-d9ed-4050-bb33-3c9f1223dcb4').width('82%')"
       ],
       "metadata": {},
       "output_type": "display_data",
       "text": [
        "<IPython.core.display.Javascript at 0x122799e50>"
       ]
      },
      {
       "javascript": [
        "$('div#ab397cb9-d9ed-4050-bb33-3c9f1223dcb4').width('83%')"
       ],
       "metadata": {},
       "output_type": "display_data",
       "text": [
        "<IPython.core.display.Javascript at 0x122799e50>"
       ]
      },
      {
       "javascript": [
        "$('div#ab397cb9-d9ed-4050-bb33-3c9f1223dcb4').width('83%')"
       ],
       "metadata": {},
       "output_type": "display_data",
       "text": [
        "<IPython.core.display.Javascript at 0x122799e50>"
       ]
      },
      {
       "javascript": [
        "$('div#ab397cb9-d9ed-4050-bb33-3c9f1223dcb4').width('84%')"
       ],
       "metadata": {},
       "output_type": "display_data",
       "text": [
        "<IPython.core.display.Javascript at 0x122799e50>"
       ]
      },
      {
       "javascript": [
        "$('div#ab397cb9-d9ed-4050-bb33-3c9f1223dcb4').width('85%')"
       ],
       "metadata": {},
       "output_type": "display_data",
       "text": [
        "<IPython.core.display.Javascript at 0x122799e50>"
       ]
      },
      {
       "javascript": [
        "$('div#ab397cb9-d9ed-4050-bb33-3c9f1223dcb4').width('85%')"
       ],
       "metadata": {},
       "output_type": "display_data",
       "text": [
        "<IPython.core.display.Javascript at 0x122799e50>"
       ]
      },
      {
       "javascript": [
        "$('div#ab397cb9-d9ed-4050-bb33-3c9f1223dcb4').width('86%')"
       ],
       "metadata": {},
       "output_type": "display_data",
       "text": [
        "<IPython.core.display.Javascript at 0x122799e50>"
       ]
      },
      {
       "javascript": [
        "$('div#ab397cb9-d9ed-4050-bb33-3c9f1223dcb4').width('86%')"
       ],
       "metadata": {},
       "output_type": "display_data",
       "text": [
        "<IPython.core.display.Javascript at 0x122799e50>"
       ]
      },
      {
       "javascript": [
        "$('div#ab397cb9-d9ed-4050-bb33-3c9f1223dcb4').width('87%')"
       ],
       "metadata": {},
       "output_type": "display_data",
       "text": [
        "<IPython.core.display.Javascript at 0x122799e50>"
       ]
      },
      {
       "javascript": [
        "$('div#ab397cb9-d9ed-4050-bb33-3c9f1223dcb4').width('87%')"
       ],
       "metadata": {},
       "output_type": "display_data",
       "text": [
        "<IPython.core.display.Javascript at 0x122799e50>"
       ]
      },
      {
       "javascript": [
        "$('div#ab397cb9-d9ed-4050-bb33-3c9f1223dcb4').width('88%')"
       ],
       "metadata": {},
       "output_type": "display_data",
       "text": [
        "<IPython.core.display.Javascript at 0x122799e50>"
       ]
      },
      {
       "javascript": [
        "$('div#ab397cb9-d9ed-4050-bb33-3c9f1223dcb4').width('88%')"
       ],
       "metadata": {},
       "output_type": "display_data",
       "text": [
        "<IPython.core.display.Javascript at 0x122799e50>"
       ]
      },
      {
       "javascript": [
        "$('div#ab397cb9-d9ed-4050-bb33-3c9f1223dcb4').width('89%')"
       ],
       "metadata": {},
       "output_type": "display_data",
       "text": [
        "<IPython.core.display.Javascript at 0x122799e50>"
       ]
      },
      {
       "javascript": [
        "$('div#ab397cb9-d9ed-4050-bb33-3c9f1223dcb4').width('90%')"
       ],
       "metadata": {},
       "output_type": "display_data",
       "text": [
        "<IPython.core.display.Javascript at 0x122799e50>"
       ]
      },
      {
       "javascript": [
        "$('div#ab397cb9-d9ed-4050-bb33-3c9f1223dcb4').width('90%')"
       ],
       "metadata": {},
       "output_type": "display_data",
       "text": [
        "<IPython.core.display.Javascript at 0x122799e50>"
       ]
      },
      {
       "javascript": [
        "$('div#ab397cb9-d9ed-4050-bb33-3c9f1223dcb4').width('91%')"
       ],
       "metadata": {},
       "output_type": "display_data",
       "text": [
        "<IPython.core.display.Javascript at 0x122799e50>"
       ]
      },
      {
       "javascript": [
        "$('div#ab397cb9-d9ed-4050-bb33-3c9f1223dcb4').width('91%')"
       ],
       "metadata": {},
       "output_type": "display_data",
       "text": [
        "<IPython.core.display.Javascript at 0x122799e50>"
       ]
      },
      {
       "javascript": [
        "$('div#ab397cb9-d9ed-4050-bb33-3c9f1223dcb4').width('92%')"
       ],
       "metadata": {},
       "output_type": "display_data",
       "text": [
        "<IPython.core.display.Javascript at 0x122799e50>"
       ]
      },
      {
       "javascript": [
        "$('div#ab397cb9-d9ed-4050-bb33-3c9f1223dcb4').width('92%')"
       ],
       "metadata": {},
       "output_type": "display_data",
       "text": [
        "<IPython.core.display.Javascript at 0x122799e50>"
       ]
      },
      {
       "javascript": [
        "$('div#ab397cb9-d9ed-4050-bb33-3c9f1223dcb4').width('93%')"
       ],
       "metadata": {},
       "output_type": "display_data",
       "text": [
        "<IPython.core.display.Javascript at 0x122799e50>"
       ]
      },
      {
       "javascript": [
        "$('div#ab397cb9-d9ed-4050-bb33-3c9f1223dcb4').width('93%')"
       ],
       "metadata": {},
       "output_type": "display_data",
       "text": [
        "<IPython.core.display.Javascript at 0x122799e50>"
       ]
      },
      {
       "javascript": [
        "$('div#ab397cb9-d9ed-4050-bb33-3c9f1223dcb4').width('94%')"
       ],
       "metadata": {},
       "output_type": "display_data",
       "text": [
        "<IPython.core.display.Javascript at 0x122799e50>"
       ]
      },
      {
       "javascript": [
        "$('div#ab397cb9-d9ed-4050-bb33-3c9f1223dcb4').width('95%')"
       ],
       "metadata": {},
       "output_type": "display_data",
       "text": [
        "<IPython.core.display.Javascript at 0x122799e50>"
       ]
      },
      {
       "javascript": [
        "$('div#ab397cb9-d9ed-4050-bb33-3c9f1223dcb4').width('95%')"
       ],
       "metadata": {},
       "output_type": "display_data",
       "text": [
        "<IPython.core.display.Javascript at 0x122799e50>"
       ]
      },
      {
       "javascript": [
        "$('div#ab397cb9-d9ed-4050-bb33-3c9f1223dcb4').width('96%')"
       ],
       "metadata": {},
       "output_type": "display_data",
       "text": [
        "<IPython.core.display.Javascript at 0x122799e50>"
       ]
      },
      {
       "javascript": [
        "$('div#ab397cb9-d9ed-4050-bb33-3c9f1223dcb4').width('96%')"
       ],
       "metadata": {},
       "output_type": "display_data",
       "text": [
        "<IPython.core.display.Javascript at 0x122799e50>"
       ]
      },
      {
       "javascript": [
        "$('div#ab397cb9-d9ed-4050-bb33-3c9f1223dcb4').width('97%')"
       ],
       "metadata": {},
       "output_type": "display_data",
       "text": [
        "<IPython.core.display.Javascript at 0x122799e50>"
       ]
      },
      {
       "javascript": [
        "$('div#ab397cb9-d9ed-4050-bb33-3c9f1223dcb4').width('97%')"
       ],
       "metadata": {},
       "output_type": "display_data",
       "text": [
        "<IPython.core.display.Javascript at 0x122799e50>"
       ]
      },
      {
       "javascript": [
        "$('div#ab397cb9-d9ed-4050-bb33-3c9f1223dcb4').width('98%')"
       ],
       "metadata": {},
       "output_type": "display_data",
       "text": [
        "<IPython.core.display.Javascript at 0x122799e50>"
       ]
      },
      {
       "javascript": [
        "$('div#ab397cb9-d9ed-4050-bb33-3c9f1223dcb4').width('98%')"
       ],
       "metadata": {},
       "output_type": "display_data",
       "text": [
        "<IPython.core.display.Javascript at 0x122799e50>"
       ]
      },
      {
       "javascript": [
        "$('div#ab397cb9-d9ed-4050-bb33-3c9f1223dcb4').width('99%')"
       ],
       "metadata": {},
       "output_type": "display_data",
       "text": [
        "<IPython.core.display.Javascript at 0x122799e50>"
       ]
      },
      {
       "javascript": [
        "$('div#ab397cb9-d9ed-4050-bb33-3c9f1223dcb4').width('100%')"
       ],
       "metadata": {},
       "output_type": "display_data",
       "text": [
        "<IPython.core.display.Javascript at 0x122799910>"
       ]
      },
      {
       "html": [
        "<iframe src=http://127.0.0.1:8001/4557774 width=100%% height=420 frameborder=0></iframe>"
       ],
       "metadata": {},
       "output_type": "pyout",
       "prompt_number": 29,
       "text": [
        "<DisplayNode.DisplayNodeProxy.DisplayNode instance at 0x1227acdd0>"
       ]
      }
     ],
     "prompt_number": 29
    },
    {
     "cell_type": "code",
     "collapsed": false,
     "input": [],
     "language": "python",
     "metadata": {},
     "outputs": [],
     "prompt_number": 28
    },
    {
     "cell_type": "code",
     "collapsed": false,
     "input": [],
     "language": "python",
     "metadata": {},
     "outputs": [],
     "prompt_number": 28
    },
    {
     "cell_type": "code",
     "collapsed": false,
     "input": [],
     "language": "python",
     "metadata": {},
     "outputs": [],
     "prompt_number": 28
    },
    {
     "cell_type": "code",
     "collapsed": false,
     "input": [],
     "language": "python",
     "metadata": {},
     "outputs": [],
     "prompt_number": 28
    },
    {
     "cell_type": "code",
     "collapsed": false,
     "input": [],
     "language": "python",
     "metadata": {},
     "outputs": [],
     "prompt_number": 28
    },
    {
     "cell_type": "code",
     "collapsed": false,
     "input": [],
     "language": "python",
     "metadata": {},
     "outputs": [],
     "prompt_number": 28
    },
    {
     "cell_type": "code",
     "collapsed": false,
     "input": [],
     "language": "python",
     "metadata": {},
     "outputs": [],
     "prompt_number": 28
    },
    {
     "cell_type": "code",
     "collapsed": false,
     "input": [],
     "language": "python",
     "metadata": {},
     "outputs": [],
     "prompt_number": 32
    },
    {
     "cell_type": "code",
     "collapsed": false,
     "input": [],
     "language": "python",
     "metadata": {},
     "outputs": []
    }
   ],
   "metadata": {}
  }
 ]
}