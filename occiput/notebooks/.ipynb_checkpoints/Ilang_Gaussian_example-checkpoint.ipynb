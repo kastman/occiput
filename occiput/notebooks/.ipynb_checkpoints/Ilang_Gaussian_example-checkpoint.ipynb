{
 "metadata": {
  "name": ""
 },
 "nbformat": 3,
 "nbformat_minor": 0,
 "worksheets": [
  {
   "cells": [
    {
     "cell_type": "code",
     "collapsed": false,
     "input": [
      "from ilang.Models import MultivariateGaussian\n",
      "from ilang.Graphs import ProbabilisticGraphicalModel\n",
      "from ilang.Samplers import Sampler\n",
      "\n",
      "import numpy"
     ],
     "language": "python",
     "metadata": {},
     "outputs": [],
     "prompt_number": 17
    },
    {
     "cell_type": "code",
     "collapsed": false,
     "input": [
      "# Define the model: \n",
      "N_dim = 5\n",
      "\n",
      "mu  = 0+5*numpy.random.rand(N_dim) \n",
      "cov = 10*(numpy.diag(numpy.random.rand(N_dim)) + 0.01*numpy.random.rand(N_dim*N_dim).reshape((N_dim,N_dim)))\n",
      "cov = cov*numpy.tri(N_dim) ; cov+cov.T\n",
      "\n",
      "# Instantiate the observation model: \n",
      "model = MultivariateGaussian('Gaussian_model_1') \n",
      "\n",
      "# Build the graph: \n",
      "graph = ProbabilisticGraphicalModel(['x','mu','cov']) \n",
      "graph.set_nodes_given(['mu','cov'], True) \n",
      "graph.set_node_value('mu',mu)\n",
      "graph.set_node_value('cov',cov) \n",
      "graph.add_dependence(model,{'x':'x','mu':'mu','cov':'cov'}) \n",
      "\n",
      "graph"
     ],
     "language": "python",
     "metadata": {},
     "outputs": [
      {
       "html": [
        "<iframe src=http://127.0.0.1:8001/2157094 width=100%% height=500 frameborder=0></iframe>"
       ],
       "metadata": {},
       "output_type": "pyout",
       "prompt_number": 18,
       "text": [
        "<ilang.Graphs.ProbabilisticGraphicalModel instance at 0x10d45a518>"
       ]
      }
     ],
     "prompt_number": 18
    },
    {
     "cell_type": "code",
     "collapsed": false,
     "input": [
      "# Initialize the sampler: \n",
      "sampler = Sampler(graph) \n",
      "N_samples = 5000\n",
      "\n",
      "method0 = 'DirectSampling'\n",
      "method1 = 'MetropolisHastingsMCMC'\n",
      "method2 = 'GradientAscent'\n",
      "method3 = 'QuasiNewton_L_BFGS_B' \n",
      "method4 = 'Newton'"
     ],
     "language": "python",
     "metadata": {},
     "outputs": [],
     "prompt_number": 19
    },
    {
     "cell_type": "code",
     "collapsed": false,
     "input": [
      "# Sample with method 0\n",
      "sampler.set_node_sampling_method_manual('x',method0)\n",
      "graph.set_node_value('x',numpy.ones((1,N_dim)) ) \n",
      "sampler.tracer.reset_trace()\n",
      "sampler.sample_x(N_samples)\n",
      "\n",
      "sampler.tracer.display.plot_histogram(0,range_plot=[-10,10],subplot=[1,2,1])\n",
      "sampler.tracer.display.plot_histogram(1,range_plot=[-10,10],subplot=[1,2,1])\n",
      "sampler.tracer.display.plot_histogram_bivariate(0,1,range_plot=[[-10,10],[-10,10]],subplot=[1,2,2])"
     ],
     "language": "python",
     "metadata": {},
     "outputs": [
      {
       "html": [
        "\n",
        "        <div style=\"border: 1px solid white; width:100%%; height:6px; background-color:rgb(246,228,200)\">\n",
        "            <div id=\"e799b3e1-5a97-4542-917f-0ac74b01d302\" style=\"background-color:rgb(246,128,47); width:0%; height:6px\"> </div>\n",
        "        </div> \n",
        "        "
       ],
       "metadata": {},
       "output_type": "display_data",
       "text": [
        "<IPython.core.display.HTML at 0x10bca5850>"
       ]
      },
      {
       "javascript": [
        "$('div#e799b3e1-5a97-4542-917f-0ac74b01d302').width('1%')"
       ],
       "metadata": {},
       "output_type": "display_data",
       "text": [
        "<IPython.core.display.Javascript at 0x10b801510>"
       ]
      },
      {
       "javascript": [
        "$('div#e799b3e1-5a97-4542-917f-0ac74b01d302').width('2%')"
       ],
       "metadata": {},
       "output_type": "display_data",
       "text": [
        "<IPython.core.display.Javascript at 0x10b801210>"
       ]
      },
      {
       "javascript": [
        "$('div#e799b3e1-5a97-4542-917f-0ac74b01d302').width('3%')"
       ],
       "metadata": {},
       "output_type": "display_data",
       "text": [
        "<IPython.core.display.Javascript at 0x10b801210>"
       ]
      },
      {
       "javascript": [
        "$('div#e799b3e1-5a97-4542-917f-0ac74b01d302').width('4%')"
       ],
       "metadata": {},
       "output_type": "display_data",
       "text": [
        "<IPython.core.display.Javascript at 0x10b801210>"
       ]
      },
      {
       "javascript": [
        "$('div#e799b3e1-5a97-4542-917f-0ac74b01d302').width('5%')"
       ],
       "metadata": {},
       "output_type": "display_data",
       "text": [
        "<IPython.core.display.Javascript at 0x10b801210>"
       ]
      },
      {
       "javascript": [
        "$('div#e799b3e1-5a97-4542-917f-0ac74b01d302').width('6%')"
       ],
       "metadata": {},
       "output_type": "display_data",
       "text": [
        "<IPython.core.display.Javascript at 0x10b801210>"
       ]
      },
      {
       "javascript": [
        "$('div#e799b3e1-5a97-4542-917f-0ac74b01d302').width('7%')"
       ],
       "metadata": {},
       "output_type": "display_data",
       "text": [
        "<IPython.core.display.Javascript at 0x10b801210>"
       ]
      },
      {
       "javascript": [
        "$('div#e799b3e1-5a97-4542-917f-0ac74b01d302').width('8%')"
       ],
       "metadata": {},
       "output_type": "display_data",
       "text": [
        "<IPython.core.display.Javascript at 0x10b801210>"
       ]
      },
      {
       "javascript": [
        "$('div#e799b3e1-5a97-4542-917f-0ac74b01d302').width('9%')"
       ],
       "metadata": {},
       "output_type": "display_data",
       "text": [
        "<IPython.core.display.Javascript at 0x10b801210>"
       ]
      },
      {
       "javascript": [
        "$('div#e799b3e1-5a97-4542-917f-0ac74b01d302').width('10%')"
       ],
       "metadata": {},
       "output_type": "display_data",
       "text": [
        "<IPython.core.display.Javascript at 0x10b801210>"
       ]
      },
      {
       "javascript": [
        "$('div#e799b3e1-5a97-4542-917f-0ac74b01d302').width('11%')"
       ],
       "metadata": {},
       "output_type": "display_data",
       "text": [
        "<IPython.core.display.Javascript at 0x10b801210>"
       ]
      },
      {
       "javascript": [
        "$('div#e799b3e1-5a97-4542-917f-0ac74b01d302').width('12%')"
       ],
       "metadata": {},
       "output_type": "display_data",
       "text": [
        "<IPython.core.display.Javascript at 0x10b801210>"
       ]
      },
      {
       "javascript": [
        "$('div#e799b3e1-5a97-4542-917f-0ac74b01d302').width('13%')"
       ],
       "metadata": {},
       "output_type": "display_data",
       "text": [
        "<IPython.core.display.Javascript at 0x10b801210>"
       ]
      },
      {
       "javascript": [
        "$('div#e799b3e1-5a97-4542-917f-0ac74b01d302').width('14%')"
       ],
       "metadata": {},
       "output_type": "display_data",
       "text": [
        "<IPython.core.display.Javascript at 0x10b801210>"
       ]
      },
      {
       "javascript": [
        "$('div#e799b3e1-5a97-4542-917f-0ac74b01d302').width('15%')"
       ],
       "metadata": {},
       "output_type": "display_data",
       "text": [
        "<IPython.core.display.Javascript at 0x10b801210>"
       ]
      },
      {
       "javascript": [
        "$('div#e799b3e1-5a97-4542-917f-0ac74b01d302').width('16%')"
       ],
       "metadata": {},
       "output_type": "display_data",
       "text": [
        "<IPython.core.display.Javascript at 0x10b801210>"
       ]
      },
      {
       "javascript": [
        "$('div#e799b3e1-5a97-4542-917f-0ac74b01d302').width('17%')"
       ],
       "metadata": {},
       "output_type": "display_data",
       "text": [
        "<IPython.core.display.Javascript at 0x10b801210>"
       ]
      },
      {
       "javascript": [
        "$('div#e799b3e1-5a97-4542-917f-0ac74b01d302').width('18%')"
       ],
       "metadata": {},
       "output_type": "display_data",
       "text": [
        "<IPython.core.display.Javascript at 0x10b801210>"
       ]
      },
      {
       "javascript": [
        "$('div#e799b3e1-5a97-4542-917f-0ac74b01d302').width('19%')"
       ],
       "metadata": {},
       "output_type": "display_data",
       "text": [
        "<IPython.core.display.Javascript at 0x10b801210>"
       ]
      },
      {
       "javascript": [
        "$('div#e799b3e1-5a97-4542-917f-0ac74b01d302').width('20%')"
       ],
       "metadata": {},
       "output_type": "display_data",
       "text": [
        "<IPython.core.display.Javascript at 0x10b801210>"
       ]
      },
      {
       "javascript": [
        "$('div#e799b3e1-5a97-4542-917f-0ac74b01d302').width('21%')"
       ],
       "metadata": {},
       "output_type": "display_data",
       "text": [
        "<IPython.core.display.Javascript at 0x10b801210>"
       ]
      },
      {
       "javascript": [
        "$('div#e799b3e1-5a97-4542-917f-0ac74b01d302').width('22%')"
       ],
       "metadata": {},
       "output_type": "display_data",
       "text": [
        "<IPython.core.display.Javascript at 0x10b801210>"
       ]
      },
      {
       "javascript": [
        "$('div#e799b3e1-5a97-4542-917f-0ac74b01d302').width('23%')"
       ],
       "metadata": {},
       "output_type": "display_data",
       "text": [
        "<IPython.core.display.Javascript at 0x10b801210>"
       ]
      },
      {
       "javascript": [
        "$('div#e799b3e1-5a97-4542-917f-0ac74b01d302').width('24%')"
       ],
       "metadata": {},
       "output_type": "display_data",
       "text": [
        "<IPython.core.display.Javascript at 0x10b801210>"
       ]
      },
      {
       "javascript": [
        "$('div#e799b3e1-5a97-4542-917f-0ac74b01d302').width('25%')"
       ],
       "metadata": {},
       "output_type": "display_data",
       "text": [
        "<IPython.core.display.Javascript at 0x10b801210>"
       ]
      },
      {
       "javascript": [
        "$('div#e799b3e1-5a97-4542-917f-0ac74b01d302').width('26%')"
       ],
       "metadata": {},
       "output_type": "display_data",
       "text": [
        "<IPython.core.display.Javascript at 0x10b801210>"
       ]
      },
      {
       "javascript": [
        "$('div#e799b3e1-5a97-4542-917f-0ac74b01d302').width('27%')"
       ],
       "metadata": {},
       "output_type": "display_data",
       "text": [
        "<IPython.core.display.Javascript at 0x10b801210>"
       ]
      },
      {
       "javascript": [
        "$('div#e799b3e1-5a97-4542-917f-0ac74b01d302').width('28%')"
       ],
       "metadata": {},
       "output_type": "display_data",
       "text": [
        "<IPython.core.display.Javascript at 0x10b801210>"
       ]
      },
      {
       "javascript": [
        "$('div#e799b3e1-5a97-4542-917f-0ac74b01d302').width('29%')"
       ],
       "metadata": {},
       "output_type": "display_data",
       "text": [
        "<IPython.core.display.Javascript at 0x10b801210>"
       ]
      },
      {
       "javascript": [
        "$('div#e799b3e1-5a97-4542-917f-0ac74b01d302').width('30%')"
       ],
       "metadata": {},
       "output_type": "display_data",
       "text": [
        "<IPython.core.display.Javascript at 0x10b801210>"
       ]
      },
      {
       "javascript": [
        "$('div#e799b3e1-5a97-4542-917f-0ac74b01d302').width('31%')"
       ],
       "metadata": {},
       "output_type": "display_data",
       "text": [
        "<IPython.core.display.Javascript at 0x10b801210>"
       ]
      },
      {
       "javascript": [
        "$('div#e799b3e1-5a97-4542-917f-0ac74b01d302').width('32%')"
       ],
       "metadata": {},
       "output_type": "display_data",
       "text": [
        "<IPython.core.display.Javascript at 0x10b801210>"
       ]
      },
      {
       "javascript": [
        "$('div#e799b3e1-5a97-4542-917f-0ac74b01d302').width('33%')"
       ],
       "metadata": {},
       "output_type": "display_data",
       "text": [
        "<IPython.core.display.Javascript at 0x10b801210>"
       ]
      },
      {
       "javascript": [
        "$('div#e799b3e1-5a97-4542-917f-0ac74b01d302').width('34%')"
       ],
       "metadata": {},
       "output_type": "display_data",
       "text": [
        "<IPython.core.display.Javascript at 0x10b801210>"
       ]
      },
      {
       "javascript": [
        "$('div#e799b3e1-5a97-4542-917f-0ac74b01d302').width('35%')"
       ],
       "metadata": {},
       "output_type": "display_data",
       "text": [
        "<IPython.core.display.Javascript at 0x10b801210>"
       ]
      },
      {
       "javascript": [
        "$('div#e799b3e1-5a97-4542-917f-0ac74b01d302').width('36%')"
       ],
       "metadata": {},
       "output_type": "display_data",
       "text": [
        "<IPython.core.display.Javascript at 0x10b801210>"
       ]
      },
      {
       "javascript": [
        "$('div#e799b3e1-5a97-4542-917f-0ac74b01d302').width('37%')"
       ],
       "metadata": {},
       "output_type": "display_data",
       "text": [
        "<IPython.core.display.Javascript at 0x10b801210>"
       ]
      },
      {
       "javascript": [
        "$('div#e799b3e1-5a97-4542-917f-0ac74b01d302').width('38%')"
       ],
       "metadata": {},
       "output_type": "display_data",
       "text": [
        "<IPython.core.display.Javascript at 0x10b801210>"
       ]
      },
      {
       "javascript": [
        "$('div#e799b3e1-5a97-4542-917f-0ac74b01d302').width('39%')"
       ],
       "metadata": {},
       "output_type": "display_data",
       "text": [
        "<IPython.core.display.Javascript at 0x10b801210>"
       ]
      },
      {
       "javascript": [
        "$('div#e799b3e1-5a97-4542-917f-0ac74b01d302').width('40%')"
       ],
       "metadata": {},
       "output_type": "display_data",
       "text": [
        "<IPython.core.display.Javascript at 0x10b801210>"
       ]
      },
      {
       "javascript": [
        "$('div#e799b3e1-5a97-4542-917f-0ac74b01d302').width('41%')"
       ],
       "metadata": {},
       "output_type": "display_data",
       "text": [
        "<IPython.core.display.Javascript at 0x10b801210>"
       ]
      },
      {
       "javascript": [
        "$('div#e799b3e1-5a97-4542-917f-0ac74b01d302').width('42%')"
       ],
       "metadata": {},
       "output_type": "display_data",
       "text": [
        "<IPython.core.display.Javascript at 0x10b801210>"
       ]
      },
      {
       "javascript": [
        "$('div#e799b3e1-5a97-4542-917f-0ac74b01d302').width('43%')"
       ],
       "metadata": {},
       "output_type": "display_data",
       "text": [
        "<IPython.core.display.Javascript at 0x10b801210>"
       ]
      },
      {
       "javascript": [
        "$('div#e799b3e1-5a97-4542-917f-0ac74b01d302').width('44%')"
       ],
       "metadata": {},
       "output_type": "display_data",
       "text": [
        "<IPython.core.display.Javascript at 0x10b801210>"
       ]
      },
      {
       "javascript": [
        "$('div#e799b3e1-5a97-4542-917f-0ac74b01d302').width('45%')"
       ],
       "metadata": {},
       "output_type": "display_data",
       "text": [
        "<IPython.core.display.Javascript at 0x10b801210>"
       ]
      },
      {
       "javascript": [
        "$('div#e799b3e1-5a97-4542-917f-0ac74b01d302').width('46%')"
       ],
       "metadata": {},
       "output_type": "display_data",
       "text": [
        "<IPython.core.display.Javascript at 0x10b801210>"
       ]
      },
      {
       "javascript": [
        "$('div#e799b3e1-5a97-4542-917f-0ac74b01d302').width('47%')"
       ],
       "metadata": {},
       "output_type": "display_data",
       "text": [
        "<IPython.core.display.Javascript at 0x10b801210>"
       ]
      },
      {
       "javascript": [
        "$('div#e799b3e1-5a97-4542-917f-0ac74b01d302').width('48%')"
       ],
       "metadata": {},
       "output_type": "display_data",
       "text": [
        "<IPython.core.display.Javascript at 0x10b801210>"
       ]
      },
      {
       "javascript": [
        "$('div#e799b3e1-5a97-4542-917f-0ac74b01d302').width('49%')"
       ],
       "metadata": {},
       "output_type": "display_data",
       "text": [
        "<IPython.core.display.Javascript at 0x10b801210>"
       ]
      },
      {
       "javascript": [
        "$('div#e799b3e1-5a97-4542-917f-0ac74b01d302').width('50%')"
       ],
       "metadata": {},
       "output_type": "display_data",
       "text": [
        "<IPython.core.display.Javascript at 0x10b801210>"
       ]
      },
      {
       "javascript": [
        "$('div#e799b3e1-5a97-4542-917f-0ac74b01d302').width('51%')"
       ],
       "metadata": {},
       "output_type": "display_data",
       "text": [
        "<IPython.core.display.Javascript at 0x10b801210>"
       ]
      },
      {
       "javascript": [
        "$('div#e799b3e1-5a97-4542-917f-0ac74b01d302').width('52%')"
       ],
       "metadata": {},
       "output_type": "display_data",
       "text": [
        "<IPython.core.display.Javascript at 0x10b801210>"
       ]
      },
      {
       "javascript": [
        "$('div#e799b3e1-5a97-4542-917f-0ac74b01d302').width('53%')"
       ],
       "metadata": {},
       "output_type": "display_data",
       "text": [
        "<IPython.core.display.Javascript at 0x10b801210>"
       ]
      },
      {
       "javascript": [
        "$('div#e799b3e1-5a97-4542-917f-0ac74b01d302').width('54%')"
       ],
       "metadata": {},
       "output_type": "display_data",
       "text": [
        "<IPython.core.display.Javascript at 0x10b801210>"
       ]
      },
      {
       "javascript": [
        "$('div#e799b3e1-5a97-4542-917f-0ac74b01d302').width('55%')"
       ],
       "metadata": {},
       "output_type": "display_data",
       "text": [
        "<IPython.core.display.Javascript at 0x10b801210>"
       ]
      },
      {
       "javascript": [
        "$('div#e799b3e1-5a97-4542-917f-0ac74b01d302').width('56%')"
       ],
       "metadata": {},
       "output_type": "display_data",
       "text": [
        "<IPython.core.display.Javascript at 0x10b801210>"
       ]
      },
      {
       "javascript": [
        "$('div#e799b3e1-5a97-4542-917f-0ac74b01d302').width('57%')"
       ],
       "metadata": {},
       "output_type": "display_data",
       "text": [
        "<IPython.core.display.Javascript at 0x10b801210>"
       ]
      },
      {
       "javascript": [
        "$('div#e799b3e1-5a97-4542-917f-0ac74b01d302').width('58%')"
       ],
       "metadata": {},
       "output_type": "display_data",
       "text": [
        "<IPython.core.display.Javascript at 0x10b801210>"
       ]
      },
      {
       "javascript": [
        "$('div#e799b3e1-5a97-4542-917f-0ac74b01d302').width('59%')"
       ],
       "metadata": {},
       "output_type": "display_data",
       "text": [
        "<IPython.core.display.Javascript at 0x10b801210>"
       ]
      },
      {
       "javascript": [
        "$('div#e799b3e1-5a97-4542-917f-0ac74b01d302').width('60%')"
       ],
       "metadata": {},
       "output_type": "display_data",
       "text": [
        "<IPython.core.display.Javascript at 0x10b801210>"
       ]
      },
      {
       "javascript": [
        "$('div#e799b3e1-5a97-4542-917f-0ac74b01d302').width('61%')"
       ],
       "metadata": {},
       "output_type": "display_data",
       "text": [
        "<IPython.core.display.Javascript at 0x10b801210>"
       ]
      },
      {
       "javascript": [
        "$('div#e799b3e1-5a97-4542-917f-0ac74b01d302').width('62%')"
       ],
       "metadata": {},
       "output_type": "display_data",
       "text": [
        "<IPython.core.display.Javascript at 0x10b801210>"
       ]
      },
      {
       "javascript": [
        "$('div#e799b3e1-5a97-4542-917f-0ac74b01d302').width('63%')"
       ],
       "metadata": {},
       "output_type": "display_data",
       "text": [
        "<IPython.core.display.Javascript at 0x10b801210>"
       ]
      },
      {
       "javascript": [
        "$('div#e799b3e1-5a97-4542-917f-0ac74b01d302').width('64%')"
       ],
       "metadata": {},
       "output_type": "display_data",
       "text": [
        "<IPython.core.display.Javascript at 0x10b801210>"
       ]
      },
      {
       "javascript": [
        "$('div#e799b3e1-5a97-4542-917f-0ac74b01d302').width('65%')"
       ],
       "metadata": {},
       "output_type": "display_data",
       "text": [
        "<IPython.core.display.Javascript at 0x10b801210>"
       ]
      },
      {
       "javascript": [
        "$('div#e799b3e1-5a97-4542-917f-0ac74b01d302').width('66%')"
       ],
       "metadata": {},
       "output_type": "display_data",
       "text": [
        "<IPython.core.display.Javascript at 0x10b801210>"
       ]
      },
      {
       "javascript": [
        "$('div#e799b3e1-5a97-4542-917f-0ac74b01d302').width('67%')"
       ],
       "metadata": {},
       "output_type": "display_data",
       "text": [
        "<IPython.core.display.Javascript at 0x10b801210>"
       ]
      },
      {
       "javascript": [
        "$('div#e799b3e1-5a97-4542-917f-0ac74b01d302').width('68%')"
       ],
       "metadata": {},
       "output_type": "display_data",
       "text": [
        "<IPython.core.display.Javascript at 0x10b801210>"
       ]
      },
      {
       "javascript": [
        "$('div#e799b3e1-5a97-4542-917f-0ac74b01d302').width('69%')"
       ],
       "metadata": {},
       "output_type": "display_data",
       "text": [
        "<IPython.core.display.Javascript at 0x10b801210>"
       ]
      },
      {
       "javascript": [
        "$('div#e799b3e1-5a97-4542-917f-0ac74b01d302').width('70%')"
       ],
       "metadata": {},
       "output_type": "display_data",
       "text": [
        "<IPython.core.display.Javascript at 0x10b801210>"
       ]
      },
      {
       "javascript": [
        "$('div#e799b3e1-5a97-4542-917f-0ac74b01d302').width('71%')"
       ],
       "metadata": {},
       "output_type": "display_data",
       "text": [
        "<IPython.core.display.Javascript at 0x10b801210>"
       ]
      },
      {
       "javascript": [
        "$('div#e799b3e1-5a97-4542-917f-0ac74b01d302').width('72%')"
       ],
       "metadata": {},
       "output_type": "display_data",
       "text": [
        "<IPython.core.display.Javascript at 0x10b801210>"
       ]
      },
      {
       "javascript": [
        "$('div#e799b3e1-5a97-4542-917f-0ac74b01d302').width('73%')"
       ],
       "metadata": {},
       "output_type": "display_data",
       "text": [
        "<IPython.core.display.Javascript at 0x10b801210>"
       ]
      },
      {
       "javascript": [
        "$('div#e799b3e1-5a97-4542-917f-0ac74b01d302').width('74%')"
       ],
       "metadata": {},
       "output_type": "display_data",
       "text": [
        "<IPython.core.display.Javascript at 0x10b801210>"
       ]
      },
      {
       "javascript": [
        "$('div#e799b3e1-5a97-4542-917f-0ac74b01d302').width('75%')"
       ],
       "metadata": {},
       "output_type": "display_data",
       "text": [
        "<IPython.core.display.Javascript at 0x10b801210>"
       ]
      },
      {
       "javascript": [
        "$('div#e799b3e1-5a97-4542-917f-0ac74b01d302').width('76%')"
       ],
       "metadata": {},
       "output_type": "display_data",
       "text": [
        "<IPython.core.display.Javascript at 0x10b801210>"
       ]
      },
      {
       "javascript": [
        "$('div#e799b3e1-5a97-4542-917f-0ac74b01d302').width('77%')"
       ],
       "metadata": {},
       "output_type": "display_data",
       "text": [
        "<IPython.core.display.Javascript at 0x10b801210>"
       ]
      },
      {
       "javascript": [
        "$('div#e799b3e1-5a97-4542-917f-0ac74b01d302').width('78%')"
       ],
       "metadata": {},
       "output_type": "display_data",
       "text": [
        "<IPython.core.display.Javascript at 0x10b801210>"
       ]
      },
      {
       "javascript": [
        "$('div#e799b3e1-5a97-4542-917f-0ac74b01d302').width('79%')"
       ],
       "metadata": {},
       "output_type": "display_data",
       "text": [
        "<IPython.core.display.Javascript at 0x10b801210>"
       ]
      },
      {
       "javascript": [
        "$('div#e799b3e1-5a97-4542-917f-0ac74b01d302').width('80%')"
       ],
       "metadata": {},
       "output_type": "display_data",
       "text": [
        "<IPython.core.display.Javascript at 0x10b801210>"
       ]
      },
      {
       "javascript": [
        "$('div#e799b3e1-5a97-4542-917f-0ac74b01d302').width('81%')"
       ],
       "metadata": {},
       "output_type": "display_data",
       "text": [
        "<IPython.core.display.Javascript at 0x10b801210>"
       ]
      },
      {
       "javascript": [
        "$('div#e799b3e1-5a97-4542-917f-0ac74b01d302').width('82%')"
       ],
       "metadata": {},
       "output_type": "display_data",
       "text": [
        "<IPython.core.display.Javascript at 0x10b801210>"
       ]
      },
      {
       "javascript": [
        "$('div#e799b3e1-5a97-4542-917f-0ac74b01d302').width('83%')"
       ],
       "metadata": {},
       "output_type": "display_data",
       "text": [
        "<IPython.core.display.Javascript at 0x10b801210>"
       ]
      },
      {
       "javascript": [
        "$('div#e799b3e1-5a97-4542-917f-0ac74b01d302').width('84%')"
       ],
       "metadata": {},
       "output_type": "display_data",
       "text": [
        "<IPython.core.display.Javascript at 0x10b801210>"
       ]
      },
      {
       "javascript": [
        "$('div#e799b3e1-5a97-4542-917f-0ac74b01d302').width('85%')"
       ],
       "metadata": {},
       "output_type": "display_data",
       "text": [
        "<IPython.core.display.Javascript at 0x10b801210>"
       ]
      },
      {
       "javascript": [
        "$('div#e799b3e1-5a97-4542-917f-0ac74b01d302').width('86%')"
       ],
       "metadata": {},
       "output_type": "display_data",
       "text": [
        "<IPython.core.display.Javascript at 0x10b801210>"
       ]
      },
      {
       "javascript": [
        "$('div#e799b3e1-5a97-4542-917f-0ac74b01d302').width('87%')"
       ],
       "metadata": {},
       "output_type": "display_data",
       "text": [
        "<IPython.core.display.Javascript at 0x10b801210>"
       ]
      },
      {
       "javascript": [
        "$('div#e799b3e1-5a97-4542-917f-0ac74b01d302').width('88%')"
       ],
       "metadata": {},
       "output_type": "display_data",
       "text": [
        "<IPython.core.display.Javascript at 0x10b801210>"
       ]
      },
      {
       "javascript": [
        "$('div#e799b3e1-5a97-4542-917f-0ac74b01d302').width('89%')"
       ],
       "metadata": {},
       "output_type": "display_data",
       "text": [
        "<IPython.core.display.Javascript at 0x10b801210>"
       ]
      },
      {
       "javascript": [
        "$('div#e799b3e1-5a97-4542-917f-0ac74b01d302').width('90%')"
       ],
       "metadata": {},
       "output_type": "display_data",
       "text": [
        "<IPython.core.display.Javascript at 0x10b801210>"
       ]
      },
      {
       "javascript": [
        "$('div#e799b3e1-5a97-4542-917f-0ac74b01d302').width('91%')"
       ],
       "metadata": {},
       "output_type": "display_data",
       "text": [
        "<IPython.core.display.Javascript at 0x10b801210>"
       ]
      },
      {
       "javascript": [
        "$('div#e799b3e1-5a97-4542-917f-0ac74b01d302').width('92%')"
       ],
       "metadata": {},
       "output_type": "display_data",
       "text": [
        "<IPython.core.display.Javascript at 0x10b801210>"
       ]
      },
      {
       "javascript": [
        "$('div#e799b3e1-5a97-4542-917f-0ac74b01d302').width('93%')"
       ],
       "metadata": {},
       "output_type": "display_data",
       "text": [
        "<IPython.core.display.Javascript at 0x10b801210>"
       ]
      },
      {
       "javascript": [
        "$('div#e799b3e1-5a97-4542-917f-0ac74b01d302').width('94%')"
       ],
       "metadata": {},
       "output_type": "display_data",
       "text": [
        "<IPython.core.display.Javascript at 0x10b801210>"
       ]
      },
      {
       "javascript": [
        "$('div#e799b3e1-5a97-4542-917f-0ac74b01d302').width('95%')"
       ],
       "metadata": {},
       "output_type": "display_data",
       "text": [
        "<IPython.core.display.Javascript at 0x10b801210>"
       ]
      },
      {
       "javascript": [
        "$('div#e799b3e1-5a97-4542-917f-0ac74b01d302').width('96%')"
       ],
       "metadata": {},
       "output_type": "display_data",
       "text": [
        "<IPython.core.display.Javascript at 0x10b801210>"
       ]
      },
      {
       "javascript": [
        "$('div#e799b3e1-5a97-4542-917f-0ac74b01d302').width('97%')"
       ],
       "metadata": {},
       "output_type": "display_data",
       "text": [
        "<IPython.core.display.Javascript at 0x10b801210>"
       ]
      },
      {
       "javascript": [
        "$('div#e799b3e1-5a97-4542-917f-0ac74b01d302').width('98%')"
       ],
       "metadata": {},
       "output_type": "display_data",
       "text": [
        "<IPython.core.display.Javascript at 0x10b801210>"
       ]
      },
      {
       "javascript": [
        "$('div#e799b3e1-5a97-4542-917f-0ac74b01d302').width('99%')"
       ],
       "metadata": {},
       "output_type": "display_data",
       "text": [
        "<IPython.core.display.Javascript at 0x10b801210>"
       ]
      },
      {
       "javascript": [
        "$('div#e799b3e1-5a97-4542-917f-0ac74b01d302').width('100%')"
       ],
       "metadata": {},
       "output_type": "display_data",
       "text": [
        "<IPython.core.display.Javascript at 0x10b801210>"
       ]
      },
      {
       "metadata": {},
       "output_type": "display_data",
       "png": "[encoded data removed]",
       "text": [
        "<matplotlib.figure.Figure at 0x10b8012d0>"
       ]
      }
     ],
     "prompt_number": 20
    },
    {
     "cell_type": "code",
     "collapsed": false,
     "input": [
      "# Sample with method 1\n",
      "sampler.set_node_sampling_method_manual('x',method1)\n",
      "graph.set_node_value('x',numpy.ones((1,N_dim)) ) \n",
      "sampler.tracer.reset_trace()\n",
      "sampler.sample_x(N_samples)\n",
      "\n",
      "sampler.tracer.display.plot_histogram(0,range_plot=[-10,10],subplot=[1,2,1])\n",
      "sampler.tracer.display.plot_histogram(1,range_plot=[-10,10],subplot=[1,2,1])\n",
      "sampler.tracer.display.plot_histogram_bivariate(0,1,range_plot=[[-10,10],[-10,10]],subplot=[1,2,2])"
     ],
     "language": "python",
     "metadata": {},
     "outputs": [
      {
       "html": [
        "\n",
        "        <div style=\"border: 1px solid white; width:100%%; height:6px; background-color:rgb(246,228,200)\">\n",
        "            <div id=\"58b03e3f-e83b-4d5b-abea-32d41ff9ffd6\" style=\"background-color:rgb(246,128,47); width:0%; height:6px\"> </div>\n",
        "        </div> \n",
        "        "
       ],
       "metadata": {},
       "output_type": "display_data",
       "text": [
        "<IPython.core.display.HTML at 0x10d4daa10>"
       ]
      },
      {
       "javascript": [
        "$('div#58b03e3f-e83b-4d5b-abea-32d41ff9ffd6').width('1%')"
       ],
       "metadata": {},
       "output_type": "display_data",
       "text": [
        "<IPython.core.display.Javascript at 0x10d4daf50>"
       ]
      },
      {
       "javascript": [
        "$('div#58b03e3f-e83b-4d5b-abea-32d41ff9ffd6').width('2%')"
       ],
       "metadata": {},
       "output_type": "display_data",
       "text": [
        "<IPython.core.display.Javascript at 0x10d4daf50>"
       ]
      },
      {
       "javascript": [
        "$('div#58b03e3f-e83b-4d5b-abea-32d41ff9ffd6').width('3%')"
       ],
       "metadata": {},
       "output_type": "display_data",
       "text": [
        "<IPython.core.display.Javascript at 0x10d4daf50>"
       ]
      },
      {
       "javascript": [
        "$('div#58b03e3f-e83b-4d5b-abea-32d41ff9ffd6').width('4%')"
       ],
       "metadata": {},
       "output_type": "display_data",
       "text": [
        "<IPython.core.display.Javascript at 0x10d4daf50>"
       ]
      },
      {
       "javascript": [
        "$('div#58b03e3f-e83b-4d5b-abea-32d41ff9ffd6').width('5%')"
       ],
       "metadata": {},
       "output_type": "display_data",
       "text": [
        "<IPython.core.display.Javascript at 0x10d4daf50>"
       ]
      },
      {
       "javascript": [
        "$('div#58b03e3f-e83b-4d5b-abea-32d41ff9ffd6').width('6%')"
       ],
       "metadata": {},
       "output_type": "display_data",
       "text": [
        "<IPython.core.display.Javascript at 0x10d4daf50>"
       ]
      },
      {
       "javascript": [
        "$('div#58b03e3f-e83b-4d5b-abea-32d41ff9ffd6').width('7%')"
       ],
       "metadata": {},
       "output_type": "display_data",
       "text": [
        "<IPython.core.display.Javascript at 0x10d4daf50>"
       ]
      },
      {
       "javascript": [
        "$('div#58b03e3f-e83b-4d5b-abea-32d41ff9ffd6').width('8%')"
       ],
       "metadata": {},
       "output_type": "display_data",
       "text": [
        "<IPython.core.display.Javascript at 0x10d4daf50>"
       ]
      },
      {
       "javascript": [
        "$('div#58b03e3f-e83b-4d5b-abea-32d41ff9ffd6').width('9%')"
       ],
       "metadata": {},
       "output_type": "display_data",
       "text": [
        "<IPython.core.display.Javascript at 0x10d4daf50>"
       ]
      },
      {
       "javascript": [
        "$('div#58b03e3f-e83b-4d5b-abea-32d41ff9ffd6').width('10%')"
       ],
       "metadata": {},
       "output_type": "display_data",
       "text": [
        "<IPython.core.display.Javascript at 0x10d4daf50>"
       ]
      },
      {
       "javascript": [
        "$('div#58b03e3f-e83b-4d5b-abea-32d41ff9ffd6').width('11%')"
       ],
       "metadata": {},
       "output_type": "display_data",
       "text": [
        "<IPython.core.display.Javascript at 0x10d4daf50>"
       ]
      },
      {
       "javascript": [
        "$('div#58b03e3f-e83b-4d5b-abea-32d41ff9ffd6').width('12%')"
       ],
       "metadata": {},
       "output_type": "display_data",
       "text": [
        "<IPython.core.display.Javascript at 0x10d4daf50>"
       ]
      },
      {
       "javascript": [
        "$('div#58b03e3f-e83b-4d5b-abea-32d41ff9ffd6').width('13%')"
       ],
       "metadata": {},
       "output_type": "display_data",
       "text": [
        "<IPython.core.display.Javascript at 0x10d4daf50>"
       ]
      },
      {
       "javascript": [
        "$('div#58b03e3f-e83b-4d5b-abea-32d41ff9ffd6').width('14%')"
       ],
       "metadata": {},
       "output_type": "display_data",
       "text": [
        "<IPython.core.display.Javascript at 0x10d4daf50>"
       ]
      },
      {
       "javascript": [
        "$('div#58b03e3f-e83b-4d5b-abea-32d41ff9ffd6').width('15%')"
       ],
       "metadata": {},
       "output_type": "display_data",
       "text": [
        "<IPython.core.display.Javascript at 0x10d4daf50>"
       ]
      },
      {
       "javascript": [
        "$('div#58b03e3f-e83b-4d5b-abea-32d41ff9ffd6').width('16%')"
       ],
       "metadata": {},
       "output_type": "display_data",
       "text": [
        "<IPython.core.display.Javascript at 0x10d4daf50>"
       ]
      },
      {
       "javascript": [
        "$('div#58b03e3f-e83b-4d5b-abea-32d41ff9ffd6').width('17%')"
       ],
       "metadata": {},
       "output_type": "display_data",
       "text": [
        "<IPython.core.display.Javascript at 0x10d4daf50>"
       ]
      },
      {
       "javascript": [
        "$('div#58b03e3f-e83b-4d5b-abea-32d41ff9ffd6').width('18%')"
       ],
       "metadata": {},
       "output_type": "display_data",
       "text": [
        "<IPython.core.display.Javascript at 0x10d4daf50>"
       ]
      },
      {
       "javascript": [
        "$('div#58b03e3f-e83b-4d5b-abea-32d41ff9ffd6').width('19%')"
       ],
       "metadata": {},
       "output_type": "display_data",
       "text": [
        "<IPython.core.display.Javascript at 0x10d4daf50>"
       ]
      },
      {
       "javascript": [
        "$('div#58b03e3f-e83b-4d5b-abea-32d41ff9ffd6').width('20%')"
       ],
       "metadata": {},
       "output_type": "display_data",
       "text": [
        "<IPython.core.display.Javascript at 0x10d4daf50>"
       ]
      },
      {
       "javascript": [
        "$('div#58b03e3f-e83b-4d5b-abea-32d41ff9ffd6').width('21%')"
       ],
       "metadata": {},
       "output_type": "display_data",
       "text": [
        "<IPython.core.display.Javascript at 0x10d4daf50>"
       ]
      },
      {
       "javascript": [
        "$('div#58b03e3f-e83b-4d5b-abea-32d41ff9ffd6').width('22%')"
       ],
       "metadata": {},
       "output_type": "display_data",
       "text": [
        "<IPython.core.display.Javascript at 0x10d4daf50>"
       ]
      },
      {
       "javascript": [
        "$('div#58b03e3f-e83b-4d5b-abea-32d41ff9ffd6').width('23%')"
       ],
       "metadata": {},
       "output_type": "display_data",
       "text": [
        "<IPython.core.display.Javascript at 0x10d4daf50>"
       ]
      },
      {
       "javascript": [
        "$('div#58b03e3f-e83b-4d5b-abea-32d41ff9ffd6').width('24%')"
       ],
       "metadata": {},
       "output_type": "display_data",
       "text": [
        "<IPython.core.display.Javascript at 0x10d4daf50>"
       ]
      },
      {
       "javascript": [
        "$('div#58b03e3f-e83b-4d5b-abea-32d41ff9ffd6').width('25%')"
       ],
       "metadata": {},
       "output_type": "display_data",
       "text": [
        "<IPython.core.display.Javascript at 0x10d4daf50>"
       ]
      },
      {
       "javascript": [
        "$('div#58b03e3f-e83b-4d5b-abea-32d41ff9ffd6').width('26%')"
       ],
       "metadata": {},
       "output_type": "display_data",
       "text": [
        "<IPython.core.display.Javascript at 0x10d4daf50>"
       ]
      },
      {
       "javascript": [
        "$('div#58b03e3f-e83b-4d5b-abea-32d41ff9ffd6').width('27%')"
       ],
       "metadata": {},
       "output_type": "display_data",
       "text": [
        "<IPython.core.display.Javascript at 0x10d4daf50>"
       ]
      },
      {
       "javascript": [
        "$('div#58b03e3f-e83b-4d5b-abea-32d41ff9ffd6').width('28%')"
       ],
       "metadata": {},
       "output_type": "display_data",
       "text": [
        "<IPython.core.display.Javascript at 0x10d4daf50>"
       ]
      },
      {
       "javascript": [
        "$('div#58b03e3f-e83b-4d5b-abea-32d41ff9ffd6').width('29%')"
       ],
       "metadata": {},
       "output_type": "display_data",
       "text": [
        "<IPython.core.display.Javascript at 0x10d4daf50>"
       ]
      },
      {
       "javascript": [
        "$('div#58b03e3f-e83b-4d5b-abea-32d41ff9ffd6').width('30%')"
       ],
       "metadata": {},
       "output_type": "display_data",
       "text": [
        "<IPython.core.display.Javascript at 0x10d4daf50>"
       ]
      },
      {
       "javascript": [
        "$('div#58b03e3f-e83b-4d5b-abea-32d41ff9ffd6').width('31%')"
       ],
       "metadata": {},
       "output_type": "display_data",
       "text": [
        "<IPython.core.display.Javascript at 0x10d4daf50>"
       ]
      },
      {
       "javascript": [
        "$('div#58b03e3f-e83b-4d5b-abea-32d41ff9ffd6').width('32%')"
       ],
       "metadata": {},
       "output_type": "display_data",
       "text": [
        "<IPython.core.display.Javascript at 0x10d4daf50>"
       ]
      },
      {
       "javascript": [
        "$('div#58b03e3f-e83b-4d5b-abea-32d41ff9ffd6').width('33%')"
       ],
       "metadata": {},
       "output_type": "display_data",
       "text": [
        "<IPython.core.display.Javascript at 0x10d4daf50>"
       ]
      },
      {
       "javascript": [
        "$('div#58b03e3f-e83b-4d5b-abea-32d41ff9ffd6').width('34%')"
       ],
       "metadata": {},
       "output_type": "display_data",
       "text": [
        "<IPython.core.display.Javascript at 0x10d4daf50>"
       ]
      },
      {
       "javascript": [
        "$('div#58b03e3f-e83b-4d5b-abea-32d41ff9ffd6').width('35%')"
       ],
       "metadata": {},
       "output_type": "display_data",
       "text": [
        "<IPython.core.display.Javascript at 0x10d4daf50>"
       ]
      },
      {
       "javascript": [
        "$('div#58b03e3f-e83b-4d5b-abea-32d41ff9ffd6').width('36%')"
       ],
       "metadata": {},
       "output_type": "display_data",
       "text": [
        "<IPython.core.display.Javascript at 0x10d4daf50>"
       ]
      },
      {
       "javascript": [
        "$('div#58b03e3f-e83b-4d5b-abea-32d41ff9ffd6').width('37%')"
       ],
       "metadata": {},
       "output_type": "display_data",
       "text": [
        "<IPython.core.display.Javascript at 0x10d4daf50>"
       ]
      },
      {
       "javascript": [
        "$('div#58b03e3f-e83b-4d5b-abea-32d41ff9ffd6').width('38%')"
       ],
       "metadata": {},
       "output_type": "display_data",
       "text": [
        "<IPython.core.display.Javascript at 0x10d4daf50>"
       ]
      },
      {
       "javascript": [
        "$('div#58b03e3f-e83b-4d5b-abea-32d41ff9ffd6').width('39%')"
       ],
       "metadata": {},
       "output_type": "display_data",
       "text": [
        "<IPython.core.display.Javascript at 0x10d4daf50>"
       ]
      },
      {
       "javascript": [
        "$('div#58b03e3f-e83b-4d5b-abea-32d41ff9ffd6').width('40%')"
       ],
       "metadata": {},
       "output_type": "display_data",
       "text": [
        "<IPython.core.display.Javascript at 0x10d4daf50>"
       ]
      },
      {
       "javascript": [
        "$('div#58b03e3f-e83b-4d5b-abea-32d41ff9ffd6').width('41%')"
       ],
       "metadata": {},
       "output_type": "display_data",
       "text": [
        "<IPython.core.display.Javascript at 0x10d4daf50>"
       ]
      },
      {
       "javascript": [
        "$('div#58b03e3f-e83b-4d5b-abea-32d41ff9ffd6').width('42%')"
       ],
       "metadata": {},
       "output_type": "display_data",
       "text": [
        "<IPython.core.display.Javascript at 0x10d4daf50>"
       ]
      },
      {
       "javascript": [
        "$('div#58b03e3f-e83b-4d5b-abea-32d41ff9ffd6').width('43%')"
       ],
       "metadata": {},
       "output_type": "display_data",
       "text": [
        "<IPython.core.display.Javascript at 0x10d4daf50>"
       ]
      },
      {
       "javascript": [
        "$('div#58b03e3f-e83b-4d5b-abea-32d41ff9ffd6').width('44%')"
       ],
       "metadata": {},
       "output_type": "display_data",
       "text": [
        "<IPython.core.display.Javascript at 0x10d4daf50>"
       ]
      },
      {
       "javascript": [
        "$('div#58b03e3f-e83b-4d5b-abea-32d41ff9ffd6').width('45%')"
       ],
       "metadata": {},
       "output_type": "display_data",
       "text": [
        "<IPython.core.display.Javascript at 0x10d4daf50>"
       ]
      },
      {
       "javascript": [
        "$('div#58b03e3f-e83b-4d5b-abea-32d41ff9ffd6').width('46%')"
       ],
       "metadata": {},
       "output_type": "display_data",
       "text": [
        "<IPython.core.display.Javascript at 0x10d4daf50>"
       ]
      },
      {
       "javascript": [
        "$('div#58b03e3f-e83b-4d5b-abea-32d41ff9ffd6').width('47%')"
       ],
       "metadata": {},
       "output_type": "display_data",
       "text": [
        "<IPython.core.display.Javascript at 0x10d4daf50>"
       ]
      },
      {
       "javascript": [
        "$('div#58b03e3f-e83b-4d5b-abea-32d41ff9ffd6').width('48%')"
       ],
       "metadata": {},
       "output_type": "display_data",
       "text": [
        "<IPython.core.display.Javascript at 0x10d4daf50>"
       ]
      },
      {
       "javascript": [
        "$('div#58b03e3f-e83b-4d5b-abea-32d41ff9ffd6').width('49%')"
       ],
       "metadata": {},
       "output_type": "display_data",
       "text": [
        "<IPython.core.display.Javascript at 0x10d4daf50>"
       ]
      },
      {
       "javascript": [
        "$('div#58b03e3f-e83b-4d5b-abea-32d41ff9ffd6').width('50%')"
       ],
       "metadata": {},
       "output_type": "display_data",
       "text": [
        "<IPython.core.display.Javascript at 0x10d4daf50>"
       ]
      },
      {
       "javascript": [
        "$('div#58b03e3f-e83b-4d5b-abea-32d41ff9ffd6').width('51%')"
       ],
       "metadata": {},
       "output_type": "display_data",
       "text": [
        "<IPython.core.display.Javascript at 0x10d4daf50>"
       ]
      },
      {
       "javascript": [
        "$('div#58b03e3f-e83b-4d5b-abea-32d41ff9ffd6').width('52%')"
       ],
       "metadata": {},
       "output_type": "display_data",
       "text": [
        "<IPython.core.display.Javascript at 0x10d4daf50>"
       ]
      },
      {
       "javascript": [
        "$('div#58b03e3f-e83b-4d5b-abea-32d41ff9ffd6').width('53%')"
       ],
       "metadata": {},
       "output_type": "display_data",
       "text": [
        "<IPython.core.display.Javascript at 0x10d4daf50>"
       ]
      },
      {
       "javascript": [
        "$('div#58b03e3f-e83b-4d5b-abea-32d41ff9ffd6').width('54%')"
       ],
       "metadata": {},
       "output_type": "display_data",
       "text": [
        "<IPython.core.display.Javascript at 0x10d4daf50>"
       ]
      },
      {
       "javascript": [
        "$('div#58b03e3f-e83b-4d5b-abea-32d41ff9ffd6').width('55%')"
       ],
       "metadata": {},
       "output_type": "display_data",
       "text": [
        "<IPython.core.display.Javascript at 0x10d4daf50>"
       ]
      },
      {
       "javascript": [
        "$('div#58b03e3f-e83b-4d5b-abea-32d41ff9ffd6').width('56%')"
       ],
       "metadata": {},
       "output_type": "display_data",
       "text": [
        "<IPython.core.display.Javascript at 0x10d4daf50>"
       ]
      },
      {
       "javascript": [
        "$('div#58b03e3f-e83b-4d5b-abea-32d41ff9ffd6').width('57%')"
       ],
       "metadata": {},
       "output_type": "display_data",
       "text": [
        "<IPython.core.display.Javascript at 0x10d4daf50>"
       ]
      },
      {
       "javascript": [
        "$('div#58b03e3f-e83b-4d5b-abea-32d41ff9ffd6').width('58%')"
       ],
       "metadata": {},
       "output_type": "display_data",
       "text": [
        "<IPython.core.display.Javascript at 0x10d4daf50>"
       ]
      },
      {
       "javascript": [
        "$('div#58b03e3f-e83b-4d5b-abea-32d41ff9ffd6').width('59%')"
       ],
       "metadata": {},
       "output_type": "display_data",
       "text": [
        "<IPython.core.display.Javascript at 0x10d4daf50>"
       ]
      },
      {
       "javascript": [
        "$('div#58b03e3f-e83b-4d5b-abea-32d41ff9ffd6').width('60%')"
       ],
       "metadata": {},
       "output_type": "display_data",
       "text": [
        "<IPython.core.display.Javascript at 0x10d4daf50>"
       ]
      },
      {
       "javascript": [
        "$('div#58b03e3f-e83b-4d5b-abea-32d41ff9ffd6').width('61%')"
       ],
       "metadata": {},
       "output_type": "display_data",
       "text": [
        "<IPython.core.display.Javascript at 0x10d4daf50>"
       ]
      },
      {
       "javascript": [
        "$('div#58b03e3f-e83b-4d5b-abea-32d41ff9ffd6').width('62%')"
       ],
       "metadata": {},
       "output_type": "display_data",
       "text": [
        "<IPython.core.display.Javascript at 0x10d4daf50>"
       ]
      },
      {
       "javascript": [
        "$('div#58b03e3f-e83b-4d5b-abea-32d41ff9ffd6').width('63%')"
       ],
       "metadata": {},
       "output_type": "display_data",
       "text": [
        "<IPython.core.display.Javascript at 0x10d4daf50>"
       ]
      },
      {
       "javascript": [
        "$('div#58b03e3f-e83b-4d5b-abea-32d41ff9ffd6').width('64%')"
       ],
       "metadata": {},
       "output_type": "display_data",
       "text": [
        "<IPython.core.display.Javascript at 0x10d4daf50>"
       ]
      },
      {
       "javascript": [
        "$('div#58b03e3f-e83b-4d5b-abea-32d41ff9ffd6').width('65%')"
       ],
       "metadata": {},
       "output_type": "display_data",
       "text": [
        "<IPython.core.display.Javascript at 0x10d4daf50>"
       ]
      },
      {
       "javascript": [
        "$('div#58b03e3f-e83b-4d5b-abea-32d41ff9ffd6').width('66%')"
       ],
       "metadata": {},
       "output_type": "display_data",
       "text": [
        "<IPython.core.display.Javascript at 0x10d4daf50>"
       ]
      },
      {
       "javascript": [
        "$('div#58b03e3f-e83b-4d5b-abea-32d41ff9ffd6').width('67%')"
       ],
       "metadata": {},
       "output_type": "display_data",
       "text": [
        "<IPython.core.display.Javascript at 0x10d4daf50>"
       ]
      },
      {
       "javascript": [
        "$('div#58b03e3f-e83b-4d5b-abea-32d41ff9ffd6').width('68%')"
       ],
       "metadata": {},
       "output_type": "display_data",
       "text": [
        "<IPython.core.display.Javascript at 0x10d4daf50>"
       ]
      },
      {
       "javascript": [
        "$('div#58b03e3f-e83b-4d5b-abea-32d41ff9ffd6').width('69%')"
       ],
       "metadata": {},
       "output_type": "display_data",
       "text": [
        "<IPython.core.display.Javascript at 0x10d4daf50>"
       ]
      },
      {
       "javascript": [
        "$('div#58b03e3f-e83b-4d5b-abea-32d41ff9ffd6').width('70%')"
       ],
       "metadata": {},
       "output_type": "display_data",
       "text": [
        "<IPython.core.display.Javascript at 0x10d4daf50>"
       ]
      },
      {
       "javascript": [
        "$('div#58b03e3f-e83b-4d5b-abea-32d41ff9ffd6').width('71%')"
       ],
       "metadata": {},
       "output_type": "display_data",
       "text": [
        "<IPython.core.display.Javascript at 0x10d4daf50>"
       ]
      },
      {
       "javascript": [
        "$('div#58b03e3f-e83b-4d5b-abea-32d41ff9ffd6').width('72%')"
       ],
       "metadata": {},
       "output_type": "display_data",
       "text": [
        "<IPython.core.display.Javascript at 0x10d4daf50>"
       ]
      },
      {
       "javascript": [
        "$('div#58b03e3f-e83b-4d5b-abea-32d41ff9ffd6').width('73%')"
       ],
       "metadata": {},
       "output_type": "display_data",
       "text": [
        "<IPython.core.display.Javascript at 0x10d4daf50>"
       ]
      },
      {
       "javascript": [
        "$('div#58b03e3f-e83b-4d5b-abea-32d41ff9ffd6').width('74%')"
       ],
       "metadata": {},
       "output_type": "display_data",
       "text": [
        "<IPython.core.display.Javascript at 0x10d4daf50>"
       ]
      },
      {
       "javascript": [
        "$('div#58b03e3f-e83b-4d5b-abea-32d41ff9ffd6').width('75%')"
       ],
       "metadata": {},
       "output_type": "display_data",
       "text": [
        "<IPython.core.display.Javascript at 0x10d4daf50>"
       ]
      },
      {
       "javascript": [
        "$('div#58b03e3f-e83b-4d5b-abea-32d41ff9ffd6').width('76%')"
       ],
       "metadata": {},
       "output_type": "display_data",
       "text": [
        "<IPython.core.display.Javascript at 0x10d4daf50>"
       ]
      },
      {
       "javascript": [
        "$('div#58b03e3f-e83b-4d5b-abea-32d41ff9ffd6').width('77%')"
       ],
       "metadata": {},
       "output_type": "display_data",
       "text": [
        "<IPython.core.display.Javascript at 0x10d4daf50>"
       ]
      },
      {
       "javascript": [
        "$('div#58b03e3f-e83b-4d5b-abea-32d41ff9ffd6').width('78%')"
       ],
       "metadata": {},
       "output_type": "display_data",
       "text": [
        "<IPython.core.display.Javascript at 0x10d4daf50>"
       ]
      },
      {
       "javascript": [
        "$('div#58b03e3f-e83b-4d5b-abea-32d41ff9ffd6').width('79%')"
       ],
       "metadata": {},
       "output_type": "display_data",
       "text": [
        "<IPython.core.display.Javascript at 0x10d4daf50>"
       ]
      },
      {
       "javascript": [
        "$('div#58b03e3f-e83b-4d5b-abea-32d41ff9ffd6').width('80%')"
       ],
       "metadata": {},
       "output_type": "display_data",
       "text": [
        "<IPython.core.display.Javascript at 0x10d4daf50>"
       ]
      },
      {
       "javascript": [
        "$('div#58b03e3f-e83b-4d5b-abea-32d41ff9ffd6').width('81%')"
       ],
       "metadata": {},
       "output_type": "display_data",
       "text": [
        "<IPython.core.display.Javascript at 0x10d4daf50>"
       ]
      },
      {
       "javascript": [
        "$('div#58b03e3f-e83b-4d5b-abea-32d41ff9ffd6').width('82%')"
       ],
       "metadata": {},
       "output_type": "display_data",
       "text": [
        "<IPython.core.display.Javascript at 0x10d4daf50>"
       ]
      },
      {
       "javascript": [
        "$('div#58b03e3f-e83b-4d5b-abea-32d41ff9ffd6').width('83%')"
       ],
       "metadata": {},
       "output_type": "display_data",
       "text": [
        "<IPython.core.display.Javascript at 0x10d4daf50>"
       ]
      },
      {
       "javascript": [
        "$('div#58b03e3f-e83b-4d5b-abea-32d41ff9ffd6').width('84%')"
       ],
       "metadata": {},
       "output_type": "display_data",
       "text": [
        "<IPython.core.display.Javascript at 0x10d4daf50>"
       ]
      },
      {
       "javascript": [
        "$('div#58b03e3f-e83b-4d5b-abea-32d41ff9ffd6').width('85%')"
       ],
       "metadata": {},
       "output_type": "display_data",
       "text": [
        "<IPython.core.display.Javascript at 0x10d4daf50>"
       ]
      },
      {
       "javascript": [
        "$('div#58b03e3f-e83b-4d5b-abea-32d41ff9ffd6').width('86%')"
       ],
       "metadata": {},
       "output_type": "display_data",
       "text": [
        "<IPython.core.display.Javascript at 0x10d4daf50>"
       ]
      },
      {
       "javascript": [
        "$('div#58b03e3f-e83b-4d5b-abea-32d41ff9ffd6').width('87%')"
       ],
       "metadata": {},
       "output_type": "display_data",
       "text": [
        "<IPython.core.display.Javascript at 0x10d4daf50>"
       ]
      },
      {
       "javascript": [
        "$('div#58b03e3f-e83b-4d5b-abea-32d41ff9ffd6').width('88%')"
       ],
       "metadata": {},
       "output_type": "display_data",
       "text": [
        "<IPython.core.display.Javascript at 0x10d4daf50>"
       ]
      },
      {
       "javascript": [
        "$('div#58b03e3f-e83b-4d5b-abea-32d41ff9ffd6').width('89%')"
       ],
       "metadata": {},
       "output_type": "display_data",
       "text": [
        "<IPython.core.display.Javascript at 0x10d4daf50>"
       ]
      },
      {
       "javascript": [
        "$('div#58b03e3f-e83b-4d5b-abea-32d41ff9ffd6').width('90%')"
       ],
       "metadata": {},
       "output_type": "display_data",
       "text": [
        "<IPython.core.display.Javascript at 0x10d4daf50>"
       ]
      },
      {
       "javascript": [
        "$('div#58b03e3f-e83b-4d5b-abea-32d41ff9ffd6').width('91%')"
       ],
       "metadata": {},
       "output_type": "display_data",
       "text": [
        "<IPython.core.display.Javascript at 0x10d4daf50>"
       ]
      },
      {
       "javascript": [
        "$('div#58b03e3f-e83b-4d5b-abea-32d41ff9ffd6').width('92%')"
       ],
       "metadata": {},
       "output_type": "display_data",
       "text": [
        "<IPython.core.display.Javascript at 0x10d4daf50>"
       ]
      },
      {
       "javascript": [
        "$('div#58b03e3f-e83b-4d5b-abea-32d41ff9ffd6').width('93%')"
       ],
       "metadata": {},
       "output_type": "display_data",
       "text": [
        "<IPython.core.display.Javascript at 0x10d4daf50>"
       ]
      },
      {
       "javascript": [
        "$('div#58b03e3f-e83b-4d5b-abea-32d41ff9ffd6').width('94%')"
       ],
       "metadata": {},
       "output_type": "display_data",
       "text": [
        "<IPython.core.display.Javascript at 0x10d4daf50>"
       ]
      },
      {
       "javascript": [
        "$('div#58b03e3f-e83b-4d5b-abea-32d41ff9ffd6').width('95%')"
       ],
       "metadata": {},
       "output_type": "display_data",
       "text": [
        "<IPython.core.display.Javascript at 0x10d4daf50>"
       ]
      },
      {
       "javascript": [
        "$('div#58b03e3f-e83b-4d5b-abea-32d41ff9ffd6').width('96%')"
       ],
       "metadata": {},
       "output_type": "display_data",
       "text": [
        "<IPython.core.display.Javascript at 0x10d4daf50>"
       ]
      },
      {
       "javascript": [
        "$('div#58b03e3f-e83b-4d5b-abea-32d41ff9ffd6').width('97%')"
       ],
       "metadata": {},
       "output_type": "display_data",
       "text": [
        "<IPython.core.display.Javascript at 0x10d4daf50>"
       ]
      },
      {
       "javascript": [
        "$('div#58b03e3f-e83b-4d5b-abea-32d41ff9ffd6').width('98%')"
       ],
       "metadata": {},
       "output_type": "display_data",
       "text": [
        "<IPython.core.display.Javascript at 0x10d4daf50>"
       ]
      },
      {
       "javascript": [
        "$('div#58b03e3f-e83b-4d5b-abea-32d41ff9ffd6').width('99%')"
       ],
       "metadata": {},
       "output_type": "display_data",
       "text": [
        "<IPython.core.display.Javascript at 0x10d4daf50>"
       ]
      },
      {
       "javascript": [
        "$('div#58b03e3f-e83b-4d5b-abea-32d41ff9ffd6').width('100%')"
       ],
       "metadata": {},
       "output_type": "display_data",
       "text": [
        "<IPython.core.display.Javascript at 0x10d4da450>"
       ]
      },
      {
       "metadata": {},
       "output_type": "display_data",
       "png": "[encoded data removed]",
       "text": [
        "<matplotlib.figure.Figure at 0x10d4da950>"
       ]
      }
     ],
     "prompt_number": 21
    },
    {
     "cell_type": "code",
     "collapsed": false,
     "input": [
      "# Sample with method 2\n",
      "sampler.set_node_sampling_method_manual('x',method2)\n",
      "graph.set_node_value('x',numpy.ones((1,N_dim)) ) \n",
      "sampler.tracer.reset_trace()\n",
      "sampler.sample_x(N_samples)\n",
      "\n",
      "sampler.tracer.display.plot_histogram(0,range_plot=[-10,10],subplot=[1,2,1])\n",
      "sampler.tracer.display.plot_histogram(1,range_plot=[-10,10],subplot=[1,2,1])\n",
      "sampler.tracer.display.plot_histogram_bivariate(0,1,range_plot=[[-10,10],[-10,10]],subplot=[1,2,2])"
     ],
     "language": "python",
     "metadata": {},
     "outputs": [
      {
       "html": [
        "\n",
        "        <div style=\"border: 1px solid white; width:100%%; height:6px; background-color:rgb(246,228,200)\">\n",
        "            <div id=\"51288b87-0eab-47dd-8e43-af61f8bb7b0f\" style=\"background-color:rgb(246,128,47); width:0%; height:6px\"> </div>\n",
        "        </div> \n",
        "        "
       ],
       "metadata": {},
       "output_type": "display_data",
       "text": [
        "<IPython.core.display.HTML at 0x10d1b4690>"
       ]
      },
      {
       "javascript": [
        "$('div#51288b87-0eab-47dd-8e43-af61f8bb7b0f').width('1%')"
       ],
       "metadata": {},
       "output_type": "display_data",
       "text": [
        "<IPython.core.display.Javascript at 0x10d1b21d0>"
       ]
      },
      {
       "javascript": [
        "$('div#51288b87-0eab-47dd-8e43-af61f8bb7b0f').width('2%')"
       ],
       "metadata": {},
       "output_type": "display_data",
       "text": [
        "<IPython.core.display.Javascript at 0x10d1b21d0>"
       ]
      },
      {
       "javascript": [
        "$('div#51288b87-0eab-47dd-8e43-af61f8bb7b0f').width('3%')"
       ],
       "metadata": {},
       "output_type": "display_data",
       "text": [
        "<IPython.core.display.Javascript at 0x10d1b21d0>"
       ]
      },
      {
       "javascript": [
        "$('div#51288b87-0eab-47dd-8e43-af61f8bb7b0f').width('4%')"
       ],
       "metadata": {},
       "output_type": "display_data",
       "text": [
        "<IPython.core.display.Javascript at 0x10d1b21d0>"
       ]
      },
      {
       "javascript": [
        "$('div#51288b87-0eab-47dd-8e43-af61f8bb7b0f').width('5%')"
       ],
       "metadata": {},
       "output_type": "display_data",
       "text": [
        "<IPython.core.display.Javascript at 0x10d1b21d0>"
       ]
      },
      {
       "javascript": [
        "$('div#51288b87-0eab-47dd-8e43-af61f8bb7b0f').width('6%')"
       ],
       "metadata": {},
       "output_type": "display_data",
       "text": [
        "<IPython.core.display.Javascript at 0x10d1b21d0>"
       ]
      },
      {
       "javascript": [
        "$('div#51288b87-0eab-47dd-8e43-af61f8bb7b0f').width('7%')"
       ],
       "metadata": {},
       "output_type": "display_data",
       "text": [
        "<IPython.core.display.Javascript at 0x10d1b21d0>"
       ]
      },
      {
       "javascript": [
        "$('div#51288b87-0eab-47dd-8e43-af61f8bb7b0f').width('8%')"
       ],
       "metadata": {},
       "output_type": "display_data",
       "text": [
        "<IPython.core.display.Javascript at 0x10d1b21d0>"
       ]
      },
      {
       "javascript": [
        "$('div#51288b87-0eab-47dd-8e43-af61f8bb7b0f').width('9%')"
       ],
       "metadata": {},
       "output_type": "display_data",
       "text": [
        "<IPython.core.display.Javascript at 0x10d1b21d0>"
       ]
      },
      {
       "javascript": [
        "$('div#51288b87-0eab-47dd-8e43-af61f8bb7b0f').width('10%')"
       ],
       "metadata": {},
       "output_type": "display_data",
       "text": [
        "<IPython.core.display.Javascript at 0x10d1b21d0>"
       ]
      },
      {
       "javascript": [
        "$('div#51288b87-0eab-47dd-8e43-af61f8bb7b0f').width('11%')"
       ],
       "metadata": {},
       "output_type": "display_data",
       "text": [
        "<IPython.core.display.Javascript at 0x10d1b21d0>"
       ]
      },
      {
       "javascript": [
        "$('div#51288b87-0eab-47dd-8e43-af61f8bb7b0f').width('12%')"
       ],
       "metadata": {},
       "output_type": "display_data",
       "text": [
        "<IPython.core.display.Javascript at 0x10d1b21d0>"
       ]
      },
      {
       "javascript": [
        "$('div#51288b87-0eab-47dd-8e43-af61f8bb7b0f').width('13%')"
       ],
       "metadata": {},
       "output_type": "display_data",
       "text": [
        "<IPython.core.display.Javascript at 0x10d1b21d0>"
       ]
      },
      {
       "javascript": [
        "$('div#51288b87-0eab-47dd-8e43-af61f8bb7b0f').width('14%')"
       ],
       "metadata": {},
       "output_type": "display_data",
       "text": [
        "<IPython.core.display.Javascript at 0x10d1b21d0>"
       ]
      },
      {
       "javascript": [
        "$('div#51288b87-0eab-47dd-8e43-af61f8bb7b0f').width('15%')"
       ],
       "metadata": {},
       "output_type": "display_data",
       "text": [
        "<IPython.core.display.Javascript at 0x10d1b21d0>"
       ]
      },
      {
       "javascript": [
        "$('div#51288b87-0eab-47dd-8e43-af61f8bb7b0f').width('16%')"
       ],
       "metadata": {},
       "output_type": "display_data",
       "text": [
        "<IPython.core.display.Javascript at 0x10d1b21d0>"
       ]
      },
      {
       "javascript": [
        "$('div#51288b87-0eab-47dd-8e43-af61f8bb7b0f').width('17%')"
       ],
       "metadata": {},
       "output_type": "display_data",
       "text": [
        "<IPython.core.display.Javascript at 0x10d1b21d0>"
       ]
      },
      {
       "javascript": [
        "$('div#51288b87-0eab-47dd-8e43-af61f8bb7b0f').width('18%')"
       ],
       "metadata": {},
       "output_type": "display_data",
       "text": [
        "<IPython.core.display.Javascript at 0x10d1b21d0>"
       ]
      },
      {
       "javascript": [
        "$('div#51288b87-0eab-47dd-8e43-af61f8bb7b0f').width('19%')"
       ],
       "metadata": {},
       "output_type": "display_data",
       "text": [
        "<IPython.core.display.Javascript at 0x10d1b21d0>"
       ]
      },
      {
       "javascript": [
        "$('div#51288b87-0eab-47dd-8e43-af61f8bb7b0f').width('20%')"
       ],
       "metadata": {},
       "output_type": "display_data",
       "text": [
        "<IPython.core.display.Javascript at 0x10d1b21d0>"
       ]
      },
      {
       "javascript": [
        "$('div#51288b87-0eab-47dd-8e43-af61f8bb7b0f').width('21%')"
       ],
       "metadata": {},
       "output_type": "display_data",
       "text": [
        "<IPython.core.display.Javascript at 0x10d1b21d0>"
       ]
      },
      {
       "javascript": [
        "$('div#51288b87-0eab-47dd-8e43-af61f8bb7b0f').width('22%')"
       ],
       "metadata": {},
       "output_type": "display_data",
       "text": [
        "<IPython.core.display.Javascript at 0x10d1b21d0>"
       ]
      },
      {
       "javascript": [
        "$('div#51288b87-0eab-47dd-8e43-af61f8bb7b0f').width('23%')"
       ],
       "metadata": {},
       "output_type": "display_data",
       "text": [
        "<IPython.core.display.Javascript at 0x10d1b21d0>"
       ]
      },
      {
       "javascript": [
        "$('div#51288b87-0eab-47dd-8e43-af61f8bb7b0f').width('24%')"
       ],
       "metadata": {},
       "output_type": "display_data",
       "text": [
        "<IPython.core.display.Javascript at 0x10d1b21d0>"
       ]
      },
      {
       "javascript": [
        "$('div#51288b87-0eab-47dd-8e43-af61f8bb7b0f').width('25%')"
       ],
       "metadata": {},
       "output_type": "display_data",
       "text": [
        "<IPython.core.display.Javascript at 0x10d1b21d0>"
       ]
      },
      {
       "javascript": [
        "$('div#51288b87-0eab-47dd-8e43-af61f8bb7b0f').width('26%')"
       ],
       "metadata": {},
       "output_type": "display_data",
       "text": [
        "<IPython.core.display.Javascript at 0x10d1b21d0>"
       ]
      },
      {
       "javascript": [
        "$('div#51288b87-0eab-47dd-8e43-af61f8bb7b0f').width('27%')"
       ],
       "metadata": {},
       "output_type": "display_data",
       "text": [
        "<IPython.core.display.Javascript at 0x10d1b21d0>"
       ]
      },
      {
       "javascript": [
        "$('div#51288b87-0eab-47dd-8e43-af61f8bb7b0f').width('28%')"
       ],
       "metadata": {},
       "output_type": "display_data",
       "text": [
        "<IPython.core.display.Javascript at 0x10d1b21d0>"
       ]
      },
      {
       "javascript": [
        "$('div#51288b87-0eab-47dd-8e43-af61f8bb7b0f').width('29%')"
       ],
       "metadata": {},
       "output_type": "display_data",
       "text": [
        "<IPython.core.display.Javascript at 0x10d1b21d0>"
       ]
      },
      {
       "javascript": [
        "$('div#51288b87-0eab-47dd-8e43-af61f8bb7b0f').width('30%')"
       ],
       "metadata": {},
       "output_type": "display_data",
       "text": [
        "<IPython.core.display.Javascript at 0x10d1b21d0>"
       ]
      },
      {
       "javascript": [
        "$('div#51288b87-0eab-47dd-8e43-af61f8bb7b0f').width('31%')"
       ],
       "metadata": {},
       "output_type": "display_data",
       "text": [
        "<IPython.core.display.Javascript at 0x10d1b21d0>"
       ]
      },
      {
       "javascript": [
        "$('div#51288b87-0eab-47dd-8e43-af61f8bb7b0f').width('32%')"
       ],
       "metadata": {},
       "output_type": "display_data",
       "text": [
        "<IPython.core.display.Javascript at 0x10d1b21d0>"
       ]
      },
      {
       "javascript": [
        "$('div#51288b87-0eab-47dd-8e43-af61f8bb7b0f').width('33%')"
       ],
       "metadata": {},
       "output_type": "display_data",
       "text": [
        "<IPython.core.display.Javascript at 0x10d1b21d0>"
       ]
      },
      {
       "javascript": [
        "$('div#51288b87-0eab-47dd-8e43-af61f8bb7b0f').width('34%')"
       ],
       "metadata": {},
       "output_type": "display_data",
       "text": [
        "<IPython.core.display.Javascript at 0x10d1b21d0>"
       ]
      },
      {
       "javascript": [
        "$('div#51288b87-0eab-47dd-8e43-af61f8bb7b0f').width('35%')"
       ],
       "metadata": {},
       "output_type": "display_data",
       "text": [
        "<IPython.core.display.Javascript at 0x10d1b21d0>"
       ]
      },
      {
       "javascript": [
        "$('div#51288b87-0eab-47dd-8e43-af61f8bb7b0f').width('36%')"
       ],
       "metadata": {},
       "output_type": "display_data",
       "text": [
        "<IPython.core.display.Javascript at 0x10d1b21d0>"
       ]
      },
      {
       "javascript": [
        "$('div#51288b87-0eab-47dd-8e43-af61f8bb7b0f').width('37%')"
       ],
       "metadata": {},
       "output_type": "display_data",
       "text": [
        "<IPython.core.display.Javascript at 0x10d1b21d0>"
       ]
      },
      {
       "javascript": [
        "$('div#51288b87-0eab-47dd-8e43-af61f8bb7b0f').width('38%')"
       ],
       "metadata": {},
       "output_type": "display_data",
       "text": [
        "<IPython.core.display.Javascript at 0x10d1b21d0>"
       ]
      },
      {
       "javascript": [
        "$('div#51288b87-0eab-47dd-8e43-af61f8bb7b0f').width('39%')"
       ],
       "metadata": {},
       "output_type": "display_data",
       "text": [
        "<IPython.core.display.Javascript at 0x10d1b21d0>"
       ]
      },
      {
       "javascript": [
        "$('div#51288b87-0eab-47dd-8e43-af61f8bb7b0f').width('40%')"
       ],
       "metadata": {},
       "output_type": "display_data",
       "text": [
        "<IPython.core.display.Javascript at 0x10d1b21d0>"
       ]
      },
      {
       "javascript": [
        "$('div#51288b87-0eab-47dd-8e43-af61f8bb7b0f').width('41%')"
       ],
       "metadata": {},
       "output_type": "display_data",
       "text": [
        "<IPython.core.display.Javascript at 0x10d1b21d0>"
       ]
      },
      {
       "javascript": [
        "$('div#51288b87-0eab-47dd-8e43-af61f8bb7b0f').width('42%')"
       ],
       "metadata": {},
       "output_type": "display_data",
       "text": [
        "<IPython.core.display.Javascript at 0x10d1b21d0>"
       ]
      },
      {
       "javascript": [
        "$('div#51288b87-0eab-47dd-8e43-af61f8bb7b0f').width('43%')"
       ],
       "metadata": {},
       "output_type": "display_data",
       "text": [
        "<IPython.core.display.Javascript at 0x10d1b21d0>"
       ]
      },
      {
       "javascript": [
        "$('div#51288b87-0eab-47dd-8e43-af61f8bb7b0f').width('44%')"
       ],
       "metadata": {},
       "output_type": "display_data",
       "text": [
        "<IPython.core.display.Javascript at 0x10d1b21d0>"
       ]
      },
      {
       "javascript": [
        "$('div#51288b87-0eab-47dd-8e43-af61f8bb7b0f').width('45%')"
       ],
       "metadata": {},
       "output_type": "display_data",
       "text": [
        "<IPython.core.display.Javascript at 0x10d1b21d0>"
       ]
      },
      {
       "javascript": [
        "$('div#51288b87-0eab-47dd-8e43-af61f8bb7b0f').width('46%')"
       ],
       "metadata": {},
       "output_type": "display_data",
       "text": [
        "<IPython.core.display.Javascript at 0x10d1b21d0>"
       ]
      },
      {
       "javascript": [
        "$('div#51288b87-0eab-47dd-8e43-af61f8bb7b0f').width('47%')"
       ],
       "metadata": {},
       "output_type": "display_data",
       "text": [
        "<IPython.core.display.Javascript at 0x10d1b21d0>"
       ]
      },
      {
       "javascript": [
        "$('div#51288b87-0eab-47dd-8e43-af61f8bb7b0f').width('48%')"
       ],
       "metadata": {},
       "output_type": "display_data",
       "text": [
        "<IPython.core.display.Javascript at 0x10d1b21d0>"
       ]
      },
      {
       "javascript": [
        "$('div#51288b87-0eab-47dd-8e43-af61f8bb7b0f').width('49%')"
       ],
       "metadata": {},
       "output_type": "display_data",
       "text": [
        "<IPython.core.display.Javascript at 0x10d1b21d0>"
       ]
      },
      {
       "javascript": [
        "$('div#51288b87-0eab-47dd-8e43-af61f8bb7b0f').width('50%')"
       ],
       "metadata": {},
       "output_type": "display_data",
       "text": [
        "<IPython.core.display.Javascript at 0x10d1b21d0>"
       ]
      },
      {
       "javascript": [
        "$('div#51288b87-0eab-47dd-8e43-af61f8bb7b0f').width('51%')"
       ],
       "metadata": {},
       "output_type": "display_data",
       "text": [
        "<IPython.core.display.Javascript at 0x10d1b21d0>"
       ]
      },
      {
       "javascript": [
        "$('div#51288b87-0eab-47dd-8e43-af61f8bb7b0f').width('52%')"
       ],
       "metadata": {},
       "output_type": "display_data",
       "text": [
        "<IPython.core.display.Javascript at 0x10d1b21d0>"
       ]
      },
      {
       "javascript": [
        "$('div#51288b87-0eab-47dd-8e43-af61f8bb7b0f').width('53%')"
       ],
       "metadata": {},
       "output_type": "display_data",
       "text": [
        "<IPython.core.display.Javascript at 0x10d1b21d0>"
       ]
      },
      {
       "javascript": [
        "$('div#51288b87-0eab-47dd-8e43-af61f8bb7b0f').width('54%')"
       ],
       "metadata": {},
       "output_type": "display_data",
       "text": [
        "<IPython.core.display.Javascript at 0x10d1b21d0>"
       ]
      },
      {
       "javascript": [
        "$('div#51288b87-0eab-47dd-8e43-af61f8bb7b0f').width('55%')"
       ],
       "metadata": {},
       "output_type": "display_data",
       "text": [
        "<IPython.core.display.Javascript at 0x10d1b21d0>"
       ]
      },
      {
       "javascript": [
        "$('div#51288b87-0eab-47dd-8e43-af61f8bb7b0f').width('56%')"
       ],
       "metadata": {},
       "output_type": "display_data",
       "text": [
        "<IPython.core.display.Javascript at 0x10d1b21d0>"
       ]
      },
      {
       "javascript": [
        "$('div#51288b87-0eab-47dd-8e43-af61f8bb7b0f').width('57%')"
       ],
       "metadata": {},
       "output_type": "display_data",
       "text": [
        "<IPython.core.display.Javascript at 0x10d1b21d0>"
       ]
      },
      {
       "javascript": [
        "$('div#51288b87-0eab-47dd-8e43-af61f8bb7b0f').width('58%')"
       ],
       "metadata": {},
       "output_type": "display_data",
       "text": [
        "<IPython.core.display.Javascript at 0x10d1b21d0>"
       ]
      },
      {
       "javascript": [
        "$('div#51288b87-0eab-47dd-8e43-af61f8bb7b0f').width('59%')"
       ],
       "metadata": {},
       "output_type": "display_data",
       "text": [
        "<IPython.core.display.Javascript at 0x10d1b21d0>"
       ]
      },
      {
       "javascript": [
        "$('div#51288b87-0eab-47dd-8e43-af61f8bb7b0f').width('60%')"
       ],
       "metadata": {},
       "output_type": "display_data",
       "text": [
        "<IPython.core.display.Javascript at 0x10d1b21d0>"
       ]
      },
      {
       "javascript": [
        "$('div#51288b87-0eab-47dd-8e43-af61f8bb7b0f').width('61%')"
       ],
       "metadata": {},
       "output_type": "display_data",
       "text": [
        "<IPython.core.display.Javascript at 0x10d1b21d0>"
       ]
      },
      {
       "javascript": [
        "$('div#51288b87-0eab-47dd-8e43-af61f8bb7b0f').width('62%')"
       ],
       "metadata": {},
       "output_type": "display_data",
       "text": [
        "<IPython.core.display.Javascript at 0x10d1b21d0>"
       ]
      },
      {
       "javascript": [
        "$('div#51288b87-0eab-47dd-8e43-af61f8bb7b0f').width('63%')"
       ],
       "metadata": {},
       "output_type": "display_data",
       "text": [
        "<IPython.core.display.Javascript at 0x10d1b21d0>"
       ]
      },
      {
       "javascript": [
        "$('div#51288b87-0eab-47dd-8e43-af61f8bb7b0f').width('64%')"
       ],
       "metadata": {},
       "output_type": "display_data",
       "text": [
        "<IPython.core.display.Javascript at 0x10d1b21d0>"
       ]
      },
      {
       "javascript": [
        "$('div#51288b87-0eab-47dd-8e43-af61f8bb7b0f').width('65%')"
       ],
       "metadata": {},
       "output_type": "display_data",
       "text": [
        "<IPython.core.display.Javascript at 0x10d1b21d0>"
       ]
      },
      {
       "javascript": [
        "$('div#51288b87-0eab-47dd-8e43-af61f8bb7b0f').width('66%')"
       ],
       "metadata": {},
       "output_type": "display_data",
       "text": [
        "<IPython.core.display.Javascript at 0x10d1b21d0>"
       ]
      },
      {
       "javascript": [
        "$('div#51288b87-0eab-47dd-8e43-af61f8bb7b0f').width('67%')"
       ],
       "metadata": {},
       "output_type": "display_data",
       "text": [
        "<IPython.core.display.Javascript at 0x10d1b21d0>"
       ]
      },
      {
       "javascript": [
        "$('div#51288b87-0eab-47dd-8e43-af61f8bb7b0f').width('68%')"
       ],
       "metadata": {},
       "output_type": "display_data",
       "text": [
        "<IPython.core.display.Javascript at 0x10d1b21d0>"
       ]
      },
      {
       "javascript": [
        "$('div#51288b87-0eab-47dd-8e43-af61f8bb7b0f').width('69%')"
       ],
       "metadata": {},
       "output_type": "display_data",
       "text": [
        "<IPython.core.display.Javascript at 0x10d1b21d0>"
       ]
      },
      {
       "javascript": [
        "$('div#51288b87-0eab-47dd-8e43-af61f8bb7b0f').width('70%')"
       ],
       "metadata": {},
       "output_type": "display_data",
       "text": [
        "<IPython.core.display.Javascript at 0x10d1b21d0>"
       ]
      },
      {
       "javascript": [
        "$('div#51288b87-0eab-47dd-8e43-af61f8bb7b0f').width('71%')"
       ],
       "metadata": {},
       "output_type": "display_data",
       "text": [
        "<IPython.core.display.Javascript at 0x10d1b21d0>"
       ]
      },
      {
       "javascript": [
        "$('div#51288b87-0eab-47dd-8e43-af61f8bb7b0f').width('72%')"
       ],
       "metadata": {},
       "output_type": "display_data",
       "text": [
        "<IPython.core.display.Javascript at 0x10d1b21d0>"
       ]
      },
      {
       "javascript": [
        "$('div#51288b87-0eab-47dd-8e43-af61f8bb7b0f').width('73%')"
       ],
       "metadata": {},
       "output_type": "display_data",
       "text": [
        "<IPython.core.display.Javascript at 0x10d1b21d0>"
       ]
      },
      {
       "javascript": [
        "$('div#51288b87-0eab-47dd-8e43-af61f8bb7b0f').width('74%')"
       ],
       "metadata": {},
       "output_type": "display_data",
       "text": [
        "<IPython.core.display.Javascript at 0x10d1b21d0>"
       ]
      },
      {
       "javascript": [
        "$('div#51288b87-0eab-47dd-8e43-af61f8bb7b0f').width('75%')"
       ],
       "metadata": {},
       "output_type": "display_data",
       "text": [
        "<IPython.core.display.Javascript at 0x10d1b21d0>"
       ]
      },
      {
       "javascript": [
        "$('div#51288b87-0eab-47dd-8e43-af61f8bb7b0f').width('76%')"
       ],
       "metadata": {},
       "output_type": "display_data",
       "text": [
        "<IPython.core.display.Javascript at 0x10d1b21d0>"
       ]
      },
      {
       "javascript": [
        "$('div#51288b87-0eab-47dd-8e43-af61f8bb7b0f').width('77%')"
       ],
       "metadata": {},
       "output_type": "display_data",
       "text": [
        "<IPython.core.display.Javascript at 0x10d1b21d0>"
       ]
      },
      {
       "javascript": [
        "$('div#51288b87-0eab-47dd-8e43-af61f8bb7b0f').width('78%')"
       ],
       "metadata": {},
       "output_type": "display_data",
       "text": [
        "<IPython.core.display.Javascript at 0x10d1b21d0>"
       ]
      },
      {
       "javascript": [
        "$('div#51288b87-0eab-47dd-8e43-af61f8bb7b0f').width('79%')"
       ],
       "metadata": {},
       "output_type": "display_data",
       "text": [
        "<IPython.core.display.Javascript at 0x10d1b21d0>"
       ]
      },
      {
       "javascript": [
        "$('div#51288b87-0eab-47dd-8e43-af61f8bb7b0f').width('80%')"
       ],
       "metadata": {},
       "output_type": "display_data",
       "text": [
        "<IPython.core.display.Javascript at 0x10d1b21d0>"
       ]
      },
      {
       "javascript": [
        "$('div#51288b87-0eab-47dd-8e43-af61f8bb7b0f').width('81%')"
       ],
       "metadata": {},
       "output_type": "display_data",
       "text": [
        "<IPython.core.display.Javascript at 0x10d1b21d0>"
       ]
      },
      {
       "javascript": [
        "$('div#51288b87-0eab-47dd-8e43-af61f8bb7b0f').width('82%')"
       ],
       "metadata": {},
       "output_type": "display_data",
       "text": [
        "<IPython.core.display.Javascript at 0x10d1b21d0>"
       ]
      },
      {
       "javascript": [
        "$('div#51288b87-0eab-47dd-8e43-af61f8bb7b0f').width('83%')"
       ],
       "metadata": {},
       "output_type": "display_data",
       "text": [
        "<IPython.core.display.Javascript at 0x10d1b21d0>"
       ]
      },
      {
       "javascript": [
        "$('div#51288b87-0eab-47dd-8e43-af61f8bb7b0f').width('84%')"
       ],
       "metadata": {},
       "output_type": "display_data",
       "text": [
        "<IPython.core.display.Javascript at 0x10d1b21d0>"
       ]
      },
      {
       "javascript": [
        "$('div#51288b87-0eab-47dd-8e43-af61f8bb7b0f').width('85%')"
       ],
       "metadata": {},
       "output_type": "display_data",
       "text": [
        "<IPython.core.display.Javascript at 0x10d1b21d0>"
       ]
      },
      {
       "javascript": [
        "$('div#51288b87-0eab-47dd-8e43-af61f8bb7b0f').width('86%')"
       ],
       "metadata": {},
       "output_type": "display_data",
       "text": [
        "<IPython.core.display.Javascript at 0x10d1b21d0>"
       ]
      },
      {
       "javascript": [
        "$('div#51288b87-0eab-47dd-8e43-af61f8bb7b0f').width('87%')"
       ],
       "metadata": {},
       "output_type": "display_data",
       "text": [
        "<IPython.core.display.Javascript at 0x10d1b21d0>"
       ]
      },
      {
       "javascript": [
        "$('div#51288b87-0eab-47dd-8e43-af61f8bb7b0f').width('88%')"
       ],
       "metadata": {},
       "output_type": "display_data",
       "text": [
        "<IPython.core.display.Javascript at 0x10d1b21d0>"
       ]
      },
      {
       "javascript": [
        "$('div#51288b87-0eab-47dd-8e43-af61f8bb7b0f').width('89%')"
       ],
       "metadata": {},
       "output_type": "display_data",
       "text": [
        "<IPython.core.display.Javascript at 0x10d1b21d0>"
       ]
      },
      {
       "javascript": [
        "$('div#51288b87-0eab-47dd-8e43-af61f8bb7b0f').width('90%')"
       ],
       "metadata": {},
       "output_type": "display_data",
       "text": [
        "<IPython.core.display.Javascript at 0x10d1b21d0>"
       ]
      },
      {
       "javascript": [
        "$('div#51288b87-0eab-47dd-8e43-af61f8bb7b0f').width('91%')"
       ],
       "metadata": {},
       "output_type": "display_data",
       "text": [
        "<IPython.core.display.Javascript at 0x10d1b21d0>"
       ]
      },
      {
       "javascript": [
        "$('div#51288b87-0eab-47dd-8e43-af61f8bb7b0f').width('92%')"
       ],
       "metadata": {},
       "output_type": "display_data",
       "text": [
        "<IPython.core.display.Javascript at 0x10d1b21d0>"
       ]
      },
      {
       "javascript": [
        "$('div#51288b87-0eab-47dd-8e43-af61f8bb7b0f').width('93%')"
       ],
       "metadata": {},
       "output_type": "display_data",
       "text": [
        "<IPython.core.display.Javascript at 0x10d1b21d0>"
       ]
      },
      {
       "javascript": [
        "$('div#51288b87-0eab-47dd-8e43-af61f8bb7b0f').width('94%')"
       ],
       "metadata": {},
       "output_type": "display_data",
       "text": [
        "<IPython.core.display.Javascript at 0x10d1b21d0>"
       ]
      },
      {
       "javascript": [
        "$('div#51288b87-0eab-47dd-8e43-af61f8bb7b0f').width('95%')"
       ],
       "metadata": {},
       "output_type": "display_data",
       "text": [
        "<IPython.core.display.Javascript at 0x10d1b21d0>"
       ]
      },
      {
       "javascript": [
        "$('div#51288b87-0eab-47dd-8e43-af61f8bb7b0f').width('96%')"
       ],
       "metadata": {},
       "output_type": "display_data",
       "text": [
        "<IPython.core.display.Javascript at 0x10d1b21d0>"
       ]
      },
      {
       "javascript": [
        "$('div#51288b87-0eab-47dd-8e43-af61f8bb7b0f').width('97%')"
       ],
       "metadata": {},
       "output_type": "display_data",
       "text": [
        "<IPython.core.display.Javascript at 0x10d1b21d0>"
       ]
      },
      {
       "javascript": [
        "$('div#51288b87-0eab-47dd-8e43-af61f8bb7b0f').width('98%')"
       ],
       "metadata": {},
       "output_type": "display_data",
       "text": [
        "<IPython.core.display.Javascript at 0x10d1b21d0>"
       ]
      },
      {
       "javascript": [
        "$('div#51288b87-0eab-47dd-8e43-af61f8bb7b0f').width('99%')"
       ],
       "metadata": {},
       "output_type": "display_data",
       "text": [
        "<IPython.core.display.Javascript at 0x10d1b21d0>"
       ]
      },
      {
       "javascript": [
        "$('div#51288b87-0eab-47dd-8e43-af61f8bb7b0f').width('100%')"
       ],
       "metadata": {},
       "output_type": "display_data",
       "text": [
        "<IPython.core.display.Javascript at 0x10d1b21d0>"
       ]
      },
      {
       "metadata": {},
       "output_type": "display_data",
       "png": "[encoded data removed]",
       "text": [
        "<matplotlib.figure.Figure at 0x10d1b2090>"
       ]
      }
     ],
     "prompt_number": 22
    },
    {
     "cell_type": "code",
     "collapsed": false,
     "input": [
      "# Sample with method 3\n",
      "sampler.set_node_sampling_method_manual('x',method3)\n",
      "graph.set_node_value('x',numpy.ones((1,N_dim)) ) \n",
      "sampler.tracer.reset_trace()\n",
      "sampler.sample_x()\n",
      "\n",
      "sampler.tracer.display.plot_histogram(0,range_plot=[-10,10],subplot=[1,2,1])\n",
      "sampler.tracer.display.plot_histogram(1,range_plot=[-10,10],subplot=[1,2,1])\n",
      "sampler.tracer.display.plot_histogram_bivariate(0,1,range_plot=[[-10,10],[-10,10]],subplot=[1,2,2])"
     ],
     "language": "python",
     "metadata": {},
     "outputs": [
      {
       "html": [
        "\n",
        "        <div style=\"border: 1px solid white; width:100%%; height:6px; background-color:rgb(246,228,200)\">\n",
        "            <div id=\"6f906fcc-fd03-4418-9e04-3e103f896fbd\" style=\"background-color:rgb(246,128,47); width:0%; height:6px\"> </div>\n",
        "        </div> \n",
        "        "
       ],
       "metadata": {},
       "output_type": "display_data",
       "text": [
        "<IPython.core.display.HTML at 0x10d515c10>"
       ]
      },
      {
       "javascript": [
        "$('div#6f906fcc-fd03-4418-9e04-3e103f896fbd').width('1%')"
       ],
       "metadata": {},
       "output_type": "display_data",
       "text": [
        "<IPython.core.display.Javascript at 0x10d515cd0>"
       ]
      },
      {
       "javascript": [
        "$('div#6f906fcc-fd03-4418-9e04-3e103f896fbd').width('100%')"
       ],
       "metadata": {},
       "output_type": "display_data",
       "text": [
        "<IPython.core.display.Javascript at 0x10d515b90>"
       ]
      },
      {
       "metadata": {},
       "output_type": "display_data",
       "png": "[encoded data removed]",
       "text": [
        "<matplotlib.figure.Figure at 0x10d515d50>"
       ]
      }
     ],
     "prompt_number": 23
    },
    {
     "cell_type": "code",
     "collapsed": false,
     "input": [
      "# Sample method 4\n",
      "sampler.set_node_sampling_method_manual('x',method4)\n",
      "graph.set_node_value('x',numpy.ones((1,N_dim)) ) \n",
      "sampler.tracer.reset_trace()\n",
      "sampler.sample_x(N_samples)\n",
      "\n",
      "sampler.tracer.display.plot_histogram(0,range_plot=[-10,10],subplot=[1,2,1])\n",
      "sampler.tracer.display.plot_histogram(1,range_plot=[-10,10],subplot=[1,2,1])\n",
      "sampler.tracer.display.plot_histogram_bivariate(0,1,range_plot=[[-10,10],[-10,10]],subplot=[1,2,2])"
     ],
     "language": "python",
     "metadata": {},
     "outputs": [
      {
       "html": [
        "\n",
        "        <div style=\"border: 1px solid white; width:100%%; height:6px; background-color:rgb(246,228,200)\">\n",
        "            <div id=\"ce9c5efe-eb61-485b-9516-bb0256035736\" style=\"background-color:rgb(246,128,47); width:0%; height:6px\"> </div>\n",
        "        </div> \n",
        "        "
       ],
       "metadata": {},
       "output_type": "display_data",
       "text": [
        "<IPython.core.display.HTML at 0x10c54f590>"
       ]
      },
      {
       "javascript": [
        "$('div#ce9c5efe-eb61-485b-9516-bb0256035736').width('1%')"
       ],
       "metadata": {},
       "output_type": "display_data",
       "text": [
        "<IPython.core.display.Javascript at 0x10c54fc90>"
       ]
      },
      {
       "javascript": [
        "$('div#ce9c5efe-eb61-485b-9516-bb0256035736').width('2%')"
       ],
       "metadata": {},
       "output_type": "display_data",
       "text": [
        "<IPython.core.display.Javascript at 0x10c54fc90>"
       ]
      },
      {
       "javascript": [
        "$('div#ce9c5efe-eb61-485b-9516-bb0256035736').width('3%')"
       ],
       "metadata": {},
       "output_type": "display_data",
       "text": [
        "<IPython.core.display.Javascript at 0x10c54fc90>"
       ]
      },
      {
       "javascript": [
        "$('div#ce9c5efe-eb61-485b-9516-bb0256035736').width('4%')"
       ],
       "metadata": {},
       "output_type": "display_data",
       "text": [
        "<IPython.core.display.Javascript at 0x10c54fc90>"
       ]
      },
      {
       "javascript": [
        "$('div#ce9c5efe-eb61-485b-9516-bb0256035736').width('5%')"
       ],
       "metadata": {},
       "output_type": "display_data",
       "text": [
        "<IPython.core.display.Javascript at 0x10c54fc90>"
       ]
      },
      {
       "javascript": [
        "$('div#ce9c5efe-eb61-485b-9516-bb0256035736').width('6%')"
       ],
       "metadata": {},
       "output_type": "display_data",
       "text": [
        "<IPython.core.display.Javascript at 0x10c54fc90>"
       ]
      },
      {
       "javascript": [
        "$('div#ce9c5efe-eb61-485b-9516-bb0256035736').width('7%')"
       ],
       "metadata": {},
       "output_type": "display_data",
       "text": [
        "<IPython.core.display.Javascript at 0x10c54fc90>"
       ]
      },
      {
       "javascript": [
        "$('div#ce9c5efe-eb61-485b-9516-bb0256035736').width('8%')"
       ],
       "metadata": {},
       "output_type": "display_data",
       "text": [
        "<IPython.core.display.Javascript at 0x10c54fc90>"
       ]
      },
      {
       "javascript": [
        "$('div#ce9c5efe-eb61-485b-9516-bb0256035736').width('9%')"
       ],
       "metadata": {},
       "output_type": "display_data",
       "text": [
        "<IPython.core.display.Javascript at 0x10c54fc90>"
       ]
      },
      {
       "javascript": [
        "$('div#ce9c5efe-eb61-485b-9516-bb0256035736').width('10%')"
       ],
       "metadata": {},
       "output_type": "display_data",
       "text": [
        "<IPython.core.display.Javascript at 0x10c54fc90>"
       ]
      },
      {
       "javascript": [
        "$('div#ce9c5efe-eb61-485b-9516-bb0256035736').width('11%')"
       ],
       "metadata": {},
       "output_type": "display_data",
       "text": [
        "<IPython.core.display.Javascript at 0x10c54fc90>"
       ]
      },
      {
       "javascript": [
        "$('div#ce9c5efe-eb61-485b-9516-bb0256035736').width('12%')"
       ],
       "metadata": {},
       "output_type": "display_data",
       "text": [
        "<IPython.core.display.Javascript at 0x10c54fc90>"
       ]
      },
      {
       "javascript": [
        "$('div#ce9c5efe-eb61-485b-9516-bb0256035736').width('13%')"
       ],
       "metadata": {},
       "output_type": "display_data",
       "text": [
        "<IPython.core.display.Javascript at 0x10c54fc90>"
       ]
      },
      {
       "javascript": [
        "$('div#ce9c5efe-eb61-485b-9516-bb0256035736').width('14%')"
       ],
       "metadata": {},
       "output_type": "display_data",
       "text": [
        "<IPython.core.display.Javascript at 0x10c54fc90>"
       ]
      },
      {
       "javascript": [
        "$('div#ce9c5efe-eb61-485b-9516-bb0256035736').width('15%')"
       ],
       "metadata": {},
       "output_type": "display_data",
       "text": [
        "<IPython.core.display.Javascript at 0x10c54fc90>"
       ]
      },
      {
       "javascript": [
        "$('div#ce9c5efe-eb61-485b-9516-bb0256035736').width('16%')"
       ],
       "metadata": {},
       "output_type": "display_data",
       "text": [
        "<IPython.core.display.Javascript at 0x10c54fc90>"
       ]
      },
      {
       "javascript": [
        "$('div#ce9c5efe-eb61-485b-9516-bb0256035736').width('17%')"
       ],
       "metadata": {},
       "output_type": "display_data",
       "text": [
        "<IPython.core.display.Javascript at 0x10c54fc90>"
       ]
      },
      {
       "javascript": [
        "$('div#ce9c5efe-eb61-485b-9516-bb0256035736').width('18%')"
       ],
       "metadata": {},
       "output_type": "display_data",
       "text": [
        "<IPython.core.display.Javascript at 0x10c54fc90>"
       ]
      },
      {
       "javascript": [
        "$('div#ce9c5efe-eb61-485b-9516-bb0256035736').width('19%')"
       ],
       "metadata": {},
       "output_type": "display_data",
       "text": [
        "<IPython.core.display.Javascript at 0x10c54fc90>"
       ]
      },
      {
       "javascript": [
        "$('div#ce9c5efe-eb61-485b-9516-bb0256035736').width('20%')"
       ],
       "metadata": {},
       "output_type": "display_data",
       "text": [
        "<IPython.core.display.Javascript at 0x10c54fc90>"
       ]
      },
      {
       "javascript": [
        "$('div#ce9c5efe-eb61-485b-9516-bb0256035736').width('21%')"
       ],
       "metadata": {},
       "output_type": "display_data",
       "text": [
        "<IPython.core.display.Javascript at 0x10c54fc90>"
       ]
      },
      {
       "javascript": [
        "$('div#ce9c5efe-eb61-485b-9516-bb0256035736').width('22%')"
       ],
       "metadata": {},
       "output_type": "display_data",
       "text": [
        "<IPython.core.display.Javascript at 0x10c54fc90>"
       ]
      },
      {
       "javascript": [
        "$('div#ce9c5efe-eb61-485b-9516-bb0256035736').width('23%')"
       ],
       "metadata": {},
       "output_type": "display_data",
       "text": [
        "<IPython.core.display.Javascript at 0x10c54fc90>"
       ]
      },
      {
       "javascript": [
        "$('div#ce9c5efe-eb61-485b-9516-bb0256035736').width('24%')"
       ],
       "metadata": {},
       "output_type": "display_data",
       "text": [
        "<IPython.core.display.Javascript at 0x10c54fc90>"
       ]
      },
      {
       "javascript": [
        "$('div#ce9c5efe-eb61-485b-9516-bb0256035736').width('25%')"
       ],
       "metadata": {},
       "output_type": "display_data",
       "text": [
        "<IPython.core.display.Javascript at 0x10c54fc90>"
       ]
      },
      {
       "javascript": [
        "$('div#ce9c5efe-eb61-485b-9516-bb0256035736').width('26%')"
       ],
       "metadata": {},
       "output_type": "display_data",
       "text": [
        "<IPython.core.display.Javascript at 0x10c54fc90>"
       ]
      },
      {
       "javascript": [
        "$('div#ce9c5efe-eb61-485b-9516-bb0256035736').width('27%')"
       ],
       "metadata": {},
       "output_type": "display_data",
       "text": [
        "<IPython.core.display.Javascript at 0x10c54fc90>"
       ]
      },
      {
       "javascript": [
        "$('div#ce9c5efe-eb61-485b-9516-bb0256035736').width('28%')"
       ],
       "metadata": {},
       "output_type": "display_data",
       "text": [
        "<IPython.core.display.Javascript at 0x10c54fc90>"
       ]
      },
      {
       "javascript": [
        "$('div#ce9c5efe-eb61-485b-9516-bb0256035736').width('29%')"
       ],
       "metadata": {},
       "output_type": "display_data",
       "text": [
        "<IPython.core.display.Javascript at 0x10c54fc90>"
       ]
      },
      {
       "javascript": [
        "$('div#ce9c5efe-eb61-485b-9516-bb0256035736').width('30%')"
       ],
       "metadata": {},
       "output_type": "display_data",
       "text": [
        "<IPython.core.display.Javascript at 0x10c54fc90>"
       ]
      },
      {
       "javascript": [
        "$('div#ce9c5efe-eb61-485b-9516-bb0256035736').width('31%')"
       ],
       "metadata": {},
       "output_type": "display_data",
       "text": [
        "<IPython.core.display.Javascript at 0x10c54fc90>"
       ]
      },
      {
       "javascript": [
        "$('div#ce9c5efe-eb61-485b-9516-bb0256035736').width('32%')"
       ],
       "metadata": {},
       "output_type": "display_data",
       "text": [
        "<IPython.core.display.Javascript at 0x10c54fc90>"
       ]
      },
      {
       "javascript": [
        "$('div#ce9c5efe-eb61-485b-9516-bb0256035736').width('33%')"
       ],
       "metadata": {},
       "output_type": "display_data",
       "text": [
        "<IPython.core.display.Javascript at 0x10c54fc90>"
       ]
      },
      {
       "javascript": [
        "$('div#ce9c5efe-eb61-485b-9516-bb0256035736').width('34%')"
       ],
       "metadata": {},
       "output_type": "display_data",
       "text": [
        "<IPython.core.display.Javascript at 0x10c54fc90>"
       ]
      },
      {
       "javascript": [
        "$('div#ce9c5efe-eb61-485b-9516-bb0256035736').width('35%')"
       ],
       "metadata": {},
       "output_type": "display_data",
       "text": [
        "<IPython.core.display.Javascript at 0x10c54fc90>"
       ]
      },
      {
       "javascript": [
        "$('div#ce9c5efe-eb61-485b-9516-bb0256035736').width('36%')"
       ],
       "metadata": {},
       "output_type": "display_data",
       "text": [
        "<IPython.core.display.Javascript at 0x10c54fc90>"
       ]
      },
      {
       "javascript": [
        "$('div#ce9c5efe-eb61-485b-9516-bb0256035736').width('37%')"
       ],
       "metadata": {},
       "output_type": "display_data",
       "text": [
        "<IPython.core.display.Javascript at 0x10c54fc90>"
       ]
      },
      {
       "javascript": [
        "$('div#ce9c5efe-eb61-485b-9516-bb0256035736').width('38%')"
       ],
       "metadata": {},
       "output_type": "display_data",
       "text": [
        "<IPython.core.display.Javascript at 0x10c54fc90>"
       ]
      },
      {
       "javascript": [
        "$('div#ce9c5efe-eb61-485b-9516-bb0256035736').width('39%')"
       ],
       "metadata": {},
       "output_type": "display_data",
       "text": [
        "<IPython.core.display.Javascript at 0x10c54fc90>"
       ]
      },
      {
       "javascript": [
        "$('div#ce9c5efe-eb61-485b-9516-bb0256035736').width('40%')"
       ],
       "metadata": {},
       "output_type": "display_data",
       "text": [
        "<IPython.core.display.Javascript at 0x10c54fc90>"
       ]
      },
      {
       "javascript": [
        "$('div#ce9c5efe-eb61-485b-9516-bb0256035736').width('41%')"
       ],
       "metadata": {},
       "output_type": "display_data",
       "text": [
        "<IPython.core.display.Javascript at 0x10c54fc90>"
       ]
      },
      {
       "javascript": [
        "$('div#ce9c5efe-eb61-485b-9516-bb0256035736').width('42%')"
       ],
       "metadata": {},
       "output_type": "display_data",
       "text": [
        "<IPython.core.display.Javascript at 0x10c54fc90>"
       ]
      },
      {
       "javascript": [
        "$('div#ce9c5efe-eb61-485b-9516-bb0256035736').width('43%')"
       ],
       "metadata": {},
       "output_type": "display_data",
       "text": [
        "<IPython.core.display.Javascript at 0x10c54fc90>"
       ]
      },
      {
       "javascript": [
        "$('div#ce9c5efe-eb61-485b-9516-bb0256035736').width('44%')"
       ],
       "metadata": {},
       "output_type": "display_data",
       "text": [
        "<IPython.core.display.Javascript at 0x10c54fc90>"
       ]
      },
      {
       "javascript": [
        "$('div#ce9c5efe-eb61-485b-9516-bb0256035736').width('45%')"
       ],
       "metadata": {},
       "output_type": "display_data",
       "text": [
        "<IPython.core.display.Javascript at 0x10c54fc90>"
       ]
      },
      {
       "javascript": [
        "$('div#ce9c5efe-eb61-485b-9516-bb0256035736').width('46%')"
       ],
       "metadata": {},
       "output_type": "display_data",
       "text": [
        "<IPython.core.display.Javascript at 0x10c54fc90>"
       ]
      },
      {
       "javascript": [
        "$('div#ce9c5efe-eb61-485b-9516-bb0256035736').width('47%')"
       ],
       "metadata": {},
       "output_type": "display_data",
       "text": [
        "<IPython.core.display.Javascript at 0x10c54fc90>"
       ]
      },
      {
       "javascript": [
        "$('div#ce9c5efe-eb61-485b-9516-bb0256035736').width('48%')"
       ],
       "metadata": {},
       "output_type": "display_data",
       "text": [
        "<IPython.core.display.Javascript at 0x10c54fc90>"
       ]
      },
      {
       "javascript": [
        "$('div#ce9c5efe-eb61-485b-9516-bb0256035736').width('49%')"
       ],
       "metadata": {},
       "output_type": "display_data",
       "text": [
        "<IPython.core.display.Javascript at 0x10c54fc90>"
       ]
      },
      {
       "javascript": [
        "$('div#ce9c5efe-eb61-485b-9516-bb0256035736').width('50%')"
       ],
       "metadata": {},
       "output_type": "display_data",
       "text": [
        "<IPython.core.display.Javascript at 0x10c54fc90>"
       ]
      },
      {
       "javascript": [
        "$('div#ce9c5efe-eb61-485b-9516-bb0256035736').width('51%')"
       ],
       "metadata": {},
       "output_type": "display_data",
       "text": [
        "<IPython.core.display.Javascript at 0x10c54fc90>"
       ]
      },
      {
       "javascript": [
        "$('div#ce9c5efe-eb61-485b-9516-bb0256035736').width('52%')"
       ],
       "metadata": {},
       "output_type": "display_data",
       "text": [
        "<IPython.core.display.Javascript at 0x10c54fc90>"
       ]
      },
      {
       "javascript": [
        "$('div#ce9c5efe-eb61-485b-9516-bb0256035736').width('53%')"
       ],
       "metadata": {},
       "output_type": "display_data",
       "text": [
        "<IPython.core.display.Javascript at 0x10c54fc90>"
       ]
      },
      {
       "javascript": [
        "$('div#ce9c5efe-eb61-485b-9516-bb0256035736').width('54%')"
       ],
       "metadata": {},
       "output_type": "display_data",
       "text": [
        "<IPython.core.display.Javascript at 0x10c54fc90>"
       ]
      },
      {
       "javascript": [
        "$('div#ce9c5efe-eb61-485b-9516-bb0256035736').width('55%')"
       ],
       "metadata": {},
       "output_type": "display_data",
       "text": [
        "<IPython.core.display.Javascript at 0x10c54fc90>"
       ]
      },
      {
       "javascript": [
        "$('div#ce9c5efe-eb61-485b-9516-bb0256035736').width('56%')"
       ],
       "metadata": {},
       "output_type": "display_data",
       "text": [
        "<IPython.core.display.Javascript at 0x10c54fc90>"
       ]
      },
      {
       "javascript": [
        "$('div#ce9c5efe-eb61-485b-9516-bb0256035736').width('57%')"
       ],
       "metadata": {},
       "output_type": "display_data",
       "text": [
        "<IPython.core.display.Javascript at 0x10c54fc90>"
       ]
      },
      {
       "javascript": [
        "$('div#ce9c5efe-eb61-485b-9516-bb0256035736').width('58%')"
       ],
       "metadata": {},
       "output_type": "display_data",
       "text": [
        "<IPython.core.display.Javascript at 0x10c54fc90>"
       ]
      },
      {
       "javascript": [
        "$('div#ce9c5efe-eb61-485b-9516-bb0256035736').width('59%')"
       ],
       "metadata": {},
       "output_type": "display_data",
       "text": [
        "<IPython.core.display.Javascript at 0x10c54fc90>"
       ]
      },
      {
       "javascript": [
        "$('div#ce9c5efe-eb61-485b-9516-bb0256035736').width('60%')"
       ],
       "metadata": {},
       "output_type": "display_data",
       "text": [
        "<IPython.core.display.Javascript at 0x10c54fc90>"
       ]
      },
      {
       "javascript": [
        "$('div#ce9c5efe-eb61-485b-9516-bb0256035736').width('61%')"
       ],
       "metadata": {},
       "output_type": "display_data",
       "text": [
        "<IPython.core.display.Javascript at 0x10c54fc90>"
       ]
      },
      {
       "javascript": [
        "$('div#ce9c5efe-eb61-485b-9516-bb0256035736').width('62%')"
       ],
       "metadata": {},
       "output_type": "display_data",
       "text": [
        "<IPython.core.display.Javascript at 0x10c54fc90>"
       ]
      },
      {
       "javascript": [
        "$('div#ce9c5efe-eb61-485b-9516-bb0256035736').width('63%')"
       ],
       "metadata": {},
       "output_type": "display_data",
       "text": [
        "<IPython.core.display.Javascript at 0x10c54fc90>"
       ]
      },
      {
       "javascript": [
        "$('div#ce9c5efe-eb61-485b-9516-bb0256035736').width('64%')"
       ],
       "metadata": {},
       "output_type": "display_data",
       "text": [
        "<IPython.core.display.Javascript at 0x10c54fc90>"
       ]
      },
      {
       "javascript": [
        "$('div#ce9c5efe-eb61-485b-9516-bb0256035736').width('65%')"
       ],
       "metadata": {},
       "output_type": "display_data",
       "text": [
        "<IPython.core.display.Javascript at 0x10c54fc90>"
       ]
      },
      {
       "javascript": [
        "$('div#ce9c5efe-eb61-485b-9516-bb0256035736').width('66%')"
       ],
       "metadata": {},
       "output_type": "display_data",
       "text": [
        "<IPython.core.display.Javascript at 0x10c54fc90>"
       ]
      },
      {
       "javascript": [
        "$('div#ce9c5efe-eb61-485b-9516-bb0256035736').width('67%')"
       ],
       "metadata": {},
       "output_type": "display_data",
       "text": [
        "<IPython.core.display.Javascript at 0x10c54fc90>"
       ]
      },
      {
       "javascript": [
        "$('div#ce9c5efe-eb61-485b-9516-bb0256035736').width('68%')"
       ],
       "metadata": {},
       "output_type": "display_data",
       "text": [
        "<IPython.core.display.Javascript at 0x10c54fc90>"
       ]
      },
      {
       "javascript": [
        "$('div#ce9c5efe-eb61-485b-9516-bb0256035736').width('69%')"
       ],
       "metadata": {},
       "output_type": "display_data",
       "text": [
        "<IPython.core.display.Javascript at 0x10c54fc90>"
       ]
      },
      {
       "javascript": [
        "$('div#ce9c5efe-eb61-485b-9516-bb0256035736').width('70%')"
       ],
       "metadata": {},
       "output_type": "display_data",
       "text": [
        "<IPython.core.display.Javascript at 0x10c54fc90>"
       ]
      },
      {
       "javascript": [
        "$('div#ce9c5efe-eb61-485b-9516-bb0256035736').width('71%')"
       ],
       "metadata": {},
       "output_type": "display_data",
       "text": [
        "<IPython.core.display.Javascript at 0x10c54fc90>"
       ]
      },
      {
       "javascript": [
        "$('div#ce9c5efe-eb61-485b-9516-bb0256035736').width('72%')"
       ],
       "metadata": {},
       "output_type": "display_data",
       "text": [
        "<IPython.core.display.Javascript at 0x10c54fc90>"
       ]
      },
      {
       "javascript": [
        "$('div#ce9c5efe-eb61-485b-9516-bb0256035736').width('73%')"
       ],
       "metadata": {},
       "output_type": "display_data",
       "text": [
        "<IPython.core.display.Javascript at 0x10c54fc90>"
       ]
      },
      {
       "javascript": [
        "$('div#ce9c5efe-eb61-485b-9516-bb0256035736').width('74%')"
       ],
       "metadata": {},
       "output_type": "display_data",
       "text": [
        "<IPython.core.display.Javascript at 0x10c54fc90>"
       ]
      },
      {
       "javascript": [
        "$('div#ce9c5efe-eb61-485b-9516-bb0256035736').width('75%')"
       ],
       "metadata": {},
       "output_type": "display_data",
       "text": [
        "<IPython.core.display.Javascript at 0x10c54fc90>"
       ]
      },
      {
       "javascript": [
        "$('div#ce9c5efe-eb61-485b-9516-bb0256035736').width('76%')"
       ],
       "metadata": {},
       "output_type": "display_data",
       "text": [
        "<IPython.core.display.Javascript at 0x10c54fc90>"
       ]
      },
      {
       "javascript": [
        "$('div#ce9c5efe-eb61-485b-9516-bb0256035736').width('77%')"
       ],
       "metadata": {},
       "output_type": "display_data",
       "text": [
        "<IPython.core.display.Javascript at 0x10c54fc90>"
       ]
      },
      {
       "javascript": [
        "$('div#ce9c5efe-eb61-485b-9516-bb0256035736').width('78%')"
       ],
       "metadata": {},
       "output_type": "display_data",
       "text": [
        "<IPython.core.display.Javascript at 0x10c54fc90>"
       ]
      },
      {
       "javascript": [
        "$('div#ce9c5efe-eb61-485b-9516-bb0256035736').width('79%')"
       ],
       "metadata": {},
       "output_type": "display_data",
       "text": [
        "<IPython.core.display.Javascript at 0x10c54fc90>"
       ]
      },
      {
       "javascript": [
        "$('div#ce9c5efe-eb61-485b-9516-bb0256035736').width('80%')"
       ],
       "metadata": {},
       "output_type": "display_data",
       "text": [
        "<IPython.core.display.Javascript at 0x10c54fc90>"
       ]
      },
      {
       "javascript": [
        "$('div#ce9c5efe-eb61-485b-9516-bb0256035736').width('81%')"
       ],
       "metadata": {},
       "output_type": "display_data",
       "text": [
        "<IPython.core.display.Javascript at 0x10c54fc90>"
       ]
      },
      {
       "javascript": [
        "$('div#ce9c5efe-eb61-485b-9516-bb0256035736').width('82%')"
       ],
       "metadata": {},
       "output_type": "display_data",
       "text": [
        "<IPython.core.display.Javascript at 0x10c54fc90>"
       ]
      },
      {
       "javascript": [
        "$('div#ce9c5efe-eb61-485b-9516-bb0256035736').width('83%')"
       ],
       "metadata": {},
       "output_type": "display_data",
       "text": [
        "<IPython.core.display.Javascript at 0x10c54fc90>"
       ]
      },
      {
       "javascript": [
        "$('div#ce9c5efe-eb61-485b-9516-bb0256035736').width('84%')"
       ],
       "metadata": {},
       "output_type": "display_data",
       "text": [
        "<IPython.core.display.Javascript at 0x10c54fc90>"
       ]
      },
      {
       "javascript": [
        "$('div#ce9c5efe-eb61-485b-9516-bb0256035736').width('85%')"
       ],
       "metadata": {},
       "output_type": "display_data",
       "text": [
        "<IPython.core.display.Javascript at 0x10c54fc90>"
       ]
      },
      {
       "javascript": [
        "$('div#ce9c5efe-eb61-485b-9516-bb0256035736').width('86%')"
       ],
       "metadata": {},
       "output_type": "display_data",
       "text": [
        "<IPython.core.display.Javascript at 0x10c54fc90>"
       ]
      },
      {
       "javascript": [
        "$('div#ce9c5efe-eb61-485b-9516-bb0256035736').width('87%')"
       ],
       "metadata": {},
       "output_type": "display_data",
       "text": [
        "<IPython.core.display.Javascript at 0x10c54fc90>"
       ]
      },
      {
       "javascript": [
        "$('div#ce9c5efe-eb61-485b-9516-bb0256035736').width('88%')"
       ],
       "metadata": {},
       "output_type": "display_data",
       "text": [
        "<IPython.core.display.Javascript at 0x10c54fc90>"
       ]
      },
      {
       "javascript": [
        "$('div#ce9c5efe-eb61-485b-9516-bb0256035736').width('89%')"
       ],
       "metadata": {},
       "output_type": "display_data",
       "text": [
        "<IPython.core.display.Javascript at 0x10c54fc90>"
       ]
      },
      {
       "javascript": [
        "$('div#ce9c5efe-eb61-485b-9516-bb0256035736').width('90%')"
       ],
       "metadata": {},
       "output_type": "display_data",
       "text": [
        "<IPython.core.display.Javascript at 0x10c54fc90>"
       ]
      },
      {
       "javascript": [
        "$('div#ce9c5efe-eb61-485b-9516-bb0256035736').width('91%')"
       ],
       "metadata": {},
       "output_type": "display_data",
       "text": [
        "<IPython.core.display.Javascript at 0x10c54fc90>"
       ]
      },
      {
       "javascript": [
        "$('div#ce9c5efe-eb61-485b-9516-bb0256035736').width('92%')"
       ],
       "metadata": {},
       "output_type": "display_data",
       "text": [
        "<IPython.core.display.Javascript at 0x10c54fc90>"
       ]
      },
      {
       "javascript": [
        "$('div#ce9c5efe-eb61-485b-9516-bb0256035736').width('93%')"
       ],
       "metadata": {},
       "output_type": "display_data",
       "text": [
        "<IPython.core.display.Javascript at 0x10c54fc90>"
       ]
      },
      {
       "javascript": [
        "$('div#ce9c5efe-eb61-485b-9516-bb0256035736').width('94%')"
       ],
       "metadata": {},
       "output_type": "display_data",
       "text": [
        "<IPython.core.display.Javascript at 0x10c54fc90>"
       ]
      },
      {
       "javascript": [
        "$('div#ce9c5efe-eb61-485b-9516-bb0256035736').width('95%')"
       ],
       "metadata": {},
       "output_type": "display_data",
       "text": [
        "<IPython.core.display.Javascript at 0x10c54fc90>"
       ]
      },
      {
       "javascript": [
        "$('div#ce9c5efe-eb61-485b-9516-bb0256035736').width('96%')"
       ],
       "metadata": {},
       "output_type": "display_data",
       "text": [
        "<IPython.core.display.Javascript at 0x10c54fc90>"
       ]
      },
      {
       "javascript": [
        "$('div#ce9c5efe-eb61-485b-9516-bb0256035736').width('97%')"
       ],
       "metadata": {},
       "output_type": "display_data",
       "text": [
        "<IPython.core.display.Javascript at 0x10c54fc90>"
       ]
      },
      {
       "javascript": [
        "$('div#ce9c5efe-eb61-485b-9516-bb0256035736').width('98%')"
       ],
       "metadata": {},
       "output_type": "display_data",
       "text": [
        "<IPython.core.display.Javascript at 0x10c54fc90>"
       ]
      },
      {
       "javascript": [
        "$('div#ce9c5efe-eb61-485b-9516-bb0256035736').width('99%')"
       ],
       "metadata": {},
       "output_type": "display_data",
       "text": [
        "<IPython.core.display.Javascript at 0x10c54fc90>"
       ]
      },
      {
       "javascript": [
        "$('div#ce9c5efe-eb61-485b-9516-bb0256035736').width('100%')"
       ],
       "metadata": {},
       "output_type": "display_data",
       "text": [
        "<IPython.core.display.Javascript at 0x10c54f450>"
       ]
      },
      {
       "metadata": {},
       "output_type": "display_data",
       "png": "[encoded data removed]",
       "text": [
        "<matplotlib.figure.Figure at 0x10c54f9d0>"
       ]
      }
     ],
     "prompt_number": 24
    },
    {
     "cell_type": "code",
     "collapsed": false,
     "input": [],
     "language": "python",
     "metadata": {},
     "outputs": [],
     "prompt_number": 24
    },
    {
     "cell_type": "code",
     "collapsed": false,
     "input": [],
     "language": "python",
     "metadata": {},
     "outputs": [],
     "prompt_number": 8
    },
    {
     "cell_type": "code",
     "collapsed": false,
     "input": [],
     "language": "python",
     "metadata": {},
     "outputs": [],
     "prompt_number": "*"
    },
    {
     "cell_type": "code",
     "collapsed": false,
     "input": [],
     "language": "python",
     "metadata": {},
     "outputs": [],
     "prompt_number": "*"
    },
    {
     "cell_type": "code",
     "collapsed": false,
     "input": [],
     "language": "python",
     "metadata": {},
     "outputs": []
    }
   ],
   "metadata": {}
  }
 ]
}