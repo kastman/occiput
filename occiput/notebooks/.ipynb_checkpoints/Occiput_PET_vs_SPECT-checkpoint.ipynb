{
 "metadata": {
  "name": ""
 },
 "nbformat": 3,
 "nbformat_minor": 0,
 "worksheets": [
  {
   "cells": [
    {
     "cell_type": "heading",
     "level": 3,
     "metadata": {},
     "source": [
      "Import Occiput:"
     ]
    },
    {
     "cell_type": "code",
     "collapsed": false,
     "input": [
      "import occiput\n",
      "occiput.initialise()\n",
      "\n",
      "from occiput.Reconstruction.PET import PET_Static_Scan, Binning\n",
      "from occiput.Reconstruction.PET import PET_Interface_mMR\n",
      "\n",
      "from occiput.Reconstruction.SPECT import SPECT_Static_Scan\n",
      "\n",
      "from occiput.DataSources.Synthetic import uniform_sphere, uniform_spheres_ring\n",
      "\n",
      "import numpy"
     ],
     "language": "python",
     "metadata": {},
     "outputs": [
      {
       "html": [
        "\n",
        "        <style>\n",
        "        div.nav.brand.pull-left {\n",
        "        width:  300px; \n",
        "        height: 35px; \n",
        "        background-repeat: no-repeat;\n",
        "\t    background-image: url(data:image/png;base64,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);\n",
        "\t    text-indent: -999px;\n",
        "    }\n",
        "    </style>"
       ],
       "metadata": {},
       "output_type": "display_data",
       "text": [
        "<IPython.core.display.HTML at 0x11b2b8310>"
       ]
      },
      {
       "html": [
        "\n",
        "        <style>\n",
        "        div.nav.brand.pull-left {\n",
        "        width:  300px; \n",
        "        height: 35px; \n",
        "        background-repeat: no-repeat;\n",
        "\t    background-image: url(data:image/png;base64,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);\n",
        "\t    text-indent: -999px;\n",
        "    }\n",
        "    </style>"
       ],
       "metadata": {},
       "output_type": "display_data",
       "text": [
        "<IPython.core.display.HTML at 0x1115956d0>"
       ]
      }
     ],
     "prompt_number": 1
    },
    {
     "cell_type": "heading",
     "level": 3,
     "metadata": {},
     "source": [
      "Define scanner geometry:"
     ]
    },
    {
     "cell_type": "code",
     "collapsed": false,
     "input": [
      "# Geometry of the scanner: \n",
      "\n",
      "N_axial                = 1                    # number of axial projections \n",
      "N_azimuthal            = 180                  # number of azimuthal projections\n",
      "angular_step_axial     = 0.0                  # radians\n",
      "angular_step_azimuthal = numpy.pi/N_azimuthal # radians\n",
      "N_u                    = 128                  # pixels\n",
      "N_v                    = 128                  # pixels\n",
      "size_u                 = 128                  # [mm]\n",
      "size_v                 = 128                  # [mm]\n",
      "interface              = PET_Interface_mMR()\n",
      "binning                = Binning([N_axial, N_azimuthal, angular_step_axial, angular_step_azimuthal, size_u, size_v, N_u, N_v]) \n",
      "\n",
      "\n",
      "# Static acquisition: \n",
      "\n",
      "PET = PET_Static_Scan() \n",
      "PET.set_interface(interface) \n",
      "PET.set_binning(binning) \n",
      "PET.set_full_sampling() \n",
      "PET.projection_parameters.sample_step     = 0.8 \n",
      "PET.projection_parameters.N_samples       = 256 \n",
      "PET.backprojection_parameters.sample_step = 0.8 \n",
      "PET.backprojection_parameters.N_samples   = 256 \n",
      "\n",
      "SPECT = SPECT_Static_Scan()\n",
      "SPECT.set_gantry_angular_positions(0, 180.0-180.0/N_azimuthal, N_azimuthal)"
     ],
     "language": "python",
     "metadata": {},
     "outputs": [],
     "prompt_number": 10
    },
    {
     "cell_type": "heading",
     "level": 3,
     "metadata": {},
     "source": [
      "Generate synthetic data:"
     ]
    },
    {
     "cell_type": "code",
     "collapsed": false,
     "input": [
      "# Number of voxels of the synthetic activity volume: \n",
      "\n",
      "phantom_voxels_x       = 128                       # voxels\n",
      "phantom_voxels_y       = 128                       # voxels\n",
      "phantom_voxels_z       = 128                       # voxels\n",
      "\n",
      "\n",
      "# Size of the synthetic activity volume in [mm] \n",
      "\n",
      "phantom_size_x         = 128                       # [mm]\n",
      "phantom_size_y         = 128                       # [mm]\n",
      "phantom_size_z         = 128                       # [mm]\n",
      "\n",
      "\n",
      "# Center of the synthetic activity volume in [mm]\n",
      "\n",
      "phantom_center_x       = 0.5  * phantom_size_x     # [mm]\n",
      "phantom_center_y       = 0.5  * phantom_size_y     # [mm]\n",
      "phantom_center_z       = 0.5  * phantom_size_z     # [mm]\n",
      "\n",
      "\n",
      "# Synthetic activity parameters: \n",
      "\n",
      "phantom_n_spheres      = 6                         # number of spheres\n",
      "phantom_ring_radius    = 0.4  * phantom_size_x     # radius of the ring of spheres  [mm]\n",
      "phantom_small_radius   = 0.04 * phantom_size_z     # radius of the smallest spheres [mm]\n",
      "phantom_large_radius   = 0.10 * phantom_size_z     # radius of the largest sphere   [mm]\n",
      "phantom_value          = 10.0                      # activity inside the spheres\n",
      "phantom_background     = 0.25                      # activity outside the spheres \n",
      "phantom_ring_axis      = 1                         # axis of the ring of spheres : 0 for X, 1 for Y, 2 for Z \n",
      "phantom_extrusion      = 0.6  * phantom_size_z     # extrusion along axis           [mm] \n",
      "\n",
      "\n",
      "# Make the synthetic activity volume: \n",
      "\n",
      "phantom = uniform_spheres_ring(  [phantom_voxels_x, phantom_voxels_y, phantom_voxels_z], \n",
      "                                 [phantom_size_x,   phantom_size_y,   phantom_size_z  ], \n",
      "                                 [phantom_center_x, phantom_center_y, phantom_center_z], \n",
      "                                  phantom_ring_radius, phantom_small_radius, phantom_large_radius, \n",
      "                                  phantom_n_spheres, phantom_value, phantom_background, phantom_extrusion, phantom_ring_axis)  "
     ],
     "language": "python",
     "metadata": {},
     "outputs": [],
     "prompt_number": 11
    },
    {
     "cell_type": "code",
     "collapsed": false,
     "input": [
      "phantom.display(axis=1)"
     ],
     "language": "python",
     "metadata": {},
     "outputs": [
      {
       "html": [
        "\n",
        "        <div style=\"border: 1px solid white; width:100%%; height:6px; background-color:rgb(246,246,246)\">\n",
        "            <div id=\"45a901f5-4a18-44e4-a006-f36fdd1eb052\" style=\"background-color:rgb(200,200,200); width:0%; height:6px\"> </div>\n",
        "        </div> \n",
        "        "
       ],
       "metadata": {},
       "output_type": "display_data",
       "text": [
        "<IPython.core.display.HTML at 0x11e439c50>"
       ]
      },
      {
       "javascript": [
        "$('div#45a901f5-4a18-44e4-a006-f36fdd1eb052').width('1%')"
       ],
       "metadata": {},
       "output_type": "display_data",
       "text": [
        "<IPython.core.display.Javascript at 0x11e439390>"
       ]
      },
      {
       "javascript": [
        "$('div#45a901f5-4a18-44e4-a006-f36fdd1eb052').width('1%')"
       ],
       "metadata": {},
       "output_type": "display_data",
       "text": [
        "<IPython.core.display.Javascript at 0x11e439390>"
       ]
      },
      {
       "javascript": [
        "$('div#45a901f5-4a18-44e4-a006-f36fdd1eb052').width('1%')"
       ],
       "metadata": {},
       "output_type": "display_data",
       "text": [
        "<IPython.core.display.Javascript at 0x11e439390>"
       ]
      },
      {
       "javascript": [
        "$('div#45a901f5-4a18-44e4-a006-f36fdd1eb052').width('2%')"
       ],
       "metadata": {},
       "output_type": "display_data",
       "text": [
        "<IPython.core.display.Javascript at 0x11e439390>"
       ]
      },
      {
       "javascript": [
        "$('div#45a901f5-4a18-44e4-a006-f36fdd1eb052').width('3%')"
       ],
       "metadata": {},
       "output_type": "display_data",
       "text": [
        "<IPython.core.display.Javascript at 0x11e439dd0>"
       ]
      },
      {
       "javascript": [
        "$('div#45a901f5-4a18-44e4-a006-f36fdd1eb052').width('3%')"
       ],
       "metadata": {},
       "output_type": "display_data",
       "text": [
        "<IPython.core.display.Javascript at 0x11e439dd0>"
       ]
      },
      {
       "javascript": [
        "$('div#45a901f5-4a18-44e4-a006-f36fdd1eb052').width('4%')"
       ],
       "metadata": {},
       "output_type": "display_data",
       "text": [
        "<IPython.core.display.Javascript at 0x11e439dd0>"
       ]
      },
      {
       "javascript": [
        "$('div#45a901f5-4a18-44e4-a006-f36fdd1eb052').width('5%')"
       ],
       "metadata": {},
       "output_type": "display_data",
       "text": [
        "<IPython.core.display.Javascript at 0x11e439dd0>"
       ]
      },
      {
       "javascript": [
        "$('div#45a901f5-4a18-44e4-a006-f36fdd1eb052').width('6%')"
       ],
       "metadata": {},
       "output_type": "display_data",
       "text": [
        "<IPython.core.display.Javascript at 0x11e439dd0>"
       ]
      },
      {
       "javascript": [
        "$('div#45a901f5-4a18-44e4-a006-f36fdd1eb052').width('7%')"
       ],
       "metadata": {},
       "output_type": "display_data",
       "text": [
        "<IPython.core.display.Javascript at 0x11e439dd0>"
       ]
      },
      {
       "javascript": [
        "$('div#45a901f5-4a18-44e4-a006-f36fdd1eb052').width('7%')"
       ],
       "metadata": {},
       "output_type": "display_data",
       "text": [
        "<IPython.core.display.Javascript at 0x11e439dd0>"
       ]
      },
      {
       "javascript": [
        "$('div#45a901f5-4a18-44e4-a006-f36fdd1eb052').width('8%')"
       ],
       "metadata": {},
       "output_type": "display_data",
       "text": [
        "<IPython.core.display.Javascript at 0x11e439dd0>"
       ]
      },
      {
       "javascript": [
        "$('div#45a901f5-4a18-44e4-a006-f36fdd1eb052').width('9%')"
       ],
       "metadata": {},
       "output_type": "display_data",
       "text": [
        "<IPython.core.display.Javascript at 0x11e439dd0>"
       ]
      },
      {
       "javascript": [
        "$('div#45a901f5-4a18-44e4-a006-f36fdd1eb052').width('10%')"
       ],
       "metadata": {},
       "output_type": "display_data",
       "text": [
        "<IPython.core.display.Javascript at 0x11e439dd0>"
       ]
      },
      {
       "javascript": [
        "$('div#45a901f5-4a18-44e4-a006-f36fdd1eb052').width('10%')"
       ],
       "metadata": {},
       "output_type": "display_data",
       "text": [
        "<IPython.core.display.Javascript at 0x11e439dd0>"
       ]
      },
      {
       "javascript": [
        "$('div#45a901f5-4a18-44e4-a006-f36fdd1eb052').width('11%')"
       ],
       "metadata": {},
       "output_type": "display_data",
       "text": [
        "<IPython.core.display.Javascript at 0x11e439dd0>"
       ]
      },
      {
       "javascript": [
        "$('div#45a901f5-4a18-44e4-a006-f36fdd1eb052').width('12%')"
       ],
       "metadata": {},
       "output_type": "display_data",
       "text": [
        "<IPython.core.display.Javascript at 0x11e439dd0>"
       ]
      },
      {
       "javascript": [
        "$('div#45a901f5-4a18-44e4-a006-f36fdd1eb052').width('13%')"
       ],
       "metadata": {},
       "output_type": "display_data",
       "text": [
        "<IPython.core.display.Javascript at 0x11e439dd0>"
       ]
      },
      {
       "javascript": [
        "$('div#45a901f5-4a18-44e4-a006-f36fdd1eb052').width('14%')"
       ],
       "metadata": {},
       "output_type": "display_data",
       "text": [
        "<IPython.core.display.Javascript at 0x11e439dd0>"
       ]
      },
      {
       "javascript": [
        "$('div#45a901f5-4a18-44e4-a006-f36fdd1eb052').width('14%')"
       ],
       "metadata": {},
       "output_type": "display_data",
       "text": [
        "<IPython.core.display.Javascript at 0x11e439dd0>"
       ]
      },
      {
       "javascript": [
        "$('div#45a901f5-4a18-44e4-a006-f36fdd1eb052').width('15%')"
       ],
       "metadata": {},
       "output_type": "display_data",
       "text": [
        "<IPython.core.display.Javascript at 0x11e439dd0>"
       ]
      },
      {
       "javascript": [
        "$('div#45a901f5-4a18-44e4-a006-f36fdd1eb052').width('16%')"
       ],
       "metadata": {},
       "output_type": "display_data",
       "text": [
        "<IPython.core.display.Javascript at 0x11e439dd0>"
       ]
      },
      {
       "javascript": [
        "$('div#45a901f5-4a18-44e4-a006-f36fdd1eb052').width('17%')"
       ],
       "metadata": {},
       "output_type": "display_data",
       "text": [
        "<IPython.core.display.Javascript at 0x11e439dd0>"
       ]
      },
      {
       "javascript": [
        "$('div#45a901f5-4a18-44e4-a006-f36fdd1eb052').width('17%')"
       ],
       "metadata": {},
       "output_type": "display_data",
       "text": [
        "<IPython.core.display.Javascript at 0x11e439dd0>"
       ]
      },
      {
       "javascript": [
        "$('div#45a901f5-4a18-44e4-a006-f36fdd1eb052').width('18%')"
       ],
       "metadata": {},
       "output_type": "display_data",
       "text": [
        "<IPython.core.display.Javascript at 0x11e439dd0>"
       ]
      },
      {
       "javascript": [
        "$('div#45a901f5-4a18-44e4-a006-f36fdd1eb052').width('19%')"
       ],
       "metadata": {},
       "output_type": "display_data",
       "text": [
        "<IPython.core.display.Javascript at 0x11e439dd0>"
       ]
      },
      {
       "javascript": [
        "$('div#45a901f5-4a18-44e4-a006-f36fdd1eb052').width('20%')"
       ],
       "metadata": {},
       "output_type": "display_data",
       "text": [
        "<IPython.core.display.Javascript at 0x11e439dd0>"
       ]
      },
      {
       "javascript": [
        "$('div#45a901f5-4a18-44e4-a006-f36fdd1eb052').width('21%')"
       ],
       "metadata": {},
       "output_type": "display_data",
       "text": [
        "<IPython.core.display.Javascript at 0x11e439dd0>"
       ]
      },
      {
       "javascript": [
        "$('div#45a901f5-4a18-44e4-a006-f36fdd1eb052').width('21%')"
       ],
       "metadata": {},
       "output_type": "display_data",
       "text": [
        "<IPython.core.display.Javascript at 0x11e439dd0>"
       ]
      },
      {
       "javascript": [
        "$('div#45a901f5-4a18-44e4-a006-f36fdd1eb052').width('22%')"
       ],
       "metadata": {},
       "output_type": "display_data",
       "text": [
        "<IPython.core.display.Javascript at 0x11e439dd0>"
       ]
      },
      {
       "javascript": [
        "$('div#45a901f5-4a18-44e4-a006-f36fdd1eb052').width('23%')"
       ],
       "metadata": {},
       "output_type": "display_data",
       "text": [
        "<IPython.core.display.Javascript at 0x11e439dd0>"
       ]
      },
      {
       "javascript": [
        "$('div#45a901f5-4a18-44e4-a006-f36fdd1eb052').width('24%')"
       ],
       "metadata": {},
       "output_type": "display_data",
       "text": [
        "<IPython.core.display.Javascript at 0x11e439dd0>"
       ]
      },
      {
       "javascript": [
        "$('div#45a901f5-4a18-44e4-a006-f36fdd1eb052').width('25%')"
       ],
       "metadata": {},
       "output_type": "display_data",
       "text": [
        "<IPython.core.display.Javascript at 0x11e439dd0>"
       ]
      },
      {
       "javascript": [
        "$('div#45a901f5-4a18-44e4-a006-f36fdd1eb052').width('25%')"
       ],
       "metadata": {},
       "output_type": "display_data",
       "text": [
        "<IPython.core.display.Javascript at 0x11e439dd0>"
       ]
      },
      {
       "javascript": [
        "$('div#45a901f5-4a18-44e4-a006-f36fdd1eb052').width('26%')"
       ],
       "metadata": {},
       "output_type": "display_data",
       "text": [
        "<IPython.core.display.Javascript at 0x11e439dd0>"
       ]
      },
      {
       "javascript": [
        "$('div#45a901f5-4a18-44e4-a006-f36fdd1eb052').width('27%')"
       ],
       "metadata": {},
       "output_type": "display_data",
       "text": [
        "<IPython.core.display.Javascript at 0x11e439dd0>"
       ]
      },
      {
       "javascript": [
        "$('div#45a901f5-4a18-44e4-a006-f36fdd1eb052').width('28%')"
       ],
       "metadata": {},
       "output_type": "display_data",
       "text": [
        "<IPython.core.display.Javascript at 0x11e439dd0>"
       ]
      },
      {
       "javascript": [
        "$('div#45a901f5-4a18-44e4-a006-f36fdd1eb052').width('28%')"
       ],
       "metadata": {},
       "output_type": "display_data",
       "text": [
        "<IPython.core.display.Javascript at 0x11e439dd0>"
       ]
      },
      {
       "javascript": [
        "$('div#45a901f5-4a18-44e4-a006-f36fdd1eb052').width('29%')"
       ],
       "metadata": {},
       "output_type": "display_data",
       "text": [
        "<IPython.core.display.Javascript at 0x11e439dd0>"
       ]
      },
      {
       "javascript": [
        "$('div#45a901f5-4a18-44e4-a006-f36fdd1eb052').width('30%')"
       ],
       "metadata": {},
       "output_type": "display_data",
       "text": [
        "<IPython.core.display.Javascript at 0x11e439dd0>"
       ]
      },
      {
       "javascript": [
        "$('div#45a901f5-4a18-44e4-a006-f36fdd1eb052').width('31%')"
       ],
       "metadata": {},
       "output_type": "display_data",
       "text": [
        "<IPython.core.display.Javascript at 0x11e439dd0>"
       ]
      },
      {
       "javascript": [
        "$('div#45a901f5-4a18-44e4-a006-f36fdd1eb052').width('32%')"
       ],
       "metadata": {},
       "output_type": "display_data",
       "text": [
        "<IPython.core.display.Javascript at 0x11e439dd0>"
       ]
      },
      {
       "javascript": [
        "$('div#45a901f5-4a18-44e4-a006-f36fdd1eb052').width('32%')"
       ],
       "metadata": {},
       "output_type": "display_data",
       "text": [
        "<IPython.core.display.Javascript at 0x11e439dd0>"
       ]
      },
      {
       "javascript": [
        "$('div#45a901f5-4a18-44e4-a006-f36fdd1eb052').width('33%')"
       ],
       "metadata": {},
       "output_type": "display_data",
       "text": [
        "<IPython.core.display.Javascript at 0x11e439dd0>"
       ]
      },
      {
       "javascript": [
        "$('div#45a901f5-4a18-44e4-a006-f36fdd1eb052').width('34%')"
       ],
       "metadata": {},
       "output_type": "display_data",
       "text": [
        "<IPython.core.display.Javascript at 0x11e439dd0>"
       ]
      },
      {
       "javascript": [
        "$('div#45a901f5-4a18-44e4-a006-f36fdd1eb052').width('35%')"
       ],
       "metadata": {},
       "output_type": "display_data",
       "text": [
        "<IPython.core.display.Javascript at 0x11e439dd0>"
       ]
      },
      {
       "javascript": [
        "$('div#45a901f5-4a18-44e4-a006-f36fdd1eb052').width('35%')"
       ],
       "metadata": {},
       "output_type": "display_data",
       "text": [
        "<IPython.core.display.Javascript at 0x11e439dd0>"
       ]
      },
      {
       "javascript": [
        "$('div#45a901f5-4a18-44e4-a006-f36fdd1eb052').width('36%')"
       ],
       "metadata": {},
       "output_type": "display_data",
       "text": [
        "<IPython.core.display.Javascript at 0x11e439dd0>"
       ]
      },
      {
       "javascript": [
        "$('div#45a901f5-4a18-44e4-a006-f36fdd1eb052').width('37%')"
       ],
       "metadata": {},
       "output_type": "display_data",
       "text": [
        "<IPython.core.display.Javascript at 0x11e439dd0>"
       ]
      },
      {
       "javascript": [
        "$('div#45a901f5-4a18-44e4-a006-f36fdd1eb052').width('38%')"
       ],
       "metadata": {},
       "output_type": "display_data",
       "text": [
        "<IPython.core.display.Javascript at 0x11e439dd0>"
       ]
      },
      {
       "javascript": [
        "$('div#45a901f5-4a18-44e4-a006-f36fdd1eb052').width('39%')"
       ],
       "metadata": {},
       "output_type": "display_data",
       "text": [
        "<IPython.core.display.Javascript at 0x11e439dd0>"
       ]
      },
      {
       "javascript": [
        "$('div#45a901f5-4a18-44e4-a006-f36fdd1eb052').width('39%')"
       ],
       "metadata": {},
       "output_type": "display_data",
       "text": [
        "<IPython.core.display.Javascript at 0x11e439dd0>"
       ]
      },
      {
       "javascript": [
        "$('div#45a901f5-4a18-44e4-a006-f36fdd1eb052').width('40%')"
       ],
       "metadata": {},
       "output_type": "display_data",
       "text": [
        "<IPython.core.display.Javascript at 0x11e439dd0>"
       ]
      },
      {
       "javascript": [
        "$('div#45a901f5-4a18-44e4-a006-f36fdd1eb052').width('41%')"
       ],
       "metadata": {},
       "output_type": "display_data",
       "text": [
        "<IPython.core.display.Javascript at 0x11e439dd0>"
       ]
      },
      {
       "javascript": [
        "$('div#45a901f5-4a18-44e4-a006-f36fdd1eb052').width('42%')"
       ],
       "metadata": {},
       "output_type": "display_data",
       "text": [
        "<IPython.core.display.Javascript at 0x11e439dd0>"
       ]
      },
      {
       "javascript": [
        "$('div#45a901f5-4a18-44e4-a006-f36fdd1eb052').width('42%')"
       ],
       "metadata": {},
       "output_type": "display_data",
       "text": [
        "<IPython.core.display.Javascript at 0x11e439dd0>"
       ]
      },
      {
       "javascript": [
        "$('div#45a901f5-4a18-44e4-a006-f36fdd1eb052').width('43%')"
       ],
       "metadata": {},
       "output_type": "display_data",
       "text": [
        "<IPython.core.display.Javascript at 0x11e439dd0>"
       ]
      },
      {
       "javascript": [
        "$('div#45a901f5-4a18-44e4-a006-f36fdd1eb052').width('44%')"
       ],
       "metadata": {},
       "output_type": "display_data",
       "text": [
        "<IPython.core.display.Javascript at 0x11e439dd0>"
       ]
      },
      {
       "javascript": [
        "$('div#45a901f5-4a18-44e4-a006-f36fdd1eb052').width('45%')"
       ],
       "metadata": {},
       "output_type": "display_data",
       "text": [
        "<IPython.core.display.Javascript at 0x11e439dd0>"
       ]
      },
      {
       "javascript": [
        "$('div#45a901f5-4a18-44e4-a006-f36fdd1eb052').width('46%')"
       ],
       "metadata": {},
       "output_type": "display_data",
       "text": [
        "<IPython.core.display.Javascript at 0x11e439dd0>"
       ]
      },
      {
       "javascript": [
        "$('div#45a901f5-4a18-44e4-a006-f36fdd1eb052').width('46%')"
       ],
       "metadata": {},
       "output_type": "display_data",
       "text": [
        "<IPython.core.display.Javascript at 0x11e439dd0>"
       ]
      },
      {
       "javascript": [
        "$('div#45a901f5-4a18-44e4-a006-f36fdd1eb052').width('47%')"
       ],
       "metadata": {},
       "output_type": "display_data",
       "text": [
        "<IPython.core.display.Javascript at 0x11e439dd0>"
       ]
      },
      {
       "javascript": [
        "$('div#45a901f5-4a18-44e4-a006-f36fdd1eb052').width('48%')"
       ],
       "metadata": {},
       "output_type": "display_data",
       "text": [
        "<IPython.core.display.Javascript at 0x11e439dd0>"
       ]
      },
      {
       "javascript": [
        "$('div#45a901f5-4a18-44e4-a006-f36fdd1eb052').width('49%')"
       ],
       "metadata": {},
       "output_type": "display_data",
       "text": [
        "<IPython.core.display.Javascript at 0x11e439dd0>"
       ]
      },
      {
       "javascript": [
        "$('div#45a901f5-4a18-44e4-a006-f36fdd1eb052').width('50%')"
       ],
       "metadata": {},
       "output_type": "display_data",
       "text": [
        "<IPython.core.display.Javascript at 0x11e439dd0>"
       ]
      },
      {
       "javascript": [
        "$('div#45a901f5-4a18-44e4-a006-f36fdd1eb052').width('50%')"
       ],
       "metadata": {},
       "output_type": "display_data",
       "text": [
        "<IPython.core.display.Javascript at 0x11e439dd0>"
       ]
      },
      {
       "javascript": [
        "$('div#45a901f5-4a18-44e4-a006-f36fdd1eb052').width('51%')"
       ],
       "metadata": {},
       "output_type": "display_data",
       "text": [
        "<IPython.core.display.Javascript at 0x11e439dd0>"
       ]
      },
      {
       "javascript": [
        "$('div#45a901f5-4a18-44e4-a006-f36fdd1eb052').width('52%')"
       ],
       "metadata": {},
       "output_type": "display_data",
       "text": [
        "<IPython.core.display.Javascript at 0x11e439dd0>"
       ]
      },
      {
       "javascript": [
        "$('div#45a901f5-4a18-44e4-a006-f36fdd1eb052').width('53%')"
       ],
       "metadata": {},
       "output_type": "display_data",
       "text": [
        "<IPython.core.display.Javascript at 0x11e439dd0>"
       ]
      },
      {
       "javascript": [
        "$('div#45a901f5-4a18-44e4-a006-f36fdd1eb052').width('53%')"
       ],
       "metadata": {},
       "output_type": "display_data",
       "text": [
        "<IPython.core.display.Javascript at 0x11e439dd0>"
       ]
      },
      {
       "javascript": [
        "$('div#45a901f5-4a18-44e4-a006-f36fdd1eb052').width('54%')"
       ],
       "metadata": {},
       "output_type": "display_data",
       "text": [
        "<IPython.core.display.Javascript at 0x11e439dd0>"
       ]
      },
      {
       "javascript": [
        "$('div#45a901f5-4a18-44e4-a006-f36fdd1eb052').width('55%')"
       ],
       "metadata": {},
       "output_type": "display_data",
       "text": [
        "<IPython.core.display.Javascript at 0x11e439dd0>"
       ]
      },
      {
       "javascript": [
        "$('div#45a901f5-4a18-44e4-a006-f36fdd1eb052').width('56%')"
       ],
       "metadata": {},
       "output_type": "display_data",
       "text": [
        "<IPython.core.display.Javascript at 0x11e439dd0>"
       ]
      },
      {
       "javascript": [
        "$('div#45a901f5-4a18-44e4-a006-f36fdd1eb052').width('57%')"
       ],
       "metadata": {},
       "output_type": "display_data",
       "text": [
        "<IPython.core.display.Javascript at 0x11e439dd0>"
       ]
      },
      {
       "javascript": [
        "$('div#45a901f5-4a18-44e4-a006-f36fdd1eb052').width('57%')"
       ],
       "metadata": {},
       "output_type": "display_data",
       "text": [
        "<IPython.core.display.Javascript at 0x11e439dd0>"
       ]
      },
      {
       "javascript": [
        "$('div#45a901f5-4a18-44e4-a006-f36fdd1eb052').width('58%')"
       ],
       "metadata": {},
       "output_type": "display_data",
       "text": [
        "<IPython.core.display.Javascript at 0x11e439dd0>"
       ]
      },
      {
       "javascript": [
        "$('div#45a901f5-4a18-44e4-a006-f36fdd1eb052').width('59%')"
       ],
       "metadata": {},
       "output_type": "display_data",
       "text": [
        "<IPython.core.display.Javascript at 0x11e439dd0>"
       ]
      },
      {
       "javascript": [
        "$('div#45a901f5-4a18-44e4-a006-f36fdd1eb052').width('60%')"
       ],
       "metadata": {},
       "output_type": "display_data",
       "text": [
        "<IPython.core.display.Javascript at 0x11e439dd0>"
       ]
      },
      {
       "javascript": [
        "$('div#45a901f5-4a18-44e4-a006-f36fdd1eb052').width('60%')"
       ],
       "metadata": {},
       "output_type": "display_data",
       "text": [
        "<IPython.core.display.Javascript at 0x11e439dd0>"
       ]
      },
      {
       "javascript": [
        "$('div#45a901f5-4a18-44e4-a006-f36fdd1eb052').width('61%')"
       ],
       "metadata": {},
       "output_type": "display_data",
       "text": [
        "<IPython.core.display.Javascript at 0x11e439dd0>"
       ]
      },
      {
       "javascript": [
        "$('div#45a901f5-4a18-44e4-a006-f36fdd1eb052').width('62%')"
       ],
       "metadata": {},
       "output_type": "display_data",
       "text": [
        "<IPython.core.display.Javascript at 0x11e439dd0>"
       ]
      },
      {
       "javascript": [
        "$('div#45a901f5-4a18-44e4-a006-f36fdd1eb052').width('63%')"
       ],
       "metadata": {},
       "output_type": "display_data",
       "text": [
        "<IPython.core.display.Javascript at 0x11e439dd0>"
       ]
      },
      {
       "javascript": [
        "$('div#45a901f5-4a18-44e4-a006-f36fdd1eb052').width('64%')"
       ],
       "metadata": {},
       "output_type": "display_data",
       "text": [
        "<IPython.core.display.Javascript at 0x11e439dd0>"
       ]
      },
      {
       "javascript": [
        "$('div#45a901f5-4a18-44e4-a006-f36fdd1eb052').width('64%')"
       ],
       "metadata": {},
       "output_type": "display_data",
       "text": [
        "<IPython.core.display.Javascript at 0x11e439dd0>"
       ]
      },
      {
       "javascript": [
        "$('div#45a901f5-4a18-44e4-a006-f36fdd1eb052').width('65%')"
       ],
       "metadata": {},
       "output_type": "display_data",
       "text": [
        "<IPython.core.display.Javascript at 0x11e439dd0>"
       ]
      },
      {
       "javascript": [
        "$('div#45a901f5-4a18-44e4-a006-f36fdd1eb052').width('66%')"
       ],
       "metadata": {},
       "output_type": "display_data",
       "text": [
        "<IPython.core.display.Javascript at 0x11e439dd0>"
       ]
      },
      {
       "javascript": [
        "$('div#45a901f5-4a18-44e4-a006-f36fdd1eb052').width('67%')"
       ],
       "metadata": {},
       "output_type": "display_data",
       "text": [
        "<IPython.core.display.Javascript at 0x11e439dd0>"
       ]
      },
      {
       "javascript": [
        "$('div#45a901f5-4a18-44e4-a006-f36fdd1eb052').width('67%')"
       ],
       "metadata": {},
       "output_type": "display_data",
       "text": [
        "<IPython.core.display.Javascript at 0x11e439dd0>"
       ]
      },
      {
       "javascript": [
        "$('div#45a901f5-4a18-44e4-a006-f36fdd1eb052').width('68%')"
       ],
       "metadata": {},
       "output_type": "display_data",
       "text": [
        "<IPython.core.display.Javascript at 0x11e439dd0>"
       ]
      },
      {
       "javascript": [
        "$('div#45a901f5-4a18-44e4-a006-f36fdd1eb052').width('69%')"
       ],
       "metadata": {},
       "output_type": "display_data",
       "text": [
        "<IPython.core.display.Javascript at 0x11e439dd0>"
       ]
      },
      {
       "javascript": [
        "$('div#45a901f5-4a18-44e4-a006-f36fdd1eb052').width('70%')"
       ],
       "metadata": {},
       "output_type": "display_data",
       "text": [
        "<IPython.core.display.Javascript at 0x11e439dd0>"
       ]
      },
      {
       "javascript": [
        "$('div#45a901f5-4a18-44e4-a006-f36fdd1eb052').width('71%')"
       ],
       "metadata": {},
       "output_type": "display_data",
       "text": [
        "<IPython.core.display.Javascript at 0x11e439dd0>"
       ]
      },
      {
       "javascript": [
        "$('div#45a901f5-4a18-44e4-a006-f36fdd1eb052').width('71%')"
       ],
       "metadata": {},
       "output_type": "display_data",
       "text": [
        "<IPython.core.display.Javascript at 0x11e439dd0>"
       ]
      },
      {
       "javascript": [
        "$('div#45a901f5-4a18-44e4-a006-f36fdd1eb052').width('72%')"
       ],
       "metadata": {},
       "output_type": "display_data",
       "text": [
        "<IPython.core.display.Javascript at 0x11e439dd0>"
       ]
      },
      {
       "javascript": [
        "$('div#45a901f5-4a18-44e4-a006-f36fdd1eb052').width('73%')"
       ],
       "metadata": {},
       "output_type": "display_data",
       "text": [
        "<IPython.core.display.Javascript at 0x11e439dd0>"
       ]
      },
      {
       "javascript": [
        "$('div#45a901f5-4a18-44e4-a006-f36fdd1eb052').width('74%')"
       ],
       "metadata": {},
       "output_type": "display_data",
       "text": [
        "<IPython.core.display.Javascript at 0x11e439dd0>"
       ]
      },
      {
       "javascript": [
        "$('div#45a901f5-4a18-44e4-a006-f36fdd1eb052').width('75%')"
       ],
       "metadata": {},
       "output_type": "display_data",
       "text": [
        "<IPython.core.display.Javascript at 0x11e439dd0>"
       ]
      },
      {
       "javascript": [
        "$('div#45a901f5-4a18-44e4-a006-f36fdd1eb052').width('75%')"
       ],
       "metadata": {},
       "output_type": "display_data",
       "text": [
        "<IPython.core.display.Javascript at 0x11e439dd0>"
       ]
      },
      {
       "javascript": [
        "$('div#45a901f5-4a18-44e4-a006-f36fdd1eb052').width('76%')"
       ],
       "metadata": {},
       "output_type": "display_data",
       "text": [
        "<IPython.core.display.Javascript at 0x11e439dd0>"
       ]
      },
      {
       "javascript": [
        "$('div#45a901f5-4a18-44e4-a006-f36fdd1eb052').width('77%')"
       ],
       "metadata": {},
       "output_type": "display_data",
       "text": [
        "<IPython.core.display.Javascript at 0x11e439dd0>"
       ]
      },
      {
       "javascript": [
        "$('div#45a901f5-4a18-44e4-a006-f36fdd1eb052').width('78%')"
       ],
       "metadata": {},
       "output_type": "display_data",
       "text": [
        "<IPython.core.display.Javascript at 0x11e439dd0>"
       ]
      },
      {
       "javascript": [
        "$('div#45a901f5-4a18-44e4-a006-f36fdd1eb052').width('78%')"
       ],
       "metadata": {},
       "output_type": "display_data",
       "text": [
        "<IPython.core.display.Javascript at 0x11e439dd0>"
       ]
      },
      {
       "javascript": [
        "$('div#45a901f5-4a18-44e4-a006-f36fdd1eb052').width('79%')"
       ],
       "metadata": {},
       "output_type": "display_data",
       "text": [
        "<IPython.core.display.Javascript at 0x11e439dd0>"
       ]
      },
      {
       "javascript": [
        "$('div#45a901f5-4a18-44e4-a006-f36fdd1eb052').width('80%')"
       ],
       "metadata": {},
       "output_type": "display_data",
       "text": [
        "<IPython.core.display.Javascript at 0x11e439dd0>"
       ]
      },
      {
       "javascript": [
        "$('div#45a901f5-4a18-44e4-a006-f36fdd1eb052').width('81%')"
       ],
       "metadata": {},
       "output_type": "display_data",
       "text": [
        "<IPython.core.display.Javascript at 0x11e439dd0>"
       ]
      },
      {
       "javascript": [
        "$('div#45a901f5-4a18-44e4-a006-f36fdd1eb052').width('82%')"
       ],
       "metadata": {},
       "output_type": "display_data",
       "text": [
        "<IPython.core.display.Javascript at 0x11e439dd0>"
       ]
      },
      {
       "javascript": [
        "$('div#45a901f5-4a18-44e4-a006-f36fdd1eb052').width('82%')"
       ],
       "metadata": {},
       "output_type": "display_data",
       "text": [
        "<IPython.core.display.Javascript at 0x11e439dd0>"
       ]
      },
      {
       "javascript": [
        "$('div#45a901f5-4a18-44e4-a006-f36fdd1eb052').width('83%')"
       ],
       "metadata": {},
       "output_type": "display_data",
       "text": [
        "<IPython.core.display.Javascript at 0x11e439dd0>"
       ]
      },
      {
       "javascript": [
        "$('div#45a901f5-4a18-44e4-a006-f36fdd1eb052').width('84%')"
       ],
       "metadata": {},
       "output_type": "display_data",
       "text": [
        "<IPython.core.display.Javascript at 0x11e439dd0>"
       ]
      },
      {
       "javascript": [
        "$('div#45a901f5-4a18-44e4-a006-f36fdd1eb052').width('85%')"
       ],
       "metadata": {},
       "output_type": "display_data",
       "text": [
        "<IPython.core.display.Javascript at 0x11e439dd0>"
       ]
      },
      {
       "javascript": [
        "$('div#45a901f5-4a18-44e4-a006-f36fdd1eb052').width('85%')"
       ],
       "metadata": {},
       "output_type": "display_data",
       "text": [
        "<IPython.core.display.Javascript at 0x11e439dd0>"
       ]
      },
      {
       "javascript": [
        "$('div#45a901f5-4a18-44e4-a006-f36fdd1eb052').width('86%')"
       ],
       "metadata": {},
       "output_type": "display_data",
       "text": [
        "<IPython.core.display.Javascript at 0x11e439dd0>"
       ]
      },
      {
       "javascript": [
        "$('div#45a901f5-4a18-44e4-a006-f36fdd1eb052').width('87%')"
       ],
       "metadata": {},
       "output_type": "display_data",
       "text": [
        "<IPython.core.display.Javascript at 0x11e439dd0>"
       ]
      },
      {
       "javascript": [
        "$('div#45a901f5-4a18-44e4-a006-f36fdd1eb052').width('88%')"
       ],
       "metadata": {},
       "output_type": "display_data",
       "text": [
        "<IPython.core.display.Javascript at 0x11e439dd0>"
       ]
      },
      {
       "javascript": [
        "$('div#45a901f5-4a18-44e4-a006-f36fdd1eb052').width('89%')"
       ],
       "metadata": {},
       "output_type": "display_data",
       "text": [
        "<IPython.core.display.Javascript at 0x11e439dd0>"
       ]
      },
      {
       "javascript": [
        "$('div#45a901f5-4a18-44e4-a006-f36fdd1eb052').width('89%')"
       ],
       "metadata": {},
       "output_type": "display_data",
       "text": [
        "<IPython.core.display.Javascript at 0x11e439dd0>"
       ]
      },
      {
       "javascript": [
        "$('div#45a901f5-4a18-44e4-a006-f36fdd1eb052').width('90%')"
       ],
       "metadata": {},
       "output_type": "display_data",
       "text": [
        "<IPython.core.display.Javascript at 0x11e439dd0>"
       ]
      },
      {
       "javascript": [
        "$('div#45a901f5-4a18-44e4-a006-f36fdd1eb052').width('91%')"
       ],
       "metadata": {},
       "output_type": "display_data",
       "text": [
        "<IPython.core.display.Javascript at 0x11e439dd0>"
       ]
      },
      {
       "javascript": [
        "$('div#45a901f5-4a18-44e4-a006-f36fdd1eb052').width('92%')"
       ],
       "metadata": {},
       "output_type": "display_data",
       "text": [
        "<IPython.core.display.Javascript at 0x11e439dd0>"
       ]
      },
      {
       "javascript": [
        "$('div#45a901f5-4a18-44e4-a006-f36fdd1eb052').width('92%')"
       ],
       "metadata": {},
       "output_type": "display_data",
       "text": [
        "<IPython.core.display.Javascript at 0x11e439dd0>"
       ]
      },
      {
       "javascript": [
        "$('div#45a901f5-4a18-44e4-a006-f36fdd1eb052').width('93%')"
       ],
       "metadata": {},
       "output_type": "display_data",
       "text": [
        "<IPython.core.display.Javascript at 0x11e439dd0>"
       ]
      },
      {
       "javascript": [
        "$('div#45a901f5-4a18-44e4-a006-f36fdd1eb052').width('94%')"
       ],
       "metadata": {},
       "output_type": "display_data",
       "text": [
        "<IPython.core.display.Javascript at 0x11e439dd0>"
       ]
      },
      {
       "javascript": [
        "$('div#45a901f5-4a18-44e4-a006-f36fdd1eb052').width('95%')"
       ],
       "metadata": {},
       "output_type": "display_data",
       "text": [
        "<IPython.core.display.Javascript at 0x11e439dd0>"
       ]
      },
      {
       "javascript": [
        "$('div#45a901f5-4a18-44e4-a006-f36fdd1eb052').width('96%')"
       ],
       "metadata": {},
       "output_type": "display_data",
       "text": [
        "<IPython.core.display.Javascript at 0x11e439dd0>"
       ]
      },
      {
       "javascript": [
        "$('div#45a901f5-4a18-44e4-a006-f36fdd1eb052').width('96%')"
       ],
       "metadata": {},
       "output_type": "display_data",
       "text": [
        "<IPython.core.display.Javascript at 0x11e439dd0>"
       ]
      },
      {
       "javascript": [
        "$('div#45a901f5-4a18-44e4-a006-f36fdd1eb052').width('97%')"
       ],
       "metadata": {},
       "output_type": "display_data",
       "text": [
        "<IPython.core.display.Javascript at 0x11e439dd0>"
       ]
      },
      {
       "javascript": [
        "$('div#45a901f5-4a18-44e4-a006-f36fdd1eb052').width('98%')"
       ],
       "metadata": {},
       "output_type": "display_data",
       "text": [
        "<IPython.core.display.Javascript at 0x11e439dd0>"
       ]
      },
      {
       "javascript": [
        "$('div#45a901f5-4a18-44e4-a006-f36fdd1eb052').width('99%')"
       ],
       "metadata": {},
       "output_type": "display_data",
       "text": [
        "<IPython.core.display.Javascript at 0x11e439dd0>"
       ]
      },
      {
       "javascript": [
        "$('div#45a901f5-4a18-44e4-a006-f36fdd1eb052').width('100%')"
       ],
       "metadata": {},
       "output_type": "display_data",
       "text": [
        "<IPython.core.display.Javascript at 0x11e4394d0>"
       ]
      },
      {
       "html": [
        "<iframe src=http://127.0.0.1:8001/4882720 width=100%% height=420 frameborder=0></iframe>"
       ],
       "metadata": {},
       "output_type": "pyout",
       "prompt_number": 12,
       "text": [
        "<DisplayNode.DisplayNodeProxy.DisplayNode instance at 0x11e453518>"
       ]
      }
     ],
     "prompt_number": 12
    },
    {
     "cell_type": "heading",
     "level": 3,
     "metadata": {},
     "source": [
      "Projection: "
     ]
    },
    {
     "cell_type": "code",
     "collapsed": false,
     "input": [
      "# Compute projection: \n",
      "PET.activity_shape = [phantom_voxels_x,phantom_voxels_y,phantom_voxels_z]\n",
      "PET.activity_size  = [phantom_size_x,phantom_size_y,phantom_size_z]\n",
      "PET.projection_parameters.direction=7; \n",
      "PET.backprojection_parameters.direction=7; \n",
      "\n",
      "proj_pet   = PET.uncompress(PET.project(phantom)) \n",
      "proj_spect = SPECT.project(phantom)\n",
      "\n",
      "# Uncompress the projection data and visualize it: \n"
     ],
     "language": "python",
     "metadata": {},
     "outputs": [],
     "prompt_number": 13
    },
    {
     "cell_type": "code",
     "collapsed": false,
     "input": [
      "proj_spect"
     ],
     "language": "python",
     "metadata": {},
     "outputs": [
      {
       "html": [
        "\n",
        "        <div style=\"border: 1px solid white; width:100%%; height:6px; background-color:rgb(246,246,246)\">\n",
        "            <div id=\"c6fa9e7d-0785-4a21-9c5c-16ed5950a232\" style=\"background-color:rgb(200,200,200); width:0%; height:6px\"> </div>\n",
        "        </div> \n",
        "        "
       ],
       "metadata": {},
       "output_type": "display_data",
       "text": [
        "<IPython.core.display.HTML at 0x11e439950>"
       ]
      },
      {
       "javascript": [
        "$('div#c6fa9e7d-0785-4a21-9c5c-16ed5950a232').width('1%')"
       ],
       "metadata": {},
       "output_type": "display_data",
       "text": [
        "<IPython.core.display.Javascript at 0x11e439290>"
       ]
      },
      {
       "javascript": [
        "$('div#c6fa9e7d-0785-4a21-9c5c-16ed5950a232').width('1%')"
       ],
       "metadata": {},
       "output_type": "display_data",
       "text": [
        "<IPython.core.display.Javascript at 0x11e439290>"
       ]
      },
      {
       "javascript": [
        "$('div#c6fa9e7d-0785-4a21-9c5c-16ed5950a232').width('1%')"
       ],
       "metadata": {},
       "output_type": "display_data",
       "text": [
        "<IPython.core.display.Javascript at 0x11e439290>"
       ]
      },
      {
       "javascript": [
        "$('div#c6fa9e7d-0785-4a21-9c5c-16ed5950a232').width('1%')"
       ],
       "metadata": {},
       "output_type": "display_data",
       "text": [
        "<IPython.core.display.Javascript at 0x11e439290>"
       ]
      },
      {
       "javascript": [
        "$('div#c6fa9e7d-0785-4a21-9c5c-16ed5950a232').width('2%')"
       ],
       "metadata": {},
       "output_type": "display_data",
       "text": [
        "<IPython.core.display.Javascript at 0x11e439290>"
       ]
      },
      {
       "javascript": [
        "$('div#c6fa9e7d-0785-4a21-9c5c-16ed5950a232').width('2%')"
       ],
       "metadata": {},
       "output_type": "display_data",
       "text": [
        "<IPython.core.display.Javascript at 0x11e439290>"
       ]
      },
      {
       "javascript": [
        "$('div#c6fa9e7d-0785-4a21-9c5c-16ed5950a232').width('3%')"
       ],
       "metadata": {},
       "output_type": "display_data",
       "text": [
        "<IPython.core.display.Javascript at 0x11e439290>"
       ]
      },
      {
       "javascript": [
        "$('div#c6fa9e7d-0785-4a21-9c5c-16ed5950a232').width('3%')"
       ],
       "metadata": {},
       "output_type": "display_data",
       "text": [
        "<IPython.core.display.Javascript at 0x11e439290>"
       ]
      },
      {
       "javascript": [
        "$('div#c6fa9e7d-0785-4a21-9c5c-16ed5950a232').width('4%')"
       ],
       "metadata": {},
       "output_type": "display_data",
       "text": [
        "<IPython.core.display.Javascript at 0x11e439290>"
       ]
      },
      {
       "javascript": [
        "$('div#c6fa9e7d-0785-4a21-9c5c-16ed5950a232').width('5%')"
       ],
       "metadata": {},
       "output_type": "display_data",
       "text": [
        "<IPython.core.display.Javascript at 0x11e439290>"
       ]
      },
      {
       "javascript": [
        "$('div#c6fa9e7d-0785-4a21-9c5c-16ed5950a232').width('5%')"
       ],
       "metadata": {},
       "output_type": "display_data",
       "text": [
        "<IPython.core.display.Javascript at 0x11e439290>"
       ]
      },
      {
       "javascript": [
        "$('div#c6fa9e7d-0785-4a21-9c5c-16ed5950a232').width('6%')"
       ],
       "metadata": {},
       "output_type": "display_data",
       "text": [
        "<IPython.core.display.Javascript at 0x11e439290>"
       ]
      },
      {
       "javascript": [
        "$('div#c6fa9e7d-0785-4a21-9c5c-16ed5950a232').width('6%')"
       ],
       "metadata": {},
       "output_type": "display_data",
       "text": [
        "<IPython.core.display.Javascript at 0x11e439290>"
       ]
      },
      {
       "javascript": [
        "$('div#c6fa9e7d-0785-4a21-9c5c-16ed5950a232').width('7%')"
       ],
       "metadata": {},
       "output_type": "display_data",
       "text": [
        "<IPython.core.display.Javascript at 0x11e439290>"
       ]
      },
      {
       "javascript": [
        "$('div#c6fa9e7d-0785-4a21-9c5c-16ed5950a232').width('7%')"
       ],
       "metadata": {},
       "output_type": "display_data",
       "text": [
        "<IPython.core.display.Javascript at 0x11e439290>"
       ]
      },
      {
       "javascript": [
        "$('div#c6fa9e7d-0785-4a21-9c5c-16ed5950a232').width('8%')"
       ],
       "metadata": {},
       "output_type": "display_data",
       "text": [
        "<IPython.core.display.Javascript at 0x11e439290>"
       ]
      },
      {
       "javascript": [
        "$('div#c6fa9e7d-0785-4a21-9c5c-16ed5950a232').width('8%')"
       ],
       "metadata": {},
       "output_type": "display_data",
       "text": [
        "<IPython.core.display.Javascript at 0x11e439290>"
       ]
      },
      {
       "javascript": [
        "$('div#c6fa9e7d-0785-4a21-9c5c-16ed5950a232').width('9%')"
       ],
       "metadata": {},
       "output_type": "display_data",
       "text": [
        "<IPython.core.display.Javascript at 0x11e439290>"
       ]
      },
      {
       "javascript": [
        "$('div#c6fa9e7d-0785-4a21-9c5c-16ed5950a232').width('10%')"
       ],
       "metadata": {},
       "output_type": "display_data",
       "text": [
        "<IPython.core.display.Javascript at 0x11e439290>"
       ]
      },
      {
       "javascript": [
        "$('div#c6fa9e7d-0785-4a21-9c5c-16ed5950a232').width('10%')"
       ],
       "metadata": {},
       "output_type": "display_data",
       "text": [
        "<IPython.core.display.Javascript at 0x11e439290>"
       ]
      },
      {
       "javascript": [
        "$('div#c6fa9e7d-0785-4a21-9c5c-16ed5950a232').width('11%')"
       ],
       "metadata": {},
       "output_type": "display_data",
       "text": [
        "<IPython.core.display.Javascript at 0x11e439290>"
       ]
      },
      {
       "javascript": [
        "$('div#c6fa9e7d-0785-4a21-9c5c-16ed5950a232').width('11%')"
       ],
       "metadata": {},
       "output_type": "display_data",
       "text": [
        "<IPython.core.display.Javascript at 0x11e439290>"
       ]
      },
      {
       "javascript": [
        "$('div#c6fa9e7d-0785-4a21-9c5c-16ed5950a232').width('12%')"
       ],
       "metadata": {},
       "output_type": "display_data",
       "text": [
        "<IPython.core.display.Javascript at 0x11e439290>"
       ]
      },
      {
       "javascript": [
        "$('div#c6fa9e7d-0785-4a21-9c5c-16ed5950a232').width('12%')"
       ],
       "metadata": {},
       "output_type": "display_data",
       "text": [
        "<IPython.core.display.Javascript at 0x11e439290>"
       ]
      },
      {
       "javascript": [
        "$('div#c6fa9e7d-0785-4a21-9c5c-16ed5950a232').width('13%')"
       ],
       "metadata": {},
       "output_type": "display_data",
       "text": [
        "<IPython.core.display.Javascript at 0x11e439290>"
       ]
      },
      {
       "javascript": [
        "$('div#c6fa9e7d-0785-4a21-9c5c-16ed5950a232').width('13%')"
       ],
       "metadata": {},
       "output_type": "display_data",
       "text": [
        "<IPython.core.display.Javascript at 0x11e439290>"
       ]
      },
      {
       "javascript": [
        "$('div#c6fa9e7d-0785-4a21-9c5c-16ed5950a232').width('14%')"
       ],
       "metadata": {},
       "output_type": "display_data",
       "text": [
        "<IPython.core.display.Javascript at 0x11e439290>"
       ]
      },
      {
       "javascript": [
        "$('div#c6fa9e7d-0785-4a21-9c5c-16ed5950a232').width('15%')"
       ],
       "metadata": {},
       "output_type": "display_data",
       "text": [
        "<IPython.core.display.Javascript at 0x11e439290>"
       ]
      },
      {
       "javascript": [
        "$('div#c6fa9e7d-0785-4a21-9c5c-16ed5950a232').width('15%')"
       ],
       "metadata": {},
       "output_type": "display_data",
       "text": [
        "<IPython.core.display.Javascript at 0x11e439290>"
       ]
      },
      {
       "javascript": [
        "$('div#c6fa9e7d-0785-4a21-9c5c-16ed5950a232').width('16%')"
       ],
       "metadata": {},
       "output_type": "display_data",
       "text": [
        "<IPython.core.display.Javascript at 0x11e439290>"
       ]
      },
      {
       "javascript": [
        "$('div#c6fa9e7d-0785-4a21-9c5c-16ed5950a232').width('16%')"
       ],
       "metadata": {},
       "output_type": "display_data",
       "text": [
        "<IPython.core.display.Javascript at 0x11e439290>"
       ]
      },
      {
       "javascript": [
        "$('div#c6fa9e7d-0785-4a21-9c5c-16ed5950a232').width('17%')"
       ],
       "metadata": {},
       "output_type": "display_data",
       "text": [
        "<IPython.core.display.Javascript at 0x11e439290>"
       ]
      },
      {
       "javascript": [
        "$('div#c6fa9e7d-0785-4a21-9c5c-16ed5950a232').width('17%')"
       ],
       "metadata": {},
       "output_type": "display_data",
       "text": [
        "<IPython.core.display.Javascript at 0x11e439290>"
       ]
      },
      {
       "javascript": [
        "$('div#c6fa9e7d-0785-4a21-9c5c-16ed5950a232').width('18%')"
       ],
       "metadata": {},
       "output_type": "display_data",
       "text": [
        "<IPython.core.display.Javascript at 0x11e439290>"
       ]
      },
      {
       "javascript": [
        "$('div#c6fa9e7d-0785-4a21-9c5c-16ed5950a232').width('18%')"
       ],
       "metadata": {},
       "output_type": "display_data",
       "text": [
        "<IPython.core.display.Javascript at 0x11e439290>"
       ]
      },
      {
       "javascript": [
        "$('div#c6fa9e7d-0785-4a21-9c5c-16ed5950a232').width('19%')"
       ],
       "metadata": {},
       "output_type": "display_data",
       "text": [
        "<IPython.core.display.Javascript at 0x11e439290>"
       ]
      },
      {
       "javascript": [
        "$('div#c6fa9e7d-0785-4a21-9c5c-16ed5950a232').width('20%')"
       ],
       "metadata": {},
       "output_type": "display_data",
       "text": [
        "<IPython.core.display.Javascript at 0x11e439290>"
       ]
      },
      {
       "javascript": [
        "$('div#c6fa9e7d-0785-4a21-9c5c-16ed5950a232').width('20%')"
       ],
       "metadata": {},
       "output_type": "display_data",
       "text": [
        "<IPython.core.display.Javascript at 0x11e439290>"
       ]
      },
      {
       "javascript": [
        "$('div#c6fa9e7d-0785-4a21-9c5c-16ed5950a232').width('21%')"
       ],
       "metadata": {},
       "output_type": "display_data",
       "text": [
        "<IPython.core.display.Javascript at 0x11e439290>"
       ]
      },
      {
       "javascript": [
        "$('div#c6fa9e7d-0785-4a21-9c5c-16ed5950a232').width('21%')"
       ],
       "metadata": {},
       "output_type": "display_data",
       "text": [
        "<IPython.core.display.Javascript at 0x11e439290>"
       ]
      },
      {
       "javascript": [
        "$('div#c6fa9e7d-0785-4a21-9c5c-16ed5950a232').width('22%')"
       ],
       "metadata": {},
       "output_type": "display_data",
       "text": [
        "<IPython.core.display.Javascript at 0x11e439290>"
       ]
      },
      {
       "javascript": [
        "$('div#c6fa9e7d-0785-4a21-9c5c-16ed5950a232').width('22%')"
       ],
       "metadata": {},
       "output_type": "display_data",
       "text": [
        "<IPython.core.display.Javascript at 0x11e439290>"
       ]
      },
      {
       "javascript": [
        "$('div#c6fa9e7d-0785-4a21-9c5c-16ed5950a232').width('23%')"
       ],
       "metadata": {},
       "output_type": "display_data",
       "text": [
        "<IPython.core.display.Javascript at 0x11e439290>"
       ]
      },
      {
       "javascript": [
        "$('div#c6fa9e7d-0785-4a21-9c5c-16ed5950a232').width('23%')"
       ],
       "metadata": {},
       "output_type": "display_data",
       "text": [
        "<IPython.core.display.Javascript at 0x11e439290>"
       ]
      },
      {
       "javascript": [
        "$('div#c6fa9e7d-0785-4a21-9c5c-16ed5950a232').width('24%')"
       ],
       "metadata": {},
       "output_type": "display_data",
       "text": [
        "<IPython.core.display.Javascript at 0x11e439290>"
       ]
      },
      {
       "javascript": [
        "$('div#c6fa9e7d-0785-4a21-9c5c-16ed5950a232').width('25%')"
       ],
       "metadata": {},
       "output_type": "display_data",
       "text": [
        "<IPython.core.display.Javascript at 0x11e439290>"
       ]
      },
      {
       "javascript": [
        "$('div#c6fa9e7d-0785-4a21-9c5c-16ed5950a232').width('25%')"
       ],
       "metadata": {},
       "output_type": "display_data",
       "text": [
        "<IPython.core.display.Javascript at 0x11e439290>"
       ]
      },
      {
       "javascript": [
        "$('div#c6fa9e7d-0785-4a21-9c5c-16ed5950a232').width('26%')"
       ],
       "metadata": {},
       "output_type": "display_data",
       "text": [
        "<IPython.core.display.Javascript at 0x11e439290>"
       ]
      },
      {
       "javascript": [
        "$('div#c6fa9e7d-0785-4a21-9c5c-16ed5950a232').width('26%')"
       ],
       "metadata": {},
       "output_type": "display_data",
       "text": [
        "<IPython.core.display.Javascript at 0x11e439290>"
       ]
      },
      {
       "javascript": [
        "$('div#c6fa9e7d-0785-4a21-9c5c-16ed5950a232').width('27%')"
       ],
       "metadata": {},
       "output_type": "display_data",
       "text": [
        "<IPython.core.display.Javascript at 0x11e439290>"
       ]
      },
      {
       "javascript": [
        "$('div#c6fa9e7d-0785-4a21-9c5c-16ed5950a232').width('27%')"
       ],
       "metadata": {},
       "output_type": "display_data",
       "text": [
        "<IPython.core.display.Javascript at 0x11e439290>"
       ]
      },
      {
       "javascript": [
        "$('div#c6fa9e7d-0785-4a21-9c5c-16ed5950a232').width('28%')"
       ],
       "metadata": {},
       "output_type": "display_data",
       "text": [
        "<IPython.core.display.Javascript at 0x11e439290>"
       ]
      },
      {
       "javascript": [
        "$('div#c6fa9e7d-0785-4a21-9c5c-16ed5950a232').width('28%')"
       ],
       "metadata": {},
       "output_type": "display_data",
       "text": [
        "<IPython.core.display.Javascript at 0x11e439290>"
       ]
      },
      {
       "javascript": [
        "$('div#c6fa9e7d-0785-4a21-9c5c-16ed5950a232').width('29%')"
       ],
       "metadata": {},
       "output_type": "display_data",
       "text": [
        "<IPython.core.display.Javascript at 0x11e439290>"
       ]
      },
      {
       "javascript": [
        "$('div#c6fa9e7d-0785-4a21-9c5c-16ed5950a232').width('30%')"
       ],
       "metadata": {},
       "output_type": "display_data",
       "text": [
        "<IPython.core.display.Javascript at 0x11e439290>"
       ]
      },
      {
       "javascript": [
        "$('div#c6fa9e7d-0785-4a21-9c5c-16ed5950a232').width('30%')"
       ],
       "metadata": {},
       "output_type": "display_data",
       "text": [
        "<IPython.core.display.Javascript at 0x11e439290>"
       ]
      },
      {
       "javascript": [
        "$('div#c6fa9e7d-0785-4a21-9c5c-16ed5950a232').width('31%')"
       ],
       "metadata": {},
       "output_type": "display_data",
       "text": [
        "<IPython.core.display.Javascript at 0x11e439290>"
       ]
      },
      {
       "javascript": [
        "$('div#c6fa9e7d-0785-4a21-9c5c-16ed5950a232').width('31%')"
       ],
       "metadata": {},
       "output_type": "display_data",
       "text": [
        "<IPython.core.display.Javascript at 0x11e439290>"
       ]
      },
      {
       "javascript": [
        "$('div#c6fa9e7d-0785-4a21-9c5c-16ed5950a232').width('32%')"
       ],
       "metadata": {},
       "output_type": "display_data",
       "text": [
        "<IPython.core.display.Javascript at 0x11e439290>"
       ]
      },
      {
       "javascript": [
        "$('div#c6fa9e7d-0785-4a21-9c5c-16ed5950a232').width('32%')"
       ],
       "metadata": {},
       "output_type": "display_data",
       "text": [
        "<IPython.core.display.Javascript at 0x11e439290>"
       ]
      },
      {
       "javascript": [
        "$('div#c6fa9e7d-0785-4a21-9c5c-16ed5950a232').width('33%')"
       ],
       "metadata": {},
       "output_type": "display_data",
       "text": [
        "<IPython.core.display.Javascript at 0x11e439290>"
       ]
      },
      {
       "javascript": [
        "$('div#c6fa9e7d-0785-4a21-9c5c-16ed5950a232').width('33%')"
       ],
       "metadata": {},
       "output_type": "display_data",
       "text": [
        "<IPython.core.display.Javascript at 0x11e439290>"
       ]
      },
      {
       "javascript": [
        "$('div#c6fa9e7d-0785-4a21-9c5c-16ed5950a232').width('34%')"
       ],
       "metadata": {},
       "output_type": "display_data",
       "text": [
        "<IPython.core.display.Javascript at 0x11e439290>"
       ]
      },
      {
       "javascript": [
        "$('div#c6fa9e7d-0785-4a21-9c5c-16ed5950a232').width('35%')"
       ],
       "metadata": {},
       "output_type": "display_data",
       "text": [
        "<IPython.core.display.Javascript at 0x11e439290>"
       ]
      },
      {
       "javascript": [
        "$('div#c6fa9e7d-0785-4a21-9c5c-16ed5950a232').width('35%')"
       ],
       "metadata": {},
       "output_type": "display_data",
       "text": [
        "<IPython.core.display.Javascript at 0x11e439290>"
       ]
      },
      {
       "javascript": [
        "$('div#c6fa9e7d-0785-4a21-9c5c-16ed5950a232').width('36%')"
       ],
       "metadata": {},
       "output_type": "display_data",
       "text": [
        "<IPython.core.display.Javascript at 0x11e439290>"
       ]
      },
      {
       "javascript": [
        "$('div#c6fa9e7d-0785-4a21-9c5c-16ed5950a232').width('36%')"
       ],
       "metadata": {},
       "output_type": "display_data",
       "text": [
        "<IPython.core.display.Javascript at 0x11e439290>"
       ]
      },
      {
       "javascript": [
        "$('div#c6fa9e7d-0785-4a21-9c5c-16ed5950a232').width('37%')"
       ],
       "metadata": {},
       "output_type": "display_data",
       "text": [
        "<IPython.core.display.Javascript at 0x11e439290>"
       ]
      },
      {
       "javascript": [
        "$('div#c6fa9e7d-0785-4a21-9c5c-16ed5950a232').width('37%')"
       ],
       "metadata": {},
       "output_type": "display_data",
       "text": [
        "<IPython.core.display.Javascript at 0x11e439290>"
       ]
      },
      {
       "javascript": [
        "$('div#c6fa9e7d-0785-4a21-9c5c-16ed5950a232').width('38%')"
       ],
       "metadata": {},
       "output_type": "display_data",
       "text": [
        "<IPython.core.display.Javascript at 0x11e439290>"
       ]
      },
      {
       "javascript": [
        "$('div#c6fa9e7d-0785-4a21-9c5c-16ed5950a232').width('38%')"
       ],
       "metadata": {},
       "output_type": "display_data",
       "text": [
        "<IPython.core.display.Javascript at 0x11e439290>"
       ]
      },
      {
       "javascript": [
        "$('div#c6fa9e7d-0785-4a21-9c5c-16ed5950a232').width('39%')"
       ],
       "metadata": {},
       "output_type": "display_data",
       "text": [
        "<IPython.core.display.Javascript at 0x11e439290>"
       ]
      },
      {
       "javascript": [
        "$('div#c6fa9e7d-0785-4a21-9c5c-16ed5950a232').width('40%')"
       ],
       "metadata": {},
       "output_type": "display_data",
       "text": [
        "<IPython.core.display.Javascript at 0x11e439290>"
       ]
      },
      {
       "javascript": [
        "$('div#c6fa9e7d-0785-4a21-9c5c-16ed5950a232').width('40%')"
       ],
       "metadata": {},
       "output_type": "display_data",
       "text": [
        "<IPython.core.display.Javascript at 0x11e439290>"
       ]
      },
      {
       "javascript": [
        "$('div#c6fa9e7d-0785-4a21-9c5c-16ed5950a232').width('41%')"
       ],
       "metadata": {},
       "output_type": "display_data",
       "text": [
        "<IPython.core.display.Javascript at 0x11e439290>"
       ]
      },
      {
       "javascript": [
        "$('div#c6fa9e7d-0785-4a21-9c5c-16ed5950a232').width('41%')"
       ],
       "metadata": {},
       "output_type": "display_data",
       "text": [
        "<IPython.core.display.Javascript at 0x11e439290>"
       ]
      },
      {
       "javascript": [
        "$('div#c6fa9e7d-0785-4a21-9c5c-16ed5950a232').width('42%')"
       ],
       "metadata": {},
       "output_type": "display_data",
       "text": [
        "<IPython.core.display.Javascript at 0x11e439290>"
       ]
      },
      {
       "javascript": [
        "$('div#c6fa9e7d-0785-4a21-9c5c-16ed5950a232').width('42%')"
       ],
       "metadata": {},
       "output_type": "display_data",
       "text": [
        "<IPython.core.display.Javascript at 0x11e439290>"
       ]
      },
      {
       "javascript": [
        "$('div#c6fa9e7d-0785-4a21-9c5c-16ed5950a232').width('43%')"
       ],
       "metadata": {},
       "output_type": "display_data",
       "text": [
        "<IPython.core.display.Javascript at 0x11e439290>"
       ]
      },
      {
       "javascript": [
        "$('div#c6fa9e7d-0785-4a21-9c5c-16ed5950a232').width('43%')"
       ],
       "metadata": {},
       "output_type": "display_data",
       "text": [
        "<IPython.core.display.Javascript at 0x11e439290>"
       ]
      },
      {
       "javascript": [
        "$('div#c6fa9e7d-0785-4a21-9c5c-16ed5950a232').width('44%')"
       ],
       "metadata": {},
       "output_type": "display_data",
       "text": [
        "<IPython.core.display.Javascript at 0x11e439290>"
       ]
      },
      {
       "javascript": [
        "$('div#c6fa9e7d-0785-4a21-9c5c-16ed5950a232').width('45%')"
       ],
       "metadata": {},
       "output_type": "display_data",
       "text": [
        "<IPython.core.display.Javascript at 0x11e439290>"
       ]
      },
      {
       "javascript": [
        "$('div#c6fa9e7d-0785-4a21-9c5c-16ed5950a232').width('45%')"
       ],
       "metadata": {},
       "output_type": "display_data",
       "text": [
        "<IPython.core.display.Javascript at 0x11e439290>"
       ]
      },
      {
       "javascript": [
        "$('div#c6fa9e7d-0785-4a21-9c5c-16ed5950a232').width('46%')"
       ],
       "metadata": {},
       "output_type": "display_data",
       "text": [
        "<IPython.core.display.Javascript at 0x11e439290>"
       ]
      },
      {
       "javascript": [
        "$('div#c6fa9e7d-0785-4a21-9c5c-16ed5950a232').width('46%')"
       ],
       "metadata": {},
       "output_type": "display_data",
       "text": [
        "<IPython.core.display.Javascript at 0x11e439290>"
       ]
      },
      {
       "javascript": [
        "$('div#c6fa9e7d-0785-4a21-9c5c-16ed5950a232').width('47%')"
       ],
       "metadata": {},
       "output_type": "display_data",
       "text": [
        "<IPython.core.display.Javascript at 0x11e439290>"
       ]
      },
      {
       "javascript": [
        "$('div#c6fa9e7d-0785-4a21-9c5c-16ed5950a232').width('47%')"
       ],
       "metadata": {},
       "output_type": "display_data",
       "text": [
        "<IPython.core.display.Javascript at 0x11e439290>"
       ]
      },
      {
       "javascript": [
        "$('div#c6fa9e7d-0785-4a21-9c5c-16ed5950a232').width('48%')"
       ],
       "metadata": {},
       "output_type": "display_data",
       "text": [
        "<IPython.core.display.Javascript at 0x11e439290>"
       ]
      },
      {
       "javascript": [
        "$('div#c6fa9e7d-0785-4a21-9c5c-16ed5950a232').width('48%')"
       ],
       "metadata": {},
       "output_type": "display_data",
       "text": [
        "<IPython.core.display.Javascript at 0x11e439290>"
       ]
      },
      {
       "javascript": [
        "$('div#c6fa9e7d-0785-4a21-9c5c-16ed5950a232').width('49%')"
       ],
       "metadata": {},
       "output_type": "display_data",
       "text": [
        "<IPython.core.display.Javascript at 0x11e439290>"
       ]
      },
      {
       "javascript": [
        "$('div#c6fa9e7d-0785-4a21-9c5c-16ed5950a232').width('50%')"
       ],
       "metadata": {},
       "output_type": "display_data",
       "text": [
        "<IPython.core.display.Javascript at 0x11e439290>"
       ]
      },
      {
       "javascript": [
        "$('div#c6fa9e7d-0785-4a21-9c5c-16ed5950a232').width('50%')"
       ],
       "metadata": {},
       "output_type": "display_data",
       "text": [
        "<IPython.core.display.Javascript at 0x11e439290>"
       ]
      },
      {
       "javascript": [
        "$('div#c6fa9e7d-0785-4a21-9c5c-16ed5950a232').width('51%')"
       ],
       "metadata": {},
       "output_type": "display_data",
       "text": [
        "<IPython.core.display.Javascript at 0x11e439290>"
       ]
      },
      {
       "javascript": [
        "$('div#c6fa9e7d-0785-4a21-9c5c-16ed5950a232').width('51%')"
       ],
       "metadata": {},
       "output_type": "display_data",
       "text": [
        "<IPython.core.display.Javascript at 0x11e439290>"
       ]
      },
      {
       "javascript": [
        "$('div#c6fa9e7d-0785-4a21-9c5c-16ed5950a232').width('52%')"
       ],
       "metadata": {},
       "output_type": "display_data",
       "text": [
        "<IPython.core.display.Javascript at 0x11e439290>"
       ]
      },
      {
       "javascript": [
        "$('div#c6fa9e7d-0785-4a21-9c5c-16ed5950a232').width('52%')"
       ],
       "metadata": {},
       "output_type": "display_data",
       "text": [
        "<IPython.core.display.Javascript at 0x11e439290>"
       ]
      },
      {
       "javascript": [
        "$('div#c6fa9e7d-0785-4a21-9c5c-16ed5950a232').width('53%')"
       ],
       "metadata": {},
       "output_type": "display_data",
       "text": [
        "<IPython.core.display.Javascript at 0x11e439290>"
       ]
      },
      {
       "javascript": [
        "$('div#c6fa9e7d-0785-4a21-9c5c-16ed5950a232').width('53%')"
       ],
       "metadata": {},
       "output_type": "display_data",
       "text": [
        "<IPython.core.display.Javascript at 0x11e439290>"
       ]
      },
      {
       "javascript": [
        "$('div#c6fa9e7d-0785-4a21-9c5c-16ed5950a232').width('54%')"
       ],
       "metadata": {},
       "output_type": "display_data",
       "text": [
        "<IPython.core.display.Javascript at 0x11e439290>"
       ]
      },
      {
       "javascript": [
        "$('div#c6fa9e7d-0785-4a21-9c5c-16ed5950a232').width('55%')"
       ],
       "metadata": {},
       "output_type": "display_data",
       "text": [
        "<IPython.core.display.Javascript at 0x11e439290>"
       ]
      },
      {
       "javascript": [
        "$('div#c6fa9e7d-0785-4a21-9c5c-16ed5950a232').width('55%')"
       ],
       "metadata": {},
       "output_type": "display_data",
       "text": [
        "<IPython.core.display.Javascript at 0x11e439290>"
       ]
      },
      {
       "javascript": [
        "$('div#c6fa9e7d-0785-4a21-9c5c-16ed5950a232').width('56%')"
       ],
       "metadata": {},
       "output_type": "display_data",
       "text": [
        "<IPython.core.display.Javascript at 0x11e439290>"
       ]
      },
      {
       "javascript": [
        "$('div#c6fa9e7d-0785-4a21-9c5c-16ed5950a232').width('56%')"
       ],
       "metadata": {},
       "output_type": "display_data",
       "text": [
        "<IPython.core.display.Javascript at 0x11e439290>"
       ]
      },
      {
       "javascript": [
        "$('div#c6fa9e7d-0785-4a21-9c5c-16ed5950a232').width('57%')"
       ],
       "metadata": {},
       "output_type": "display_data",
       "text": [
        "<IPython.core.display.Javascript at 0x11e439290>"
       ]
      },
      {
       "javascript": [
        "$('div#c6fa9e7d-0785-4a21-9c5c-16ed5950a232').width('57%')"
       ],
       "metadata": {},
       "output_type": "display_data",
       "text": [
        "<IPython.core.display.Javascript at 0x11e439290>"
       ]
      },
      {
       "javascript": [
        "$('div#c6fa9e7d-0785-4a21-9c5c-16ed5950a232').width('58%')"
       ],
       "metadata": {},
       "output_type": "display_data",
       "text": [
        "<IPython.core.display.Javascript at 0x11e439290>"
       ]
      },
      {
       "javascript": [
        "$('div#c6fa9e7d-0785-4a21-9c5c-16ed5950a232').width('58%')"
       ],
       "metadata": {},
       "output_type": "display_data",
       "text": [
        "<IPython.core.display.Javascript at 0x11e439290>"
       ]
      },
      {
       "javascript": [
        "$('div#c6fa9e7d-0785-4a21-9c5c-16ed5950a232').width('59%')"
       ],
       "metadata": {},
       "output_type": "display_data",
       "text": [
        "<IPython.core.display.Javascript at 0x11e439290>"
       ]
      },
      {
       "javascript": [
        "$('div#c6fa9e7d-0785-4a21-9c5c-16ed5950a232').width('60%')"
       ],
       "metadata": {},
       "output_type": "display_data",
       "text": [
        "<IPython.core.display.Javascript at 0x11e439290>"
       ]
      },
      {
       "javascript": [
        "$('div#c6fa9e7d-0785-4a21-9c5c-16ed5950a232').width('60%')"
       ],
       "metadata": {},
       "output_type": "display_data",
       "text": [
        "<IPython.core.display.Javascript at 0x11e439290>"
       ]
      },
      {
       "javascript": [
        "$('div#c6fa9e7d-0785-4a21-9c5c-16ed5950a232').width('61%')"
       ],
       "metadata": {},
       "output_type": "display_data",
       "text": [
        "<IPython.core.display.Javascript at 0x11e439290>"
       ]
      },
      {
       "javascript": [
        "$('div#c6fa9e7d-0785-4a21-9c5c-16ed5950a232').width('61%')"
       ],
       "metadata": {},
       "output_type": "display_data",
       "text": [
        "<IPython.core.display.Javascript at 0x11e439290>"
       ]
      },
      {
       "javascript": [
        "$('div#c6fa9e7d-0785-4a21-9c5c-16ed5950a232').width('62%')"
       ],
       "metadata": {},
       "output_type": "display_data",
       "text": [
        "<IPython.core.display.Javascript at 0x11e439290>"
       ]
      },
      {
       "javascript": [
        "$('div#c6fa9e7d-0785-4a21-9c5c-16ed5950a232').width('62%')"
       ],
       "metadata": {},
       "output_type": "display_data",
       "text": [
        "<IPython.core.display.Javascript at 0x11e439290>"
       ]
      },
      {
       "javascript": [
        "$('div#c6fa9e7d-0785-4a21-9c5c-16ed5950a232').width('63%')"
       ],
       "metadata": {},
       "output_type": "display_data",
       "text": [
        "<IPython.core.display.Javascript at 0x11e439290>"
       ]
      },
      {
       "javascript": [
        "$('div#c6fa9e7d-0785-4a21-9c5c-16ed5950a232').width('63%')"
       ],
       "metadata": {},
       "output_type": "display_data",
       "text": [
        "<IPython.core.display.Javascript at 0x11e439290>"
       ]
      },
      {
       "javascript": [
        "$('div#c6fa9e7d-0785-4a21-9c5c-16ed5950a232').width('64%')"
       ],
       "metadata": {},
       "output_type": "display_data",
       "text": [
        "<IPython.core.display.Javascript at 0x11e439290>"
       ]
      },
      {
       "javascript": [
        "$('div#c6fa9e7d-0785-4a21-9c5c-16ed5950a232').width('65%')"
       ],
       "metadata": {},
       "output_type": "display_data",
       "text": [
        "<IPython.core.display.Javascript at 0x11e439290>"
       ]
      },
      {
       "javascript": [
        "$('div#c6fa9e7d-0785-4a21-9c5c-16ed5950a232').width('65%')"
       ],
       "metadata": {},
       "output_type": "display_data",
       "text": [
        "<IPython.core.display.Javascript at 0x11e439290>"
       ]
      },
      {
       "javascript": [
        "$('div#c6fa9e7d-0785-4a21-9c5c-16ed5950a232').width('66%')"
       ],
       "metadata": {},
       "output_type": "display_data",
       "text": [
        "<IPython.core.display.Javascript at 0x11e439290>"
       ]
      },
      {
       "javascript": [
        "$('div#c6fa9e7d-0785-4a21-9c5c-16ed5950a232').width('66%')"
       ],
       "metadata": {},
       "output_type": "display_data",
       "text": [
        "<IPython.core.display.Javascript at 0x11e439290>"
       ]
      },
      {
       "javascript": [
        "$('div#c6fa9e7d-0785-4a21-9c5c-16ed5950a232').width('67%')"
       ],
       "metadata": {},
       "output_type": "display_data",
       "text": [
        "<IPython.core.display.Javascript at 0x11e439290>"
       ]
      },
      {
       "javascript": [
        "$('div#c6fa9e7d-0785-4a21-9c5c-16ed5950a232').width('67%')"
       ],
       "metadata": {},
       "output_type": "display_data",
       "text": [
        "<IPython.core.display.Javascript at 0x11e439290>"
       ]
      },
      {
       "javascript": [
        "$('div#c6fa9e7d-0785-4a21-9c5c-16ed5950a232').width('68%')"
       ],
       "metadata": {},
       "output_type": "display_data",
       "text": [
        "<IPython.core.display.Javascript at 0x11e439290>"
       ]
      },
      {
       "javascript": [
        "$('div#c6fa9e7d-0785-4a21-9c5c-16ed5950a232').width('68%')"
       ],
       "metadata": {},
       "output_type": "display_data",
       "text": [
        "<IPython.core.display.Javascript at 0x11e439290>"
       ]
      },
      {
       "javascript": [
        "$('div#c6fa9e7d-0785-4a21-9c5c-16ed5950a232').width('69%')"
       ],
       "metadata": {},
       "output_type": "display_data",
       "text": [
        "<IPython.core.display.Javascript at 0x11e439290>"
       ]
      },
      {
       "javascript": [
        "$('div#c6fa9e7d-0785-4a21-9c5c-16ed5950a232').width('70%')"
       ],
       "metadata": {},
       "output_type": "display_data",
       "text": [
        "<IPython.core.display.Javascript at 0x11e439290>"
       ]
      },
      {
       "javascript": [
        "$('div#c6fa9e7d-0785-4a21-9c5c-16ed5950a232').width('70%')"
       ],
       "metadata": {},
       "output_type": "display_data",
       "text": [
        "<IPython.core.display.Javascript at 0x11e439290>"
       ]
      },
      {
       "javascript": [
        "$('div#c6fa9e7d-0785-4a21-9c5c-16ed5950a232').width('71%')"
       ],
       "metadata": {},
       "output_type": "display_data",
       "text": [
        "<IPython.core.display.Javascript at 0x11e439290>"
       ]
      },
      {
       "javascript": [
        "$('div#c6fa9e7d-0785-4a21-9c5c-16ed5950a232').width('71%')"
       ],
       "metadata": {},
       "output_type": "display_data",
       "text": [
        "<IPython.core.display.Javascript at 0x11e439290>"
       ]
      },
      {
       "javascript": [
        "$('div#c6fa9e7d-0785-4a21-9c5c-16ed5950a232').width('72%')"
       ],
       "metadata": {},
       "output_type": "display_data",
       "text": [
        "<IPython.core.display.Javascript at 0x11e439290>"
       ]
      },
      {
       "javascript": [
        "$('div#c6fa9e7d-0785-4a21-9c5c-16ed5950a232').width('72%')"
       ],
       "metadata": {},
       "output_type": "display_data",
       "text": [
        "<IPython.core.display.Javascript at 0x11e439290>"
       ]
      },
      {
       "javascript": [
        "$('div#c6fa9e7d-0785-4a21-9c5c-16ed5950a232').width('73%')"
       ],
       "metadata": {},
       "output_type": "display_data",
       "text": [
        "<IPython.core.display.Javascript at 0x11e439290>"
       ]
      },
      {
       "javascript": [
        "$('div#c6fa9e7d-0785-4a21-9c5c-16ed5950a232').width('73%')"
       ],
       "metadata": {},
       "output_type": "display_data",
       "text": [
        "<IPython.core.display.Javascript at 0x11e439290>"
       ]
      },
      {
       "javascript": [
        "$('div#c6fa9e7d-0785-4a21-9c5c-16ed5950a232').width('74%')"
       ],
       "metadata": {},
       "output_type": "display_data",
       "text": [
        "<IPython.core.display.Javascript at 0x11e439290>"
       ]
      },
      {
       "javascript": [
        "$('div#c6fa9e7d-0785-4a21-9c5c-16ed5950a232').width('75%')"
       ],
       "metadata": {},
       "output_type": "display_data",
       "text": [
        "<IPython.core.display.Javascript at 0x11e439290>"
       ]
      },
      {
       "javascript": [
        "$('div#c6fa9e7d-0785-4a21-9c5c-16ed5950a232').width('75%')"
       ],
       "metadata": {},
       "output_type": "display_data",
       "text": [
        "<IPython.core.display.Javascript at 0x11e439290>"
       ]
      },
      {
       "javascript": [
        "$('div#c6fa9e7d-0785-4a21-9c5c-16ed5950a232').width('76%')"
       ],
       "metadata": {},
       "output_type": "display_data",
       "text": [
        "<IPython.core.display.Javascript at 0x11e439290>"
       ]
      },
      {
       "javascript": [
        "$('div#c6fa9e7d-0785-4a21-9c5c-16ed5950a232').width('76%')"
       ],
       "metadata": {},
       "output_type": "display_data",
       "text": [
        "<IPython.core.display.Javascript at 0x11e439290>"
       ]
      },
      {
       "javascript": [
        "$('div#c6fa9e7d-0785-4a21-9c5c-16ed5950a232').width('77%')"
       ],
       "metadata": {},
       "output_type": "display_data",
       "text": [
        "<IPython.core.display.Javascript at 0x11e439290>"
       ]
      },
      {
       "javascript": [
        "$('div#c6fa9e7d-0785-4a21-9c5c-16ed5950a232').width('77%')"
       ],
       "metadata": {},
       "output_type": "display_data",
       "text": [
        "<IPython.core.display.Javascript at 0x11e439290>"
       ]
      },
      {
       "javascript": [
        "$('div#c6fa9e7d-0785-4a21-9c5c-16ed5950a232').width('78%')"
       ],
       "metadata": {},
       "output_type": "display_data",
       "text": [
        "<IPython.core.display.Javascript at 0x11e439290>"
       ]
      },
      {
       "javascript": [
        "$('div#c6fa9e7d-0785-4a21-9c5c-16ed5950a232').width('78%')"
       ],
       "metadata": {},
       "output_type": "display_data",
       "text": [
        "<IPython.core.display.Javascript at 0x11e439290>"
       ]
      },
      {
       "javascript": [
        "$('div#c6fa9e7d-0785-4a21-9c5c-16ed5950a232').width('79%')"
       ],
       "metadata": {},
       "output_type": "display_data",
       "text": [
        "<IPython.core.display.Javascript at 0x11e439290>"
       ]
      },
      {
       "javascript": [
        "$('div#c6fa9e7d-0785-4a21-9c5c-16ed5950a232').width('80%')"
       ],
       "metadata": {},
       "output_type": "display_data",
       "text": [
        "<IPython.core.display.Javascript at 0x11e439290>"
       ]
      },
      {
       "javascript": [
        "$('div#c6fa9e7d-0785-4a21-9c5c-16ed5950a232').width('80%')"
       ],
       "metadata": {},
       "output_type": "display_data",
       "text": [
        "<IPython.core.display.Javascript at 0x11e439290>"
       ]
      },
      {
       "javascript": [
        "$('div#c6fa9e7d-0785-4a21-9c5c-16ed5950a232').width('81%')"
       ],
       "metadata": {},
       "output_type": "display_data",
       "text": [
        "<IPython.core.display.Javascript at 0x11e439290>"
       ]
      },
      {
       "javascript": [
        "$('div#c6fa9e7d-0785-4a21-9c5c-16ed5950a232').width('81%')"
       ],
       "metadata": {},
       "output_type": "display_data",
       "text": [
        "<IPython.core.display.Javascript at 0x11e439290>"
       ]
      },
      {
       "javascript": [
        "$('div#c6fa9e7d-0785-4a21-9c5c-16ed5950a232').width('82%')"
       ],
       "metadata": {},
       "output_type": "display_data",
       "text": [
        "<IPython.core.display.Javascript at 0x11e439290>"
       ]
      },
      {
       "javascript": [
        "$('div#c6fa9e7d-0785-4a21-9c5c-16ed5950a232').width('82%')"
       ],
       "metadata": {},
       "output_type": "display_data",
       "text": [
        "<IPython.core.display.Javascript at 0x11e439290>"
       ]
      },
      {
       "javascript": [
        "$('div#c6fa9e7d-0785-4a21-9c5c-16ed5950a232').width('83%')"
       ],
       "metadata": {},
       "output_type": "display_data",
       "text": [
        "<IPython.core.display.Javascript at 0x11e439290>"
       ]
      },
      {
       "javascript": [
        "$('div#c6fa9e7d-0785-4a21-9c5c-16ed5950a232').width('83%')"
       ],
       "metadata": {},
       "output_type": "display_data",
       "text": [
        "<IPython.core.display.Javascript at 0x11e439290>"
       ]
      },
      {
       "javascript": [
        "$('div#c6fa9e7d-0785-4a21-9c5c-16ed5950a232').width('84%')"
       ],
       "metadata": {},
       "output_type": "display_data",
       "text": [
        "<IPython.core.display.Javascript at 0x11e439290>"
       ]
      },
      {
       "javascript": [
        "$('div#c6fa9e7d-0785-4a21-9c5c-16ed5950a232').width('85%')"
       ],
       "metadata": {},
       "output_type": "display_data",
       "text": [
        "<IPython.core.display.Javascript at 0x11e439290>"
       ]
      },
      {
       "javascript": [
        "$('div#c6fa9e7d-0785-4a21-9c5c-16ed5950a232').width('85%')"
       ],
       "metadata": {},
       "output_type": "display_data",
       "text": [
        "<IPython.core.display.Javascript at 0x11e439290>"
       ]
      },
      {
       "javascript": [
        "$('div#c6fa9e7d-0785-4a21-9c5c-16ed5950a232').width('86%')"
       ],
       "metadata": {},
       "output_type": "display_data",
       "text": [
        "<IPython.core.display.Javascript at 0x11e439290>"
       ]
      },
      {
       "javascript": [
        "$('div#c6fa9e7d-0785-4a21-9c5c-16ed5950a232').width('86%')"
       ],
       "metadata": {},
       "output_type": "display_data",
       "text": [
        "<IPython.core.display.Javascript at 0x11e439290>"
       ]
      },
      {
       "javascript": [
        "$('div#c6fa9e7d-0785-4a21-9c5c-16ed5950a232').width('87%')"
       ],
       "metadata": {},
       "output_type": "display_data",
       "text": [
        "<IPython.core.display.Javascript at 0x11e439290>"
       ]
      },
      {
       "javascript": [
        "$('div#c6fa9e7d-0785-4a21-9c5c-16ed5950a232').width('87%')"
       ],
       "metadata": {},
       "output_type": "display_data",
       "text": [
        "<IPython.core.display.Javascript at 0x11e439290>"
       ]
      },
      {
       "javascript": [
        "$('div#c6fa9e7d-0785-4a21-9c5c-16ed5950a232').width('88%')"
       ],
       "metadata": {},
       "output_type": "display_data",
       "text": [
        "<IPython.core.display.Javascript at 0x11e439290>"
       ]
      },
      {
       "javascript": [
        "$('div#c6fa9e7d-0785-4a21-9c5c-16ed5950a232').width('88%')"
       ],
       "metadata": {},
       "output_type": "display_data",
       "text": [
        "<IPython.core.display.Javascript at 0x11e439290>"
       ]
      },
      {
       "javascript": [
        "$('div#c6fa9e7d-0785-4a21-9c5c-16ed5950a232').width('89%')"
       ],
       "metadata": {},
       "output_type": "display_data",
       "text": [
        "<IPython.core.display.Javascript at 0x11e439290>"
       ]
      },
      {
       "javascript": [
        "$('div#c6fa9e7d-0785-4a21-9c5c-16ed5950a232').width('90%')"
       ],
       "metadata": {},
       "output_type": "display_data",
       "text": [
        "<IPython.core.display.Javascript at 0x11e439290>"
       ]
      },
      {
       "javascript": [
        "$('div#c6fa9e7d-0785-4a21-9c5c-16ed5950a232').width('90%')"
       ],
       "metadata": {},
       "output_type": "display_data",
       "text": [
        "<IPython.core.display.Javascript at 0x11e439290>"
       ]
      },
      {
       "javascript": [
        "$('div#c6fa9e7d-0785-4a21-9c5c-16ed5950a232').width('91%')"
       ],
       "metadata": {},
       "output_type": "display_data",
       "text": [
        "<IPython.core.display.Javascript at 0x11e439290>"
       ]
      },
      {
       "javascript": [
        "$('div#c6fa9e7d-0785-4a21-9c5c-16ed5950a232').width('91%')"
       ],
       "metadata": {},
       "output_type": "display_data",
       "text": [
        "<IPython.core.display.Javascript at 0x11e439290>"
       ]
      },
      {
       "javascript": [
        "$('div#c6fa9e7d-0785-4a21-9c5c-16ed5950a232').width('92%')"
       ],
       "metadata": {},
       "output_type": "display_data",
       "text": [
        "<IPython.core.display.Javascript at 0x11e439290>"
       ]
      },
      {
       "javascript": [
        "$('div#c6fa9e7d-0785-4a21-9c5c-16ed5950a232').width('92%')"
       ],
       "metadata": {},
       "output_type": "display_data",
       "text": [
        "<IPython.core.display.Javascript at 0x11e439290>"
       ]
      },
      {
       "javascript": [
        "$('div#c6fa9e7d-0785-4a21-9c5c-16ed5950a232').width('93%')"
       ],
       "metadata": {},
       "output_type": "display_data",
       "text": [
        "<IPython.core.display.Javascript at 0x11e439290>"
       ]
      },
      {
       "javascript": [
        "$('div#c6fa9e7d-0785-4a21-9c5c-16ed5950a232').width('93%')"
       ],
       "metadata": {},
       "output_type": "display_data",
       "text": [
        "<IPython.core.display.Javascript at 0x11e439290>"
       ]
      },
      {
       "javascript": [
        "$('div#c6fa9e7d-0785-4a21-9c5c-16ed5950a232').width('94%')"
       ],
       "metadata": {},
       "output_type": "display_data",
       "text": [
        "<IPython.core.display.Javascript at 0x11e439290>"
       ]
      },
      {
       "javascript": [
        "$('div#c6fa9e7d-0785-4a21-9c5c-16ed5950a232').width('95%')"
       ],
       "metadata": {},
       "output_type": "display_data",
       "text": [
        "<IPython.core.display.Javascript at 0x11e439290>"
       ]
      },
      {
       "javascript": [
        "$('div#c6fa9e7d-0785-4a21-9c5c-16ed5950a232').width('95%')"
       ],
       "metadata": {},
       "output_type": "display_data",
       "text": [
        "<IPython.core.display.Javascript at 0x11e439290>"
       ]
      },
      {
       "javascript": [
        "$('div#c6fa9e7d-0785-4a21-9c5c-16ed5950a232').width('96%')"
       ],
       "metadata": {},
       "output_type": "display_data",
       "text": [
        "<IPython.core.display.Javascript at 0x11e439290>"
       ]
      },
      {
       "javascript": [
        "$('div#c6fa9e7d-0785-4a21-9c5c-16ed5950a232').width('96%')"
       ],
       "metadata": {},
       "output_type": "display_data",
       "text": [
        "<IPython.core.display.Javascript at 0x11e439290>"
       ]
      },
      {
       "javascript": [
        "$('div#c6fa9e7d-0785-4a21-9c5c-16ed5950a232').width('97%')"
       ],
       "metadata": {},
       "output_type": "display_data",
       "text": [
        "<IPython.core.display.Javascript at 0x11e439290>"
       ]
      },
      {
       "javascript": [
        "$('div#c6fa9e7d-0785-4a21-9c5c-16ed5950a232').width('97%')"
       ],
       "metadata": {},
       "output_type": "display_data",
       "text": [
        "<IPython.core.display.Javascript at 0x11e439290>"
       ]
      },
      {
       "javascript": [
        "$('div#c6fa9e7d-0785-4a21-9c5c-16ed5950a232').width('98%')"
       ],
       "metadata": {},
       "output_type": "display_data",
       "text": [
        "<IPython.core.display.Javascript at 0x11e439290>"
       ]
      },
      {
       "javascript": [
        "$('div#c6fa9e7d-0785-4a21-9c5c-16ed5950a232').width('98%')"
       ],
       "metadata": {},
       "output_type": "display_data",
       "text": [
        "<IPython.core.display.Javascript at 0x11e439290>"
       ]
      },
      {
       "javascript": [
        "$('div#c6fa9e7d-0785-4a21-9c5c-16ed5950a232').width('99%')"
       ],
       "metadata": {},
       "output_type": "display_data",
       "text": [
        "<IPython.core.display.Javascript at 0x11e439290>"
       ]
      },
      {
       "javascript": [
        "$('div#c6fa9e7d-0785-4a21-9c5c-16ed5950a232').width('100%')"
       ],
       "metadata": {},
       "output_type": "display_data",
       "text": [
        "<IPython.core.display.Javascript at 0x11e439450>"
       ]
      },
      {
       "html": [
        "<iframe src=http://127.0.0.1:8001/1085085 width=100%% height=420 frameborder=0></iframe>"
       ],
       "metadata": {},
       "output_type": "pyout",
       "prompt_number": 14,
       "text": [
        "<mMR.mMR.UncompressedProjection instance at 0x11e4535f0>"
       ]
      }
     ],
     "prompt_number": 14
    },
    {
     "cell_type": "code",
     "collapsed": false,
     "input": [
      "proj_pet.display(axial=False)"
     ],
     "language": "python",
     "metadata": {},
     "outputs": [
      {
       "html": [
        "\n",
        "        <div style=\"border: 1px solid white; width:100%%; height:6px; background-color:rgb(246,246,246)\">\n",
        "            <div id=\"1f9c459d-2509-423e-a1ff-57ba6c5513ff\" style=\"background-color:rgb(200,200,200); width:0%; height:6px\"> </div>\n",
        "        </div> \n",
        "        "
       ],
       "metadata": {},
       "output_type": "display_data",
       "text": [
        "<IPython.core.display.HTML at 0x11e439ed0>"
       ]
      },
      {
       "javascript": [
        "$('div#1f9c459d-2509-423e-a1ff-57ba6c5513ff').width('1%')"
       ],
       "metadata": {},
       "output_type": "display_data",
       "text": [
        "<IPython.core.display.Javascript at 0x11e439dd0>"
       ]
      },
      {
       "javascript": [
        "$('div#1f9c459d-2509-423e-a1ff-57ba6c5513ff').width('1%')"
       ],
       "metadata": {},
       "output_type": "display_data",
       "text": [
        "<IPython.core.display.Javascript at 0x11e439dd0>"
       ]
      },
      {
       "javascript": [
        "$('div#1f9c459d-2509-423e-a1ff-57ba6c5513ff').width('1%')"
       ],
       "metadata": {},
       "output_type": "display_data",
       "text": [
        "<IPython.core.display.Javascript at 0x11e439dd0>"
       ]
      },
      {
       "javascript": [
        "$('div#1f9c459d-2509-423e-a1ff-57ba6c5513ff').width('1%')"
       ],
       "metadata": {},
       "output_type": "display_data",
       "text": [
        "<IPython.core.display.Javascript at 0x11e439dd0>"
       ]
      },
      {
       "javascript": [
        "$('div#1f9c459d-2509-423e-a1ff-57ba6c5513ff').width('2%')"
       ],
       "metadata": {},
       "output_type": "display_data",
       "text": [
        "<IPython.core.display.Javascript at 0x11e439dd0>"
       ]
      },
      {
       "javascript": [
        "$('div#1f9c459d-2509-423e-a1ff-57ba6c5513ff').width('2%')"
       ],
       "metadata": {},
       "output_type": "display_data",
       "text": [
        "<IPython.core.display.Javascript at 0x11e439dd0>"
       ]
      },
      {
       "javascript": [
        "$('div#1f9c459d-2509-423e-a1ff-57ba6c5513ff').width('3%')"
       ],
       "metadata": {},
       "output_type": "display_data",
       "text": [
        "<IPython.core.display.Javascript at 0x11e439dd0>"
       ]
      },
      {
       "javascript": [
        "$('div#1f9c459d-2509-423e-a1ff-57ba6c5513ff').width('3%')"
       ],
       "metadata": {},
       "output_type": "display_data",
       "text": [
        "<IPython.core.display.Javascript at 0x11e439dd0>"
       ]
      },
      {
       "javascript": [
        "$('div#1f9c459d-2509-423e-a1ff-57ba6c5513ff').width('4%')"
       ],
       "metadata": {},
       "output_type": "display_data",
       "text": [
        "<IPython.core.display.Javascript at 0x11e439dd0>"
       ]
      },
      {
       "javascript": [
        "$('div#1f9c459d-2509-423e-a1ff-57ba6c5513ff').width('5%')"
       ],
       "metadata": {},
       "output_type": "display_data",
       "text": [
        "<IPython.core.display.Javascript at 0x11e439dd0>"
       ]
      },
      {
       "javascript": [
        "$('div#1f9c459d-2509-423e-a1ff-57ba6c5513ff').width('5%')"
       ],
       "metadata": {},
       "output_type": "display_data",
       "text": [
        "<IPython.core.display.Javascript at 0x11e439dd0>"
       ]
      },
      {
       "javascript": [
        "$('div#1f9c459d-2509-423e-a1ff-57ba6c5513ff').width('6%')"
       ],
       "metadata": {},
       "output_type": "display_data",
       "text": [
        "<IPython.core.display.Javascript at 0x11e439dd0>"
       ]
      },
      {
       "javascript": [
        "$('div#1f9c459d-2509-423e-a1ff-57ba6c5513ff').width('6%')"
       ],
       "metadata": {},
       "output_type": "display_data",
       "text": [
        "<IPython.core.display.Javascript at 0x11e439dd0>"
       ]
      },
      {
       "javascript": [
        "$('div#1f9c459d-2509-423e-a1ff-57ba6c5513ff').width('7%')"
       ],
       "metadata": {},
       "output_type": "display_data",
       "text": [
        "<IPython.core.display.Javascript at 0x11e439dd0>"
       ]
      },
      {
       "javascript": [
        "$('div#1f9c459d-2509-423e-a1ff-57ba6c5513ff').width('7%')"
       ],
       "metadata": {},
       "output_type": "display_data",
       "text": [
        "<IPython.core.display.Javascript at 0x11e439dd0>"
       ]
      },
      {
       "javascript": [
        "$('div#1f9c459d-2509-423e-a1ff-57ba6c5513ff').width('8%')"
       ],
       "metadata": {},
       "output_type": "display_data",
       "text": [
        "<IPython.core.display.Javascript at 0x11e439dd0>"
       ]
      },
      {
       "javascript": [
        "$('div#1f9c459d-2509-423e-a1ff-57ba6c5513ff').width('8%')"
       ],
       "metadata": {},
       "output_type": "display_data",
       "text": [
        "<IPython.core.display.Javascript at 0x11e439dd0>"
       ]
      },
      {
       "javascript": [
        "$('div#1f9c459d-2509-423e-a1ff-57ba6c5513ff').width('9%')"
       ],
       "metadata": {},
       "output_type": "display_data",
       "text": [
        "<IPython.core.display.Javascript at 0x11e439dd0>"
       ]
      },
      {
       "javascript": [
        "$('div#1f9c459d-2509-423e-a1ff-57ba6c5513ff').width('10%')"
       ],
       "metadata": {},
       "output_type": "display_data",
       "text": [
        "<IPython.core.display.Javascript at 0x11e439dd0>"
       ]
      },
      {
       "javascript": [
        "$('div#1f9c459d-2509-423e-a1ff-57ba6c5513ff').width('10%')"
       ],
       "metadata": {},
       "output_type": "display_data",
       "text": [
        "<IPython.core.display.Javascript at 0x11e439dd0>"
       ]
      },
      {
       "javascript": [
        "$('div#1f9c459d-2509-423e-a1ff-57ba6c5513ff').width('11%')"
       ],
       "metadata": {},
       "output_type": "display_data",
       "text": [
        "<IPython.core.display.Javascript at 0x11e439dd0>"
       ]
      },
      {
       "javascript": [
        "$('div#1f9c459d-2509-423e-a1ff-57ba6c5513ff').width('11%')"
       ],
       "metadata": {},
       "output_type": "display_data",
       "text": [
        "<IPython.core.display.Javascript at 0x11e439dd0>"
       ]
      },
      {
       "javascript": [
        "$('div#1f9c459d-2509-423e-a1ff-57ba6c5513ff').width('12%')"
       ],
       "metadata": {},
       "output_type": "display_data",
       "text": [
        "<IPython.core.display.Javascript at 0x11e439dd0>"
       ]
      },
      {
       "javascript": [
        "$('div#1f9c459d-2509-423e-a1ff-57ba6c5513ff').width('12%')"
       ],
       "metadata": {},
       "output_type": "display_data",
       "text": [
        "<IPython.core.display.Javascript at 0x11e439dd0>"
       ]
      },
      {
       "javascript": [
        "$('div#1f9c459d-2509-423e-a1ff-57ba6c5513ff').width('13%')"
       ],
       "metadata": {},
       "output_type": "display_data",
       "text": [
        "<IPython.core.display.Javascript at 0x11e439dd0>"
       ]
      },
      {
       "javascript": [
        "$('div#1f9c459d-2509-423e-a1ff-57ba6c5513ff').width('13%')"
       ],
       "metadata": {},
       "output_type": "display_data",
       "text": [
        "<IPython.core.display.Javascript at 0x11e439dd0>"
       ]
      },
      {
       "javascript": [
        "$('div#1f9c459d-2509-423e-a1ff-57ba6c5513ff').width('14%')"
       ],
       "metadata": {},
       "output_type": "display_data",
       "text": [
        "<IPython.core.display.Javascript at 0x11e439dd0>"
       ]
      },
      {
       "javascript": [
        "$('div#1f9c459d-2509-423e-a1ff-57ba6c5513ff').width('15%')"
       ],
       "metadata": {},
       "output_type": "display_data",
       "text": [
        "<IPython.core.display.Javascript at 0x11e439dd0>"
       ]
      },
      {
       "javascript": [
        "$('div#1f9c459d-2509-423e-a1ff-57ba6c5513ff').width('15%')"
       ],
       "metadata": {},
       "output_type": "display_data",
       "text": [
        "<IPython.core.display.Javascript at 0x11e439dd0>"
       ]
      },
      {
       "javascript": [
        "$('div#1f9c459d-2509-423e-a1ff-57ba6c5513ff').width('16%')"
       ],
       "metadata": {},
       "output_type": "display_data",
       "text": [
        "<IPython.core.display.Javascript at 0x11e439dd0>"
       ]
      },
      {
       "javascript": [
        "$('div#1f9c459d-2509-423e-a1ff-57ba6c5513ff').width('16%')"
       ],
       "metadata": {},
       "output_type": "display_data",
       "text": [
        "<IPython.core.display.Javascript at 0x11e439dd0>"
       ]
      },
      {
       "javascript": [
        "$('div#1f9c459d-2509-423e-a1ff-57ba6c5513ff').width('17%')"
       ],
       "metadata": {},
       "output_type": "display_data",
       "text": [
        "<IPython.core.display.Javascript at 0x11e439dd0>"
       ]
      },
      {
       "javascript": [
        "$('div#1f9c459d-2509-423e-a1ff-57ba6c5513ff').width('17%')"
       ],
       "metadata": {},
       "output_type": "display_data",
       "text": [
        "<IPython.core.display.Javascript at 0x11e439dd0>"
       ]
      },
      {
       "javascript": [
        "$('div#1f9c459d-2509-423e-a1ff-57ba6c5513ff').width('18%')"
       ],
       "metadata": {},
       "output_type": "display_data",
       "text": [
        "<IPython.core.display.Javascript at 0x11e439dd0>"
       ]
      },
      {
       "javascript": [
        "$('div#1f9c459d-2509-423e-a1ff-57ba6c5513ff').width('18%')"
       ],
       "metadata": {},
       "output_type": "display_data",
       "text": [
        "<IPython.core.display.Javascript at 0x11e439dd0>"
       ]
      },
      {
       "javascript": [
        "$('div#1f9c459d-2509-423e-a1ff-57ba6c5513ff').width('19%')"
       ],
       "metadata": {},
       "output_type": "display_data",
       "text": [
        "<IPython.core.display.Javascript at 0x11e439dd0>"
       ]
      },
      {
       "javascript": [
        "$('div#1f9c459d-2509-423e-a1ff-57ba6c5513ff').width('20%')"
       ],
       "metadata": {},
       "output_type": "display_data",
       "text": [
        "<IPython.core.display.Javascript at 0x11e439dd0>"
       ]
      },
      {
       "javascript": [
        "$('div#1f9c459d-2509-423e-a1ff-57ba6c5513ff').width('20%')"
       ],
       "metadata": {},
       "output_type": "display_data",
       "text": [
        "<IPython.core.display.Javascript at 0x11e439dd0>"
       ]
      },
      {
       "javascript": [
        "$('div#1f9c459d-2509-423e-a1ff-57ba6c5513ff').width('21%')"
       ],
       "metadata": {},
       "output_type": "display_data",
       "text": [
        "<IPython.core.display.Javascript at 0x11e439dd0>"
       ]
      },
      {
       "javascript": [
        "$('div#1f9c459d-2509-423e-a1ff-57ba6c5513ff').width('21%')"
       ],
       "metadata": {},
       "output_type": "display_data",
       "text": [
        "<IPython.core.display.Javascript at 0x11e439dd0>"
       ]
      },
      {
       "javascript": [
        "$('div#1f9c459d-2509-423e-a1ff-57ba6c5513ff').width('22%')"
       ],
       "metadata": {},
       "output_type": "display_data",
       "text": [
        "<IPython.core.display.Javascript at 0x11e439dd0>"
       ]
      },
      {
       "javascript": [
        "$('div#1f9c459d-2509-423e-a1ff-57ba6c5513ff').width('22%')"
       ],
       "metadata": {},
       "output_type": "display_data",
       "text": [
        "<IPython.core.display.Javascript at 0x11e439dd0>"
       ]
      },
      {
       "javascript": [
        "$('div#1f9c459d-2509-423e-a1ff-57ba6c5513ff').width('23%')"
       ],
       "metadata": {},
       "output_type": "display_data",
       "text": [
        "<IPython.core.display.Javascript at 0x11e439dd0>"
       ]
      },
      {
       "javascript": [
        "$('div#1f9c459d-2509-423e-a1ff-57ba6c5513ff').width('23%')"
       ],
       "metadata": {},
       "output_type": "display_data",
       "text": [
        "<IPython.core.display.Javascript at 0x11e439dd0>"
       ]
      },
      {
       "javascript": [
        "$('div#1f9c459d-2509-423e-a1ff-57ba6c5513ff').width('24%')"
       ],
       "metadata": {},
       "output_type": "display_data",
       "text": [
        "<IPython.core.display.Javascript at 0x11e439dd0>"
       ]
      },
      {
       "javascript": [
        "$('div#1f9c459d-2509-423e-a1ff-57ba6c5513ff').width('25%')"
       ],
       "metadata": {},
       "output_type": "display_data",
       "text": [
        "<IPython.core.display.Javascript at 0x11e439dd0>"
       ]
      },
      {
       "javascript": [
        "$('div#1f9c459d-2509-423e-a1ff-57ba6c5513ff').width('25%')"
       ],
       "metadata": {},
       "output_type": "display_data",
       "text": [
        "<IPython.core.display.Javascript at 0x11e439dd0>"
       ]
      },
      {
       "javascript": [
        "$('div#1f9c459d-2509-423e-a1ff-57ba6c5513ff').width('26%')"
       ],
       "metadata": {},
       "output_type": "display_data",
       "text": [
        "<IPython.core.display.Javascript at 0x11e439dd0>"
       ]
      },
      {
       "javascript": [
        "$('div#1f9c459d-2509-423e-a1ff-57ba6c5513ff').width('26%')"
       ],
       "metadata": {},
       "output_type": "display_data",
       "text": [
        "<IPython.core.display.Javascript at 0x11e439dd0>"
       ]
      },
      {
       "javascript": [
        "$('div#1f9c459d-2509-423e-a1ff-57ba6c5513ff').width('27%')"
       ],
       "metadata": {},
       "output_type": "display_data",
       "text": [
        "<IPython.core.display.Javascript at 0x11e439dd0>"
       ]
      },
      {
       "javascript": [
        "$('div#1f9c459d-2509-423e-a1ff-57ba6c5513ff').width('27%')"
       ],
       "metadata": {},
       "output_type": "display_data",
       "text": [
        "<IPython.core.display.Javascript at 0x11e439dd0>"
       ]
      },
      {
       "javascript": [
        "$('div#1f9c459d-2509-423e-a1ff-57ba6c5513ff').width('28%')"
       ],
       "metadata": {},
       "output_type": "display_data",
       "text": [
        "<IPython.core.display.Javascript at 0x11e439dd0>"
       ]
      },
      {
       "javascript": [
        "$('div#1f9c459d-2509-423e-a1ff-57ba6c5513ff').width('28%')"
       ],
       "metadata": {},
       "output_type": "display_data",
       "text": [
        "<IPython.core.display.Javascript at 0x11e439dd0>"
       ]
      },
      {
       "javascript": [
        "$('div#1f9c459d-2509-423e-a1ff-57ba6c5513ff').width('29%')"
       ],
       "metadata": {},
       "output_type": "display_data",
       "text": [
        "<IPython.core.display.Javascript at 0x11e439dd0>"
       ]
      },
      {
       "javascript": [
        "$('div#1f9c459d-2509-423e-a1ff-57ba6c5513ff').width('30%')"
       ],
       "metadata": {},
       "output_type": "display_data",
       "text": [
        "<IPython.core.display.Javascript at 0x11e439dd0>"
       ]
      },
      {
       "javascript": [
        "$('div#1f9c459d-2509-423e-a1ff-57ba6c5513ff').width('30%')"
       ],
       "metadata": {},
       "output_type": "display_data",
       "text": [
        "<IPython.core.display.Javascript at 0x11e439dd0>"
       ]
      },
      {
       "javascript": [
        "$('div#1f9c459d-2509-423e-a1ff-57ba6c5513ff').width('31%')"
       ],
       "metadata": {},
       "output_type": "display_data",
       "text": [
        "<IPython.core.display.Javascript at 0x11e439dd0>"
       ]
      },
      {
       "javascript": [
        "$('div#1f9c459d-2509-423e-a1ff-57ba6c5513ff').width('31%')"
       ],
       "metadata": {},
       "output_type": "display_data",
       "text": [
        "<IPython.core.display.Javascript at 0x11e439dd0>"
       ]
      },
      {
       "javascript": [
        "$('div#1f9c459d-2509-423e-a1ff-57ba6c5513ff').width('32%')"
       ],
       "metadata": {},
       "output_type": "display_data",
       "text": [
        "<IPython.core.display.Javascript at 0x11e439dd0>"
       ]
      },
      {
       "javascript": [
        "$('div#1f9c459d-2509-423e-a1ff-57ba6c5513ff').width('32%')"
       ],
       "metadata": {},
       "output_type": "display_data",
       "text": [
        "<IPython.core.display.Javascript at 0x11e439dd0>"
       ]
      },
      {
       "javascript": [
        "$('div#1f9c459d-2509-423e-a1ff-57ba6c5513ff').width('33%')"
       ],
       "metadata": {},
       "output_type": "display_data",
       "text": [
        "<IPython.core.display.Javascript at 0x11e439dd0>"
       ]
      },
      {
       "javascript": [
        "$('div#1f9c459d-2509-423e-a1ff-57ba6c5513ff').width('33%')"
       ],
       "metadata": {},
       "output_type": "display_data",
       "text": [
        "<IPython.core.display.Javascript at 0x11e439dd0>"
       ]
      },
      {
       "javascript": [
        "$('div#1f9c459d-2509-423e-a1ff-57ba6c5513ff').width('34%')"
       ],
       "metadata": {},
       "output_type": "display_data",
       "text": [
        "<IPython.core.display.Javascript at 0x11e439dd0>"
       ]
      },
      {
       "javascript": [
        "$('div#1f9c459d-2509-423e-a1ff-57ba6c5513ff').width('35%')"
       ],
       "metadata": {},
       "output_type": "display_data",
       "text": [
        "<IPython.core.display.Javascript at 0x11e439dd0>"
       ]
      },
      {
       "javascript": [
        "$('div#1f9c459d-2509-423e-a1ff-57ba6c5513ff').width('35%')"
       ],
       "metadata": {},
       "output_type": "display_data",
       "text": [
        "<IPython.core.display.Javascript at 0x11e439dd0>"
       ]
      },
      {
       "javascript": [
        "$('div#1f9c459d-2509-423e-a1ff-57ba6c5513ff').width('36%')"
       ],
       "metadata": {},
       "output_type": "display_data",
       "text": [
        "<IPython.core.display.Javascript at 0x11e439dd0>"
       ]
      },
      {
       "javascript": [
        "$('div#1f9c459d-2509-423e-a1ff-57ba6c5513ff').width('36%')"
       ],
       "metadata": {},
       "output_type": "display_data",
       "text": [
        "<IPython.core.display.Javascript at 0x11e439dd0>"
       ]
      },
      {
       "javascript": [
        "$('div#1f9c459d-2509-423e-a1ff-57ba6c5513ff').width('37%')"
       ],
       "metadata": {},
       "output_type": "display_data",
       "text": [
        "<IPython.core.display.Javascript at 0x11e439dd0>"
       ]
      },
      {
       "javascript": [
        "$('div#1f9c459d-2509-423e-a1ff-57ba6c5513ff').width('37%')"
       ],
       "metadata": {},
       "output_type": "display_data",
       "text": [
        "<IPython.core.display.Javascript at 0x11e439dd0>"
       ]
      },
      {
       "javascript": [
        "$('div#1f9c459d-2509-423e-a1ff-57ba6c5513ff').width('38%')"
       ],
       "metadata": {},
       "output_type": "display_data",
       "text": [
        "<IPython.core.display.Javascript at 0x11e439dd0>"
       ]
      },
      {
       "javascript": [
        "$('div#1f9c459d-2509-423e-a1ff-57ba6c5513ff').width('38%')"
       ],
       "metadata": {},
       "output_type": "display_data",
       "text": [
        "<IPython.core.display.Javascript at 0x11e439dd0>"
       ]
      },
      {
       "javascript": [
        "$('div#1f9c459d-2509-423e-a1ff-57ba6c5513ff').width('39%')"
       ],
       "metadata": {},
       "output_type": "display_data",
       "text": [
        "<IPython.core.display.Javascript at 0x11e439dd0>"
       ]
      },
      {
       "javascript": [
        "$('div#1f9c459d-2509-423e-a1ff-57ba6c5513ff').width('40%')"
       ],
       "metadata": {},
       "output_type": "display_data",
       "text": [
        "<IPython.core.display.Javascript at 0x11e439dd0>"
       ]
      },
      {
       "javascript": [
        "$('div#1f9c459d-2509-423e-a1ff-57ba6c5513ff').width('40%')"
       ],
       "metadata": {},
       "output_type": "display_data",
       "text": [
        "<IPython.core.display.Javascript at 0x11e439dd0>"
       ]
      },
      {
       "javascript": [
        "$('div#1f9c459d-2509-423e-a1ff-57ba6c5513ff').width('41%')"
       ],
       "metadata": {},
       "output_type": "display_data",
       "text": [
        "<IPython.core.display.Javascript at 0x11e439dd0>"
       ]
      },
      {
       "javascript": [
        "$('div#1f9c459d-2509-423e-a1ff-57ba6c5513ff').width('41%')"
       ],
       "metadata": {},
       "output_type": "display_data",
       "text": [
        "<IPython.core.display.Javascript at 0x11e439dd0>"
       ]
      },
      {
       "javascript": [
        "$('div#1f9c459d-2509-423e-a1ff-57ba6c5513ff').width('42%')"
       ],
       "metadata": {},
       "output_type": "display_data",
       "text": [
        "<IPython.core.display.Javascript at 0x11e439dd0>"
       ]
      },
      {
       "javascript": [
        "$('div#1f9c459d-2509-423e-a1ff-57ba6c5513ff').width('42%')"
       ],
       "metadata": {},
       "output_type": "display_data",
       "text": [
        "<IPython.core.display.Javascript at 0x11e439dd0>"
       ]
      },
      {
       "javascript": [
        "$('div#1f9c459d-2509-423e-a1ff-57ba6c5513ff').width('43%')"
       ],
       "metadata": {},
       "output_type": "display_data",
       "text": [
        "<IPython.core.display.Javascript at 0x11e439dd0>"
       ]
      },
      {
       "javascript": [
        "$('div#1f9c459d-2509-423e-a1ff-57ba6c5513ff').width('43%')"
       ],
       "metadata": {},
       "output_type": "display_data",
       "text": [
        "<IPython.core.display.Javascript at 0x11e439dd0>"
       ]
      },
      {
       "javascript": [
        "$('div#1f9c459d-2509-423e-a1ff-57ba6c5513ff').width('44%')"
       ],
       "metadata": {},
       "output_type": "display_data",
       "text": [
        "<IPython.core.display.Javascript at 0x11e439dd0>"
       ]
      },
      {
       "javascript": [
        "$('div#1f9c459d-2509-423e-a1ff-57ba6c5513ff').width('45%')"
       ],
       "metadata": {},
       "output_type": "display_data",
       "text": [
        "<IPython.core.display.Javascript at 0x11e439dd0>"
       ]
      },
      {
       "javascript": [
        "$('div#1f9c459d-2509-423e-a1ff-57ba6c5513ff').width('45%')"
       ],
       "metadata": {},
       "output_type": "display_data",
       "text": [
        "<IPython.core.display.Javascript at 0x11e439dd0>"
       ]
      },
      {
       "javascript": [
        "$('div#1f9c459d-2509-423e-a1ff-57ba6c5513ff').width('46%')"
       ],
       "metadata": {},
       "output_type": "display_data",
       "text": [
        "<IPython.core.display.Javascript at 0x11e439dd0>"
       ]
      },
      {
       "javascript": [
        "$('div#1f9c459d-2509-423e-a1ff-57ba6c5513ff').width('46%')"
       ],
       "metadata": {},
       "output_type": "display_data",
       "text": [
        "<IPython.core.display.Javascript at 0x11e439dd0>"
       ]
      },
      {
       "javascript": [
        "$('div#1f9c459d-2509-423e-a1ff-57ba6c5513ff').width('47%')"
       ],
       "metadata": {},
       "output_type": "display_data",
       "text": [
        "<IPython.core.display.Javascript at 0x11e439dd0>"
       ]
      },
      {
       "javascript": [
        "$('div#1f9c459d-2509-423e-a1ff-57ba6c5513ff').width('47%')"
       ],
       "metadata": {},
       "output_type": "display_data",
       "text": [
        "<IPython.core.display.Javascript at 0x11e439dd0>"
       ]
      },
      {
       "javascript": [
        "$('div#1f9c459d-2509-423e-a1ff-57ba6c5513ff').width('48%')"
       ],
       "metadata": {},
       "output_type": "display_data",
       "text": [
        "<IPython.core.display.Javascript at 0x11e439dd0>"
       ]
      },
      {
       "javascript": [
        "$('div#1f9c459d-2509-423e-a1ff-57ba6c5513ff').width('48%')"
       ],
       "metadata": {},
       "output_type": "display_data",
       "text": [
        "<IPython.core.display.Javascript at 0x11e439dd0>"
       ]
      },
      {
       "javascript": [
        "$('div#1f9c459d-2509-423e-a1ff-57ba6c5513ff').width('49%')"
       ],
       "metadata": {},
       "output_type": "display_data",
       "text": [
        "<IPython.core.display.Javascript at 0x11e439dd0>"
       ]
      },
      {
       "javascript": [
        "$('div#1f9c459d-2509-423e-a1ff-57ba6c5513ff').width('50%')"
       ],
       "metadata": {},
       "output_type": "display_data",
       "text": [
        "<IPython.core.display.Javascript at 0x11e439dd0>"
       ]
      },
      {
       "javascript": [
        "$('div#1f9c459d-2509-423e-a1ff-57ba6c5513ff').width('50%')"
       ],
       "metadata": {},
       "output_type": "display_data",
       "text": [
        "<IPython.core.display.Javascript at 0x11e439dd0>"
       ]
      },
      {
       "javascript": [
        "$('div#1f9c459d-2509-423e-a1ff-57ba6c5513ff').width('51%')"
       ],
       "metadata": {},
       "output_type": "display_data",
       "text": [
        "<IPython.core.display.Javascript at 0x11e439dd0>"
       ]
      },
      {
       "javascript": [
        "$('div#1f9c459d-2509-423e-a1ff-57ba6c5513ff').width('51%')"
       ],
       "metadata": {},
       "output_type": "display_data",
       "text": [
        "<IPython.core.display.Javascript at 0x11e439dd0>"
       ]
      },
      {
       "javascript": [
        "$('div#1f9c459d-2509-423e-a1ff-57ba6c5513ff').width('52%')"
       ],
       "metadata": {},
       "output_type": "display_data",
       "text": [
        "<IPython.core.display.Javascript at 0x11e439dd0>"
       ]
      },
      {
       "javascript": [
        "$('div#1f9c459d-2509-423e-a1ff-57ba6c5513ff').width('52%')"
       ],
       "metadata": {},
       "output_type": "display_data",
       "text": [
        "<IPython.core.display.Javascript at 0x11e439dd0>"
       ]
      },
      {
       "javascript": [
        "$('div#1f9c459d-2509-423e-a1ff-57ba6c5513ff').width('53%')"
       ],
       "metadata": {},
       "output_type": "display_data",
       "text": [
        "<IPython.core.display.Javascript at 0x11e439dd0>"
       ]
      },
      {
       "javascript": [
        "$('div#1f9c459d-2509-423e-a1ff-57ba6c5513ff').width('53%')"
       ],
       "metadata": {},
       "output_type": "display_data",
       "text": [
        "<IPython.core.display.Javascript at 0x11e439dd0>"
       ]
      },
      {
       "javascript": [
        "$('div#1f9c459d-2509-423e-a1ff-57ba6c5513ff').width('54%')"
       ],
       "metadata": {},
       "output_type": "display_data",
       "text": [
        "<IPython.core.display.Javascript at 0x11e439dd0>"
       ]
      },
      {
       "javascript": [
        "$('div#1f9c459d-2509-423e-a1ff-57ba6c5513ff').width('55%')"
       ],
       "metadata": {},
       "output_type": "display_data",
       "text": [
        "<IPython.core.display.Javascript at 0x11e439dd0>"
       ]
      },
      {
       "javascript": [
        "$('div#1f9c459d-2509-423e-a1ff-57ba6c5513ff').width('55%')"
       ],
       "metadata": {},
       "output_type": "display_data",
       "text": [
        "<IPython.core.display.Javascript at 0x11e439dd0>"
       ]
      },
      {
       "javascript": [
        "$('div#1f9c459d-2509-423e-a1ff-57ba6c5513ff').width('56%')"
       ],
       "metadata": {},
       "output_type": "display_data",
       "text": [
        "<IPython.core.display.Javascript at 0x11e439dd0>"
       ]
      },
      {
       "javascript": [
        "$('div#1f9c459d-2509-423e-a1ff-57ba6c5513ff').width('56%')"
       ],
       "metadata": {},
       "output_type": "display_data",
       "text": [
        "<IPython.core.display.Javascript at 0x11e439dd0>"
       ]
      },
      {
       "javascript": [
        "$('div#1f9c459d-2509-423e-a1ff-57ba6c5513ff').width('57%')"
       ],
       "metadata": {},
       "output_type": "display_data",
       "text": [
        "<IPython.core.display.Javascript at 0x11e439dd0>"
       ]
      },
      {
       "javascript": [
        "$('div#1f9c459d-2509-423e-a1ff-57ba6c5513ff').width('57%')"
       ],
       "metadata": {},
       "output_type": "display_data",
       "text": [
        "<IPython.core.display.Javascript at 0x11e439dd0>"
       ]
      },
      {
       "javascript": [
        "$('div#1f9c459d-2509-423e-a1ff-57ba6c5513ff').width('58%')"
       ],
       "metadata": {},
       "output_type": "display_data",
       "text": [
        "<IPython.core.display.Javascript at 0x11e439dd0>"
       ]
      },
      {
       "javascript": [
        "$('div#1f9c459d-2509-423e-a1ff-57ba6c5513ff').width('58%')"
       ],
       "metadata": {},
       "output_type": "display_data",
       "text": [
        "<IPython.core.display.Javascript at 0x11e439dd0>"
       ]
      },
      {
       "javascript": [
        "$('div#1f9c459d-2509-423e-a1ff-57ba6c5513ff').width('59%')"
       ],
       "metadata": {},
       "output_type": "display_data",
       "text": [
        "<IPython.core.display.Javascript at 0x11e439dd0>"
       ]
      },
      {
       "javascript": [
        "$('div#1f9c459d-2509-423e-a1ff-57ba6c5513ff').width('60%')"
       ],
       "metadata": {},
       "output_type": "display_data",
       "text": [
        "<IPython.core.display.Javascript at 0x11e439dd0>"
       ]
      },
      {
       "javascript": [
        "$('div#1f9c459d-2509-423e-a1ff-57ba6c5513ff').width('60%')"
       ],
       "metadata": {},
       "output_type": "display_data",
       "text": [
        "<IPython.core.display.Javascript at 0x11e439dd0>"
       ]
      },
      {
       "javascript": [
        "$('div#1f9c459d-2509-423e-a1ff-57ba6c5513ff').width('61%')"
       ],
       "metadata": {},
       "output_type": "display_data",
       "text": [
        "<IPython.core.display.Javascript at 0x11e439dd0>"
       ]
      },
      {
       "javascript": [
        "$('div#1f9c459d-2509-423e-a1ff-57ba6c5513ff').width('61%')"
       ],
       "metadata": {},
       "output_type": "display_data",
       "text": [
        "<IPython.core.display.Javascript at 0x11e439dd0>"
       ]
      },
      {
       "javascript": [
        "$('div#1f9c459d-2509-423e-a1ff-57ba6c5513ff').width('62%')"
       ],
       "metadata": {},
       "output_type": "display_data",
       "text": [
        "<IPython.core.display.Javascript at 0x11e439dd0>"
       ]
      },
      {
       "javascript": [
        "$('div#1f9c459d-2509-423e-a1ff-57ba6c5513ff').width('62%')"
       ],
       "metadata": {},
       "output_type": "display_data",
       "text": [
        "<IPython.core.display.Javascript at 0x11e439dd0>"
       ]
      },
      {
       "javascript": [
        "$('div#1f9c459d-2509-423e-a1ff-57ba6c5513ff').width('63%')"
       ],
       "metadata": {},
       "output_type": "display_data",
       "text": [
        "<IPython.core.display.Javascript at 0x11e439dd0>"
       ]
      },
      {
       "javascript": [
        "$('div#1f9c459d-2509-423e-a1ff-57ba6c5513ff').width('63%')"
       ],
       "metadata": {},
       "output_type": "display_data",
       "text": [
        "<IPython.core.display.Javascript at 0x11e439dd0>"
       ]
      },
      {
       "javascript": [
        "$('div#1f9c459d-2509-423e-a1ff-57ba6c5513ff').width('64%')"
       ],
       "metadata": {},
       "output_type": "display_data",
       "text": [
        "<IPython.core.display.Javascript at 0x11e439dd0>"
       ]
      },
      {
       "javascript": [
        "$('div#1f9c459d-2509-423e-a1ff-57ba6c5513ff').width('65%')"
       ],
       "metadata": {},
       "output_type": "display_data",
       "text": [
        "<IPython.core.display.Javascript at 0x11e439dd0>"
       ]
      },
      {
       "javascript": [
        "$('div#1f9c459d-2509-423e-a1ff-57ba6c5513ff').width('65%')"
       ],
       "metadata": {},
       "output_type": "display_data",
       "text": [
        "<IPython.core.display.Javascript at 0x11e439dd0>"
       ]
      },
      {
       "javascript": [
        "$('div#1f9c459d-2509-423e-a1ff-57ba6c5513ff').width('66%')"
       ],
       "metadata": {},
       "output_type": "display_data",
       "text": [
        "<IPython.core.display.Javascript at 0x11e439dd0>"
       ]
      },
      {
       "javascript": [
        "$('div#1f9c459d-2509-423e-a1ff-57ba6c5513ff').width('66%')"
       ],
       "metadata": {},
       "output_type": "display_data",
       "text": [
        "<IPython.core.display.Javascript at 0x11e439dd0>"
       ]
      },
      {
       "javascript": [
        "$('div#1f9c459d-2509-423e-a1ff-57ba6c5513ff').width('67%')"
       ],
       "metadata": {},
       "output_type": "display_data",
       "text": [
        "<IPython.core.display.Javascript at 0x11e439dd0>"
       ]
      },
      {
       "javascript": [
        "$('div#1f9c459d-2509-423e-a1ff-57ba6c5513ff').width('67%')"
       ],
       "metadata": {},
       "output_type": "display_data",
       "text": [
        "<IPython.core.display.Javascript at 0x11e439dd0>"
       ]
      },
      {
       "javascript": [
        "$('div#1f9c459d-2509-423e-a1ff-57ba6c5513ff').width('68%')"
       ],
       "metadata": {},
       "output_type": "display_data",
       "text": [
        "<IPython.core.display.Javascript at 0x11e439dd0>"
       ]
      },
      {
       "javascript": [
        "$('div#1f9c459d-2509-423e-a1ff-57ba6c5513ff').width('68%')"
       ],
       "metadata": {},
       "output_type": "display_data",
       "text": [
        "<IPython.core.display.Javascript at 0x11e439dd0>"
       ]
      },
      {
       "javascript": [
        "$('div#1f9c459d-2509-423e-a1ff-57ba6c5513ff').width('69%')"
       ],
       "metadata": {},
       "output_type": "display_data",
       "text": [
        "<IPython.core.display.Javascript at 0x11e439dd0>"
       ]
      },
      {
       "javascript": [
        "$('div#1f9c459d-2509-423e-a1ff-57ba6c5513ff').width('70%')"
       ],
       "metadata": {},
       "output_type": "display_data",
       "text": [
        "<IPython.core.display.Javascript at 0x11e439dd0>"
       ]
      },
      {
       "javascript": [
        "$('div#1f9c459d-2509-423e-a1ff-57ba6c5513ff').width('70%')"
       ],
       "metadata": {},
       "output_type": "display_data",
       "text": [
        "<IPython.core.display.Javascript at 0x11e439dd0>"
       ]
      },
      {
       "javascript": [
        "$('div#1f9c459d-2509-423e-a1ff-57ba6c5513ff').width('71%')"
       ],
       "metadata": {},
       "output_type": "display_data",
       "text": [
        "<IPython.core.display.Javascript at 0x11e439dd0>"
       ]
      },
      {
       "javascript": [
        "$('div#1f9c459d-2509-423e-a1ff-57ba6c5513ff').width('71%')"
       ],
       "metadata": {},
       "output_type": "display_data",
       "text": [
        "<IPython.core.display.Javascript at 0x11e439dd0>"
       ]
      },
      {
       "javascript": [
        "$('div#1f9c459d-2509-423e-a1ff-57ba6c5513ff').width('72%')"
       ],
       "metadata": {},
       "output_type": "display_data",
       "text": [
        "<IPython.core.display.Javascript at 0x11e439dd0>"
       ]
      },
      {
       "javascript": [
        "$('div#1f9c459d-2509-423e-a1ff-57ba6c5513ff').width('72%')"
       ],
       "metadata": {},
       "output_type": "display_data",
       "text": [
        "<IPython.core.display.Javascript at 0x11e439dd0>"
       ]
      },
      {
       "javascript": [
        "$('div#1f9c459d-2509-423e-a1ff-57ba6c5513ff').width('73%')"
       ],
       "metadata": {},
       "output_type": "display_data",
       "text": [
        "<IPython.core.display.Javascript at 0x11e439dd0>"
       ]
      },
      {
       "javascript": [
        "$('div#1f9c459d-2509-423e-a1ff-57ba6c5513ff').width('73%')"
       ],
       "metadata": {},
       "output_type": "display_data",
       "text": [
        "<IPython.core.display.Javascript at 0x11e439dd0>"
       ]
      },
      {
       "javascript": [
        "$('div#1f9c459d-2509-423e-a1ff-57ba6c5513ff').width('74%')"
       ],
       "metadata": {},
       "output_type": "display_data",
       "text": [
        "<IPython.core.display.Javascript at 0x11e439dd0>"
       ]
      },
      {
       "javascript": [
        "$('div#1f9c459d-2509-423e-a1ff-57ba6c5513ff').width('75%')"
       ],
       "metadata": {},
       "output_type": "display_data",
       "text": [
        "<IPython.core.display.Javascript at 0x11e439dd0>"
       ]
      },
      {
       "javascript": [
        "$('div#1f9c459d-2509-423e-a1ff-57ba6c5513ff').width('75%')"
       ],
       "metadata": {},
       "output_type": "display_data",
       "text": [
        "<IPython.core.display.Javascript at 0x11e439dd0>"
       ]
      },
      {
       "javascript": [
        "$('div#1f9c459d-2509-423e-a1ff-57ba6c5513ff').width('76%')"
       ],
       "metadata": {},
       "output_type": "display_data",
       "text": [
        "<IPython.core.display.Javascript at 0x11e439dd0>"
       ]
      },
      {
       "javascript": [
        "$('div#1f9c459d-2509-423e-a1ff-57ba6c5513ff').width('76%')"
       ],
       "metadata": {},
       "output_type": "display_data",
       "text": [
        "<IPython.core.display.Javascript at 0x11e439dd0>"
       ]
      },
      {
       "javascript": [
        "$('div#1f9c459d-2509-423e-a1ff-57ba6c5513ff').width('77%')"
       ],
       "metadata": {},
       "output_type": "display_data",
       "text": [
        "<IPython.core.display.Javascript at 0x11e439dd0>"
       ]
      },
      {
       "javascript": [
        "$('div#1f9c459d-2509-423e-a1ff-57ba6c5513ff').width('77%')"
       ],
       "metadata": {},
       "output_type": "display_data",
       "text": [
        "<IPython.core.display.Javascript at 0x11e439dd0>"
       ]
      },
      {
       "javascript": [
        "$('div#1f9c459d-2509-423e-a1ff-57ba6c5513ff').width('78%')"
       ],
       "metadata": {},
       "output_type": "display_data",
       "text": [
        "<IPython.core.display.Javascript at 0x11e439dd0>"
       ]
      },
      {
       "javascript": [
        "$('div#1f9c459d-2509-423e-a1ff-57ba6c5513ff').width('78%')"
       ],
       "metadata": {},
       "output_type": "display_data",
       "text": [
        "<IPython.core.display.Javascript at 0x11e439dd0>"
       ]
      },
      {
       "javascript": [
        "$('div#1f9c459d-2509-423e-a1ff-57ba6c5513ff').width('79%')"
       ],
       "metadata": {},
       "output_type": "display_data",
       "text": [
        "<IPython.core.display.Javascript at 0x11e439dd0>"
       ]
      },
      {
       "javascript": [
        "$('div#1f9c459d-2509-423e-a1ff-57ba6c5513ff').width('80%')"
       ],
       "metadata": {},
       "output_type": "display_data",
       "text": [
        "<IPython.core.display.Javascript at 0x11e439dd0>"
       ]
      },
      {
       "javascript": [
        "$('div#1f9c459d-2509-423e-a1ff-57ba6c5513ff').width('80%')"
       ],
       "metadata": {},
       "output_type": "display_data",
       "text": [
        "<IPython.core.display.Javascript at 0x11e439dd0>"
       ]
      },
      {
       "javascript": [
        "$('div#1f9c459d-2509-423e-a1ff-57ba6c5513ff').width('81%')"
       ],
       "metadata": {},
       "output_type": "display_data",
       "text": [
        "<IPython.core.display.Javascript at 0x11e439dd0>"
       ]
      },
      {
       "javascript": [
        "$('div#1f9c459d-2509-423e-a1ff-57ba6c5513ff').width('81%')"
       ],
       "metadata": {},
       "output_type": "display_data",
       "text": [
        "<IPython.core.display.Javascript at 0x11e439dd0>"
       ]
      },
      {
       "javascript": [
        "$('div#1f9c459d-2509-423e-a1ff-57ba6c5513ff').width('82%')"
       ],
       "metadata": {},
       "output_type": "display_data",
       "text": [
        "<IPython.core.display.Javascript at 0x11e439dd0>"
       ]
      },
      {
       "javascript": [
        "$('div#1f9c459d-2509-423e-a1ff-57ba6c5513ff').width('82%')"
       ],
       "metadata": {},
       "output_type": "display_data",
       "text": [
        "<IPython.core.display.Javascript at 0x11e439dd0>"
       ]
      },
      {
       "javascript": [
        "$('div#1f9c459d-2509-423e-a1ff-57ba6c5513ff').width('83%')"
       ],
       "metadata": {},
       "output_type": "display_data",
       "text": [
        "<IPython.core.display.Javascript at 0x11e439dd0>"
       ]
      },
      {
       "javascript": [
        "$('div#1f9c459d-2509-423e-a1ff-57ba6c5513ff').width('83%')"
       ],
       "metadata": {},
       "output_type": "display_data",
       "text": [
        "<IPython.core.display.Javascript at 0x11e439dd0>"
       ]
      },
      {
       "javascript": [
        "$('div#1f9c459d-2509-423e-a1ff-57ba6c5513ff').width('84%')"
       ],
       "metadata": {},
       "output_type": "display_data",
       "text": [
        "<IPython.core.display.Javascript at 0x11e439dd0>"
       ]
      },
      {
       "javascript": [
        "$('div#1f9c459d-2509-423e-a1ff-57ba6c5513ff').width('85%')"
       ],
       "metadata": {},
       "output_type": "display_data",
       "text": [
        "<IPython.core.display.Javascript at 0x11e439dd0>"
       ]
      },
      {
       "javascript": [
        "$('div#1f9c459d-2509-423e-a1ff-57ba6c5513ff').width('85%')"
       ],
       "metadata": {},
       "output_type": "display_data",
       "text": [
        "<IPython.core.display.Javascript at 0x11e439dd0>"
       ]
      },
      {
       "javascript": [
        "$('div#1f9c459d-2509-423e-a1ff-57ba6c5513ff').width('86%')"
       ],
       "metadata": {},
       "output_type": "display_data",
       "text": [
        "<IPython.core.display.Javascript at 0x11e439dd0>"
       ]
      },
      {
       "javascript": [
        "$('div#1f9c459d-2509-423e-a1ff-57ba6c5513ff').width('86%')"
       ],
       "metadata": {},
       "output_type": "display_data",
       "text": [
        "<IPython.core.display.Javascript at 0x11e439dd0>"
       ]
      },
      {
       "javascript": [
        "$('div#1f9c459d-2509-423e-a1ff-57ba6c5513ff').width('87%')"
       ],
       "metadata": {},
       "output_type": "display_data",
       "text": [
        "<IPython.core.display.Javascript at 0x11e439dd0>"
       ]
      },
      {
       "javascript": [
        "$('div#1f9c459d-2509-423e-a1ff-57ba6c5513ff').width('87%')"
       ],
       "metadata": {},
       "output_type": "display_data",
       "text": [
        "<IPython.core.display.Javascript at 0x11e439dd0>"
       ]
      },
      {
       "javascript": [
        "$('div#1f9c459d-2509-423e-a1ff-57ba6c5513ff').width('88%')"
       ],
       "metadata": {},
       "output_type": "display_data",
       "text": [
        "<IPython.core.display.Javascript at 0x11e439dd0>"
       ]
      },
      {
       "javascript": [
        "$('div#1f9c459d-2509-423e-a1ff-57ba6c5513ff').width('88%')"
       ],
       "metadata": {},
       "output_type": "display_data",
       "text": [
        "<IPython.core.display.Javascript at 0x11e439dd0>"
       ]
      },
      {
       "javascript": [
        "$('div#1f9c459d-2509-423e-a1ff-57ba6c5513ff').width('89%')"
       ],
       "metadata": {},
       "output_type": "display_data",
       "text": [
        "<IPython.core.display.Javascript at 0x11e439dd0>"
       ]
      },
      {
       "javascript": [
        "$('div#1f9c459d-2509-423e-a1ff-57ba6c5513ff').width('90%')"
       ],
       "metadata": {},
       "output_type": "display_data",
       "text": [
        "<IPython.core.display.Javascript at 0x11e439dd0>"
       ]
      },
      {
       "javascript": [
        "$('div#1f9c459d-2509-423e-a1ff-57ba6c5513ff').width('90%')"
       ],
       "metadata": {},
       "output_type": "display_data",
       "text": [
        "<IPython.core.display.Javascript at 0x11e439dd0>"
       ]
      },
      {
       "javascript": [
        "$('div#1f9c459d-2509-423e-a1ff-57ba6c5513ff').width('91%')"
       ],
       "metadata": {},
       "output_type": "display_data",
       "text": [
        "<IPython.core.display.Javascript at 0x11e439dd0>"
       ]
      },
      {
       "javascript": [
        "$('div#1f9c459d-2509-423e-a1ff-57ba6c5513ff').width('91%')"
       ],
       "metadata": {},
       "output_type": "display_data",
       "text": [
        "<IPython.core.display.Javascript at 0x11e439dd0>"
       ]
      },
      {
       "javascript": [
        "$('div#1f9c459d-2509-423e-a1ff-57ba6c5513ff').width('92%')"
       ],
       "metadata": {},
       "output_type": "display_data",
       "text": [
        "<IPython.core.display.Javascript at 0x11e439dd0>"
       ]
      },
      {
       "javascript": [
        "$('div#1f9c459d-2509-423e-a1ff-57ba6c5513ff').width('92%')"
       ],
       "metadata": {},
       "output_type": "display_data",
       "text": [
        "<IPython.core.display.Javascript at 0x11e439dd0>"
       ]
      },
      {
       "javascript": [
        "$('div#1f9c459d-2509-423e-a1ff-57ba6c5513ff').width('93%')"
       ],
       "metadata": {},
       "output_type": "display_data",
       "text": [
        "<IPython.core.display.Javascript at 0x11e439dd0>"
       ]
      },
      {
       "javascript": [
        "$('div#1f9c459d-2509-423e-a1ff-57ba6c5513ff').width('93%')"
       ],
       "metadata": {},
       "output_type": "display_data",
       "text": [
        "<IPython.core.display.Javascript at 0x11e439dd0>"
       ]
      },
      {
       "javascript": [
        "$('div#1f9c459d-2509-423e-a1ff-57ba6c5513ff').width('94%')"
       ],
       "metadata": {},
       "output_type": "display_data",
       "text": [
        "<IPython.core.display.Javascript at 0x11e439dd0>"
       ]
      },
      {
       "javascript": [
        "$('div#1f9c459d-2509-423e-a1ff-57ba6c5513ff').width('95%')"
       ],
       "metadata": {},
       "output_type": "display_data",
       "text": [
        "<IPython.core.display.Javascript at 0x11e439dd0>"
       ]
      },
      {
       "javascript": [
        "$('div#1f9c459d-2509-423e-a1ff-57ba6c5513ff').width('95%')"
       ],
       "metadata": {},
       "output_type": "display_data",
       "text": [
        "<IPython.core.display.Javascript at 0x11e439dd0>"
       ]
      },
      {
       "javascript": [
        "$('div#1f9c459d-2509-423e-a1ff-57ba6c5513ff').width('96%')"
       ],
       "metadata": {},
       "output_type": "display_data",
       "text": [
        "<IPython.core.display.Javascript at 0x11e439dd0>"
       ]
      },
      {
       "javascript": [
        "$('div#1f9c459d-2509-423e-a1ff-57ba6c5513ff').width('96%')"
       ],
       "metadata": {},
       "output_type": "display_data",
       "text": [
        "<IPython.core.display.Javascript at 0x11e439dd0>"
       ]
      },
      {
       "javascript": [
        "$('div#1f9c459d-2509-423e-a1ff-57ba6c5513ff').width('97%')"
       ],
       "metadata": {},
       "output_type": "display_data",
       "text": [
        "<IPython.core.display.Javascript at 0x11e439dd0>"
       ]
      },
      {
       "javascript": [
        "$('div#1f9c459d-2509-423e-a1ff-57ba6c5513ff').width('97%')"
       ],
       "metadata": {},
       "output_type": "display_data",
       "text": [
        "<IPython.core.display.Javascript at 0x11e439dd0>"
       ]
      },
      {
       "javascript": [
        "$('div#1f9c459d-2509-423e-a1ff-57ba6c5513ff').width('98%')"
       ],
       "metadata": {},
       "output_type": "display_data",
       "text": [
        "<IPython.core.display.Javascript at 0x11e439dd0>"
       ]
      },
      {
       "javascript": [
        "$('div#1f9c459d-2509-423e-a1ff-57ba6c5513ff').width('98%')"
       ],
       "metadata": {},
       "output_type": "display_data",
       "text": [
        "<IPython.core.display.Javascript at 0x11e439dd0>"
       ]
      },
      {
       "javascript": [
        "$('div#1f9c459d-2509-423e-a1ff-57ba6c5513ff').width('99%')"
       ],
       "metadata": {},
       "output_type": "display_data",
       "text": [
        "<IPython.core.display.Javascript at 0x11e439dd0>"
       ]
      },
      {
       "javascript": [
        "$('div#1f9c459d-2509-423e-a1ff-57ba6c5513ff').width('100%')"
       ],
       "metadata": {},
       "output_type": "display_data",
       "text": [
        "<IPython.core.display.Javascript at 0x11e4394d0>"
       ]
      },
      {
       "html": [
        "<iframe src=http://127.0.0.1:8001/3914718 width=100%% height=420 frameborder=0></iframe>"
       ],
       "metadata": {},
       "output_type": "pyout",
       "prompt_number": 15,
       "text": [
        "<DisplayNode.DisplayNodeProxy.DisplayNode instance at 0x11b2c8e60>"
       ]
      }
     ],
     "prompt_number": 15
    },
    {
     "cell_type": "code",
     "collapsed": false,
     "input": [
      "bproj_pet   = PET.backproject(proj_pet) \n",
      "bproj_spect = SPECT.backproject(proj_spect)"
     ],
     "language": "python",
     "metadata": {},
     "outputs": [],
     "prompt_number": 16
    },
    {
     "cell_type": "code",
     "collapsed": false,
     "input": [
      "occiput.Visualization.MultipleVolumes([bproj_pet,bproj_spect,phantom],scales=(1,250,1),axis=1).display()"
     ],
     "language": "python",
     "metadata": {},
     "outputs": [
      {
       "html": [
        "\n",
        "        <div style=\"border: 1px solid white; width:100%%; height:6px; background-color:rgb(246,246,246)\">\n",
        "            <div id=\"828235e3-a92b-4459-b996-078dd6474a33\" style=\"background-color:rgb(200,200,200); width:0%; height:6px\"> </div>\n",
        "        </div> \n",
        "        "
       ],
       "metadata": {},
       "output_type": "display_data",
       "text": [
        "<IPython.core.display.HTML at 0x11e4399d0>"
       ]
      },
      {
       "javascript": [
        "$('div#828235e3-a92b-4459-b996-078dd6474a33').width('1%')"
       ],
       "metadata": {},
       "output_type": "display_data",
       "text": [
        "<IPython.core.display.Javascript at 0x11e439a50>"
       ]
      },
      {
       "javascript": [
        "$('div#828235e3-a92b-4459-b996-078dd6474a33').width('1%')"
       ],
       "metadata": {},
       "output_type": "display_data",
       "text": [
        "<IPython.core.display.Javascript at 0x11e439a50>"
       ]
      },
      {
       "javascript": [
        "$('div#828235e3-a92b-4459-b996-078dd6474a33').width('1%')"
       ],
       "metadata": {},
       "output_type": "display_data",
       "text": [
        "<IPython.core.display.Javascript at 0x11e439a50>"
       ]
      },
      {
       "javascript": [
        "$('div#828235e3-a92b-4459-b996-078dd6474a33').width('1%')"
       ],
       "metadata": {},
       "output_type": "display_data",
       "text": [
        "<IPython.core.display.Javascript at 0x11e439a50>"
       ]
      },
      {
       "javascript": [
        "$('div#828235e3-a92b-4459-b996-078dd6474a33').width('1%')"
       ],
       "metadata": {},
       "output_type": "display_data",
       "text": [
        "<IPython.core.display.Javascript at 0x11e439a50>"
       ]
      },
      {
       "javascript": [
        "$('div#828235e3-a92b-4459-b996-078dd6474a33').width('1%')"
       ],
       "metadata": {},
       "output_type": "display_data",
       "text": [
        "<IPython.core.display.Javascript at 0x11e439a50>"
       ]
      },
      {
       "javascript": [
        "$('div#828235e3-a92b-4459-b996-078dd6474a33').width('1%')"
       ],
       "metadata": {},
       "output_type": "display_data",
       "text": [
        "<IPython.core.display.Javascript at 0x11e439a50>"
       ]
      },
      {
       "javascript": [
        "$('div#828235e3-a92b-4459-b996-078dd6474a33').width('2%')"
       ],
       "metadata": {},
       "output_type": "display_data",
       "text": [
        "<IPython.core.display.Javascript at 0x11e439a50>"
       ]
      },
      {
       "javascript": [
        "$('div#828235e3-a92b-4459-b996-078dd6474a33').width('2%')"
       ],
       "metadata": {},
       "output_type": "display_data",
       "text": [
        "<IPython.core.display.Javascript at 0x11e439a50>"
       ]
      },
      {
       "javascript": [
        "$('div#828235e3-a92b-4459-b996-078dd6474a33').width('2%')"
       ],
       "metadata": {},
       "output_type": "display_data",
       "text": [
        "<IPython.core.display.Javascript at 0x11e439a50>"
       ]
      },
      {
       "javascript": [
        "$('div#828235e3-a92b-4459-b996-078dd6474a33').width('2%')"
       ],
       "metadata": {},
       "output_type": "display_data",
       "text": [
        "<IPython.core.display.Javascript at 0x11e439a50>"
       ]
      },
      {
       "javascript": [
        "$('div#828235e3-a92b-4459-b996-078dd6474a33').width('3%')"
       ],
       "metadata": {},
       "output_type": "display_data",
       "text": [
        "<IPython.core.display.Javascript at 0x11e439a50>"
       ]
      },
      {
       "javascript": [
        "$('div#828235e3-a92b-4459-b996-078dd6474a33').width('3%')"
       ],
       "metadata": {},
       "output_type": "display_data",
       "text": [
        "<IPython.core.display.Javascript at 0x11e439a50>"
       ]
      },
      {
       "javascript": [
        "$('div#828235e3-a92b-4459-b996-078dd6474a33').width('3%')"
       ],
       "metadata": {},
       "output_type": "display_data",
       "text": [
        "<IPython.core.display.Javascript at 0x11e439a50>"
       ]
      },
      {
       "javascript": [
        "$('div#828235e3-a92b-4459-b996-078dd6474a33').width('3%')"
       ],
       "metadata": {},
       "output_type": "display_data",
       "text": [
        "<IPython.core.display.Javascript at 0x11e439a50>"
       ]
      },
      {
       "javascript": [
        "$('div#828235e3-a92b-4459-b996-078dd6474a33').width('4%')"
       ],
       "metadata": {},
       "output_type": "display_data",
       "text": [
        "<IPython.core.display.Javascript at 0x11e439a50>"
       ]
      },
      {
       "javascript": [
        "$('div#828235e3-a92b-4459-b996-078dd6474a33').width('4%')"
       ],
       "metadata": {},
       "output_type": "display_data",
       "text": [
        "<IPython.core.display.Javascript at 0x11e439a50>"
       ]
      },
      {
       "javascript": [
        "$('div#828235e3-a92b-4459-b996-078dd6474a33').width('4%')"
       ],
       "metadata": {},
       "output_type": "display_data",
       "text": [
        "<IPython.core.display.Javascript at 0x11e439a50>"
       ]
      },
      {
       "javascript": [
        "$('div#828235e3-a92b-4459-b996-078dd6474a33').width('4%')"
       ],
       "metadata": {},
       "output_type": "display_data",
       "text": [
        "<IPython.core.display.Javascript at 0x11e439a50>"
       ]
      },
      {
       "javascript": [
        "$('div#828235e3-a92b-4459-b996-078dd6474a33').width('5%')"
       ],
       "metadata": {},
       "output_type": "display_data",
       "text": [
        "<IPython.core.display.Javascript at 0x11e439a50>"
       ]
      },
      {
       "javascript": [
        "$('div#828235e3-a92b-4459-b996-078dd6474a33').width('5%')"
       ],
       "metadata": {},
       "output_type": "display_data",
       "text": [
        "<IPython.core.display.Javascript at 0x11e439a50>"
       ]
      },
      {
       "javascript": [
        "$('div#828235e3-a92b-4459-b996-078dd6474a33').width('5%')"
       ],
       "metadata": {},
       "output_type": "display_data",
       "text": [
        "<IPython.core.display.Javascript at 0x11e439a50>"
       ]
      },
      {
       "javascript": [
        "$('div#828235e3-a92b-4459-b996-078dd6474a33').width('5%')"
       ],
       "metadata": {},
       "output_type": "display_data",
       "text": [
        "<IPython.core.display.Javascript at 0x11e439a50>"
       ]
      },
      {
       "javascript": [
        "$('div#828235e3-a92b-4459-b996-078dd6474a33').width('6%')"
       ],
       "metadata": {},
       "output_type": "display_data",
       "text": [
        "<IPython.core.display.Javascript at 0x11e439a50>"
       ]
      },
      {
       "javascript": [
        "$('div#828235e3-a92b-4459-b996-078dd6474a33').width('6%')"
       ],
       "metadata": {},
       "output_type": "display_data",
       "text": [
        "<IPython.core.display.Javascript at 0x11e439a50>"
       ]
      },
      {
       "javascript": [
        "$('div#828235e3-a92b-4459-b996-078dd6474a33').width('6%')"
       ],
       "metadata": {},
       "output_type": "display_data",
       "text": [
        "<IPython.core.display.Javascript at 0x11e439a50>"
       ]
      },
      {
       "javascript": [
        "$('div#828235e3-a92b-4459-b996-078dd6474a33').width('7%')"
       ],
       "metadata": {},
       "output_type": "display_data",
       "text": [
        "<IPython.core.display.Javascript at 0x11e439a50>"
       ]
      },
      {
       "javascript": [
        "$('div#828235e3-a92b-4459-b996-078dd6474a33').width('7%')"
       ],
       "metadata": {},
       "output_type": "display_data",
       "text": [
        "<IPython.core.display.Javascript at 0x11e439a50>"
       ]
      },
      {
       "javascript": [
        "$('div#828235e3-a92b-4459-b996-078dd6474a33').width('7%')"
       ],
       "metadata": {},
       "output_type": "display_data",
       "text": [
        "<IPython.core.display.Javascript at 0x11e439a50>"
       ]
      },
      {
       "javascript": [
        "$('div#828235e3-a92b-4459-b996-078dd6474a33').width('7%')"
       ],
       "metadata": {},
       "output_type": "display_data",
       "text": [
        "<IPython.core.display.Javascript at 0x11e439a50>"
       ]
      },
      {
       "javascript": [
        "$('div#828235e3-a92b-4459-b996-078dd6474a33').width('8%')"
       ],
       "metadata": {},
       "output_type": "display_data",
       "text": [
        "<IPython.core.display.Javascript at 0x11e439a50>"
       ]
      },
      {
       "javascript": [
        "$('div#828235e3-a92b-4459-b996-078dd6474a33').width('8%')"
       ],
       "metadata": {},
       "output_type": "display_data",
       "text": [
        "<IPython.core.display.Javascript at 0x11e439a50>"
       ]
      },
      {
       "javascript": [
        "$('div#828235e3-a92b-4459-b996-078dd6474a33').width('8%')"
       ],
       "metadata": {},
       "output_type": "display_data",
       "text": [
        "<IPython.core.display.Javascript at 0x11e439a50>"
       ]
      },
      {
       "javascript": [
        "$('div#828235e3-a92b-4459-b996-078dd6474a33').width('8%')"
       ],
       "metadata": {},
       "output_type": "display_data",
       "text": [
        "<IPython.core.display.Javascript at 0x11e439a50>"
       ]
      },
      {
       "javascript": [
        "$('div#828235e3-a92b-4459-b996-078dd6474a33').width('9%')"
       ],
       "metadata": {},
       "output_type": "display_data",
       "text": [
        "<IPython.core.display.Javascript at 0x11e439a50>"
       ]
      },
      {
       "javascript": [
        "$('div#828235e3-a92b-4459-b996-078dd6474a33').width('9%')"
       ],
       "metadata": {},
       "output_type": "display_data",
       "text": [
        "<IPython.core.display.Javascript at 0x11e439a50>"
       ]
      },
      {
       "javascript": [
        "$('div#828235e3-a92b-4459-b996-078dd6474a33').width('9%')"
       ],
       "metadata": {},
       "output_type": "display_data",
       "text": [
        "<IPython.core.display.Javascript at 0x11e439a50>"
       ]
      },
      {
       "javascript": [
        "$('div#828235e3-a92b-4459-b996-078dd6474a33').width('9%')"
       ],
       "metadata": {},
       "output_type": "display_data",
       "text": [
        "<IPython.core.display.Javascript at 0x11e439a50>"
       ]
      },
      {
       "javascript": [
        "$('div#828235e3-a92b-4459-b996-078dd6474a33').width('10%')"
       ],
       "metadata": {},
       "output_type": "display_data",
       "text": [
        "<IPython.core.display.Javascript at 0x11e439a50>"
       ]
      },
      {
       "javascript": [
        "$('div#828235e3-a92b-4459-b996-078dd6474a33').width('10%')"
       ],
       "metadata": {},
       "output_type": "display_data",
       "text": [
        "<IPython.core.display.Javascript at 0x11e439a50>"
       ]
      },
      {
       "javascript": [
        "$('div#828235e3-a92b-4459-b996-078dd6474a33').width('10%')"
       ],
       "metadata": {},
       "output_type": "display_data",
       "text": [
        "<IPython.core.display.Javascript at 0x11e439a50>"
       ]
      },
      {
       "javascript": [
        "$('div#828235e3-a92b-4459-b996-078dd6474a33').width('10%')"
       ],
       "metadata": {},
       "output_type": "display_data",
       "text": [
        "<IPython.core.display.Javascript at 0x11e439a50>"
       ]
      },
      {
       "javascript": [
        "$('div#828235e3-a92b-4459-b996-078dd6474a33').width('11%')"
       ],
       "metadata": {},
       "output_type": "display_data",
       "text": [
        "<IPython.core.display.Javascript at 0x11e439a50>"
       ]
      },
      {
       "javascript": [
        "$('div#828235e3-a92b-4459-b996-078dd6474a33').width('11%')"
       ],
       "metadata": {},
       "output_type": "display_data",
       "text": [
        "<IPython.core.display.Javascript at 0x11e439a50>"
       ]
      },
      {
       "javascript": [
        "$('div#828235e3-a92b-4459-b996-078dd6474a33').width('11%')"
       ],
       "metadata": {},
       "output_type": "display_data",
       "text": [
        "<IPython.core.display.Javascript at 0x11e439a50>"
       ]
      },
      {
       "javascript": [
        "$('div#828235e3-a92b-4459-b996-078dd6474a33').width('11%')"
       ],
       "metadata": {},
       "output_type": "display_data",
       "text": [
        "<IPython.core.display.Javascript at 0x11e439a50>"
       ]
      },
      {
       "javascript": [
        "$('div#828235e3-a92b-4459-b996-078dd6474a33').width('12%')"
       ],
       "metadata": {},
       "output_type": "display_data",
       "text": [
        "<IPython.core.display.Javascript at 0x11e439a50>"
       ]
      },
      {
       "javascript": [
        "$('div#828235e3-a92b-4459-b996-078dd6474a33').width('12%')"
       ],
       "metadata": {},
       "output_type": "display_data",
       "text": [
        "<IPython.core.display.Javascript at 0x11e439a50>"
       ]
      },
      {
       "javascript": [
        "$('div#828235e3-a92b-4459-b996-078dd6474a33').width('12%')"
       ],
       "metadata": {},
       "output_type": "display_data",
       "text": [
        "<IPython.core.display.Javascript at 0x11e439a50>"
       ]
      },
      {
       "javascript": [
        "$('div#828235e3-a92b-4459-b996-078dd6474a33').width('13%')"
       ],
       "metadata": {},
       "output_type": "display_data",
       "text": [
        "<IPython.core.display.Javascript at 0x11e439a50>"
       ]
      },
      {
       "javascript": [
        "$('div#828235e3-a92b-4459-b996-078dd6474a33').width('13%')"
       ],
       "metadata": {},
       "output_type": "display_data",
       "text": [
        "<IPython.core.display.Javascript at 0x11e439a50>"
       ]
      },
      {
       "javascript": [
        "$('div#828235e3-a92b-4459-b996-078dd6474a33').width('13%')"
       ],
       "metadata": {},
       "output_type": "display_data",
       "text": [
        "<IPython.core.display.Javascript at 0x11e439a50>"
       ]
      },
      {
       "javascript": [
        "$('div#828235e3-a92b-4459-b996-078dd6474a33').width('13%')"
       ],
       "metadata": {},
       "output_type": "display_data",
       "text": [
        "<IPython.core.display.Javascript at 0x11e439a50>"
       ]
      },
      {
       "javascript": [
        "$('div#828235e3-a92b-4459-b996-078dd6474a33').width('14%')"
       ],
       "metadata": {},
       "output_type": "display_data",
       "text": [
        "<IPython.core.display.Javascript at 0x11e439a50>"
       ]
      },
      {
       "javascript": [
        "$('div#828235e3-a92b-4459-b996-078dd6474a33').width('14%')"
       ],
       "metadata": {},
       "output_type": "display_data",
       "text": [
        "<IPython.core.display.Javascript at 0x11e439a50>"
       ]
      },
      {
       "javascript": [
        "$('div#828235e3-a92b-4459-b996-078dd6474a33').width('14%')"
       ],
       "metadata": {},
       "output_type": "display_data",
       "text": [
        "<IPython.core.display.Javascript at 0x11e439a50>"
       ]
      },
      {
       "javascript": [
        "$('div#828235e3-a92b-4459-b996-078dd6474a33').width('14%')"
       ],
       "metadata": {},
       "output_type": "display_data",
       "text": [
        "<IPython.core.display.Javascript at 0x11e439a50>"
       ]
      },
      {
       "javascript": [
        "$('div#828235e3-a92b-4459-b996-078dd6474a33').width('15%')"
       ],
       "metadata": {},
       "output_type": "display_data",
       "text": [
        "<IPython.core.display.Javascript at 0x11e439a50>"
       ]
      },
      {
       "javascript": [
        "$('div#828235e3-a92b-4459-b996-078dd6474a33').width('15%')"
       ],
       "metadata": {},
       "output_type": "display_data",
       "text": [
        "<IPython.core.display.Javascript at 0x11e439a50>"
       ]
      },
      {
       "javascript": [
        "$('div#828235e3-a92b-4459-b996-078dd6474a33').width('15%')"
       ],
       "metadata": {},
       "output_type": "display_data",
       "text": [
        "<IPython.core.display.Javascript at 0x11e439a50>"
       ]
      },
      {
       "javascript": [
        "$('div#828235e3-a92b-4459-b996-078dd6474a33').width('15%')"
       ],
       "metadata": {},
       "output_type": "display_data",
       "text": [
        "<IPython.core.display.Javascript at 0x11e439a50>"
       ]
      },
      {
       "javascript": [
        "$('div#828235e3-a92b-4459-b996-078dd6474a33').width('16%')"
       ],
       "metadata": {},
       "output_type": "display_data",
       "text": [
        "<IPython.core.display.Javascript at 0x11e439a50>"
       ]
      },
      {
       "javascript": [
        "$('div#828235e3-a92b-4459-b996-078dd6474a33').width('16%')"
       ],
       "metadata": {},
       "output_type": "display_data",
       "text": [
        "<IPython.core.display.Javascript at 0x11e439a50>"
       ]
      },
      {
       "javascript": [
        "$('div#828235e3-a92b-4459-b996-078dd6474a33').width('16%')"
       ],
       "metadata": {},
       "output_type": "display_data",
       "text": [
        "<IPython.core.display.Javascript at 0x11e439a50>"
       ]
      },
      {
       "javascript": [
        "$('div#828235e3-a92b-4459-b996-078dd6474a33').width('16%')"
       ],
       "metadata": {},
       "output_type": "display_data",
       "text": [
        "<IPython.core.display.Javascript at 0x11e439a50>"
       ]
      },
      {
       "javascript": [
        "$('div#828235e3-a92b-4459-b996-078dd6474a33').width('17%')"
       ],
       "metadata": {},
       "output_type": "display_data",
       "text": [
        "<IPython.core.display.Javascript at 0x11e439a50>"
       ]
      },
      {
       "javascript": [
        "$('div#828235e3-a92b-4459-b996-078dd6474a33').width('17%')"
       ],
       "metadata": {},
       "output_type": "display_data",
       "text": [
        "<IPython.core.display.Javascript at 0x11e439a50>"
       ]
      },
      {
       "javascript": [
        "$('div#828235e3-a92b-4459-b996-078dd6474a33').width('17%')"
       ],
       "metadata": {},
       "output_type": "display_data",
       "text": [
        "<IPython.core.display.Javascript at 0x11e439a50>"
       ]
      },
      {
       "javascript": [
        "$('div#828235e3-a92b-4459-b996-078dd6474a33').width('17%')"
       ],
       "metadata": {},
       "output_type": "display_data",
       "text": [
        "<IPython.core.display.Javascript at 0x11e439a50>"
       ]
      },
      {
       "javascript": [
        "$('div#828235e3-a92b-4459-b996-078dd6474a33').width('18%')"
       ],
       "metadata": {},
       "output_type": "display_data",
       "text": [
        "<IPython.core.display.Javascript at 0x11e439a50>"
       ]
      },
      {
       "javascript": [
        "$('div#828235e3-a92b-4459-b996-078dd6474a33').width('18%')"
       ],
       "metadata": {},
       "output_type": "display_data",
       "text": [
        "<IPython.core.display.Javascript at 0x11e439a50>"
       ]
      },
      {
       "javascript": [
        "$('div#828235e3-a92b-4459-b996-078dd6474a33').width('18%')"
       ],
       "metadata": {},
       "output_type": "display_data",
       "text": [
        "<IPython.core.display.Javascript at 0x11e439a50>"
       ]
      },
      {
       "javascript": [
        "$('div#828235e3-a92b-4459-b996-078dd6474a33').width('19%')"
       ],
       "metadata": {},
       "output_type": "display_data",
       "text": [
        "<IPython.core.display.Javascript at 0x11e439a50>"
       ]
      },
      {
       "javascript": [
        "$('div#828235e3-a92b-4459-b996-078dd6474a33').width('19%')"
       ],
       "metadata": {},
       "output_type": "display_data",
       "text": [
        "<IPython.core.display.Javascript at 0x11e439a50>"
       ]
      },
      {
       "javascript": [
        "$('div#828235e3-a92b-4459-b996-078dd6474a33').width('19%')"
       ],
       "metadata": {},
       "output_type": "display_data",
       "text": [
        "<IPython.core.display.Javascript at 0x11e439a50>"
       ]
      },
      {
       "javascript": [
        "$('div#828235e3-a92b-4459-b996-078dd6474a33').width('19%')"
       ],
       "metadata": {},
       "output_type": "display_data",
       "text": [
        "<IPython.core.display.Javascript at 0x11e439a50>"
       ]
      },
      {
       "javascript": [
        "$('div#828235e3-a92b-4459-b996-078dd6474a33').width('20%')"
       ],
       "metadata": {},
       "output_type": "display_data",
       "text": [
        "<IPython.core.display.Javascript at 0x11e439a50>"
       ]
      },
      {
       "javascript": [
        "$('div#828235e3-a92b-4459-b996-078dd6474a33').width('20%')"
       ],
       "metadata": {},
       "output_type": "display_data",
       "text": [
        "<IPython.core.display.Javascript at 0x11e439a50>"
       ]
      },
      {
       "javascript": [
        "$('div#828235e3-a92b-4459-b996-078dd6474a33').width('20%')"
       ],
       "metadata": {},
       "output_type": "display_data",
       "text": [
        "<IPython.core.display.Javascript at 0x11e439a50>"
       ]
      },
      {
       "javascript": [
        "$('div#828235e3-a92b-4459-b996-078dd6474a33').width('20%')"
       ],
       "metadata": {},
       "output_type": "display_data",
       "text": [
        "<IPython.core.display.Javascript at 0x11e439a50>"
       ]
      },
      {
       "javascript": [
        "$('div#828235e3-a92b-4459-b996-078dd6474a33').width('21%')"
       ],
       "metadata": {},
       "output_type": "display_data",
       "text": [
        "<IPython.core.display.Javascript at 0x11e439a50>"
       ]
      },
      {
       "javascript": [
        "$('div#828235e3-a92b-4459-b996-078dd6474a33').width('21%')"
       ],
       "metadata": {},
       "output_type": "display_data",
       "text": [
        "<IPython.core.display.Javascript at 0x11e439a50>"
       ]
      },
      {
       "javascript": [
        "$('div#828235e3-a92b-4459-b996-078dd6474a33').width('21%')"
       ],
       "metadata": {},
       "output_type": "display_data",
       "text": [
        "<IPython.core.display.Javascript at 0x11e439a50>"
       ]
      },
      {
       "javascript": [
        "$('div#828235e3-a92b-4459-b996-078dd6474a33').width('21%')"
       ],
       "metadata": {},
       "output_type": "display_data",
       "text": [
        "<IPython.core.display.Javascript at 0x11e439a50>"
       ]
      },
      {
       "javascript": [
        "$('div#828235e3-a92b-4459-b996-078dd6474a33').width('22%')"
       ],
       "metadata": {},
       "output_type": "display_data",
       "text": [
        "<IPython.core.display.Javascript at 0x11e439a50>"
       ]
      },
      {
       "javascript": [
        "$('div#828235e3-a92b-4459-b996-078dd6474a33').width('22%')"
       ],
       "metadata": {},
       "output_type": "display_data",
       "text": [
        "<IPython.core.display.Javascript at 0x11e439a50>"
       ]
      },
      {
       "javascript": [
        "$('div#828235e3-a92b-4459-b996-078dd6474a33').width('22%')"
       ],
       "metadata": {},
       "output_type": "display_data",
       "text": [
        "<IPython.core.display.Javascript at 0x11e439a50>"
       ]
      },
      {
       "javascript": [
        "$('div#828235e3-a92b-4459-b996-078dd6474a33').width('22%')"
       ],
       "metadata": {},
       "output_type": "display_data",
       "text": [
        "<IPython.core.display.Javascript at 0x11e439a50>"
       ]
      },
      {
       "javascript": [
        "$('div#828235e3-a92b-4459-b996-078dd6474a33').width('23%')"
       ],
       "metadata": {},
       "output_type": "display_data",
       "text": [
        "<IPython.core.display.Javascript at 0x11e439a50>"
       ]
      },
      {
       "javascript": [
        "$('div#828235e3-a92b-4459-b996-078dd6474a33').width('23%')"
       ],
       "metadata": {},
       "output_type": "display_data",
       "text": [
        "<IPython.core.display.Javascript at 0x11e439a50>"
       ]
      },
      {
       "javascript": [
        "$('div#828235e3-a92b-4459-b996-078dd6474a33').width('23%')"
       ],
       "metadata": {},
       "output_type": "display_data",
       "text": [
        "<IPython.core.display.Javascript at 0x11e439a50>"
       ]
      },
      {
       "javascript": [
        "$('div#828235e3-a92b-4459-b996-078dd6474a33').width('23%')"
       ],
       "metadata": {},
       "output_type": "display_data",
       "text": [
        "<IPython.core.display.Javascript at 0x11e439a50>"
       ]
      },
      {
       "javascript": [
        "$('div#828235e3-a92b-4459-b996-078dd6474a33').width('24%')"
       ],
       "metadata": {},
       "output_type": "display_data",
       "text": [
        "<IPython.core.display.Javascript at 0x11e439a50>"
       ]
      },
      {
       "javascript": [
        "$('div#828235e3-a92b-4459-b996-078dd6474a33').width('24%')"
       ],
       "metadata": {},
       "output_type": "display_data",
       "text": [
        "<IPython.core.display.Javascript at 0x11e439a50>"
       ]
      },
      {
       "javascript": [
        "$('div#828235e3-a92b-4459-b996-078dd6474a33').width('24%')"
       ],
       "metadata": {},
       "output_type": "display_data",
       "text": [
        "<IPython.core.display.Javascript at 0x11e439a50>"
       ]
      },
      {
       "javascript": [
        "$('div#828235e3-a92b-4459-b996-078dd6474a33').width('25%')"
       ],
       "metadata": {},
       "output_type": "display_data",
       "text": [
        "<IPython.core.display.Javascript at 0x11e439a50>"
       ]
      },
      {
       "javascript": [
        "$('div#828235e3-a92b-4459-b996-078dd6474a33').width('25%')"
       ],
       "metadata": {},
       "output_type": "display_data",
       "text": [
        "<IPython.core.display.Javascript at 0x11e439a50>"
       ]
      },
      {
       "javascript": [
        "$('div#828235e3-a92b-4459-b996-078dd6474a33').width('25%')"
       ],
       "metadata": {},
       "output_type": "display_data",
       "text": [
        "<IPython.core.display.Javascript at 0x11e439a50>"
       ]
      },
      {
       "javascript": [
        "$('div#828235e3-a92b-4459-b996-078dd6474a33').width('25%')"
       ],
       "metadata": {},
       "output_type": "display_data",
       "text": [
        "<IPython.core.display.Javascript at 0x11e439a50>"
       ]
      },
      {
       "javascript": [
        "$('div#828235e3-a92b-4459-b996-078dd6474a33').width('26%')"
       ],
       "metadata": {},
       "output_type": "display_data",
       "text": [
        "<IPython.core.display.Javascript at 0x11e439a50>"
       ]
      },
      {
       "javascript": [
        "$('div#828235e3-a92b-4459-b996-078dd6474a33').width('26%')"
       ],
       "metadata": {},
       "output_type": "display_data",
       "text": [
        "<IPython.core.display.Javascript at 0x11e439a50>"
       ]
      },
      {
       "javascript": [
        "$('div#828235e3-a92b-4459-b996-078dd6474a33').width('26%')"
       ],
       "metadata": {},
       "output_type": "display_data",
       "text": [
        "<IPython.core.display.Javascript at 0x11e439a50>"
       ]
      },
      {
       "javascript": [
        "$('div#828235e3-a92b-4459-b996-078dd6474a33').width('26%')"
       ],
       "metadata": {},
       "output_type": "display_data",
       "text": [
        "<IPython.core.display.Javascript at 0x11e439a50>"
       ]
      },
      {
       "javascript": [
        "$('div#828235e3-a92b-4459-b996-078dd6474a33').width('27%')"
       ],
       "metadata": {},
       "output_type": "display_data",
       "text": [
        "<IPython.core.display.Javascript at 0x11e439a50>"
       ]
      },
      {
       "javascript": [
        "$('div#828235e3-a92b-4459-b996-078dd6474a33').width('27%')"
       ],
       "metadata": {},
       "output_type": "display_data",
       "text": [
        "<IPython.core.display.Javascript at 0x11e439a50>"
       ]
      },
      {
       "javascript": [
        "$('div#828235e3-a92b-4459-b996-078dd6474a33').width('27%')"
       ],
       "metadata": {},
       "output_type": "display_data",
       "text": [
        "<IPython.core.display.Javascript at 0x11e439a50>"
       ]
      },
      {
       "javascript": [
        "$('div#828235e3-a92b-4459-b996-078dd6474a33').width('27%')"
       ],
       "metadata": {},
       "output_type": "display_data",
       "text": [
        "<IPython.core.display.Javascript at 0x11e439a50>"
       ]
      },
      {
       "javascript": [
        "$('div#828235e3-a92b-4459-b996-078dd6474a33').width('28%')"
       ],
       "metadata": {},
       "output_type": "display_data",
       "text": [
        "<IPython.core.display.Javascript at 0x11e439a50>"
       ]
      },
      {
       "javascript": [
        "$('div#828235e3-a92b-4459-b996-078dd6474a33').width('28%')"
       ],
       "metadata": {},
       "output_type": "display_data",
       "text": [
        "<IPython.core.display.Javascript at 0x11e439a50>"
       ]
      },
      {
       "javascript": [
        "$('div#828235e3-a92b-4459-b996-078dd6474a33').width('28%')"
       ],
       "metadata": {},
       "output_type": "display_data",
       "text": [
        "<IPython.core.display.Javascript at 0x11e439a50>"
       ]
      },
      {
       "javascript": [
        "$('div#828235e3-a92b-4459-b996-078dd6474a33').width('28%')"
       ],
       "metadata": {},
       "output_type": "display_data",
       "text": [
        "<IPython.core.display.Javascript at 0x11e439a50>"
       ]
      },
      {
       "javascript": [
        "$('div#828235e3-a92b-4459-b996-078dd6474a33').width('29%')"
       ],
       "metadata": {},
       "output_type": "display_data",
       "text": [
        "<IPython.core.display.Javascript at 0x11e439a50>"
       ]
      },
      {
       "javascript": [
        "$('div#828235e3-a92b-4459-b996-078dd6474a33').width('29%')"
       ],
       "metadata": {},
       "output_type": "display_data",
       "text": [
        "<IPython.core.display.Javascript at 0x11e439a50>"
       ]
      },
      {
       "javascript": [
        "$('div#828235e3-a92b-4459-b996-078dd6474a33').width('29%')"
       ],
       "metadata": {},
       "output_type": "display_data",
       "text": [
        "<IPython.core.display.Javascript at 0x11e439a50>"
       ]
      },
      {
       "javascript": [
        "$('div#828235e3-a92b-4459-b996-078dd6474a33').width('29%')"
       ],
       "metadata": {},
       "output_type": "display_data",
       "text": [
        "<IPython.core.display.Javascript at 0x11e439a50>"
       ]
      },
      {
       "javascript": [
        "$('div#828235e3-a92b-4459-b996-078dd6474a33').width('30%')"
       ],
       "metadata": {},
       "output_type": "display_data",
       "text": [
        "<IPython.core.display.Javascript at 0x11e439a50>"
       ]
      },
      {
       "javascript": [
        "$('div#828235e3-a92b-4459-b996-078dd6474a33').width('30%')"
       ],
       "metadata": {},
       "output_type": "display_data",
       "text": [
        "<IPython.core.display.Javascript at 0x11e439a50>"
       ]
      },
      {
       "javascript": [
        "$('div#828235e3-a92b-4459-b996-078dd6474a33').width('30%')"
       ],
       "metadata": {},
       "output_type": "display_data",
       "text": [
        "<IPython.core.display.Javascript at 0x11e439a50>"
       ]
      },
      {
       "javascript": [
        "$('div#828235e3-a92b-4459-b996-078dd6474a33').width('30%')"
       ],
       "metadata": {},
       "output_type": "display_data",
       "text": [
        "<IPython.core.display.Javascript at 0x11e439a50>"
       ]
      },
      {
       "javascript": [
        "$('div#828235e3-a92b-4459-b996-078dd6474a33').width('31%')"
       ],
       "metadata": {},
       "output_type": "display_data",
       "text": [
        "<IPython.core.display.Javascript at 0x11e439a50>"
       ]
      },
      {
       "javascript": [
        "$('div#828235e3-a92b-4459-b996-078dd6474a33').width('31%')"
       ],
       "metadata": {},
       "output_type": "display_data",
       "text": [
        "<IPython.core.display.Javascript at 0x11e439a50>"
       ]
      },
      {
       "javascript": [
        "$('div#828235e3-a92b-4459-b996-078dd6474a33').width('31%')"
       ],
       "metadata": {},
       "output_type": "display_data",
       "text": [
        "<IPython.core.display.Javascript at 0x11e439a50>"
       ]
      },
      {
       "javascript": [
        "$('div#828235e3-a92b-4459-b996-078dd6474a33').width('32%')"
       ],
       "metadata": {},
       "output_type": "display_data",
       "text": [
        "<IPython.core.display.Javascript at 0x11e439a50>"
       ]
      },
      {
       "javascript": [
        "$('div#828235e3-a92b-4459-b996-078dd6474a33').width('32%')"
       ],
       "metadata": {},
       "output_type": "display_data",
       "text": [
        "<IPython.core.display.Javascript at 0x11e439a50>"
       ]
      },
      {
       "javascript": [
        "$('div#828235e3-a92b-4459-b996-078dd6474a33').width('32%')"
       ],
       "metadata": {},
       "output_type": "display_data",
       "text": [
        "<IPython.core.display.Javascript at 0x11e439a50>"
       ]
      },
      {
       "javascript": [
        "$('div#828235e3-a92b-4459-b996-078dd6474a33').width('32%')"
       ],
       "metadata": {},
       "output_type": "display_data",
       "text": [
        "<IPython.core.display.Javascript at 0x11e439a50>"
       ]
      },
      {
       "javascript": [
        "$('div#828235e3-a92b-4459-b996-078dd6474a33').width('33%')"
       ],
       "metadata": {},
       "output_type": "display_data",
       "text": [
        "<IPython.core.display.Javascript at 0x11e439a50>"
       ]
      },
      {
       "javascript": [
        "$('div#828235e3-a92b-4459-b996-078dd6474a33').width('33%')"
       ],
       "metadata": {},
       "output_type": "display_data",
       "text": [
        "<IPython.core.display.Javascript at 0x11e439a50>"
       ]
      },
      {
       "javascript": [
        "$('div#828235e3-a92b-4459-b996-078dd6474a33').width('33%')"
       ],
       "metadata": {},
       "output_type": "display_data",
       "text": [
        "<IPython.core.display.Javascript at 0x11e439a50>"
       ]
      },
      {
       "javascript": [
        "$('div#828235e3-a92b-4459-b996-078dd6474a33').width('33%')"
       ],
       "metadata": {},
       "output_type": "display_data",
       "text": [
        "<IPython.core.display.Javascript at 0x11e439a50>"
       ]
      },
      {
       "javascript": [
        "$('div#828235e3-a92b-4459-b996-078dd6474a33').width('34%')"
       ],
       "metadata": {},
       "output_type": "display_data",
       "text": [
        "<IPython.core.display.Javascript at 0x11e439a50>"
       ]
      },
      {
       "javascript": [
        "$('div#828235e3-a92b-4459-b996-078dd6474a33').width('34%')"
       ],
       "metadata": {},
       "output_type": "display_data",
       "text": [
        "<IPython.core.display.Javascript at 0x11e439a50>"
       ]
      },
      {
       "javascript": [
        "$('div#828235e3-a92b-4459-b996-078dd6474a33').width('34%')"
       ],
       "metadata": {},
       "output_type": "display_data",
       "text": [
        "<IPython.core.display.Javascript at 0x11e439a50>"
       ]
      },
      {
       "javascript": [
        "$('div#828235e3-a92b-4459-b996-078dd6474a33').width('34%')"
       ],
       "metadata": {},
       "output_type": "display_data",
       "text": [
        "<IPython.core.display.Javascript at 0x11e439a50>"
       ]
      },
      {
       "javascript": [
        "$('div#828235e3-a92b-4459-b996-078dd6474a33').width('35%')"
       ],
       "metadata": {},
       "output_type": "display_data",
       "text": [
        "<IPython.core.display.Javascript at 0x11e439a50>"
       ]
      },
      {
       "javascript": [
        "$('div#828235e3-a92b-4459-b996-078dd6474a33').width('35%')"
       ],
       "metadata": {},
       "output_type": "display_data",
       "text": [
        "<IPython.core.display.Javascript at 0x11e439a50>"
       ]
      },
      {
       "javascript": [
        "$('div#828235e3-a92b-4459-b996-078dd6474a33').width('35%')"
       ],
       "metadata": {},
       "output_type": "display_data",
       "text": [
        "<IPython.core.display.Javascript at 0x11e439a50>"
       ]
      },
      {
       "javascript": [
        "$('div#828235e3-a92b-4459-b996-078dd6474a33').width('35%')"
       ],
       "metadata": {},
       "output_type": "display_data",
       "text": [
        "<IPython.core.display.Javascript at 0x11e439a50>"
       ]
      },
      {
       "javascript": [
        "$('div#828235e3-a92b-4459-b996-078dd6474a33').width('36%')"
       ],
       "metadata": {},
       "output_type": "display_data",
       "text": [
        "<IPython.core.display.Javascript at 0x11e439a50>"
       ]
      },
      {
       "javascript": [
        "$('div#828235e3-a92b-4459-b996-078dd6474a33').width('36%')"
       ],
       "metadata": {},
       "output_type": "display_data",
       "text": [
        "<IPython.core.display.Javascript at 0x11e439a50>"
       ]
      },
      {
       "javascript": [
        "$('div#828235e3-a92b-4459-b996-078dd6474a33').width('36%')"
       ],
       "metadata": {},
       "output_type": "display_data",
       "text": [
        "<IPython.core.display.Javascript at 0x11e439a50>"
       ]
      },
      {
       "javascript": [
        "$('div#828235e3-a92b-4459-b996-078dd6474a33').width('36%')"
       ],
       "metadata": {},
       "output_type": "display_data",
       "text": [
        "<IPython.core.display.Javascript at 0x11e439a50>"
       ]
      },
      {
       "javascript": [
        "$('div#828235e3-a92b-4459-b996-078dd6474a33').width('37%')"
       ],
       "metadata": {},
       "output_type": "display_data",
       "text": [
        "<IPython.core.display.Javascript at 0x11e439a50>"
       ]
      },
      {
       "javascript": [
        "$('div#828235e3-a92b-4459-b996-078dd6474a33').width('37%')"
       ],
       "metadata": {},
       "output_type": "display_data",
       "text": [
        "<IPython.core.display.Javascript at 0x11e439a50>"
       ]
      },
      {
       "javascript": [
        "$('div#828235e3-a92b-4459-b996-078dd6474a33').width('37%')"
       ],
       "metadata": {},
       "output_type": "display_data",
       "text": [
        "<IPython.core.display.Javascript at 0x11e439a50>"
       ]
      },
      {
       "javascript": [
        "$('div#828235e3-a92b-4459-b996-078dd6474a33').width('38%')"
       ],
       "metadata": {},
       "output_type": "display_data",
       "text": [
        "<IPython.core.display.Javascript at 0x11e439a50>"
       ]
      },
      {
       "javascript": [
        "$('div#828235e3-a92b-4459-b996-078dd6474a33').width('38%')"
       ],
       "metadata": {},
       "output_type": "display_data",
       "text": [
        "<IPython.core.display.Javascript at 0x11e439a50>"
       ]
      },
      {
       "javascript": [
        "$('div#828235e3-a92b-4459-b996-078dd6474a33').width('38%')"
       ],
       "metadata": {},
       "output_type": "display_data",
       "text": [
        "<IPython.core.display.Javascript at 0x11e439a50>"
       ]
      },
      {
       "javascript": [
        "$('div#828235e3-a92b-4459-b996-078dd6474a33').width('38%')"
       ],
       "metadata": {},
       "output_type": "display_data",
       "text": [
        "<IPython.core.display.Javascript at 0x11e439a50>"
       ]
      },
      {
       "javascript": [
        "$('div#828235e3-a92b-4459-b996-078dd6474a33').width('39%')"
       ],
       "metadata": {},
       "output_type": "display_data",
       "text": [
        "<IPython.core.display.Javascript at 0x11e439a50>"
       ]
      },
      {
       "javascript": [
        "$('div#828235e3-a92b-4459-b996-078dd6474a33').width('39%')"
       ],
       "metadata": {},
       "output_type": "display_data",
       "text": [
        "<IPython.core.display.Javascript at 0x11e439a50>"
       ]
      },
      {
       "javascript": [
        "$('div#828235e3-a92b-4459-b996-078dd6474a33').width('39%')"
       ],
       "metadata": {},
       "output_type": "display_data",
       "text": [
        "<IPython.core.display.Javascript at 0x11e439a50>"
       ]
      },
      {
       "javascript": [
        "$('div#828235e3-a92b-4459-b996-078dd6474a33').width('39%')"
       ],
       "metadata": {},
       "output_type": "display_data",
       "text": [
        "<IPython.core.display.Javascript at 0x11e439a50>"
       ]
      },
      {
       "javascript": [
        "$('div#828235e3-a92b-4459-b996-078dd6474a33').width('40%')"
       ],
       "metadata": {},
       "output_type": "display_data",
       "text": [
        "<IPython.core.display.Javascript at 0x11e439a50>"
       ]
      },
      {
       "javascript": [
        "$('div#828235e3-a92b-4459-b996-078dd6474a33').width('40%')"
       ],
       "metadata": {},
       "output_type": "display_data",
       "text": [
        "<IPython.core.display.Javascript at 0x11e439a50>"
       ]
      },
      {
       "javascript": [
        "$('div#828235e3-a92b-4459-b996-078dd6474a33').width('40%')"
       ],
       "metadata": {},
       "output_type": "display_data",
       "text": [
        "<IPython.core.display.Javascript at 0x11e439a50>"
       ]
      },
      {
       "javascript": [
        "$('div#828235e3-a92b-4459-b996-078dd6474a33').width('40%')"
       ],
       "metadata": {},
       "output_type": "display_data",
       "text": [
        "<IPython.core.display.Javascript at 0x11e439a50>"
       ]
      },
      {
       "javascript": [
        "$('div#828235e3-a92b-4459-b996-078dd6474a33').width('41%')"
       ],
       "metadata": {},
       "output_type": "display_data",
       "text": [
        "<IPython.core.display.Javascript at 0x11e439a50>"
       ]
      },
      {
       "javascript": [
        "$('div#828235e3-a92b-4459-b996-078dd6474a33').width('41%')"
       ],
       "metadata": {},
       "output_type": "display_data",
       "text": [
        "<IPython.core.display.Javascript at 0x11e439a50>"
       ]
      },
      {
       "javascript": [
        "$('div#828235e3-a92b-4459-b996-078dd6474a33').width('41%')"
       ],
       "metadata": {},
       "output_type": "display_data",
       "text": [
        "<IPython.core.display.Javascript at 0x11e439a50>"
       ]
      },
      {
       "javascript": [
        "$('div#828235e3-a92b-4459-b996-078dd6474a33').width('41%')"
       ],
       "metadata": {},
       "output_type": "display_data",
       "text": [
        "<IPython.core.display.Javascript at 0x11e439a50>"
       ]
      },
      {
       "javascript": [
        "$('div#828235e3-a92b-4459-b996-078dd6474a33').width('42%')"
       ],
       "metadata": {},
       "output_type": "display_data",
       "text": [
        "<IPython.core.display.Javascript at 0x11e439a50>"
       ]
      },
      {
       "javascript": [
        "$('div#828235e3-a92b-4459-b996-078dd6474a33').width('42%')"
       ],
       "metadata": {},
       "output_type": "display_data",
       "text": [
        "<IPython.core.display.Javascript at 0x11e439a50>"
       ]
      },
      {
       "javascript": [
        "$('div#828235e3-a92b-4459-b996-078dd6474a33').width('42%')"
       ],
       "metadata": {},
       "output_type": "display_data",
       "text": [
        "<IPython.core.display.Javascript at 0x11e439a50>"
       ]
      },
      {
       "javascript": [
        "$('div#828235e3-a92b-4459-b996-078dd6474a33').width('42%')"
       ],
       "metadata": {},
       "output_type": "display_data",
       "text": [
        "<IPython.core.display.Javascript at 0x11e439a50>"
       ]
      },
      {
       "javascript": [
        "$('div#828235e3-a92b-4459-b996-078dd6474a33').width('43%')"
       ],
       "metadata": {},
       "output_type": "display_data",
       "text": [
        "<IPython.core.display.Javascript at 0x11e439a50>"
       ]
      },
      {
       "javascript": [
        "$('div#828235e3-a92b-4459-b996-078dd6474a33').width('43%')"
       ],
       "metadata": {},
       "output_type": "display_data",
       "text": [
        "<IPython.core.display.Javascript at 0x11e439a50>"
       ]
      },
      {
       "javascript": [
        "$('div#828235e3-a92b-4459-b996-078dd6474a33').width('43%')"
       ],
       "metadata": {},
       "output_type": "display_data",
       "text": [
        "<IPython.core.display.Javascript at 0x11e439a50>"
       ]
      },
      {
       "javascript": [
        "$('div#828235e3-a92b-4459-b996-078dd6474a33').width('44%')"
       ],
       "metadata": {},
       "output_type": "display_data",
       "text": [
        "<IPython.core.display.Javascript at 0x11e439a50>"
       ]
      },
      {
       "javascript": [
        "$('div#828235e3-a92b-4459-b996-078dd6474a33').width('44%')"
       ],
       "metadata": {},
       "output_type": "display_data",
       "text": [
        "<IPython.core.display.Javascript at 0x11e439a50>"
       ]
      },
      {
       "javascript": [
        "$('div#828235e3-a92b-4459-b996-078dd6474a33').width('44%')"
       ],
       "metadata": {},
       "output_type": "display_data",
       "text": [
        "<IPython.core.display.Javascript at 0x11e439a50>"
       ]
      },
      {
       "javascript": [
        "$('div#828235e3-a92b-4459-b996-078dd6474a33').width('44%')"
       ],
       "metadata": {},
       "output_type": "display_data",
       "text": [
        "<IPython.core.display.Javascript at 0x11e439a50>"
       ]
      },
      {
       "javascript": [
        "$('div#828235e3-a92b-4459-b996-078dd6474a33').width('45%')"
       ],
       "metadata": {},
       "output_type": "display_data",
       "text": [
        "<IPython.core.display.Javascript at 0x11e439a50>"
       ]
      },
      {
       "javascript": [
        "$('div#828235e3-a92b-4459-b996-078dd6474a33').width('45%')"
       ],
       "metadata": {},
       "output_type": "display_data",
       "text": [
        "<IPython.core.display.Javascript at 0x11e439a50>"
       ]
      },
      {
       "javascript": [
        "$('div#828235e3-a92b-4459-b996-078dd6474a33').width('45%')"
       ],
       "metadata": {},
       "output_type": "display_data",
       "text": [
        "<IPython.core.display.Javascript at 0x11e439a50>"
       ]
      },
      {
       "javascript": [
        "$('div#828235e3-a92b-4459-b996-078dd6474a33').width('45%')"
       ],
       "metadata": {},
       "output_type": "display_data",
       "text": [
        "<IPython.core.display.Javascript at 0x11e439a50>"
       ]
      },
      {
       "javascript": [
        "$('div#828235e3-a92b-4459-b996-078dd6474a33').width('46%')"
       ],
       "metadata": {},
       "output_type": "display_data",
       "text": [
        "<IPython.core.display.Javascript at 0x11e439a50>"
       ]
      },
      {
       "javascript": [
        "$('div#828235e3-a92b-4459-b996-078dd6474a33').width('46%')"
       ],
       "metadata": {},
       "output_type": "display_data",
       "text": [
        "<IPython.core.display.Javascript at 0x11e439a50>"
       ]
      },
      {
       "javascript": [
        "$('div#828235e3-a92b-4459-b996-078dd6474a33').width('46%')"
       ],
       "metadata": {},
       "output_type": "display_data",
       "text": [
        "<IPython.core.display.Javascript at 0x11e439a50>"
       ]
      },
      {
       "javascript": [
        "$('div#828235e3-a92b-4459-b996-078dd6474a33').width('46%')"
       ],
       "metadata": {},
       "output_type": "display_data",
       "text": [
        "<IPython.core.display.Javascript at 0x11e439a50>"
       ]
      },
      {
       "javascript": [
        "$('div#828235e3-a92b-4459-b996-078dd6474a33').width('47%')"
       ],
       "metadata": {},
       "output_type": "display_data",
       "text": [
        "<IPython.core.display.Javascript at 0x11e439a50>"
       ]
      },
      {
       "javascript": [
        "$('div#828235e3-a92b-4459-b996-078dd6474a33').width('47%')"
       ],
       "metadata": {},
       "output_type": "display_data",
       "text": [
        "<IPython.core.display.Javascript at 0x11e439a50>"
       ]
      },
      {
       "javascript": [
        "$('div#828235e3-a92b-4459-b996-078dd6474a33').width('47%')"
       ],
       "metadata": {},
       "output_type": "display_data",
       "text": [
        "<IPython.core.display.Javascript at 0x11e439a50>"
       ]
      },
      {
       "javascript": [
        "$('div#828235e3-a92b-4459-b996-078dd6474a33').width('47%')"
       ],
       "metadata": {},
       "output_type": "display_data",
       "text": [
        "<IPython.core.display.Javascript at 0x11e439a50>"
       ]
      },
      {
       "javascript": [
        "$('div#828235e3-a92b-4459-b996-078dd6474a33').width('48%')"
       ],
       "metadata": {},
       "output_type": "display_data",
       "text": [
        "<IPython.core.display.Javascript at 0x11e439a50>"
       ]
      },
      {
       "javascript": [
        "$('div#828235e3-a92b-4459-b996-078dd6474a33').width('48%')"
       ],
       "metadata": {},
       "output_type": "display_data",
       "text": [
        "<IPython.core.display.Javascript at 0x11e439a50>"
       ]
      },
      {
       "javascript": [
        "$('div#828235e3-a92b-4459-b996-078dd6474a33').width('48%')"
       ],
       "metadata": {},
       "output_type": "display_data",
       "text": [
        "<IPython.core.display.Javascript at 0x11e439a50>"
       ]
      },
      {
       "javascript": [
        "$('div#828235e3-a92b-4459-b996-078dd6474a33').width('48%')"
       ],
       "metadata": {},
       "output_type": "display_data",
       "text": [
        "<IPython.core.display.Javascript at 0x11e439a50>"
       ]
      },
      {
       "javascript": [
        "$('div#828235e3-a92b-4459-b996-078dd6474a33').width('49%')"
       ],
       "metadata": {},
       "output_type": "display_data",
       "text": [
        "<IPython.core.display.Javascript at 0x11e439a50>"
       ]
      },
      {
       "javascript": [
        "$('div#828235e3-a92b-4459-b996-078dd6474a33').width('49%')"
       ],
       "metadata": {},
       "output_type": "display_data",
       "text": [
        "<IPython.core.display.Javascript at 0x11e439a50>"
       ]
      },
      {
       "javascript": [
        "$('div#828235e3-a92b-4459-b996-078dd6474a33').width('49%')"
       ],
       "metadata": {},
       "output_type": "display_data",
       "text": [
        "<IPython.core.display.Javascript at 0x11e439a50>"
       ]
      },
      {
       "javascript": [
        "$('div#828235e3-a92b-4459-b996-078dd6474a33').width('50%')"
       ],
       "metadata": {},
       "output_type": "display_data",
       "text": [
        "<IPython.core.display.Javascript at 0x11e439a50>"
       ]
      },
      {
       "javascript": [
        "$('div#828235e3-a92b-4459-b996-078dd6474a33').width('50%')"
       ],
       "metadata": {},
       "output_type": "display_data",
       "text": [
        "<IPython.core.display.Javascript at 0x11e439a50>"
       ]
      },
      {
       "javascript": [
        "$('div#828235e3-a92b-4459-b996-078dd6474a33').width('50%')"
       ],
       "metadata": {},
       "output_type": "display_data",
       "text": [
        "<IPython.core.display.Javascript at 0x11e439a50>"
       ]
      },
      {
       "javascript": [
        "$('div#828235e3-a92b-4459-b996-078dd6474a33').width('50%')"
       ],
       "metadata": {},
       "output_type": "display_data",
       "text": [
        "<IPython.core.display.Javascript at 0x11e439a50>"
       ]
      },
      {
       "javascript": [
        "$('div#828235e3-a92b-4459-b996-078dd6474a33').width('51%')"
       ],
       "metadata": {},
       "output_type": "display_data",
       "text": [
        "<IPython.core.display.Javascript at 0x11e439a50>"
       ]
      },
      {
       "javascript": [
        "$('div#828235e3-a92b-4459-b996-078dd6474a33').width('51%')"
       ],
       "metadata": {},
       "output_type": "display_data",
       "text": [
        "<IPython.core.display.Javascript at 0x11e439a50>"
       ]
      },
      {
       "javascript": [
        "$('div#828235e3-a92b-4459-b996-078dd6474a33').width('51%')"
       ],
       "metadata": {},
       "output_type": "display_data",
       "text": [
        "<IPython.core.display.Javascript at 0x11e439a50>"
       ]
      },
      {
       "javascript": [
        "$('div#828235e3-a92b-4459-b996-078dd6474a33').width('51%')"
       ],
       "metadata": {},
       "output_type": "display_data",
       "text": [
        "<IPython.core.display.Javascript at 0x11e439a50>"
       ]
      },
      {
       "javascript": [
        "$('div#828235e3-a92b-4459-b996-078dd6474a33').width('52%')"
       ],
       "metadata": {},
       "output_type": "display_data",
       "text": [
        "<IPython.core.display.Javascript at 0x11e439a50>"
       ]
      },
      {
       "javascript": [
        "$('div#828235e3-a92b-4459-b996-078dd6474a33').width('52%')"
       ],
       "metadata": {},
       "output_type": "display_data",
       "text": [
        "<IPython.core.display.Javascript at 0x11e439a50>"
       ]
      },
      {
       "javascript": [
        "$('div#828235e3-a92b-4459-b996-078dd6474a33').width('52%')"
       ],
       "metadata": {},
       "output_type": "display_data",
       "text": [
        "<IPython.core.display.Javascript at 0x11e439a50>"
       ]
      },
      {
       "javascript": [
        "$('div#828235e3-a92b-4459-b996-078dd6474a33').width('52%')"
       ],
       "metadata": {},
       "output_type": "display_data",
       "text": [
        "<IPython.core.display.Javascript at 0x11e439a50>"
       ]
      },
      {
       "javascript": [
        "$('div#828235e3-a92b-4459-b996-078dd6474a33').width('53%')"
       ],
       "metadata": {},
       "output_type": "display_data",
       "text": [
        "<IPython.core.display.Javascript at 0x11e439a50>"
       ]
      },
      {
       "javascript": [
        "$('div#828235e3-a92b-4459-b996-078dd6474a33').width('53%')"
       ],
       "metadata": {},
       "output_type": "display_data",
       "text": [
        "<IPython.core.display.Javascript at 0x11e439a50>"
       ]
      },
      {
       "javascript": [
        "$('div#828235e3-a92b-4459-b996-078dd6474a33').width('53%')"
       ],
       "metadata": {},
       "output_type": "display_data",
       "text": [
        "<IPython.core.display.Javascript at 0x11e439a50>"
       ]
      },
      {
       "javascript": [
        "$('div#828235e3-a92b-4459-b996-078dd6474a33').width('53%')"
       ],
       "metadata": {},
       "output_type": "display_data",
       "text": [
        "<IPython.core.display.Javascript at 0x11e439a50>"
       ]
      },
      {
       "javascript": [
        "$('div#828235e3-a92b-4459-b996-078dd6474a33').width('54%')"
       ],
       "metadata": {},
       "output_type": "display_data",
       "text": [
        "<IPython.core.display.Javascript at 0x11e439a50>"
       ]
      },
      {
       "javascript": [
        "$('div#828235e3-a92b-4459-b996-078dd6474a33').width('54%')"
       ],
       "metadata": {},
       "output_type": "display_data",
       "text": [
        "<IPython.core.display.Javascript at 0x11e439a50>"
       ]
      },
      {
       "javascript": [
        "$('div#828235e3-a92b-4459-b996-078dd6474a33').width('54%')"
       ],
       "metadata": {},
       "output_type": "display_data",
       "text": [
        "<IPython.core.display.Javascript at 0x11e439a50>"
       ]
      },
      {
       "javascript": [
        "$('div#828235e3-a92b-4459-b996-078dd6474a33').width('54%')"
       ],
       "metadata": {},
       "output_type": "display_data",
       "text": [
        "<IPython.core.display.Javascript at 0x11e439a50>"
       ]
      },
      {
       "javascript": [
        "$('div#828235e3-a92b-4459-b996-078dd6474a33').width('55%')"
       ],
       "metadata": {},
       "output_type": "display_data",
       "text": [
        "<IPython.core.display.Javascript at 0x11e439a50>"
       ]
      },
      {
       "javascript": [
        "$('div#828235e3-a92b-4459-b996-078dd6474a33').width('55%')"
       ],
       "metadata": {},
       "output_type": "display_data",
       "text": [
        "<IPython.core.display.Javascript at 0x11e439a50>"
       ]
      },
      {
       "javascript": [
        "$('div#828235e3-a92b-4459-b996-078dd6474a33').width('55%')"
       ],
       "metadata": {},
       "output_type": "display_data",
       "text": [
        "<IPython.core.display.Javascript at 0x11e439a50>"
       ]
      },
      {
       "javascript": [
        "$('div#828235e3-a92b-4459-b996-078dd6474a33').width('55%')"
       ],
       "metadata": {},
       "output_type": "display_data",
       "text": [
        "<IPython.core.display.Javascript at 0x11e439a50>"
       ]
      },
      {
       "javascript": [
        "$('div#828235e3-a92b-4459-b996-078dd6474a33').width('56%')"
       ],
       "metadata": {},
       "output_type": "display_data",
       "text": [
        "<IPython.core.display.Javascript at 0x11e439a50>"
       ]
      },
      {
       "javascript": [
        "$('div#828235e3-a92b-4459-b996-078dd6474a33').width('56%')"
       ],
       "metadata": {},
       "output_type": "display_data",
       "text": [
        "<IPython.core.display.Javascript at 0x11e439a50>"
       ]
      },
      {
       "javascript": [
        "$('div#828235e3-a92b-4459-b996-078dd6474a33').width('56%')"
       ],
       "metadata": {},
       "output_type": "display_data",
       "text": [
        "<IPython.core.display.Javascript at 0x11e439a50>"
       ]
      },
      {
       "javascript": [
        "$('div#828235e3-a92b-4459-b996-078dd6474a33').width('57%')"
       ],
       "metadata": {},
       "output_type": "display_data",
       "text": [
        "<IPython.core.display.Javascript at 0x11e439a50>"
       ]
      },
      {
       "javascript": [
        "$('div#828235e3-a92b-4459-b996-078dd6474a33').width('57%')"
       ],
       "metadata": {},
       "output_type": "display_data",
       "text": [
        "<IPython.core.display.Javascript at 0x11e439a50>"
       ]
      },
      {
       "javascript": [
        "$('div#828235e3-a92b-4459-b996-078dd6474a33').width('57%')"
       ],
       "metadata": {},
       "output_type": "display_data",
       "text": [
        "<IPython.core.display.Javascript at 0x11e439a50>"
       ]
      },
      {
       "javascript": [
        "$('div#828235e3-a92b-4459-b996-078dd6474a33').width('57%')"
       ],
       "metadata": {},
       "output_type": "display_data",
       "text": [
        "<IPython.core.display.Javascript at 0x11e439a50>"
       ]
      },
      {
       "javascript": [
        "$('div#828235e3-a92b-4459-b996-078dd6474a33').width('58%')"
       ],
       "metadata": {},
       "output_type": "display_data",
       "text": [
        "<IPython.core.display.Javascript at 0x11e439a50>"
       ]
      },
      {
       "javascript": [
        "$('div#828235e3-a92b-4459-b996-078dd6474a33').width('58%')"
       ],
       "metadata": {},
       "output_type": "display_data",
       "text": [
        "<IPython.core.display.Javascript at 0x11e439a50>"
       ]
      },
      {
       "javascript": [
        "$('div#828235e3-a92b-4459-b996-078dd6474a33').width('58%')"
       ],
       "metadata": {},
       "output_type": "display_data",
       "text": [
        "<IPython.core.display.Javascript at 0x11e439a50>"
       ]
      },
      {
       "javascript": [
        "$('div#828235e3-a92b-4459-b996-078dd6474a33').width('58%')"
       ],
       "metadata": {},
       "output_type": "display_data",
       "text": [
        "<IPython.core.display.Javascript at 0x11e439a50>"
       ]
      },
      {
       "javascript": [
        "$('div#828235e3-a92b-4459-b996-078dd6474a33').width('59%')"
       ],
       "metadata": {},
       "output_type": "display_data",
       "text": [
        "<IPython.core.display.Javascript at 0x11e439a50>"
       ]
      },
      {
       "javascript": [
        "$('div#828235e3-a92b-4459-b996-078dd6474a33').width('59%')"
       ],
       "metadata": {},
       "output_type": "display_data",
       "text": [
        "<IPython.core.display.Javascript at 0x11e439a50>"
       ]
      },
      {
       "javascript": [
        "$('div#828235e3-a92b-4459-b996-078dd6474a33').width('59%')"
       ],
       "metadata": {},
       "output_type": "display_data",
       "text": [
        "<IPython.core.display.Javascript at 0x11e439a50>"
       ]
      },
      {
       "javascript": [
        "$('div#828235e3-a92b-4459-b996-078dd6474a33').width('59%')"
       ],
       "metadata": {},
       "output_type": "display_data",
       "text": [
        "<IPython.core.display.Javascript at 0x11e439a50>"
       ]
      },
      {
       "javascript": [
        "$('div#828235e3-a92b-4459-b996-078dd6474a33').width('60%')"
       ],
       "metadata": {},
       "output_type": "display_data",
       "text": [
        "<IPython.core.display.Javascript at 0x11e439a50>"
       ]
      },
      {
       "javascript": [
        "$('div#828235e3-a92b-4459-b996-078dd6474a33').width('60%')"
       ],
       "metadata": {},
       "output_type": "display_data",
       "text": [
        "<IPython.core.display.Javascript at 0x11e439a50>"
       ]
      },
      {
       "javascript": [
        "$('div#828235e3-a92b-4459-b996-078dd6474a33').width('60%')"
       ],
       "metadata": {},
       "output_type": "display_data",
       "text": [
        "<IPython.core.display.Javascript at 0x11e439a50>"
       ]
      },
      {
       "javascript": [
        "$('div#828235e3-a92b-4459-b996-078dd6474a33').width('60%')"
       ],
       "metadata": {},
       "output_type": "display_data",
       "text": [
        "<IPython.core.display.Javascript at 0x11e439a50>"
       ]
      },
      {
       "javascript": [
        "$('div#828235e3-a92b-4459-b996-078dd6474a33').width('61%')"
       ],
       "metadata": {},
       "output_type": "display_data",
       "text": [
        "<IPython.core.display.Javascript at 0x11e439a50>"
       ]
      },
      {
       "javascript": [
        "$('div#828235e3-a92b-4459-b996-078dd6474a33').width('61%')"
       ],
       "metadata": {},
       "output_type": "display_data",
       "text": [
        "<IPython.core.display.Javascript at 0x11e439a50>"
       ]
      },
      {
       "javascript": [
        "$('div#828235e3-a92b-4459-b996-078dd6474a33').width('61%')"
       ],
       "metadata": {},
       "output_type": "display_data",
       "text": [
        "<IPython.core.display.Javascript at 0x11e439a50>"
       ]
      },
      {
       "javascript": [
        "$('div#828235e3-a92b-4459-b996-078dd6474a33').width('61%')"
       ],
       "metadata": {},
       "output_type": "display_data",
       "text": [
        "<IPython.core.display.Javascript at 0x11e439a50>"
       ]
      },
      {
       "javascript": [
        "$('div#828235e3-a92b-4459-b996-078dd6474a33').width('62%')"
       ],
       "metadata": {},
       "output_type": "display_data",
       "text": [
        "<IPython.core.display.Javascript at 0x11e439a50>"
       ]
      },
      {
       "javascript": [
        "$('div#828235e3-a92b-4459-b996-078dd6474a33').width('62%')"
       ],
       "metadata": {},
       "output_type": "display_data",
       "text": [
        "<IPython.core.display.Javascript at 0x11e439a50>"
       ]
      },
      {
       "javascript": [
        "$('div#828235e3-a92b-4459-b996-078dd6474a33').width('62%')"
       ],
       "metadata": {},
       "output_type": "display_data",
       "text": [
        "<IPython.core.display.Javascript at 0x11e439a50>"
       ]
      },
      {
       "javascript": [
        "$('div#828235e3-a92b-4459-b996-078dd6474a33').width('63%')"
       ],
       "metadata": {},
       "output_type": "display_data",
       "text": [
        "<IPython.core.display.Javascript at 0x11e439a50>"
       ]
      },
      {
       "javascript": [
        "$('div#828235e3-a92b-4459-b996-078dd6474a33').width('63%')"
       ],
       "metadata": {},
       "output_type": "display_data",
       "text": [
        "<IPython.core.display.Javascript at 0x11e439a50>"
       ]
      },
      {
       "javascript": [
        "$('div#828235e3-a92b-4459-b996-078dd6474a33').width('63%')"
       ],
       "metadata": {},
       "output_type": "display_data",
       "text": [
        "<IPython.core.display.Javascript at 0x11e439a50>"
       ]
      },
      {
       "javascript": [
        "$('div#828235e3-a92b-4459-b996-078dd6474a33').width('63%')"
       ],
       "metadata": {},
       "output_type": "display_data",
       "text": [
        "<IPython.core.display.Javascript at 0x11e439a50>"
       ]
      },
      {
       "javascript": [
        "$('div#828235e3-a92b-4459-b996-078dd6474a33').width('64%')"
       ],
       "metadata": {},
       "output_type": "display_data",
       "text": [
        "<IPython.core.display.Javascript at 0x11e439a50>"
       ]
      },
      {
       "javascript": [
        "$('div#828235e3-a92b-4459-b996-078dd6474a33').width('64%')"
       ],
       "metadata": {},
       "output_type": "display_data",
       "text": [
        "<IPython.core.display.Javascript at 0x11e439a50>"
       ]
      },
      {
       "javascript": [
        "$('div#828235e3-a92b-4459-b996-078dd6474a33').width('64%')"
       ],
       "metadata": {},
       "output_type": "display_data",
       "text": [
        "<IPython.core.display.Javascript at 0x11e439a50>"
       ]
      },
      {
       "javascript": [
        "$('div#828235e3-a92b-4459-b996-078dd6474a33').width('64%')"
       ],
       "metadata": {},
       "output_type": "display_data",
       "text": [
        "<IPython.core.display.Javascript at 0x11e439a50>"
       ]
      },
      {
       "javascript": [
        "$('div#828235e3-a92b-4459-b996-078dd6474a33').width('65%')"
       ],
       "metadata": {},
       "output_type": "display_data",
       "text": [
        "<IPython.core.display.Javascript at 0x11e439a50>"
       ]
      },
      {
       "javascript": [
        "$('div#828235e3-a92b-4459-b996-078dd6474a33').width('65%')"
       ],
       "metadata": {},
       "output_type": "display_data",
       "text": [
        "<IPython.core.display.Javascript at 0x11e439a50>"
       ]
      },
      {
       "javascript": [
        "$('div#828235e3-a92b-4459-b996-078dd6474a33').width('65%')"
       ],
       "metadata": {},
       "output_type": "display_data",
       "text": [
        "<IPython.core.display.Javascript at 0x11e439a50>"
       ]
      },
      {
       "javascript": [
        "$('div#828235e3-a92b-4459-b996-078dd6474a33').width('65%')"
       ],
       "metadata": {},
       "output_type": "display_data",
       "text": [
        "<IPython.core.display.Javascript at 0x11e439a50>"
       ]
      },
      {
       "javascript": [
        "$('div#828235e3-a92b-4459-b996-078dd6474a33').width('66%')"
       ],
       "metadata": {},
       "output_type": "display_data",
       "text": [
        "<IPython.core.display.Javascript at 0x11e439a50>"
       ]
      },
      {
       "javascript": [
        "$('div#828235e3-a92b-4459-b996-078dd6474a33').width('66%')"
       ],
       "metadata": {},
       "output_type": "display_data",
       "text": [
        "<IPython.core.display.Javascript at 0x11e439a50>"
       ]
      },
      {
       "javascript": [
        "$('div#828235e3-a92b-4459-b996-078dd6474a33').width('66%')"
       ],
       "metadata": {},
       "output_type": "display_data",
       "text": [
        "<IPython.core.display.Javascript at 0x11e439a50>"
       ]
      },
      {
       "javascript": [
        "$('div#828235e3-a92b-4459-b996-078dd6474a33').width('66%')"
       ],
       "metadata": {},
       "output_type": "display_data",
       "text": [
        "<IPython.core.display.Javascript at 0x11e439a50>"
       ]
      },
      {
       "javascript": [
        "$('div#828235e3-a92b-4459-b996-078dd6474a33').width('67%')"
       ],
       "metadata": {},
       "output_type": "display_data",
       "text": [
        "<IPython.core.display.Javascript at 0x11e439a50>"
       ]
      },
      {
       "javascript": [
        "$('div#828235e3-a92b-4459-b996-078dd6474a33').width('67%')"
       ],
       "metadata": {},
       "output_type": "display_data",
       "text": [
        "<IPython.core.display.Javascript at 0x11e439a50>"
       ]
      },
      {
       "javascript": [
        "$('div#828235e3-a92b-4459-b996-078dd6474a33').width('67%')"
       ],
       "metadata": {},
       "output_type": "display_data",
       "text": [
        "<IPython.core.display.Javascript at 0x11e439a50>"
       ]
      },
      {
       "javascript": [
        "$('div#828235e3-a92b-4459-b996-078dd6474a33').width('67%')"
       ],
       "metadata": {},
       "output_type": "display_data",
       "text": [
        "<IPython.core.display.Javascript at 0x11e439a50>"
       ]
      },
      {
       "javascript": [
        "$('div#828235e3-a92b-4459-b996-078dd6474a33').width('68%')"
       ],
       "metadata": {},
       "output_type": "display_data",
       "text": [
        "<IPython.core.display.Javascript at 0x11e439a50>"
       ]
      },
      {
       "javascript": [
        "$('div#828235e3-a92b-4459-b996-078dd6474a33').width('68%')"
       ],
       "metadata": {},
       "output_type": "display_data",
       "text": [
        "<IPython.core.display.Javascript at 0x11e439a50>"
       ]
      },
      {
       "javascript": [
        "$('div#828235e3-a92b-4459-b996-078dd6474a33').width('68%')"
       ],
       "metadata": {},
       "output_type": "display_data",
       "text": [
        "<IPython.core.display.Javascript at 0x11e439a50>"
       ]
      },
      {
       "javascript": [
        "$('div#828235e3-a92b-4459-b996-078dd6474a33').width('69%')"
       ],
       "metadata": {},
       "output_type": "display_data",
       "text": [
        "<IPython.core.display.Javascript at 0x11e439a50>"
       ]
      },
      {
       "javascript": [
        "$('div#828235e3-a92b-4459-b996-078dd6474a33').width('69%')"
       ],
       "metadata": {},
       "output_type": "display_data",
       "text": [
        "<IPython.core.display.Javascript at 0x11e439a50>"
       ]
      },
      {
       "javascript": [
        "$('div#828235e3-a92b-4459-b996-078dd6474a33').width('69%')"
       ],
       "metadata": {},
       "output_type": "display_data",
       "text": [
        "<IPython.core.display.Javascript at 0x11e439a50>"
       ]
      },
      {
       "javascript": [
        "$('div#828235e3-a92b-4459-b996-078dd6474a33').width('69%')"
       ],
       "metadata": {},
       "output_type": "display_data",
       "text": [
        "<IPython.core.display.Javascript at 0x11e439a50>"
       ]
      },
      {
       "javascript": [
        "$('div#828235e3-a92b-4459-b996-078dd6474a33').width('70%')"
       ],
       "metadata": {},
       "output_type": "display_data",
       "text": [
        "<IPython.core.display.Javascript at 0x11e439a50>"
       ]
      },
      {
       "javascript": [
        "$('div#828235e3-a92b-4459-b996-078dd6474a33').width('70%')"
       ],
       "metadata": {},
       "output_type": "display_data",
       "text": [
        "<IPython.core.display.Javascript at 0x11e439a50>"
       ]
      },
      {
       "javascript": [
        "$('div#828235e3-a92b-4459-b996-078dd6474a33').width('70%')"
       ],
       "metadata": {},
       "output_type": "display_data",
       "text": [
        "<IPython.core.display.Javascript at 0x11e439a50>"
       ]
      },
      {
       "javascript": [
        "$('div#828235e3-a92b-4459-b996-078dd6474a33').width('70%')"
       ],
       "metadata": {},
       "output_type": "display_data",
       "text": [
        "<IPython.core.display.Javascript at 0x11e439a50>"
       ]
      },
      {
       "javascript": [
        "$('div#828235e3-a92b-4459-b996-078dd6474a33').width('71%')"
       ],
       "metadata": {},
       "output_type": "display_data",
       "text": [
        "<IPython.core.display.Javascript at 0x11e439a50>"
       ]
      },
      {
       "javascript": [
        "$('div#828235e3-a92b-4459-b996-078dd6474a33').width('71%')"
       ],
       "metadata": {},
       "output_type": "display_data",
       "text": [
        "<IPython.core.display.Javascript at 0x11e439a50>"
       ]
      },
      {
       "javascript": [
        "$('div#828235e3-a92b-4459-b996-078dd6474a33').width('71%')"
       ],
       "metadata": {},
       "output_type": "display_data",
       "text": [
        "<IPython.core.display.Javascript at 0x11e439a50>"
       ]
      },
      {
       "javascript": [
        "$('div#828235e3-a92b-4459-b996-078dd6474a33').width('71%')"
       ],
       "metadata": {},
       "output_type": "display_data",
       "text": [
        "<IPython.core.display.Javascript at 0x11e439a50>"
       ]
      },
      {
       "javascript": [
        "$('div#828235e3-a92b-4459-b996-078dd6474a33').width('72%')"
       ],
       "metadata": {},
       "output_type": "display_data",
       "text": [
        "<IPython.core.display.Javascript at 0x11e439a50>"
       ]
      },
      {
       "javascript": [
        "$('div#828235e3-a92b-4459-b996-078dd6474a33').width('72%')"
       ],
       "metadata": {},
       "output_type": "display_data",
       "text": [
        "<IPython.core.display.Javascript at 0x11e439a50>"
       ]
      },
      {
       "javascript": [
        "$('div#828235e3-a92b-4459-b996-078dd6474a33').width('72%')"
       ],
       "metadata": {},
       "output_type": "display_data",
       "text": [
        "<IPython.core.display.Javascript at 0x11e439a50>"
       ]
      },
      {
       "javascript": [
        "$('div#828235e3-a92b-4459-b996-078dd6474a33').width('72%')"
       ],
       "metadata": {},
       "output_type": "display_data",
       "text": [
        "<IPython.core.display.Javascript at 0x11e439a50>"
       ]
      },
      {
       "javascript": [
        "$('div#828235e3-a92b-4459-b996-078dd6474a33').width('73%')"
       ],
       "metadata": {},
       "output_type": "display_data",
       "text": [
        "<IPython.core.display.Javascript at 0x11e439a50>"
       ]
      },
      {
       "javascript": [
        "$('div#828235e3-a92b-4459-b996-078dd6474a33').width('73%')"
       ],
       "metadata": {},
       "output_type": "display_data",
       "text": [
        "<IPython.core.display.Javascript at 0x11e439a50>"
       ]
      },
      {
       "javascript": [
        "$('div#828235e3-a92b-4459-b996-078dd6474a33').width('73%')"
       ],
       "metadata": {},
       "output_type": "display_data",
       "text": [
        "<IPython.core.display.Javascript at 0x11e439a50>"
       ]
      },
      {
       "javascript": [
        "$('div#828235e3-a92b-4459-b996-078dd6474a33').width('73%')"
       ],
       "metadata": {},
       "output_type": "display_data",
       "text": [
        "<IPython.core.display.Javascript at 0x11e439a50>"
       ]
      },
      {
       "javascript": [
        "$('div#828235e3-a92b-4459-b996-078dd6474a33').width('74%')"
       ],
       "metadata": {},
       "output_type": "display_data",
       "text": [
        "<IPython.core.display.Javascript at 0x11e439a50>"
       ]
      },
      {
       "javascript": [
        "$('div#828235e3-a92b-4459-b996-078dd6474a33').width('74%')"
       ],
       "metadata": {},
       "output_type": "display_data",
       "text": [
        "<IPython.core.display.Javascript at 0x11e439a50>"
       ]
      },
      {
       "javascript": [
        "$('div#828235e3-a92b-4459-b996-078dd6474a33').width('74%')"
       ],
       "metadata": {},
       "output_type": "display_data",
       "text": [
        "<IPython.core.display.Javascript at 0x11e439a50>"
       ]
      },
      {
       "javascript": [
        "$('div#828235e3-a92b-4459-b996-078dd6474a33').width('75%')"
       ],
       "metadata": {},
       "output_type": "display_data",
       "text": [
        "<IPython.core.display.Javascript at 0x11e439a50>"
       ]
      },
      {
       "javascript": [
        "$('div#828235e3-a92b-4459-b996-078dd6474a33').width('75%')"
       ],
       "metadata": {},
       "output_type": "display_data",
       "text": [
        "<IPython.core.display.Javascript at 0x11e439a50>"
       ]
      },
      {
       "javascript": [
        "$('div#828235e3-a92b-4459-b996-078dd6474a33').width('75%')"
       ],
       "metadata": {},
       "output_type": "display_data",
       "text": [
        "<IPython.core.display.Javascript at 0x11e439a50>"
       ]
      },
      {
       "javascript": [
        "$('div#828235e3-a92b-4459-b996-078dd6474a33').width('75%')"
       ],
       "metadata": {},
       "output_type": "display_data",
       "text": [
        "<IPython.core.display.Javascript at 0x11e439a50>"
       ]
      },
      {
       "javascript": [
        "$('div#828235e3-a92b-4459-b996-078dd6474a33').width('76%')"
       ],
       "metadata": {},
       "output_type": "display_data",
       "text": [
        "<IPython.core.display.Javascript at 0x11e439a50>"
       ]
      },
      {
       "javascript": [
        "$('div#828235e3-a92b-4459-b996-078dd6474a33').width('76%')"
       ],
       "metadata": {},
       "output_type": "display_data",
       "text": [
        "<IPython.core.display.Javascript at 0x11e439a50>"
       ]
      },
      {
       "javascript": [
        "$('div#828235e3-a92b-4459-b996-078dd6474a33').width('76%')"
       ],
       "metadata": {},
       "output_type": "display_data",
       "text": [
        "<IPython.core.display.Javascript at 0x11e439a50>"
       ]
      },
      {
       "javascript": [
        "$('div#828235e3-a92b-4459-b996-078dd6474a33').width('76%')"
       ],
       "metadata": {},
       "output_type": "display_data",
       "text": [
        "<IPython.core.display.Javascript at 0x11e439a50>"
       ]
      },
      {
       "javascript": [
        "$('div#828235e3-a92b-4459-b996-078dd6474a33').width('77%')"
       ],
       "metadata": {},
       "output_type": "display_data",
       "text": [
        "<IPython.core.display.Javascript at 0x11e439a50>"
       ]
      },
      {
       "javascript": [
        "$('div#828235e3-a92b-4459-b996-078dd6474a33').width('77%')"
       ],
       "metadata": {},
       "output_type": "display_data",
       "text": [
        "<IPython.core.display.Javascript at 0x11e439a50>"
       ]
      },
      {
       "javascript": [
        "$('div#828235e3-a92b-4459-b996-078dd6474a33').width('77%')"
       ],
       "metadata": {},
       "output_type": "display_data",
       "text": [
        "<IPython.core.display.Javascript at 0x11e439a50>"
       ]
      },
      {
       "javascript": [
        "$('div#828235e3-a92b-4459-b996-078dd6474a33').width('77%')"
       ],
       "metadata": {},
       "output_type": "display_data",
       "text": [
        "<IPython.core.display.Javascript at 0x11e439a50>"
       ]
      },
      {
       "javascript": [
        "$('div#828235e3-a92b-4459-b996-078dd6474a33').width('78%')"
       ],
       "metadata": {},
       "output_type": "display_data",
       "text": [
        "<IPython.core.display.Javascript at 0x11e439a50>"
       ]
      },
      {
       "javascript": [
        "$('div#828235e3-a92b-4459-b996-078dd6474a33').width('78%')"
       ],
       "metadata": {},
       "output_type": "display_data",
       "text": [
        "<IPython.core.display.Javascript at 0x11e439a50>"
       ]
      },
      {
       "javascript": [
        "$('div#828235e3-a92b-4459-b996-078dd6474a33').width('78%')"
       ],
       "metadata": {},
       "output_type": "display_data",
       "text": [
        "<IPython.core.display.Javascript at 0x11e439a50>"
       ]
      },
      {
       "javascript": [
        "$('div#828235e3-a92b-4459-b996-078dd6474a33').width('78%')"
       ],
       "metadata": {},
       "output_type": "display_data",
       "text": [
        "<IPython.core.display.Javascript at 0x11e439a50>"
       ]
      },
      {
       "javascript": [
        "$('div#828235e3-a92b-4459-b996-078dd6474a33').width('79%')"
       ],
       "metadata": {},
       "output_type": "display_data",
       "text": [
        "<IPython.core.display.Javascript at 0x11e439a50>"
       ]
      },
      {
       "javascript": [
        "$('div#828235e3-a92b-4459-b996-078dd6474a33').width('79%')"
       ],
       "metadata": {},
       "output_type": "display_data",
       "text": [
        "<IPython.core.display.Javascript at 0x11e439a50>"
       ]
      },
      {
       "javascript": [
        "$('div#828235e3-a92b-4459-b996-078dd6474a33').width('79%')"
       ],
       "metadata": {},
       "output_type": "display_data",
       "text": [
        "<IPython.core.display.Javascript at 0x11e439a50>"
       ]
      },
      {
       "javascript": [
        "$('div#828235e3-a92b-4459-b996-078dd6474a33').width('79%')"
       ],
       "metadata": {},
       "output_type": "display_data",
       "text": [
        "<IPython.core.display.Javascript at 0x11e439a50>"
       ]
      },
      {
       "javascript": [
        "$('div#828235e3-a92b-4459-b996-078dd6474a33').width('80%')"
       ],
       "metadata": {},
       "output_type": "display_data",
       "text": [
        "<IPython.core.display.Javascript at 0x11e439a50>"
       ]
      },
      {
       "javascript": [
        "$('div#828235e3-a92b-4459-b996-078dd6474a33').width('80%')"
       ],
       "metadata": {},
       "output_type": "display_data",
       "text": [
        "<IPython.core.display.Javascript at 0x11e439a50>"
       ]
      },
      {
       "javascript": [
        "$('div#828235e3-a92b-4459-b996-078dd6474a33').width('80%')"
       ],
       "metadata": {},
       "output_type": "display_data",
       "text": [
        "<IPython.core.display.Javascript at 0x11e439a50>"
       ]
      },
      {
       "javascript": [
        "$('div#828235e3-a92b-4459-b996-078dd6474a33').width('80%')"
       ],
       "metadata": {},
       "output_type": "display_data",
       "text": [
        "<IPython.core.display.Javascript at 0x11e439a50>"
       ]
      },
      {
       "javascript": [
        "$('div#828235e3-a92b-4459-b996-078dd6474a33').width('81%')"
       ],
       "metadata": {},
       "output_type": "display_data",
       "text": [
        "<IPython.core.display.Javascript at 0x11e439a50>"
       ]
      },
      {
       "javascript": [
        "$('div#828235e3-a92b-4459-b996-078dd6474a33').width('81%')"
       ],
       "metadata": {},
       "output_type": "display_data",
       "text": [
        "<IPython.core.display.Javascript at 0x11e439a50>"
       ]
      },
      {
       "javascript": [
        "$('div#828235e3-a92b-4459-b996-078dd6474a33').width('81%')"
       ],
       "metadata": {},
       "output_type": "display_data",
       "text": [
        "<IPython.core.display.Javascript at 0x11e439a50>"
       ]
      },
      {
       "javascript": [
        "$('div#828235e3-a92b-4459-b996-078dd6474a33').width('82%')"
       ],
       "metadata": {},
       "output_type": "display_data",
       "text": [
        "<IPython.core.display.Javascript at 0x11e439a50>"
       ]
      },
      {
       "javascript": [
        "$('div#828235e3-a92b-4459-b996-078dd6474a33').width('82%')"
       ],
       "metadata": {},
       "output_type": "display_data",
       "text": [
        "<IPython.core.display.Javascript at 0x11e439a50>"
       ]
      },
      {
       "javascript": [
        "$('div#828235e3-a92b-4459-b996-078dd6474a33').width('82%')"
       ],
       "metadata": {},
       "output_type": "display_data",
       "text": [
        "<IPython.core.display.Javascript at 0x11e439a50>"
       ]
      },
      {
       "javascript": [
        "$('div#828235e3-a92b-4459-b996-078dd6474a33').width('82%')"
       ],
       "metadata": {},
       "output_type": "display_data",
       "text": [
        "<IPython.core.display.Javascript at 0x11e439a50>"
       ]
      },
      {
       "javascript": [
        "$('div#828235e3-a92b-4459-b996-078dd6474a33').width('83%')"
       ],
       "metadata": {},
       "output_type": "display_data",
       "text": [
        "<IPython.core.display.Javascript at 0x11e439a50>"
       ]
      },
      {
       "javascript": [
        "$('div#828235e3-a92b-4459-b996-078dd6474a33').width('83%')"
       ],
       "metadata": {},
       "output_type": "display_data",
       "text": [
        "<IPython.core.display.Javascript at 0x11e439a50>"
       ]
      },
      {
       "javascript": [
        "$('div#828235e3-a92b-4459-b996-078dd6474a33').width('83%')"
       ],
       "metadata": {},
       "output_type": "display_data",
       "text": [
        "<IPython.core.display.Javascript at 0x11e439a50>"
       ]
      },
      {
       "javascript": [
        "$('div#828235e3-a92b-4459-b996-078dd6474a33').width('83%')"
       ],
       "metadata": {},
       "output_type": "display_data",
       "text": [
        "<IPython.core.display.Javascript at 0x11e439a50>"
       ]
      },
      {
       "javascript": [
        "$('div#828235e3-a92b-4459-b996-078dd6474a33').width('84%')"
       ],
       "metadata": {},
       "output_type": "display_data",
       "text": [
        "<IPython.core.display.Javascript at 0x11e439a50>"
       ]
      },
      {
       "javascript": [
        "$('div#828235e3-a92b-4459-b996-078dd6474a33').width('84%')"
       ],
       "metadata": {},
       "output_type": "display_data",
       "text": [
        "<IPython.core.display.Javascript at 0x11e439a50>"
       ]
      },
      {
       "javascript": [
        "$('div#828235e3-a92b-4459-b996-078dd6474a33').width('84%')"
       ],
       "metadata": {},
       "output_type": "display_data",
       "text": [
        "<IPython.core.display.Javascript at 0x11e439a50>"
       ]
      },
      {
       "javascript": [
        "$('div#828235e3-a92b-4459-b996-078dd6474a33').width('84%')"
       ],
       "metadata": {},
       "output_type": "display_data",
       "text": [
        "<IPython.core.display.Javascript at 0x11e439a50>"
       ]
      },
      {
       "javascript": [
        "$('div#828235e3-a92b-4459-b996-078dd6474a33').width('85%')"
       ],
       "metadata": {},
       "output_type": "display_data",
       "text": [
        "<IPython.core.display.Javascript at 0x11e439a50>"
       ]
      },
      {
       "javascript": [
        "$('div#828235e3-a92b-4459-b996-078dd6474a33').width('85%')"
       ],
       "metadata": {},
       "output_type": "display_data",
       "text": [
        "<IPython.core.display.Javascript at 0x11e439a50>"
       ]
      },
      {
       "javascript": [
        "$('div#828235e3-a92b-4459-b996-078dd6474a33').width('85%')"
       ],
       "metadata": {},
       "output_type": "display_data",
       "text": [
        "<IPython.core.display.Javascript at 0x11e439a50>"
       ]
      },
      {
       "javascript": [
        "$('div#828235e3-a92b-4459-b996-078dd6474a33').width('85%')"
       ],
       "metadata": {},
       "output_type": "display_data",
       "text": [
        "<IPython.core.display.Javascript at 0x11e439a50>"
       ]
      },
      {
       "javascript": [
        "$('div#828235e3-a92b-4459-b996-078dd6474a33').width('86%')"
       ],
       "metadata": {},
       "output_type": "display_data",
       "text": [
        "<IPython.core.display.Javascript at 0x11e439a50>"
       ]
      },
      {
       "javascript": [
        "$('div#828235e3-a92b-4459-b996-078dd6474a33').width('86%')"
       ],
       "metadata": {},
       "output_type": "display_data",
       "text": [
        "<IPython.core.display.Javascript at 0x11e439a50>"
       ]
      },
      {
       "javascript": [
        "$('div#828235e3-a92b-4459-b996-078dd6474a33').width('86%')"
       ],
       "metadata": {},
       "output_type": "display_data",
       "text": [
        "<IPython.core.display.Javascript at 0x11e439a50>"
       ]
      },
      {
       "javascript": [
        "$('div#828235e3-a92b-4459-b996-078dd6474a33').width('86%')"
       ],
       "metadata": {},
       "output_type": "display_data",
       "text": [
        "<IPython.core.display.Javascript at 0x11e439a50>"
       ]
      },
      {
       "javascript": [
        "$('div#828235e3-a92b-4459-b996-078dd6474a33').width('87%')"
       ],
       "metadata": {},
       "output_type": "display_data",
       "text": [
        "<IPython.core.display.Javascript at 0x11e439a50>"
       ]
      },
      {
       "javascript": [
        "$('div#828235e3-a92b-4459-b996-078dd6474a33').width('87%')"
       ],
       "metadata": {},
       "output_type": "display_data",
       "text": [
        "<IPython.core.display.Javascript at 0x11e439a50>"
       ]
      },
      {
       "javascript": [
        "$('div#828235e3-a92b-4459-b996-078dd6474a33').width('87%')"
       ],
       "metadata": {},
       "output_type": "display_data",
       "text": [
        "<IPython.core.display.Javascript at 0x11e439a50>"
       ]
      },
      {
       "javascript": [
        "$('div#828235e3-a92b-4459-b996-078dd6474a33').width('88%')"
       ],
       "metadata": {},
       "output_type": "display_data",
       "text": [
        "<IPython.core.display.Javascript at 0x11e439a50>"
       ]
      },
      {
       "javascript": [
        "$('div#828235e3-a92b-4459-b996-078dd6474a33').width('88%')"
       ],
       "metadata": {},
       "output_type": "display_data",
       "text": [
        "<IPython.core.display.Javascript at 0x11e439a50>"
       ]
      },
      {
       "javascript": [
        "$('div#828235e3-a92b-4459-b996-078dd6474a33').width('88%')"
       ],
       "metadata": {},
       "output_type": "display_data",
       "text": [
        "<IPython.core.display.Javascript at 0x11e439a50>"
       ]
      },
      {
       "javascript": [
        "$('div#828235e3-a92b-4459-b996-078dd6474a33').width('88%')"
       ],
       "metadata": {},
       "output_type": "display_data",
       "text": [
        "<IPython.core.display.Javascript at 0x11e439a50>"
       ]
      },
      {
       "javascript": [
        "$('div#828235e3-a92b-4459-b996-078dd6474a33').width('89%')"
       ],
       "metadata": {},
       "output_type": "display_data",
       "text": [
        "<IPython.core.display.Javascript at 0x11e439a50>"
       ]
      },
      {
       "javascript": [
        "$('div#828235e3-a92b-4459-b996-078dd6474a33').width('89%')"
       ],
       "metadata": {},
       "output_type": "display_data",
       "text": [
        "<IPython.core.display.Javascript at 0x11e439a50>"
       ]
      },
      {
       "javascript": [
        "$('div#828235e3-a92b-4459-b996-078dd6474a33').width('89%')"
       ],
       "metadata": {},
       "output_type": "display_data",
       "text": [
        "<IPython.core.display.Javascript at 0x11e439a50>"
       ]
      },
      {
       "javascript": [
        "$('div#828235e3-a92b-4459-b996-078dd6474a33').width('89%')"
       ],
       "metadata": {},
       "output_type": "display_data",
       "text": [
        "<IPython.core.display.Javascript at 0x11e439a50>"
       ]
      },
      {
       "javascript": [
        "$('div#828235e3-a92b-4459-b996-078dd6474a33').width('90%')"
       ],
       "metadata": {},
       "output_type": "display_data",
       "text": [
        "<IPython.core.display.Javascript at 0x11e439a50>"
       ]
      },
      {
       "javascript": [
        "$('div#828235e3-a92b-4459-b996-078dd6474a33').width('90%')"
       ],
       "metadata": {},
       "output_type": "display_data",
       "text": [
        "<IPython.core.display.Javascript at 0x11e439a50>"
       ]
      },
      {
       "javascript": [
        "$('div#828235e3-a92b-4459-b996-078dd6474a33').width('90%')"
       ],
       "metadata": {},
       "output_type": "display_data",
       "text": [
        "<IPython.core.display.Javascript at 0x11e439a50>"
       ]
      },
      {
       "javascript": [
        "$('div#828235e3-a92b-4459-b996-078dd6474a33').width('90%')"
       ],
       "metadata": {},
       "output_type": "display_data",
       "text": [
        "<IPython.core.display.Javascript at 0x11e439a50>"
       ]
      },
      {
       "javascript": [
        "$('div#828235e3-a92b-4459-b996-078dd6474a33').width('91%')"
       ],
       "metadata": {},
       "output_type": "display_data",
       "text": [
        "<IPython.core.display.Javascript at 0x11e439a50>"
       ]
      },
      {
       "javascript": [
        "$('div#828235e3-a92b-4459-b996-078dd6474a33').width('91%')"
       ],
       "metadata": {},
       "output_type": "display_data",
       "text": [
        "<IPython.core.display.Javascript at 0x11e439a50>"
       ]
      },
      {
       "javascript": [
        "$('div#828235e3-a92b-4459-b996-078dd6474a33').width('91%')"
       ],
       "metadata": {},
       "output_type": "display_data",
       "text": [
        "<IPython.core.display.Javascript at 0x11e439a50>"
       ]
      },
      {
       "javascript": [
        "$('div#828235e3-a92b-4459-b996-078dd6474a33').width('91%')"
       ],
       "metadata": {},
       "output_type": "display_data",
       "text": [
        "<IPython.core.display.Javascript at 0x11e439a50>"
       ]
      },
      {
       "javascript": [
        "$('div#828235e3-a92b-4459-b996-078dd6474a33').width('92%')"
       ],
       "metadata": {},
       "output_type": "display_data",
       "text": [
        "<IPython.core.display.Javascript at 0x11e439a50>"
       ]
      },
      {
       "javascript": [
        "$('div#828235e3-a92b-4459-b996-078dd6474a33').width('92%')"
       ],
       "metadata": {},
       "output_type": "display_data",
       "text": [
        "<IPython.core.display.Javascript at 0x11e439a50>"
       ]
      },
      {
       "javascript": [
        "$('div#828235e3-a92b-4459-b996-078dd6474a33').width('92%')"
       ],
       "metadata": {},
       "output_type": "display_data",
       "text": [
        "<IPython.core.display.Javascript at 0x11e439a50>"
       ]
      },
      {
       "javascript": [
        "$('div#828235e3-a92b-4459-b996-078dd6474a33').width('92%')"
       ],
       "metadata": {},
       "output_type": "display_data",
       "text": [
        "<IPython.core.display.Javascript at 0x11e439a50>"
       ]
      },
      {
       "javascript": [
        "$('div#828235e3-a92b-4459-b996-078dd6474a33').width('93%')"
       ],
       "metadata": {},
       "output_type": "display_data",
       "text": [
        "<IPython.core.display.Javascript at 0x11e439a50>"
       ]
      },
      {
       "javascript": [
        "$('div#828235e3-a92b-4459-b996-078dd6474a33').width('93%')"
       ],
       "metadata": {},
       "output_type": "display_data",
       "text": [
        "<IPython.core.display.Javascript at 0x11e439a50>"
       ]
      },
      {
       "javascript": [
        "$('div#828235e3-a92b-4459-b996-078dd6474a33').width('93%')"
       ],
       "metadata": {},
       "output_type": "display_data",
       "text": [
        "<IPython.core.display.Javascript at 0x11e439a50>"
       ]
      },
      {
       "javascript": [
        "$('div#828235e3-a92b-4459-b996-078dd6474a33').width('94%')"
       ],
       "metadata": {},
       "output_type": "display_data",
       "text": [
        "<IPython.core.display.Javascript at 0x11e439a50>"
       ]
      },
      {
       "javascript": [
        "$('div#828235e3-a92b-4459-b996-078dd6474a33').width('94%')"
       ],
       "metadata": {},
       "output_type": "display_data",
       "text": [
        "<IPython.core.display.Javascript at 0x11e439a50>"
       ]
      },
      {
       "javascript": [
        "$('div#828235e3-a92b-4459-b996-078dd6474a33').width('94%')"
       ],
       "metadata": {},
       "output_type": "display_data",
       "text": [
        "<IPython.core.display.Javascript at 0x11e439a50>"
       ]
      },
      {
       "javascript": [
        "$('div#828235e3-a92b-4459-b996-078dd6474a33').width('94%')"
       ],
       "metadata": {},
       "output_type": "display_data",
       "text": [
        "<IPython.core.display.Javascript at 0x11e439a50>"
       ]
      },
      {
       "javascript": [
        "$('div#828235e3-a92b-4459-b996-078dd6474a33').width('95%')"
       ],
       "metadata": {},
       "output_type": "display_data",
       "text": [
        "<IPython.core.display.Javascript at 0x11e439a50>"
       ]
      },
      {
       "javascript": [
        "$('div#828235e3-a92b-4459-b996-078dd6474a33').width('95%')"
       ],
       "metadata": {},
       "output_type": "display_data",
       "text": [
        "<IPython.core.display.Javascript at 0x11e439a50>"
       ]
      },
      {
       "javascript": [
        "$('div#828235e3-a92b-4459-b996-078dd6474a33').width('95%')"
       ],
       "metadata": {},
       "output_type": "display_data",
       "text": [
        "<IPython.core.display.Javascript at 0x11e439a50>"
       ]
      },
      {
       "javascript": [
        "$('div#828235e3-a92b-4459-b996-078dd6474a33').width('95%')"
       ],
       "metadata": {},
       "output_type": "display_data",
       "text": [
        "<IPython.core.display.Javascript at 0x11e439a50>"
       ]
      },
      {
       "javascript": [
        "$('div#828235e3-a92b-4459-b996-078dd6474a33').width('96%')"
       ],
       "metadata": {},
       "output_type": "display_data",
       "text": [
        "<IPython.core.display.Javascript at 0x11e439a50>"
       ]
      },
      {
       "javascript": [
        "$('div#828235e3-a92b-4459-b996-078dd6474a33').width('96%')"
       ],
       "metadata": {},
       "output_type": "display_data",
       "text": [
        "<IPython.core.display.Javascript at 0x11e439a50>"
       ]
      },
      {
       "javascript": [
        "$('div#828235e3-a92b-4459-b996-078dd6474a33').width('96%')"
       ],
       "metadata": {},
       "output_type": "display_data",
       "text": [
        "<IPython.core.display.Javascript at 0x11e439a50>"
       ]
      },
      {
       "javascript": [
        "$('div#828235e3-a92b-4459-b996-078dd6474a33').width('96%')"
       ],
       "metadata": {},
       "output_type": "display_data",
       "text": [
        "<IPython.core.display.Javascript at 0x11e439a50>"
       ]
      },
      {
       "javascript": [
        "$('div#828235e3-a92b-4459-b996-078dd6474a33').width('97%')"
       ],
       "metadata": {},
       "output_type": "display_data",
       "text": [
        "<IPython.core.display.Javascript at 0x11e439a50>"
       ]
      },
      {
       "javascript": [
        "$('div#828235e3-a92b-4459-b996-078dd6474a33').width('97%')"
       ],
       "metadata": {},
       "output_type": "display_data",
       "text": [
        "<IPython.core.display.Javascript at 0x11e439a50>"
       ]
      },
      {
       "javascript": [
        "$('div#828235e3-a92b-4459-b996-078dd6474a33').width('97%')"
       ],
       "metadata": {},
       "output_type": "display_data",
       "text": [
        "<IPython.core.display.Javascript at 0x11e439a50>"
       ]
      },
      {
       "javascript": [
        "$('div#828235e3-a92b-4459-b996-078dd6474a33').width('97%')"
       ],
       "metadata": {},
       "output_type": "display_data",
       "text": [
        "<IPython.core.display.Javascript at 0x11e439a50>"
       ]
      },
      {
       "javascript": [
        "$('div#828235e3-a92b-4459-b996-078dd6474a33').width('98%')"
       ],
       "metadata": {},
       "output_type": "display_data",
       "text": [
        "<IPython.core.display.Javascript at 0x11e439a50>"
       ]
      },
      {
       "javascript": [
        "$('div#828235e3-a92b-4459-b996-078dd6474a33').width('98%')"
       ],
       "metadata": {},
       "output_type": "display_data",
       "text": [
        "<IPython.core.display.Javascript at 0x11e439a50>"
       ]
      },
      {
       "javascript": [
        "$('div#828235e3-a92b-4459-b996-078dd6474a33').width('98%')"
       ],
       "metadata": {},
       "output_type": "display_data",
       "text": [
        "<IPython.core.display.Javascript at 0x11e439a50>"
       ]
      },
      {
       "javascript": [
        "$('div#828235e3-a92b-4459-b996-078dd6474a33').width('98%')"
       ],
       "metadata": {},
       "output_type": "display_data",
       "text": [
        "<IPython.core.display.Javascript at 0x11e439a50>"
       ]
      },
      {
       "javascript": [
        "$('div#828235e3-a92b-4459-b996-078dd6474a33').width('99%')"
       ],
       "metadata": {},
       "output_type": "display_data",
       "text": [
        "<IPython.core.display.Javascript at 0x11e439a50>"
       ]
      },
      {
       "javascript": [
        "$('div#828235e3-a92b-4459-b996-078dd6474a33').width('99%')"
       ],
       "metadata": {},
       "output_type": "display_data",
       "text": [
        "<IPython.core.display.Javascript at 0x11e439a50>"
       ]
      },
      {
       "javascript": [
        "$('div#828235e3-a92b-4459-b996-078dd6474a33').width('99%')"
       ],
       "metadata": {},
       "output_type": "display_data",
       "text": [
        "<IPython.core.display.Javascript at 0x11e439a50>"
       ]
      },
      {
       "javascript": [
        "$('div#828235e3-a92b-4459-b996-078dd6474a33').width('100%')"
       ],
       "metadata": {},
       "output_type": "display_data",
       "text": [
        "<IPython.core.display.Javascript at 0x11e439a50>"
       ]
      },
      {
       "html": [
        "<iframe src=http://127.0.0.1:8001/6502752 width=100%% height=420 frameborder=0></iframe>"
       ],
       "metadata": {},
       "output_type": "pyout",
       "prompt_number": 18,
       "text": [
        "<DisplayNode.DisplayNodeProxy.DisplayNode instance at 0x11e44f050>"
       ]
      }
     ],
     "prompt_number": 18
    },
    {
     "cell_type": "code",
     "collapsed": false,
     "input": [
      "PET.set_measurement_data(proj_pet.data)"
     ],
     "language": "python",
     "metadata": {},
     "outputs": [],
     "prompt_number": 19
    },
    {
     "cell_type": "code",
     "collapsed": false,
     "input": [
      "PET.estimate_activity()"
     ],
     "language": "python",
     "metadata": {},
     "outputs": [
      {
       "html": [
        "\n",
        "        <div style=\"border: 1px solid white; width:100%%; height:6px; background-color:rgb(200,228,246)\">\n",
        "            <div id=\"320b54b6-f308-433d-8a40-6bddde0a3dc6\" style=\"background-color:rgb(47,128,246); width:0%; height:6px\"> </div>\n",
        "        </div> \n",
        "        "
       ],
       "metadata": {},
       "output_type": "display_data",
       "text": [
        "<IPython.core.display.HTML at 0x11e439910>"
       ]
      },
      {
       "javascript": [
        "$('div#320b54b6-f308-433d-8a40-6bddde0a3dc6').width('1%')"
       ],
       "metadata": {},
       "output_type": "display_data",
       "text": [
        "<IPython.core.display.Javascript at 0x11e439a90>"
       ]
      }
     ],
     "prompt_number": "*"
    },
    {
     "cell_type": "code",
     "collapsed": false,
     "input": [],
     "language": "python",
     "metadata": {},
     "outputs": []
    },
    {
     "cell_type": "heading",
     "level": 3,
     "metadata": {},
     "source": [
      "Backprojection: "
     ]
    },
    {
     "cell_type": "code",
     "collapsed": false,
     "input": [
      "bproj_pet"
     ],
     "language": "python",
     "metadata": {},
     "outputs": [
      {
       "html": [
        "\n",
        "        <div style=\"border: 1px solid white; width:100%%; height:6px; background-color:rgb(246,246,246)\">\n",
        "            <div id=\"7ab6d180-288a-45b2-9c87-fa8d8294cf79\" style=\"background-color:rgb(200,200,200); width:0%; height:6px\"> </div>\n",
        "        </div> \n",
        "        "
       ],
       "metadata": {},
       "output_type": "display_data",
       "text": [
        "<IPython.core.display.HTML at 0x11c162a10>"
       ]
      },
      {
       "javascript": [
        "$('div#7ab6d180-288a-45b2-9c87-fa8d8294cf79').width('1%')"
       ],
       "metadata": {},
       "output_type": "display_data",
       "text": [
        "<IPython.core.display.Javascript at 0x11c162b50>"
       ]
      },
      {
       "javascript": [
        "$('div#7ab6d180-288a-45b2-9c87-fa8d8294cf79').width('1%')"
       ],
       "metadata": {},
       "output_type": "display_data",
       "text": [
        "<IPython.core.display.Javascript at 0x11c162b50>"
       ]
      },
      {
       "javascript": [
        "$('div#7ab6d180-288a-45b2-9c87-fa8d8294cf79').width('1%')"
       ],
       "metadata": {},
       "output_type": "display_data",
       "text": [
        "<IPython.core.display.Javascript at 0x11c162a50>"
       ]
      },
      {
       "javascript": [
        "$('div#7ab6d180-288a-45b2-9c87-fa8d8294cf79').width('2%')"
       ],
       "metadata": {},
       "output_type": "display_data",
       "text": [
        "<IPython.core.display.Javascript at 0x11c162a50>"
       ]
      },
      {
       "javascript": [
        "$('div#7ab6d180-288a-45b2-9c87-fa8d8294cf79').width('3%')"
       ],
       "metadata": {},
       "output_type": "display_data",
       "text": [
        "<IPython.core.display.Javascript at 0x11c162a50>"
       ]
      },
      {
       "javascript": [
        "$('div#7ab6d180-288a-45b2-9c87-fa8d8294cf79').width('3%')"
       ],
       "metadata": {},
       "output_type": "display_data",
       "text": [
        "<IPython.core.display.Javascript at 0x11c162a50>"
       ]
      },
      {
       "javascript": [
        "$('div#7ab6d180-288a-45b2-9c87-fa8d8294cf79').width('4%')"
       ],
       "metadata": {},
       "output_type": "display_data",
       "text": [
        "<IPython.core.display.Javascript at 0x11c162a50>"
       ]
      },
      {
       "javascript": [
        "$('div#7ab6d180-288a-45b2-9c87-fa8d8294cf79').width('5%')"
       ],
       "metadata": {},
       "output_type": "display_data",
       "text": [
        "<IPython.core.display.Javascript at 0x11c162a50>"
       ]
      },
      {
       "javascript": [
        "$('div#7ab6d180-288a-45b2-9c87-fa8d8294cf79').width('6%')"
       ],
       "metadata": {},
       "output_type": "display_data",
       "text": [
        "<IPython.core.display.Javascript at 0x11c162a50>"
       ]
      },
      {
       "javascript": [
        "$('div#7ab6d180-288a-45b2-9c87-fa8d8294cf79').width('7%')"
       ],
       "metadata": {},
       "output_type": "display_data",
       "text": [
        "<IPython.core.display.Javascript at 0x11c162a50>"
       ]
      },
      {
       "javascript": [
        "$('div#7ab6d180-288a-45b2-9c87-fa8d8294cf79').width('7%')"
       ],
       "metadata": {},
       "output_type": "display_data",
       "text": [
        "<IPython.core.display.Javascript at 0x11c162a50>"
       ]
      },
      {
       "javascript": [
        "$('div#7ab6d180-288a-45b2-9c87-fa8d8294cf79').width('8%')"
       ],
       "metadata": {},
       "output_type": "display_data",
       "text": [
        "<IPython.core.display.Javascript at 0x11c162a50>"
       ]
      },
      {
       "javascript": [
        "$('div#7ab6d180-288a-45b2-9c87-fa8d8294cf79').width('9%')"
       ],
       "metadata": {},
       "output_type": "display_data",
       "text": [
        "<IPython.core.display.Javascript at 0x11c162a50>"
       ]
      },
      {
       "javascript": [
        "$('div#7ab6d180-288a-45b2-9c87-fa8d8294cf79').width('10%')"
       ],
       "metadata": {},
       "output_type": "display_data",
       "text": [
        "<IPython.core.display.Javascript at 0x11c162a50>"
       ]
      },
      {
       "javascript": [
        "$('div#7ab6d180-288a-45b2-9c87-fa8d8294cf79').width('10%')"
       ],
       "metadata": {},
       "output_type": "display_data",
       "text": [
        "<IPython.core.display.Javascript at 0x11c162a50>"
       ]
      },
      {
       "javascript": [
        "$('div#7ab6d180-288a-45b2-9c87-fa8d8294cf79').width('11%')"
       ],
       "metadata": {},
       "output_type": "display_data",
       "text": [
        "<IPython.core.display.Javascript at 0x11c162a50>"
       ]
      },
      {
       "javascript": [
        "$('div#7ab6d180-288a-45b2-9c87-fa8d8294cf79').width('12%')"
       ],
       "metadata": {},
       "output_type": "display_data",
       "text": [
        "<IPython.core.display.Javascript at 0x11c162a50>"
       ]
      },
      {
       "javascript": [
        "$('div#7ab6d180-288a-45b2-9c87-fa8d8294cf79').width('13%')"
       ],
       "metadata": {},
       "output_type": "display_data",
       "text": [
        "<IPython.core.display.Javascript at 0x11c162a50>"
       ]
      },
      {
       "javascript": [
        "$('div#7ab6d180-288a-45b2-9c87-fa8d8294cf79').width('14%')"
       ],
       "metadata": {},
       "output_type": "display_data",
       "text": [
        "<IPython.core.display.Javascript at 0x11c162a50>"
       ]
      },
      {
       "javascript": [
        "$('div#7ab6d180-288a-45b2-9c87-fa8d8294cf79').width('14%')"
       ],
       "metadata": {},
       "output_type": "display_data",
       "text": [
        "<IPython.core.display.Javascript at 0x11c162a50>"
       ]
      },
      {
       "javascript": [
        "$('div#7ab6d180-288a-45b2-9c87-fa8d8294cf79').width('15%')"
       ],
       "metadata": {},
       "output_type": "display_data",
       "text": [
        "<IPython.core.display.Javascript at 0x11c162a50>"
       ]
      },
      {
       "javascript": [
        "$('div#7ab6d180-288a-45b2-9c87-fa8d8294cf79').width('16%')"
       ],
       "metadata": {},
       "output_type": "display_data",
       "text": [
        "<IPython.core.display.Javascript at 0x11c162a50>"
       ]
      },
      {
       "javascript": [
        "$('div#7ab6d180-288a-45b2-9c87-fa8d8294cf79').width('17%')"
       ],
       "metadata": {},
       "output_type": "display_data",
       "text": [
        "<IPython.core.display.Javascript at 0x11c162a50>"
       ]
      },
      {
       "javascript": [
        "$('div#7ab6d180-288a-45b2-9c87-fa8d8294cf79').width('17%')"
       ],
       "metadata": {},
       "output_type": "display_data",
       "text": [
        "<IPython.core.display.Javascript at 0x11c162a50>"
       ]
      },
      {
       "javascript": [
        "$('div#7ab6d180-288a-45b2-9c87-fa8d8294cf79').width('18%')"
       ],
       "metadata": {},
       "output_type": "display_data",
       "text": [
        "<IPython.core.display.Javascript at 0x11c162a50>"
       ]
      },
      {
       "javascript": [
        "$('div#7ab6d180-288a-45b2-9c87-fa8d8294cf79').width('19%')"
       ],
       "metadata": {},
       "output_type": "display_data",
       "text": [
        "<IPython.core.display.Javascript at 0x11c162a50>"
       ]
      },
      {
       "javascript": [
        "$('div#7ab6d180-288a-45b2-9c87-fa8d8294cf79').width('20%')"
       ],
       "metadata": {},
       "output_type": "display_data",
       "text": [
        "<IPython.core.display.Javascript at 0x11c162a50>"
       ]
      },
      {
       "javascript": [
        "$('div#7ab6d180-288a-45b2-9c87-fa8d8294cf79').width('21%')"
       ],
       "metadata": {},
       "output_type": "display_data",
       "text": [
        "<IPython.core.display.Javascript at 0x11c162a50>"
       ]
      },
      {
       "javascript": [
        "$('div#7ab6d180-288a-45b2-9c87-fa8d8294cf79').width('21%')"
       ],
       "metadata": {},
       "output_type": "display_data",
       "text": [
        "<IPython.core.display.Javascript at 0x11c162a50>"
       ]
      },
      {
       "javascript": [
        "$('div#7ab6d180-288a-45b2-9c87-fa8d8294cf79').width('22%')"
       ],
       "metadata": {},
       "output_type": "display_data",
       "text": [
        "<IPython.core.display.Javascript at 0x11c162a50>"
       ]
      },
      {
       "javascript": [
        "$('div#7ab6d180-288a-45b2-9c87-fa8d8294cf79').width('23%')"
       ],
       "metadata": {},
       "output_type": "display_data",
       "text": [
        "<IPython.core.display.Javascript at 0x11c162a50>"
       ]
      },
      {
       "javascript": [
        "$('div#7ab6d180-288a-45b2-9c87-fa8d8294cf79').width('24%')"
       ],
       "metadata": {},
       "output_type": "display_data",
       "text": [
        "<IPython.core.display.Javascript at 0x11c162a50>"
       ]
      },
      {
       "javascript": [
        "$('div#7ab6d180-288a-45b2-9c87-fa8d8294cf79').width('25%')"
       ],
       "metadata": {},
       "output_type": "display_data",
       "text": [
        "<IPython.core.display.Javascript at 0x11c162a50>"
       ]
      },
      {
       "javascript": [
        "$('div#7ab6d180-288a-45b2-9c87-fa8d8294cf79').width('25%')"
       ],
       "metadata": {},
       "output_type": "display_data",
       "text": [
        "<IPython.core.display.Javascript at 0x11c162a50>"
       ]
      },
      {
       "javascript": [
        "$('div#7ab6d180-288a-45b2-9c87-fa8d8294cf79').width('26%')"
       ],
       "metadata": {},
       "output_type": "display_data",
       "text": [
        "<IPython.core.display.Javascript at 0x11c162a50>"
       ]
      },
      {
       "javascript": [
        "$('div#7ab6d180-288a-45b2-9c87-fa8d8294cf79').width('27%')"
       ],
       "metadata": {},
       "output_type": "display_data",
       "text": [
        "<IPython.core.display.Javascript at 0x11c162a50>"
       ]
      },
      {
       "javascript": [
        "$('div#7ab6d180-288a-45b2-9c87-fa8d8294cf79').width('28%')"
       ],
       "metadata": {},
       "output_type": "display_data",
       "text": [
        "<IPython.core.display.Javascript at 0x11c162a50>"
       ]
      },
      {
       "javascript": [
        "$('div#7ab6d180-288a-45b2-9c87-fa8d8294cf79').width('28%')"
       ],
       "metadata": {},
       "output_type": "display_data",
       "text": [
        "<IPython.core.display.Javascript at 0x11c162a50>"
       ]
      },
      {
       "javascript": [
        "$('div#7ab6d180-288a-45b2-9c87-fa8d8294cf79').width('29%')"
       ],
       "metadata": {},
       "output_type": "display_data",
       "text": [
        "<IPython.core.display.Javascript at 0x11c162a50>"
       ]
      },
      {
       "javascript": [
        "$('div#7ab6d180-288a-45b2-9c87-fa8d8294cf79').width('30%')"
       ],
       "metadata": {},
       "output_type": "display_data",
       "text": [
        "<IPython.core.display.Javascript at 0x11c162a50>"
       ]
      },
      {
       "javascript": [
        "$('div#7ab6d180-288a-45b2-9c87-fa8d8294cf79').width('31%')"
       ],
       "metadata": {},
       "output_type": "display_data",
       "text": [
        "<IPython.core.display.Javascript at 0x11c162a50>"
       ]
      },
      {
       "javascript": [
        "$('div#7ab6d180-288a-45b2-9c87-fa8d8294cf79').width('32%')"
       ],
       "metadata": {},
       "output_type": "display_data",
       "text": [
        "<IPython.core.display.Javascript at 0x11c162a50>"
       ]
      },
      {
       "javascript": [
        "$('div#7ab6d180-288a-45b2-9c87-fa8d8294cf79').width('32%')"
       ],
       "metadata": {},
       "output_type": "display_data",
       "text": [
        "<IPython.core.display.Javascript at 0x11c162a50>"
       ]
      },
      {
       "javascript": [
        "$('div#7ab6d180-288a-45b2-9c87-fa8d8294cf79').width('33%')"
       ],
       "metadata": {},
       "output_type": "display_data",
       "text": [
        "<IPython.core.display.Javascript at 0x11c162a50>"
       ]
      },
      {
       "javascript": [
        "$('div#7ab6d180-288a-45b2-9c87-fa8d8294cf79').width('34%')"
       ],
       "metadata": {},
       "output_type": "display_data",
       "text": [
        "<IPython.core.display.Javascript at 0x11c162a50>"
       ]
      },
      {
       "javascript": [
        "$('div#7ab6d180-288a-45b2-9c87-fa8d8294cf79').width('35%')"
       ],
       "metadata": {},
       "output_type": "display_data",
       "text": [
        "<IPython.core.display.Javascript at 0x11c162a50>"
       ]
      },
      {
       "javascript": [
        "$('div#7ab6d180-288a-45b2-9c87-fa8d8294cf79').width('35%')"
       ],
       "metadata": {},
       "output_type": "display_data",
       "text": [
        "<IPython.core.display.Javascript at 0x11c162a50>"
       ]
      },
      {
       "javascript": [
        "$('div#7ab6d180-288a-45b2-9c87-fa8d8294cf79').width('36%')"
       ],
       "metadata": {},
       "output_type": "display_data",
       "text": [
        "<IPython.core.display.Javascript at 0x11c162a50>"
       ]
      },
      {
       "javascript": [
        "$('div#7ab6d180-288a-45b2-9c87-fa8d8294cf79').width('37%')"
       ],
       "metadata": {},
       "output_type": "display_data",
       "text": [
        "<IPython.core.display.Javascript at 0x11c162a50>"
       ]
      },
      {
       "javascript": [
        "$('div#7ab6d180-288a-45b2-9c87-fa8d8294cf79').width('38%')"
       ],
       "metadata": {},
       "output_type": "display_data",
       "text": [
        "<IPython.core.display.Javascript at 0x11c162a50>"
       ]
      },
      {
       "javascript": [
        "$('div#7ab6d180-288a-45b2-9c87-fa8d8294cf79').width('39%')"
       ],
       "metadata": {},
       "output_type": "display_data",
       "text": [
        "<IPython.core.display.Javascript at 0x11c162a50>"
       ]
      },
      {
       "javascript": [
        "$('div#7ab6d180-288a-45b2-9c87-fa8d8294cf79').width('39%')"
       ],
       "metadata": {},
       "output_type": "display_data",
       "text": [
        "<IPython.core.display.Javascript at 0x11c162a50>"
       ]
      },
      {
       "javascript": [
        "$('div#7ab6d180-288a-45b2-9c87-fa8d8294cf79').width('40%')"
       ],
       "metadata": {},
       "output_type": "display_data",
       "text": [
        "<IPython.core.display.Javascript at 0x11c162a50>"
       ]
      },
      {
       "javascript": [
        "$('div#7ab6d180-288a-45b2-9c87-fa8d8294cf79').width('41%')"
       ],
       "metadata": {},
       "output_type": "display_data",
       "text": [
        "<IPython.core.display.Javascript at 0x11c162a50>"
       ]
      },
      {
       "javascript": [
        "$('div#7ab6d180-288a-45b2-9c87-fa8d8294cf79').width('42%')"
       ],
       "metadata": {},
       "output_type": "display_data",
       "text": [
        "<IPython.core.display.Javascript at 0x11c162a50>"
       ]
      },
      {
       "javascript": [
        "$('div#7ab6d180-288a-45b2-9c87-fa8d8294cf79').width('42%')"
       ],
       "metadata": {},
       "output_type": "display_data",
       "text": [
        "<IPython.core.display.Javascript at 0x11c162a50>"
       ]
      },
      {
       "javascript": [
        "$('div#7ab6d180-288a-45b2-9c87-fa8d8294cf79').width('43%')"
       ],
       "metadata": {},
       "output_type": "display_data",
       "text": [
        "<IPython.core.display.Javascript at 0x11c162a50>"
       ]
      },
      {
       "javascript": [
        "$('div#7ab6d180-288a-45b2-9c87-fa8d8294cf79').width('44%')"
       ],
       "metadata": {},
       "output_type": "display_data",
       "text": [
        "<IPython.core.display.Javascript at 0x11c162a50>"
       ]
      },
      {
       "javascript": [
        "$('div#7ab6d180-288a-45b2-9c87-fa8d8294cf79').width('45%')"
       ],
       "metadata": {},
       "output_type": "display_data",
       "text": [
        "<IPython.core.display.Javascript at 0x11c162a50>"
       ]
      },
      {
       "javascript": [
        "$('div#7ab6d180-288a-45b2-9c87-fa8d8294cf79').width('46%')"
       ],
       "metadata": {},
       "output_type": "display_data",
       "text": [
        "<IPython.core.display.Javascript at 0x11c162a50>"
       ]
      },
      {
       "javascript": [
        "$('div#7ab6d180-288a-45b2-9c87-fa8d8294cf79').width('46%')"
       ],
       "metadata": {},
       "output_type": "display_data",
       "text": [
        "<IPython.core.display.Javascript at 0x11c162a50>"
       ]
      },
      {
       "javascript": [
        "$('div#7ab6d180-288a-45b2-9c87-fa8d8294cf79').width('47%')"
       ],
       "metadata": {},
       "output_type": "display_data",
       "text": [
        "<IPython.core.display.Javascript at 0x11c162a50>"
       ]
      },
      {
       "javascript": [
        "$('div#7ab6d180-288a-45b2-9c87-fa8d8294cf79').width('48%')"
       ],
       "metadata": {},
       "output_type": "display_data",
       "text": [
        "<IPython.core.display.Javascript at 0x11c162a50>"
       ]
      },
      {
       "javascript": [
        "$('div#7ab6d180-288a-45b2-9c87-fa8d8294cf79').width('49%')"
       ],
       "metadata": {},
       "output_type": "display_data",
       "text": [
        "<IPython.core.display.Javascript at 0x11c162a50>"
       ]
      },
      {
       "javascript": [
        "$('div#7ab6d180-288a-45b2-9c87-fa8d8294cf79').width('50%')"
       ],
       "metadata": {},
       "output_type": "display_data",
       "text": [
        "<IPython.core.display.Javascript at 0x11c162a50>"
       ]
      },
      {
       "javascript": [
        "$('div#7ab6d180-288a-45b2-9c87-fa8d8294cf79').width('50%')"
       ],
       "metadata": {},
       "output_type": "display_data",
       "text": [
        "<IPython.core.display.Javascript at 0x11c162a50>"
       ]
      },
      {
       "javascript": [
        "$('div#7ab6d180-288a-45b2-9c87-fa8d8294cf79').width('51%')"
       ],
       "metadata": {},
       "output_type": "display_data",
       "text": [
        "<IPython.core.display.Javascript at 0x11c162a50>"
       ]
      },
      {
       "javascript": [
        "$('div#7ab6d180-288a-45b2-9c87-fa8d8294cf79').width('52%')"
       ],
       "metadata": {},
       "output_type": "display_data",
       "text": [
        "<IPython.core.display.Javascript at 0x11c162a50>"
       ]
      },
      {
       "javascript": [
        "$('div#7ab6d180-288a-45b2-9c87-fa8d8294cf79').width('53%')"
       ],
       "metadata": {},
       "output_type": "display_data",
       "text": [
        "<IPython.core.display.Javascript at 0x11c162a50>"
       ]
      },
      {
       "javascript": [
        "$('div#7ab6d180-288a-45b2-9c87-fa8d8294cf79').width('53%')"
       ],
       "metadata": {},
       "output_type": "display_data",
       "text": [
        "<IPython.core.display.Javascript at 0x11c162a50>"
       ]
      },
      {
       "javascript": [
        "$('div#7ab6d180-288a-45b2-9c87-fa8d8294cf79').width('54%')"
       ],
       "metadata": {},
       "output_type": "display_data",
       "text": [
        "<IPython.core.display.Javascript at 0x11c162a50>"
       ]
      },
      {
       "javascript": [
        "$('div#7ab6d180-288a-45b2-9c87-fa8d8294cf79').width('55%')"
       ],
       "metadata": {},
       "output_type": "display_data",
       "text": [
        "<IPython.core.display.Javascript at 0x11c162a50>"
       ]
      },
      {
       "javascript": [
        "$('div#7ab6d180-288a-45b2-9c87-fa8d8294cf79').width('56%')"
       ],
       "metadata": {},
       "output_type": "display_data",
       "text": [
        "<IPython.core.display.Javascript at 0x11c162a50>"
       ]
      },
      {
       "javascript": [
        "$('div#7ab6d180-288a-45b2-9c87-fa8d8294cf79').width('57%')"
       ],
       "metadata": {},
       "output_type": "display_data",
       "text": [
        "<IPython.core.display.Javascript at 0x11c162a50>"
       ]
      },
      {
       "javascript": [
        "$('div#7ab6d180-288a-45b2-9c87-fa8d8294cf79').width('57%')"
       ],
       "metadata": {},
       "output_type": "display_data",
       "text": [
        "<IPython.core.display.Javascript at 0x11c162a50>"
       ]
      },
      {
       "javascript": [
        "$('div#7ab6d180-288a-45b2-9c87-fa8d8294cf79').width('58%')"
       ],
       "metadata": {},
       "output_type": "display_data",
       "text": [
        "<IPython.core.display.Javascript at 0x11c162a50>"
       ]
      },
      {
       "javascript": [
        "$('div#7ab6d180-288a-45b2-9c87-fa8d8294cf79').width('59%')"
       ],
       "metadata": {},
       "output_type": "display_data",
       "text": [
        "<IPython.core.display.Javascript at 0x11c162a50>"
       ]
      },
      {
       "javascript": [
        "$('div#7ab6d180-288a-45b2-9c87-fa8d8294cf79').width('60%')"
       ],
       "metadata": {},
       "output_type": "display_data",
       "text": [
        "<IPython.core.display.Javascript at 0x11c162a50>"
       ]
      },
      {
       "javascript": [
        "$('div#7ab6d180-288a-45b2-9c87-fa8d8294cf79').width('60%')"
       ],
       "metadata": {},
       "output_type": "display_data",
       "text": [
        "<IPython.core.display.Javascript at 0x11c162a50>"
       ]
      },
      {
       "javascript": [
        "$('div#7ab6d180-288a-45b2-9c87-fa8d8294cf79').width('61%')"
       ],
       "metadata": {},
       "output_type": "display_data",
       "text": [
        "<IPython.core.display.Javascript at 0x11c162a50>"
       ]
      },
      {
       "javascript": [
        "$('div#7ab6d180-288a-45b2-9c87-fa8d8294cf79').width('62%')"
       ],
       "metadata": {},
       "output_type": "display_data",
       "text": [
        "<IPython.core.display.Javascript at 0x11c162a50>"
       ]
      },
      {
       "javascript": [
        "$('div#7ab6d180-288a-45b2-9c87-fa8d8294cf79').width('63%')"
       ],
       "metadata": {},
       "output_type": "display_data",
       "text": [
        "<IPython.core.display.Javascript at 0x11c162a50>"
       ]
      },
      {
       "javascript": [
        "$('div#7ab6d180-288a-45b2-9c87-fa8d8294cf79').width('64%')"
       ],
       "metadata": {},
       "output_type": "display_data",
       "text": [
        "<IPython.core.display.Javascript at 0x11c162a50>"
       ]
      },
      {
       "javascript": [
        "$('div#7ab6d180-288a-45b2-9c87-fa8d8294cf79').width('64%')"
       ],
       "metadata": {},
       "output_type": "display_data",
       "text": [
        "<IPython.core.display.Javascript at 0x11c162a50>"
       ]
      },
      {
       "javascript": [
        "$('div#7ab6d180-288a-45b2-9c87-fa8d8294cf79').width('65%')"
       ],
       "metadata": {},
       "output_type": "display_data",
       "text": [
        "<IPython.core.display.Javascript at 0x11c162a50>"
       ]
      },
      {
       "javascript": [
        "$('div#7ab6d180-288a-45b2-9c87-fa8d8294cf79').width('66%')"
       ],
       "metadata": {},
       "output_type": "display_data",
       "text": [
        "<IPython.core.display.Javascript at 0x11c162a50>"
       ]
      },
      {
       "javascript": [
        "$('div#7ab6d180-288a-45b2-9c87-fa8d8294cf79').width('67%')"
       ],
       "metadata": {},
       "output_type": "display_data",
       "text": [
        "<IPython.core.display.Javascript at 0x11c162a50>"
       ]
      },
      {
       "javascript": [
        "$('div#7ab6d180-288a-45b2-9c87-fa8d8294cf79').width('67%')"
       ],
       "metadata": {},
       "output_type": "display_data",
       "text": [
        "<IPython.core.display.Javascript at 0x11c162a50>"
       ]
      },
      {
       "javascript": [
        "$('div#7ab6d180-288a-45b2-9c87-fa8d8294cf79').width('68%')"
       ],
       "metadata": {},
       "output_type": "display_data",
       "text": [
        "<IPython.core.display.Javascript at 0x11c162a50>"
       ]
      },
      {
       "javascript": [
        "$('div#7ab6d180-288a-45b2-9c87-fa8d8294cf79').width('69%')"
       ],
       "metadata": {},
       "output_type": "display_data",
       "text": [
        "<IPython.core.display.Javascript at 0x11c162a50>"
       ]
      },
      {
       "javascript": [
        "$('div#7ab6d180-288a-45b2-9c87-fa8d8294cf79').width('70%')"
       ],
       "metadata": {},
       "output_type": "display_data",
       "text": [
        "<IPython.core.display.Javascript at 0x11c162a50>"
       ]
      },
      {
       "javascript": [
        "$('div#7ab6d180-288a-45b2-9c87-fa8d8294cf79').width('71%')"
       ],
       "metadata": {},
       "output_type": "display_data",
       "text": [
        "<IPython.core.display.Javascript at 0x11c162a50>"
       ]
      },
      {
       "javascript": [
        "$('div#7ab6d180-288a-45b2-9c87-fa8d8294cf79').width('71%')"
       ],
       "metadata": {},
       "output_type": "display_data",
       "text": [
        "<IPython.core.display.Javascript at 0x11c162a50>"
       ]
      },
      {
       "javascript": [
        "$('div#7ab6d180-288a-45b2-9c87-fa8d8294cf79').width('72%')"
       ],
       "metadata": {},
       "output_type": "display_data",
       "text": [
        "<IPython.core.display.Javascript at 0x11c162a50>"
       ]
      },
      {
       "javascript": [
        "$('div#7ab6d180-288a-45b2-9c87-fa8d8294cf79').width('73%')"
       ],
       "metadata": {},
       "output_type": "display_data",
       "text": [
        "<IPython.core.display.Javascript at 0x11c162a50>"
       ]
      },
      {
       "javascript": [
        "$('div#7ab6d180-288a-45b2-9c87-fa8d8294cf79').width('74%')"
       ],
       "metadata": {},
       "output_type": "display_data",
       "text": [
        "<IPython.core.display.Javascript at 0x11c162a50>"
       ]
      },
      {
       "javascript": [
        "$('div#7ab6d180-288a-45b2-9c87-fa8d8294cf79').width('75%')"
       ],
       "metadata": {},
       "output_type": "display_data",
       "text": [
        "<IPython.core.display.Javascript at 0x11c162a50>"
       ]
      },
      {
       "javascript": [
        "$('div#7ab6d180-288a-45b2-9c87-fa8d8294cf79').width('75%')"
       ],
       "metadata": {},
       "output_type": "display_data",
       "text": [
        "<IPython.core.display.Javascript at 0x11c162a50>"
       ]
      },
      {
       "javascript": [
        "$('div#7ab6d180-288a-45b2-9c87-fa8d8294cf79').width('76%')"
       ],
       "metadata": {},
       "output_type": "display_data",
       "text": [
        "<IPython.core.display.Javascript at 0x11c162a50>"
       ]
      },
      {
       "javascript": [
        "$('div#7ab6d180-288a-45b2-9c87-fa8d8294cf79').width('77%')"
       ],
       "metadata": {},
       "output_type": "display_data",
       "text": [
        "<IPython.core.display.Javascript at 0x11c162a50>"
       ]
      },
      {
       "javascript": [
        "$('div#7ab6d180-288a-45b2-9c87-fa8d8294cf79').width('78%')"
       ],
       "metadata": {},
       "output_type": "display_data",
       "text": [
        "<IPython.core.display.Javascript at 0x11c162a50>"
       ]
      },
      {
       "javascript": [
        "$('div#7ab6d180-288a-45b2-9c87-fa8d8294cf79').width('78%')"
       ],
       "metadata": {},
       "output_type": "display_data",
       "text": [
        "<IPython.core.display.Javascript at 0x11c162a50>"
       ]
      },
      {
       "javascript": [
        "$('div#7ab6d180-288a-45b2-9c87-fa8d8294cf79').width('79%')"
       ],
       "metadata": {},
       "output_type": "display_data",
       "text": [
        "<IPython.core.display.Javascript at 0x11c162a50>"
       ]
      },
      {
       "javascript": [
        "$('div#7ab6d180-288a-45b2-9c87-fa8d8294cf79').width('80%')"
       ],
       "metadata": {},
       "output_type": "display_data",
       "text": [
        "<IPython.core.display.Javascript at 0x11c162a50>"
       ]
      },
      {
       "javascript": [
        "$('div#7ab6d180-288a-45b2-9c87-fa8d8294cf79').width('81%')"
       ],
       "metadata": {},
       "output_type": "display_data",
       "text": [
        "<IPython.core.display.Javascript at 0x11c162a50>"
       ]
      },
      {
       "javascript": [
        "$('div#7ab6d180-288a-45b2-9c87-fa8d8294cf79').width('82%')"
       ],
       "metadata": {},
       "output_type": "display_data",
       "text": [
        "<IPython.core.display.Javascript at 0x11c162a50>"
       ]
      },
      {
       "javascript": [
        "$('div#7ab6d180-288a-45b2-9c87-fa8d8294cf79').width('82%')"
       ],
       "metadata": {},
       "output_type": "display_data",
       "text": [
        "<IPython.core.display.Javascript at 0x11c162a50>"
       ]
      },
      {
       "javascript": [
        "$('div#7ab6d180-288a-45b2-9c87-fa8d8294cf79').width('83%')"
       ],
       "metadata": {},
       "output_type": "display_data",
       "text": [
        "<IPython.core.display.Javascript at 0x11c162a50>"
       ]
      },
      {
       "javascript": [
        "$('div#7ab6d180-288a-45b2-9c87-fa8d8294cf79').width('84%')"
       ],
       "metadata": {},
       "output_type": "display_data",
       "text": [
        "<IPython.core.display.Javascript at 0x11c162a50>"
       ]
      },
      {
       "javascript": [
        "$('div#7ab6d180-288a-45b2-9c87-fa8d8294cf79').width('85%')"
       ],
       "metadata": {},
       "output_type": "display_data",
       "text": [
        "<IPython.core.display.Javascript at 0x11c162a50>"
       ]
      },
      {
       "javascript": [
        "$('div#7ab6d180-288a-45b2-9c87-fa8d8294cf79').width('85%')"
       ],
       "metadata": {},
       "output_type": "display_data",
       "text": [
        "<IPython.core.display.Javascript at 0x11c162a50>"
       ]
      },
      {
       "javascript": [
        "$('div#7ab6d180-288a-45b2-9c87-fa8d8294cf79').width('86%')"
       ],
       "metadata": {},
       "output_type": "display_data",
       "text": [
        "<IPython.core.display.Javascript at 0x11c162a50>"
       ]
      },
      {
       "javascript": [
        "$('div#7ab6d180-288a-45b2-9c87-fa8d8294cf79').width('87%')"
       ],
       "metadata": {},
       "output_type": "display_data",
       "text": [
        "<IPython.core.display.Javascript at 0x11c162a50>"
       ]
      },
      {
       "javascript": [
        "$('div#7ab6d180-288a-45b2-9c87-fa8d8294cf79').width('88%')"
       ],
       "metadata": {},
       "output_type": "display_data",
       "text": [
        "<IPython.core.display.Javascript at 0x11c162a50>"
       ]
      },
      {
       "javascript": [
        "$('div#7ab6d180-288a-45b2-9c87-fa8d8294cf79').width('89%')"
       ],
       "metadata": {},
       "output_type": "display_data",
       "text": [
        "<IPython.core.display.Javascript at 0x11c162a50>"
       ]
      },
      {
       "javascript": [
        "$('div#7ab6d180-288a-45b2-9c87-fa8d8294cf79').width('89%')"
       ],
       "metadata": {},
       "output_type": "display_data",
       "text": [
        "<IPython.core.display.Javascript at 0x11c162a50>"
       ]
      },
      {
       "javascript": [
        "$('div#7ab6d180-288a-45b2-9c87-fa8d8294cf79').width('90%')"
       ],
       "metadata": {},
       "output_type": "display_data",
       "text": [
        "<IPython.core.display.Javascript at 0x11c162a50>"
       ]
      },
      {
       "javascript": [
        "$('div#7ab6d180-288a-45b2-9c87-fa8d8294cf79').width('91%')"
       ],
       "metadata": {},
       "output_type": "display_data",
       "text": [
        "<IPython.core.display.Javascript at 0x11c162a50>"
       ]
      },
      {
       "javascript": [
        "$('div#7ab6d180-288a-45b2-9c87-fa8d8294cf79').width('92%')"
       ],
       "metadata": {},
       "output_type": "display_data",
       "text": [
        "<IPython.core.display.Javascript at 0x11c162a50>"
       ]
      },
      {
       "javascript": [
        "$('div#7ab6d180-288a-45b2-9c87-fa8d8294cf79').width('92%')"
       ],
       "metadata": {},
       "output_type": "display_data",
       "text": [
        "<IPython.core.display.Javascript at 0x11c162a50>"
       ]
      },
      {
       "javascript": [
        "$('div#7ab6d180-288a-45b2-9c87-fa8d8294cf79').width('93%')"
       ],
       "metadata": {},
       "output_type": "display_data",
       "text": [
        "<IPython.core.display.Javascript at 0x11c162a50>"
       ]
      },
      {
       "javascript": [
        "$('div#7ab6d180-288a-45b2-9c87-fa8d8294cf79').width('94%')"
       ],
       "metadata": {},
       "output_type": "display_data",
       "text": [
        "<IPython.core.display.Javascript at 0x11c162a50>"
       ]
      },
      {
       "javascript": [
        "$('div#7ab6d180-288a-45b2-9c87-fa8d8294cf79').width('95%')"
       ],
       "metadata": {},
       "output_type": "display_data",
       "text": [
        "<IPython.core.display.Javascript at 0x11c162a50>"
       ]
      },
      {
       "javascript": [
        "$('div#7ab6d180-288a-45b2-9c87-fa8d8294cf79').width('96%')"
       ],
       "metadata": {},
       "output_type": "display_data",
       "text": [
        "<IPython.core.display.Javascript at 0x11c162a50>"
       ]
      },
      {
       "javascript": [
        "$('div#7ab6d180-288a-45b2-9c87-fa8d8294cf79').width('96%')"
       ],
       "metadata": {},
       "output_type": "display_data",
       "text": [
        "<IPython.core.display.Javascript at 0x11c162a50>"
       ]
      },
      {
       "javascript": [
        "$('div#7ab6d180-288a-45b2-9c87-fa8d8294cf79').width('97%')"
       ],
       "metadata": {},
       "output_type": "display_data",
       "text": [
        "<IPython.core.display.Javascript at 0x11c162a50>"
       ]
      },
      {
       "javascript": [
        "$('div#7ab6d180-288a-45b2-9c87-fa8d8294cf79').width('98%')"
       ],
       "metadata": {},
       "output_type": "display_data",
       "text": [
        "<IPython.core.display.Javascript at 0x11c162a50>"
       ]
      },
      {
       "javascript": [
        "$('div#7ab6d180-288a-45b2-9c87-fa8d8294cf79').width('99%')"
       ],
       "metadata": {},
       "output_type": "display_data",
       "text": [
        "<IPython.core.display.Javascript at 0x11c162a50>"
       ]
      },
      {
       "javascript": [
        "$('div#7ab6d180-288a-45b2-9c87-fa8d8294cf79').width('100%')"
       ],
       "metadata": {},
       "output_type": "display_data",
       "text": [
        "<IPython.core.display.Javascript at 0x11c1621d0>"
       ]
      },
      {
       "html": [
        "<iframe src=http://127.0.0.1:8001/9223899 width=100%% height=420 frameborder=0></iframe>"
       ],
       "metadata": {},
       "output_type": "pyout",
       "prompt_number": 13,
       "text": [
        "<occiput.Core.RigidVolume at 0x11c162850>"
       ]
      }
     ],
     "prompt_number": 13
    },
    {
     "cell_type": "code",
     "collapsed": false,
     "input": [],
     "language": "python",
     "metadata": {},
     "outputs": [],
     "prompt_number": 9
    },
    {
     "cell_type": "code",
     "collapsed": false,
     "input": [
      "PET.backprojection_parameters.direction"
     ],
     "language": "python",
     "metadata": {},
     "outputs": [
      {
       "metadata": {},
       "output_type": "pyout",
       "prompt_number": 11,
       "text": [
        "1"
       ]
      }
     ],
     "prompt_number": 11
    },
    {
     "cell_type": "code",
     "collapsed": false,
     "input": [
      "A = SCAN.estimate_activity(iterations=5, subset_size=None) "
     ],
     "language": "python",
     "metadata": {},
     "outputs": [
      {
       "html": [
        "\n",
        "        <div style=\"border: 1px solid white; width:100%%; height:6px; background-color:rgb(200,228,246)\">\n",
        "            <div id=\"7135b094-f14f-4729-a1e7-61c6c2a86d3c\" style=\"background-color:rgb(47,128,246); width:0%; height:6px\"> </div>\n",
        "        </div> \n",
        "        "
       ],
       "metadata": {},
       "output_type": "display_data",
       "text": [
        "<IPython.core.display.HTML at 0x11a088190>"
       ]
      },
      {
       "javascript": [
        "$('div#7135b094-f14f-4729-a1e7-61c6c2a86d3c').width('1%')"
       ],
       "metadata": {},
       "output_type": "display_data",
       "text": [
        "<IPython.core.display.Javascript at 0x11a0887d0>"
       ]
      },
      {
       "javascript": [
        "$('div#7135b094-f14f-4729-a1e7-61c6c2a86d3c').width('20%')"
       ],
       "metadata": {},
       "output_type": "display_data",
       "text": [
        "<IPython.core.display.Javascript at 0x11a088e10>"
       ]
      },
      {
       "javascript": [
        "$('div#7135b094-f14f-4729-a1e7-61c6c2a86d3c').width('40%')"
       ],
       "metadata": {},
       "output_type": "display_data",
       "text": [
        "<IPython.core.display.Javascript at 0x11a088e10>"
       ]
      },
      {
       "javascript": [
        "$('div#7135b094-f14f-4729-a1e7-61c6c2a86d3c').width('60%')"
       ],
       "metadata": {},
       "output_type": "display_data",
       "text": [
        "<IPython.core.display.Javascript at 0x11a088e10>"
       ]
      },
      {
       "javascript": [
        "$('div#7135b094-f14f-4729-a1e7-61c6c2a86d3c').width('80%')"
       ],
       "metadata": {},
       "output_type": "display_data",
       "text": [
        "<IPython.core.display.Javascript at 0x11a088e10>"
       ]
      },
      {
       "javascript": [
        "$('div#7135b094-f14f-4729-a1e7-61c6c2a86d3c').width('100%')"
       ],
       "metadata": {},
       "output_type": "display_data",
       "text": [
        "<IPython.core.display.Javascript at 0x11a088e10>"
       ]
      },
      {
       "javascript": [
        "$('div#7135b094-f14f-4729-a1e7-61c6c2a86d3c').width('100%')"
       ],
       "metadata": {},
       "output_type": "display_data",
       "text": [
        "<IPython.core.display.Javascript at 0x11a088790>"
       ]
      }
     ],
     "prompt_number": 10
    },
    {
     "cell_type": "code",
     "collapsed": false,
     "input": [
      "SCAN.volume_render(A,scale=0.5)"
     ],
     "language": "python",
     "metadata": {},
     "outputs": [
      {
       "html": [
        "\n",
        "        <div style=\"border: 1px solid white; width:100%%; height:6px; background-color:rgb(246,246,246)\">\n",
        "            <div id=\"d7fa07f9-8f71-4d47-b217-87aab0004ada\" style=\"background-color:rgb(200,200,200); width:0%; height:6px\"> </div>\n",
        "        </div> \n",
        "        "
       ],
       "metadata": {},
       "output_type": "display_data",
       "text": [
        "<IPython.core.display.HTML at 0x11a088610>"
       ]
      },
      {
       "javascript": [
        "$('div#d7fa07f9-8f71-4d47-b217-87aab0004ada').width('1%')"
       ],
       "metadata": {},
       "output_type": "display_data",
       "text": [
        "<IPython.core.display.Javascript at 0x11a088a10>"
       ]
      },
      {
       "javascript": [
        "$('div#d7fa07f9-8f71-4d47-b217-87aab0004ada').width('1%')"
       ],
       "metadata": {},
       "output_type": "display_data",
       "text": [
        "<IPython.core.display.Javascript at 0x11a088a10>"
       ]
      },
      {
       "javascript": [
        "$('div#d7fa07f9-8f71-4d47-b217-87aab0004ada').width('1%')"
       ],
       "metadata": {},
       "output_type": "display_data",
       "text": [
        "<IPython.core.display.Javascript at 0x11a088a10>"
       ]
      },
      {
       "javascript": [
        "$('div#d7fa07f9-8f71-4d47-b217-87aab0004ada').width('1%')"
       ],
       "metadata": {},
       "output_type": "display_data",
       "text": [
        "<IPython.core.display.Javascript at 0x11a088a10>"
       ]
      },
      {
       "javascript": [
        "$('div#d7fa07f9-8f71-4d47-b217-87aab0004ada').width('2%')"
       ],
       "metadata": {},
       "output_type": "display_data",
       "text": [
        "<IPython.core.display.Javascript at 0x11a088a10>"
       ]
      },
      {
       "javascript": [
        "$('div#d7fa07f9-8f71-4d47-b217-87aab0004ada').width('2%')"
       ],
       "metadata": {},
       "output_type": "display_data",
       "text": [
        "<IPython.core.display.Javascript at 0x11a088a10>"
       ]
      },
      {
       "javascript": [
        "$('div#d7fa07f9-8f71-4d47-b217-87aab0004ada').width('3%')"
       ],
       "metadata": {},
       "output_type": "display_data",
       "text": [
        "<IPython.core.display.Javascript at 0x11a088a10>"
       ]
      },
      {
       "javascript": [
        "$('div#d7fa07f9-8f71-4d47-b217-87aab0004ada').width('3%')"
       ],
       "metadata": {},
       "output_type": "display_data",
       "text": [
        "<IPython.core.display.Javascript at 0x11a088a10>"
       ]
      },
      {
       "javascript": [
        "$('div#d7fa07f9-8f71-4d47-b217-87aab0004ada').width('4%')"
       ],
       "metadata": {},
       "output_type": "display_data",
       "text": [
        "<IPython.core.display.Javascript at 0x11a088a10>"
       ]
      },
      {
       "javascript": [
        "$('div#d7fa07f9-8f71-4d47-b217-87aab0004ada').width('5%')"
       ],
       "metadata": {},
       "output_type": "display_data",
       "text": [
        "<IPython.core.display.Javascript at 0x11a088a10>"
       ]
      },
      {
       "javascript": [
        "$('div#d7fa07f9-8f71-4d47-b217-87aab0004ada').width('5%')"
       ],
       "metadata": {},
       "output_type": "display_data",
       "text": [
        "<IPython.core.display.Javascript at 0x11a088a10>"
       ]
      },
      {
       "javascript": [
        "$('div#d7fa07f9-8f71-4d47-b217-87aab0004ada').width('6%')"
       ],
       "metadata": {},
       "output_type": "display_data",
       "text": [
        "<IPython.core.display.Javascript at 0x11a088a10>"
       ]
      },
      {
       "javascript": [
        "$('div#d7fa07f9-8f71-4d47-b217-87aab0004ada').width('6%')"
       ],
       "metadata": {},
       "output_type": "display_data",
       "text": [
        "<IPython.core.display.Javascript at 0x11a088a10>"
       ]
      },
      {
       "javascript": [
        "$('div#d7fa07f9-8f71-4d47-b217-87aab0004ada').width('7%')"
       ],
       "metadata": {},
       "output_type": "display_data",
       "text": [
        "<IPython.core.display.Javascript at 0x11a088a10>"
       ]
      },
      {
       "javascript": [
        "$('div#d7fa07f9-8f71-4d47-b217-87aab0004ada').width('7%')"
       ],
       "metadata": {},
       "output_type": "display_data",
       "text": [
        "<IPython.core.display.Javascript at 0x11a088a10>"
       ]
      },
      {
       "javascript": [
        "$('div#d7fa07f9-8f71-4d47-b217-87aab0004ada').width('8%')"
       ],
       "metadata": {},
       "output_type": "display_data",
       "text": [
        "<IPython.core.display.Javascript at 0x11a088a10>"
       ]
      },
      {
       "javascript": [
        "$('div#d7fa07f9-8f71-4d47-b217-87aab0004ada').width('8%')"
       ],
       "metadata": {},
       "output_type": "display_data",
       "text": [
        "<IPython.core.display.Javascript at 0x11a088a10>"
       ]
      },
      {
       "javascript": [
        "$('div#d7fa07f9-8f71-4d47-b217-87aab0004ada').width('9%')"
       ],
       "metadata": {},
       "output_type": "display_data",
       "text": [
        "<IPython.core.display.Javascript at 0x11a088a10>"
       ]
      },
      {
       "javascript": [
        "$('div#d7fa07f9-8f71-4d47-b217-87aab0004ada').width('10%')"
       ],
       "metadata": {},
       "output_type": "display_data",
       "text": [
        "<IPython.core.display.Javascript at 0x11a088a10>"
       ]
      },
      {
       "javascript": [
        "$('div#d7fa07f9-8f71-4d47-b217-87aab0004ada').width('10%')"
       ],
       "metadata": {},
       "output_type": "display_data",
       "text": [
        "<IPython.core.display.Javascript at 0x11a088a10>"
       ]
      },
      {
       "javascript": [
        "$('div#d7fa07f9-8f71-4d47-b217-87aab0004ada').width('11%')"
       ],
       "metadata": {},
       "output_type": "display_data",
       "text": [
        "<IPython.core.display.Javascript at 0x11a088a10>"
       ]
      },
      {
       "javascript": [
        "$('div#d7fa07f9-8f71-4d47-b217-87aab0004ada').width('11%')"
       ],
       "metadata": {},
       "output_type": "display_data",
       "text": [
        "<IPython.core.display.Javascript at 0x11a088a10>"
       ]
      },
      {
       "javascript": [
        "$('div#d7fa07f9-8f71-4d47-b217-87aab0004ada').width('12%')"
       ],
       "metadata": {},
       "output_type": "display_data",
       "text": [
        "<IPython.core.display.Javascript at 0x11a088a10>"
       ]
      },
      {
       "javascript": [
        "$('div#d7fa07f9-8f71-4d47-b217-87aab0004ada').width('12%')"
       ],
       "metadata": {},
       "output_type": "display_data",
       "text": [
        "<IPython.core.display.Javascript at 0x11a088a10>"
       ]
      },
      {
       "javascript": [
        "$('div#d7fa07f9-8f71-4d47-b217-87aab0004ada').width('13%')"
       ],
       "metadata": {},
       "output_type": "display_data",
       "text": [
        "<IPython.core.display.Javascript at 0x11a088a10>"
       ]
      },
      {
       "javascript": [
        "$('div#d7fa07f9-8f71-4d47-b217-87aab0004ada').width('13%')"
       ],
       "metadata": {},
       "output_type": "display_data",
       "text": [
        "<IPython.core.display.Javascript at 0x11a088a10>"
       ]
      },
      {
       "javascript": [
        "$('div#d7fa07f9-8f71-4d47-b217-87aab0004ada').width('14%')"
       ],
       "metadata": {},
       "output_type": "display_data",
       "text": [
        "<IPython.core.display.Javascript at 0x11a088a10>"
       ]
      },
      {
       "javascript": [
        "$('div#d7fa07f9-8f71-4d47-b217-87aab0004ada').width('15%')"
       ],
       "metadata": {},
       "output_type": "display_data",
       "text": [
        "<IPython.core.display.Javascript at 0x11a088a10>"
       ]
      },
      {
       "javascript": [
        "$('div#d7fa07f9-8f71-4d47-b217-87aab0004ada').width('15%')"
       ],
       "metadata": {},
       "output_type": "display_data",
       "text": [
        "<IPython.core.display.Javascript at 0x11a088a10>"
       ]
      },
      {
       "javascript": [
        "$('div#d7fa07f9-8f71-4d47-b217-87aab0004ada').width('16%')"
       ],
       "metadata": {},
       "output_type": "display_data",
       "text": [
        "<IPython.core.display.Javascript at 0x11a088a10>"
       ]
      },
      {
       "javascript": [
        "$('div#d7fa07f9-8f71-4d47-b217-87aab0004ada').width('16%')"
       ],
       "metadata": {},
       "output_type": "display_data",
       "text": [
        "<IPython.core.display.Javascript at 0x11a088a10>"
       ]
      },
      {
       "javascript": [
        "$('div#d7fa07f9-8f71-4d47-b217-87aab0004ada').width('17%')"
       ],
       "metadata": {},
       "output_type": "display_data",
       "text": [
        "<IPython.core.display.Javascript at 0x11a088a10>"
       ]
      },
      {
       "javascript": [
        "$('div#d7fa07f9-8f71-4d47-b217-87aab0004ada').width('17%')"
       ],
       "metadata": {},
       "output_type": "display_data",
       "text": [
        "<IPython.core.display.Javascript at 0x11a088a10>"
       ]
      },
      {
       "javascript": [
        "$('div#d7fa07f9-8f71-4d47-b217-87aab0004ada').width('18%')"
       ],
       "metadata": {},
       "output_type": "display_data",
       "text": [
        "<IPython.core.display.Javascript at 0x11a088a10>"
       ]
      },
      {
       "javascript": [
        "$('div#d7fa07f9-8f71-4d47-b217-87aab0004ada').width('18%')"
       ],
       "metadata": {},
       "output_type": "display_data",
       "text": [
        "<IPython.core.display.Javascript at 0x11a088a10>"
       ]
      },
      {
       "javascript": [
        "$('div#d7fa07f9-8f71-4d47-b217-87aab0004ada').width('19%')"
       ],
       "metadata": {},
       "output_type": "display_data",
       "text": [
        "<IPython.core.display.Javascript at 0x11a088a10>"
       ]
      },
      {
       "javascript": [
        "$('div#d7fa07f9-8f71-4d47-b217-87aab0004ada').width('20%')"
       ],
       "metadata": {},
       "output_type": "display_data",
       "text": [
        "<IPython.core.display.Javascript at 0x11a088a10>"
       ]
      },
      {
       "javascript": [
        "$('div#d7fa07f9-8f71-4d47-b217-87aab0004ada').width('20%')"
       ],
       "metadata": {},
       "output_type": "display_data",
       "text": [
        "<IPython.core.display.Javascript at 0x11a088a10>"
       ]
      },
      {
       "javascript": [
        "$('div#d7fa07f9-8f71-4d47-b217-87aab0004ada').width('21%')"
       ],
       "metadata": {},
       "output_type": "display_data",
       "text": [
        "<IPython.core.display.Javascript at 0x11a088a10>"
       ]
      },
      {
       "javascript": [
        "$('div#d7fa07f9-8f71-4d47-b217-87aab0004ada').width('21%')"
       ],
       "metadata": {},
       "output_type": "display_data",
       "text": [
        "<IPython.core.display.Javascript at 0x11a088a10>"
       ]
      },
      {
       "javascript": [
        "$('div#d7fa07f9-8f71-4d47-b217-87aab0004ada').width('22%')"
       ],
       "metadata": {},
       "output_type": "display_data",
       "text": [
        "<IPython.core.display.Javascript at 0x11a088a10>"
       ]
      },
      {
       "javascript": [
        "$('div#d7fa07f9-8f71-4d47-b217-87aab0004ada').width('22%')"
       ],
       "metadata": {},
       "output_type": "display_data",
       "text": [
        "<IPython.core.display.Javascript at 0x11a088a10>"
       ]
      },
      {
       "javascript": [
        "$('div#d7fa07f9-8f71-4d47-b217-87aab0004ada').width('23%')"
       ],
       "metadata": {},
       "output_type": "display_data",
       "text": [
        "<IPython.core.display.Javascript at 0x11a088a10>"
       ]
      },
      {
       "javascript": [
        "$('div#d7fa07f9-8f71-4d47-b217-87aab0004ada').width('23%')"
       ],
       "metadata": {},
       "output_type": "display_data",
       "text": [
        "<IPython.core.display.Javascript at 0x11a088a10>"
       ]
      },
      {
       "javascript": [
        "$('div#d7fa07f9-8f71-4d47-b217-87aab0004ada').width('24%')"
       ],
       "metadata": {},
       "output_type": "display_data",
       "text": [
        "<IPython.core.display.Javascript at 0x11a088a10>"
       ]
      },
      {
       "javascript": [
        "$('div#d7fa07f9-8f71-4d47-b217-87aab0004ada').width('25%')"
       ],
       "metadata": {},
       "output_type": "display_data",
       "text": [
        "<IPython.core.display.Javascript at 0x11a088a10>"
       ]
      },
      {
       "javascript": [
        "$('div#d7fa07f9-8f71-4d47-b217-87aab0004ada').width('25%')"
       ],
       "metadata": {},
       "output_type": "display_data",
       "text": [
        "<IPython.core.display.Javascript at 0x11a088a10>"
       ]
      },
      {
       "javascript": [
        "$('div#d7fa07f9-8f71-4d47-b217-87aab0004ada').width('26%')"
       ],
       "metadata": {},
       "output_type": "display_data",
       "text": [
        "<IPython.core.display.Javascript at 0x11a088a10>"
       ]
      },
      {
       "javascript": [
        "$('div#d7fa07f9-8f71-4d47-b217-87aab0004ada').width('26%')"
       ],
       "metadata": {},
       "output_type": "display_data",
       "text": [
        "<IPython.core.display.Javascript at 0x11a088a10>"
       ]
      },
      {
       "javascript": [
        "$('div#d7fa07f9-8f71-4d47-b217-87aab0004ada').width('27%')"
       ],
       "metadata": {},
       "output_type": "display_data",
       "text": [
        "<IPython.core.display.Javascript at 0x11a088a10>"
       ]
      },
      {
       "javascript": [
        "$('div#d7fa07f9-8f71-4d47-b217-87aab0004ada').width('27%')"
       ],
       "metadata": {},
       "output_type": "display_data",
       "text": [
        "<IPython.core.display.Javascript at 0x11a088a10>"
       ]
      },
      {
       "javascript": [
        "$('div#d7fa07f9-8f71-4d47-b217-87aab0004ada').width('28%')"
       ],
       "metadata": {},
       "output_type": "display_data",
       "text": [
        "<IPython.core.display.Javascript at 0x11a088a10>"
       ]
      },
      {
       "javascript": [
        "$('div#d7fa07f9-8f71-4d47-b217-87aab0004ada').width('28%')"
       ],
       "metadata": {},
       "output_type": "display_data",
       "text": [
        "<IPython.core.display.Javascript at 0x11a088a10>"
       ]
      },
      {
       "javascript": [
        "$('div#d7fa07f9-8f71-4d47-b217-87aab0004ada').width('29%')"
       ],
       "metadata": {},
       "output_type": "display_data",
       "text": [
        "<IPython.core.display.Javascript at 0x11a088a10>"
       ]
      },
      {
       "javascript": [
        "$('div#d7fa07f9-8f71-4d47-b217-87aab0004ada').width('30%')"
       ],
       "metadata": {},
       "output_type": "display_data",
       "text": [
        "<IPython.core.display.Javascript at 0x11a088a10>"
       ]
      },
      {
       "javascript": [
        "$('div#d7fa07f9-8f71-4d47-b217-87aab0004ada').width('30%')"
       ],
       "metadata": {},
       "output_type": "display_data",
       "text": [
        "<IPython.core.display.Javascript at 0x11a088a10>"
       ]
      },
      {
       "javascript": [
        "$('div#d7fa07f9-8f71-4d47-b217-87aab0004ada').width('31%')"
       ],
       "metadata": {},
       "output_type": "display_data",
       "text": [
        "<IPython.core.display.Javascript at 0x11a088a10>"
       ]
      },
      {
       "javascript": [
        "$('div#d7fa07f9-8f71-4d47-b217-87aab0004ada').width('31%')"
       ],
       "metadata": {},
       "output_type": "display_data",
       "text": [
        "<IPython.core.display.Javascript at 0x11a088a10>"
       ]
      },
      {
       "javascript": [
        "$('div#d7fa07f9-8f71-4d47-b217-87aab0004ada').width('32%')"
       ],
       "metadata": {},
       "output_type": "display_data",
       "text": [
        "<IPython.core.display.Javascript at 0x11a088a10>"
       ]
      },
      {
       "javascript": [
        "$('div#d7fa07f9-8f71-4d47-b217-87aab0004ada').width('32%')"
       ],
       "metadata": {},
       "output_type": "display_data",
       "text": [
        "<IPython.core.display.Javascript at 0x11a088a10>"
       ]
      },
      {
       "javascript": [
        "$('div#d7fa07f9-8f71-4d47-b217-87aab0004ada').width('33%')"
       ],
       "metadata": {},
       "output_type": "display_data",
       "text": [
        "<IPython.core.display.Javascript at 0x11a088a10>"
       ]
      },
      {
       "javascript": [
        "$('div#d7fa07f9-8f71-4d47-b217-87aab0004ada').width('33%')"
       ],
       "metadata": {},
       "output_type": "display_data",
       "text": [
        "<IPython.core.display.Javascript at 0x11a088a10>"
       ]
      },
      {
       "javascript": [
        "$('div#d7fa07f9-8f71-4d47-b217-87aab0004ada').width('34%')"
       ],
       "metadata": {},
       "output_type": "display_data",
       "text": [
        "<IPython.core.display.Javascript at 0x11a088a10>"
       ]
      },
      {
       "javascript": [
        "$('div#d7fa07f9-8f71-4d47-b217-87aab0004ada').width('35%')"
       ],
       "metadata": {},
       "output_type": "display_data",
       "text": [
        "<IPython.core.display.Javascript at 0x11a088a10>"
       ]
      },
      {
       "javascript": [
        "$('div#d7fa07f9-8f71-4d47-b217-87aab0004ada').width('35%')"
       ],
       "metadata": {},
       "output_type": "display_data",
       "text": [
        "<IPython.core.display.Javascript at 0x11a088a10>"
       ]
      },
      {
       "javascript": [
        "$('div#d7fa07f9-8f71-4d47-b217-87aab0004ada').width('36%')"
       ],
       "metadata": {},
       "output_type": "display_data",
       "text": [
        "<IPython.core.display.Javascript at 0x11a088a10>"
       ]
      },
      {
       "javascript": [
        "$('div#d7fa07f9-8f71-4d47-b217-87aab0004ada').width('36%')"
       ],
       "metadata": {},
       "output_type": "display_data",
       "text": [
        "<IPython.core.display.Javascript at 0x11a088a10>"
       ]
      },
      {
       "javascript": [
        "$('div#d7fa07f9-8f71-4d47-b217-87aab0004ada').width('37%')"
       ],
       "metadata": {},
       "output_type": "display_data",
       "text": [
        "<IPython.core.display.Javascript at 0x11a088a10>"
       ]
      },
      {
       "javascript": [
        "$('div#d7fa07f9-8f71-4d47-b217-87aab0004ada').width('37%')"
       ],
       "metadata": {},
       "output_type": "display_data",
       "text": [
        "<IPython.core.display.Javascript at 0x11a088a10>"
       ]
      },
      {
       "javascript": [
        "$('div#d7fa07f9-8f71-4d47-b217-87aab0004ada').width('38%')"
       ],
       "metadata": {},
       "output_type": "display_data",
       "text": [
        "<IPython.core.display.Javascript at 0x11a088a10>"
       ]
      },
      {
       "javascript": [
        "$('div#d7fa07f9-8f71-4d47-b217-87aab0004ada').width('38%')"
       ],
       "metadata": {},
       "output_type": "display_data",
       "text": [
        "<IPython.core.display.Javascript at 0x11a088a10>"
       ]
      },
      {
       "javascript": [
        "$('div#d7fa07f9-8f71-4d47-b217-87aab0004ada').width('39%')"
       ],
       "metadata": {},
       "output_type": "display_data",
       "text": [
        "<IPython.core.display.Javascript at 0x11a088a10>"
       ]
      },
      {
       "javascript": [
        "$('div#d7fa07f9-8f71-4d47-b217-87aab0004ada').width('40%')"
       ],
       "metadata": {},
       "output_type": "display_data",
       "text": [
        "<IPython.core.display.Javascript at 0x11a088a10>"
       ]
      },
      {
       "javascript": [
        "$('div#d7fa07f9-8f71-4d47-b217-87aab0004ada').width('40%')"
       ],
       "metadata": {},
       "output_type": "display_data",
       "text": [
        "<IPython.core.display.Javascript at 0x11a088a10>"
       ]
      },
      {
       "javascript": [
        "$('div#d7fa07f9-8f71-4d47-b217-87aab0004ada').width('41%')"
       ],
       "metadata": {},
       "output_type": "display_data",
       "text": [
        "<IPython.core.display.Javascript at 0x11a088a10>"
       ]
      },
      {
       "javascript": [
        "$('div#d7fa07f9-8f71-4d47-b217-87aab0004ada').width('41%')"
       ],
       "metadata": {},
       "output_type": "display_data",
       "text": [
        "<IPython.core.display.Javascript at 0x11a088a10>"
       ]
      },
      {
       "javascript": [
        "$('div#d7fa07f9-8f71-4d47-b217-87aab0004ada').width('42%')"
       ],
       "metadata": {},
       "output_type": "display_data",
       "text": [
        "<IPython.core.display.Javascript at 0x11a088a10>"
       ]
      },
      {
       "javascript": [
        "$('div#d7fa07f9-8f71-4d47-b217-87aab0004ada').width('42%')"
       ],
       "metadata": {},
       "output_type": "display_data",
       "text": [
        "<IPython.core.display.Javascript at 0x11a088a10>"
       ]
      },
      {
       "javascript": [
        "$('div#d7fa07f9-8f71-4d47-b217-87aab0004ada').width('43%')"
       ],
       "metadata": {},
       "output_type": "display_data",
       "text": [
        "<IPython.core.display.Javascript at 0x11a088a10>"
       ]
      },
      {
       "javascript": [
        "$('div#d7fa07f9-8f71-4d47-b217-87aab0004ada').width('43%')"
       ],
       "metadata": {},
       "output_type": "display_data",
       "text": [
        "<IPython.core.display.Javascript at 0x11a088a10>"
       ]
      },
      {
       "javascript": [
        "$('div#d7fa07f9-8f71-4d47-b217-87aab0004ada').width('44%')"
       ],
       "metadata": {},
       "output_type": "display_data",
       "text": [
        "<IPython.core.display.Javascript at 0x11a088a10>"
       ]
      },
      {
       "javascript": [
        "$('div#d7fa07f9-8f71-4d47-b217-87aab0004ada').width('45%')"
       ],
       "metadata": {},
       "output_type": "display_data",
       "text": [
        "<IPython.core.display.Javascript at 0x11a088a10>"
       ]
      },
      {
       "javascript": [
        "$('div#d7fa07f9-8f71-4d47-b217-87aab0004ada').width('45%')"
       ],
       "metadata": {},
       "output_type": "display_data",
       "text": [
        "<IPython.core.display.Javascript at 0x11a088a10>"
       ]
      },
      {
       "javascript": [
        "$('div#d7fa07f9-8f71-4d47-b217-87aab0004ada').width('46%')"
       ],
       "metadata": {},
       "output_type": "display_data",
       "text": [
        "<IPython.core.display.Javascript at 0x11a088a10>"
       ]
      },
      {
       "javascript": [
        "$('div#d7fa07f9-8f71-4d47-b217-87aab0004ada').width('46%')"
       ],
       "metadata": {},
       "output_type": "display_data",
       "text": [
        "<IPython.core.display.Javascript at 0x11a088a10>"
       ]
      },
      {
       "javascript": [
        "$('div#d7fa07f9-8f71-4d47-b217-87aab0004ada').width('47%')"
       ],
       "metadata": {},
       "output_type": "display_data",
       "text": [
        "<IPython.core.display.Javascript at 0x11a088a10>"
       ]
      },
      {
       "javascript": [
        "$('div#d7fa07f9-8f71-4d47-b217-87aab0004ada').width('47%')"
       ],
       "metadata": {},
       "output_type": "display_data",
       "text": [
        "<IPython.core.display.Javascript at 0x11a088a10>"
       ]
      },
      {
       "javascript": [
        "$('div#d7fa07f9-8f71-4d47-b217-87aab0004ada').width('48%')"
       ],
       "metadata": {},
       "output_type": "display_data",
       "text": [
        "<IPython.core.display.Javascript at 0x11a088a10>"
       ]
      },
      {
       "javascript": [
        "$('div#d7fa07f9-8f71-4d47-b217-87aab0004ada').width('48%')"
       ],
       "metadata": {},
       "output_type": "display_data",
       "text": [
        "<IPython.core.display.Javascript at 0x11a088a10>"
       ]
      },
      {
       "javascript": [
        "$('div#d7fa07f9-8f71-4d47-b217-87aab0004ada').width('49%')"
       ],
       "metadata": {},
       "output_type": "display_data",
       "text": [
        "<IPython.core.display.Javascript at 0x11a088a10>"
       ]
      },
      {
       "javascript": [
        "$('div#d7fa07f9-8f71-4d47-b217-87aab0004ada').width('50%')"
       ],
       "metadata": {},
       "output_type": "display_data",
       "text": [
        "<IPython.core.display.Javascript at 0x11a088a10>"
       ]
      },
      {
       "javascript": [
        "$('div#d7fa07f9-8f71-4d47-b217-87aab0004ada').width('50%')"
       ],
       "metadata": {},
       "output_type": "display_data",
       "text": [
        "<IPython.core.display.Javascript at 0x11a088a10>"
       ]
      },
      {
       "javascript": [
        "$('div#d7fa07f9-8f71-4d47-b217-87aab0004ada').width('51%')"
       ],
       "metadata": {},
       "output_type": "display_data",
       "text": [
        "<IPython.core.display.Javascript at 0x11a088a10>"
       ]
      },
      {
       "javascript": [
        "$('div#d7fa07f9-8f71-4d47-b217-87aab0004ada').width('51%')"
       ],
       "metadata": {},
       "output_type": "display_data",
       "text": [
        "<IPython.core.display.Javascript at 0x11a088a10>"
       ]
      },
      {
       "javascript": [
        "$('div#d7fa07f9-8f71-4d47-b217-87aab0004ada').width('52%')"
       ],
       "metadata": {},
       "output_type": "display_data",
       "text": [
        "<IPython.core.display.Javascript at 0x11a088a10>"
       ]
      },
      {
       "javascript": [
        "$('div#d7fa07f9-8f71-4d47-b217-87aab0004ada').width('52%')"
       ],
       "metadata": {},
       "output_type": "display_data",
       "text": [
        "<IPython.core.display.Javascript at 0x11a088a10>"
       ]
      },
      {
       "javascript": [
        "$('div#d7fa07f9-8f71-4d47-b217-87aab0004ada').width('53%')"
       ],
       "metadata": {},
       "output_type": "display_data",
       "text": [
        "<IPython.core.display.Javascript at 0x11a088a10>"
       ]
      },
      {
       "javascript": [
        "$('div#d7fa07f9-8f71-4d47-b217-87aab0004ada').width('53%')"
       ],
       "metadata": {},
       "output_type": "display_data",
       "text": [
        "<IPython.core.display.Javascript at 0x11a088a10>"
       ]
      },
      {
       "javascript": [
        "$('div#d7fa07f9-8f71-4d47-b217-87aab0004ada').width('54%')"
       ],
       "metadata": {},
       "output_type": "display_data",
       "text": [
        "<IPython.core.display.Javascript at 0x11a088a10>"
       ]
      },
      {
       "javascript": [
        "$('div#d7fa07f9-8f71-4d47-b217-87aab0004ada').width('55%')"
       ],
       "metadata": {},
       "output_type": "display_data",
       "text": [
        "<IPython.core.display.Javascript at 0x11a088a10>"
       ]
      },
      {
       "javascript": [
        "$('div#d7fa07f9-8f71-4d47-b217-87aab0004ada').width('55%')"
       ],
       "metadata": {},
       "output_type": "display_data",
       "text": [
        "<IPython.core.display.Javascript at 0x11a088a10>"
       ]
      },
      {
       "javascript": [
        "$('div#d7fa07f9-8f71-4d47-b217-87aab0004ada').width('56%')"
       ],
       "metadata": {},
       "output_type": "display_data",
       "text": [
        "<IPython.core.display.Javascript at 0x11a088a10>"
       ]
      },
      {
       "javascript": [
        "$('div#d7fa07f9-8f71-4d47-b217-87aab0004ada').width('56%')"
       ],
       "metadata": {},
       "output_type": "display_data",
       "text": [
        "<IPython.core.display.Javascript at 0x11a088a10>"
       ]
      },
      {
       "javascript": [
        "$('div#d7fa07f9-8f71-4d47-b217-87aab0004ada').width('57%')"
       ],
       "metadata": {},
       "output_type": "display_data",
       "text": [
        "<IPython.core.display.Javascript at 0x11a088a10>"
       ]
      },
      {
       "javascript": [
        "$('div#d7fa07f9-8f71-4d47-b217-87aab0004ada').width('57%')"
       ],
       "metadata": {},
       "output_type": "display_data",
       "text": [
        "<IPython.core.display.Javascript at 0x11a088a10>"
       ]
      },
      {
       "javascript": [
        "$('div#d7fa07f9-8f71-4d47-b217-87aab0004ada').width('58%')"
       ],
       "metadata": {},
       "output_type": "display_data",
       "text": [
        "<IPython.core.display.Javascript at 0x11a088a10>"
       ]
      },
      {
       "javascript": [
        "$('div#d7fa07f9-8f71-4d47-b217-87aab0004ada').width('58%')"
       ],
       "metadata": {},
       "output_type": "display_data",
       "text": [
        "<IPython.core.display.Javascript at 0x11a088a10>"
       ]
      },
      {
       "javascript": [
        "$('div#d7fa07f9-8f71-4d47-b217-87aab0004ada').width('59%')"
       ],
       "metadata": {},
       "output_type": "display_data",
       "text": [
        "<IPython.core.display.Javascript at 0x11a088a10>"
       ]
      },
      {
       "javascript": [
        "$('div#d7fa07f9-8f71-4d47-b217-87aab0004ada').width('60%')"
       ],
       "metadata": {},
       "output_type": "display_data",
       "text": [
        "<IPython.core.display.Javascript at 0x11a088a10>"
       ]
      },
      {
       "javascript": [
        "$('div#d7fa07f9-8f71-4d47-b217-87aab0004ada').width('60%')"
       ],
       "metadata": {},
       "output_type": "display_data",
       "text": [
        "<IPython.core.display.Javascript at 0x11a088a10>"
       ]
      },
      {
       "javascript": [
        "$('div#d7fa07f9-8f71-4d47-b217-87aab0004ada').width('61%')"
       ],
       "metadata": {},
       "output_type": "display_data",
       "text": [
        "<IPython.core.display.Javascript at 0x11a088a10>"
       ]
      },
      {
       "javascript": [
        "$('div#d7fa07f9-8f71-4d47-b217-87aab0004ada').width('61%')"
       ],
       "metadata": {},
       "output_type": "display_data",
       "text": [
        "<IPython.core.display.Javascript at 0x11a088a10>"
       ]
      },
      {
       "javascript": [
        "$('div#d7fa07f9-8f71-4d47-b217-87aab0004ada').width('62%')"
       ],
       "metadata": {},
       "output_type": "display_data",
       "text": [
        "<IPython.core.display.Javascript at 0x11a088a10>"
       ]
      },
      {
       "javascript": [
        "$('div#d7fa07f9-8f71-4d47-b217-87aab0004ada').width('62%')"
       ],
       "metadata": {},
       "output_type": "display_data",
       "text": [
        "<IPython.core.display.Javascript at 0x11a088a10>"
       ]
      },
      {
       "javascript": [
        "$('div#d7fa07f9-8f71-4d47-b217-87aab0004ada').width('63%')"
       ],
       "metadata": {},
       "output_type": "display_data",
       "text": [
        "<IPython.core.display.Javascript at 0x11a088a10>"
       ]
      },
      {
       "javascript": [
        "$('div#d7fa07f9-8f71-4d47-b217-87aab0004ada').width('63%')"
       ],
       "metadata": {},
       "output_type": "display_data",
       "text": [
        "<IPython.core.display.Javascript at 0x11a088a10>"
       ]
      },
      {
       "javascript": [
        "$('div#d7fa07f9-8f71-4d47-b217-87aab0004ada').width('64%')"
       ],
       "metadata": {},
       "output_type": "display_data",
       "text": [
        "<IPython.core.display.Javascript at 0x11a088a10>"
       ]
      },
      {
       "javascript": [
        "$('div#d7fa07f9-8f71-4d47-b217-87aab0004ada').width('65%')"
       ],
       "metadata": {},
       "output_type": "display_data",
       "text": [
        "<IPython.core.display.Javascript at 0x11a088a10>"
       ]
      },
      {
       "javascript": [
        "$('div#d7fa07f9-8f71-4d47-b217-87aab0004ada').width('65%')"
       ],
       "metadata": {},
       "output_type": "display_data",
       "text": [
        "<IPython.core.display.Javascript at 0x11a088a10>"
       ]
      },
      {
       "javascript": [
        "$('div#d7fa07f9-8f71-4d47-b217-87aab0004ada').width('66%')"
       ],
       "metadata": {},
       "output_type": "display_data",
       "text": [
        "<IPython.core.display.Javascript at 0x11a088a10>"
       ]
      },
      {
       "javascript": [
        "$('div#d7fa07f9-8f71-4d47-b217-87aab0004ada').width('66%')"
       ],
       "metadata": {},
       "output_type": "display_data",
       "text": [
        "<IPython.core.display.Javascript at 0x11a088a10>"
       ]
      },
      {
       "javascript": [
        "$('div#d7fa07f9-8f71-4d47-b217-87aab0004ada').width('67%')"
       ],
       "metadata": {},
       "output_type": "display_data",
       "text": [
        "<IPython.core.display.Javascript at 0x11a088a10>"
       ]
      },
      {
       "javascript": [
        "$('div#d7fa07f9-8f71-4d47-b217-87aab0004ada').width('67%')"
       ],
       "metadata": {},
       "output_type": "display_data",
       "text": [
        "<IPython.core.display.Javascript at 0x11a088a10>"
       ]
      },
      {
       "javascript": [
        "$('div#d7fa07f9-8f71-4d47-b217-87aab0004ada').width('68%')"
       ],
       "metadata": {},
       "output_type": "display_data",
       "text": [
        "<IPython.core.display.Javascript at 0x11a088a10>"
       ]
      },
      {
       "javascript": [
        "$('div#d7fa07f9-8f71-4d47-b217-87aab0004ada').width('68%')"
       ],
       "metadata": {},
       "output_type": "display_data",
       "text": [
        "<IPython.core.display.Javascript at 0x11a088a10>"
       ]
      },
      {
       "javascript": [
        "$('div#d7fa07f9-8f71-4d47-b217-87aab0004ada').width('69%')"
       ],
       "metadata": {},
       "output_type": "display_data",
       "text": [
        "<IPython.core.display.Javascript at 0x11a088a10>"
       ]
      },
      {
       "javascript": [
        "$('div#d7fa07f9-8f71-4d47-b217-87aab0004ada').width('70%')"
       ],
       "metadata": {},
       "output_type": "display_data",
       "text": [
        "<IPython.core.display.Javascript at 0x11a088a10>"
       ]
      },
      {
       "javascript": [
        "$('div#d7fa07f9-8f71-4d47-b217-87aab0004ada').width('70%')"
       ],
       "metadata": {},
       "output_type": "display_data",
       "text": [
        "<IPython.core.display.Javascript at 0x11a088a10>"
       ]
      },
      {
       "javascript": [
        "$('div#d7fa07f9-8f71-4d47-b217-87aab0004ada').width('71%')"
       ],
       "metadata": {},
       "output_type": "display_data",
       "text": [
        "<IPython.core.display.Javascript at 0x11a088a10>"
       ]
      },
      {
       "javascript": [
        "$('div#d7fa07f9-8f71-4d47-b217-87aab0004ada').width('71%')"
       ],
       "metadata": {},
       "output_type": "display_data",
       "text": [
        "<IPython.core.display.Javascript at 0x11a088a10>"
       ]
      },
      {
       "javascript": [
        "$('div#d7fa07f9-8f71-4d47-b217-87aab0004ada').width('72%')"
       ],
       "metadata": {},
       "output_type": "display_data",
       "text": [
        "<IPython.core.display.Javascript at 0x11a088a10>"
       ]
      },
      {
       "javascript": [
        "$('div#d7fa07f9-8f71-4d47-b217-87aab0004ada').width('72%')"
       ],
       "metadata": {},
       "output_type": "display_data",
       "text": [
        "<IPython.core.display.Javascript at 0x11a088a10>"
       ]
      },
      {
       "javascript": [
        "$('div#d7fa07f9-8f71-4d47-b217-87aab0004ada').width('73%')"
       ],
       "metadata": {},
       "output_type": "display_data",
       "text": [
        "<IPython.core.display.Javascript at 0x11a088a10>"
       ]
      },
      {
       "javascript": [
        "$('div#d7fa07f9-8f71-4d47-b217-87aab0004ada').width('73%')"
       ],
       "metadata": {},
       "output_type": "display_data",
       "text": [
        "<IPython.core.display.Javascript at 0x11a088a10>"
       ]
      },
      {
       "javascript": [
        "$('div#d7fa07f9-8f71-4d47-b217-87aab0004ada').width('74%')"
       ],
       "metadata": {},
       "output_type": "display_data",
       "text": [
        "<IPython.core.display.Javascript at 0x11a088a10>"
       ]
      },
      {
       "javascript": [
        "$('div#d7fa07f9-8f71-4d47-b217-87aab0004ada').width('75%')"
       ],
       "metadata": {},
       "output_type": "display_data",
       "text": [
        "<IPython.core.display.Javascript at 0x11a088a10>"
       ]
      },
      {
       "javascript": [
        "$('div#d7fa07f9-8f71-4d47-b217-87aab0004ada').width('75%')"
       ],
       "metadata": {},
       "output_type": "display_data",
       "text": [
        "<IPython.core.display.Javascript at 0x11a088a10>"
       ]
      },
      {
       "javascript": [
        "$('div#d7fa07f9-8f71-4d47-b217-87aab0004ada').width('76%')"
       ],
       "metadata": {},
       "output_type": "display_data",
       "text": [
        "<IPython.core.display.Javascript at 0x11a088a10>"
       ]
      },
      {
       "javascript": [
        "$('div#d7fa07f9-8f71-4d47-b217-87aab0004ada').width('76%')"
       ],
       "metadata": {},
       "output_type": "display_data",
       "text": [
        "<IPython.core.display.Javascript at 0x11a088a10>"
       ]
      },
      {
       "javascript": [
        "$('div#d7fa07f9-8f71-4d47-b217-87aab0004ada').width('77%')"
       ],
       "metadata": {},
       "output_type": "display_data",
       "text": [
        "<IPython.core.display.Javascript at 0x11a088a10>"
       ]
      },
      {
       "javascript": [
        "$('div#d7fa07f9-8f71-4d47-b217-87aab0004ada').width('77%')"
       ],
       "metadata": {},
       "output_type": "display_data",
       "text": [
        "<IPython.core.display.Javascript at 0x11a088a10>"
       ]
      },
      {
       "javascript": [
        "$('div#d7fa07f9-8f71-4d47-b217-87aab0004ada').width('78%')"
       ],
       "metadata": {},
       "output_type": "display_data",
       "text": [
        "<IPython.core.display.Javascript at 0x11a088a10>"
       ]
      },
      {
       "javascript": [
        "$('div#d7fa07f9-8f71-4d47-b217-87aab0004ada').width('78%')"
       ],
       "metadata": {},
       "output_type": "display_data",
       "text": [
        "<IPython.core.display.Javascript at 0x11a088a10>"
       ]
      },
      {
       "javascript": [
        "$('div#d7fa07f9-8f71-4d47-b217-87aab0004ada').width('79%')"
       ],
       "metadata": {},
       "output_type": "display_data",
       "text": [
        "<IPython.core.display.Javascript at 0x11a088a10>"
       ]
      },
      {
       "javascript": [
        "$('div#d7fa07f9-8f71-4d47-b217-87aab0004ada').width('80%')"
       ],
       "metadata": {},
       "output_type": "display_data",
       "text": [
        "<IPython.core.display.Javascript at 0x11a088a10>"
       ]
      },
      {
       "javascript": [
        "$('div#d7fa07f9-8f71-4d47-b217-87aab0004ada').width('80%')"
       ],
       "metadata": {},
       "output_type": "display_data",
       "text": [
        "<IPython.core.display.Javascript at 0x11a088a10>"
       ]
      },
      {
       "javascript": [
        "$('div#d7fa07f9-8f71-4d47-b217-87aab0004ada').width('81%')"
       ],
       "metadata": {},
       "output_type": "display_data",
       "text": [
        "<IPython.core.display.Javascript at 0x11a088a10>"
       ]
      },
      {
       "javascript": [
        "$('div#d7fa07f9-8f71-4d47-b217-87aab0004ada').width('81%')"
       ],
       "metadata": {},
       "output_type": "display_data",
       "text": [
        "<IPython.core.display.Javascript at 0x11a088a10>"
       ]
      },
      {
       "javascript": [
        "$('div#d7fa07f9-8f71-4d47-b217-87aab0004ada').width('82%')"
       ],
       "metadata": {},
       "output_type": "display_data",
       "text": [
        "<IPython.core.display.Javascript at 0x11a088a10>"
       ]
      },
      {
       "javascript": [
        "$('div#d7fa07f9-8f71-4d47-b217-87aab0004ada').width('82%')"
       ],
       "metadata": {},
       "output_type": "display_data",
       "text": [
        "<IPython.core.display.Javascript at 0x11a088a10>"
       ]
      },
      {
       "javascript": [
        "$('div#d7fa07f9-8f71-4d47-b217-87aab0004ada').width('83%')"
       ],
       "metadata": {},
       "output_type": "display_data",
       "text": [
        "<IPython.core.display.Javascript at 0x11a088a10>"
       ]
      },
      {
       "javascript": [
        "$('div#d7fa07f9-8f71-4d47-b217-87aab0004ada').width('83%')"
       ],
       "metadata": {},
       "output_type": "display_data",
       "text": [
        "<IPython.core.display.Javascript at 0x11a088a10>"
       ]
      },
      {
       "javascript": [
        "$('div#d7fa07f9-8f71-4d47-b217-87aab0004ada').width('84%')"
       ],
       "metadata": {},
       "output_type": "display_data",
       "text": [
        "<IPython.core.display.Javascript at 0x11a088a10>"
       ]
      },
      {
       "javascript": [
        "$('div#d7fa07f9-8f71-4d47-b217-87aab0004ada').width('85%')"
       ],
       "metadata": {},
       "output_type": "display_data",
       "text": [
        "<IPython.core.display.Javascript at 0x11a088a10>"
       ]
      },
      {
       "javascript": [
        "$('div#d7fa07f9-8f71-4d47-b217-87aab0004ada').width('85%')"
       ],
       "metadata": {},
       "output_type": "display_data",
       "text": [
        "<IPython.core.display.Javascript at 0x11a088a10>"
       ]
      },
      {
       "javascript": [
        "$('div#d7fa07f9-8f71-4d47-b217-87aab0004ada').width('86%')"
       ],
       "metadata": {},
       "output_type": "display_data",
       "text": [
        "<IPython.core.display.Javascript at 0x11a088a10>"
       ]
      },
      {
       "javascript": [
        "$('div#d7fa07f9-8f71-4d47-b217-87aab0004ada').width('86%')"
       ],
       "metadata": {},
       "output_type": "display_data",
       "text": [
        "<IPython.core.display.Javascript at 0x11a088a10>"
       ]
      },
      {
       "javascript": [
        "$('div#d7fa07f9-8f71-4d47-b217-87aab0004ada').width('87%')"
       ],
       "metadata": {},
       "output_type": "display_data",
       "text": [
        "<IPython.core.display.Javascript at 0x11a088a10>"
       ]
      },
      {
       "javascript": [
        "$('div#d7fa07f9-8f71-4d47-b217-87aab0004ada').width('87%')"
       ],
       "metadata": {},
       "output_type": "display_data",
       "text": [
        "<IPython.core.display.Javascript at 0x11a088a10>"
       ]
      },
      {
       "javascript": [
        "$('div#d7fa07f9-8f71-4d47-b217-87aab0004ada').width('88%')"
       ],
       "metadata": {},
       "output_type": "display_data",
       "text": [
        "<IPython.core.display.Javascript at 0x11a088a10>"
       ]
      },
      {
       "javascript": [
        "$('div#d7fa07f9-8f71-4d47-b217-87aab0004ada').width('88%')"
       ],
       "metadata": {},
       "output_type": "display_data",
       "text": [
        "<IPython.core.display.Javascript at 0x11a088a10>"
       ]
      },
      {
       "javascript": [
        "$('div#d7fa07f9-8f71-4d47-b217-87aab0004ada').width('89%')"
       ],
       "metadata": {},
       "output_type": "display_data",
       "text": [
        "<IPython.core.display.Javascript at 0x11a088a10>"
       ]
      },
      {
       "javascript": [
        "$('div#d7fa07f9-8f71-4d47-b217-87aab0004ada').width('90%')"
       ],
       "metadata": {},
       "output_type": "display_data",
       "text": [
        "<IPython.core.display.Javascript at 0x11a088a10>"
       ]
      },
      {
       "javascript": [
        "$('div#d7fa07f9-8f71-4d47-b217-87aab0004ada').width('90%')"
       ],
       "metadata": {},
       "output_type": "display_data",
       "text": [
        "<IPython.core.display.Javascript at 0x11a088a10>"
       ]
      },
      {
       "javascript": [
        "$('div#d7fa07f9-8f71-4d47-b217-87aab0004ada').width('91%')"
       ],
       "metadata": {},
       "output_type": "display_data",
       "text": [
        "<IPython.core.display.Javascript at 0x11a088a10>"
       ]
      },
      {
       "javascript": [
        "$('div#d7fa07f9-8f71-4d47-b217-87aab0004ada').width('91%')"
       ],
       "metadata": {},
       "output_type": "display_data",
       "text": [
        "<IPython.core.display.Javascript at 0x11a088a10>"
       ]
      },
      {
       "javascript": [
        "$('div#d7fa07f9-8f71-4d47-b217-87aab0004ada').width('92%')"
       ],
       "metadata": {},
       "output_type": "display_data",
       "text": [
        "<IPython.core.display.Javascript at 0x11a088a10>"
       ]
      },
      {
       "javascript": [
        "$('div#d7fa07f9-8f71-4d47-b217-87aab0004ada').width('92%')"
       ],
       "metadata": {},
       "output_type": "display_data",
       "text": [
        "<IPython.core.display.Javascript at 0x11a088a10>"
       ]
      },
      {
       "javascript": [
        "$('div#d7fa07f9-8f71-4d47-b217-87aab0004ada').width('93%')"
       ],
       "metadata": {},
       "output_type": "display_data",
       "text": [
        "<IPython.core.display.Javascript at 0x11a088a10>"
       ]
      },
      {
       "javascript": [
        "$('div#d7fa07f9-8f71-4d47-b217-87aab0004ada').width('93%')"
       ],
       "metadata": {},
       "output_type": "display_data",
       "text": [
        "<IPython.core.display.Javascript at 0x11a088a10>"
       ]
      },
      {
       "javascript": [
        "$('div#d7fa07f9-8f71-4d47-b217-87aab0004ada').width('94%')"
       ],
       "metadata": {},
       "output_type": "display_data",
       "text": [
        "<IPython.core.display.Javascript at 0x11a088a10>"
       ]
      },
      {
       "javascript": [
        "$('div#d7fa07f9-8f71-4d47-b217-87aab0004ada').width('95%')"
       ],
       "metadata": {},
       "output_type": "display_data",
       "text": [
        "<IPython.core.display.Javascript at 0x11a088a10>"
       ]
      },
      {
       "javascript": [
        "$('div#d7fa07f9-8f71-4d47-b217-87aab0004ada').width('95%')"
       ],
       "metadata": {},
       "output_type": "display_data",
       "text": [
        "<IPython.core.display.Javascript at 0x11a088a10>"
       ]
      },
      {
       "javascript": [
        "$('div#d7fa07f9-8f71-4d47-b217-87aab0004ada').width('96%')"
       ],
       "metadata": {},
       "output_type": "display_data",
       "text": [
        "<IPython.core.display.Javascript at 0x11a088a10>"
       ]
      },
      {
       "javascript": [
        "$('div#d7fa07f9-8f71-4d47-b217-87aab0004ada').width('96%')"
       ],
       "metadata": {},
       "output_type": "display_data",
       "text": [
        "<IPython.core.display.Javascript at 0x11a088a10>"
       ]
      },
      {
       "javascript": [
        "$('div#d7fa07f9-8f71-4d47-b217-87aab0004ada').width('97%')"
       ],
       "metadata": {},
       "output_type": "display_data",
       "text": [
        "<IPython.core.display.Javascript at 0x11a088a10>"
       ]
      },
      {
       "javascript": [
        "$('div#d7fa07f9-8f71-4d47-b217-87aab0004ada').width('97%')"
       ],
       "metadata": {},
       "output_type": "display_data",
       "text": [
        "<IPython.core.display.Javascript at 0x11a088a10>"
       ]
      },
      {
       "javascript": [
        "$('div#d7fa07f9-8f71-4d47-b217-87aab0004ada').width('98%')"
       ],
       "metadata": {},
       "output_type": "display_data",
       "text": [
        "<IPython.core.display.Javascript at 0x11a088a10>"
       ]
      },
      {
       "javascript": [
        "$('div#d7fa07f9-8f71-4d47-b217-87aab0004ada').width('98%')"
       ],
       "metadata": {},
       "output_type": "display_data",
       "text": [
        "<IPython.core.display.Javascript at 0x11a088a10>"
       ]
      },
      {
       "javascript": [
        "$('div#d7fa07f9-8f71-4d47-b217-87aab0004ada').width('99%')"
       ],
       "metadata": {},
       "output_type": "display_data",
       "text": [
        "<IPython.core.display.Javascript at 0x11a088a10>"
       ]
      },
      {
       "javascript": [
        "$('div#d7fa07f9-8f71-4d47-b217-87aab0004ada').width('100%')"
       ],
       "metadata": {},
       "output_type": "display_data",
       "text": [
        "<IPython.core.display.Javascript at 0x11a0884d0>"
       ]
      },
      {
       "html": [
        "<iframe src=http://127.0.0.1:8001/9646680 width=100%% height=420 frameborder=0></iframe>"
       ],
       "metadata": {},
       "output_type": "pyout",
       "prompt_number": 11,
       "text": [
        "<mMR.mMR.UncompressedMeasurement instance at 0x11a093ef0>"
       ]
      }
     ],
     "prompt_number": 11
    },
    {
     "cell_type": "code",
     "collapsed": false,
     "input": [
      "SCAN.volume_render(bkpr,scale=0.5)"
     ],
     "language": "python",
     "metadata": {},
     "outputs": [
      {
       "html": [
        "\n",
        "        <div style=\"border: 1px solid white; width:100%%; height:6px; background-color:rgb(246,246,246)\">\n",
        "            <div id=\"3d9cbd3d-d977-495b-af72-c2de464530bc\" style=\"background-color:rgb(200,200,200); width:0%; height:6px\"> </div>\n",
        "        </div> \n",
        "        "
       ],
       "metadata": {},
       "output_type": "display_data",
       "text": [
        "<IPython.core.display.HTML at 0x1206fb850>"
       ]
      },
      {
       "javascript": [
        "$('div#3d9cbd3d-d977-495b-af72-c2de464530bc').width('1%')"
       ],
       "metadata": {},
       "output_type": "display_data",
       "text": [
        "<IPython.core.display.Javascript at 0x120712150>"
       ]
      },
      {
       "javascript": [
        "$('div#3d9cbd3d-d977-495b-af72-c2de464530bc').width('1%')"
       ],
       "metadata": {},
       "output_type": "display_data",
       "text": [
        "<IPython.core.display.Javascript at 0x120712150>"
       ]
      },
      {
       "javascript": [
        "$('div#3d9cbd3d-d977-495b-af72-c2de464530bc').width('1%')"
       ],
       "metadata": {},
       "output_type": "display_data",
       "text": [
        "<IPython.core.display.Javascript at 0x120712150>"
       ]
      },
      {
       "javascript": [
        "$('div#3d9cbd3d-d977-495b-af72-c2de464530bc').width('1%')"
       ],
       "metadata": {},
       "output_type": "display_data",
       "text": [
        "<IPython.core.display.Javascript at 0x120712150>"
       ]
      },
      {
       "javascript": [
        "$('div#3d9cbd3d-d977-495b-af72-c2de464530bc').width('2%')"
       ],
       "metadata": {},
       "output_type": "display_data",
       "text": [
        "<IPython.core.display.Javascript at 0x120712150>"
       ]
      },
      {
       "javascript": [
        "$('div#3d9cbd3d-d977-495b-af72-c2de464530bc').width('2%')"
       ],
       "metadata": {},
       "output_type": "display_data",
       "text": [
        "<IPython.core.display.Javascript at 0x120712150>"
       ]
      },
      {
       "javascript": [
        "$('div#3d9cbd3d-d977-495b-af72-c2de464530bc').width('3%')"
       ],
       "metadata": {},
       "output_type": "display_data",
       "text": [
        "<IPython.core.display.Javascript at 0x120712150>"
       ]
      },
      {
       "javascript": [
        "$('div#3d9cbd3d-d977-495b-af72-c2de464530bc').width('3%')"
       ],
       "metadata": {},
       "output_type": "display_data",
       "text": [
        "<IPython.core.display.Javascript at 0x120712150>"
       ]
      },
      {
       "javascript": [
        "$('div#3d9cbd3d-d977-495b-af72-c2de464530bc').width('4%')"
       ],
       "metadata": {},
       "output_type": "display_data",
       "text": [
        "<IPython.core.display.Javascript at 0x120712150>"
       ]
      },
      {
       "javascript": [
        "$('div#3d9cbd3d-d977-495b-af72-c2de464530bc').width('5%')"
       ],
       "metadata": {},
       "output_type": "display_data",
       "text": [
        "<IPython.core.display.Javascript at 0x120712150>"
       ]
      },
      {
       "javascript": [
        "$('div#3d9cbd3d-d977-495b-af72-c2de464530bc').width('5%')"
       ],
       "metadata": {},
       "output_type": "display_data",
       "text": [
        "<IPython.core.display.Javascript at 0x120712150>"
       ]
      },
      {
       "javascript": [
        "$('div#3d9cbd3d-d977-495b-af72-c2de464530bc').width('6%')"
       ],
       "metadata": {},
       "output_type": "display_data",
       "text": [
        "<IPython.core.display.Javascript at 0x120712150>"
       ]
      },
      {
       "javascript": [
        "$('div#3d9cbd3d-d977-495b-af72-c2de464530bc').width('6%')"
       ],
       "metadata": {},
       "output_type": "display_data",
       "text": [
        "<IPython.core.display.Javascript at 0x120712150>"
       ]
      },
      {
       "javascript": [
        "$('div#3d9cbd3d-d977-495b-af72-c2de464530bc').width('7%')"
       ],
       "metadata": {},
       "output_type": "display_data",
       "text": [
        "<IPython.core.display.Javascript at 0x120712150>"
       ]
      },
      {
       "javascript": [
        "$('div#3d9cbd3d-d977-495b-af72-c2de464530bc').width('7%')"
       ],
       "metadata": {},
       "output_type": "display_data",
       "text": [
        "<IPython.core.display.Javascript at 0x120712150>"
       ]
      },
      {
       "javascript": [
        "$('div#3d9cbd3d-d977-495b-af72-c2de464530bc').width('8%')"
       ],
       "metadata": {},
       "output_type": "display_data",
       "text": [
        "<IPython.core.display.Javascript at 0x120712150>"
       ]
      },
      {
       "javascript": [
        "$('div#3d9cbd3d-d977-495b-af72-c2de464530bc').width('8%')"
       ],
       "metadata": {},
       "output_type": "display_data",
       "text": [
        "<IPython.core.display.Javascript at 0x120712150>"
       ]
      },
      {
       "javascript": [
        "$('div#3d9cbd3d-d977-495b-af72-c2de464530bc').width('9%')"
       ],
       "metadata": {},
       "output_type": "display_data",
       "text": [
        "<IPython.core.display.Javascript at 0x120712150>"
       ]
      },
      {
       "javascript": [
        "$('div#3d9cbd3d-d977-495b-af72-c2de464530bc').width('10%')"
       ],
       "metadata": {},
       "output_type": "display_data",
       "text": [
        "<IPython.core.display.Javascript at 0x120712150>"
       ]
      },
      {
       "javascript": [
        "$('div#3d9cbd3d-d977-495b-af72-c2de464530bc').width('10%')"
       ],
       "metadata": {},
       "output_type": "display_data",
       "text": [
        "<IPython.core.display.Javascript at 0x120712150>"
       ]
      },
      {
       "javascript": [
        "$('div#3d9cbd3d-d977-495b-af72-c2de464530bc').width('11%')"
       ],
       "metadata": {},
       "output_type": "display_data",
       "text": [
        "<IPython.core.display.Javascript at 0x120712150>"
       ]
      },
      {
       "javascript": [
        "$('div#3d9cbd3d-d977-495b-af72-c2de464530bc').width('11%')"
       ],
       "metadata": {},
       "output_type": "display_data",
       "text": [
        "<IPython.core.display.Javascript at 0x120712150>"
       ]
      },
      {
       "javascript": [
        "$('div#3d9cbd3d-d977-495b-af72-c2de464530bc').width('12%')"
       ],
       "metadata": {},
       "output_type": "display_data",
       "text": [
        "<IPython.core.display.Javascript at 0x120712150>"
       ]
      },
      {
       "javascript": [
        "$('div#3d9cbd3d-d977-495b-af72-c2de464530bc').width('12%')"
       ],
       "metadata": {},
       "output_type": "display_data",
       "text": [
        "<IPython.core.display.Javascript at 0x120712150>"
       ]
      },
      {
       "javascript": [
        "$('div#3d9cbd3d-d977-495b-af72-c2de464530bc').width('13%')"
       ],
       "metadata": {},
       "output_type": "display_data",
       "text": [
        "<IPython.core.display.Javascript at 0x120712150>"
       ]
      },
      {
       "javascript": [
        "$('div#3d9cbd3d-d977-495b-af72-c2de464530bc').width('13%')"
       ],
       "metadata": {},
       "output_type": "display_data",
       "text": [
        "<IPython.core.display.Javascript at 0x120712150>"
       ]
      },
      {
       "javascript": [
        "$('div#3d9cbd3d-d977-495b-af72-c2de464530bc').width('14%')"
       ],
       "metadata": {},
       "output_type": "display_data",
       "text": [
        "<IPython.core.display.Javascript at 0x120712150>"
       ]
      },
      {
       "javascript": [
        "$('div#3d9cbd3d-d977-495b-af72-c2de464530bc').width('15%')"
       ],
       "metadata": {},
       "output_type": "display_data",
       "text": [
        "<IPython.core.display.Javascript at 0x120712150>"
       ]
      },
      {
       "javascript": [
        "$('div#3d9cbd3d-d977-495b-af72-c2de464530bc').width('15%')"
       ],
       "metadata": {},
       "output_type": "display_data",
       "text": [
        "<IPython.core.display.Javascript at 0x120712150>"
       ]
      },
      {
       "javascript": [
        "$('div#3d9cbd3d-d977-495b-af72-c2de464530bc').width('16%')"
       ],
       "metadata": {},
       "output_type": "display_data",
       "text": [
        "<IPython.core.display.Javascript at 0x120712150>"
       ]
      },
      {
       "javascript": [
        "$('div#3d9cbd3d-d977-495b-af72-c2de464530bc').width('16%')"
       ],
       "metadata": {},
       "output_type": "display_data",
       "text": [
        "<IPython.core.display.Javascript at 0x120712150>"
       ]
      },
      {
       "javascript": [
        "$('div#3d9cbd3d-d977-495b-af72-c2de464530bc').width('17%')"
       ],
       "metadata": {},
       "output_type": "display_data",
       "text": [
        "<IPython.core.display.Javascript at 0x120712150>"
       ]
      },
      {
       "javascript": [
        "$('div#3d9cbd3d-d977-495b-af72-c2de464530bc').width('17%')"
       ],
       "metadata": {},
       "output_type": "display_data",
       "text": [
        "<IPython.core.display.Javascript at 0x120712150>"
       ]
      },
      {
       "javascript": [
        "$('div#3d9cbd3d-d977-495b-af72-c2de464530bc').width('18%')"
       ],
       "metadata": {},
       "output_type": "display_data",
       "text": [
        "<IPython.core.display.Javascript at 0x120712150>"
       ]
      },
      {
       "javascript": [
        "$('div#3d9cbd3d-d977-495b-af72-c2de464530bc').width('18%')"
       ],
       "metadata": {},
       "output_type": "display_data",
       "text": [
        "<IPython.core.display.Javascript at 0x120712150>"
       ]
      },
      {
       "javascript": [
        "$('div#3d9cbd3d-d977-495b-af72-c2de464530bc').width('19%')"
       ],
       "metadata": {},
       "output_type": "display_data",
       "text": [
        "<IPython.core.display.Javascript at 0x120712150>"
       ]
      },
      {
       "javascript": [
        "$('div#3d9cbd3d-d977-495b-af72-c2de464530bc').width('20%')"
       ],
       "metadata": {},
       "output_type": "display_data",
       "text": [
        "<IPython.core.display.Javascript at 0x120712150>"
       ]
      },
      {
       "javascript": [
        "$('div#3d9cbd3d-d977-495b-af72-c2de464530bc').width('20%')"
       ],
       "metadata": {},
       "output_type": "display_data",
       "text": [
        "<IPython.core.display.Javascript at 0x120712150>"
       ]
      },
      {
       "javascript": [
        "$('div#3d9cbd3d-d977-495b-af72-c2de464530bc').width('21%')"
       ],
       "metadata": {},
       "output_type": "display_data",
       "text": [
        "<IPython.core.display.Javascript at 0x120712150>"
       ]
      },
      {
       "javascript": [
        "$('div#3d9cbd3d-d977-495b-af72-c2de464530bc').width('21%')"
       ],
       "metadata": {},
       "output_type": "display_data",
       "text": [
        "<IPython.core.display.Javascript at 0x120712150>"
       ]
      },
      {
       "javascript": [
        "$('div#3d9cbd3d-d977-495b-af72-c2de464530bc').width('22%')"
       ],
       "metadata": {},
       "output_type": "display_data",
       "text": [
        "<IPython.core.display.Javascript at 0x120712150>"
       ]
      },
      {
       "javascript": [
        "$('div#3d9cbd3d-d977-495b-af72-c2de464530bc').width('22%')"
       ],
       "metadata": {},
       "output_type": "display_data",
       "text": [
        "<IPython.core.display.Javascript at 0x120712150>"
       ]
      },
      {
       "javascript": [
        "$('div#3d9cbd3d-d977-495b-af72-c2de464530bc').width('23%')"
       ],
       "metadata": {},
       "output_type": "display_data",
       "text": [
        "<IPython.core.display.Javascript at 0x120712150>"
       ]
      },
      {
       "javascript": [
        "$('div#3d9cbd3d-d977-495b-af72-c2de464530bc').width('23%')"
       ],
       "metadata": {},
       "output_type": "display_data",
       "text": [
        "<IPython.core.display.Javascript at 0x120712150>"
       ]
      },
      {
       "javascript": [
        "$('div#3d9cbd3d-d977-495b-af72-c2de464530bc').width('24%')"
       ],
       "metadata": {},
       "output_type": "display_data",
       "text": [
        "<IPython.core.display.Javascript at 0x120712150>"
       ]
      },
      {
       "javascript": [
        "$('div#3d9cbd3d-d977-495b-af72-c2de464530bc').width('25%')"
       ],
       "metadata": {},
       "output_type": "display_data",
       "text": [
        "<IPython.core.display.Javascript at 0x120712150>"
       ]
      },
      {
       "javascript": [
        "$('div#3d9cbd3d-d977-495b-af72-c2de464530bc').width('25%')"
       ],
       "metadata": {},
       "output_type": "display_data",
       "text": [
        "<IPython.core.display.Javascript at 0x120712150>"
       ]
      },
      {
       "javascript": [
        "$('div#3d9cbd3d-d977-495b-af72-c2de464530bc').width('26%')"
       ],
       "metadata": {},
       "output_type": "display_data",
       "text": [
        "<IPython.core.display.Javascript at 0x120712150>"
       ]
      },
      {
       "javascript": [
        "$('div#3d9cbd3d-d977-495b-af72-c2de464530bc').width('26%')"
       ],
       "metadata": {},
       "output_type": "display_data",
       "text": [
        "<IPython.core.display.Javascript at 0x120712150>"
       ]
      },
      {
       "javascript": [
        "$('div#3d9cbd3d-d977-495b-af72-c2de464530bc').width('27%')"
       ],
       "metadata": {},
       "output_type": "display_data",
       "text": [
        "<IPython.core.display.Javascript at 0x120712150>"
       ]
      },
      {
       "javascript": [
        "$('div#3d9cbd3d-d977-495b-af72-c2de464530bc').width('27%')"
       ],
       "metadata": {},
       "output_type": "display_data",
       "text": [
        "<IPython.core.display.Javascript at 0x120712150>"
       ]
      },
      {
       "javascript": [
        "$('div#3d9cbd3d-d977-495b-af72-c2de464530bc').width('28%')"
       ],
       "metadata": {},
       "output_type": "display_data",
       "text": [
        "<IPython.core.display.Javascript at 0x120712150>"
       ]
      },
      {
       "javascript": [
        "$('div#3d9cbd3d-d977-495b-af72-c2de464530bc').width('28%')"
       ],
       "metadata": {},
       "output_type": "display_data",
       "text": [
        "<IPython.core.display.Javascript at 0x120712150>"
       ]
      },
      {
       "javascript": [
        "$('div#3d9cbd3d-d977-495b-af72-c2de464530bc').width('29%')"
       ],
       "metadata": {},
       "output_type": "display_data",
       "text": [
        "<IPython.core.display.Javascript at 0x120712150>"
       ]
      },
      {
       "javascript": [
        "$('div#3d9cbd3d-d977-495b-af72-c2de464530bc').width('30%')"
       ],
       "metadata": {},
       "output_type": "display_data",
       "text": [
        "<IPython.core.display.Javascript at 0x120712150>"
       ]
      },
      {
       "javascript": [
        "$('div#3d9cbd3d-d977-495b-af72-c2de464530bc').width('30%')"
       ],
       "metadata": {},
       "output_type": "display_data",
       "text": [
        "<IPython.core.display.Javascript at 0x120712150>"
       ]
      },
      {
       "javascript": [
        "$('div#3d9cbd3d-d977-495b-af72-c2de464530bc').width('31%')"
       ],
       "metadata": {},
       "output_type": "display_data",
       "text": [
        "<IPython.core.display.Javascript at 0x120712150>"
       ]
      },
      {
       "javascript": [
        "$('div#3d9cbd3d-d977-495b-af72-c2de464530bc').width('31%')"
       ],
       "metadata": {},
       "output_type": "display_data",
       "text": [
        "<IPython.core.display.Javascript at 0x120712150>"
       ]
      },
      {
       "javascript": [
        "$('div#3d9cbd3d-d977-495b-af72-c2de464530bc').width('32%')"
       ],
       "metadata": {},
       "output_type": "display_data",
       "text": [
        "<IPython.core.display.Javascript at 0x120712150>"
       ]
      },
      {
       "javascript": [
        "$('div#3d9cbd3d-d977-495b-af72-c2de464530bc').width('32%')"
       ],
       "metadata": {},
       "output_type": "display_data",
       "text": [
        "<IPython.core.display.Javascript at 0x120712150>"
       ]
      },
      {
       "javascript": [
        "$('div#3d9cbd3d-d977-495b-af72-c2de464530bc').width('33%')"
       ],
       "metadata": {},
       "output_type": "display_data",
       "text": [
        "<IPython.core.display.Javascript at 0x120712150>"
       ]
      },
      {
       "javascript": [
        "$('div#3d9cbd3d-d977-495b-af72-c2de464530bc').width('33%')"
       ],
       "metadata": {},
       "output_type": "display_data",
       "text": [
        "<IPython.core.display.Javascript at 0x120712150>"
       ]
      },
      {
       "javascript": [
        "$('div#3d9cbd3d-d977-495b-af72-c2de464530bc').width('34%')"
       ],
       "metadata": {},
       "output_type": "display_data",
       "text": [
        "<IPython.core.display.Javascript at 0x120712150>"
       ]
      },
      {
       "javascript": [
        "$('div#3d9cbd3d-d977-495b-af72-c2de464530bc').width('35%')"
       ],
       "metadata": {},
       "output_type": "display_data",
       "text": [
        "<IPython.core.display.Javascript at 0x120712150>"
       ]
      },
      {
       "javascript": [
        "$('div#3d9cbd3d-d977-495b-af72-c2de464530bc').width('35%')"
       ],
       "metadata": {},
       "output_type": "display_data",
       "text": [
        "<IPython.core.display.Javascript at 0x120712150>"
       ]
      },
      {
       "javascript": [
        "$('div#3d9cbd3d-d977-495b-af72-c2de464530bc').width('36%')"
       ],
       "metadata": {},
       "output_type": "display_data",
       "text": [
        "<IPython.core.display.Javascript at 0x120712150>"
       ]
      },
      {
       "javascript": [
        "$('div#3d9cbd3d-d977-495b-af72-c2de464530bc').width('36%')"
       ],
       "metadata": {},
       "output_type": "display_data",
       "text": [
        "<IPython.core.display.Javascript at 0x120712150>"
       ]
      },
      {
       "javascript": [
        "$('div#3d9cbd3d-d977-495b-af72-c2de464530bc').width('37%')"
       ],
       "metadata": {},
       "output_type": "display_data",
       "text": [
        "<IPython.core.display.Javascript at 0x120712150>"
       ]
      },
      {
       "javascript": [
        "$('div#3d9cbd3d-d977-495b-af72-c2de464530bc').width('37%')"
       ],
       "metadata": {},
       "output_type": "display_data",
       "text": [
        "<IPython.core.display.Javascript at 0x120712150>"
       ]
      },
      {
       "javascript": [
        "$('div#3d9cbd3d-d977-495b-af72-c2de464530bc').width('38%')"
       ],
       "metadata": {},
       "output_type": "display_data",
       "text": [
        "<IPython.core.display.Javascript at 0x120712150>"
       ]
      },
      {
       "javascript": [
        "$('div#3d9cbd3d-d977-495b-af72-c2de464530bc').width('38%')"
       ],
       "metadata": {},
       "output_type": "display_data",
       "text": [
        "<IPython.core.display.Javascript at 0x120712150>"
       ]
      },
      {
       "javascript": [
        "$('div#3d9cbd3d-d977-495b-af72-c2de464530bc').width('39%')"
       ],
       "metadata": {},
       "output_type": "display_data",
       "text": [
        "<IPython.core.display.Javascript at 0x120712150>"
       ]
      },
      {
       "javascript": [
        "$('div#3d9cbd3d-d977-495b-af72-c2de464530bc').width('40%')"
       ],
       "metadata": {},
       "output_type": "display_data",
       "text": [
        "<IPython.core.display.Javascript at 0x120712150>"
       ]
      },
      {
       "javascript": [
        "$('div#3d9cbd3d-d977-495b-af72-c2de464530bc').width('40%')"
       ],
       "metadata": {},
       "output_type": "display_data",
       "text": [
        "<IPython.core.display.Javascript at 0x120712150>"
       ]
      },
      {
       "javascript": [
        "$('div#3d9cbd3d-d977-495b-af72-c2de464530bc').width('41%')"
       ],
       "metadata": {},
       "output_type": "display_data",
       "text": [
        "<IPython.core.display.Javascript at 0x120712150>"
       ]
      },
      {
       "javascript": [
        "$('div#3d9cbd3d-d977-495b-af72-c2de464530bc').width('41%')"
       ],
       "metadata": {},
       "output_type": "display_data",
       "text": [
        "<IPython.core.display.Javascript at 0x120712150>"
       ]
      },
      {
       "javascript": [
        "$('div#3d9cbd3d-d977-495b-af72-c2de464530bc').width('42%')"
       ],
       "metadata": {},
       "output_type": "display_data",
       "text": [
        "<IPython.core.display.Javascript at 0x120712150>"
       ]
      },
      {
       "javascript": [
        "$('div#3d9cbd3d-d977-495b-af72-c2de464530bc').width('42%')"
       ],
       "metadata": {},
       "output_type": "display_data",
       "text": [
        "<IPython.core.display.Javascript at 0x120712150>"
       ]
      },
      {
       "javascript": [
        "$('div#3d9cbd3d-d977-495b-af72-c2de464530bc').width('43%')"
       ],
       "metadata": {},
       "output_type": "display_data",
       "text": [
        "<IPython.core.display.Javascript at 0x120712150>"
       ]
      },
      {
       "javascript": [
        "$('div#3d9cbd3d-d977-495b-af72-c2de464530bc').width('43%')"
       ],
       "metadata": {},
       "output_type": "display_data",
       "text": [
        "<IPython.core.display.Javascript at 0x120712150>"
       ]
      },
      {
       "javascript": [
        "$('div#3d9cbd3d-d977-495b-af72-c2de464530bc').width('44%')"
       ],
       "metadata": {},
       "output_type": "display_data",
       "text": [
        "<IPython.core.display.Javascript at 0x120712150>"
       ]
      },
      {
       "javascript": [
        "$('div#3d9cbd3d-d977-495b-af72-c2de464530bc').width('45%')"
       ],
       "metadata": {},
       "output_type": "display_data",
       "text": [
        "<IPython.core.display.Javascript at 0x120712150>"
       ]
      },
      {
       "javascript": [
        "$('div#3d9cbd3d-d977-495b-af72-c2de464530bc').width('45%')"
       ],
       "metadata": {},
       "output_type": "display_data",
       "text": [
        "<IPython.core.display.Javascript at 0x120712150>"
       ]
      },
      {
       "javascript": [
        "$('div#3d9cbd3d-d977-495b-af72-c2de464530bc').width('46%')"
       ],
       "metadata": {},
       "output_type": "display_data",
       "text": [
        "<IPython.core.display.Javascript at 0x120712150>"
       ]
      },
      {
       "javascript": [
        "$('div#3d9cbd3d-d977-495b-af72-c2de464530bc').width('46%')"
       ],
       "metadata": {},
       "output_type": "display_data",
       "text": [
        "<IPython.core.display.Javascript at 0x120712150>"
       ]
      },
      {
       "javascript": [
        "$('div#3d9cbd3d-d977-495b-af72-c2de464530bc').width('47%')"
       ],
       "metadata": {},
       "output_type": "display_data",
       "text": [
        "<IPython.core.display.Javascript at 0x120712150>"
       ]
      },
      {
       "javascript": [
        "$('div#3d9cbd3d-d977-495b-af72-c2de464530bc').width('47%')"
       ],
       "metadata": {},
       "output_type": "display_data",
       "text": [
        "<IPython.core.display.Javascript at 0x120712150>"
       ]
      },
      {
       "javascript": [
        "$('div#3d9cbd3d-d977-495b-af72-c2de464530bc').width('48%')"
       ],
       "metadata": {},
       "output_type": "display_data",
       "text": [
        "<IPython.core.display.Javascript at 0x120712150>"
       ]
      },
      {
       "javascript": [
        "$('div#3d9cbd3d-d977-495b-af72-c2de464530bc').width('48%')"
       ],
       "metadata": {},
       "output_type": "display_data",
       "text": [
        "<IPython.core.display.Javascript at 0x120712150>"
       ]
      },
      {
       "javascript": [
        "$('div#3d9cbd3d-d977-495b-af72-c2de464530bc').width('49%')"
       ],
       "metadata": {},
       "output_type": "display_data",
       "text": [
        "<IPython.core.display.Javascript at 0x120712150>"
       ]
      },
      {
       "javascript": [
        "$('div#3d9cbd3d-d977-495b-af72-c2de464530bc').width('50%')"
       ],
       "metadata": {},
       "output_type": "display_data",
       "text": [
        "<IPython.core.display.Javascript at 0x120712150>"
       ]
      },
      {
       "javascript": [
        "$('div#3d9cbd3d-d977-495b-af72-c2de464530bc').width('50%')"
       ],
       "metadata": {},
       "output_type": "display_data",
       "text": [
        "<IPython.core.display.Javascript at 0x120712150>"
       ]
      },
      {
       "javascript": [
        "$('div#3d9cbd3d-d977-495b-af72-c2de464530bc').width('51%')"
       ],
       "metadata": {},
       "output_type": "display_data",
       "text": [
        "<IPython.core.display.Javascript at 0x120712150>"
       ]
      },
      {
       "javascript": [
        "$('div#3d9cbd3d-d977-495b-af72-c2de464530bc').width('51%')"
       ],
       "metadata": {},
       "output_type": "display_data",
       "text": [
        "<IPython.core.display.Javascript at 0x120712150>"
       ]
      },
      {
       "javascript": [
        "$('div#3d9cbd3d-d977-495b-af72-c2de464530bc').width('52%')"
       ],
       "metadata": {},
       "output_type": "display_data",
       "text": [
        "<IPython.core.display.Javascript at 0x120712150>"
       ]
      },
      {
       "javascript": [
        "$('div#3d9cbd3d-d977-495b-af72-c2de464530bc').width('52%')"
       ],
       "metadata": {},
       "output_type": "display_data",
       "text": [
        "<IPython.core.display.Javascript at 0x120712150>"
       ]
      },
      {
       "javascript": [
        "$('div#3d9cbd3d-d977-495b-af72-c2de464530bc').width('53%')"
       ],
       "metadata": {},
       "output_type": "display_data",
       "text": [
        "<IPython.core.display.Javascript at 0x120712150>"
       ]
      },
      {
       "javascript": [
        "$('div#3d9cbd3d-d977-495b-af72-c2de464530bc').width('53%')"
       ],
       "metadata": {},
       "output_type": "display_data",
       "text": [
        "<IPython.core.display.Javascript at 0x120712150>"
       ]
      },
      {
       "javascript": [
        "$('div#3d9cbd3d-d977-495b-af72-c2de464530bc').width('54%')"
       ],
       "metadata": {},
       "output_type": "display_data",
       "text": [
        "<IPython.core.display.Javascript at 0x120712150>"
       ]
      },
      {
       "javascript": [
        "$('div#3d9cbd3d-d977-495b-af72-c2de464530bc').width('55%')"
       ],
       "metadata": {},
       "output_type": "display_data",
       "text": [
        "<IPython.core.display.Javascript at 0x120712150>"
       ]
      },
      {
       "javascript": [
        "$('div#3d9cbd3d-d977-495b-af72-c2de464530bc').width('55%')"
       ],
       "metadata": {},
       "output_type": "display_data",
       "text": [
        "<IPython.core.display.Javascript at 0x120712150>"
       ]
      },
      {
       "javascript": [
        "$('div#3d9cbd3d-d977-495b-af72-c2de464530bc').width('56%')"
       ],
       "metadata": {},
       "output_type": "display_data",
       "text": [
        "<IPython.core.display.Javascript at 0x120712150>"
       ]
      },
      {
       "javascript": [
        "$('div#3d9cbd3d-d977-495b-af72-c2de464530bc').width('56%')"
       ],
       "metadata": {},
       "output_type": "display_data",
       "text": [
        "<IPython.core.display.Javascript at 0x120712150>"
       ]
      },
      {
       "javascript": [
        "$('div#3d9cbd3d-d977-495b-af72-c2de464530bc').width('57%')"
       ],
       "metadata": {},
       "output_type": "display_data",
       "text": [
        "<IPython.core.display.Javascript at 0x120712150>"
       ]
      },
      {
       "javascript": [
        "$('div#3d9cbd3d-d977-495b-af72-c2de464530bc').width('57%')"
       ],
       "metadata": {},
       "output_type": "display_data",
       "text": [
        "<IPython.core.display.Javascript at 0x120712150>"
       ]
      },
      {
       "javascript": [
        "$('div#3d9cbd3d-d977-495b-af72-c2de464530bc').width('58%')"
       ],
       "metadata": {},
       "output_type": "display_data",
       "text": [
        "<IPython.core.display.Javascript at 0x120712150>"
       ]
      },
      {
       "javascript": [
        "$('div#3d9cbd3d-d977-495b-af72-c2de464530bc').width('58%')"
       ],
       "metadata": {},
       "output_type": "display_data",
       "text": [
        "<IPython.core.display.Javascript at 0x120712150>"
       ]
      },
      {
       "javascript": [
        "$('div#3d9cbd3d-d977-495b-af72-c2de464530bc').width('59%')"
       ],
       "metadata": {},
       "output_type": "display_data",
       "text": [
        "<IPython.core.display.Javascript at 0x120712150>"
       ]
      },
      {
       "javascript": [
        "$('div#3d9cbd3d-d977-495b-af72-c2de464530bc').width('60%')"
       ],
       "metadata": {},
       "output_type": "display_data",
       "text": [
        "<IPython.core.display.Javascript at 0x120712150>"
       ]
      },
      {
       "javascript": [
        "$('div#3d9cbd3d-d977-495b-af72-c2de464530bc').width('60%')"
       ],
       "metadata": {},
       "output_type": "display_data",
       "text": [
        "<IPython.core.display.Javascript at 0x120712150>"
       ]
      },
      {
       "javascript": [
        "$('div#3d9cbd3d-d977-495b-af72-c2de464530bc').width('61%')"
       ],
       "metadata": {},
       "output_type": "display_data",
       "text": [
        "<IPython.core.display.Javascript at 0x120712150>"
       ]
      },
      {
       "javascript": [
        "$('div#3d9cbd3d-d977-495b-af72-c2de464530bc').width('61%')"
       ],
       "metadata": {},
       "output_type": "display_data",
       "text": [
        "<IPython.core.display.Javascript at 0x120712150>"
       ]
      },
      {
       "javascript": [
        "$('div#3d9cbd3d-d977-495b-af72-c2de464530bc').width('62%')"
       ],
       "metadata": {},
       "output_type": "display_data",
       "text": [
        "<IPython.core.display.Javascript at 0x120712150>"
       ]
      },
      {
       "javascript": [
        "$('div#3d9cbd3d-d977-495b-af72-c2de464530bc').width('62%')"
       ],
       "metadata": {},
       "output_type": "display_data",
       "text": [
        "<IPython.core.display.Javascript at 0x120712150>"
       ]
      },
      {
       "javascript": [
        "$('div#3d9cbd3d-d977-495b-af72-c2de464530bc').width('63%')"
       ],
       "metadata": {},
       "output_type": "display_data",
       "text": [
        "<IPython.core.display.Javascript at 0x120712150>"
       ]
      },
      {
       "javascript": [
        "$('div#3d9cbd3d-d977-495b-af72-c2de464530bc').width('63%')"
       ],
       "metadata": {},
       "output_type": "display_data",
       "text": [
        "<IPython.core.display.Javascript at 0x120712150>"
       ]
      },
      {
       "javascript": [
        "$('div#3d9cbd3d-d977-495b-af72-c2de464530bc').width('64%')"
       ],
       "metadata": {},
       "output_type": "display_data",
       "text": [
        "<IPython.core.display.Javascript at 0x120712150>"
       ]
      },
      {
       "javascript": [
        "$('div#3d9cbd3d-d977-495b-af72-c2de464530bc').width('65%')"
       ],
       "metadata": {},
       "output_type": "display_data",
       "text": [
        "<IPython.core.display.Javascript at 0x120712150>"
       ]
      },
      {
       "javascript": [
        "$('div#3d9cbd3d-d977-495b-af72-c2de464530bc').width('65%')"
       ],
       "metadata": {},
       "output_type": "display_data",
       "text": [
        "<IPython.core.display.Javascript at 0x120712150>"
       ]
      },
      {
       "javascript": [
        "$('div#3d9cbd3d-d977-495b-af72-c2de464530bc').width('66%')"
       ],
       "metadata": {},
       "output_type": "display_data",
       "text": [
        "<IPython.core.display.Javascript at 0x120712150>"
       ]
      },
      {
       "javascript": [
        "$('div#3d9cbd3d-d977-495b-af72-c2de464530bc').width('66%')"
       ],
       "metadata": {},
       "output_type": "display_data",
       "text": [
        "<IPython.core.display.Javascript at 0x120712150>"
       ]
      },
      {
       "javascript": [
        "$('div#3d9cbd3d-d977-495b-af72-c2de464530bc').width('67%')"
       ],
       "metadata": {},
       "output_type": "display_data",
       "text": [
        "<IPython.core.display.Javascript at 0x120712150>"
       ]
      },
      {
       "javascript": [
        "$('div#3d9cbd3d-d977-495b-af72-c2de464530bc').width('67%')"
       ],
       "metadata": {},
       "output_type": "display_data",
       "text": [
        "<IPython.core.display.Javascript at 0x120712150>"
       ]
      },
      {
       "javascript": [
        "$('div#3d9cbd3d-d977-495b-af72-c2de464530bc').width('68%')"
       ],
       "metadata": {},
       "output_type": "display_data",
       "text": [
        "<IPython.core.display.Javascript at 0x120712150>"
       ]
      },
      {
       "javascript": [
        "$('div#3d9cbd3d-d977-495b-af72-c2de464530bc').width('68%')"
       ],
       "metadata": {},
       "output_type": "display_data",
       "text": [
        "<IPython.core.display.Javascript at 0x120712150>"
       ]
      },
      {
       "javascript": [
        "$('div#3d9cbd3d-d977-495b-af72-c2de464530bc').width('69%')"
       ],
       "metadata": {},
       "output_type": "display_data",
       "text": [
        "<IPython.core.display.Javascript at 0x120712150>"
       ]
      },
      {
       "javascript": [
        "$('div#3d9cbd3d-d977-495b-af72-c2de464530bc').width('70%')"
       ],
       "metadata": {},
       "output_type": "display_data",
       "text": [
        "<IPython.core.display.Javascript at 0x120712150>"
       ]
      },
      {
       "javascript": [
        "$('div#3d9cbd3d-d977-495b-af72-c2de464530bc').width('70%')"
       ],
       "metadata": {},
       "output_type": "display_data",
       "text": [
        "<IPython.core.display.Javascript at 0x120712150>"
       ]
      },
      {
       "javascript": [
        "$('div#3d9cbd3d-d977-495b-af72-c2de464530bc').width('71%')"
       ],
       "metadata": {},
       "output_type": "display_data",
       "text": [
        "<IPython.core.display.Javascript at 0x120712150>"
       ]
      },
      {
       "javascript": [
        "$('div#3d9cbd3d-d977-495b-af72-c2de464530bc').width('71%')"
       ],
       "metadata": {},
       "output_type": "display_data",
       "text": [
        "<IPython.core.display.Javascript at 0x120712150>"
       ]
      },
      {
       "javascript": [
        "$('div#3d9cbd3d-d977-495b-af72-c2de464530bc').width('72%')"
       ],
       "metadata": {},
       "output_type": "display_data",
       "text": [
        "<IPython.core.display.Javascript at 0x120712150>"
       ]
      },
      {
       "javascript": [
        "$('div#3d9cbd3d-d977-495b-af72-c2de464530bc').width('72%')"
       ],
       "metadata": {},
       "output_type": "display_data",
       "text": [
        "<IPython.core.display.Javascript at 0x120712150>"
       ]
      },
      {
       "javascript": [
        "$('div#3d9cbd3d-d977-495b-af72-c2de464530bc').width('73%')"
       ],
       "metadata": {},
       "output_type": "display_data",
       "text": [
        "<IPython.core.display.Javascript at 0x120712150>"
       ]
      },
      {
       "javascript": [
        "$('div#3d9cbd3d-d977-495b-af72-c2de464530bc').width('73%')"
       ],
       "metadata": {},
       "output_type": "display_data",
       "text": [
        "<IPython.core.display.Javascript at 0x120712150>"
       ]
      },
      {
       "javascript": [
        "$('div#3d9cbd3d-d977-495b-af72-c2de464530bc').width('74%')"
       ],
       "metadata": {},
       "output_type": "display_data",
       "text": [
        "<IPython.core.display.Javascript at 0x120712150>"
       ]
      },
      {
       "javascript": [
        "$('div#3d9cbd3d-d977-495b-af72-c2de464530bc').width('75%')"
       ],
       "metadata": {},
       "output_type": "display_data",
       "text": [
        "<IPython.core.display.Javascript at 0x120712150>"
       ]
      },
      {
       "javascript": [
        "$('div#3d9cbd3d-d977-495b-af72-c2de464530bc').width('75%')"
       ],
       "metadata": {},
       "output_type": "display_data",
       "text": [
        "<IPython.core.display.Javascript at 0x120712150>"
       ]
      },
      {
       "javascript": [
        "$('div#3d9cbd3d-d977-495b-af72-c2de464530bc').width('76%')"
       ],
       "metadata": {},
       "output_type": "display_data",
       "text": [
        "<IPython.core.display.Javascript at 0x120712150>"
       ]
      },
      {
       "javascript": [
        "$('div#3d9cbd3d-d977-495b-af72-c2de464530bc').width('76%')"
       ],
       "metadata": {},
       "output_type": "display_data",
       "text": [
        "<IPython.core.display.Javascript at 0x120712150>"
       ]
      },
      {
       "javascript": [
        "$('div#3d9cbd3d-d977-495b-af72-c2de464530bc').width('77%')"
       ],
       "metadata": {},
       "output_type": "display_data",
       "text": [
        "<IPython.core.display.Javascript at 0x120712150>"
       ]
      },
      {
       "javascript": [
        "$('div#3d9cbd3d-d977-495b-af72-c2de464530bc').width('77%')"
       ],
       "metadata": {},
       "output_type": "display_data",
       "text": [
        "<IPython.core.display.Javascript at 0x120712150>"
       ]
      },
      {
       "javascript": [
        "$('div#3d9cbd3d-d977-495b-af72-c2de464530bc').width('78%')"
       ],
       "metadata": {},
       "output_type": "display_data",
       "text": [
        "<IPython.core.display.Javascript at 0x120712150>"
       ]
      },
      {
       "javascript": [
        "$('div#3d9cbd3d-d977-495b-af72-c2de464530bc').width('78%')"
       ],
       "metadata": {},
       "output_type": "display_data",
       "text": [
        "<IPython.core.display.Javascript at 0x120712150>"
       ]
      },
      {
       "javascript": [
        "$('div#3d9cbd3d-d977-495b-af72-c2de464530bc').width('79%')"
       ],
       "metadata": {},
       "output_type": "display_data",
       "text": [
        "<IPython.core.display.Javascript at 0x120712150>"
       ]
      },
      {
       "javascript": [
        "$('div#3d9cbd3d-d977-495b-af72-c2de464530bc').width('80%')"
       ],
       "metadata": {},
       "output_type": "display_data",
       "text": [
        "<IPython.core.display.Javascript at 0x120712150>"
       ]
      },
      {
       "javascript": [
        "$('div#3d9cbd3d-d977-495b-af72-c2de464530bc').width('80%')"
       ],
       "metadata": {},
       "output_type": "display_data",
       "text": [
        "<IPython.core.display.Javascript at 0x120712150>"
       ]
      },
      {
       "javascript": [
        "$('div#3d9cbd3d-d977-495b-af72-c2de464530bc').width('81%')"
       ],
       "metadata": {},
       "output_type": "display_data",
       "text": [
        "<IPython.core.display.Javascript at 0x120712150>"
       ]
      },
      {
       "javascript": [
        "$('div#3d9cbd3d-d977-495b-af72-c2de464530bc').width('81%')"
       ],
       "metadata": {},
       "output_type": "display_data",
       "text": [
        "<IPython.core.display.Javascript at 0x120712150>"
       ]
      },
      {
       "javascript": [
        "$('div#3d9cbd3d-d977-495b-af72-c2de464530bc').width('82%')"
       ],
       "metadata": {},
       "output_type": "display_data",
       "text": [
        "<IPython.core.display.Javascript at 0x120712150>"
       ]
      },
      {
       "javascript": [
        "$('div#3d9cbd3d-d977-495b-af72-c2de464530bc').width('82%')"
       ],
       "metadata": {},
       "output_type": "display_data",
       "text": [
        "<IPython.core.display.Javascript at 0x120712150>"
       ]
      },
      {
       "javascript": [
        "$('div#3d9cbd3d-d977-495b-af72-c2de464530bc').width('83%')"
       ],
       "metadata": {},
       "output_type": "display_data",
       "text": [
        "<IPython.core.display.Javascript at 0x120712150>"
       ]
      },
      {
       "javascript": [
        "$('div#3d9cbd3d-d977-495b-af72-c2de464530bc').width('83%')"
       ],
       "metadata": {},
       "output_type": "display_data",
       "text": [
        "<IPython.core.display.Javascript at 0x120712150>"
       ]
      },
      {
       "javascript": [
        "$('div#3d9cbd3d-d977-495b-af72-c2de464530bc').width('84%')"
       ],
       "metadata": {},
       "output_type": "display_data",
       "text": [
        "<IPython.core.display.Javascript at 0x120712150>"
       ]
      },
      {
       "javascript": [
        "$('div#3d9cbd3d-d977-495b-af72-c2de464530bc').width('85%')"
       ],
       "metadata": {},
       "output_type": "display_data",
       "text": [
        "<IPython.core.display.Javascript at 0x120712150>"
       ]
      },
      {
       "javascript": [
        "$('div#3d9cbd3d-d977-495b-af72-c2de464530bc').width('85%')"
       ],
       "metadata": {},
       "output_type": "display_data",
       "text": [
        "<IPython.core.display.Javascript at 0x120712150>"
       ]
      },
      {
       "javascript": [
        "$('div#3d9cbd3d-d977-495b-af72-c2de464530bc').width('86%')"
       ],
       "metadata": {},
       "output_type": "display_data",
       "text": [
        "<IPython.core.display.Javascript at 0x120712150>"
       ]
      },
      {
       "javascript": [
        "$('div#3d9cbd3d-d977-495b-af72-c2de464530bc').width('86%')"
       ],
       "metadata": {},
       "output_type": "display_data",
       "text": [
        "<IPython.core.display.Javascript at 0x120712150>"
       ]
      },
      {
       "javascript": [
        "$('div#3d9cbd3d-d977-495b-af72-c2de464530bc').width('87%')"
       ],
       "metadata": {},
       "output_type": "display_data",
       "text": [
        "<IPython.core.display.Javascript at 0x120712150>"
       ]
      },
      {
       "javascript": [
        "$('div#3d9cbd3d-d977-495b-af72-c2de464530bc').width('87%')"
       ],
       "metadata": {},
       "output_type": "display_data",
       "text": [
        "<IPython.core.display.Javascript at 0x120712150>"
       ]
      },
      {
       "javascript": [
        "$('div#3d9cbd3d-d977-495b-af72-c2de464530bc').width('88%')"
       ],
       "metadata": {},
       "output_type": "display_data",
       "text": [
        "<IPython.core.display.Javascript at 0x120712150>"
       ]
      },
      {
       "javascript": [
        "$('div#3d9cbd3d-d977-495b-af72-c2de464530bc').width('88%')"
       ],
       "metadata": {},
       "output_type": "display_data",
       "text": [
        "<IPython.core.display.Javascript at 0x120712150>"
       ]
      },
      {
       "javascript": [
        "$('div#3d9cbd3d-d977-495b-af72-c2de464530bc').width('89%')"
       ],
       "metadata": {},
       "output_type": "display_data",
       "text": [
        "<IPython.core.display.Javascript at 0x120712150>"
       ]
      },
      {
       "javascript": [
        "$('div#3d9cbd3d-d977-495b-af72-c2de464530bc').width('90%')"
       ],
       "metadata": {},
       "output_type": "display_data",
       "text": [
        "<IPython.core.display.Javascript at 0x120712150>"
       ]
      },
      {
       "javascript": [
        "$('div#3d9cbd3d-d977-495b-af72-c2de464530bc').width('90%')"
       ],
       "metadata": {},
       "output_type": "display_data",
       "text": [
        "<IPython.core.display.Javascript at 0x120712150>"
       ]
      },
      {
       "javascript": [
        "$('div#3d9cbd3d-d977-495b-af72-c2de464530bc').width('91%')"
       ],
       "metadata": {},
       "output_type": "display_data",
       "text": [
        "<IPython.core.display.Javascript at 0x120712150>"
       ]
      },
      {
       "javascript": [
        "$('div#3d9cbd3d-d977-495b-af72-c2de464530bc').width('91%')"
       ],
       "metadata": {},
       "output_type": "display_data",
       "text": [
        "<IPython.core.display.Javascript at 0x120712150>"
       ]
      },
      {
       "javascript": [
        "$('div#3d9cbd3d-d977-495b-af72-c2de464530bc').width('92%')"
       ],
       "metadata": {},
       "output_type": "display_data",
       "text": [
        "<IPython.core.display.Javascript at 0x120712150>"
       ]
      },
      {
       "javascript": [
        "$('div#3d9cbd3d-d977-495b-af72-c2de464530bc').width('92%')"
       ],
       "metadata": {},
       "output_type": "display_data",
       "text": [
        "<IPython.core.display.Javascript at 0x120712150>"
       ]
      },
      {
       "javascript": [
        "$('div#3d9cbd3d-d977-495b-af72-c2de464530bc').width('93%')"
       ],
       "metadata": {},
       "output_type": "display_data",
       "text": [
        "<IPython.core.display.Javascript at 0x120712150>"
       ]
      },
      {
       "javascript": [
        "$('div#3d9cbd3d-d977-495b-af72-c2de464530bc').width('93%')"
       ],
       "metadata": {},
       "output_type": "display_data",
       "text": [
        "<IPython.core.display.Javascript at 0x120712150>"
       ]
      },
      {
       "javascript": [
        "$('div#3d9cbd3d-d977-495b-af72-c2de464530bc').width('94%')"
       ],
       "metadata": {},
       "output_type": "display_data",
       "text": [
        "<IPython.core.display.Javascript at 0x120712150>"
       ]
      },
      {
       "javascript": [
        "$('div#3d9cbd3d-d977-495b-af72-c2de464530bc').width('95%')"
       ],
       "metadata": {},
       "output_type": "display_data",
       "text": [
        "<IPython.core.display.Javascript at 0x120712150>"
       ]
      },
      {
       "javascript": [
        "$('div#3d9cbd3d-d977-495b-af72-c2de464530bc').width('95%')"
       ],
       "metadata": {},
       "output_type": "display_data",
       "text": [
        "<IPython.core.display.Javascript at 0x120712150>"
       ]
      },
      {
       "javascript": [
        "$('div#3d9cbd3d-d977-495b-af72-c2de464530bc').width('96%')"
       ],
       "metadata": {},
       "output_type": "display_data",
       "text": [
        "<IPython.core.display.Javascript at 0x120712150>"
       ]
      },
      {
       "javascript": [
        "$('div#3d9cbd3d-d977-495b-af72-c2de464530bc').width('96%')"
       ],
       "metadata": {},
       "output_type": "display_data",
       "text": [
        "<IPython.core.display.Javascript at 0x120712150>"
       ]
      },
      {
       "javascript": [
        "$('div#3d9cbd3d-d977-495b-af72-c2de464530bc').width('97%')"
       ],
       "metadata": {},
       "output_type": "display_data",
       "text": [
        "<IPython.core.display.Javascript at 0x120712150>"
       ]
      },
      {
       "javascript": [
        "$('div#3d9cbd3d-d977-495b-af72-c2de464530bc').width('97%')"
       ],
       "metadata": {},
       "output_type": "display_data",
       "text": [
        "<IPython.core.display.Javascript at 0x120712150>"
       ]
      },
      {
       "javascript": [
        "$('div#3d9cbd3d-d977-495b-af72-c2de464530bc').width('98%')"
       ],
       "metadata": {},
       "output_type": "display_data",
       "text": [
        "<IPython.core.display.Javascript at 0x120712150>"
       ]
      },
      {
       "javascript": [
        "$('div#3d9cbd3d-d977-495b-af72-c2de464530bc').width('98%')"
       ],
       "metadata": {},
       "output_type": "display_data",
       "text": [
        "<IPython.core.display.Javascript at 0x120712150>"
       ]
      },
      {
       "javascript": [
        "$('div#3d9cbd3d-d977-495b-af72-c2de464530bc').width('99%')"
       ],
       "metadata": {},
       "output_type": "display_data",
       "text": [
        "<IPython.core.display.Javascript at 0x120712150>"
       ]
      },
      {
       "javascript": [
        "$('div#3d9cbd3d-d977-495b-af72-c2de464530bc').width('100%')"
       ],
       "metadata": {},
       "output_type": "display_data",
       "text": [
        "<IPython.core.display.Javascript at 0x1206fbf50>"
       ]
      },
      {
       "html": [
        "<iframe src=http://127.0.0.1:8001/5553072 width=100%% height=420 frameborder=0></iframe>"
       ],
       "metadata": {},
       "output_type": "pyout",
       "prompt_number": 19,
       "text": [
        "<mMR.mMR.UncompressedMeasurement instance at 0x120713908>"
       ]
      }
     ],
     "prompt_number": 19
    },
    {
     "cell_type": "code",
     "collapsed": false,
     "input": [
      "SCAN.volume_render(SCAN._mask,scale=0.5)"
     ],
     "language": "python",
     "metadata": {},
     "outputs": [
      {
       "html": [
        "\n",
        "        <div style=\"border: 1px solid white; width:100%%; height:6px; background-color:rgb(246,246,246)\">\n",
        "            <div id=\"90964405-33b9-4dc2-9904-34eb8c638ac3\" style=\"background-color:rgb(200,200,200); width:0%; height:6px\"> </div>\n",
        "        </div> \n",
        "        "
       ],
       "metadata": {},
       "output_type": "display_data",
       "text": [
        "<IPython.core.display.HTML at 0x1206fbf50>"
       ]
      },
      {
       "javascript": [
        "$('div#90964405-33b9-4dc2-9904-34eb8c638ac3').width('1%')"
       ],
       "metadata": {},
       "output_type": "display_data",
       "text": [
        "<IPython.core.display.Javascript at 0x120712590>"
       ]
      },
      {
       "javascript": [
        "$('div#90964405-33b9-4dc2-9904-34eb8c638ac3').width('1%')"
       ],
       "metadata": {},
       "output_type": "display_data",
       "text": [
        "<IPython.core.display.Javascript at 0x120712590>"
       ]
      },
      {
       "javascript": [
        "$('div#90964405-33b9-4dc2-9904-34eb8c638ac3').width('1%')"
       ],
       "metadata": {},
       "output_type": "display_data",
       "text": [
        "<IPython.core.display.Javascript at 0x120712590>"
       ]
      },
      {
       "javascript": [
        "$('div#90964405-33b9-4dc2-9904-34eb8c638ac3').width('1%')"
       ],
       "metadata": {},
       "output_type": "display_data",
       "text": [
        "<IPython.core.display.Javascript at 0x120712590>"
       ]
      },
      {
       "javascript": [
        "$('div#90964405-33b9-4dc2-9904-34eb8c638ac3').width('2%')"
       ],
       "metadata": {},
       "output_type": "display_data",
       "text": [
        "<IPython.core.display.Javascript at 0x120712590>"
       ]
      },
      {
       "javascript": [
        "$('div#90964405-33b9-4dc2-9904-34eb8c638ac3').width('2%')"
       ],
       "metadata": {},
       "output_type": "display_data",
       "text": [
        "<IPython.core.display.Javascript at 0x120712590>"
       ]
      },
      {
       "javascript": [
        "$('div#90964405-33b9-4dc2-9904-34eb8c638ac3').width('3%')"
       ],
       "metadata": {},
       "output_type": "display_data",
       "text": [
        "<IPython.core.display.Javascript at 0x120712590>"
       ]
      },
      {
       "javascript": [
        "$('div#90964405-33b9-4dc2-9904-34eb8c638ac3').width('3%')"
       ],
       "metadata": {},
       "output_type": "display_data",
       "text": [
        "<IPython.core.display.Javascript at 0x120712590>"
       ]
      },
      {
       "javascript": [
        "$('div#90964405-33b9-4dc2-9904-34eb8c638ac3').width('4%')"
       ],
       "metadata": {},
       "output_type": "display_data",
       "text": [
        "<IPython.core.display.Javascript at 0x120712590>"
       ]
      },
      {
       "javascript": [
        "$('div#90964405-33b9-4dc2-9904-34eb8c638ac3').width('5%')"
       ],
       "metadata": {},
       "output_type": "display_data",
       "text": [
        "<IPython.core.display.Javascript at 0x120712590>"
       ]
      },
      {
       "javascript": [
        "$('div#90964405-33b9-4dc2-9904-34eb8c638ac3').width('5%')"
       ],
       "metadata": {},
       "output_type": "display_data",
       "text": [
        "<IPython.core.display.Javascript at 0x120712590>"
       ]
      },
      {
       "javascript": [
        "$('div#90964405-33b9-4dc2-9904-34eb8c638ac3').width('6%')"
       ],
       "metadata": {},
       "output_type": "display_data",
       "text": [
        "<IPython.core.display.Javascript at 0x120712590>"
       ]
      },
      {
       "javascript": [
        "$('div#90964405-33b9-4dc2-9904-34eb8c638ac3').width('6%')"
       ],
       "metadata": {},
       "output_type": "display_data",
       "text": [
        "<IPython.core.display.Javascript at 0x120712590>"
       ]
      },
      {
       "javascript": [
        "$('div#90964405-33b9-4dc2-9904-34eb8c638ac3').width('7%')"
       ],
       "metadata": {},
       "output_type": "display_data",
       "text": [
        "<IPython.core.display.Javascript at 0x120712590>"
       ]
      },
      {
       "javascript": [
        "$('div#90964405-33b9-4dc2-9904-34eb8c638ac3').width('7%')"
       ],
       "metadata": {},
       "output_type": "display_data",
       "text": [
        "<IPython.core.display.Javascript at 0x120712590>"
       ]
      },
      {
       "javascript": [
        "$('div#90964405-33b9-4dc2-9904-34eb8c638ac3').width('8%')"
       ],
       "metadata": {},
       "output_type": "display_data",
       "text": [
        "<IPython.core.display.Javascript at 0x120712590>"
       ]
      },
      {
       "javascript": [
        "$('div#90964405-33b9-4dc2-9904-34eb8c638ac3').width('8%')"
       ],
       "metadata": {},
       "output_type": "display_data",
       "text": [
        "<IPython.core.display.Javascript at 0x120712590>"
       ]
      },
      {
       "javascript": [
        "$('div#90964405-33b9-4dc2-9904-34eb8c638ac3').width('9%')"
       ],
       "metadata": {},
       "output_type": "display_data",
       "text": [
        "<IPython.core.display.Javascript at 0x120712590>"
       ]
      },
      {
       "javascript": [
        "$('div#90964405-33b9-4dc2-9904-34eb8c638ac3').width('10%')"
       ],
       "metadata": {},
       "output_type": "display_data",
       "text": [
        "<IPython.core.display.Javascript at 0x120712590>"
       ]
      },
      {
       "javascript": [
        "$('div#90964405-33b9-4dc2-9904-34eb8c638ac3').width('10%')"
       ],
       "metadata": {},
       "output_type": "display_data",
       "text": [
        "<IPython.core.display.Javascript at 0x120712590>"
       ]
      },
      {
       "javascript": [
        "$('div#90964405-33b9-4dc2-9904-34eb8c638ac3').width('11%')"
       ],
       "metadata": {},
       "output_type": "display_data",
       "text": [
        "<IPython.core.display.Javascript at 0x120712590>"
       ]
      },
      {
       "javascript": [
        "$('div#90964405-33b9-4dc2-9904-34eb8c638ac3').width('11%')"
       ],
       "metadata": {},
       "output_type": "display_data",
       "text": [
        "<IPython.core.display.Javascript at 0x120712590>"
       ]
      },
      {
       "javascript": [
        "$('div#90964405-33b9-4dc2-9904-34eb8c638ac3').width('12%')"
       ],
       "metadata": {},
       "output_type": "display_data",
       "text": [
        "<IPython.core.display.Javascript at 0x120712590>"
       ]
      },
      {
       "javascript": [
        "$('div#90964405-33b9-4dc2-9904-34eb8c638ac3').width('12%')"
       ],
       "metadata": {},
       "output_type": "display_data",
       "text": [
        "<IPython.core.display.Javascript at 0x120712590>"
       ]
      },
      {
       "javascript": [
        "$('div#90964405-33b9-4dc2-9904-34eb8c638ac3').width('13%')"
       ],
       "metadata": {},
       "output_type": "display_data",
       "text": [
        "<IPython.core.display.Javascript at 0x120712590>"
       ]
      },
      {
       "javascript": [
        "$('div#90964405-33b9-4dc2-9904-34eb8c638ac3').width('13%')"
       ],
       "metadata": {},
       "output_type": "display_data",
       "text": [
        "<IPython.core.display.Javascript at 0x120712590>"
       ]
      },
      {
       "javascript": [
        "$('div#90964405-33b9-4dc2-9904-34eb8c638ac3').width('14%')"
       ],
       "metadata": {},
       "output_type": "display_data",
       "text": [
        "<IPython.core.display.Javascript at 0x120712590>"
       ]
      },
      {
       "javascript": [
        "$('div#90964405-33b9-4dc2-9904-34eb8c638ac3').width('15%')"
       ],
       "metadata": {},
       "output_type": "display_data",
       "text": [
        "<IPython.core.display.Javascript at 0x120712590>"
       ]
      },
      {
       "javascript": [
        "$('div#90964405-33b9-4dc2-9904-34eb8c638ac3').width('15%')"
       ],
       "metadata": {},
       "output_type": "display_data",
       "text": [
        "<IPython.core.display.Javascript at 0x120712590>"
       ]
      },
      {
       "javascript": [
        "$('div#90964405-33b9-4dc2-9904-34eb8c638ac3').width('16%')"
       ],
       "metadata": {},
       "output_type": "display_data",
       "text": [
        "<IPython.core.display.Javascript at 0x120712590>"
       ]
      },
      {
       "javascript": [
        "$('div#90964405-33b9-4dc2-9904-34eb8c638ac3').width('16%')"
       ],
       "metadata": {},
       "output_type": "display_data",
       "text": [
        "<IPython.core.display.Javascript at 0x120712590>"
       ]
      },
      {
       "javascript": [
        "$('div#90964405-33b9-4dc2-9904-34eb8c638ac3').width('17%')"
       ],
       "metadata": {},
       "output_type": "display_data",
       "text": [
        "<IPython.core.display.Javascript at 0x120712590>"
       ]
      },
      {
       "javascript": [
        "$('div#90964405-33b9-4dc2-9904-34eb8c638ac3').width('17%')"
       ],
       "metadata": {},
       "output_type": "display_data",
       "text": [
        "<IPython.core.display.Javascript at 0x120712590>"
       ]
      },
      {
       "javascript": [
        "$('div#90964405-33b9-4dc2-9904-34eb8c638ac3').width('18%')"
       ],
       "metadata": {},
       "output_type": "display_data",
       "text": [
        "<IPython.core.display.Javascript at 0x120712590>"
       ]
      },
      {
       "javascript": [
        "$('div#90964405-33b9-4dc2-9904-34eb8c638ac3').width('18%')"
       ],
       "metadata": {},
       "output_type": "display_data",
       "text": [
        "<IPython.core.display.Javascript at 0x120712590>"
       ]
      },
      {
       "javascript": [
        "$('div#90964405-33b9-4dc2-9904-34eb8c638ac3').width('19%')"
       ],
       "metadata": {},
       "output_type": "display_data",
       "text": [
        "<IPython.core.display.Javascript at 0x120712590>"
       ]
      },
      {
       "javascript": [
        "$('div#90964405-33b9-4dc2-9904-34eb8c638ac3').width('20%')"
       ],
       "metadata": {},
       "output_type": "display_data",
       "text": [
        "<IPython.core.display.Javascript at 0x120712590>"
       ]
      },
      {
       "javascript": [
        "$('div#90964405-33b9-4dc2-9904-34eb8c638ac3').width('20%')"
       ],
       "metadata": {},
       "output_type": "display_data",
       "text": [
        "<IPython.core.display.Javascript at 0x120712590>"
       ]
      },
      {
       "javascript": [
        "$('div#90964405-33b9-4dc2-9904-34eb8c638ac3').width('21%')"
       ],
       "metadata": {},
       "output_type": "display_data",
       "text": [
        "<IPython.core.display.Javascript at 0x120712590>"
       ]
      },
      {
       "javascript": [
        "$('div#90964405-33b9-4dc2-9904-34eb8c638ac3').width('21%')"
       ],
       "metadata": {},
       "output_type": "display_data",
       "text": [
        "<IPython.core.display.Javascript at 0x120712590>"
       ]
      },
      {
       "javascript": [
        "$('div#90964405-33b9-4dc2-9904-34eb8c638ac3').width('22%')"
       ],
       "metadata": {},
       "output_type": "display_data",
       "text": [
        "<IPython.core.display.Javascript at 0x120712590>"
       ]
      },
      {
       "javascript": [
        "$('div#90964405-33b9-4dc2-9904-34eb8c638ac3').width('22%')"
       ],
       "metadata": {},
       "output_type": "display_data",
       "text": [
        "<IPython.core.display.Javascript at 0x120712590>"
       ]
      },
      {
       "javascript": [
        "$('div#90964405-33b9-4dc2-9904-34eb8c638ac3').width('23%')"
       ],
       "metadata": {},
       "output_type": "display_data",
       "text": [
        "<IPython.core.display.Javascript at 0x120712590>"
       ]
      },
      {
       "javascript": [
        "$('div#90964405-33b9-4dc2-9904-34eb8c638ac3').width('23%')"
       ],
       "metadata": {},
       "output_type": "display_data",
       "text": [
        "<IPython.core.display.Javascript at 0x120712590>"
       ]
      },
      {
       "javascript": [
        "$('div#90964405-33b9-4dc2-9904-34eb8c638ac3').width('24%')"
       ],
       "metadata": {},
       "output_type": "display_data",
       "text": [
        "<IPython.core.display.Javascript at 0x120712590>"
       ]
      },
      {
       "javascript": [
        "$('div#90964405-33b9-4dc2-9904-34eb8c638ac3').width('25%')"
       ],
       "metadata": {},
       "output_type": "display_data",
       "text": [
        "<IPython.core.display.Javascript at 0x120712590>"
       ]
      },
      {
       "javascript": [
        "$('div#90964405-33b9-4dc2-9904-34eb8c638ac3').width('25%')"
       ],
       "metadata": {},
       "output_type": "display_data",
       "text": [
        "<IPython.core.display.Javascript at 0x120712590>"
       ]
      },
      {
       "javascript": [
        "$('div#90964405-33b9-4dc2-9904-34eb8c638ac3').width('26%')"
       ],
       "metadata": {},
       "output_type": "display_data",
       "text": [
        "<IPython.core.display.Javascript at 0x120712590>"
       ]
      },
      {
       "javascript": [
        "$('div#90964405-33b9-4dc2-9904-34eb8c638ac3').width('26%')"
       ],
       "metadata": {},
       "output_type": "display_data",
       "text": [
        "<IPython.core.display.Javascript at 0x120712590>"
       ]
      },
      {
       "javascript": [
        "$('div#90964405-33b9-4dc2-9904-34eb8c638ac3').width('27%')"
       ],
       "metadata": {},
       "output_type": "display_data",
       "text": [
        "<IPython.core.display.Javascript at 0x120712590>"
       ]
      },
      {
       "javascript": [
        "$('div#90964405-33b9-4dc2-9904-34eb8c638ac3').width('27%')"
       ],
       "metadata": {},
       "output_type": "display_data",
       "text": [
        "<IPython.core.display.Javascript at 0x120712590>"
       ]
      },
      {
       "javascript": [
        "$('div#90964405-33b9-4dc2-9904-34eb8c638ac3').width('28%')"
       ],
       "metadata": {},
       "output_type": "display_data",
       "text": [
        "<IPython.core.display.Javascript at 0x120712590>"
       ]
      },
      {
       "javascript": [
        "$('div#90964405-33b9-4dc2-9904-34eb8c638ac3').width('28%')"
       ],
       "metadata": {},
       "output_type": "display_data",
       "text": [
        "<IPython.core.display.Javascript at 0x120712590>"
       ]
      },
      {
       "javascript": [
        "$('div#90964405-33b9-4dc2-9904-34eb8c638ac3').width('29%')"
       ],
       "metadata": {},
       "output_type": "display_data",
       "text": [
        "<IPython.core.display.Javascript at 0x120712590>"
       ]
      },
      {
       "javascript": [
        "$('div#90964405-33b9-4dc2-9904-34eb8c638ac3').width('30%')"
       ],
       "metadata": {},
       "output_type": "display_data",
       "text": [
        "<IPython.core.display.Javascript at 0x120712590>"
       ]
      },
      {
       "javascript": [
        "$('div#90964405-33b9-4dc2-9904-34eb8c638ac3').width('30%')"
       ],
       "metadata": {},
       "output_type": "display_data",
       "text": [
        "<IPython.core.display.Javascript at 0x120712590>"
       ]
      },
      {
       "javascript": [
        "$('div#90964405-33b9-4dc2-9904-34eb8c638ac3').width('31%')"
       ],
       "metadata": {},
       "output_type": "display_data",
       "text": [
        "<IPython.core.display.Javascript at 0x120712590>"
       ]
      },
      {
       "javascript": [
        "$('div#90964405-33b9-4dc2-9904-34eb8c638ac3').width('31%')"
       ],
       "metadata": {},
       "output_type": "display_data",
       "text": [
        "<IPython.core.display.Javascript at 0x120712590>"
       ]
      },
      {
       "javascript": [
        "$('div#90964405-33b9-4dc2-9904-34eb8c638ac3').width('32%')"
       ],
       "metadata": {},
       "output_type": "display_data",
       "text": [
        "<IPython.core.display.Javascript at 0x120712590>"
       ]
      },
      {
       "javascript": [
        "$('div#90964405-33b9-4dc2-9904-34eb8c638ac3').width('32%')"
       ],
       "metadata": {},
       "output_type": "display_data",
       "text": [
        "<IPython.core.display.Javascript at 0x120712590>"
       ]
      },
      {
       "javascript": [
        "$('div#90964405-33b9-4dc2-9904-34eb8c638ac3').width('33%')"
       ],
       "metadata": {},
       "output_type": "display_data",
       "text": [
        "<IPython.core.display.Javascript at 0x120712590>"
       ]
      },
      {
       "javascript": [
        "$('div#90964405-33b9-4dc2-9904-34eb8c638ac3').width('33%')"
       ],
       "metadata": {},
       "output_type": "display_data",
       "text": [
        "<IPython.core.display.Javascript at 0x120712590>"
       ]
      },
      {
       "javascript": [
        "$('div#90964405-33b9-4dc2-9904-34eb8c638ac3').width('34%')"
       ],
       "metadata": {},
       "output_type": "display_data",
       "text": [
        "<IPython.core.display.Javascript at 0x120712590>"
       ]
      },
      {
       "javascript": [
        "$('div#90964405-33b9-4dc2-9904-34eb8c638ac3').width('35%')"
       ],
       "metadata": {},
       "output_type": "display_data",
       "text": [
        "<IPython.core.display.Javascript at 0x120712590>"
       ]
      },
      {
       "javascript": [
        "$('div#90964405-33b9-4dc2-9904-34eb8c638ac3').width('35%')"
       ],
       "metadata": {},
       "output_type": "display_data",
       "text": [
        "<IPython.core.display.Javascript at 0x120712590>"
       ]
      },
      {
       "javascript": [
        "$('div#90964405-33b9-4dc2-9904-34eb8c638ac3').width('36%')"
       ],
       "metadata": {},
       "output_type": "display_data",
       "text": [
        "<IPython.core.display.Javascript at 0x120712590>"
       ]
      },
      {
       "javascript": [
        "$('div#90964405-33b9-4dc2-9904-34eb8c638ac3').width('36%')"
       ],
       "metadata": {},
       "output_type": "display_data",
       "text": [
        "<IPython.core.display.Javascript at 0x120712590>"
       ]
      },
      {
       "javascript": [
        "$('div#90964405-33b9-4dc2-9904-34eb8c638ac3').width('37%')"
       ],
       "metadata": {},
       "output_type": "display_data",
       "text": [
        "<IPython.core.display.Javascript at 0x120712590>"
       ]
      },
      {
       "javascript": [
        "$('div#90964405-33b9-4dc2-9904-34eb8c638ac3').width('37%')"
       ],
       "metadata": {},
       "output_type": "display_data",
       "text": [
        "<IPython.core.display.Javascript at 0x120712590>"
       ]
      },
      {
       "javascript": [
        "$('div#90964405-33b9-4dc2-9904-34eb8c638ac3').width('38%')"
       ],
       "metadata": {},
       "output_type": "display_data",
       "text": [
        "<IPython.core.display.Javascript at 0x120712590>"
       ]
      },
      {
       "javascript": [
        "$('div#90964405-33b9-4dc2-9904-34eb8c638ac3').width('38%')"
       ],
       "metadata": {},
       "output_type": "display_data",
       "text": [
        "<IPython.core.display.Javascript at 0x120712590>"
       ]
      },
      {
       "javascript": [
        "$('div#90964405-33b9-4dc2-9904-34eb8c638ac3').width('39%')"
       ],
       "metadata": {},
       "output_type": "display_data",
       "text": [
        "<IPython.core.display.Javascript at 0x120712590>"
       ]
      },
      {
       "javascript": [
        "$('div#90964405-33b9-4dc2-9904-34eb8c638ac3').width('40%')"
       ],
       "metadata": {},
       "output_type": "display_data",
       "text": [
        "<IPython.core.display.Javascript at 0x120712590>"
       ]
      },
      {
       "javascript": [
        "$('div#90964405-33b9-4dc2-9904-34eb8c638ac3').width('40%')"
       ],
       "metadata": {},
       "output_type": "display_data",
       "text": [
        "<IPython.core.display.Javascript at 0x120712590>"
       ]
      },
      {
       "javascript": [
        "$('div#90964405-33b9-4dc2-9904-34eb8c638ac3').width('41%')"
       ],
       "metadata": {},
       "output_type": "display_data",
       "text": [
        "<IPython.core.display.Javascript at 0x120712590>"
       ]
      },
      {
       "javascript": [
        "$('div#90964405-33b9-4dc2-9904-34eb8c638ac3').width('41%')"
       ],
       "metadata": {},
       "output_type": "display_data",
       "text": [
        "<IPython.core.display.Javascript at 0x120712590>"
       ]
      },
      {
       "javascript": [
        "$('div#90964405-33b9-4dc2-9904-34eb8c638ac3').width('42%')"
       ],
       "metadata": {},
       "output_type": "display_data",
       "text": [
        "<IPython.core.display.Javascript at 0x120712590>"
       ]
      },
      {
       "javascript": [
        "$('div#90964405-33b9-4dc2-9904-34eb8c638ac3').width('42%')"
       ],
       "metadata": {},
       "output_type": "display_data",
       "text": [
        "<IPython.core.display.Javascript at 0x120712590>"
       ]
      },
      {
       "javascript": [
        "$('div#90964405-33b9-4dc2-9904-34eb8c638ac3').width('43%')"
       ],
       "metadata": {},
       "output_type": "display_data",
       "text": [
        "<IPython.core.display.Javascript at 0x120712590>"
       ]
      },
      {
       "javascript": [
        "$('div#90964405-33b9-4dc2-9904-34eb8c638ac3').width('43%')"
       ],
       "metadata": {},
       "output_type": "display_data",
       "text": [
        "<IPython.core.display.Javascript at 0x120712590>"
       ]
      },
      {
       "javascript": [
        "$('div#90964405-33b9-4dc2-9904-34eb8c638ac3').width('44%')"
       ],
       "metadata": {},
       "output_type": "display_data",
       "text": [
        "<IPython.core.display.Javascript at 0x120712590>"
       ]
      },
      {
       "javascript": [
        "$('div#90964405-33b9-4dc2-9904-34eb8c638ac3').width('45%')"
       ],
       "metadata": {},
       "output_type": "display_data",
       "text": [
        "<IPython.core.display.Javascript at 0x120712590>"
       ]
      },
      {
       "javascript": [
        "$('div#90964405-33b9-4dc2-9904-34eb8c638ac3').width('45%')"
       ],
       "metadata": {},
       "output_type": "display_data",
       "text": [
        "<IPython.core.display.Javascript at 0x120712590>"
       ]
      },
      {
       "javascript": [
        "$('div#90964405-33b9-4dc2-9904-34eb8c638ac3').width('46%')"
       ],
       "metadata": {},
       "output_type": "display_data",
       "text": [
        "<IPython.core.display.Javascript at 0x120712590>"
       ]
      },
      {
       "javascript": [
        "$('div#90964405-33b9-4dc2-9904-34eb8c638ac3').width('46%')"
       ],
       "metadata": {},
       "output_type": "display_data",
       "text": [
        "<IPython.core.display.Javascript at 0x120712590>"
       ]
      },
      {
       "javascript": [
        "$('div#90964405-33b9-4dc2-9904-34eb8c638ac3').width('47%')"
       ],
       "metadata": {},
       "output_type": "display_data",
       "text": [
        "<IPython.core.display.Javascript at 0x120712590>"
       ]
      },
      {
       "javascript": [
        "$('div#90964405-33b9-4dc2-9904-34eb8c638ac3').width('47%')"
       ],
       "metadata": {},
       "output_type": "display_data",
       "text": [
        "<IPython.core.display.Javascript at 0x120712590>"
       ]
      },
      {
       "javascript": [
        "$('div#90964405-33b9-4dc2-9904-34eb8c638ac3').width('48%')"
       ],
       "metadata": {},
       "output_type": "display_data",
       "text": [
        "<IPython.core.display.Javascript at 0x120712590>"
       ]
      },
      {
       "javascript": [
        "$('div#90964405-33b9-4dc2-9904-34eb8c638ac3').width('48%')"
       ],
       "metadata": {},
       "output_type": "display_data",
       "text": [
        "<IPython.core.display.Javascript at 0x120712590>"
       ]
      },
      {
       "javascript": [
        "$('div#90964405-33b9-4dc2-9904-34eb8c638ac3').width('49%')"
       ],
       "metadata": {},
       "output_type": "display_data",
       "text": [
        "<IPython.core.display.Javascript at 0x120712590>"
       ]
      },
      {
       "javascript": [
        "$('div#90964405-33b9-4dc2-9904-34eb8c638ac3').width('50%')"
       ],
       "metadata": {},
       "output_type": "display_data",
       "text": [
        "<IPython.core.display.Javascript at 0x120712590>"
       ]
      },
      {
       "javascript": [
        "$('div#90964405-33b9-4dc2-9904-34eb8c638ac3').width('50%')"
       ],
       "metadata": {},
       "output_type": "display_data",
       "text": [
        "<IPython.core.display.Javascript at 0x120712590>"
       ]
      },
      {
       "javascript": [
        "$('div#90964405-33b9-4dc2-9904-34eb8c638ac3').width('51%')"
       ],
       "metadata": {},
       "output_type": "display_data",
       "text": [
        "<IPython.core.display.Javascript at 0x120712590>"
       ]
      },
      {
       "javascript": [
        "$('div#90964405-33b9-4dc2-9904-34eb8c638ac3').width('51%')"
       ],
       "metadata": {},
       "output_type": "display_data",
       "text": [
        "<IPython.core.display.Javascript at 0x120712590>"
       ]
      },
      {
       "javascript": [
        "$('div#90964405-33b9-4dc2-9904-34eb8c638ac3').width('52%')"
       ],
       "metadata": {},
       "output_type": "display_data",
       "text": [
        "<IPython.core.display.Javascript at 0x120712590>"
       ]
      },
      {
       "javascript": [
        "$('div#90964405-33b9-4dc2-9904-34eb8c638ac3').width('52%')"
       ],
       "metadata": {},
       "output_type": "display_data",
       "text": [
        "<IPython.core.display.Javascript at 0x120712590>"
       ]
      },
      {
       "javascript": [
        "$('div#90964405-33b9-4dc2-9904-34eb8c638ac3').width('53%')"
       ],
       "metadata": {},
       "output_type": "display_data",
       "text": [
        "<IPython.core.display.Javascript at 0x120712590>"
       ]
      },
      {
       "javascript": [
        "$('div#90964405-33b9-4dc2-9904-34eb8c638ac3').width('53%')"
       ],
       "metadata": {},
       "output_type": "display_data",
       "text": [
        "<IPython.core.display.Javascript at 0x120712590>"
       ]
      },
      {
       "javascript": [
        "$('div#90964405-33b9-4dc2-9904-34eb8c638ac3').width('54%')"
       ],
       "metadata": {},
       "output_type": "display_data",
       "text": [
        "<IPython.core.display.Javascript at 0x120712590>"
       ]
      },
      {
       "javascript": [
        "$('div#90964405-33b9-4dc2-9904-34eb8c638ac3').width('55%')"
       ],
       "metadata": {},
       "output_type": "display_data",
       "text": [
        "<IPython.core.display.Javascript at 0x120712590>"
       ]
      },
      {
       "javascript": [
        "$('div#90964405-33b9-4dc2-9904-34eb8c638ac3').width('55%')"
       ],
       "metadata": {},
       "output_type": "display_data",
       "text": [
        "<IPython.core.display.Javascript at 0x120712590>"
       ]
      },
      {
       "javascript": [
        "$('div#90964405-33b9-4dc2-9904-34eb8c638ac3').width('56%')"
       ],
       "metadata": {},
       "output_type": "display_data",
       "text": [
        "<IPython.core.display.Javascript at 0x120712590>"
       ]
      },
      {
       "javascript": [
        "$('div#90964405-33b9-4dc2-9904-34eb8c638ac3').width('56%')"
       ],
       "metadata": {},
       "output_type": "display_data",
       "text": [
        "<IPython.core.display.Javascript at 0x120712590>"
       ]
      },
      {
       "javascript": [
        "$('div#90964405-33b9-4dc2-9904-34eb8c638ac3').width('57%')"
       ],
       "metadata": {},
       "output_type": "display_data",
       "text": [
        "<IPython.core.display.Javascript at 0x120712590>"
       ]
      },
      {
       "javascript": [
        "$('div#90964405-33b9-4dc2-9904-34eb8c638ac3').width('57%')"
       ],
       "metadata": {},
       "output_type": "display_data",
       "text": [
        "<IPython.core.display.Javascript at 0x120712590>"
       ]
      },
      {
       "javascript": [
        "$('div#90964405-33b9-4dc2-9904-34eb8c638ac3').width('58%')"
       ],
       "metadata": {},
       "output_type": "display_data",
       "text": [
        "<IPython.core.display.Javascript at 0x120712590>"
       ]
      },
      {
       "javascript": [
        "$('div#90964405-33b9-4dc2-9904-34eb8c638ac3').width('58%')"
       ],
       "metadata": {},
       "output_type": "display_data",
       "text": [
        "<IPython.core.display.Javascript at 0x120712590>"
       ]
      },
      {
       "javascript": [
        "$('div#90964405-33b9-4dc2-9904-34eb8c638ac3').width('59%')"
       ],
       "metadata": {},
       "output_type": "display_data",
       "text": [
        "<IPython.core.display.Javascript at 0x120712590>"
       ]
      },
      {
       "javascript": [
        "$('div#90964405-33b9-4dc2-9904-34eb8c638ac3').width('60%')"
       ],
       "metadata": {},
       "output_type": "display_data",
       "text": [
        "<IPython.core.display.Javascript at 0x120712590>"
       ]
      },
      {
       "javascript": [
        "$('div#90964405-33b9-4dc2-9904-34eb8c638ac3').width('60%')"
       ],
       "metadata": {},
       "output_type": "display_data",
       "text": [
        "<IPython.core.display.Javascript at 0x120712590>"
       ]
      },
      {
       "javascript": [
        "$('div#90964405-33b9-4dc2-9904-34eb8c638ac3').width('61%')"
       ],
       "metadata": {},
       "output_type": "display_data",
       "text": [
        "<IPython.core.display.Javascript at 0x120712590>"
       ]
      },
      {
       "javascript": [
        "$('div#90964405-33b9-4dc2-9904-34eb8c638ac3').width('61%')"
       ],
       "metadata": {},
       "output_type": "display_data",
       "text": [
        "<IPython.core.display.Javascript at 0x120712590>"
       ]
      },
      {
       "javascript": [
        "$('div#90964405-33b9-4dc2-9904-34eb8c638ac3').width('62%')"
       ],
       "metadata": {},
       "output_type": "display_data",
       "text": [
        "<IPython.core.display.Javascript at 0x120712590>"
       ]
      },
      {
       "javascript": [
        "$('div#90964405-33b9-4dc2-9904-34eb8c638ac3').width('62%')"
       ],
       "metadata": {},
       "output_type": "display_data",
       "text": [
        "<IPython.core.display.Javascript at 0x120712590>"
       ]
      },
      {
       "javascript": [
        "$('div#90964405-33b9-4dc2-9904-34eb8c638ac3').width('63%')"
       ],
       "metadata": {},
       "output_type": "display_data",
       "text": [
        "<IPython.core.display.Javascript at 0x120712590>"
       ]
      },
      {
       "javascript": [
        "$('div#90964405-33b9-4dc2-9904-34eb8c638ac3').width('63%')"
       ],
       "metadata": {},
       "output_type": "display_data",
       "text": [
        "<IPython.core.display.Javascript at 0x120712590>"
       ]
      },
      {
       "javascript": [
        "$('div#90964405-33b9-4dc2-9904-34eb8c638ac3').width('64%')"
       ],
       "metadata": {},
       "output_type": "display_data",
       "text": [
        "<IPython.core.display.Javascript at 0x120712590>"
       ]
      },
      {
       "javascript": [
        "$('div#90964405-33b9-4dc2-9904-34eb8c638ac3').width('65%')"
       ],
       "metadata": {},
       "output_type": "display_data",
       "text": [
        "<IPython.core.display.Javascript at 0x120712590>"
       ]
      },
      {
       "javascript": [
        "$('div#90964405-33b9-4dc2-9904-34eb8c638ac3').width('65%')"
       ],
       "metadata": {},
       "output_type": "display_data",
       "text": [
        "<IPython.core.display.Javascript at 0x120712590>"
       ]
      },
      {
       "javascript": [
        "$('div#90964405-33b9-4dc2-9904-34eb8c638ac3').width('66%')"
       ],
       "metadata": {},
       "output_type": "display_data",
       "text": [
        "<IPython.core.display.Javascript at 0x120712590>"
       ]
      },
      {
       "javascript": [
        "$('div#90964405-33b9-4dc2-9904-34eb8c638ac3').width('66%')"
       ],
       "metadata": {},
       "output_type": "display_data",
       "text": [
        "<IPython.core.display.Javascript at 0x120712590>"
       ]
      },
      {
       "javascript": [
        "$('div#90964405-33b9-4dc2-9904-34eb8c638ac3').width('67%')"
       ],
       "metadata": {},
       "output_type": "display_data",
       "text": [
        "<IPython.core.display.Javascript at 0x120712590>"
       ]
      },
      {
       "javascript": [
        "$('div#90964405-33b9-4dc2-9904-34eb8c638ac3').width('67%')"
       ],
       "metadata": {},
       "output_type": "display_data",
       "text": [
        "<IPython.core.display.Javascript at 0x120712590>"
       ]
      },
      {
       "javascript": [
        "$('div#90964405-33b9-4dc2-9904-34eb8c638ac3').width('68%')"
       ],
       "metadata": {},
       "output_type": "display_data",
       "text": [
        "<IPython.core.display.Javascript at 0x120712590>"
       ]
      },
      {
       "javascript": [
        "$('div#90964405-33b9-4dc2-9904-34eb8c638ac3').width('68%')"
       ],
       "metadata": {},
       "output_type": "display_data",
       "text": [
        "<IPython.core.display.Javascript at 0x120712590>"
       ]
      },
      {
       "javascript": [
        "$('div#90964405-33b9-4dc2-9904-34eb8c638ac3').width('69%')"
       ],
       "metadata": {},
       "output_type": "display_data",
       "text": [
        "<IPython.core.display.Javascript at 0x120712590>"
       ]
      },
      {
       "javascript": [
        "$('div#90964405-33b9-4dc2-9904-34eb8c638ac3').width('70%')"
       ],
       "metadata": {},
       "output_type": "display_data",
       "text": [
        "<IPython.core.display.Javascript at 0x120712590>"
       ]
      },
      {
       "javascript": [
        "$('div#90964405-33b9-4dc2-9904-34eb8c638ac3').width('70%')"
       ],
       "metadata": {},
       "output_type": "display_data",
       "text": [
        "<IPython.core.display.Javascript at 0x120712590>"
       ]
      },
      {
       "javascript": [
        "$('div#90964405-33b9-4dc2-9904-34eb8c638ac3').width('71%')"
       ],
       "metadata": {},
       "output_type": "display_data",
       "text": [
        "<IPython.core.display.Javascript at 0x120712590>"
       ]
      },
      {
       "javascript": [
        "$('div#90964405-33b9-4dc2-9904-34eb8c638ac3').width('71%')"
       ],
       "metadata": {},
       "output_type": "display_data",
       "text": [
        "<IPython.core.display.Javascript at 0x120712590>"
       ]
      },
      {
       "javascript": [
        "$('div#90964405-33b9-4dc2-9904-34eb8c638ac3').width('72%')"
       ],
       "metadata": {},
       "output_type": "display_data",
       "text": [
        "<IPython.core.display.Javascript at 0x120712590>"
       ]
      },
      {
       "javascript": [
        "$('div#90964405-33b9-4dc2-9904-34eb8c638ac3').width('72%')"
       ],
       "metadata": {},
       "output_type": "display_data",
       "text": [
        "<IPython.core.display.Javascript at 0x120712590>"
       ]
      },
      {
       "javascript": [
        "$('div#90964405-33b9-4dc2-9904-34eb8c638ac3').width('73%')"
       ],
       "metadata": {},
       "output_type": "display_data",
       "text": [
        "<IPython.core.display.Javascript at 0x120712590>"
       ]
      },
      {
       "javascript": [
        "$('div#90964405-33b9-4dc2-9904-34eb8c638ac3').width('73%')"
       ],
       "metadata": {},
       "output_type": "display_data",
       "text": [
        "<IPython.core.display.Javascript at 0x120712590>"
       ]
      },
      {
       "javascript": [
        "$('div#90964405-33b9-4dc2-9904-34eb8c638ac3').width('74%')"
       ],
       "metadata": {},
       "output_type": "display_data",
       "text": [
        "<IPython.core.display.Javascript at 0x120712590>"
       ]
      },
      {
       "javascript": [
        "$('div#90964405-33b9-4dc2-9904-34eb8c638ac3').width('75%')"
       ],
       "metadata": {},
       "output_type": "display_data",
       "text": [
        "<IPython.core.display.Javascript at 0x120712590>"
       ]
      },
      {
       "javascript": [
        "$('div#90964405-33b9-4dc2-9904-34eb8c638ac3').width('75%')"
       ],
       "metadata": {},
       "output_type": "display_data",
       "text": [
        "<IPython.core.display.Javascript at 0x120712590>"
       ]
      },
      {
       "javascript": [
        "$('div#90964405-33b9-4dc2-9904-34eb8c638ac3').width('76%')"
       ],
       "metadata": {},
       "output_type": "display_data",
       "text": [
        "<IPython.core.display.Javascript at 0x120712590>"
       ]
      },
      {
       "javascript": [
        "$('div#90964405-33b9-4dc2-9904-34eb8c638ac3').width('76%')"
       ],
       "metadata": {},
       "output_type": "display_data",
       "text": [
        "<IPython.core.display.Javascript at 0x120712590>"
       ]
      },
      {
       "javascript": [
        "$('div#90964405-33b9-4dc2-9904-34eb8c638ac3').width('77%')"
       ],
       "metadata": {},
       "output_type": "display_data",
       "text": [
        "<IPython.core.display.Javascript at 0x120712590>"
       ]
      },
      {
       "javascript": [
        "$('div#90964405-33b9-4dc2-9904-34eb8c638ac3').width('77%')"
       ],
       "metadata": {},
       "output_type": "display_data",
       "text": [
        "<IPython.core.display.Javascript at 0x120712590>"
       ]
      },
      {
       "javascript": [
        "$('div#90964405-33b9-4dc2-9904-34eb8c638ac3').width('78%')"
       ],
       "metadata": {},
       "output_type": "display_data",
       "text": [
        "<IPython.core.display.Javascript at 0x120712590>"
       ]
      },
      {
       "javascript": [
        "$('div#90964405-33b9-4dc2-9904-34eb8c638ac3').width('78%')"
       ],
       "metadata": {},
       "output_type": "display_data",
       "text": [
        "<IPython.core.display.Javascript at 0x120712590>"
       ]
      },
      {
       "javascript": [
        "$('div#90964405-33b9-4dc2-9904-34eb8c638ac3').width('79%')"
       ],
       "metadata": {},
       "output_type": "display_data",
       "text": [
        "<IPython.core.display.Javascript at 0x120712590>"
       ]
      },
      {
       "javascript": [
        "$('div#90964405-33b9-4dc2-9904-34eb8c638ac3').width('80%')"
       ],
       "metadata": {},
       "output_type": "display_data",
       "text": [
        "<IPython.core.display.Javascript at 0x120712590>"
       ]
      },
      {
       "javascript": [
        "$('div#90964405-33b9-4dc2-9904-34eb8c638ac3').width('80%')"
       ],
       "metadata": {},
       "output_type": "display_data",
       "text": [
        "<IPython.core.display.Javascript at 0x120712590>"
       ]
      },
      {
       "javascript": [
        "$('div#90964405-33b9-4dc2-9904-34eb8c638ac3').width('81%')"
       ],
       "metadata": {},
       "output_type": "display_data",
       "text": [
        "<IPython.core.display.Javascript at 0x120712590>"
       ]
      },
      {
       "javascript": [
        "$('div#90964405-33b9-4dc2-9904-34eb8c638ac3').width('81%')"
       ],
       "metadata": {},
       "output_type": "display_data",
       "text": [
        "<IPython.core.display.Javascript at 0x120712590>"
       ]
      },
      {
       "javascript": [
        "$('div#90964405-33b9-4dc2-9904-34eb8c638ac3').width('82%')"
       ],
       "metadata": {},
       "output_type": "display_data",
       "text": [
        "<IPython.core.display.Javascript at 0x120712590>"
       ]
      },
      {
       "javascript": [
        "$('div#90964405-33b9-4dc2-9904-34eb8c638ac3').width('82%')"
       ],
       "metadata": {},
       "output_type": "display_data",
       "text": [
        "<IPython.core.display.Javascript at 0x120712590>"
       ]
      },
      {
       "javascript": [
        "$('div#90964405-33b9-4dc2-9904-34eb8c638ac3').width('83%')"
       ],
       "metadata": {},
       "output_type": "display_data",
       "text": [
        "<IPython.core.display.Javascript at 0x120712590>"
       ]
      },
      {
       "javascript": [
        "$('div#90964405-33b9-4dc2-9904-34eb8c638ac3').width('83%')"
       ],
       "metadata": {},
       "output_type": "display_data",
       "text": [
        "<IPython.core.display.Javascript at 0x120712590>"
       ]
      },
      {
       "javascript": [
        "$('div#90964405-33b9-4dc2-9904-34eb8c638ac3').width('84%')"
       ],
       "metadata": {},
       "output_type": "display_data",
       "text": [
        "<IPython.core.display.Javascript at 0x120712590>"
       ]
      },
      {
       "javascript": [
        "$('div#90964405-33b9-4dc2-9904-34eb8c638ac3').width('85%')"
       ],
       "metadata": {},
       "output_type": "display_data",
       "text": [
        "<IPython.core.display.Javascript at 0x120712590>"
       ]
      },
      {
       "javascript": [
        "$('div#90964405-33b9-4dc2-9904-34eb8c638ac3').width('85%')"
       ],
       "metadata": {},
       "output_type": "display_data",
       "text": [
        "<IPython.core.display.Javascript at 0x120712590>"
       ]
      },
      {
       "javascript": [
        "$('div#90964405-33b9-4dc2-9904-34eb8c638ac3').width('86%')"
       ],
       "metadata": {},
       "output_type": "display_data",
       "text": [
        "<IPython.core.display.Javascript at 0x120712590>"
       ]
      },
      {
       "javascript": [
        "$('div#90964405-33b9-4dc2-9904-34eb8c638ac3').width('86%')"
       ],
       "metadata": {},
       "output_type": "display_data",
       "text": [
        "<IPython.core.display.Javascript at 0x120712590>"
       ]
      },
      {
       "javascript": [
        "$('div#90964405-33b9-4dc2-9904-34eb8c638ac3').width('87%')"
       ],
       "metadata": {},
       "output_type": "display_data",
       "text": [
        "<IPython.core.display.Javascript at 0x120712590>"
       ]
      },
      {
       "javascript": [
        "$('div#90964405-33b9-4dc2-9904-34eb8c638ac3').width('87%')"
       ],
       "metadata": {},
       "output_type": "display_data",
       "text": [
        "<IPython.core.display.Javascript at 0x120712590>"
       ]
      },
      {
       "javascript": [
        "$('div#90964405-33b9-4dc2-9904-34eb8c638ac3').width('88%')"
       ],
       "metadata": {},
       "output_type": "display_data",
       "text": [
        "<IPython.core.display.Javascript at 0x120712590>"
       ]
      },
      {
       "javascript": [
        "$('div#90964405-33b9-4dc2-9904-34eb8c638ac3').width('88%')"
       ],
       "metadata": {},
       "output_type": "display_data",
       "text": [
        "<IPython.core.display.Javascript at 0x120712590>"
       ]
      },
      {
       "javascript": [
        "$('div#90964405-33b9-4dc2-9904-34eb8c638ac3').width('89%')"
       ],
       "metadata": {},
       "output_type": "display_data",
       "text": [
        "<IPython.core.display.Javascript at 0x120712590>"
       ]
      },
      {
       "javascript": [
        "$('div#90964405-33b9-4dc2-9904-34eb8c638ac3').width('90%')"
       ],
       "metadata": {},
       "output_type": "display_data",
       "text": [
        "<IPython.core.display.Javascript at 0x120712590>"
       ]
      },
      {
       "javascript": [
        "$('div#90964405-33b9-4dc2-9904-34eb8c638ac3').width('90%')"
       ],
       "metadata": {},
       "output_type": "display_data",
       "text": [
        "<IPython.core.display.Javascript at 0x120712590>"
       ]
      },
      {
       "javascript": [
        "$('div#90964405-33b9-4dc2-9904-34eb8c638ac3').width('91%')"
       ],
       "metadata": {},
       "output_type": "display_data",
       "text": [
        "<IPython.core.display.Javascript at 0x120712590>"
       ]
      },
      {
       "javascript": [
        "$('div#90964405-33b9-4dc2-9904-34eb8c638ac3').width('91%')"
       ],
       "metadata": {},
       "output_type": "display_data",
       "text": [
        "<IPython.core.display.Javascript at 0x120712590>"
       ]
      },
      {
       "javascript": [
        "$('div#90964405-33b9-4dc2-9904-34eb8c638ac3').width('92%')"
       ],
       "metadata": {},
       "output_type": "display_data",
       "text": [
        "<IPython.core.display.Javascript at 0x120712590>"
       ]
      },
      {
       "javascript": [
        "$('div#90964405-33b9-4dc2-9904-34eb8c638ac3').width('92%')"
       ],
       "metadata": {},
       "output_type": "display_data",
       "text": [
        "<IPython.core.display.Javascript at 0x120712590>"
       ]
      },
      {
       "javascript": [
        "$('div#90964405-33b9-4dc2-9904-34eb8c638ac3').width('93%')"
       ],
       "metadata": {},
       "output_type": "display_data",
       "text": [
        "<IPython.core.display.Javascript at 0x120712590>"
       ]
      },
      {
       "javascript": [
        "$('div#90964405-33b9-4dc2-9904-34eb8c638ac3').width('93%')"
       ],
       "metadata": {},
       "output_type": "display_data",
       "text": [
        "<IPython.core.display.Javascript at 0x120712590>"
       ]
      },
      {
       "javascript": [
        "$('div#90964405-33b9-4dc2-9904-34eb8c638ac3').width('94%')"
       ],
       "metadata": {},
       "output_type": "display_data",
       "text": [
        "<IPython.core.display.Javascript at 0x120712590>"
       ]
      },
      {
       "javascript": [
        "$('div#90964405-33b9-4dc2-9904-34eb8c638ac3').width('95%')"
       ],
       "metadata": {},
       "output_type": "display_data",
       "text": [
        "<IPython.core.display.Javascript at 0x120712590>"
       ]
      },
      {
       "javascript": [
        "$('div#90964405-33b9-4dc2-9904-34eb8c638ac3').width('95%')"
       ],
       "metadata": {},
       "output_type": "display_data",
       "text": [
        "<IPython.core.display.Javascript at 0x120712590>"
       ]
      },
      {
       "javascript": [
        "$('div#90964405-33b9-4dc2-9904-34eb8c638ac3').width('96%')"
       ],
       "metadata": {},
       "output_type": "display_data",
       "text": [
        "<IPython.core.display.Javascript at 0x120712590>"
       ]
      },
      {
       "javascript": [
        "$('div#90964405-33b9-4dc2-9904-34eb8c638ac3').width('96%')"
       ],
       "metadata": {},
       "output_type": "display_data",
       "text": [
        "<IPython.core.display.Javascript at 0x120712590>"
       ]
      },
      {
       "javascript": [
        "$('div#90964405-33b9-4dc2-9904-34eb8c638ac3').width('97%')"
       ],
       "metadata": {},
       "output_type": "display_data",
       "text": [
        "<IPython.core.display.Javascript at 0x120712590>"
       ]
      },
      {
       "javascript": [
        "$('div#90964405-33b9-4dc2-9904-34eb8c638ac3').width('97%')"
       ],
       "metadata": {},
       "output_type": "display_data",
       "text": [
        "<IPython.core.display.Javascript at 0x120712590>"
       ]
      },
      {
       "javascript": [
        "$('div#90964405-33b9-4dc2-9904-34eb8c638ac3').width('98%')"
       ],
       "metadata": {},
       "output_type": "display_data",
       "text": [
        "<IPython.core.display.Javascript at 0x120712590>"
       ]
      },
      {
       "javascript": [
        "$('div#90964405-33b9-4dc2-9904-34eb8c638ac3').width('98%')"
       ],
       "metadata": {},
       "output_type": "display_data",
       "text": [
        "<IPython.core.display.Javascript at 0x120712590>"
       ]
      },
      {
       "javascript": [
        "$('div#90964405-33b9-4dc2-9904-34eb8c638ac3').width('99%')"
       ],
       "metadata": {},
       "output_type": "display_data",
       "text": [
        "<IPython.core.display.Javascript at 0x120712590>"
       ]
      },
      {
       "javascript": [
        "$('div#90964405-33b9-4dc2-9904-34eb8c638ac3').width('100%')"
       ],
       "metadata": {},
       "output_type": "display_data",
       "text": [
        "<IPython.core.display.Javascript at 0x120712650>"
       ]
      },
      {
       "html": [
        "<iframe src=http://127.0.0.1:8001/4893998 width=100%% height=420 frameborder=0></iframe>"
       ],
       "metadata": {},
       "output_type": "pyout",
       "prompt_number": 20,
       "text": [
        "<mMR.mMR.UncompressedMeasurement instance at 0x10db28bd8>"
       ]
      }
     ],
     "prompt_number": 20
    },
    {
     "cell_type": "code",
     "collapsed": false,
     "input": [
      "A.display(axis=1,scale_factor=10)"
     ],
     "language": "python",
     "metadata": {},
     "outputs": [],
     "prompt_number": "*"
    },
    {
     "cell_type": "code",
     "collapsed": false,
     "input": [],
     "language": "python",
     "metadata": {},
     "outputs": [],
     "prompt_number": 24
    },
    {
     "cell_type": "code",
     "collapsed": false,
     "input": [
      "SCAN.set_measurement_data(proj)\n",
      "measurement = SCAN.uncompressed_measurement()\n",
      "m = numpy.zeros((128,128,252),dtype=float32,order='F')\n",
      "for i in range(252): \n",
      "    m[:,:,i]=measurement.data[i,0,:,:]\n",
      "SPECT = occiput.Reconstruction.SPECT.SPECT_Static_Scan()\n",
      "SPECT.set_gantry_angular_positions(0,180.0-180.0/252, 252)\n",
      "SPECT.set_measurement(m)"
     ],
     "language": "python",
     "metadata": {},
     "outputs": [],
     "prompt_number": 6
    },
    {
     "cell_type": "code",
     "collapsed": false,
     "input": [
      "SPECT.estimate_activity(iterations=5, subset_size=252)"
     ],
     "language": "python",
     "metadata": {},
     "outputs": [
      {
       "html": [
        "\n",
        "        <div style=\"border: 1px solid white; width:100%%; height:6px; background-color:rgb(200,228,246)\">\n",
        "            <div id=\"d1a33631-4a31-4dcd-85b9-a3fe628c51f2\" style=\"background-color:rgb(47,128,246); width:0%; height:6px\"> </div>\n",
        "        </div> \n",
        "        "
       ],
       "metadata": {},
       "output_type": "display_data",
       "text": [
        "<IPython.core.display.HTML at 0x11535e4d0>"
       ]
      },
      {
       "javascript": [
        "$('div#d1a33631-4a31-4dcd-85b9-a3fe628c51f2').width('1%')"
       ],
       "metadata": {},
       "output_type": "display_data",
       "text": [
        "<IPython.core.display.Javascript at 0x11535e210>"
       ]
      },
      {
       "javascript": [
        "$('div#d1a33631-4a31-4dcd-85b9-a3fe628c51f2').width('20%')"
       ],
       "metadata": {},
       "output_type": "display_data",
       "text": [
        "<IPython.core.display.Javascript at 0x11535e610>"
       ]
      },
      {
       "javascript": [
        "$('div#d1a33631-4a31-4dcd-85b9-a3fe628c51f2').width('40%')"
       ],
       "metadata": {},
       "output_type": "display_data",
       "text": [
        "<IPython.core.display.Javascript at 0x11535e250>"
       ]
      },
      {
       "javascript": [
        "$('div#d1a33631-4a31-4dcd-85b9-a3fe628c51f2').width('60%')"
       ],
       "metadata": {},
       "output_type": "display_data",
       "text": [
        "<IPython.core.display.Javascript at 0x11535e610>"
       ]
      },
      {
       "javascript": [
        "$('div#d1a33631-4a31-4dcd-85b9-a3fe628c51f2').width('80%')"
       ],
       "metadata": {},
       "output_type": "display_data",
       "text": [
        "<IPython.core.display.Javascript at 0x11535e250>"
       ]
      },
      {
       "javascript": [
        "$('div#d1a33631-4a31-4dcd-85b9-a3fe628c51f2').width('100%')"
       ],
       "metadata": {},
       "output_type": "display_data",
       "text": [
        "<IPython.core.display.Javascript at 0x11535e610>"
       ]
      },
      {
       "javascript": [
        "$('div#d1a33631-4a31-4dcd-85b9-a3fe628c51f2').width('100%')"
       ],
       "metadata": {},
       "output_type": "display_data",
       "text": [
        "<IPython.core.display.Javascript at 0x11535e210>"
       ]
      },
      {
       "html": [
        "\n",
        "        <div style=\"border: 1px solid white; width:100%%; height:6px; background-color:rgb(246,246,246)\">\n",
        "            <div id=\"370fc481-137f-4715-a44e-624442eaa559\" style=\"background-color:rgb(200,200,200); width:0%; height:6px\"> </div>\n",
        "        </div> \n",
        "        "
       ],
       "metadata": {},
       "output_type": "display_data",
       "text": [
        "<IPython.core.display.HTML at 0x11535e610>"
       ]
      },
      {
       "javascript": [
        "$('div#370fc481-137f-4715-a44e-624442eaa559').width('1%')"
       ],
       "metadata": {},
       "output_type": "display_data",
       "text": [
        "<IPython.core.display.Javascript at 0x11535e490>"
       ]
      },
      {
       "javascript": [
        "$('div#370fc481-137f-4715-a44e-624442eaa559').width('1%')"
       ],
       "metadata": {},
       "output_type": "display_data",
       "text": [
        "<IPython.core.display.Javascript at 0x11535e490>"
       ]
      },
      {
       "javascript": [
        "$('div#370fc481-137f-4715-a44e-624442eaa559').width('1%')"
       ],
       "metadata": {},
       "output_type": "display_data",
       "text": [
        "<IPython.core.display.Javascript at 0x11535e490>"
       ]
      },
      {
       "javascript": [
        "$('div#370fc481-137f-4715-a44e-624442eaa559').width('2%')"
       ],
       "metadata": {},
       "output_type": "display_data",
       "text": [
        "<IPython.core.display.Javascript at 0x11535e490>"
       ]
      },
      {
       "javascript": [
        "$('div#370fc481-137f-4715-a44e-624442eaa559').width('3%')"
       ],
       "metadata": {},
       "output_type": "display_data",
       "text": [
        "<IPython.core.display.Javascript at 0x11535e490>"
       ]
      },
      {
       "javascript": [
        "$('div#370fc481-137f-4715-a44e-624442eaa559').width('3%')"
       ],
       "metadata": {},
       "output_type": "display_data",
       "text": [
        "<IPython.core.display.Javascript at 0x11535e490>"
       ]
      },
      {
       "javascript": [
        "$('div#370fc481-137f-4715-a44e-624442eaa559').width('4%')"
       ],
       "metadata": {},
       "output_type": "display_data",
       "text": [
        "<IPython.core.display.Javascript at 0x11535e490>"
       ]
      },
      {
       "javascript": [
        "$('div#370fc481-137f-4715-a44e-624442eaa559').width('5%')"
       ],
       "metadata": {},
       "output_type": "display_data",
       "text": [
        "<IPython.core.display.Javascript at 0x11535e490>"
       ]
      },
      {
       "javascript": [
        "$('div#370fc481-137f-4715-a44e-624442eaa559').width('6%')"
       ],
       "metadata": {},
       "output_type": "display_data",
       "text": [
        "<IPython.core.display.Javascript at 0x11535e490>"
       ]
      },
      {
       "javascript": [
        "$('div#370fc481-137f-4715-a44e-624442eaa559').width('7%')"
       ],
       "metadata": {},
       "output_type": "display_data",
       "text": [
        "<IPython.core.display.Javascript at 0x11535e490>"
       ]
      },
      {
       "javascript": [
        "$('div#370fc481-137f-4715-a44e-624442eaa559').width('7%')"
       ],
       "metadata": {},
       "output_type": "display_data",
       "text": [
        "<IPython.core.display.Javascript at 0x11535e490>"
       ]
      },
      {
       "javascript": [
        "$('div#370fc481-137f-4715-a44e-624442eaa559').width('8%')"
       ],
       "metadata": {},
       "output_type": "display_data",
       "text": [
        "<IPython.core.display.Javascript at 0x11535e490>"
       ]
      },
      {
       "javascript": [
        "$('div#370fc481-137f-4715-a44e-624442eaa559').width('9%')"
       ],
       "metadata": {},
       "output_type": "display_data",
       "text": [
        "<IPython.core.display.Javascript at 0x11535e490>"
       ]
      },
      {
       "javascript": [
        "$('div#370fc481-137f-4715-a44e-624442eaa559').width('10%')"
       ],
       "metadata": {},
       "output_type": "display_data",
       "text": [
        "<IPython.core.display.Javascript at 0x11535e490>"
       ]
      },
      {
       "javascript": [
        "$('div#370fc481-137f-4715-a44e-624442eaa559').width('10%')"
       ],
       "metadata": {},
       "output_type": "display_data",
       "text": [
        "<IPython.core.display.Javascript at 0x11535e490>"
       ]
      },
      {
       "javascript": [
        "$('div#370fc481-137f-4715-a44e-624442eaa559').width('11%')"
       ],
       "metadata": {},
       "output_type": "display_data",
       "text": [
        "<IPython.core.display.Javascript at 0x11535e490>"
       ]
      },
      {
       "javascript": [
        "$('div#370fc481-137f-4715-a44e-624442eaa559').width('12%')"
       ],
       "metadata": {},
       "output_type": "display_data",
       "text": [
        "<IPython.core.display.Javascript at 0x11535e490>"
       ]
      },
      {
       "javascript": [
        "$('div#370fc481-137f-4715-a44e-624442eaa559').width('13%')"
       ],
       "metadata": {},
       "output_type": "display_data",
       "text": [
        "<IPython.core.display.Javascript at 0x11535e490>"
       ]
      },
      {
       "javascript": [
        "$('div#370fc481-137f-4715-a44e-624442eaa559').width('14%')"
       ],
       "metadata": {},
       "output_type": "display_data",
       "text": [
        "<IPython.core.display.Javascript at 0x11535e490>"
       ]
      },
      {
       "javascript": [
        "$('div#370fc481-137f-4715-a44e-624442eaa559').width('14%')"
       ],
       "metadata": {},
       "output_type": "display_data",
       "text": [
        "<IPython.core.display.Javascript at 0x11535e490>"
       ]
      },
      {
       "javascript": [
        "$('div#370fc481-137f-4715-a44e-624442eaa559').width('15%')"
       ],
       "metadata": {},
       "output_type": "display_data",
       "text": [
        "<IPython.core.display.Javascript at 0x11535e490>"
       ]
      },
      {
       "javascript": [
        "$('div#370fc481-137f-4715-a44e-624442eaa559').width('16%')"
       ],
       "metadata": {},
       "output_type": "display_data",
       "text": [
        "<IPython.core.display.Javascript at 0x11535e490>"
       ]
      },
      {
       "javascript": [
        "$('div#370fc481-137f-4715-a44e-624442eaa559').width('17%')"
       ],
       "metadata": {},
       "output_type": "display_data",
       "text": [
        "<IPython.core.display.Javascript at 0x11535e490>"
       ]
      },
      {
       "javascript": [
        "$('div#370fc481-137f-4715-a44e-624442eaa559').width('17%')"
       ],
       "metadata": {},
       "output_type": "display_data",
       "text": [
        "<IPython.core.display.Javascript at 0x11535e490>"
       ]
      },
      {
       "javascript": [
        "$('div#370fc481-137f-4715-a44e-624442eaa559').width('18%')"
       ],
       "metadata": {},
       "output_type": "display_data",
       "text": [
        "<IPython.core.display.Javascript at 0x11535e490>"
       ]
      },
      {
       "javascript": [
        "$('div#370fc481-137f-4715-a44e-624442eaa559').width('19%')"
       ],
       "metadata": {},
       "output_type": "display_data",
       "text": [
        "<IPython.core.display.Javascript at 0x11535e490>"
       ]
      },
      {
       "javascript": [
        "$('div#370fc481-137f-4715-a44e-624442eaa559').width('20%')"
       ],
       "metadata": {},
       "output_type": "display_data",
       "text": [
        "<IPython.core.display.Javascript at 0x11535e490>"
       ]
      },
      {
       "javascript": [
        "$('div#370fc481-137f-4715-a44e-624442eaa559').width('21%')"
       ],
       "metadata": {},
       "output_type": "display_data",
       "text": [
        "<IPython.core.display.Javascript at 0x11535e490>"
       ]
      },
      {
       "javascript": [
        "$('div#370fc481-137f-4715-a44e-624442eaa559').width('21%')"
       ],
       "metadata": {},
       "output_type": "display_data",
       "text": [
        "<IPython.core.display.Javascript at 0x11535e490>"
       ]
      },
      {
       "javascript": [
        "$('div#370fc481-137f-4715-a44e-624442eaa559').width('22%')"
       ],
       "metadata": {},
       "output_type": "display_data",
       "text": [
        "<IPython.core.display.Javascript at 0x11535e490>"
       ]
      },
      {
       "javascript": [
        "$('div#370fc481-137f-4715-a44e-624442eaa559').width('23%')"
       ],
       "metadata": {},
       "output_type": "display_data",
       "text": [
        "<IPython.core.display.Javascript at 0x11535e490>"
       ]
      },
      {
       "javascript": [
        "$('div#370fc481-137f-4715-a44e-624442eaa559').width('24%')"
       ],
       "metadata": {},
       "output_type": "display_data",
       "text": [
        "<IPython.core.display.Javascript at 0x11535e490>"
       ]
      },
      {
       "javascript": [
        "$('div#370fc481-137f-4715-a44e-624442eaa559').width('25%')"
       ],
       "metadata": {},
       "output_type": "display_data",
       "text": [
        "<IPython.core.display.Javascript at 0x11535e490>"
       ]
      },
      {
       "javascript": [
        "$('div#370fc481-137f-4715-a44e-624442eaa559').width('25%')"
       ],
       "metadata": {},
       "output_type": "display_data",
       "text": [
        "<IPython.core.display.Javascript at 0x11535e490>"
       ]
      },
      {
       "javascript": [
        "$('div#370fc481-137f-4715-a44e-624442eaa559').width('26%')"
       ],
       "metadata": {},
       "output_type": "display_data",
       "text": [
        "<IPython.core.display.Javascript at 0x11535e490>"
       ]
      },
      {
       "javascript": [
        "$('div#370fc481-137f-4715-a44e-624442eaa559').width('27%')"
       ],
       "metadata": {},
       "output_type": "display_data",
       "text": [
        "<IPython.core.display.Javascript at 0x11535e490>"
       ]
      },
      {
       "javascript": [
        "$('div#370fc481-137f-4715-a44e-624442eaa559').width('28%')"
       ],
       "metadata": {},
       "output_type": "display_data",
       "text": [
        "<IPython.core.display.Javascript at 0x11535e490>"
       ]
      },
      {
       "javascript": [
        "$('div#370fc481-137f-4715-a44e-624442eaa559').width('28%')"
       ],
       "metadata": {},
       "output_type": "display_data",
       "text": [
        "<IPython.core.display.Javascript at 0x11535e490>"
       ]
      },
      {
       "javascript": [
        "$('div#370fc481-137f-4715-a44e-624442eaa559').width('29%')"
       ],
       "metadata": {},
       "output_type": "display_data",
       "text": [
        "<IPython.core.display.Javascript at 0x11535e490>"
       ]
      },
      {
       "javascript": [
        "$('div#370fc481-137f-4715-a44e-624442eaa559').width('30%')"
       ],
       "metadata": {},
       "output_type": "display_data",
       "text": [
        "<IPython.core.display.Javascript at 0x11535e490>"
       ]
      },
      {
       "javascript": [
        "$('div#370fc481-137f-4715-a44e-624442eaa559').width('31%')"
       ],
       "metadata": {},
       "output_type": "display_data",
       "text": [
        "<IPython.core.display.Javascript at 0x11535e490>"
       ]
      },
      {
       "javascript": [
        "$('div#370fc481-137f-4715-a44e-624442eaa559').width('32%')"
       ],
       "metadata": {},
       "output_type": "display_data",
       "text": [
        "<IPython.core.display.Javascript at 0x11535e490>"
       ]
      },
      {
       "javascript": [
        "$('div#370fc481-137f-4715-a44e-624442eaa559').width('32%')"
       ],
       "metadata": {},
       "output_type": "display_data",
       "text": [
        "<IPython.core.display.Javascript at 0x11535e490>"
       ]
      },
      {
       "javascript": [
        "$('div#370fc481-137f-4715-a44e-624442eaa559').width('33%')"
       ],
       "metadata": {},
       "output_type": "display_data",
       "text": [
        "<IPython.core.display.Javascript at 0x11535e490>"
       ]
      },
      {
       "javascript": [
        "$('div#370fc481-137f-4715-a44e-624442eaa559').width('34%')"
       ],
       "metadata": {},
       "output_type": "display_data",
       "text": [
        "<IPython.core.display.Javascript at 0x11535e490>"
       ]
      },
      {
       "javascript": [
        "$('div#370fc481-137f-4715-a44e-624442eaa559').width('35%')"
       ],
       "metadata": {},
       "output_type": "display_data",
       "text": [
        "<IPython.core.display.Javascript at 0x11535e490>"
       ]
      },
      {
       "javascript": [
        "$('div#370fc481-137f-4715-a44e-624442eaa559').width('35%')"
       ],
       "metadata": {},
       "output_type": "display_data",
       "text": [
        "<IPython.core.display.Javascript at 0x11535e490>"
       ]
      },
      {
       "javascript": [
        "$('div#370fc481-137f-4715-a44e-624442eaa559').width('36%')"
       ],
       "metadata": {},
       "output_type": "display_data",
       "text": [
        "<IPython.core.display.Javascript at 0x11535e490>"
       ]
      },
      {
       "javascript": [
        "$('div#370fc481-137f-4715-a44e-624442eaa559').width('37%')"
       ],
       "metadata": {},
       "output_type": "display_data",
       "text": [
        "<IPython.core.display.Javascript at 0x11535e490>"
       ]
      },
      {
       "javascript": [
        "$('div#370fc481-137f-4715-a44e-624442eaa559').width('38%')"
       ],
       "metadata": {},
       "output_type": "display_data",
       "text": [
        "<IPython.core.display.Javascript at 0x11535e490>"
       ]
      },
      {
       "javascript": [
        "$('div#370fc481-137f-4715-a44e-624442eaa559').width('39%')"
       ],
       "metadata": {},
       "output_type": "display_data",
       "text": [
        "<IPython.core.display.Javascript at 0x11535e490>"
       ]
      },
      {
       "javascript": [
        "$('div#370fc481-137f-4715-a44e-624442eaa559').width('39%')"
       ],
       "metadata": {},
       "output_type": "display_data",
       "text": [
        "<IPython.core.display.Javascript at 0x11535e490>"
       ]
      },
      {
       "javascript": [
        "$('div#370fc481-137f-4715-a44e-624442eaa559').width('40%')"
       ],
       "metadata": {},
       "output_type": "display_data",
       "text": [
        "<IPython.core.display.Javascript at 0x11535e490>"
       ]
      },
      {
       "javascript": [
        "$('div#370fc481-137f-4715-a44e-624442eaa559').width('41%')"
       ],
       "metadata": {},
       "output_type": "display_data",
       "text": [
        "<IPython.core.display.Javascript at 0x11535e490>"
       ]
      },
      {
       "javascript": [
        "$('div#370fc481-137f-4715-a44e-624442eaa559').width('42%')"
       ],
       "metadata": {},
       "output_type": "display_data",
       "text": [
        "<IPython.core.display.Javascript at 0x11535e490>"
       ]
      },
      {
       "javascript": [
        "$('div#370fc481-137f-4715-a44e-624442eaa559').width('42%')"
       ],
       "metadata": {},
       "output_type": "display_data",
       "text": [
        "<IPython.core.display.Javascript at 0x11535e490>"
       ]
      },
      {
       "javascript": [
        "$('div#370fc481-137f-4715-a44e-624442eaa559').width('43%')"
       ],
       "metadata": {},
       "output_type": "display_data",
       "text": [
        "<IPython.core.display.Javascript at 0x11535e490>"
       ]
      },
      {
       "javascript": [
        "$('div#370fc481-137f-4715-a44e-624442eaa559').width('44%')"
       ],
       "metadata": {},
       "output_type": "display_data",
       "text": [
        "<IPython.core.display.Javascript at 0x11535e490>"
       ]
      },
      {
       "javascript": [
        "$('div#370fc481-137f-4715-a44e-624442eaa559').width('45%')"
       ],
       "metadata": {},
       "output_type": "display_data",
       "text": [
        "<IPython.core.display.Javascript at 0x11535e490>"
       ]
      },
      {
       "javascript": [
        "$('div#370fc481-137f-4715-a44e-624442eaa559').width('46%')"
       ],
       "metadata": {},
       "output_type": "display_data",
       "text": [
        "<IPython.core.display.Javascript at 0x11535e490>"
       ]
      },
      {
       "javascript": [
        "$('div#370fc481-137f-4715-a44e-624442eaa559').width('46%')"
       ],
       "metadata": {},
       "output_type": "display_data",
       "text": [
        "<IPython.core.display.Javascript at 0x11535e490>"
       ]
      },
      {
       "javascript": [
        "$('div#370fc481-137f-4715-a44e-624442eaa559').width('47%')"
       ],
       "metadata": {},
       "output_type": "display_data",
       "text": [
        "<IPython.core.display.Javascript at 0x11535e490>"
       ]
      },
      {
       "javascript": [
        "$('div#370fc481-137f-4715-a44e-624442eaa559').width('48%')"
       ],
       "metadata": {},
       "output_type": "display_data",
       "text": [
        "<IPython.core.display.Javascript at 0x11535e490>"
       ]
      },
      {
       "javascript": [
        "$('div#370fc481-137f-4715-a44e-624442eaa559').width('49%')"
       ],
       "metadata": {},
       "output_type": "display_data",
       "text": [
        "<IPython.core.display.Javascript at 0x11535e490>"
       ]
      },
      {
       "javascript": [
        "$('div#370fc481-137f-4715-a44e-624442eaa559').width('50%')"
       ],
       "metadata": {},
       "output_type": "display_data",
       "text": [
        "<IPython.core.display.Javascript at 0x11535e490>"
       ]
      },
      {
       "javascript": [
        "$('div#370fc481-137f-4715-a44e-624442eaa559').width('50%')"
       ],
       "metadata": {},
       "output_type": "display_data",
       "text": [
        "<IPython.core.display.Javascript at 0x11535e490>"
       ]
      },
      {
       "javascript": [
        "$('div#370fc481-137f-4715-a44e-624442eaa559').width('51%')"
       ],
       "metadata": {},
       "output_type": "display_data",
       "text": [
        "<IPython.core.display.Javascript at 0x11535e490>"
       ]
      },
      {
       "javascript": [
        "$('div#370fc481-137f-4715-a44e-624442eaa559').width('52%')"
       ],
       "metadata": {},
       "output_type": "display_data",
       "text": [
        "<IPython.core.display.Javascript at 0x11535e490>"
       ]
      },
      {
       "javascript": [
        "$('div#370fc481-137f-4715-a44e-624442eaa559').width('53%')"
       ],
       "metadata": {},
       "output_type": "display_data",
       "text": [
        "<IPython.core.display.Javascript at 0x11535e490>"
       ]
      },
      {
       "javascript": [
        "$('div#370fc481-137f-4715-a44e-624442eaa559').width('53%')"
       ],
       "metadata": {},
       "output_type": "display_data",
       "text": [
        "<IPython.core.display.Javascript at 0x11535e490>"
       ]
      },
      {
       "javascript": [
        "$('div#370fc481-137f-4715-a44e-624442eaa559').width('54%')"
       ],
       "metadata": {},
       "output_type": "display_data",
       "text": [
        "<IPython.core.display.Javascript at 0x11535e490>"
       ]
      },
      {
       "javascript": [
        "$('div#370fc481-137f-4715-a44e-624442eaa559').width('55%')"
       ],
       "metadata": {},
       "output_type": "display_data",
       "text": [
        "<IPython.core.display.Javascript at 0x11535e490>"
       ]
      },
      {
       "javascript": [
        "$('div#370fc481-137f-4715-a44e-624442eaa559').width('56%')"
       ],
       "metadata": {},
       "output_type": "display_data",
       "text": [
        "<IPython.core.display.Javascript at 0x11535e490>"
       ]
      },
      {
       "javascript": [
        "$('div#370fc481-137f-4715-a44e-624442eaa559').width('57%')"
       ],
       "metadata": {},
       "output_type": "display_data",
       "text": [
        "<IPython.core.display.Javascript at 0x11535e490>"
       ]
      },
      {
       "javascript": [
        "$('div#370fc481-137f-4715-a44e-624442eaa559').width('57%')"
       ],
       "metadata": {},
       "output_type": "display_data",
       "text": [
        "<IPython.core.display.Javascript at 0x11535e490>"
       ]
      },
      {
       "javascript": [
        "$('div#370fc481-137f-4715-a44e-624442eaa559').width('58%')"
       ],
       "metadata": {},
       "output_type": "display_data",
       "text": [
        "<IPython.core.display.Javascript at 0x11535e490>"
       ]
      },
      {
       "javascript": [
        "$('div#370fc481-137f-4715-a44e-624442eaa559').width('59%')"
       ],
       "metadata": {},
       "output_type": "display_data",
       "text": [
        "<IPython.core.display.Javascript at 0x11535e490>"
       ]
      },
      {
       "javascript": [
        "$('div#370fc481-137f-4715-a44e-624442eaa559').width('60%')"
       ],
       "metadata": {},
       "output_type": "display_data",
       "text": [
        "<IPython.core.display.Javascript at 0x11535e490>"
       ]
      },
      {
       "javascript": [
        "$('div#370fc481-137f-4715-a44e-624442eaa559').width('60%')"
       ],
       "metadata": {},
       "output_type": "display_data",
       "text": [
        "<IPython.core.display.Javascript at 0x11535e490>"
       ]
      },
      {
       "javascript": [
        "$('div#370fc481-137f-4715-a44e-624442eaa559').width('61%')"
       ],
       "metadata": {},
       "output_type": "display_data",
       "text": [
        "<IPython.core.display.Javascript at 0x11535e490>"
       ]
      },
      {
       "javascript": [
        "$('div#370fc481-137f-4715-a44e-624442eaa559').width('62%')"
       ],
       "metadata": {},
       "output_type": "display_data",
       "text": [
        "<IPython.core.display.Javascript at 0x11535e490>"
       ]
      },
      {
       "javascript": [
        "$('div#370fc481-137f-4715-a44e-624442eaa559').width('63%')"
       ],
       "metadata": {},
       "output_type": "display_data",
       "text": [
        "<IPython.core.display.Javascript at 0x11535e490>"
       ]
      },
      {
       "javascript": [
        "$('div#370fc481-137f-4715-a44e-624442eaa559').width('64%')"
       ],
       "metadata": {},
       "output_type": "display_data",
       "text": [
        "<IPython.core.display.Javascript at 0x11535e490>"
       ]
      },
      {
       "javascript": [
        "$('div#370fc481-137f-4715-a44e-624442eaa559').width('64%')"
       ],
       "metadata": {},
       "output_type": "display_data",
       "text": [
        "<IPython.core.display.Javascript at 0x11535e490>"
       ]
      },
      {
       "javascript": [
        "$('div#370fc481-137f-4715-a44e-624442eaa559').width('65%')"
       ],
       "metadata": {},
       "output_type": "display_data",
       "text": [
        "<IPython.core.display.Javascript at 0x11535e490>"
       ]
      },
      {
       "javascript": [
        "$('div#370fc481-137f-4715-a44e-624442eaa559').width('66%')"
       ],
       "metadata": {},
       "output_type": "display_data",
       "text": [
        "<IPython.core.display.Javascript at 0x11535e490>"
       ]
      },
      {
       "javascript": [
        "$('div#370fc481-137f-4715-a44e-624442eaa559').width('67%')"
       ],
       "metadata": {},
       "output_type": "display_data",
       "text": [
        "<IPython.core.display.Javascript at 0x11535e490>"
       ]
      },
      {
       "javascript": [
        "$('div#370fc481-137f-4715-a44e-624442eaa559').width('67%')"
       ],
       "metadata": {},
       "output_type": "display_data",
       "text": [
        "<IPython.core.display.Javascript at 0x11535e490>"
       ]
      },
      {
       "javascript": [
        "$('div#370fc481-137f-4715-a44e-624442eaa559').width('68%')"
       ],
       "metadata": {},
       "output_type": "display_data",
       "text": [
        "<IPython.core.display.Javascript at 0x11535e490>"
       ]
      },
      {
       "javascript": [
        "$('div#370fc481-137f-4715-a44e-624442eaa559').width('69%')"
       ],
       "metadata": {},
       "output_type": "display_data",
       "text": [
        "<IPython.core.display.Javascript at 0x11535e490>"
       ]
      },
      {
       "javascript": [
        "$('div#370fc481-137f-4715-a44e-624442eaa559').width('70%')"
       ],
       "metadata": {},
       "output_type": "display_data",
       "text": [
        "<IPython.core.display.Javascript at 0x11535e490>"
       ]
      },
      {
       "javascript": [
        "$('div#370fc481-137f-4715-a44e-624442eaa559').width('71%')"
       ],
       "metadata": {},
       "output_type": "display_data",
       "text": [
        "<IPython.core.display.Javascript at 0x11535e490>"
       ]
      },
      {
       "javascript": [
        "$('div#370fc481-137f-4715-a44e-624442eaa559').width('71%')"
       ],
       "metadata": {},
       "output_type": "display_data",
       "text": [
        "<IPython.core.display.Javascript at 0x11535e490>"
       ]
      },
      {
       "javascript": [
        "$('div#370fc481-137f-4715-a44e-624442eaa559').width('72%')"
       ],
       "metadata": {},
       "output_type": "display_data",
       "text": [
        "<IPython.core.display.Javascript at 0x11535e490>"
       ]
      },
      {
       "javascript": [
        "$('div#370fc481-137f-4715-a44e-624442eaa559').width('73%')"
       ],
       "metadata": {},
       "output_type": "display_data",
       "text": [
        "<IPython.core.display.Javascript at 0x11535e490>"
       ]
      },
      {
       "javascript": [
        "$('div#370fc481-137f-4715-a44e-624442eaa559').width('74%')"
       ],
       "metadata": {},
       "output_type": "display_data",
       "text": [
        "<IPython.core.display.Javascript at 0x11535e490>"
       ]
      },
      {
       "javascript": [
        "$('div#370fc481-137f-4715-a44e-624442eaa559').width('75%')"
       ],
       "metadata": {},
       "output_type": "display_data",
       "text": [
        "<IPython.core.display.Javascript at 0x11535e490>"
       ]
      },
      {
       "javascript": [
        "$('div#370fc481-137f-4715-a44e-624442eaa559').width('75%')"
       ],
       "metadata": {},
       "output_type": "display_data",
       "text": [
        "<IPython.core.display.Javascript at 0x11535e490>"
       ]
      },
      {
       "javascript": [
        "$('div#370fc481-137f-4715-a44e-624442eaa559').width('76%')"
       ],
       "metadata": {},
       "output_type": "display_data",
       "text": [
        "<IPython.core.display.Javascript at 0x11535e490>"
       ]
      },
      {
       "javascript": [
        "$('div#370fc481-137f-4715-a44e-624442eaa559').width('77%')"
       ],
       "metadata": {},
       "output_type": "display_data",
       "text": [
        "<IPython.core.display.Javascript at 0x11535e490>"
       ]
      },
      {
       "javascript": [
        "$('div#370fc481-137f-4715-a44e-624442eaa559').width('78%')"
       ],
       "metadata": {},
       "output_type": "display_data",
       "text": [
        "<IPython.core.display.Javascript at 0x11535e490>"
       ]
      },
      {
       "javascript": [
        "$('div#370fc481-137f-4715-a44e-624442eaa559').width('78%')"
       ],
       "metadata": {},
       "output_type": "display_data",
       "text": [
        "<IPython.core.display.Javascript at 0x11535e490>"
       ]
      },
      {
       "javascript": [
        "$('div#370fc481-137f-4715-a44e-624442eaa559').width('79%')"
       ],
       "metadata": {},
       "output_type": "display_data",
       "text": [
        "<IPython.core.display.Javascript at 0x11535e490>"
       ]
      },
      {
       "javascript": [
        "$('div#370fc481-137f-4715-a44e-624442eaa559').width('80%')"
       ],
       "metadata": {},
       "output_type": "display_data",
       "text": [
        "<IPython.core.display.Javascript at 0x11535e490>"
       ]
      },
      {
       "javascript": [
        "$('div#370fc481-137f-4715-a44e-624442eaa559').width('81%')"
       ],
       "metadata": {},
       "output_type": "display_data",
       "text": [
        "<IPython.core.display.Javascript at 0x11535e490>"
       ]
      },
      {
       "javascript": [
        "$('div#370fc481-137f-4715-a44e-624442eaa559').width('82%')"
       ],
       "metadata": {},
       "output_type": "display_data",
       "text": [
        "<IPython.core.display.Javascript at 0x11535e490>"
       ]
      },
      {
       "javascript": [
        "$('div#370fc481-137f-4715-a44e-624442eaa559').width('82%')"
       ],
       "metadata": {},
       "output_type": "display_data",
       "text": [
        "<IPython.core.display.Javascript at 0x11535e490>"
       ]
      },
      {
       "javascript": [
        "$('div#370fc481-137f-4715-a44e-624442eaa559').width('83%')"
       ],
       "metadata": {},
       "output_type": "display_data",
       "text": [
        "<IPython.core.display.Javascript at 0x11535e490>"
       ]
      },
      {
       "javascript": [
        "$('div#370fc481-137f-4715-a44e-624442eaa559').width('84%')"
       ],
       "metadata": {},
       "output_type": "display_data",
       "text": [
        "<IPython.core.display.Javascript at 0x11535e490>"
       ]
      },
      {
       "javascript": [
        "$('div#370fc481-137f-4715-a44e-624442eaa559').width('85%')"
       ],
       "metadata": {},
       "output_type": "display_data",
       "text": [
        "<IPython.core.display.Javascript at 0x11535e490>"
       ]
      },
      {
       "javascript": [
        "$('div#370fc481-137f-4715-a44e-624442eaa559').width('85%')"
       ],
       "metadata": {},
       "output_type": "display_data",
       "text": [
        "<IPython.core.display.Javascript at 0x11535e490>"
       ]
      },
      {
       "javascript": [
        "$('div#370fc481-137f-4715-a44e-624442eaa559').width('86%')"
       ],
       "metadata": {},
       "output_type": "display_data",
       "text": [
        "<IPython.core.display.Javascript at 0x11535e490>"
       ]
      },
      {
       "javascript": [
        "$('div#370fc481-137f-4715-a44e-624442eaa559').width('87%')"
       ],
       "metadata": {},
       "output_type": "display_data",
       "text": [
        "<IPython.core.display.Javascript at 0x11535e490>"
       ]
      },
      {
       "javascript": [
        "$('div#370fc481-137f-4715-a44e-624442eaa559').width('88%')"
       ],
       "metadata": {},
       "output_type": "display_data",
       "text": [
        "<IPython.core.display.Javascript at 0x11535e490>"
       ]
      },
      {
       "javascript": [
        "$('div#370fc481-137f-4715-a44e-624442eaa559').width('89%')"
       ],
       "metadata": {},
       "output_type": "display_data",
       "text": [
        "<IPython.core.display.Javascript at 0x11535e490>"
       ]
      },
      {
       "javascript": [
        "$('div#370fc481-137f-4715-a44e-624442eaa559').width('89%')"
       ],
       "metadata": {},
       "output_type": "display_data",
       "text": [
        "<IPython.core.display.Javascript at 0x11535e490>"
       ]
      },
      {
       "javascript": [
        "$('div#370fc481-137f-4715-a44e-624442eaa559').width('90%')"
       ],
       "metadata": {},
       "output_type": "display_data",
       "text": [
        "<IPython.core.display.Javascript at 0x11535e490>"
       ]
      },
      {
       "javascript": [
        "$('div#370fc481-137f-4715-a44e-624442eaa559').width('91%')"
       ],
       "metadata": {},
       "output_type": "display_data",
       "text": [
        "<IPython.core.display.Javascript at 0x11535e490>"
       ]
      },
      {
       "javascript": [
        "$('div#370fc481-137f-4715-a44e-624442eaa559').width('92%')"
       ],
       "metadata": {},
       "output_type": "display_data",
       "text": [
        "<IPython.core.display.Javascript at 0x11535e490>"
       ]
      },
      {
       "javascript": [
        "$('div#370fc481-137f-4715-a44e-624442eaa559').width('92%')"
       ],
       "metadata": {},
       "output_type": "display_data",
       "text": [
        "<IPython.core.display.Javascript at 0x11535e490>"
       ]
      },
      {
       "javascript": [
        "$('div#370fc481-137f-4715-a44e-624442eaa559').width('93%')"
       ],
       "metadata": {},
       "output_type": "display_data",
       "text": [
        "<IPython.core.display.Javascript at 0x11535e490>"
       ]
      },
      {
       "javascript": [
        "$('div#370fc481-137f-4715-a44e-624442eaa559').width('94%')"
       ],
       "metadata": {},
       "output_type": "display_data",
       "text": [
        "<IPython.core.display.Javascript at 0x11535e490>"
       ]
      },
      {
       "javascript": [
        "$('div#370fc481-137f-4715-a44e-624442eaa559').width('95%')"
       ],
       "metadata": {},
       "output_type": "display_data",
       "text": [
        "<IPython.core.display.Javascript at 0x11535e490>"
       ]
      },
      {
       "javascript": [
        "$('div#370fc481-137f-4715-a44e-624442eaa559').width('96%')"
       ],
       "metadata": {},
       "output_type": "display_data",
       "text": [
        "<IPython.core.display.Javascript at 0x11535e490>"
       ]
      },
      {
       "javascript": [
        "$('div#370fc481-137f-4715-a44e-624442eaa559').width('96%')"
       ],
       "metadata": {},
       "output_type": "display_data",
       "text": [
        "<IPython.core.display.Javascript at 0x11535e490>"
       ]
      },
      {
       "javascript": [
        "$('div#370fc481-137f-4715-a44e-624442eaa559').width('97%')"
       ],
       "metadata": {},
       "output_type": "display_data",
       "text": [
        "<IPython.core.display.Javascript at 0x11535e490>"
       ]
      },
      {
       "javascript": [
        "$('div#370fc481-137f-4715-a44e-624442eaa559').width('98%')"
       ],
       "metadata": {},
       "output_type": "display_data",
       "text": [
        "<IPython.core.display.Javascript at 0x11535e490>"
       ]
      },
      {
       "javascript": [
        "$('div#370fc481-137f-4715-a44e-624442eaa559').width('99%')"
       ],
       "metadata": {},
       "output_type": "display_data",
       "text": [
        "<IPython.core.display.Javascript at 0x11535e490>"
       ]
      },
      {
       "javascript": [
        "$('div#370fc481-137f-4715-a44e-624442eaa559').width('100%')"
       ],
       "metadata": {},
       "output_type": "display_data",
       "text": [
        "<IPython.core.display.Javascript at 0x11535e350>"
       ]
      },
      {
       "html": [
        "<iframe src=http://127.0.0.1:8001/2022044 width=100%% height=420 frameborder=0></iframe>"
       ],
       "metadata": {},
       "output_type": "pyout",
       "prompt_number": 8,
       "text": [
        "<occiput.Core.Volume at 0x11535e210>"
       ]
      }
     ],
     "prompt_number": 8
    },
    {
     "cell_type": "code",
     "collapsed": false,
     "input": [
      "p_spect = SPECT.project(phantom)"
     ],
     "language": "python",
     "metadata": {},
     "outputs": [],
     "prompt_number": 9
    },
    {
     "cell_type": "code",
     "collapsed": false,
     "input": [
      "p_pet = SCAN.uncompress(SCAN.project(phantom))"
     ],
     "language": "python",
     "metadata": {},
     "outputs": [],
     "prompt_number": 10
    },
    {
     "cell_type": "code",
     "collapsed": false,
     "input": [
      "p_spect.display(axis=2)"
     ],
     "language": "python",
     "metadata": {},
     "outputs": [
      {
       "html": [
        "\n",
        "        <div style=\"border: 1px solid white; width:100%%; height:6px; background-color:rgb(246,246,246)\">\n",
        "            <div id=\"01b2264f-7def-4592-9436-21ef02492215\" style=\"background-color:rgb(200,200,200); width:0%; height:6px\"> </div>\n",
        "        </div> \n",
        "        "
       ],
       "metadata": {},
       "output_type": "display_data",
       "text": [
        "<IPython.core.display.HTML at 0x11535eed0>"
       ]
      },
      {
       "javascript": [
        "$('div#01b2264f-7def-4592-9436-21ef02492215').width('1%')"
       ],
       "metadata": {},
       "output_type": "display_data",
       "text": [
        "<IPython.core.display.Javascript at 0x11535e510>"
       ]
      },
      {
       "javascript": [
        "$('div#01b2264f-7def-4592-9436-21ef02492215').width('1%')"
       ],
       "metadata": {},
       "output_type": "display_data",
       "text": [
        "<IPython.core.display.Javascript at 0x11535e650>"
       ]
      },
      {
       "javascript": [
        "$('div#01b2264f-7def-4592-9436-21ef02492215').width('1%')"
       ],
       "metadata": {},
       "output_type": "display_data",
       "text": [
        "<IPython.core.display.Javascript at 0x11535e650>"
       ]
      },
      {
       "javascript": [
        "$('div#01b2264f-7def-4592-9436-21ef02492215').width('1%')"
       ],
       "metadata": {},
       "output_type": "display_data",
       "text": [
        "<IPython.core.display.Javascript at 0x11535e650>"
       ]
      },
      {
       "javascript": [
        "$('div#01b2264f-7def-4592-9436-21ef02492215').width('1%')"
       ],
       "metadata": {},
       "output_type": "display_data",
       "text": [
        "<IPython.core.display.Javascript at 0x11535e650>"
       ]
      },
      {
       "javascript": [
        "$('div#01b2264f-7def-4592-9436-21ef02492215').width('1%')"
       ],
       "metadata": {},
       "output_type": "display_data",
       "text": [
        "<IPython.core.display.Javascript at 0x11535e650>"
       ]
      },
      {
       "javascript": [
        "$('div#01b2264f-7def-4592-9436-21ef02492215').width('2%')"
       ],
       "metadata": {},
       "output_type": "display_data",
       "text": [
        "<IPython.core.display.Javascript at 0x11535e650>"
       ]
      },
      {
       "javascript": [
        "$('div#01b2264f-7def-4592-9436-21ef02492215').width('2%')"
       ],
       "metadata": {},
       "output_type": "display_data",
       "text": [
        "<IPython.core.display.Javascript at 0x11535e650>"
       ]
      },
      {
       "javascript": [
        "$('div#01b2264f-7def-4592-9436-21ef02492215').width('3%')"
       ],
       "metadata": {},
       "output_type": "display_data",
       "text": [
        "<IPython.core.display.Javascript at 0x11535e650>"
       ]
      },
      {
       "javascript": [
        "$('div#01b2264f-7def-4592-9436-21ef02492215').width('3%')"
       ],
       "metadata": {},
       "output_type": "display_data",
       "text": [
        "<IPython.core.display.Javascript at 0x11535e650>"
       ]
      },
      {
       "javascript": [
        "$('div#01b2264f-7def-4592-9436-21ef02492215').width('3%')"
       ],
       "metadata": {},
       "output_type": "display_data",
       "text": [
        "<IPython.core.display.Javascript at 0x11535e650>"
       ]
      },
      {
       "javascript": [
        "$('div#01b2264f-7def-4592-9436-21ef02492215').width('4%')"
       ],
       "metadata": {},
       "output_type": "display_data",
       "text": [
        "<IPython.core.display.Javascript at 0x11535e650>"
       ]
      },
      {
       "javascript": [
        "$('div#01b2264f-7def-4592-9436-21ef02492215').width('4%')"
       ],
       "metadata": {},
       "output_type": "display_data",
       "text": [
        "<IPython.core.display.Javascript at 0x11535e650>"
       ]
      },
      {
       "javascript": [
        "$('div#01b2264f-7def-4592-9436-21ef02492215').width('5%')"
       ],
       "metadata": {},
       "output_type": "display_data",
       "text": [
        "<IPython.core.display.Javascript at 0x11535e650>"
       ]
      },
      {
       "javascript": [
        "$('div#01b2264f-7def-4592-9436-21ef02492215').width('5%')"
       ],
       "metadata": {},
       "output_type": "display_data",
       "text": [
        "<IPython.core.display.Javascript at 0x11535e650>"
       ]
      },
      {
       "javascript": [
        "$('div#01b2264f-7def-4592-9436-21ef02492215').width('5%')"
       ],
       "metadata": {},
       "output_type": "display_data",
       "text": [
        "<IPython.core.display.Javascript at 0x11535e650>"
       ]
      },
      {
       "javascript": [
        "$('div#01b2264f-7def-4592-9436-21ef02492215').width('6%')"
       ],
       "metadata": {},
       "output_type": "display_data",
       "text": [
        "<IPython.core.display.Javascript at 0x11535e650>"
       ]
      },
      {
       "javascript": [
        "$('div#01b2264f-7def-4592-9436-21ef02492215').width('6%')"
       ],
       "metadata": {},
       "output_type": "display_data",
       "text": [
        "<IPython.core.display.Javascript at 0x11535e650>"
       ]
      },
      {
       "javascript": [
        "$('div#01b2264f-7def-4592-9436-21ef02492215').width('7%')"
       ],
       "metadata": {},
       "output_type": "display_data",
       "text": [
        "<IPython.core.display.Javascript at 0x11535e650>"
       ]
      },
      {
       "javascript": [
        "$('div#01b2264f-7def-4592-9436-21ef02492215').width('7%')"
       ],
       "metadata": {},
       "output_type": "display_data",
       "text": [
        "<IPython.core.display.Javascript at 0x11535e650>"
       ]
      },
      {
       "javascript": [
        "$('div#01b2264f-7def-4592-9436-21ef02492215').width('7%')"
       ],
       "metadata": {},
       "output_type": "display_data",
       "text": [
        "<IPython.core.display.Javascript at 0x11535e650>"
       ]
      },
      {
       "javascript": [
        "$('div#01b2264f-7def-4592-9436-21ef02492215').width('8%')"
       ],
       "metadata": {},
       "output_type": "display_data",
       "text": [
        "<IPython.core.display.Javascript at 0x11535e650>"
       ]
      },
      {
       "javascript": [
        "$('div#01b2264f-7def-4592-9436-21ef02492215').width('8%')"
       ],
       "metadata": {},
       "output_type": "display_data",
       "text": [
        "<IPython.core.display.Javascript at 0x11535e650>"
       ]
      },
      {
       "javascript": [
        "$('div#01b2264f-7def-4592-9436-21ef02492215').width('9%')"
       ],
       "metadata": {},
       "output_type": "display_data",
       "text": [
        "<IPython.core.display.Javascript at 0x11535e650>"
       ]
      },
      {
       "javascript": [
        "$('div#01b2264f-7def-4592-9436-21ef02492215').width('9%')"
       ],
       "metadata": {},
       "output_type": "display_data",
       "text": [
        "<IPython.core.display.Javascript at 0x11535e650>"
       ]
      },
      {
       "javascript": [
        "$('div#01b2264f-7def-4592-9436-21ef02492215').width('9%')"
       ],
       "metadata": {},
       "output_type": "display_data",
       "text": [
        "<IPython.core.display.Javascript at 0x11535e650>"
       ]
      },
      {
       "javascript": [
        "$('div#01b2264f-7def-4592-9436-21ef02492215').width('10%')"
       ],
       "metadata": {},
       "output_type": "display_data",
       "text": [
        "<IPython.core.display.Javascript at 0x11535e650>"
       ]
      },
      {
       "javascript": [
        "$('div#01b2264f-7def-4592-9436-21ef02492215').width('10%')"
       ],
       "metadata": {},
       "output_type": "display_data",
       "text": [
        "<IPython.core.display.Javascript at 0x11535e650>"
       ]
      },
      {
       "javascript": [
        "$('div#01b2264f-7def-4592-9436-21ef02492215').width('11%')"
       ],
       "metadata": {},
       "output_type": "display_data",
       "text": [
        "<IPython.core.display.Javascript at 0x11535e650>"
       ]
      },
      {
       "javascript": [
        "$('div#01b2264f-7def-4592-9436-21ef02492215').width('11%')"
       ],
       "metadata": {},
       "output_type": "display_data",
       "text": [
        "<IPython.core.display.Javascript at 0x11535e650>"
       ]
      },
      {
       "javascript": [
        "$('div#01b2264f-7def-4592-9436-21ef02492215').width('11%')"
       ],
       "metadata": {},
       "output_type": "display_data",
       "text": [
        "<IPython.core.display.Javascript at 0x11535e650>"
       ]
      },
      {
       "javascript": [
        "$('div#01b2264f-7def-4592-9436-21ef02492215').width('12%')"
       ],
       "metadata": {},
       "output_type": "display_data",
       "text": [
        "<IPython.core.display.Javascript at 0x11535e650>"
       ]
      },
      {
       "javascript": [
        "$('div#01b2264f-7def-4592-9436-21ef02492215').width('12%')"
       ],
       "metadata": {},
       "output_type": "display_data",
       "text": [
        "<IPython.core.display.Javascript at 0x11535e650>"
       ]
      },
      {
       "javascript": [
        "$('div#01b2264f-7def-4592-9436-21ef02492215').width('13%')"
       ],
       "metadata": {},
       "output_type": "display_data",
       "text": [
        "<IPython.core.display.Javascript at 0x11535e650>"
       ]
      },
      {
       "javascript": [
        "$('div#01b2264f-7def-4592-9436-21ef02492215').width('13%')"
       ],
       "metadata": {},
       "output_type": "display_data",
       "text": [
        "<IPython.core.display.Javascript at 0x11535e650>"
       ]
      },
      {
       "javascript": [
        "$('div#01b2264f-7def-4592-9436-21ef02492215').width('13%')"
       ],
       "metadata": {},
       "output_type": "display_data",
       "text": [
        "<IPython.core.display.Javascript at 0x11535e650>"
       ]
      },
      {
       "javascript": [
        "$('div#01b2264f-7def-4592-9436-21ef02492215').width('14%')"
       ],
       "metadata": {},
       "output_type": "display_data",
       "text": [
        "<IPython.core.display.Javascript at 0x11535e650>"
       ]
      },
      {
       "javascript": [
        "$('div#01b2264f-7def-4592-9436-21ef02492215').width('14%')"
       ],
       "metadata": {},
       "output_type": "display_data",
       "text": [
        "<IPython.core.display.Javascript at 0x11535e650>"
       ]
      },
      {
       "javascript": [
        "$('div#01b2264f-7def-4592-9436-21ef02492215').width('15%')"
       ],
       "metadata": {},
       "output_type": "display_data",
       "text": [
        "<IPython.core.display.Javascript at 0x11535e650>"
       ]
      },
      {
       "javascript": [
        "$('div#01b2264f-7def-4592-9436-21ef02492215').width('15%')"
       ],
       "metadata": {},
       "output_type": "display_data",
       "text": [
        "<IPython.core.display.Javascript at 0x11535e650>"
       ]
      },
      {
       "javascript": [
        "$('div#01b2264f-7def-4592-9436-21ef02492215').width('15%')"
       ],
       "metadata": {},
       "output_type": "display_data",
       "text": [
        "<IPython.core.display.Javascript at 0x11535e650>"
       ]
      },
      {
       "javascript": [
        "$('div#01b2264f-7def-4592-9436-21ef02492215').width('16%')"
       ],
       "metadata": {},
       "output_type": "display_data",
       "text": [
        "<IPython.core.display.Javascript at 0x11535e650>"
       ]
      },
      {
       "javascript": [
        "$('div#01b2264f-7def-4592-9436-21ef02492215').width('16%')"
       ],
       "metadata": {},
       "output_type": "display_data",
       "text": [
        "<IPython.core.display.Javascript at 0x11535e650>"
       ]
      },
      {
       "javascript": [
        "$('div#01b2264f-7def-4592-9436-21ef02492215').width('17%')"
       ],
       "metadata": {},
       "output_type": "display_data",
       "text": [
        "<IPython.core.display.Javascript at 0x11535e650>"
       ]
      },
      {
       "javascript": [
        "$('div#01b2264f-7def-4592-9436-21ef02492215').width('17%')"
       ],
       "metadata": {},
       "output_type": "display_data",
       "text": [
        "<IPython.core.display.Javascript at 0x11535e650>"
       ]
      },
      {
       "javascript": [
        "$('div#01b2264f-7def-4592-9436-21ef02492215').width('17%')"
       ],
       "metadata": {},
       "output_type": "display_data",
       "text": [
        "<IPython.core.display.Javascript at 0x11535e650>"
       ]
      },
      {
       "javascript": [
        "$('div#01b2264f-7def-4592-9436-21ef02492215').width('18%')"
       ],
       "metadata": {},
       "output_type": "display_data",
       "text": [
        "<IPython.core.display.Javascript at 0x11535e650>"
       ]
      },
      {
       "javascript": [
        "$('div#01b2264f-7def-4592-9436-21ef02492215').width('18%')"
       ],
       "metadata": {},
       "output_type": "display_data",
       "text": [
        "<IPython.core.display.Javascript at 0x11535e650>"
       ]
      },
      {
       "javascript": [
        "$('div#01b2264f-7def-4592-9436-21ef02492215').width('19%')"
       ],
       "metadata": {},
       "output_type": "display_data",
       "text": [
        "<IPython.core.display.Javascript at 0x11535e650>"
       ]
      },
      {
       "javascript": [
        "$('div#01b2264f-7def-4592-9436-21ef02492215').width('19%')"
       ],
       "metadata": {},
       "output_type": "display_data",
       "text": [
        "<IPython.core.display.Javascript at 0x11535e650>"
       ]
      },
      {
       "javascript": [
        "$('div#01b2264f-7def-4592-9436-21ef02492215').width('19%')"
       ],
       "metadata": {},
       "output_type": "display_data",
       "text": [
        "<IPython.core.display.Javascript at 0x11535e650>"
       ]
      },
      {
       "javascript": [
        "$('div#01b2264f-7def-4592-9436-21ef02492215').width('20%')"
       ],
       "metadata": {},
       "output_type": "display_data",
       "text": [
        "<IPython.core.display.Javascript at 0x11535e650>"
       ]
      },
      {
       "javascript": [
        "$('div#01b2264f-7def-4592-9436-21ef02492215').width('20%')"
       ],
       "metadata": {},
       "output_type": "display_data",
       "text": [
        "<IPython.core.display.Javascript at 0x11535e650>"
       ]
      },
      {
       "javascript": [
        "$('div#01b2264f-7def-4592-9436-21ef02492215').width('21%')"
       ],
       "metadata": {},
       "output_type": "display_data",
       "text": [
        "<IPython.core.display.Javascript at 0x11535e650>"
       ]
      },
      {
       "javascript": [
        "$('div#01b2264f-7def-4592-9436-21ef02492215').width('21%')"
       ],
       "metadata": {},
       "output_type": "display_data",
       "text": [
        "<IPython.core.display.Javascript at 0x11535e650>"
       ]
      },
      {
       "javascript": [
        "$('div#01b2264f-7def-4592-9436-21ef02492215').width('21%')"
       ],
       "metadata": {},
       "output_type": "display_data",
       "text": [
        "<IPython.core.display.Javascript at 0x11535e650>"
       ]
      },
      {
       "javascript": [
        "$('div#01b2264f-7def-4592-9436-21ef02492215').width('22%')"
       ],
       "metadata": {},
       "output_type": "display_data",
       "text": [
        "<IPython.core.display.Javascript at 0x11535e650>"
       ]
      },
      {
       "javascript": [
        "$('div#01b2264f-7def-4592-9436-21ef02492215').width('22%')"
       ],
       "metadata": {},
       "output_type": "display_data",
       "text": [
        "<IPython.core.display.Javascript at 0x11535e650>"
       ]
      },
      {
       "javascript": [
        "$('div#01b2264f-7def-4592-9436-21ef02492215').width('23%')"
       ],
       "metadata": {},
       "output_type": "display_data",
       "text": [
        "<IPython.core.display.Javascript at 0x11535e650>"
       ]
      },
      {
       "javascript": [
        "$('div#01b2264f-7def-4592-9436-21ef02492215').width('23%')"
       ],
       "metadata": {},
       "output_type": "display_data",
       "text": [
        "<IPython.core.display.Javascript at 0x11535e650>"
       ]
      },
      {
       "javascript": [
        "$('div#01b2264f-7def-4592-9436-21ef02492215').width('23%')"
       ],
       "metadata": {},
       "output_type": "display_data",
       "text": [
        "<IPython.core.display.Javascript at 0x11535e650>"
       ]
      },
      {
       "javascript": [
        "$('div#01b2264f-7def-4592-9436-21ef02492215').width('24%')"
       ],
       "metadata": {},
       "output_type": "display_data",
       "text": [
        "<IPython.core.display.Javascript at 0x11535e650>"
       ]
      },
      {
       "javascript": [
        "$('div#01b2264f-7def-4592-9436-21ef02492215').width('24%')"
       ],
       "metadata": {},
       "output_type": "display_data",
       "text": [
        "<IPython.core.display.Javascript at 0x11535e650>"
       ]
      },
      {
       "javascript": [
        "$('div#01b2264f-7def-4592-9436-21ef02492215').width('25%')"
       ],
       "metadata": {},
       "output_type": "display_data",
       "text": [
        "<IPython.core.display.Javascript at 0x11535e650>"
       ]
      },
      {
       "javascript": [
        "$('div#01b2264f-7def-4592-9436-21ef02492215').width('25%')"
       ],
       "metadata": {},
       "output_type": "display_data",
       "text": [
        "<IPython.core.display.Javascript at 0x11535e650>"
       ]
      },
      {
       "javascript": [
        "$('div#01b2264f-7def-4592-9436-21ef02492215').width('25%')"
       ],
       "metadata": {},
       "output_type": "display_data",
       "text": [
        "<IPython.core.display.Javascript at 0x11535e650>"
       ]
      },
      {
       "javascript": [
        "$('div#01b2264f-7def-4592-9436-21ef02492215').width('26%')"
       ],
       "metadata": {},
       "output_type": "display_data",
       "text": [
        "<IPython.core.display.Javascript at 0x11535e650>"
       ]
      },
      {
       "javascript": [
        "$('div#01b2264f-7def-4592-9436-21ef02492215').width('26%')"
       ],
       "metadata": {},
       "output_type": "display_data",
       "text": [
        "<IPython.core.display.Javascript at 0x11535e650>"
       ]
      },
      {
       "javascript": [
        "$('div#01b2264f-7def-4592-9436-21ef02492215').width('26%')"
       ],
       "metadata": {},
       "output_type": "display_data",
       "text": [
        "<IPython.core.display.Javascript at 0x11535e650>"
       ]
      },
      {
       "javascript": [
        "$('div#01b2264f-7def-4592-9436-21ef02492215').width('27%')"
       ],
       "metadata": {},
       "output_type": "display_data",
       "text": [
        "<IPython.core.display.Javascript at 0x11535e650>"
       ]
      },
      {
       "javascript": [
        "$('div#01b2264f-7def-4592-9436-21ef02492215').width('27%')"
       ],
       "metadata": {},
       "output_type": "display_data",
       "text": [
        "<IPython.core.display.Javascript at 0x11535e650>"
       ]
      },
      {
       "javascript": [
        "$('div#01b2264f-7def-4592-9436-21ef02492215').width('28%')"
       ],
       "metadata": {},
       "output_type": "display_data",
       "text": [
        "<IPython.core.display.Javascript at 0x11535e650>"
       ]
      },
      {
       "javascript": [
        "$('div#01b2264f-7def-4592-9436-21ef02492215').width('28%')"
       ],
       "metadata": {},
       "output_type": "display_data",
       "text": [
        "<IPython.core.display.Javascript at 0x11535e650>"
       ]
      },
      {
       "javascript": [
        "$('div#01b2264f-7def-4592-9436-21ef02492215').width('28%')"
       ],
       "metadata": {},
       "output_type": "display_data",
       "text": [
        "<IPython.core.display.Javascript at 0x11535e650>"
       ]
      },
      {
       "javascript": [
        "$('div#01b2264f-7def-4592-9436-21ef02492215').width('29%')"
       ],
       "metadata": {},
       "output_type": "display_data",
       "text": [
        "<IPython.core.display.Javascript at 0x11535e650>"
       ]
      },
      {
       "javascript": [
        "$('div#01b2264f-7def-4592-9436-21ef02492215').width('29%')"
       ],
       "metadata": {},
       "output_type": "display_data",
       "text": [
        "<IPython.core.display.Javascript at 0x11535e650>"
       ]
      },
      {
       "javascript": [
        "$('div#01b2264f-7def-4592-9436-21ef02492215').width('30%')"
       ],
       "metadata": {},
       "output_type": "display_data",
       "text": [
        "<IPython.core.display.Javascript at 0x11535e650>"
       ]
      },
      {
       "javascript": [
        "$('div#01b2264f-7def-4592-9436-21ef02492215').width('30%')"
       ],
       "metadata": {},
       "output_type": "display_data",
       "text": [
        "<IPython.core.display.Javascript at 0x11535e650>"
       ]
      },
      {
       "javascript": [
        "$('div#01b2264f-7def-4592-9436-21ef02492215').width('30%')"
       ],
       "metadata": {},
       "output_type": "display_data",
       "text": [
        "<IPython.core.display.Javascript at 0x11535e650>"
       ]
      },
      {
       "javascript": [
        "$('div#01b2264f-7def-4592-9436-21ef02492215').width('31%')"
       ],
       "metadata": {},
       "output_type": "display_data",
       "text": [
        "<IPython.core.display.Javascript at 0x11535e650>"
       ]
      },
      {
       "javascript": [
        "$('div#01b2264f-7def-4592-9436-21ef02492215').width('31%')"
       ],
       "metadata": {},
       "output_type": "display_data",
       "text": [
        "<IPython.core.display.Javascript at 0x11535e650>"
       ]
      },
      {
       "javascript": [
        "$('div#01b2264f-7def-4592-9436-21ef02492215').width('32%')"
       ],
       "metadata": {},
       "output_type": "display_data",
       "text": [
        "<IPython.core.display.Javascript at 0x11535e650>"
       ]
      },
      {
       "javascript": [
        "$('div#01b2264f-7def-4592-9436-21ef02492215').width('32%')"
       ],
       "metadata": {},
       "output_type": "display_data",
       "text": [
        "<IPython.core.display.Javascript at 0x11535e650>"
       ]
      },
      {
       "javascript": [
        "$('div#01b2264f-7def-4592-9436-21ef02492215').width('32%')"
       ],
       "metadata": {},
       "output_type": "display_data",
       "text": [
        "<IPython.core.display.Javascript at 0x11535e650>"
       ]
      },
      {
       "javascript": [
        "$('div#01b2264f-7def-4592-9436-21ef02492215').width('33%')"
       ],
       "metadata": {},
       "output_type": "display_data",
       "text": [
        "<IPython.core.display.Javascript at 0x11535e650>"
       ]
      },
      {
       "javascript": [
        "$('div#01b2264f-7def-4592-9436-21ef02492215').width('33%')"
       ],
       "metadata": {},
       "output_type": "display_data",
       "text": [
        "<IPython.core.display.Javascript at 0x11535e650>"
       ]
      },
      {
       "javascript": [
        "$('div#01b2264f-7def-4592-9436-21ef02492215').width('34%')"
       ],
       "metadata": {},
       "output_type": "display_data",
       "text": [
        "<IPython.core.display.Javascript at 0x11535e650>"
       ]
      },
      {
       "javascript": [
        "$('div#01b2264f-7def-4592-9436-21ef02492215').width('34%')"
       ],
       "metadata": {},
       "output_type": "display_data",
       "text": [
        "<IPython.core.display.Javascript at 0x11535e650>"
       ]
      },
      {
       "javascript": [
        "$('div#01b2264f-7def-4592-9436-21ef02492215').width('34%')"
       ],
       "metadata": {},
       "output_type": "display_data",
       "text": [
        "<IPython.core.display.Javascript at 0x11535e650>"
       ]
      },
      {
       "javascript": [
        "$('div#01b2264f-7def-4592-9436-21ef02492215').width('35%')"
       ],
       "metadata": {},
       "output_type": "display_data",
       "text": [
        "<IPython.core.display.Javascript at 0x11535e650>"
       ]
      },
      {
       "javascript": [
        "$('div#01b2264f-7def-4592-9436-21ef02492215').width('35%')"
       ],
       "metadata": {},
       "output_type": "display_data",
       "text": [
        "<IPython.core.display.Javascript at 0x11535e650>"
       ]
      },
      {
       "javascript": [
        "$('div#01b2264f-7def-4592-9436-21ef02492215').width('36%')"
       ],
       "metadata": {},
       "output_type": "display_data",
       "text": [
        "<IPython.core.display.Javascript at 0x11535e650>"
       ]
      },
      {
       "javascript": [
        "$('div#01b2264f-7def-4592-9436-21ef02492215').width('36%')"
       ],
       "metadata": {},
       "output_type": "display_data",
       "text": [
        "<IPython.core.display.Javascript at 0x11535e650>"
       ]
      },
      {
       "javascript": [
        "$('div#01b2264f-7def-4592-9436-21ef02492215').width('36%')"
       ],
       "metadata": {},
       "output_type": "display_data",
       "text": [
        "<IPython.core.display.Javascript at 0x11535e650>"
       ]
      },
      {
       "javascript": [
        "$('div#01b2264f-7def-4592-9436-21ef02492215').width('37%')"
       ],
       "metadata": {},
       "output_type": "display_data",
       "text": [
        "<IPython.core.display.Javascript at 0x11535e650>"
       ]
      },
      {
       "javascript": [
        "$('div#01b2264f-7def-4592-9436-21ef02492215').width('37%')"
       ],
       "metadata": {},
       "output_type": "display_data",
       "text": [
        "<IPython.core.display.Javascript at 0x11535e650>"
       ]
      },
      {
       "javascript": [
        "$('div#01b2264f-7def-4592-9436-21ef02492215').width('38%')"
       ],
       "metadata": {},
       "output_type": "display_data",
       "text": [
        "<IPython.core.display.Javascript at 0x11535e650>"
       ]
      },
      {
       "javascript": [
        "$('div#01b2264f-7def-4592-9436-21ef02492215').width('38%')"
       ],
       "metadata": {},
       "output_type": "display_data",
       "text": [
        "<IPython.core.display.Javascript at 0x11535e650>"
       ]
      },
      {
       "javascript": [
        "$('div#01b2264f-7def-4592-9436-21ef02492215').width('38%')"
       ],
       "metadata": {},
       "output_type": "display_data",
       "text": [
        "<IPython.core.display.Javascript at 0x11535e650>"
       ]
      },
      {
       "javascript": [
        "$('div#01b2264f-7def-4592-9436-21ef02492215').width('39%')"
       ],
       "metadata": {},
       "output_type": "display_data",
       "text": [
        "<IPython.core.display.Javascript at 0x11535e650>"
       ]
      },
      {
       "javascript": [
        "$('div#01b2264f-7def-4592-9436-21ef02492215').width('39%')"
       ],
       "metadata": {},
       "output_type": "display_data",
       "text": [
        "<IPython.core.display.Javascript at 0x11535e650>"
       ]
      },
      {
       "javascript": [
        "$('div#01b2264f-7def-4592-9436-21ef02492215').width('40%')"
       ],
       "metadata": {},
       "output_type": "display_data",
       "text": [
        "<IPython.core.display.Javascript at 0x11535e650>"
       ]
      },
      {
       "javascript": [
        "$('div#01b2264f-7def-4592-9436-21ef02492215').width('40%')"
       ],
       "metadata": {},
       "output_type": "display_data",
       "text": [
        "<IPython.core.display.Javascript at 0x11535e650>"
       ]
      },
      {
       "javascript": [
        "$('div#01b2264f-7def-4592-9436-21ef02492215').width('40%')"
       ],
       "metadata": {},
       "output_type": "display_data",
       "text": [
        "<IPython.core.display.Javascript at 0x11535e650>"
       ]
      },
      {
       "javascript": [
        "$('div#01b2264f-7def-4592-9436-21ef02492215').width('41%')"
       ],
       "metadata": {},
       "output_type": "display_data",
       "text": [
        "<IPython.core.display.Javascript at 0x11535e650>"
       ]
      },
      {
       "javascript": [
        "$('div#01b2264f-7def-4592-9436-21ef02492215').width('41%')"
       ],
       "metadata": {},
       "output_type": "display_data",
       "text": [
        "<IPython.core.display.Javascript at 0x11535e650>"
       ]
      },
      {
       "javascript": [
        "$('div#01b2264f-7def-4592-9436-21ef02492215').width('42%')"
       ],
       "metadata": {},
       "output_type": "display_data",
       "text": [
        "<IPython.core.display.Javascript at 0x11535e650>"
       ]
      },
      {
       "javascript": [
        "$('div#01b2264f-7def-4592-9436-21ef02492215').width('42%')"
       ],
       "metadata": {},
       "output_type": "display_data",
       "text": [
        "<IPython.core.display.Javascript at 0x11535e650>"
       ]
      },
      {
       "javascript": [
        "$('div#01b2264f-7def-4592-9436-21ef02492215').width('42%')"
       ],
       "metadata": {},
       "output_type": "display_data",
       "text": [
        "<IPython.core.display.Javascript at 0x11535e650>"
       ]
      },
      {
       "javascript": [
        "$('div#01b2264f-7def-4592-9436-21ef02492215').width('43%')"
       ],
       "metadata": {},
       "output_type": "display_data",
       "text": [
        "<IPython.core.display.Javascript at 0x11535e650>"
       ]
      },
      {
       "javascript": [
        "$('div#01b2264f-7def-4592-9436-21ef02492215').width('43%')"
       ],
       "metadata": {},
       "output_type": "display_data",
       "text": [
        "<IPython.core.display.Javascript at 0x11535e650>"
       ]
      },
      {
       "javascript": [
        "$('div#01b2264f-7def-4592-9436-21ef02492215').width('44%')"
       ],
       "metadata": {},
       "output_type": "display_data",
       "text": [
        "<IPython.core.display.Javascript at 0x11535e650>"
       ]
      },
      {
       "javascript": [
        "$('div#01b2264f-7def-4592-9436-21ef02492215').width('44%')"
       ],
       "metadata": {},
       "output_type": "display_data",
       "text": [
        "<IPython.core.display.Javascript at 0x11535e650>"
       ]
      },
      {
       "javascript": [
        "$('div#01b2264f-7def-4592-9436-21ef02492215').width('44%')"
       ],
       "metadata": {},
       "output_type": "display_data",
       "text": [
        "<IPython.core.display.Javascript at 0x11535e650>"
       ]
      },
      {
       "javascript": [
        "$('div#01b2264f-7def-4592-9436-21ef02492215').width('45%')"
       ],
       "metadata": {},
       "output_type": "display_data",
       "text": [
        "<IPython.core.display.Javascript at 0x11535e650>"
       ]
      },
      {
       "javascript": [
        "$('div#01b2264f-7def-4592-9436-21ef02492215').width('45%')"
       ],
       "metadata": {},
       "output_type": "display_data",
       "text": [
        "<IPython.core.display.Javascript at 0x11535e650>"
       ]
      },
      {
       "javascript": [
        "$('div#01b2264f-7def-4592-9436-21ef02492215').width('46%')"
       ],
       "metadata": {},
       "output_type": "display_data",
       "text": [
        "<IPython.core.display.Javascript at 0x11535e650>"
       ]
      },
      {
       "javascript": [
        "$('div#01b2264f-7def-4592-9436-21ef02492215').width('46%')"
       ],
       "metadata": {},
       "output_type": "display_data",
       "text": [
        "<IPython.core.display.Javascript at 0x11535e650>"
       ]
      },
      {
       "javascript": [
        "$('div#01b2264f-7def-4592-9436-21ef02492215').width('46%')"
       ],
       "metadata": {},
       "output_type": "display_data",
       "text": [
        "<IPython.core.display.Javascript at 0x11535e650>"
       ]
      },
      {
       "javascript": [
        "$('div#01b2264f-7def-4592-9436-21ef02492215').width('47%')"
       ],
       "metadata": {},
       "output_type": "display_data",
       "text": [
        "<IPython.core.display.Javascript at 0x11535e650>"
       ]
      },
      {
       "javascript": [
        "$('div#01b2264f-7def-4592-9436-21ef02492215').width('47%')"
       ],
       "metadata": {},
       "output_type": "display_data",
       "text": [
        "<IPython.core.display.Javascript at 0x11535e650>"
       ]
      },
      {
       "javascript": [
        "$('div#01b2264f-7def-4592-9436-21ef02492215').width('48%')"
       ],
       "metadata": {},
       "output_type": "display_data",
       "text": [
        "<IPython.core.display.Javascript at 0x11535e650>"
       ]
      },
      {
       "javascript": [
        "$('div#01b2264f-7def-4592-9436-21ef02492215').width('48%')"
       ],
       "metadata": {},
       "output_type": "display_data",
       "text": [
        "<IPython.core.display.Javascript at 0x11535e650>"
       ]
      },
      {
       "javascript": [
        "$('div#01b2264f-7def-4592-9436-21ef02492215').width('48%')"
       ],
       "metadata": {},
       "output_type": "display_data",
       "text": [
        "<IPython.core.display.Javascript at 0x11535e650>"
       ]
      },
      {
       "javascript": [
        "$('div#01b2264f-7def-4592-9436-21ef02492215').width('49%')"
       ],
       "metadata": {},
       "output_type": "display_data",
       "text": [
        "<IPython.core.display.Javascript at 0x11535e650>"
       ]
      },
      {
       "javascript": [
        "$('div#01b2264f-7def-4592-9436-21ef02492215').width('49%')"
       ],
       "metadata": {},
       "output_type": "display_data",
       "text": [
        "<IPython.core.display.Javascript at 0x11535e650>"
       ]
      },
      {
       "javascript": [
        "$('div#01b2264f-7def-4592-9436-21ef02492215').width('50%')"
       ],
       "metadata": {},
       "output_type": "display_data",
       "text": [
        "<IPython.core.display.Javascript at 0x11535e650>"
       ]
      },
      {
       "javascript": [
        "$('div#01b2264f-7def-4592-9436-21ef02492215').width('50%')"
       ],
       "metadata": {},
       "output_type": "display_data",
       "text": [
        "<IPython.core.display.Javascript at 0x11535e650>"
       ]
      },
      {
       "javascript": [
        "$('div#01b2264f-7def-4592-9436-21ef02492215').width('50%')"
       ],
       "metadata": {},
       "output_type": "display_data",
       "text": [
        "<IPython.core.display.Javascript at 0x11535e650>"
       ]
      },
      {
       "javascript": [
        "$('div#01b2264f-7def-4592-9436-21ef02492215').width('51%')"
       ],
       "metadata": {},
       "output_type": "display_data",
       "text": [
        "<IPython.core.display.Javascript at 0x11535e650>"
       ]
      },
      {
       "javascript": [
        "$('div#01b2264f-7def-4592-9436-21ef02492215').width('51%')"
       ],
       "metadata": {},
       "output_type": "display_data",
       "text": [
        "<IPython.core.display.Javascript at 0x11535e650>"
       ]
      },
      {
       "javascript": [
        "$('div#01b2264f-7def-4592-9436-21ef02492215').width('51%')"
       ],
       "metadata": {},
       "output_type": "display_data",
       "text": [
        "<IPython.core.display.Javascript at 0x11535e650>"
       ]
      },
      {
       "javascript": [
        "$('div#01b2264f-7def-4592-9436-21ef02492215').width('52%')"
       ],
       "metadata": {},
       "output_type": "display_data",
       "text": [
        "<IPython.core.display.Javascript at 0x11535e650>"
       ]
      },
      {
       "javascript": [
        "$('div#01b2264f-7def-4592-9436-21ef02492215').width('52%')"
       ],
       "metadata": {},
       "output_type": "display_data",
       "text": [
        "<IPython.core.display.Javascript at 0x11535e650>"
       ]
      },
      {
       "javascript": [
        "$('div#01b2264f-7def-4592-9436-21ef02492215').width('53%')"
       ],
       "metadata": {},
       "output_type": "display_data",
       "text": [
        "<IPython.core.display.Javascript at 0x11535e650>"
       ]
      },
      {
       "javascript": [
        "$('div#01b2264f-7def-4592-9436-21ef02492215').width('53%')"
       ],
       "metadata": {},
       "output_type": "display_data",
       "text": [
        "<IPython.core.display.Javascript at 0x11535e650>"
       ]
      },
      {
       "javascript": [
        "$('div#01b2264f-7def-4592-9436-21ef02492215').width('53%')"
       ],
       "metadata": {},
       "output_type": "display_data",
       "text": [
        "<IPython.core.display.Javascript at 0x11535e650>"
       ]
      },
      {
       "javascript": [
        "$('div#01b2264f-7def-4592-9436-21ef02492215').width('54%')"
       ],
       "metadata": {},
       "output_type": "display_data",
       "text": [
        "<IPython.core.display.Javascript at 0x11535e650>"
       ]
      },
      {
       "javascript": [
        "$('div#01b2264f-7def-4592-9436-21ef02492215').width('54%')"
       ],
       "metadata": {},
       "output_type": "display_data",
       "text": [
        "<IPython.core.display.Javascript at 0x11535e650>"
       ]
      },
      {
       "javascript": [
        "$('div#01b2264f-7def-4592-9436-21ef02492215').width('55%')"
       ],
       "metadata": {},
       "output_type": "display_data",
       "text": [
        "<IPython.core.display.Javascript at 0x11535e650>"
       ]
      },
      {
       "javascript": [
        "$('div#01b2264f-7def-4592-9436-21ef02492215').width('55%')"
       ],
       "metadata": {},
       "output_type": "display_data",
       "text": [
        "<IPython.core.display.Javascript at 0x11535e650>"
       ]
      },
      {
       "javascript": [
        "$('div#01b2264f-7def-4592-9436-21ef02492215').width('55%')"
       ],
       "metadata": {},
       "output_type": "display_data",
       "text": [
        "<IPython.core.display.Javascript at 0x11535e650>"
       ]
      },
      {
       "javascript": [
        "$('div#01b2264f-7def-4592-9436-21ef02492215').width('56%')"
       ],
       "metadata": {},
       "output_type": "display_data",
       "text": [
        "<IPython.core.display.Javascript at 0x11535e650>"
       ]
      },
      {
       "javascript": [
        "$('div#01b2264f-7def-4592-9436-21ef02492215').width('56%')"
       ],
       "metadata": {},
       "output_type": "display_data",
       "text": [
        "<IPython.core.display.Javascript at 0x11535e650>"
       ]
      },
      {
       "javascript": [
        "$('div#01b2264f-7def-4592-9436-21ef02492215').width('57%')"
       ],
       "metadata": {},
       "output_type": "display_data",
       "text": [
        "<IPython.core.display.Javascript at 0x11535e650>"
       ]
      },
      {
       "javascript": [
        "$('div#01b2264f-7def-4592-9436-21ef02492215').width('57%')"
       ],
       "metadata": {},
       "output_type": "display_data",
       "text": [
        "<IPython.core.display.Javascript at 0x11535e650>"
       ]
      },
      {
       "javascript": [
        "$('div#01b2264f-7def-4592-9436-21ef02492215').width('57%')"
       ],
       "metadata": {},
       "output_type": "display_data",
       "text": [
        "<IPython.core.display.Javascript at 0x11535e650>"
       ]
      },
      {
       "javascript": [
        "$('div#01b2264f-7def-4592-9436-21ef02492215').width('58%')"
       ],
       "metadata": {},
       "output_type": "display_data",
       "text": [
        "<IPython.core.display.Javascript at 0x11535e650>"
       ]
      },
      {
       "javascript": [
        "$('div#01b2264f-7def-4592-9436-21ef02492215').width('58%')"
       ],
       "metadata": {},
       "output_type": "display_data",
       "text": [
        "<IPython.core.display.Javascript at 0x11535e650>"
       ]
      },
      {
       "javascript": [
        "$('div#01b2264f-7def-4592-9436-21ef02492215').width('59%')"
       ],
       "metadata": {},
       "output_type": "display_data",
       "text": [
        "<IPython.core.display.Javascript at 0x11535e650>"
       ]
      },
      {
       "javascript": [
        "$('div#01b2264f-7def-4592-9436-21ef02492215').width('59%')"
       ],
       "metadata": {},
       "output_type": "display_data",
       "text": [
        "<IPython.core.display.Javascript at 0x11535e650>"
       ]
      },
      {
       "javascript": [
        "$('div#01b2264f-7def-4592-9436-21ef02492215').width('59%')"
       ],
       "metadata": {},
       "output_type": "display_data",
       "text": [
        "<IPython.core.display.Javascript at 0x11535e650>"
       ]
      },
      {
       "javascript": [
        "$('div#01b2264f-7def-4592-9436-21ef02492215').width('60%')"
       ],
       "metadata": {},
       "output_type": "display_data",
       "text": [
        "<IPython.core.display.Javascript at 0x11535e650>"
       ]
      },
      {
       "javascript": [
        "$('div#01b2264f-7def-4592-9436-21ef02492215').width('60%')"
       ],
       "metadata": {},
       "output_type": "display_data",
       "text": [
        "<IPython.core.display.Javascript at 0x11535e650>"
       ]
      },
      {
       "javascript": [
        "$('div#01b2264f-7def-4592-9436-21ef02492215').width('61%')"
       ],
       "metadata": {},
       "output_type": "display_data",
       "text": [
        "<IPython.core.display.Javascript at 0x11535e650>"
       ]
      },
      {
       "javascript": [
        "$('div#01b2264f-7def-4592-9436-21ef02492215').width('61%')"
       ],
       "metadata": {},
       "output_type": "display_data",
       "text": [
        "<IPython.core.display.Javascript at 0x11535e650>"
       ]
      },
      {
       "javascript": [
        "$('div#01b2264f-7def-4592-9436-21ef02492215').width('61%')"
       ],
       "metadata": {},
       "output_type": "display_data",
       "text": [
        "<IPython.core.display.Javascript at 0x11535e650>"
       ]
      },
      {
       "javascript": [
        "$('div#01b2264f-7def-4592-9436-21ef02492215').width('62%')"
       ],
       "metadata": {},
       "output_type": "display_data",
       "text": [
        "<IPython.core.display.Javascript at 0x11535e650>"
       ]
      },
      {
       "javascript": [
        "$('div#01b2264f-7def-4592-9436-21ef02492215').width('62%')"
       ],
       "metadata": {},
       "output_type": "display_data",
       "text": [
        "<IPython.core.display.Javascript at 0x11535e650>"
       ]
      },
      {
       "javascript": [
        "$('div#01b2264f-7def-4592-9436-21ef02492215').width('63%')"
       ],
       "metadata": {},
       "output_type": "display_data",
       "text": [
        "<IPython.core.display.Javascript at 0x11535e650>"
       ]
      },
      {
       "javascript": [
        "$('div#01b2264f-7def-4592-9436-21ef02492215').width('63%')"
       ],
       "metadata": {},
       "output_type": "display_data",
       "text": [
        "<IPython.core.display.Javascript at 0x11535e650>"
       ]
      },
      {
       "javascript": [
        "$('div#01b2264f-7def-4592-9436-21ef02492215').width('63%')"
       ],
       "metadata": {},
       "output_type": "display_data",
       "text": [
        "<IPython.core.display.Javascript at 0x11535e650>"
       ]
      },
      {
       "javascript": [
        "$('div#01b2264f-7def-4592-9436-21ef02492215').width('64%')"
       ],
       "metadata": {},
       "output_type": "display_data",
       "text": [
        "<IPython.core.display.Javascript at 0x11535e650>"
       ]
      },
      {
       "javascript": [
        "$('div#01b2264f-7def-4592-9436-21ef02492215').width('64%')"
       ],
       "metadata": {},
       "output_type": "display_data",
       "text": [
        "<IPython.core.display.Javascript at 0x11535e650>"
       ]
      },
      {
       "javascript": [
        "$('div#01b2264f-7def-4592-9436-21ef02492215').width('65%')"
       ],
       "metadata": {},
       "output_type": "display_data",
       "text": [
        "<IPython.core.display.Javascript at 0x11535e650>"
       ]
      },
      {
       "javascript": [
        "$('div#01b2264f-7def-4592-9436-21ef02492215').width('65%')"
       ],
       "metadata": {},
       "output_type": "display_data",
       "text": [
        "<IPython.core.display.Javascript at 0x11535e650>"
       ]
      },
      {
       "javascript": [
        "$('div#01b2264f-7def-4592-9436-21ef02492215').width('65%')"
       ],
       "metadata": {},
       "output_type": "display_data",
       "text": [
        "<IPython.core.display.Javascript at 0x11535e650>"
       ]
      },
      {
       "javascript": [
        "$('div#01b2264f-7def-4592-9436-21ef02492215').width('66%')"
       ],
       "metadata": {},
       "output_type": "display_data",
       "text": [
        "<IPython.core.display.Javascript at 0x11535e650>"
       ]
      },
      {
       "javascript": [
        "$('div#01b2264f-7def-4592-9436-21ef02492215').width('66%')"
       ],
       "metadata": {},
       "output_type": "display_data",
       "text": [
        "<IPython.core.display.Javascript at 0x11535e650>"
       ]
      },
      {
       "javascript": [
        "$('div#01b2264f-7def-4592-9436-21ef02492215').width('67%')"
       ],
       "metadata": {},
       "output_type": "display_data",
       "text": [
        "<IPython.core.display.Javascript at 0x11535e650>"
       ]
      },
      {
       "javascript": [
        "$('div#01b2264f-7def-4592-9436-21ef02492215').width('67%')"
       ],
       "metadata": {},
       "output_type": "display_data",
       "text": [
        "<IPython.core.display.Javascript at 0x11535e650>"
       ]
      },
      {
       "javascript": [
        "$('div#01b2264f-7def-4592-9436-21ef02492215').width('67%')"
       ],
       "metadata": {},
       "output_type": "display_data",
       "text": [
        "<IPython.core.display.Javascript at 0x11535e650>"
       ]
      },
      {
       "javascript": [
        "$('div#01b2264f-7def-4592-9436-21ef02492215').width('68%')"
       ],
       "metadata": {},
       "output_type": "display_data",
       "text": [
        "<IPython.core.display.Javascript at 0x11535e650>"
       ]
      },
      {
       "javascript": [
        "$('div#01b2264f-7def-4592-9436-21ef02492215').width('68%')"
       ],
       "metadata": {},
       "output_type": "display_data",
       "text": [
        "<IPython.core.display.Javascript at 0x11535e650>"
       ]
      },
      {
       "javascript": [
        "$('div#01b2264f-7def-4592-9436-21ef02492215').width('69%')"
       ],
       "metadata": {},
       "output_type": "display_data",
       "text": [
        "<IPython.core.display.Javascript at 0x11535e650>"
       ]
      },
      {
       "javascript": [
        "$('div#01b2264f-7def-4592-9436-21ef02492215').width('69%')"
       ],
       "metadata": {},
       "output_type": "display_data",
       "text": [
        "<IPython.core.display.Javascript at 0x11535e650>"
       ]
      },
      {
       "javascript": [
        "$('div#01b2264f-7def-4592-9436-21ef02492215').width('69%')"
       ],
       "metadata": {},
       "output_type": "display_data",
       "text": [
        "<IPython.core.display.Javascript at 0x11535e650>"
       ]
      },
      {
       "javascript": [
        "$('div#01b2264f-7def-4592-9436-21ef02492215').width('70%')"
       ],
       "metadata": {},
       "output_type": "display_data",
       "text": [
        "<IPython.core.display.Javascript at 0x11535e650>"
       ]
      },
      {
       "javascript": [
        "$('div#01b2264f-7def-4592-9436-21ef02492215').width('70%')"
       ],
       "metadata": {},
       "output_type": "display_data",
       "text": [
        "<IPython.core.display.Javascript at 0x11535e650>"
       ]
      },
      {
       "javascript": [
        "$('div#01b2264f-7def-4592-9436-21ef02492215').width('71%')"
       ],
       "metadata": {},
       "output_type": "display_data",
       "text": [
        "<IPython.core.display.Javascript at 0x11535e650>"
       ]
      },
      {
       "javascript": [
        "$('div#01b2264f-7def-4592-9436-21ef02492215').width('71%')"
       ],
       "metadata": {},
       "output_type": "display_data",
       "text": [
        "<IPython.core.display.Javascript at 0x11535e650>"
       ]
      },
      {
       "javascript": [
        "$('div#01b2264f-7def-4592-9436-21ef02492215').width('71%')"
       ],
       "metadata": {},
       "output_type": "display_data",
       "text": [
        "<IPython.core.display.Javascript at 0x11535e650>"
       ]
      },
      {
       "javascript": [
        "$('div#01b2264f-7def-4592-9436-21ef02492215').width('72%')"
       ],
       "metadata": {},
       "output_type": "display_data",
       "text": [
        "<IPython.core.display.Javascript at 0x11535e650>"
       ]
      },
      {
       "javascript": [
        "$('div#01b2264f-7def-4592-9436-21ef02492215').width('72%')"
       ],
       "metadata": {},
       "output_type": "display_data",
       "text": [
        "<IPython.core.display.Javascript at 0x11535e650>"
       ]
      },
      {
       "javascript": [
        "$('div#01b2264f-7def-4592-9436-21ef02492215').width('73%')"
       ],
       "metadata": {},
       "output_type": "display_data",
       "text": [
        "<IPython.core.display.Javascript at 0x11535e650>"
       ]
      },
      {
       "javascript": [
        "$('div#01b2264f-7def-4592-9436-21ef02492215').width('73%')"
       ],
       "metadata": {},
       "output_type": "display_data",
       "text": [
        "<IPython.core.display.Javascript at 0x11535e650>"
       ]
      },
      {
       "javascript": [
        "$('div#01b2264f-7def-4592-9436-21ef02492215').width('73%')"
       ],
       "metadata": {},
       "output_type": "display_data",
       "text": [
        "<IPython.core.display.Javascript at 0x11535e650>"
       ]
      },
      {
       "javascript": [
        "$('div#01b2264f-7def-4592-9436-21ef02492215').width('74%')"
       ],
       "metadata": {},
       "output_type": "display_data",
       "text": [
        "<IPython.core.display.Javascript at 0x11535e650>"
       ]
      },
      {
       "javascript": [
        "$('div#01b2264f-7def-4592-9436-21ef02492215').width('74%')"
       ],
       "metadata": {},
       "output_type": "display_data",
       "text": [
        "<IPython.core.display.Javascript at 0x11535e650>"
       ]
      },
      {
       "javascript": [
        "$('div#01b2264f-7def-4592-9436-21ef02492215').width('75%')"
       ],
       "metadata": {},
       "output_type": "display_data",
       "text": [
        "<IPython.core.display.Javascript at 0x11535e650>"
       ]
      },
      {
       "javascript": [
        "$('div#01b2264f-7def-4592-9436-21ef02492215').width('75%')"
       ],
       "metadata": {},
       "output_type": "display_data",
       "text": [
        "<IPython.core.display.Javascript at 0x11535e650>"
       ]
      },
      {
       "javascript": [
        "$('div#01b2264f-7def-4592-9436-21ef02492215').width('75%')"
       ],
       "metadata": {},
       "output_type": "display_data",
       "text": [
        "<IPython.core.display.Javascript at 0x11535e650>"
       ]
      },
      {
       "javascript": [
        "$('div#01b2264f-7def-4592-9436-21ef02492215').width('76%')"
       ],
       "metadata": {},
       "output_type": "display_data",
       "text": [
        "<IPython.core.display.Javascript at 0x11535e650>"
       ]
      },
      {
       "javascript": [
        "$('div#01b2264f-7def-4592-9436-21ef02492215').width('76%')"
       ],
       "metadata": {},
       "output_type": "display_data",
       "text": [
        "<IPython.core.display.Javascript at 0x11535e650>"
       ]
      },
      {
       "javascript": [
        "$('div#01b2264f-7def-4592-9436-21ef02492215').width('76%')"
       ],
       "metadata": {},
       "output_type": "display_data",
       "text": [
        "<IPython.core.display.Javascript at 0x11535e650>"
       ]
      },
      {
       "javascript": [
        "$('div#01b2264f-7def-4592-9436-21ef02492215').width('77%')"
       ],
       "metadata": {},
       "output_type": "display_data",
       "text": [
        "<IPython.core.display.Javascript at 0x11535e650>"
       ]
      },
      {
       "javascript": [
        "$('div#01b2264f-7def-4592-9436-21ef02492215').width('77%')"
       ],
       "metadata": {},
       "output_type": "display_data",
       "text": [
        "<IPython.core.display.Javascript at 0x11535e650>"
       ]
      },
      {
       "javascript": [
        "$('div#01b2264f-7def-4592-9436-21ef02492215').width('78%')"
       ],
       "metadata": {},
       "output_type": "display_data",
       "text": [
        "<IPython.core.display.Javascript at 0x11535e650>"
       ]
      },
      {
       "javascript": [
        "$('div#01b2264f-7def-4592-9436-21ef02492215').width('78%')"
       ],
       "metadata": {},
       "output_type": "display_data",
       "text": [
        "<IPython.core.display.Javascript at 0x11535e650>"
       ]
      },
      {
       "javascript": [
        "$('div#01b2264f-7def-4592-9436-21ef02492215').width('78%')"
       ],
       "metadata": {},
       "output_type": "display_data",
       "text": [
        "<IPython.core.display.Javascript at 0x11535e650>"
       ]
      },
      {
       "javascript": [
        "$('div#01b2264f-7def-4592-9436-21ef02492215').width('79%')"
       ],
       "metadata": {},
       "output_type": "display_data",
       "text": [
        "<IPython.core.display.Javascript at 0x11535e650>"
       ]
      },
      {
       "javascript": [
        "$('div#01b2264f-7def-4592-9436-21ef02492215').width('79%')"
       ],
       "metadata": {},
       "output_type": "display_data",
       "text": [
        "<IPython.core.display.Javascript at 0x11535e650>"
       ]
      },
      {
       "javascript": [
        "$('div#01b2264f-7def-4592-9436-21ef02492215').width('80%')"
       ],
       "metadata": {},
       "output_type": "display_data",
       "text": [
        "<IPython.core.display.Javascript at 0x11535e650>"
       ]
      },
      {
       "javascript": [
        "$('div#01b2264f-7def-4592-9436-21ef02492215').width('80%')"
       ],
       "metadata": {},
       "output_type": "display_data",
       "text": [
        "<IPython.core.display.Javascript at 0x11535e650>"
       ]
      },
      {
       "javascript": [
        "$('div#01b2264f-7def-4592-9436-21ef02492215').width('80%')"
       ],
       "metadata": {},
       "output_type": "display_data",
       "text": [
        "<IPython.core.display.Javascript at 0x11535e650>"
       ]
      },
      {
       "javascript": [
        "$('div#01b2264f-7def-4592-9436-21ef02492215').width('81%')"
       ],
       "metadata": {},
       "output_type": "display_data",
       "text": [
        "<IPython.core.display.Javascript at 0x11535e650>"
       ]
      },
      {
       "javascript": [
        "$('div#01b2264f-7def-4592-9436-21ef02492215').width('81%')"
       ],
       "metadata": {},
       "output_type": "display_data",
       "text": [
        "<IPython.core.display.Javascript at 0x11535e650>"
       ]
      },
      {
       "javascript": [
        "$('div#01b2264f-7def-4592-9436-21ef02492215').width('82%')"
       ],
       "metadata": {},
       "output_type": "display_data",
       "text": [
        "<IPython.core.display.Javascript at 0x11535e650>"
       ]
      },
      {
       "javascript": [
        "$('div#01b2264f-7def-4592-9436-21ef02492215').width('82%')"
       ],
       "metadata": {},
       "output_type": "display_data",
       "text": [
        "<IPython.core.display.Javascript at 0x11535e650>"
       ]
      },
      {
       "javascript": [
        "$('div#01b2264f-7def-4592-9436-21ef02492215').width('82%')"
       ],
       "metadata": {},
       "output_type": "display_data",
       "text": [
        "<IPython.core.display.Javascript at 0x11535e650>"
       ]
      },
      {
       "javascript": [
        "$('div#01b2264f-7def-4592-9436-21ef02492215').width('83%')"
       ],
       "metadata": {},
       "output_type": "display_data",
       "text": [
        "<IPython.core.display.Javascript at 0x11535e650>"
       ]
      },
      {
       "javascript": [
        "$('div#01b2264f-7def-4592-9436-21ef02492215').width('83%')"
       ],
       "metadata": {},
       "output_type": "display_data",
       "text": [
        "<IPython.core.display.Javascript at 0x11535e650>"
       ]
      },
      {
       "javascript": [
        "$('div#01b2264f-7def-4592-9436-21ef02492215').width('84%')"
       ],
       "metadata": {},
       "output_type": "display_data",
       "text": [
        "<IPython.core.display.Javascript at 0x11535e650>"
       ]
      },
      {
       "javascript": [
        "$('div#01b2264f-7def-4592-9436-21ef02492215').width('84%')"
       ],
       "metadata": {},
       "output_type": "display_data",
       "text": [
        "<IPython.core.display.Javascript at 0x11535e650>"
       ]
      },
      {
       "javascript": [
        "$('div#01b2264f-7def-4592-9436-21ef02492215').width('84%')"
       ],
       "metadata": {},
       "output_type": "display_data",
       "text": [
        "<IPython.core.display.Javascript at 0x11535e650>"
       ]
      },
      {
       "javascript": [
        "$('div#01b2264f-7def-4592-9436-21ef02492215').width('85%')"
       ],
       "metadata": {},
       "output_type": "display_data",
       "text": [
        "<IPython.core.display.Javascript at 0x11535e650>"
       ]
      },
      {
       "javascript": [
        "$('div#01b2264f-7def-4592-9436-21ef02492215').width('85%')"
       ],
       "metadata": {},
       "output_type": "display_data",
       "text": [
        "<IPython.core.display.Javascript at 0x11535e650>"
       ]
      },
      {
       "javascript": [
        "$('div#01b2264f-7def-4592-9436-21ef02492215').width('86%')"
       ],
       "metadata": {},
       "output_type": "display_data",
       "text": [
        "<IPython.core.display.Javascript at 0x11535e650>"
       ]
      },
      {
       "javascript": [
        "$('div#01b2264f-7def-4592-9436-21ef02492215').width('86%')"
       ],
       "metadata": {},
       "output_type": "display_data",
       "text": [
        "<IPython.core.display.Javascript at 0x11535e650>"
       ]
      },
      {
       "javascript": [
        "$('div#01b2264f-7def-4592-9436-21ef02492215').width('86%')"
       ],
       "metadata": {},
       "output_type": "display_data",
       "text": [
        "<IPython.core.display.Javascript at 0x11535e650>"
       ]
      },
      {
       "javascript": [
        "$('div#01b2264f-7def-4592-9436-21ef02492215').width('87%')"
       ],
       "metadata": {},
       "output_type": "display_data",
       "text": [
        "<IPython.core.display.Javascript at 0x11535e650>"
       ]
      },
      {
       "javascript": [
        "$('div#01b2264f-7def-4592-9436-21ef02492215').width('87%')"
       ],
       "metadata": {},
       "output_type": "display_data",
       "text": [
        "<IPython.core.display.Javascript at 0x11535e650>"
       ]
      },
      {
       "javascript": [
        "$('div#01b2264f-7def-4592-9436-21ef02492215').width('88%')"
       ],
       "metadata": {},
       "output_type": "display_data",
       "text": [
        "<IPython.core.display.Javascript at 0x11535e650>"
       ]
      },
      {
       "javascript": [
        "$('div#01b2264f-7def-4592-9436-21ef02492215').width('88%')"
       ],
       "metadata": {},
       "output_type": "display_data",
       "text": [
        "<IPython.core.display.Javascript at 0x11535e650>"
       ]
      },
      {
       "javascript": [
        "$('div#01b2264f-7def-4592-9436-21ef02492215').width('88%')"
       ],
       "metadata": {},
       "output_type": "display_data",
       "text": [
        "<IPython.core.display.Javascript at 0x11535e650>"
       ]
      },
      {
       "javascript": [
        "$('div#01b2264f-7def-4592-9436-21ef02492215').width('89%')"
       ],
       "metadata": {},
       "output_type": "display_data",
       "text": [
        "<IPython.core.display.Javascript at 0x11535e650>"
       ]
      },
      {
       "javascript": [
        "$('div#01b2264f-7def-4592-9436-21ef02492215').width('89%')"
       ],
       "metadata": {},
       "output_type": "display_data",
       "text": [
        "<IPython.core.display.Javascript at 0x11535e650>"
       ]
      },
      {
       "javascript": [
        "$('div#01b2264f-7def-4592-9436-21ef02492215').width('90%')"
       ],
       "metadata": {},
       "output_type": "display_data",
       "text": [
        "<IPython.core.display.Javascript at 0x11535e650>"
       ]
      },
      {
       "javascript": [
        "$('div#01b2264f-7def-4592-9436-21ef02492215').width('90%')"
       ],
       "metadata": {},
       "output_type": "display_data",
       "text": [
        "<IPython.core.display.Javascript at 0x11535e650>"
       ]
      },
      {
       "javascript": [
        "$('div#01b2264f-7def-4592-9436-21ef02492215').width('90%')"
       ],
       "metadata": {},
       "output_type": "display_data",
       "text": [
        "<IPython.core.display.Javascript at 0x11535e650>"
       ]
      },
      {
       "javascript": [
        "$('div#01b2264f-7def-4592-9436-21ef02492215').width('91%')"
       ],
       "metadata": {},
       "output_type": "display_data",
       "text": [
        "<IPython.core.display.Javascript at 0x11535e650>"
       ]
      },
      {
       "javascript": [
        "$('div#01b2264f-7def-4592-9436-21ef02492215').width('91%')"
       ],
       "metadata": {},
       "output_type": "display_data",
       "text": [
        "<IPython.core.display.Javascript at 0x11535e650>"
       ]
      },
      {
       "javascript": [
        "$('div#01b2264f-7def-4592-9436-21ef02492215').width('92%')"
       ],
       "metadata": {},
       "output_type": "display_data",
       "text": [
        "<IPython.core.display.Javascript at 0x11535e650>"
       ]
      },
      {
       "javascript": [
        "$('div#01b2264f-7def-4592-9436-21ef02492215').width('92%')"
       ],
       "metadata": {},
       "output_type": "display_data",
       "text": [
        "<IPython.core.display.Javascript at 0x11535e650>"
       ]
      },
      {
       "javascript": [
        "$('div#01b2264f-7def-4592-9436-21ef02492215').width('92%')"
       ],
       "metadata": {},
       "output_type": "display_data",
       "text": [
        "<IPython.core.display.Javascript at 0x11535e650>"
       ]
      },
      {
       "javascript": [
        "$('div#01b2264f-7def-4592-9436-21ef02492215').width('93%')"
       ],
       "metadata": {},
       "output_type": "display_data",
       "text": [
        "<IPython.core.display.Javascript at 0x11535e650>"
       ]
      },
      {
       "javascript": [
        "$('div#01b2264f-7def-4592-9436-21ef02492215').width('93%')"
       ],
       "metadata": {},
       "output_type": "display_data",
       "text": [
        "<IPython.core.display.Javascript at 0x11535e650>"
       ]
      },
      {
       "javascript": [
        "$('div#01b2264f-7def-4592-9436-21ef02492215').width('94%')"
       ],
       "metadata": {},
       "output_type": "display_data",
       "text": [
        "<IPython.core.display.Javascript at 0x11535e650>"
       ]
      },
      {
       "javascript": [
        "$('div#01b2264f-7def-4592-9436-21ef02492215').width('94%')"
       ],
       "metadata": {},
       "output_type": "display_data",
       "text": [
        "<IPython.core.display.Javascript at 0x11535e650>"
       ]
      },
      {
       "javascript": [
        "$('div#01b2264f-7def-4592-9436-21ef02492215').width('94%')"
       ],
       "metadata": {},
       "output_type": "display_data",
       "text": [
        "<IPython.core.display.Javascript at 0x11535e650>"
       ]
      },
      {
       "javascript": [
        "$('div#01b2264f-7def-4592-9436-21ef02492215').width('95%')"
       ],
       "metadata": {},
       "output_type": "display_data",
       "text": [
        "<IPython.core.display.Javascript at 0x11535e650>"
       ]
      },
      {
       "javascript": [
        "$('div#01b2264f-7def-4592-9436-21ef02492215').width('95%')"
       ],
       "metadata": {},
       "output_type": "display_data",
       "text": [
        "<IPython.core.display.Javascript at 0x11535e650>"
       ]
      },
      {
       "javascript": [
        "$('div#01b2264f-7def-4592-9436-21ef02492215').width('96%')"
       ],
       "metadata": {},
       "output_type": "display_data",
       "text": [
        "<IPython.core.display.Javascript at 0x11535e650>"
       ]
      },
      {
       "javascript": [
        "$('div#01b2264f-7def-4592-9436-21ef02492215').width('96%')"
       ],
       "metadata": {},
       "output_type": "display_data",
       "text": [
        "<IPython.core.display.Javascript at 0x11535e650>"
       ]
      },
      {
       "javascript": [
        "$('div#01b2264f-7def-4592-9436-21ef02492215').width('96%')"
       ],
       "metadata": {},
       "output_type": "display_data",
       "text": [
        "<IPython.core.display.Javascript at 0x11535e650>"
       ]
      },
      {
       "javascript": [
        "$('div#01b2264f-7def-4592-9436-21ef02492215').width('97%')"
       ],
       "metadata": {},
       "output_type": "display_data",
       "text": [
        "<IPython.core.display.Javascript at 0x11535e650>"
       ]
      },
      {
       "javascript": [
        "$('div#01b2264f-7def-4592-9436-21ef02492215').width('97%')"
       ],
       "metadata": {},
       "output_type": "display_data",
       "text": [
        "<IPython.core.display.Javascript at 0x11535e650>"
       ]
      },
      {
       "javascript": [
        "$('div#01b2264f-7def-4592-9436-21ef02492215').width('98%')"
       ],
       "metadata": {},
       "output_type": "display_data",
       "text": [
        "<IPython.core.display.Javascript at 0x11535e650>"
       ]
      },
      {
       "javascript": [
        "$('div#01b2264f-7def-4592-9436-21ef02492215').width('98%')"
       ],
       "metadata": {},
       "output_type": "display_data",
       "text": [
        "<IPython.core.display.Javascript at 0x11535e650>"
       ]
      },
      {
       "javascript": [
        "$('div#01b2264f-7def-4592-9436-21ef02492215').width('98%')"
       ],
       "metadata": {},
       "output_type": "display_data",
       "text": [
        "<IPython.core.display.Javascript at 0x11535e650>"
       ]
      },
      {
       "javascript": [
        "$('div#01b2264f-7def-4592-9436-21ef02492215').width('99%')"
       ],
       "metadata": {},
       "output_type": "display_data",
       "text": [
        "<IPython.core.display.Javascript at 0x11535e650>"
       ]
      },
      {
       "javascript": [
        "$('div#01b2264f-7def-4592-9436-21ef02492215').width('99%')"
       ],
       "metadata": {},
       "output_type": "display_data",
       "text": [
        "<IPython.core.display.Javascript at 0x11535e650>"
       ]
      },
      {
       "javascript": [
        "$('div#01b2264f-7def-4592-9436-21ef02492215').width('100%')"
       ],
       "metadata": {},
       "output_type": "display_data",
       "text": [
        "<IPython.core.display.Javascript at 0x11535ed10>"
       ]
      },
      {
       "html": [
        "<iframe src=http://127.0.0.1:8001/9203821 width=100%% height=420 frameborder=0></iframe>"
       ],
       "metadata": {},
       "output_type": "pyout",
       "prompt_number": 17,
       "text": [
        "<DisplayNode.DisplayNodeProxy.DisplayNode instance at 0x11535b6c8>"
       ]
      }
     ],
     "prompt_number": 17
    },
    {
     "cell_type": "code",
     "collapsed": false,
     "input": [],
     "language": "python",
     "metadata": {},
     "outputs": [],
     "prompt_number": 47
    },
    {
     "cell_type": "code",
     "collapsed": false,
     "input": [
      "PET.backprojection_parameters.direction"
     ],
     "language": "python",
     "metadata": {},
     "outputs": [
      {
       "metadata": {},
       "output_type": "pyout",
       "prompt_number": 22,
       "text": [
        "1"
       ]
      }
     ],
     "prompt_number": 22
    },
    {
     "cell_type": "code",
     "collapsed": false,
     "input": [
      "len(proj_spect.data.shape)"
     ],
     "language": "python",
     "metadata": {},
     "outputs": [
      {
       "metadata": {},
       "output_type": "pyout",
       "prompt_number": 11,
       "text": [
        "3"
       ]
      }
     ],
     "prompt_number": 11
    },
    {
     "cell_type": "code",
     "collapsed": false,
     "input": [],
     "language": "python",
     "metadata": {},
     "outputs": [],
     "prompt_number": 16
    },
    {
     "cell_type": "code",
     "collapsed": false,
     "input": [],
     "language": "python",
     "metadata": {},
     "outputs": [],
     "prompt_number": 16
    },
    {
     "cell_type": "code",
     "collapsed": false,
     "input": [],
     "language": "python",
     "metadata": {},
     "outputs": [],
     "prompt_number": 16
    },
    {
     "cell_type": "code",
     "collapsed": false,
     "input": [],
     "language": "python",
     "metadata": {},
     "outputs": [],
     "prompt_number": 16
    },
    {
     "cell_type": "code",
     "collapsed": false,
     "input": [],
     "language": "python",
     "metadata": {},
     "outputs": [],
     "prompt_number": 16
    },
    {
     "cell_type": "code",
     "collapsed": false,
     "input": [],
     "language": "python",
     "metadata": {},
     "outputs": [],
     "prompt_number": 16
    },
    {
     "cell_type": "code",
     "collapsed": false,
     "input": [],
     "language": "python",
     "metadata": {},
     "outputs": []
    }
   ],
   "metadata": {}
  }
 ]
}