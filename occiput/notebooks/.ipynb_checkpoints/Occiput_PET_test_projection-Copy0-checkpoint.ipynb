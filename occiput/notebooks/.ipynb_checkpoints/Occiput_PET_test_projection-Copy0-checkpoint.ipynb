{
 "metadata": {
  "name": ""
 },
 "nbformat": 3,
 "nbformat_minor": 0,
 "worksheets": [
  {
   "cells": [
    {
     "cell_type": "heading",
     "level": 3,
     "metadata": {},
     "source": [
      "Import Occiput:"
     ]
    },
    {
     "cell_type": "code",
     "collapsed": false,
     "input": [
      "import occiput\n",
      "occiput.initialise()\n",
      "\n",
      "from occiput.Reconstruction.PET import PET_Static_Scan, Binning\n",
      "from occiput.Reconstruction.PET import PET_Interface_mMR\n",
      "from occiput.DataSources.Synthetic import uniform_sphere, uniform_spheres_ring\n",
      "\n",
      "import numpy"
     ],
     "language": "python",
     "metadata": {},
     "outputs": [
      {
       "html": [
        "\n",
        "        <style>\n",
        "        div.nav.brand.pull-left {\n",
        "        width:  300px; \n",
        "        height: 35px; \n",
        "        background-repeat: no-repeat;\n",
        "\t    background-image: url(data:image/png;base64,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);\n",
        "\t    text-indent: -999px;\n",
        "    }\n",
        "    </style>"
       ],
       "metadata": {},
       "output_type": "display_data",
       "text": [
        "<IPython.core.display.HTML at 0x11d09a250>"
       ]
      },
      {
       "html": [
        "\n",
        "        <style>\n",
        "        div.nav.brand.pull-left {\n",
        "        width:  300px; \n",
        "        height: 35px; \n",
        "        background-repeat: no-repeat;\n",
        "\t    background-image: url(data:image/png;base64,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);\n",
        "\t    text-indent: -999px;\n",
        "    }\n",
        "    </style>"
       ],
       "metadata": {},
       "output_type": "display_data",
       "text": [
        "<IPython.core.display.HTML at 0x11337a550>"
       ]
      }
     ],
     "prompt_number": 1
    },
    {
     "cell_type": "heading",
     "level": 3,
     "metadata": {},
     "source": [
      "Define scanner geometry:"
     ]
    },
    {
     "cell_type": "code",
     "collapsed": false,
     "input": [
      "# Geometry of the scanner: \n",
      "\n",
      "N_axial                = 252                 # number of axial projections \n",
      "N_azimuthal            = 1                   # number of azimuthal projections\n",
      "angular_step_axial     = numpy.pi/N_axial    # radians\n",
      "angular_step_azimuthal = 0.0                 # radians\n",
      "N_u                    = 200                 # voxels\n",
      "N_v                    = 128                 # voxels\n",
      "size_u                 = 200                 # [mm]\n",
      "size_v                 = 128                 # [mm]\n",
      "interface              = PET_Interface_mMR()\n",
      "binning                = Binning([N_axial, N_azimuthal, angular_step_axial, angular_step_azimuthal, size_u, size_v, N_u, N_v]) \n",
      "\n",
      "\n",
      "# Static acquisition: \n",
      "\n",
      "SCAN    = PET_Static_Scan()\n",
      "SCAN.set_interface(interface) \n",
      "SCAN.set_binning(binning) \n",
      "\n",
      "\n",
      "# Full sampling (all detector pixels are active): \n",
      "\n",
      "SCAN.set_full_sampling() \n",
      "\n",
      "\n",
      "# Parameters of the projection and backprojection algorithms: \n",
      "\n",
      "SCAN.projection_parameters.sample_step     = 0.8\n",
      "SCAN.projection_parameters.N_samples       = 256\n",
      "SCAN.backprojection_parameters.sample_step = 0.8\n",
      "SCAN.backprojection_parameters.N_samples   = 256\n",
      "SCAN.projection_parameters.direction       = 7"
     ],
     "language": "python",
     "metadata": {},
     "outputs": [],
     "prompt_number": 8
    },
    {
     "cell_type": "heading",
     "level": 3,
     "metadata": {},
     "source": [
      "Generate synthetic data:"
     ]
    },
    {
     "cell_type": "code",
     "collapsed": false,
     "input": [
      "# Number of voxels of the synthetic activity volume: \n",
      "\n",
      "phantom_voxels_x       = 128                       # voxels\n",
      "phantom_voxels_y       = 128                       # voxels\n",
      "phantom_voxels_z       = 128                       # voxels\n",
      "\n",
      "\n",
      "# Size of the synthetic activity volume in [mm] \n",
      "\n",
      "phantom_size_x         = 128                       # [mm]\n",
      "phantom_size_y         = 128                       # [mm]\n",
      "phantom_size_z         = 128                       # [mm]\n",
      "\n",
      "\n",
      "# Center of the synthetic activity volume in [mm]\n",
      "\n",
      "phantom_center_x       = 0.5  * phantom_size_x     # [mm]\n",
      "phantom_center_y       = 0.5  * phantom_size_y     # [mm]\n",
      "phantom_center_z       = 0.5  * phantom_size_z     # [mm]\n",
      "\n",
      "\n",
      "# Synthetic activity parameters: \n",
      "\n",
      "phantom_n_spheres      = 6                         # number of spheres\n",
      "phantom_ring_radius    = 0.4  * phantom_size_x     # radius of the ring of spheres  [mm]\n",
      "phantom_small_radius   = 0.04 * phantom_size_z     # radius of the smallest spheres [mm]\n",
      "phantom_large_radius   = 0.10 * phantom_size_z     # radius of the largest sphere   [mm]\n",
      "phantom_value          = 10.0                      # activity inside the spheres\n",
      "phantom_background     = 0.25                      # activity outside the spheres \n",
      "phantom_ring_axis      = 2                         # axis of the ring of spheres : 0 for X, 1 for Y, 2 for Z \n",
      "phantom_extrusion      = 0.6  * phantom_size_z     # extrusion along axis           [mm] \n",
      "\n",
      "\n",
      "# Make the synthetic activity volume: \n",
      "\n",
      "#phantom = occiput.DataSources.Synthetic.uniform_sphere([128,128,128],[128,128,128],[64,64,64],20,2,0)\n",
      "\n",
      "phantom = uniform_spheres_ring(  [phantom_voxels_x, phantom_voxels_y, phantom_voxels_z], \n",
      "                                 [phantom_size_x,   phantom_size_y,   phantom_size_z  ], \n",
      "                                 [phantom_center_x, phantom_center_y, phantom_center_z], \n",
      "                                  phantom_ring_radius, phantom_small_radius, phantom_large_radius, \n",
      "                                  phantom_n_spheres, phantom_value, phantom_background, phantom_extrusion, phantom_ring_axis)  "
     ],
     "language": "python",
     "metadata": {},
     "outputs": [],
     "prompt_number": 9
    },
    {
     "cell_type": "code",
     "collapsed": false,
     "input": [
      "phantom"
     ],
     "language": "python",
     "metadata": {},
     "outputs": [
      {
       "html": [
        "\n",
        "        <div style=\"border: 1px solid white; width:100%%; height:6px; background-color:rgb(246,246,246)\">\n",
        "            <div id=\"1ff8ae3c-9723-42ef-9463-d88185206944\" style=\"background-color:rgb(200,200,200); width:0%; height:6px\"> </div>\n",
        "        </div> \n",
        "        "
       ],
       "metadata": {},
       "output_type": "display_data",
       "text": [
        "<IPython.core.display.HTML at 0x1205b0a90>"
       ]
      },
      {
       "javascript": [
        "$('div#1ff8ae3c-9723-42ef-9463-d88185206944').width('1%')"
       ],
       "metadata": {},
       "output_type": "display_data",
       "text": [
        "<IPython.core.display.Javascript at 0x1205b0a10>"
       ]
      },
      {
       "javascript": [
        "$('div#1ff8ae3c-9723-42ef-9463-d88185206944').width('1%')"
       ],
       "metadata": {},
       "output_type": "display_data",
       "text": [
        "<IPython.core.display.Javascript at 0x1205b0a10>"
       ]
      },
      {
       "javascript": [
        "$('div#1ff8ae3c-9723-42ef-9463-d88185206944').width('1%')"
       ],
       "metadata": {},
       "output_type": "display_data",
       "text": [
        "<IPython.core.display.Javascript at 0x1205b0a10>"
       ]
      },
      {
       "javascript": [
        "$('div#1ff8ae3c-9723-42ef-9463-d88185206944').width('2%')"
       ],
       "metadata": {},
       "output_type": "display_data",
       "text": [
        "<IPython.core.display.Javascript at 0x1205b0a50>"
       ]
      },
      {
       "javascript": [
        "$('div#1ff8ae3c-9723-42ef-9463-d88185206944').width('3%')"
       ],
       "metadata": {},
       "output_type": "display_data",
       "text": [
        "<IPython.core.display.Javascript at 0x1205b0a50>"
       ]
      },
      {
       "javascript": [
        "$('div#1ff8ae3c-9723-42ef-9463-d88185206944').width('3%')"
       ],
       "metadata": {},
       "output_type": "display_data",
       "text": [
        "<IPython.core.display.Javascript at 0x1205b0a50>"
       ]
      },
      {
       "javascript": [
        "$('div#1ff8ae3c-9723-42ef-9463-d88185206944').width('4%')"
       ],
       "metadata": {},
       "output_type": "display_data",
       "text": [
        "<IPython.core.display.Javascript at 0x1205b0a50>"
       ]
      },
      {
       "javascript": [
        "$('div#1ff8ae3c-9723-42ef-9463-d88185206944').width('5%')"
       ],
       "metadata": {},
       "output_type": "display_data",
       "text": [
        "<IPython.core.display.Javascript at 0x1205b0a50>"
       ]
      },
      {
       "javascript": [
        "$('div#1ff8ae3c-9723-42ef-9463-d88185206944').width('6%')"
       ],
       "metadata": {},
       "output_type": "display_data",
       "text": [
        "<IPython.core.display.Javascript at 0x1205b0a50>"
       ]
      },
      {
       "javascript": [
        "$('div#1ff8ae3c-9723-42ef-9463-d88185206944').width('7%')"
       ],
       "metadata": {},
       "output_type": "display_data",
       "text": [
        "<IPython.core.display.Javascript at 0x1205b0a50>"
       ]
      },
      {
       "javascript": [
        "$('div#1ff8ae3c-9723-42ef-9463-d88185206944').width('7%')"
       ],
       "metadata": {},
       "output_type": "display_data",
       "text": [
        "<IPython.core.display.Javascript at 0x1205b0a50>"
       ]
      },
      {
       "javascript": [
        "$('div#1ff8ae3c-9723-42ef-9463-d88185206944').width('8%')"
       ],
       "metadata": {},
       "output_type": "display_data",
       "text": [
        "<IPython.core.display.Javascript at 0x1205b0a50>"
       ]
      },
      {
       "javascript": [
        "$('div#1ff8ae3c-9723-42ef-9463-d88185206944').width('9%')"
       ],
       "metadata": {},
       "output_type": "display_data",
       "text": [
        "<IPython.core.display.Javascript at 0x1205b0a50>"
       ]
      },
      {
       "javascript": [
        "$('div#1ff8ae3c-9723-42ef-9463-d88185206944').width('10%')"
       ],
       "metadata": {},
       "output_type": "display_data",
       "text": [
        "<IPython.core.display.Javascript at 0x1205b0a50>"
       ]
      },
      {
       "javascript": [
        "$('div#1ff8ae3c-9723-42ef-9463-d88185206944').width('10%')"
       ],
       "metadata": {},
       "output_type": "display_data",
       "text": [
        "<IPython.core.display.Javascript at 0x1205b0a50>"
       ]
      },
      {
       "javascript": [
        "$('div#1ff8ae3c-9723-42ef-9463-d88185206944').width('11%')"
       ],
       "metadata": {},
       "output_type": "display_data",
       "text": [
        "<IPython.core.display.Javascript at 0x1205b0a50>"
       ]
      },
      {
       "javascript": [
        "$('div#1ff8ae3c-9723-42ef-9463-d88185206944').width('12%')"
       ],
       "metadata": {},
       "output_type": "display_data",
       "text": [
        "<IPython.core.display.Javascript at 0x1205b0a50>"
       ]
      },
      {
       "javascript": [
        "$('div#1ff8ae3c-9723-42ef-9463-d88185206944').width('13%')"
       ],
       "metadata": {},
       "output_type": "display_data",
       "text": [
        "<IPython.core.display.Javascript at 0x1205b0a50>"
       ]
      },
      {
       "javascript": [
        "$('div#1ff8ae3c-9723-42ef-9463-d88185206944').width('14%')"
       ],
       "metadata": {},
       "output_type": "display_data",
       "text": [
        "<IPython.core.display.Javascript at 0x1205b0a50>"
       ]
      },
      {
       "javascript": [
        "$('div#1ff8ae3c-9723-42ef-9463-d88185206944').width('14%')"
       ],
       "metadata": {},
       "output_type": "display_data",
       "text": [
        "<IPython.core.display.Javascript at 0x1205b0a50>"
       ]
      },
      {
       "javascript": [
        "$('div#1ff8ae3c-9723-42ef-9463-d88185206944').width('15%')"
       ],
       "metadata": {},
       "output_type": "display_data",
       "text": [
        "<IPython.core.display.Javascript at 0x1205b0a50>"
       ]
      },
      {
       "javascript": [
        "$('div#1ff8ae3c-9723-42ef-9463-d88185206944').width('16%')"
       ],
       "metadata": {},
       "output_type": "display_data",
       "text": [
        "<IPython.core.display.Javascript at 0x1205b0a50>"
       ]
      },
      {
       "javascript": [
        "$('div#1ff8ae3c-9723-42ef-9463-d88185206944').width('17%')"
       ],
       "metadata": {},
       "output_type": "display_data",
       "text": [
        "<IPython.core.display.Javascript at 0x1205b0a50>"
       ]
      },
      {
       "javascript": [
        "$('div#1ff8ae3c-9723-42ef-9463-d88185206944').width('17%')"
       ],
       "metadata": {},
       "output_type": "display_data",
       "text": [
        "<IPython.core.display.Javascript at 0x1205b0a50>"
       ]
      },
      {
       "javascript": [
        "$('div#1ff8ae3c-9723-42ef-9463-d88185206944').width('18%')"
       ],
       "metadata": {},
       "output_type": "display_data",
       "text": [
        "<IPython.core.display.Javascript at 0x1205b0a50>"
       ]
      },
      {
       "javascript": [
        "$('div#1ff8ae3c-9723-42ef-9463-d88185206944').width('19%')"
       ],
       "metadata": {},
       "output_type": "display_data",
       "text": [
        "<IPython.core.display.Javascript at 0x1205b0a50>"
       ]
      },
      {
       "javascript": [
        "$('div#1ff8ae3c-9723-42ef-9463-d88185206944').width('20%')"
       ],
       "metadata": {},
       "output_type": "display_data",
       "text": [
        "<IPython.core.display.Javascript at 0x1205b0a50>"
       ]
      },
      {
       "javascript": [
        "$('div#1ff8ae3c-9723-42ef-9463-d88185206944').width('21%')"
       ],
       "metadata": {},
       "output_type": "display_data",
       "text": [
        "<IPython.core.display.Javascript at 0x1205b0a50>"
       ]
      },
      {
       "javascript": [
        "$('div#1ff8ae3c-9723-42ef-9463-d88185206944').width('21%')"
       ],
       "metadata": {},
       "output_type": "display_data",
       "text": [
        "<IPython.core.display.Javascript at 0x1205b0a50>"
       ]
      },
      {
       "javascript": [
        "$('div#1ff8ae3c-9723-42ef-9463-d88185206944').width('22%')"
       ],
       "metadata": {},
       "output_type": "display_data",
       "text": [
        "<IPython.core.display.Javascript at 0x1205b0a50>"
       ]
      },
      {
       "javascript": [
        "$('div#1ff8ae3c-9723-42ef-9463-d88185206944').width('23%')"
       ],
       "metadata": {},
       "output_type": "display_data",
       "text": [
        "<IPython.core.display.Javascript at 0x1205b0a50>"
       ]
      },
      {
       "javascript": [
        "$('div#1ff8ae3c-9723-42ef-9463-d88185206944').width('24%')"
       ],
       "metadata": {},
       "output_type": "display_data",
       "text": [
        "<IPython.core.display.Javascript at 0x1205b0a50>"
       ]
      },
      {
       "javascript": [
        "$('div#1ff8ae3c-9723-42ef-9463-d88185206944').width('25%')"
       ],
       "metadata": {},
       "output_type": "display_data",
       "text": [
        "<IPython.core.display.Javascript at 0x1205b0a50>"
       ]
      },
      {
       "javascript": [
        "$('div#1ff8ae3c-9723-42ef-9463-d88185206944').width('25%')"
       ],
       "metadata": {},
       "output_type": "display_data",
       "text": [
        "<IPython.core.display.Javascript at 0x1205b0a50>"
       ]
      },
      {
       "javascript": [
        "$('div#1ff8ae3c-9723-42ef-9463-d88185206944').width('26%')"
       ],
       "metadata": {},
       "output_type": "display_data",
       "text": [
        "<IPython.core.display.Javascript at 0x1205b0a50>"
       ]
      },
      {
       "javascript": [
        "$('div#1ff8ae3c-9723-42ef-9463-d88185206944').width('27%')"
       ],
       "metadata": {},
       "output_type": "display_data",
       "text": [
        "<IPython.core.display.Javascript at 0x1205b0a50>"
       ]
      },
      {
       "javascript": [
        "$('div#1ff8ae3c-9723-42ef-9463-d88185206944').width('28%')"
       ],
       "metadata": {},
       "output_type": "display_data",
       "text": [
        "<IPython.core.display.Javascript at 0x1205b0a50>"
       ]
      },
      {
       "javascript": [
        "$('div#1ff8ae3c-9723-42ef-9463-d88185206944').width('28%')"
       ],
       "metadata": {},
       "output_type": "display_data",
       "text": [
        "<IPython.core.display.Javascript at 0x1205b0a50>"
       ]
      },
      {
       "javascript": [
        "$('div#1ff8ae3c-9723-42ef-9463-d88185206944').width('29%')"
       ],
       "metadata": {},
       "output_type": "display_data",
       "text": [
        "<IPython.core.display.Javascript at 0x1205b0a50>"
       ]
      },
      {
       "javascript": [
        "$('div#1ff8ae3c-9723-42ef-9463-d88185206944').width('30%')"
       ],
       "metadata": {},
       "output_type": "display_data",
       "text": [
        "<IPython.core.display.Javascript at 0x1205b0a50>"
       ]
      },
      {
       "javascript": [
        "$('div#1ff8ae3c-9723-42ef-9463-d88185206944').width('31%')"
       ],
       "metadata": {},
       "output_type": "display_data",
       "text": [
        "<IPython.core.display.Javascript at 0x1205b0a50>"
       ]
      },
      {
       "javascript": [
        "$('div#1ff8ae3c-9723-42ef-9463-d88185206944').width('32%')"
       ],
       "metadata": {},
       "output_type": "display_data",
       "text": [
        "<IPython.core.display.Javascript at 0x1205b0a50>"
       ]
      },
      {
       "javascript": [
        "$('div#1ff8ae3c-9723-42ef-9463-d88185206944').width('32%')"
       ],
       "metadata": {},
       "output_type": "display_data",
       "text": [
        "<IPython.core.display.Javascript at 0x1205b0a50>"
       ]
      },
      {
       "javascript": [
        "$('div#1ff8ae3c-9723-42ef-9463-d88185206944').width('33%')"
       ],
       "metadata": {},
       "output_type": "display_data",
       "text": [
        "<IPython.core.display.Javascript at 0x1205b0a50>"
       ]
      },
      {
       "javascript": [
        "$('div#1ff8ae3c-9723-42ef-9463-d88185206944').width('34%')"
       ],
       "metadata": {},
       "output_type": "display_data",
       "text": [
        "<IPython.core.display.Javascript at 0x1205b0a50>"
       ]
      },
      {
       "javascript": [
        "$('div#1ff8ae3c-9723-42ef-9463-d88185206944').width('35%')"
       ],
       "metadata": {},
       "output_type": "display_data",
       "text": [
        "<IPython.core.display.Javascript at 0x1205b0a50>"
       ]
      },
      {
       "javascript": [
        "$('div#1ff8ae3c-9723-42ef-9463-d88185206944').width('35%')"
       ],
       "metadata": {},
       "output_type": "display_data",
       "text": [
        "<IPython.core.display.Javascript at 0x1205b0a50>"
       ]
      },
      {
       "javascript": [
        "$('div#1ff8ae3c-9723-42ef-9463-d88185206944').width('36%')"
       ],
       "metadata": {},
       "output_type": "display_data",
       "text": [
        "<IPython.core.display.Javascript at 0x1205b0a50>"
       ]
      },
      {
       "javascript": [
        "$('div#1ff8ae3c-9723-42ef-9463-d88185206944').width('37%')"
       ],
       "metadata": {},
       "output_type": "display_data",
       "text": [
        "<IPython.core.display.Javascript at 0x1205b0a50>"
       ]
      },
      {
       "javascript": [
        "$('div#1ff8ae3c-9723-42ef-9463-d88185206944').width('38%')"
       ],
       "metadata": {},
       "output_type": "display_data",
       "text": [
        "<IPython.core.display.Javascript at 0x1205b0a50>"
       ]
      },
      {
       "javascript": [
        "$('div#1ff8ae3c-9723-42ef-9463-d88185206944').width('39%')"
       ],
       "metadata": {},
       "output_type": "display_data",
       "text": [
        "<IPython.core.display.Javascript at 0x1205b0a50>"
       ]
      },
      {
       "javascript": [
        "$('div#1ff8ae3c-9723-42ef-9463-d88185206944').width('39%')"
       ],
       "metadata": {},
       "output_type": "display_data",
       "text": [
        "<IPython.core.display.Javascript at 0x1205b0a50>"
       ]
      },
      {
       "javascript": [
        "$('div#1ff8ae3c-9723-42ef-9463-d88185206944').width('40%')"
       ],
       "metadata": {},
       "output_type": "display_data",
       "text": [
        "<IPython.core.display.Javascript at 0x1205b0a50>"
       ]
      },
      {
       "javascript": [
        "$('div#1ff8ae3c-9723-42ef-9463-d88185206944').width('41%')"
       ],
       "metadata": {},
       "output_type": "display_data",
       "text": [
        "<IPython.core.display.Javascript at 0x1205b0a50>"
       ]
      },
      {
       "javascript": [
        "$('div#1ff8ae3c-9723-42ef-9463-d88185206944').width('42%')"
       ],
       "metadata": {},
       "output_type": "display_data",
       "text": [
        "<IPython.core.display.Javascript at 0x1205b0a50>"
       ]
      },
      {
       "javascript": [
        "$('div#1ff8ae3c-9723-42ef-9463-d88185206944').width('42%')"
       ],
       "metadata": {},
       "output_type": "display_data",
       "text": [
        "<IPython.core.display.Javascript at 0x1205b0a50>"
       ]
      },
      {
       "javascript": [
        "$('div#1ff8ae3c-9723-42ef-9463-d88185206944').width('43%')"
       ],
       "metadata": {},
       "output_type": "display_data",
       "text": [
        "<IPython.core.display.Javascript at 0x1205b0a50>"
       ]
      },
      {
       "javascript": [
        "$('div#1ff8ae3c-9723-42ef-9463-d88185206944').width('44%')"
       ],
       "metadata": {},
       "output_type": "display_data",
       "text": [
        "<IPython.core.display.Javascript at 0x1205b0a50>"
       ]
      },
      {
       "javascript": [
        "$('div#1ff8ae3c-9723-42ef-9463-d88185206944').width('45%')"
       ],
       "metadata": {},
       "output_type": "display_data",
       "text": [
        "<IPython.core.display.Javascript at 0x1205b0a50>"
       ]
      },
      {
       "javascript": [
        "$('div#1ff8ae3c-9723-42ef-9463-d88185206944').width('46%')"
       ],
       "metadata": {},
       "output_type": "display_data",
       "text": [
        "<IPython.core.display.Javascript at 0x1205b0a50>"
       ]
      },
      {
       "javascript": [
        "$('div#1ff8ae3c-9723-42ef-9463-d88185206944').width('46%')"
       ],
       "metadata": {},
       "output_type": "display_data",
       "text": [
        "<IPython.core.display.Javascript at 0x1205b0a50>"
       ]
      },
      {
       "javascript": [
        "$('div#1ff8ae3c-9723-42ef-9463-d88185206944').width('47%')"
       ],
       "metadata": {},
       "output_type": "display_data",
       "text": [
        "<IPython.core.display.Javascript at 0x1205b0a50>"
       ]
      },
      {
       "javascript": [
        "$('div#1ff8ae3c-9723-42ef-9463-d88185206944').width('48%')"
       ],
       "metadata": {},
       "output_type": "display_data",
       "text": [
        "<IPython.core.display.Javascript at 0x1205b0a50>"
       ]
      },
      {
       "javascript": [
        "$('div#1ff8ae3c-9723-42ef-9463-d88185206944').width('49%')"
       ],
       "metadata": {},
       "output_type": "display_data",
       "text": [
        "<IPython.core.display.Javascript at 0x1205b0a50>"
       ]
      },
      {
       "javascript": [
        "$('div#1ff8ae3c-9723-42ef-9463-d88185206944').width('50%')"
       ],
       "metadata": {},
       "output_type": "display_data",
       "text": [
        "<IPython.core.display.Javascript at 0x1205b0a50>"
       ]
      },
      {
       "javascript": [
        "$('div#1ff8ae3c-9723-42ef-9463-d88185206944').width('50%')"
       ],
       "metadata": {},
       "output_type": "display_data",
       "text": [
        "<IPython.core.display.Javascript at 0x1205b0a50>"
       ]
      },
      {
       "javascript": [
        "$('div#1ff8ae3c-9723-42ef-9463-d88185206944').width('51%')"
       ],
       "metadata": {},
       "output_type": "display_data",
       "text": [
        "<IPython.core.display.Javascript at 0x1205b0a50>"
       ]
      },
      {
       "javascript": [
        "$('div#1ff8ae3c-9723-42ef-9463-d88185206944').width('52%')"
       ],
       "metadata": {},
       "output_type": "display_data",
       "text": [
        "<IPython.core.display.Javascript at 0x1205b0a50>"
       ]
      },
      {
       "javascript": [
        "$('div#1ff8ae3c-9723-42ef-9463-d88185206944').width('53%')"
       ],
       "metadata": {},
       "output_type": "display_data",
       "text": [
        "<IPython.core.display.Javascript at 0x1205b0a50>"
       ]
      },
      {
       "javascript": [
        "$('div#1ff8ae3c-9723-42ef-9463-d88185206944').width('53%')"
       ],
       "metadata": {},
       "output_type": "display_data",
       "text": [
        "<IPython.core.display.Javascript at 0x1205b0a50>"
       ]
      },
      {
       "javascript": [
        "$('div#1ff8ae3c-9723-42ef-9463-d88185206944').width('54%')"
       ],
       "metadata": {},
       "output_type": "display_data",
       "text": [
        "<IPython.core.display.Javascript at 0x1205b0a50>"
       ]
      },
      {
       "javascript": [
        "$('div#1ff8ae3c-9723-42ef-9463-d88185206944').width('55%')"
       ],
       "metadata": {},
       "output_type": "display_data",
       "text": [
        "<IPython.core.display.Javascript at 0x1205b0a50>"
       ]
      },
      {
       "javascript": [
        "$('div#1ff8ae3c-9723-42ef-9463-d88185206944').width('56%')"
       ],
       "metadata": {},
       "output_type": "display_data",
       "text": [
        "<IPython.core.display.Javascript at 0x1205b0a50>"
       ]
      },
      {
       "javascript": [
        "$('div#1ff8ae3c-9723-42ef-9463-d88185206944').width('57%')"
       ],
       "metadata": {},
       "output_type": "display_data",
       "text": [
        "<IPython.core.display.Javascript at 0x1205b0a50>"
       ]
      },
      {
       "javascript": [
        "$('div#1ff8ae3c-9723-42ef-9463-d88185206944').width('57%')"
       ],
       "metadata": {},
       "output_type": "display_data",
       "text": [
        "<IPython.core.display.Javascript at 0x1205b0a50>"
       ]
      },
      {
       "javascript": [
        "$('div#1ff8ae3c-9723-42ef-9463-d88185206944').width('58%')"
       ],
       "metadata": {},
       "output_type": "display_data",
       "text": [
        "<IPython.core.display.Javascript at 0x1205b0a50>"
       ]
      },
      {
       "javascript": [
        "$('div#1ff8ae3c-9723-42ef-9463-d88185206944').width('59%')"
       ],
       "metadata": {},
       "output_type": "display_data",
       "text": [
        "<IPython.core.display.Javascript at 0x1205b0a50>"
       ]
      },
      {
       "javascript": [
        "$('div#1ff8ae3c-9723-42ef-9463-d88185206944').width('60%')"
       ],
       "metadata": {},
       "output_type": "display_data",
       "text": [
        "<IPython.core.display.Javascript at 0x1205b0a50>"
       ]
      },
      {
       "javascript": [
        "$('div#1ff8ae3c-9723-42ef-9463-d88185206944').width('60%')"
       ],
       "metadata": {},
       "output_type": "display_data",
       "text": [
        "<IPython.core.display.Javascript at 0x1205b0a50>"
       ]
      },
      {
       "javascript": [
        "$('div#1ff8ae3c-9723-42ef-9463-d88185206944').width('61%')"
       ],
       "metadata": {},
       "output_type": "display_data",
       "text": [
        "<IPython.core.display.Javascript at 0x1205b0a50>"
       ]
      },
      {
       "javascript": [
        "$('div#1ff8ae3c-9723-42ef-9463-d88185206944').width('62%')"
       ],
       "metadata": {},
       "output_type": "display_data",
       "text": [
        "<IPython.core.display.Javascript at 0x1205b0a50>"
       ]
      },
      {
       "javascript": [
        "$('div#1ff8ae3c-9723-42ef-9463-d88185206944').width('63%')"
       ],
       "metadata": {},
       "output_type": "display_data",
       "text": [
        "<IPython.core.display.Javascript at 0x1205b0a50>"
       ]
      },
      {
       "javascript": [
        "$('div#1ff8ae3c-9723-42ef-9463-d88185206944').width('64%')"
       ],
       "metadata": {},
       "output_type": "display_data",
       "text": [
        "<IPython.core.display.Javascript at 0x1205b0a50>"
       ]
      },
      {
       "javascript": [
        "$('div#1ff8ae3c-9723-42ef-9463-d88185206944').width('64%')"
       ],
       "metadata": {},
       "output_type": "display_data",
       "text": [
        "<IPython.core.display.Javascript at 0x1205b0a50>"
       ]
      },
      {
       "javascript": [
        "$('div#1ff8ae3c-9723-42ef-9463-d88185206944').width('65%')"
       ],
       "metadata": {},
       "output_type": "display_data",
       "text": [
        "<IPython.core.display.Javascript at 0x1205b0a50>"
       ]
      },
      {
       "javascript": [
        "$('div#1ff8ae3c-9723-42ef-9463-d88185206944').width('66%')"
       ],
       "metadata": {},
       "output_type": "display_data",
       "text": [
        "<IPython.core.display.Javascript at 0x1205b0a50>"
       ]
      },
      {
       "javascript": [
        "$('div#1ff8ae3c-9723-42ef-9463-d88185206944').width('67%')"
       ],
       "metadata": {},
       "output_type": "display_data",
       "text": [
        "<IPython.core.display.Javascript at 0x1205b0a50>"
       ]
      },
      {
       "javascript": [
        "$('div#1ff8ae3c-9723-42ef-9463-d88185206944').width('67%')"
       ],
       "metadata": {},
       "output_type": "display_data",
       "text": [
        "<IPython.core.display.Javascript at 0x1205b0a50>"
       ]
      },
      {
       "javascript": [
        "$('div#1ff8ae3c-9723-42ef-9463-d88185206944').width('68%')"
       ],
       "metadata": {},
       "output_type": "display_data",
       "text": [
        "<IPython.core.display.Javascript at 0x1205b0a50>"
       ]
      },
      {
       "javascript": [
        "$('div#1ff8ae3c-9723-42ef-9463-d88185206944').width('69%')"
       ],
       "metadata": {},
       "output_type": "display_data",
       "text": [
        "<IPython.core.display.Javascript at 0x1205b0a50>"
       ]
      },
      {
       "javascript": [
        "$('div#1ff8ae3c-9723-42ef-9463-d88185206944').width('70%')"
       ],
       "metadata": {},
       "output_type": "display_data",
       "text": [
        "<IPython.core.display.Javascript at 0x1205b0a50>"
       ]
      },
      {
       "javascript": [
        "$('div#1ff8ae3c-9723-42ef-9463-d88185206944').width('71%')"
       ],
       "metadata": {},
       "output_type": "display_data",
       "text": [
        "<IPython.core.display.Javascript at 0x1205b0a50>"
       ]
      },
      {
       "javascript": [
        "$('div#1ff8ae3c-9723-42ef-9463-d88185206944').width('71%')"
       ],
       "metadata": {},
       "output_type": "display_data",
       "text": [
        "<IPython.core.display.Javascript at 0x1205b0a50>"
       ]
      },
      {
       "javascript": [
        "$('div#1ff8ae3c-9723-42ef-9463-d88185206944').width('72%')"
       ],
       "metadata": {},
       "output_type": "display_data",
       "text": [
        "<IPython.core.display.Javascript at 0x1205b0a50>"
       ]
      },
      {
       "javascript": [
        "$('div#1ff8ae3c-9723-42ef-9463-d88185206944').width('73%')"
       ],
       "metadata": {},
       "output_type": "display_data",
       "text": [
        "<IPython.core.display.Javascript at 0x1205b0a50>"
       ]
      },
      {
       "javascript": [
        "$('div#1ff8ae3c-9723-42ef-9463-d88185206944').width('74%')"
       ],
       "metadata": {},
       "output_type": "display_data",
       "text": [
        "<IPython.core.display.Javascript at 0x1205b0a50>"
       ]
      },
      {
       "javascript": [
        "$('div#1ff8ae3c-9723-42ef-9463-d88185206944').width('75%')"
       ],
       "metadata": {},
       "output_type": "display_data",
       "text": [
        "<IPython.core.display.Javascript at 0x1205b0a50>"
       ]
      },
      {
       "javascript": [
        "$('div#1ff8ae3c-9723-42ef-9463-d88185206944').width('75%')"
       ],
       "metadata": {},
       "output_type": "display_data",
       "text": [
        "<IPython.core.display.Javascript at 0x1205b0a50>"
       ]
      },
      {
       "javascript": [
        "$('div#1ff8ae3c-9723-42ef-9463-d88185206944').width('76%')"
       ],
       "metadata": {},
       "output_type": "display_data",
       "text": [
        "<IPython.core.display.Javascript at 0x1205b0a50>"
       ]
      },
      {
       "javascript": [
        "$('div#1ff8ae3c-9723-42ef-9463-d88185206944').width('77%')"
       ],
       "metadata": {},
       "output_type": "display_data",
       "text": [
        "<IPython.core.display.Javascript at 0x1205b0a50>"
       ]
      },
      {
       "javascript": [
        "$('div#1ff8ae3c-9723-42ef-9463-d88185206944').width('78%')"
       ],
       "metadata": {},
       "output_type": "display_data",
       "text": [
        "<IPython.core.display.Javascript at 0x1205b0a50>"
       ]
      },
      {
       "javascript": [
        "$('div#1ff8ae3c-9723-42ef-9463-d88185206944').width('78%')"
       ],
       "metadata": {},
       "output_type": "display_data",
       "text": [
        "<IPython.core.display.Javascript at 0x1205b0a50>"
       ]
      },
      {
       "javascript": [
        "$('div#1ff8ae3c-9723-42ef-9463-d88185206944').width('79%')"
       ],
       "metadata": {},
       "output_type": "display_data",
       "text": [
        "<IPython.core.display.Javascript at 0x1205b0a50>"
       ]
      },
      {
       "javascript": [
        "$('div#1ff8ae3c-9723-42ef-9463-d88185206944').width('80%')"
       ],
       "metadata": {},
       "output_type": "display_data",
       "text": [
        "<IPython.core.display.Javascript at 0x1205b0a50>"
       ]
      },
      {
       "javascript": [
        "$('div#1ff8ae3c-9723-42ef-9463-d88185206944').width('81%')"
       ],
       "metadata": {},
       "output_type": "display_data",
       "text": [
        "<IPython.core.display.Javascript at 0x1205b0a50>"
       ]
      },
      {
       "javascript": [
        "$('div#1ff8ae3c-9723-42ef-9463-d88185206944').width('82%')"
       ],
       "metadata": {},
       "output_type": "display_data",
       "text": [
        "<IPython.core.display.Javascript at 0x1205b0a50>"
       ]
      },
      {
       "javascript": [
        "$('div#1ff8ae3c-9723-42ef-9463-d88185206944').width('82%')"
       ],
       "metadata": {},
       "output_type": "display_data",
       "text": [
        "<IPython.core.display.Javascript at 0x1205b0a50>"
       ]
      },
      {
       "javascript": [
        "$('div#1ff8ae3c-9723-42ef-9463-d88185206944').width('83%')"
       ],
       "metadata": {},
       "output_type": "display_data",
       "text": [
        "<IPython.core.display.Javascript at 0x1205b0a50>"
       ]
      },
      {
       "javascript": [
        "$('div#1ff8ae3c-9723-42ef-9463-d88185206944').width('84%')"
       ],
       "metadata": {},
       "output_type": "display_data",
       "text": [
        "<IPython.core.display.Javascript at 0x1205b0a50>"
       ]
      },
      {
       "javascript": [
        "$('div#1ff8ae3c-9723-42ef-9463-d88185206944').width('85%')"
       ],
       "metadata": {},
       "output_type": "display_data",
       "text": [
        "<IPython.core.display.Javascript at 0x1205b0a50>"
       ]
      },
      {
       "javascript": [
        "$('div#1ff8ae3c-9723-42ef-9463-d88185206944').width('85%')"
       ],
       "metadata": {},
       "output_type": "display_data",
       "text": [
        "<IPython.core.display.Javascript at 0x1205b0a50>"
       ]
      },
      {
       "javascript": [
        "$('div#1ff8ae3c-9723-42ef-9463-d88185206944').width('86%')"
       ],
       "metadata": {},
       "output_type": "display_data",
       "text": [
        "<IPython.core.display.Javascript at 0x1205b0a50>"
       ]
      },
      {
       "javascript": [
        "$('div#1ff8ae3c-9723-42ef-9463-d88185206944').width('87%')"
       ],
       "metadata": {},
       "output_type": "display_data",
       "text": [
        "<IPython.core.display.Javascript at 0x1205b0a50>"
       ]
      },
      {
       "javascript": [
        "$('div#1ff8ae3c-9723-42ef-9463-d88185206944').width('88%')"
       ],
       "metadata": {},
       "output_type": "display_data",
       "text": [
        "<IPython.core.display.Javascript at 0x1205b0a50>"
       ]
      },
      {
       "javascript": [
        "$('div#1ff8ae3c-9723-42ef-9463-d88185206944').width('89%')"
       ],
       "metadata": {},
       "output_type": "display_data",
       "text": [
        "<IPython.core.display.Javascript at 0x1205b0a50>"
       ]
      },
      {
       "javascript": [
        "$('div#1ff8ae3c-9723-42ef-9463-d88185206944').width('89%')"
       ],
       "metadata": {},
       "output_type": "display_data",
       "text": [
        "<IPython.core.display.Javascript at 0x1205b0a50>"
       ]
      },
      {
       "javascript": [
        "$('div#1ff8ae3c-9723-42ef-9463-d88185206944').width('90%')"
       ],
       "metadata": {},
       "output_type": "display_data",
       "text": [
        "<IPython.core.display.Javascript at 0x1205b0a50>"
       ]
      },
      {
       "javascript": [
        "$('div#1ff8ae3c-9723-42ef-9463-d88185206944').width('91%')"
       ],
       "metadata": {},
       "output_type": "display_data",
       "text": [
        "<IPython.core.display.Javascript at 0x1205b0a50>"
       ]
      },
      {
       "javascript": [
        "$('div#1ff8ae3c-9723-42ef-9463-d88185206944').width('92%')"
       ],
       "metadata": {},
       "output_type": "display_data",
       "text": [
        "<IPython.core.display.Javascript at 0x1205b0a50>"
       ]
      },
      {
       "javascript": [
        "$('div#1ff8ae3c-9723-42ef-9463-d88185206944').width('92%')"
       ],
       "metadata": {},
       "output_type": "display_data",
       "text": [
        "<IPython.core.display.Javascript at 0x1205b0a50>"
       ]
      },
      {
       "javascript": [
        "$('div#1ff8ae3c-9723-42ef-9463-d88185206944').width('93%')"
       ],
       "metadata": {},
       "output_type": "display_data",
       "text": [
        "<IPython.core.display.Javascript at 0x1205b0a50>"
       ]
      },
      {
       "javascript": [
        "$('div#1ff8ae3c-9723-42ef-9463-d88185206944').width('94%')"
       ],
       "metadata": {},
       "output_type": "display_data",
       "text": [
        "<IPython.core.display.Javascript at 0x1205b0a50>"
       ]
      },
      {
       "javascript": [
        "$('div#1ff8ae3c-9723-42ef-9463-d88185206944').width('95%')"
       ],
       "metadata": {},
       "output_type": "display_data",
       "text": [
        "<IPython.core.display.Javascript at 0x1205b0a50>"
       ]
      },
      {
       "javascript": [
        "$('div#1ff8ae3c-9723-42ef-9463-d88185206944').width('96%')"
       ],
       "metadata": {},
       "output_type": "display_data",
       "text": [
        "<IPython.core.display.Javascript at 0x1205b0a50>"
       ]
      },
      {
       "javascript": [
        "$('div#1ff8ae3c-9723-42ef-9463-d88185206944').width('96%')"
       ],
       "metadata": {},
       "output_type": "display_data",
       "text": [
        "<IPython.core.display.Javascript at 0x1205b0a50>"
       ]
      },
      {
       "javascript": [
        "$('div#1ff8ae3c-9723-42ef-9463-d88185206944').width('97%')"
       ],
       "metadata": {},
       "output_type": "display_data",
       "text": [
        "<IPython.core.display.Javascript at 0x1205b0a50>"
       ]
      },
      {
       "javascript": [
        "$('div#1ff8ae3c-9723-42ef-9463-d88185206944').width('98%')"
       ],
       "metadata": {},
       "output_type": "display_data",
       "text": [
        "<IPython.core.display.Javascript at 0x1205b0a50>"
       ]
      },
      {
       "javascript": [
        "$('div#1ff8ae3c-9723-42ef-9463-d88185206944').width('99%')"
       ],
       "metadata": {},
       "output_type": "display_data",
       "text": [
        "<IPython.core.display.Javascript at 0x1205b0a50>"
       ]
      },
      {
       "javascript": [
        "$('div#1ff8ae3c-9723-42ef-9463-d88185206944').width('100%')"
       ],
       "metadata": {},
       "output_type": "display_data",
       "text": [
        "<IPython.core.display.Javascript at 0x1205b09d0>"
       ]
      },
      {
       "html": [
        "<iframe src=http://127.0.0.1:8001/1224481 width=100%% height=420 frameborder=0></iframe>"
       ],
       "metadata": {},
       "output_type": "pyout",
       "prompt_number": 10,
       "text": [
        "<occiput.Core.RigidVolume at 0x1205bcfd0>"
       ]
      }
     ],
     "prompt_number": 10
    },
    {
     "cell_type": "heading",
     "level": 3,
     "metadata": {},
     "source": [
      "Projection: "
     ]
    },
    {
     "cell_type": "code",
     "collapsed": false,
     "input": [
      "# Compute projection: \n",
      "SCAN.activity_shape = [phantom_voxels_x,phantom_voxels_y,phantom_voxels_z]\n",
      "SCAN.activity_size  = [phantom_size_x,phantom_size_y,phantom_size_z]\n",
      "\n",
      "proj = SCAN.project(phantom.data); \n",
      "\n",
      "\n",
      "# Uncompress the projection data and visualize it: \n",
      "\n",
      "SCAN.uncompress(proj)"
     ],
     "language": "python",
     "metadata": {},
     "outputs": [
      {
       "html": [
        "\n",
        "        <div style=\"border: 1px solid white; width:100%%; height:6px; background-color:rgb(246,246,246)\">\n",
        "            <div id=\"9478284b-57d0-4c0f-9548-2e51fb84c5a8\" style=\"background-color:rgb(200,200,200); width:0%; height:6px\"> </div>\n",
        "        </div> \n",
        "        "
       ],
       "metadata": {},
       "output_type": "display_data",
       "text": [
        "<IPython.core.display.HTML at 0x1205b0450>"
       ]
      },
      {
       "javascript": [
        "$('div#9478284b-57d0-4c0f-9548-2e51fb84c5a8').width('1%')"
       ],
       "metadata": {},
       "output_type": "display_data",
       "text": [
        "<IPython.core.display.Javascript at 0x1205b0410>"
       ]
      },
      {
       "javascript": [
        "$('div#9478284b-57d0-4c0f-9548-2e51fb84c5a8').width('1%')"
       ],
       "metadata": {},
       "output_type": "display_data",
       "text": [
        "<IPython.core.display.Javascript at 0x1205b0410>"
       ]
      },
      {
       "javascript": [
        "$('div#9478284b-57d0-4c0f-9548-2e51fb84c5a8').width('1%')"
       ],
       "metadata": {},
       "output_type": "display_data",
       "text": [
        "<IPython.core.display.Javascript at 0x1205b0410>"
       ]
      },
      {
       "javascript": [
        "$('div#9478284b-57d0-4c0f-9548-2e51fb84c5a8').width('1%')"
       ],
       "metadata": {},
       "output_type": "display_data",
       "text": [
        "<IPython.core.display.Javascript at 0x1205b0410>"
       ]
      },
      {
       "javascript": [
        "$('div#9478284b-57d0-4c0f-9548-2e51fb84c5a8').width('1%')"
       ],
       "metadata": {},
       "output_type": "display_data",
       "text": [
        "<IPython.core.display.Javascript at 0x1205b0410>"
       ]
      },
      {
       "javascript": [
        "$('div#9478284b-57d0-4c0f-9548-2e51fb84c5a8').width('1%')"
       ],
       "metadata": {},
       "output_type": "display_data",
       "text": [
        "<IPython.core.display.Javascript at 0x1205b0410>"
       ]
      },
      {
       "javascript": [
        "$('div#9478284b-57d0-4c0f-9548-2e51fb84c5a8').width('2%')"
       ],
       "metadata": {},
       "output_type": "display_data",
       "text": [
        "<IPython.core.display.Javascript at 0x1205b0410>"
       ]
      },
      {
       "javascript": [
        "$('div#9478284b-57d0-4c0f-9548-2e51fb84c5a8').width('2%')"
       ],
       "metadata": {},
       "output_type": "display_data",
       "text": [
        "<IPython.core.display.Javascript at 0x1205b0410>"
       ]
      },
      {
       "javascript": [
        "$('div#9478284b-57d0-4c0f-9548-2e51fb84c5a8').width('3%')"
       ],
       "metadata": {},
       "output_type": "display_data",
       "text": [
        "<IPython.core.display.Javascript at 0x1205b0410>"
       ]
      },
      {
       "javascript": [
        "$('div#9478284b-57d0-4c0f-9548-2e51fb84c5a8').width('3%')"
       ],
       "metadata": {},
       "output_type": "display_data",
       "text": [
        "<IPython.core.display.Javascript at 0x1205b0410>"
       ]
      },
      {
       "javascript": [
        "$('div#9478284b-57d0-4c0f-9548-2e51fb84c5a8').width('3%')"
       ],
       "metadata": {},
       "output_type": "display_data",
       "text": [
        "<IPython.core.display.Javascript at 0x1205b0410>"
       ]
      },
      {
       "javascript": [
        "$('div#9478284b-57d0-4c0f-9548-2e51fb84c5a8').width('4%')"
       ],
       "metadata": {},
       "output_type": "display_data",
       "text": [
        "<IPython.core.display.Javascript at 0x1205b0410>"
       ]
      },
      {
       "javascript": [
        "$('div#9478284b-57d0-4c0f-9548-2e51fb84c5a8').width('4%')"
       ],
       "metadata": {},
       "output_type": "display_data",
       "text": [
        "<IPython.core.display.Javascript at 0x1205b0410>"
       ]
      },
      {
       "javascript": [
        "$('div#9478284b-57d0-4c0f-9548-2e51fb84c5a8').width('5%')"
       ],
       "metadata": {},
       "output_type": "display_data",
       "text": [
        "<IPython.core.display.Javascript at 0x1205b0410>"
       ]
      },
      {
       "javascript": [
        "$('div#9478284b-57d0-4c0f-9548-2e51fb84c5a8').width('5%')"
       ],
       "metadata": {},
       "output_type": "display_data",
       "text": [
        "<IPython.core.display.Javascript at 0x1205b0410>"
       ]
      },
      {
       "javascript": [
        "$('div#9478284b-57d0-4c0f-9548-2e51fb84c5a8').width('5%')"
       ],
       "metadata": {},
       "output_type": "display_data",
       "text": [
        "<IPython.core.display.Javascript at 0x1205b0410>"
       ]
      },
      {
       "javascript": [
        "$('div#9478284b-57d0-4c0f-9548-2e51fb84c5a8').width('6%')"
       ],
       "metadata": {},
       "output_type": "display_data",
       "text": [
        "<IPython.core.display.Javascript at 0x1205b0410>"
       ]
      },
      {
       "javascript": [
        "$('div#9478284b-57d0-4c0f-9548-2e51fb84c5a8').width('6%')"
       ],
       "metadata": {},
       "output_type": "display_data",
       "text": [
        "<IPython.core.display.Javascript at 0x1205b0410>"
       ]
      },
      {
       "javascript": [
        "$('div#9478284b-57d0-4c0f-9548-2e51fb84c5a8').width('7%')"
       ],
       "metadata": {},
       "output_type": "display_data",
       "text": [
        "<IPython.core.display.Javascript at 0x1205b0410>"
       ]
      },
      {
       "javascript": [
        "$('div#9478284b-57d0-4c0f-9548-2e51fb84c5a8').width('7%')"
       ],
       "metadata": {},
       "output_type": "display_data",
       "text": [
        "<IPython.core.display.Javascript at 0x1205b0410>"
       ]
      },
      {
       "javascript": [
        "$('div#9478284b-57d0-4c0f-9548-2e51fb84c5a8').width('7%')"
       ],
       "metadata": {},
       "output_type": "display_data",
       "text": [
        "<IPython.core.display.Javascript at 0x1205b0410>"
       ]
      },
      {
       "javascript": [
        "$('div#9478284b-57d0-4c0f-9548-2e51fb84c5a8').width('8%')"
       ],
       "metadata": {},
       "output_type": "display_data",
       "text": [
        "<IPython.core.display.Javascript at 0x1205b0410>"
       ]
      },
      {
       "javascript": [
        "$('div#9478284b-57d0-4c0f-9548-2e51fb84c5a8').width('8%')"
       ],
       "metadata": {},
       "output_type": "display_data",
       "text": [
        "<IPython.core.display.Javascript at 0x1205b0410>"
       ]
      },
      {
       "javascript": [
        "$('div#9478284b-57d0-4c0f-9548-2e51fb84c5a8').width('9%')"
       ],
       "metadata": {},
       "output_type": "display_data",
       "text": [
        "<IPython.core.display.Javascript at 0x1205b0410>"
       ]
      },
      {
       "javascript": [
        "$('div#9478284b-57d0-4c0f-9548-2e51fb84c5a8').width('9%')"
       ],
       "metadata": {},
       "output_type": "display_data",
       "text": [
        "<IPython.core.display.Javascript at 0x1205b0410>"
       ]
      },
      {
       "javascript": [
        "$('div#9478284b-57d0-4c0f-9548-2e51fb84c5a8').width('9%')"
       ],
       "metadata": {},
       "output_type": "display_data",
       "text": [
        "<IPython.core.display.Javascript at 0x1205b0410>"
       ]
      },
      {
       "javascript": [
        "$('div#9478284b-57d0-4c0f-9548-2e51fb84c5a8').width('10%')"
       ],
       "metadata": {},
       "output_type": "display_data",
       "text": [
        "<IPython.core.display.Javascript at 0x1205b0410>"
       ]
      },
      {
       "javascript": [
        "$('div#9478284b-57d0-4c0f-9548-2e51fb84c5a8').width('10%')"
       ],
       "metadata": {},
       "output_type": "display_data",
       "text": [
        "<IPython.core.display.Javascript at 0x1205b0410>"
       ]
      },
      {
       "javascript": [
        "$('div#9478284b-57d0-4c0f-9548-2e51fb84c5a8').width('11%')"
       ],
       "metadata": {},
       "output_type": "display_data",
       "text": [
        "<IPython.core.display.Javascript at 0x1205b0410>"
       ]
      },
      {
       "javascript": [
        "$('div#9478284b-57d0-4c0f-9548-2e51fb84c5a8').width('11%')"
       ],
       "metadata": {},
       "output_type": "display_data",
       "text": [
        "<IPython.core.display.Javascript at 0x1205b0410>"
       ]
      },
      {
       "javascript": [
        "$('div#9478284b-57d0-4c0f-9548-2e51fb84c5a8').width('11%')"
       ],
       "metadata": {},
       "output_type": "display_data",
       "text": [
        "<IPython.core.display.Javascript at 0x1205b0410>"
       ]
      },
      {
       "javascript": [
        "$('div#9478284b-57d0-4c0f-9548-2e51fb84c5a8').width('12%')"
       ],
       "metadata": {},
       "output_type": "display_data",
       "text": [
        "<IPython.core.display.Javascript at 0x1205b0410>"
       ]
      },
      {
       "javascript": [
        "$('div#9478284b-57d0-4c0f-9548-2e51fb84c5a8').width('12%')"
       ],
       "metadata": {},
       "output_type": "display_data",
       "text": [
        "<IPython.core.display.Javascript at 0x1205b0410>"
       ]
      },
      {
       "javascript": [
        "$('div#9478284b-57d0-4c0f-9548-2e51fb84c5a8').width('13%')"
       ],
       "metadata": {},
       "output_type": "display_data",
       "text": [
        "<IPython.core.display.Javascript at 0x1205b0410>"
       ]
      },
      {
       "javascript": [
        "$('div#9478284b-57d0-4c0f-9548-2e51fb84c5a8').width('13%')"
       ],
       "metadata": {},
       "output_type": "display_data",
       "text": [
        "<IPython.core.display.Javascript at 0x1205b0410>"
       ]
      },
      {
       "javascript": [
        "$('div#9478284b-57d0-4c0f-9548-2e51fb84c5a8').width('13%')"
       ],
       "metadata": {},
       "output_type": "display_data",
       "text": [
        "<IPython.core.display.Javascript at 0x1205b0410>"
       ]
      },
      {
       "javascript": [
        "$('div#9478284b-57d0-4c0f-9548-2e51fb84c5a8').width('14%')"
       ],
       "metadata": {},
       "output_type": "display_data",
       "text": [
        "<IPython.core.display.Javascript at 0x1205b0410>"
       ]
      },
      {
       "javascript": [
        "$('div#9478284b-57d0-4c0f-9548-2e51fb84c5a8').width('14%')"
       ],
       "metadata": {},
       "output_type": "display_data",
       "text": [
        "<IPython.core.display.Javascript at 0x1205b0410>"
       ]
      },
      {
       "javascript": [
        "$('div#9478284b-57d0-4c0f-9548-2e51fb84c5a8').width('15%')"
       ],
       "metadata": {},
       "output_type": "display_data",
       "text": [
        "<IPython.core.display.Javascript at 0x1205b0410>"
       ]
      },
      {
       "javascript": [
        "$('div#9478284b-57d0-4c0f-9548-2e51fb84c5a8').width('15%')"
       ],
       "metadata": {},
       "output_type": "display_data",
       "text": [
        "<IPython.core.display.Javascript at 0x1205b0410>"
       ]
      },
      {
       "javascript": [
        "$('div#9478284b-57d0-4c0f-9548-2e51fb84c5a8').width('15%')"
       ],
       "metadata": {},
       "output_type": "display_data",
       "text": [
        "<IPython.core.display.Javascript at 0x1205b0410>"
       ]
      },
      {
       "javascript": [
        "$('div#9478284b-57d0-4c0f-9548-2e51fb84c5a8').width('16%')"
       ],
       "metadata": {},
       "output_type": "display_data",
       "text": [
        "<IPython.core.display.Javascript at 0x1205b0410>"
       ]
      },
      {
       "javascript": [
        "$('div#9478284b-57d0-4c0f-9548-2e51fb84c5a8').width('16%')"
       ],
       "metadata": {},
       "output_type": "display_data",
       "text": [
        "<IPython.core.display.Javascript at 0x1205b0410>"
       ]
      },
      {
       "javascript": [
        "$('div#9478284b-57d0-4c0f-9548-2e51fb84c5a8').width('17%')"
       ],
       "metadata": {},
       "output_type": "display_data",
       "text": [
        "<IPython.core.display.Javascript at 0x1205b0410>"
       ]
      },
      {
       "javascript": [
        "$('div#9478284b-57d0-4c0f-9548-2e51fb84c5a8').width('17%')"
       ],
       "metadata": {},
       "output_type": "display_data",
       "text": [
        "<IPython.core.display.Javascript at 0x1205b0410>"
       ]
      },
      {
       "javascript": [
        "$('div#9478284b-57d0-4c0f-9548-2e51fb84c5a8').width('17%')"
       ],
       "metadata": {},
       "output_type": "display_data",
       "text": [
        "<IPython.core.display.Javascript at 0x1205b0410>"
       ]
      },
      {
       "javascript": [
        "$('div#9478284b-57d0-4c0f-9548-2e51fb84c5a8').width('18%')"
       ],
       "metadata": {},
       "output_type": "display_data",
       "text": [
        "<IPython.core.display.Javascript at 0x1205b0410>"
       ]
      },
      {
       "javascript": [
        "$('div#9478284b-57d0-4c0f-9548-2e51fb84c5a8').width('18%')"
       ],
       "metadata": {},
       "output_type": "display_data",
       "text": [
        "<IPython.core.display.Javascript at 0x1205b0410>"
       ]
      },
      {
       "javascript": [
        "$('div#9478284b-57d0-4c0f-9548-2e51fb84c5a8').width('19%')"
       ],
       "metadata": {},
       "output_type": "display_data",
       "text": [
        "<IPython.core.display.Javascript at 0x1205b0410>"
       ]
      },
      {
       "javascript": [
        "$('div#9478284b-57d0-4c0f-9548-2e51fb84c5a8').width('19%')"
       ],
       "metadata": {},
       "output_type": "display_data",
       "text": [
        "<IPython.core.display.Javascript at 0x1205b0410>"
       ]
      },
      {
       "javascript": [
        "$('div#9478284b-57d0-4c0f-9548-2e51fb84c5a8').width('19%')"
       ],
       "metadata": {},
       "output_type": "display_data",
       "text": [
        "<IPython.core.display.Javascript at 0x1205b0410>"
       ]
      },
      {
       "javascript": [
        "$('div#9478284b-57d0-4c0f-9548-2e51fb84c5a8').width('20%')"
       ],
       "metadata": {},
       "output_type": "display_data",
       "text": [
        "<IPython.core.display.Javascript at 0x1205b0410>"
       ]
      },
      {
       "javascript": [
        "$('div#9478284b-57d0-4c0f-9548-2e51fb84c5a8').width('20%')"
       ],
       "metadata": {},
       "output_type": "display_data",
       "text": [
        "<IPython.core.display.Javascript at 0x1205b0410>"
       ]
      },
      {
       "javascript": [
        "$('div#9478284b-57d0-4c0f-9548-2e51fb84c5a8').width('21%')"
       ],
       "metadata": {},
       "output_type": "display_data",
       "text": [
        "<IPython.core.display.Javascript at 0x1205b0410>"
       ]
      },
      {
       "javascript": [
        "$('div#9478284b-57d0-4c0f-9548-2e51fb84c5a8').width('21%')"
       ],
       "metadata": {},
       "output_type": "display_data",
       "text": [
        "<IPython.core.display.Javascript at 0x1205b0410>"
       ]
      },
      {
       "javascript": [
        "$('div#9478284b-57d0-4c0f-9548-2e51fb84c5a8').width('21%')"
       ],
       "metadata": {},
       "output_type": "display_data",
       "text": [
        "<IPython.core.display.Javascript at 0x1205b0410>"
       ]
      },
      {
       "javascript": [
        "$('div#9478284b-57d0-4c0f-9548-2e51fb84c5a8').width('22%')"
       ],
       "metadata": {},
       "output_type": "display_data",
       "text": [
        "<IPython.core.display.Javascript at 0x1205b0410>"
       ]
      },
      {
       "javascript": [
        "$('div#9478284b-57d0-4c0f-9548-2e51fb84c5a8').width('22%')"
       ],
       "metadata": {},
       "output_type": "display_data",
       "text": [
        "<IPython.core.display.Javascript at 0x1205b0410>"
       ]
      },
      {
       "javascript": [
        "$('div#9478284b-57d0-4c0f-9548-2e51fb84c5a8').width('23%')"
       ],
       "metadata": {},
       "output_type": "display_data",
       "text": [
        "<IPython.core.display.Javascript at 0x1205b0410>"
       ]
      },
      {
       "javascript": [
        "$('div#9478284b-57d0-4c0f-9548-2e51fb84c5a8').width('23%')"
       ],
       "metadata": {},
       "output_type": "display_data",
       "text": [
        "<IPython.core.display.Javascript at 0x1205b0410>"
       ]
      },
      {
       "javascript": [
        "$('div#9478284b-57d0-4c0f-9548-2e51fb84c5a8').width('23%')"
       ],
       "metadata": {},
       "output_type": "display_data",
       "text": [
        "<IPython.core.display.Javascript at 0x1205b0410>"
       ]
      },
      {
       "javascript": [
        "$('div#9478284b-57d0-4c0f-9548-2e51fb84c5a8').width('24%')"
       ],
       "metadata": {},
       "output_type": "display_data",
       "text": [
        "<IPython.core.display.Javascript at 0x1205b0410>"
       ]
      },
      {
       "javascript": [
        "$('div#9478284b-57d0-4c0f-9548-2e51fb84c5a8').width('24%')"
       ],
       "metadata": {},
       "output_type": "display_data",
       "text": [
        "<IPython.core.display.Javascript at 0x1205b0410>"
       ]
      },
      {
       "javascript": [
        "$('div#9478284b-57d0-4c0f-9548-2e51fb84c5a8').width('25%')"
       ],
       "metadata": {},
       "output_type": "display_data",
       "text": [
        "<IPython.core.display.Javascript at 0x1205b0410>"
       ]
      },
      {
       "javascript": [
        "$('div#9478284b-57d0-4c0f-9548-2e51fb84c5a8').width('25%')"
       ],
       "metadata": {},
       "output_type": "display_data",
       "text": [
        "<IPython.core.display.Javascript at 0x1205b0410>"
       ]
      },
      {
       "javascript": [
        "$('div#9478284b-57d0-4c0f-9548-2e51fb84c5a8').width('25%')"
       ],
       "metadata": {},
       "output_type": "display_data",
       "text": [
        "<IPython.core.display.Javascript at 0x1205b0410>"
       ]
      },
      {
       "javascript": [
        "$('div#9478284b-57d0-4c0f-9548-2e51fb84c5a8').width('26%')"
       ],
       "metadata": {},
       "output_type": "display_data",
       "text": [
        "<IPython.core.display.Javascript at 0x1205b0410>"
       ]
      },
      {
       "javascript": [
        "$('div#9478284b-57d0-4c0f-9548-2e51fb84c5a8').width('26%')"
       ],
       "metadata": {},
       "output_type": "display_data",
       "text": [
        "<IPython.core.display.Javascript at 0x1205b0410>"
       ]
      },
      {
       "javascript": [
        "$('div#9478284b-57d0-4c0f-9548-2e51fb84c5a8').width('26%')"
       ],
       "metadata": {},
       "output_type": "display_data",
       "text": [
        "<IPython.core.display.Javascript at 0x1205b0410>"
       ]
      },
      {
       "javascript": [
        "$('div#9478284b-57d0-4c0f-9548-2e51fb84c5a8').width('27%')"
       ],
       "metadata": {},
       "output_type": "display_data",
       "text": [
        "<IPython.core.display.Javascript at 0x1205b0410>"
       ]
      },
      {
       "javascript": [
        "$('div#9478284b-57d0-4c0f-9548-2e51fb84c5a8').width('27%')"
       ],
       "metadata": {},
       "output_type": "display_data",
       "text": [
        "<IPython.core.display.Javascript at 0x1205b0410>"
       ]
      },
      {
       "javascript": [
        "$('div#9478284b-57d0-4c0f-9548-2e51fb84c5a8').width('28%')"
       ],
       "metadata": {},
       "output_type": "display_data",
       "text": [
        "<IPython.core.display.Javascript at 0x1205b0410>"
       ]
      },
      {
       "javascript": [
        "$('div#9478284b-57d0-4c0f-9548-2e51fb84c5a8').width('28%')"
       ],
       "metadata": {},
       "output_type": "display_data",
       "text": [
        "<IPython.core.display.Javascript at 0x1205b0410>"
       ]
      },
      {
       "javascript": [
        "$('div#9478284b-57d0-4c0f-9548-2e51fb84c5a8').width('28%')"
       ],
       "metadata": {},
       "output_type": "display_data",
       "text": [
        "<IPython.core.display.Javascript at 0x1205b0410>"
       ]
      },
      {
       "javascript": [
        "$('div#9478284b-57d0-4c0f-9548-2e51fb84c5a8').width('29%')"
       ],
       "metadata": {},
       "output_type": "display_data",
       "text": [
        "<IPython.core.display.Javascript at 0x1205b0410>"
       ]
      },
      {
       "javascript": [
        "$('div#9478284b-57d0-4c0f-9548-2e51fb84c5a8').width('29%')"
       ],
       "metadata": {},
       "output_type": "display_data",
       "text": [
        "<IPython.core.display.Javascript at 0x1205b0410>"
       ]
      },
      {
       "javascript": [
        "$('div#9478284b-57d0-4c0f-9548-2e51fb84c5a8').width('30%')"
       ],
       "metadata": {},
       "output_type": "display_data",
       "text": [
        "<IPython.core.display.Javascript at 0x1205b0410>"
       ]
      },
      {
       "javascript": [
        "$('div#9478284b-57d0-4c0f-9548-2e51fb84c5a8').width('30%')"
       ],
       "metadata": {},
       "output_type": "display_data",
       "text": [
        "<IPython.core.display.Javascript at 0x1205b0410>"
       ]
      },
      {
       "javascript": [
        "$('div#9478284b-57d0-4c0f-9548-2e51fb84c5a8').width('30%')"
       ],
       "metadata": {},
       "output_type": "display_data",
       "text": [
        "<IPython.core.display.Javascript at 0x1205b0410>"
       ]
      },
      {
       "javascript": [
        "$('div#9478284b-57d0-4c0f-9548-2e51fb84c5a8').width('31%')"
       ],
       "metadata": {},
       "output_type": "display_data",
       "text": [
        "<IPython.core.display.Javascript at 0x1205b0410>"
       ]
      },
      {
       "javascript": [
        "$('div#9478284b-57d0-4c0f-9548-2e51fb84c5a8').width('31%')"
       ],
       "metadata": {},
       "output_type": "display_data",
       "text": [
        "<IPython.core.display.Javascript at 0x1205b0410>"
       ]
      },
      {
       "javascript": [
        "$('div#9478284b-57d0-4c0f-9548-2e51fb84c5a8').width('32%')"
       ],
       "metadata": {},
       "output_type": "display_data",
       "text": [
        "<IPython.core.display.Javascript at 0x1205b0410>"
       ]
      },
      {
       "javascript": [
        "$('div#9478284b-57d0-4c0f-9548-2e51fb84c5a8').width('32%')"
       ],
       "metadata": {},
       "output_type": "display_data",
       "text": [
        "<IPython.core.display.Javascript at 0x1205b0410>"
       ]
      },
      {
       "javascript": [
        "$('div#9478284b-57d0-4c0f-9548-2e51fb84c5a8').width('32%')"
       ],
       "metadata": {},
       "output_type": "display_data",
       "text": [
        "<IPython.core.display.Javascript at 0x1205b0410>"
       ]
      },
      {
       "javascript": [
        "$('div#9478284b-57d0-4c0f-9548-2e51fb84c5a8').width('33%')"
       ],
       "metadata": {},
       "output_type": "display_data",
       "text": [
        "<IPython.core.display.Javascript at 0x1205b0410>"
       ]
      },
      {
       "javascript": [
        "$('div#9478284b-57d0-4c0f-9548-2e51fb84c5a8').width('33%')"
       ],
       "metadata": {},
       "output_type": "display_data",
       "text": [
        "<IPython.core.display.Javascript at 0x1205b0410>"
       ]
      },
      {
       "javascript": [
        "$('div#9478284b-57d0-4c0f-9548-2e51fb84c5a8').width('34%')"
       ],
       "metadata": {},
       "output_type": "display_data",
       "text": [
        "<IPython.core.display.Javascript at 0x1205b0410>"
       ]
      },
      {
       "javascript": [
        "$('div#9478284b-57d0-4c0f-9548-2e51fb84c5a8').width('34%')"
       ],
       "metadata": {},
       "output_type": "display_data",
       "text": [
        "<IPython.core.display.Javascript at 0x1205b0410>"
       ]
      },
      {
       "javascript": [
        "$('div#9478284b-57d0-4c0f-9548-2e51fb84c5a8').width('34%')"
       ],
       "metadata": {},
       "output_type": "display_data",
       "text": [
        "<IPython.core.display.Javascript at 0x1205b0410>"
       ]
      },
      {
       "javascript": [
        "$('div#9478284b-57d0-4c0f-9548-2e51fb84c5a8').width('35%')"
       ],
       "metadata": {},
       "output_type": "display_data",
       "text": [
        "<IPython.core.display.Javascript at 0x1205b0410>"
       ]
      },
      {
       "javascript": [
        "$('div#9478284b-57d0-4c0f-9548-2e51fb84c5a8').width('35%')"
       ],
       "metadata": {},
       "output_type": "display_data",
       "text": [
        "<IPython.core.display.Javascript at 0x1205b0410>"
       ]
      },
      {
       "javascript": [
        "$('div#9478284b-57d0-4c0f-9548-2e51fb84c5a8').width('36%')"
       ],
       "metadata": {},
       "output_type": "display_data",
       "text": [
        "<IPython.core.display.Javascript at 0x1205b0410>"
       ]
      },
      {
       "javascript": [
        "$('div#9478284b-57d0-4c0f-9548-2e51fb84c5a8').width('36%')"
       ],
       "metadata": {},
       "output_type": "display_data",
       "text": [
        "<IPython.core.display.Javascript at 0x1205b0410>"
       ]
      },
      {
       "javascript": [
        "$('div#9478284b-57d0-4c0f-9548-2e51fb84c5a8').width('36%')"
       ],
       "metadata": {},
       "output_type": "display_data",
       "text": [
        "<IPython.core.display.Javascript at 0x1205b0410>"
       ]
      },
      {
       "javascript": [
        "$('div#9478284b-57d0-4c0f-9548-2e51fb84c5a8').width('37%')"
       ],
       "metadata": {},
       "output_type": "display_data",
       "text": [
        "<IPython.core.display.Javascript at 0x1205b0410>"
       ]
      },
      {
       "javascript": [
        "$('div#9478284b-57d0-4c0f-9548-2e51fb84c5a8').width('37%')"
       ],
       "metadata": {},
       "output_type": "display_data",
       "text": [
        "<IPython.core.display.Javascript at 0x1205b0410>"
       ]
      },
      {
       "javascript": [
        "$('div#9478284b-57d0-4c0f-9548-2e51fb84c5a8').width('38%')"
       ],
       "metadata": {},
       "output_type": "display_data",
       "text": [
        "<IPython.core.display.Javascript at 0x1205b0410>"
       ]
      },
      {
       "javascript": [
        "$('div#9478284b-57d0-4c0f-9548-2e51fb84c5a8').width('38%')"
       ],
       "metadata": {},
       "output_type": "display_data",
       "text": [
        "<IPython.core.display.Javascript at 0x1205b0410>"
       ]
      },
      {
       "javascript": [
        "$('div#9478284b-57d0-4c0f-9548-2e51fb84c5a8').width('38%')"
       ],
       "metadata": {},
       "output_type": "display_data",
       "text": [
        "<IPython.core.display.Javascript at 0x1205b0410>"
       ]
      },
      {
       "javascript": [
        "$('div#9478284b-57d0-4c0f-9548-2e51fb84c5a8').width('39%')"
       ],
       "metadata": {},
       "output_type": "display_data",
       "text": [
        "<IPython.core.display.Javascript at 0x1205b0410>"
       ]
      },
      {
       "javascript": [
        "$('div#9478284b-57d0-4c0f-9548-2e51fb84c5a8').width('39%')"
       ],
       "metadata": {},
       "output_type": "display_data",
       "text": [
        "<IPython.core.display.Javascript at 0x1205b0410>"
       ]
      },
      {
       "javascript": [
        "$('div#9478284b-57d0-4c0f-9548-2e51fb84c5a8').width('40%')"
       ],
       "metadata": {},
       "output_type": "display_data",
       "text": [
        "<IPython.core.display.Javascript at 0x1205b0410>"
       ]
      },
      {
       "javascript": [
        "$('div#9478284b-57d0-4c0f-9548-2e51fb84c5a8').width('40%')"
       ],
       "metadata": {},
       "output_type": "display_data",
       "text": [
        "<IPython.core.display.Javascript at 0x1205b0410>"
       ]
      },
      {
       "javascript": [
        "$('div#9478284b-57d0-4c0f-9548-2e51fb84c5a8').width('40%')"
       ],
       "metadata": {},
       "output_type": "display_data",
       "text": [
        "<IPython.core.display.Javascript at 0x1205b0410>"
       ]
      },
      {
       "javascript": [
        "$('div#9478284b-57d0-4c0f-9548-2e51fb84c5a8').width('41%')"
       ],
       "metadata": {},
       "output_type": "display_data",
       "text": [
        "<IPython.core.display.Javascript at 0x1205b0410>"
       ]
      },
      {
       "javascript": [
        "$('div#9478284b-57d0-4c0f-9548-2e51fb84c5a8').width('41%')"
       ],
       "metadata": {},
       "output_type": "display_data",
       "text": [
        "<IPython.core.display.Javascript at 0x1205b0410>"
       ]
      },
      {
       "javascript": [
        "$('div#9478284b-57d0-4c0f-9548-2e51fb84c5a8').width('42%')"
       ],
       "metadata": {},
       "output_type": "display_data",
       "text": [
        "<IPython.core.display.Javascript at 0x1205b0410>"
       ]
      },
      {
       "javascript": [
        "$('div#9478284b-57d0-4c0f-9548-2e51fb84c5a8').width('42%')"
       ],
       "metadata": {},
       "output_type": "display_data",
       "text": [
        "<IPython.core.display.Javascript at 0x1205b0410>"
       ]
      },
      {
       "javascript": [
        "$('div#9478284b-57d0-4c0f-9548-2e51fb84c5a8').width('42%')"
       ],
       "metadata": {},
       "output_type": "display_data",
       "text": [
        "<IPython.core.display.Javascript at 0x1205b0410>"
       ]
      },
      {
       "javascript": [
        "$('div#9478284b-57d0-4c0f-9548-2e51fb84c5a8').width('43%')"
       ],
       "metadata": {},
       "output_type": "display_data",
       "text": [
        "<IPython.core.display.Javascript at 0x1205b0410>"
       ]
      },
      {
       "javascript": [
        "$('div#9478284b-57d0-4c0f-9548-2e51fb84c5a8').width('43%')"
       ],
       "metadata": {},
       "output_type": "display_data",
       "text": [
        "<IPython.core.display.Javascript at 0x1205b0410>"
       ]
      },
      {
       "javascript": [
        "$('div#9478284b-57d0-4c0f-9548-2e51fb84c5a8').width('44%')"
       ],
       "metadata": {},
       "output_type": "display_data",
       "text": [
        "<IPython.core.display.Javascript at 0x1205b0410>"
       ]
      },
      {
       "javascript": [
        "$('div#9478284b-57d0-4c0f-9548-2e51fb84c5a8').width('44%')"
       ],
       "metadata": {},
       "output_type": "display_data",
       "text": [
        "<IPython.core.display.Javascript at 0x1205b0410>"
       ]
      },
      {
       "javascript": [
        "$('div#9478284b-57d0-4c0f-9548-2e51fb84c5a8').width('44%')"
       ],
       "metadata": {},
       "output_type": "display_data",
       "text": [
        "<IPython.core.display.Javascript at 0x1205b0410>"
       ]
      },
      {
       "javascript": [
        "$('div#9478284b-57d0-4c0f-9548-2e51fb84c5a8').width('45%')"
       ],
       "metadata": {},
       "output_type": "display_data",
       "text": [
        "<IPython.core.display.Javascript at 0x1205b0410>"
       ]
      },
      {
       "javascript": [
        "$('div#9478284b-57d0-4c0f-9548-2e51fb84c5a8').width('45%')"
       ],
       "metadata": {},
       "output_type": "display_data",
       "text": [
        "<IPython.core.display.Javascript at 0x1205b0410>"
       ]
      },
      {
       "javascript": [
        "$('div#9478284b-57d0-4c0f-9548-2e51fb84c5a8').width('46%')"
       ],
       "metadata": {},
       "output_type": "display_data",
       "text": [
        "<IPython.core.display.Javascript at 0x1205b0410>"
       ]
      },
      {
       "javascript": [
        "$('div#9478284b-57d0-4c0f-9548-2e51fb84c5a8').width('46%')"
       ],
       "metadata": {},
       "output_type": "display_data",
       "text": [
        "<IPython.core.display.Javascript at 0x1205b0410>"
       ]
      },
      {
       "javascript": [
        "$('div#9478284b-57d0-4c0f-9548-2e51fb84c5a8').width('46%')"
       ],
       "metadata": {},
       "output_type": "display_data",
       "text": [
        "<IPython.core.display.Javascript at 0x1205b0410>"
       ]
      },
      {
       "javascript": [
        "$('div#9478284b-57d0-4c0f-9548-2e51fb84c5a8').width('47%')"
       ],
       "metadata": {},
       "output_type": "display_data",
       "text": [
        "<IPython.core.display.Javascript at 0x1205b0410>"
       ]
      },
      {
       "javascript": [
        "$('div#9478284b-57d0-4c0f-9548-2e51fb84c5a8').width('47%')"
       ],
       "metadata": {},
       "output_type": "display_data",
       "text": [
        "<IPython.core.display.Javascript at 0x1205b0410>"
       ]
      },
      {
       "javascript": [
        "$('div#9478284b-57d0-4c0f-9548-2e51fb84c5a8').width('48%')"
       ],
       "metadata": {},
       "output_type": "display_data",
       "text": [
        "<IPython.core.display.Javascript at 0x1205b0410>"
       ]
      },
      {
       "javascript": [
        "$('div#9478284b-57d0-4c0f-9548-2e51fb84c5a8').width('48%')"
       ],
       "metadata": {},
       "output_type": "display_data",
       "text": [
        "<IPython.core.display.Javascript at 0x1205b0410>"
       ]
      },
      {
       "javascript": [
        "$('div#9478284b-57d0-4c0f-9548-2e51fb84c5a8').width('48%')"
       ],
       "metadata": {},
       "output_type": "display_data",
       "text": [
        "<IPython.core.display.Javascript at 0x1205b0410>"
       ]
      },
      {
       "javascript": [
        "$('div#9478284b-57d0-4c0f-9548-2e51fb84c5a8').width('49%')"
       ],
       "metadata": {},
       "output_type": "display_data",
       "text": [
        "<IPython.core.display.Javascript at 0x1205b0410>"
       ]
      },
      {
       "javascript": [
        "$('div#9478284b-57d0-4c0f-9548-2e51fb84c5a8').width('49%')"
       ],
       "metadata": {},
       "output_type": "display_data",
       "text": [
        "<IPython.core.display.Javascript at 0x1205b0410>"
       ]
      },
      {
       "javascript": [
        "$('div#9478284b-57d0-4c0f-9548-2e51fb84c5a8').width('50%')"
       ],
       "metadata": {},
       "output_type": "display_data",
       "text": [
        "<IPython.core.display.Javascript at 0x1205b0410>"
       ]
      },
      {
       "javascript": [
        "$('div#9478284b-57d0-4c0f-9548-2e51fb84c5a8').width('50%')"
       ],
       "metadata": {},
       "output_type": "display_data",
       "text": [
        "<IPython.core.display.Javascript at 0x1205b0410>"
       ]
      },
      {
       "javascript": [
        "$('div#9478284b-57d0-4c0f-9548-2e51fb84c5a8').width('50%')"
       ],
       "metadata": {},
       "output_type": "display_data",
       "text": [
        "<IPython.core.display.Javascript at 0x1205b0410>"
       ]
      },
      {
       "javascript": [
        "$('div#9478284b-57d0-4c0f-9548-2e51fb84c5a8').width('51%')"
       ],
       "metadata": {},
       "output_type": "display_data",
       "text": [
        "<IPython.core.display.Javascript at 0x1205b0410>"
       ]
      },
      {
       "javascript": [
        "$('div#9478284b-57d0-4c0f-9548-2e51fb84c5a8').width('51%')"
       ],
       "metadata": {},
       "output_type": "display_data",
       "text": [
        "<IPython.core.display.Javascript at 0x1205b0410>"
       ]
      },
      {
       "javascript": [
        "$('div#9478284b-57d0-4c0f-9548-2e51fb84c5a8').width('51%')"
       ],
       "metadata": {},
       "output_type": "display_data",
       "text": [
        "<IPython.core.display.Javascript at 0x1205b0410>"
       ]
      },
      {
       "javascript": [
        "$('div#9478284b-57d0-4c0f-9548-2e51fb84c5a8').width('52%')"
       ],
       "metadata": {},
       "output_type": "display_data",
       "text": [
        "<IPython.core.display.Javascript at 0x1205b0410>"
       ]
      },
      {
       "javascript": [
        "$('div#9478284b-57d0-4c0f-9548-2e51fb84c5a8').width('52%')"
       ],
       "metadata": {},
       "output_type": "display_data",
       "text": [
        "<IPython.core.display.Javascript at 0x1205b0410>"
       ]
      },
      {
       "javascript": [
        "$('div#9478284b-57d0-4c0f-9548-2e51fb84c5a8').width('53%')"
       ],
       "metadata": {},
       "output_type": "display_data",
       "text": [
        "<IPython.core.display.Javascript at 0x1205b0410>"
       ]
      },
      {
       "javascript": [
        "$('div#9478284b-57d0-4c0f-9548-2e51fb84c5a8').width('53%')"
       ],
       "metadata": {},
       "output_type": "display_data",
       "text": [
        "<IPython.core.display.Javascript at 0x1205b0410>"
       ]
      },
      {
       "javascript": [
        "$('div#9478284b-57d0-4c0f-9548-2e51fb84c5a8').width('53%')"
       ],
       "metadata": {},
       "output_type": "display_data",
       "text": [
        "<IPython.core.display.Javascript at 0x1205b0410>"
       ]
      },
      {
       "javascript": [
        "$('div#9478284b-57d0-4c0f-9548-2e51fb84c5a8').width('54%')"
       ],
       "metadata": {},
       "output_type": "display_data",
       "text": [
        "<IPython.core.display.Javascript at 0x1205b0410>"
       ]
      },
      {
       "javascript": [
        "$('div#9478284b-57d0-4c0f-9548-2e51fb84c5a8').width('54%')"
       ],
       "metadata": {},
       "output_type": "display_data",
       "text": [
        "<IPython.core.display.Javascript at 0x1205b0410>"
       ]
      },
      {
       "javascript": [
        "$('div#9478284b-57d0-4c0f-9548-2e51fb84c5a8').width('55%')"
       ],
       "metadata": {},
       "output_type": "display_data",
       "text": [
        "<IPython.core.display.Javascript at 0x1205b0410>"
       ]
      },
      {
       "javascript": [
        "$('div#9478284b-57d0-4c0f-9548-2e51fb84c5a8').width('55%')"
       ],
       "metadata": {},
       "output_type": "display_data",
       "text": [
        "<IPython.core.display.Javascript at 0x1205b0410>"
       ]
      },
      {
       "javascript": [
        "$('div#9478284b-57d0-4c0f-9548-2e51fb84c5a8').width('55%')"
       ],
       "metadata": {},
       "output_type": "display_data",
       "text": [
        "<IPython.core.display.Javascript at 0x1205b0410>"
       ]
      },
      {
       "javascript": [
        "$('div#9478284b-57d0-4c0f-9548-2e51fb84c5a8').width('56%')"
       ],
       "metadata": {},
       "output_type": "display_data",
       "text": [
        "<IPython.core.display.Javascript at 0x1205b0410>"
       ]
      },
      {
       "javascript": [
        "$('div#9478284b-57d0-4c0f-9548-2e51fb84c5a8').width('56%')"
       ],
       "metadata": {},
       "output_type": "display_data",
       "text": [
        "<IPython.core.display.Javascript at 0x1205b0410>"
       ]
      },
      {
       "javascript": [
        "$('div#9478284b-57d0-4c0f-9548-2e51fb84c5a8').width('57%')"
       ],
       "metadata": {},
       "output_type": "display_data",
       "text": [
        "<IPython.core.display.Javascript at 0x1205b0410>"
       ]
      },
      {
       "javascript": [
        "$('div#9478284b-57d0-4c0f-9548-2e51fb84c5a8').width('57%')"
       ],
       "metadata": {},
       "output_type": "display_data",
       "text": [
        "<IPython.core.display.Javascript at 0x1205b0410>"
       ]
      },
      {
       "javascript": [
        "$('div#9478284b-57d0-4c0f-9548-2e51fb84c5a8').width('57%')"
       ],
       "metadata": {},
       "output_type": "display_data",
       "text": [
        "<IPython.core.display.Javascript at 0x1205b0410>"
       ]
      },
      {
       "javascript": [
        "$('div#9478284b-57d0-4c0f-9548-2e51fb84c5a8').width('58%')"
       ],
       "metadata": {},
       "output_type": "display_data",
       "text": [
        "<IPython.core.display.Javascript at 0x1205b0410>"
       ]
      },
      {
       "javascript": [
        "$('div#9478284b-57d0-4c0f-9548-2e51fb84c5a8').width('58%')"
       ],
       "metadata": {},
       "output_type": "display_data",
       "text": [
        "<IPython.core.display.Javascript at 0x1205b0410>"
       ]
      },
      {
       "javascript": [
        "$('div#9478284b-57d0-4c0f-9548-2e51fb84c5a8').width('59%')"
       ],
       "metadata": {},
       "output_type": "display_data",
       "text": [
        "<IPython.core.display.Javascript at 0x1205b0410>"
       ]
      },
      {
       "javascript": [
        "$('div#9478284b-57d0-4c0f-9548-2e51fb84c5a8').width('59%')"
       ],
       "metadata": {},
       "output_type": "display_data",
       "text": [
        "<IPython.core.display.Javascript at 0x1205b0410>"
       ]
      },
      {
       "javascript": [
        "$('div#9478284b-57d0-4c0f-9548-2e51fb84c5a8').width('59%')"
       ],
       "metadata": {},
       "output_type": "display_data",
       "text": [
        "<IPython.core.display.Javascript at 0x1205b0410>"
       ]
      },
      {
       "javascript": [
        "$('div#9478284b-57d0-4c0f-9548-2e51fb84c5a8').width('60%')"
       ],
       "metadata": {},
       "output_type": "display_data",
       "text": [
        "<IPython.core.display.Javascript at 0x1205b0410>"
       ]
      },
      {
       "javascript": [
        "$('div#9478284b-57d0-4c0f-9548-2e51fb84c5a8').width('60%')"
       ],
       "metadata": {},
       "output_type": "display_data",
       "text": [
        "<IPython.core.display.Javascript at 0x1205b0410>"
       ]
      },
      {
       "javascript": [
        "$('div#9478284b-57d0-4c0f-9548-2e51fb84c5a8').width('61%')"
       ],
       "metadata": {},
       "output_type": "display_data",
       "text": [
        "<IPython.core.display.Javascript at 0x1205b0410>"
       ]
      },
      {
       "javascript": [
        "$('div#9478284b-57d0-4c0f-9548-2e51fb84c5a8').width('61%')"
       ],
       "metadata": {},
       "output_type": "display_data",
       "text": [
        "<IPython.core.display.Javascript at 0x1205b0410>"
       ]
      },
      {
       "javascript": [
        "$('div#9478284b-57d0-4c0f-9548-2e51fb84c5a8').width('61%')"
       ],
       "metadata": {},
       "output_type": "display_data",
       "text": [
        "<IPython.core.display.Javascript at 0x1205b0410>"
       ]
      },
      {
       "javascript": [
        "$('div#9478284b-57d0-4c0f-9548-2e51fb84c5a8').width('62%')"
       ],
       "metadata": {},
       "output_type": "display_data",
       "text": [
        "<IPython.core.display.Javascript at 0x1205b0410>"
       ]
      },
      {
       "javascript": [
        "$('div#9478284b-57d0-4c0f-9548-2e51fb84c5a8').width('62%')"
       ],
       "metadata": {},
       "output_type": "display_data",
       "text": [
        "<IPython.core.display.Javascript at 0x1205b0410>"
       ]
      },
      {
       "javascript": [
        "$('div#9478284b-57d0-4c0f-9548-2e51fb84c5a8').width('63%')"
       ],
       "metadata": {},
       "output_type": "display_data",
       "text": [
        "<IPython.core.display.Javascript at 0x1205b0410>"
       ]
      },
      {
       "javascript": [
        "$('div#9478284b-57d0-4c0f-9548-2e51fb84c5a8').width('63%')"
       ],
       "metadata": {},
       "output_type": "display_data",
       "text": [
        "<IPython.core.display.Javascript at 0x1205b0410>"
       ]
      },
      {
       "javascript": [
        "$('div#9478284b-57d0-4c0f-9548-2e51fb84c5a8').width('63%')"
       ],
       "metadata": {},
       "output_type": "display_data",
       "text": [
        "<IPython.core.display.Javascript at 0x1205b0410>"
       ]
      },
      {
       "javascript": [
        "$('div#9478284b-57d0-4c0f-9548-2e51fb84c5a8').width('64%')"
       ],
       "metadata": {},
       "output_type": "display_data",
       "text": [
        "<IPython.core.display.Javascript at 0x1205b0410>"
       ]
      },
      {
       "javascript": [
        "$('div#9478284b-57d0-4c0f-9548-2e51fb84c5a8').width('64%')"
       ],
       "metadata": {},
       "output_type": "display_data",
       "text": [
        "<IPython.core.display.Javascript at 0x1205b0410>"
       ]
      },
      {
       "javascript": [
        "$('div#9478284b-57d0-4c0f-9548-2e51fb84c5a8').width('65%')"
       ],
       "metadata": {},
       "output_type": "display_data",
       "text": [
        "<IPython.core.display.Javascript at 0x1205b0410>"
       ]
      },
      {
       "javascript": [
        "$('div#9478284b-57d0-4c0f-9548-2e51fb84c5a8').width('65%')"
       ],
       "metadata": {},
       "output_type": "display_data",
       "text": [
        "<IPython.core.display.Javascript at 0x1205b0410>"
       ]
      },
      {
       "javascript": [
        "$('div#9478284b-57d0-4c0f-9548-2e51fb84c5a8').width('65%')"
       ],
       "metadata": {},
       "output_type": "display_data",
       "text": [
        "<IPython.core.display.Javascript at 0x1205b0410>"
       ]
      },
      {
       "javascript": [
        "$('div#9478284b-57d0-4c0f-9548-2e51fb84c5a8').width('66%')"
       ],
       "metadata": {},
       "output_type": "display_data",
       "text": [
        "<IPython.core.display.Javascript at 0x1205b0410>"
       ]
      },
      {
       "javascript": [
        "$('div#9478284b-57d0-4c0f-9548-2e51fb84c5a8').width('66%')"
       ],
       "metadata": {},
       "output_type": "display_data",
       "text": [
        "<IPython.core.display.Javascript at 0x1205b0410>"
       ]
      },
      {
       "javascript": [
        "$('div#9478284b-57d0-4c0f-9548-2e51fb84c5a8').width('67%')"
       ],
       "metadata": {},
       "output_type": "display_data",
       "text": [
        "<IPython.core.display.Javascript at 0x1205b0410>"
       ]
      },
      {
       "javascript": [
        "$('div#9478284b-57d0-4c0f-9548-2e51fb84c5a8').width('67%')"
       ],
       "metadata": {},
       "output_type": "display_data",
       "text": [
        "<IPython.core.display.Javascript at 0x1205b0410>"
       ]
      },
      {
       "javascript": [
        "$('div#9478284b-57d0-4c0f-9548-2e51fb84c5a8').width('67%')"
       ],
       "metadata": {},
       "output_type": "display_data",
       "text": [
        "<IPython.core.display.Javascript at 0x1205b0410>"
       ]
      },
      {
       "javascript": [
        "$('div#9478284b-57d0-4c0f-9548-2e51fb84c5a8').width('68%')"
       ],
       "metadata": {},
       "output_type": "display_data",
       "text": [
        "<IPython.core.display.Javascript at 0x1205b0410>"
       ]
      },
      {
       "javascript": [
        "$('div#9478284b-57d0-4c0f-9548-2e51fb84c5a8').width('68%')"
       ],
       "metadata": {},
       "output_type": "display_data",
       "text": [
        "<IPython.core.display.Javascript at 0x1205b0410>"
       ]
      },
      {
       "javascript": [
        "$('div#9478284b-57d0-4c0f-9548-2e51fb84c5a8').width('69%')"
       ],
       "metadata": {},
       "output_type": "display_data",
       "text": [
        "<IPython.core.display.Javascript at 0x1205b0410>"
       ]
      },
      {
       "javascript": [
        "$('div#9478284b-57d0-4c0f-9548-2e51fb84c5a8').width('69%')"
       ],
       "metadata": {},
       "output_type": "display_data",
       "text": [
        "<IPython.core.display.Javascript at 0x1205b0410>"
       ]
      },
      {
       "javascript": [
        "$('div#9478284b-57d0-4c0f-9548-2e51fb84c5a8').width('69%')"
       ],
       "metadata": {},
       "output_type": "display_data",
       "text": [
        "<IPython.core.display.Javascript at 0x1205b0410>"
       ]
      },
      {
       "javascript": [
        "$('div#9478284b-57d0-4c0f-9548-2e51fb84c5a8').width('70%')"
       ],
       "metadata": {},
       "output_type": "display_data",
       "text": [
        "<IPython.core.display.Javascript at 0x1205b0410>"
       ]
      },
      {
       "javascript": [
        "$('div#9478284b-57d0-4c0f-9548-2e51fb84c5a8').width('70%')"
       ],
       "metadata": {},
       "output_type": "display_data",
       "text": [
        "<IPython.core.display.Javascript at 0x1205b0410>"
       ]
      },
      {
       "javascript": [
        "$('div#9478284b-57d0-4c0f-9548-2e51fb84c5a8').width('71%')"
       ],
       "metadata": {},
       "output_type": "display_data",
       "text": [
        "<IPython.core.display.Javascript at 0x1205b0410>"
       ]
      },
      {
       "javascript": [
        "$('div#9478284b-57d0-4c0f-9548-2e51fb84c5a8').width('71%')"
       ],
       "metadata": {},
       "output_type": "display_data",
       "text": [
        "<IPython.core.display.Javascript at 0x1205b0410>"
       ]
      },
      {
       "javascript": [
        "$('div#9478284b-57d0-4c0f-9548-2e51fb84c5a8').width('71%')"
       ],
       "metadata": {},
       "output_type": "display_data",
       "text": [
        "<IPython.core.display.Javascript at 0x1205b0410>"
       ]
      },
      {
       "javascript": [
        "$('div#9478284b-57d0-4c0f-9548-2e51fb84c5a8').width('72%')"
       ],
       "metadata": {},
       "output_type": "display_data",
       "text": [
        "<IPython.core.display.Javascript at 0x1205b0410>"
       ]
      },
      {
       "javascript": [
        "$('div#9478284b-57d0-4c0f-9548-2e51fb84c5a8').width('72%')"
       ],
       "metadata": {},
       "output_type": "display_data",
       "text": [
        "<IPython.core.display.Javascript at 0x1205b0410>"
       ]
      },
      {
       "javascript": [
        "$('div#9478284b-57d0-4c0f-9548-2e51fb84c5a8').width('73%')"
       ],
       "metadata": {},
       "output_type": "display_data",
       "text": [
        "<IPython.core.display.Javascript at 0x1205b0410>"
       ]
      },
      {
       "javascript": [
        "$('div#9478284b-57d0-4c0f-9548-2e51fb84c5a8').width('73%')"
       ],
       "metadata": {},
       "output_type": "display_data",
       "text": [
        "<IPython.core.display.Javascript at 0x1205b0410>"
       ]
      },
      {
       "javascript": [
        "$('div#9478284b-57d0-4c0f-9548-2e51fb84c5a8').width('73%')"
       ],
       "metadata": {},
       "output_type": "display_data",
       "text": [
        "<IPython.core.display.Javascript at 0x1205b0410>"
       ]
      },
      {
       "javascript": [
        "$('div#9478284b-57d0-4c0f-9548-2e51fb84c5a8').width('74%')"
       ],
       "metadata": {},
       "output_type": "display_data",
       "text": [
        "<IPython.core.display.Javascript at 0x1205b0410>"
       ]
      },
      {
       "javascript": [
        "$('div#9478284b-57d0-4c0f-9548-2e51fb84c5a8').width('74%')"
       ],
       "metadata": {},
       "output_type": "display_data",
       "text": [
        "<IPython.core.display.Javascript at 0x1205b0410>"
       ]
      },
      {
       "javascript": [
        "$('div#9478284b-57d0-4c0f-9548-2e51fb84c5a8').width('75%')"
       ],
       "metadata": {},
       "output_type": "display_data",
       "text": [
        "<IPython.core.display.Javascript at 0x1205b0410>"
       ]
      },
      {
       "javascript": [
        "$('div#9478284b-57d0-4c0f-9548-2e51fb84c5a8').width('75%')"
       ],
       "metadata": {},
       "output_type": "display_data",
       "text": [
        "<IPython.core.display.Javascript at 0x1205b0410>"
       ]
      },
      {
       "javascript": [
        "$('div#9478284b-57d0-4c0f-9548-2e51fb84c5a8').width('75%')"
       ],
       "metadata": {},
       "output_type": "display_data",
       "text": [
        "<IPython.core.display.Javascript at 0x1205b0410>"
       ]
      },
      {
       "javascript": [
        "$('div#9478284b-57d0-4c0f-9548-2e51fb84c5a8').width('76%')"
       ],
       "metadata": {},
       "output_type": "display_data",
       "text": [
        "<IPython.core.display.Javascript at 0x1205b0410>"
       ]
      },
      {
       "javascript": [
        "$('div#9478284b-57d0-4c0f-9548-2e51fb84c5a8').width('76%')"
       ],
       "metadata": {},
       "output_type": "display_data",
       "text": [
        "<IPython.core.display.Javascript at 0x1205b0410>"
       ]
      },
      {
       "javascript": [
        "$('div#9478284b-57d0-4c0f-9548-2e51fb84c5a8').width('76%')"
       ],
       "metadata": {},
       "output_type": "display_data",
       "text": [
        "<IPython.core.display.Javascript at 0x1205b0410>"
       ]
      },
      {
       "javascript": [
        "$('div#9478284b-57d0-4c0f-9548-2e51fb84c5a8').width('77%')"
       ],
       "metadata": {},
       "output_type": "display_data",
       "text": [
        "<IPython.core.display.Javascript at 0x1205b0410>"
       ]
      },
      {
       "javascript": [
        "$('div#9478284b-57d0-4c0f-9548-2e51fb84c5a8').width('77%')"
       ],
       "metadata": {},
       "output_type": "display_data",
       "text": [
        "<IPython.core.display.Javascript at 0x1205b0410>"
       ]
      },
      {
       "javascript": [
        "$('div#9478284b-57d0-4c0f-9548-2e51fb84c5a8').width('78%')"
       ],
       "metadata": {},
       "output_type": "display_data",
       "text": [
        "<IPython.core.display.Javascript at 0x1205b0410>"
       ]
      },
      {
       "javascript": [
        "$('div#9478284b-57d0-4c0f-9548-2e51fb84c5a8').width('78%')"
       ],
       "metadata": {},
       "output_type": "display_data",
       "text": [
        "<IPython.core.display.Javascript at 0x1205b0410>"
       ]
      },
      {
       "javascript": [
        "$('div#9478284b-57d0-4c0f-9548-2e51fb84c5a8').width('78%')"
       ],
       "metadata": {},
       "output_type": "display_data",
       "text": [
        "<IPython.core.display.Javascript at 0x1205b0410>"
       ]
      },
      {
       "javascript": [
        "$('div#9478284b-57d0-4c0f-9548-2e51fb84c5a8').width('79%')"
       ],
       "metadata": {},
       "output_type": "display_data",
       "text": [
        "<IPython.core.display.Javascript at 0x1205b0410>"
       ]
      },
      {
       "javascript": [
        "$('div#9478284b-57d0-4c0f-9548-2e51fb84c5a8').width('79%')"
       ],
       "metadata": {},
       "output_type": "display_data",
       "text": [
        "<IPython.core.display.Javascript at 0x1205b0410>"
       ]
      },
      {
       "javascript": [
        "$('div#9478284b-57d0-4c0f-9548-2e51fb84c5a8').width('80%')"
       ],
       "metadata": {},
       "output_type": "display_data",
       "text": [
        "<IPython.core.display.Javascript at 0x1205b0410>"
       ]
      },
      {
       "javascript": [
        "$('div#9478284b-57d0-4c0f-9548-2e51fb84c5a8').width('80%')"
       ],
       "metadata": {},
       "output_type": "display_data",
       "text": [
        "<IPython.core.display.Javascript at 0x1205b0410>"
       ]
      },
      {
       "javascript": [
        "$('div#9478284b-57d0-4c0f-9548-2e51fb84c5a8').width('80%')"
       ],
       "metadata": {},
       "output_type": "display_data",
       "text": [
        "<IPython.core.display.Javascript at 0x1205b0410>"
       ]
      },
      {
       "javascript": [
        "$('div#9478284b-57d0-4c0f-9548-2e51fb84c5a8').width('81%')"
       ],
       "metadata": {},
       "output_type": "display_data",
       "text": [
        "<IPython.core.display.Javascript at 0x1205b0410>"
       ]
      },
      {
       "javascript": [
        "$('div#9478284b-57d0-4c0f-9548-2e51fb84c5a8').width('81%')"
       ],
       "metadata": {},
       "output_type": "display_data",
       "text": [
        "<IPython.core.display.Javascript at 0x1205b0410>"
       ]
      },
      {
       "javascript": [
        "$('div#9478284b-57d0-4c0f-9548-2e51fb84c5a8').width('82%')"
       ],
       "metadata": {},
       "output_type": "display_data",
       "text": [
        "<IPython.core.display.Javascript at 0x1205b0410>"
       ]
      },
      {
       "javascript": [
        "$('div#9478284b-57d0-4c0f-9548-2e51fb84c5a8').width('82%')"
       ],
       "metadata": {},
       "output_type": "display_data",
       "text": [
        "<IPython.core.display.Javascript at 0x1205b0410>"
       ]
      },
      {
       "javascript": [
        "$('div#9478284b-57d0-4c0f-9548-2e51fb84c5a8').width('82%')"
       ],
       "metadata": {},
       "output_type": "display_data",
       "text": [
        "<IPython.core.display.Javascript at 0x1205b0410>"
       ]
      },
      {
       "javascript": [
        "$('div#9478284b-57d0-4c0f-9548-2e51fb84c5a8').width('83%')"
       ],
       "metadata": {},
       "output_type": "display_data",
       "text": [
        "<IPython.core.display.Javascript at 0x1205b0410>"
       ]
      },
      {
       "javascript": [
        "$('div#9478284b-57d0-4c0f-9548-2e51fb84c5a8').width('83%')"
       ],
       "metadata": {},
       "output_type": "display_data",
       "text": [
        "<IPython.core.display.Javascript at 0x1205b0410>"
       ]
      },
      {
       "javascript": [
        "$('div#9478284b-57d0-4c0f-9548-2e51fb84c5a8').width('84%')"
       ],
       "metadata": {},
       "output_type": "display_data",
       "text": [
        "<IPython.core.display.Javascript at 0x1205b0410>"
       ]
      },
      {
       "javascript": [
        "$('div#9478284b-57d0-4c0f-9548-2e51fb84c5a8').width('84%')"
       ],
       "metadata": {},
       "output_type": "display_data",
       "text": [
        "<IPython.core.display.Javascript at 0x1205b0410>"
       ]
      },
      {
       "javascript": [
        "$('div#9478284b-57d0-4c0f-9548-2e51fb84c5a8').width('84%')"
       ],
       "metadata": {},
       "output_type": "display_data",
       "text": [
        "<IPython.core.display.Javascript at 0x1205b0410>"
       ]
      },
      {
       "javascript": [
        "$('div#9478284b-57d0-4c0f-9548-2e51fb84c5a8').width('85%')"
       ],
       "metadata": {},
       "output_type": "display_data",
       "text": [
        "<IPython.core.display.Javascript at 0x1205b0410>"
       ]
      },
      {
       "javascript": [
        "$('div#9478284b-57d0-4c0f-9548-2e51fb84c5a8').width('85%')"
       ],
       "metadata": {},
       "output_type": "display_data",
       "text": [
        "<IPython.core.display.Javascript at 0x1205b0410>"
       ]
      },
      {
       "javascript": [
        "$('div#9478284b-57d0-4c0f-9548-2e51fb84c5a8').width('86%')"
       ],
       "metadata": {},
       "output_type": "display_data",
       "text": [
        "<IPython.core.display.Javascript at 0x1205b0410>"
       ]
      },
      {
       "javascript": [
        "$('div#9478284b-57d0-4c0f-9548-2e51fb84c5a8').width('86%')"
       ],
       "metadata": {},
       "output_type": "display_data",
       "text": [
        "<IPython.core.display.Javascript at 0x1205b0410>"
       ]
      },
      {
       "javascript": [
        "$('div#9478284b-57d0-4c0f-9548-2e51fb84c5a8').width('86%')"
       ],
       "metadata": {},
       "output_type": "display_data",
       "text": [
        "<IPython.core.display.Javascript at 0x1205b0410>"
       ]
      },
      {
       "javascript": [
        "$('div#9478284b-57d0-4c0f-9548-2e51fb84c5a8').width('87%')"
       ],
       "metadata": {},
       "output_type": "display_data",
       "text": [
        "<IPython.core.display.Javascript at 0x1205b0410>"
       ]
      },
      {
       "javascript": [
        "$('div#9478284b-57d0-4c0f-9548-2e51fb84c5a8').width('87%')"
       ],
       "metadata": {},
       "output_type": "display_data",
       "text": [
        "<IPython.core.display.Javascript at 0x1205b0410>"
       ]
      },
      {
       "javascript": [
        "$('div#9478284b-57d0-4c0f-9548-2e51fb84c5a8').width('88%')"
       ],
       "metadata": {},
       "output_type": "display_data",
       "text": [
        "<IPython.core.display.Javascript at 0x1205b0410>"
       ]
      },
      {
       "javascript": [
        "$('div#9478284b-57d0-4c0f-9548-2e51fb84c5a8').width('88%')"
       ],
       "metadata": {},
       "output_type": "display_data",
       "text": [
        "<IPython.core.display.Javascript at 0x1205b0410>"
       ]
      },
      {
       "javascript": [
        "$('div#9478284b-57d0-4c0f-9548-2e51fb84c5a8').width('88%')"
       ],
       "metadata": {},
       "output_type": "display_data",
       "text": [
        "<IPython.core.display.Javascript at 0x1205b0410>"
       ]
      },
      {
       "javascript": [
        "$('div#9478284b-57d0-4c0f-9548-2e51fb84c5a8').width('89%')"
       ],
       "metadata": {},
       "output_type": "display_data",
       "text": [
        "<IPython.core.display.Javascript at 0x1205b0410>"
       ]
      },
      {
       "javascript": [
        "$('div#9478284b-57d0-4c0f-9548-2e51fb84c5a8').width('89%')"
       ],
       "metadata": {},
       "output_type": "display_data",
       "text": [
        "<IPython.core.display.Javascript at 0x1205b0410>"
       ]
      },
      {
       "javascript": [
        "$('div#9478284b-57d0-4c0f-9548-2e51fb84c5a8').width('90%')"
       ],
       "metadata": {},
       "output_type": "display_data",
       "text": [
        "<IPython.core.display.Javascript at 0x1205b0410>"
       ]
      },
      {
       "javascript": [
        "$('div#9478284b-57d0-4c0f-9548-2e51fb84c5a8').width('90%')"
       ],
       "metadata": {},
       "output_type": "display_data",
       "text": [
        "<IPython.core.display.Javascript at 0x1205b0410>"
       ]
      },
      {
       "javascript": [
        "$('div#9478284b-57d0-4c0f-9548-2e51fb84c5a8').width('90%')"
       ],
       "metadata": {},
       "output_type": "display_data",
       "text": [
        "<IPython.core.display.Javascript at 0x1205b0410>"
       ]
      },
      {
       "javascript": [
        "$('div#9478284b-57d0-4c0f-9548-2e51fb84c5a8').width('91%')"
       ],
       "metadata": {},
       "output_type": "display_data",
       "text": [
        "<IPython.core.display.Javascript at 0x1205b0410>"
       ]
      },
      {
       "javascript": [
        "$('div#9478284b-57d0-4c0f-9548-2e51fb84c5a8').width('91%')"
       ],
       "metadata": {},
       "output_type": "display_data",
       "text": [
        "<IPython.core.display.Javascript at 0x1205b0410>"
       ]
      },
      {
       "javascript": [
        "$('div#9478284b-57d0-4c0f-9548-2e51fb84c5a8').width('92%')"
       ],
       "metadata": {},
       "output_type": "display_data",
       "text": [
        "<IPython.core.display.Javascript at 0x1205b0410>"
       ]
      },
      {
       "javascript": [
        "$('div#9478284b-57d0-4c0f-9548-2e51fb84c5a8').width('92%')"
       ],
       "metadata": {},
       "output_type": "display_data",
       "text": [
        "<IPython.core.display.Javascript at 0x1205b0410>"
       ]
      },
      {
       "javascript": [
        "$('div#9478284b-57d0-4c0f-9548-2e51fb84c5a8').width('92%')"
       ],
       "metadata": {},
       "output_type": "display_data",
       "text": [
        "<IPython.core.display.Javascript at 0x1205b0410>"
       ]
      },
      {
       "javascript": [
        "$('div#9478284b-57d0-4c0f-9548-2e51fb84c5a8').width('93%')"
       ],
       "metadata": {},
       "output_type": "display_data",
       "text": [
        "<IPython.core.display.Javascript at 0x1205b0410>"
       ]
      },
      {
       "javascript": [
        "$('div#9478284b-57d0-4c0f-9548-2e51fb84c5a8').width('93%')"
       ],
       "metadata": {},
       "output_type": "display_data",
       "text": [
        "<IPython.core.display.Javascript at 0x1205b0410>"
       ]
      },
      {
       "javascript": [
        "$('div#9478284b-57d0-4c0f-9548-2e51fb84c5a8').width('94%')"
       ],
       "metadata": {},
       "output_type": "display_data",
       "text": [
        "<IPython.core.display.Javascript at 0x1205b0410>"
       ]
      },
      {
       "javascript": [
        "$('div#9478284b-57d0-4c0f-9548-2e51fb84c5a8').width('94%')"
       ],
       "metadata": {},
       "output_type": "display_data",
       "text": [
        "<IPython.core.display.Javascript at 0x1205b0410>"
       ]
      },
      {
       "javascript": [
        "$('div#9478284b-57d0-4c0f-9548-2e51fb84c5a8').width('94%')"
       ],
       "metadata": {},
       "output_type": "display_data",
       "text": [
        "<IPython.core.display.Javascript at 0x1205b0410>"
       ]
      },
      {
       "javascript": [
        "$('div#9478284b-57d0-4c0f-9548-2e51fb84c5a8').width('95%')"
       ],
       "metadata": {},
       "output_type": "display_data",
       "text": [
        "<IPython.core.display.Javascript at 0x1205b0410>"
       ]
      },
      {
       "javascript": [
        "$('div#9478284b-57d0-4c0f-9548-2e51fb84c5a8').width('95%')"
       ],
       "metadata": {},
       "output_type": "display_data",
       "text": [
        "<IPython.core.display.Javascript at 0x1205b0410>"
       ]
      },
      {
       "javascript": [
        "$('div#9478284b-57d0-4c0f-9548-2e51fb84c5a8').width('96%')"
       ],
       "metadata": {},
       "output_type": "display_data",
       "text": [
        "<IPython.core.display.Javascript at 0x1205b0410>"
       ]
      },
      {
       "javascript": [
        "$('div#9478284b-57d0-4c0f-9548-2e51fb84c5a8').width('96%')"
       ],
       "metadata": {},
       "output_type": "display_data",
       "text": [
        "<IPython.core.display.Javascript at 0x1205b0410>"
       ]
      },
      {
       "javascript": [
        "$('div#9478284b-57d0-4c0f-9548-2e51fb84c5a8').width('96%')"
       ],
       "metadata": {},
       "output_type": "display_data",
       "text": [
        "<IPython.core.display.Javascript at 0x1205b0410>"
       ]
      },
      {
       "javascript": [
        "$('div#9478284b-57d0-4c0f-9548-2e51fb84c5a8').width('97%')"
       ],
       "metadata": {},
       "output_type": "display_data",
       "text": [
        "<IPython.core.display.Javascript at 0x1205b0410>"
       ]
      },
      {
       "javascript": [
        "$('div#9478284b-57d0-4c0f-9548-2e51fb84c5a8').width('97%')"
       ],
       "metadata": {},
       "output_type": "display_data",
       "text": [
        "<IPython.core.display.Javascript at 0x1205b0410>"
       ]
      },
      {
       "javascript": [
        "$('div#9478284b-57d0-4c0f-9548-2e51fb84c5a8').width('98%')"
       ],
       "metadata": {},
       "output_type": "display_data",
       "text": [
        "<IPython.core.display.Javascript at 0x1205b0410>"
       ]
      },
      {
       "javascript": [
        "$('div#9478284b-57d0-4c0f-9548-2e51fb84c5a8').width('98%')"
       ],
       "metadata": {},
       "output_type": "display_data",
       "text": [
        "<IPython.core.display.Javascript at 0x1205b0410>"
       ]
      },
      {
       "javascript": [
        "$('div#9478284b-57d0-4c0f-9548-2e51fb84c5a8').width('98%')"
       ],
       "metadata": {},
       "output_type": "display_data",
       "text": [
        "<IPython.core.display.Javascript at 0x1205b0410>"
       ]
      },
      {
       "javascript": [
        "$('div#9478284b-57d0-4c0f-9548-2e51fb84c5a8').width('99%')"
       ],
       "metadata": {},
       "output_type": "display_data",
       "text": [
        "<IPython.core.display.Javascript at 0x1205b0410>"
       ]
      },
      {
       "javascript": [
        "$('div#9478284b-57d0-4c0f-9548-2e51fb84c5a8').width('99%')"
       ],
       "metadata": {},
       "output_type": "display_data",
       "text": [
        "<IPython.core.display.Javascript at 0x1205b0410>"
       ]
      },
      {
       "javascript": [
        "$('div#9478284b-57d0-4c0f-9548-2e51fb84c5a8').width('100%')"
       ],
       "metadata": {},
       "output_type": "display_data",
       "text": [
        "<IPython.core.display.Javascript at 0x1205b03d0>"
       ]
      },
      {
       "html": [
        "<iframe src=http://127.0.0.1:8001/5267226 width=100%% height=420 frameborder=0></iframe>"
       ],
       "metadata": {},
       "output_type": "pyout",
       "prompt_number": 11,
       "text": [
        "<mMR.mMR.UncompressedProjection instance at 0x1205b6758>"
       ]
      }
     ],
     "prompt_number": 11
    },
    {
     "cell_type": "code",
     "collapsed": false,
     "input": [],
     "language": "python",
     "metadata": {},
     "outputs": [],
     "prompt_number": 11
    },
    {
     "cell_type": "code",
     "collapsed": false,
     "input": [],
     "language": "python",
     "metadata": {},
     "outputs": [],
     "prompt_number": 11
    },
    {
     "cell_type": "code",
     "collapsed": false,
     "input": [],
     "language": "python",
     "metadata": {},
     "outputs": [],
     "prompt_number": 11
    },
    {
     "cell_type": "code",
     "collapsed": false,
     "input": [],
     "language": "python",
     "metadata": {},
     "outputs": [],
     "prompt_number": 11
    },
    {
     "cell_type": "heading",
     "level": 3,
     "metadata": {},
     "source": [
      "Backprojection: "
     ]
    },
    {
     "cell_type": "code",
     "collapsed": false,
     "input": [
      "SCAN.volume_render(phantom,scale=1)"
     ],
     "language": "python",
     "metadata": {},
     "outputs": [
      {
       "html": [
        "\n",
        "        <div style=\"border: 1px solid white; width:100%%; height:6px; background-color:rgb(246,246,246)\">\n",
        "            <div id=\"b055dd2b-8f5f-4f7d-aa55-3b0388777828\" style=\"background-color:rgb(200,200,200); width:0%; height:6px\"> </div>\n",
        "        </div> \n",
        "        "
       ],
       "metadata": {},
       "output_type": "display_data",
       "text": [
        "<IPython.core.display.HTML at 0x1205b0650>"
       ]
      },
      {
       "javascript": [
        "$('div#b055dd2b-8f5f-4f7d-aa55-3b0388777828').width('1%')"
       ],
       "metadata": {},
       "output_type": "display_data",
       "text": [
        "<IPython.core.display.Javascript at 0x1205b0590>"
       ]
      },
      {
       "javascript": [
        "$('div#b055dd2b-8f5f-4f7d-aa55-3b0388777828').width('1%')"
       ],
       "metadata": {},
       "output_type": "display_data",
       "text": [
        "<IPython.core.display.Javascript at 0x1205b0590>"
       ]
      },
      {
       "javascript": [
        "$('div#b055dd2b-8f5f-4f7d-aa55-3b0388777828').width('1%')"
       ],
       "metadata": {},
       "output_type": "display_data",
       "text": [
        "<IPython.core.display.Javascript at 0x1205b0590>"
       ]
      },
      {
       "javascript": [
        "$('div#b055dd2b-8f5f-4f7d-aa55-3b0388777828').width('1%')"
       ],
       "metadata": {},
       "output_type": "display_data",
       "text": [
        "<IPython.core.display.Javascript at 0x1205b0590>"
       ]
      },
      {
       "javascript": [
        "$('div#b055dd2b-8f5f-4f7d-aa55-3b0388777828').width('2%')"
       ],
       "metadata": {},
       "output_type": "display_data",
       "text": [
        "<IPython.core.display.Javascript at 0x1205b0590>"
       ]
      },
      {
       "javascript": [
        "$('div#b055dd2b-8f5f-4f7d-aa55-3b0388777828').width('2%')"
       ],
       "metadata": {},
       "output_type": "display_data",
       "text": [
        "<IPython.core.display.Javascript at 0x1205b0590>"
       ]
      },
      {
       "javascript": [
        "$('div#b055dd2b-8f5f-4f7d-aa55-3b0388777828').width('3%')"
       ],
       "metadata": {},
       "output_type": "display_data",
       "text": [
        "<IPython.core.display.Javascript at 0x1205b0590>"
       ]
      },
      {
       "javascript": [
        "$('div#b055dd2b-8f5f-4f7d-aa55-3b0388777828').width('3%')"
       ],
       "metadata": {},
       "output_type": "display_data",
       "text": [
        "<IPython.core.display.Javascript at 0x1205b0590>"
       ]
      },
      {
       "javascript": [
        "$('div#b055dd2b-8f5f-4f7d-aa55-3b0388777828').width('4%')"
       ],
       "metadata": {},
       "output_type": "display_data",
       "text": [
        "<IPython.core.display.Javascript at 0x1205b0590>"
       ]
      },
      {
       "javascript": [
        "$('div#b055dd2b-8f5f-4f7d-aa55-3b0388777828').width('5%')"
       ],
       "metadata": {},
       "output_type": "display_data",
       "text": [
        "<IPython.core.display.Javascript at 0x1205b0590>"
       ]
      },
      {
       "javascript": [
        "$('div#b055dd2b-8f5f-4f7d-aa55-3b0388777828').width('5%')"
       ],
       "metadata": {},
       "output_type": "display_data",
       "text": [
        "<IPython.core.display.Javascript at 0x1205b0590>"
       ]
      },
      {
       "javascript": [
        "$('div#b055dd2b-8f5f-4f7d-aa55-3b0388777828').width('6%')"
       ],
       "metadata": {},
       "output_type": "display_data",
       "text": [
        "<IPython.core.display.Javascript at 0x1205b0590>"
       ]
      },
      {
       "javascript": [
        "$('div#b055dd2b-8f5f-4f7d-aa55-3b0388777828').width('6%')"
       ],
       "metadata": {},
       "output_type": "display_data",
       "text": [
        "<IPython.core.display.Javascript at 0x1205b0590>"
       ]
      },
      {
       "javascript": [
        "$('div#b055dd2b-8f5f-4f7d-aa55-3b0388777828').width('7%')"
       ],
       "metadata": {},
       "output_type": "display_data",
       "text": [
        "<IPython.core.display.Javascript at 0x1205b0590>"
       ]
      },
      {
       "javascript": [
        "$('div#b055dd2b-8f5f-4f7d-aa55-3b0388777828').width('7%')"
       ],
       "metadata": {},
       "output_type": "display_data",
       "text": [
        "<IPython.core.display.Javascript at 0x1205b0590>"
       ]
      },
      {
       "javascript": [
        "$('div#b055dd2b-8f5f-4f7d-aa55-3b0388777828').width('8%')"
       ],
       "metadata": {},
       "output_type": "display_data",
       "text": [
        "<IPython.core.display.Javascript at 0x1205b0590>"
       ]
      },
      {
       "javascript": [
        "$('div#b055dd2b-8f5f-4f7d-aa55-3b0388777828').width('8%')"
       ],
       "metadata": {},
       "output_type": "display_data",
       "text": [
        "<IPython.core.display.Javascript at 0x1205b0590>"
       ]
      },
      {
       "javascript": [
        "$('div#b055dd2b-8f5f-4f7d-aa55-3b0388777828').width('9%')"
       ],
       "metadata": {},
       "output_type": "display_data",
       "text": [
        "<IPython.core.display.Javascript at 0x1205b0590>"
       ]
      },
      {
       "javascript": [
        "$('div#b055dd2b-8f5f-4f7d-aa55-3b0388777828').width('10%')"
       ],
       "metadata": {},
       "output_type": "display_data",
       "text": [
        "<IPython.core.display.Javascript at 0x1205b0590>"
       ]
      },
      {
       "javascript": [
        "$('div#b055dd2b-8f5f-4f7d-aa55-3b0388777828').width('10%')"
       ],
       "metadata": {},
       "output_type": "display_data",
       "text": [
        "<IPython.core.display.Javascript at 0x1205b0590>"
       ]
      },
      {
       "javascript": [
        "$('div#b055dd2b-8f5f-4f7d-aa55-3b0388777828').width('11%')"
       ],
       "metadata": {},
       "output_type": "display_data",
       "text": [
        "<IPython.core.display.Javascript at 0x1205b0590>"
       ]
      },
      {
       "javascript": [
        "$('div#b055dd2b-8f5f-4f7d-aa55-3b0388777828').width('11%')"
       ],
       "metadata": {},
       "output_type": "display_data",
       "text": [
        "<IPython.core.display.Javascript at 0x1205b0590>"
       ]
      },
      {
       "javascript": [
        "$('div#b055dd2b-8f5f-4f7d-aa55-3b0388777828').width('12%')"
       ],
       "metadata": {},
       "output_type": "display_data",
       "text": [
        "<IPython.core.display.Javascript at 0x1205b0590>"
       ]
      },
      {
       "javascript": [
        "$('div#b055dd2b-8f5f-4f7d-aa55-3b0388777828').width('12%')"
       ],
       "metadata": {},
       "output_type": "display_data",
       "text": [
        "<IPython.core.display.Javascript at 0x1205b0590>"
       ]
      },
      {
       "javascript": [
        "$('div#b055dd2b-8f5f-4f7d-aa55-3b0388777828').width('13%')"
       ],
       "metadata": {},
       "output_type": "display_data",
       "text": [
        "<IPython.core.display.Javascript at 0x1205b0590>"
       ]
      },
      {
       "javascript": [
        "$('div#b055dd2b-8f5f-4f7d-aa55-3b0388777828').width('13%')"
       ],
       "metadata": {},
       "output_type": "display_data",
       "text": [
        "<IPython.core.display.Javascript at 0x1205b0590>"
       ]
      },
      {
       "javascript": [
        "$('div#b055dd2b-8f5f-4f7d-aa55-3b0388777828').width('14%')"
       ],
       "metadata": {},
       "output_type": "display_data",
       "text": [
        "<IPython.core.display.Javascript at 0x1205b0590>"
       ]
      },
      {
       "javascript": [
        "$('div#b055dd2b-8f5f-4f7d-aa55-3b0388777828').width('15%')"
       ],
       "metadata": {},
       "output_type": "display_data",
       "text": [
        "<IPython.core.display.Javascript at 0x1205b0590>"
       ]
      },
      {
       "javascript": [
        "$('div#b055dd2b-8f5f-4f7d-aa55-3b0388777828').width('15%')"
       ],
       "metadata": {},
       "output_type": "display_data",
       "text": [
        "<IPython.core.display.Javascript at 0x1205b0590>"
       ]
      },
      {
       "javascript": [
        "$('div#b055dd2b-8f5f-4f7d-aa55-3b0388777828').width('16%')"
       ],
       "metadata": {},
       "output_type": "display_data",
       "text": [
        "<IPython.core.display.Javascript at 0x1205b0590>"
       ]
      },
      {
       "javascript": [
        "$('div#b055dd2b-8f5f-4f7d-aa55-3b0388777828').width('16%')"
       ],
       "metadata": {},
       "output_type": "display_data",
       "text": [
        "<IPython.core.display.Javascript at 0x1205b0590>"
       ]
      },
      {
       "javascript": [
        "$('div#b055dd2b-8f5f-4f7d-aa55-3b0388777828').width('17%')"
       ],
       "metadata": {},
       "output_type": "display_data",
       "text": [
        "<IPython.core.display.Javascript at 0x1205b0590>"
       ]
      },
      {
       "javascript": [
        "$('div#b055dd2b-8f5f-4f7d-aa55-3b0388777828').width('17%')"
       ],
       "metadata": {},
       "output_type": "display_data",
       "text": [
        "<IPython.core.display.Javascript at 0x1205b0590>"
       ]
      },
      {
       "javascript": [
        "$('div#b055dd2b-8f5f-4f7d-aa55-3b0388777828').width('18%')"
       ],
       "metadata": {},
       "output_type": "display_data",
       "text": [
        "<IPython.core.display.Javascript at 0x1205b0590>"
       ]
      },
      {
       "javascript": [
        "$('div#b055dd2b-8f5f-4f7d-aa55-3b0388777828').width('18%')"
       ],
       "metadata": {},
       "output_type": "display_data",
       "text": [
        "<IPython.core.display.Javascript at 0x1205b0590>"
       ]
      },
      {
       "javascript": [
        "$('div#b055dd2b-8f5f-4f7d-aa55-3b0388777828').width('19%')"
       ],
       "metadata": {},
       "output_type": "display_data",
       "text": [
        "<IPython.core.display.Javascript at 0x1205b0590>"
       ]
      },
      {
       "javascript": [
        "$('div#b055dd2b-8f5f-4f7d-aa55-3b0388777828').width('20%')"
       ],
       "metadata": {},
       "output_type": "display_data",
       "text": [
        "<IPython.core.display.Javascript at 0x1205b0590>"
       ]
      },
      {
       "javascript": [
        "$('div#b055dd2b-8f5f-4f7d-aa55-3b0388777828').width('20%')"
       ],
       "metadata": {},
       "output_type": "display_data",
       "text": [
        "<IPython.core.display.Javascript at 0x1205b0590>"
       ]
      },
      {
       "javascript": [
        "$('div#b055dd2b-8f5f-4f7d-aa55-3b0388777828').width('21%')"
       ],
       "metadata": {},
       "output_type": "display_data",
       "text": [
        "<IPython.core.display.Javascript at 0x1205b0590>"
       ]
      },
      {
       "javascript": [
        "$('div#b055dd2b-8f5f-4f7d-aa55-3b0388777828').width('21%')"
       ],
       "metadata": {},
       "output_type": "display_data",
       "text": [
        "<IPython.core.display.Javascript at 0x1205b0590>"
       ]
      },
      {
       "javascript": [
        "$('div#b055dd2b-8f5f-4f7d-aa55-3b0388777828').width('22%')"
       ],
       "metadata": {},
       "output_type": "display_data",
       "text": [
        "<IPython.core.display.Javascript at 0x1205b0590>"
       ]
      },
      {
       "javascript": [
        "$('div#b055dd2b-8f5f-4f7d-aa55-3b0388777828').width('22%')"
       ],
       "metadata": {},
       "output_type": "display_data",
       "text": [
        "<IPython.core.display.Javascript at 0x1205b0590>"
       ]
      },
      {
       "javascript": [
        "$('div#b055dd2b-8f5f-4f7d-aa55-3b0388777828').width('23%')"
       ],
       "metadata": {},
       "output_type": "display_data",
       "text": [
        "<IPython.core.display.Javascript at 0x1205b0590>"
       ]
      },
      {
       "javascript": [
        "$('div#b055dd2b-8f5f-4f7d-aa55-3b0388777828').width('23%')"
       ],
       "metadata": {},
       "output_type": "display_data",
       "text": [
        "<IPython.core.display.Javascript at 0x1205b0590>"
       ]
      },
      {
       "javascript": [
        "$('div#b055dd2b-8f5f-4f7d-aa55-3b0388777828').width('24%')"
       ],
       "metadata": {},
       "output_type": "display_data",
       "text": [
        "<IPython.core.display.Javascript at 0x1205b0590>"
       ]
      },
      {
       "javascript": [
        "$('div#b055dd2b-8f5f-4f7d-aa55-3b0388777828').width('25%')"
       ],
       "metadata": {},
       "output_type": "display_data",
       "text": [
        "<IPython.core.display.Javascript at 0x1205b0590>"
       ]
      },
      {
       "javascript": [
        "$('div#b055dd2b-8f5f-4f7d-aa55-3b0388777828').width('25%')"
       ],
       "metadata": {},
       "output_type": "display_data",
       "text": [
        "<IPython.core.display.Javascript at 0x1205b0590>"
       ]
      },
      {
       "javascript": [
        "$('div#b055dd2b-8f5f-4f7d-aa55-3b0388777828').width('26%')"
       ],
       "metadata": {},
       "output_type": "display_data",
       "text": [
        "<IPython.core.display.Javascript at 0x1205b0590>"
       ]
      },
      {
       "javascript": [
        "$('div#b055dd2b-8f5f-4f7d-aa55-3b0388777828').width('26%')"
       ],
       "metadata": {},
       "output_type": "display_data",
       "text": [
        "<IPython.core.display.Javascript at 0x1205b0590>"
       ]
      },
      {
       "javascript": [
        "$('div#b055dd2b-8f5f-4f7d-aa55-3b0388777828').width('27%')"
       ],
       "metadata": {},
       "output_type": "display_data",
       "text": [
        "<IPython.core.display.Javascript at 0x1205b0590>"
       ]
      },
      {
       "javascript": [
        "$('div#b055dd2b-8f5f-4f7d-aa55-3b0388777828').width('27%')"
       ],
       "metadata": {},
       "output_type": "display_data",
       "text": [
        "<IPython.core.display.Javascript at 0x1205b0590>"
       ]
      },
      {
       "javascript": [
        "$('div#b055dd2b-8f5f-4f7d-aa55-3b0388777828').width('28%')"
       ],
       "metadata": {},
       "output_type": "display_data",
       "text": [
        "<IPython.core.display.Javascript at 0x1205b0590>"
       ]
      },
      {
       "javascript": [
        "$('div#b055dd2b-8f5f-4f7d-aa55-3b0388777828').width('28%')"
       ],
       "metadata": {},
       "output_type": "display_data",
       "text": [
        "<IPython.core.display.Javascript at 0x1205b0590>"
       ]
      },
      {
       "javascript": [
        "$('div#b055dd2b-8f5f-4f7d-aa55-3b0388777828').width('29%')"
       ],
       "metadata": {},
       "output_type": "display_data",
       "text": [
        "<IPython.core.display.Javascript at 0x1205b0590>"
       ]
      },
      {
       "javascript": [
        "$('div#b055dd2b-8f5f-4f7d-aa55-3b0388777828').width('30%')"
       ],
       "metadata": {},
       "output_type": "display_data",
       "text": [
        "<IPython.core.display.Javascript at 0x1205b0590>"
       ]
      },
      {
       "javascript": [
        "$('div#b055dd2b-8f5f-4f7d-aa55-3b0388777828').width('30%')"
       ],
       "metadata": {},
       "output_type": "display_data",
       "text": [
        "<IPython.core.display.Javascript at 0x1205b0590>"
       ]
      },
      {
       "javascript": [
        "$('div#b055dd2b-8f5f-4f7d-aa55-3b0388777828').width('31%')"
       ],
       "metadata": {},
       "output_type": "display_data",
       "text": [
        "<IPython.core.display.Javascript at 0x1205b0590>"
       ]
      },
      {
       "javascript": [
        "$('div#b055dd2b-8f5f-4f7d-aa55-3b0388777828').width('31%')"
       ],
       "metadata": {},
       "output_type": "display_data",
       "text": [
        "<IPython.core.display.Javascript at 0x1205b0590>"
       ]
      },
      {
       "javascript": [
        "$('div#b055dd2b-8f5f-4f7d-aa55-3b0388777828').width('32%')"
       ],
       "metadata": {},
       "output_type": "display_data",
       "text": [
        "<IPython.core.display.Javascript at 0x1205b0590>"
       ]
      },
      {
       "javascript": [
        "$('div#b055dd2b-8f5f-4f7d-aa55-3b0388777828').width('32%')"
       ],
       "metadata": {},
       "output_type": "display_data",
       "text": [
        "<IPython.core.display.Javascript at 0x1205b0590>"
       ]
      },
      {
       "javascript": [
        "$('div#b055dd2b-8f5f-4f7d-aa55-3b0388777828').width('33%')"
       ],
       "metadata": {},
       "output_type": "display_data",
       "text": [
        "<IPython.core.display.Javascript at 0x1205b0590>"
       ]
      },
      {
       "javascript": [
        "$('div#b055dd2b-8f5f-4f7d-aa55-3b0388777828').width('33%')"
       ],
       "metadata": {},
       "output_type": "display_data",
       "text": [
        "<IPython.core.display.Javascript at 0x1205b0590>"
       ]
      },
      {
       "javascript": [
        "$('div#b055dd2b-8f5f-4f7d-aa55-3b0388777828').width('34%')"
       ],
       "metadata": {},
       "output_type": "display_data",
       "text": [
        "<IPython.core.display.Javascript at 0x1205b0590>"
       ]
      },
      {
       "javascript": [
        "$('div#b055dd2b-8f5f-4f7d-aa55-3b0388777828').width('35%')"
       ],
       "metadata": {},
       "output_type": "display_data",
       "text": [
        "<IPython.core.display.Javascript at 0x1205b0590>"
       ]
      },
      {
       "javascript": [
        "$('div#b055dd2b-8f5f-4f7d-aa55-3b0388777828').width('35%')"
       ],
       "metadata": {},
       "output_type": "display_data",
       "text": [
        "<IPython.core.display.Javascript at 0x1205b0590>"
       ]
      },
      {
       "javascript": [
        "$('div#b055dd2b-8f5f-4f7d-aa55-3b0388777828').width('36%')"
       ],
       "metadata": {},
       "output_type": "display_data",
       "text": [
        "<IPython.core.display.Javascript at 0x1205b0590>"
       ]
      },
      {
       "javascript": [
        "$('div#b055dd2b-8f5f-4f7d-aa55-3b0388777828').width('36%')"
       ],
       "metadata": {},
       "output_type": "display_data",
       "text": [
        "<IPython.core.display.Javascript at 0x1205b0590>"
       ]
      },
      {
       "javascript": [
        "$('div#b055dd2b-8f5f-4f7d-aa55-3b0388777828').width('37%')"
       ],
       "metadata": {},
       "output_type": "display_data",
       "text": [
        "<IPython.core.display.Javascript at 0x1205b0590>"
       ]
      },
      {
       "javascript": [
        "$('div#b055dd2b-8f5f-4f7d-aa55-3b0388777828').width('37%')"
       ],
       "metadata": {},
       "output_type": "display_data",
       "text": [
        "<IPython.core.display.Javascript at 0x1205b0590>"
       ]
      },
      {
       "javascript": [
        "$('div#b055dd2b-8f5f-4f7d-aa55-3b0388777828').width('38%')"
       ],
       "metadata": {},
       "output_type": "display_data",
       "text": [
        "<IPython.core.display.Javascript at 0x1205b0590>"
       ]
      },
      {
       "javascript": [
        "$('div#b055dd2b-8f5f-4f7d-aa55-3b0388777828').width('38%')"
       ],
       "metadata": {},
       "output_type": "display_data",
       "text": [
        "<IPython.core.display.Javascript at 0x1205b0590>"
       ]
      },
      {
       "javascript": [
        "$('div#b055dd2b-8f5f-4f7d-aa55-3b0388777828').width('39%')"
       ],
       "metadata": {},
       "output_type": "display_data",
       "text": [
        "<IPython.core.display.Javascript at 0x1205b0590>"
       ]
      },
      {
       "javascript": [
        "$('div#b055dd2b-8f5f-4f7d-aa55-3b0388777828').width('40%')"
       ],
       "metadata": {},
       "output_type": "display_data",
       "text": [
        "<IPython.core.display.Javascript at 0x1205b0590>"
       ]
      },
      {
       "javascript": [
        "$('div#b055dd2b-8f5f-4f7d-aa55-3b0388777828').width('40%')"
       ],
       "metadata": {},
       "output_type": "display_data",
       "text": [
        "<IPython.core.display.Javascript at 0x1205b0590>"
       ]
      },
      {
       "javascript": [
        "$('div#b055dd2b-8f5f-4f7d-aa55-3b0388777828').width('41%')"
       ],
       "metadata": {},
       "output_type": "display_data",
       "text": [
        "<IPython.core.display.Javascript at 0x1205b0590>"
       ]
      },
      {
       "javascript": [
        "$('div#b055dd2b-8f5f-4f7d-aa55-3b0388777828').width('41%')"
       ],
       "metadata": {},
       "output_type": "display_data",
       "text": [
        "<IPython.core.display.Javascript at 0x1205b0590>"
       ]
      },
      {
       "javascript": [
        "$('div#b055dd2b-8f5f-4f7d-aa55-3b0388777828').width('42%')"
       ],
       "metadata": {},
       "output_type": "display_data",
       "text": [
        "<IPython.core.display.Javascript at 0x1205b0590>"
       ]
      },
      {
       "javascript": [
        "$('div#b055dd2b-8f5f-4f7d-aa55-3b0388777828').width('42%')"
       ],
       "metadata": {},
       "output_type": "display_data",
       "text": [
        "<IPython.core.display.Javascript at 0x1205b0590>"
       ]
      },
      {
       "javascript": [
        "$('div#b055dd2b-8f5f-4f7d-aa55-3b0388777828').width('43%')"
       ],
       "metadata": {},
       "output_type": "display_data",
       "text": [
        "<IPython.core.display.Javascript at 0x1205b0590>"
       ]
      },
      {
       "javascript": [
        "$('div#b055dd2b-8f5f-4f7d-aa55-3b0388777828').width('43%')"
       ],
       "metadata": {},
       "output_type": "display_data",
       "text": [
        "<IPython.core.display.Javascript at 0x1205b0590>"
       ]
      },
      {
       "javascript": [
        "$('div#b055dd2b-8f5f-4f7d-aa55-3b0388777828').width('44%')"
       ],
       "metadata": {},
       "output_type": "display_data",
       "text": [
        "<IPython.core.display.Javascript at 0x1205b0590>"
       ]
      },
      {
       "javascript": [
        "$('div#b055dd2b-8f5f-4f7d-aa55-3b0388777828').width('45%')"
       ],
       "metadata": {},
       "output_type": "display_data",
       "text": [
        "<IPython.core.display.Javascript at 0x1205b0590>"
       ]
      },
      {
       "javascript": [
        "$('div#b055dd2b-8f5f-4f7d-aa55-3b0388777828').width('45%')"
       ],
       "metadata": {},
       "output_type": "display_data",
       "text": [
        "<IPython.core.display.Javascript at 0x1205b0590>"
       ]
      },
      {
       "javascript": [
        "$('div#b055dd2b-8f5f-4f7d-aa55-3b0388777828').width('46%')"
       ],
       "metadata": {},
       "output_type": "display_data",
       "text": [
        "<IPython.core.display.Javascript at 0x1205b0590>"
       ]
      },
      {
       "javascript": [
        "$('div#b055dd2b-8f5f-4f7d-aa55-3b0388777828').width('46%')"
       ],
       "metadata": {},
       "output_type": "display_data",
       "text": [
        "<IPython.core.display.Javascript at 0x1205b0590>"
       ]
      },
      {
       "javascript": [
        "$('div#b055dd2b-8f5f-4f7d-aa55-3b0388777828').width('47%')"
       ],
       "metadata": {},
       "output_type": "display_data",
       "text": [
        "<IPython.core.display.Javascript at 0x1205b0590>"
       ]
      },
      {
       "javascript": [
        "$('div#b055dd2b-8f5f-4f7d-aa55-3b0388777828').width('47%')"
       ],
       "metadata": {},
       "output_type": "display_data",
       "text": [
        "<IPython.core.display.Javascript at 0x1205b0590>"
       ]
      },
      {
       "javascript": [
        "$('div#b055dd2b-8f5f-4f7d-aa55-3b0388777828').width('48%')"
       ],
       "metadata": {},
       "output_type": "display_data",
       "text": [
        "<IPython.core.display.Javascript at 0x1205b0590>"
       ]
      },
      {
       "javascript": [
        "$('div#b055dd2b-8f5f-4f7d-aa55-3b0388777828').width('48%')"
       ],
       "metadata": {},
       "output_type": "display_data",
       "text": [
        "<IPython.core.display.Javascript at 0x1205b0590>"
       ]
      },
      {
       "javascript": [
        "$('div#b055dd2b-8f5f-4f7d-aa55-3b0388777828').width('49%')"
       ],
       "metadata": {},
       "output_type": "display_data",
       "text": [
        "<IPython.core.display.Javascript at 0x1205b0590>"
       ]
      },
      {
       "javascript": [
        "$('div#b055dd2b-8f5f-4f7d-aa55-3b0388777828').width('50%')"
       ],
       "metadata": {},
       "output_type": "display_data",
       "text": [
        "<IPython.core.display.Javascript at 0x1205b0590>"
       ]
      },
      {
       "javascript": [
        "$('div#b055dd2b-8f5f-4f7d-aa55-3b0388777828').width('50%')"
       ],
       "metadata": {},
       "output_type": "display_data",
       "text": [
        "<IPython.core.display.Javascript at 0x1205b0590>"
       ]
      },
      {
       "javascript": [
        "$('div#b055dd2b-8f5f-4f7d-aa55-3b0388777828').width('51%')"
       ],
       "metadata": {},
       "output_type": "display_data",
       "text": [
        "<IPython.core.display.Javascript at 0x1205b0590>"
       ]
      },
      {
       "javascript": [
        "$('div#b055dd2b-8f5f-4f7d-aa55-3b0388777828').width('51%')"
       ],
       "metadata": {},
       "output_type": "display_data",
       "text": [
        "<IPython.core.display.Javascript at 0x1205b0590>"
       ]
      },
      {
       "javascript": [
        "$('div#b055dd2b-8f5f-4f7d-aa55-3b0388777828').width('52%')"
       ],
       "metadata": {},
       "output_type": "display_data",
       "text": [
        "<IPython.core.display.Javascript at 0x1205b0590>"
       ]
      },
      {
       "javascript": [
        "$('div#b055dd2b-8f5f-4f7d-aa55-3b0388777828').width('52%')"
       ],
       "metadata": {},
       "output_type": "display_data",
       "text": [
        "<IPython.core.display.Javascript at 0x1205b0590>"
       ]
      },
      {
       "javascript": [
        "$('div#b055dd2b-8f5f-4f7d-aa55-3b0388777828').width('53%')"
       ],
       "metadata": {},
       "output_type": "display_data",
       "text": [
        "<IPython.core.display.Javascript at 0x1205b0590>"
       ]
      },
      {
       "javascript": [
        "$('div#b055dd2b-8f5f-4f7d-aa55-3b0388777828').width('53%')"
       ],
       "metadata": {},
       "output_type": "display_data",
       "text": [
        "<IPython.core.display.Javascript at 0x1205b0590>"
       ]
      },
      {
       "javascript": [
        "$('div#b055dd2b-8f5f-4f7d-aa55-3b0388777828').width('54%')"
       ],
       "metadata": {},
       "output_type": "display_data",
       "text": [
        "<IPython.core.display.Javascript at 0x1205b0590>"
       ]
      },
      {
       "javascript": [
        "$('div#b055dd2b-8f5f-4f7d-aa55-3b0388777828').width('55%')"
       ],
       "metadata": {},
       "output_type": "display_data",
       "text": [
        "<IPython.core.display.Javascript at 0x1205b0590>"
       ]
      },
      {
       "javascript": [
        "$('div#b055dd2b-8f5f-4f7d-aa55-3b0388777828').width('55%')"
       ],
       "metadata": {},
       "output_type": "display_data",
       "text": [
        "<IPython.core.display.Javascript at 0x1205b0590>"
       ]
      },
      {
       "javascript": [
        "$('div#b055dd2b-8f5f-4f7d-aa55-3b0388777828').width('56%')"
       ],
       "metadata": {},
       "output_type": "display_data",
       "text": [
        "<IPython.core.display.Javascript at 0x1205b0590>"
       ]
      },
      {
       "javascript": [
        "$('div#b055dd2b-8f5f-4f7d-aa55-3b0388777828').width('56%')"
       ],
       "metadata": {},
       "output_type": "display_data",
       "text": [
        "<IPython.core.display.Javascript at 0x1205b0590>"
       ]
      },
      {
       "javascript": [
        "$('div#b055dd2b-8f5f-4f7d-aa55-3b0388777828').width('57%')"
       ],
       "metadata": {},
       "output_type": "display_data",
       "text": [
        "<IPython.core.display.Javascript at 0x1205b0590>"
       ]
      },
      {
       "javascript": [
        "$('div#b055dd2b-8f5f-4f7d-aa55-3b0388777828').width('57%')"
       ],
       "metadata": {},
       "output_type": "display_data",
       "text": [
        "<IPython.core.display.Javascript at 0x1205b0590>"
       ]
      },
      {
       "javascript": [
        "$('div#b055dd2b-8f5f-4f7d-aa55-3b0388777828').width('58%')"
       ],
       "metadata": {},
       "output_type": "display_data",
       "text": [
        "<IPython.core.display.Javascript at 0x1205b0590>"
       ]
      },
      {
       "javascript": [
        "$('div#b055dd2b-8f5f-4f7d-aa55-3b0388777828').width('58%')"
       ],
       "metadata": {},
       "output_type": "display_data",
       "text": [
        "<IPython.core.display.Javascript at 0x1205b0590>"
       ]
      },
      {
       "javascript": [
        "$('div#b055dd2b-8f5f-4f7d-aa55-3b0388777828').width('59%')"
       ],
       "metadata": {},
       "output_type": "display_data",
       "text": [
        "<IPython.core.display.Javascript at 0x1205b0590>"
       ]
      },
      {
       "javascript": [
        "$('div#b055dd2b-8f5f-4f7d-aa55-3b0388777828').width('60%')"
       ],
       "metadata": {},
       "output_type": "display_data",
       "text": [
        "<IPython.core.display.Javascript at 0x1205b0590>"
       ]
      },
      {
       "javascript": [
        "$('div#b055dd2b-8f5f-4f7d-aa55-3b0388777828').width('60%')"
       ],
       "metadata": {},
       "output_type": "display_data",
       "text": [
        "<IPython.core.display.Javascript at 0x1205b0590>"
       ]
      },
      {
       "javascript": [
        "$('div#b055dd2b-8f5f-4f7d-aa55-3b0388777828').width('61%')"
       ],
       "metadata": {},
       "output_type": "display_data",
       "text": [
        "<IPython.core.display.Javascript at 0x1205b0590>"
       ]
      },
      {
       "javascript": [
        "$('div#b055dd2b-8f5f-4f7d-aa55-3b0388777828').width('61%')"
       ],
       "metadata": {},
       "output_type": "display_data",
       "text": [
        "<IPython.core.display.Javascript at 0x1205b0590>"
       ]
      },
      {
       "javascript": [
        "$('div#b055dd2b-8f5f-4f7d-aa55-3b0388777828').width('62%')"
       ],
       "metadata": {},
       "output_type": "display_data",
       "text": [
        "<IPython.core.display.Javascript at 0x1205b0590>"
       ]
      },
      {
       "javascript": [
        "$('div#b055dd2b-8f5f-4f7d-aa55-3b0388777828').width('62%')"
       ],
       "metadata": {},
       "output_type": "display_data",
       "text": [
        "<IPython.core.display.Javascript at 0x1205b0590>"
       ]
      },
      {
       "javascript": [
        "$('div#b055dd2b-8f5f-4f7d-aa55-3b0388777828').width('63%')"
       ],
       "metadata": {},
       "output_type": "display_data",
       "text": [
        "<IPython.core.display.Javascript at 0x1205b0590>"
       ]
      },
      {
       "javascript": [
        "$('div#b055dd2b-8f5f-4f7d-aa55-3b0388777828').width('63%')"
       ],
       "metadata": {},
       "output_type": "display_data",
       "text": [
        "<IPython.core.display.Javascript at 0x1205b0590>"
       ]
      },
      {
       "javascript": [
        "$('div#b055dd2b-8f5f-4f7d-aa55-3b0388777828').width('64%')"
       ],
       "metadata": {},
       "output_type": "display_data",
       "text": [
        "<IPython.core.display.Javascript at 0x1205b0590>"
       ]
      },
      {
       "javascript": [
        "$('div#b055dd2b-8f5f-4f7d-aa55-3b0388777828').width('65%')"
       ],
       "metadata": {},
       "output_type": "display_data",
       "text": [
        "<IPython.core.display.Javascript at 0x1205b0590>"
       ]
      },
      {
       "javascript": [
        "$('div#b055dd2b-8f5f-4f7d-aa55-3b0388777828').width('65%')"
       ],
       "metadata": {},
       "output_type": "display_data",
       "text": [
        "<IPython.core.display.Javascript at 0x1205b0590>"
       ]
      },
      {
       "javascript": [
        "$('div#b055dd2b-8f5f-4f7d-aa55-3b0388777828').width('66%')"
       ],
       "metadata": {},
       "output_type": "display_data",
       "text": [
        "<IPython.core.display.Javascript at 0x1205b0590>"
       ]
      },
      {
       "javascript": [
        "$('div#b055dd2b-8f5f-4f7d-aa55-3b0388777828').width('66%')"
       ],
       "metadata": {},
       "output_type": "display_data",
       "text": [
        "<IPython.core.display.Javascript at 0x1205b0590>"
       ]
      },
      {
       "javascript": [
        "$('div#b055dd2b-8f5f-4f7d-aa55-3b0388777828').width('67%')"
       ],
       "metadata": {},
       "output_type": "display_data",
       "text": [
        "<IPython.core.display.Javascript at 0x1205b0590>"
       ]
      },
      {
       "javascript": [
        "$('div#b055dd2b-8f5f-4f7d-aa55-3b0388777828').width('67%')"
       ],
       "metadata": {},
       "output_type": "display_data",
       "text": [
        "<IPython.core.display.Javascript at 0x1205b0590>"
       ]
      },
      {
       "javascript": [
        "$('div#b055dd2b-8f5f-4f7d-aa55-3b0388777828').width('68%')"
       ],
       "metadata": {},
       "output_type": "display_data",
       "text": [
        "<IPython.core.display.Javascript at 0x1205b0590>"
       ]
      },
      {
       "javascript": [
        "$('div#b055dd2b-8f5f-4f7d-aa55-3b0388777828').width('68%')"
       ],
       "metadata": {},
       "output_type": "display_data",
       "text": [
        "<IPython.core.display.Javascript at 0x1205b0590>"
       ]
      },
      {
       "javascript": [
        "$('div#b055dd2b-8f5f-4f7d-aa55-3b0388777828').width('69%')"
       ],
       "metadata": {},
       "output_type": "display_data",
       "text": [
        "<IPython.core.display.Javascript at 0x1205b0590>"
       ]
      },
      {
       "javascript": [
        "$('div#b055dd2b-8f5f-4f7d-aa55-3b0388777828').width('70%')"
       ],
       "metadata": {},
       "output_type": "display_data",
       "text": [
        "<IPython.core.display.Javascript at 0x1205b0590>"
       ]
      },
      {
       "javascript": [
        "$('div#b055dd2b-8f5f-4f7d-aa55-3b0388777828').width('70%')"
       ],
       "metadata": {},
       "output_type": "display_data",
       "text": [
        "<IPython.core.display.Javascript at 0x1205b0590>"
       ]
      },
      {
       "javascript": [
        "$('div#b055dd2b-8f5f-4f7d-aa55-3b0388777828').width('71%')"
       ],
       "metadata": {},
       "output_type": "display_data",
       "text": [
        "<IPython.core.display.Javascript at 0x1205b0590>"
       ]
      },
      {
       "javascript": [
        "$('div#b055dd2b-8f5f-4f7d-aa55-3b0388777828').width('71%')"
       ],
       "metadata": {},
       "output_type": "display_data",
       "text": [
        "<IPython.core.display.Javascript at 0x1205b0590>"
       ]
      },
      {
       "javascript": [
        "$('div#b055dd2b-8f5f-4f7d-aa55-3b0388777828').width('72%')"
       ],
       "metadata": {},
       "output_type": "display_data",
       "text": [
        "<IPython.core.display.Javascript at 0x1205b0590>"
       ]
      },
      {
       "javascript": [
        "$('div#b055dd2b-8f5f-4f7d-aa55-3b0388777828').width('72%')"
       ],
       "metadata": {},
       "output_type": "display_data",
       "text": [
        "<IPython.core.display.Javascript at 0x1205b0590>"
       ]
      },
      {
       "javascript": [
        "$('div#b055dd2b-8f5f-4f7d-aa55-3b0388777828').width('73%')"
       ],
       "metadata": {},
       "output_type": "display_data",
       "text": [
        "<IPython.core.display.Javascript at 0x1205b0590>"
       ]
      },
      {
       "javascript": [
        "$('div#b055dd2b-8f5f-4f7d-aa55-3b0388777828').width('73%')"
       ],
       "metadata": {},
       "output_type": "display_data",
       "text": [
        "<IPython.core.display.Javascript at 0x1205b0590>"
       ]
      },
      {
       "javascript": [
        "$('div#b055dd2b-8f5f-4f7d-aa55-3b0388777828').width('74%')"
       ],
       "metadata": {},
       "output_type": "display_data",
       "text": [
        "<IPython.core.display.Javascript at 0x1205b0590>"
       ]
      },
      {
       "javascript": [
        "$('div#b055dd2b-8f5f-4f7d-aa55-3b0388777828').width('75%')"
       ],
       "metadata": {},
       "output_type": "display_data",
       "text": [
        "<IPython.core.display.Javascript at 0x1205b0590>"
       ]
      },
      {
       "javascript": [
        "$('div#b055dd2b-8f5f-4f7d-aa55-3b0388777828').width('75%')"
       ],
       "metadata": {},
       "output_type": "display_data",
       "text": [
        "<IPython.core.display.Javascript at 0x1205b0590>"
       ]
      },
      {
       "javascript": [
        "$('div#b055dd2b-8f5f-4f7d-aa55-3b0388777828').width('76%')"
       ],
       "metadata": {},
       "output_type": "display_data",
       "text": [
        "<IPython.core.display.Javascript at 0x1205b0590>"
       ]
      },
      {
       "javascript": [
        "$('div#b055dd2b-8f5f-4f7d-aa55-3b0388777828').width('76%')"
       ],
       "metadata": {},
       "output_type": "display_data",
       "text": [
        "<IPython.core.display.Javascript at 0x1205b0590>"
       ]
      },
      {
       "javascript": [
        "$('div#b055dd2b-8f5f-4f7d-aa55-3b0388777828').width('77%')"
       ],
       "metadata": {},
       "output_type": "display_data",
       "text": [
        "<IPython.core.display.Javascript at 0x1205b0590>"
       ]
      },
      {
       "javascript": [
        "$('div#b055dd2b-8f5f-4f7d-aa55-3b0388777828').width('77%')"
       ],
       "metadata": {},
       "output_type": "display_data",
       "text": [
        "<IPython.core.display.Javascript at 0x1205b0590>"
       ]
      },
      {
       "javascript": [
        "$('div#b055dd2b-8f5f-4f7d-aa55-3b0388777828').width('78%')"
       ],
       "metadata": {},
       "output_type": "display_data",
       "text": [
        "<IPython.core.display.Javascript at 0x1205b0590>"
       ]
      },
      {
       "javascript": [
        "$('div#b055dd2b-8f5f-4f7d-aa55-3b0388777828').width('78%')"
       ],
       "metadata": {},
       "output_type": "display_data",
       "text": [
        "<IPython.core.display.Javascript at 0x1205b0590>"
       ]
      },
      {
       "javascript": [
        "$('div#b055dd2b-8f5f-4f7d-aa55-3b0388777828').width('79%')"
       ],
       "metadata": {},
       "output_type": "display_data",
       "text": [
        "<IPython.core.display.Javascript at 0x1205b0590>"
       ]
      },
      {
       "javascript": [
        "$('div#b055dd2b-8f5f-4f7d-aa55-3b0388777828').width('80%')"
       ],
       "metadata": {},
       "output_type": "display_data",
       "text": [
        "<IPython.core.display.Javascript at 0x1205b0590>"
       ]
      },
      {
       "javascript": [
        "$('div#b055dd2b-8f5f-4f7d-aa55-3b0388777828').width('80%')"
       ],
       "metadata": {},
       "output_type": "display_data",
       "text": [
        "<IPython.core.display.Javascript at 0x1205b0590>"
       ]
      },
      {
       "javascript": [
        "$('div#b055dd2b-8f5f-4f7d-aa55-3b0388777828').width('81%')"
       ],
       "metadata": {},
       "output_type": "display_data",
       "text": [
        "<IPython.core.display.Javascript at 0x1205b0590>"
       ]
      },
      {
       "javascript": [
        "$('div#b055dd2b-8f5f-4f7d-aa55-3b0388777828').width('81%')"
       ],
       "metadata": {},
       "output_type": "display_data",
       "text": [
        "<IPython.core.display.Javascript at 0x1205b0590>"
       ]
      },
      {
       "javascript": [
        "$('div#b055dd2b-8f5f-4f7d-aa55-3b0388777828').width('82%')"
       ],
       "metadata": {},
       "output_type": "display_data",
       "text": [
        "<IPython.core.display.Javascript at 0x1205b0590>"
       ]
      },
      {
       "javascript": [
        "$('div#b055dd2b-8f5f-4f7d-aa55-3b0388777828').width('82%')"
       ],
       "metadata": {},
       "output_type": "display_data",
       "text": [
        "<IPython.core.display.Javascript at 0x1205b0590>"
       ]
      },
      {
       "javascript": [
        "$('div#b055dd2b-8f5f-4f7d-aa55-3b0388777828').width('83%')"
       ],
       "metadata": {},
       "output_type": "display_data",
       "text": [
        "<IPython.core.display.Javascript at 0x1205b0590>"
       ]
      },
      {
       "javascript": [
        "$('div#b055dd2b-8f5f-4f7d-aa55-3b0388777828').width('83%')"
       ],
       "metadata": {},
       "output_type": "display_data",
       "text": [
        "<IPython.core.display.Javascript at 0x1205b0590>"
       ]
      },
      {
       "javascript": [
        "$('div#b055dd2b-8f5f-4f7d-aa55-3b0388777828').width('84%')"
       ],
       "metadata": {},
       "output_type": "display_data",
       "text": [
        "<IPython.core.display.Javascript at 0x1205b0590>"
       ]
      },
      {
       "javascript": [
        "$('div#b055dd2b-8f5f-4f7d-aa55-3b0388777828').width('85%')"
       ],
       "metadata": {},
       "output_type": "display_data",
       "text": [
        "<IPython.core.display.Javascript at 0x1205b0590>"
       ]
      },
      {
       "javascript": [
        "$('div#b055dd2b-8f5f-4f7d-aa55-3b0388777828').width('85%')"
       ],
       "metadata": {},
       "output_type": "display_data",
       "text": [
        "<IPython.core.display.Javascript at 0x1205b0590>"
       ]
      },
      {
       "javascript": [
        "$('div#b055dd2b-8f5f-4f7d-aa55-3b0388777828').width('86%')"
       ],
       "metadata": {},
       "output_type": "display_data",
       "text": [
        "<IPython.core.display.Javascript at 0x1205b0590>"
       ]
      },
      {
       "javascript": [
        "$('div#b055dd2b-8f5f-4f7d-aa55-3b0388777828').width('86%')"
       ],
       "metadata": {},
       "output_type": "display_data",
       "text": [
        "<IPython.core.display.Javascript at 0x1205b0590>"
       ]
      },
      {
       "javascript": [
        "$('div#b055dd2b-8f5f-4f7d-aa55-3b0388777828').width('87%')"
       ],
       "metadata": {},
       "output_type": "display_data",
       "text": [
        "<IPython.core.display.Javascript at 0x1205b0590>"
       ]
      },
      {
       "javascript": [
        "$('div#b055dd2b-8f5f-4f7d-aa55-3b0388777828').width('87%')"
       ],
       "metadata": {},
       "output_type": "display_data",
       "text": [
        "<IPython.core.display.Javascript at 0x1205b0590>"
       ]
      },
      {
       "javascript": [
        "$('div#b055dd2b-8f5f-4f7d-aa55-3b0388777828').width('88%')"
       ],
       "metadata": {},
       "output_type": "display_data",
       "text": [
        "<IPython.core.display.Javascript at 0x1205b0590>"
       ]
      },
      {
       "javascript": [
        "$('div#b055dd2b-8f5f-4f7d-aa55-3b0388777828').width('88%')"
       ],
       "metadata": {},
       "output_type": "display_data",
       "text": [
        "<IPython.core.display.Javascript at 0x1205b0590>"
       ]
      },
      {
       "javascript": [
        "$('div#b055dd2b-8f5f-4f7d-aa55-3b0388777828').width('89%')"
       ],
       "metadata": {},
       "output_type": "display_data",
       "text": [
        "<IPython.core.display.Javascript at 0x1205b0590>"
       ]
      },
      {
       "javascript": [
        "$('div#b055dd2b-8f5f-4f7d-aa55-3b0388777828').width('90%')"
       ],
       "metadata": {},
       "output_type": "display_data",
       "text": [
        "<IPython.core.display.Javascript at 0x1205b0590>"
       ]
      },
      {
       "javascript": [
        "$('div#b055dd2b-8f5f-4f7d-aa55-3b0388777828').width('90%')"
       ],
       "metadata": {},
       "output_type": "display_data",
       "text": [
        "<IPython.core.display.Javascript at 0x1205b0590>"
       ]
      },
      {
       "javascript": [
        "$('div#b055dd2b-8f5f-4f7d-aa55-3b0388777828').width('91%')"
       ],
       "metadata": {},
       "output_type": "display_data",
       "text": [
        "<IPython.core.display.Javascript at 0x1205b0590>"
       ]
      },
      {
       "javascript": [
        "$('div#b055dd2b-8f5f-4f7d-aa55-3b0388777828').width('91%')"
       ],
       "metadata": {},
       "output_type": "display_data",
       "text": [
        "<IPython.core.display.Javascript at 0x1205b0590>"
       ]
      },
      {
       "javascript": [
        "$('div#b055dd2b-8f5f-4f7d-aa55-3b0388777828').width('92%')"
       ],
       "metadata": {},
       "output_type": "display_data",
       "text": [
        "<IPython.core.display.Javascript at 0x1205b0590>"
       ]
      },
      {
       "javascript": [
        "$('div#b055dd2b-8f5f-4f7d-aa55-3b0388777828').width('92%')"
       ],
       "metadata": {},
       "output_type": "display_data",
       "text": [
        "<IPython.core.display.Javascript at 0x1205b0590>"
       ]
      },
      {
       "javascript": [
        "$('div#b055dd2b-8f5f-4f7d-aa55-3b0388777828').width('93%')"
       ],
       "metadata": {},
       "output_type": "display_data",
       "text": [
        "<IPython.core.display.Javascript at 0x1205b0590>"
       ]
      },
      {
       "javascript": [
        "$('div#b055dd2b-8f5f-4f7d-aa55-3b0388777828').width('93%')"
       ],
       "metadata": {},
       "output_type": "display_data",
       "text": [
        "<IPython.core.display.Javascript at 0x1205b0590>"
       ]
      },
      {
       "javascript": [
        "$('div#b055dd2b-8f5f-4f7d-aa55-3b0388777828').width('94%')"
       ],
       "metadata": {},
       "output_type": "display_data",
       "text": [
        "<IPython.core.display.Javascript at 0x1205b0590>"
       ]
      },
      {
       "javascript": [
        "$('div#b055dd2b-8f5f-4f7d-aa55-3b0388777828').width('95%')"
       ],
       "metadata": {},
       "output_type": "display_data",
       "text": [
        "<IPython.core.display.Javascript at 0x1205b0590>"
       ]
      },
      {
       "javascript": [
        "$('div#b055dd2b-8f5f-4f7d-aa55-3b0388777828').width('95%')"
       ],
       "metadata": {},
       "output_type": "display_data",
       "text": [
        "<IPython.core.display.Javascript at 0x1205b0590>"
       ]
      },
      {
       "javascript": [
        "$('div#b055dd2b-8f5f-4f7d-aa55-3b0388777828').width('96%')"
       ],
       "metadata": {},
       "output_type": "display_data",
       "text": [
        "<IPython.core.display.Javascript at 0x1205b0590>"
       ]
      },
      {
       "javascript": [
        "$('div#b055dd2b-8f5f-4f7d-aa55-3b0388777828').width('96%')"
       ],
       "metadata": {},
       "output_type": "display_data",
       "text": [
        "<IPython.core.display.Javascript at 0x1205b0590>"
       ]
      },
      {
       "javascript": [
        "$('div#b055dd2b-8f5f-4f7d-aa55-3b0388777828').width('97%')"
       ],
       "metadata": {},
       "output_type": "display_data",
       "text": [
        "<IPython.core.display.Javascript at 0x1205b0590>"
       ]
      },
      {
       "javascript": [
        "$('div#b055dd2b-8f5f-4f7d-aa55-3b0388777828').width('97%')"
       ],
       "metadata": {},
       "output_type": "display_data",
       "text": [
        "<IPython.core.display.Javascript at 0x1205b0590>"
       ]
      },
      {
       "javascript": [
        "$('div#b055dd2b-8f5f-4f7d-aa55-3b0388777828').width('98%')"
       ],
       "metadata": {},
       "output_type": "display_data",
       "text": [
        "<IPython.core.display.Javascript at 0x1205b0590>"
       ]
      },
      {
       "javascript": [
        "$('div#b055dd2b-8f5f-4f7d-aa55-3b0388777828').width('98%')"
       ],
       "metadata": {},
       "output_type": "display_data",
       "text": [
        "<IPython.core.display.Javascript at 0x1205b0590>"
       ]
      },
      {
       "javascript": [
        "$('div#b055dd2b-8f5f-4f7d-aa55-3b0388777828').width('99%')"
       ],
       "metadata": {},
       "output_type": "display_data",
       "text": [
        "<IPython.core.display.Javascript at 0x1205b0590>"
       ]
      },
      {
       "javascript": [
        "$('div#b055dd2b-8f5f-4f7d-aa55-3b0388777828').width('100%')"
       ],
       "metadata": {},
       "output_type": "display_data",
       "text": [
        "<IPython.core.display.Javascript at 0x1205b0610>"
       ]
      },
      {
       "html": [
        "<iframe src=http://127.0.0.1:8001/4659771 width=100%% height=420 frameborder=0></iframe>"
       ],
       "metadata": {},
       "output_type": "pyout",
       "prompt_number": 12,
       "text": [
        "<mMR.mMR.UncompressedProjection instance at 0x11d0a8f80>"
       ]
      }
     ],
     "prompt_number": 12
    },
    {
     "cell_type": "code",
     "collapsed": false,
     "input": [
      "# Backproject: \n",
      "SCAN.backprojection_parameters.direction=7\n",
      "\n",
      "bkpr = SCAN.backproject(proj)"
     ],
     "language": "python",
     "metadata": {},
     "outputs": [],
     "prompt_number": 13
    },
    {
     "cell_type": "code",
     "collapsed": false,
     "input": [
      "# Visualise the back-projection and the synthetic activity: \n",
      "\n",
      "occiput.Visualization.MultipleVolumes([phantom,bkpr],axis=0)"
     ],
     "language": "python",
     "metadata": {},
     "outputs": [
      {
       "html": [
        "\n",
        "        <div style=\"border: 1px solid white; width:100%%; height:6px; background-color:rgb(246,246,246)\">\n",
        "            <div id=\"295baed1-a55b-49d2-af9c-f721f39015b0\" style=\"background-color:rgb(200,200,200); width:0%; height:6px\"> </div>\n",
        "        </div> \n",
        "        "
       ],
       "metadata": {},
       "output_type": "display_data",
       "text": [
        "<IPython.core.display.HTML at 0x1205b0c90>"
       ]
      },
      {
       "javascript": [
        "$('div#295baed1-a55b-49d2-af9c-f721f39015b0').width('1%')"
       ],
       "metadata": {},
       "output_type": "display_data",
       "text": [
        "<IPython.core.display.Javascript at 0x1205b0b10>"
       ]
      },
      {
       "javascript": [
        "$('div#295baed1-a55b-49d2-af9c-f721f39015b0').width('1%')"
       ],
       "metadata": {},
       "output_type": "display_data",
       "text": [
        "<IPython.core.display.Javascript at 0x1205b0b10>"
       ]
      },
      {
       "javascript": [
        "$('div#295baed1-a55b-49d2-af9c-f721f39015b0').width('1%')"
       ],
       "metadata": {},
       "output_type": "display_data",
       "text": [
        "<IPython.core.display.Javascript at 0x1205b0b10>"
       ]
      },
      {
       "javascript": [
        "$('div#295baed1-a55b-49d2-af9c-f721f39015b0').width('1%')"
       ],
       "metadata": {},
       "output_type": "display_data",
       "text": [
        "<IPython.core.display.Javascript at 0x1205b0b10>"
       ]
      },
      {
       "javascript": [
        "$('div#295baed1-a55b-49d2-af9c-f721f39015b0').width('1%')"
       ],
       "metadata": {},
       "output_type": "display_data",
       "text": [
        "<IPython.core.display.Javascript at 0x1205b0b10>"
       ]
      },
      {
       "javascript": [
        "$('div#295baed1-a55b-49d2-af9c-f721f39015b0').width('2%')"
       ],
       "metadata": {},
       "output_type": "display_data",
       "text": [
        "<IPython.core.display.Javascript at 0x1205b0b10>"
       ]
      },
      {
       "javascript": [
        "$('div#295baed1-a55b-49d2-af9c-f721f39015b0').width('2%')"
       ],
       "metadata": {},
       "output_type": "display_data",
       "text": [
        "<IPython.core.display.Javascript at 0x1205b0b10>"
       ]
      },
      {
       "javascript": [
        "$('div#295baed1-a55b-49d2-af9c-f721f39015b0').width('3%')"
       ],
       "metadata": {},
       "output_type": "display_data",
       "text": [
        "<IPython.core.display.Javascript at 0x1205b0b10>"
       ]
      },
      {
       "javascript": [
        "$('div#295baed1-a55b-49d2-af9c-f721f39015b0').width('3%')"
       ],
       "metadata": {},
       "output_type": "display_data",
       "text": [
        "<IPython.core.display.Javascript at 0x1205b0b10>"
       ]
      },
      {
       "javascript": [
        "$('div#295baed1-a55b-49d2-af9c-f721f39015b0').width('3%')"
       ],
       "metadata": {},
       "output_type": "display_data",
       "text": [
        "<IPython.core.display.Javascript at 0x1205b0b10>"
       ]
      },
      {
       "javascript": [
        "$('div#295baed1-a55b-49d2-af9c-f721f39015b0').width('4%')"
       ],
       "metadata": {},
       "output_type": "display_data",
       "text": [
        "<IPython.core.display.Javascript at 0x1205b0b10>"
       ]
      },
      {
       "javascript": [
        "$('div#295baed1-a55b-49d2-af9c-f721f39015b0').width('4%')"
       ],
       "metadata": {},
       "output_type": "display_data",
       "text": [
        "<IPython.core.display.Javascript at 0x1205b0b10>"
       ]
      },
      {
       "javascript": [
        "$('div#295baed1-a55b-49d2-af9c-f721f39015b0').width('5%')"
       ],
       "metadata": {},
       "output_type": "display_data",
       "text": [
        "<IPython.core.display.Javascript at 0x1205b0b10>"
       ]
      },
      {
       "javascript": [
        "$('div#295baed1-a55b-49d2-af9c-f721f39015b0').width('5%')"
       ],
       "metadata": {},
       "output_type": "display_data",
       "text": [
        "<IPython.core.display.Javascript at 0x1205b0b10>"
       ]
      },
      {
       "javascript": [
        "$('div#295baed1-a55b-49d2-af9c-f721f39015b0').width('5%')"
       ],
       "metadata": {},
       "output_type": "display_data",
       "text": [
        "<IPython.core.display.Javascript at 0x1205b0b10>"
       ]
      },
      {
       "javascript": [
        "$('div#295baed1-a55b-49d2-af9c-f721f39015b0').width('6%')"
       ],
       "metadata": {},
       "output_type": "display_data",
       "text": [
        "<IPython.core.display.Javascript at 0x1205b0b10>"
       ]
      },
      {
       "javascript": [
        "$('div#295baed1-a55b-49d2-af9c-f721f39015b0').width('6%')"
       ],
       "metadata": {},
       "output_type": "display_data",
       "text": [
        "<IPython.core.display.Javascript at 0x1205b0b10>"
       ]
      },
      {
       "javascript": [
        "$('div#295baed1-a55b-49d2-af9c-f721f39015b0').width('7%')"
       ],
       "metadata": {},
       "output_type": "display_data",
       "text": [
        "<IPython.core.display.Javascript at 0x1205b0b10>"
       ]
      },
      {
       "javascript": [
        "$('div#295baed1-a55b-49d2-af9c-f721f39015b0').width('7%')"
       ],
       "metadata": {},
       "output_type": "display_data",
       "text": [
        "<IPython.core.display.Javascript at 0x1205b0b10>"
       ]
      },
      {
       "javascript": [
        "$('div#295baed1-a55b-49d2-af9c-f721f39015b0').width('7%')"
       ],
       "metadata": {},
       "output_type": "display_data",
       "text": [
        "<IPython.core.display.Javascript at 0x1205b0b10>"
       ]
      },
      {
       "javascript": [
        "$('div#295baed1-a55b-49d2-af9c-f721f39015b0').width('8%')"
       ],
       "metadata": {},
       "output_type": "display_data",
       "text": [
        "<IPython.core.display.Javascript at 0x1205b0b10>"
       ]
      },
      {
       "javascript": [
        "$('div#295baed1-a55b-49d2-af9c-f721f39015b0').width('8%')"
       ],
       "metadata": {},
       "output_type": "display_data",
       "text": [
        "<IPython.core.display.Javascript at 0x1205b0b10>"
       ]
      },
      {
       "javascript": [
        "$('div#295baed1-a55b-49d2-af9c-f721f39015b0').width('8%')"
       ],
       "metadata": {},
       "output_type": "display_data",
       "text": [
        "<IPython.core.display.Javascript at 0x1205b0b10>"
       ]
      },
      {
       "javascript": [
        "$('div#295baed1-a55b-49d2-af9c-f721f39015b0').width('9%')"
       ],
       "metadata": {},
       "output_type": "display_data",
       "text": [
        "<IPython.core.display.Javascript at 0x1205b0b10>"
       ]
      },
      {
       "javascript": [
        "$('div#295baed1-a55b-49d2-af9c-f721f39015b0').width('9%')"
       ],
       "metadata": {},
       "output_type": "display_data",
       "text": [
        "<IPython.core.display.Javascript at 0x1205b0b10>"
       ]
      },
      {
       "javascript": [
        "$('div#295baed1-a55b-49d2-af9c-f721f39015b0').width('10%')"
       ],
       "metadata": {},
       "output_type": "display_data",
       "text": [
        "<IPython.core.display.Javascript at 0x1205b0b10>"
       ]
      },
      {
       "javascript": [
        "$('div#295baed1-a55b-49d2-af9c-f721f39015b0').width('10%')"
       ],
       "metadata": {},
       "output_type": "display_data",
       "text": [
        "<IPython.core.display.Javascript at 0x1205b0b10>"
       ]
      },
      {
       "javascript": [
        "$('div#295baed1-a55b-49d2-af9c-f721f39015b0').width('10%')"
       ],
       "metadata": {},
       "output_type": "display_data",
       "text": [
        "<IPython.core.display.Javascript at 0x1205b0b10>"
       ]
      },
      {
       "javascript": [
        "$('div#295baed1-a55b-49d2-af9c-f721f39015b0').width('11%')"
       ],
       "metadata": {},
       "output_type": "display_data",
       "text": [
        "<IPython.core.display.Javascript at 0x1205b0b10>"
       ]
      },
      {
       "javascript": [
        "$('div#295baed1-a55b-49d2-af9c-f721f39015b0').width('11%')"
       ],
       "metadata": {},
       "output_type": "display_data",
       "text": [
        "<IPython.core.display.Javascript at 0x1205b0b10>"
       ]
      },
      {
       "javascript": [
        "$('div#295baed1-a55b-49d2-af9c-f721f39015b0').width('12%')"
       ],
       "metadata": {},
       "output_type": "display_data",
       "text": [
        "<IPython.core.display.Javascript at 0x1205b0b10>"
       ]
      },
      {
       "javascript": [
        "$('div#295baed1-a55b-49d2-af9c-f721f39015b0').width('12%')"
       ],
       "metadata": {},
       "output_type": "display_data",
       "text": [
        "<IPython.core.display.Javascript at 0x1205b0b10>"
       ]
      },
      {
       "javascript": [
        "$('div#295baed1-a55b-49d2-af9c-f721f39015b0').width('12%')"
       ],
       "metadata": {},
       "output_type": "display_data",
       "text": [
        "<IPython.core.display.Javascript at 0x1205b0b10>"
       ]
      },
      {
       "javascript": [
        "$('div#295baed1-a55b-49d2-af9c-f721f39015b0').width('13%')"
       ],
       "metadata": {},
       "output_type": "display_data",
       "text": [
        "<IPython.core.display.Javascript at 0x1205b0b10>"
       ]
      },
      {
       "javascript": [
        "$('div#295baed1-a55b-49d2-af9c-f721f39015b0').width('13%')"
       ],
       "metadata": {},
       "output_type": "display_data",
       "text": [
        "<IPython.core.display.Javascript at 0x1205b0b10>"
       ]
      },
      {
       "javascript": [
        "$('div#295baed1-a55b-49d2-af9c-f721f39015b0').width('14%')"
       ],
       "metadata": {},
       "output_type": "display_data",
       "text": [
        "<IPython.core.display.Javascript at 0x1205b0b10>"
       ]
      },
      {
       "javascript": [
        "$('div#295baed1-a55b-49d2-af9c-f721f39015b0').width('14%')"
       ],
       "metadata": {},
       "output_type": "display_data",
       "text": [
        "<IPython.core.display.Javascript at 0x1205b0b10>"
       ]
      },
      {
       "javascript": [
        "$('div#295baed1-a55b-49d2-af9c-f721f39015b0').width('14%')"
       ],
       "metadata": {},
       "output_type": "display_data",
       "text": [
        "<IPython.core.display.Javascript at 0x1205b0b10>"
       ]
      },
      {
       "javascript": [
        "$('div#295baed1-a55b-49d2-af9c-f721f39015b0').width('15%')"
       ],
       "metadata": {},
       "output_type": "display_data",
       "text": [
        "<IPython.core.display.Javascript at 0x1205b0b10>"
       ]
      },
      {
       "javascript": [
        "$('div#295baed1-a55b-49d2-af9c-f721f39015b0').width('15%')"
       ],
       "metadata": {},
       "output_type": "display_data",
       "text": [
        "<IPython.core.display.Javascript at 0x1205b0b10>"
       ]
      },
      {
       "javascript": [
        "$('div#295baed1-a55b-49d2-af9c-f721f39015b0').width('16%')"
       ],
       "metadata": {},
       "output_type": "display_data",
       "text": [
        "<IPython.core.display.Javascript at 0x1205b0b10>"
       ]
      },
      {
       "javascript": [
        "$('div#295baed1-a55b-49d2-af9c-f721f39015b0').width('16%')"
       ],
       "metadata": {},
       "output_type": "display_data",
       "text": [
        "<IPython.core.display.Javascript at 0x1205b0b10>"
       ]
      },
      {
       "javascript": [
        "$('div#295baed1-a55b-49d2-af9c-f721f39015b0').width('16%')"
       ],
       "metadata": {},
       "output_type": "display_data",
       "text": [
        "<IPython.core.display.Javascript at 0x1205b0b10>"
       ]
      },
      {
       "javascript": [
        "$('div#295baed1-a55b-49d2-af9c-f721f39015b0').width('17%')"
       ],
       "metadata": {},
       "output_type": "display_data",
       "text": [
        "<IPython.core.display.Javascript at 0x1205b0b10>"
       ]
      },
      {
       "javascript": [
        "$('div#295baed1-a55b-49d2-af9c-f721f39015b0').width('17%')"
       ],
       "metadata": {},
       "output_type": "display_data",
       "text": [
        "<IPython.core.display.Javascript at 0x1205b0b10>"
       ]
      },
      {
       "javascript": [
        "$('div#295baed1-a55b-49d2-af9c-f721f39015b0').width('17%')"
       ],
       "metadata": {},
       "output_type": "display_data",
       "text": [
        "<IPython.core.display.Javascript at 0x1205b0b10>"
       ]
      },
      {
       "javascript": [
        "$('div#295baed1-a55b-49d2-af9c-f721f39015b0').width('18%')"
       ],
       "metadata": {},
       "output_type": "display_data",
       "text": [
        "<IPython.core.display.Javascript at 0x1205b0b10>"
       ]
      },
      {
       "javascript": [
        "$('div#295baed1-a55b-49d2-af9c-f721f39015b0').width('18%')"
       ],
       "metadata": {},
       "output_type": "display_data",
       "text": [
        "<IPython.core.display.Javascript at 0x1205b0b10>"
       ]
      },
      {
       "javascript": [
        "$('div#295baed1-a55b-49d2-af9c-f721f39015b0').width('19%')"
       ],
       "metadata": {},
       "output_type": "display_data",
       "text": [
        "<IPython.core.display.Javascript at 0x1205b0b10>"
       ]
      },
      {
       "javascript": [
        "$('div#295baed1-a55b-49d2-af9c-f721f39015b0').width('19%')"
       ],
       "metadata": {},
       "output_type": "display_data",
       "text": [
        "<IPython.core.display.Javascript at 0x1205b0b10>"
       ]
      },
      {
       "javascript": [
        "$('div#295baed1-a55b-49d2-af9c-f721f39015b0').width('19%')"
       ],
       "metadata": {},
       "output_type": "display_data",
       "text": [
        "<IPython.core.display.Javascript at 0x1205b0b10>"
       ]
      },
      {
       "javascript": [
        "$('div#295baed1-a55b-49d2-af9c-f721f39015b0').width('20%')"
       ],
       "metadata": {},
       "output_type": "display_data",
       "text": [
        "<IPython.core.display.Javascript at 0x1205b0b10>"
       ]
      },
      {
       "javascript": [
        "$('div#295baed1-a55b-49d2-af9c-f721f39015b0').width('20%')"
       ],
       "metadata": {},
       "output_type": "display_data",
       "text": [
        "<IPython.core.display.Javascript at 0x1205b0b10>"
       ]
      },
      {
       "javascript": [
        "$('div#295baed1-a55b-49d2-af9c-f721f39015b0').width('21%')"
       ],
       "metadata": {},
       "output_type": "display_data",
       "text": [
        "<IPython.core.display.Javascript at 0x1205b0b10>"
       ]
      },
      {
       "javascript": [
        "$('div#295baed1-a55b-49d2-af9c-f721f39015b0').width('21%')"
       ],
       "metadata": {},
       "output_type": "display_data",
       "text": [
        "<IPython.core.display.Javascript at 0x1205b0b10>"
       ]
      },
      {
       "javascript": [
        "$('div#295baed1-a55b-49d2-af9c-f721f39015b0').width('21%')"
       ],
       "metadata": {},
       "output_type": "display_data",
       "text": [
        "<IPython.core.display.Javascript at 0x1205b0b10>"
       ]
      },
      {
       "javascript": [
        "$('div#295baed1-a55b-49d2-af9c-f721f39015b0').width('22%')"
       ],
       "metadata": {},
       "output_type": "display_data",
       "text": [
        "<IPython.core.display.Javascript at 0x1205b0b10>"
       ]
      },
      {
       "javascript": [
        "$('div#295baed1-a55b-49d2-af9c-f721f39015b0').width('22%')"
       ],
       "metadata": {},
       "output_type": "display_data",
       "text": [
        "<IPython.core.display.Javascript at 0x1205b0b10>"
       ]
      },
      {
       "javascript": [
        "$('div#295baed1-a55b-49d2-af9c-f721f39015b0').width('23%')"
       ],
       "metadata": {},
       "output_type": "display_data",
       "text": [
        "<IPython.core.display.Javascript at 0x1205b0b10>"
       ]
      },
      {
       "javascript": [
        "$('div#295baed1-a55b-49d2-af9c-f721f39015b0').width('23%')"
       ],
       "metadata": {},
       "output_type": "display_data",
       "text": [
        "<IPython.core.display.Javascript at 0x1205b0b10>"
       ]
      },
      {
       "javascript": [
        "$('div#295baed1-a55b-49d2-af9c-f721f39015b0').width('23%')"
       ],
       "metadata": {},
       "output_type": "display_data",
       "text": [
        "<IPython.core.display.Javascript at 0x1205b0b10>"
       ]
      },
      {
       "javascript": [
        "$('div#295baed1-a55b-49d2-af9c-f721f39015b0').width('24%')"
       ],
       "metadata": {},
       "output_type": "display_data",
       "text": [
        "<IPython.core.display.Javascript at 0x1205b0b10>"
       ]
      },
      {
       "javascript": [
        "$('div#295baed1-a55b-49d2-af9c-f721f39015b0').width('24%')"
       ],
       "metadata": {},
       "output_type": "display_data",
       "text": [
        "<IPython.core.display.Javascript at 0x1205b0b10>"
       ]
      },
      {
       "javascript": [
        "$('div#295baed1-a55b-49d2-af9c-f721f39015b0').width('25%')"
       ],
       "metadata": {},
       "output_type": "display_data",
       "text": [
        "<IPython.core.display.Javascript at 0x1205b0b10>"
       ]
      },
      {
       "javascript": [
        "$('div#295baed1-a55b-49d2-af9c-f721f39015b0').width('25%')"
       ],
       "metadata": {},
       "output_type": "display_data",
       "text": [
        "<IPython.core.display.Javascript at 0x1205b0b10>"
       ]
      },
      {
       "javascript": [
        "$('div#295baed1-a55b-49d2-af9c-f721f39015b0').width('25%')"
       ],
       "metadata": {},
       "output_type": "display_data",
       "text": [
        "<IPython.core.display.Javascript at 0x1205b0b10>"
       ]
      },
      {
       "javascript": [
        "$('div#295baed1-a55b-49d2-af9c-f721f39015b0').width('26%')"
       ],
       "metadata": {},
       "output_type": "display_data",
       "text": [
        "<IPython.core.display.Javascript at 0x1205b0b10>"
       ]
      },
      {
       "javascript": [
        "$('div#295baed1-a55b-49d2-af9c-f721f39015b0').width('26%')"
       ],
       "metadata": {},
       "output_type": "display_data",
       "text": [
        "<IPython.core.display.Javascript at 0x1205b0b10>"
       ]
      },
      {
       "javascript": [
        "$('div#295baed1-a55b-49d2-af9c-f721f39015b0').width('26%')"
       ],
       "metadata": {},
       "output_type": "display_data",
       "text": [
        "<IPython.core.display.Javascript at 0x1205b0b10>"
       ]
      },
      {
       "javascript": [
        "$('div#295baed1-a55b-49d2-af9c-f721f39015b0').width('27%')"
       ],
       "metadata": {},
       "output_type": "display_data",
       "text": [
        "<IPython.core.display.Javascript at 0x1205b0b10>"
       ]
      },
      {
       "javascript": [
        "$('div#295baed1-a55b-49d2-af9c-f721f39015b0').width('27%')"
       ],
       "metadata": {},
       "output_type": "display_data",
       "text": [
        "<IPython.core.display.Javascript at 0x1205b0b10>"
       ]
      },
      {
       "javascript": [
        "$('div#295baed1-a55b-49d2-af9c-f721f39015b0').width('28%')"
       ],
       "metadata": {},
       "output_type": "display_data",
       "text": [
        "<IPython.core.display.Javascript at 0x1205b0b10>"
       ]
      },
      {
       "javascript": [
        "$('div#295baed1-a55b-49d2-af9c-f721f39015b0').width('28%')"
       ],
       "metadata": {},
       "output_type": "display_data",
       "text": [
        "<IPython.core.display.Javascript at 0x1205b0b10>"
       ]
      },
      {
       "javascript": [
        "$('div#295baed1-a55b-49d2-af9c-f721f39015b0').width('28%')"
       ],
       "metadata": {},
       "output_type": "display_data",
       "text": [
        "<IPython.core.display.Javascript at 0x1205b0b10>"
       ]
      },
      {
       "javascript": [
        "$('div#295baed1-a55b-49d2-af9c-f721f39015b0').width('29%')"
       ],
       "metadata": {},
       "output_type": "display_data",
       "text": [
        "<IPython.core.display.Javascript at 0x1205b0b10>"
       ]
      },
      {
       "javascript": [
        "$('div#295baed1-a55b-49d2-af9c-f721f39015b0').width('29%')"
       ],
       "metadata": {},
       "output_type": "display_data",
       "text": [
        "<IPython.core.display.Javascript at 0x1205b0b10>"
       ]
      },
      {
       "javascript": [
        "$('div#295baed1-a55b-49d2-af9c-f721f39015b0').width('30%')"
       ],
       "metadata": {},
       "output_type": "display_data",
       "text": [
        "<IPython.core.display.Javascript at 0x1205b0b10>"
       ]
      },
      {
       "javascript": [
        "$('div#295baed1-a55b-49d2-af9c-f721f39015b0').width('30%')"
       ],
       "metadata": {},
       "output_type": "display_data",
       "text": [
        "<IPython.core.display.Javascript at 0x1205b0b10>"
       ]
      },
      {
       "javascript": [
        "$('div#295baed1-a55b-49d2-af9c-f721f39015b0').width('30%')"
       ],
       "metadata": {},
       "output_type": "display_data",
       "text": [
        "<IPython.core.display.Javascript at 0x1205b0b10>"
       ]
      },
      {
       "javascript": [
        "$('div#295baed1-a55b-49d2-af9c-f721f39015b0').width('31%')"
       ],
       "metadata": {},
       "output_type": "display_data",
       "text": [
        "<IPython.core.display.Javascript at 0x1205b0b10>"
       ]
      },
      {
       "javascript": [
        "$('div#295baed1-a55b-49d2-af9c-f721f39015b0').width('31%')"
       ],
       "metadata": {},
       "output_type": "display_data",
       "text": [
        "<IPython.core.display.Javascript at 0x1205b0b10>"
       ]
      },
      {
       "javascript": [
        "$('div#295baed1-a55b-49d2-af9c-f721f39015b0').width('32%')"
       ],
       "metadata": {},
       "output_type": "display_data",
       "text": [
        "<IPython.core.display.Javascript at 0x1205b0b10>"
       ]
      },
      {
       "javascript": [
        "$('div#295baed1-a55b-49d2-af9c-f721f39015b0').width('32%')"
       ],
       "metadata": {},
       "output_type": "display_data",
       "text": [
        "<IPython.core.display.Javascript at 0x1205b0b10>"
       ]
      },
      {
       "javascript": [
        "$('div#295baed1-a55b-49d2-af9c-f721f39015b0').width('32%')"
       ],
       "metadata": {},
       "output_type": "display_data",
       "text": [
        "<IPython.core.display.Javascript at 0x1205b0b10>"
       ]
      },
      {
       "javascript": [
        "$('div#295baed1-a55b-49d2-af9c-f721f39015b0').width('33%')"
       ],
       "metadata": {},
       "output_type": "display_data",
       "text": [
        "<IPython.core.display.Javascript at 0x1205b0b10>"
       ]
      },
      {
       "javascript": [
        "$('div#295baed1-a55b-49d2-af9c-f721f39015b0').width('33%')"
       ],
       "metadata": {},
       "output_type": "display_data",
       "text": [
        "<IPython.core.display.Javascript at 0x1205b0b10>"
       ]
      },
      {
       "javascript": [
        "$('div#295baed1-a55b-49d2-af9c-f721f39015b0').width('33%')"
       ],
       "metadata": {},
       "output_type": "display_data",
       "text": [
        "<IPython.core.display.Javascript at 0x1205b0b10>"
       ]
      },
      {
       "javascript": [
        "$('div#295baed1-a55b-49d2-af9c-f721f39015b0').width('34%')"
       ],
       "metadata": {},
       "output_type": "display_data",
       "text": [
        "<IPython.core.display.Javascript at 0x1205b0b10>"
       ]
      },
      {
       "javascript": [
        "$('div#295baed1-a55b-49d2-af9c-f721f39015b0').width('34%')"
       ],
       "metadata": {},
       "output_type": "display_data",
       "text": [
        "<IPython.core.display.Javascript at 0x1205b0b10>"
       ]
      },
      {
       "javascript": [
        "$('div#295baed1-a55b-49d2-af9c-f721f39015b0').width('35%')"
       ],
       "metadata": {},
       "output_type": "display_data",
       "text": [
        "<IPython.core.display.Javascript at 0x1205b0b10>"
       ]
      },
      {
       "javascript": [
        "$('div#295baed1-a55b-49d2-af9c-f721f39015b0').width('35%')"
       ],
       "metadata": {},
       "output_type": "display_data",
       "text": [
        "<IPython.core.display.Javascript at 0x1205b0b10>"
       ]
      },
      {
       "javascript": [
        "$('div#295baed1-a55b-49d2-af9c-f721f39015b0').width('35%')"
       ],
       "metadata": {},
       "output_type": "display_data",
       "text": [
        "<IPython.core.display.Javascript at 0x1205b0b10>"
       ]
      },
      {
       "javascript": [
        "$('div#295baed1-a55b-49d2-af9c-f721f39015b0').width('36%')"
       ],
       "metadata": {},
       "output_type": "display_data",
       "text": [
        "<IPython.core.display.Javascript at 0x1205b0b10>"
       ]
      },
      {
       "javascript": [
        "$('div#295baed1-a55b-49d2-af9c-f721f39015b0').width('36%')"
       ],
       "metadata": {},
       "output_type": "display_data",
       "text": [
        "<IPython.core.display.Javascript at 0x1205b0b10>"
       ]
      },
      {
       "javascript": [
        "$('div#295baed1-a55b-49d2-af9c-f721f39015b0').width('37%')"
       ],
       "metadata": {},
       "output_type": "display_data",
       "text": [
        "<IPython.core.display.Javascript at 0x1205b0b10>"
       ]
      },
      {
       "javascript": [
        "$('div#295baed1-a55b-49d2-af9c-f721f39015b0').width('37%')"
       ],
       "metadata": {},
       "output_type": "display_data",
       "text": [
        "<IPython.core.display.Javascript at 0x1205b0b10>"
       ]
      },
      {
       "javascript": [
        "$('div#295baed1-a55b-49d2-af9c-f721f39015b0').width('37%')"
       ],
       "metadata": {},
       "output_type": "display_data",
       "text": [
        "<IPython.core.display.Javascript at 0x1205b0b10>"
       ]
      },
      {
       "javascript": [
        "$('div#295baed1-a55b-49d2-af9c-f721f39015b0').width('38%')"
       ],
       "metadata": {},
       "output_type": "display_data",
       "text": [
        "<IPython.core.display.Javascript at 0x1205b0b10>"
       ]
      },
      {
       "javascript": [
        "$('div#295baed1-a55b-49d2-af9c-f721f39015b0').width('38%')"
       ],
       "metadata": {},
       "output_type": "display_data",
       "text": [
        "<IPython.core.display.Javascript at 0x1205b0b10>"
       ]
      },
      {
       "javascript": [
        "$('div#295baed1-a55b-49d2-af9c-f721f39015b0').width('39%')"
       ],
       "metadata": {},
       "output_type": "display_data",
       "text": [
        "<IPython.core.display.Javascript at 0x1205b0b10>"
       ]
      },
      {
       "javascript": [
        "$('div#295baed1-a55b-49d2-af9c-f721f39015b0').width('39%')"
       ],
       "metadata": {},
       "output_type": "display_data",
       "text": [
        "<IPython.core.display.Javascript at 0x1205b0b10>"
       ]
      },
      {
       "javascript": [
        "$('div#295baed1-a55b-49d2-af9c-f721f39015b0').width('39%')"
       ],
       "metadata": {},
       "output_type": "display_data",
       "text": [
        "<IPython.core.display.Javascript at 0x1205b0b10>"
       ]
      },
      {
       "javascript": [
        "$('div#295baed1-a55b-49d2-af9c-f721f39015b0').width('40%')"
       ],
       "metadata": {},
       "output_type": "display_data",
       "text": [
        "<IPython.core.display.Javascript at 0x1205b0b10>"
       ]
      },
      {
       "javascript": [
        "$('div#295baed1-a55b-49d2-af9c-f721f39015b0').width('40%')"
       ],
       "metadata": {},
       "output_type": "display_data",
       "text": [
        "<IPython.core.display.Javascript at 0x1205b0b10>"
       ]
      },
      {
       "javascript": [
        "$('div#295baed1-a55b-49d2-af9c-f721f39015b0').width('41%')"
       ],
       "metadata": {},
       "output_type": "display_data",
       "text": [
        "<IPython.core.display.Javascript at 0x1205b0b10>"
       ]
      },
      {
       "javascript": [
        "$('div#295baed1-a55b-49d2-af9c-f721f39015b0').width('41%')"
       ],
       "metadata": {},
       "output_type": "display_data",
       "text": [
        "<IPython.core.display.Javascript at 0x1205b0b10>"
       ]
      },
      {
       "javascript": [
        "$('div#295baed1-a55b-49d2-af9c-f721f39015b0').width('41%')"
       ],
       "metadata": {},
       "output_type": "display_data",
       "text": [
        "<IPython.core.display.Javascript at 0x1205b0b10>"
       ]
      },
      {
       "javascript": [
        "$('div#295baed1-a55b-49d2-af9c-f721f39015b0').width('42%')"
       ],
       "metadata": {},
       "output_type": "display_data",
       "text": [
        "<IPython.core.display.Javascript at 0x1205b0b10>"
       ]
      },
      {
       "javascript": [
        "$('div#295baed1-a55b-49d2-af9c-f721f39015b0').width('42%')"
       ],
       "metadata": {},
       "output_type": "display_data",
       "text": [
        "<IPython.core.display.Javascript at 0x1205b0b10>"
       ]
      },
      {
       "javascript": [
        "$('div#295baed1-a55b-49d2-af9c-f721f39015b0').width('42%')"
       ],
       "metadata": {},
       "output_type": "display_data",
       "text": [
        "<IPython.core.display.Javascript at 0x1205b0b10>"
       ]
      },
      {
       "javascript": [
        "$('div#295baed1-a55b-49d2-af9c-f721f39015b0').width('43%')"
       ],
       "metadata": {},
       "output_type": "display_data",
       "text": [
        "<IPython.core.display.Javascript at 0x1205b0b10>"
       ]
      },
      {
       "javascript": [
        "$('div#295baed1-a55b-49d2-af9c-f721f39015b0').width('43%')"
       ],
       "metadata": {},
       "output_type": "display_data",
       "text": [
        "<IPython.core.display.Javascript at 0x1205b0b10>"
       ]
      },
      {
       "javascript": [
        "$('div#295baed1-a55b-49d2-af9c-f721f39015b0').width('44%')"
       ],
       "metadata": {},
       "output_type": "display_data",
       "text": [
        "<IPython.core.display.Javascript at 0x1205b0b10>"
       ]
      },
      {
       "javascript": [
        "$('div#295baed1-a55b-49d2-af9c-f721f39015b0').width('44%')"
       ],
       "metadata": {},
       "output_type": "display_data",
       "text": [
        "<IPython.core.display.Javascript at 0x1205b0b10>"
       ]
      },
      {
       "javascript": [
        "$('div#295baed1-a55b-49d2-af9c-f721f39015b0').width('44%')"
       ],
       "metadata": {},
       "output_type": "display_data",
       "text": [
        "<IPython.core.display.Javascript at 0x1205b0b10>"
       ]
      },
      {
       "javascript": [
        "$('div#295baed1-a55b-49d2-af9c-f721f39015b0').width('45%')"
       ],
       "metadata": {},
       "output_type": "display_data",
       "text": [
        "<IPython.core.display.Javascript at 0x1205b0b10>"
       ]
      },
      {
       "javascript": [
        "$('div#295baed1-a55b-49d2-af9c-f721f39015b0').width('45%')"
       ],
       "metadata": {},
       "output_type": "display_data",
       "text": [
        "<IPython.core.display.Javascript at 0x1205b0b10>"
       ]
      },
      {
       "javascript": [
        "$('div#295baed1-a55b-49d2-af9c-f721f39015b0').width('46%')"
       ],
       "metadata": {},
       "output_type": "display_data",
       "text": [
        "<IPython.core.display.Javascript at 0x1205b0b10>"
       ]
      },
      {
       "javascript": [
        "$('div#295baed1-a55b-49d2-af9c-f721f39015b0').width('46%')"
       ],
       "metadata": {},
       "output_type": "display_data",
       "text": [
        "<IPython.core.display.Javascript at 0x1205b0b10>"
       ]
      },
      {
       "javascript": [
        "$('div#295baed1-a55b-49d2-af9c-f721f39015b0').width('46%')"
       ],
       "metadata": {},
       "output_type": "display_data",
       "text": [
        "<IPython.core.display.Javascript at 0x1205b0b10>"
       ]
      },
      {
       "javascript": [
        "$('div#295baed1-a55b-49d2-af9c-f721f39015b0').width('47%')"
       ],
       "metadata": {},
       "output_type": "display_data",
       "text": [
        "<IPython.core.display.Javascript at 0x1205b0b10>"
       ]
      },
      {
       "javascript": [
        "$('div#295baed1-a55b-49d2-af9c-f721f39015b0').width('47%')"
       ],
       "metadata": {},
       "output_type": "display_data",
       "text": [
        "<IPython.core.display.Javascript at 0x1205b0b10>"
       ]
      },
      {
       "javascript": [
        "$('div#295baed1-a55b-49d2-af9c-f721f39015b0').width('48%')"
       ],
       "metadata": {},
       "output_type": "display_data",
       "text": [
        "<IPython.core.display.Javascript at 0x1205b0b10>"
       ]
      },
      {
       "javascript": [
        "$('div#295baed1-a55b-49d2-af9c-f721f39015b0').width('48%')"
       ],
       "metadata": {},
       "output_type": "display_data",
       "text": [
        "<IPython.core.display.Javascript at 0x1205b0b10>"
       ]
      },
      {
       "javascript": [
        "$('div#295baed1-a55b-49d2-af9c-f721f39015b0').width('48%')"
       ],
       "metadata": {},
       "output_type": "display_data",
       "text": [
        "<IPython.core.display.Javascript at 0x1205b0b10>"
       ]
      },
      {
       "javascript": [
        "$('div#295baed1-a55b-49d2-af9c-f721f39015b0').width('49%')"
       ],
       "metadata": {},
       "output_type": "display_data",
       "text": [
        "<IPython.core.display.Javascript at 0x1205b0b10>"
       ]
      },
      {
       "javascript": [
        "$('div#295baed1-a55b-49d2-af9c-f721f39015b0').width('49%')"
       ],
       "metadata": {},
       "output_type": "display_data",
       "text": [
        "<IPython.core.display.Javascript at 0x1205b0b10>"
       ]
      },
      {
       "javascript": [
        "$('div#295baed1-a55b-49d2-af9c-f721f39015b0').width('50%')"
       ],
       "metadata": {},
       "output_type": "display_data",
       "text": [
        "<IPython.core.display.Javascript at 0x1205b0b10>"
       ]
      },
      {
       "javascript": [
        "$('div#295baed1-a55b-49d2-af9c-f721f39015b0').width('50%')"
       ],
       "metadata": {},
       "output_type": "display_data",
       "text": [
        "<IPython.core.display.Javascript at 0x1205b0b10>"
       ]
      },
      {
       "javascript": [
        "$('div#295baed1-a55b-49d2-af9c-f721f39015b0').width('50%')"
       ],
       "metadata": {},
       "output_type": "display_data",
       "text": [
        "<IPython.core.display.Javascript at 0x1205b0b10>"
       ]
      },
      {
       "javascript": [
        "$('div#295baed1-a55b-49d2-af9c-f721f39015b0').width('51%')"
       ],
       "metadata": {},
       "output_type": "display_data",
       "text": [
        "<IPython.core.display.Javascript at 0x1205b0b10>"
       ]
      },
      {
       "javascript": [
        "$('div#295baed1-a55b-49d2-af9c-f721f39015b0').width('51%')"
       ],
       "metadata": {},
       "output_type": "display_data",
       "text": [
        "<IPython.core.display.Javascript at 0x1205b0b10>"
       ]
      },
      {
       "javascript": [
        "$('div#295baed1-a55b-49d2-af9c-f721f39015b0').width('51%')"
       ],
       "metadata": {},
       "output_type": "display_data",
       "text": [
        "<IPython.core.display.Javascript at 0x1205b0b10>"
       ]
      },
      {
       "javascript": [
        "$('div#295baed1-a55b-49d2-af9c-f721f39015b0').width('52%')"
       ],
       "metadata": {},
       "output_type": "display_data",
       "text": [
        "<IPython.core.display.Javascript at 0x1205b0b10>"
       ]
      },
      {
       "javascript": [
        "$('div#295baed1-a55b-49d2-af9c-f721f39015b0').width('52%')"
       ],
       "metadata": {},
       "output_type": "display_data",
       "text": [
        "<IPython.core.display.Javascript at 0x1205b0b10>"
       ]
      },
      {
       "javascript": [
        "$('div#295baed1-a55b-49d2-af9c-f721f39015b0').width('53%')"
       ],
       "metadata": {},
       "output_type": "display_data",
       "text": [
        "<IPython.core.display.Javascript at 0x1205b0b10>"
       ]
      },
      {
       "javascript": [
        "$('div#295baed1-a55b-49d2-af9c-f721f39015b0').width('53%')"
       ],
       "metadata": {},
       "output_type": "display_data",
       "text": [
        "<IPython.core.display.Javascript at 0x1205b0b10>"
       ]
      },
      {
       "javascript": [
        "$('div#295baed1-a55b-49d2-af9c-f721f39015b0').width('53%')"
       ],
       "metadata": {},
       "output_type": "display_data",
       "text": [
        "<IPython.core.display.Javascript at 0x1205b0b10>"
       ]
      },
      {
       "javascript": [
        "$('div#295baed1-a55b-49d2-af9c-f721f39015b0').width('54%')"
       ],
       "metadata": {},
       "output_type": "display_data",
       "text": [
        "<IPython.core.display.Javascript at 0x1205b0b10>"
       ]
      },
      {
       "javascript": [
        "$('div#295baed1-a55b-49d2-af9c-f721f39015b0').width('54%')"
       ],
       "metadata": {},
       "output_type": "display_data",
       "text": [
        "<IPython.core.display.Javascript at 0x1205b0b10>"
       ]
      },
      {
       "javascript": [
        "$('div#295baed1-a55b-49d2-af9c-f721f39015b0').width('55%')"
       ],
       "metadata": {},
       "output_type": "display_data",
       "text": [
        "<IPython.core.display.Javascript at 0x1205b0b10>"
       ]
      },
      {
       "javascript": [
        "$('div#295baed1-a55b-49d2-af9c-f721f39015b0').width('55%')"
       ],
       "metadata": {},
       "output_type": "display_data",
       "text": [
        "<IPython.core.display.Javascript at 0x1205b0b10>"
       ]
      },
      {
       "javascript": [
        "$('div#295baed1-a55b-49d2-af9c-f721f39015b0').width('55%')"
       ],
       "metadata": {},
       "output_type": "display_data",
       "text": [
        "<IPython.core.display.Javascript at 0x1205b0b10>"
       ]
      },
      {
       "javascript": [
        "$('div#295baed1-a55b-49d2-af9c-f721f39015b0').width('56%')"
       ],
       "metadata": {},
       "output_type": "display_data",
       "text": [
        "<IPython.core.display.Javascript at 0x1205b0b10>"
       ]
      },
      {
       "javascript": [
        "$('div#295baed1-a55b-49d2-af9c-f721f39015b0').width('56%')"
       ],
       "metadata": {},
       "output_type": "display_data",
       "text": [
        "<IPython.core.display.Javascript at 0x1205b0b10>"
       ]
      },
      {
       "javascript": [
        "$('div#295baed1-a55b-49d2-af9c-f721f39015b0').width('57%')"
       ],
       "metadata": {},
       "output_type": "display_data",
       "text": [
        "<IPython.core.display.Javascript at 0x1205b0b10>"
       ]
      },
      {
       "javascript": [
        "$('div#295baed1-a55b-49d2-af9c-f721f39015b0').width('57%')"
       ],
       "metadata": {},
       "output_type": "display_data",
       "text": [
        "<IPython.core.display.Javascript at 0x1205b0b10>"
       ]
      },
      {
       "javascript": [
        "$('div#295baed1-a55b-49d2-af9c-f721f39015b0').width('57%')"
       ],
       "metadata": {},
       "output_type": "display_data",
       "text": [
        "<IPython.core.display.Javascript at 0x1205b0b10>"
       ]
      },
      {
       "javascript": [
        "$('div#295baed1-a55b-49d2-af9c-f721f39015b0').width('58%')"
       ],
       "metadata": {},
       "output_type": "display_data",
       "text": [
        "<IPython.core.display.Javascript at 0x1205b0b10>"
       ]
      },
      {
       "javascript": [
        "$('div#295baed1-a55b-49d2-af9c-f721f39015b0').width('58%')"
       ],
       "metadata": {},
       "output_type": "display_data",
       "text": [
        "<IPython.core.display.Javascript at 0x1205b0b10>"
       ]
      },
      {
       "javascript": [
        "$('div#295baed1-a55b-49d2-af9c-f721f39015b0').width('58%')"
       ],
       "metadata": {},
       "output_type": "display_data",
       "text": [
        "<IPython.core.display.Javascript at 0x1205b0b10>"
       ]
      },
      {
       "javascript": [
        "$('div#295baed1-a55b-49d2-af9c-f721f39015b0').width('59%')"
       ],
       "metadata": {},
       "output_type": "display_data",
       "text": [
        "<IPython.core.display.Javascript at 0x1205b0b10>"
       ]
      },
      {
       "javascript": [
        "$('div#295baed1-a55b-49d2-af9c-f721f39015b0').width('59%')"
       ],
       "metadata": {},
       "output_type": "display_data",
       "text": [
        "<IPython.core.display.Javascript at 0x1205b0b10>"
       ]
      },
      {
       "javascript": [
        "$('div#295baed1-a55b-49d2-af9c-f721f39015b0').width('60%')"
       ],
       "metadata": {},
       "output_type": "display_data",
       "text": [
        "<IPython.core.display.Javascript at 0x1205b0b10>"
       ]
      },
      {
       "javascript": [
        "$('div#295baed1-a55b-49d2-af9c-f721f39015b0').width('60%')"
       ],
       "metadata": {},
       "output_type": "display_data",
       "text": [
        "<IPython.core.display.Javascript at 0x1205b0b10>"
       ]
      },
      {
       "javascript": [
        "$('div#295baed1-a55b-49d2-af9c-f721f39015b0').width('60%')"
       ],
       "metadata": {},
       "output_type": "display_data",
       "text": [
        "<IPython.core.display.Javascript at 0x1205b0b10>"
       ]
      },
      {
       "javascript": [
        "$('div#295baed1-a55b-49d2-af9c-f721f39015b0').width('61%')"
       ],
       "metadata": {},
       "output_type": "display_data",
       "text": [
        "<IPython.core.display.Javascript at 0x1205b0b10>"
       ]
      },
      {
       "javascript": [
        "$('div#295baed1-a55b-49d2-af9c-f721f39015b0').width('61%')"
       ],
       "metadata": {},
       "output_type": "display_data",
       "text": [
        "<IPython.core.display.Javascript at 0x1205b0b10>"
       ]
      },
      {
       "javascript": [
        "$('div#295baed1-a55b-49d2-af9c-f721f39015b0').width('62%')"
       ],
       "metadata": {},
       "output_type": "display_data",
       "text": [
        "<IPython.core.display.Javascript at 0x1205b0b10>"
       ]
      },
      {
       "javascript": [
        "$('div#295baed1-a55b-49d2-af9c-f721f39015b0').width('62%')"
       ],
       "metadata": {},
       "output_type": "display_data",
       "text": [
        "<IPython.core.display.Javascript at 0x1205b0b10>"
       ]
      },
      {
       "javascript": [
        "$('div#295baed1-a55b-49d2-af9c-f721f39015b0').width('62%')"
       ],
       "metadata": {},
       "output_type": "display_data",
       "text": [
        "<IPython.core.display.Javascript at 0x1205b0b10>"
       ]
      },
      {
       "javascript": [
        "$('div#295baed1-a55b-49d2-af9c-f721f39015b0').width('63%')"
       ],
       "metadata": {},
       "output_type": "display_data",
       "text": [
        "<IPython.core.display.Javascript at 0x1205b0b10>"
       ]
      },
      {
       "javascript": [
        "$('div#295baed1-a55b-49d2-af9c-f721f39015b0').width('63%')"
       ],
       "metadata": {},
       "output_type": "display_data",
       "text": [
        "<IPython.core.display.Javascript at 0x1205b0b10>"
       ]
      },
      {
       "javascript": [
        "$('div#295baed1-a55b-49d2-af9c-f721f39015b0').width('64%')"
       ],
       "metadata": {},
       "output_type": "display_data",
       "text": [
        "<IPython.core.display.Javascript at 0x1205b0b10>"
       ]
      },
      {
       "javascript": [
        "$('div#295baed1-a55b-49d2-af9c-f721f39015b0').width('64%')"
       ],
       "metadata": {},
       "output_type": "display_data",
       "text": [
        "<IPython.core.display.Javascript at 0x1205b0b10>"
       ]
      },
      {
       "javascript": [
        "$('div#295baed1-a55b-49d2-af9c-f721f39015b0').width('64%')"
       ],
       "metadata": {},
       "output_type": "display_data",
       "text": [
        "<IPython.core.display.Javascript at 0x1205b0b10>"
       ]
      },
      {
       "javascript": [
        "$('div#295baed1-a55b-49d2-af9c-f721f39015b0').width('65%')"
       ],
       "metadata": {},
       "output_type": "display_data",
       "text": [
        "<IPython.core.display.Javascript at 0x1205b0b10>"
       ]
      },
      {
       "javascript": [
        "$('div#295baed1-a55b-49d2-af9c-f721f39015b0').width('65%')"
       ],
       "metadata": {},
       "output_type": "display_data",
       "text": [
        "<IPython.core.display.Javascript at 0x1205b0b10>"
       ]
      },
      {
       "javascript": [
        "$('div#295baed1-a55b-49d2-af9c-f721f39015b0').width('66%')"
       ],
       "metadata": {},
       "output_type": "display_data",
       "text": [
        "<IPython.core.display.Javascript at 0x1205b0b10>"
       ]
      },
      {
       "javascript": [
        "$('div#295baed1-a55b-49d2-af9c-f721f39015b0').width('66%')"
       ],
       "metadata": {},
       "output_type": "display_data",
       "text": [
        "<IPython.core.display.Javascript at 0x1205b0b10>"
       ]
      },
      {
       "javascript": [
        "$('div#295baed1-a55b-49d2-af9c-f721f39015b0').width('66%')"
       ],
       "metadata": {},
       "output_type": "display_data",
       "text": [
        "<IPython.core.display.Javascript at 0x1205b0b10>"
       ]
      },
      {
       "javascript": [
        "$('div#295baed1-a55b-49d2-af9c-f721f39015b0').width('67%')"
       ],
       "metadata": {},
       "output_type": "display_data",
       "text": [
        "<IPython.core.display.Javascript at 0x1205b0b10>"
       ]
      },
      {
       "javascript": [
        "$('div#295baed1-a55b-49d2-af9c-f721f39015b0').width('67%')"
       ],
       "metadata": {},
       "output_type": "display_data",
       "text": [
        "<IPython.core.display.Javascript at 0x1205b0b10>"
       ]
      },
      {
       "javascript": [
        "$('div#295baed1-a55b-49d2-af9c-f721f39015b0').width('67%')"
       ],
       "metadata": {},
       "output_type": "display_data",
       "text": [
        "<IPython.core.display.Javascript at 0x1205b0b10>"
       ]
      },
      {
       "javascript": [
        "$('div#295baed1-a55b-49d2-af9c-f721f39015b0').width('68%')"
       ],
       "metadata": {},
       "output_type": "display_data",
       "text": [
        "<IPython.core.display.Javascript at 0x1205b0b10>"
       ]
      },
      {
       "javascript": [
        "$('div#295baed1-a55b-49d2-af9c-f721f39015b0').width('68%')"
       ],
       "metadata": {},
       "output_type": "display_data",
       "text": [
        "<IPython.core.display.Javascript at 0x1205b0b10>"
       ]
      },
      {
       "javascript": [
        "$('div#295baed1-a55b-49d2-af9c-f721f39015b0').width('69%')"
       ],
       "metadata": {},
       "output_type": "display_data",
       "text": [
        "<IPython.core.display.Javascript at 0x1205b0b10>"
       ]
      },
      {
       "javascript": [
        "$('div#295baed1-a55b-49d2-af9c-f721f39015b0').width('69%')"
       ],
       "metadata": {},
       "output_type": "display_data",
       "text": [
        "<IPython.core.display.Javascript at 0x1205b0b10>"
       ]
      },
      {
       "javascript": [
        "$('div#295baed1-a55b-49d2-af9c-f721f39015b0').width('69%')"
       ],
       "metadata": {},
       "output_type": "display_data",
       "text": [
        "<IPython.core.display.Javascript at 0x1205b0b10>"
       ]
      },
      {
       "javascript": [
        "$('div#295baed1-a55b-49d2-af9c-f721f39015b0').width('70%')"
       ],
       "metadata": {},
       "output_type": "display_data",
       "text": [
        "<IPython.core.display.Javascript at 0x1205b0b10>"
       ]
      },
      {
       "javascript": [
        "$('div#295baed1-a55b-49d2-af9c-f721f39015b0').width('70%')"
       ],
       "metadata": {},
       "output_type": "display_data",
       "text": [
        "<IPython.core.display.Javascript at 0x1205b0b10>"
       ]
      },
      {
       "javascript": [
        "$('div#295baed1-a55b-49d2-af9c-f721f39015b0').width('71%')"
       ],
       "metadata": {},
       "output_type": "display_data",
       "text": [
        "<IPython.core.display.Javascript at 0x1205b0b10>"
       ]
      },
      {
       "javascript": [
        "$('div#295baed1-a55b-49d2-af9c-f721f39015b0').width('71%')"
       ],
       "metadata": {},
       "output_type": "display_data",
       "text": [
        "<IPython.core.display.Javascript at 0x1205b0b10>"
       ]
      },
      {
       "javascript": [
        "$('div#295baed1-a55b-49d2-af9c-f721f39015b0').width('71%')"
       ],
       "metadata": {},
       "output_type": "display_data",
       "text": [
        "<IPython.core.display.Javascript at 0x1205b0b10>"
       ]
      },
      {
       "javascript": [
        "$('div#295baed1-a55b-49d2-af9c-f721f39015b0').width('72%')"
       ],
       "metadata": {},
       "output_type": "display_data",
       "text": [
        "<IPython.core.display.Javascript at 0x1205b0b10>"
       ]
      },
      {
       "javascript": [
        "$('div#295baed1-a55b-49d2-af9c-f721f39015b0').width('72%')"
       ],
       "metadata": {},
       "output_type": "display_data",
       "text": [
        "<IPython.core.display.Javascript at 0x1205b0b10>"
       ]
      },
      {
       "javascript": [
        "$('div#295baed1-a55b-49d2-af9c-f721f39015b0').width('73%')"
       ],
       "metadata": {},
       "output_type": "display_data",
       "text": [
        "<IPython.core.display.Javascript at 0x1205b0b10>"
       ]
      },
      {
       "javascript": [
        "$('div#295baed1-a55b-49d2-af9c-f721f39015b0').width('73%')"
       ],
       "metadata": {},
       "output_type": "display_data",
       "text": [
        "<IPython.core.display.Javascript at 0x1205b0b10>"
       ]
      },
      {
       "javascript": [
        "$('div#295baed1-a55b-49d2-af9c-f721f39015b0').width('73%')"
       ],
       "metadata": {},
       "output_type": "display_data",
       "text": [
        "<IPython.core.display.Javascript at 0x1205b0b10>"
       ]
      },
      {
       "javascript": [
        "$('div#295baed1-a55b-49d2-af9c-f721f39015b0').width('74%')"
       ],
       "metadata": {},
       "output_type": "display_data",
       "text": [
        "<IPython.core.display.Javascript at 0x1205b0b10>"
       ]
      },
      {
       "javascript": [
        "$('div#295baed1-a55b-49d2-af9c-f721f39015b0').width('74%')"
       ],
       "metadata": {},
       "output_type": "display_data",
       "text": [
        "<IPython.core.display.Javascript at 0x1205b0b10>"
       ]
      },
      {
       "javascript": [
        "$('div#295baed1-a55b-49d2-af9c-f721f39015b0').width('75%')"
       ],
       "metadata": {},
       "output_type": "display_data",
       "text": [
        "<IPython.core.display.Javascript at 0x1205b0b10>"
       ]
      },
      {
       "javascript": [
        "$('div#295baed1-a55b-49d2-af9c-f721f39015b0').width('75%')"
       ],
       "metadata": {},
       "output_type": "display_data",
       "text": [
        "<IPython.core.display.Javascript at 0x1205b0b10>"
       ]
      },
      {
       "javascript": [
        "$('div#295baed1-a55b-49d2-af9c-f721f39015b0').width('75%')"
       ],
       "metadata": {},
       "output_type": "display_data",
       "text": [
        "<IPython.core.display.Javascript at 0x1205b0b10>"
       ]
      },
      {
       "javascript": [
        "$('div#295baed1-a55b-49d2-af9c-f721f39015b0').width('76%')"
       ],
       "metadata": {},
       "output_type": "display_data",
       "text": [
        "<IPython.core.display.Javascript at 0x1205b0b10>"
       ]
      },
      {
       "javascript": [
        "$('div#295baed1-a55b-49d2-af9c-f721f39015b0').width('76%')"
       ],
       "metadata": {},
       "output_type": "display_data",
       "text": [
        "<IPython.core.display.Javascript at 0x1205b0b10>"
       ]
      },
      {
       "javascript": [
        "$('div#295baed1-a55b-49d2-af9c-f721f39015b0').width('76%')"
       ],
       "metadata": {},
       "output_type": "display_data",
       "text": [
        "<IPython.core.display.Javascript at 0x1205b0b10>"
       ]
      },
      {
       "javascript": [
        "$('div#295baed1-a55b-49d2-af9c-f721f39015b0').width('77%')"
       ],
       "metadata": {},
       "output_type": "display_data",
       "text": [
        "<IPython.core.display.Javascript at 0x1205b0b10>"
       ]
      },
      {
       "javascript": [
        "$('div#295baed1-a55b-49d2-af9c-f721f39015b0').width('77%')"
       ],
       "metadata": {},
       "output_type": "display_data",
       "text": [
        "<IPython.core.display.Javascript at 0x1205b0b10>"
       ]
      },
      {
       "javascript": [
        "$('div#295baed1-a55b-49d2-af9c-f721f39015b0').width('78%')"
       ],
       "metadata": {},
       "output_type": "display_data",
       "text": [
        "<IPython.core.display.Javascript at 0x1205b0b10>"
       ]
      },
      {
       "javascript": [
        "$('div#295baed1-a55b-49d2-af9c-f721f39015b0').width('78%')"
       ],
       "metadata": {},
       "output_type": "display_data",
       "text": [
        "<IPython.core.display.Javascript at 0x1205b0b10>"
       ]
      },
      {
       "javascript": [
        "$('div#295baed1-a55b-49d2-af9c-f721f39015b0').width('78%')"
       ],
       "metadata": {},
       "output_type": "display_data",
       "text": [
        "<IPython.core.display.Javascript at 0x1205b0b10>"
       ]
      },
      {
       "javascript": [
        "$('div#295baed1-a55b-49d2-af9c-f721f39015b0').width('79%')"
       ],
       "metadata": {},
       "output_type": "display_data",
       "text": [
        "<IPython.core.display.Javascript at 0x1205b0b10>"
       ]
      },
      {
       "javascript": [
        "$('div#295baed1-a55b-49d2-af9c-f721f39015b0').width('79%')"
       ],
       "metadata": {},
       "output_type": "display_data",
       "text": [
        "<IPython.core.display.Javascript at 0x1205b0b10>"
       ]
      },
      {
       "javascript": [
        "$('div#295baed1-a55b-49d2-af9c-f721f39015b0').width('80%')"
       ],
       "metadata": {},
       "output_type": "display_data",
       "text": [
        "<IPython.core.display.Javascript at 0x1205b0b10>"
       ]
      },
      {
       "javascript": [
        "$('div#295baed1-a55b-49d2-af9c-f721f39015b0').width('80%')"
       ],
       "metadata": {},
       "output_type": "display_data",
       "text": [
        "<IPython.core.display.Javascript at 0x1205b0b10>"
       ]
      },
      {
       "javascript": [
        "$('div#295baed1-a55b-49d2-af9c-f721f39015b0').width('80%')"
       ],
       "metadata": {},
       "output_type": "display_data",
       "text": [
        "<IPython.core.display.Javascript at 0x1205b0b10>"
       ]
      },
      {
       "javascript": [
        "$('div#295baed1-a55b-49d2-af9c-f721f39015b0').width('81%')"
       ],
       "metadata": {},
       "output_type": "display_data",
       "text": [
        "<IPython.core.display.Javascript at 0x1205b0b10>"
       ]
      },
      {
       "javascript": [
        "$('div#295baed1-a55b-49d2-af9c-f721f39015b0').width('81%')"
       ],
       "metadata": {},
       "output_type": "display_data",
       "text": [
        "<IPython.core.display.Javascript at 0x1205b0b10>"
       ]
      },
      {
       "javascript": [
        "$('div#295baed1-a55b-49d2-af9c-f721f39015b0').width('82%')"
       ],
       "metadata": {},
       "output_type": "display_data",
       "text": [
        "<IPython.core.display.Javascript at 0x1205b0b10>"
       ]
      },
      {
       "javascript": [
        "$('div#295baed1-a55b-49d2-af9c-f721f39015b0').width('82%')"
       ],
       "metadata": {},
       "output_type": "display_data",
       "text": [
        "<IPython.core.display.Javascript at 0x1205b0b10>"
       ]
      },
      {
       "javascript": [
        "$('div#295baed1-a55b-49d2-af9c-f721f39015b0').width('82%')"
       ],
       "metadata": {},
       "output_type": "display_data",
       "text": [
        "<IPython.core.display.Javascript at 0x1205b0b10>"
       ]
      },
      {
       "javascript": [
        "$('div#295baed1-a55b-49d2-af9c-f721f39015b0').width('83%')"
       ],
       "metadata": {},
       "output_type": "display_data",
       "text": [
        "<IPython.core.display.Javascript at 0x1205b0b10>"
       ]
      },
      {
       "javascript": [
        "$('div#295baed1-a55b-49d2-af9c-f721f39015b0').width('83%')"
       ],
       "metadata": {},
       "output_type": "display_data",
       "text": [
        "<IPython.core.display.Javascript at 0x1205b0b10>"
       ]
      },
      {
       "javascript": [
        "$('div#295baed1-a55b-49d2-af9c-f721f39015b0').width('83%')"
       ],
       "metadata": {},
       "output_type": "display_data",
       "text": [
        "<IPython.core.display.Javascript at 0x1205b0b10>"
       ]
      },
      {
       "javascript": [
        "$('div#295baed1-a55b-49d2-af9c-f721f39015b0').width('84%')"
       ],
       "metadata": {},
       "output_type": "display_data",
       "text": [
        "<IPython.core.display.Javascript at 0x1205b0b10>"
       ]
      },
      {
       "javascript": [
        "$('div#295baed1-a55b-49d2-af9c-f721f39015b0').width('84%')"
       ],
       "metadata": {},
       "output_type": "display_data",
       "text": [
        "<IPython.core.display.Javascript at 0x1205b0b10>"
       ]
      },
      {
       "javascript": [
        "$('div#295baed1-a55b-49d2-af9c-f721f39015b0').width('85%')"
       ],
       "metadata": {},
       "output_type": "display_data",
       "text": [
        "<IPython.core.display.Javascript at 0x1205b0b10>"
       ]
      },
      {
       "javascript": [
        "$('div#295baed1-a55b-49d2-af9c-f721f39015b0').width('85%')"
       ],
       "metadata": {},
       "output_type": "display_data",
       "text": [
        "<IPython.core.display.Javascript at 0x1205b0b10>"
       ]
      },
      {
       "javascript": [
        "$('div#295baed1-a55b-49d2-af9c-f721f39015b0').width('85%')"
       ],
       "metadata": {},
       "output_type": "display_data",
       "text": [
        "<IPython.core.display.Javascript at 0x1205b0b10>"
       ]
      },
      {
       "javascript": [
        "$('div#295baed1-a55b-49d2-af9c-f721f39015b0').width('86%')"
       ],
       "metadata": {},
       "output_type": "display_data",
       "text": [
        "<IPython.core.display.Javascript at 0x1205b0b10>"
       ]
      },
      {
       "javascript": [
        "$('div#295baed1-a55b-49d2-af9c-f721f39015b0').width('86%')"
       ],
       "metadata": {},
       "output_type": "display_data",
       "text": [
        "<IPython.core.display.Javascript at 0x1205b0b10>"
       ]
      },
      {
       "javascript": [
        "$('div#295baed1-a55b-49d2-af9c-f721f39015b0').width('87%')"
       ],
       "metadata": {},
       "output_type": "display_data",
       "text": [
        "<IPython.core.display.Javascript at 0x1205b0b10>"
       ]
      },
      {
       "javascript": [
        "$('div#295baed1-a55b-49d2-af9c-f721f39015b0').width('87%')"
       ],
       "metadata": {},
       "output_type": "display_data",
       "text": [
        "<IPython.core.display.Javascript at 0x1205b0b10>"
       ]
      },
      {
       "javascript": [
        "$('div#295baed1-a55b-49d2-af9c-f721f39015b0').width('87%')"
       ],
       "metadata": {},
       "output_type": "display_data",
       "text": [
        "<IPython.core.display.Javascript at 0x1205b0b10>"
       ]
      },
      {
       "javascript": [
        "$('div#295baed1-a55b-49d2-af9c-f721f39015b0').width('88%')"
       ],
       "metadata": {},
       "output_type": "display_data",
       "text": [
        "<IPython.core.display.Javascript at 0x1205b0b10>"
       ]
      },
      {
       "javascript": [
        "$('div#295baed1-a55b-49d2-af9c-f721f39015b0').width('88%')"
       ],
       "metadata": {},
       "output_type": "display_data",
       "text": [
        "<IPython.core.display.Javascript at 0x1205b0b10>"
       ]
      },
      {
       "javascript": [
        "$('div#295baed1-a55b-49d2-af9c-f721f39015b0').width('89%')"
       ],
       "metadata": {},
       "output_type": "display_data",
       "text": [
        "<IPython.core.display.Javascript at 0x1205b0b10>"
       ]
      },
      {
       "javascript": [
        "$('div#295baed1-a55b-49d2-af9c-f721f39015b0').width('89%')"
       ],
       "metadata": {},
       "output_type": "display_data",
       "text": [
        "<IPython.core.display.Javascript at 0x1205b0b10>"
       ]
      },
      {
       "javascript": [
        "$('div#295baed1-a55b-49d2-af9c-f721f39015b0').width('89%')"
       ],
       "metadata": {},
       "output_type": "display_data",
       "text": [
        "<IPython.core.display.Javascript at 0x1205b0b10>"
       ]
      },
      {
       "javascript": [
        "$('div#295baed1-a55b-49d2-af9c-f721f39015b0').width('90%')"
       ],
       "metadata": {},
       "output_type": "display_data",
       "text": [
        "<IPython.core.display.Javascript at 0x1205b0b10>"
       ]
      },
      {
       "javascript": [
        "$('div#295baed1-a55b-49d2-af9c-f721f39015b0').width('90%')"
       ],
       "metadata": {},
       "output_type": "display_data",
       "text": [
        "<IPython.core.display.Javascript at 0x1205b0b10>"
       ]
      },
      {
       "javascript": [
        "$('div#295baed1-a55b-49d2-af9c-f721f39015b0').width('91%')"
       ],
       "metadata": {},
       "output_type": "display_data",
       "text": [
        "<IPython.core.display.Javascript at 0x1205b0b10>"
       ]
      },
      {
       "javascript": [
        "$('div#295baed1-a55b-49d2-af9c-f721f39015b0').width('91%')"
       ],
       "metadata": {},
       "output_type": "display_data",
       "text": [
        "<IPython.core.display.Javascript at 0x1205b0b10>"
       ]
      },
      {
       "javascript": [
        "$('div#295baed1-a55b-49d2-af9c-f721f39015b0').width('91%')"
       ],
       "metadata": {},
       "output_type": "display_data",
       "text": [
        "<IPython.core.display.Javascript at 0x1205b0b10>"
       ]
      },
      {
       "javascript": [
        "$('div#295baed1-a55b-49d2-af9c-f721f39015b0').width('92%')"
       ],
       "metadata": {},
       "output_type": "display_data",
       "text": [
        "<IPython.core.display.Javascript at 0x1205b0b10>"
       ]
      },
      {
       "javascript": [
        "$('div#295baed1-a55b-49d2-af9c-f721f39015b0').width('92%')"
       ],
       "metadata": {},
       "output_type": "display_data",
       "text": [
        "<IPython.core.display.Javascript at 0x1205b0b10>"
       ]
      },
      {
       "javascript": [
        "$('div#295baed1-a55b-49d2-af9c-f721f39015b0').width('92%')"
       ],
       "metadata": {},
       "output_type": "display_data",
       "text": [
        "<IPython.core.display.Javascript at 0x1205b0b10>"
       ]
      },
      {
       "javascript": [
        "$('div#295baed1-a55b-49d2-af9c-f721f39015b0').width('93%')"
       ],
       "metadata": {},
       "output_type": "display_data",
       "text": [
        "<IPython.core.display.Javascript at 0x1205b0b10>"
       ]
      },
      {
       "javascript": [
        "$('div#295baed1-a55b-49d2-af9c-f721f39015b0').width('93%')"
       ],
       "metadata": {},
       "output_type": "display_data",
       "text": [
        "<IPython.core.display.Javascript at 0x1205b0b10>"
       ]
      },
      {
       "javascript": [
        "$('div#295baed1-a55b-49d2-af9c-f721f39015b0').width('94%')"
       ],
       "metadata": {},
       "output_type": "display_data",
       "text": [
        "<IPython.core.display.Javascript at 0x1205b0b10>"
       ]
      },
      {
       "javascript": [
        "$('div#295baed1-a55b-49d2-af9c-f721f39015b0').width('94%')"
       ],
       "metadata": {},
       "output_type": "display_data",
       "text": [
        "<IPython.core.display.Javascript at 0x1205b0b10>"
       ]
      },
      {
       "javascript": [
        "$('div#295baed1-a55b-49d2-af9c-f721f39015b0').width('94%')"
       ],
       "metadata": {},
       "output_type": "display_data",
       "text": [
        "<IPython.core.display.Javascript at 0x1205b0b10>"
       ]
      },
      {
       "javascript": [
        "$('div#295baed1-a55b-49d2-af9c-f721f39015b0').width('95%')"
       ],
       "metadata": {},
       "output_type": "display_data",
       "text": [
        "<IPython.core.display.Javascript at 0x1205b0b10>"
       ]
      },
      {
       "javascript": [
        "$('div#295baed1-a55b-49d2-af9c-f721f39015b0').width('95%')"
       ],
       "metadata": {},
       "output_type": "display_data",
       "text": [
        "<IPython.core.display.Javascript at 0x1205b0b10>"
       ]
      },
      {
       "javascript": [
        "$('div#295baed1-a55b-49d2-af9c-f721f39015b0').width('96%')"
       ],
       "metadata": {},
       "output_type": "display_data",
       "text": [
        "<IPython.core.display.Javascript at 0x1205b0b10>"
       ]
      },
      {
       "javascript": [
        "$('div#295baed1-a55b-49d2-af9c-f721f39015b0').width('96%')"
       ],
       "metadata": {},
       "output_type": "display_data",
       "text": [
        "<IPython.core.display.Javascript at 0x1205b0b10>"
       ]
      },
      {
       "javascript": [
        "$('div#295baed1-a55b-49d2-af9c-f721f39015b0').width('96%')"
       ],
       "metadata": {},
       "output_type": "display_data",
       "text": [
        "<IPython.core.display.Javascript at 0x1205b0b10>"
       ]
      },
      {
       "javascript": [
        "$('div#295baed1-a55b-49d2-af9c-f721f39015b0').width('97%')"
       ],
       "metadata": {},
       "output_type": "display_data",
       "text": [
        "<IPython.core.display.Javascript at 0x1205b0b10>"
       ]
      },
      {
       "javascript": [
        "$('div#295baed1-a55b-49d2-af9c-f721f39015b0').width('97%')"
       ],
       "metadata": {},
       "output_type": "display_data",
       "text": [
        "<IPython.core.display.Javascript at 0x1205b0b10>"
       ]
      },
      {
       "javascript": [
        "$('div#295baed1-a55b-49d2-af9c-f721f39015b0').width('98%')"
       ],
       "metadata": {},
       "output_type": "display_data",
       "text": [
        "<IPython.core.display.Javascript at 0x1205b0b10>"
       ]
      },
      {
       "javascript": [
        "$('div#295baed1-a55b-49d2-af9c-f721f39015b0').width('98%')"
       ],
       "metadata": {},
       "output_type": "display_data",
       "text": [
        "<IPython.core.display.Javascript at 0x1205b0b10>"
       ]
      },
      {
       "javascript": [
        "$('div#295baed1-a55b-49d2-af9c-f721f39015b0').width('98%')"
       ],
       "metadata": {},
       "output_type": "display_data",
       "text": [
        "<IPython.core.display.Javascript at 0x1205b0b10>"
       ]
      },
      {
       "javascript": [
        "$('div#295baed1-a55b-49d2-af9c-f721f39015b0').width('99%')"
       ],
       "metadata": {},
       "output_type": "display_data",
       "text": [
        "<IPython.core.display.Javascript at 0x1205b0b10>"
       ]
      },
      {
       "javascript": [
        "$('div#295baed1-a55b-49d2-af9c-f721f39015b0').width('99%')"
       ],
       "metadata": {},
       "output_type": "display_data",
       "text": [
        "<IPython.core.display.Javascript at 0x1205b0b10>"
       ]
      },
      {
       "javascript": [
        "$('div#295baed1-a55b-49d2-af9c-f721f39015b0').width('100%')"
       ],
       "metadata": {},
       "output_type": "display_data",
       "text": [
        "<IPython.core.display.Javascript at 0x1205b0b10>"
       ]
      },
      {
       "html": [
        "<iframe src=http://127.0.0.1:8001/2985386 width=100%% height=420 frameborder=0></iframe>"
       ],
       "metadata": {},
       "output_type": "pyout",
       "prompt_number": 14,
       "text": [
        "<occiput.Visualization.Visualization.MultipleVolumes instance at 0x11d0a6758>"
       ]
      }
     ],
     "prompt_number": 14
    },
    {
     "cell_type": "code",
     "collapsed": false,
     "input": [
      "SCAN.set_measurement_data(proj)"
     ],
     "language": "python",
     "metadata": {},
     "outputs": [],
     "prompt_number": 15
    },
    {
     "cell_type": "code",
     "collapsed": false,
     "input": [
      "A = SCAN.estimate_activity(iterations=20, subset_size=16) "
     ],
     "language": "python",
     "metadata": {},
     "outputs": [
      {
       "html": [
        "\n",
        "        <div style=\"border: 1px solid white; width:100%%; height:6px; background-color:rgb(200,228,246)\">\n",
        "            <div id=\"3d59c6ac-8dd6-45d9-97cf-25c63c4df2e8\" style=\"background-color:rgb(47,128,246); width:0%; height:6px\"> </div>\n",
        "        </div> \n",
        "        "
       ],
       "metadata": {},
       "output_type": "display_data",
       "text": [
        "<IPython.core.display.HTML at 0x110ac5690>"
       ]
      },
      {
       "javascript": [
        "$('div#3d59c6ac-8dd6-45d9-97cf-25c63c4df2e8').width('1%')"
       ],
       "metadata": {},
       "output_type": "display_data",
       "text": [
        "<IPython.core.display.Javascript at 0x110ac5150>"
       ]
      },
      {
       "javascript": [
        "$('div#3d59c6ac-8dd6-45d9-97cf-25c63c4df2e8').width('5%')"
       ],
       "metadata": {},
       "output_type": "display_data",
       "text": [
        "<IPython.core.display.Javascript at 0x110ac5490>"
       ]
      },
      {
       "output_type": "stream",
       "stream": "stdout",
       "text": [
        "Iteration: 0    max act: 1.771270    min act: 0.000000    max proj: 0.871094    min proj: 0.000000    max norm: 16.000000    min norm: 7.066406\n"
       ]
      },
      {
       "javascript": [
        "$('div#3d59c6ac-8dd6-45d9-97cf-25c63c4df2e8').width('10%')"
       ],
       "metadata": {},
       "output_type": "display_data",
       "text": [
        "<IPython.core.display.Javascript at 0x110ac5650>"
       ]
      },
      {
       "output_type": "stream",
       "stream": "stdout",
       "text": [
        "Iteration: 1    max act: 8353.044922    min act: 0.000000    max proj: 0.463008    min proj: 0.000000    max norm: 16.000000    min norm: 6.750000\n"
       ]
      },
      {
       "javascript": [
        "$('div#3d59c6ac-8dd6-45d9-97cf-25c63c4df2e8').width('15%')"
       ],
       "metadata": {},
       "output_type": "display_data",
       "text": [
        "<IPython.core.display.Javascript at 0x110ac5f90>"
       ]
      },
      {
       "output_type": "stream",
       "stream": "stdout",
       "text": [
        "Iteration: 2    max act: 37797772.000000    min act: 0.000000    max proj: 655.650208    min proj: 0.000000    max norm: 16.000000    min norm: 6.312500\n"
       ]
      },
      {
       "javascript": [
        "$('div#3d59c6ac-8dd6-45d9-97cf-25c63c4df2e8').width('20%')"
       ],
       "metadata": {},
       "output_type": "display_data",
       "text": [
        "<IPython.core.display.Javascript at 0x110ac5490>"
       ]
      },
      {
       "output_type": "stream",
       "stream": "stdout",
       "text": [
        "Iteration: 3    max act: 349963354112.000000    min act: 0.000000    max proj: 953844.312500    min proj: 0.000000    max norm: 16.000000    min norm: 7.656250\n"
       ]
      },
      {
       "javascript": [
        "$('div#3d59c6ac-8dd6-45d9-97cf-25c63c4df2e8').width('25%')"
       ],
       "metadata": {},
       "output_type": "display_data",
       "text": [
        "<IPython.core.display.Javascript at 0x110ac5650>"
       ]
      },
      {
       "output_type": "stream",
       "stream": "stdout",
       "text": [
        "Iteration: 4    max act: 1316840462614528.000000    min act: 0.000000    max proj: 3637050624.000000    min proj: 0.000000    max norm: 16.000000    min norm: 7.074219\n"
       ]
      },
      {
       "javascript": [
        "$('div#3d59c6ac-8dd6-45d9-97cf-25c63c4df2e8').width('30%')"
       ],
       "metadata": {},
       "output_type": "display_data",
       "text": [
        "<IPython.core.display.Javascript at 0x110ac5f90>"
       ]
      },
      {
       "output_type": "stream",
       "stream": "stdout",
       "text": [
        "Iteration: 5    max act: 10034298146223292416.000000    min act: 0.000000    max proj: 12483428352000.000000    min proj: 0.000000    max norm: 16.000000    min norm: 6.691406\n"
       ]
      },
      {
       "javascript": [
        "$('div#3d59c6ac-8dd6-45d9-97cf-25c63c4df2e8').width('35%')"
       ],
       "metadata": {},
       "output_type": "display_data",
       "text": [
        "<IPython.core.display.Javascript at 0x110ac5490>"
       ]
      },
      {
       "output_type": "stream",
       "stream": "stdout",
       "text": [
        "Iteration: 6    max act: 67698546447797150810112.000000    min act: 0.000000    max proj: 76762765070434304.000000    min proj: 0.000000    max norm: 16.000000    min norm: 6.527344\n"
       ]
      },
      {
       "javascript": [
        "$('div#3d59c6ac-8dd6-45d9-97cf-25c63c4df2e8').width('40%')"
       ],
       "metadata": {},
       "output_type": "display_data",
       "text": [
        "<IPython.core.display.Javascript at 0x110ac5650>"
       ]
      },
      {
       "output_type": "stream",
       "stream": "stdout",
       "text": [
        "Iteration: 7    max act: 206649484465034588592275456.000000    min act: 0.000000    max proj: 343101706246012534784.000000    min proj: 0.000000    max norm: 16.000000    min norm: 6.394531\n"
       ]
      },
      {
       "javascript": [
        "$('div#3d59c6ac-8dd6-45d9-97cf-25c63c4df2e8').width('45%')"
       ],
       "metadata": {},
       "output_type": "display_data",
       "text": [
        "<IPython.core.display.Javascript at 0x110ac5f90>"
       ]
      },
      {
       "output_type": "stream",
       "stream": "stdout",
       "text": [
        "Iteration: 8    max act: 820169957086014626795119181824.000000    min act: 0.000000    max proj: 1344615024989253981437952.000000    min proj: 0.000000    max norm: 16.000000    min norm: 6.562500\n"
       ]
      },
      {
       "javascript": [
        "$('div#3d59c6ac-8dd6-45d9-97cf-25c63c4df2e8').width('50%')"
       ],
       "metadata": {},
       "output_type": "display_data",
       "text": [
        "<IPython.core.display.Javascript at 0x110ac5490>"
       ]
      },
      {
       "output_type": "stream",
       "stream": "stdout",
       "text": [
        "Iteration: 9    max act: 2349180938855029556148216505827328.000000    min act: 0.000000    max proj: 6407529385478039857973428224.000000    min proj: 0.000000    max norm: 16.000000    min norm: 7.218750\n"
       ]
      },
      {
       "javascript": [
        "$('div#3d59c6ac-8dd6-45d9-97cf-25c63c4df2e8').width('55%')"
       ],
       "metadata": {},
       "output_type": "display_data",
       "text": [
        "<IPython.core.display.Javascript at 0x110ac5650>"
       ]
      },
      {
       "output_type": "stream",
       "stream": "stdout",
       "text": [
        "Iteration: 10    max act: 15080757483687158462433709287140229120.000000    min act: 0.000000    max proj: 12947559260298090022227903774720.000000    min proj: 0.000000    max norm: 16.000000    min norm: 6.601562\n"
       ]
      },
      {
       "output_type": "stream",
       "stream": "stderr",
       "text": [
        "/Users/spedemon/.virtualenvs/ipy/lib/python2.7/site-packages/occiput-0.1.0-py2.7.egg/occiput/Reconstruction/PET/PET.py:713: RuntimeWarning: overflow encountered in multiply\n",
        "  activity = activity * update * self.get_mask().data\n"
       ]
      },
      {
       "javascript": [
        "$('div#3d59c6ac-8dd6-45d9-97cf-25c63c4df2e8').width('60%')"
       ],
       "metadata": {},
       "output_type": "display_data",
       "text": [
        "<IPython.core.display.Javascript at 0x110ad15d0>"
       ]
      },
      {
       "output_type": "stream",
       "stream": "stdout",
       "text": [
        "Iteration: 11    max act: inf    min act: 0.000000    max proj: 99181903989245896696026583737040896.000000    min proj: 0.000000    max norm: 16.000000    min norm: 6.863281\n"
       ]
      },
      {
       "javascript": [
        "$('div#3d59c6ac-8dd6-45d9-97cf-25c63c4df2e8').width('65%')"
       ],
       "metadata": {},
       "output_type": "display_data",
       "text": [
        "<IPython.core.display.Javascript at 0x110ad1fd0>"
       ]
      },
      {
       "output_type": "stream",
       "stream": "stdout",
       "text": [
        "Iteration: 12    max act: inf    min act: 0.000000    max proj: inf    min proj: 0.000000    max norm: 16.000000    min norm: 6.550781\n"
       ]
      },
      {
       "javascript": [
        "$('div#3d59c6ac-8dd6-45d9-97cf-25c63c4df2e8').width('70%')"
       ],
       "metadata": {},
       "output_type": "display_data",
       "text": [
        "<IPython.core.display.Javascript at 0x110ac5650>"
       ]
      },
      {
       "output_type": "stream",
       "stream": "stdout",
       "text": [
        "Iteration: 13    max act: inf    min act: 0.000000    max proj: inf    min proj: 0.000000    max norm: 16.000000    min norm: 6.832031\n"
       ]
      },
      {
       "javascript": [
        "$('div#3d59c6ac-8dd6-45d9-97cf-25c63c4df2e8').width('75%')"
       ],
       "metadata": {},
       "output_type": "display_data",
       "text": [
        "<IPython.core.display.Javascript at 0x110ad15d0>"
       ]
      },
      {
       "output_type": "stream",
       "stream": "stdout",
       "text": [
        "Iteration: 14    max act: inf    min act: 0.000000    max proj: inf    min proj: 0.000000    max norm: 16.000000    min norm: 7.226562\n"
       ]
      },
      {
       "javascript": [
        "$('div#3d59c6ac-8dd6-45d9-97cf-25c63c4df2e8').width('80%')"
       ],
       "metadata": {},
       "output_type": "display_data",
       "text": [
        "<IPython.core.display.Javascript at 0x110ad1fd0>"
       ]
      },
      {
       "output_type": "stream",
       "stream": "stdout",
       "text": [
        "Iteration: 15    max act: inf    min act: 0.000000    max proj: inf    min proj: 0.000000    max norm: 16.000000    min norm: 6.757812\n"
       ]
      },
      {
       "javascript": [
        "$('div#3d59c6ac-8dd6-45d9-97cf-25c63c4df2e8').width('85%')"
       ],
       "metadata": {},
       "output_type": "display_data",
       "text": [
        "<IPython.core.display.Javascript at 0x110ac5650>"
       ]
      },
      {
       "output_type": "stream",
       "stream": "stdout",
       "text": [
        "Iteration: 16    max act: inf    min act: 0.000000    max proj: inf    min proj: 0.000000    max norm: 16.000000    min norm: 5.707031\n"
       ]
      },
      {
       "javascript": [
        "$('div#3d59c6ac-8dd6-45d9-97cf-25c63c4df2e8').width('90%')"
       ],
       "metadata": {},
       "output_type": "display_data",
       "text": [
        "<IPython.core.display.Javascript at 0x110ad15d0>"
       ]
      },
      {
       "output_type": "stream",
       "stream": "stdout",
       "text": [
        "Iteration: 17    max act: inf    min act: 0.000000    max proj: inf    min proj: 0.000000    max norm: 16.000000    min norm: 7.226562\n"
       ]
      },
      {
       "javascript": [
        "$('div#3d59c6ac-8dd6-45d9-97cf-25c63c4df2e8').width('95%')"
       ],
       "metadata": {},
       "output_type": "display_data",
       "text": [
        "<IPython.core.display.Javascript at 0x110ad1fd0>"
       ]
      },
      {
       "output_type": "stream",
       "stream": "stdout",
       "text": [
        "Iteration: 18    max act: inf    min act: 0.000000    max proj: inf    min proj: 0.000000    max norm: 16.000000    min norm: 4.062500\n"
       ]
      },
      {
       "javascript": [
        "$('div#3d59c6ac-8dd6-45d9-97cf-25c63c4df2e8').width('100%')"
       ],
       "metadata": {},
       "output_type": "display_data",
       "text": [
        "<IPython.core.display.Javascript at 0x110ac5650>"
       ]
      },
      {
       "output_type": "stream",
       "stream": "stdout",
       "text": [
        "Iteration: 19    max act: inf    min act: 0.000000    max proj: inf    min proj: 0.000000    max norm: 16.000000    min norm: 6.382812\n"
       ]
      },
      {
       "javascript": [
        "$('div#3d59c6ac-8dd6-45d9-97cf-25c63c4df2e8').width('100%')"
       ],
       "metadata": {},
       "output_type": "display_data",
       "text": [
        "<IPython.core.display.Javascript at 0x110ac5150>"
       ]
      }
     ],
     "prompt_number": 29
    },
    {
     "cell_type": "code",
     "collapsed": false,
     "input": [
      "SCAN.volume_render(A,scale=0.5)"
     ],
     "language": "python",
     "metadata": {},
     "outputs": [
      {
       "output_type": "stream",
       "stream": "stderr",
       "text": [
        "/Users/spedemon/.virtualenvs/ipy/lib/python2.7/site-packages/mMR-0.1.0-py2.7-macosx-10.9-intel.egg/mMR/mMR.py:461: RuntimeWarning: invalid value encountered in multiply\n",
        "  a = scale*(a)\n"
       ]
      },
      {
       "html": [
        "\n",
        "        <div style=\"border: 1px solid white; width:100%%; height:6px; background-color:rgb(246,246,246)\">\n",
        "            <div id=\"747cc92e-76d7-4be0-85c6-d604c36d52b8\" style=\"background-color:rgb(200,200,200); width:0%; height:6px\"> </div>\n",
        "        </div> \n",
        "        "
       ],
       "metadata": {},
       "output_type": "display_data",
       "text": [
        "<IPython.core.display.HTML at 0x110ad1dd0>"
       ]
      },
      {
       "javascript": [
        "$('div#747cc92e-76d7-4be0-85c6-d604c36d52b8').width('1%')"
       ],
       "metadata": {},
       "output_type": "display_data",
       "text": [
        "<IPython.core.display.Javascript at 0x101262250>"
       ]
      },
      {
       "javascript": [
        "$('div#747cc92e-76d7-4be0-85c6-d604c36d52b8').width('1%')"
       ],
       "metadata": {},
       "output_type": "display_data",
       "text": [
        "<IPython.core.display.Javascript at 0x101262250>"
       ]
      },
      {
       "javascript": [
        "$('div#747cc92e-76d7-4be0-85c6-d604c36d52b8').width('1%')"
       ],
       "metadata": {},
       "output_type": "display_data",
       "text": [
        "<IPython.core.display.Javascript at 0x101262250>"
       ]
      },
      {
       "javascript": [
        "$('div#747cc92e-76d7-4be0-85c6-d604c36d52b8').width('1%')"
       ],
       "metadata": {},
       "output_type": "display_data",
       "text": [
        "<IPython.core.display.Javascript at 0x101262250>"
       ]
      },
      {
       "javascript": [
        "$('div#747cc92e-76d7-4be0-85c6-d604c36d52b8').width('2%')"
       ],
       "metadata": {},
       "output_type": "display_data",
       "text": [
        "<IPython.core.display.Javascript at 0x101262250>"
       ]
      },
      {
       "javascript": [
        "$('div#747cc92e-76d7-4be0-85c6-d604c36d52b8').width('2%')"
       ],
       "metadata": {},
       "output_type": "display_data",
       "text": [
        "<IPython.core.display.Javascript at 0x101262250>"
       ]
      },
      {
       "javascript": [
        "$('div#747cc92e-76d7-4be0-85c6-d604c36d52b8').width('3%')"
       ],
       "metadata": {},
       "output_type": "display_data",
       "text": [
        "<IPython.core.display.Javascript at 0x101262250>"
       ]
      },
      {
       "javascript": [
        "$('div#747cc92e-76d7-4be0-85c6-d604c36d52b8').width('3%')"
       ],
       "metadata": {},
       "output_type": "display_data",
       "text": [
        "<IPython.core.display.Javascript at 0x101262250>"
       ]
      },
      {
       "javascript": [
        "$('div#747cc92e-76d7-4be0-85c6-d604c36d52b8').width('4%')"
       ],
       "metadata": {},
       "output_type": "display_data",
       "text": [
        "<IPython.core.display.Javascript at 0x101262250>"
       ]
      },
      {
       "javascript": [
        "$('div#747cc92e-76d7-4be0-85c6-d604c36d52b8').width('5%')"
       ],
       "metadata": {},
       "output_type": "display_data",
       "text": [
        "<IPython.core.display.Javascript at 0x101262250>"
       ]
      },
      {
       "javascript": [
        "$('div#747cc92e-76d7-4be0-85c6-d604c36d52b8').width('5%')"
       ],
       "metadata": {},
       "output_type": "display_data",
       "text": [
        "<IPython.core.display.Javascript at 0x101262250>"
       ]
      },
      {
       "javascript": [
        "$('div#747cc92e-76d7-4be0-85c6-d604c36d52b8').width('6%')"
       ],
       "metadata": {},
       "output_type": "display_data",
       "text": [
        "<IPython.core.display.Javascript at 0x101262250>"
       ]
      },
      {
       "javascript": [
        "$('div#747cc92e-76d7-4be0-85c6-d604c36d52b8').width('6%')"
       ],
       "metadata": {},
       "output_type": "display_data",
       "text": [
        "<IPython.core.display.Javascript at 0x101262250>"
       ]
      },
      {
       "javascript": [
        "$('div#747cc92e-76d7-4be0-85c6-d604c36d52b8').width('7%')"
       ],
       "metadata": {},
       "output_type": "display_data",
       "text": [
        "<IPython.core.display.Javascript at 0x101262250>"
       ]
      },
      {
       "javascript": [
        "$('div#747cc92e-76d7-4be0-85c6-d604c36d52b8').width('7%')"
       ],
       "metadata": {},
       "output_type": "display_data",
       "text": [
        "<IPython.core.display.Javascript at 0x101262250>"
       ]
      },
      {
       "javascript": [
        "$('div#747cc92e-76d7-4be0-85c6-d604c36d52b8').width('8%')"
       ],
       "metadata": {},
       "output_type": "display_data",
       "text": [
        "<IPython.core.display.Javascript at 0x101262250>"
       ]
      },
      {
       "javascript": [
        "$('div#747cc92e-76d7-4be0-85c6-d604c36d52b8').width('8%')"
       ],
       "metadata": {},
       "output_type": "display_data",
       "text": [
        "<IPython.core.display.Javascript at 0x101262250>"
       ]
      },
      {
       "javascript": [
        "$('div#747cc92e-76d7-4be0-85c6-d604c36d52b8').width('9%')"
       ],
       "metadata": {},
       "output_type": "display_data",
       "text": [
        "<IPython.core.display.Javascript at 0x101262250>"
       ]
      },
      {
       "javascript": [
        "$('div#747cc92e-76d7-4be0-85c6-d604c36d52b8').width('10%')"
       ],
       "metadata": {},
       "output_type": "display_data",
       "text": [
        "<IPython.core.display.Javascript at 0x101262250>"
       ]
      },
      {
       "javascript": [
        "$('div#747cc92e-76d7-4be0-85c6-d604c36d52b8').width('10%')"
       ],
       "metadata": {},
       "output_type": "display_data",
       "text": [
        "<IPython.core.display.Javascript at 0x101262250>"
       ]
      },
      {
       "javascript": [
        "$('div#747cc92e-76d7-4be0-85c6-d604c36d52b8').width('11%')"
       ],
       "metadata": {},
       "output_type": "display_data",
       "text": [
        "<IPython.core.display.Javascript at 0x101262250>"
       ]
      },
      {
       "javascript": [
        "$('div#747cc92e-76d7-4be0-85c6-d604c36d52b8').width('11%')"
       ],
       "metadata": {},
       "output_type": "display_data",
       "text": [
        "<IPython.core.display.Javascript at 0x101262250>"
       ]
      },
      {
       "javascript": [
        "$('div#747cc92e-76d7-4be0-85c6-d604c36d52b8').width('12%')"
       ],
       "metadata": {},
       "output_type": "display_data",
       "text": [
        "<IPython.core.display.Javascript at 0x101262250>"
       ]
      },
      {
       "javascript": [
        "$('div#747cc92e-76d7-4be0-85c6-d604c36d52b8').width('12%')"
       ],
       "metadata": {},
       "output_type": "display_data",
       "text": [
        "<IPython.core.display.Javascript at 0x101262250>"
       ]
      },
      {
       "javascript": [
        "$('div#747cc92e-76d7-4be0-85c6-d604c36d52b8').width('13%')"
       ],
       "metadata": {},
       "output_type": "display_data",
       "text": [
        "<IPython.core.display.Javascript at 0x101262250>"
       ]
      },
      {
       "javascript": [
        "$('div#747cc92e-76d7-4be0-85c6-d604c36d52b8').width('13%')"
       ],
       "metadata": {},
       "output_type": "display_data",
       "text": [
        "<IPython.core.display.Javascript at 0x101262250>"
       ]
      },
      {
       "javascript": [
        "$('div#747cc92e-76d7-4be0-85c6-d604c36d52b8').width('14%')"
       ],
       "metadata": {},
       "output_type": "display_data",
       "text": [
        "<IPython.core.display.Javascript at 0x101262250>"
       ]
      },
      {
       "javascript": [
        "$('div#747cc92e-76d7-4be0-85c6-d604c36d52b8').width('15%')"
       ],
       "metadata": {},
       "output_type": "display_data",
       "text": [
        "<IPython.core.display.Javascript at 0x101262250>"
       ]
      },
      {
       "javascript": [
        "$('div#747cc92e-76d7-4be0-85c6-d604c36d52b8').width('15%')"
       ],
       "metadata": {},
       "output_type": "display_data",
       "text": [
        "<IPython.core.display.Javascript at 0x101262250>"
       ]
      },
      {
       "javascript": [
        "$('div#747cc92e-76d7-4be0-85c6-d604c36d52b8').width('16%')"
       ],
       "metadata": {},
       "output_type": "display_data",
       "text": [
        "<IPython.core.display.Javascript at 0x101262250>"
       ]
      },
      {
       "javascript": [
        "$('div#747cc92e-76d7-4be0-85c6-d604c36d52b8').width('16%')"
       ],
       "metadata": {},
       "output_type": "display_data",
       "text": [
        "<IPython.core.display.Javascript at 0x101262250>"
       ]
      },
      {
       "javascript": [
        "$('div#747cc92e-76d7-4be0-85c6-d604c36d52b8').width('17%')"
       ],
       "metadata": {},
       "output_type": "display_data",
       "text": [
        "<IPython.core.display.Javascript at 0x101262250>"
       ]
      },
      {
       "javascript": [
        "$('div#747cc92e-76d7-4be0-85c6-d604c36d52b8').width('17%')"
       ],
       "metadata": {},
       "output_type": "display_data",
       "text": [
        "<IPython.core.display.Javascript at 0x101262250>"
       ]
      },
      {
       "javascript": [
        "$('div#747cc92e-76d7-4be0-85c6-d604c36d52b8').width('18%')"
       ],
       "metadata": {},
       "output_type": "display_data",
       "text": [
        "<IPython.core.display.Javascript at 0x101262250>"
       ]
      },
      {
       "javascript": [
        "$('div#747cc92e-76d7-4be0-85c6-d604c36d52b8').width('18%')"
       ],
       "metadata": {},
       "output_type": "display_data",
       "text": [
        "<IPython.core.display.Javascript at 0x101262250>"
       ]
      },
      {
       "javascript": [
        "$('div#747cc92e-76d7-4be0-85c6-d604c36d52b8').width('19%')"
       ],
       "metadata": {},
       "output_type": "display_data",
       "text": [
        "<IPython.core.display.Javascript at 0x101262250>"
       ]
      },
      {
       "javascript": [
        "$('div#747cc92e-76d7-4be0-85c6-d604c36d52b8').width('20%')"
       ],
       "metadata": {},
       "output_type": "display_data",
       "text": [
        "<IPython.core.display.Javascript at 0x101262250>"
       ]
      },
      {
       "javascript": [
        "$('div#747cc92e-76d7-4be0-85c6-d604c36d52b8').width('20%')"
       ],
       "metadata": {},
       "output_type": "display_data",
       "text": [
        "<IPython.core.display.Javascript at 0x101262250>"
       ]
      },
      {
       "javascript": [
        "$('div#747cc92e-76d7-4be0-85c6-d604c36d52b8').width('21%')"
       ],
       "metadata": {},
       "output_type": "display_data",
       "text": [
        "<IPython.core.display.Javascript at 0x101262250>"
       ]
      },
      {
       "javascript": [
        "$('div#747cc92e-76d7-4be0-85c6-d604c36d52b8').width('21%')"
       ],
       "metadata": {},
       "output_type": "display_data",
       "text": [
        "<IPython.core.display.Javascript at 0x101262250>"
       ]
      },
      {
       "javascript": [
        "$('div#747cc92e-76d7-4be0-85c6-d604c36d52b8').width('22%')"
       ],
       "metadata": {},
       "output_type": "display_data",
       "text": [
        "<IPython.core.display.Javascript at 0x101262250>"
       ]
      },
      {
       "javascript": [
        "$('div#747cc92e-76d7-4be0-85c6-d604c36d52b8').width('22%')"
       ],
       "metadata": {},
       "output_type": "display_data",
       "text": [
        "<IPython.core.display.Javascript at 0x101262250>"
       ]
      },
      {
       "javascript": [
        "$('div#747cc92e-76d7-4be0-85c6-d604c36d52b8').width('23%')"
       ],
       "metadata": {},
       "output_type": "display_data",
       "text": [
        "<IPython.core.display.Javascript at 0x101262250>"
       ]
      },
      {
       "javascript": [
        "$('div#747cc92e-76d7-4be0-85c6-d604c36d52b8').width('23%')"
       ],
       "metadata": {},
       "output_type": "display_data",
       "text": [
        "<IPython.core.display.Javascript at 0x101262250>"
       ]
      },
      {
       "javascript": [
        "$('div#747cc92e-76d7-4be0-85c6-d604c36d52b8').width('24%')"
       ],
       "metadata": {},
       "output_type": "display_data",
       "text": [
        "<IPython.core.display.Javascript at 0x101262250>"
       ]
      },
      {
       "javascript": [
        "$('div#747cc92e-76d7-4be0-85c6-d604c36d52b8').width('25%')"
       ],
       "metadata": {},
       "output_type": "display_data",
       "text": [
        "<IPython.core.display.Javascript at 0x101262250>"
       ]
      },
      {
       "javascript": [
        "$('div#747cc92e-76d7-4be0-85c6-d604c36d52b8').width('25%')"
       ],
       "metadata": {},
       "output_type": "display_data",
       "text": [
        "<IPython.core.display.Javascript at 0x101262250>"
       ]
      },
      {
       "javascript": [
        "$('div#747cc92e-76d7-4be0-85c6-d604c36d52b8').width('26%')"
       ],
       "metadata": {},
       "output_type": "display_data",
       "text": [
        "<IPython.core.display.Javascript at 0x101262250>"
       ]
      },
      {
       "javascript": [
        "$('div#747cc92e-76d7-4be0-85c6-d604c36d52b8').width('26%')"
       ],
       "metadata": {},
       "output_type": "display_data",
       "text": [
        "<IPython.core.display.Javascript at 0x101262250>"
       ]
      },
      {
       "javascript": [
        "$('div#747cc92e-76d7-4be0-85c6-d604c36d52b8').width('27%')"
       ],
       "metadata": {},
       "output_type": "display_data",
       "text": [
        "<IPython.core.display.Javascript at 0x101262250>"
       ]
      },
      {
       "javascript": [
        "$('div#747cc92e-76d7-4be0-85c6-d604c36d52b8').width('27%')"
       ],
       "metadata": {},
       "output_type": "display_data",
       "text": [
        "<IPython.core.display.Javascript at 0x101262250>"
       ]
      },
      {
       "javascript": [
        "$('div#747cc92e-76d7-4be0-85c6-d604c36d52b8').width('28%')"
       ],
       "metadata": {},
       "output_type": "display_data",
       "text": [
        "<IPython.core.display.Javascript at 0x101262250>"
       ]
      },
      {
       "javascript": [
        "$('div#747cc92e-76d7-4be0-85c6-d604c36d52b8').width('28%')"
       ],
       "metadata": {},
       "output_type": "display_data",
       "text": [
        "<IPython.core.display.Javascript at 0x101262250>"
       ]
      },
      {
       "javascript": [
        "$('div#747cc92e-76d7-4be0-85c6-d604c36d52b8').width('29%')"
       ],
       "metadata": {},
       "output_type": "display_data",
       "text": [
        "<IPython.core.display.Javascript at 0x101262250>"
       ]
      },
      {
       "javascript": [
        "$('div#747cc92e-76d7-4be0-85c6-d604c36d52b8').width('30%')"
       ],
       "metadata": {},
       "output_type": "display_data",
       "text": [
        "<IPython.core.display.Javascript at 0x101262250>"
       ]
      },
      {
       "javascript": [
        "$('div#747cc92e-76d7-4be0-85c6-d604c36d52b8').width('30%')"
       ],
       "metadata": {},
       "output_type": "display_data",
       "text": [
        "<IPython.core.display.Javascript at 0x101262250>"
       ]
      },
      {
       "javascript": [
        "$('div#747cc92e-76d7-4be0-85c6-d604c36d52b8').width('31%')"
       ],
       "metadata": {},
       "output_type": "display_data",
       "text": [
        "<IPython.core.display.Javascript at 0x101262250>"
       ]
      },
      {
       "javascript": [
        "$('div#747cc92e-76d7-4be0-85c6-d604c36d52b8').width('31%')"
       ],
       "metadata": {},
       "output_type": "display_data",
       "text": [
        "<IPython.core.display.Javascript at 0x101262250>"
       ]
      },
      {
       "javascript": [
        "$('div#747cc92e-76d7-4be0-85c6-d604c36d52b8').width('32%')"
       ],
       "metadata": {},
       "output_type": "display_data",
       "text": [
        "<IPython.core.display.Javascript at 0x101262250>"
       ]
      },
      {
       "javascript": [
        "$('div#747cc92e-76d7-4be0-85c6-d604c36d52b8').width('32%')"
       ],
       "metadata": {},
       "output_type": "display_data",
       "text": [
        "<IPython.core.display.Javascript at 0x101262250>"
       ]
      },
      {
       "javascript": [
        "$('div#747cc92e-76d7-4be0-85c6-d604c36d52b8').width('33%')"
       ],
       "metadata": {},
       "output_type": "display_data",
       "text": [
        "<IPython.core.display.Javascript at 0x101262250>"
       ]
      },
      {
       "javascript": [
        "$('div#747cc92e-76d7-4be0-85c6-d604c36d52b8').width('33%')"
       ],
       "metadata": {},
       "output_type": "display_data",
       "text": [
        "<IPython.core.display.Javascript at 0x101262250>"
       ]
      },
      {
       "javascript": [
        "$('div#747cc92e-76d7-4be0-85c6-d604c36d52b8').width('34%')"
       ],
       "metadata": {},
       "output_type": "display_data",
       "text": [
        "<IPython.core.display.Javascript at 0x101262250>"
       ]
      },
      {
       "javascript": [
        "$('div#747cc92e-76d7-4be0-85c6-d604c36d52b8').width('35%')"
       ],
       "metadata": {},
       "output_type": "display_data",
       "text": [
        "<IPython.core.display.Javascript at 0x101262250>"
       ]
      },
      {
       "javascript": [
        "$('div#747cc92e-76d7-4be0-85c6-d604c36d52b8').width('35%')"
       ],
       "metadata": {},
       "output_type": "display_data",
       "text": [
        "<IPython.core.display.Javascript at 0x101262250>"
       ]
      },
      {
       "javascript": [
        "$('div#747cc92e-76d7-4be0-85c6-d604c36d52b8').width('36%')"
       ],
       "metadata": {},
       "output_type": "display_data",
       "text": [
        "<IPython.core.display.Javascript at 0x101262250>"
       ]
      },
      {
       "javascript": [
        "$('div#747cc92e-76d7-4be0-85c6-d604c36d52b8').width('36%')"
       ],
       "metadata": {},
       "output_type": "display_data",
       "text": [
        "<IPython.core.display.Javascript at 0x101262250>"
       ]
      },
      {
       "javascript": [
        "$('div#747cc92e-76d7-4be0-85c6-d604c36d52b8').width('37%')"
       ],
       "metadata": {},
       "output_type": "display_data",
       "text": [
        "<IPython.core.display.Javascript at 0x101262250>"
       ]
      },
      {
       "javascript": [
        "$('div#747cc92e-76d7-4be0-85c6-d604c36d52b8').width('37%')"
       ],
       "metadata": {},
       "output_type": "display_data",
       "text": [
        "<IPython.core.display.Javascript at 0x101262250>"
       ]
      },
      {
       "javascript": [
        "$('div#747cc92e-76d7-4be0-85c6-d604c36d52b8').width('38%')"
       ],
       "metadata": {},
       "output_type": "display_data",
       "text": [
        "<IPython.core.display.Javascript at 0x101262250>"
       ]
      },
      {
       "javascript": [
        "$('div#747cc92e-76d7-4be0-85c6-d604c36d52b8').width('38%')"
       ],
       "metadata": {},
       "output_type": "display_data",
       "text": [
        "<IPython.core.display.Javascript at 0x101262250>"
       ]
      },
      {
       "javascript": [
        "$('div#747cc92e-76d7-4be0-85c6-d604c36d52b8').width('39%')"
       ],
       "metadata": {},
       "output_type": "display_data",
       "text": [
        "<IPython.core.display.Javascript at 0x101262250>"
       ]
      },
      {
       "javascript": [
        "$('div#747cc92e-76d7-4be0-85c6-d604c36d52b8').width('40%')"
       ],
       "metadata": {},
       "output_type": "display_data",
       "text": [
        "<IPython.core.display.Javascript at 0x101262250>"
       ]
      },
      {
       "javascript": [
        "$('div#747cc92e-76d7-4be0-85c6-d604c36d52b8').width('40%')"
       ],
       "metadata": {},
       "output_type": "display_data",
       "text": [
        "<IPython.core.display.Javascript at 0x101262250>"
       ]
      },
      {
       "javascript": [
        "$('div#747cc92e-76d7-4be0-85c6-d604c36d52b8').width('41%')"
       ],
       "metadata": {},
       "output_type": "display_data",
       "text": [
        "<IPython.core.display.Javascript at 0x101262250>"
       ]
      },
      {
       "javascript": [
        "$('div#747cc92e-76d7-4be0-85c6-d604c36d52b8').width('41%')"
       ],
       "metadata": {},
       "output_type": "display_data",
       "text": [
        "<IPython.core.display.Javascript at 0x101262250>"
       ]
      },
      {
       "javascript": [
        "$('div#747cc92e-76d7-4be0-85c6-d604c36d52b8').width('42%')"
       ],
       "metadata": {},
       "output_type": "display_data",
       "text": [
        "<IPython.core.display.Javascript at 0x101262250>"
       ]
      },
      {
       "javascript": [
        "$('div#747cc92e-76d7-4be0-85c6-d604c36d52b8').width('42%')"
       ],
       "metadata": {},
       "output_type": "display_data",
       "text": [
        "<IPython.core.display.Javascript at 0x101262250>"
       ]
      },
      {
       "javascript": [
        "$('div#747cc92e-76d7-4be0-85c6-d604c36d52b8').width('43%')"
       ],
       "metadata": {},
       "output_type": "display_data",
       "text": [
        "<IPython.core.display.Javascript at 0x101262250>"
       ]
      },
      {
       "javascript": [
        "$('div#747cc92e-76d7-4be0-85c6-d604c36d52b8').width('43%')"
       ],
       "metadata": {},
       "output_type": "display_data",
       "text": [
        "<IPython.core.display.Javascript at 0x101262250>"
       ]
      },
      {
       "javascript": [
        "$('div#747cc92e-76d7-4be0-85c6-d604c36d52b8').width('44%')"
       ],
       "metadata": {},
       "output_type": "display_data",
       "text": [
        "<IPython.core.display.Javascript at 0x101262250>"
       ]
      },
      {
       "javascript": [
        "$('div#747cc92e-76d7-4be0-85c6-d604c36d52b8').width('45%')"
       ],
       "metadata": {},
       "output_type": "display_data",
       "text": [
        "<IPython.core.display.Javascript at 0x101262250>"
       ]
      },
      {
       "javascript": [
        "$('div#747cc92e-76d7-4be0-85c6-d604c36d52b8').width('45%')"
       ],
       "metadata": {},
       "output_type": "display_data",
       "text": [
        "<IPython.core.display.Javascript at 0x101262250>"
       ]
      },
      {
       "javascript": [
        "$('div#747cc92e-76d7-4be0-85c6-d604c36d52b8').width('46%')"
       ],
       "metadata": {},
       "output_type": "display_data",
       "text": [
        "<IPython.core.display.Javascript at 0x101262250>"
       ]
      },
      {
       "javascript": [
        "$('div#747cc92e-76d7-4be0-85c6-d604c36d52b8').width('46%')"
       ],
       "metadata": {},
       "output_type": "display_data",
       "text": [
        "<IPython.core.display.Javascript at 0x101262250>"
       ]
      },
      {
       "javascript": [
        "$('div#747cc92e-76d7-4be0-85c6-d604c36d52b8').width('47%')"
       ],
       "metadata": {},
       "output_type": "display_data",
       "text": [
        "<IPython.core.display.Javascript at 0x101262250>"
       ]
      },
      {
       "javascript": [
        "$('div#747cc92e-76d7-4be0-85c6-d604c36d52b8').width('47%')"
       ],
       "metadata": {},
       "output_type": "display_data",
       "text": [
        "<IPython.core.display.Javascript at 0x101262250>"
       ]
      },
      {
       "javascript": [
        "$('div#747cc92e-76d7-4be0-85c6-d604c36d52b8').width('48%')"
       ],
       "metadata": {},
       "output_type": "display_data",
       "text": [
        "<IPython.core.display.Javascript at 0x101262250>"
       ]
      },
      {
       "javascript": [
        "$('div#747cc92e-76d7-4be0-85c6-d604c36d52b8').width('48%')"
       ],
       "metadata": {},
       "output_type": "display_data",
       "text": [
        "<IPython.core.display.Javascript at 0x101262250>"
       ]
      },
      {
       "javascript": [
        "$('div#747cc92e-76d7-4be0-85c6-d604c36d52b8').width('49%')"
       ],
       "metadata": {},
       "output_type": "display_data",
       "text": [
        "<IPython.core.display.Javascript at 0x101262250>"
       ]
      },
      {
       "javascript": [
        "$('div#747cc92e-76d7-4be0-85c6-d604c36d52b8').width('50%')"
       ],
       "metadata": {},
       "output_type": "display_data",
       "text": [
        "<IPython.core.display.Javascript at 0x101262250>"
       ]
      },
      {
       "javascript": [
        "$('div#747cc92e-76d7-4be0-85c6-d604c36d52b8').width('50%')"
       ],
       "metadata": {},
       "output_type": "display_data",
       "text": [
        "<IPython.core.display.Javascript at 0x101262250>"
       ]
      },
      {
       "javascript": [
        "$('div#747cc92e-76d7-4be0-85c6-d604c36d52b8').width('51%')"
       ],
       "metadata": {},
       "output_type": "display_data",
       "text": [
        "<IPython.core.display.Javascript at 0x101262250>"
       ]
      },
      {
       "javascript": [
        "$('div#747cc92e-76d7-4be0-85c6-d604c36d52b8').width('51%')"
       ],
       "metadata": {},
       "output_type": "display_data",
       "text": [
        "<IPython.core.display.Javascript at 0x101262250>"
       ]
      },
      {
       "javascript": [
        "$('div#747cc92e-76d7-4be0-85c6-d604c36d52b8').width('52%')"
       ],
       "metadata": {},
       "output_type": "display_data",
       "text": [
        "<IPython.core.display.Javascript at 0x101262250>"
       ]
      },
      {
       "javascript": [
        "$('div#747cc92e-76d7-4be0-85c6-d604c36d52b8').width('52%')"
       ],
       "metadata": {},
       "output_type": "display_data",
       "text": [
        "<IPython.core.display.Javascript at 0x101262250>"
       ]
      },
      {
       "javascript": [
        "$('div#747cc92e-76d7-4be0-85c6-d604c36d52b8').width('53%')"
       ],
       "metadata": {},
       "output_type": "display_data",
       "text": [
        "<IPython.core.display.Javascript at 0x101262250>"
       ]
      },
      {
       "javascript": [
        "$('div#747cc92e-76d7-4be0-85c6-d604c36d52b8').width('53%')"
       ],
       "metadata": {},
       "output_type": "display_data",
       "text": [
        "<IPython.core.display.Javascript at 0x101262250>"
       ]
      },
      {
       "javascript": [
        "$('div#747cc92e-76d7-4be0-85c6-d604c36d52b8').width('54%')"
       ],
       "metadata": {},
       "output_type": "display_data",
       "text": [
        "<IPython.core.display.Javascript at 0x101262250>"
       ]
      },
      {
       "javascript": [
        "$('div#747cc92e-76d7-4be0-85c6-d604c36d52b8').width('55%')"
       ],
       "metadata": {},
       "output_type": "display_data",
       "text": [
        "<IPython.core.display.Javascript at 0x101262250>"
       ]
      },
      {
       "javascript": [
        "$('div#747cc92e-76d7-4be0-85c6-d604c36d52b8').width('55%')"
       ],
       "metadata": {},
       "output_type": "display_data",
       "text": [
        "<IPython.core.display.Javascript at 0x101262250>"
       ]
      },
      {
       "javascript": [
        "$('div#747cc92e-76d7-4be0-85c6-d604c36d52b8').width('56%')"
       ],
       "metadata": {},
       "output_type": "display_data",
       "text": [
        "<IPython.core.display.Javascript at 0x101262250>"
       ]
      },
      {
       "javascript": [
        "$('div#747cc92e-76d7-4be0-85c6-d604c36d52b8').width('56%')"
       ],
       "metadata": {},
       "output_type": "display_data",
       "text": [
        "<IPython.core.display.Javascript at 0x101262250>"
       ]
      },
      {
       "javascript": [
        "$('div#747cc92e-76d7-4be0-85c6-d604c36d52b8').width('57%')"
       ],
       "metadata": {},
       "output_type": "display_data",
       "text": [
        "<IPython.core.display.Javascript at 0x101262250>"
       ]
      },
      {
       "javascript": [
        "$('div#747cc92e-76d7-4be0-85c6-d604c36d52b8').width('57%')"
       ],
       "metadata": {},
       "output_type": "display_data",
       "text": [
        "<IPython.core.display.Javascript at 0x101262250>"
       ]
      },
      {
       "javascript": [
        "$('div#747cc92e-76d7-4be0-85c6-d604c36d52b8').width('58%')"
       ],
       "metadata": {},
       "output_type": "display_data",
       "text": [
        "<IPython.core.display.Javascript at 0x101262250>"
       ]
      },
      {
       "javascript": [
        "$('div#747cc92e-76d7-4be0-85c6-d604c36d52b8').width('58%')"
       ],
       "metadata": {},
       "output_type": "display_data",
       "text": [
        "<IPython.core.display.Javascript at 0x101262250>"
       ]
      },
      {
       "javascript": [
        "$('div#747cc92e-76d7-4be0-85c6-d604c36d52b8').width('59%')"
       ],
       "metadata": {},
       "output_type": "display_data",
       "text": [
        "<IPython.core.display.Javascript at 0x101262250>"
       ]
      },
      {
       "javascript": [
        "$('div#747cc92e-76d7-4be0-85c6-d604c36d52b8').width('60%')"
       ],
       "metadata": {},
       "output_type": "display_data",
       "text": [
        "<IPython.core.display.Javascript at 0x101262250>"
       ]
      },
      {
       "javascript": [
        "$('div#747cc92e-76d7-4be0-85c6-d604c36d52b8').width('60%')"
       ],
       "metadata": {},
       "output_type": "display_data",
       "text": [
        "<IPython.core.display.Javascript at 0x101262250>"
       ]
      },
      {
       "javascript": [
        "$('div#747cc92e-76d7-4be0-85c6-d604c36d52b8').width('61%')"
       ],
       "metadata": {},
       "output_type": "display_data",
       "text": [
        "<IPython.core.display.Javascript at 0x101262250>"
       ]
      },
      {
       "javascript": [
        "$('div#747cc92e-76d7-4be0-85c6-d604c36d52b8').width('61%')"
       ],
       "metadata": {},
       "output_type": "display_data",
       "text": [
        "<IPython.core.display.Javascript at 0x101262250>"
       ]
      },
      {
       "javascript": [
        "$('div#747cc92e-76d7-4be0-85c6-d604c36d52b8').width('62%')"
       ],
       "metadata": {},
       "output_type": "display_data",
       "text": [
        "<IPython.core.display.Javascript at 0x101262250>"
       ]
      },
      {
       "javascript": [
        "$('div#747cc92e-76d7-4be0-85c6-d604c36d52b8').width('62%')"
       ],
       "metadata": {},
       "output_type": "display_data",
       "text": [
        "<IPython.core.display.Javascript at 0x101262250>"
       ]
      },
      {
       "javascript": [
        "$('div#747cc92e-76d7-4be0-85c6-d604c36d52b8').width('63%')"
       ],
       "metadata": {},
       "output_type": "display_data",
       "text": [
        "<IPython.core.display.Javascript at 0x101262250>"
       ]
      },
      {
       "javascript": [
        "$('div#747cc92e-76d7-4be0-85c6-d604c36d52b8').width('63%')"
       ],
       "metadata": {},
       "output_type": "display_data",
       "text": [
        "<IPython.core.display.Javascript at 0x101262250>"
       ]
      },
      {
       "javascript": [
        "$('div#747cc92e-76d7-4be0-85c6-d604c36d52b8').width('64%')"
       ],
       "metadata": {},
       "output_type": "display_data",
       "text": [
        "<IPython.core.display.Javascript at 0x101262250>"
       ]
      },
      {
       "javascript": [
        "$('div#747cc92e-76d7-4be0-85c6-d604c36d52b8').width('65%')"
       ],
       "metadata": {},
       "output_type": "display_data",
       "text": [
        "<IPython.core.display.Javascript at 0x101262250>"
       ]
      },
      {
       "javascript": [
        "$('div#747cc92e-76d7-4be0-85c6-d604c36d52b8').width('65%')"
       ],
       "metadata": {},
       "output_type": "display_data",
       "text": [
        "<IPython.core.display.Javascript at 0x101262250>"
       ]
      },
      {
       "javascript": [
        "$('div#747cc92e-76d7-4be0-85c6-d604c36d52b8').width('66%')"
       ],
       "metadata": {},
       "output_type": "display_data",
       "text": [
        "<IPython.core.display.Javascript at 0x101262250>"
       ]
      },
      {
       "javascript": [
        "$('div#747cc92e-76d7-4be0-85c6-d604c36d52b8').width('66%')"
       ],
       "metadata": {},
       "output_type": "display_data",
       "text": [
        "<IPython.core.display.Javascript at 0x101262250>"
       ]
      },
      {
       "javascript": [
        "$('div#747cc92e-76d7-4be0-85c6-d604c36d52b8').width('67%')"
       ],
       "metadata": {},
       "output_type": "display_data",
       "text": [
        "<IPython.core.display.Javascript at 0x101262250>"
       ]
      },
      {
       "javascript": [
        "$('div#747cc92e-76d7-4be0-85c6-d604c36d52b8').width('67%')"
       ],
       "metadata": {},
       "output_type": "display_data",
       "text": [
        "<IPython.core.display.Javascript at 0x101262250>"
       ]
      },
      {
       "javascript": [
        "$('div#747cc92e-76d7-4be0-85c6-d604c36d52b8').width('68%')"
       ],
       "metadata": {},
       "output_type": "display_data",
       "text": [
        "<IPython.core.display.Javascript at 0x101262250>"
       ]
      },
      {
       "javascript": [
        "$('div#747cc92e-76d7-4be0-85c6-d604c36d52b8').width('68%')"
       ],
       "metadata": {},
       "output_type": "display_data",
       "text": [
        "<IPython.core.display.Javascript at 0x101262250>"
       ]
      },
      {
       "javascript": [
        "$('div#747cc92e-76d7-4be0-85c6-d604c36d52b8').width('69%')"
       ],
       "metadata": {},
       "output_type": "display_data",
       "text": [
        "<IPython.core.display.Javascript at 0x101262250>"
       ]
      },
      {
       "javascript": [
        "$('div#747cc92e-76d7-4be0-85c6-d604c36d52b8').width('70%')"
       ],
       "metadata": {},
       "output_type": "display_data",
       "text": [
        "<IPython.core.display.Javascript at 0x101262250>"
       ]
      },
      {
       "javascript": [
        "$('div#747cc92e-76d7-4be0-85c6-d604c36d52b8').width('70%')"
       ],
       "metadata": {},
       "output_type": "display_data",
       "text": [
        "<IPython.core.display.Javascript at 0x101262250>"
       ]
      },
      {
       "javascript": [
        "$('div#747cc92e-76d7-4be0-85c6-d604c36d52b8').width('71%')"
       ],
       "metadata": {},
       "output_type": "display_data",
       "text": [
        "<IPython.core.display.Javascript at 0x101262250>"
       ]
      },
      {
       "javascript": [
        "$('div#747cc92e-76d7-4be0-85c6-d604c36d52b8').width('71%')"
       ],
       "metadata": {},
       "output_type": "display_data",
       "text": [
        "<IPython.core.display.Javascript at 0x101262250>"
       ]
      },
      {
       "javascript": [
        "$('div#747cc92e-76d7-4be0-85c6-d604c36d52b8').width('72%')"
       ],
       "metadata": {},
       "output_type": "display_data",
       "text": [
        "<IPython.core.display.Javascript at 0x101262250>"
       ]
      },
      {
       "javascript": [
        "$('div#747cc92e-76d7-4be0-85c6-d604c36d52b8').width('72%')"
       ],
       "metadata": {},
       "output_type": "display_data",
       "text": [
        "<IPython.core.display.Javascript at 0x101262250>"
       ]
      },
      {
       "javascript": [
        "$('div#747cc92e-76d7-4be0-85c6-d604c36d52b8').width('73%')"
       ],
       "metadata": {},
       "output_type": "display_data",
       "text": [
        "<IPython.core.display.Javascript at 0x101262250>"
       ]
      },
      {
       "javascript": [
        "$('div#747cc92e-76d7-4be0-85c6-d604c36d52b8').width('73%')"
       ],
       "metadata": {},
       "output_type": "display_data",
       "text": [
        "<IPython.core.display.Javascript at 0x101262250>"
       ]
      },
      {
       "javascript": [
        "$('div#747cc92e-76d7-4be0-85c6-d604c36d52b8').width('74%')"
       ],
       "metadata": {},
       "output_type": "display_data",
       "text": [
        "<IPython.core.display.Javascript at 0x101262250>"
       ]
      },
      {
       "javascript": [
        "$('div#747cc92e-76d7-4be0-85c6-d604c36d52b8').width('75%')"
       ],
       "metadata": {},
       "output_type": "display_data",
       "text": [
        "<IPython.core.display.Javascript at 0x101262250>"
       ]
      },
      {
       "javascript": [
        "$('div#747cc92e-76d7-4be0-85c6-d604c36d52b8').width('75%')"
       ],
       "metadata": {},
       "output_type": "display_data",
       "text": [
        "<IPython.core.display.Javascript at 0x101262250>"
       ]
      },
      {
       "javascript": [
        "$('div#747cc92e-76d7-4be0-85c6-d604c36d52b8').width('76%')"
       ],
       "metadata": {},
       "output_type": "display_data",
       "text": [
        "<IPython.core.display.Javascript at 0x101262250>"
       ]
      },
      {
       "javascript": [
        "$('div#747cc92e-76d7-4be0-85c6-d604c36d52b8').width('76%')"
       ],
       "metadata": {},
       "output_type": "display_data",
       "text": [
        "<IPython.core.display.Javascript at 0x101262250>"
       ]
      },
      {
       "javascript": [
        "$('div#747cc92e-76d7-4be0-85c6-d604c36d52b8').width('77%')"
       ],
       "metadata": {},
       "output_type": "display_data",
       "text": [
        "<IPython.core.display.Javascript at 0x101262250>"
       ]
      },
      {
       "javascript": [
        "$('div#747cc92e-76d7-4be0-85c6-d604c36d52b8').width('77%')"
       ],
       "metadata": {},
       "output_type": "display_data",
       "text": [
        "<IPython.core.display.Javascript at 0x101262250>"
       ]
      },
      {
       "javascript": [
        "$('div#747cc92e-76d7-4be0-85c6-d604c36d52b8').width('78%')"
       ],
       "metadata": {},
       "output_type": "display_data",
       "text": [
        "<IPython.core.display.Javascript at 0x101262250>"
       ]
      },
      {
       "javascript": [
        "$('div#747cc92e-76d7-4be0-85c6-d604c36d52b8').width('78%')"
       ],
       "metadata": {},
       "output_type": "display_data",
       "text": [
        "<IPython.core.display.Javascript at 0x101262250>"
       ]
      },
      {
       "javascript": [
        "$('div#747cc92e-76d7-4be0-85c6-d604c36d52b8').width('79%')"
       ],
       "metadata": {},
       "output_type": "display_data",
       "text": [
        "<IPython.core.display.Javascript at 0x101262250>"
       ]
      },
      {
       "javascript": [
        "$('div#747cc92e-76d7-4be0-85c6-d604c36d52b8').width('80%')"
       ],
       "metadata": {},
       "output_type": "display_data",
       "text": [
        "<IPython.core.display.Javascript at 0x101262250>"
       ]
      },
      {
       "javascript": [
        "$('div#747cc92e-76d7-4be0-85c6-d604c36d52b8').width('80%')"
       ],
       "metadata": {},
       "output_type": "display_data",
       "text": [
        "<IPython.core.display.Javascript at 0x101262250>"
       ]
      },
      {
       "javascript": [
        "$('div#747cc92e-76d7-4be0-85c6-d604c36d52b8').width('81%')"
       ],
       "metadata": {},
       "output_type": "display_data",
       "text": [
        "<IPython.core.display.Javascript at 0x101262250>"
       ]
      },
      {
       "javascript": [
        "$('div#747cc92e-76d7-4be0-85c6-d604c36d52b8').width('81%')"
       ],
       "metadata": {},
       "output_type": "display_data",
       "text": [
        "<IPython.core.display.Javascript at 0x101262250>"
       ]
      },
      {
       "javascript": [
        "$('div#747cc92e-76d7-4be0-85c6-d604c36d52b8').width('82%')"
       ],
       "metadata": {},
       "output_type": "display_data",
       "text": [
        "<IPython.core.display.Javascript at 0x101262250>"
       ]
      },
      {
       "javascript": [
        "$('div#747cc92e-76d7-4be0-85c6-d604c36d52b8').width('82%')"
       ],
       "metadata": {},
       "output_type": "display_data",
       "text": [
        "<IPython.core.display.Javascript at 0x101262250>"
       ]
      },
      {
       "javascript": [
        "$('div#747cc92e-76d7-4be0-85c6-d604c36d52b8').width('83%')"
       ],
       "metadata": {},
       "output_type": "display_data",
       "text": [
        "<IPython.core.display.Javascript at 0x101262250>"
       ]
      },
      {
       "javascript": [
        "$('div#747cc92e-76d7-4be0-85c6-d604c36d52b8').width('83%')"
       ],
       "metadata": {},
       "output_type": "display_data",
       "text": [
        "<IPython.core.display.Javascript at 0x101262250>"
       ]
      },
      {
       "javascript": [
        "$('div#747cc92e-76d7-4be0-85c6-d604c36d52b8').width('84%')"
       ],
       "metadata": {},
       "output_type": "display_data",
       "text": [
        "<IPython.core.display.Javascript at 0x101262250>"
       ]
      },
      {
       "javascript": [
        "$('div#747cc92e-76d7-4be0-85c6-d604c36d52b8').width('85%')"
       ],
       "metadata": {},
       "output_type": "display_data",
       "text": [
        "<IPython.core.display.Javascript at 0x101262250>"
       ]
      },
      {
       "javascript": [
        "$('div#747cc92e-76d7-4be0-85c6-d604c36d52b8').width('85%')"
       ],
       "metadata": {},
       "output_type": "display_data",
       "text": [
        "<IPython.core.display.Javascript at 0x101262250>"
       ]
      },
      {
       "javascript": [
        "$('div#747cc92e-76d7-4be0-85c6-d604c36d52b8').width('86%')"
       ],
       "metadata": {},
       "output_type": "display_data",
       "text": [
        "<IPython.core.display.Javascript at 0x101262250>"
       ]
      },
      {
       "javascript": [
        "$('div#747cc92e-76d7-4be0-85c6-d604c36d52b8').width('86%')"
       ],
       "metadata": {},
       "output_type": "display_data",
       "text": [
        "<IPython.core.display.Javascript at 0x101262250>"
       ]
      },
      {
       "javascript": [
        "$('div#747cc92e-76d7-4be0-85c6-d604c36d52b8').width('87%')"
       ],
       "metadata": {},
       "output_type": "display_data",
       "text": [
        "<IPython.core.display.Javascript at 0x101262250>"
       ]
      },
      {
       "javascript": [
        "$('div#747cc92e-76d7-4be0-85c6-d604c36d52b8').width('87%')"
       ],
       "metadata": {},
       "output_type": "display_data",
       "text": [
        "<IPython.core.display.Javascript at 0x101262250>"
       ]
      },
      {
       "javascript": [
        "$('div#747cc92e-76d7-4be0-85c6-d604c36d52b8').width('88%')"
       ],
       "metadata": {},
       "output_type": "display_data",
       "text": [
        "<IPython.core.display.Javascript at 0x101262250>"
       ]
      },
      {
       "javascript": [
        "$('div#747cc92e-76d7-4be0-85c6-d604c36d52b8').width('88%')"
       ],
       "metadata": {},
       "output_type": "display_data",
       "text": [
        "<IPython.core.display.Javascript at 0x101262250>"
       ]
      },
      {
       "javascript": [
        "$('div#747cc92e-76d7-4be0-85c6-d604c36d52b8').width('89%')"
       ],
       "metadata": {},
       "output_type": "display_data",
       "text": [
        "<IPython.core.display.Javascript at 0x101262250>"
       ]
      },
      {
       "javascript": [
        "$('div#747cc92e-76d7-4be0-85c6-d604c36d52b8').width('90%')"
       ],
       "metadata": {},
       "output_type": "display_data",
       "text": [
        "<IPython.core.display.Javascript at 0x101262250>"
       ]
      },
      {
       "javascript": [
        "$('div#747cc92e-76d7-4be0-85c6-d604c36d52b8').width('90%')"
       ],
       "metadata": {},
       "output_type": "display_data",
       "text": [
        "<IPython.core.display.Javascript at 0x101262250>"
       ]
      },
      {
       "javascript": [
        "$('div#747cc92e-76d7-4be0-85c6-d604c36d52b8').width('91%')"
       ],
       "metadata": {},
       "output_type": "display_data",
       "text": [
        "<IPython.core.display.Javascript at 0x101262250>"
       ]
      },
      {
       "javascript": [
        "$('div#747cc92e-76d7-4be0-85c6-d604c36d52b8').width('91%')"
       ],
       "metadata": {},
       "output_type": "display_data",
       "text": [
        "<IPython.core.display.Javascript at 0x101262250>"
       ]
      },
      {
       "javascript": [
        "$('div#747cc92e-76d7-4be0-85c6-d604c36d52b8').width('92%')"
       ],
       "metadata": {},
       "output_type": "display_data",
       "text": [
        "<IPython.core.display.Javascript at 0x101262250>"
       ]
      },
      {
       "javascript": [
        "$('div#747cc92e-76d7-4be0-85c6-d604c36d52b8').width('92%')"
       ],
       "metadata": {},
       "output_type": "display_data",
       "text": [
        "<IPython.core.display.Javascript at 0x101262250>"
       ]
      },
      {
       "javascript": [
        "$('div#747cc92e-76d7-4be0-85c6-d604c36d52b8').width('93%')"
       ],
       "metadata": {},
       "output_type": "display_data",
       "text": [
        "<IPython.core.display.Javascript at 0x101262250>"
       ]
      },
      {
       "javascript": [
        "$('div#747cc92e-76d7-4be0-85c6-d604c36d52b8').width('93%')"
       ],
       "metadata": {},
       "output_type": "display_data",
       "text": [
        "<IPython.core.display.Javascript at 0x101262250>"
       ]
      },
      {
       "javascript": [
        "$('div#747cc92e-76d7-4be0-85c6-d604c36d52b8').width('94%')"
       ],
       "metadata": {},
       "output_type": "display_data",
       "text": [
        "<IPython.core.display.Javascript at 0x101262250>"
       ]
      },
      {
       "javascript": [
        "$('div#747cc92e-76d7-4be0-85c6-d604c36d52b8').width('95%')"
       ],
       "metadata": {},
       "output_type": "display_data",
       "text": [
        "<IPython.core.display.Javascript at 0x101262250>"
       ]
      },
      {
       "javascript": [
        "$('div#747cc92e-76d7-4be0-85c6-d604c36d52b8').width('95%')"
       ],
       "metadata": {},
       "output_type": "display_data",
       "text": [
        "<IPython.core.display.Javascript at 0x101262250>"
       ]
      },
      {
       "javascript": [
        "$('div#747cc92e-76d7-4be0-85c6-d604c36d52b8').width('96%')"
       ],
       "metadata": {},
       "output_type": "display_data",
       "text": [
        "<IPython.core.display.Javascript at 0x101262250>"
       ]
      },
      {
       "javascript": [
        "$('div#747cc92e-76d7-4be0-85c6-d604c36d52b8').width('96%')"
       ],
       "metadata": {},
       "output_type": "display_data",
       "text": [
        "<IPython.core.display.Javascript at 0x101262250>"
       ]
      },
      {
       "javascript": [
        "$('div#747cc92e-76d7-4be0-85c6-d604c36d52b8').width('97%')"
       ],
       "metadata": {},
       "output_type": "display_data",
       "text": [
        "<IPython.core.display.Javascript at 0x101262250>"
       ]
      },
      {
       "javascript": [
        "$('div#747cc92e-76d7-4be0-85c6-d604c36d52b8').width('97%')"
       ],
       "metadata": {},
       "output_type": "display_data",
       "text": [
        "<IPython.core.display.Javascript at 0x101262250>"
       ]
      },
      {
       "javascript": [
        "$('div#747cc92e-76d7-4be0-85c6-d604c36d52b8').width('98%')"
       ],
       "metadata": {},
       "output_type": "display_data",
       "text": [
        "<IPython.core.display.Javascript at 0x101262250>"
       ]
      },
      {
       "javascript": [
        "$('div#747cc92e-76d7-4be0-85c6-d604c36d52b8').width('98%')"
       ],
       "metadata": {},
       "output_type": "display_data",
       "text": [
        "<IPython.core.display.Javascript at 0x101262250>"
       ]
      },
      {
       "javascript": [
        "$('div#747cc92e-76d7-4be0-85c6-d604c36d52b8').width('99%')"
       ],
       "metadata": {},
       "output_type": "display_data",
       "text": [
        "<IPython.core.display.Javascript at 0x101262250>"
       ]
      },
      {
       "javascript": [
        "$('div#747cc92e-76d7-4be0-85c6-d604c36d52b8').width('100%')"
       ],
       "metadata": {},
       "output_type": "display_data",
       "text": [
        "<IPython.core.display.Javascript at 0x110ad1e10>"
       ]
      },
      {
       "html": [
        "<iframe src=http://127.0.0.1:8001/7470109 width=100%% height=420 frameborder=0></iframe>"
       ],
       "metadata": {},
       "output_type": "pyout",
       "prompt_number": 30,
       "text": [
        "<mMR.mMR.UncompressedProjection instance at 0x110ac9170>"
       ]
      }
     ],
     "prompt_number": 30
    },
    {
     "cell_type": "code",
     "collapsed": false,
     "input": [],
     "language": "python",
     "metadata": {},
     "outputs": [],
     "prompt_number": 11
    },
    {
     "cell_type": "code",
     "collapsed": false,
     "input": [],
     "language": "python",
     "metadata": {},
     "outputs": [],
     "prompt_number": 11
    },
    {
     "cell_type": "code",
     "collapsed": false,
     "input": [],
     "language": "python",
     "metadata": {},
     "outputs": [],
     "prompt_number": 11
    },
    {
     "cell_type": "code",
     "collapsed": false,
     "input": [],
     "language": "python",
     "metadata": {},
     "outputs": [],
     "prompt_number": 24
    },
    {
     "cell_type": "code",
     "collapsed": false,
     "input": [
      "bkpr.shape"
     ],
     "language": "python",
     "metadata": {},
     "outputs": [
      {
       "metadata": {},
       "output_type": "pyout",
       "prompt_number": 31,
       "text": [
        "(128, 128, 128)"
       ]
      }
     ],
     "prompt_number": 31
    },
    {
     "cell_type": "code",
     "collapsed": false,
     "input": [],
     "language": "python",
     "metadata": {},
     "outputs": [],
     "prompt_number": 11
    },
    {
     "cell_type": "code",
     "collapsed": false,
     "input": [],
     "language": "python",
     "metadata": {},
     "outputs": [],
     "prompt_number": 12
    },
    {
     "cell_type": "code",
     "collapsed": false,
     "input": [],
     "language": "python",
     "metadata": {},
     "outputs": []
    },
    {
     "cell_type": "code",
     "collapsed": false,
     "input": [],
     "language": "python",
     "metadata": {},
     "outputs": []
    },
    {
     "cell_type": "code",
     "collapsed": false,
     "input": [],
     "language": "python",
     "metadata": {},
     "outputs": [],
     "prompt_number": 12
    },
    {
     "cell_type": "code",
     "collapsed": false,
     "input": [],
     "language": "python",
     "metadata": {},
     "outputs": [],
     "prompt_number": 16
    },
    {
     "cell_type": "code",
     "collapsed": false,
     "input": [],
     "language": "python",
     "metadata": {},
     "outputs": [],
     "prompt_number": 16
    },
    {
     "cell_type": "code",
     "collapsed": false,
     "input": [],
     "language": "python",
     "metadata": {},
     "outputs": [],
     "prompt_number": 16
    },
    {
     "cell_type": "code",
     "collapsed": false,
     "input": [],
     "language": "python",
     "metadata": {},
     "outputs": [],
     "prompt_number": 16
    },
    {
     "cell_type": "code",
     "collapsed": false,
     "input": [],
     "language": "python",
     "metadata": {},
     "outputs": [],
     "prompt_number": 16
    },
    {
     "cell_type": "code",
     "collapsed": false,
     "input": [],
     "language": "python",
     "metadata": {},
     "outputs": [],
     "prompt_number": 16
    },
    {
     "cell_type": "code",
     "collapsed": false,
     "input": [],
     "language": "python",
     "metadata": {},
     "outputs": [],
     "prompt_number": 16
    },
    {
     "cell_type": "code",
     "collapsed": false,
     "input": [],
     "language": "python",
     "metadata": {},
     "outputs": [],
     "prompt_number": 16
    },
    {
     "cell_type": "code",
     "collapsed": false,
     "input": [],
     "language": "python",
     "metadata": {},
     "outputs": []
    }
   ],
   "metadata": {}
  }
 ]
}