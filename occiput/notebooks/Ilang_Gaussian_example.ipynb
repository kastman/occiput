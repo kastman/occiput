{
 "metadata": {
  "name": ""
 },
 "nbformat": 3,
 "nbformat_minor": 0,
 "worksheets": [
  {
   "cells": [
    {
     "cell_type": "code",
     "collapsed": false,
     "input": [
      "from ilang.Models import MultivariateGaussian\n",
      "from ilang.Graphs import ProbabilisticGraphicalModel\n",
      "from ilang.Samplers import Sampler\n",
      "\n",
      "import numpy"
     ],
     "language": "python",
     "metadata": {},
     "outputs": [],
     "prompt_number": 1
    },
    {
     "cell_type": "code",
     "collapsed": false,
     "input": [
      "# Define the model: \n",
      "N_dim = 5\n",
      "\n",
      "mu  = 0+5*numpy.random.rand(N_dim) \n",
      "cov = 10*(numpy.diag(numpy.random.rand(N_dim)) + 0.01*numpy.random.rand(N_dim*N_dim).reshape((N_dim,N_dim)))\n",
      "cov = cov*numpy.tri(N_dim) ; cov+cov.T\n",
      "\n",
      "# Instantiate the observation model: \n",
      "model = MultivariateGaussian('Gaussian_model_1') \n",
      "\n",
      "# Build the graph: \n",
      "graph = ProbabilisticGraphicalModel(['x','mu','cov']) \n",
      "graph.set_nodes_given(['mu','cov'], True) \n",
      "graph.set_node_value('mu',mu)\n",
      "graph.set_node_value('cov',cov) \n",
      "graph.add_dependence(model,{'x':'x','mu':'mu','cov':'cov'}) \n",
      "\n",
      "graph"
     ],
     "language": "python",
     "metadata": {},
     "outputs": [
      {
       "html": [
        "<iframe src=http://127.0.0.1:8001/5109173 width=100%% height=420 frameborder=0></iframe>"
       ],
       "metadata": {},
       "output_type": "pyout",
       "prompt_number": 2,
       "text": [
        "<ilang.Graphs.ProbabilisticGraphicalModel instance at 0x10c96fc20>"
       ]
      }
     ],
     "prompt_number": 2
    },
    {
     "cell_type": "code",
     "collapsed": false,
     "input": [
      "# Initialize the sampler: \n",
      "sampler = Sampler(graph) \n",
      "N_samples = 5000\n",
      "\n",
      "method0 = 'DirectSampling'\n",
      "method1 = 'MetropolisHastingsMCMC'\n",
      "method2 = 'GradientAscent'\n",
      "method3 = 'QuasiNewton_L_BFGS_B' \n",
      "method4 = 'Newton'"
     ],
     "language": "python",
     "metadata": {},
     "outputs": [],
     "prompt_number": 3
    },
    {
     "cell_type": "code",
     "collapsed": false,
     "input": [
      "# Sample with method 0\n",
      "sampler.set_node_sampling_method_manual('x',method0)\n",
      "graph.set_node_value('x',numpy.ones((1,N_dim)) ) \n",
      "sampler.tracer.reset_trace()\n",
      "sampler.sample_x(N_samples)\n",
      "\n",
      "sampler.tracer.display.plot_histogram(0,range_plot=[-10,10],subplot=[1,2,1])\n",
      "sampler.tracer.display.plot_histogram(1,range_plot=[-10,10],subplot=[1,2,1])\n",
      "sampler.tracer.display.plot_histogram_bivariate(0,1,range_plot=[[-10,10],[-10,10]],subplot=[1,2,2])"
     ],
     "language": "python",
     "metadata": {},
     "outputs": [
      {
       "html": [
        "\n",
        "        <div style=\"border: 1px solid white; width:100%%; height:6px; background-color:rgb(246,228,200)\">\n",
        "            <div id=\"5bfaaedf-faf7-47fb-bf20-c310b7f9e448\" style=\"background-color:rgb(246,128,47); width:0%; height:6px\"> </div>\n",
        "        </div> \n",
        "        "
       ],
       "metadata": {},
       "output_type": "display_data",
       "text": [
        "<IPython.core.display.HTML at 0x10c970290>"
       ]
      },
      {
       "javascript": [
        "$('div#5bfaaedf-faf7-47fb-bf20-c310b7f9e448').width('1%')"
       ],
       "metadata": {},
       "output_type": "display_data",
       "text": [
        "<IPython.core.display.Javascript at 0x10c970310>"
       ]
      },
      {
       "javascript": [
        "$('div#5bfaaedf-faf7-47fb-bf20-c310b7f9e448').width('2%')"
       ],
       "metadata": {},
       "output_type": "display_data",
       "text": [
        "<IPython.core.display.Javascript at 0x10c970310>"
       ]
      },
      {
       "javascript": [
        "$('div#5bfaaedf-faf7-47fb-bf20-c310b7f9e448').width('3%')"
       ],
       "metadata": {},
       "output_type": "display_data",
       "text": [
        "<IPython.core.display.Javascript at 0x10c970310>"
       ]
      },
      {
       "javascript": [
        "$('div#5bfaaedf-faf7-47fb-bf20-c310b7f9e448').width('4%')"
       ],
       "metadata": {},
       "output_type": "display_data",
       "text": [
        "<IPython.core.display.Javascript at 0x10c970310>"
       ]
      },
      {
       "javascript": [
        "$('div#5bfaaedf-faf7-47fb-bf20-c310b7f9e448').width('5%')"
       ],
       "metadata": {},
       "output_type": "display_data",
       "text": [
        "<IPython.core.display.Javascript at 0x10c970310>"
       ]
      },
      {
       "javascript": [
        "$('div#5bfaaedf-faf7-47fb-bf20-c310b7f9e448').width('6%')"
       ],
       "metadata": {},
       "output_type": "display_data",
       "text": [
        "<IPython.core.display.Javascript at 0x10c970310>"
       ]
      },
      {
       "javascript": [
        "$('div#5bfaaedf-faf7-47fb-bf20-c310b7f9e448').width('7%')"
       ],
       "metadata": {},
       "output_type": "display_data",
       "text": [
        "<IPython.core.display.Javascript at 0x10c970310>"
       ]
      },
      {
       "javascript": [
        "$('div#5bfaaedf-faf7-47fb-bf20-c310b7f9e448').width('8%')"
       ],
       "metadata": {},
       "output_type": "display_data",
       "text": [
        "<IPython.core.display.Javascript at 0x10c970310>"
       ]
      },
      {
       "javascript": [
        "$('div#5bfaaedf-faf7-47fb-bf20-c310b7f9e448').width('9%')"
       ],
       "metadata": {},
       "output_type": "display_data",
       "text": [
        "<IPython.core.display.Javascript at 0x10c970310>"
       ]
      },
      {
       "javascript": [
        "$('div#5bfaaedf-faf7-47fb-bf20-c310b7f9e448').width('10%')"
       ],
       "metadata": {},
       "output_type": "display_data",
       "text": [
        "<IPython.core.display.Javascript at 0x10c970310>"
       ]
      },
      {
       "javascript": [
        "$('div#5bfaaedf-faf7-47fb-bf20-c310b7f9e448').width('11%')"
       ],
       "metadata": {},
       "output_type": "display_data",
       "text": [
        "<IPython.core.display.Javascript at 0x10c970310>"
       ]
      },
      {
       "javascript": [
        "$('div#5bfaaedf-faf7-47fb-bf20-c310b7f9e448').width('12%')"
       ],
       "metadata": {},
       "output_type": "display_data",
       "text": [
        "<IPython.core.display.Javascript at 0x10c970310>"
       ]
      },
      {
       "javascript": [
        "$('div#5bfaaedf-faf7-47fb-bf20-c310b7f9e448').width('13%')"
       ],
       "metadata": {},
       "output_type": "display_data",
       "text": [
        "<IPython.core.display.Javascript at 0x10c970310>"
       ]
      },
      {
       "javascript": [
        "$('div#5bfaaedf-faf7-47fb-bf20-c310b7f9e448').width('14%')"
       ],
       "metadata": {},
       "output_type": "display_data",
       "text": [
        "<IPython.core.display.Javascript at 0x10c970310>"
       ]
      },
      {
       "javascript": [
        "$('div#5bfaaedf-faf7-47fb-bf20-c310b7f9e448').width('15%')"
       ],
       "metadata": {},
       "output_type": "display_data",
       "text": [
        "<IPython.core.display.Javascript at 0x10c970310>"
       ]
      },
      {
       "javascript": [
        "$('div#5bfaaedf-faf7-47fb-bf20-c310b7f9e448').width('16%')"
       ],
       "metadata": {},
       "output_type": "display_data",
       "text": [
        "<IPython.core.display.Javascript at 0x10c970310>"
       ]
      },
      {
       "javascript": [
        "$('div#5bfaaedf-faf7-47fb-bf20-c310b7f9e448').width('17%')"
       ],
       "metadata": {},
       "output_type": "display_data",
       "text": [
        "<IPython.core.display.Javascript at 0x10c970310>"
       ]
      },
      {
       "javascript": [
        "$('div#5bfaaedf-faf7-47fb-bf20-c310b7f9e448').width('18%')"
       ],
       "metadata": {},
       "output_type": "display_data",
       "text": [
        "<IPython.core.display.Javascript at 0x10c970310>"
       ]
      },
      {
       "javascript": [
        "$('div#5bfaaedf-faf7-47fb-bf20-c310b7f9e448').width('19%')"
       ],
       "metadata": {},
       "output_type": "display_data",
       "text": [
        "<IPython.core.display.Javascript at 0x10c970310>"
       ]
      },
      {
       "javascript": [
        "$('div#5bfaaedf-faf7-47fb-bf20-c310b7f9e448').width('20%')"
       ],
       "metadata": {},
       "output_type": "display_data",
       "text": [
        "<IPython.core.display.Javascript at 0x10c970310>"
       ]
      },
      {
       "javascript": [
        "$('div#5bfaaedf-faf7-47fb-bf20-c310b7f9e448').width('21%')"
       ],
       "metadata": {},
       "output_type": "display_data",
       "text": [
        "<IPython.core.display.Javascript at 0x10c970310>"
       ]
      },
      {
       "javascript": [
        "$('div#5bfaaedf-faf7-47fb-bf20-c310b7f9e448').width('22%')"
       ],
       "metadata": {},
       "output_type": "display_data",
       "text": [
        "<IPython.core.display.Javascript at 0x10c970310>"
       ]
      },
      {
       "javascript": [
        "$('div#5bfaaedf-faf7-47fb-bf20-c310b7f9e448').width('23%')"
       ],
       "metadata": {},
       "output_type": "display_data",
       "text": [
        "<IPython.core.display.Javascript at 0x10c970310>"
       ]
      },
      {
       "javascript": [
        "$('div#5bfaaedf-faf7-47fb-bf20-c310b7f9e448').width('24%')"
       ],
       "metadata": {},
       "output_type": "display_data",
       "text": [
        "<IPython.core.display.Javascript at 0x10c970310>"
       ]
      },
      {
       "javascript": [
        "$('div#5bfaaedf-faf7-47fb-bf20-c310b7f9e448').width('25%')"
       ],
       "metadata": {},
       "output_type": "display_data",
       "text": [
        "<IPython.core.display.Javascript at 0x10c970310>"
       ]
      },
      {
       "javascript": [
        "$('div#5bfaaedf-faf7-47fb-bf20-c310b7f9e448').width('26%')"
       ],
       "metadata": {},
       "output_type": "display_data",
       "text": [
        "<IPython.core.display.Javascript at 0x10c970310>"
       ]
      },
      {
       "javascript": [
        "$('div#5bfaaedf-faf7-47fb-bf20-c310b7f9e448').width('27%')"
       ],
       "metadata": {},
       "output_type": "display_data",
       "text": [
        "<IPython.core.display.Javascript at 0x10c970310>"
       ]
      },
      {
       "javascript": [
        "$('div#5bfaaedf-faf7-47fb-bf20-c310b7f9e448').width('28%')"
       ],
       "metadata": {},
       "output_type": "display_data",
       "text": [
        "<IPython.core.display.Javascript at 0x10c970310>"
       ]
      },
      {
       "javascript": [
        "$('div#5bfaaedf-faf7-47fb-bf20-c310b7f9e448').width('29%')"
       ],
       "metadata": {},
       "output_type": "display_data",
       "text": [
        "<IPython.core.display.Javascript at 0x10c970310>"
       ]
      },
      {
       "javascript": [
        "$('div#5bfaaedf-faf7-47fb-bf20-c310b7f9e448').width('30%')"
       ],
       "metadata": {},
       "output_type": "display_data",
       "text": [
        "<IPython.core.display.Javascript at 0x10c970310>"
       ]
      },
      {
       "javascript": [
        "$('div#5bfaaedf-faf7-47fb-bf20-c310b7f9e448').width('31%')"
       ],
       "metadata": {},
       "output_type": "display_data",
       "text": [
        "<IPython.core.display.Javascript at 0x10c970310>"
       ]
      },
      {
       "javascript": [
        "$('div#5bfaaedf-faf7-47fb-bf20-c310b7f9e448').width('32%')"
       ],
       "metadata": {},
       "output_type": "display_data",
       "text": [
        "<IPython.core.display.Javascript at 0x10c970310>"
       ]
      },
      {
       "javascript": [
        "$('div#5bfaaedf-faf7-47fb-bf20-c310b7f9e448').width('33%')"
       ],
       "metadata": {},
       "output_type": "display_data",
       "text": [
        "<IPython.core.display.Javascript at 0x10c970310>"
       ]
      },
      {
       "javascript": [
        "$('div#5bfaaedf-faf7-47fb-bf20-c310b7f9e448').width('34%')"
       ],
       "metadata": {},
       "output_type": "display_data",
       "text": [
        "<IPython.core.display.Javascript at 0x10c970310>"
       ]
      },
      {
       "javascript": [
        "$('div#5bfaaedf-faf7-47fb-bf20-c310b7f9e448').width('35%')"
       ],
       "metadata": {},
       "output_type": "display_data",
       "text": [
        "<IPython.core.display.Javascript at 0x10c970310>"
       ]
      },
      {
       "javascript": [
        "$('div#5bfaaedf-faf7-47fb-bf20-c310b7f9e448').width('36%')"
       ],
       "metadata": {},
       "output_type": "display_data",
       "text": [
        "<IPython.core.display.Javascript at 0x10c970310>"
       ]
      },
      {
       "javascript": [
        "$('div#5bfaaedf-faf7-47fb-bf20-c310b7f9e448').width('37%')"
       ],
       "metadata": {},
       "output_type": "display_data",
       "text": [
        "<IPython.core.display.Javascript at 0x10c970310>"
       ]
      },
      {
       "javascript": [
        "$('div#5bfaaedf-faf7-47fb-bf20-c310b7f9e448').width('38%')"
       ],
       "metadata": {},
       "output_type": "display_data",
       "text": [
        "<IPython.core.display.Javascript at 0x10c970310>"
       ]
      },
      {
       "javascript": [
        "$('div#5bfaaedf-faf7-47fb-bf20-c310b7f9e448').width('39%')"
       ],
       "metadata": {},
       "output_type": "display_data",
       "text": [
        "<IPython.core.display.Javascript at 0x10c970310>"
       ]
      },
      {
       "javascript": [
        "$('div#5bfaaedf-faf7-47fb-bf20-c310b7f9e448').width('40%')"
       ],
       "metadata": {},
       "output_type": "display_data",
       "text": [
        "<IPython.core.display.Javascript at 0x10c970310>"
       ]
      },
      {
       "javascript": [
        "$('div#5bfaaedf-faf7-47fb-bf20-c310b7f9e448').width('41%')"
       ],
       "metadata": {},
       "output_type": "display_data",
       "text": [
        "<IPython.core.display.Javascript at 0x10c970310>"
       ]
      },
      {
       "javascript": [
        "$('div#5bfaaedf-faf7-47fb-bf20-c310b7f9e448').width('42%')"
       ],
       "metadata": {},
       "output_type": "display_data",
       "text": [
        "<IPython.core.display.Javascript at 0x10c970310>"
       ]
      },
      {
       "javascript": [
        "$('div#5bfaaedf-faf7-47fb-bf20-c310b7f9e448').width('43%')"
       ],
       "metadata": {},
       "output_type": "display_data",
       "text": [
        "<IPython.core.display.Javascript at 0x10c970310>"
       ]
      },
      {
       "javascript": [
        "$('div#5bfaaedf-faf7-47fb-bf20-c310b7f9e448').width('44%')"
       ],
       "metadata": {},
       "output_type": "display_data",
       "text": [
        "<IPython.core.display.Javascript at 0x10c970310>"
       ]
      },
      {
       "javascript": [
        "$('div#5bfaaedf-faf7-47fb-bf20-c310b7f9e448').width('45%')"
       ],
       "metadata": {},
       "output_type": "display_data",
       "text": [
        "<IPython.core.display.Javascript at 0x10c970310>"
       ]
      },
      {
       "javascript": [
        "$('div#5bfaaedf-faf7-47fb-bf20-c310b7f9e448').width('46%')"
       ],
       "metadata": {},
       "output_type": "display_data",
       "text": [
        "<IPython.core.display.Javascript at 0x10c970310>"
       ]
      },
      {
       "javascript": [
        "$('div#5bfaaedf-faf7-47fb-bf20-c310b7f9e448').width('47%')"
       ],
       "metadata": {},
       "output_type": "display_data",
       "text": [
        "<IPython.core.display.Javascript at 0x10c970310>"
       ]
      },
      {
       "javascript": [
        "$('div#5bfaaedf-faf7-47fb-bf20-c310b7f9e448').width('48%')"
       ],
       "metadata": {},
       "output_type": "display_data",
       "text": [
        "<IPython.core.display.Javascript at 0x10c970310>"
       ]
      },
      {
       "javascript": [
        "$('div#5bfaaedf-faf7-47fb-bf20-c310b7f9e448').width('49%')"
       ],
       "metadata": {},
       "output_type": "display_data",
       "text": [
        "<IPython.core.display.Javascript at 0x10c970310>"
       ]
      },
      {
       "javascript": [
        "$('div#5bfaaedf-faf7-47fb-bf20-c310b7f9e448').width('50%')"
       ],
       "metadata": {},
       "output_type": "display_data",
       "text": [
        "<IPython.core.display.Javascript at 0x10c970310>"
       ]
      },
      {
       "javascript": [
        "$('div#5bfaaedf-faf7-47fb-bf20-c310b7f9e448').width('51%')"
       ],
       "metadata": {},
       "output_type": "display_data",
       "text": [
        "<IPython.core.display.Javascript at 0x10c970310>"
       ]
      },
      {
       "javascript": [
        "$('div#5bfaaedf-faf7-47fb-bf20-c310b7f9e448').width('52%')"
       ],
       "metadata": {},
       "output_type": "display_data",
       "text": [
        "<IPython.core.display.Javascript at 0x10c970310>"
       ]
      },
      {
       "javascript": [
        "$('div#5bfaaedf-faf7-47fb-bf20-c310b7f9e448').width('53%')"
       ],
       "metadata": {},
       "output_type": "display_data",
       "text": [
        "<IPython.core.display.Javascript at 0x10c970310>"
       ]
      },
      {
       "javascript": [
        "$('div#5bfaaedf-faf7-47fb-bf20-c310b7f9e448').width('54%')"
       ],
       "metadata": {},
       "output_type": "display_data",
       "text": [
        "<IPython.core.display.Javascript at 0x10c970310>"
       ]
      },
      {
       "javascript": [
        "$('div#5bfaaedf-faf7-47fb-bf20-c310b7f9e448').width('55%')"
       ],
       "metadata": {},
       "output_type": "display_data",
       "text": [
        "<IPython.core.display.Javascript at 0x10c970310>"
       ]
      },
      {
       "javascript": [
        "$('div#5bfaaedf-faf7-47fb-bf20-c310b7f9e448').width('56%')"
       ],
       "metadata": {},
       "output_type": "display_data",
       "text": [
        "<IPython.core.display.Javascript at 0x10c970310>"
       ]
      },
      {
       "javascript": [
        "$('div#5bfaaedf-faf7-47fb-bf20-c310b7f9e448').width('57%')"
       ],
       "metadata": {},
       "output_type": "display_data",
       "text": [
        "<IPython.core.display.Javascript at 0x10c970310>"
       ]
      },
      {
       "javascript": [
        "$('div#5bfaaedf-faf7-47fb-bf20-c310b7f9e448').width('58%')"
       ],
       "metadata": {},
       "output_type": "display_data",
       "text": [
        "<IPython.core.display.Javascript at 0x10c970310>"
       ]
      },
      {
       "javascript": [
        "$('div#5bfaaedf-faf7-47fb-bf20-c310b7f9e448').width('59%')"
       ],
       "metadata": {},
       "output_type": "display_data",
       "text": [
        "<IPython.core.display.Javascript at 0x10c970310>"
       ]
      },
      {
       "javascript": [
        "$('div#5bfaaedf-faf7-47fb-bf20-c310b7f9e448').width('60%')"
       ],
       "metadata": {},
       "output_type": "display_data",
       "text": [
        "<IPython.core.display.Javascript at 0x10c970310>"
       ]
      },
      {
       "javascript": [
        "$('div#5bfaaedf-faf7-47fb-bf20-c310b7f9e448').width('61%')"
       ],
       "metadata": {},
       "output_type": "display_data",
       "text": [
        "<IPython.core.display.Javascript at 0x10c970310>"
       ]
      },
      {
       "javascript": [
        "$('div#5bfaaedf-faf7-47fb-bf20-c310b7f9e448').width('62%')"
       ],
       "metadata": {},
       "output_type": "display_data",
       "text": [
        "<IPython.core.display.Javascript at 0x10c970310>"
       ]
      },
      {
       "javascript": [
        "$('div#5bfaaedf-faf7-47fb-bf20-c310b7f9e448').width('63%')"
       ],
       "metadata": {},
       "output_type": "display_data",
       "text": [
        "<IPython.core.display.Javascript at 0x10c970310>"
       ]
      },
      {
       "javascript": [
        "$('div#5bfaaedf-faf7-47fb-bf20-c310b7f9e448').width('64%')"
       ],
       "metadata": {},
       "output_type": "display_data",
       "text": [
        "<IPython.core.display.Javascript at 0x10c970310>"
       ]
      },
      {
       "javascript": [
        "$('div#5bfaaedf-faf7-47fb-bf20-c310b7f9e448').width('65%')"
       ],
       "metadata": {},
       "output_type": "display_data",
       "text": [
        "<IPython.core.display.Javascript at 0x10c970310>"
       ]
      },
      {
       "javascript": [
        "$('div#5bfaaedf-faf7-47fb-bf20-c310b7f9e448').width('66%')"
       ],
       "metadata": {},
       "output_type": "display_data",
       "text": [
        "<IPython.core.display.Javascript at 0x10c970310>"
       ]
      },
      {
       "javascript": [
        "$('div#5bfaaedf-faf7-47fb-bf20-c310b7f9e448').width('67%')"
       ],
       "metadata": {},
       "output_type": "display_data",
       "text": [
        "<IPython.core.display.Javascript at 0x10c970310>"
       ]
      },
      {
       "javascript": [
        "$('div#5bfaaedf-faf7-47fb-bf20-c310b7f9e448').width('68%')"
       ],
       "metadata": {},
       "output_type": "display_data",
       "text": [
        "<IPython.core.display.Javascript at 0x10c970310>"
       ]
      },
      {
       "javascript": [
        "$('div#5bfaaedf-faf7-47fb-bf20-c310b7f9e448').width('69%')"
       ],
       "metadata": {},
       "output_type": "display_data",
       "text": [
        "<IPython.core.display.Javascript at 0x10c970310>"
       ]
      },
      {
       "javascript": [
        "$('div#5bfaaedf-faf7-47fb-bf20-c310b7f9e448').width('70%')"
       ],
       "metadata": {},
       "output_type": "display_data",
       "text": [
        "<IPython.core.display.Javascript at 0x10c970310>"
       ]
      },
      {
       "javascript": [
        "$('div#5bfaaedf-faf7-47fb-bf20-c310b7f9e448').width('71%')"
       ],
       "metadata": {},
       "output_type": "display_data",
       "text": [
        "<IPython.core.display.Javascript at 0x10c970310>"
       ]
      },
      {
       "javascript": [
        "$('div#5bfaaedf-faf7-47fb-bf20-c310b7f9e448').width('72%')"
       ],
       "metadata": {},
       "output_type": "display_data",
       "text": [
        "<IPython.core.display.Javascript at 0x10c970310>"
       ]
      },
      {
       "javascript": [
        "$('div#5bfaaedf-faf7-47fb-bf20-c310b7f9e448').width('73%')"
       ],
       "metadata": {},
       "output_type": "display_data",
       "text": [
        "<IPython.core.display.Javascript at 0x10c970310>"
       ]
      },
      {
       "javascript": [
        "$('div#5bfaaedf-faf7-47fb-bf20-c310b7f9e448').width('74%')"
       ],
       "metadata": {},
       "output_type": "display_data",
       "text": [
        "<IPython.core.display.Javascript at 0x10c970310>"
       ]
      },
      {
       "javascript": [
        "$('div#5bfaaedf-faf7-47fb-bf20-c310b7f9e448').width('75%')"
       ],
       "metadata": {},
       "output_type": "display_data",
       "text": [
        "<IPython.core.display.Javascript at 0x10c970310>"
       ]
      },
      {
       "javascript": [
        "$('div#5bfaaedf-faf7-47fb-bf20-c310b7f9e448').width('76%')"
       ],
       "metadata": {},
       "output_type": "display_data",
       "text": [
        "<IPython.core.display.Javascript at 0x10c970310>"
       ]
      },
      {
       "javascript": [
        "$('div#5bfaaedf-faf7-47fb-bf20-c310b7f9e448').width('77%')"
       ],
       "metadata": {},
       "output_type": "display_data",
       "text": [
        "<IPython.core.display.Javascript at 0x10c970310>"
       ]
      },
      {
       "javascript": [
        "$('div#5bfaaedf-faf7-47fb-bf20-c310b7f9e448').width('78%')"
       ],
       "metadata": {},
       "output_type": "display_data",
       "text": [
        "<IPython.core.display.Javascript at 0x10c970310>"
       ]
      },
      {
       "javascript": [
        "$('div#5bfaaedf-faf7-47fb-bf20-c310b7f9e448').width('79%')"
       ],
       "metadata": {},
       "output_type": "display_data",
       "text": [
        "<IPython.core.display.Javascript at 0x10c970310>"
       ]
      },
      {
       "javascript": [
        "$('div#5bfaaedf-faf7-47fb-bf20-c310b7f9e448').width('80%')"
       ],
       "metadata": {},
       "output_type": "display_data",
       "text": [
        "<IPython.core.display.Javascript at 0x10c970310>"
       ]
      },
      {
       "javascript": [
        "$('div#5bfaaedf-faf7-47fb-bf20-c310b7f9e448').width('81%')"
       ],
       "metadata": {},
       "output_type": "display_data",
       "text": [
        "<IPython.core.display.Javascript at 0x10c970310>"
       ]
      },
      {
       "javascript": [
        "$('div#5bfaaedf-faf7-47fb-bf20-c310b7f9e448').width('82%')"
       ],
       "metadata": {},
       "output_type": "display_data",
       "text": [
        "<IPython.core.display.Javascript at 0x10c970310>"
       ]
      },
      {
       "javascript": [
        "$('div#5bfaaedf-faf7-47fb-bf20-c310b7f9e448').width('83%')"
       ],
       "metadata": {},
       "output_type": "display_data",
       "text": [
        "<IPython.core.display.Javascript at 0x10c970310>"
       ]
      },
      {
       "javascript": [
        "$('div#5bfaaedf-faf7-47fb-bf20-c310b7f9e448').width('84%')"
       ],
       "metadata": {},
       "output_type": "display_data",
       "text": [
        "<IPython.core.display.Javascript at 0x10c970310>"
       ]
      },
      {
       "javascript": [
        "$('div#5bfaaedf-faf7-47fb-bf20-c310b7f9e448').width('85%')"
       ],
       "metadata": {},
       "output_type": "display_data",
       "text": [
        "<IPython.core.display.Javascript at 0x10c970310>"
       ]
      },
      {
       "javascript": [
        "$('div#5bfaaedf-faf7-47fb-bf20-c310b7f9e448').width('86%')"
       ],
       "metadata": {},
       "output_type": "display_data",
       "text": [
        "<IPython.core.display.Javascript at 0x10c970310>"
       ]
      },
      {
       "javascript": [
        "$('div#5bfaaedf-faf7-47fb-bf20-c310b7f9e448').width('87%')"
       ],
       "metadata": {},
       "output_type": "display_data",
       "text": [
        "<IPython.core.display.Javascript at 0x10c970310>"
       ]
      },
      {
       "javascript": [
        "$('div#5bfaaedf-faf7-47fb-bf20-c310b7f9e448').width('88%')"
       ],
       "metadata": {},
       "output_type": "display_data",
       "text": [
        "<IPython.core.display.Javascript at 0x10c970310>"
       ]
      },
      {
       "javascript": [
        "$('div#5bfaaedf-faf7-47fb-bf20-c310b7f9e448').width('89%')"
       ],
       "metadata": {},
       "output_type": "display_data",
       "text": [
        "<IPython.core.display.Javascript at 0x10c970310>"
       ]
      },
      {
       "javascript": [
        "$('div#5bfaaedf-faf7-47fb-bf20-c310b7f9e448').width('90%')"
       ],
       "metadata": {},
       "output_type": "display_data",
       "text": [
        "<IPython.core.display.Javascript at 0x10c970310>"
       ]
      },
      {
       "javascript": [
        "$('div#5bfaaedf-faf7-47fb-bf20-c310b7f9e448').width('91%')"
       ],
       "metadata": {},
       "output_type": "display_data",
       "text": [
        "<IPython.core.display.Javascript at 0x10c970310>"
       ]
      },
      {
       "javascript": [
        "$('div#5bfaaedf-faf7-47fb-bf20-c310b7f9e448').width('92%')"
       ],
       "metadata": {},
       "output_type": "display_data",
       "text": [
        "<IPython.core.display.Javascript at 0x10c970310>"
       ]
      },
      {
       "javascript": [
        "$('div#5bfaaedf-faf7-47fb-bf20-c310b7f9e448').width('93%')"
       ],
       "metadata": {},
       "output_type": "display_data",
       "text": [
        "<IPython.core.display.Javascript at 0x10c970310>"
       ]
      },
      {
       "javascript": [
        "$('div#5bfaaedf-faf7-47fb-bf20-c310b7f9e448').width('94%')"
       ],
       "metadata": {},
       "output_type": "display_data",
       "text": [
        "<IPython.core.display.Javascript at 0x10c970310>"
       ]
      },
      {
       "javascript": [
        "$('div#5bfaaedf-faf7-47fb-bf20-c310b7f9e448').width('95%')"
       ],
       "metadata": {},
       "output_type": "display_data",
       "text": [
        "<IPython.core.display.Javascript at 0x10c970310>"
       ]
      },
      {
       "javascript": [
        "$('div#5bfaaedf-faf7-47fb-bf20-c310b7f9e448').width('96%')"
       ],
       "metadata": {},
       "output_type": "display_data",
       "text": [
        "<IPython.core.display.Javascript at 0x10c970310>"
       ]
      },
      {
       "javascript": [
        "$('div#5bfaaedf-faf7-47fb-bf20-c310b7f9e448').width('97%')"
       ],
       "metadata": {},
       "output_type": "display_data",
       "text": [
        "<IPython.core.display.Javascript at 0x10c970310>"
       ]
      },
      {
       "javascript": [
        "$('div#5bfaaedf-faf7-47fb-bf20-c310b7f9e448').width('98%')"
       ],
       "metadata": {},
       "output_type": "display_data",
       "text": [
        "<IPython.core.display.Javascript at 0x10c970310>"
       ]
      },
      {
       "javascript": [
        "$('div#5bfaaedf-faf7-47fb-bf20-c310b7f9e448').width('99%')"
       ],
       "metadata": {},
       "output_type": "display_data",
       "text": [
        "<IPython.core.display.Javascript at 0x10c970310>"
       ]
      },
      {
       "javascript": [
        "$('div#5bfaaedf-faf7-47fb-bf20-c310b7f9e448').width('100%')"
       ],
       "metadata": {},
       "output_type": "display_data",
       "text": [
        "<IPython.core.display.Javascript at 0x10c9702d0>"
       ]
      },
      {
       "metadata": {},
       "output_type": "display_data",
       "png": "[encoded data removed]",
       "text": [
        "<matplotlib.figure.Figure at 0x10c970210>"
       ]
      }
     ],
     "prompt_number": 4
    },
    {
     "cell_type": "code",
     "collapsed": false,
     "input": [
      "# Sample with method 1\n",
      "sampler.set_node_sampling_method_manual('x',method1)\n",
      "graph.set_node_value('x',numpy.ones((1,N_dim)) ) \n",
      "sampler.tracer.reset_trace()\n",
      "sampler.sample_x(N_samples)\n",
      "\n",
      "sampler.tracer.display.plot_histogram(0,range_plot=[-10,10],subplot=[1,2,1])\n",
      "sampler.tracer.display.plot_histogram(1,range_plot=[-10,10],subplot=[1,2,1])\n",
      "sampler.tracer.display.plot_histogram_bivariate(0,1,range_plot=[[-10,10],[-10,10]],subplot=[1,2,2])"
     ],
     "language": "python",
     "metadata": {},
     "outputs": [
      {
       "html": [
        "\n",
        "        <div style=\"border: 1px solid white; width:100%%; height:6px; background-color:rgb(246,228,200)\">\n",
        "            <div id=\"0b548c4b-3814-4415-8481-beea6267cfd6\" style=\"background-color:rgb(246,128,47); width:0%; height:6px\"> </div>\n",
        "        </div> \n",
        "        "
       ],
       "metadata": {},
       "output_type": "display_data",
       "text": [
        "<IPython.core.display.HTML at 0x10cb1a850>"
       ]
      },
      {
       "javascript": [
        "$('div#0b548c4b-3814-4415-8481-beea6267cfd6').width('1%')"
       ],
       "metadata": {},
       "output_type": "display_data",
       "text": [
        "<IPython.core.display.Javascript at 0x10cb1a6d0>"
       ]
      },
      {
       "javascript": [
        "$('div#0b548c4b-3814-4415-8481-beea6267cfd6').width('2%')"
       ],
       "metadata": {},
       "output_type": "display_data",
       "text": [
        "<IPython.core.display.Javascript at 0x10cb1a6d0>"
       ]
      },
      {
       "javascript": [
        "$('div#0b548c4b-3814-4415-8481-beea6267cfd6').width('3%')"
       ],
       "metadata": {},
       "output_type": "display_data",
       "text": [
        "<IPython.core.display.Javascript at 0x10cb1a6d0>"
       ]
      },
      {
       "javascript": [
        "$('div#0b548c4b-3814-4415-8481-beea6267cfd6').width('4%')"
       ],
       "metadata": {},
       "output_type": "display_data",
       "text": [
        "<IPython.core.display.Javascript at 0x10cb1a6d0>"
       ]
      },
      {
       "javascript": [
        "$('div#0b548c4b-3814-4415-8481-beea6267cfd6').width('5%')"
       ],
       "metadata": {},
       "output_type": "display_data",
       "text": [
        "<IPython.core.display.Javascript at 0x10cb1a6d0>"
       ]
      },
      {
       "javascript": [
        "$('div#0b548c4b-3814-4415-8481-beea6267cfd6').width('6%')"
       ],
       "metadata": {},
       "output_type": "display_data",
       "text": [
        "<IPython.core.display.Javascript at 0x10cb1a6d0>"
       ]
      },
      {
       "javascript": [
        "$('div#0b548c4b-3814-4415-8481-beea6267cfd6').width('7%')"
       ],
       "metadata": {},
       "output_type": "display_data",
       "text": [
        "<IPython.core.display.Javascript at 0x10cb1a6d0>"
       ]
      },
      {
       "javascript": [
        "$('div#0b548c4b-3814-4415-8481-beea6267cfd6').width('8%')"
       ],
       "metadata": {},
       "output_type": "display_data",
       "text": [
        "<IPython.core.display.Javascript at 0x10cb1a6d0>"
       ]
      },
      {
       "javascript": [
        "$('div#0b548c4b-3814-4415-8481-beea6267cfd6').width('9%')"
       ],
       "metadata": {},
       "output_type": "display_data",
       "text": [
        "<IPython.core.display.Javascript at 0x10cb1a6d0>"
       ]
      },
      {
       "javascript": [
        "$('div#0b548c4b-3814-4415-8481-beea6267cfd6').width('10%')"
       ],
       "metadata": {},
       "output_type": "display_data",
       "text": [
        "<IPython.core.display.Javascript at 0x10cb1a6d0>"
       ]
      },
      {
       "javascript": [
        "$('div#0b548c4b-3814-4415-8481-beea6267cfd6').width('11%')"
       ],
       "metadata": {},
       "output_type": "display_data",
       "text": [
        "<IPython.core.display.Javascript at 0x10cb1a6d0>"
       ]
      },
      {
       "javascript": [
        "$('div#0b548c4b-3814-4415-8481-beea6267cfd6').width('12%')"
       ],
       "metadata": {},
       "output_type": "display_data",
       "text": [
        "<IPython.core.display.Javascript at 0x10cb1a6d0>"
       ]
      },
      {
       "javascript": [
        "$('div#0b548c4b-3814-4415-8481-beea6267cfd6').width('13%')"
       ],
       "metadata": {},
       "output_type": "display_data",
       "text": [
        "<IPython.core.display.Javascript at 0x10cb1a6d0>"
       ]
      },
      {
       "javascript": [
        "$('div#0b548c4b-3814-4415-8481-beea6267cfd6').width('14%')"
       ],
       "metadata": {},
       "output_type": "display_data",
       "text": [
        "<IPython.core.display.Javascript at 0x10cb1a6d0>"
       ]
      },
      {
       "javascript": [
        "$('div#0b548c4b-3814-4415-8481-beea6267cfd6').width('15%')"
       ],
       "metadata": {},
       "output_type": "display_data",
       "text": [
        "<IPython.core.display.Javascript at 0x10cb1a6d0>"
       ]
      },
      {
       "javascript": [
        "$('div#0b548c4b-3814-4415-8481-beea6267cfd6').width('16%')"
       ],
       "metadata": {},
       "output_type": "display_data",
       "text": [
        "<IPython.core.display.Javascript at 0x10cb1a6d0>"
       ]
      },
      {
       "javascript": [
        "$('div#0b548c4b-3814-4415-8481-beea6267cfd6').width('17%')"
       ],
       "metadata": {},
       "output_type": "display_data",
       "text": [
        "<IPython.core.display.Javascript at 0x10cb1a6d0>"
       ]
      },
      {
       "javascript": [
        "$('div#0b548c4b-3814-4415-8481-beea6267cfd6').width('18%')"
       ],
       "metadata": {},
       "output_type": "display_data",
       "text": [
        "<IPython.core.display.Javascript at 0x10cb1a6d0>"
       ]
      },
      {
       "javascript": [
        "$('div#0b548c4b-3814-4415-8481-beea6267cfd6').width('19%')"
       ],
       "metadata": {},
       "output_type": "display_data",
       "text": [
        "<IPython.core.display.Javascript at 0x10cb1a6d0>"
       ]
      },
      {
       "javascript": [
        "$('div#0b548c4b-3814-4415-8481-beea6267cfd6').width('20%')"
       ],
       "metadata": {},
       "output_type": "display_data",
       "text": [
        "<IPython.core.display.Javascript at 0x10cb1a6d0>"
       ]
      },
      {
       "javascript": [
        "$('div#0b548c4b-3814-4415-8481-beea6267cfd6').width('21%')"
       ],
       "metadata": {},
       "output_type": "display_data",
       "text": [
        "<IPython.core.display.Javascript at 0x10cb1a6d0>"
       ]
      },
      {
       "javascript": [
        "$('div#0b548c4b-3814-4415-8481-beea6267cfd6').width('22%')"
       ],
       "metadata": {},
       "output_type": "display_data",
       "text": [
        "<IPython.core.display.Javascript at 0x10cb1a6d0>"
       ]
      },
      {
       "javascript": [
        "$('div#0b548c4b-3814-4415-8481-beea6267cfd6').width('23%')"
       ],
       "metadata": {},
       "output_type": "display_data",
       "text": [
        "<IPython.core.display.Javascript at 0x10cb1a6d0>"
       ]
      },
      {
       "javascript": [
        "$('div#0b548c4b-3814-4415-8481-beea6267cfd6').width('24%')"
       ],
       "metadata": {},
       "output_type": "display_data",
       "text": [
        "<IPython.core.display.Javascript at 0x10cb1a6d0>"
       ]
      },
      {
       "javascript": [
        "$('div#0b548c4b-3814-4415-8481-beea6267cfd6').width('25%')"
       ],
       "metadata": {},
       "output_type": "display_data",
       "text": [
        "<IPython.core.display.Javascript at 0x10cb1a6d0>"
       ]
      },
      {
       "javascript": [
        "$('div#0b548c4b-3814-4415-8481-beea6267cfd6').width('26%')"
       ],
       "metadata": {},
       "output_type": "display_data",
       "text": [
        "<IPython.core.display.Javascript at 0x10cb1a6d0>"
       ]
      },
      {
       "javascript": [
        "$('div#0b548c4b-3814-4415-8481-beea6267cfd6').width('27%')"
       ],
       "metadata": {},
       "output_type": "display_data",
       "text": [
        "<IPython.core.display.Javascript at 0x10cb1a6d0>"
       ]
      },
      {
       "javascript": [
        "$('div#0b548c4b-3814-4415-8481-beea6267cfd6').width('28%')"
       ],
       "metadata": {},
       "output_type": "display_data",
       "text": [
        "<IPython.core.display.Javascript at 0x10cb1a6d0>"
       ]
      },
      {
       "javascript": [
        "$('div#0b548c4b-3814-4415-8481-beea6267cfd6').width('29%')"
       ],
       "metadata": {},
       "output_type": "display_data",
       "text": [
        "<IPython.core.display.Javascript at 0x10cb1a6d0>"
       ]
      },
      {
       "javascript": [
        "$('div#0b548c4b-3814-4415-8481-beea6267cfd6').width('30%')"
       ],
       "metadata": {},
       "output_type": "display_data",
       "text": [
        "<IPython.core.display.Javascript at 0x10cb1a6d0>"
       ]
      },
      {
       "javascript": [
        "$('div#0b548c4b-3814-4415-8481-beea6267cfd6').width('31%')"
       ],
       "metadata": {},
       "output_type": "display_data",
       "text": [
        "<IPython.core.display.Javascript at 0x10cb1a6d0>"
       ]
      },
      {
       "javascript": [
        "$('div#0b548c4b-3814-4415-8481-beea6267cfd6').width('32%')"
       ],
       "metadata": {},
       "output_type": "display_data",
       "text": [
        "<IPython.core.display.Javascript at 0x10cb1a6d0>"
       ]
      },
      {
       "javascript": [
        "$('div#0b548c4b-3814-4415-8481-beea6267cfd6').width('33%')"
       ],
       "metadata": {},
       "output_type": "display_data",
       "text": [
        "<IPython.core.display.Javascript at 0x10cb1a6d0>"
       ]
      },
      {
       "javascript": [
        "$('div#0b548c4b-3814-4415-8481-beea6267cfd6').width('34%')"
       ],
       "metadata": {},
       "output_type": "display_data",
       "text": [
        "<IPython.core.display.Javascript at 0x10cb1a6d0>"
       ]
      },
      {
       "javascript": [
        "$('div#0b548c4b-3814-4415-8481-beea6267cfd6').width('35%')"
       ],
       "metadata": {},
       "output_type": "display_data",
       "text": [
        "<IPython.core.display.Javascript at 0x10cb1a6d0>"
       ]
      },
      {
       "javascript": [
        "$('div#0b548c4b-3814-4415-8481-beea6267cfd6').width('36%')"
       ],
       "metadata": {},
       "output_type": "display_data",
       "text": [
        "<IPython.core.display.Javascript at 0x10cb1a6d0>"
       ]
      },
      {
       "javascript": [
        "$('div#0b548c4b-3814-4415-8481-beea6267cfd6').width('37%')"
       ],
       "metadata": {},
       "output_type": "display_data",
       "text": [
        "<IPython.core.display.Javascript at 0x10cb1a6d0>"
       ]
      },
      {
       "javascript": [
        "$('div#0b548c4b-3814-4415-8481-beea6267cfd6').width('38%')"
       ],
       "metadata": {},
       "output_type": "display_data",
       "text": [
        "<IPython.core.display.Javascript at 0x10cb1a6d0>"
       ]
      },
      {
       "javascript": [
        "$('div#0b548c4b-3814-4415-8481-beea6267cfd6').width('39%')"
       ],
       "metadata": {},
       "output_type": "display_data",
       "text": [
        "<IPython.core.display.Javascript at 0x10cb1a6d0>"
       ]
      },
      {
       "javascript": [
        "$('div#0b548c4b-3814-4415-8481-beea6267cfd6').width('40%')"
       ],
       "metadata": {},
       "output_type": "display_data",
       "text": [
        "<IPython.core.display.Javascript at 0x10cb1a6d0>"
       ]
      },
      {
       "javascript": [
        "$('div#0b548c4b-3814-4415-8481-beea6267cfd6').width('41%')"
       ],
       "metadata": {},
       "output_type": "display_data",
       "text": [
        "<IPython.core.display.Javascript at 0x10cb1a6d0>"
       ]
      },
      {
       "javascript": [
        "$('div#0b548c4b-3814-4415-8481-beea6267cfd6').width('42%')"
       ],
       "metadata": {},
       "output_type": "display_data",
       "text": [
        "<IPython.core.display.Javascript at 0x10cb1a6d0>"
       ]
      },
      {
       "javascript": [
        "$('div#0b548c4b-3814-4415-8481-beea6267cfd6').width('43%')"
       ],
       "metadata": {},
       "output_type": "display_data",
       "text": [
        "<IPython.core.display.Javascript at 0x10cb1a6d0>"
       ]
      },
      {
       "javascript": [
        "$('div#0b548c4b-3814-4415-8481-beea6267cfd6').width('44%')"
       ],
       "metadata": {},
       "output_type": "display_data",
       "text": [
        "<IPython.core.display.Javascript at 0x10cb1a6d0>"
       ]
      },
      {
       "javascript": [
        "$('div#0b548c4b-3814-4415-8481-beea6267cfd6').width('45%')"
       ],
       "metadata": {},
       "output_type": "display_data",
       "text": [
        "<IPython.core.display.Javascript at 0x10cb1a6d0>"
       ]
      },
      {
       "javascript": [
        "$('div#0b548c4b-3814-4415-8481-beea6267cfd6').width('46%')"
       ],
       "metadata": {},
       "output_type": "display_data",
       "text": [
        "<IPython.core.display.Javascript at 0x10cb1a6d0>"
       ]
      },
      {
       "javascript": [
        "$('div#0b548c4b-3814-4415-8481-beea6267cfd6').width('47%')"
       ],
       "metadata": {},
       "output_type": "display_data",
       "text": [
        "<IPython.core.display.Javascript at 0x10cb1a6d0>"
       ]
      },
      {
       "javascript": [
        "$('div#0b548c4b-3814-4415-8481-beea6267cfd6').width('48%')"
       ],
       "metadata": {},
       "output_type": "display_data",
       "text": [
        "<IPython.core.display.Javascript at 0x10cb1a6d0>"
       ]
      },
      {
       "javascript": [
        "$('div#0b548c4b-3814-4415-8481-beea6267cfd6').width('49%')"
       ],
       "metadata": {},
       "output_type": "display_data",
       "text": [
        "<IPython.core.display.Javascript at 0x10cb1a6d0>"
       ]
      },
      {
       "javascript": [
        "$('div#0b548c4b-3814-4415-8481-beea6267cfd6').width('50%')"
       ],
       "metadata": {},
       "output_type": "display_data",
       "text": [
        "<IPython.core.display.Javascript at 0x10cb1a6d0>"
       ]
      },
      {
       "javascript": [
        "$('div#0b548c4b-3814-4415-8481-beea6267cfd6').width('51%')"
       ],
       "metadata": {},
       "output_type": "display_data",
       "text": [
        "<IPython.core.display.Javascript at 0x10cb1a6d0>"
       ]
      },
      {
       "javascript": [
        "$('div#0b548c4b-3814-4415-8481-beea6267cfd6').width('52%')"
       ],
       "metadata": {},
       "output_type": "display_data",
       "text": [
        "<IPython.core.display.Javascript at 0x10cb1a6d0>"
       ]
      },
      {
       "javascript": [
        "$('div#0b548c4b-3814-4415-8481-beea6267cfd6').width('53%')"
       ],
       "metadata": {},
       "output_type": "display_data",
       "text": [
        "<IPython.core.display.Javascript at 0x10cb1a6d0>"
       ]
      },
      {
       "javascript": [
        "$('div#0b548c4b-3814-4415-8481-beea6267cfd6').width('54%')"
       ],
       "metadata": {},
       "output_type": "display_data",
       "text": [
        "<IPython.core.display.Javascript at 0x10cb1a6d0>"
       ]
      },
      {
       "javascript": [
        "$('div#0b548c4b-3814-4415-8481-beea6267cfd6').width('55%')"
       ],
       "metadata": {},
       "output_type": "display_data",
       "text": [
        "<IPython.core.display.Javascript at 0x10cb1a6d0>"
       ]
      },
      {
       "javascript": [
        "$('div#0b548c4b-3814-4415-8481-beea6267cfd6').width('56%')"
       ],
       "metadata": {},
       "output_type": "display_data",
       "text": [
        "<IPython.core.display.Javascript at 0x10cb1a6d0>"
       ]
      },
      {
       "javascript": [
        "$('div#0b548c4b-3814-4415-8481-beea6267cfd6').width('57%')"
       ],
       "metadata": {},
       "output_type": "display_data",
       "text": [
        "<IPython.core.display.Javascript at 0x10cb1a6d0>"
       ]
      },
      {
       "javascript": [
        "$('div#0b548c4b-3814-4415-8481-beea6267cfd6').width('58%')"
       ],
       "metadata": {},
       "output_type": "display_data",
       "text": [
        "<IPython.core.display.Javascript at 0x10cb1a6d0>"
       ]
      },
      {
       "javascript": [
        "$('div#0b548c4b-3814-4415-8481-beea6267cfd6').width('59%')"
       ],
       "metadata": {},
       "output_type": "display_data",
       "text": [
        "<IPython.core.display.Javascript at 0x10cb1a6d0>"
       ]
      },
      {
       "javascript": [
        "$('div#0b548c4b-3814-4415-8481-beea6267cfd6').width('60%')"
       ],
       "metadata": {},
       "output_type": "display_data",
       "text": [
        "<IPython.core.display.Javascript at 0x10cb1a6d0>"
       ]
      },
      {
       "javascript": [
        "$('div#0b548c4b-3814-4415-8481-beea6267cfd6').width('61%')"
       ],
       "metadata": {},
       "output_type": "display_data",
       "text": [
        "<IPython.core.display.Javascript at 0x10cb1a6d0>"
       ]
      },
      {
       "javascript": [
        "$('div#0b548c4b-3814-4415-8481-beea6267cfd6').width('62%')"
       ],
       "metadata": {},
       "output_type": "display_data",
       "text": [
        "<IPython.core.display.Javascript at 0x10cb1a6d0>"
       ]
      },
      {
       "javascript": [
        "$('div#0b548c4b-3814-4415-8481-beea6267cfd6').width('63%')"
       ],
       "metadata": {},
       "output_type": "display_data",
       "text": [
        "<IPython.core.display.Javascript at 0x10cb1a6d0>"
       ]
      },
      {
       "javascript": [
        "$('div#0b548c4b-3814-4415-8481-beea6267cfd6').width('64%')"
       ],
       "metadata": {},
       "output_type": "display_data",
       "text": [
        "<IPython.core.display.Javascript at 0x10cb1a6d0>"
       ]
      },
      {
       "javascript": [
        "$('div#0b548c4b-3814-4415-8481-beea6267cfd6').width('65%')"
       ],
       "metadata": {},
       "output_type": "display_data",
       "text": [
        "<IPython.core.display.Javascript at 0x10cb1a6d0>"
       ]
      },
      {
       "javascript": [
        "$('div#0b548c4b-3814-4415-8481-beea6267cfd6').width('66%')"
       ],
       "metadata": {},
       "output_type": "display_data",
       "text": [
        "<IPython.core.display.Javascript at 0x10cb1a6d0>"
       ]
      },
      {
       "javascript": [
        "$('div#0b548c4b-3814-4415-8481-beea6267cfd6').width('67%')"
       ],
       "metadata": {},
       "output_type": "display_data",
       "text": [
        "<IPython.core.display.Javascript at 0x10cb1a6d0>"
       ]
      },
      {
       "javascript": [
        "$('div#0b548c4b-3814-4415-8481-beea6267cfd6').width('68%')"
       ],
       "metadata": {},
       "output_type": "display_data",
       "text": [
        "<IPython.core.display.Javascript at 0x10cb1a6d0>"
       ]
      },
      {
       "javascript": [
        "$('div#0b548c4b-3814-4415-8481-beea6267cfd6').width('69%')"
       ],
       "metadata": {},
       "output_type": "display_data",
       "text": [
        "<IPython.core.display.Javascript at 0x10cb1a6d0>"
       ]
      },
      {
       "javascript": [
        "$('div#0b548c4b-3814-4415-8481-beea6267cfd6').width('70%')"
       ],
       "metadata": {},
       "output_type": "display_data",
       "text": [
        "<IPython.core.display.Javascript at 0x10cb1a6d0>"
       ]
      },
      {
       "javascript": [
        "$('div#0b548c4b-3814-4415-8481-beea6267cfd6').width('71%')"
       ],
       "metadata": {},
       "output_type": "display_data",
       "text": [
        "<IPython.core.display.Javascript at 0x10cb1a6d0>"
       ]
      },
      {
       "javascript": [
        "$('div#0b548c4b-3814-4415-8481-beea6267cfd6').width('72%')"
       ],
       "metadata": {},
       "output_type": "display_data",
       "text": [
        "<IPython.core.display.Javascript at 0x10cb1a6d0>"
       ]
      },
      {
       "javascript": [
        "$('div#0b548c4b-3814-4415-8481-beea6267cfd6').width('73%')"
       ],
       "metadata": {},
       "output_type": "display_data",
       "text": [
        "<IPython.core.display.Javascript at 0x10cb1a6d0>"
       ]
      },
      {
       "javascript": [
        "$('div#0b548c4b-3814-4415-8481-beea6267cfd6').width('74%')"
       ],
       "metadata": {},
       "output_type": "display_data",
       "text": [
        "<IPython.core.display.Javascript at 0x10cb1a6d0>"
       ]
      },
      {
       "javascript": [
        "$('div#0b548c4b-3814-4415-8481-beea6267cfd6').width('75%')"
       ],
       "metadata": {},
       "output_type": "display_data",
       "text": [
        "<IPython.core.display.Javascript at 0x10cb1a6d0>"
       ]
      },
      {
       "javascript": [
        "$('div#0b548c4b-3814-4415-8481-beea6267cfd6').width('76%')"
       ],
       "metadata": {},
       "output_type": "display_data",
       "text": [
        "<IPython.core.display.Javascript at 0x10cb1a6d0>"
       ]
      },
      {
       "javascript": [
        "$('div#0b548c4b-3814-4415-8481-beea6267cfd6').width('77%')"
       ],
       "metadata": {},
       "output_type": "display_data",
       "text": [
        "<IPython.core.display.Javascript at 0x10cb1a6d0>"
       ]
      },
      {
       "javascript": [
        "$('div#0b548c4b-3814-4415-8481-beea6267cfd6').width('78%')"
       ],
       "metadata": {},
       "output_type": "display_data",
       "text": [
        "<IPython.core.display.Javascript at 0x10cb1a6d0>"
       ]
      },
      {
       "javascript": [
        "$('div#0b548c4b-3814-4415-8481-beea6267cfd6').width('79%')"
       ],
       "metadata": {},
       "output_type": "display_data",
       "text": [
        "<IPython.core.display.Javascript at 0x10cb1a6d0>"
       ]
      },
      {
       "javascript": [
        "$('div#0b548c4b-3814-4415-8481-beea6267cfd6').width('80%')"
       ],
       "metadata": {},
       "output_type": "display_data",
       "text": [
        "<IPython.core.display.Javascript at 0x10cb1a6d0>"
       ]
      },
      {
       "javascript": [
        "$('div#0b548c4b-3814-4415-8481-beea6267cfd6').width('81%')"
       ],
       "metadata": {},
       "output_type": "display_data",
       "text": [
        "<IPython.core.display.Javascript at 0x10cb1a6d0>"
       ]
      },
      {
       "javascript": [
        "$('div#0b548c4b-3814-4415-8481-beea6267cfd6').width('82%')"
       ],
       "metadata": {},
       "output_type": "display_data",
       "text": [
        "<IPython.core.display.Javascript at 0x10cb1a6d0>"
       ]
      },
      {
       "javascript": [
        "$('div#0b548c4b-3814-4415-8481-beea6267cfd6').width('83%')"
       ],
       "metadata": {},
       "output_type": "display_data",
       "text": [
        "<IPython.core.display.Javascript at 0x10cb1a6d0>"
       ]
      },
      {
       "javascript": [
        "$('div#0b548c4b-3814-4415-8481-beea6267cfd6').width('84%')"
       ],
       "metadata": {},
       "output_type": "display_data",
       "text": [
        "<IPython.core.display.Javascript at 0x10cb1a6d0>"
       ]
      },
      {
       "javascript": [
        "$('div#0b548c4b-3814-4415-8481-beea6267cfd6').width('85%')"
       ],
       "metadata": {},
       "output_type": "display_data",
       "text": [
        "<IPython.core.display.Javascript at 0x10cb1a6d0>"
       ]
      },
      {
       "javascript": [
        "$('div#0b548c4b-3814-4415-8481-beea6267cfd6').width('86%')"
       ],
       "metadata": {},
       "output_type": "display_data",
       "text": [
        "<IPython.core.display.Javascript at 0x10cb1a6d0>"
       ]
      },
      {
       "javascript": [
        "$('div#0b548c4b-3814-4415-8481-beea6267cfd6').width('87%')"
       ],
       "metadata": {},
       "output_type": "display_data",
       "text": [
        "<IPython.core.display.Javascript at 0x10cb1a6d0>"
       ]
      },
      {
       "javascript": [
        "$('div#0b548c4b-3814-4415-8481-beea6267cfd6').width('88%')"
       ],
       "metadata": {},
       "output_type": "display_data",
       "text": [
        "<IPython.core.display.Javascript at 0x10cb1a6d0>"
       ]
      },
      {
       "javascript": [
        "$('div#0b548c4b-3814-4415-8481-beea6267cfd6').width('89%')"
       ],
       "metadata": {},
       "output_type": "display_data",
       "text": [
        "<IPython.core.display.Javascript at 0x10cb1a6d0>"
       ]
      },
      {
       "javascript": [
        "$('div#0b548c4b-3814-4415-8481-beea6267cfd6').width('90%')"
       ],
       "metadata": {},
       "output_type": "display_data",
       "text": [
        "<IPython.core.display.Javascript at 0x10cb1a6d0>"
       ]
      },
      {
       "javascript": [
        "$('div#0b548c4b-3814-4415-8481-beea6267cfd6').width('91%')"
       ],
       "metadata": {},
       "output_type": "display_data",
       "text": [
        "<IPython.core.display.Javascript at 0x10cb1a6d0>"
       ]
      },
      {
       "javascript": [
        "$('div#0b548c4b-3814-4415-8481-beea6267cfd6').width('92%')"
       ],
       "metadata": {},
       "output_type": "display_data",
       "text": [
        "<IPython.core.display.Javascript at 0x10cb1a6d0>"
       ]
      },
      {
       "javascript": [
        "$('div#0b548c4b-3814-4415-8481-beea6267cfd6').width('93%')"
       ],
       "metadata": {},
       "output_type": "display_data",
       "text": [
        "<IPython.core.display.Javascript at 0x10cb1a6d0>"
       ]
      },
      {
       "javascript": [
        "$('div#0b548c4b-3814-4415-8481-beea6267cfd6').width('94%')"
       ],
       "metadata": {},
       "output_type": "display_data",
       "text": [
        "<IPython.core.display.Javascript at 0x10cb1a6d0>"
       ]
      },
      {
       "javascript": [
        "$('div#0b548c4b-3814-4415-8481-beea6267cfd6').width('95%')"
       ],
       "metadata": {},
       "output_type": "display_data",
       "text": [
        "<IPython.core.display.Javascript at 0x10cb1a6d0>"
       ]
      },
      {
       "javascript": [
        "$('div#0b548c4b-3814-4415-8481-beea6267cfd6').width('96%')"
       ],
       "metadata": {},
       "output_type": "display_data",
       "text": [
        "<IPython.core.display.Javascript at 0x10cb1a6d0>"
       ]
      },
      {
       "javascript": [
        "$('div#0b548c4b-3814-4415-8481-beea6267cfd6').width('97%')"
       ],
       "metadata": {},
       "output_type": "display_data",
       "text": [
        "<IPython.core.display.Javascript at 0x10cb1a6d0>"
       ]
      },
      {
       "javascript": [
        "$('div#0b548c4b-3814-4415-8481-beea6267cfd6').width('98%')"
       ],
       "metadata": {},
       "output_type": "display_data",
       "text": [
        "<IPython.core.display.Javascript at 0x10cb1a6d0>"
       ]
      },
      {
       "javascript": [
        "$('div#0b548c4b-3814-4415-8481-beea6267cfd6').width('99%')"
       ],
       "metadata": {},
       "output_type": "display_data",
       "text": [
        "<IPython.core.display.Javascript at 0x10cb1a6d0>"
       ]
      },
      {
       "javascript": [
        "$('div#0b548c4b-3814-4415-8481-beea6267cfd6').width('100%')"
       ],
       "metadata": {},
       "output_type": "display_data",
       "text": [
        "<IPython.core.display.Javascript at 0x10cb1a890>"
       ]
      },
      {
       "metadata": {},
       "output_type": "display_data",
       "png": "[encoded data removed]",
       "text": [
        "<matplotlib.figure.Figure at 0x10cb1acd0>"
       ]
      }
     ],
     "prompt_number": 5
    },
    {
     "cell_type": "code",
     "collapsed": false,
     "input": [
      "# Sample with method 2\n",
      "sampler.set_node_sampling_method_manual('x',method2)\n",
      "graph.set_node_value('x',numpy.ones((1,N_dim)) ) \n",
      "sampler.tracer.reset_trace()\n",
      "sampler.sample_x(N_samples)\n",
      "\n",
      "sampler.tracer.display.plot_histogram(0,range_plot=[-10,10],subplot=[1,2,1])\n",
      "sampler.tracer.display.plot_histogram(1,range_plot=[-10,10],subplot=[1,2,1])\n",
      "sampler.tracer.display.plot_histogram_bivariate(0,1,range_plot=[[-10,10],[-10,10]],subplot=[1,2,2])"
     ],
     "language": "python",
     "metadata": {},
     "outputs": [
      {
       "html": [
        "\n",
        "        <div style=\"border: 1px solid white; width:100%%; height:6px; background-color:rgb(246,228,200)\">\n",
        "            <div id=\"a6e36a88-b630-46ad-8df8-a59f81930056\" style=\"background-color:rgb(246,128,47); width:0%; height:6px\"> </div>\n",
        "        </div> \n",
        "        "
       ],
       "metadata": {},
       "output_type": "display_data",
       "text": [
        "<IPython.core.display.HTML at 0x10cbabd10>"
       ]
      },
      {
       "javascript": [
        "$('div#a6e36a88-b630-46ad-8df8-a59f81930056').width('1%')"
       ],
       "metadata": {},
       "output_type": "display_data",
       "text": [
        "<IPython.core.display.Javascript at 0x10cbab950>"
       ]
      },
      {
       "javascript": [
        "$('div#a6e36a88-b630-46ad-8df8-a59f81930056').width('2%')"
       ],
       "metadata": {},
       "output_type": "display_data",
       "text": [
        "<IPython.core.display.Javascript at 0x10cbab950>"
       ]
      },
      {
       "javascript": [
        "$('div#a6e36a88-b630-46ad-8df8-a59f81930056').width('3%')"
       ],
       "metadata": {},
       "output_type": "display_data",
       "text": [
        "<IPython.core.display.Javascript at 0x10cbab950>"
       ]
      },
      {
       "javascript": [
        "$('div#a6e36a88-b630-46ad-8df8-a59f81930056').width('4%')"
       ],
       "metadata": {},
       "output_type": "display_data",
       "text": [
        "<IPython.core.display.Javascript at 0x10cbab950>"
       ]
      },
      {
       "javascript": [
        "$('div#a6e36a88-b630-46ad-8df8-a59f81930056').width('5%')"
       ],
       "metadata": {},
       "output_type": "display_data",
       "text": [
        "<IPython.core.display.Javascript at 0x10cbab950>"
       ]
      },
      {
       "javascript": [
        "$('div#a6e36a88-b630-46ad-8df8-a59f81930056').width('6%')"
       ],
       "metadata": {},
       "output_type": "display_data",
       "text": [
        "<IPython.core.display.Javascript at 0x10cbab950>"
       ]
      },
      {
       "javascript": [
        "$('div#a6e36a88-b630-46ad-8df8-a59f81930056').width('7%')"
       ],
       "metadata": {},
       "output_type": "display_data",
       "text": [
        "<IPython.core.display.Javascript at 0x10cbab950>"
       ]
      },
      {
       "javascript": [
        "$('div#a6e36a88-b630-46ad-8df8-a59f81930056').width('8%')"
       ],
       "metadata": {},
       "output_type": "display_data",
       "text": [
        "<IPython.core.display.Javascript at 0x10cbab950>"
       ]
      },
      {
       "javascript": [
        "$('div#a6e36a88-b630-46ad-8df8-a59f81930056').width('9%')"
       ],
       "metadata": {},
       "output_type": "display_data",
       "text": [
        "<IPython.core.display.Javascript at 0x10cbab950>"
       ]
      },
      {
       "javascript": [
        "$('div#a6e36a88-b630-46ad-8df8-a59f81930056').width('10%')"
       ],
       "metadata": {},
       "output_type": "display_data",
       "text": [
        "<IPython.core.display.Javascript at 0x10cbab950>"
       ]
      },
      {
       "javascript": [
        "$('div#a6e36a88-b630-46ad-8df8-a59f81930056').width('11%')"
       ],
       "metadata": {},
       "output_type": "display_data",
       "text": [
        "<IPython.core.display.Javascript at 0x10cbab950>"
       ]
      },
      {
       "javascript": [
        "$('div#a6e36a88-b630-46ad-8df8-a59f81930056').width('12%')"
       ],
       "metadata": {},
       "output_type": "display_data",
       "text": [
        "<IPython.core.display.Javascript at 0x10cbab950>"
       ]
      },
      {
       "javascript": [
        "$('div#a6e36a88-b630-46ad-8df8-a59f81930056').width('13%')"
       ],
       "metadata": {},
       "output_type": "display_data",
       "text": [
        "<IPython.core.display.Javascript at 0x10cbab950>"
       ]
      },
      {
       "javascript": [
        "$('div#a6e36a88-b630-46ad-8df8-a59f81930056').width('14%')"
       ],
       "metadata": {},
       "output_type": "display_data",
       "text": [
        "<IPython.core.display.Javascript at 0x10cbab950>"
       ]
      },
      {
       "javascript": [
        "$('div#a6e36a88-b630-46ad-8df8-a59f81930056').width('15%')"
       ],
       "metadata": {},
       "output_type": "display_data",
       "text": [
        "<IPython.core.display.Javascript at 0x10cbab950>"
       ]
      },
      {
       "javascript": [
        "$('div#a6e36a88-b630-46ad-8df8-a59f81930056').width('16%')"
       ],
       "metadata": {},
       "output_type": "display_data",
       "text": [
        "<IPython.core.display.Javascript at 0x10cbab950>"
       ]
      },
      {
       "javascript": [
        "$('div#a6e36a88-b630-46ad-8df8-a59f81930056').width('17%')"
       ],
       "metadata": {},
       "output_type": "display_data",
       "text": [
        "<IPython.core.display.Javascript at 0x10cbab950>"
       ]
      },
      {
       "javascript": [
        "$('div#a6e36a88-b630-46ad-8df8-a59f81930056').width('18%')"
       ],
       "metadata": {},
       "output_type": "display_data",
       "text": [
        "<IPython.core.display.Javascript at 0x10cbab950>"
       ]
      },
      {
       "javascript": [
        "$('div#a6e36a88-b630-46ad-8df8-a59f81930056').width('19%')"
       ],
       "metadata": {},
       "output_type": "display_data",
       "text": [
        "<IPython.core.display.Javascript at 0x10cbab950>"
       ]
      },
      {
       "javascript": [
        "$('div#a6e36a88-b630-46ad-8df8-a59f81930056').width('20%')"
       ],
       "metadata": {},
       "output_type": "display_data",
       "text": [
        "<IPython.core.display.Javascript at 0x10cbab950>"
       ]
      },
      {
       "javascript": [
        "$('div#a6e36a88-b630-46ad-8df8-a59f81930056').width('21%')"
       ],
       "metadata": {},
       "output_type": "display_data",
       "text": [
        "<IPython.core.display.Javascript at 0x10cbab950>"
       ]
      },
      {
       "javascript": [
        "$('div#a6e36a88-b630-46ad-8df8-a59f81930056').width('22%')"
       ],
       "metadata": {},
       "output_type": "display_data",
       "text": [
        "<IPython.core.display.Javascript at 0x10cbab950>"
       ]
      },
      {
       "javascript": [
        "$('div#a6e36a88-b630-46ad-8df8-a59f81930056').width('23%')"
       ],
       "metadata": {},
       "output_type": "display_data",
       "text": [
        "<IPython.core.display.Javascript at 0x10cbab950>"
       ]
      },
      {
       "javascript": [
        "$('div#a6e36a88-b630-46ad-8df8-a59f81930056').width('24%')"
       ],
       "metadata": {},
       "output_type": "display_data",
       "text": [
        "<IPython.core.display.Javascript at 0x10cbab950>"
       ]
      },
      {
       "javascript": [
        "$('div#a6e36a88-b630-46ad-8df8-a59f81930056').width('25%')"
       ],
       "metadata": {},
       "output_type": "display_data",
       "text": [
        "<IPython.core.display.Javascript at 0x10cbab950>"
       ]
      },
      {
       "javascript": [
        "$('div#a6e36a88-b630-46ad-8df8-a59f81930056').width('26%')"
       ],
       "metadata": {},
       "output_type": "display_data",
       "text": [
        "<IPython.core.display.Javascript at 0x10cbab950>"
       ]
      },
      {
       "javascript": [
        "$('div#a6e36a88-b630-46ad-8df8-a59f81930056').width('27%')"
       ],
       "metadata": {},
       "output_type": "display_data",
       "text": [
        "<IPython.core.display.Javascript at 0x10cbab950>"
       ]
      },
      {
       "javascript": [
        "$('div#a6e36a88-b630-46ad-8df8-a59f81930056').width('28%')"
       ],
       "metadata": {},
       "output_type": "display_data",
       "text": [
        "<IPython.core.display.Javascript at 0x10cbab950>"
       ]
      },
      {
       "javascript": [
        "$('div#a6e36a88-b630-46ad-8df8-a59f81930056').width('29%')"
       ],
       "metadata": {},
       "output_type": "display_data",
       "text": [
        "<IPython.core.display.Javascript at 0x10cbab950>"
       ]
      },
      {
       "javascript": [
        "$('div#a6e36a88-b630-46ad-8df8-a59f81930056').width('30%')"
       ],
       "metadata": {},
       "output_type": "display_data",
       "text": [
        "<IPython.core.display.Javascript at 0x10cbab950>"
       ]
      },
      {
       "javascript": [
        "$('div#a6e36a88-b630-46ad-8df8-a59f81930056').width('31%')"
       ],
       "metadata": {},
       "output_type": "display_data",
       "text": [
        "<IPython.core.display.Javascript at 0x10cbab950>"
       ]
      },
      {
       "javascript": [
        "$('div#a6e36a88-b630-46ad-8df8-a59f81930056').width('32%')"
       ],
       "metadata": {},
       "output_type": "display_data",
       "text": [
        "<IPython.core.display.Javascript at 0x10cbab950>"
       ]
      },
      {
       "javascript": [
        "$('div#a6e36a88-b630-46ad-8df8-a59f81930056').width('33%')"
       ],
       "metadata": {},
       "output_type": "display_data",
       "text": [
        "<IPython.core.display.Javascript at 0x10cbab950>"
       ]
      },
      {
       "javascript": [
        "$('div#a6e36a88-b630-46ad-8df8-a59f81930056').width('34%')"
       ],
       "metadata": {},
       "output_type": "display_data",
       "text": [
        "<IPython.core.display.Javascript at 0x10cbab950>"
       ]
      },
      {
       "javascript": [
        "$('div#a6e36a88-b630-46ad-8df8-a59f81930056').width('35%')"
       ],
       "metadata": {},
       "output_type": "display_data",
       "text": [
        "<IPython.core.display.Javascript at 0x10cbab950>"
       ]
      },
      {
       "javascript": [
        "$('div#a6e36a88-b630-46ad-8df8-a59f81930056').width('36%')"
       ],
       "metadata": {},
       "output_type": "display_data",
       "text": [
        "<IPython.core.display.Javascript at 0x10cbab950>"
       ]
      },
      {
       "javascript": [
        "$('div#a6e36a88-b630-46ad-8df8-a59f81930056').width('37%')"
       ],
       "metadata": {},
       "output_type": "display_data",
       "text": [
        "<IPython.core.display.Javascript at 0x10cbab950>"
       ]
      },
      {
       "javascript": [
        "$('div#a6e36a88-b630-46ad-8df8-a59f81930056').width('38%')"
       ],
       "metadata": {},
       "output_type": "display_data",
       "text": [
        "<IPython.core.display.Javascript at 0x10cbab950>"
       ]
      },
      {
       "javascript": [
        "$('div#a6e36a88-b630-46ad-8df8-a59f81930056').width('39%')"
       ],
       "metadata": {},
       "output_type": "display_data",
       "text": [
        "<IPython.core.display.Javascript at 0x10cbab950>"
       ]
      },
      {
       "javascript": [
        "$('div#a6e36a88-b630-46ad-8df8-a59f81930056').width('40%')"
       ],
       "metadata": {},
       "output_type": "display_data",
       "text": [
        "<IPython.core.display.Javascript at 0x10cbab950>"
       ]
      },
      {
       "javascript": [
        "$('div#a6e36a88-b630-46ad-8df8-a59f81930056').width('41%')"
       ],
       "metadata": {},
       "output_type": "display_data",
       "text": [
        "<IPython.core.display.Javascript at 0x10cbab950>"
       ]
      },
      {
       "javascript": [
        "$('div#a6e36a88-b630-46ad-8df8-a59f81930056').width('42%')"
       ],
       "metadata": {},
       "output_type": "display_data",
       "text": [
        "<IPython.core.display.Javascript at 0x10cbab950>"
       ]
      },
      {
       "javascript": [
        "$('div#a6e36a88-b630-46ad-8df8-a59f81930056').width('43%')"
       ],
       "metadata": {},
       "output_type": "display_data",
       "text": [
        "<IPython.core.display.Javascript at 0x10cbab950>"
       ]
      },
      {
       "javascript": [
        "$('div#a6e36a88-b630-46ad-8df8-a59f81930056').width('44%')"
       ],
       "metadata": {},
       "output_type": "display_data",
       "text": [
        "<IPython.core.display.Javascript at 0x10cbab950>"
       ]
      },
      {
       "javascript": [
        "$('div#a6e36a88-b630-46ad-8df8-a59f81930056').width('45%')"
       ],
       "metadata": {},
       "output_type": "display_data",
       "text": [
        "<IPython.core.display.Javascript at 0x10cbab950>"
       ]
      },
      {
       "javascript": [
        "$('div#a6e36a88-b630-46ad-8df8-a59f81930056').width('46%')"
       ],
       "metadata": {},
       "output_type": "display_data",
       "text": [
        "<IPython.core.display.Javascript at 0x10cbab950>"
       ]
      },
      {
       "javascript": [
        "$('div#a6e36a88-b630-46ad-8df8-a59f81930056').width('47%')"
       ],
       "metadata": {},
       "output_type": "display_data",
       "text": [
        "<IPython.core.display.Javascript at 0x10cbab950>"
       ]
      },
      {
       "javascript": [
        "$('div#a6e36a88-b630-46ad-8df8-a59f81930056').width('48%')"
       ],
       "metadata": {},
       "output_type": "display_data",
       "text": [
        "<IPython.core.display.Javascript at 0x10cbab950>"
       ]
      },
      {
       "javascript": [
        "$('div#a6e36a88-b630-46ad-8df8-a59f81930056').width('49%')"
       ],
       "metadata": {},
       "output_type": "display_data",
       "text": [
        "<IPython.core.display.Javascript at 0x10cbab950>"
       ]
      },
      {
       "javascript": [
        "$('div#a6e36a88-b630-46ad-8df8-a59f81930056').width('50%')"
       ],
       "metadata": {},
       "output_type": "display_data",
       "text": [
        "<IPython.core.display.Javascript at 0x10cbab950>"
       ]
      },
      {
       "javascript": [
        "$('div#a6e36a88-b630-46ad-8df8-a59f81930056').width('51%')"
       ],
       "metadata": {},
       "output_type": "display_data",
       "text": [
        "<IPython.core.display.Javascript at 0x10cbab950>"
       ]
      },
      {
       "javascript": [
        "$('div#a6e36a88-b630-46ad-8df8-a59f81930056').width('52%')"
       ],
       "metadata": {},
       "output_type": "display_data",
       "text": [
        "<IPython.core.display.Javascript at 0x10cbab950>"
       ]
      },
      {
       "javascript": [
        "$('div#a6e36a88-b630-46ad-8df8-a59f81930056').width('53%')"
       ],
       "metadata": {},
       "output_type": "display_data",
       "text": [
        "<IPython.core.display.Javascript at 0x10cbab950>"
       ]
      },
      {
       "javascript": [
        "$('div#a6e36a88-b630-46ad-8df8-a59f81930056').width('54%')"
       ],
       "metadata": {},
       "output_type": "display_data",
       "text": [
        "<IPython.core.display.Javascript at 0x10cbab950>"
       ]
      },
      {
       "javascript": [
        "$('div#a6e36a88-b630-46ad-8df8-a59f81930056').width('55%')"
       ],
       "metadata": {},
       "output_type": "display_data",
       "text": [
        "<IPython.core.display.Javascript at 0x10cbab950>"
       ]
      },
      {
       "javascript": [
        "$('div#a6e36a88-b630-46ad-8df8-a59f81930056').width('56%')"
       ],
       "metadata": {},
       "output_type": "display_data",
       "text": [
        "<IPython.core.display.Javascript at 0x10cbab950>"
       ]
      },
      {
       "javascript": [
        "$('div#a6e36a88-b630-46ad-8df8-a59f81930056').width('57%')"
       ],
       "metadata": {},
       "output_type": "display_data",
       "text": [
        "<IPython.core.display.Javascript at 0x10cbab950>"
       ]
      },
      {
       "javascript": [
        "$('div#a6e36a88-b630-46ad-8df8-a59f81930056').width('58%')"
       ],
       "metadata": {},
       "output_type": "display_data",
       "text": [
        "<IPython.core.display.Javascript at 0x10cbab950>"
       ]
      },
      {
       "javascript": [
        "$('div#a6e36a88-b630-46ad-8df8-a59f81930056').width('59%')"
       ],
       "metadata": {},
       "output_type": "display_data",
       "text": [
        "<IPython.core.display.Javascript at 0x10cbab950>"
       ]
      },
      {
       "javascript": [
        "$('div#a6e36a88-b630-46ad-8df8-a59f81930056').width('60%')"
       ],
       "metadata": {},
       "output_type": "display_data",
       "text": [
        "<IPython.core.display.Javascript at 0x10cbab950>"
       ]
      },
      {
       "javascript": [
        "$('div#a6e36a88-b630-46ad-8df8-a59f81930056').width('61%')"
       ],
       "metadata": {},
       "output_type": "display_data",
       "text": [
        "<IPython.core.display.Javascript at 0x10cbab950>"
       ]
      },
      {
       "javascript": [
        "$('div#a6e36a88-b630-46ad-8df8-a59f81930056').width('62%')"
       ],
       "metadata": {},
       "output_type": "display_data",
       "text": [
        "<IPython.core.display.Javascript at 0x10cbab950>"
       ]
      },
      {
       "javascript": [
        "$('div#a6e36a88-b630-46ad-8df8-a59f81930056').width('63%')"
       ],
       "metadata": {},
       "output_type": "display_data",
       "text": [
        "<IPython.core.display.Javascript at 0x10cbab950>"
       ]
      },
      {
       "javascript": [
        "$('div#a6e36a88-b630-46ad-8df8-a59f81930056').width('64%')"
       ],
       "metadata": {},
       "output_type": "display_data",
       "text": [
        "<IPython.core.display.Javascript at 0x10cbab950>"
       ]
      },
      {
       "javascript": [
        "$('div#a6e36a88-b630-46ad-8df8-a59f81930056').width('65%')"
       ],
       "metadata": {},
       "output_type": "display_data",
       "text": [
        "<IPython.core.display.Javascript at 0x10cbab950>"
       ]
      },
      {
       "javascript": [
        "$('div#a6e36a88-b630-46ad-8df8-a59f81930056').width('66%')"
       ],
       "metadata": {},
       "output_type": "display_data",
       "text": [
        "<IPython.core.display.Javascript at 0x10cbab950>"
       ]
      },
      {
       "javascript": [
        "$('div#a6e36a88-b630-46ad-8df8-a59f81930056').width('67%')"
       ],
       "metadata": {},
       "output_type": "display_data",
       "text": [
        "<IPython.core.display.Javascript at 0x10cbab950>"
       ]
      },
      {
       "javascript": [
        "$('div#a6e36a88-b630-46ad-8df8-a59f81930056').width('68%')"
       ],
       "metadata": {},
       "output_type": "display_data",
       "text": [
        "<IPython.core.display.Javascript at 0x10cbab950>"
       ]
      },
      {
       "javascript": [
        "$('div#a6e36a88-b630-46ad-8df8-a59f81930056').width('69%')"
       ],
       "metadata": {},
       "output_type": "display_data",
       "text": [
        "<IPython.core.display.Javascript at 0x10cbab950>"
       ]
      },
      {
       "javascript": [
        "$('div#a6e36a88-b630-46ad-8df8-a59f81930056').width('70%')"
       ],
       "metadata": {},
       "output_type": "display_data",
       "text": [
        "<IPython.core.display.Javascript at 0x10cbab950>"
       ]
      },
      {
       "javascript": [
        "$('div#a6e36a88-b630-46ad-8df8-a59f81930056').width('71%')"
       ],
       "metadata": {},
       "output_type": "display_data",
       "text": [
        "<IPython.core.display.Javascript at 0x10cbab950>"
       ]
      },
      {
       "javascript": [
        "$('div#a6e36a88-b630-46ad-8df8-a59f81930056').width('72%')"
       ],
       "metadata": {},
       "output_type": "display_data",
       "text": [
        "<IPython.core.display.Javascript at 0x10cbab950>"
       ]
      },
      {
       "javascript": [
        "$('div#a6e36a88-b630-46ad-8df8-a59f81930056').width('73%')"
       ],
       "metadata": {},
       "output_type": "display_data",
       "text": [
        "<IPython.core.display.Javascript at 0x10cbab950>"
       ]
      },
      {
       "javascript": [
        "$('div#a6e36a88-b630-46ad-8df8-a59f81930056').width('74%')"
       ],
       "metadata": {},
       "output_type": "display_data",
       "text": [
        "<IPython.core.display.Javascript at 0x10cbab950>"
       ]
      },
      {
       "javascript": [
        "$('div#a6e36a88-b630-46ad-8df8-a59f81930056').width('75%')"
       ],
       "metadata": {},
       "output_type": "display_data",
       "text": [
        "<IPython.core.display.Javascript at 0x10cbab950>"
       ]
      },
      {
       "javascript": [
        "$('div#a6e36a88-b630-46ad-8df8-a59f81930056').width('76%')"
       ],
       "metadata": {},
       "output_type": "display_data",
       "text": [
        "<IPython.core.display.Javascript at 0x10cbab950>"
       ]
      },
      {
       "javascript": [
        "$('div#a6e36a88-b630-46ad-8df8-a59f81930056').width('77%')"
       ],
       "metadata": {},
       "output_type": "display_data",
       "text": [
        "<IPython.core.display.Javascript at 0x10cbab950>"
       ]
      },
      {
       "javascript": [
        "$('div#a6e36a88-b630-46ad-8df8-a59f81930056').width('78%')"
       ],
       "metadata": {},
       "output_type": "display_data",
       "text": [
        "<IPython.core.display.Javascript at 0x10cbab950>"
       ]
      },
      {
       "javascript": [
        "$('div#a6e36a88-b630-46ad-8df8-a59f81930056').width('79%')"
       ],
       "metadata": {},
       "output_type": "display_data",
       "text": [
        "<IPython.core.display.Javascript at 0x10cbab950>"
       ]
      },
      {
       "javascript": [
        "$('div#a6e36a88-b630-46ad-8df8-a59f81930056').width('80%')"
       ],
       "metadata": {},
       "output_type": "display_data",
       "text": [
        "<IPython.core.display.Javascript at 0x10cbab950>"
       ]
      },
      {
       "javascript": [
        "$('div#a6e36a88-b630-46ad-8df8-a59f81930056').width('81%')"
       ],
       "metadata": {},
       "output_type": "display_data",
       "text": [
        "<IPython.core.display.Javascript at 0x10cbab950>"
       ]
      },
      {
       "javascript": [
        "$('div#a6e36a88-b630-46ad-8df8-a59f81930056').width('82%')"
       ],
       "metadata": {},
       "output_type": "display_data",
       "text": [
        "<IPython.core.display.Javascript at 0x10cbab950>"
       ]
      },
      {
       "javascript": [
        "$('div#a6e36a88-b630-46ad-8df8-a59f81930056').width('83%')"
       ],
       "metadata": {},
       "output_type": "display_data",
       "text": [
        "<IPython.core.display.Javascript at 0x10cbab950>"
       ]
      },
      {
       "javascript": [
        "$('div#a6e36a88-b630-46ad-8df8-a59f81930056').width('84%')"
       ],
       "metadata": {},
       "output_type": "display_data",
       "text": [
        "<IPython.core.display.Javascript at 0x10cbab950>"
       ]
      },
      {
       "javascript": [
        "$('div#a6e36a88-b630-46ad-8df8-a59f81930056').width('85%')"
       ],
       "metadata": {},
       "output_type": "display_data",
       "text": [
        "<IPython.core.display.Javascript at 0x10cbab950>"
       ]
      },
      {
       "javascript": [
        "$('div#a6e36a88-b630-46ad-8df8-a59f81930056').width('86%')"
       ],
       "metadata": {},
       "output_type": "display_data",
       "text": [
        "<IPython.core.display.Javascript at 0x10cbab950>"
       ]
      },
      {
       "javascript": [
        "$('div#a6e36a88-b630-46ad-8df8-a59f81930056').width('87%')"
       ],
       "metadata": {},
       "output_type": "display_data",
       "text": [
        "<IPython.core.display.Javascript at 0x10cbab950>"
       ]
      },
      {
       "javascript": [
        "$('div#a6e36a88-b630-46ad-8df8-a59f81930056').width('88%')"
       ],
       "metadata": {},
       "output_type": "display_data",
       "text": [
        "<IPython.core.display.Javascript at 0x10cbab950>"
       ]
      },
      {
       "javascript": [
        "$('div#a6e36a88-b630-46ad-8df8-a59f81930056').width('89%')"
       ],
       "metadata": {},
       "output_type": "display_data",
       "text": [
        "<IPython.core.display.Javascript at 0x10cbab950>"
       ]
      },
      {
       "javascript": [
        "$('div#a6e36a88-b630-46ad-8df8-a59f81930056').width('90%')"
       ],
       "metadata": {},
       "output_type": "display_data",
       "text": [
        "<IPython.core.display.Javascript at 0x10cbab950>"
       ]
      },
      {
       "javascript": [
        "$('div#a6e36a88-b630-46ad-8df8-a59f81930056').width('91%')"
       ],
       "metadata": {},
       "output_type": "display_data",
       "text": [
        "<IPython.core.display.Javascript at 0x10cbab950>"
       ]
      },
      {
       "javascript": [
        "$('div#a6e36a88-b630-46ad-8df8-a59f81930056').width('92%')"
       ],
       "metadata": {},
       "output_type": "display_data",
       "text": [
        "<IPython.core.display.Javascript at 0x10cbab950>"
       ]
      },
      {
       "javascript": [
        "$('div#a6e36a88-b630-46ad-8df8-a59f81930056').width('93%')"
       ],
       "metadata": {},
       "output_type": "display_data",
       "text": [
        "<IPython.core.display.Javascript at 0x10cbab950>"
       ]
      },
      {
       "javascript": [
        "$('div#a6e36a88-b630-46ad-8df8-a59f81930056').width('94%')"
       ],
       "metadata": {},
       "output_type": "display_data",
       "text": [
        "<IPython.core.display.Javascript at 0x10cbab950>"
       ]
      },
      {
       "javascript": [
        "$('div#a6e36a88-b630-46ad-8df8-a59f81930056').width('95%')"
       ],
       "metadata": {},
       "output_type": "display_data",
       "text": [
        "<IPython.core.display.Javascript at 0x10cbab950>"
       ]
      },
      {
       "javascript": [
        "$('div#a6e36a88-b630-46ad-8df8-a59f81930056').width('96%')"
       ],
       "metadata": {},
       "output_type": "display_data",
       "text": [
        "<IPython.core.display.Javascript at 0x10cbab950>"
       ]
      },
      {
       "javascript": [
        "$('div#a6e36a88-b630-46ad-8df8-a59f81930056').width('97%')"
       ],
       "metadata": {},
       "output_type": "display_data",
       "text": [
        "<IPython.core.display.Javascript at 0x10cbab950>"
       ]
      },
      {
       "javascript": [
        "$('div#a6e36a88-b630-46ad-8df8-a59f81930056').width('98%')"
       ],
       "metadata": {},
       "output_type": "display_data",
       "text": [
        "<IPython.core.display.Javascript at 0x10cbab950>"
       ]
      },
      {
       "javascript": [
        "$('div#a6e36a88-b630-46ad-8df8-a59f81930056').width('99%')"
       ],
       "metadata": {},
       "output_type": "display_data",
       "text": [
        "<IPython.core.display.Javascript at 0x10cbab950>"
       ]
      },
      {
       "javascript": [
        "$('div#a6e36a88-b630-46ad-8df8-a59f81930056').width('100%')"
       ],
       "metadata": {},
       "output_type": "display_data",
       "text": [
        "<IPython.core.display.Javascript at 0x10cbabd50>"
       ]
      },
      {
       "metadata": {},
       "output_type": "display_data",
       "png": "[encoded data removed]",
       "text": [
        "<matplotlib.figure.Figure at 0x10cbabe90>"
       ]
      }
     ],
     "prompt_number": 6
    },
    {
     "cell_type": "code",
     "collapsed": false,
     "input": [
      "# Sample with method 3\n",
      "sampler.set_node_sampling_method_manual('x',method3)\n",
      "graph.set_node_value('x',numpy.ones((1,N_dim)) ) \n",
      "sampler.tracer.reset_trace()\n",
      "sampler.sample_x()\n",
      "\n",
      "sampler.tracer.display.plot_histogram(0,range_plot=[-10,10],subplot=[1,2,1])\n",
      "sampler.tracer.display.plot_histogram(1,range_plot=[-10,10],subplot=[1,2,1])\n",
      "sampler.tracer.display.plot_histogram_bivariate(0,1,range_plot=[[-10,10],[-10,10]],subplot=[1,2,2])"
     ],
     "language": "python",
     "metadata": {},
     "outputs": [
      {
       "html": [
        "\n",
        "        <div style=\"border: 1px solid white; width:100%%; height:6px; background-color:rgb(246,228,200)\">\n",
        "            <div id=\"166f7c45-d5da-48f9-b9a7-09955544a432\" style=\"background-color:rgb(246,128,47); width:0%; height:6px\"> </div>\n",
        "        </div> \n",
        "        "
       ],
       "metadata": {},
       "output_type": "display_data",
       "text": [
        "<IPython.core.display.HTML at 0x10cb5dad0>"
       ]
      },
      {
       "javascript": [
        "$('div#166f7c45-d5da-48f9-b9a7-09955544a432').width('1%')"
       ],
       "metadata": {},
       "output_type": "display_data",
       "text": [
        "<IPython.core.display.Javascript at 0x10cb5da10>"
       ]
      },
      {
       "javascript": [
        "$('div#166f7c45-d5da-48f9-b9a7-09955544a432').width('100%')"
       ],
       "metadata": {},
       "output_type": "display_data",
       "text": [
        "<IPython.core.display.Javascript at 0x10cb5da90>"
       ]
      },
      {
       "metadata": {},
       "output_type": "display_data",
       "png": "[encoded data removed]",
       "text": [
        "<matplotlib.figure.Figure at 0x10cb5db50>"
       ]
      }
     ],
     "prompt_number": 7
    },
    {
     "cell_type": "code",
     "collapsed": false,
     "input": [
      "# Sample method 4\n",
      "sampler.set_node_sampling_method_manual('x',method4)\n",
      "graph.set_node_value('x',numpy.ones((1,N_dim)) ) \n",
      "sampler.tracer.reset_trace()\n",
      "sampler.sample_x(N_samples)\n",
      "\n",
      "sampler.tracer.display.plot_histogram(0,range_plot=[-10,10],subplot=[1,2,1])\n",
      "sampler.tracer.display.plot_histogram(1,range_plot=[-10,10],subplot=[1,2,1])\n",
      "sampler.tracer.display.plot_histogram_bivariate(0,1,range_plot=[[-10,10],[-10,10]],subplot=[1,2,2])"
     ],
     "language": "python",
     "metadata": {},
     "outputs": [
      {
       "html": [
        "\n",
        "        <div style=\"border: 1px solid white; width:100%%; height:6px; background-color:rgb(246,228,200)\">\n",
        "            <div id=\"51c8f2a9-67c9-4ead-a5e9-feb8a2722bfa\" style=\"background-color:rgb(246,128,47); width:0%; height:6px\"> </div>\n",
        "        </div> \n",
        "        "
       ],
       "metadata": {},
       "output_type": "display_data",
       "text": [
        "<IPython.core.display.HTML at 0x10cad5610>"
       ]
      },
      {
       "javascript": [
        "$('div#51c8f2a9-67c9-4ead-a5e9-feb8a2722bfa').width('1%')"
       ],
       "metadata": {},
       "output_type": "display_data",
       "text": [
        "<IPython.core.display.Javascript at 0x10cad55d0>"
       ]
      },
      {
       "javascript": [
        "$('div#51c8f2a9-67c9-4ead-a5e9-feb8a2722bfa').width('2%')"
       ],
       "metadata": {},
       "output_type": "display_data",
       "text": [
        "<IPython.core.display.Javascript at 0x10cad55d0>"
       ]
      },
      {
       "javascript": [
        "$('div#51c8f2a9-67c9-4ead-a5e9-feb8a2722bfa').width('3%')"
       ],
       "metadata": {},
       "output_type": "display_data",
       "text": [
        "<IPython.core.display.Javascript at 0x10cad55d0>"
       ]
      },
      {
       "javascript": [
        "$('div#51c8f2a9-67c9-4ead-a5e9-feb8a2722bfa').width('4%')"
       ],
       "metadata": {},
       "output_type": "display_data",
       "text": [
        "<IPython.core.display.Javascript at 0x10cad55d0>"
       ]
      },
      {
       "javascript": [
        "$('div#51c8f2a9-67c9-4ead-a5e9-feb8a2722bfa').width('5%')"
       ],
       "metadata": {},
       "output_type": "display_data",
       "text": [
        "<IPython.core.display.Javascript at 0x10cad55d0>"
       ]
      },
      {
       "javascript": [
        "$('div#51c8f2a9-67c9-4ead-a5e9-feb8a2722bfa').width('6%')"
       ],
       "metadata": {},
       "output_type": "display_data",
       "text": [
        "<IPython.core.display.Javascript at 0x10cad55d0>"
       ]
      },
      {
       "javascript": [
        "$('div#51c8f2a9-67c9-4ead-a5e9-feb8a2722bfa').width('7%')"
       ],
       "metadata": {},
       "output_type": "display_data",
       "text": [
        "<IPython.core.display.Javascript at 0x10cad55d0>"
       ]
      },
      {
       "javascript": [
        "$('div#51c8f2a9-67c9-4ead-a5e9-feb8a2722bfa').width('8%')"
       ],
       "metadata": {},
       "output_type": "display_data",
       "text": [
        "<IPython.core.display.Javascript at 0x10cad55d0>"
       ]
      },
      {
       "javascript": [
        "$('div#51c8f2a9-67c9-4ead-a5e9-feb8a2722bfa').width('9%')"
       ],
       "metadata": {},
       "output_type": "display_data",
       "text": [
        "<IPython.core.display.Javascript at 0x10cad55d0>"
       ]
      },
      {
       "javascript": [
        "$('div#51c8f2a9-67c9-4ead-a5e9-feb8a2722bfa').width('10%')"
       ],
       "metadata": {},
       "output_type": "display_data",
       "text": [
        "<IPython.core.display.Javascript at 0x10cad55d0>"
       ]
      },
      {
       "javascript": [
        "$('div#51c8f2a9-67c9-4ead-a5e9-feb8a2722bfa').width('11%')"
       ],
       "metadata": {},
       "output_type": "display_data",
       "text": [
        "<IPython.core.display.Javascript at 0x10cad55d0>"
       ]
      },
      {
       "javascript": [
        "$('div#51c8f2a9-67c9-4ead-a5e9-feb8a2722bfa').width('12%')"
       ],
       "metadata": {},
       "output_type": "display_data",
       "text": [
        "<IPython.core.display.Javascript at 0x10cad55d0>"
       ]
      },
      {
       "javascript": [
        "$('div#51c8f2a9-67c9-4ead-a5e9-feb8a2722bfa').width('13%')"
       ],
       "metadata": {},
       "output_type": "display_data",
       "text": [
        "<IPython.core.display.Javascript at 0x10cad55d0>"
       ]
      },
      {
       "javascript": [
        "$('div#51c8f2a9-67c9-4ead-a5e9-feb8a2722bfa').width('14%')"
       ],
       "metadata": {},
       "output_type": "display_data",
       "text": [
        "<IPython.core.display.Javascript at 0x10cad55d0>"
       ]
      },
      {
       "javascript": [
        "$('div#51c8f2a9-67c9-4ead-a5e9-feb8a2722bfa').width('15%')"
       ],
       "metadata": {},
       "output_type": "display_data",
       "text": [
        "<IPython.core.display.Javascript at 0x10cad55d0>"
       ]
      },
      {
       "javascript": [
        "$('div#51c8f2a9-67c9-4ead-a5e9-feb8a2722bfa').width('16%')"
       ],
       "metadata": {},
       "output_type": "display_data",
       "text": [
        "<IPython.core.display.Javascript at 0x10cad55d0>"
       ]
      },
      {
       "javascript": [
        "$('div#51c8f2a9-67c9-4ead-a5e9-feb8a2722bfa').width('17%')"
       ],
       "metadata": {},
       "output_type": "display_data",
       "text": [
        "<IPython.core.display.Javascript at 0x10cad55d0>"
       ]
      },
      {
       "javascript": [
        "$('div#51c8f2a9-67c9-4ead-a5e9-feb8a2722bfa').width('18%')"
       ],
       "metadata": {},
       "output_type": "display_data",
       "text": [
        "<IPython.core.display.Javascript at 0x10cad55d0>"
       ]
      },
      {
       "javascript": [
        "$('div#51c8f2a9-67c9-4ead-a5e9-feb8a2722bfa').width('19%')"
       ],
       "metadata": {},
       "output_type": "display_data",
       "text": [
        "<IPython.core.display.Javascript at 0x10cad55d0>"
       ]
      },
      {
       "javascript": [
        "$('div#51c8f2a9-67c9-4ead-a5e9-feb8a2722bfa').width('20%')"
       ],
       "metadata": {},
       "output_type": "display_data",
       "text": [
        "<IPython.core.display.Javascript at 0x10cad55d0>"
       ]
      },
      {
       "javascript": [
        "$('div#51c8f2a9-67c9-4ead-a5e9-feb8a2722bfa').width('21%')"
       ],
       "metadata": {},
       "output_type": "display_data",
       "text": [
        "<IPython.core.display.Javascript at 0x10cad55d0>"
       ]
      },
      {
       "javascript": [
        "$('div#51c8f2a9-67c9-4ead-a5e9-feb8a2722bfa').width('22%')"
       ],
       "metadata": {},
       "output_type": "display_data",
       "text": [
        "<IPython.core.display.Javascript at 0x10cad55d0>"
       ]
      },
      {
       "javascript": [
        "$('div#51c8f2a9-67c9-4ead-a5e9-feb8a2722bfa').width('23%')"
       ],
       "metadata": {},
       "output_type": "display_data",
       "text": [
        "<IPython.core.display.Javascript at 0x10cad55d0>"
       ]
      },
      {
       "javascript": [
        "$('div#51c8f2a9-67c9-4ead-a5e9-feb8a2722bfa').width('24%')"
       ],
       "metadata": {},
       "output_type": "display_data",
       "text": [
        "<IPython.core.display.Javascript at 0x10cad55d0>"
       ]
      },
      {
       "javascript": [
        "$('div#51c8f2a9-67c9-4ead-a5e9-feb8a2722bfa').width('25%')"
       ],
       "metadata": {},
       "output_type": "display_data",
       "text": [
        "<IPython.core.display.Javascript at 0x10cad55d0>"
       ]
      },
      {
       "javascript": [
        "$('div#51c8f2a9-67c9-4ead-a5e9-feb8a2722bfa').width('26%')"
       ],
       "metadata": {},
       "output_type": "display_data",
       "text": [
        "<IPython.core.display.Javascript at 0x10cad55d0>"
       ]
      },
      {
       "javascript": [
        "$('div#51c8f2a9-67c9-4ead-a5e9-feb8a2722bfa').width('27%')"
       ],
       "metadata": {},
       "output_type": "display_data",
       "text": [
        "<IPython.core.display.Javascript at 0x10cad55d0>"
       ]
      },
      {
       "javascript": [
        "$('div#51c8f2a9-67c9-4ead-a5e9-feb8a2722bfa').width('28%')"
       ],
       "metadata": {},
       "output_type": "display_data",
       "text": [
        "<IPython.core.display.Javascript at 0x10cad55d0>"
       ]
      },
      {
       "javascript": [
        "$('div#51c8f2a9-67c9-4ead-a5e9-feb8a2722bfa').width('29%')"
       ],
       "metadata": {},
       "output_type": "display_data",
       "text": [
        "<IPython.core.display.Javascript at 0x10cad55d0>"
       ]
      },
      {
       "javascript": [
        "$('div#51c8f2a9-67c9-4ead-a5e9-feb8a2722bfa').width('30%')"
       ],
       "metadata": {},
       "output_type": "display_data",
       "text": [
        "<IPython.core.display.Javascript at 0x10cad55d0>"
       ]
      },
      {
       "javascript": [
        "$('div#51c8f2a9-67c9-4ead-a5e9-feb8a2722bfa').width('31%')"
       ],
       "metadata": {},
       "output_type": "display_data",
       "text": [
        "<IPython.core.display.Javascript at 0x10cad55d0>"
       ]
      },
      {
       "javascript": [
        "$('div#51c8f2a9-67c9-4ead-a5e9-feb8a2722bfa').width('32%')"
       ],
       "metadata": {},
       "output_type": "display_data",
       "text": [
        "<IPython.core.display.Javascript at 0x10cad55d0>"
       ]
      },
      {
       "javascript": [
        "$('div#51c8f2a9-67c9-4ead-a5e9-feb8a2722bfa').width('33%')"
       ],
       "metadata": {},
       "output_type": "display_data",
       "text": [
        "<IPython.core.display.Javascript at 0x10cad55d0>"
       ]
      },
      {
       "javascript": [
        "$('div#51c8f2a9-67c9-4ead-a5e9-feb8a2722bfa').width('34%')"
       ],
       "metadata": {},
       "output_type": "display_data",
       "text": [
        "<IPython.core.display.Javascript at 0x10cad55d0>"
       ]
      },
      {
       "javascript": [
        "$('div#51c8f2a9-67c9-4ead-a5e9-feb8a2722bfa').width('35%')"
       ],
       "metadata": {},
       "output_type": "display_data",
       "text": [
        "<IPython.core.display.Javascript at 0x10cad55d0>"
       ]
      },
      {
       "javascript": [
        "$('div#51c8f2a9-67c9-4ead-a5e9-feb8a2722bfa').width('36%')"
       ],
       "metadata": {},
       "output_type": "display_data",
       "text": [
        "<IPython.core.display.Javascript at 0x10cad55d0>"
       ]
      },
      {
       "javascript": [
        "$('div#51c8f2a9-67c9-4ead-a5e9-feb8a2722bfa').width('37%')"
       ],
       "metadata": {},
       "output_type": "display_data",
       "text": [
        "<IPython.core.display.Javascript at 0x10cad55d0>"
       ]
      },
      {
       "javascript": [
        "$('div#51c8f2a9-67c9-4ead-a5e9-feb8a2722bfa').width('38%')"
       ],
       "metadata": {},
       "output_type": "display_data",
       "text": [
        "<IPython.core.display.Javascript at 0x10cad55d0>"
       ]
      },
      {
       "javascript": [
        "$('div#51c8f2a9-67c9-4ead-a5e9-feb8a2722bfa').width('39%')"
       ],
       "metadata": {},
       "output_type": "display_data",
       "text": [
        "<IPython.core.display.Javascript at 0x10cad55d0>"
       ]
      },
      {
       "javascript": [
        "$('div#51c8f2a9-67c9-4ead-a5e9-feb8a2722bfa').width('40%')"
       ],
       "metadata": {},
       "output_type": "display_data",
       "text": [
        "<IPython.core.display.Javascript at 0x10cad55d0>"
       ]
      },
      {
       "javascript": [
        "$('div#51c8f2a9-67c9-4ead-a5e9-feb8a2722bfa').width('41%')"
       ],
       "metadata": {},
       "output_type": "display_data",
       "text": [
        "<IPython.core.display.Javascript at 0x10cad55d0>"
       ]
      },
      {
       "javascript": [
        "$('div#51c8f2a9-67c9-4ead-a5e9-feb8a2722bfa').width('42%')"
       ],
       "metadata": {},
       "output_type": "display_data",
       "text": [
        "<IPython.core.display.Javascript at 0x10cad55d0>"
       ]
      },
      {
       "javascript": [
        "$('div#51c8f2a9-67c9-4ead-a5e9-feb8a2722bfa').width('43%')"
       ],
       "metadata": {},
       "output_type": "display_data",
       "text": [
        "<IPython.core.display.Javascript at 0x10cad55d0>"
       ]
      },
      {
       "javascript": [
        "$('div#51c8f2a9-67c9-4ead-a5e9-feb8a2722bfa').width('44%')"
       ],
       "metadata": {},
       "output_type": "display_data",
       "text": [
        "<IPython.core.display.Javascript at 0x10cad55d0>"
       ]
      },
      {
       "javascript": [
        "$('div#51c8f2a9-67c9-4ead-a5e9-feb8a2722bfa').width('45%')"
       ],
       "metadata": {},
       "output_type": "display_data",
       "text": [
        "<IPython.core.display.Javascript at 0x10cad55d0>"
       ]
      },
      {
       "javascript": [
        "$('div#51c8f2a9-67c9-4ead-a5e9-feb8a2722bfa').width('46%')"
       ],
       "metadata": {},
       "output_type": "display_data",
       "text": [
        "<IPython.core.display.Javascript at 0x10cad55d0>"
       ]
      },
      {
       "javascript": [
        "$('div#51c8f2a9-67c9-4ead-a5e9-feb8a2722bfa').width('47%')"
       ],
       "metadata": {},
       "output_type": "display_data",
       "text": [
        "<IPython.core.display.Javascript at 0x10cad55d0>"
       ]
      },
      {
       "javascript": [
        "$('div#51c8f2a9-67c9-4ead-a5e9-feb8a2722bfa').width('48%')"
       ],
       "metadata": {},
       "output_type": "display_data",
       "text": [
        "<IPython.core.display.Javascript at 0x10cad55d0>"
       ]
      },
      {
       "javascript": [
        "$('div#51c8f2a9-67c9-4ead-a5e9-feb8a2722bfa').width('49%')"
       ],
       "metadata": {},
       "output_type": "display_data",
       "text": [
        "<IPython.core.display.Javascript at 0x10cad55d0>"
       ]
      },
      {
       "javascript": [
        "$('div#51c8f2a9-67c9-4ead-a5e9-feb8a2722bfa').width('50%')"
       ],
       "metadata": {},
       "output_type": "display_data",
       "text": [
        "<IPython.core.display.Javascript at 0x10cad55d0>"
       ]
      },
      {
       "javascript": [
        "$('div#51c8f2a9-67c9-4ead-a5e9-feb8a2722bfa').width('51%')"
       ],
       "metadata": {},
       "output_type": "display_data",
       "text": [
        "<IPython.core.display.Javascript at 0x10cad55d0>"
       ]
      },
      {
       "javascript": [
        "$('div#51c8f2a9-67c9-4ead-a5e9-feb8a2722bfa').width('52%')"
       ],
       "metadata": {},
       "output_type": "display_data",
       "text": [
        "<IPython.core.display.Javascript at 0x10cad55d0>"
       ]
      },
      {
       "javascript": [
        "$('div#51c8f2a9-67c9-4ead-a5e9-feb8a2722bfa').width('53%')"
       ],
       "metadata": {},
       "output_type": "display_data",
       "text": [
        "<IPython.core.display.Javascript at 0x10cad55d0>"
       ]
      },
      {
       "javascript": [
        "$('div#51c8f2a9-67c9-4ead-a5e9-feb8a2722bfa').width('54%')"
       ],
       "metadata": {},
       "output_type": "display_data",
       "text": [
        "<IPython.core.display.Javascript at 0x10cad55d0>"
       ]
      },
      {
       "javascript": [
        "$('div#51c8f2a9-67c9-4ead-a5e9-feb8a2722bfa').width('55%')"
       ],
       "metadata": {},
       "output_type": "display_data",
       "text": [
        "<IPython.core.display.Javascript at 0x10cad55d0>"
       ]
      },
      {
       "javascript": [
        "$('div#51c8f2a9-67c9-4ead-a5e9-feb8a2722bfa').width('56%')"
       ],
       "metadata": {},
       "output_type": "display_data",
       "text": [
        "<IPython.core.display.Javascript at 0x10cad55d0>"
       ]
      },
      {
       "javascript": [
        "$('div#51c8f2a9-67c9-4ead-a5e9-feb8a2722bfa').width('57%')"
       ],
       "metadata": {},
       "output_type": "display_data",
       "text": [
        "<IPython.core.display.Javascript at 0x10cad55d0>"
       ]
      },
      {
       "javascript": [
        "$('div#51c8f2a9-67c9-4ead-a5e9-feb8a2722bfa').width('58%')"
       ],
       "metadata": {},
       "output_type": "display_data",
       "text": [
        "<IPython.core.display.Javascript at 0x10cad55d0>"
       ]
      },
      {
       "javascript": [
        "$('div#51c8f2a9-67c9-4ead-a5e9-feb8a2722bfa').width('59%')"
       ],
       "metadata": {},
       "output_type": "display_data",
       "text": [
        "<IPython.core.display.Javascript at 0x10cad55d0>"
       ]
      },
      {
       "javascript": [
        "$('div#51c8f2a9-67c9-4ead-a5e9-feb8a2722bfa').width('60%')"
       ],
       "metadata": {},
       "output_type": "display_data",
       "text": [
        "<IPython.core.display.Javascript at 0x10cad55d0>"
       ]
      },
      {
       "javascript": [
        "$('div#51c8f2a9-67c9-4ead-a5e9-feb8a2722bfa').width('61%')"
       ],
       "metadata": {},
       "output_type": "display_data",
       "text": [
        "<IPython.core.display.Javascript at 0x10cad55d0>"
       ]
      },
      {
       "javascript": [
        "$('div#51c8f2a9-67c9-4ead-a5e9-feb8a2722bfa').width('62%')"
       ],
       "metadata": {},
       "output_type": "display_data",
       "text": [
        "<IPython.core.display.Javascript at 0x10cad55d0>"
       ]
      },
      {
       "javascript": [
        "$('div#51c8f2a9-67c9-4ead-a5e9-feb8a2722bfa').width('63%')"
       ],
       "metadata": {},
       "output_type": "display_data",
       "text": [
        "<IPython.core.display.Javascript at 0x10cad55d0>"
       ]
      },
      {
       "javascript": [
        "$('div#51c8f2a9-67c9-4ead-a5e9-feb8a2722bfa').width('64%')"
       ],
       "metadata": {},
       "output_type": "display_data",
       "text": [
        "<IPython.core.display.Javascript at 0x10cad55d0>"
       ]
      },
      {
       "javascript": [
        "$('div#51c8f2a9-67c9-4ead-a5e9-feb8a2722bfa').width('65%')"
       ],
       "metadata": {},
       "output_type": "display_data",
       "text": [
        "<IPython.core.display.Javascript at 0x10cad55d0>"
       ]
      },
      {
       "javascript": [
        "$('div#51c8f2a9-67c9-4ead-a5e9-feb8a2722bfa').width('66%')"
       ],
       "metadata": {},
       "output_type": "display_data",
       "text": [
        "<IPython.core.display.Javascript at 0x10cad55d0>"
       ]
      },
      {
       "javascript": [
        "$('div#51c8f2a9-67c9-4ead-a5e9-feb8a2722bfa').width('67%')"
       ],
       "metadata": {},
       "output_type": "display_data",
       "text": [
        "<IPython.core.display.Javascript at 0x10cad55d0>"
       ]
      },
      {
       "javascript": [
        "$('div#51c8f2a9-67c9-4ead-a5e9-feb8a2722bfa').width('68%')"
       ],
       "metadata": {},
       "output_type": "display_data",
       "text": [
        "<IPython.core.display.Javascript at 0x10cad55d0>"
       ]
      },
      {
       "javascript": [
        "$('div#51c8f2a9-67c9-4ead-a5e9-feb8a2722bfa').width('69%')"
       ],
       "metadata": {},
       "output_type": "display_data",
       "text": [
        "<IPython.core.display.Javascript at 0x10cad55d0>"
       ]
      },
      {
       "javascript": [
        "$('div#51c8f2a9-67c9-4ead-a5e9-feb8a2722bfa').width('70%')"
       ],
       "metadata": {},
       "output_type": "display_data",
       "text": [
        "<IPython.core.display.Javascript at 0x10cad55d0>"
       ]
      },
      {
       "javascript": [
        "$('div#51c8f2a9-67c9-4ead-a5e9-feb8a2722bfa').width('71%')"
       ],
       "metadata": {},
       "output_type": "display_data",
       "text": [
        "<IPython.core.display.Javascript at 0x10cad55d0>"
       ]
      },
      {
       "javascript": [
        "$('div#51c8f2a9-67c9-4ead-a5e9-feb8a2722bfa').width('72%')"
       ],
       "metadata": {},
       "output_type": "display_data",
       "text": [
        "<IPython.core.display.Javascript at 0x10cad55d0>"
       ]
      },
      {
       "javascript": [
        "$('div#51c8f2a9-67c9-4ead-a5e9-feb8a2722bfa').width('73%')"
       ],
       "metadata": {},
       "output_type": "display_data",
       "text": [
        "<IPython.core.display.Javascript at 0x10cad55d0>"
       ]
      },
      {
       "javascript": [
        "$('div#51c8f2a9-67c9-4ead-a5e9-feb8a2722bfa').width('74%')"
       ],
       "metadata": {},
       "output_type": "display_data",
       "text": [
        "<IPython.core.display.Javascript at 0x10cad55d0>"
       ]
      },
      {
       "javascript": [
        "$('div#51c8f2a9-67c9-4ead-a5e9-feb8a2722bfa').width('75%')"
       ],
       "metadata": {},
       "output_type": "display_data",
       "text": [
        "<IPython.core.display.Javascript at 0x10cad55d0>"
       ]
      },
      {
       "javascript": [
        "$('div#51c8f2a9-67c9-4ead-a5e9-feb8a2722bfa').width('76%')"
       ],
       "metadata": {},
       "output_type": "display_data",
       "text": [
        "<IPython.core.display.Javascript at 0x10cad55d0>"
       ]
      },
      {
       "javascript": [
        "$('div#51c8f2a9-67c9-4ead-a5e9-feb8a2722bfa').width('77%')"
       ],
       "metadata": {},
       "output_type": "display_data",
       "text": [
        "<IPython.core.display.Javascript at 0x10cad55d0>"
       ]
      },
      {
       "javascript": [
        "$('div#51c8f2a9-67c9-4ead-a5e9-feb8a2722bfa').width('78%')"
       ],
       "metadata": {},
       "output_type": "display_data",
       "text": [
        "<IPython.core.display.Javascript at 0x10cad55d0>"
       ]
      },
      {
       "javascript": [
        "$('div#51c8f2a9-67c9-4ead-a5e9-feb8a2722bfa').width('79%')"
       ],
       "metadata": {},
       "output_type": "display_data",
       "text": [
        "<IPython.core.display.Javascript at 0x10cad55d0>"
       ]
      },
      {
       "javascript": [
        "$('div#51c8f2a9-67c9-4ead-a5e9-feb8a2722bfa').width('80%')"
       ],
       "metadata": {},
       "output_type": "display_data",
       "text": [
        "<IPython.core.display.Javascript at 0x10cad55d0>"
       ]
      },
      {
       "javascript": [
        "$('div#51c8f2a9-67c9-4ead-a5e9-feb8a2722bfa').width('81%')"
       ],
       "metadata": {},
       "output_type": "display_data",
       "text": [
        "<IPython.core.display.Javascript at 0x10cad55d0>"
       ]
      },
      {
       "javascript": [
        "$('div#51c8f2a9-67c9-4ead-a5e9-feb8a2722bfa').width('82%')"
       ],
       "metadata": {},
       "output_type": "display_data",
       "text": [
        "<IPython.core.display.Javascript at 0x10cad55d0>"
       ]
      },
      {
       "javascript": [
        "$('div#51c8f2a9-67c9-4ead-a5e9-feb8a2722bfa').width('83%')"
       ],
       "metadata": {},
       "output_type": "display_data",
       "text": [
        "<IPython.core.display.Javascript at 0x10cad55d0>"
       ]
      },
      {
       "javascript": [
        "$('div#51c8f2a9-67c9-4ead-a5e9-feb8a2722bfa').width('84%')"
       ],
       "metadata": {},
       "output_type": "display_data",
       "text": [
        "<IPython.core.display.Javascript at 0x10cad55d0>"
       ]
      },
      {
       "javascript": [
        "$('div#51c8f2a9-67c9-4ead-a5e9-feb8a2722bfa').width('85%')"
       ],
       "metadata": {},
       "output_type": "display_data",
       "text": [
        "<IPython.core.display.Javascript at 0x10cad55d0>"
       ]
      },
      {
       "javascript": [
        "$('div#51c8f2a9-67c9-4ead-a5e9-feb8a2722bfa').width('86%')"
       ],
       "metadata": {},
       "output_type": "display_data",
       "text": [
        "<IPython.core.display.Javascript at 0x10cad55d0>"
       ]
      },
      {
       "javascript": [
        "$('div#51c8f2a9-67c9-4ead-a5e9-feb8a2722bfa').width('87%')"
       ],
       "metadata": {},
       "output_type": "display_data",
       "text": [
        "<IPython.core.display.Javascript at 0x10cad55d0>"
       ]
      },
      {
       "javascript": [
        "$('div#51c8f2a9-67c9-4ead-a5e9-feb8a2722bfa').width('88%')"
       ],
       "metadata": {},
       "output_type": "display_data",
       "text": [
        "<IPython.core.display.Javascript at 0x10cad55d0>"
       ]
      },
      {
       "javascript": [
        "$('div#51c8f2a9-67c9-4ead-a5e9-feb8a2722bfa').width('89%')"
       ],
       "metadata": {},
       "output_type": "display_data",
       "text": [
        "<IPython.core.display.Javascript at 0x10cad55d0>"
       ]
      },
      {
       "javascript": [
        "$('div#51c8f2a9-67c9-4ead-a5e9-feb8a2722bfa').width('90%')"
       ],
       "metadata": {},
       "output_type": "display_data",
       "text": [
        "<IPython.core.display.Javascript at 0x10cad55d0>"
       ]
      },
      {
       "javascript": [
        "$('div#51c8f2a9-67c9-4ead-a5e9-feb8a2722bfa').width('91%')"
       ],
       "metadata": {},
       "output_type": "display_data",
       "text": [
        "<IPython.core.display.Javascript at 0x10cad55d0>"
       ]
      },
      {
       "javascript": [
        "$('div#51c8f2a9-67c9-4ead-a5e9-feb8a2722bfa').width('92%')"
       ],
       "metadata": {},
       "output_type": "display_data",
       "text": [
        "<IPython.core.display.Javascript at 0x10cad55d0>"
       ]
      },
      {
       "javascript": [
        "$('div#51c8f2a9-67c9-4ead-a5e9-feb8a2722bfa').width('93%')"
       ],
       "metadata": {},
       "output_type": "display_data",
       "text": [
        "<IPython.core.display.Javascript at 0x10cad55d0>"
       ]
      },
      {
       "javascript": [
        "$('div#51c8f2a9-67c9-4ead-a5e9-feb8a2722bfa').width('94%')"
       ],
       "metadata": {},
       "output_type": "display_data",
       "text": [
        "<IPython.core.display.Javascript at 0x10cad55d0>"
       ]
      },
      {
       "javascript": [
        "$('div#51c8f2a9-67c9-4ead-a5e9-feb8a2722bfa').width('95%')"
       ],
       "metadata": {},
       "output_type": "display_data",
       "text": [
        "<IPython.core.display.Javascript at 0x10cad55d0>"
       ]
      },
      {
       "javascript": [
        "$('div#51c8f2a9-67c9-4ead-a5e9-feb8a2722bfa').width('96%')"
       ],
       "metadata": {},
       "output_type": "display_data",
       "text": [
        "<IPython.core.display.Javascript at 0x10cad55d0>"
       ]
      },
      {
       "javascript": [
        "$('div#51c8f2a9-67c9-4ead-a5e9-feb8a2722bfa').width('97%')"
       ],
       "metadata": {},
       "output_type": "display_data",
       "text": [
        "<IPython.core.display.Javascript at 0x10cad55d0>"
       ]
      },
      {
       "javascript": [
        "$('div#51c8f2a9-67c9-4ead-a5e9-feb8a2722bfa').width('98%')"
       ],
       "metadata": {},
       "output_type": "display_data",
       "text": [
        "<IPython.core.display.Javascript at 0x10cad55d0>"
       ]
      },
      {
       "javascript": [
        "$('div#51c8f2a9-67c9-4ead-a5e9-feb8a2722bfa').width('99%')"
       ],
       "metadata": {},
       "output_type": "display_data",
       "text": [
        "<IPython.core.display.Javascript at 0x10cad55d0>"
       ]
      },
      {
       "javascript": [
        "$('div#51c8f2a9-67c9-4ead-a5e9-feb8a2722bfa').width('100%')"
       ],
       "metadata": {},
       "output_type": "display_data",
       "text": [
        "<IPython.core.display.Javascript at 0x10cad5290>"
       ]
      },
      {
       "metadata": {},
       "output_type": "display_data",
       "png": "[encoded data removed]",
       "text": [
        "<matplotlib.figure.Figure at 0x10cad5050>"
       ]
      }
     ],
     "prompt_number": 8
    },
    {
     "cell_type": "code",
     "collapsed": false,
     "input": [],
     "language": "python",
     "metadata": {},
     "outputs": [],
     "prompt_number": 8
    },
    {
     "cell_type": "code",
     "collapsed": false,
     "input": [],
     "language": "python",
     "metadata": {},
     "outputs": [],
     "prompt_number": 8
    },
    {
     "cell_type": "code",
     "collapsed": false,
     "input": [],
     "language": "python",
     "metadata": {},
     "outputs": [],
     "prompt_number": "*"
    },
    {
     "cell_type": "code",
     "collapsed": false,
     "input": [],
     "language": "python",
     "metadata": {},
     "outputs": [],
     "prompt_number": "*"
    },
    {
     "cell_type": "code",
     "collapsed": false,
     "input": [],
     "language": "python",
     "metadata": {},
     "outputs": []
    }
   ],
   "metadata": {}
  }
 ]
}