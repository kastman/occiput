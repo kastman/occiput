{
 "metadata": {
  "name": ""
 },
 "nbformat": 3,
 "nbformat_minor": 0,
 "worksheets": [
  {
   "cells": [
    {
     "cell_type": "code",
     "collapsed": false,
     "input": [
      "import DisplayNode"
     ],
     "language": "python",
     "metadata": {},
     "outputs": [],
     "prompt_number": 1
    },
    {
     "cell_type": "code",
     "collapsed": false,
     "input": [
      "im1 = DisplayNode.examples.examples.polygon_fractal(3)\n",
      "im2 = DisplayNode.examples.examples.polygon_fractal(4)\n",
      "im3 = DisplayNode.examples.examples.polygon_fractal(5)\n",
      "im4 = DisplayNode.examples.examples.polygon_fractal(6)\n",
      "im5 = DisplayNode.examples.examples.polygon_fractal(7)\n",
      "im6 = DisplayNode.examples.examples.polygon_fractal(8)\n",
      "im7 = DisplayNode.examples.examples.polygon_fractal(9)\n",
      "im8 = DisplayNode.examples.examples.polygon_fractal(10)"
     ],
     "language": "python",
     "metadata": {},
     "outputs": [],
     "prompt_number": 2
    },
    {
     "cell_type": "code",
     "collapsed": false,
     "input": [
      "D = DisplayNode.DisplayNode()\n",
      "D.display('tipix',[im1,im2,im3,im4,im5,im6,im7,im8])"
     ],
     "language": "python",
     "metadata": {},
     "outputs": [
      {
       "html": [
        "<iframe src=http://127.0.0.1:8001/3283564 width=100%% height=420 frameborder=0></iframe>"
       ],
       "metadata": {},
       "output_type": "pyout",
       "prompt_number": 3,
       "text": [
        "<DisplayNode.DisplayNodeProxy.DisplayNode instance at 0x10cc32ab8>"
       ]
      }
     ],
     "prompt_number": 3
    },
    {
     "cell_type": "code",
     "collapsed": false,
     "input": [],
     "language": "python",
     "metadata": {},
     "outputs": [],
     "prompt_number": 3
    },
    {
     "cell_type": "code",
     "collapsed": false,
     "input": [],
     "language": "python",
     "metadata": {},
     "outputs": [],
     "prompt_number": 3
    }
   ],
   "metadata": {}
  }
 ]
}