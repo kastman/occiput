{
 "metadata": {
  "name": ""
 },
 "nbformat": 3,
 "nbformat_minor": 0,
 "worksheets": [
  {
   "cells": [
    {
     "cell_type": "code",
     "collapsed": false,
     "input": [
      "from occiput.DataSources.FileSources import FileSource\n",
      "\n",
      "filename = '/Users/spedemon/Desktop/Ralpfh2.nii'\n",
      "F = FileSource(filename)\n",
      "F.display(0)"
     ],
     "language": "python",
     "metadata": {},
     "outputs": [
      {
       "html": [
        "\n",
        "        <div style=\"border: 1px solid white; width:100%%; height:6px; background-color:rgb(246,246,246)\">\n",
        "            <div id=\"1e4a9c18-16ca-4ae1-81cf-b98d1232303d\" style=\"background-color:rgb(200,200,200); width:0%; height:6px\"> </div>\n",
        "        </div> \n",
        "        "
       ],
       "metadata": {},
       "output_type": "display_data",
       "text": [
        "<IPython.core.display.HTML at 0x118862710>"
       ]
      },
      {
       "javascript": [
        "$('div#1e4a9c18-16ca-4ae1-81cf-b98d1232303d').width('1%')"
       ],
       "metadata": {},
       "output_type": "display_data",
       "text": [
        "<IPython.core.display.Javascript at 0x118862590>"
       ]
      },
      {
       "javascript": [
        "$('div#1e4a9c18-16ca-4ae1-81cf-b98d1232303d').width('1%')"
       ],
       "metadata": {},
       "output_type": "display_data",
       "text": [
        "<IPython.core.display.Javascript at 0x118862590>"
       ]
      },
      {
       "javascript": [
        "$('div#1e4a9c18-16ca-4ae1-81cf-b98d1232303d').width('1%')"
       ],
       "metadata": {},
       "output_type": "display_data",
       "text": [
        "<IPython.core.display.Javascript at 0x118862590>"
       ]
      },
      {
       "javascript": [
        "$('div#1e4a9c18-16ca-4ae1-81cf-b98d1232303d').width('1%')"
       ],
       "metadata": {},
       "output_type": "display_data",
       "text": [
        "<IPython.core.display.Javascript at 0x118862590>"
       ]
      },
      {
       "javascript": [
        "$('div#1e4a9c18-16ca-4ae1-81cf-b98d1232303d').width('1%')"
       ],
       "metadata": {},
       "output_type": "display_data",
       "text": [
        "<IPython.core.display.Javascript at 0x118862590>"
       ]
      },
      {
       "javascript": [
        "$('div#1e4a9c18-16ca-4ae1-81cf-b98d1232303d').width('1%')"
       ],
       "metadata": {},
       "output_type": "display_data",
       "text": [
        "<IPython.core.display.Javascript at 0x118862590>"
       ]
      },
      {
       "javascript": [
        "$('div#1e4a9c18-16ca-4ae1-81cf-b98d1232303d').width('1%')"
       ],
       "metadata": {},
       "output_type": "display_data",
       "text": [
        "<IPython.core.display.Javascript at 0x118862590>"
       ]
      },
      {
       "javascript": [
        "$('div#1e4a9c18-16ca-4ae1-81cf-b98d1232303d').width('1%')"
       ],
       "metadata": {},
       "output_type": "display_data",
       "text": [
        "<IPython.core.display.Javascript at 0x118862590>"
       ]
      },
      {
       "javascript": [
        "$('div#1e4a9c18-16ca-4ae1-81cf-b98d1232303d').width('2%')"
       ],
       "metadata": {},
       "output_type": "display_data",
       "text": [
        "<IPython.core.display.Javascript at 0x118862590>"
       ]
      },
      {
       "javascript": [
        "$('div#1e4a9c18-16ca-4ae1-81cf-b98d1232303d').width('2%')"
       ],
       "metadata": {},
       "output_type": "display_data",
       "text": [
        "<IPython.core.display.Javascript at 0x118862590>"
       ]
      },
      {
       "javascript": [
        "$('div#1e4a9c18-16ca-4ae1-81cf-b98d1232303d').width('2%')"
       ],
       "metadata": {},
       "output_type": "display_data",
       "text": [
        "<IPython.core.display.Javascript at 0x118862590>"
       ]
      },
      {
       "javascript": [
        "$('div#1e4a9c18-16ca-4ae1-81cf-b98d1232303d').width('3%')"
       ],
       "metadata": {},
       "output_type": "display_data",
       "text": [
        "<IPython.core.display.Javascript at 0x118862590>"
       ]
      },
      {
       "javascript": [
        "$('div#1e4a9c18-16ca-4ae1-81cf-b98d1232303d').width('3%')"
       ],
       "metadata": {},
       "output_type": "display_data",
       "text": [
        "<IPython.core.display.Javascript at 0x118862590>"
       ]
      },
      {
       "javascript": [
        "$('div#1e4a9c18-16ca-4ae1-81cf-b98d1232303d').width('3%')"
       ],
       "metadata": {},
       "output_type": "display_data",
       "text": [
        "<IPython.core.display.Javascript at 0x118862590>"
       ]
      },
      {
       "javascript": [
        "$('div#1e4a9c18-16ca-4ae1-81cf-b98d1232303d').width('3%')"
       ],
       "metadata": {},
       "output_type": "display_data",
       "text": [
        "<IPython.core.display.Javascript at 0x118862590>"
       ]
      },
      {
       "javascript": [
        "$('div#1e4a9c18-16ca-4ae1-81cf-b98d1232303d').width('4%')"
       ],
       "metadata": {},
       "output_type": "display_data",
       "text": [
        "<IPython.core.display.Javascript at 0x118862590>"
       ]
      },
      {
       "javascript": [
        "$('div#1e4a9c18-16ca-4ae1-81cf-b98d1232303d').width('4%')"
       ],
       "metadata": {},
       "output_type": "display_data",
       "text": [
        "<IPython.core.display.Javascript at 0x118862590>"
       ]
      },
      {
       "javascript": [
        "$('div#1e4a9c18-16ca-4ae1-81cf-b98d1232303d').width('4%')"
       ],
       "metadata": {},
       "output_type": "display_data",
       "text": [
        "<IPython.core.display.Javascript at 0x118862590>"
       ]
      },
      {
       "javascript": [
        "$('div#1e4a9c18-16ca-4ae1-81cf-b98d1232303d').width('4%')"
       ],
       "metadata": {},
       "output_type": "display_data",
       "text": [
        "<IPython.core.display.Javascript at 0x118862590>"
       ]
      },
      {
       "javascript": [
        "$('div#1e4a9c18-16ca-4ae1-81cf-b98d1232303d').width('5%')"
       ],
       "metadata": {},
       "output_type": "display_data",
       "text": [
        "<IPython.core.display.Javascript at 0x118862590>"
       ]
      },
      {
       "javascript": [
        "$('div#1e4a9c18-16ca-4ae1-81cf-b98d1232303d').width('5%')"
       ],
       "metadata": {},
       "output_type": "display_data",
       "text": [
        "<IPython.core.display.Javascript at 0x118862590>"
       ]
      },
      {
       "javascript": [
        "$('div#1e4a9c18-16ca-4ae1-81cf-b98d1232303d').width('5%')"
       ],
       "metadata": {},
       "output_type": "display_data",
       "text": [
        "<IPython.core.display.Javascript at 0x118862590>"
       ]
      },
      {
       "javascript": [
        "$('div#1e4a9c18-16ca-4ae1-81cf-b98d1232303d').width('6%')"
       ],
       "metadata": {},
       "output_type": "display_data",
       "text": [
        "<IPython.core.display.Javascript at 0x118862590>"
       ]
      },
      {
       "javascript": [
        "$('div#1e4a9c18-16ca-4ae1-81cf-b98d1232303d').width('6%')"
       ],
       "metadata": {},
       "output_type": "display_data",
       "text": [
        "<IPython.core.display.Javascript at 0x118862590>"
       ]
      },
      {
       "javascript": [
        "$('div#1e4a9c18-16ca-4ae1-81cf-b98d1232303d').width('6%')"
       ],
       "metadata": {},
       "output_type": "display_data",
       "text": [
        "<IPython.core.display.Javascript at 0x118862590>"
       ]
      },
      {
       "javascript": [
        "$('div#1e4a9c18-16ca-4ae1-81cf-b98d1232303d').width('6%')"
       ],
       "metadata": {},
       "output_type": "display_data",
       "text": [
        "<IPython.core.display.Javascript at 0x118862590>"
       ]
      },
      {
       "javascript": [
        "$('div#1e4a9c18-16ca-4ae1-81cf-b98d1232303d').width('7%')"
       ],
       "metadata": {},
       "output_type": "display_data",
       "text": [
        "<IPython.core.display.Javascript at 0x118862590>"
       ]
      },
      {
       "javascript": [
        "$('div#1e4a9c18-16ca-4ae1-81cf-b98d1232303d').width('7%')"
       ],
       "metadata": {},
       "output_type": "display_data",
       "text": [
        "<IPython.core.display.Javascript at 0x118862590>"
       ]
      },
      {
       "javascript": [
        "$('div#1e4a9c18-16ca-4ae1-81cf-b98d1232303d').width('7%')"
       ],
       "metadata": {},
       "output_type": "display_data",
       "text": [
        "<IPython.core.display.Javascript at 0x118862590>"
       ]
      },
      {
       "javascript": [
        "$('div#1e4a9c18-16ca-4ae1-81cf-b98d1232303d').width('7%')"
       ],
       "metadata": {},
       "output_type": "display_data",
       "text": [
        "<IPython.core.display.Javascript at 0x118862590>"
       ]
      },
      {
       "javascript": [
        "$('div#1e4a9c18-16ca-4ae1-81cf-b98d1232303d').width('8%')"
       ],
       "metadata": {},
       "output_type": "display_data",
       "text": [
        "<IPython.core.display.Javascript at 0x118862590>"
       ]
      },
      {
       "javascript": [
        "$('div#1e4a9c18-16ca-4ae1-81cf-b98d1232303d').width('8%')"
       ],
       "metadata": {},
       "output_type": "display_data",
       "text": [
        "<IPython.core.display.Javascript at 0x118862590>"
       ]
      },
      {
       "javascript": [
        "$('div#1e4a9c18-16ca-4ae1-81cf-b98d1232303d').width('8%')"
       ],
       "metadata": {},
       "output_type": "display_data",
       "text": [
        "<IPython.core.display.Javascript at 0x118862590>"
       ]
      },
      {
       "javascript": [
        "$('div#1e4a9c18-16ca-4ae1-81cf-b98d1232303d').width('9%')"
       ],
       "metadata": {},
       "output_type": "display_data",
       "text": [
        "<IPython.core.display.Javascript at 0x118862590>"
       ]
      },
      {
       "javascript": [
        "$('div#1e4a9c18-16ca-4ae1-81cf-b98d1232303d').width('9%')"
       ],
       "metadata": {},
       "output_type": "display_data",
       "text": [
        "<IPython.core.display.Javascript at 0x118862590>"
       ]
      },
      {
       "javascript": [
        "$('div#1e4a9c18-16ca-4ae1-81cf-b98d1232303d').width('9%')"
       ],
       "metadata": {},
       "output_type": "display_data",
       "text": [
        "<IPython.core.display.Javascript at 0x118862590>"
       ]
      },
      {
       "javascript": [
        "$('div#1e4a9c18-16ca-4ae1-81cf-b98d1232303d').width('9%')"
       ],
       "metadata": {},
       "output_type": "display_data",
       "text": [
        "<IPython.core.display.Javascript at 0x118862590>"
       ]
      },
      {
       "javascript": [
        "$('div#1e4a9c18-16ca-4ae1-81cf-b98d1232303d').width('10%')"
       ],
       "metadata": {},
       "output_type": "display_data",
       "text": [
        "<IPython.core.display.Javascript at 0x118862590>"
       ]
      },
      {
       "javascript": [
        "$('div#1e4a9c18-16ca-4ae1-81cf-b98d1232303d').width('10%')"
       ],
       "metadata": {},
       "output_type": "display_data",
       "text": [
        "<IPython.core.display.Javascript at 0x118862590>"
       ]
      },
      {
       "javascript": [
        "$('div#1e4a9c18-16ca-4ae1-81cf-b98d1232303d').width('10%')"
       ],
       "metadata": {},
       "output_type": "display_data",
       "text": [
        "<IPython.core.display.Javascript at 0x118862590>"
       ]
      },
      {
       "javascript": [
        "$('div#1e4a9c18-16ca-4ae1-81cf-b98d1232303d').width('10%')"
       ],
       "metadata": {},
       "output_type": "display_data",
       "text": [
        "<IPython.core.display.Javascript at 0x118862590>"
       ]
      },
      {
       "javascript": [
        "$('div#1e4a9c18-16ca-4ae1-81cf-b98d1232303d').width('11%')"
       ],
       "metadata": {},
       "output_type": "display_data",
       "text": [
        "<IPython.core.display.Javascript at 0x118862590>"
       ]
      },
      {
       "javascript": [
        "$('div#1e4a9c18-16ca-4ae1-81cf-b98d1232303d').width('11%')"
       ],
       "metadata": {},
       "output_type": "display_data",
       "text": [
        "<IPython.core.display.Javascript at 0x118862590>"
       ]
      },
      {
       "javascript": [
        "$('div#1e4a9c18-16ca-4ae1-81cf-b98d1232303d').width('11%')"
       ],
       "metadata": {},
       "output_type": "display_data",
       "text": [
        "<IPython.core.display.Javascript at 0x118862590>"
       ]
      },
      {
       "javascript": [
        "$('div#1e4a9c18-16ca-4ae1-81cf-b98d1232303d').width('12%')"
       ],
       "metadata": {},
       "output_type": "display_data",
       "text": [
        "<IPython.core.display.Javascript at 0x118862590>"
       ]
      },
      {
       "javascript": [
        "$('div#1e4a9c18-16ca-4ae1-81cf-b98d1232303d').width('12%')"
       ],
       "metadata": {},
       "output_type": "display_data",
       "text": [
        "<IPython.core.display.Javascript at 0x118862590>"
       ]
      },
      {
       "javascript": [
        "$('div#1e4a9c18-16ca-4ae1-81cf-b98d1232303d').width('12%')"
       ],
       "metadata": {},
       "output_type": "display_data",
       "text": [
        "<IPython.core.display.Javascript at 0x118862590>"
       ]
      },
      {
       "javascript": [
        "$('div#1e4a9c18-16ca-4ae1-81cf-b98d1232303d').width('12%')"
       ],
       "metadata": {},
       "output_type": "display_data",
       "text": [
        "<IPython.core.display.Javascript at 0x118862590>"
       ]
      },
      {
       "javascript": [
        "$('div#1e4a9c18-16ca-4ae1-81cf-b98d1232303d').width('13%')"
       ],
       "metadata": {},
       "output_type": "display_data",
       "text": [
        "<IPython.core.display.Javascript at 0x118862590>"
       ]
      },
      {
       "javascript": [
        "$('div#1e4a9c18-16ca-4ae1-81cf-b98d1232303d').width('13%')"
       ],
       "metadata": {},
       "output_type": "display_data",
       "text": [
        "<IPython.core.display.Javascript at 0x118862590>"
       ]
      },
      {
       "javascript": [
        "$('div#1e4a9c18-16ca-4ae1-81cf-b98d1232303d').width('13%')"
       ],
       "metadata": {},
       "output_type": "display_data",
       "text": [
        "<IPython.core.display.Javascript at 0x118862590>"
       ]
      },
      {
       "javascript": [
        "$('div#1e4a9c18-16ca-4ae1-81cf-b98d1232303d').width('14%')"
       ],
       "metadata": {},
       "output_type": "display_data",
       "text": [
        "<IPython.core.display.Javascript at 0x118862590>"
       ]
      },
      {
       "javascript": [
        "$('div#1e4a9c18-16ca-4ae1-81cf-b98d1232303d').width('14%')"
       ],
       "metadata": {},
       "output_type": "display_data",
       "text": [
        "<IPython.core.display.Javascript at 0x118862590>"
       ]
      },
      {
       "javascript": [
        "$('div#1e4a9c18-16ca-4ae1-81cf-b98d1232303d').width('14%')"
       ],
       "metadata": {},
       "output_type": "display_data",
       "text": [
        "<IPython.core.display.Javascript at 0x118862590>"
       ]
      },
      {
       "javascript": [
        "$('div#1e4a9c18-16ca-4ae1-81cf-b98d1232303d').width('14%')"
       ],
       "metadata": {},
       "output_type": "display_data",
       "text": [
        "<IPython.core.display.Javascript at 0x118862590>"
       ]
      },
      {
       "javascript": [
        "$('div#1e4a9c18-16ca-4ae1-81cf-b98d1232303d').width('15%')"
       ],
       "metadata": {},
       "output_type": "display_data",
       "text": [
        "<IPython.core.display.Javascript at 0x118862590>"
       ]
      },
      {
       "javascript": [
        "$('div#1e4a9c18-16ca-4ae1-81cf-b98d1232303d').width('15%')"
       ],
       "metadata": {},
       "output_type": "display_data",
       "text": [
        "<IPython.core.display.Javascript at 0x118862590>"
       ]
      },
      {
       "javascript": [
        "$('div#1e4a9c18-16ca-4ae1-81cf-b98d1232303d').width('15%')"
       ],
       "metadata": {},
       "output_type": "display_data",
       "text": [
        "<IPython.core.display.Javascript at 0x118862590>"
       ]
      },
      {
       "javascript": [
        "$('div#1e4a9c18-16ca-4ae1-81cf-b98d1232303d').width('15%')"
       ],
       "metadata": {},
       "output_type": "display_data",
       "text": [
        "<IPython.core.display.Javascript at 0x118862590>"
       ]
      },
      {
       "javascript": [
        "$('div#1e4a9c18-16ca-4ae1-81cf-b98d1232303d').width('16%')"
       ],
       "metadata": {},
       "output_type": "display_data",
       "text": [
        "<IPython.core.display.Javascript at 0x118862590>"
       ]
      },
      {
       "javascript": [
        "$('div#1e4a9c18-16ca-4ae1-81cf-b98d1232303d').width('16%')"
       ],
       "metadata": {},
       "output_type": "display_data",
       "text": [
        "<IPython.core.display.Javascript at 0x118862590>"
       ]
      },
      {
       "javascript": [
        "$('div#1e4a9c18-16ca-4ae1-81cf-b98d1232303d').width('16%')"
       ],
       "metadata": {},
       "output_type": "display_data",
       "text": [
        "<IPython.core.display.Javascript at 0x118862590>"
       ]
      },
      {
       "javascript": [
        "$('div#1e4a9c18-16ca-4ae1-81cf-b98d1232303d').width('17%')"
       ],
       "metadata": {},
       "output_type": "display_data",
       "text": [
        "<IPython.core.display.Javascript at 0x118862590>"
       ]
      },
      {
       "javascript": [
        "$('div#1e4a9c18-16ca-4ae1-81cf-b98d1232303d').width('17%')"
       ],
       "metadata": {},
       "output_type": "display_data",
       "text": [
        "<IPython.core.display.Javascript at 0x118862590>"
       ]
      },
      {
       "javascript": [
        "$('div#1e4a9c18-16ca-4ae1-81cf-b98d1232303d').width('17%')"
       ],
       "metadata": {},
       "output_type": "display_data",
       "text": [
        "<IPython.core.display.Javascript at 0x118862590>"
       ]
      },
      {
       "javascript": [
        "$('div#1e4a9c18-16ca-4ae1-81cf-b98d1232303d').width('17%')"
       ],
       "metadata": {},
       "output_type": "display_data",
       "text": [
        "<IPython.core.display.Javascript at 0x118862590>"
       ]
      },
      {
       "javascript": [
        "$('div#1e4a9c18-16ca-4ae1-81cf-b98d1232303d').width('18%')"
       ],
       "metadata": {},
       "output_type": "display_data",
       "text": [
        "<IPython.core.display.Javascript at 0x118862590>"
       ]
      },
      {
       "javascript": [
        "$('div#1e4a9c18-16ca-4ae1-81cf-b98d1232303d').width('18%')"
       ],
       "metadata": {},
       "output_type": "display_data",
       "text": [
        "<IPython.core.display.Javascript at 0x118862590>"
       ]
      },
      {
       "javascript": [
        "$('div#1e4a9c18-16ca-4ae1-81cf-b98d1232303d').width('18%')"
       ],
       "metadata": {},
       "output_type": "display_data",
       "text": [
        "<IPython.core.display.Javascript at 0x118862590>"
       ]
      },
      {
       "javascript": [
        "$('div#1e4a9c18-16ca-4ae1-81cf-b98d1232303d').width('18%')"
       ],
       "metadata": {},
       "output_type": "display_data",
       "text": [
        "<IPython.core.display.Javascript at 0x118862590>"
       ]
      },
      {
       "javascript": [
        "$('div#1e4a9c18-16ca-4ae1-81cf-b98d1232303d').width('19%')"
       ],
       "metadata": {},
       "output_type": "display_data",
       "text": [
        "<IPython.core.display.Javascript at 0x118862590>"
       ]
      },
      {
       "javascript": [
        "$('div#1e4a9c18-16ca-4ae1-81cf-b98d1232303d').width('19%')"
       ],
       "metadata": {},
       "output_type": "display_data",
       "text": [
        "<IPython.core.display.Javascript at 0x118862590>"
       ]
      },
      {
       "javascript": [
        "$('div#1e4a9c18-16ca-4ae1-81cf-b98d1232303d').width('19%')"
       ],
       "metadata": {},
       "output_type": "display_data",
       "text": [
        "<IPython.core.display.Javascript at 0x118862590>"
       ]
      },
      {
       "javascript": [
        "$('div#1e4a9c18-16ca-4ae1-81cf-b98d1232303d').width('20%')"
       ],
       "metadata": {},
       "output_type": "display_data",
       "text": [
        "<IPython.core.display.Javascript at 0x118862590>"
       ]
      },
      {
       "javascript": [
        "$('div#1e4a9c18-16ca-4ae1-81cf-b98d1232303d').width('20%')"
       ],
       "metadata": {},
       "output_type": "display_data",
       "text": [
        "<IPython.core.display.Javascript at 0x118862590>"
       ]
      },
      {
       "javascript": [
        "$('div#1e4a9c18-16ca-4ae1-81cf-b98d1232303d').width('20%')"
       ],
       "metadata": {},
       "output_type": "display_data",
       "text": [
        "<IPython.core.display.Javascript at 0x118862590>"
       ]
      },
      {
       "javascript": [
        "$('div#1e4a9c18-16ca-4ae1-81cf-b98d1232303d').width('20%')"
       ],
       "metadata": {},
       "output_type": "display_data",
       "text": [
        "<IPython.core.display.Javascript at 0x118862590>"
       ]
      },
      {
       "javascript": [
        "$('div#1e4a9c18-16ca-4ae1-81cf-b98d1232303d').width('21%')"
       ],
       "metadata": {},
       "output_type": "display_data",
       "text": [
        "<IPython.core.display.Javascript at 0x118862590>"
       ]
      },
      {
       "javascript": [
        "$('div#1e4a9c18-16ca-4ae1-81cf-b98d1232303d').width('21%')"
       ],
       "metadata": {},
       "output_type": "display_data",
       "text": [
        "<IPython.core.display.Javascript at 0x118862590>"
       ]
      },
      {
       "javascript": [
        "$('div#1e4a9c18-16ca-4ae1-81cf-b98d1232303d').width('21%')"
       ],
       "metadata": {},
       "output_type": "display_data",
       "text": [
        "<IPython.core.display.Javascript at 0x118862590>"
       ]
      },
      {
       "javascript": [
        "$('div#1e4a9c18-16ca-4ae1-81cf-b98d1232303d').width('21%')"
       ],
       "metadata": {},
       "output_type": "display_data",
       "text": [
        "<IPython.core.display.Javascript at 0x118862590>"
       ]
      },
      {
       "javascript": [
        "$('div#1e4a9c18-16ca-4ae1-81cf-b98d1232303d').width('22%')"
       ],
       "metadata": {},
       "output_type": "display_data",
       "text": [
        "<IPython.core.display.Javascript at 0x118862590>"
       ]
      },
      {
       "javascript": [
        "$('div#1e4a9c18-16ca-4ae1-81cf-b98d1232303d').width('22%')"
       ],
       "metadata": {},
       "output_type": "display_data",
       "text": [
        "<IPython.core.display.Javascript at 0x118862590>"
       ]
      },
      {
       "javascript": [
        "$('div#1e4a9c18-16ca-4ae1-81cf-b98d1232303d').width('22%')"
       ],
       "metadata": {},
       "output_type": "display_data",
       "text": [
        "<IPython.core.display.Javascript at 0x118862590>"
       ]
      },
      {
       "javascript": [
        "$('div#1e4a9c18-16ca-4ae1-81cf-b98d1232303d').width('23%')"
       ],
       "metadata": {},
       "output_type": "display_data",
       "text": [
        "<IPython.core.display.Javascript at 0x118862590>"
       ]
      },
      {
       "javascript": [
        "$('div#1e4a9c18-16ca-4ae1-81cf-b98d1232303d').width('23%')"
       ],
       "metadata": {},
       "output_type": "display_data",
       "text": [
        "<IPython.core.display.Javascript at 0x118862590>"
       ]
      },
      {
       "javascript": [
        "$('div#1e4a9c18-16ca-4ae1-81cf-b98d1232303d').width('23%')"
       ],
       "metadata": {},
       "output_type": "display_data",
       "text": [
        "<IPython.core.display.Javascript at 0x118862590>"
       ]
      },
      {
       "javascript": [
        "$('div#1e4a9c18-16ca-4ae1-81cf-b98d1232303d').width('23%')"
       ],
       "metadata": {},
       "output_type": "display_data",
       "text": [
        "<IPython.core.display.Javascript at 0x118862590>"
       ]
      },
      {
       "javascript": [
        "$('div#1e4a9c18-16ca-4ae1-81cf-b98d1232303d').width('24%')"
       ],
       "metadata": {},
       "output_type": "display_data",
       "text": [
        "<IPython.core.display.Javascript at 0x118862590>"
       ]
      },
      {
       "javascript": [
        "$('div#1e4a9c18-16ca-4ae1-81cf-b98d1232303d').width('24%')"
       ],
       "metadata": {},
       "output_type": "display_data",
       "text": [
        "<IPython.core.display.Javascript at 0x118862590>"
       ]
      },
      {
       "javascript": [
        "$('div#1e4a9c18-16ca-4ae1-81cf-b98d1232303d').width('24%')"
       ],
       "metadata": {},
       "output_type": "display_data",
       "text": [
        "<IPython.core.display.Javascript at 0x118862590>"
       ]
      },
      {
       "javascript": [
        "$('div#1e4a9c18-16ca-4ae1-81cf-b98d1232303d').width('25%')"
       ],
       "metadata": {},
       "output_type": "display_data",
       "text": [
        "<IPython.core.display.Javascript at 0x118862590>"
       ]
      },
      {
       "javascript": [
        "$('div#1e4a9c18-16ca-4ae1-81cf-b98d1232303d').width('25%')"
       ],
       "metadata": {},
       "output_type": "display_data",
       "text": [
        "<IPython.core.display.Javascript at 0x118862590>"
       ]
      },
      {
       "javascript": [
        "$('div#1e4a9c18-16ca-4ae1-81cf-b98d1232303d').width('25%')"
       ],
       "metadata": {},
       "output_type": "display_data",
       "text": [
        "<IPython.core.display.Javascript at 0x118862590>"
       ]
      },
      {
       "javascript": [
        "$('div#1e4a9c18-16ca-4ae1-81cf-b98d1232303d').width('25%')"
       ],
       "metadata": {},
       "output_type": "display_data",
       "text": [
        "<IPython.core.display.Javascript at 0x118862590>"
       ]
      },
      {
       "javascript": [
        "$('div#1e4a9c18-16ca-4ae1-81cf-b98d1232303d').width('26%')"
       ],
       "metadata": {},
       "output_type": "display_data",
       "text": [
        "<IPython.core.display.Javascript at 0x118862590>"
       ]
      },
      {
       "javascript": [
        "$('div#1e4a9c18-16ca-4ae1-81cf-b98d1232303d').width('26%')"
       ],
       "metadata": {},
       "output_type": "display_data",
       "text": [
        "<IPython.core.display.Javascript at 0x118862590>"
       ]
      },
      {
       "javascript": [
        "$('div#1e4a9c18-16ca-4ae1-81cf-b98d1232303d').width('26%')"
       ],
       "metadata": {},
       "output_type": "display_data",
       "text": [
        "<IPython.core.display.Javascript at 0x118862590>"
       ]
      },
      {
       "javascript": [
        "$('div#1e4a9c18-16ca-4ae1-81cf-b98d1232303d').width('26%')"
       ],
       "metadata": {},
       "output_type": "display_data",
       "text": [
        "<IPython.core.display.Javascript at 0x118862590>"
       ]
      },
      {
       "javascript": [
        "$('div#1e4a9c18-16ca-4ae1-81cf-b98d1232303d').width('27%')"
       ],
       "metadata": {},
       "output_type": "display_data",
       "text": [
        "<IPython.core.display.Javascript at 0x118862590>"
       ]
      },
      {
       "javascript": [
        "$('div#1e4a9c18-16ca-4ae1-81cf-b98d1232303d').width('27%')"
       ],
       "metadata": {},
       "output_type": "display_data",
       "text": [
        "<IPython.core.display.Javascript at 0x118862590>"
       ]
      },
      {
       "javascript": [
        "$('div#1e4a9c18-16ca-4ae1-81cf-b98d1232303d').width('27%')"
       ],
       "metadata": {},
       "output_type": "display_data",
       "text": [
        "<IPython.core.display.Javascript at 0x118862590>"
       ]
      },
      {
       "javascript": [
        "$('div#1e4a9c18-16ca-4ae1-81cf-b98d1232303d').width('28%')"
       ],
       "metadata": {},
       "output_type": "display_data",
       "text": [
        "<IPython.core.display.Javascript at 0x118862590>"
       ]
      },
      {
       "javascript": [
        "$('div#1e4a9c18-16ca-4ae1-81cf-b98d1232303d').width('28%')"
       ],
       "metadata": {},
       "output_type": "display_data",
       "text": [
        "<IPython.core.display.Javascript at 0x118862590>"
       ]
      },
      {
       "javascript": [
        "$('div#1e4a9c18-16ca-4ae1-81cf-b98d1232303d').width('28%')"
       ],
       "metadata": {},
       "output_type": "display_data",
       "text": [
        "<IPython.core.display.Javascript at 0x118862590>"
       ]
      },
      {
       "javascript": [
        "$('div#1e4a9c18-16ca-4ae1-81cf-b98d1232303d').width('28%')"
       ],
       "metadata": {},
       "output_type": "display_data",
       "text": [
        "<IPython.core.display.Javascript at 0x118862590>"
       ]
      },
      {
       "javascript": [
        "$('div#1e4a9c18-16ca-4ae1-81cf-b98d1232303d').width('29%')"
       ],
       "metadata": {},
       "output_type": "display_data",
       "text": [
        "<IPython.core.display.Javascript at 0x118862590>"
       ]
      },
      {
       "javascript": [
        "$('div#1e4a9c18-16ca-4ae1-81cf-b98d1232303d').width('29%')"
       ],
       "metadata": {},
       "output_type": "display_data",
       "text": [
        "<IPython.core.display.Javascript at 0x118862590>"
       ]
      },
      {
       "javascript": [
        "$('div#1e4a9c18-16ca-4ae1-81cf-b98d1232303d').width('29%')"
       ],
       "metadata": {},
       "output_type": "display_data",
       "text": [
        "<IPython.core.display.Javascript at 0x118862590>"
       ]
      },
      {
       "javascript": [
        "$('div#1e4a9c18-16ca-4ae1-81cf-b98d1232303d').width('29%')"
       ],
       "metadata": {},
       "output_type": "display_data",
       "text": [
        "<IPython.core.display.Javascript at 0x118862590>"
       ]
      },
      {
       "javascript": [
        "$('div#1e4a9c18-16ca-4ae1-81cf-b98d1232303d').width('30%')"
       ],
       "metadata": {},
       "output_type": "display_data",
       "text": [
        "<IPython.core.display.Javascript at 0x118862590>"
       ]
      },
      {
       "javascript": [
        "$('div#1e4a9c18-16ca-4ae1-81cf-b98d1232303d').width('30%')"
       ],
       "metadata": {},
       "output_type": "display_data",
       "text": [
        "<IPython.core.display.Javascript at 0x118862590>"
       ]
      },
      {
       "javascript": [
        "$('div#1e4a9c18-16ca-4ae1-81cf-b98d1232303d').width('30%')"
       ],
       "metadata": {},
       "output_type": "display_data",
       "text": [
        "<IPython.core.display.Javascript at 0x118862590>"
       ]
      },
      {
       "javascript": [
        "$('div#1e4a9c18-16ca-4ae1-81cf-b98d1232303d').width('31%')"
       ],
       "metadata": {},
       "output_type": "display_data",
       "text": [
        "<IPython.core.display.Javascript at 0x118862590>"
       ]
      },
      {
       "javascript": [
        "$('div#1e4a9c18-16ca-4ae1-81cf-b98d1232303d').width('31%')"
       ],
       "metadata": {},
       "output_type": "display_data",
       "text": [
        "<IPython.core.display.Javascript at 0x118862590>"
       ]
      },
      {
       "javascript": [
        "$('div#1e4a9c18-16ca-4ae1-81cf-b98d1232303d').width('31%')"
       ],
       "metadata": {},
       "output_type": "display_data",
       "text": [
        "<IPython.core.display.Javascript at 0x118862590>"
       ]
      },
      {
       "javascript": [
        "$('div#1e4a9c18-16ca-4ae1-81cf-b98d1232303d').width('31%')"
       ],
       "metadata": {},
       "output_type": "display_data",
       "text": [
        "<IPython.core.display.Javascript at 0x118862590>"
       ]
      },
      {
       "javascript": [
        "$('div#1e4a9c18-16ca-4ae1-81cf-b98d1232303d').width('32%')"
       ],
       "metadata": {},
       "output_type": "display_data",
       "text": [
        "<IPython.core.display.Javascript at 0x118862590>"
       ]
      },
      {
       "javascript": [
        "$('div#1e4a9c18-16ca-4ae1-81cf-b98d1232303d').width('32%')"
       ],
       "metadata": {},
       "output_type": "display_data",
       "text": [
        "<IPython.core.display.Javascript at 0x118862590>"
       ]
      },
      {
       "javascript": [
        "$('div#1e4a9c18-16ca-4ae1-81cf-b98d1232303d').width('32%')"
       ],
       "metadata": {},
       "output_type": "display_data",
       "text": [
        "<IPython.core.display.Javascript at 0x118862590>"
       ]
      },
      {
       "javascript": [
        "$('div#1e4a9c18-16ca-4ae1-81cf-b98d1232303d').width('32%')"
       ],
       "metadata": {},
       "output_type": "display_data",
       "text": [
        "<IPython.core.display.Javascript at 0x118862590>"
       ]
      },
      {
       "javascript": [
        "$('div#1e4a9c18-16ca-4ae1-81cf-b98d1232303d').width('33%')"
       ],
       "metadata": {},
       "output_type": "display_data",
       "text": [
        "<IPython.core.display.Javascript at 0x118862590>"
       ]
      },
      {
       "javascript": [
        "$('div#1e4a9c18-16ca-4ae1-81cf-b98d1232303d').width('33%')"
       ],
       "metadata": {},
       "output_type": "display_data",
       "text": [
        "<IPython.core.display.Javascript at 0x118862590>"
       ]
      },
      {
       "javascript": [
        "$('div#1e4a9c18-16ca-4ae1-81cf-b98d1232303d').width('33%')"
       ],
       "metadata": {},
       "output_type": "display_data",
       "text": [
        "<IPython.core.display.Javascript at 0x118862590>"
       ]
      },
      {
       "javascript": [
        "$('div#1e4a9c18-16ca-4ae1-81cf-b98d1232303d').width('34%')"
       ],
       "metadata": {},
       "output_type": "display_data",
       "text": [
        "<IPython.core.display.Javascript at 0x118862590>"
       ]
      },
      {
       "javascript": [
        "$('div#1e4a9c18-16ca-4ae1-81cf-b98d1232303d').width('34%')"
       ],
       "metadata": {},
       "output_type": "display_data",
       "text": [
        "<IPython.core.display.Javascript at 0x118862590>"
       ]
      },
      {
       "javascript": [
        "$('div#1e4a9c18-16ca-4ae1-81cf-b98d1232303d').width('34%')"
       ],
       "metadata": {},
       "output_type": "display_data",
       "text": [
        "<IPython.core.display.Javascript at 0x118862590>"
       ]
      },
      {
       "javascript": [
        "$('div#1e4a9c18-16ca-4ae1-81cf-b98d1232303d').width('34%')"
       ],
       "metadata": {},
       "output_type": "display_data",
       "text": [
        "<IPython.core.display.Javascript at 0x118862590>"
       ]
      },
      {
       "javascript": [
        "$('div#1e4a9c18-16ca-4ae1-81cf-b98d1232303d').width('35%')"
       ],
       "metadata": {},
       "output_type": "display_data",
       "text": [
        "<IPython.core.display.Javascript at 0x118862590>"
       ]
      },
      {
       "javascript": [
        "$('div#1e4a9c18-16ca-4ae1-81cf-b98d1232303d').width('35%')"
       ],
       "metadata": {},
       "output_type": "display_data",
       "text": [
        "<IPython.core.display.Javascript at 0x118862590>"
       ]
      },
      {
       "javascript": [
        "$('div#1e4a9c18-16ca-4ae1-81cf-b98d1232303d').width('35%')"
       ],
       "metadata": {},
       "output_type": "display_data",
       "text": [
        "<IPython.core.display.Javascript at 0x118862590>"
       ]
      },
      {
       "javascript": [
        "$('div#1e4a9c18-16ca-4ae1-81cf-b98d1232303d').width('35%')"
       ],
       "metadata": {},
       "output_type": "display_data",
       "text": [
        "<IPython.core.display.Javascript at 0x118862590>"
       ]
      },
      {
       "javascript": [
        "$('div#1e4a9c18-16ca-4ae1-81cf-b98d1232303d').width('36%')"
       ],
       "metadata": {},
       "output_type": "display_data",
       "text": [
        "<IPython.core.display.Javascript at 0x118862590>"
       ]
      },
      {
       "javascript": [
        "$('div#1e4a9c18-16ca-4ae1-81cf-b98d1232303d').width('36%')"
       ],
       "metadata": {},
       "output_type": "display_data",
       "text": [
        "<IPython.core.display.Javascript at 0x118862590>"
       ]
      },
      {
       "javascript": [
        "$('div#1e4a9c18-16ca-4ae1-81cf-b98d1232303d').width('36%')"
       ],
       "metadata": {},
       "output_type": "display_data",
       "text": [
        "<IPython.core.display.Javascript at 0x118862590>"
       ]
      },
      {
       "javascript": [
        "$('div#1e4a9c18-16ca-4ae1-81cf-b98d1232303d').width('37%')"
       ],
       "metadata": {},
       "output_type": "display_data",
       "text": [
        "<IPython.core.display.Javascript at 0x118862590>"
       ]
      },
      {
       "javascript": [
        "$('div#1e4a9c18-16ca-4ae1-81cf-b98d1232303d').width('37%')"
       ],
       "metadata": {},
       "output_type": "display_data",
       "text": [
        "<IPython.core.display.Javascript at 0x118862590>"
       ]
      },
      {
       "javascript": [
        "$('div#1e4a9c18-16ca-4ae1-81cf-b98d1232303d').width('37%')"
       ],
       "metadata": {},
       "output_type": "display_data",
       "text": [
        "<IPython.core.display.Javascript at 0x118862590>"
       ]
      },
      {
       "javascript": [
        "$('div#1e4a9c18-16ca-4ae1-81cf-b98d1232303d').width('37%')"
       ],
       "metadata": {},
       "output_type": "display_data",
       "text": [
        "<IPython.core.display.Javascript at 0x118862590>"
       ]
      },
      {
       "javascript": [
        "$('div#1e4a9c18-16ca-4ae1-81cf-b98d1232303d').width('38%')"
       ],
       "metadata": {},
       "output_type": "display_data",
       "text": [
        "<IPython.core.display.Javascript at 0x118862590>"
       ]
      },
      {
       "javascript": [
        "$('div#1e4a9c18-16ca-4ae1-81cf-b98d1232303d').width('38%')"
       ],
       "metadata": {},
       "output_type": "display_data",
       "text": [
        "<IPython.core.display.Javascript at 0x118862590>"
       ]
      },
      {
       "javascript": [
        "$('div#1e4a9c18-16ca-4ae1-81cf-b98d1232303d').width('38%')"
       ],
       "metadata": {},
       "output_type": "display_data",
       "text": [
        "<IPython.core.display.Javascript at 0x118862590>"
       ]
      },
      {
       "javascript": [
        "$('div#1e4a9c18-16ca-4ae1-81cf-b98d1232303d').width('39%')"
       ],
       "metadata": {},
       "output_type": "display_data",
       "text": [
        "<IPython.core.display.Javascript at 0x118862590>"
       ]
      },
      {
       "javascript": [
        "$('div#1e4a9c18-16ca-4ae1-81cf-b98d1232303d').width('39%')"
       ],
       "metadata": {},
       "output_type": "display_data",
       "text": [
        "<IPython.core.display.Javascript at 0x118862590>"
       ]
      },
      {
       "javascript": [
        "$('div#1e4a9c18-16ca-4ae1-81cf-b98d1232303d').width('39%')"
       ],
       "metadata": {},
       "output_type": "display_data",
       "text": [
        "<IPython.core.display.Javascript at 0x118862590>"
       ]
      },
      {
       "javascript": [
        "$('div#1e4a9c18-16ca-4ae1-81cf-b98d1232303d').width('39%')"
       ],
       "metadata": {},
       "output_type": "display_data",
       "text": [
        "<IPython.core.display.Javascript at 0x118862590>"
       ]
      },
      {
       "javascript": [
        "$('div#1e4a9c18-16ca-4ae1-81cf-b98d1232303d').width('40%')"
       ],
       "metadata": {},
       "output_type": "display_data",
       "text": [
        "<IPython.core.display.Javascript at 0x118862590>"
       ]
      },
      {
       "javascript": [
        "$('div#1e4a9c18-16ca-4ae1-81cf-b98d1232303d').width('40%')"
       ],
       "metadata": {},
       "output_type": "display_data",
       "text": [
        "<IPython.core.display.Javascript at 0x118862590>"
       ]
      },
      {
       "javascript": [
        "$('div#1e4a9c18-16ca-4ae1-81cf-b98d1232303d').width('40%')"
       ],
       "metadata": {},
       "output_type": "display_data",
       "text": [
        "<IPython.core.display.Javascript at 0x118862590>"
       ]
      },
      {
       "javascript": [
        "$('div#1e4a9c18-16ca-4ae1-81cf-b98d1232303d').width('40%')"
       ],
       "metadata": {},
       "output_type": "display_data",
       "text": [
        "<IPython.core.display.Javascript at 0x118862590>"
       ]
      },
      {
       "javascript": [
        "$('div#1e4a9c18-16ca-4ae1-81cf-b98d1232303d').width('41%')"
       ],
       "metadata": {},
       "output_type": "display_data",
       "text": [
        "<IPython.core.display.Javascript at 0x118862590>"
       ]
      },
      {
       "javascript": [
        "$('div#1e4a9c18-16ca-4ae1-81cf-b98d1232303d').width('41%')"
       ],
       "metadata": {},
       "output_type": "display_data",
       "text": [
        "<IPython.core.display.Javascript at 0x118862590>"
       ]
      },
      {
       "javascript": [
        "$('div#1e4a9c18-16ca-4ae1-81cf-b98d1232303d').width('41%')"
       ],
       "metadata": {},
       "output_type": "display_data",
       "text": [
        "<IPython.core.display.Javascript at 0x118862590>"
       ]
      },
      {
       "javascript": [
        "$('div#1e4a9c18-16ca-4ae1-81cf-b98d1232303d').width('42%')"
       ],
       "metadata": {},
       "output_type": "display_data",
       "text": [
        "<IPython.core.display.Javascript at 0x118862590>"
       ]
      },
      {
       "javascript": [
        "$('div#1e4a9c18-16ca-4ae1-81cf-b98d1232303d').width('42%')"
       ],
       "metadata": {},
       "output_type": "display_data",
       "text": [
        "<IPython.core.display.Javascript at 0x118862590>"
       ]
      },
      {
       "javascript": [
        "$('div#1e4a9c18-16ca-4ae1-81cf-b98d1232303d').width('42%')"
       ],
       "metadata": {},
       "output_type": "display_data",
       "text": [
        "<IPython.core.display.Javascript at 0x118862590>"
       ]
      },
      {
       "javascript": [
        "$('div#1e4a9c18-16ca-4ae1-81cf-b98d1232303d').width('42%')"
       ],
       "metadata": {},
       "output_type": "display_data",
       "text": [
        "<IPython.core.display.Javascript at 0x118862590>"
       ]
      },
      {
       "javascript": [
        "$('div#1e4a9c18-16ca-4ae1-81cf-b98d1232303d').width('43%')"
       ],
       "metadata": {},
       "output_type": "display_data",
       "text": [
        "<IPython.core.display.Javascript at 0x118862590>"
       ]
      },
      {
       "javascript": [
        "$('div#1e4a9c18-16ca-4ae1-81cf-b98d1232303d').width('43%')"
       ],
       "metadata": {},
       "output_type": "display_data",
       "text": [
        "<IPython.core.display.Javascript at 0x118862590>"
       ]
      },
      {
       "javascript": [
        "$('div#1e4a9c18-16ca-4ae1-81cf-b98d1232303d').width('43%')"
       ],
       "metadata": {},
       "output_type": "display_data",
       "text": [
        "<IPython.core.display.Javascript at 0x118862590>"
       ]
      },
      {
       "javascript": [
        "$('div#1e4a9c18-16ca-4ae1-81cf-b98d1232303d').width('43%')"
       ],
       "metadata": {},
       "output_type": "display_data",
       "text": [
        "<IPython.core.display.Javascript at 0x118862590>"
       ]
      },
      {
       "javascript": [
        "$('div#1e4a9c18-16ca-4ae1-81cf-b98d1232303d').width('44%')"
       ],
       "metadata": {},
       "output_type": "display_data",
       "text": [
        "<IPython.core.display.Javascript at 0x118862590>"
       ]
      },
      {
       "javascript": [
        "$('div#1e4a9c18-16ca-4ae1-81cf-b98d1232303d').width('44%')"
       ],
       "metadata": {},
       "output_type": "display_data",
       "text": [
        "<IPython.core.display.Javascript at 0x118862590>"
       ]
      },
      {
       "javascript": [
        "$('div#1e4a9c18-16ca-4ae1-81cf-b98d1232303d').width('44%')"
       ],
       "metadata": {},
       "output_type": "display_data",
       "text": [
        "<IPython.core.display.Javascript at 0x118862590>"
       ]
      },
      {
       "javascript": [
        "$('div#1e4a9c18-16ca-4ae1-81cf-b98d1232303d').width('45%')"
       ],
       "metadata": {},
       "output_type": "display_data",
       "text": [
        "<IPython.core.display.Javascript at 0x118862590>"
       ]
      },
      {
       "javascript": [
        "$('div#1e4a9c18-16ca-4ae1-81cf-b98d1232303d').width('45%')"
       ],
       "metadata": {},
       "output_type": "display_data",
       "text": [
        "<IPython.core.display.Javascript at 0x118862590>"
       ]
      },
      {
       "javascript": [
        "$('div#1e4a9c18-16ca-4ae1-81cf-b98d1232303d').width('45%')"
       ],
       "metadata": {},
       "output_type": "display_data",
       "text": [
        "<IPython.core.display.Javascript at 0x118862590>"
       ]
      },
      {
       "javascript": [
        "$('div#1e4a9c18-16ca-4ae1-81cf-b98d1232303d').width('45%')"
       ],
       "metadata": {},
       "output_type": "display_data",
       "text": [
        "<IPython.core.display.Javascript at 0x118862590>"
       ]
      },
      {
       "javascript": [
        "$('div#1e4a9c18-16ca-4ae1-81cf-b98d1232303d').width('46%')"
       ],
       "metadata": {},
       "output_type": "display_data",
       "text": [
        "<IPython.core.display.Javascript at 0x118862590>"
       ]
      },
      {
       "javascript": [
        "$('div#1e4a9c18-16ca-4ae1-81cf-b98d1232303d').width('46%')"
       ],
       "metadata": {},
       "output_type": "display_data",
       "text": [
        "<IPython.core.display.Javascript at 0x118862590>"
       ]
      },
      {
       "javascript": [
        "$('div#1e4a9c18-16ca-4ae1-81cf-b98d1232303d').width('46%')"
       ],
       "metadata": {},
       "output_type": "display_data",
       "text": [
        "<IPython.core.display.Javascript at 0x118862590>"
       ]
      },
      {
       "javascript": [
        "$('div#1e4a9c18-16ca-4ae1-81cf-b98d1232303d').width('46%')"
       ],
       "metadata": {},
       "output_type": "display_data",
       "text": [
        "<IPython.core.display.Javascript at 0x118862590>"
       ]
      },
      {
       "javascript": [
        "$('div#1e4a9c18-16ca-4ae1-81cf-b98d1232303d').width('47%')"
       ],
       "metadata": {},
       "output_type": "display_data",
       "text": [
        "<IPython.core.display.Javascript at 0x118862590>"
       ]
      },
      {
       "javascript": [
        "$('div#1e4a9c18-16ca-4ae1-81cf-b98d1232303d').width('47%')"
       ],
       "metadata": {},
       "output_type": "display_data",
       "text": [
        "<IPython.core.display.Javascript at 0x118862590>"
       ]
      },
      {
       "javascript": [
        "$('div#1e4a9c18-16ca-4ae1-81cf-b98d1232303d').width('47%')"
       ],
       "metadata": {},
       "output_type": "display_data",
       "text": [
        "<IPython.core.display.Javascript at 0x118862590>"
       ]
      },
      {
       "javascript": [
        "$('div#1e4a9c18-16ca-4ae1-81cf-b98d1232303d').width('48%')"
       ],
       "metadata": {},
       "output_type": "display_data",
       "text": [
        "<IPython.core.display.Javascript at 0x118862590>"
       ]
      },
      {
       "javascript": [
        "$('div#1e4a9c18-16ca-4ae1-81cf-b98d1232303d').width('48%')"
       ],
       "metadata": {},
       "output_type": "display_data",
       "text": [
        "<IPython.core.display.Javascript at 0x118862590>"
       ]
      },
      {
       "javascript": [
        "$('div#1e4a9c18-16ca-4ae1-81cf-b98d1232303d').width('48%')"
       ],
       "metadata": {},
       "output_type": "display_data",
       "text": [
        "<IPython.core.display.Javascript at 0x118862590>"
       ]
      },
      {
       "javascript": [
        "$('div#1e4a9c18-16ca-4ae1-81cf-b98d1232303d').width('48%')"
       ],
       "metadata": {},
       "output_type": "display_data",
       "text": [
        "<IPython.core.display.Javascript at 0x118862590>"
       ]
      },
      {
       "javascript": [
        "$('div#1e4a9c18-16ca-4ae1-81cf-b98d1232303d').width('49%')"
       ],
       "metadata": {},
       "output_type": "display_data",
       "text": [
        "<IPython.core.display.Javascript at 0x118862590>"
       ]
      },
      {
       "javascript": [
        "$('div#1e4a9c18-16ca-4ae1-81cf-b98d1232303d').width('49%')"
       ],
       "metadata": {},
       "output_type": "display_data",
       "text": [
        "<IPython.core.display.Javascript at 0x118862590>"
       ]
      },
      {
       "javascript": [
        "$('div#1e4a9c18-16ca-4ae1-81cf-b98d1232303d').width('49%')"
       ],
       "metadata": {},
       "output_type": "display_data",
       "text": [
        "<IPython.core.display.Javascript at 0x118862590>"
       ]
      },
      {
       "javascript": [
        "$('div#1e4a9c18-16ca-4ae1-81cf-b98d1232303d').width('50%')"
       ],
       "metadata": {},
       "output_type": "display_data",
       "text": [
        "<IPython.core.display.Javascript at 0x118862590>"
       ]
      },
      {
       "javascript": [
        "$('div#1e4a9c18-16ca-4ae1-81cf-b98d1232303d').width('50%')"
       ],
       "metadata": {},
       "output_type": "display_data",
       "text": [
        "<IPython.core.display.Javascript at 0x118862590>"
       ]
      },
      {
       "javascript": [
        "$('div#1e4a9c18-16ca-4ae1-81cf-b98d1232303d').width('50%')"
       ],
       "metadata": {},
       "output_type": "display_data",
       "text": [
        "<IPython.core.display.Javascript at 0x118862590>"
       ]
      },
      {
       "javascript": [
        "$('div#1e4a9c18-16ca-4ae1-81cf-b98d1232303d').width('50%')"
       ],
       "metadata": {},
       "output_type": "display_data",
       "text": [
        "<IPython.core.display.Javascript at 0x118862590>"
       ]
      },
      {
       "javascript": [
        "$('div#1e4a9c18-16ca-4ae1-81cf-b98d1232303d').width('51%')"
       ],
       "metadata": {},
       "output_type": "display_data",
       "text": [
        "<IPython.core.display.Javascript at 0x118862590>"
       ]
      },
      {
       "javascript": [
        "$('div#1e4a9c18-16ca-4ae1-81cf-b98d1232303d').width('51%')"
       ],
       "metadata": {},
       "output_type": "display_data",
       "text": [
        "<IPython.core.display.Javascript at 0x118862590>"
       ]
      },
      {
       "javascript": [
        "$('div#1e4a9c18-16ca-4ae1-81cf-b98d1232303d').width('51%')"
       ],
       "metadata": {},
       "output_type": "display_data",
       "text": [
        "<IPython.core.display.Javascript at 0x118862590>"
       ]
      },
      {
       "javascript": [
        "$('div#1e4a9c18-16ca-4ae1-81cf-b98d1232303d').width('51%')"
       ],
       "metadata": {},
       "output_type": "display_data",
       "text": [
        "<IPython.core.display.Javascript at 0x118862590>"
       ]
      },
      {
       "javascript": [
        "$('div#1e4a9c18-16ca-4ae1-81cf-b98d1232303d').width('52%')"
       ],
       "metadata": {},
       "output_type": "display_data",
       "text": [
        "<IPython.core.display.Javascript at 0x118862590>"
       ]
      },
      {
       "javascript": [
        "$('div#1e4a9c18-16ca-4ae1-81cf-b98d1232303d').width('52%')"
       ],
       "metadata": {},
       "output_type": "display_data",
       "text": [
        "<IPython.core.display.Javascript at 0x118862590>"
       ]
      },
      {
       "javascript": [
        "$('div#1e4a9c18-16ca-4ae1-81cf-b98d1232303d').width('52%')"
       ],
       "metadata": {},
       "output_type": "display_data",
       "text": [
        "<IPython.core.display.Javascript at 0x118862590>"
       ]
      },
      {
       "javascript": [
        "$('div#1e4a9c18-16ca-4ae1-81cf-b98d1232303d').width('53%')"
       ],
       "metadata": {},
       "output_type": "display_data",
       "text": [
        "<IPython.core.display.Javascript at 0x118862590>"
       ]
      },
      {
       "javascript": [
        "$('div#1e4a9c18-16ca-4ae1-81cf-b98d1232303d').width('53%')"
       ],
       "metadata": {},
       "output_type": "display_data",
       "text": [
        "<IPython.core.display.Javascript at 0x118862590>"
       ]
      },
      {
       "javascript": [
        "$('div#1e4a9c18-16ca-4ae1-81cf-b98d1232303d').width('53%')"
       ],
       "metadata": {},
       "output_type": "display_data",
       "text": [
        "<IPython.core.display.Javascript at 0x118862590>"
       ]
      },
      {
       "javascript": [
        "$('div#1e4a9c18-16ca-4ae1-81cf-b98d1232303d').width('53%')"
       ],
       "metadata": {},
       "output_type": "display_data",
       "text": [
        "<IPython.core.display.Javascript at 0x118862590>"
       ]
      },
      {
       "javascript": [
        "$('div#1e4a9c18-16ca-4ae1-81cf-b98d1232303d').width('54%')"
       ],
       "metadata": {},
       "output_type": "display_data",
       "text": [
        "<IPython.core.display.Javascript at 0x118862590>"
       ]
      },
      {
       "javascript": [
        "$('div#1e4a9c18-16ca-4ae1-81cf-b98d1232303d').width('54%')"
       ],
       "metadata": {},
       "output_type": "display_data",
       "text": [
        "<IPython.core.display.Javascript at 0x118862590>"
       ]
      },
      {
       "javascript": [
        "$('div#1e4a9c18-16ca-4ae1-81cf-b98d1232303d').width('54%')"
       ],
       "metadata": {},
       "output_type": "display_data",
       "text": [
        "<IPython.core.display.Javascript at 0x118862590>"
       ]
      },
      {
       "javascript": [
        "$('div#1e4a9c18-16ca-4ae1-81cf-b98d1232303d').width('54%')"
       ],
       "metadata": {},
       "output_type": "display_data",
       "text": [
        "<IPython.core.display.Javascript at 0x118862590>"
       ]
      },
      {
       "javascript": [
        "$('div#1e4a9c18-16ca-4ae1-81cf-b98d1232303d').width('55%')"
       ],
       "metadata": {},
       "output_type": "display_data",
       "text": [
        "<IPython.core.display.Javascript at 0x118862590>"
       ]
      },
      {
       "javascript": [
        "$('div#1e4a9c18-16ca-4ae1-81cf-b98d1232303d').width('55%')"
       ],
       "metadata": {},
       "output_type": "display_data",
       "text": [
        "<IPython.core.display.Javascript at 0x118862590>"
       ]
      },
      {
       "javascript": [
        "$('div#1e4a9c18-16ca-4ae1-81cf-b98d1232303d').width('55%')"
       ],
       "metadata": {},
       "output_type": "display_data",
       "text": [
        "<IPython.core.display.Javascript at 0x118862590>"
       ]
      },
      {
       "javascript": [
        "$('div#1e4a9c18-16ca-4ae1-81cf-b98d1232303d').width('56%')"
       ],
       "metadata": {},
       "output_type": "display_data",
       "text": [
        "<IPython.core.display.Javascript at 0x118862590>"
       ]
      },
      {
       "javascript": [
        "$('div#1e4a9c18-16ca-4ae1-81cf-b98d1232303d').width('56%')"
       ],
       "metadata": {},
       "output_type": "display_data",
       "text": [
        "<IPython.core.display.Javascript at 0x118862590>"
       ]
      },
      {
       "javascript": [
        "$('div#1e4a9c18-16ca-4ae1-81cf-b98d1232303d').width('56%')"
       ],
       "metadata": {},
       "output_type": "display_data",
       "text": [
        "<IPython.core.display.Javascript at 0x118862590>"
       ]
      },
      {
       "javascript": [
        "$('div#1e4a9c18-16ca-4ae1-81cf-b98d1232303d').width('56%')"
       ],
       "metadata": {},
       "output_type": "display_data",
       "text": [
        "<IPython.core.display.Javascript at 0x118862590>"
       ]
      },
      {
       "javascript": [
        "$('div#1e4a9c18-16ca-4ae1-81cf-b98d1232303d').width('57%')"
       ],
       "metadata": {},
       "output_type": "display_data",
       "text": [
        "<IPython.core.display.Javascript at 0x118862590>"
       ]
      },
      {
       "javascript": [
        "$('div#1e4a9c18-16ca-4ae1-81cf-b98d1232303d').width('57%')"
       ],
       "metadata": {},
       "output_type": "display_data",
       "text": [
        "<IPython.core.display.Javascript at 0x118862590>"
       ]
      },
      {
       "javascript": [
        "$('div#1e4a9c18-16ca-4ae1-81cf-b98d1232303d').width('57%')"
       ],
       "metadata": {},
       "output_type": "display_data",
       "text": [
        "<IPython.core.display.Javascript at 0x118862590>"
       ]
      },
      {
       "javascript": [
        "$('div#1e4a9c18-16ca-4ae1-81cf-b98d1232303d').width('57%')"
       ],
       "metadata": {},
       "output_type": "display_data",
       "text": [
        "<IPython.core.display.Javascript at 0x118862590>"
       ]
      },
      {
       "javascript": [
        "$('div#1e4a9c18-16ca-4ae1-81cf-b98d1232303d').width('58%')"
       ],
       "metadata": {},
       "output_type": "display_data",
       "text": [
        "<IPython.core.display.Javascript at 0x118862590>"
       ]
      },
      {
       "javascript": [
        "$('div#1e4a9c18-16ca-4ae1-81cf-b98d1232303d').width('58%')"
       ],
       "metadata": {},
       "output_type": "display_data",
       "text": [
        "<IPython.core.display.Javascript at 0x118862590>"
       ]
      },
      {
       "javascript": [
        "$('div#1e4a9c18-16ca-4ae1-81cf-b98d1232303d').width('58%')"
       ],
       "metadata": {},
       "output_type": "display_data",
       "text": [
        "<IPython.core.display.Javascript at 0x118862590>"
       ]
      },
      {
       "javascript": [
        "$('div#1e4a9c18-16ca-4ae1-81cf-b98d1232303d').width('59%')"
       ],
       "metadata": {},
       "output_type": "display_data",
       "text": [
        "<IPython.core.display.Javascript at 0x118862590>"
       ]
      },
      {
       "javascript": [
        "$('div#1e4a9c18-16ca-4ae1-81cf-b98d1232303d').width('59%')"
       ],
       "metadata": {},
       "output_type": "display_data",
       "text": [
        "<IPython.core.display.Javascript at 0x118862590>"
       ]
      },
      {
       "javascript": [
        "$('div#1e4a9c18-16ca-4ae1-81cf-b98d1232303d').width('59%')"
       ],
       "metadata": {},
       "output_type": "display_data",
       "text": [
        "<IPython.core.display.Javascript at 0x118862590>"
       ]
      },
      {
       "javascript": [
        "$('div#1e4a9c18-16ca-4ae1-81cf-b98d1232303d').width('59%')"
       ],
       "metadata": {},
       "output_type": "display_data",
       "text": [
        "<IPython.core.display.Javascript at 0x118862590>"
       ]
      },
      {
       "javascript": [
        "$('div#1e4a9c18-16ca-4ae1-81cf-b98d1232303d').width('60%')"
       ],
       "metadata": {},
       "output_type": "display_data",
       "text": [
        "<IPython.core.display.Javascript at 0x118862590>"
       ]
      },
      {
       "javascript": [
        "$('div#1e4a9c18-16ca-4ae1-81cf-b98d1232303d').width('60%')"
       ],
       "metadata": {},
       "output_type": "display_data",
       "text": [
        "<IPython.core.display.Javascript at 0x118862590>"
       ]
      },
      {
       "javascript": [
        "$('div#1e4a9c18-16ca-4ae1-81cf-b98d1232303d').width('60%')"
       ],
       "metadata": {},
       "output_type": "display_data",
       "text": [
        "<IPython.core.display.Javascript at 0x118862590>"
       ]
      },
      {
       "javascript": [
        "$('div#1e4a9c18-16ca-4ae1-81cf-b98d1232303d').width('60%')"
       ],
       "metadata": {},
       "output_type": "display_data",
       "text": [
        "<IPython.core.display.Javascript at 0x118862590>"
       ]
      },
      {
       "javascript": [
        "$('div#1e4a9c18-16ca-4ae1-81cf-b98d1232303d').width('61%')"
       ],
       "metadata": {},
       "output_type": "display_data",
       "text": [
        "<IPython.core.display.Javascript at 0x118862590>"
       ]
      },
      {
       "javascript": [
        "$('div#1e4a9c18-16ca-4ae1-81cf-b98d1232303d').width('61%')"
       ],
       "metadata": {},
       "output_type": "display_data",
       "text": [
        "<IPython.core.display.Javascript at 0x118862590>"
       ]
      },
      {
       "javascript": [
        "$('div#1e4a9c18-16ca-4ae1-81cf-b98d1232303d').width('61%')"
       ],
       "metadata": {},
       "output_type": "display_data",
       "text": [
        "<IPython.core.display.Javascript at 0x118862590>"
       ]
      },
      {
       "javascript": [
        "$('div#1e4a9c18-16ca-4ae1-81cf-b98d1232303d').width('62%')"
       ],
       "metadata": {},
       "output_type": "display_data",
       "text": [
        "<IPython.core.display.Javascript at 0x118862590>"
       ]
      },
      {
       "javascript": [
        "$('div#1e4a9c18-16ca-4ae1-81cf-b98d1232303d').width('62%')"
       ],
       "metadata": {},
       "output_type": "display_data",
       "text": [
        "<IPython.core.display.Javascript at 0x118862590>"
       ]
      },
      {
       "javascript": [
        "$('div#1e4a9c18-16ca-4ae1-81cf-b98d1232303d').width('62%')"
       ],
       "metadata": {},
       "output_type": "display_data",
       "text": [
        "<IPython.core.display.Javascript at 0x118862590>"
       ]
      },
      {
       "javascript": [
        "$('div#1e4a9c18-16ca-4ae1-81cf-b98d1232303d').width('62%')"
       ],
       "metadata": {},
       "output_type": "display_data",
       "text": [
        "<IPython.core.display.Javascript at 0x118862590>"
       ]
      },
      {
       "javascript": [
        "$('div#1e4a9c18-16ca-4ae1-81cf-b98d1232303d').width('63%')"
       ],
       "metadata": {},
       "output_type": "display_data",
       "text": [
        "<IPython.core.display.Javascript at 0x118862590>"
       ]
      },
      {
       "javascript": [
        "$('div#1e4a9c18-16ca-4ae1-81cf-b98d1232303d').width('63%')"
       ],
       "metadata": {},
       "output_type": "display_data",
       "text": [
        "<IPython.core.display.Javascript at 0x118862590>"
       ]
      },
      {
       "javascript": [
        "$('div#1e4a9c18-16ca-4ae1-81cf-b98d1232303d').width('63%')"
       ],
       "metadata": {},
       "output_type": "display_data",
       "text": [
        "<IPython.core.display.Javascript at 0x118862590>"
       ]
      },
      {
       "javascript": [
        "$('div#1e4a9c18-16ca-4ae1-81cf-b98d1232303d').width('64%')"
       ],
       "metadata": {},
       "output_type": "display_data",
       "text": [
        "<IPython.core.display.Javascript at 0x118862590>"
       ]
      },
      {
       "javascript": [
        "$('div#1e4a9c18-16ca-4ae1-81cf-b98d1232303d').width('64%')"
       ],
       "metadata": {},
       "output_type": "display_data",
       "text": [
        "<IPython.core.display.Javascript at 0x118862590>"
       ]
      },
      {
       "javascript": [
        "$('div#1e4a9c18-16ca-4ae1-81cf-b98d1232303d').width('64%')"
       ],
       "metadata": {},
       "output_type": "display_data",
       "text": [
        "<IPython.core.display.Javascript at 0x118862590>"
       ]
      },
      {
       "javascript": [
        "$('div#1e4a9c18-16ca-4ae1-81cf-b98d1232303d').width('64%')"
       ],
       "metadata": {},
       "output_type": "display_data",
       "text": [
        "<IPython.core.display.Javascript at 0x118862590>"
       ]
      },
      {
       "javascript": [
        "$('div#1e4a9c18-16ca-4ae1-81cf-b98d1232303d').width('65%')"
       ],
       "metadata": {},
       "output_type": "display_data",
       "text": [
        "<IPython.core.display.Javascript at 0x118862590>"
       ]
      },
      {
       "javascript": [
        "$('div#1e4a9c18-16ca-4ae1-81cf-b98d1232303d').width('65%')"
       ],
       "metadata": {},
       "output_type": "display_data",
       "text": [
        "<IPython.core.display.Javascript at 0x118862590>"
       ]
      },
      {
       "javascript": [
        "$('div#1e4a9c18-16ca-4ae1-81cf-b98d1232303d').width('65%')"
       ],
       "metadata": {},
       "output_type": "display_data",
       "text": [
        "<IPython.core.display.Javascript at 0x118862590>"
       ]
      },
      {
       "javascript": [
        "$('div#1e4a9c18-16ca-4ae1-81cf-b98d1232303d').width('65%')"
       ],
       "metadata": {},
       "output_type": "display_data",
       "text": [
        "<IPython.core.display.Javascript at 0x118862590>"
       ]
      },
      {
       "javascript": [
        "$('div#1e4a9c18-16ca-4ae1-81cf-b98d1232303d').width('66%')"
       ],
       "metadata": {},
       "output_type": "display_data",
       "text": [
        "<IPython.core.display.Javascript at 0x118862590>"
       ]
      },
      {
       "javascript": [
        "$('div#1e4a9c18-16ca-4ae1-81cf-b98d1232303d').width('66%')"
       ],
       "metadata": {},
       "output_type": "display_data",
       "text": [
        "<IPython.core.display.Javascript at 0x118862590>"
       ]
      },
      {
       "javascript": [
        "$('div#1e4a9c18-16ca-4ae1-81cf-b98d1232303d').width('66%')"
       ],
       "metadata": {},
       "output_type": "display_data",
       "text": [
        "<IPython.core.display.Javascript at 0x118862590>"
       ]
      },
      {
       "javascript": [
        "$('div#1e4a9c18-16ca-4ae1-81cf-b98d1232303d').width('67%')"
       ],
       "metadata": {},
       "output_type": "display_data",
       "text": [
        "<IPython.core.display.Javascript at 0x118862590>"
       ]
      },
      {
       "javascript": [
        "$('div#1e4a9c18-16ca-4ae1-81cf-b98d1232303d').width('67%')"
       ],
       "metadata": {},
       "output_type": "display_data",
       "text": [
        "<IPython.core.display.Javascript at 0x118862590>"
       ]
      },
      {
       "javascript": [
        "$('div#1e4a9c18-16ca-4ae1-81cf-b98d1232303d').width('67%')"
       ],
       "metadata": {},
       "output_type": "display_data",
       "text": [
        "<IPython.core.display.Javascript at 0x118862590>"
       ]
      },
      {
       "javascript": [
        "$('div#1e4a9c18-16ca-4ae1-81cf-b98d1232303d').width('67%')"
       ],
       "metadata": {},
       "output_type": "display_data",
       "text": [
        "<IPython.core.display.Javascript at 0x118862590>"
       ]
      },
      {
       "javascript": [
        "$('div#1e4a9c18-16ca-4ae1-81cf-b98d1232303d').width('68%')"
       ],
       "metadata": {},
       "output_type": "display_data",
       "text": [
        "<IPython.core.display.Javascript at 0x118862590>"
       ]
      },
      {
       "javascript": [
        "$('div#1e4a9c18-16ca-4ae1-81cf-b98d1232303d').width('68%')"
       ],
       "metadata": {},
       "output_type": "display_data",
       "text": [
        "<IPython.core.display.Javascript at 0x118862590>"
       ]
      },
      {
       "javascript": [
        "$('div#1e4a9c18-16ca-4ae1-81cf-b98d1232303d').width('68%')"
       ],
       "metadata": {},
       "output_type": "display_data",
       "text": [
        "<IPython.core.display.Javascript at 0x118862590>"
       ]
      },
      {
       "javascript": [
        "$('div#1e4a9c18-16ca-4ae1-81cf-b98d1232303d').width('68%')"
       ],
       "metadata": {},
       "output_type": "display_data",
       "text": [
        "<IPython.core.display.Javascript at 0x118862590>"
       ]
      },
      {
       "javascript": [
        "$('div#1e4a9c18-16ca-4ae1-81cf-b98d1232303d').width('69%')"
       ],
       "metadata": {},
       "output_type": "display_data",
       "text": [
        "<IPython.core.display.Javascript at 0x118862590>"
       ]
      },
      {
       "javascript": [
        "$('div#1e4a9c18-16ca-4ae1-81cf-b98d1232303d').width('69%')"
       ],
       "metadata": {},
       "output_type": "display_data",
       "text": [
        "<IPython.core.display.Javascript at 0x118862590>"
       ]
      },
      {
       "javascript": [
        "$('div#1e4a9c18-16ca-4ae1-81cf-b98d1232303d').width('69%')"
       ],
       "metadata": {},
       "output_type": "display_data",
       "text": [
        "<IPython.core.display.Javascript at 0x118862590>"
       ]
      },
      {
       "javascript": [
        "$('div#1e4a9c18-16ca-4ae1-81cf-b98d1232303d').width('70%')"
       ],
       "metadata": {},
       "output_type": "display_data",
       "text": [
        "<IPython.core.display.Javascript at 0x118862590>"
       ]
      },
      {
       "javascript": [
        "$('div#1e4a9c18-16ca-4ae1-81cf-b98d1232303d').width('70%')"
       ],
       "metadata": {},
       "output_type": "display_data",
       "text": [
        "<IPython.core.display.Javascript at 0x118862590>"
       ]
      },
      {
       "javascript": [
        "$('div#1e4a9c18-16ca-4ae1-81cf-b98d1232303d').width('70%')"
       ],
       "metadata": {},
       "output_type": "display_data",
       "text": [
        "<IPython.core.display.Javascript at 0x118862590>"
       ]
      },
      {
       "javascript": [
        "$('div#1e4a9c18-16ca-4ae1-81cf-b98d1232303d').width('70%')"
       ],
       "metadata": {},
       "output_type": "display_data",
       "text": [
        "<IPython.core.display.Javascript at 0x118862590>"
       ]
      },
      {
       "javascript": [
        "$('div#1e4a9c18-16ca-4ae1-81cf-b98d1232303d').width('71%')"
       ],
       "metadata": {},
       "output_type": "display_data",
       "text": [
        "<IPython.core.display.Javascript at 0x118862590>"
       ]
      },
      {
       "javascript": [
        "$('div#1e4a9c18-16ca-4ae1-81cf-b98d1232303d').width('71%')"
       ],
       "metadata": {},
       "output_type": "display_data",
       "text": [
        "<IPython.core.display.Javascript at 0x118862590>"
       ]
      },
      {
       "javascript": [
        "$('div#1e4a9c18-16ca-4ae1-81cf-b98d1232303d').width('71%')"
       ],
       "metadata": {},
       "output_type": "display_data",
       "text": [
        "<IPython.core.display.Javascript at 0x118862590>"
       ]
      },
      {
       "javascript": [
        "$('div#1e4a9c18-16ca-4ae1-81cf-b98d1232303d').width('71%')"
       ],
       "metadata": {},
       "output_type": "display_data",
       "text": [
        "<IPython.core.display.Javascript at 0x118862590>"
       ]
      },
      {
       "javascript": [
        "$('div#1e4a9c18-16ca-4ae1-81cf-b98d1232303d').width('72%')"
       ],
       "metadata": {},
       "output_type": "display_data",
       "text": [
        "<IPython.core.display.Javascript at 0x118862590>"
       ]
      },
      {
       "javascript": [
        "$('div#1e4a9c18-16ca-4ae1-81cf-b98d1232303d').width('72%')"
       ],
       "metadata": {},
       "output_type": "display_data",
       "text": [
        "<IPython.core.display.Javascript at 0x118862590>"
       ]
      },
      {
       "javascript": [
        "$('div#1e4a9c18-16ca-4ae1-81cf-b98d1232303d').width('72%')"
       ],
       "metadata": {},
       "output_type": "display_data",
       "text": [
        "<IPython.core.display.Javascript at 0x118862590>"
       ]
      },
      {
       "javascript": [
        "$('div#1e4a9c18-16ca-4ae1-81cf-b98d1232303d').width('73%')"
       ],
       "metadata": {},
       "output_type": "display_data",
       "text": [
        "<IPython.core.display.Javascript at 0x118862590>"
       ]
      },
      {
       "javascript": [
        "$('div#1e4a9c18-16ca-4ae1-81cf-b98d1232303d').width('73%')"
       ],
       "metadata": {},
       "output_type": "display_data",
       "text": [
        "<IPython.core.display.Javascript at 0x118862590>"
       ]
      },
      {
       "javascript": [
        "$('div#1e4a9c18-16ca-4ae1-81cf-b98d1232303d').width('73%')"
       ],
       "metadata": {},
       "output_type": "display_data",
       "text": [
        "<IPython.core.display.Javascript at 0x118862590>"
       ]
      },
      {
       "javascript": [
        "$('div#1e4a9c18-16ca-4ae1-81cf-b98d1232303d').width('73%')"
       ],
       "metadata": {},
       "output_type": "display_data",
       "text": [
        "<IPython.core.display.Javascript at 0x118862590>"
       ]
      },
      {
       "javascript": [
        "$('div#1e4a9c18-16ca-4ae1-81cf-b98d1232303d').width('74%')"
       ],
       "metadata": {},
       "output_type": "display_data",
       "text": [
        "<IPython.core.display.Javascript at 0x118862590>"
       ]
      },
      {
       "javascript": [
        "$('div#1e4a9c18-16ca-4ae1-81cf-b98d1232303d').width('74%')"
       ],
       "metadata": {},
       "output_type": "display_data",
       "text": [
        "<IPython.core.display.Javascript at 0x118862590>"
       ]
      },
      {
       "javascript": [
        "$('div#1e4a9c18-16ca-4ae1-81cf-b98d1232303d').width('74%')"
       ],
       "metadata": {},
       "output_type": "display_data",
       "text": [
        "<IPython.core.display.Javascript at 0x118862590>"
       ]
      },
      {
       "javascript": [
        "$('div#1e4a9c18-16ca-4ae1-81cf-b98d1232303d').width('75%')"
       ],
       "metadata": {},
       "output_type": "display_data",
       "text": [
        "<IPython.core.display.Javascript at 0x118862590>"
       ]
      },
      {
       "javascript": [
        "$('div#1e4a9c18-16ca-4ae1-81cf-b98d1232303d').width('75%')"
       ],
       "metadata": {},
       "output_type": "display_data",
       "text": [
        "<IPython.core.display.Javascript at 0x118862590>"
       ]
      },
      {
       "javascript": [
        "$('div#1e4a9c18-16ca-4ae1-81cf-b98d1232303d').width('75%')"
       ],
       "metadata": {},
       "output_type": "display_data",
       "text": [
        "<IPython.core.display.Javascript at 0x118862590>"
       ]
      },
      {
       "javascript": [
        "$('div#1e4a9c18-16ca-4ae1-81cf-b98d1232303d').width('75%')"
       ],
       "metadata": {},
       "output_type": "display_data",
       "text": [
        "<IPython.core.display.Javascript at 0x118862590>"
       ]
      },
      {
       "javascript": [
        "$('div#1e4a9c18-16ca-4ae1-81cf-b98d1232303d').width('76%')"
       ],
       "metadata": {},
       "output_type": "display_data",
       "text": [
        "<IPython.core.display.Javascript at 0x118862590>"
       ]
      },
      {
       "javascript": [
        "$('div#1e4a9c18-16ca-4ae1-81cf-b98d1232303d').width('76%')"
       ],
       "metadata": {},
       "output_type": "display_data",
       "text": [
        "<IPython.core.display.Javascript at 0x118862590>"
       ]
      },
      {
       "javascript": [
        "$('div#1e4a9c18-16ca-4ae1-81cf-b98d1232303d').width('76%')"
       ],
       "metadata": {},
       "output_type": "display_data",
       "text": [
        "<IPython.core.display.Javascript at 0x118862590>"
       ]
      },
      {
       "javascript": [
        "$('div#1e4a9c18-16ca-4ae1-81cf-b98d1232303d').width('76%')"
       ],
       "metadata": {},
       "output_type": "display_data",
       "text": [
        "<IPython.core.display.Javascript at 0x118862590>"
       ]
      },
      {
       "javascript": [
        "$('div#1e4a9c18-16ca-4ae1-81cf-b98d1232303d').width('77%')"
       ],
       "metadata": {},
       "output_type": "display_data",
       "text": [
        "<IPython.core.display.Javascript at 0x118862590>"
       ]
      },
      {
       "javascript": [
        "$('div#1e4a9c18-16ca-4ae1-81cf-b98d1232303d').width('77%')"
       ],
       "metadata": {},
       "output_type": "display_data",
       "text": [
        "<IPython.core.display.Javascript at 0x118862590>"
       ]
      },
      {
       "javascript": [
        "$('div#1e4a9c18-16ca-4ae1-81cf-b98d1232303d').width('77%')"
       ],
       "metadata": {},
       "output_type": "display_data",
       "text": [
        "<IPython.core.display.Javascript at 0x118862590>"
       ]
      },
      {
       "javascript": [
        "$('div#1e4a9c18-16ca-4ae1-81cf-b98d1232303d').width('78%')"
       ],
       "metadata": {},
       "output_type": "display_data",
       "text": [
        "<IPython.core.display.Javascript at 0x118862590>"
       ]
      },
      {
       "javascript": [
        "$('div#1e4a9c18-16ca-4ae1-81cf-b98d1232303d').width('78%')"
       ],
       "metadata": {},
       "output_type": "display_data",
       "text": [
        "<IPython.core.display.Javascript at 0x118862590>"
       ]
      },
      {
       "javascript": [
        "$('div#1e4a9c18-16ca-4ae1-81cf-b98d1232303d').width('78%')"
       ],
       "metadata": {},
       "output_type": "display_data",
       "text": [
        "<IPython.core.display.Javascript at 0x118862590>"
       ]
      },
      {
       "javascript": [
        "$('div#1e4a9c18-16ca-4ae1-81cf-b98d1232303d').width('78%')"
       ],
       "metadata": {},
       "output_type": "display_data",
       "text": [
        "<IPython.core.display.Javascript at 0x118862590>"
       ]
      },
      {
       "javascript": [
        "$('div#1e4a9c18-16ca-4ae1-81cf-b98d1232303d').width('79%')"
       ],
       "metadata": {},
       "output_type": "display_data",
       "text": [
        "<IPython.core.display.Javascript at 0x118862590>"
       ]
      },
      {
       "javascript": [
        "$('div#1e4a9c18-16ca-4ae1-81cf-b98d1232303d').width('79%')"
       ],
       "metadata": {},
       "output_type": "display_data",
       "text": [
        "<IPython.core.display.Javascript at 0x118862590>"
       ]
      },
      {
       "javascript": [
        "$('div#1e4a9c18-16ca-4ae1-81cf-b98d1232303d').width('79%')"
       ],
       "metadata": {},
       "output_type": "display_data",
       "text": [
        "<IPython.core.display.Javascript at 0x118862590>"
       ]
      },
      {
       "javascript": [
        "$('div#1e4a9c18-16ca-4ae1-81cf-b98d1232303d').width('79%')"
       ],
       "metadata": {},
       "output_type": "display_data",
       "text": [
        "<IPython.core.display.Javascript at 0x118862590>"
       ]
      },
      {
       "javascript": [
        "$('div#1e4a9c18-16ca-4ae1-81cf-b98d1232303d').width('80%')"
       ],
       "metadata": {},
       "output_type": "display_data",
       "text": [
        "<IPython.core.display.Javascript at 0x118862590>"
       ]
      },
      {
       "javascript": [
        "$('div#1e4a9c18-16ca-4ae1-81cf-b98d1232303d').width('80%')"
       ],
       "metadata": {},
       "output_type": "display_data",
       "text": [
        "<IPython.core.display.Javascript at 0x118862590>"
       ]
      },
      {
       "javascript": [
        "$('div#1e4a9c18-16ca-4ae1-81cf-b98d1232303d').width('80%')"
       ],
       "metadata": {},
       "output_type": "display_data",
       "text": [
        "<IPython.core.display.Javascript at 0x118862590>"
       ]
      },
      {
       "javascript": [
        "$('div#1e4a9c18-16ca-4ae1-81cf-b98d1232303d').width('81%')"
       ],
       "metadata": {},
       "output_type": "display_data",
       "text": [
        "<IPython.core.display.Javascript at 0x118862590>"
       ]
      },
      {
       "javascript": [
        "$('div#1e4a9c18-16ca-4ae1-81cf-b98d1232303d').width('81%')"
       ],
       "metadata": {},
       "output_type": "display_data",
       "text": [
        "<IPython.core.display.Javascript at 0x118862590>"
       ]
      },
      {
       "javascript": [
        "$('div#1e4a9c18-16ca-4ae1-81cf-b98d1232303d').width('81%')"
       ],
       "metadata": {},
       "output_type": "display_data",
       "text": [
        "<IPython.core.display.Javascript at 0x118862590>"
       ]
      },
      {
       "javascript": [
        "$('div#1e4a9c18-16ca-4ae1-81cf-b98d1232303d').width('81%')"
       ],
       "metadata": {},
       "output_type": "display_data",
       "text": [
        "<IPython.core.display.Javascript at 0x118862590>"
       ]
      },
      {
       "javascript": [
        "$('div#1e4a9c18-16ca-4ae1-81cf-b98d1232303d').width('82%')"
       ],
       "metadata": {},
       "output_type": "display_data",
       "text": [
        "<IPython.core.display.Javascript at 0x118862590>"
       ]
      },
      {
       "javascript": [
        "$('div#1e4a9c18-16ca-4ae1-81cf-b98d1232303d').width('82%')"
       ],
       "metadata": {},
       "output_type": "display_data",
       "text": [
        "<IPython.core.display.Javascript at 0x118862590>"
       ]
      },
      {
       "javascript": [
        "$('div#1e4a9c18-16ca-4ae1-81cf-b98d1232303d').width('82%')"
       ],
       "metadata": {},
       "output_type": "display_data",
       "text": [
        "<IPython.core.display.Javascript at 0x118862590>"
       ]
      },
      {
       "javascript": [
        "$('div#1e4a9c18-16ca-4ae1-81cf-b98d1232303d').width('82%')"
       ],
       "metadata": {},
       "output_type": "display_data",
       "text": [
        "<IPython.core.display.Javascript at 0x118862590>"
       ]
      },
      {
       "javascript": [
        "$('div#1e4a9c18-16ca-4ae1-81cf-b98d1232303d').width('83%')"
       ],
       "metadata": {},
       "output_type": "display_data",
       "text": [
        "<IPython.core.display.Javascript at 0x118862590>"
       ]
      },
      {
       "javascript": [
        "$('div#1e4a9c18-16ca-4ae1-81cf-b98d1232303d').width('83%')"
       ],
       "metadata": {},
       "output_type": "display_data",
       "text": [
        "<IPython.core.display.Javascript at 0x118862590>"
       ]
      },
      {
       "javascript": [
        "$('div#1e4a9c18-16ca-4ae1-81cf-b98d1232303d').width('83%')"
       ],
       "metadata": {},
       "output_type": "display_data",
       "text": [
        "<IPython.core.display.Javascript at 0x118862590>"
       ]
      },
      {
       "javascript": [
        "$('div#1e4a9c18-16ca-4ae1-81cf-b98d1232303d').width('84%')"
       ],
       "metadata": {},
       "output_type": "display_data",
       "text": [
        "<IPython.core.display.Javascript at 0x118862590>"
       ]
      },
      {
       "javascript": [
        "$('div#1e4a9c18-16ca-4ae1-81cf-b98d1232303d').width('84%')"
       ],
       "metadata": {},
       "output_type": "display_data",
       "text": [
        "<IPython.core.display.Javascript at 0x118862590>"
       ]
      },
      {
       "javascript": [
        "$('div#1e4a9c18-16ca-4ae1-81cf-b98d1232303d').width('84%')"
       ],
       "metadata": {},
       "output_type": "display_data",
       "text": [
        "<IPython.core.display.Javascript at 0x118862590>"
       ]
      },
      {
       "javascript": [
        "$('div#1e4a9c18-16ca-4ae1-81cf-b98d1232303d').width('84%')"
       ],
       "metadata": {},
       "output_type": "display_data",
       "text": [
        "<IPython.core.display.Javascript at 0x118862590>"
       ]
      },
      {
       "javascript": [
        "$('div#1e4a9c18-16ca-4ae1-81cf-b98d1232303d').width('85%')"
       ],
       "metadata": {},
       "output_type": "display_data",
       "text": [
        "<IPython.core.display.Javascript at 0x118862590>"
       ]
      },
      {
       "javascript": [
        "$('div#1e4a9c18-16ca-4ae1-81cf-b98d1232303d').width('85%')"
       ],
       "metadata": {},
       "output_type": "display_data",
       "text": [
        "<IPython.core.display.Javascript at 0x118862590>"
       ]
      },
      {
       "javascript": [
        "$('div#1e4a9c18-16ca-4ae1-81cf-b98d1232303d').width('85%')"
       ],
       "metadata": {},
       "output_type": "display_data",
       "text": [
        "<IPython.core.display.Javascript at 0x118862590>"
       ]
      },
      {
       "javascript": [
        "$('div#1e4a9c18-16ca-4ae1-81cf-b98d1232303d').width('85%')"
       ],
       "metadata": {},
       "output_type": "display_data",
       "text": [
        "<IPython.core.display.Javascript at 0x118862590>"
       ]
      },
      {
       "javascript": [
        "$('div#1e4a9c18-16ca-4ae1-81cf-b98d1232303d').width('86%')"
       ],
       "metadata": {},
       "output_type": "display_data",
       "text": [
        "<IPython.core.display.Javascript at 0x118862590>"
       ]
      },
      {
       "javascript": [
        "$('div#1e4a9c18-16ca-4ae1-81cf-b98d1232303d').width('86%')"
       ],
       "metadata": {},
       "output_type": "display_data",
       "text": [
        "<IPython.core.display.Javascript at 0x118862590>"
       ]
      },
      {
       "javascript": [
        "$('div#1e4a9c18-16ca-4ae1-81cf-b98d1232303d').width('86%')"
       ],
       "metadata": {},
       "output_type": "display_data",
       "text": [
        "<IPython.core.display.Javascript at 0x118862590>"
       ]
      },
      {
       "javascript": [
        "$('div#1e4a9c18-16ca-4ae1-81cf-b98d1232303d').width('87%')"
       ],
       "metadata": {},
       "output_type": "display_data",
       "text": [
        "<IPython.core.display.Javascript at 0x118862590>"
       ]
      },
      {
       "javascript": [
        "$('div#1e4a9c18-16ca-4ae1-81cf-b98d1232303d').width('87%')"
       ],
       "metadata": {},
       "output_type": "display_data",
       "text": [
        "<IPython.core.display.Javascript at 0x118862590>"
       ]
      },
      {
       "javascript": [
        "$('div#1e4a9c18-16ca-4ae1-81cf-b98d1232303d').width('87%')"
       ],
       "metadata": {},
       "output_type": "display_data",
       "text": [
        "<IPython.core.display.Javascript at 0x118862590>"
       ]
      },
      {
       "javascript": [
        "$('div#1e4a9c18-16ca-4ae1-81cf-b98d1232303d').width('87%')"
       ],
       "metadata": {},
       "output_type": "display_data",
       "text": [
        "<IPython.core.display.Javascript at 0x118862590>"
       ]
      },
      {
       "javascript": [
        "$('div#1e4a9c18-16ca-4ae1-81cf-b98d1232303d').width('88%')"
       ],
       "metadata": {},
       "output_type": "display_data",
       "text": [
        "<IPython.core.display.Javascript at 0x118862590>"
       ]
      },
      {
       "javascript": [
        "$('div#1e4a9c18-16ca-4ae1-81cf-b98d1232303d').width('88%')"
       ],
       "metadata": {},
       "output_type": "display_data",
       "text": [
        "<IPython.core.display.Javascript at 0x118862590>"
       ]
      },
      {
       "javascript": [
        "$('div#1e4a9c18-16ca-4ae1-81cf-b98d1232303d').width('88%')"
       ],
       "metadata": {},
       "output_type": "display_data",
       "text": [
        "<IPython.core.display.Javascript at 0x118862590>"
       ]
      },
      {
       "javascript": [
        "$('div#1e4a9c18-16ca-4ae1-81cf-b98d1232303d').width('89%')"
       ],
       "metadata": {},
       "output_type": "display_data",
       "text": [
        "<IPython.core.display.Javascript at 0x118862590>"
       ]
      },
      {
       "javascript": [
        "$('div#1e4a9c18-16ca-4ae1-81cf-b98d1232303d').width('89%')"
       ],
       "metadata": {},
       "output_type": "display_data",
       "text": [
        "<IPython.core.display.Javascript at 0x118862590>"
       ]
      },
      {
       "javascript": [
        "$('div#1e4a9c18-16ca-4ae1-81cf-b98d1232303d').width('89%')"
       ],
       "metadata": {},
       "output_type": "display_data",
       "text": [
        "<IPython.core.display.Javascript at 0x118862590>"
       ]
      },
      {
       "javascript": [
        "$('div#1e4a9c18-16ca-4ae1-81cf-b98d1232303d').width('89%')"
       ],
       "metadata": {},
       "output_type": "display_data",
       "text": [
        "<IPython.core.display.Javascript at 0x118862590>"
       ]
      },
      {
       "javascript": [
        "$('div#1e4a9c18-16ca-4ae1-81cf-b98d1232303d').width('90%')"
       ],
       "metadata": {},
       "output_type": "display_data",
       "text": [
        "<IPython.core.display.Javascript at 0x118862590>"
       ]
      },
      {
       "javascript": [
        "$('div#1e4a9c18-16ca-4ae1-81cf-b98d1232303d').width('90%')"
       ],
       "metadata": {},
       "output_type": "display_data",
       "text": [
        "<IPython.core.display.Javascript at 0x118862590>"
       ]
      },
      {
       "javascript": [
        "$('div#1e4a9c18-16ca-4ae1-81cf-b98d1232303d').width('90%')"
       ],
       "metadata": {},
       "output_type": "display_data",
       "text": [
        "<IPython.core.display.Javascript at 0x118862590>"
       ]
      },
      {
       "javascript": [
        "$('div#1e4a9c18-16ca-4ae1-81cf-b98d1232303d').width('90%')"
       ],
       "metadata": {},
       "output_type": "display_data",
       "text": [
        "<IPython.core.display.Javascript at 0x118862590>"
       ]
      },
      {
       "javascript": [
        "$('div#1e4a9c18-16ca-4ae1-81cf-b98d1232303d').width('91%')"
       ],
       "metadata": {},
       "output_type": "display_data",
       "text": [
        "<IPython.core.display.Javascript at 0x118862590>"
       ]
      },
      {
       "javascript": [
        "$('div#1e4a9c18-16ca-4ae1-81cf-b98d1232303d').width('91%')"
       ],
       "metadata": {},
       "output_type": "display_data",
       "text": [
        "<IPython.core.display.Javascript at 0x118862590>"
       ]
      },
      {
       "javascript": [
        "$('div#1e4a9c18-16ca-4ae1-81cf-b98d1232303d').width('91%')"
       ],
       "metadata": {},
       "output_type": "display_data",
       "text": [
        "<IPython.core.display.Javascript at 0x118862590>"
       ]
      },
      {
       "javascript": [
        "$('div#1e4a9c18-16ca-4ae1-81cf-b98d1232303d').width('92%')"
       ],
       "metadata": {},
       "output_type": "display_data",
       "text": [
        "<IPython.core.display.Javascript at 0x118862590>"
       ]
      },
      {
       "javascript": [
        "$('div#1e4a9c18-16ca-4ae1-81cf-b98d1232303d').width('92%')"
       ],
       "metadata": {},
       "output_type": "display_data",
       "text": [
        "<IPython.core.display.Javascript at 0x118862590>"
       ]
      },
      {
       "javascript": [
        "$('div#1e4a9c18-16ca-4ae1-81cf-b98d1232303d').width('92%')"
       ],
       "metadata": {},
       "output_type": "display_data",
       "text": [
        "<IPython.core.display.Javascript at 0x118862590>"
       ]
      },
      {
       "javascript": [
        "$('div#1e4a9c18-16ca-4ae1-81cf-b98d1232303d').width('92%')"
       ],
       "metadata": {},
       "output_type": "display_data",
       "text": [
        "<IPython.core.display.Javascript at 0x118862590>"
       ]
      },
      {
       "javascript": [
        "$('div#1e4a9c18-16ca-4ae1-81cf-b98d1232303d').width('93%')"
       ],
       "metadata": {},
       "output_type": "display_data",
       "text": [
        "<IPython.core.display.Javascript at 0x118862590>"
       ]
      },
      {
       "javascript": [
        "$('div#1e4a9c18-16ca-4ae1-81cf-b98d1232303d').width('93%')"
       ],
       "metadata": {},
       "output_type": "display_data",
       "text": [
        "<IPython.core.display.Javascript at 0x118862590>"
       ]
      },
      {
       "javascript": [
        "$('div#1e4a9c18-16ca-4ae1-81cf-b98d1232303d').width('93%')"
       ],
       "metadata": {},
       "output_type": "display_data",
       "text": [
        "<IPython.core.display.Javascript at 0x118862590>"
       ]
      },
      {
       "javascript": [
        "$('div#1e4a9c18-16ca-4ae1-81cf-b98d1232303d').width('93%')"
       ],
       "metadata": {},
       "output_type": "display_data",
       "text": [
        "<IPython.core.display.Javascript at 0x118862590>"
       ]
      },
      {
       "javascript": [
        "$('div#1e4a9c18-16ca-4ae1-81cf-b98d1232303d').width('94%')"
       ],
       "metadata": {},
       "output_type": "display_data",
       "text": [
        "<IPython.core.display.Javascript at 0x118862590>"
       ]
      },
      {
       "javascript": [
        "$('div#1e4a9c18-16ca-4ae1-81cf-b98d1232303d').width('94%')"
       ],
       "metadata": {},
       "output_type": "display_data",
       "text": [
        "<IPython.core.display.Javascript at 0x118862590>"
       ]
      },
      {
       "javascript": [
        "$('div#1e4a9c18-16ca-4ae1-81cf-b98d1232303d').width('94%')"
       ],
       "metadata": {},
       "output_type": "display_data",
       "text": [
        "<IPython.core.display.Javascript at 0x118862590>"
       ]
      },
      {
       "javascript": [
        "$('div#1e4a9c18-16ca-4ae1-81cf-b98d1232303d').width('95%')"
       ],
       "metadata": {},
       "output_type": "display_data",
       "text": [
        "<IPython.core.display.Javascript at 0x118862590>"
       ]
      },
      {
       "javascript": [
        "$('div#1e4a9c18-16ca-4ae1-81cf-b98d1232303d').width('95%')"
       ],
       "metadata": {},
       "output_type": "display_data",
       "text": [
        "<IPython.core.display.Javascript at 0x118862590>"
       ]
      },
      {
       "javascript": [
        "$('div#1e4a9c18-16ca-4ae1-81cf-b98d1232303d').width('95%')"
       ],
       "metadata": {},
       "output_type": "display_data",
       "text": [
        "<IPython.core.display.Javascript at 0x118862590>"
       ]
      },
      {
       "javascript": [
        "$('div#1e4a9c18-16ca-4ae1-81cf-b98d1232303d').width('95%')"
       ],
       "metadata": {},
       "output_type": "display_data",
       "text": [
        "<IPython.core.display.Javascript at 0x118862590>"
       ]
      },
      {
       "javascript": [
        "$('div#1e4a9c18-16ca-4ae1-81cf-b98d1232303d').width('96%')"
       ],
       "metadata": {},
       "output_type": "display_data",
       "text": [
        "<IPython.core.display.Javascript at 0x118862590>"
       ]
      },
      {
       "javascript": [
        "$('div#1e4a9c18-16ca-4ae1-81cf-b98d1232303d').width('96%')"
       ],
       "metadata": {},
       "output_type": "display_data",
       "text": [
        "<IPython.core.display.Javascript at 0x118862590>"
       ]
      },
      {
       "javascript": [
        "$('div#1e4a9c18-16ca-4ae1-81cf-b98d1232303d').width('96%')"
       ],
       "metadata": {},
       "output_type": "display_data",
       "text": [
        "<IPython.core.display.Javascript at 0x118862590>"
       ]
      },
      {
       "javascript": [
        "$('div#1e4a9c18-16ca-4ae1-81cf-b98d1232303d').width('96%')"
       ],
       "metadata": {},
       "output_type": "display_data",
       "text": [
        "<IPython.core.display.Javascript at 0x118862590>"
       ]
      },
      {
       "javascript": [
        "$('div#1e4a9c18-16ca-4ae1-81cf-b98d1232303d').width('97%')"
       ],
       "metadata": {},
       "output_type": "display_data",
       "text": [
        "<IPython.core.display.Javascript at 0x118862590>"
       ]
      },
      {
       "javascript": [
        "$('div#1e4a9c18-16ca-4ae1-81cf-b98d1232303d').width('97%')"
       ],
       "metadata": {},
       "output_type": "display_data",
       "text": [
        "<IPython.core.display.Javascript at 0x118862590>"
       ]
      },
      {
       "javascript": [
        "$('div#1e4a9c18-16ca-4ae1-81cf-b98d1232303d').width('97%')"
       ],
       "metadata": {},
       "output_type": "display_data",
       "text": [
        "<IPython.core.display.Javascript at 0x118862590>"
       ]
      },
      {
       "javascript": [
        "$('div#1e4a9c18-16ca-4ae1-81cf-b98d1232303d').width('98%')"
       ],
       "metadata": {},
       "output_type": "display_data",
       "text": [
        "<IPython.core.display.Javascript at 0x118862590>"
       ]
      },
      {
       "javascript": [
        "$('div#1e4a9c18-16ca-4ae1-81cf-b98d1232303d').width('98%')"
       ],
       "metadata": {},
       "output_type": "display_data",
       "text": [
        "<IPython.core.display.Javascript at 0x118862590>"
       ]
      },
      {
       "javascript": [
        "$('div#1e4a9c18-16ca-4ae1-81cf-b98d1232303d').width('98%')"
       ],
       "metadata": {},
       "output_type": "display_data",
       "text": [
        "<IPython.core.display.Javascript at 0x118862590>"
       ]
      },
      {
       "javascript": [
        "$('div#1e4a9c18-16ca-4ae1-81cf-b98d1232303d').width('98%')"
       ],
       "metadata": {},
       "output_type": "display_data",
       "text": [
        "<IPython.core.display.Javascript at 0x118862590>"
       ]
      },
      {
       "javascript": [
        "$('div#1e4a9c18-16ca-4ae1-81cf-b98d1232303d').width('99%')"
       ],
       "metadata": {},
       "output_type": "display_data",
       "text": [
        "<IPython.core.display.Javascript at 0x118862590>"
       ]
      },
      {
       "javascript": [
        "$('div#1e4a9c18-16ca-4ae1-81cf-b98d1232303d').width('99%')"
       ],
       "metadata": {},
       "output_type": "display_data",
       "text": [
        "<IPython.core.display.Javascript at 0x118862590>"
       ]
      },
      {
       "javascript": [
        "$('div#1e4a9c18-16ca-4ae1-81cf-b98d1232303d').width('99%')"
       ],
       "metadata": {},
       "output_type": "display_data",
       "text": [
        "<IPython.core.display.Javascript at 0x118862590>"
       ]
      },
      {
       "javascript": [
        "$('div#1e4a9c18-16ca-4ae1-81cf-b98d1232303d').width('100%')"
       ],
       "metadata": {},
       "output_type": "display_data",
       "text": [
        "<IPython.core.display.Javascript at 0x118862550>"
       ]
      },
      {
       "html": [
        "<iframe src=http://127.0.0.1:8001/1105017 width=100%% height=420 frameborder=0></iframe>"
       ],
       "metadata": {},
       "output_type": "pyout",
       "prompt_number": 2,
       "text": [
        "<DisplayNode.DisplayNodeProxy.DisplayNode instance at 0x118874128>"
       ]
      }
     ],
     "prompt_number": 2
    },
    {
     "cell_type": "code",
     "collapsed": false,
     "input": [
      "F.display(1)"
     ],
     "language": "python",
     "metadata": {},
     "outputs": [
      {
       "html": [
        "\n",
        "        <div style=\"border: 1px solid white; width:100%%; height:6px; background-color:rgb(246,246,246)\">\n",
        "            <div id=\"c6fe6c93-261b-40d4-97b9-db0efc0f5d49\" style=\"background-color:rgb(200,200,200); width:0%; height:6px\"> </div>\n",
        "        </div> \n",
        "        "
       ],
       "metadata": {},
       "output_type": "display_data",
       "text": [
        "<IPython.core.display.HTML at 0x118823f50>"
       ]
      },
      {
       "javascript": [
        "$('div#c6fe6c93-261b-40d4-97b9-db0efc0f5d49').width('1%')"
       ],
       "metadata": {},
       "output_type": "display_data",
       "text": [
        "<IPython.core.display.Javascript at 0x118862050>"
       ]
      },
      {
       "javascript": [
        "$('div#c6fe6c93-261b-40d4-97b9-db0efc0f5d49').width('1%')"
       ],
       "metadata": {},
       "output_type": "display_data",
       "text": [
        "<IPython.core.display.Javascript at 0x118862050>"
       ]
      },
      {
       "javascript": [
        "$('div#c6fe6c93-261b-40d4-97b9-db0efc0f5d49').width('1%')"
       ],
       "metadata": {},
       "output_type": "display_data",
       "text": [
        "<IPython.core.display.Javascript at 0x118862050>"
       ]
      },
      {
       "javascript": [
        "$('div#c6fe6c93-261b-40d4-97b9-db0efc0f5d49').width('1%')"
       ],
       "metadata": {},
       "output_type": "display_data",
       "text": [
        "<IPython.core.display.Javascript at 0x118862050>"
       ]
      },
      {
       "javascript": [
        "$('div#c6fe6c93-261b-40d4-97b9-db0efc0f5d49').width('1%')"
       ],
       "metadata": {},
       "output_type": "display_data",
       "text": [
        "<IPython.core.display.Javascript at 0x118862050>"
       ]
      },
      {
       "javascript": [
        "$('div#c6fe6c93-261b-40d4-97b9-db0efc0f5d49').width('1%')"
       ],
       "metadata": {},
       "output_type": "display_data",
       "text": [
        "<IPython.core.display.Javascript at 0x118862050>"
       ]
      },
      {
       "javascript": [
        "$('div#c6fe6c93-261b-40d4-97b9-db0efc0f5d49').width('2%')"
       ],
       "metadata": {},
       "output_type": "display_data",
       "text": [
        "<IPython.core.display.Javascript at 0x118862050>"
       ]
      },
      {
       "javascript": [
        "$('div#c6fe6c93-261b-40d4-97b9-db0efc0f5d49').width('2%')"
       ],
       "metadata": {},
       "output_type": "display_data",
       "text": [
        "<IPython.core.display.Javascript at 0x118862050>"
       ]
      },
      {
       "javascript": [
        "$('div#c6fe6c93-261b-40d4-97b9-db0efc0f5d49').width('3%')"
       ],
       "metadata": {},
       "output_type": "display_data",
       "text": [
        "<IPython.core.display.Javascript at 0x118862050>"
       ]
      },
      {
       "javascript": [
        "$('div#c6fe6c93-261b-40d4-97b9-db0efc0f5d49').width('3%')"
       ],
       "metadata": {},
       "output_type": "display_data",
       "text": [
        "<IPython.core.display.Javascript at 0x118862050>"
       ]
      },
      {
       "javascript": [
        "$('div#c6fe6c93-261b-40d4-97b9-db0efc0f5d49').width('3%')"
       ],
       "metadata": {},
       "output_type": "display_data",
       "text": [
        "<IPython.core.display.Javascript at 0x118862050>"
       ]
      },
      {
       "javascript": [
        "$('div#c6fe6c93-261b-40d4-97b9-db0efc0f5d49').width('4%')"
       ],
       "metadata": {},
       "output_type": "display_data",
       "text": [
        "<IPython.core.display.Javascript at 0x118862050>"
       ]
      },
      {
       "javascript": [
        "$('div#c6fe6c93-261b-40d4-97b9-db0efc0f5d49').width('4%')"
       ],
       "metadata": {},
       "output_type": "display_data",
       "text": [
        "<IPython.core.display.Javascript at 0x118862050>"
       ]
      },
      {
       "javascript": [
        "$('div#c6fe6c93-261b-40d4-97b9-db0efc0f5d49').width('5%')"
       ],
       "metadata": {},
       "output_type": "display_data",
       "text": [
        "<IPython.core.display.Javascript at 0x118862050>"
       ]
      },
      {
       "javascript": [
        "$('div#c6fe6c93-261b-40d4-97b9-db0efc0f5d49').width('5%')"
       ],
       "metadata": {},
       "output_type": "display_data",
       "text": [
        "<IPython.core.display.Javascript at 0x118862050>"
       ]
      },
      {
       "javascript": [
        "$('div#c6fe6c93-261b-40d4-97b9-db0efc0f5d49').width('5%')"
       ],
       "metadata": {},
       "output_type": "display_data",
       "text": [
        "<IPython.core.display.Javascript at 0x118862050>"
       ]
      },
      {
       "javascript": [
        "$('div#c6fe6c93-261b-40d4-97b9-db0efc0f5d49').width('6%')"
       ],
       "metadata": {},
       "output_type": "display_data",
       "text": [
        "<IPython.core.display.Javascript at 0x118862050>"
       ]
      },
      {
       "javascript": [
        "$('div#c6fe6c93-261b-40d4-97b9-db0efc0f5d49').width('6%')"
       ],
       "metadata": {},
       "output_type": "display_data",
       "text": [
        "<IPython.core.display.Javascript at 0x118862050>"
       ]
      },
      {
       "javascript": [
        "$('div#c6fe6c93-261b-40d4-97b9-db0efc0f5d49').width('7%')"
       ],
       "metadata": {},
       "output_type": "display_data",
       "text": [
        "<IPython.core.display.Javascript at 0x118862050>"
       ]
      },
      {
       "javascript": [
        "$('div#c6fe6c93-261b-40d4-97b9-db0efc0f5d49').width('7%')"
       ],
       "metadata": {},
       "output_type": "display_data",
       "text": [
        "<IPython.core.display.Javascript at 0x118862050>"
       ]
      },
      {
       "javascript": [
        "$('div#c6fe6c93-261b-40d4-97b9-db0efc0f5d49').width('7%')"
       ],
       "metadata": {},
       "output_type": "display_data",
       "text": [
        "<IPython.core.display.Javascript at 0x118862050>"
       ]
      },
      {
       "javascript": [
        "$('div#c6fe6c93-261b-40d4-97b9-db0efc0f5d49').width('8%')"
       ],
       "metadata": {},
       "output_type": "display_data",
       "text": [
        "<IPython.core.display.Javascript at 0x118862050>"
       ]
      },
      {
       "javascript": [
        "$('div#c6fe6c93-261b-40d4-97b9-db0efc0f5d49').width('8%')"
       ],
       "metadata": {},
       "output_type": "display_data",
       "text": [
        "<IPython.core.display.Javascript at 0x118862050>"
       ]
      },
      {
       "javascript": [
        "$('div#c6fe6c93-261b-40d4-97b9-db0efc0f5d49').width('8%')"
       ],
       "metadata": {},
       "output_type": "display_data",
       "text": [
        "<IPython.core.display.Javascript at 0x118862050>"
       ]
      },
      {
       "javascript": [
        "$('div#c6fe6c93-261b-40d4-97b9-db0efc0f5d49').width('9%')"
       ],
       "metadata": {},
       "output_type": "display_data",
       "text": [
        "<IPython.core.display.Javascript at 0x118862050>"
       ]
      },
      {
       "javascript": [
        "$('div#c6fe6c93-261b-40d4-97b9-db0efc0f5d49').width('9%')"
       ],
       "metadata": {},
       "output_type": "display_data",
       "text": [
        "<IPython.core.display.Javascript at 0x118862050>"
       ]
      },
      {
       "javascript": [
        "$('div#c6fe6c93-261b-40d4-97b9-db0efc0f5d49').width('10%')"
       ],
       "metadata": {},
       "output_type": "display_data",
       "text": [
        "<IPython.core.display.Javascript at 0x118862050>"
       ]
      },
      {
       "javascript": [
        "$('div#c6fe6c93-261b-40d4-97b9-db0efc0f5d49').width('10%')"
       ],
       "metadata": {},
       "output_type": "display_data",
       "text": [
        "<IPython.core.display.Javascript at 0x118862050>"
       ]
      },
      {
       "javascript": [
        "$('div#c6fe6c93-261b-40d4-97b9-db0efc0f5d49').width('10%')"
       ],
       "metadata": {},
       "output_type": "display_data",
       "text": [
        "<IPython.core.display.Javascript at 0x118862050>"
       ]
      },
      {
       "javascript": [
        "$('div#c6fe6c93-261b-40d4-97b9-db0efc0f5d49').width('11%')"
       ],
       "metadata": {},
       "output_type": "display_data",
       "text": [
        "<IPython.core.display.Javascript at 0x118862050>"
       ]
      },
      {
       "javascript": [
        "$('div#c6fe6c93-261b-40d4-97b9-db0efc0f5d49').width('11%')"
       ],
       "metadata": {},
       "output_type": "display_data",
       "text": [
        "<IPython.core.display.Javascript at 0x118862050>"
       ]
      },
      {
       "javascript": [
        "$('div#c6fe6c93-261b-40d4-97b9-db0efc0f5d49').width('12%')"
       ],
       "metadata": {},
       "output_type": "display_data",
       "text": [
        "<IPython.core.display.Javascript at 0x118862050>"
       ]
      },
      {
       "javascript": [
        "$('div#c6fe6c93-261b-40d4-97b9-db0efc0f5d49').width('12%')"
       ],
       "metadata": {},
       "output_type": "display_data",
       "text": [
        "<IPython.core.display.Javascript at 0x118862050>"
       ]
      },
      {
       "javascript": [
        "$('div#c6fe6c93-261b-40d4-97b9-db0efc0f5d49').width('12%')"
       ],
       "metadata": {},
       "output_type": "display_data",
       "text": [
        "<IPython.core.display.Javascript at 0x118862050>"
       ]
      },
      {
       "javascript": [
        "$('div#c6fe6c93-261b-40d4-97b9-db0efc0f5d49').width('13%')"
       ],
       "metadata": {},
       "output_type": "display_data",
       "text": [
        "<IPython.core.display.Javascript at 0x118862050>"
       ]
      },
      {
       "javascript": [
        "$('div#c6fe6c93-261b-40d4-97b9-db0efc0f5d49').width('13%')"
       ],
       "metadata": {},
       "output_type": "display_data",
       "text": [
        "<IPython.core.display.Javascript at 0x118862050>"
       ]
      },
      {
       "javascript": [
        "$('div#c6fe6c93-261b-40d4-97b9-db0efc0f5d49').width('14%')"
       ],
       "metadata": {},
       "output_type": "display_data",
       "text": [
        "<IPython.core.display.Javascript at 0x118862050>"
       ]
      },
      {
       "javascript": [
        "$('div#c6fe6c93-261b-40d4-97b9-db0efc0f5d49').width('14%')"
       ],
       "metadata": {},
       "output_type": "display_data",
       "text": [
        "<IPython.core.display.Javascript at 0x118862050>"
       ]
      },
      {
       "javascript": [
        "$('div#c6fe6c93-261b-40d4-97b9-db0efc0f5d49').width('14%')"
       ],
       "metadata": {},
       "output_type": "display_data",
       "text": [
        "<IPython.core.display.Javascript at 0x118862050>"
       ]
      },
      {
       "javascript": [
        "$('div#c6fe6c93-261b-40d4-97b9-db0efc0f5d49').width('15%')"
       ],
       "metadata": {},
       "output_type": "display_data",
       "text": [
        "<IPython.core.display.Javascript at 0x118862050>"
       ]
      },
      {
       "javascript": [
        "$('div#c6fe6c93-261b-40d4-97b9-db0efc0f5d49').width('15%')"
       ],
       "metadata": {},
       "output_type": "display_data",
       "text": [
        "<IPython.core.display.Javascript at 0x118862050>"
       ]
      },
      {
       "javascript": [
        "$('div#c6fe6c93-261b-40d4-97b9-db0efc0f5d49').width('16%')"
       ],
       "metadata": {},
       "output_type": "display_data",
       "text": [
        "<IPython.core.display.Javascript at 0x118862050>"
       ]
      },
      {
       "javascript": [
        "$('div#c6fe6c93-261b-40d4-97b9-db0efc0f5d49').width('16%')"
       ],
       "metadata": {},
       "output_type": "display_data",
       "text": [
        "<IPython.core.display.Javascript at 0x118862050>"
       ]
      },
      {
       "javascript": [
        "$('div#c6fe6c93-261b-40d4-97b9-db0efc0f5d49').width('16%')"
       ],
       "metadata": {},
       "output_type": "display_data",
       "text": [
        "<IPython.core.display.Javascript at 0x118862050>"
       ]
      },
      {
       "javascript": [
        "$('div#c6fe6c93-261b-40d4-97b9-db0efc0f5d49').width('17%')"
       ],
       "metadata": {},
       "output_type": "display_data",
       "text": [
        "<IPython.core.display.Javascript at 0x118862050>"
       ]
      },
      {
       "javascript": [
        "$('div#c6fe6c93-261b-40d4-97b9-db0efc0f5d49').width('17%')"
       ],
       "metadata": {},
       "output_type": "display_data",
       "text": [
        "<IPython.core.display.Javascript at 0x118862050>"
       ]
      },
      {
       "javascript": [
        "$('div#c6fe6c93-261b-40d4-97b9-db0efc0f5d49').width('17%')"
       ],
       "metadata": {},
       "output_type": "display_data",
       "text": [
        "<IPython.core.display.Javascript at 0x118862050>"
       ]
      },
      {
       "javascript": [
        "$('div#c6fe6c93-261b-40d4-97b9-db0efc0f5d49').width('18%')"
       ],
       "metadata": {},
       "output_type": "display_data",
       "text": [
        "<IPython.core.display.Javascript at 0x118862050>"
       ]
      },
      {
       "javascript": [
        "$('div#c6fe6c93-261b-40d4-97b9-db0efc0f5d49').width('18%')"
       ],
       "metadata": {},
       "output_type": "display_data",
       "text": [
        "<IPython.core.display.Javascript at 0x118862050>"
       ]
      },
      {
       "javascript": [
        "$('div#c6fe6c93-261b-40d4-97b9-db0efc0f5d49').width('19%')"
       ],
       "metadata": {},
       "output_type": "display_data",
       "text": [
        "<IPython.core.display.Javascript at 0x118862050>"
       ]
      },
      {
       "javascript": [
        "$('div#c6fe6c93-261b-40d4-97b9-db0efc0f5d49').width('19%')"
       ],
       "metadata": {},
       "output_type": "display_data",
       "text": [
        "<IPython.core.display.Javascript at 0x118862050>"
       ]
      },
      {
       "javascript": [
        "$('div#c6fe6c93-261b-40d4-97b9-db0efc0f5d49').width('19%')"
       ],
       "metadata": {},
       "output_type": "display_data",
       "text": [
        "<IPython.core.display.Javascript at 0x118862050>"
       ]
      },
      {
       "javascript": [
        "$('div#c6fe6c93-261b-40d4-97b9-db0efc0f5d49').width('20%')"
       ],
       "metadata": {},
       "output_type": "display_data",
       "text": [
        "<IPython.core.display.Javascript at 0x118862050>"
       ]
      },
      {
       "javascript": [
        "$('div#c6fe6c93-261b-40d4-97b9-db0efc0f5d49').width('20%')"
       ],
       "metadata": {},
       "output_type": "display_data",
       "text": [
        "<IPython.core.display.Javascript at 0x118862050>"
       ]
      },
      {
       "javascript": [
        "$('div#c6fe6c93-261b-40d4-97b9-db0efc0f5d49').width('21%')"
       ],
       "metadata": {},
       "output_type": "display_data",
       "text": [
        "<IPython.core.display.Javascript at 0x118862050>"
       ]
      },
      {
       "javascript": [
        "$('div#c6fe6c93-261b-40d4-97b9-db0efc0f5d49').width('21%')"
       ],
       "metadata": {},
       "output_type": "display_data",
       "text": [
        "<IPython.core.display.Javascript at 0x118862050>"
       ]
      },
      {
       "javascript": [
        "$('div#c6fe6c93-261b-40d4-97b9-db0efc0f5d49').width('21%')"
       ],
       "metadata": {},
       "output_type": "display_data",
       "text": [
        "<IPython.core.display.Javascript at 0x118862050>"
       ]
      },
      {
       "javascript": [
        "$('div#c6fe6c93-261b-40d4-97b9-db0efc0f5d49').width('22%')"
       ],
       "metadata": {},
       "output_type": "display_data",
       "text": [
        "<IPython.core.display.Javascript at 0x118862050>"
       ]
      },
      {
       "javascript": [
        "$('div#c6fe6c93-261b-40d4-97b9-db0efc0f5d49').width('22%')"
       ],
       "metadata": {},
       "output_type": "display_data",
       "text": [
        "<IPython.core.display.Javascript at 0x118862050>"
       ]
      },
      {
       "javascript": [
        "$('div#c6fe6c93-261b-40d4-97b9-db0efc0f5d49').width('23%')"
       ],
       "metadata": {},
       "output_type": "display_data",
       "text": [
        "<IPython.core.display.Javascript at 0x118862050>"
       ]
      },
      {
       "javascript": [
        "$('div#c6fe6c93-261b-40d4-97b9-db0efc0f5d49').width('23%')"
       ],
       "metadata": {},
       "output_type": "display_data",
       "text": [
        "<IPython.core.display.Javascript at 0x118862050>"
       ]
      },
      {
       "javascript": [
        "$('div#c6fe6c93-261b-40d4-97b9-db0efc0f5d49').width('23%')"
       ],
       "metadata": {},
       "output_type": "display_data",
       "text": [
        "<IPython.core.display.Javascript at 0x118862050>"
       ]
      },
      {
       "javascript": [
        "$('div#c6fe6c93-261b-40d4-97b9-db0efc0f5d49').width('24%')"
       ],
       "metadata": {},
       "output_type": "display_data",
       "text": [
        "<IPython.core.display.Javascript at 0x118862050>"
       ]
      },
      {
       "javascript": [
        "$('div#c6fe6c93-261b-40d4-97b9-db0efc0f5d49').width('24%')"
       ],
       "metadata": {},
       "output_type": "display_data",
       "text": [
        "<IPython.core.display.Javascript at 0x118862050>"
       ]
      },
      {
       "javascript": [
        "$('div#c6fe6c93-261b-40d4-97b9-db0efc0f5d49').width('25%')"
       ],
       "metadata": {},
       "output_type": "display_data",
       "text": [
        "<IPython.core.display.Javascript at 0x118862050>"
       ]
      },
      {
       "javascript": [
        "$('div#c6fe6c93-261b-40d4-97b9-db0efc0f5d49').width('25%')"
       ],
       "metadata": {},
       "output_type": "display_data",
       "text": [
        "<IPython.core.display.Javascript at 0x118862050>"
       ]
      },
      {
       "javascript": [
        "$('div#c6fe6c93-261b-40d4-97b9-db0efc0f5d49').width('25%')"
       ],
       "metadata": {},
       "output_type": "display_data",
       "text": [
        "<IPython.core.display.Javascript at 0x118862050>"
       ]
      },
      {
       "javascript": [
        "$('div#c6fe6c93-261b-40d4-97b9-db0efc0f5d49').width('26%')"
       ],
       "metadata": {},
       "output_type": "display_data",
       "text": [
        "<IPython.core.display.Javascript at 0x118862050>"
       ]
      },
      {
       "javascript": [
        "$('div#c6fe6c93-261b-40d4-97b9-db0efc0f5d49').width('26%')"
       ],
       "metadata": {},
       "output_type": "display_data",
       "text": [
        "<IPython.core.display.Javascript at 0x118862050>"
       ]
      },
      {
       "javascript": [
        "$('div#c6fe6c93-261b-40d4-97b9-db0efc0f5d49').width('26%')"
       ],
       "metadata": {},
       "output_type": "display_data",
       "text": [
        "<IPython.core.display.Javascript at 0x118862050>"
       ]
      },
      {
       "javascript": [
        "$('div#c6fe6c93-261b-40d4-97b9-db0efc0f5d49').width('27%')"
       ],
       "metadata": {},
       "output_type": "display_data",
       "text": [
        "<IPython.core.display.Javascript at 0x118862050>"
       ]
      },
      {
       "javascript": [
        "$('div#c6fe6c93-261b-40d4-97b9-db0efc0f5d49').width('27%')"
       ],
       "metadata": {},
       "output_type": "display_data",
       "text": [
        "<IPython.core.display.Javascript at 0x118862050>"
       ]
      },
      {
       "javascript": [
        "$('div#c6fe6c93-261b-40d4-97b9-db0efc0f5d49').width('28%')"
       ],
       "metadata": {},
       "output_type": "display_data",
       "text": [
        "<IPython.core.display.Javascript at 0x118862050>"
       ]
      },
      {
       "javascript": [
        "$('div#c6fe6c93-261b-40d4-97b9-db0efc0f5d49').width('28%')"
       ],
       "metadata": {},
       "output_type": "display_data",
       "text": [
        "<IPython.core.display.Javascript at 0x118862050>"
       ]
      },
      {
       "javascript": [
        "$('div#c6fe6c93-261b-40d4-97b9-db0efc0f5d49').width('28%')"
       ],
       "metadata": {},
       "output_type": "display_data",
       "text": [
        "<IPython.core.display.Javascript at 0x118862050>"
       ]
      },
      {
       "javascript": [
        "$('div#c6fe6c93-261b-40d4-97b9-db0efc0f5d49').width('29%')"
       ],
       "metadata": {},
       "output_type": "display_data",
       "text": [
        "<IPython.core.display.Javascript at 0x118862050>"
       ]
      },
      {
       "javascript": [
        "$('div#c6fe6c93-261b-40d4-97b9-db0efc0f5d49').width('29%')"
       ],
       "metadata": {},
       "output_type": "display_data",
       "text": [
        "<IPython.core.display.Javascript at 0x118862050>"
       ]
      },
      {
       "javascript": [
        "$('div#c6fe6c93-261b-40d4-97b9-db0efc0f5d49').width('30%')"
       ],
       "metadata": {},
       "output_type": "display_data",
       "text": [
        "<IPython.core.display.Javascript at 0x118862050>"
       ]
      },
      {
       "javascript": [
        "$('div#c6fe6c93-261b-40d4-97b9-db0efc0f5d49').width('30%')"
       ],
       "metadata": {},
       "output_type": "display_data",
       "text": [
        "<IPython.core.display.Javascript at 0x118862050>"
       ]
      },
      {
       "javascript": [
        "$('div#c6fe6c93-261b-40d4-97b9-db0efc0f5d49').width('30%')"
       ],
       "metadata": {},
       "output_type": "display_data",
       "text": [
        "<IPython.core.display.Javascript at 0x118862050>"
       ]
      },
      {
       "javascript": [
        "$('div#c6fe6c93-261b-40d4-97b9-db0efc0f5d49').width('31%')"
       ],
       "metadata": {},
       "output_type": "display_data",
       "text": [
        "<IPython.core.display.Javascript at 0x118862050>"
       ]
      },
      {
       "javascript": [
        "$('div#c6fe6c93-261b-40d4-97b9-db0efc0f5d49').width('31%')"
       ],
       "metadata": {},
       "output_type": "display_data",
       "text": [
        "<IPython.core.display.Javascript at 0x118862050>"
       ]
      },
      {
       "javascript": [
        "$('div#c6fe6c93-261b-40d4-97b9-db0efc0f5d49').width('32%')"
       ],
       "metadata": {},
       "output_type": "display_data",
       "text": [
        "<IPython.core.display.Javascript at 0x118862050>"
       ]
      },
      {
       "javascript": [
        "$('div#c6fe6c93-261b-40d4-97b9-db0efc0f5d49').width('32%')"
       ],
       "metadata": {},
       "output_type": "display_data",
       "text": [
        "<IPython.core.display.Javascript at 0x118862050>"
       ]
      },
      {
       "javascript": [
        "$('div#c6fe6c93-261b-40d4-97b9-db0efc0f5d49').width('32%')"
       ],
       "metadata": {},
       "output_type": "display_data",
       "text": [
        "<IPython.core.display.Javascript at 0x118862050>"
       ]
      },
      {
       "javascript": [
        "$('div#c6fe6c93-261b-40d4-97b9-db0efc0f5d49').width('33%')"
       ],
       "metadata": {},
       "output_type": "display_data",
       "text": [
        "<IPython.core.display.Javascript at 0x118862050>"
       ]
      },
      {
       "javascript": [
        "$('div#c6fe6c93-261b-40d4-97b9-db0efc0f5d49').width('33%')"
       ],
       "metadata": {},
       "output_type": "display_data",
       "text": [
        "<IPython.core.display.Javascript at 0x118862050>"
       ]
      },
      {
       "javascript": [
        "$('div#c6fe6c93-261b-40d4-97b9-db0efc0f5d49').width('33%')"
       ],
       "metadata": {},
       "output_type": "display_data",
       "text": [
        "<IPython.core.display.Javascript at 0x118862050>"
       ]
      },
      {
       "javascript": [
        "$('div#c6fe6c93-261b-40d4-97b9-db0efc0f5d49').width('34%')"
       ],
       "metadata": {},
       "output_type": "display_data",
       "text": [
        "<IPython.core.display.Javascript at 0x118862050>"
       ]
      },
      {
       "javascript": [
        "$('div#c6fe6c93-261b-40d4-97b9-db0efc0f5d49').width('34%')"
       ],
       "metadata": {},
       "output_type": "display_data",
       "text": [
        "<IPython.core.display.Javascript at 0x118862050>"
       ]
      },
      {
       "javascript": [
        "$('div#c6fe6c93-261b-40d4-97b9-db0efc0f5d49').width('35%')"
       ],
       "metadata": {},
       "output_type": "display_data",
       "text": [
        "<IPython.core.display.Javascript at 0x118862050>"
       ]
      },
      {
       "javascript": [
        "$('div#c6fe6c93-261b-40d4-97b9-db0efc0f5d49').width('35%')"
       ],
       "metadata": {},
       "output_type": "display_data",
       "text": [
        "<IPython.core.display.Javascript at 0x118862050>"
       ]
      },
      {
       "javascript": [
        "$('div#c6fe6c93-261b-40d4-97b9-db0efc0f5d49').width('35%')"
       ],
       "metadata": {},
       "output_type": "display_data",
       "text": [
        "<IPython.core.display.Javascript at 0x118862050>"
       ]
      },
      {
       "javascript": [
        "$('div#c6fe6c93-261b-40d4-97b9-db0efc0f5d49').width('36%')"
       ],
       "metadata": {},
       "output_type": "display_data",
       "text": [
        "<IPython.core.display.Javascript at 0x118862050>"
       ]
      },
      {
       "javascript": [
        "$('div#c6fe6c93-261b-40d4-97b9-db0efc0f5d49').width('36%')"
       ],
       "metadata": {},
       "output_type": "display_data",
       "text": [
        "<IPython.core.display.Javascript at 0x118862050>"
       ]
      },
      {
       "javascript": [
        "$('div#c6fe6c93-261b-40d4-97b9-db0efc0f5d49').width('37%')"
       ],
       "metadata": {},
       "output_type": "display_data",
       "text": [
        "<IPython.core.display.Javascript at 0x118862050>"
       ]
      },
      {
       "javascript": [
        "$('div#c6fe6c93-261b-40d4-97b9-db0efc0f5d49').width('37%')"
       ],
       "metadata": {},
       "output_type": "display_data",
       "text": [
        "<IPython.core.display.Javascript at 0x118862050>"
       ]
      },
      {
       "javascript": [
        "$('div#c6fe6c93-261b-40d4-97b9-db0efc0f5d49').width('37%')"
       ],
       "metadata": {},
       "output_type": "display_data",
       "text": [
        "<IPython.core.display.Javascript at 0x118862050>"
       ]
      },
      {
       "javascript": [
        "$('div#c6fe6c93-261b-40d4-97b9-db0efc0f5d49').width('38%')"
       ],
       "metadata": {},
       "output_type": "display_data",
       "text": [
        "<IPython.core.display.Javascript at 0x118862050>"
       ]
      },
      {
       "javascript": [
        "$('div#c6fe6c93-261b-40d4-97b9-db0efc0f5d49').width('38%')"
       ],
       "metadata": {},
       "output_type": "display_data",
       "text": [
        "<IPython.core.display.Javascript at 0x118862050>"
       ]
      },
      {
       "javascript": [
        "$('div#c6fe6c93-261b-40d4-97b9-db0efc0f5d49').width('39%')"
       ],
       "metadata": {},
       "output_type": "display_data",
       "text": [
        "<IPython.core.display.Javascript at 0x118862050>"
       ]
      },
      {
       "javascript": [
        "$('div#c6fe6c93-261b-40d4-97b9-db0efc0f5d49').width('39%')"
       ],
       "metadata": {},
       "output_type": "display_data",
       "text": [
        "<IPython.core.display.Javascript at 0x118862050>"
       ]
      },
      {
       "javascript": [
        "$('div#c6fe6c93-261b-40d4-97b9-db0efc0f5d49').width('39%')"
       ],
       "metadata": {},
       "output_type": "display_data",
       "text": [
        "<IPython.core.display.Javascript at 0x118862050>"
       ]
      },
      {
       "javascript": [
        "$('div#c6fe6c93-261b-40d4-97b9-db0efc0f5d49').width('40%')"
       ],
       "metadata": {},
       "output_type": "display_data",
       "text": [
        "<IPython.core.display.Javascript at 0x118862050>"
       ]
      },
      {
       "javascript": [
        "$('div#c6fe6c93-261b-40d4-97b9-db0efc0f5d49').width('40%')"
       ],
       "metadata": {},
       "output_type": "display_data",
       "text": [
        "<IPython.core.display.Javascript at 0x118862050>"
       ]
      },
      {
       "javascript": [
        "$('div#c6fe6c93-261b-40d4-97b9-db0efc0f5d49').width('41%')"
       ],
       "metadata": {},
       "output_type": "display_data",
       "text": [
        "<IPython.core.display.Javascript at 0x118862050>"
       ]
      },
      {
       "javascript": [
        "$('div#c6fe6c93-261b-40d4-97b9-db0efc0f5d49').width('41%')"
       ],
       "metadata": {},
       "output_type": "display_data",
       "text": [
        "<IPython.core.display.Javascript at 0x118862050>"
       ]
      },
      {
       "javascript": [
        "$('div#c6fe6c93-261b-40d4-97b9-db0efc0f5d49').width('41%')"
       ],
       "metadata": {},
       "output_type": "display_data",
       "text": [
        "<IPython.core.display.Javascript at 0x118862050>"
       ]
      },
      {
       "javascript": [
        "$('div#c6fe6c93-261b-40d4-97b9-db0efc0f5d49').width('42%')"
       ],
       "metadata": {},
       "output_type": "display_data",
       "text": [
        "<IPython.core.display.Javascript at 0x118862050>"
       ]
      },
      {
       "javascript": [
        "$('div#c6fe6c93-261b-40d4-97b9-db0efc0f5d49').width('42%')"
       ],
       "metadata": {},
       "output_type": "display_data",
       "text": [
        "<IPython.core.display.Javascript at 0x118862050>"
       ]
      },
      {
       "javascript": [
        "$('div#c6fe6c93-261b-40d4-97b9-db0efc0f5d49').width('42%')"
       ],
       "metadata": {},
       "output_type": "display_data",
       "text": [
        "<IPython.core.display.Javascript at 0x118862050>"
       ]
      },
      {
       "javascript": [
        "$('div#c6fe6c93-261b-40d4-97b9-db0efc0f5d49').width('43%')"
       ],
       "metadata": {},
       "output_type": "display_data",
       "text": [
        "<IPython.core.display.Javascript at 0x118862050>"
       ]
      },
      {
       "javascript": [
        "$('div#c6fe6c93-261b-40d4-97b9-db0efc0f5d49').width('43%')"
       ],
       "metadata": {},
       "output_type": "display_data",
       "text": [
        "<IPython.core.display.Javascript at 0x118862050>"
       ]
      },
      {
       "javascript": [
        "$('div#c6fe6c93-261b-40d4-97b9-db0efc0f5d49').width('44%')"
       ],
       "metadata": {},
       "output_type": "display_data",
       "text": [
        "<IPython.core.display.Javascript at 0x118862050>"
       ]
      },
      {
       "javascript": [
        "$('div#c6fe6c93-261b-40d4-97b9-db0efc0f5d49').width('44%')"
       ],
       "metadata": {},
       "output_type": "display_data",
       "text": [
        "<IPython.core.display.Javascript at 0x118862050>"
       ]
      },
      {
       "javascript": [
        "$('div#c6fe6c93-261b-40d4-97b9-db0efc0f5d49').width('44%')"
       ],
       "metadata": {},
       "output_type": "display_data",
       "text": [
        "<IPython.core.display.Javascript at 0x118862050>"
       ]
      },
      {
       "javascript": [
        "$('div#c6fe6c93-261b-40d4-97b9-db0efc0f5d49').width('45%')"
       ],
       "metadata": {},
       "output_type": "display_data",
       "text": [
        "<IPython.core.display.Javascript at 0x118862050>"
       ]
      },
      {
       "javascript": [
        "$('div#c6fe6c93-261b-40d4-97b9-db0efc0f5d49').width('45%')"
       ],
       "metadata": {},
       "output_type": "display_data",
       "text": [
        "<IPython.core.display.Javascript at 0x118862050>"
       ]
      },
      {
       "javascript": [
        "$('div#c6fe6c93-261b-40d4-97b9-db0efc0f5d49').width('46%')"
       ],
       "metadata": {},
       "output_type": "display_data",
       "text": [
        "<IPython.core.display.Javascript at 0x118862050>"
       ]
      },
      {
       "javascript": [
        "$('div#c6fe6c93-261b-40d4-97b9-db0efc0f5d49').width('46%')"
       ],
       "metadata": {},
       "output_type": "display_data",
       "text": [
        "<IPython.core.display.Javascript at 0x118862050>"
       ]
      },
      {
       "javascript": [
        "$('div#c6fe6c93-261b-40d4-97b9-db0efc0f5d49').width('46%')"
       ],
       "metadata": {},
       "output_type": "display_data",
       "text": [
        "<IPython.core.display.Javascript at 0x118862050>"
       ]
      },
      {
       "javascript": [
        "$('div#c6fe6c93-261b-40d4-97b9-db0efc0f5d49').width('47%')"
       ],
       "metadata": {},
       "output_type": "display_data",
       "text": [
        "<IPython.core.display.Javascript at 0x118862050>"
       ]
      },
      {
       "javascript": [
        "$('div#c6fe6c93-261b-40d4-97b9-db0efc0f5d49').width('47%')"
       ],
       "metadata": {},
       "output_type": "display_data",
       "text": [
        "<IPython.core.display.Javascript at 0x118862050>"
       ]
      },
      {
       "javascript": [
        "$('div#c6fe6c93-261b-40d4-97b9-db0efc0f5d49').width('48%')"
       ],
       "metadata": {},
       "output_type": "display_data",
       "text": [
        "<IPython.core.display.Javascript at 0x118862050>"
       ]
      },
      {
       "javascript": [
        "$('div#c6fe6c93-261b-40d4-97b9-db0efc0f5d49').width('48%')"
       ],
       "metadata": {},
       "output_type": "display_data",
       "text": [
        "<IPython.core.display.Javascript at 0x118862050>"
       ]
      },
      {
       "javascript": [
        "$('div#c6fe6c93-261b-40d4-97b9-db0efc0f5d49').width('48%')"
       ],
       "metadata": {},
       "output_type": "display_data",
       "text": [
        "<IPython.core.display.Javascript at 0x118862050>"
       ]
      },
      {
       "javascript": [
        "$('div#c6fe6c93-261b-40d4-97b9-db0efc0f5d49').width('49%')"
       ],
       "metadata": {},
       "output_type": "display_data",
       "text": [
        "<IPython.core.display.Javascript at 0x118862050>"
       ]
      },
      {
       "javascript": [
        "$('div#c6fe6c93-261b-40d4-97b9-db0efc0f5d49').width('49%')"
       ],
       "metadata": {},
       "output_type": "display_data",
       "text": [
        "<IPython.core.display.Javascript at 0x118862050>"
       ]
      },
      {
       "javascript": [
        "$('div#c6fe6c93-261b-40d4-97b9-db0efc0f5d49').width('50%')"
       ],
       "metadata": {},
       "output_type": "display_data",
       "text": [
        "<IPython.core.display.Javascript at 0x118862050>"
       ]
      },
      {
       "javascript": [
        "$('div#c6fe6c93-261b-40d4-97b9-db0efc0f5d49').width('50%')"
       ],
       "metadata": {},
       "output_type": "display_data",
       "text": [
        "<IPython.core.display.Javascript at 0x118862050>"
       ]
      },
      {
       "javascript": [
        "$('div#c6fe6c93-261b-40d4-97b9-db0efc0f5d49').width('50%')"
       ],
       "metadata": {},
       "output_type": "display_data",
       "text": [
        "<IPython.core.display.Javascript at 0x118862050>"
       ]
      },
      {
       "javascript": [
        "$('div#c6fe6c93-261b-40d4-97b9-db0efc0f5d49').width('51%')"
       ],
       "metadata": {},
       "output_type": "display_data",
       "text": [
        "<IPython.core.display.Javascript at 0x118862050>"
       ]
      },
      {
       "javascript": [
        "$('div#c6fe6c93-261b-40d4-97b9-db0efc0f5d49').width('51%')"
       ],
       "metadata": {},
       "output_type": "display_data",
       "text": [
        "<IPython.core.display.Javascript at 0x118862050>"
       ]
      },
      {
       "javascript": [
        "$('div#c6fe6c93-261b-40d4-97b9-db0efc0f5d49').width('51%')"
       ],
       "metadata": {},
       "output_type": "display_data",
       "text": [
        "<IPython.core.display.Javascript at 0x118862050>"
       ]
      },
      {
       "javascript": [
        "$('div#c6fe6c93-261b-40d4-97b9-db0efc0f5d49').width('52%')"
       ],
       "metadata": {},
       "output_type": "display_data",
       "text": [
        "<IPython.core.display.Javascript at 0x118862050>"
       ]
      },
      {
       "javascript": [
        "$('div#c6fe6c93-261b-40d4-97b9-db0efc0f5d49').width('52%')"
       ],
       "metadata": {},
       "output_type": "display_data",
       "text": [
        "<IPython.core.display.Javascript at 0x118862050>"
       ]
      },
      {
       "javascript": [
        "$('div#c6fe6c93-261b-40d4-97b9-db0efc0f5d49').width('53%')"
       ],
       "metadata": {},
       "output_type": "display_data",
       "text": [
        "<IPython.core.display.Javascript at 0x118862050>"
       ]
      },
      {
       "javascript": [
        "$('div#c6fe6c93-261b-40d4-97b9-db0efc0f5d49').width('53%')"
       ],
       "metadata": {},
       "output_type": "display_data",
       "text": [
        "<IPython.core.display.Javascript at 0x118862050>"
       ]
      },
      {
       "javascript": [
        "$('div#c6fe6c93-261b-40d4-97b9-db0efc0f5d49').width('53%')"
       ],
       "metadata": {},
       "output_type": "display_data",
       "text": [
        "<IPython.core.display.Javascript at 0x118862050>"
       ]
      },
      {
       "javascript": [
        "$('div#c6fe6c93-261b-40d4-97b9-db0efc0f5d49').width('54%')"
       ],
       "metadata": {},
       "output_type": "display_data",
       "text": [
        "<IPython.core.display.Javascript at 0x118862050>"
       ]
      },
      {
       "javascript": [
        "$('div#c6fe6c93-261b-40d4-97b9-db0efc0f5d49').width('54%')"
       ],
       "metadata": {},
       "output_type": "display_data",
       "text": [
        "<IPython.core.display.Javascript at 0x118862050>"
       ]
      },
      {
       "javascript": [
        "$('div#c6fe6c93-261b-40d4-97b9-db0efc0f5d49').width('55%')"
       ],
       "metadata": {},
       "output_type": "display_data",
       "text": [
        "<IPython.core.display.Javascript at 0x118862050>"
       ]
      },
      {
       "javascript": [
        "$('div#c6fe6c93-261b-40d4-97b9-db0efc0f5d49').width('55%')"
       ],
       "metadata": {},
       "output_type": "display_data",
       "text": [
        "<IPython.core.display.Javascript at 0x118862050>"
       ]
      },
      {
       "javascript": [
        "$('div#c6fe6c93-261b-40d4-97b9-db0efc0f5d49').width('55%')"
       ],
       "metadata": {},
       "output_type": "display_data",
       "text": [
        "<IPython.core.display.Javascript at 0x118862050>"
       ]
      },
      {
       "javascript": [
        "$('div#c6fe6c93-261b-40d4-97b9-db0efc0f5d49').width('56%')"
       ],
       "metadata": {},
       "output_type": "display_data",
       "text": [
        "<IPython.core.display.Javascript at 0x118862050>"
       ]
      },
      {
       "javascript": [
        "$('div#c6fe6c93-261b-40d4-97b9-db0efc0f5d49').width('56%')"
       ],
       "metadata": {},
       "output_type": "display_data",
       "text": [
        "<IPython.core.display.Javascript at 0x118862050>"
       ]
      },
      {
       "javascript": [
        "$('div#c6fe6c93-261b-40d4-97b9-db0efc0f5d49').width('57%')"
       ],
       "metadata": {},
       "output_type": "display_data",
       "text": [
        "<IPython.core.display.Javascript at 0x118862050>"
       ]
      },
      {
       "javascript": [
        "$('div#c6fe6c93-261b-40d4-97b9-db0efc0f5d49').width('57%')"
       ],
       "metadata": {},
       "output_type": "display_data",
       "text": [
        "<IPython.core.display.Javascript at 0x118862050>"
       ]
      },
      {
       "javascript": [
        "$('div#c6fe6c93-261b-40d4-97b9-db0efc0f5d49').width('57%')"
       ],
       "metadata": {},
       "output_type": "display_data",
       "text": [
        "<IPython.core.display.Javascript at 0x118862050>"
       ]
      },
      {
       "javascript": [
        "$('div#c6fe6c93-261b-40d4-97b9-db0efc0f5d49').width('58%')"
       ],
       "metadata": {},
       "output_type": "display_data",
       "text": [
        "<IPython.core.display.Javascript at 0x118862050>"
       ]
      },
      {
       "javascript": [
        "$('div#c6fe6c93-261b-40d4-97b9-db0efc0f5d49').width('58%')"
       ],
       "metadata": {},
       "output_type": "display_data",
       "text": [
        "<IPython.core.display.Javascript at 0x118862050>"
       ]
      },
      {
       "javascript": [
        "$('div#c6fe6c93-261b-40d4-97b9-db0efc0f5d49').width('58%')"
       ],
       "metadata": {},
       "output_type": "display_data",
       "text": [
        "<IPython.core.display.Javascript at 0x118862050>"
       ]
      },
      {
       "javascript": [
        "$('div#c6fe6c93-261b-40d4-97b9-db0efc0f5d49').width('59%')"
       ],
       "metadata": {},
       "output_type": "display_data",
       "text": [
        "<IPython.core.display.Javascript at 0x118862050>"
       ]
      },
      {
       "javascript": [
        "$('div#c6fe6c93-261b-40d4-97b9-db0efc0f5d49').width('59%')"
       ],
       "metadata": {},
       "output_type": "display_data",
       "text": [
        "<IPython.core.display.Javascript at 0x118862050>"
       ]
      },
      {
       "javascript": [
        "$('div#c6fe6c93-261b-40d4-97b9-db0efc0f5d49').width('60%')"
       ],
       "metadata": {},
       "output_type": "display_data",
       "text": [
        "<IPython.core.display.Javascript at 0x118862050>"
       ]
      },
      {
       "javascript": [
        "$('div#c6fe6c93-261b-40d4-97b9-db0efc0f5d49').width('60%')"
       ],
       "metadata": {},
       "output_type": "display_data",
       "text": [
        "<IPython.core.display.Javascript at 0x118862050>"
       ]
      },
      {
       "javascript": [
        "$('div#c6fe6c93-261b-40d4-97b9-db0efc0f5d49').width('60%')"
       ],
       "metadata": {},
       "output_type": "display_data",
       "text": [
        "<IPython.core.display.Javascript at 0x118862050>"
       ]
      },
      {
       "javascript": [
        "$('div#c6fe6c93-261b-40d4-97b9-db0efc0f5d49').width('61%')"
       ],
       "metadata": {},
       "output_type": "display_data",
       "text": [
        "<IPython.core.display.Javascript at 0x118862050>"
       ]
      },
      {
       "javascript": [
        "$('div#c6fe6c93-261b-40d4-97b9-db0efc0f5d49').width('61%')"
       ],
       "metadata": {},
       "output_type": "display_data",
       "text": [
        "<IPython.core.display.Javascript at 0x118862050>"
       ]
      },
      {
       "javascript": [
        "$('div#c6fe6c93-261b-40d4-97b9-db0efc0f5d49').width('62%')"
       ],
       "metadata": {},
       "output_type": "display_data",
       "text": [
        "<IPython.core.display.Javascript at 0x118862050>"
       ]
      },
      {
       "javascript": [
        "$('div#c6fe6c93-261b-40d4-97b9-db0efc0f5d49').width('62%')"
       ],
       "metadata": {},
       "output_type": "display_data",
       "text": [
        "<IPython.core.display.Javascript at 0x118862050>"
       ]
      },
      {
       "javascript": [
        "$('div#c6fe6c93-261b-40d4-97b9-db0efc0f5d49').width('62%')"
       ],
       "metadata": {},
       "output_type": "display_data",
       "text": [
        "<IPython.core.display.Javascript at 0x118862050>"
       ]
      },
      {
       "javascript": [
        "$('div#c6fe6c93-261b-40d4-97b9-db0efc0f5d49').width('63%')"
       ],
       "metadata": {},
       "output_type": "display_data",
       "text": [
        "<IPython.core.display.Javascript at 0x118862050>"
       ]
      },
      {
       "javascript": [
        "$('div#c6fe6c93-261b-40d4-97b9-db0efc0f5d49').width('63%')"
       ],
       "metadata": {},
       "output_type": "display_data",
       "text": [
        "<IPython.core.display.Javascript at 0x118862050>"
       ]
      },
      {
       "javascript": [
        "$('div#c6fe6c93-261b-40d4-97b9-db0efc0f5d49').width('64%')"
       ],
       "metadata": {},
       "output_type": "display_data",
       "text": [
        "<IPython.core.display.Javascript at 0x118862050>"
       ]
      },
      {
       "javascript": [
        "$('div#c6fe6c93-261b-40d4-97b9-db0efc0f5d49').width('64%')"
       ],
       "metadata": {},
       "output_type": "display_data",
       "text": [
        "<IPython.core.display.Javascript at 0x118862050>"
       ]
      },
      {
       "javascript": [
        "$('div#c6fe6c93-261b-40d4-97b9-db0efc0f5d49').width('64%')"
       ],
       "metadata": {},
       "output_type": "display_data",
       "text": [
        "<IPython.core.display.Javascript at 0x118862050>"
       ]
      },
      {
       "javascript": [
        "$('div#c6fe6c93-261b-40d4-97b9-db0efc0f5d49').width('65%')"
       ],
       "metadata": {},
       "output_type": "display_data",
       "text": [
        "<IPython.core.display.Javascript at 0x118862050>"
       ]
      },
      {
       "javascript": [
        "$('div#c6fe6c93-261b-40d4-97b9-db0efc0f5d49').width('65%')"
       ],
       "metadata": {},
       "output_type": "display_data",
       "text": [
        "<IPython.core.display.Javascript at 0x118862050>"
       ]
      },
      {
       "javascript": [
        "$('div#c6fe6c93-261b-40d4-97b9-db0efc0f5d49').width('66%')"
       ],
       "metadata": {},
       "output_type": "display_data",
       "text": [
        "<IPython.core.display.Javascript at 0x118862050>"
       ]
      },
      {
       "javascript": [
        "$('div#c6fe6c93-261b-40d4-97b9-db0efc0f5d49').width('66%')"
       ],
       "metadata": {},
       "output_type": "display_data",
       "text": [
        "<IPython.core.display.Javascript at 0x118862050>"
       ]
      },
      {
       "javascript": [
        "$('div#c6fe6c93-261b-40d4-97b9-db0efc0f5d49').width('66%')"
       ],
       "metadata": {},
       "output_type": "display_data",
       "text": [
        "<IPython.core.display.Javascript at 0x118862050>"
       ]
      },
      {
       "javascript": [
        "$('div#c6fe6c93-261b-40d4-97b9-db0efc0f5d49').width('67%')"
       ],
       "metadata": {},
       "output_type": "display_data",
       "text": [
        "<IPython.core.display.Javascript at 0x118862050>"
       ]
      },
      {
       "javascript": [
        "$('div#c6fe6c93-261b-40d4-97b9-db0efc0f5d49').width('67%')"
       ],
       "metadata": {},
       "output_type": "display_data",
       "text": [
        "<IPython.core.display.Javascript at 0x118862050>"
       ]
      },
      {
       "javascript": [
        "$('div#c6fe6c93-261b-40d4-97b9-db0efc0f5d49').width('67%')"
       ],
       "metadata": {},
       "output_type": "display_data",
       "text": [
        "<IPython.core.display.Javascript at 0x118862050>"
       ]
      },
      {
       "javascript": [
        "$('div#c6fe6c93-261b-40d4-97b9-db0efc0f5d49').width('68%')"
       ],
       "metadata": {},
       "output_type": "display_data",
       "text": [
        "<IPython.core.display.Javascript at 0x118862050>"
       ]
      },
      {
       "javascript": [
        "$('div#c6fe6c93-261b-40d4-97b9-db0efc0f5d49').width('68%')"
       ],
       "metadata": {},
       "output_type": "display_data",
       "text": [
        "<IPython.core.display.Javascript at 0x118862050>"
       ]
      },
      {
       "javascript": [
        "$('div#c6fe6c93-261b-40d4-97b9-db0efc0f5d49').width('69%')"
       ],
       "metadata": {},
       "output_type": "display_data",
       "text": [
        "<IPython.core.display.Javascript at 0x118862050>"
       ]
      },
      {
       "javascript": [
        "$('div#c6fe6c93-261b-40d4-97b9-db0efc0f5d49').width('69%')"
       ],
       "metadata": {},
       "output_type": "display_data",
       "text": [
        "<IPython.core.display.Javascript at 0x118862050>"
       ]
      },
      {
       "javascript": [
        "$('div#c6fe6c93-261b-40d4-97b9-db0efc0f5d49').width('69%')"
       ],
       "metadata": {},
       "output_type": "display_data",
       "text": [
        "<IPython.core.display.Javascript at 0x118862050>"
       ]
      },
      {
       "javascript": [
        "$('div#c6fe6c93-261b-40d4-97b9-db0efc0f5d49').width('70%')"
       ],
       "metadata": {},
       "output_type": "display_data",
       "text": [
        "<IPython.core.display.Javascript at 0x118862050>"
       ]
      },
      {
       "javascript": [
        "$('div#c6fe6c93-261b-40d4-97b9-db0efc0f5d49').width('70%')"
       ],
       "metadata": {},
       "output_type": "display_data",
       "text": [
        "<IPython.core.display.Javascript at 0x118862050>"
       ]
      },
      {
       "javascript": [
        "$('div#c6fe6c93-261b-40d4-97b9-db0efc0f5d49').width('71%')"
       ],
       "metadata": {},
       "output_type": "display_data",
       "text": [
        "<IPython.core.display.Javascript at 0x118862050>"
       ]
      },
      {
       "javascript": [
        "$('div#c6fe6c93-261b-40d4-97b9-db0efc0f5d49').width('71%')"
       ],
       "metadata": {},
       "output_type": "display_data",
       "text": [
        "<IPython.core.display.Javascript at 0x118862050>"
       ]
      },
      {
       "javascript": [
        "$('div#c6fe6c93-261b-40d4-97b9-db0efc0f5d49').width('71%')"
       ],
       "metadata": {},
       "output_type": "display_data",
       "text": [
        "<IPython.core.display.Javascript at 0x118862050>"
       ]
      },
      {
       "javascript": [
        "$('div#c6fe6c93-261b-40d4-97b9-db0efc0f5d49').width('72%')"
       ],
       "metadata": {},
       "output_type": "display_data",
       "text": [
        "<IPython.core.display.Javascript at 0x118862050>"
       ]
      },
      {
       "javascript": [
        "$('div#c6fe6c93-261b-40d4-97b9-db0efc0f5d49').width('72%')"
       ],
       "metadata": {},
       "output_type": "display_data",
       "text": [
        "<IPython.core.display.Javascript at 0x118862050>"
       ]
      },
      {
       "javascript": [
        "$('div#c6fe6c93-261b-40d4-97b9-db0efc0f5d49').width('73%')"
       ],
       "metadata": {},
       "output_type": "display_data",
       "text": [
        "<IPython.core.display.Javascript at 0x118862050>"
       ]
      },
      {
       "javascript": [
        "$('div#c6fe6c93-261b-40d4-97b9-db0efc0f5d49').width('73%')"
       ],
       "metadata": {},
       "output_type": "display_data",
       "text": [
        "<IPython.core.display.Javascript at 0x118862050>"
       ]
      },
      {
       "javascript": [
        "$('div#c6fe6c93-261b-40d4-97b9-db0efc0f5d49').width('73%')"
       ],
       "metadata": {},
       "output_type": "display_data",
       "text": [
        "<IPython.core.display.Javascript at 0x118862050>"
       ]
      },
      {
       "javascript": [
        "$('div#c6fe6c93-261b-40d4-97b9-db0efc0f5d49').width('74%')"
       ],
       "metadata": {},
       "output_type": "display_data",
       "text": [
        "<IPython.core.display.Javascript at 0x118862050>"
       ]
      },
      {
       "javascript": [
        "$('div#c6fe6c93-261b-40d4-97b9-db0efc0f5d49').width('74%')"
       ],
       "metadata": {},
       "output_type": "display_data",
       "text": [
        "<IPython.core.display.Javascript at 0x118862050>"
       ]
      },
      {
       "javascript": [
        "$('div#c6fe6c93-261b-40d4-97b9-db0efc0f5d49').width('75%')"
       ],
       "metadata": {},
       "output_type": "display_data",
       "text": [
        "<IPython.core.display.Javascript at 0x118862050>"
       ]
      },
      {
       "javascript": [
        "$('div#c6fe6c93-261b-40d4-97b9-db0efc0f5d49').width('75%')"
       ],
       "metadata": {},
       "output_type": "display_data",
       "text": [
        "<IPython.core.display.Javascript at 0x118862050>"
       ]
      },
      {
       "javascript": [
        "$('div#c6fe6c93-261b-40d4-97b9-db0efc0f5d49').width('75%')"
       ],
       "metadata": {},
       "output_type": "display_data",
       "text": [
        "<IPython.core.display.Javascript at 0x118862050>"
       ]
      },
      {
       "javascript": [
        "$('div#c6fe6c93-261b-40d4-97b9-db0efc0f5d49').width('76%')"
       ],
       "metadata": {},
       "output_type": "display_data",
       "text": [
        "<IPython.core.display.Javascript at 0x118862050>"
       ]
      },
      {
       "javascript": [
        "$('div#c6fe6c93-261b-40d4-97b9-db0efc0f5d49').width('76%')"
       ],
       "metadata": {},
       "output_type": "display_data",
       "text": [
        "<IPython.core.display.Javascript at 0x118862050>"
       ]
      },
      {
       "javascript": [
        "$('div#c6fe6c93-261b-40d4-97b9-db0efc0f5d49').width('76%')"
       ],
       "metadata": {},
       "output_type": "display_data",
       "text": [
        "<IPython.core.display.Javascript at 0x118862050>"
       ]
      },
      {
       "javascript": [
        "$('div#c6fe6c93-261b-40d4-97b9-db0efc0f5d49').width('77%')"
       ],
       "metadata": {},
       "output_type": "display_data",
       "text": [
        "<IPython.core.display.Javascript at 0x118862050>"
       ]
      },
      {
       "javascript": [
        "$('div#c6fe6c93-261b-40d4-97b9-db0efc0f5d49').width('77%')"
       ],
       "metadata": {},
       "output_type": "display_data",
       "text": [
        "<IPython.core.display.Javascript at 0x118862050>"
       ]
      },
      {
       "javascript": [
        "$('div#c6fe6c93-261b-40d4-97b9-db0efc0f5d49').width('78%')"
       ],
       "metadata": {},
       "output_type": "display_data",
       "text": [
        "<IPython.core.display.Javascript at 0x118862050>"
       ]
      },
      {
       "javascript": [
        "$('div#c6fe6c93-261b-40d4-97b9-db0efc0f5d49').width('78%')"
       ],
       "metadata": {},
       "output_type": "display_data",
       "text": [
        "<IPython.core.display.Javascript at 0x118862050>"
       ]
      },
      {
       "javascript": [
        "$('div#c6fe6c93-261b-40d4-97b9-db0efc0f5d49').width('78%')"
       ],
       "metadata": {},
       "output_type": "display_data",
       "text": [
        "<IPython.core.display.Javascript at 0x118862050>"
       ]
      },
      {
       "javascript": [
        "$('div#c6fe6c93-261b-40d4-97b9-db0efc0f5d49').width('79%')"
       ],
       "metadata": {},
       "output_type": "display_data",
       "text": [
        "<IPython.core.display.Javascript at 0x118862050>"
       ]
      },
      {
       "javascript": [
        "$('div#c6fe6c93-261b-40d4-97b9-db0efc0f5d49').width('79%')"
       ],
       "metadata": {},
       "output_type": "display_data",
       "text": [
        "<IPython.core.display.Javascript at 0x118862050>"
       ]
      },
      {
       "javascript": [
        "$('div#c6fe6c93-261b-40d4-97b9-db0efc0f5d49').width('80%')"
       ],
       "metadata": {},
       "output_type": "display_data",
       "text": [
        "<IPython.core.display.Javascript at 0x118862050>"
       ]
      },
      {
       "javascript": [
        "$('div#c6fe6c93-261b-40d4-97b9-db0efc0f5d49').width('80%')"
       ],
       "metadata": {},
       "output_type": "display_data",
       "text": [
        "<IPython.core.display.Javascript at 0x118862050>"
       ]
      },
      {
       "javascript": [
        "$('div#c6fe6c93-261b-40d4-97b9-db0efc0f5d49').width('80%')"
       ],
       "metadata": {},
       "output_type": "display_data",
       "text": [
        "<IPython.core.display.Javascript at 0x118862050>"
       ]
      },
      {
       "javascript": [
        "$('div#c6fe6c93-261b-40d4-97b9-db0efc0f5d49').width('81%')"
       ],
       "metadata": {},
       "output_type": "display_data",
       "text": [
        "<IPython.core.display.Javascript at 0x118862050>"
       ]
      },
      {
       "javascript": [
        "$('div#c6fe6c93-261b-40d4-97b9-db0efc0f5d49').width('81%')"
       ],
       "metadata": {},
       "output_type": "display_data",
       "text": [
        "<IPython.core.display.Javascript at 0x118862050>"
       ]
      },
      {
       "javascript": [
        "$('div#c6fe6c93-261b-40d4-97b9-db0efc0f5d49').width('82%')"
       ],
       "metadata": {},
       "output_type": "display_data",
       "text": [
        "<IPython.core.display.Javascript at 0x118862050>"
       ]
      },
      {
       "javascript": [
        "$('div#c6fe6c93-261b-40d4-97b9-db0efc0f5d49').width('82%')"
       ],
       "metadata": {},
       "output_type": "display_data",
       "text": [
        "<IPython.core.display.Javascript at 0x118862050>"
       ]
      },
      {
       "javascript": [
        "$('div#c6fe6c93-261b-40d4-97b9-db0efc0f5d49').width('82%')"
       ],
       "metadata": {},
       "output_type": "display_data",
       "text": [
        "<IPython.core.display.Javascript at 0x118862050>"
       ]
      },
      {
       "javascript": [
        "$('div#c6fe6c93-261b-40d4-97b9-db0efc0f5d49').width('83%')"
       ],
       "metadata": {},
       "output_type": "display_data",
       "text": [
        "<IPython.core.display.Javascript at 0x118862050>"
       ]
      },
      {
       "javascript": [
        "$('div#c6fe6c93-261b-40d4-97b9-db0efc0f5d49').width('83%')"
       ],
       "metadata": {},
       "output_type": "display_data",
       "text": [
        "<IPython.core.display.Javascript at 0x118862050>"
       ]
      },
      {
       "javascript": [
        "$('div#c6fe6c93-261b-40d4-97b9-db0efc0f5d49').width('83%')"
       ],
       "metadata": {},
       "output_type": "display_data",
       "text": [
        "<IPython.core.display.Javascript at 0x118862050>"
       ]
      },
      {
       "javascript": [
        "$('div#c6fe6c93-261b-40d4-97b9-db0efc0f5d49').width('84%')"
       ],
       "metadata": {},
       "output_type": "display_data",
       "text": [
        "<IPython.core.display.Javascript at 0x118862050>"
       ]
      },
      {
       "javascript": [
        "$('div#c6fe6c93-261b-40d4-97b9-db0efc0f5d49').width('84%')"
       ],
       "metadata": {},
       "output_type": "display_data",
       "text": [
        "<IPython.core.display.Javascript at 0x118862050>"
       ]
      },
      {
       "javascript": [
        "$('div#c6fe6c93-261b-40d4-97b9-db0efc0f5d49').width('85%')"
       ],
       "metadata": {},
       "output_type": "display_data",
       "text": [
        "<IPython.core.display.Javascript at 0x118862050>"
       ]
      },
      {
       "javascript": [
        "$('div#c6fe6c93-261b-40d4-97b9-db0efc0f5d49').width('85%')"
       ],
       "metadata": {},
       "output_type": "display_data",
       "text": [
        "<IPython.core.display.Javascript at 0x118862050>"
       ]
      },
      {
       "javascript": [
        "$('div#c6fe6c93-261b-40d4-97b9-db0efc0f5d49').width('85%')"
       ],
       "metadata": {},
       "output_type": "display_data",
       "text": [
        "<IPython.core.display.Javascript at 0x118862050>"
       ]
      },
      {
       "javascript": [
        "$('div#c6fe6c93-261b-40d4-97b9-db0efc0f5d49').width('86%')"
       ],
       "metadata": {},
       "output_type": "display_data",
       "text": [
        "<IPython.core.display.Javascript at 0x118862050>"
       ]
      },
      {
       "javascript": [
        "$('div#c6fe6c93-261b-40d4-97b9-db0efc0f5d49').width('86%')"
       ],
       "metadata": {},
       "output_type": "display_data",
       "text": [
        "<IPython.core.display.Javascript at 0x118862050>"
       ]
      },
      {
       "javascript": [
        "$('div#c6fe6c93-261b-40d4-97b9-db0efc0f5d49').width('87%')"
       ],
       "metadata": {},
       "output_type": "display_data",
       "text": [
        "<IPython.core.display.Javascript at 0x118862050>"
       ]
      },
      {
       "javascript": [
        "$('div#c6fe6c93-261b-40d4-97b9-db0efc0f5d49').width('87%')"
       ],
       "metadata": {},
       "output_type": "display_data",
       "text": [
        "<IPython.core.display.Javascript at 0x118862050>"
       ]
      },
      {
       "javascript": [
        "$('div#c6fe6c93-261b-40d4-97b9-db0efc0f5d49').width('87%')"
       ],
       "metadata": {},
       "output_type": "display_data",
       "text": [
        "<IPython.core.display.Javascript at 0x118862050>"
       ]
      },
      {
       "javascript": [
        "$('div#c6fe6c93-261b-40d4-97b9-db0efc0f5d49').width('88%')"
       ],
       "metadata": {},
       "output_type": "display_data",
       "text": [
        "<IPython.core.display.Javascript at 0x118862050>"
       ]
      },
      {
       "javascript": [
        "$('div#c6fe6c93-261b-40d4-97b9-db0efc0f5d49').width('88%')"
       ],
       "metadata": {},
       "output_type": "display_data",
       "text": [
        "<IPython.core.display.Javascript at 0x118862050>"
       ]
      },
      {
       "javascript": [
        "$('div#c6fe6c93-261b-40d4-97b9-db0efc0f5d49').width('89%')"
       ],
       "metadata": {},
       "output_type": "display_data",
       "text": [
        "<IPython.core.display.Javascript at 0x118862050>"
       ]
      },
      {
       "javascript": [
        "$('div#c6fe6c93-261b-40d4-97b9-db0efc0f5d49').width('89%')"
       ],
       "metadata": {},
       "output_type": "display_data",
       "text": [
        "<IPython.core.display.Javascript at 0x118862050>"
       ]
      },
      {
       "javascript": [
        "$('div#c6fe6c93-261b-40d4-97b9-db0efc0f5d49').width('89%')"
       ],
       "metadata": {},
       "output_type": "display_data",
       "text": [
        "<IPython.core.display.Javascript at 0x118862050>"
       ]
      },
      {
       "javascript": [
        "$('div#c6fe6c93-261b-40d4-97b9-db0efc0f5d49').width('90%')"
       ],
       "metadata": {},
       "output_type": "display_data",
       "text": [
        "<IPython.core.display.Javascript at 0x118862050>"
       ]
      },
      {
       "javascript": [
        "$('div#c6fe6c93-261b-40d4-97b9-db0efc0f5d49').width('90%')"
       ],
       "metadata": {},
       "output_type": "display_data",
       "text": [
        "<IPython.core.display.Javascript at 0x118862050>"
       ]
      },
      {
       "javascript": [
        "$('div#c6fe6c93-261b-40d4-97b9-db0efc0f5d49').width('91%')"
       ],
       "metadata": {},
       "output_type": "display_data",
       "text": [
        "<IPython.core.display.Javascript at 0x118862050>"
       ]
      },
      {
       "javascript": [
        "$('div#c6fe6c93-261b-40d4-97b9-db0efc0f5d49').width('91%')"
       ],
       "metadata": {},
       "output_type": "display_data",
       "text": [
        "<IPython.core.display.Javascript at 0x118862050>"
       ]
      },
      {
       "javascript": [
        "$('div#c6fe6c93-261b-40d4-97b9-db0efc0f5d49').width('91%')"
       ],
       "metadata": {},
       "output_type": "display_data",
       "text": [
        "<IPython.core.display.Javascript at 0x118862050>"
       ]
      },
      {
       "javascript": [
        "$('div#c6fe6c93-261b-40d4-97b9-db0efc0f5d49').width('92%')"
       ],
       "metadata": {},
       "output_type": "display_data",
       "text": [
        "<IPython.core.display.Javascript at 0x118862050>"
       ]
      },
      {
       "javascript": [
        "$('div#c6fe6c93-261b-40d4-97b9-db0efc0f5d49').width('92%')"
       ],
       "metadata": {},
       "output_type": "display_data",
       "text": [
        "<IPython.core.display.Javascript at 0x118862050>"
       ]
      },
      {
       "javascript": [
        "$('div#c6fe6c93-261b-40d4-97b9-db0efc0f5d49').width('92%')"
       ],
       "metadata": {},
       "output_type": "display_data",
       "text": [
        "<IPython.core.display.Javascript at 0x118862050>"
       ]
      },
      {
       "javascript": [
        "$('div#c6fe6c93-261b-40d4-97b9-db0efc0f5d49').width('93%')"
       ],
       "metadata": {},
       "output_type": "display_data",
       "text": [
        "<IPython.core.display.Javascript at 0x118862050>"
       ]
      },
      {
       "javascript": [
        "$('div#c6fe6c93-261b-40d4-97b9-db0efc0f5d49').width('93%')"
       ],
       "metadata": {},
       "output_type": "display_data",
       "text": [
        "<IPython.core.display.Javascript at 0x118862050>"
       ]
      },
      {
       "javascript": [
        "$('div#c6fe6c93-261b-40d4-97b9-db0efc0f5d49').width('94%')"
       ],
       "metadata": {},
       "output_type": "display_data",
       "text": [
        "<IPython.core.display.Javascript at 0x118862050>"
       ]
      },
      {
       "javascript": [
        "$('div#c6fe6c93-261b-40d4-97b9-db0efc0f5d49').width('94%')"
       ],
       "metadata": {},
       "output_type": "display_data",
       "text": [
        "<IPython.core.display.Javascript at 0x118862050>"
       ]
      },
      {
       "javascript": [
        "$('div#c6fe6c93-261b-40d4-97b9-db0efc0f5d49').width('94%')"
       ],
       "metadata": {},
       "output_type": "display_data",
       "text": [
        "<IPython.core.display.Javascript at 0x118862050>"
       ]
      },
      {
       "javascript": [
        "$('div#c6fe6c93-261b-40d4-97b9-db0efc0f5d49').width('95%')"
       ],
       "metadata": {},
       "output_type": "display_data",
       "text": [
        "<IPython.core.display.Javascript at 0x118862050>"
       ]
      },
      {
       "javascript": [
        "$('div#c6fe6c93-261b-40d4-97b9-db0efc0f5d49').width('95%')"
       ],
       "metadata": {},
       "output_type": "display_data",
       "text": [
        "<IPython.core.display.Javascript at 0x118862050>"
       ]
      },
      {
       "javascript": [
        "$('div#c6fe6c93-261b-40d4-97b9-db0efc0f5d49').width('96%')"
       ],
       "metadata": {},
       "output_type": "display_data",
       "text": [
        "<IPython.core.display.Javascript at 0x118862050>"
       ]
      },
      {
       "javascript": [
        "$('div#c6fe6c93-261b-40d4-97b9-db0efc0f5d49').width('96%')"
       ],
       "metadata": {},
       "output_type": "display_data",
       "text": [
        "<IPython.core.display.Javascript at 0x118862050>"
       ]
      },
      {
       "javascript": [
        "$('div#c6fe6c93-261b-40d4-97b9-db0efc0f5d49').width('96%')"
       ],
       "metadata": {},
       "output_type": "display_data",
       "text": [
        "<IPython.core.display.Javascript at 0x118862050>"
       ]
      },
      {
       "javascript": [
        "$('div#c6fe6c93-261b-40d4-97b9-db0efc0f5d49').width('97%')"
       ],
       "metadata": {},
       "output_type": "display_data",
       "text": [
        "<IPython.core.display.Javascript at 0x118862050>"
       ]
      },
      {
       "javascript": [
        "$('div#c6fe6c93-261b-40d4-97b9-db0efc0f5d49').width('97%')"
       ],
       "metadata": {},
       "output_type": "display_data",
       "text": [
        "<IPython.core.display.Javascript at 0x118862050>"
       ]
      },
      {
       "javascript": [
        "$('div#c6fe6c93-261b-40d4-97b9-db0efc0f5d49').width('98%')"
       ],
       "metadata": {},
       "output_type": "display_data",
       "text": [
        "<IPython.core.display.Javascript at 0x118862050>"
       ]
      },
      {
       "javascript": [
        "$('div#c6fe6c93-261b-40d4-97b9-db0efc0f5d49').width('98%')"
       ],
       "metadata": {},
       "output_type": "display_data",
       "text": [
        "<IPython.core.display.Javascript at 0x118862050>"
       ]
      },
      {
       "javascript": [
        "$('div#c6fe6c93-261b-40d4-97b9-db0efc0f5d49').width('98%')"
       ],
       "metadata": {},
       "output_type": "display_data",
       "text": [
        "<IPython.core.display.Javascript at 0x118862050>"
       ]
      },
      {
       "javascript": [
        "$('div#c6fe6c93-261b-40d4-97b9-db0efc0f5d49').width('99%')"
       ],
       "metadata": {},
       "output_type": "display_data",
       "text": [
        "<IPython.core.display.Javascript at 0x118862050>"
       ]
      },
      {
       "javascript": [
        "$('div#c6fe6c93-261b-40d4-97b9-db0efc0f5d49').width('99%')"
       ],
       "metadata": {},
       "output_type": "display_data",
       "text": [
        "<IPython.core.display.Javascript at 0x118862050>"
       ]
      },
      {
       "javascript": [
        "$('div#c6fe6c93-261b-40d4-97b9-db0efc0f5d49').width('100%')"
       ],
       "metadata": {},
       "output_type": "display_data",
       "text": [
        "<IPython.core.display.Javascript at 0x118862250>"
       ]
      },
      {
       "html": [
        "<iframe src=http://127.0.0.1:8001/6329849 width=100%% height=420 frameborder=0></iframe>"
       ],
       "metadata": {},
       "output_type": "pyout",
       "prompt_number": 3,
       "text": [
        "<DisplayNode.DisplayNodeProxy.DisplayNode instance at 0x10c2b2830>"
       ]
      }
     ],
     "prompt_number": 3
    },
    {
     "cell_type": "code",
     "collapsed": false,
     "input": [
      "F.display(2)"
     ],
     "language": "python",
     "metadata": {},
     "outputs": [
      {
       "html": [
        "\n",
        "        <div style=\"border: 1px solid white; width:100%%; height:6px; background-color:rgb(246,246,246)\">\n",
        "            <div id=\"7b25b281-b694-42b3-a2d4-07405334e3c4\" style=\"background-color:rgb(200,200,200); width:0%; height:6px\"> </div>\n",
        "        </div> \n",
        "        "
       ],
       "metadata": {},
       "output_type": "display_data",
       "text": [
        "<IPython.core.display.HTML at 0x11888ed90>"
       ]
      },
      {
       "javascript": [
        "$('div#7b25b281-b694-42b3-a2d4-07405334e3c4').width('1%')"
       ],
       "metadata": {},
       "output_type": "display_data",
       "text": [
        "<IPython.core.display.Javascript at 0x11888edd0>"
       ]
      },
      {
       "javascript": [
        "$('div#7b25b281-b694-42b3-a2d4-07405334e3c4').width('1%')"
       ],
       "metadata": {},
       "output_type": "display_data",
       "text": [
        "<IPython.core.display.Javascript at 0x11888edd0>"
       ]
      },
      {
       "javascript": [
        "$('div#7b25b281-b694-42b3-a2d4-07405334e3c4').width('1%')"
       ],
       "metadata": {},
       "output_type": "display_data",
       "text": [
        "<IPython.core.display.Javascript at 0x11888edd0>"
       ]
      },
      {
       "javascript": [
        "$('div#7b25b281-b694-42b3-a2d4-07405334e3c4').width('1%')"
       ],
       "metadata": {},
       "output_type": "display_data",
       "text": [
        "<IPython.core.display.Javascript at 0x11888edd0>"
       ]
      },
      {
       "javascript": [
        "$('div#7b25b281-b694-42b3-a2d4-07405334e3c4').width('1%')"
       ],
       "metadata": {},
       "output_type": "display_data",
       "text": [
        "<IPython.core.display.Javascript at 0x11888edd0>"
       ]
      },
      {
       "javascript": [
        "$('div#7b25b281-b694-42b3-a2d4-07405334e3c4').width('1%')"
       ],
       "metadata": {},
       "output_type": "display_data",
       "text": [
        "<IPython.core.display.Javascript at 0x11888edd0>"
       ]
      },
      {
       "javascript": [
        "$('div#7b25b281-b694-42b3-a2d4-07405334e3c4').width('2%')"
       ],
       "metadata": {},
       "output_type": "display_data",
       "text": [
        "<IPython.core.display.Javascript at 0x11888edd0>"
       ]
      },
      {
       "javascript": [
        "$('div#7b25b281-b694-42b3-a2d4-07405334e3c4').width('2%')"
       ],
       "metadata": {},
       "output_type": "display_data",
       "text": [
        "<IPython.core.display.Javascript at 0x11888edd0>"
       ]
      },
      {
       "javascript": [
        "$('div#7b25b281-b694-42b3-a2d4-07405334e3c4').width('3%')"
       ],
       "metadata": {},
       "output_type": "display_data",
       "text": [
        "<IPython.core.display.Javascript at 0x11888edd0>"
       ]
      },
      {
       "javascript": [
        "$('div#7b25b281-b694-42b3-a2d4-07405334e3c4').width('3%')"
       ],
       "metadata": {},
       "output_type": "display_data",
       "text": [
        "<IPython.core.display.Javascript at 0x11888edd0>"
       ]
      },
      {
       "javascript": [
        "$('div#7b25b281-b694-42b3-a2d4-07405334e3c4').width('3%')"
       ],
       "metadata": {},
       "output_type": "display_data",
       "text": [
        "<IPython.core.display.Javascript at 0x11888edd0>"
       ]
      },
      {
       "javascript": [
        "$('div#7b25b281-b694-42b3-a2d4-07405334e3c4').width('4%')"
       ],
       "metadata": {},
       "output_type": "display_data",
       "text": [
        "<IPython.core.display.Javascript at 0x11888edd0>"
       ]
      },
      {
       "javascript": [
        "$('div#7b25b281-b694-42b3-a2d4-07405334e3c4').width('4%')"
       ],
       "metadata": {},
       "output_type": "display_data",
       "text": [
        "<IPython.core.display.Javascript at 0x11888edd0>"
       ]
      },
      {
       "javascript": [
        "$('div#7b25b281-b694-42b3-a2d4-07405334e3c4').width('5%')"
       ],
       "metadata": {},
       "output_type": "display_data",
       "text": [
        "<IPython.core.display.Javascript at 0x11888edd0>"
       ]
      },
      {
       "javascript": [
        "$('div#7b25b281-b694-42b3-a2d4-07405334e3c4').width('5%')"
       ],
       "metadata": {},
       "output_type": "display_data",
       "text": [
        "<IPython.core.display.Javascript at 0x11888edd0>"
       ]
      },
      {
       "javascript": [
        "$('div#7b25b281-b694-42b3-a2d4-07405334e3c4').width('5%')"
       ],
       "metadata": {},
       "output_type": "display_data",
       "text": [
        "<IPython.core.display.Javascript at 0x11888edd0>"
       ]
      },
      {
       "javascript": [
        "$('div#7b25b281-b694-42b3-a2d4-07405334e3c4').width('6%')"
       ],
       "metadata": {},
       "output_type": "display_data",
       "text": [
        "<IPython.core.display.Javascript at 0x11888edd0>"
       ]
      },
      {
       "javascript": [
        "$('div#7b25b281-b694-42b3-a2d4-07405334e3c4').width('6%')"
       ],
       "metadata": {},
       "output_type": "display_data",
       "text": [
        "<IPython.core.display.Javascript at 0x11888edd0>"
       ]
      },
      {
       "javascript": [
        "$('div#7b25b281-b694-42b3-a2d4-07405334e3c4').width('7%')"
       ],
       "metadata": {},
       "output_type": "display_data",
       "text": [
        "<IPython.core.display.Javascript at 0x11888edd0>"
       ]
      },
      {
       "javascript": [
        "$('div#7b25b281-b694-42b3-a2d4-07405334e3c4').width('7%')"
       ],
       "metadata": {},
       "output_type": "display_data",
       "text": [
        "<IPython.core.display.Javascript at 0x11888edd0>"
       ]
      },
      {
       "javascript": [
        "$('div#7b25b281-b694-42b3-a2d4-07405334e3c4').width('7%')"
       ],
       "metadata": {},
       "output_type": "display_data",
       "text": [
        "<IPython.core.display.Javascript at 0x11888edd0>"
       ]
      },
      {
       "javascript": [
        "$('div#7b25b281-b694-42b3-a2d4-07405334e3c4').width('8%')"
       ],
       "metadata": {},
       "output_type": "display_data",
       "text": [
        "<IPython.core.display.Javascript at 0x11888edd0>"
       ]
      },
      {
       "javascript": [
        "$('div#7b25b281-b694-42b3-a2d4-07405334e3c4').width('8%')"
       ],
       "metadata": {},
       "output_type": "display_data",
       "text": [
        "<IPython.core.display.Javascript at 0x11888edd0>"
       ]
      },
      {
       "javascript": [
        "$('div#7b25b281-b694-42b3-a2d4-07405334e3c4').width('8%')"
       ],
       "metadata": {},
       "output_type": "display_data",
       "text": [
        "<IPython.core.display.Javascript at 0x11888edd0>"
       ]
      },
      {
       "javascript": [
        "$('div#7b25b281-b694-42b3-a2d4-07405334e3c4').width('9%')"
       ],
       "metadata": {},
       "output_type": "display_data",
       "text": [
        "<IPython.core.display.Javascript at 0x11888edd0>"
       ]
      },
      {
       "javascript": [
        "$('div#7b25b281-b694-42b3-a2d4-07405334e3c4').width('9%')"
       ],
       "metadata": {},
       "output_type": "display_data",
       "text": [
        "<IPython.core.display.Javascript at 0x11888edd0>"
       ]
      },
      {
       "javascript": [
        "$('div#7b25b281-b694-42b3-a2d4-07405334e3c4').width('10%')"
       ],
       "metadata": {},
       "output_type": "display_data",
       "text": [
        "<IPython.core.display.Javascript at 0x11888edd0>"
       ]
      },
      {
       "javascript": [
        "$('div#7b25b281-b694-42b3-a2d4-07405334e3c4').width('10%')"
       ],
       "metadata": {},
       "output_type": "display_data",
       "text": [
        "<IPython.core.display.Javascript at 0x11888edd0>"
       ]
      },
      {
       "javascript": [
        "$('div#7b25b281-b694-42b3-a2d4-07405334e3c4').width('10%')"
       ],
       "metadata": {},
       "output_type": "display_data",
       "text": [
        "<IPython.core.display.Javascript at 0x11888edd0>"
       ]
      },
      {
       "javascript": [
        "$('div#7b25b281-b694-42b3-a2d4-07405334e3c4').width('11%')"
       ],
       "metadata": {},
       "output_type": "display_data",
       "text": [
        "<IPython.core.display.Javascript at 0x11888edd0>"
       ]
      },
      {
       "javascript": [
        "$('div#7b25b281-b694-42b3-a2d4-07405334e3c4').width('11%')"
       ],
       "metadata": {},
       "output_type": "display_data",
       "text": [
        "<IPython.core.display.Javascript at 0x11888edd0>"
       ]
      },
      {
       "javascript": [
        "$('div#7b25b281-b694-42b3-a2d4-07405334e3c4').width('12%')"
       ],
       "metadata": {},
       "output_type": "display_data",
       "text": [
        "<IPython.core.display.Javascript at 0x11888edd0>"
       ]
      },
      {
       "javascript": [
        "$('div#7b25b281-b694-42b3-a2d4-07405334e3c4').width('12%')"
       ],
       "metadata": {},
       "output_type": "display_data",
       "text": [
        "<IPython.core.display.Javascript at 0x11888edd0>"
       ]
      },
      {
       "javascript": [
        "$('div#7b25b281-b694-42b3-a2d4-07405334e3c4').width('12%')"
       ],
       "metadata": {},
       "output_type": "display_data",
       "text": [
        "<IPython.core.display.Javascript at 0x11888edd0>"
       ]
      },
      {
       "javascript": [
        "$('div#7b25b281-b694-42b3-a2d4-07405334e3c4').width('13%')"
       ],
       "metadata": {},
       "output_type": "display_data",
       "text": [
        "<IPython.core.display.Javascript at 0x11888edd0>"
       ]
      },
      {
       "javascript": [
        "$('div#7b25b281-b694-42b3-a2d4-07405334e3c4').width('13%')"
       ],
       "metadata": {},
       "output_type": "display_data",
       "text": [
        "<IPython.core.display.Javascript at 0x11888edd0>"
       ]
      },
      {
       "javascript": [
        "$('div#7b25b281-b694-42b3-a2d4-07405334e3c4').width('14%')"
       ],
       "metadata": {},
       "output_type": "display_data",
       "text": [
        "<IPython.core.display.Javascript at 0x11888edd0>"
       ]
      },
      {
       "javascript": [
        "$('div#7b25b281-b694-42b3-a2d4-07405334e3c4').width('14%')"
       ],
       "metadata": {},
       "output_type": "display_data",
       "text": [
        "<IPython.core.display.Javascript at 0x11888edd0>"
       ]
      },
      {
       "javascript": [
        "$('div#7b25b281-b694-42b3-a2d4-07405334e3c4').width('14%')"
       ],
       "metadata": {},
       "output_type": "display_data",
       "text": [
        "<IPython.core.display.Javascript at 0x11888edd0>"
       ]
      },
      {
       "javascript": [
        "$('div#7b25b281-b694-42b3-a2d4-07405334e3c4').width('15%')"
       ],
       "metadata": {},
       "output_type": "display_data",
       "text": [
        "<IPython.core.display.Javascript at 0x11888edd0>"
       ]
      },
      {
       "javascript": [
        "$('div#7b25b281-b694-42b3-a2d4-07405334e3c4').width('15%')"
       ],
       "metadata": {},
       "output_type": "display_data",
       "text": [
        "<IPython.core.display.Javascript at 0x11888edd0>"
       ]
      },
      {
       "javascript": [
        "$('div#7b25b281-b694-42b3-a2d4-07405334e3c4').width('16%')"
       ],
       "metadata": {},
       "output_type": "display_data",
       "text": [
        "<IPython.core.display.Javascript at 0x11888edd0>"
       ]
      },
      {
       "javascript": [
        "$('div#7b25b281-b694-42b3-a2d4-07405334e3c4').width('16%')"
       ],
       "metadata": {},
       "output_type": "display_data",
       "text": [
        "<IPython.core.display.Javascript at 0x11888edd0>"
       ]
      },
      {
       "javascript": [
        "$('div#7b25b281-b694-42b3-a2d4-07405334e3c4').width('16%')"
       ],
       "metadata": {},
       "output_type": "display_data",
       "text": [
        "<IPython.core.display.Javascript at 0x11888edd0>"
       ]
      },
      {
       "javascript": [
        "$('div#7b25b281-b694-42b3-a2d4-07405334e3c4').width('17%')"
       ],
       "metadata": {},
       "output_type": "display_data",
       "text": [
        "<IPython.core.display.Javascript at 0x11888edd0>"
       ]
      },
      {
       "javascript": [
        "$('div#7b25b281-b694-42b3-a2d4-07405334e3c4').width('17%')"
       ],
       "metadata": {},
       "output_type": "display_data",
       "text": [
        "<IPython.core.display.Javascript at 0x11888edd0>"
       ]
      },
      {
       "javascript": [
        "$('div#7b25b281-b694-42b3-a2d4-07405334e3c4').width('17%')"
       ],
       "metadata": {},
       "output_type": "display_data",
       "text": [
        "<IPython.core.display.Javascript at 0x11888edd0>"
       ]
      },
      {
       "javascript": [
        "$('div#7b25b281-b694-42b3-a2d4-07405334e3c4').width('18%')"
       ],
       "metadata": {},
       "output_type": "display_data",
       "text": [
        "<IPython.core.display.Javascript at 0x11888edd0>"
       ]
      },
      {
       "javascript": [
        "$('div#7b25b281-b694-42b3-a2d4-07405334e3c4').width('18%')"
       ],
       "metadata": {},
       "output_type": "display_data",
       "text": [
        "<IPython.core.display.Javascript at 0x11888edd0>"
       ]
      },
      {
       "javascript": [
        "$('div#7b25b281-b694-42b3-a2d4-07405334e3c4').width('19%')"
       ],
       "metadata": {},
       "output_type": "display_data",
       "text": [
        "<IPython.core.display.Javascript at 0x11888edd0>"
       ]
      },
      {
       "javascript": [
        "$('div#7b25b281-b694-42b3-a2d4-07405334e3c4').width('19%')"
       ],
       "metadata": {},
       "output_type": "display_data",
       "text": [
        "<IPython.core.display.Javascript at 0x11888edd0>"
       ]
      },
      {
       "javascript": [
        "$('div#7b25b281-b694-42b3-a2d4-07405334e3c4').width('19%')"
       ],
       "metadata": {},
       "output_type": "display_data",
       "text": [
        "<IPython.core.display.Javascript at 0x11888edd0>"
       ]
      },
      {
       "javascript": [
        "$('div#7b25b281-b694-42b3-a2d4-07405334e3c4').width('20%')"
       ],
       "metadata": {},
       "output_type": "display_data",
       "text": [
        "<IPython.core.display.Javascript at 0x11888edd0>"
       ]
      },
      {
       "javascript": [
        "$('div#7b25b281-b694-42b3-a2d4-07405334e3c4').width('20%')"
       ],
       "metadata": {},
       "output_type": "display_data",
       "text": [
        "<IPython.core.display.Javascript at 0x11888edd0>"
       ]
      },
      {
       "javascript": [
        "$('div#7b25b281-b694-42b3-a2d4-07405334e3c4').width('21%')"
       ],
       "metadata": {},
       "output_type": "display_data",
       "text": [
        "<IPython.core.display.Javascript at 0x11888edd0>"
       ]
      },
      {
       "javascript": [
        "$('div#7b25b281-b694-42b3-a2d4-07405334e3c4').width('21%')"
       ],
       "metadata": {},
       "output_type": "display_data",
       "text": [
        "<IPython.core.display.Javascript at 0x11888edd0>"
       ]
      },
      {
       "javascript": [
        "$('div#7b25b281-b694-42b3-a2d4-07405334e3c4').width('21%')"
       ],
       "metadata": {},
       "output_type": "display_data",
       "text": [
        "<IPython.core.display.Javascript at 0x11888edd0>"
       ]
      },
      {
       "javascript": [
        "$('div#7b25b281-b694-42b3-a2d4-07405334e3c4').width('22%')"
       ],
       "metadata": {},
       "output_type": "display_data",
       "text": [
        "<IPython.core.display.Javascript at 0x11888edd0>"
       ]
      },
      {
       "javascript": [
        "$('div#7b25b281-b694-42b3-a2d4-07405334e3c4').width('22%')"
       ],
       "metadata": {},
       "output_type": "display_data",
       "text": [
        "<IPython.core.display.Javascript at 0x11888edd0>"
       ]
      },
      {
       "javascript": [
        "$('div#7b25b281-b694-42b3-a2d4-07405334e3c4').width('23%')"
       ],
       "metadata": {},
       "output_type": "display_data",
       "text": [
        "<IPython.core.display.Javascript at 0x11888edd0>"
       ]
      },
      {
       "javascript": [
        "$('div#7b25b281-b694-42b3-a2d4-07405334e3c4').width('23%')"
       ],
       "metadata": {},
       "output_type": "display_data",
       "text": [
        "<IPython.core.display.Javascript at 0x11888edd0>"
       ]
      },
      {
       "javascript": [
        "$('div#7b25b281-b694-42b3-a2d4-07405334e3c4').width('23%')"
       ],
       "metadata": {},
       "output_type": "display_data",
       "text": [
        "<IPython.core.display.Javascript at 0x11888edd0>"
       ]
      },
      {
       "javascript": [
        "$('div#7b25b281-b694-42b3-a2d4-07405334e3c4').width('24%')"
       ],
       "metadata": {},
       "output_type": "display_data",
       "text": [
        "<IPython.core.display.Javascript at 0x11888edd0>"
       ]
      },
      {
       "javascript": [
        "$('div#7b25b281-b694-42b3-a2d4-07405334e3c4').width('24%')"
       ],
       "metadata": {},
       "output_type": "display_data",
       "text": [
        "<IPython.core.display.Javascript at 0x11888edd0>"
       ]
      },
      {
       "javascript": [
        "$('div#7b25b281-b694-42b3-a2d4-07405334e3c4').width('25%')"
       ],
       "metadata": {},
       "output_type": "display_data",
       "text": [
        "<IPython.core.display.Javascript at 0x11888edd0>"
       ]
      },
      {
       "javascript": [
        "$('div#7b25b281-b694-42b3-a2d4-07405334e3c4').width('25%')"
       ],
       "metadata": {},
       "output_type": "display_data",
       "text": [
        "<IPython.core.display.Javascript at 0x11888edd0>"
       ]
      },
      {
       "javascript": [
        "$('div#7b25b281-b694-42b3-a2d4-07405334e3c4').width('25%')"
       ],
       "metadata": {},
       "output_type": "display_data",
       "text": [
        "<IPython.core.display.Javascript at 0x11888edd0>"
       ]
      },
      {
       "javascript": [
        "$('div#7b25b281-b694-42b3-a2d4-07405334e3c4').width('26%')"
       ],
       "metadata": {},
       "output_type": "display_data",
       "text": [
        "<IPython.core.display.Javascript at 0x11888edd0>"
       ]
      },
      {
       "javascript": [
        "$('div#7b25b281-b694-42b3-a2d4-07405334e3c4').width('26%')"
       ],
       "metadata": {},
       "output_type": "display_data",
       "text": [
        "<IPython.core.display.Javascript at 0x11888edd0>"
       ]
      },
      {
       "javascript": [
        "$('div#7b25b281-b694-42b3-a2d4-07405334e3c4').width('26%')"
       ],
       "metadata": {},
       "output_type": "display_data",
       "text": [
        "<IPython.core.display.Javascript at 0x11888edd0>"
       ]
      },
      {
       "javascript": [
        "$('div#7b25b281-b694-42b3-a2d4-07405334e3c4').width('27%')"
       ],
       "metadata": {},
       "output_type": "display_data",
       "text": [
        "<IPython.core.display.Javascript at 0x11888edd0>"
       ]
      },
      {
       "javascript": [
        "$('div#7b25b281-b694-42b3-a2d4-07405334e3c4').width('27%')"
       ],
       "metadata": {},
       "output_type": "display_data",
       "text": [
        "<IPython.core.display.Javascript at 0x11888edd0>"
       ]
      },
      {
       "javascript": [
        "$('div#7b25b281-b694-42b3-a2d4-07405334e3c4').width('28%')"
       ],
       "metadata": {},
       "output_type": "display_data",
       "text": [
        "<IPython.core.display.Javascript at 0x11888edd0>"
       ]
      },
      {
       "javascript": [
        "$('div#7b25b281-b694-42b3-a2d4-07405334e3c4').width('28%')"
       ],
       "metadata": {},
       "output_type": "display_data",
       "text": [
        "<IPython.core.display.Javascript at 0x11888edd0>"
       ]
      },
      {
       "javascript": [
        "$('div#7b25b281-b694-42b3-a2d4-07405334e3c4').width('28%')"
       ],
       "metadata": {},
       "output_type": "display_data",
       "text": [
        "<IPython.core.display.Javascript at 0x11888edd0>"
       ]
      },
      {
       "javascript": [
        "$('div#7b25b281-b694-42b3-a2d4-07405334e3c4').width('29%')"
       ],
       "metadata": {},
       "output_type": "display_data",
       "text": [
        "<IPython.core.display.Javascript at 0x11888edd0>"
       ]
      },
      {
       "javascript": [
        "$('div#7b25b281-b694-42b3-a2d4-07405334e3c4').width('29%')"
       ],
       "metadata": {},
       "output_type": "display_data",
       "text": [
        "<IPython.core.display.Javascript at 0x11888edd0>"
       ]
      },
      {
       "javascript": [
        "$('div#7b25b281-b694-42b3-a2d4-07405334e3c4').width('30%')"
       ],
       "metadata": {},
       "output_type": "display_data",
       "text": [
        "<IPython.core.display.Javascript at 0x11888edd0>"
       ]
      },
      {
       "javascript": [
        "$('div#7b25b281-b694-42b3-a2d4-07405334e3c4').width('30%')"
       ],
       "metadata": {},
       "output_type": "display_data",
       "text": [
        "<IPython.core.display.Javascript at 0x11888edd0>"
       ]
      },
      {
       "javascript": [
        "$('div#7b25b281-b694-42b3-a2d4-07405334e3c4').width('30%')"
       ],
       "metadata": {},
       "output_type": "display_data",
       "text": [
        "<IPython.core.display.Javascript at 0x11888edd0>"
       ]
      },
      {
       "javascript": [
        "$('div#7b25b281-b694-42b3-a2d4-07405334e3c4').width('31%')"
       ],
       "metadata": {},
       "output_type": "display_data",
       "text": [
        "<IPython.core.display.Javascript at 0x11888edd0>"
       ]
      },
      {
       "javascript": [
        "$('div#7b25b281-b694-42b3-a2d4-07405334e3c4').width('31%')"
       ],
       "metadata": {},
       "output_type": "display_data",
       "text": [
        "<IPython.core.display.Javascript at 0x11888edd0>"
       ]
      },
      {
       "javascript": [
        "$('div#7b25b281-b694-42b3-a2d4-07405334e3c4').width('32%')"
       ],
       "metadata": {},
       "output_type": "display_data",
       "text": [
        "<IPython.core.display.Javascript at 0x11888edd0>"
       ]
      },
      {
       "javascript": [
        "$('div#7b25b281-b694-42b3-a2d4-07405334e3c4').width('32%')"
       ],
       "metadata": {},
       "output_type": "display_data",
       "text": [
        "<IPython.core.display.Javascript at 0x11888edd0>"
       ]
      },
      {
       "javascript": [
        "$('div#7b25b281-b694-42b3-a2d4-07405334e3c4').width('32%')"
       ],
       "metadata": {},
       "output_type": "display_data",
       "text": [
        "<IPython.core.display.Javascript at 0x11888edd0>"
       ]
      },
      {
       "javascript": [
        "$('div#7b25b281-b694-42b3-a2d4-07405334e3c4').width('33%')"
       ],
       "metadata": {},
       "output_type": "display_data",
       "text": [
        "<IPython.core.display.Javascript at 0x11888edd0>"
       ]
      },
      {
       "javascript": [
        "$('div#7b25b281-b694-42b3-a2d4-07405334e3c4').width('33%')"
       ],
       "metadata": {},
       "output_type": "display_data",
       "text": [
        "<IPython.core.display.Javascript at 0x11888edd0>"
       ]
      },
      {
       "javascript": [
        "$('div#7b25b281-b694-42b3-a2d4-07405334e3c4').width('33%')"
       ],
       "metadata": {},
       "output_type": "display_data",
       "text": [
        "<IPython.core.display.Javascript at 0x11888edd0>"
       ]
      },
      {
       "javascript": [
        "$('div#7b25b281-b694-42b3-a2d4-07405334e3c4').width('34%')"
       ],
       "metadata": {},
       "output_type": "display_data",
       "text": [
        "<IPython.core.display.Javascript at 0x11888edd0>"
       ]
      },
      {
       "javascript": [
        "$('div#7b25b281-b694-42b3-a2d4-07405334e3c4').width('34%')"
       ],
       "metadata": {},
       "output_type": "display_data",
       "text": [
        "<IPython.core.display.Javascript at 0x11888edd0>"
       ]
      },
      {
       "javascript": [
        "$('div#7b25b281-b694-42b3-a2d4-07405334e3c4').width('35%')"
       ],
       "metadata": {},
       "output_type": "display_data",
       "text": [
        "<IPython.core.display.Javascript at 0x11888edd0>"
       ]
      },
      {
       "javascript": [
        "$('div#7b25b281-b694-42b3-a2d4-07405334e3c4').width('35%')"
       ],
       "metadata": {},
       "output_type": "display_data",
       "text": [
        "<IPython.core.display.Javascript at 0x11888edd0>"
       ]
      },
      {
       "javascript": [
        "$('div#7b25b281-b694-42b3-a2d4-07405334e3c4').width('35%')"
       ],
       "metadata": {},
       "output_type": "display_data",
       "text": [
        "<IPython.core.display.Javascript at 0x11888edd0>"
       ]
      },
      {
       "javascript": [
        "$('div#7b25b281-b694-42b3-a2d4-07405334e3c4').width('36%')"
       ],
       "metadata": {},
       "output_type": "display_data",
       "text": [
        "<IPython.core.display.Javascript at 0x11888edd0>"
       ]
      },
      {
       "javascript": [
        "$('div#7b25b281-b694-42b3-a2d4-07405334e3c4').width('36%')"
       ],
       "metadata": {},
       "output_type": "display_data",
       "text": [
        "<IPython.core.display.Javascript at 0x11888edd0>"
       ]
      },
      {
       "javascript": [
        "$('div#7b25b281-b694-42b3-a2d4-07405334e3c4').width('37%')"
       ],
       "metadata": {},
       "output_type": "display_data",
       "text": [
        "<IPython.core.display.Javascript at 0x11888edd0>"
       ]
      },
      {
       "javascript": [
        "$('div#7b25b281-b694-42b3-a2d4-07405334e3c4').width('37%')"
       ],
       "metadata": {},
       "output_type": "display_data",
       "text": [
        "<IPython.core.display.Javascript at 0x11888edd0>"
       ]
      },
      {
       "javascript": [
        "$('div#7b25b281-b694-42b3-a2d4-07405334e3c4').width('37%')"
       ],
       "metadata": {},
       "output_type": "display_data",
       "text": [
        "<IPython.core.display.Javascript at 0x11888edd0>"
       ]
      },
      {
       "javascript": [
        "$('div#7b25b281-b694-42b3-a2d4-07405334e3c4').width('38%')"
       ],
       "metadata": {},
       "output_type": "display_data",
       "text": [
        "<IPython.core.display.Javascript at 0x11888edd0>"
       ]
      },
      {
       "javascript": [
        "$('div#7b25b281-b694-42b3-a2d4-07405334e3c4').width('38%')"
       ],
       "metadata": {},
       "output_type": "display_data",
       "text": [
        "<IPython.core.display.Javascript at 0x11888edd0>"
       ]
      },
      {
       "javascript": [
        "$('div#7b25b281-b694-42b3-a2d4-07405334e3c4').width('39%')"
       ],
       "metadata": {},
       "output_type": "display_data",
       "text": [
        "<IPython.core.display.Javascript at 0x11888edd0>"
       ]
      },
      {
       "javascript": [
        "$('div#7b25b281-b694-42b3-a2d4-07405334e3c4').width('39%')"
       ],
       "metadata": {},
       "output_type": "display_data",
       "text": [
        "<IPython.core.display.Javascript at 0x11888edd0>"
       ]
      },
      {
       "javascript": [
        "$('div#7b25b281-b694-42b3-a2d4-07405334e3c4').width('39%')"
       ],
       "metadata": {},
       "output_type": "display_data",
       "text": [
        "<IPython.core.display.Javascript at 0x11888edd0>"
       ]
      },
      {
       "javascript": [
        "$('div#7b25b281-b694-42b3-a2d4-07405334e3c4').width('40%')"
       ],
       "metadata": {},
       "output_type": "display_data",
       "text": [
        "<IPython.core.display.Javascript at 0x11888edd0>"
       ]
      },
      {
       "javascript": [
        "$('div#7b25b281-b694-42b3-a2d4-07405334e3c4').width('40%')"
       ],
       "metadata": {},
       "output_type": "display_data",
       "text": [
        "<IPython.core.display.Javascript at 0x11888edd0>"
       ]
      },
      {
       "javascript": [
        "$('div#7b25b281-b694-42b3-a2d4-07405334e3c4').width('41%')"
       ],
       "metadata": {},
       "output_type": "display_data",
       "text": [
        "<IPython.core.display.Javascript at 0x11888edd0>"
       ]
      },
      {
       "javascript": [
        "$('div#7b25b281-b694-42b3-a2d4-07405334e3c4').width('41%')"
       ],
       "metadata": {},
       "output_type": "display_data",
       "text": [
        "<IPython.core.display.Javascript at 0x11888edd0>"
       ]
      },
      {
       "javascript": [
        "$('div#7b25b281-b694-42b3-a2d4-07405334e3c4').width('41%')"
       ],
       "metadata": {},
       "output_type": "display_data",
       "text": [
        "<IPython.core.display.Javascript at 0x11888edd0>"
       ]
      },
      {
       "javascript": [
        "$('div#7b25b281-b694-42b3-a2d4-07405334e3c4').width('42%')"
       ],
       "metadata": {},
       "output_type": "display_data",
       "text": [
        "<IPython.core.display.Javascript at 0x11888edd0>"
       ]
      },
      {
       "javascript": [
        "$('div#7b25b281-b694-42b3-a2d4-07405334e3c4').width('42%')"
       ],
       "metadata": {},
       "output_type": "display_data",
       "text": [
        "<IPython.core.display.Javascript at 0x11888edd0>"
       ]
      },
      {
       "javascript": [
        "$('div#7b25b281-b694-42b3-a2d4-07405334e3c4').width('42%')"
       ],
       "metadata": {},
       "output_type": "display_data",
       "text": [
        "<IPython.core.display.Javascript at 0x11888edd0>"
       ]
      },
      {
       "javascript": [
        "$('div#7b25b281-b694-42b3-a2d4-07405334e3c4').width('43%')"
       ],
       "metadata": {},
       "output_type": "display_data",
       "text": [
        "<IPython.core.display.Javascript at 0x11888edd0>"
       ]
      },
      {
       "javascript": [
        "$('div#7b25b281-b694-42b3-a2d4-07405334e3c4').width('43%')"
       ],
       "metadata": {},
       "output_type": "display_data",
       "text": [
        "<IPython.core.display.Javascript at 0x11888edd0>"
       ]
      },
      {
       "javascript": [
        "$('div#7b25b281-b694-42b3-a2d4-07405334e3c4').width('44%')"
       ],
       "metadata": {},
       "output_type": "display_data",
       "text": [
        "<IPython.core.display.Javascript at 0x11888edd0>"
       ]
      },
      {
       "javascript": [
        "$('div#7b25b281-b694-42b3-a2d4-07405334e3c4').width('44%')"
       ],
       "metadata": {},
       "output_type": "display_data",
       "text": [
        "<IPython.core.display.Javascript at 0x11888edd0>"
       ]
      },
      {
       "javascript": [
        "$('div#7b25b281-b694-42b3-a2d4-07405334e3c4').width('44%')"
       ],
       "metadata": {},
       "output_type": "display_data",
       "text": [
        "<IPython.core.display.Javascript at 0x11888edd0>"
       ]
      },
      {
       "javascript": [
        "$('div#7b25b281-b694-42b3-a2d4-07405334e3c4').width('45%')"
       ],
       "metadata": {},
       "output_type": "display_data",
       "text": [
        "<IPython.core.display.Javascript at 0x11888edd0>"
       ]
      },
      {
       "javascript": [
        "$('div#7b25b281-b694-42b3-a2d4-07405334e3c4').width('45%')"
       ],
       "metadata": {},
       "output_type": "display_data",
       "text": [
        "<IPython.core.display.Javascript at 0x11888edd0>"
       ]
      },
      {
       "javascript": [
        "$('div#7b25b281-b694-42b3-a2d4-07405334e3c4').width('46%')"
       ],
       "metadata": {},
       "output_type": "display_data",
       "text": [
        "<IPython.core.display.Javascript at 0x11888edd0>"
       ]
      },
      {
       "javascript": [
        "$('div#7b25b281-b694-42b3-a2d4-07405334e3c4').width('46%')"
       ],
       "metadata": {},
       "output_type": "display_data",
       "text": [
        "<IPython.core.display.Javascript at 0x11888edd0>"
       ]
      },
      {
       "javascript": [
        "$('div#7b25b281-b694-42b3-a2d4-07405334e3c4').width('46%')"
       ],
       "metadata": {},
       "output_type": "display_data",
       "text": [
        "<IPython.core.display.Javascript at 0x11888edd0>"
       ]
      },
      {
       "javascript": [
        "$('div#7b25b281-b694-42b3-a2d4-07405334e3c4').width('47%')"
       ],
       "metadata": {},
       "output_type": "display_data",
       "text": [
        "<IPython.core.display.Javascript at 0x11888edd0>"
       ]
      },
      {
       "javascript": [
        "$('div#7b25b281-b694-42b3-a2d4-07405334e3c4').width('47%')"
       ],
       "metadata": {},
       "output_type": "display_data",
       "text": [
        "<IPython.core.display.Javascript at 0x11888edd0>"
       ]
      },
      {
       "javascript": [
        "$('div#7b25b281-b694-42b3-a2d4-07405334e3c4').width('48%')"
       ],
       "metadata": {},
       "output_type": "display_data",
       "text": [
        "<IPython.core.display.Javascript at 0x11888edd0>"
       ]
      },
      {
       "javascript": [
        "$('div#7b25b281-b694-42b3-a2d4-07405334e3c4').width('48%')"
       ],
       "metadata": {},
       "output_type": "display_data",
       "text": [
        "<IPython.core.display.Javascript at 0x11888edd0>"
       ]
      },
      {
       "javascript": [
        "$('div#7b25b281-b694-42b3-a2d4-07405334e3c4').width('48%')"
       ],
       "metadata": {},
       "output_type": "display_data",
       "text": [
        "<IPython.core.display.Javascript at 0x11888edd0>"
       ]
      },
      {
       "javascript": [
        "$('div#7b25b281-b694-42b3-a2d4-07405334e3c4').width('49%')"
       ],
       "metadata": {},
       "output_type": "display_data",
       "text": [
        "<IPython.core.display.Javascript at 0x11888edd0>"
       ]
      },
      {
       "javascript": [
        "$('div#7b25b281-b694-42b3-a2d4-07405334e3c4').width('49%')"
       ],
       "metadata": {},
       "output_type": "display_data",
       "text": [
        "<IPython.core.display.Javascript at 0x11888edd0>"
       ]
      },
      {
       "javascript": [
        "$('div#7b25b281-b694-42b3-a2d4-07405334e3c4').width('50%')"
       ],
       "metadata": {},
       "output_type": "display_data",
       "text": [
        "<IPython.core.display.Javascript at 0x11888edd0>"
       ]
      },
      {
       "javascript": [
        "$('div#7b25b281-b694-42b3-a2d4-07405334e3c4').width('50%')"
       ],
       "metadata": {},
       "output_type": "display_data",
       "text": [
        "<IPython.core.display.Javascript at 0x11888edd0>"
       ]
      },
      {
       "javascript": [
        "$('div#7b25b281-b694-42b3-a2d4-07405334e3c4').width('50%')"
       ],
       "metadata": {},
       "output_type": "display_data",
       "text": [
        "<IPython.core.display.Javascript at 0x11888edd0>"
       ]
      },
      {
       "javascript": [
        "$('div#7b25b281-b694-42b3-a2d4-07405334e3c4').width('51%')"
       ],
       "metadata": {},
       "output_type": "display_data",
       "text": [
        "<IPython.core.display.Javascript at 0x11888edd0>"
       ]
      },
      {
       "javascript": [
        "$('div#7b25b281-b694-42b3-a2d4-07405334e3c4').width('51%')"
       ],
       "metadata": {},
       "output_type": "display_data",
       "text": [
        "<IPython.core.display.Javascript at 0x11888edd0>"
       ]
      },
      {
       "javascript": [
        "$('div#7b25b281-b694-42b3-a2d4-07405334e3c4').width('51%')"
       ],
       "metadata": {},
       "output_type": "display_data",
       "text": [
        "<IPython.core.display.Javascript at 0x11888edd0>"
       ]
      },
      {
       "javascript": [
        "$('div#7b25b281-b694-42b3-a2d4-07405334e3c4').width('52%')"
       ],
       "metadata": {},
       "output_type": "display_data",
       "text": [
        "<IPython.core.display.Javascript at 0x11888edd0>"
       ]
      },
      {
       "javascript": [
        "$('div#7b25b281-b694-42b3-a2d4-07405334e3c4').width('52%')"
       ],
       "metadata": {},
       "output_type": "display_data",
       "text": [
        "<IPython.core.display.Javascript at 0x11888edd0>"
       ]
      },
      {
       "javascript": [
        "$('div#7b25b281-b694-42b3-a2d4-07405334e3c4').width('53%')"
       ],
       "metadata": {},
       "output_type": "display_data",
       "text": [
        "<IPython.core.display.Javascript at 0x11888edd0>"
       ]
      },
      {
       "javascript": [
        "$('div#7b25b281-b694-42b3-a2d4-07405334e3c4').width('53%')"
       ],
       "metadata": {},
       "output_type": "display_data",
       "text": [
        "<IPython.core.display.Javascript at 0x11888edd0>"
       ]
      },
      {
       "javascript": [
        "$('div#7b25b281-b694-42b3-a2d4-07405334e3c4').width('53%')"
       ],
       "metadata": {},
       "output_type": "display_data",
       "text": [
        "<IPython.core.display.Javascript at 0x11888edd0>"
       ]
      },
      {
       "javascript": [
        "$('div#7b25b281-b694-42b3-a2d4-07405334e3c4').width('54%')"
       ],
       "metadata": {},
       "output_type": "display_data",
       "text": [
        "<IPython.core.display.Javascript at 0x11888edd0>"
       ]
      },
      {
       "javascript": [
        "$('div#7b25b281-b694-42b3-a2d4-07405334e3c4').width('54%')"
       ],
       "metadata": {},
       "output_type": "display_data",
       "text": [
        "<IPython.core.display.Javascript at 0x11888edd0>"
       ]
      },
      {
       "javascript": [
        "$('div#7b25b281-b694-42b3-a2d4-07405334e3c4').width('55%')"
       ],
       "metadata": {},
       "output_type": "display_data",
       "text": [
        "<IPython.core.display.Javascript at 0x11888edd0>"
       ]
      },
      {
       "javascript": [
        "$('div#7b25b281-b694-42b3-a2d4-07405334e3c4').width('55%')"
       ],
       "metadata": {},
       "output_type": "display_data",
       "text": [
        "<IPython.core.display.Javascript at 0x11888edd0>"
       ]
      },
      {
       "javascript": [
        "$('div#7b25b281-b694-42b3-a2d4-07405334e3c4').width('55%')"
       ],
       "metadata": {},
       "output_type": "display_data",
       "text": [
        "<IPython.core.display.Javascript at 0x11888edd0>"
       ]
      },
      {
       "javascript": [
        "$('div#7b25b281-b694-42b3-a2d4-07405334e3c4').width('56%')"
       ],
       "metadata": {},
       "output_type": "display_data",
       "text": [
        "<IPython.core.display.Javascript at 0x11888edd0>"
       ]
      },
      {
       "javascript": [
        "$('div#7b25b281-b694-42b3-a2d4-07405334e3c4').width('56%')"
       ],
       "metadata": {},
       "output_type": "display_data",
       "text": [
        "<IPython.core.display.Javascript at 0x11888edd0>"
       ]
      },
      {
       "javascript": [
        "$('div#7b25b281-b694-42b3-a2d4-07405334e3c4').width('57%')"
       ],
       "metadata": {},
       "output_type": "display_data",
       "text": [
        "<IPython.core.display.Javascript at 0x11888edd0>"
       ]
      },
      {
       "javascript": [
        "$('div#7b25b281-b694-42b3-a2d4-07405334e3c4').width('57%')"
       ],
       "metadata": {},
       "output_type": "display_data",
       "text": [
        "<IPython.core.display.Javascript at 0x11888edd0>"
       ]
      },
      {
       "javascript": [
        "$('div#7b25b281-b694-42b3-a2d4-07405334e3c4').width('57%')"
       ],
       "metadata": {},
       "output_type": "display_data",
       "text": [
        "<IPython.core.display.Javascript at 0x11888edd0>"
       ]
      },
      {
       "javascript": [
        "$('div#7b25b281-b694-42b3-a2d4-07405334e3c4').width('58%')"
       ],
       "metadata": {},
       "output_type": "display_data",
       "text": [
        "<IPython.core.display.Javascript at 0x11888edd0>"
       ]
      },
      {
       "javascript": [
        "$('div#7b25b281-b694-42b3-a2d4-07405334e3c4').width('58%')"
       ],
       "metadata": {},
       "output_type": "display_data",
       "text": [
        "<IPython.core.display.Javascript at 0x11888edd0>"
       ]
      },
      {
       "javascript": [
        "$('div#7b25b281-b694-42b3-a2d4-07405334e3c4').width('58%')"
       ],
       "metadata": {},
       "output_type": "display_data",
       "text": [
        "<IPython.core.display.Javascript at 0x11888edd0>"
       ]
      },
      {
       "javascript": [
        "$('div#7b25b281-b694-42b3-a2d4-07405334e3c4').width('59%')"
       ],
       "metadata": {},
       "output_type": "display_data",
       "text": [
        "<IPython.core.display.Javascript at 0x11888edd0>"
       ]
      },
      {
       "javascript": [
        "$('div#7b25b281-b694-42b3-a2d4-07405334e3c4').width('59%')"
       ],
       "metadata": {},
       "output_type": "display_data",
       "text": [
        "<IPython.core.display.Javascript at 0x11888edd0>"
       ]
      },
      {
       "javascript": [
        "$('div#7b25b281-b694-42b3-a2d4-07405334e3c4').width('60%')"
       ],
       "metadata": {},
       "output_type": "display_data",
       "text": [
        "<IPython.core.display.Javascript at 0x11888edd0>"
       ]
      },
      {
       "javascript": [
        "$('div#7b25b281-b694-42b3-a2d4-07405334e3c4').width('60%')"
       ],
       "metadata": {},
       "output_type": "display_data",
       "text": [
        "<IPython.core.display.Javascript at 0x11888edd0>"
       ]
      },
      {
       "javascript": [
        "$('div#7b25b281-b694-42b3-a2d4-07405334e3c4').width('60%')"
       ],
       "metadata": {},
       "output_type": "display_data",
       "text": [
        "<IPython.core.display.Javascript at 0x11888edd0>"
       ]
      },
      {
       "javascript": [
        "$('div#7b25b281-b694-42b3-a2d4-07405334e3c4').width('61%')"
       ],
       "metadata": {},
       "output_type": "display_data",
       "text": [
        "<IPython.core.display.Javascript at 0x11888edd0>"
       ]
      },
      {
       "javascript": [
        "$('div#7b25b281-b694-42b3-a2d4-07405334e3c4').width('61%')"
       ],
       "metadata": {},
       "output_type": "display_data",
       "text": [
        "<IPython.core.display.Javascript at 0x11888edd0>"
       ]
      },
      {
       "javascript": [
        "$('div#7b25b281-b694-42b3-a2d4-07405334e3c4').width('62%')"
       ],
       "metadata": {},
       "output_type": "display_data",
       "text": [
        "<IPython.core.display.Javascript at 0x11888edd0>"
       ]
      },
      {
       "javascript": [
        "$('div#7b25b281-b694-42b3-a2d4-07405334e3c4').width('62%')"
       ],
       "metadata": {},
       "output_type": "display_data",
       "text": [
        "<IPython.core.display.Javascript at 0x11888edd0>"
       ]
      },
      {
       "javascript": [
        "$('div#7b25b281-b694-42b3-a2d4-07405334e3c4').width('62%')"
       ],
       "metadata": {},
       "output_type": "display_data",
       "text": [
        "<IPython.core.display.Javascript at 0x11888edd0>"
       ]
      },
      {
       "javascript": [
        "$('div#7b25b281-b694-42b3-a2d4-07405334e3c4').width('63%')"
       ],
       "metadata": {},
       "output_type": "display_data",
       "text": [
        "<IPython.core.display.Javascript at 0x11888edd0>"
       ]
      },
      {
       "javascript": [
        "$('div#7b25b281-b694-42b3-a2d4-07405334e3c4').width('63%')"
       ],
       "metadata": {},
       "output_type": "display_data",
       "text": [
        "<IPython.core.display.Javascript at 0x11888edd0>"
       ]
      },
      {
       "javascript": [
        "$('div#7b25b281-b694-42b3-a2d4-07405334e3c4').width('64%')"
       ],
       "metadata": {},
       "output_type": "display_data",
       "text": [
        "<IPython.core.display.Javascript at 0x11888edd0>"
       ]
      },
      {
       "javascript": [
        "$('div#7b25b281-b694-42b3-a2d4-07405334e3c4').width('64%')"
       ],
       "metadata": {},
       "output_type": "display_data",
       "text": [
        "<IPython.core.display.Javascript at 0x11888edd0>"
       ]
      },
      {
       "javascript": [
        "$('div#7b25b281-b694-42b3-a2d4-07405334e3c4').width('64%')"
       ],
       "metadata": {},
       "output_type": "display_data",
       "text": [
        "<IPython.core.display.Javascript at 0x11888edd0>"
       ]
      },
      {
       "javascript": [
        "$('div#7b25b281-b694-42b3-a2d4-07405334e3c4').width('65%')"
       ],
       "metadata": {},
       "output_type": "display_data",
       "text": [
        "<IPython.core.display.Javascript at 0x11888edd0>"
       ]
      },
      {
       "javascript": [
        "$('div#7b25b281-b694-42b3-a2d4-07405334e3c4').width('65%')"
       ],
       "metadata": {},
       "output_type": "display_data",
       "text": [
        "<IPython.core.display.Javascript at 0x11888edd0>"
       ]
      },
      {
       "javascript": [
        "$('div#7b25b281-b694-42b3-a2d4-07405334e3c4').width('66%')"
       ],
       "metadata": {},
       "output_type": "display_data",
       "text": [
        "<IPython.core.display.Javascript at 0x11888edd0>"
       ]
      },
      {
       "javascript": [
        "$('div#7b25b281-b694-42b3-a2d4-07405334e3c4').width('66%')"
       ],
       "metadata": {},
       "output_type": "display_data",
       "text": [
        "<IPython.core.display.Javascript at 0x11888edd0>"
       ]
      },
      {
       "javascript": [
        "$('div#7b25b281-b694-42b3-a2d4-07405334e3c4').width('66%')"
       ],
       "metadata": {},
       "output_type": "display_data",
       "text": [
        "<IPython.core.display.Javascript at 0x11888edd0>"
       ]
      },
      {
       "javascript": [
        "$('div#7b25b281-b694-42b3-a2d4-07405334e3c4').width('67%')"
       ],
       "metadata": {},
       "output_type": "display_data",
       "text": [
        "<IPython.core.display.Javascript at 0x11888edd0>"
       ]
      },
      {
       "javascript": [
        "$('div#7b25b281-b694-42b3-a2d4-07405334e3c4').width('67%')"
       ],
       "metadata": {},
       "output_type": "display_data",
       "text": [
        "<IPython.core.display.Javascript at 0x11888edd0>"
       ]
      },
      {
       "javascript": [
        "$('div#7b25b281-b694-42b3-a2d4-07405334e3c4').width('67%')"
       ],
       "metadata": {},
       "output_type": "display_data",
       "text": [
        "<IPython.core.display.Javascript at 0x11888edd0>"
       ]
      },
      {
       "javascript": [
        "$('div#7b25b281-b694-42b3-a2d4-07405334e3c4').width('68%')"
       ],
       "metadata": {},
       "output_type": "display_data",
       "text": [
        "<IPython.core.display.Javascript at 0x11888edd0>"
       ]
      },
      {
       "javascript": [
        "$('div#7b25b281-b694-42b3-a2d4-07405334e3c4').width('68%')"
       ],
       "metadata": {},
       "output_type": "display_data",
       "text": [
        "<IPython.core.display.Javascript at 0x11888edd0>"
       ]
      },
      {
       "javascript": [
        "$('div#7b25b281-b694-42b3-a2d4-07405334e3c4').width('69%')"
       ],
       "metadata": {},
       "output_type": "display_data",
       "text": [
        "<IPython.core.display.Javascript at 0x11888edd0>"
       ]
      },
      {
       "javascript": [
        "$('div#7b25b281-b694-42b3-a2d4-07405334e3c4').width('69%')"
       ],
       "metadata": {},
       "output_type": "display_data",
       "text": [
        "<IPython.core.display.Javascript at 0x11888edd0>"
       ]
      },
      {
       "javascript": [
        "$('div#7b25b281-b694-42b3-a2d4-07405334e3c4').width('69%')"
       ],
       "metadata": {},
       "output_type": "display_data",
       "text": [
        "<IPython.core.display.Javascript at 0x11888edd0>"
       ]
      },
      {
       "javascript": [
        "$('div#7b25b281-b694-42b3-a2d4-07405334e3c4').width('70%')"
       ],
       "metadata": {},
       "output_type": "display_data",
       "text": [
        "<IPython.core.display.Javascript at 0x11888edd0>"
       ]
      },
      {
       "javascript": [
        "$('div#7b25b281-b694-42b3-a2d4-07405334e3c4').width('70%')"
       ],
       "metadata": {},
       "output_type": "display_data",
       "text": [
        "<IPython.core.display.Javascript at 0x11888edd0>"
       ]
      },
      {
       "javascript": [
        "$('div#7b25b281-b694-42b3-a2d4-07405334e3c4').width('71%')"
       ],
       "metadata": {},
       "output_type": "display_data",
       "text": [
        "<IPython.core.display.Javascript at 0x11888edd0>"
       ]
      },
      {
       "javascript": [
        "$('div#7b25b281-b694-42b3-a2d4-07405334e3c4').width('71%')"
       ],
       "metadata": {},
       "output_type": "display_data",
       "text": [
        "<IPython.core.display.Javascript at 0x11888edd0>"
       ]
      },
      {
       "javascript": [
        "$('div#7b25b281-b694-42b3-a2d4-07405334e3c4').width('71%')"
       ],
       "metadata": {},
       "output_type": "display_data",
       "text": [
        "<IPython.core.display.Javascript at 0x11888edd0>"
       ]
      },
      {
       "javascript": [
        "$('div#7b25b281-b694-42b3-a2d4-07405334e3c4').width('72%')"
       ],
       "metadata": {},
       "output_type": "display_data",
       "text": [
        "<IPython.core.display.Javascript at 0x11888edd0>"
       ]
      },
      {
       "javascript": [
        "$('div#7b25b281-b694-42b3-a2d4-07405334e3c4').width('72%')"
       ],
       "metadata": {},
       "output_type": "display_data",
       "text": [
        "<IPython.core.display.Javascript at 0x11888edd0>"
       ]
      },
      {
       "javascript": [
        "$('div#7b25b281-b694-42b3-a2d4-07405334e3c4').width('73%')"
       ],
       "metadata": {},
       "output_type": "display_data",
       "text": [
        "<IPython.core.display.Javascript at 0x11888edd0>"
       ]
      },
      {
       "javascript": [
        "$('div#7b25b281-b694-42b3-a2d4-07405334e3c4').width('73%')"
       ],
       "metadata": {},
       "output_type": "display_data",
       "text": [
        "<IPython.core.display.Javascript at 0x11888edd0>"
       ]
      },
      {
       "javascript": [
        "$('div#7b25b281-b694-42b3-a2d4-07405334e3c4').width('73%')"
       ],
       "metadata": {},
       "output_type": "display_data",
       "text": [
        "<IPython.core.display.Javascript at 0x11888edd0>"
       ]
      },
      {
       "javascript": [
        "$('div#7b25b281-b694-42b3-a2d4-07405334e3c4').width('74%')"
       ],
       "metadata": {},
       "output_type": "display_data",
       "text": [
        "<IPython.core.display.Javascript at 0x11888edd0>"
       ]
      },
      {
       "javascript": [
        "$('div#7b25b281-b694-42b3-a2d4-07405334e3c4').width('74%')"
       ],
       "metadata": {},
       "output_type": "display_data",
       "text": [
        "<IPython.core.display.Javascript at 0x11888edd0>"
       ]
      },
      {
       "javascript": [
        "$('div#7b25b281-b694-42b3-a2d4-07405334e3c4').width('75%')"
       ],
       "metadata": {},
       "output_type": "display_data",
       "text": [
        "<IPython.core.display.Javascript at 0x11888edd0>"
       ]
      },
      {
       "javascript": [
        "$('div#7b25b281-b694-42b3-a2d4-07405334e3c4').width('75%')"
       ],
       "metadata": {},
       "output_type": "display_data",
       "text": [
        "<IPython.core.display.Javascript at 0x11888edd0>"
       ]
      },
      {
       "javascript": [
        "$('div#7b25b281-b694-42b3-a2d4-07405334e3c4').width('75%')"
       ],
       "metadata": {},
       "output_type": "display_data",
       "text": [
        "<IPython.core.display.Javascript at 0x11888edd0>"
       ]
      },
      {
       "javascript": [
        "$('div#7b25b281-b694-42b3-a2d4-07405334e3c4').width('76%')"
       ],
       "metadata": {},
       "output_type": "display_data",
       "text": [
        "<IPython.core.display.Javascript at 0x11888edd0>"
       ]
      },
      {
       "javascript": [
        "$('div#7b25b281-b694-42b3-a2d4-07405334e3c4').width('76%')"
       ],
       "metadata": {},
       "output_type": "display_data",
       "text": [
        "<IPython.core.display.Javascript at 0x11888edd0>"
       ]
      },
      {
       "javascript": [
        "$('div#7b25b281-b694-42b3-a2d4-07405334e3c4').width('76%')"
       ],
       "metadata": {},
       "output_type": "display_data",
       "text": [
        "<IPython.core.display.Javascript at 0x11888edd0>"
       ]
      },
      {
       "javascript": [
        "$('div#7b25b281-b694-42b3-a2d4-07405334e3c4').width('77%')"
       ],
       "metadata": {},
       "output_type": "display_data",
       "text": [
        "<IPython.core.display.Javascript at 0x11888edd0>"
       ]
      },
      {
       "javascript": [
        "$('div#7b25b281-b694-42b3-a2d4-07405334e3c4').width('77%')"
       ],
       "metadata": {},
       "output_type": "display_data",
       "text": [
        "<IPython.core.display.Javascript at 0x11888edd0>"
       ]
      },
      {
       "javascript": [
        "$('div#7b25b281-b694-42b3-a2d4-07405334e3c4').width('78%')"
       ],
       "metadata": {},
       "output_type": "display_data",
       "text": [
        "<IPython.core.display.Javascript at 0x11888edd0>"
       ]
      },
      {
       "javascript": [
        "$('div#7b25b281-b694-42b3-a2d4-07405334e3c4').width('78%')"
       ],
       "metadata": {},
       "output_type": "display_data",
       "text": [
        "<IPython.core.display.Javascript at 0x11888edd0>"
       ]
      },
      {
       "javascript": [
        "$('div#7b25b281-b694-42b3-a2d4-07405334e3c4').width('78%')"
       ],
       "metadata": {},
       "output_type": "display_data",
       "text": [
        "<IPython.core.display.Javascript at 0x11888edd0>"
       ]
      },
      {
       "javascript": [
        "$('div#7b25b281-b694-42b3-a2d4-07405334e3c4').width('79%')"
       ],
       "metadata": {},
       "output_type": "display_data",
       "text": [
        "<IPython.core.display.Javascript at 0x11888edd0>"
       ]
      },
      {
       "javascript": [
        "$('div#7b25b281-b694-42b3-a2d4-07405334e3c4').width('79%')"
       ],
       "metadata": {},
       "output_type": "display_data",
       "text": [
        "<IPython.core.display.Javascript at 0x11888edd0>"
       ]
      },
      {
       "javascript": [
        "$('div#7b25b281-b694-42b3-a2d4-07405334e3c4').width('80%')"
       ],
       "metadata": {},
       "output_type": "display_data",
       "text": [
        "<IPython.core.display.Javascript at 0x11888edd0>"
       ]
      },
      {
       "javascript": [
        "$('div#7b25b281-b694-42b3-a2d4-07405334e3c4').width('80%')"
       ],
       "metadata": {},
       "output_type": "display_data",
       "text": [
        "<IPython.core.display.Javascript at 0x11888edd0>"
       ]
      },
      {
       "javascript": [
        "$('div#7b25b281-b694-42b3-a2d4-07405334e3c4').width('80%')"
       ],
       "metadata": {},
       "output_type": "display_data",
       "text": [
        "<IPython.core.display.Javascript at 0x11888edd0>"
       ]
      },
      {
       "javascript": [
        "$('div#7b25b281-b694-42b3-a2d4-07405334e3c4').width('81%')"
       ],
       "metadata": {},
       "output_type": "display_data",
       "text": [
        "<IPython.core.display.Javascript at 0x11888edd0>"
       ]
      },
      {
       "javascript": [
        "$('div#7b25b281-b694-42b3-a2d4-07405334e3c4').width('81%')"
       ],
       "metadata": {},
       "output_type": "display_data",
       "text": [
        "<IPython.core.display.Javascript at 0x11888edd0>"
       ]
      },
      {
       "javascript": [
        "$('div#7b25b281-b694-42b3-a2d4-07405334e3c4').width('82%')"
       ],
       "metadata": {},
       "output_type": "display_data",
       "text": [
        "<IPython.core.display.Javascript at 0x11888edd0>"
       ]
      },
      {
       "javascript": [
        "$('div#7b25b281-b694-42b3-a2d4-07405334e3c4').width('82%')"
       ],
       "metadata": {},
       "output_type": "display_data",
       "text": [
        "<IPython.core.display.Javascript at 0x11888edd0>"
       ]
      },
      {
       "javascript": [
        "$('div#7b25b281-b694-42b3-a2d4-07405334e3c4').width('82%')"
       ],
       "metadata": {},
       "output_type": "display_data",
       "text": [
        "<IPython.core.display.Javascript at 0x11888edd0>"
       ]
      },
      {
       "javascript": [
        "$('div#7b25b281-b694-42b3-a2d4-07405334e3c4').width('83%')"
       ],
       "metadata": {},
       "output_type": "display_data",
       "text": [
        "<IPython.core.display.Javascript at 0x11888edd0>"
       ]
      },
      {
       "javascript": [
        "$('div#7b25b281-b694-42b3-a2d4-07405334e3c4').width('83%')"
       ],
       "metadata": {},
       "output_type": "display_data",
       "text": [
        "<IPython.core.display.Javascript at 0x11888edd0>"
       ]
      },
      {
       "javascript": [
        "$('div#7b25b281-b694-42b3-a2d4-07405334e3c4').width('83%')"
       ],
       "metadata": {},
       "output_type": "display_data",
       "text": [
        "<IPython.core.display.Javascript at 0x11888edd0>"
       ]
      },
      {
       "javascript": [
        "$('div#7b25b281-b694-42b3-a2d4-07405334e3c4').width('84%')"
       ],
       "metadata": {},
       "output_type": "display_data",
       "text": [
        "<IPython.core.display.Javascript at 0x11888edd0>"
       ]
      },
      {
       "javascript": [
        "$('div#7b25b281-b694-42b3-a2d4-07405334e3c4').width('84%')"
       ],
       "metadata": {},
       "output_type": "display_data",
       "text": [
        "<IPython.core.display.Javascript at 0x11888edd0>"
       ]
      },
      {
       "javascript": [
        "$('div#7b25b281-b694-42b3-a2d4-07405334e3c4').width('85%')"
       ],
       "metadata": {},
       "output_type": "display_data",
       "text": [
        "<IPython.core.display.Javascript at 0x11888edd0>"
       ]
      },
      {
       "javascript": [
        "$('div#7b25b281-b694-42b3-a2d4-07405334e3c4').width('85%')"
       ],
       "metadata": {},
       "output_type": "display_data",
       "text": [
        "<IPython.core.display.Javascript at 0x11888edd0>"
       ]
      },
      {
       "javascript": [
        "$('div#7b25b281-b694-42b3-a2d4-07405334e3c4').width('85%')"
       ],
       "metadata": {},
       "output_type": "display_data",
       "text": [
        "<IPython.core.display.Javascript at 0x11888edd0>"
       ]
      },
      {
       "javascript": [
        "$('div#7b25b281-b694-42b3-a2d4-07405334e3c4').width('86%')"
       ],
       "metadata": {},
       "output_type": "display_data",
       "text": [
        "<IPython.core.display.Javascript at 0x11888edd0>"
       ]
      },
      {
       "javascript": [
        "$('div#7b25b281-b694-42b3-a2d4-07405334e3c4').width('86%')"
       ],
       "metadata": {},
       "output_type": "display_data",
       "text": [
        "<IPython.core.display.Javascript at 0x11888edd0>"
       ]
      },
      {
       "javascript": [
        "$('div#7b25b281-b694-42b3-a2d4-07405334e3c4').width('87%')"
       ],
       "metadata": {},
       "output_type": "display_data",
       "text": [
        "<IPython.core.display.Javascript at 0x11888edd0>"
       ]
      },
      {
       "javascript": [
        "$('div#7b25b281-b694-42b3-a2d4-07405334e3c4').width('87%')"
       ],
       "metadata": {},
       "output_type": "display_data",
       "text": [
        "<IPython.core.display.Javascript at 0x11888edd0>"
       ]
      },
      {
       "javascript": [
        "$('div#7b25b281-b694-42b3-a2d4-07405334e3c4').width('87%')"
       ],
       "metadata": {},
       "output_type": "display_data",
       "text": [
        "<IPython.core.display.Javascript at 0x11888edd0>"
       ]
      },
      {
       "javascript": [
        "$('div#7b25b281-b694-42b3-a2d4-07405334e3c4').width('88%')"
       ],
       "metadata": {},
       "output_type": "display_data",
       "text": [
        "<IPython.core.display.Javascript at 0x11888edd0>"
       ]
      },
      {
       "javascript": [
        "$('div#7b25b281-b694-42b3-a2d4-07405334e3c4').width('88%')"
       ],
       "metadata": {},
       "output_type": "display_data",
       "text": [
        "<IPython.core.display.Javascript at 0x11888edd0>"
       ]
      },
      {
       "javascript": [
        "$('div#7b25b281-b694-42b3-a2d4-07405334e3c4').width('89%')"
       ],
       "metadata": {},
       "output_type": "display_data",
       "text": [
        "<IPython.core.display.Javascript at 0x11888edd0>"
       ]
      },
      {
       "javascript": [
        "$('div#7b25b281-b694-42b3-a2d4-07405334e3c4').width('89%')"
       ],
       "metadata": {},
       "output_type": "display_data",
       "text": [
        "<IPython.core.display.Javascript at 0x11888edd0>"
       ]
      },
      {
       "javascript": [
        "$('div#7b25b281-b694-42b3-a2d4-07405334e3c4').width('89%')"
       ],
       "metadata": {},
       "output_type": "display_data",
       "text": [
        "<IPython.core.display.Javascript at 0x11888edd0>"
       ]
      },
      {
       "javascript": [
        "$('div#7b25b281-b694-42b3-a2d4-07405334e3c4').width('90%')"
       ],
       "metadata": {},
       "output_type": "display_data",
       "text": [
        "<IPython.core.display.Javascript at 0x11888edd0>"
       ]
      },
      {
       "javascript": [
        "$('div#7b25b281-b694-42b3-a2d4-07405334e3c4').width('90%')"
       ],
       "metadata": {},
       "output_type": "display_data",
       "text": [
        "<IPython.core.display.Javascript at 0x11888edd0>"
       ]
      },
      {
       "javascript": [
        "$('div#7b25b281-b694-42b3-a2d4-07405334e3c4').width('91%')"
       ],
       "metadata": {},
       "output_type": "display_data",
       "text": [
        "<IPython.core.display.Javascript at 0x11888edd0>"
       ]
      },
      {
       "javascript": [
        "$('div#7b25b281-b694-42b3-a2d4-07405334e3c4').width('91%')"
       ],
       "metadata": {},
       "output_type": "display_data",
       "text": [
        "<IPython.core.display.Javascript at 0x11888edd0>"
       ]
      },
      {
       "javascript": [
        "$('div#7b25b281-b694-42b3-a2d4-07405334e3c4').width('91%')"
       ],
       "metadata": {},
       "output_type": "display_data",
       "text": [
        "<IPython.core.display.Javascript at 0x11888edd0>"
       ]
      },
      {
       "javascript": [
        "$('div#7b25b281-b694-42b3-a2d4-07405334e3c4').width('92%')"
       ],
       "metadata": {},
       "output_type": "display_data",
       "text": [
        "<IPython.core.display.Javascript at 0x11888edd0>"
       ]
      },
      {
       "javascript": [
        "$('div#7b25b281-b694-42b3-a2d4-07405334e3c4').width('92%')"
       ],
       "metadata": {},
       "output_type": "display_data",
       "text": [
        "<IPython.core.display.Javascript at 0x11888edd0>"
       ]
      },
      {
       "javascript": [
        "$('div#7b25b281-b694-42b3-a2d4-07405334e3c4').width('92%')"
       ],
       "metadata": {},
       "output_type": "display_data",
       "text": [
        "<IPython.core.display.Javascript at 0x11888edd0>"
       ]
      },
      {
       "javascript": [
        "$('div#7b25b281-b694-42b3-a2d4-07405334e3c4').width('93%')"
       ],
       "metadata": {},
       "output_type": "display_data",
       "text": [
        "<IPython.core.display.Javascript at 0x11888edd0>"
       ]
      },
      {
       "javascript": [
        "$('div#7b25b281-b694-42b3-a2d4-07405334e3c4').width('93%')"
       ],
       "metadata": {},
       "output_type": "display_data",
       "text": [
        "<IPython.core.display.Javascript at 0x11888edd0>"
       ]
      },
      {
       "javascript": [
        "$('div#7b25b281-b694-42b3-a2d4-07405334e3c4').width('94%')"
       ],
       "metadata": {},
       "output_type": "display_data",
       "text": [
        "<IPython.core.display.Javascript at 0x11888edd0>"
       ]
      },
      {
       "javascript": [
        "$('div#7b25b281-b694-42b3-a2d4-07405334e3c4').width('94%')"
       ],
       "metadata": {},
       "output_type": "display_data",
       "text": [
        "<IPython.core.display.Javascript at 0x11888edd0>"
       ]
      },
      {
       "javascript": [
        "$('div#7b25b281-b694-42b3-a2d4-07405334e3c4').width('94%')"
       ],
       "metadata": {},
       "output_type": "display_data",
       "text": [
        "<IPython.core.display.Javascript at 0x11888edd0>"
       ]
      },
      {
       "javascript": [
        "$('div#7b25b281-b694-42b3-a2d4-07405334e3c4').width('95%')"
       ],
       "metadata": {},
       "output_type": "display_data",
       "text": [
        "<IPython.core.display.Javascript at 0x11888edd0>"
       ]
      },
      {
       "javascript": [
        "$('div#7b25b281-b694-42b3-a2d4-07405334e3c4').width('95%')"
       ],
       "metadata": {},
       "output_type": "display_data",
       "text": [
        "<IPython.core.display.Javascript at 0x11888edd0>"
       ]
      },
      {
       "javascript": [
        "$('div#7b25b281-b694-42b3-a2d4-07405334e3c4').width('96%')"
       ],
       "metadata": {},
       "output_type": "display_data",
       "text": [
        "<IPython.core.display.Javascript at 0x11888edd0>"
       ]
      },
      {
       "javascript": [
        "$('div#7b25b281-b694-42b3-a2d4-07405334e3c4').width('96%')"
       ],
       "metadata": {},
       "output_type": "display_data",
       "text": [
        "<IPython.core.display.Javascript at 0x11888edd0>"
       ]
      },
      {
       "javascript": [
        "$('div#7b25b281-b694-42b3-a2d4-07405334e3c4').width('96%')"
       ],
       "metadata": {},
       "output_type": "display_data",
       "text": [
        "<IPython.core.display.Javascript at 0x11888edd0>"
       ]
      },
      {
       "javascript": [
        "$('div#7b25b281-b694-42b3-a2d4-07405334e3c4').width('97%')"
       ],
       "metadata": {},
       "output_type": "display_data",
       "text": [
        "<IPython.core.display.Javascript at 0x11888edd0>"
       ]
      },
      {
       "javascript": [
        "$('div#7b25b281-b694-42b3-a2d4-07405334e3c4').width('97%')"
       ],
       "metadata": {},
       "output_type": "display_data",
       "text": [
        "<IPython.core.display.Javascript at 0x11888edd0>"
       ]
      },
      {
       "javascript": [
        "$('div#7b25b281-b694-42b3-a2d4-07405334e3c4').width('98%')"
       ],
       "metadata": {},
       "output_type": "display_data",
       "text": [
        "<IPython.core.display.Javascript at 0x11888edd0>"
       ]
      },
      {
       "javascript": [
        "$('div#7b25b281-b694-42b3-a2d4-07405334e3c4').width('98%')"
       ],
       "metadata": {},
       "output_type": "display_data",
       "text": [
        "<IPython.core.display.Javascript at 0x11888edd0>"
       ]
      },
      {
       "javascript": [
        "$('div#7b25b281-b694-42b3-a2d4-07405334e3c4').width('98%')"
       ],
       "metadata": {},
       "output_type": "display_data",
       "text": [
        "<IPython.core.display.Javascript at 0x11888edd0>"
       ]
      },
      {
       "javascript": [
        "$('div#7b25b281-b694-42b3-a2d4-07405334e3c4').width('99%')"
       ],
       "metadata": {},
       "output_type": "display_data",
       "text": [
        "<IPython.core.display.Javascript at 0x11888edd0>"
       ]
      },
      {
       "javascript": [
        "$('div#7b25b281-b694-42b3-a2d4-07405334e3c4').width('99%')"
       ],
       "metadata": {},
       "output_type": "display_data",
       "text": [
        "<IPython.core.display.Javascript at 0x11888edd0>"
       ]
      },
      {
       "javascript": [
        "$('div#7b25b281-b694-42b3-a2d4-07405334e3c4').width('100%')"
       ],
       "metadata": {},
       "output_type": "display_data",
       "text": [
        "<IPython.core.display.Javascript at 0x11888ee10>"
       ]
      },
      {
       "html": [
        "<iframe src=http://127.0.0.1:8001/5438060 width=100%% height=420 frameborder=0></iframe>"
       ],
       "metadata": {},
       "output_type": "pyout",
       "prompt_number": 4,
       "text": [
        "<DisplayNode.DisplayNodeProxy.DisplayNode instance at 0x118864f38>"
       ]
      }
     ],
     "prompt_number": 4
    },
    {
     "cell_type": "code",
     "collapsed": false,
     "input": [],
     "language": "python",
     "metadata": {},
     "outputs": []
    }
   ],
   "metadata": {}
  }
 ]
}