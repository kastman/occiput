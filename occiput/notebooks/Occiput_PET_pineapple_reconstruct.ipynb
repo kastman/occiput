{
 "metadata": {
  "name": ""
 },
 "nbformat": 3,
 "nbformat_minor": 0,
 "worksheets": [
  {
   "cells": [
    {
     "cell_type": "code",
     "collapsed": false,
     "input": [
      "import occiput\n",
      "occiput.initialise()\n",
      "import numpy\n",
      "import time"
     ],
     "language": "python",
     "metadata": {},
     "outputs": [
      {
       "html": [
        "\n",
        "        <style>\n",
        "        div.nav.brand.pull-left {\n",
        "        width:  300px; \n",
        "        height: 35px; \n",
        "        background-repeat: no-repeat;\n",
        "\t    background-image: url(data:image/png;base64,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);\n",
        "\t    text-indent: -999px;\n",
        "    }\n",
        "    </style>"
       ],
       "metadata": {},
       "output_type": "display_data",
       "text": [
        "<IPython.core.display.HTML at 0x10e5970d0>"
       ]
      },
      {
       "html": [
        "\n",
        "        <style>\n",
        "        div.nav.brand.pull-left {\n",
        "        width:  300px; \n",
        "        height: 35px; \n",
        "        background-repeat: no-repeat;\n",
        "\t    background-image: url(data:image/png;base64,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);\n",
        "\t    text-indent: -999px;\n",
        "    }\n",
        "    </style>"
       ],
       "metadata": {},
       "output_type": "display_data",
       "text": [
        "<IPython.core.display.HTML at 0x10487a350>"
       ]
      }
     ],
     "prompt_number": 1
    },
    {
     "cell_type": "code",
     "collapsed": false,
     "input": [
      "# Dynamic PET acquisition: \n",
      "SCAN = occiput.Reconstruction.PET.PET_Dynamic_Scan();\n",
      "\n",
      "# Load list-mode data: \n",
      "filename    = '/Users/spedemon/Desktop/mMR_data/2013_12_12_pineapple/listmode/PET_ACQ_78_20131212120347-0.l.hdr'\n",
      "N_time_bins = 50\n",
      "SCAN.load_listmode_file(filename,N_time_bins);"
     ],
     "language": "python",
     "metadata": {},
     "outputs": [
      {
       "html": [
        "\n",
        "        <div style=\"border: 1px solid white; width:100%%; height:6px; background-color:rgb(200,228,246)\">\n",
        "            <div id=\"64838562-7708-4dac-9638-0709808422a1\" style=\"background-color:rgb(47,128,246); width:0%; height:6px\"> </div>\n",
        "        </div> \n",
        "        "
       ],
       "metadata": {},
       "output_type": "display_data",
       "text": [
        "<IPython.core.display.HTML at 0x10e5974d0>"
       ]
      },
      {
       "javascript": [
        "$('div#64838562-7708-4dac-9638-0709808422a1').width('1%')"
       ],
       "metadata": {},
       "output_type": "display_data",
       "text": [
        "<IPython.core.display.Javascript at 0x10e59c1d0>"
       ]
      },
      {
       "javascript": [
        "$('div#64838562-7708-4dac-9638-0709808422a1').width('2%')"
       ],
       "metadata": {},
       "output_type": "display_data",
       "text": [
        "<IPython.core.display.Javascript at 0x10e59c1d0>"
       ]
      },
      {
       "javascript": [
        "$('div#64838562-7708-4dac-9638-0709808422a1').width('3%')"
       ],
       "metadata": {},
       "output_type": "display_data",
       "text": [
        "<IPython.core.display.Javascript at 0x10e59c1d0>"
       ]
      },
      {
       "javascript": [
        "$('div#64838562-7708-4dac-9638-0709808422a1').width('4%')"
       ],
       "metadata": {},
       "output_type": "display_data",
       "text": [
        "<IPython.core.display.Javascript at 0x10e59c1d0>"
       ]
      },
      {
       "javascript": [
        "$('div#64838562-7708-4dac-9638-0709808422a1').width('5%')"
       ],
       "metadata": {},
       "output_type": "display_data",
       "text": [
        "<IPython.core.display.Javascript at 0x10e59c1d0>"
       ]
      },
      {
       "javascript": [
        "$('div#64838562-7708-4dac-9638-0709808422a1').width('6%')"
       ],
       "metadata": {},
       "output_type": "display_data",
       "text": [
        "<IPython.core.display.Javascript at 0x10e59c1d0>"
       ]
      },
      {
       "javascript": [
        "$('div#64838562-7708-4dac-9638-0709808422a1').width('7%')"
       ],
       "metadata": {},
       "output_type": "display_data",
       "text": [
        "<IPython.core.display.Javascript at 0x10e59c1d0>"
       ]
      },
      {
       "javascript": [
        "$('div#64838562-7708-4dac-9638-0709808422a1').width('8%')"
       ],
       "metadata": {},
       "output_type": "display_data",
       "text": [
        "<IPython.core.display.Javascript at 0x10e59c1d0>"
       ]
      },
      {
       "javascript": [
        "$('div#64838562-7708-4dac-9638-0709808422a1').width('9%')"
       ],
       "metadata": {},
       "output_type": "display_data",
       "text": [
        "<IPython.core.display.Javascript at 0x10e59c1d0>"
       ]
      },
      {
       "javascript": [
        "$('div#64838562-7708-4dac-9638-0709808422a1').width('10%')"
       ],
       "metadata": {},
       "output_type": "display_data",
       "text": [
        "<IPython.core.display.Javascript at 0x10e59c1d0>"
       ]
      },
      {
       "javascript": [
        "$('div#64838562-7708-4dac-9638-0709808422a1').width('11%')"
       ],
       "metadata": {},
       "output_type": "display_data",
       "text": [
        "<IPython.core.display.Javascript at 0x10e59c1d0>"
       ]
      },
      {
       "javascript": [
        "$('div#64838562-7708-4dac-9638-0709808422a1').width('12%')"
       ],
       "metadata": {},
       "output_type": "display_data",
       "text": [
        "<IPython.core.display.Javascript at 0x10e59c1d0>"
       ]
      },
      {
       "javascript": [
        "$('div#64838562-7708-4dac-9638-0709808422a1').width('13%')"
       ],
       "metadata": {},
       "output_type": "display_data",
       "text": [
        "<IPython.core.display.Javascript at 0x10e59c1d0>"
       ]
      },
      {
       "javascript": [
        "$('div#64838562-7708-4dac-9638-0709808422a1').width('14%')"
       ],
       "metadata": {},
       "output_type": "display_data",
       "text": [
        "<IPython.core.display.Javascript at 0x10e59c1d0>"
       ]
      },
      {
       "javascript": [
        "$('div#64838562-7708-4dac-9638-0709808422a1').width('15%')"
       ],
       "metadata": {},
       "output_type": "display_data",
       "text": [
        "<IPython.core.display.Javascript at 0x10e59c1d0>"
       ]
      },
      {
       "javascript": [
        "$('div#64838562-7708-4dac-9638-0709808422a1').width('16%')"
       ],
       "metadata": {},
       "output_type": "display_data",
       "text": [
        "<IPython.core.display.Javascript at 0x10e59c1d0>"
       ]
      },
      {
       "javascript": [
        "$('div#64838562-7708-4dac-9638-0709808422a1').width('17%')"
       ],
       "metadata": {},
       "output_type": "display_data",
       "text": [
        "<IPython.core.display.Javascript at 0x10e59c1d0>"
       ]
      },
      {
       "javascript": [
        "$('div#64838562-7708-4dac-9638-0709808422a1').width('18%')"
       ],
       "metadata": {},
       "output_type": "display_data",
       "text": [
        "<IPython.core.display.Javascript at 0x10e59c1d0>"
       ]
      },
      {
       "javascript": [
        "$('div#64838562-7708-4dac-9638-0709808422a1').width('19%')"
       ],
       "metadata": {},
       "output_type": "display_data",
       "text": [
        "<IPython.core.display.Javascript at 0x10e59c1d0>"
       ]
      },
      {
       "javascript": [
        "$('div#64838562-7708-4dac-9638-0709808422a1').width('20%')"
       ],
       "metadata": {},
       "output_type": "display_data",
       "text": [
        "<IPython.core.display.Javascript at 0x10e59c1d0>"
       ]
      },
      {
       "javascript": [
        "$('div#64838562-7708-4dac-9638-0709808422a1').width('21%')"
       ],
       "metadata": {},
       "output_type": "display_data",
       "text": [
        "<IPython.core.display.Javascript at 0x10e59c1d0>"
       ]
      },
      {
       "javascript": [
        "$('div#64838562-7708-4dac-9638-0709808422a1').width('22%')"
       ],
       "metadata": {},
       "output_type": "display_data",
       "text": [
        "<IPython.core.display.Javascript at 0x10e59c1d0>"
       ]
      },
      {
       "javascript": [
        "$('div#64838562-7708-4dac-9638-0709808422a1').width('23%')"
       ],
       "metadata": {},
       "output_type": "display_data",
       "text": [
        "<IPython.core.display.Javascript at 0x10e59c1d0>"
       ]
      },
      {
       "javascript": [
        "$('div#64838562-7708-4dac-9638-0709808422a1').width('24%')"
       ],
       "metadata": {},
       "output_type": "display_data",
       "text": [
        "<IPython.core.display.Javascript at 0x10e59c1d0>"
       ]
      },
      {
       "javascript": [
        "$('div#64838562-7708-4dac-9638-0709808422a1').width('25%')"
       ],
       "metadata": {},
       "output_type": "display_data",
       "text": [
        "<IPython.core.display.Javascript at 0x10e59c1d0>"
       ]
      },
      {
       "javascript": [
        "$('div#64838562-7708-4dac-9638-0709808422a1').width('26%')"
       ],
       "metadata": {},
       "output_type": "display_data",
       "text": [
        "<IPython.core.display.Javascript at 0x10e59c1d0>"
       ]
      },
      {
       "javascript": [
        "$('div#64838562-7708-4dac-9638-0709808422a1').width('27%')"
       ],
       "metadata": {},
       "output_type": "display_data",
       "text": [
        "<IPython.core.display.Javascript at 0x10e59c1d0>"
       ]
      },
      {
       "javascript": [
        "$('div#64838562-7708-4dac-9638-0709808422a1').width('28%')"
       ],
       "metadata": {},
       "output_type": "display_data",
       "text": [
        "<IPython.core.display.Javascript at 0x10e59c1d0>"
       ]
      },
      {
       "javascript": [
        "$('div#64838562-7708-4dac-9638-0709808422a1').width('29%')"
       ],
       "metadata": {},
       "output_type": "display_data",
       "text": [
        "<IPython.core.display.Javascript at 0x10e59c1d0>"
       ]
      },
      {
       "javascript": [
        "$('div#64838562-7708-4dac-9638-0709808422a1').width('30%')"
       ],
       "metadata": {},
       "output_type": "display_data",
       "text": [
        "<IPython.core.display.Javascript at 0x10e59c1d0>"
       ]
      },
      {
       "javascript": [
        "$('div#64838562-7708-4dac-9638-0709808422a1').width('31%')"
       ],
       "metadata": {},
       "output_type": "display_data",
       "text": [
        "<IPython.core.display.Javascript at 0x10e59c1d0>"
       ]
      },
      {
       "javascript": [
        "$('div#64838562-7708-4dac-9638-0709808422a1').width('32%')"
       ],
       "metadata": {},
       "output_type": "display_data",
       "text": [
        "<IPython.core.display.Javascript at 0x10e59c1d0>"
       ]
      },
      {
       "javascript": [
        "$('div#64838562-7708-4dac-9638-0709808422a1').width('33%')"
       ],
       "metadata": {},
       "output_type": "display_data",
       "text": [
        "<IPython.core.display.Javascript at 0x10e59c1d0>"
       ]
      },
      {
       "javascript": [
        "$('div#64838562-7708-4dac-9638-0709808422a1').width('34%')"
       ],
       "metadata": {},
       "output_type": "display_data",
       "text": [
        "<IPython.core.display.Javascript at 0x10e59c1d0>"
       ]
      },
      {
       "javascript": [
        "$('div#64838562-7708-4dac-9638-0709808422a1').width('35%')"
       ],
       "metadata": {},
       "output_type": "display_data",
       "text": [
        "<IPython.core.display.Javascript at 0x10e59c1d0>"
       ]
      },
      {
       "javascript": [
        "$('div#64838562-7708-4dac-9638-0709808422a1').width('36%')"
       ],
       "metadata": {},
       "output_type": "display_data",
       "text": [
        "<IPython.core.display.Javascript at 0x10e59c1d0>"
       ]
      },
      {
       "javascript": [
        "$('div#64838562-7708-4dac-9638-0709808422a1').width('37%')"
       ],
       "metadata": {},
       "output_type": "display_data",
       "text": [
        "<IPython.core.display.Javascript at 0x10e59c1d0>"
       ]
      },
      {
       "javascript": [
        "$('div#64838562-7708-4dac-9638-0709808422a1').width('38%')"
       ],
       "metadata": {},
       "output_type": "display_data",
       "text": [
        "<IPython.core.display.Javascript at 0x10e59c1d0>"
       ]
      },
      {
       "javascript": [
        "$('div#64838562-7708-4dac-9638-0709808422a1').width('39%')"
       ],
       "metadata": {},
       "output_type": "display_data",
       "text": [
        "<IPython.core.display.Javascript at 0x10e59c1d0>"
       ]
      },
      {
       "javascript": [
        "$('div#64838562-7708-4dac-9638-0709808422a1').width('40%')"
       ],
       "metadata": {},
       "output_type": "display_data",
       "text": [
        "<IPython.core.display.Javascript at 0x10e59c1d0>"
       ]
      },
      {
       "javascript": [
        "$('div#64838562-7708-4dac-9638-0709808422a1').width('41%')"
       ],
       "metadata": {},
       "output_type": "display_data",
       "text": [
        "<IPython.core.display.Javascript at 0x10e59c1d0>"
       ]
      },
      {
       "javascript": [
        "$('div#64838562-7708-4dac-9638-0709808422a1').width('42%')"
       ],
       "metadata": {},
       "output_type": "display_data",
       "text": [
        "<IPython.core.display.Javascript at 0x10e59c1d0>"
       ]
      },
      {
       "javascript": [
        "$('div#64838562-7708-4dac-9638-0709808422a1').width('43%')"
       ],
       "metadata": {},
       "output_type": "display_data",
       "text": [
        "<IPython.core.display.Javascript at 0x10e59c1d0>"
       ]
      },
      {
       "javascript": [
        "$('div#64838562-7708-4dac-9638-0709808422a1').width('44%')"
       ],
       "metadata": {},
       "output_type": "display_data",
       "text": [
        "<IPython.core.display.Javascript at 0x10e59c1d0>"
       ]
      },
      {
       "javascript": [
        "$('div#64838562-7708-4dac-9638-0709808422a1').width('45%')"
       ],
       "metadata": {},
       "output_type": "display_data",
       "text": [
        "<IPython.core.display.Javascript at 0x10e59c1d0>"
       ]
      },
      {
       "javascript": [
        "$('div#64838562-7708-4dac-9638-0709808422a1').width('46%')"
       ],
       "metadata": {},
       "output_type": "display_data",
       "text": [
        "<IPython.core.display.Javascript at 0x10e59c1d0>"
       ]
      },
      {
       "javascript": [
        "$('div#64838562-7708-4dac-9638-0709808422a1').width('47%')"
       ],
       "metadata": {},
       "output_type": "display_data",
       "text": [
        "<IPython.core.display.Javascript at 0x10e59c1d0>"
       ]
      },
      {
       "javascript": [
        "$('div#64838562-7708-4dac-9638-0709808422a1').width('48%')"
       ],
       "metadata": {},
       "output_type": "display_data",
       "text": [
        "<IPython.core.display.Javascript at 0x10e59c1d0>"
       ]
      },
      {
       "javascript": [
        "$('div#64838562-7708-4dac-9638-0709808422a1').width('49%')"
       ],
       "metadata": {},
       "output_type": "display_data",
       "text": [
        "<IPython.core.display.Javascript at 0x10e59c1d0>"
       ]
      },
      {
       "javascript": [
        "$('div#64838562-7708-4dac-9638-0709808422a1').width('50%')"
       ],
       "metadata": {},
       "output_type": "display_data",
       "text": [
        "<IPython.core.display.Javascript at 0x10e59c1d0>"
       ]
      },
      {
       "javascript": [
        "$('div#64838562-7708-4dac-9638-0709808422a1').width('51%')"
       ],
       "metadata": {},
       "output_type": "display_data",
       "text": [
        "<IPython.core.display.Javascript at 0x10e59c1d0>"
       ]
      },
      {
       "javascript": [
        "$('div#64838562-7708-4dac-9638-0709808422a1').width('52%')"
       ],
       "metadata": {},
       "output_type": "display_data",
       "text": [
        "<IPython.core.display.Javascript at 0x10e59c1d0>"
       ]
      },
      {
       "javascript": [
        "$('div#64838562-7708-4dac-9638-0709808422a1').width('53%')"
       ],
       "metadata": {},
       "output_type": "display_data",
       "text": [
        "<IPython.core.display.Javascript at 0x10e59c1d0>"
       ]
      },
      {
       "javascript": [
        "$('div#64838562-7708-4dac-9638-0709808422a1').width('54%')"
       ],
       "metadata": {},
       "output_type": "display_data",
       "text": [
        "<IPython.core.display.Javascript at 0x10e59c1d0>"
       ]
      },
      {
       "javascript": [
        "$('div#64838562-7708-4dac-9638-0709808422a1').width('55%')"
       ],
       "metadata": {},
       "output_type": "display_data",
       "text": [
        "<IPython.core.display.Javascript at 0x10e59c1d0>"
       ]
      },
      {
       "javascript": [
        "$('div#64838562-7708-4dac-9638-0709808422a1').width('56%')"
       ],
       "metadata": {},
       "output_type": "display_data",
       "text": [
        "<IPython.core.display.Javascript at 0x10e59c1d0>"
       ]
      },
      {
       "javascript": [
        "$('div#64838562-7708-4dac-9638-0709808422a1').width('57%')"
       ],
       "metadata": {},
       "output_type": "display_data",
       "text": [
        "<IPython.core.display.Javascript at 0x10e59c1d0>"
       ]
      },
      {
       "javascript": [
        "$('div#64838562-7708-4dac-9638-0709808422a1').width('58%')"
       ],
       "metadata": {},
       "output_type": "display_data",
       "text": [
        "<IPython.core.display.Javascript at 0x10e59c1d0>"
       ]
      },
      {
       "javascript": [
        "$('div#64838562-7708-4dac-9638-0709808422a1').width('59%')"
       ],
       "metadata": {},
       "output_type": "display_data",
       "text": [
        "<IPython.core.display.Javascript at 0x10e59c1d0>"
       ]
      },
      {
       "javascript": [
        "$('div#64838562-7708-4dac-9638-0709808422a1').width('60%')"
       ],
       "metadata": {},
       "output_type": "display_data",
       "text": [
        "<IPython.core.display.Javascript at 0x10e59c1d0>"
       ]
      },
      {
       "javascript": [
        "$('div#64838562-7708-4dac-9638-0709808422a1').width('61%')"
       ],
       "metadata": {},
       "output_type": "display_data",
       "text": [
        "<IPython.core.display.Javascript at 0x10e59c1d0>"
       ]
      },
      {
       "javascript": [
        "$('div#64838562-7708-4dac-9638-0709808422a1').width('62%')"
       ],
       "metadata": {},
       "output_type": "display_data",
       "text": [
        "<IPython.core.display.Javascript at 0x10e59c1d0>"
       ]
      },
      {
       "javascript": [
        "$('div#64838562-7708-4dac-9638-0709808422a1').width('63%')"
       ],
       "metadata": {},
       "output_type": "display_data",
       "text": [
        "<IPython.core.display.Javascript at 0x10e59c1d0>"
       ]
      },
      {
       "javascript": [
        "$('div#64838562-7708-4dac-9638-0709808422a1').width('64%')"
       ],
       "metadata": {},
       "output_type": "display_data",
       "text": [
        "<IPython.core.display.Javascript at 0x10e59c1d0>"
       ]
      },
      {
       "javascript": [
        "$('div#64838562-7708-4dac-9638-0709808422a1').width('65%')"
       ],
       "metadata": {},
       "output_type": "display_data",
       "text": [
        "<IPython.core.display.Javascript at 0x10e59c1d0>"
       ]
      },
      {
       "javascript": [
        "$('div#64838562-7708-4dac-9638-0709808422a1').width('66%')"
       ],
       "metadata": {},
       "output_type": "display_data",
       "text": [
        "<IPython.core.display.Javascript at 0x10e59c1d0>"
       ]
      },
      {
       "javascript": [
        "$('div#64838562-7708-4dac-9638-0709808422a1').width('67%')"
       ],
       "metadata": {},
       "output_type": "display_data",
       "text": [
        "<IPython.core.display.Javascript at 0x10e59c1d0>"
       ]
      },
      {
       "javascript": [
        "$('div#64838562-7708-4dac-9638-0709808422a1').width('68%')"
       ],
       "metadata": {},
       "output_type": "display_data",
       "text": [
        "<IPython.core.display.Javascript at 0x10e59c1d0>"
       ]
      },
      {
       "javascript": [
        "$('div#64838562-7708-4dac-9638-0709808422a1').width('69%')"
       ],
       "metadata": {},
       "output_type": "display_data",
       "text": [
        "<IPython.core.display.Javascript at 0x10e59c1d0>"
       ]
      },
      {
       "javascript": [
        "$('div#64838562-7708-4dac-9638-0709808422a1').width('70%')"
       ],
       "metadata": {},
       "output_type": "display_data",
       "text": [
        "<IPython.core.display.Javascript at 0x10e59c1d0>"
       ]
      },
      {
       "javascript": [
        "$('div#64838562-7708-4dac-9638-0709808422a1').width('71%')"
       ],
       "metadata": {},
       "output_type": "display_data",
       "text": [
        "<IPython.core.display.Javascript at 0x10e59c1d0>"
       ]
      },
      {
       "javascript": [
        "$('div#64838562-7708-4dac-9638-0709808422a1').width('72%')"
       ],
       "metadata": {},
       "output_type": "display_data",
       "text": [
        "<IPython.core.display.Javascript at 0x10e59c1d0>"
       ]
      },
      {
       "javascript": [
        "$('div#64838562-7708-4dac-9638-0709808422a1').width('73%')"
       ],
       "metadata": {},
       "output_type": "display_data",
       "text": [
        "<IPython.core.display.Javascript at 0x10e59c1d0>"
       ]
      },
      {
       "javascript": [
        "$('div#64838562-7708-4dac-9638-0709808422a1').width('74%')"
       ],
       "metadata": {},
       "output_type": "display_data",
       "text": [
        "<IPython.core.display.Javascript at 0x10e59c1d0>"
       ]
      },
      {
       "javascript": [
        "$('div#64838562-7708-4dac-9638-0709808422a1').width('75%')"
       ],
       "metadata": {},
       "output_type": "display_data",
       "text": [
        "<IPython.core.display.Javascript at 0x10e59c1d0>"
       ]
      },
      {
       "javascript": [
        "$('div#64838562-7708-4dac-9638-0709808422a1').width('76%')"
       ],
       "metadata": {},
       "output_type": "display_data",
       "text": [
        "<IPython.core.display.Javascript at 0x10e59c1d0>"
       ]
      },
      {
       "javascript": [
        "$('div#64838562-7708-4dac-9638-0709808422a1').width('77%')"
       ],
       "metadata": {},
       "output_type": "display_data",
       "text": [
        "<IPython.core.display.Javascript at 0x10e59c1d0>"
       ]
      },
      {
       "javascript": [
        "$('div#64838562-7708-4dac-9638-0709808422a1').width('78%')"
       ],
       "metadata": {},
       "output_type": "display_data",
       "text": [
        "<IPython.core.display.Javascript at 0x10e59c1d0>"
       ]
      },
      {
       "javascript": [
        "$('div#64838562-7708-4dac-9638-0709808422a1').width('79%')"
       ],
       "metadata": {},
       "output_type": "display_data",
       "text": [
        "<IPython.core.display.Javascript at 0x10e59c1d0>"
       ]
      },
      {
       "javascript": [
        "$('div#64838562-7708-4dac-9638-0709808422a1').width('80%')"
       ],
       "metadata": {},
       "output_type": "display_data",
       "text": [
        "<IPython.core.display.Javascript at 0x10e59c1d0>"
       ]
      },
      {
       "javascript": [
        "$('div#64838562-7708-4dac-9638-0709808422a1').width('81%')"
       ],
       "metadata": {},
       "output_type": "display_data",
       "text": [
        "<IPython.core.display.Javascript at 0x10e59c1d0>"
       ]
      },
      {
       "javascript": [
        "$('div#64838562-7708-4dac-9638-0709808422a1').width('82%')"
       ],
       "metadata": {},
       "output_type": "display_data",
       "text": [
        "<IPython.core.display.Javascript at 0x10e59c1d0>"
       ]
      },
      {
       "javascript": [
        "$('div#64838562-7708-4dac-9638-0709808422a1').width('83%')"
       ],
       "metadata": {},
       "output_type": "display_data",
       "text": [
        "<IPython.core.display.Javascript at 0x10e59c1d0>"
       ]
      },
      {
       "javascript": [
        "$('div#64838562-7708-4dac-9638-0709808422a1').width('84%')"
       ],
       "metadata": {},
       "output_type": "display_data",
       "text": [
        "<IPython.core.display.Javascript at 0x10e59c1d0>"
       ]
      },
      {
       "javascript": [
        "$('div#64838562-7708-4dac-9638-0709808422a1').width('85%')"
       ],
       "metadata": {},
       "output_type": "display_data",
       "text": [
        "<IPython.core.display.Javascript at 0x10e59c1d0>"
       ]
      },
      {
       "javascript": [
        "$('div#64838562-7708-4dac-9638-0709808422a1').width('86%')"
       ],
       "metadata": {},
       "output_type": "display_data",
       "text": [
        "<IPython.core.display.Javascript at 0x10e59c1d0>"
       ]
      },
      {
       "javascript": [
        "$('div#64838562-7708-4dac-9638-0709808422a1').width('87%')"
       ],
       "metadata": {},
       "output_type": "display_data",
       "text": [
        "<IPython.core.display.Javascript at 0x10e59c1d0>"
       ]
      },
      {
       "javascript": [
        "$('div#64838562-7708-4dac-9638-0709808422a1').width('88%')"
       ],
       "metadata": {},
       "output_type": "display_data",
       "text": [
        "<IPython.core.display.Javascript at 0x10e59c1d0>"
       ]
      },
      {
       "javascript": [
        "$('div#64838562-7708-4dac-9638-0709808422a1').width('89%')"
       ],
       "metadata": {},
       "output_type": "display_data",
       "text": [
        "<IPython.core.display.Javascript at 0x10e59c1d0>"
       ]
      },
      {
       "javascript": [
        "$('div#64838562-7708-4dac-9638-0709808422a1').width('100%')"
       ],
       "metadata": {},
       "output_type": "display_data",
       "text": [
        "<IPython.core.display.Javascript at 0x10e597e10>"
       ]
      }
     ],
     "prompt_number": 2
    },
    {
     "cell_type": "code",
     "collapsed": false,
     "input": [
      "# Display static measurement: \n",
      "measurement = SCAN.static.uncompressed_measurement()\n",
      "measurement.display(scale=10)"
     ],
     "language": "python",
     "metadata": {},
     "outputs": [
      {
       "html": [
        "\n",
        "        <div style=\"border: 1px solid white; width:100%%; height:6px; background-color:rgb(246,246,246)\">\n",
        "            <div id=\"0e548102-2078-49f8-a3cc-90a0dc910b94\" style=\"background-color:rgb(200,200,200); width:0%; height:6px\"> </div>\n",
        "        </div> \n",
        "        "
       ],
       "metadata": {},
       "output_type": "display_data",
       "text": [
        "<IPython.core.display.HTML at 0x10e597350>"
       ]
      },
      {
       "javascript": [
        "$('div#0e548102-2078-49f8-a3cc-90a0dc910b94').width('1%')"
       ],
       "metadata": {},
       "output_type": "display_data",
       "text": [
        "<IPython.core.display.Javascript at 0x10e597850>"
       ]
      },
      {
       "javascript": [
        "$('div#0e548102-2078-49f8-a3cc-90a0dc910b94').width('1%')"
       ],
       "metadata": {},
       "output_type": "display_data",
       "text": [
        "<IPython.core.display.Javascript at 0x10e597850>"
       ]
      },
      {
       "javascript": [
        "$('div#0e548102-2078-49f8-a3cc-90a0dc910b94').width('1%')"
       ],
       "metadata": {},
       "output_type": "display_data",
       "text": [
        "<IPython.core.display.Javascript at 0x10e597850>"
       ]
      },
      {
       "javascript": [
        "$('div#0e548102-2078-49f8-a3cc-90a0dc910b94').width('1%')"
       ],
       "metadata": {},
       "output_type": "display_data",
       "text": [
        "<IPython.core.display.Javascript at 0x10e597850>"
       ]
      },
      {
       "javascript": [
        "$('div#0e548102-2078-49f8-a3cc-90a0dc910b94').width('1%')"
       ],
       "metadata": {},
       "output_type": "display_data",
       "text": [
        "<IPython.core.display.Javascript at 0x10e597850>"
       ]
      },
      {
       "javascript": [
        "$('div#0e548102-2078-49f8-a3cc-90a0dc910b94').width('1%')"
       ],
       "metadata": {},
       "output_type": "display_data",
       "text": [
        "<IPython.core.display.Javascript at 0x10e597850>"
       ]
      },
      {
       "javascript": [
        "$('div#0e548102-2078-49f8-a3cc-90a0dc910b94').width('2%')"
       ],
       "metadata": {},
       "output_type": "display_data",
       "text": [
        "<IPython.core.display.Javascript at 0x10e597850>"
       ]
      },
      {
       "javascript": [
        "$('div#0e548102-2078-49f8-a3cc-90a0dc910b94').width('2%')"
       ],
       "metadata": {},
       "output_type": "display_data",
       "text": [
        "<IPython.core.display.Javascript at 0x10e597850>"
       ]
      },
      {
       "javascript": [
        "$('div#0e548102-2078-49f8-a3cc-90a0dc910b94').width('3%')"
       ],
       "metadata": {},
       "output_type": "display_data",
       "text": [
        "<IPython.core.display.Javascript at 0x10e597850>"
       ]
      },
      {
       "javascript": [
        "$('div#0e548102-2078-49f8-a3cc-90a0dc910b94').width('3%')"
       ],
       "metadata": {},
       "output_type": "display_data",
       "text": [
        "<IPython.core.display.Javascript at 0x10e597850>"
       ]
      },
      {
       "javascript": [
        "$('div#0e548102-2078-49f8-a3cc-90a0dc910b94').width('3%')"
       ],
       "metadata": {},
       "output_type": "display_data",
       "text": [
        "<IPython.core.display.Javascript at 0x10e597850>"
       ]
      },
      {
       "javascript": [
        "$('div#0e548102-2078-49f8-a3cc-90a0dc910b94').width('4%')"
       ],
       "metadata": {},
       "output_type": "display_data",
       "text": [
        "<IPython.core.display.Javascript at 0x10e597850>"
       ]
      },
      {
       "javascript": [
        "$('div#0e548102-2078-49f8-a3cc-90a0dc910b94').width('4%')"
       ],
       "metadata": {},
       "output_type": "display_data",
       "text": [
        "<IPython.core.display.Javascript at 0x10e597850>"
       ]
      },
      {
       "javascript": [
        "$('div#0e548102-2078-49f8-a3cc-90a0dc910b94').width('5%')"
       ],
       "metadata": {},
       "output_type": "display_data",
       "text": [
        "<IPython.core.display.Javascript at 0x10e597850>"
       ]
      },
      {
       "javascript": [
        "$('div#0e548102-2078-49f8-a3cc-90a0dc910b94').width('5%')"
       ],
       "metadata": {},
       "output_type": "display_data",
       "text": [
        "<IPython.core.display.Javascript at 0x10e597850>"
       ]
      },
      {
       "javascript": [
        "$('div#0e548102-2078-49f8-a3cc-90a0dc910b94').width('5%')"
       ],
       "metadata": {},
       "output_type": "display_data",
       "text": [
        "<IPython.core.display.Javascript at 0x10e597850>"
       ]
      },
      {
       "javascript": [
        "$('div#0e548102-2078-49f8-a3cc-90a0dc910b94').width('6%')"
       ],
       "metadata": {},
       "output_type": "display_data",
       "text": [
        "<IPython.core.display.Javascript at 0x10e597850>"
       ]
      },
      {
       "javascript": [
        "$('div#0e548102-2078-49f8-a3cc-90a0dc910b94').width('6%')"
       ],
       "metadata": {},
       "output_type": "display_data",
       "text": [
        "<IPython.core.display.Javascript at 0x1150daf10>"
       ]
      },
      {
       "javascript": [
        "$('div#0e548102-2078-49f8-a3cc-90a0dc910b94').width('7%')"
       ],
       "metadata": {},
       "output_type": "display_data",
       "text": [
        "<IPython.core.display.Javascript at 0x1150daf10>"
       ]
      },
      {
       "javascript": [
        "$('div#0e548102-2078-49f8-a3cc-90a0dc910b94').width('7%')"
       ],
       "metadata": {},
       "output_type": "display_data",
       "text": [
        "<IPython.core.display.Javascript at 0x1150daf10>"
       ]
      },
      {
       "javascript": [
        "$('div#0e548102-2078-49f8-a3cc-90a0dc910b94').width('7%')"
       ],
       "metadata": {},
       "output_type": "display_data",
       "text": [
        "<IPython.core.display.Javascript at 0x1150daf10>"
       ]
      },
      {
       "javascript": [
        "$('div#0e548102-2078-49f8-a3cc-90a0dc910b94').width('8%')"
       ],
       "metadata": {},
       "output_type": "display_data",
       "text": [
        "<IPython.core.display.Javascript at 0x1150daf10>"
       ]
      },
      {
       "javascript": [
        "$('div#0e548102-2078-49f8-a3cc-90a0dc910b94').width('8%')"
       ],
       "metadata": {},
       "output_type": "display_data",
       "text": [
        "<IPython.core.display.Javascript at 0x1150daf10>"
       ]
      },
      {
       "javascript": [
        "$('div#0e548102-2078-49f8-a3cc-90a0dc910b94').width('9%')"
       ],
       "metadata": {},
       "output_type": "display_data",
       "text": [
        "<IPython.core.display.Javascript at 0x1150daf10>"
       ]
      },
      {
       "javascript": [
        "$('div#0e548102-2078-49f8-a3cc-90a0dc910b94').width('9%')"
       ],
       "metadata": {},
       "output_type": "display_data",
       "text": [
        "<IPython.core.display.Javascript at 0x1150daf10>"
       ]
      },
      {
       "javascript": [
        "$('div#0e548102-2078-49f8-a3cc-90a0dc910b94').width('9%')"
       ],
       "metadata": {},
       "output_type": "display_data",
       "text": [
        "<IPython.core.display.Javascript at 0x1150daf10>"
       ]
      },
      {
       "javascript": [
        "$('div#0e548102-2078-49f8-a3cc-90a0dc910b94').width('10%')"
       ],
       "metadata": {},
       "output_type": "display_data",
       "text": [
        "<IPython.core.display.Javascript at 0x1150daf10>"
       ]
      },
      {
       "javascript": [
        "$('div#0e548102-2078-49f8-a3cc-90a0dc910b94').width('10%')"
       ],
       "metadata": {},
       "output_type": "display_data",
       "text": [
        "<IPython.core.display.Javascript at 0x1150daf10>"
       ]
      },
      {
       "javascript": [
        "$('div#0e548102-2078-49f8-a3cc-90a0dc910b94').width('11%')"
       ],
       "metadata": {},
       "output_type": "display_data",
       "text": [
        "<IPython.core.display.Javascript at 0x1150daf10>"
       ]
      },
      {
       "javascript": [
        "$('div#0e548102-2078-49f8-a3cc-90a0dc910b94').width('11%')"
       ],
       "metadata": {},
       "output_type": "display_data",
       "text": [
        "<IPython.core.display.Javascript at 0x1150daf10>"
       ]
      },
      {
       "javascript": [
        "$('div#0e548102-2078-49f8-a3cc-90a0dc910b94').width('11%')"
       ],
       "metadata": {},
       "output_type": "display_data",
       "text": [
        "<IPython.core.display.Javascript at 0x1150daf10>"
       ]
      },
      {
       "javascript": [
        "$('div#0e548102-2078-49f8-a3cc-90a0dc910b94').width('12%')"
       ],
       "metadata": {},
       "output_type": "display_data",
       "text": [
        "<IPython.core.display.Javascript at 0x1150daf10>"
       ]
      },
      {
       "javascript": [
        "$('div#0e548102-2078-49f8-a3cc-90a0dc910b94').width('12%')"
       ],
       "metadata": {},
       "output_type": "display_data",
       "text": [
        "<IPython.core.display.Javascript at 0x1150daf10>"
       ]
      },
      {
       "javascript": [
        "$('div#0e548102-2078-49f8-a3cc-90a0dc910b94').width('13%')"
       ],
       "metadata": {},
       "output_type": "display_data",
       "text": [
        "<IPython.core.display.Javascript at 0x1150daf10>"
       ]
      },
      {
       "javascript": [
        "$('div#0e548102-2078-49f8-a3cc-90a0dc910b94').width('13%')"
       ],
       "metadata": {},
       "output_type": "display_data",
       "text": [
        "<IPython.core.display.Javascript at 0x1150daf10>"
       ]
      },
      {
       "javascript": [
        "$('div#0e548102-2078-49f8-a3cc-90a0dc910b94').width('13%')"
       ],
       "metadata": {},
       "output_type": "display_data",
       "text": [
        "<IPython.core.display.Javascript at 0x1150daf10>"
       ]
      },
      {
       "javascript": [
        "$('div#0e548102-2078-49f8-a3cc-90a0dc910b94').width('14%')"
       ],
       "metadata": {},
       "output_type": "display_data",
       "text": [
        "<IPython.core.display.Javascript at 0x1150daf10>"
       ]
      },
      {
       "javascript": [
        "$('div#0e548102-2078-49f8-a3cc-90a0dc910b94').width('14%')"
       ],
       "metadata": {},
       "output_type": "display_data",
       "text": [
        "<IPython.core.display.Javascript at 0x1150daf10>"
       ]
      },
      {
       "javascript": [
        "$('div#0e548102-2078-49f8-a3cc-90a0dc910b94').width('15%')"
       ],
       "metadata": {},
       "output_type": "display_data",
       "text": [
        "<IPython.core.display.Javascript at 0x1150daf10>"
       ]
      },
      {
       "javascript": [
        "$('div#0e548102-2078-49f8-a3cc-90a0dc910b94').width('15%')"
       ],
       "metadata": {},
       "output_type": "display_data",
       "text": [
        "<IPython.core.display.Javascript at 0x1150daf10>"
       ]
      },
      {
       "javascript": [
        "$('div#0e548102-2078-49f8-a3cc-90a0dc910b94').width('15%')"
       ],
       "metadata": {},
       "output_type": "display_data",
       "text": [
        "<IPython.core.display.Javascript at 0x1150daf10>"
       ]
      },
      {
       "javascript": [
        "$('div#0e548102-2078-49f8-a3cc-90a0dc910b94').width('16%')"
       ],
       "metadata": {},
       "output_type": "display_data",
       "text": [
        "<IPython.core.display.Javascript at 0x1150daf10>"
       ]
      },
      {
       "javascript": [
        "$('div#0e548102-2078-49f8-a3cc-90a0dc910b94').width('16%')"
       ],
       "metadata": {},
       "output_type": "display_data",
       "text": [
        "<IPython.core.display.Javascript at 0x1150daf10>"
       ]
      },
      {
       "javascript": [
        "$('div#0e548102-2078-49f8-a3cc-90a0dc910b94').width('17%')"
       ],
       "metadata": {},
       "output_type": "display_data",
       "text": [
        "<IPython.core.display.Javascript at 0x1150daf10>"
       ]
      },
      {
       "javascript": [
        "$('div#0e548102-2078-49f8-a3cc-90a0dc910b94').width('17%')"
       ],
       "metadata": {},
       "output_type": "display_data",
       "text": [
        "<IPython.core.display.Javascript at 0x1150daf10>"
       ]
      },
      {
       "javascript": [
        "$('div#0e548102-2078-49f8-a3cc-90a0dc910b94').width('17%')"
       ],
       "metadata": {},
       "output_type": "display_data",
       "text": [
        "<IPython.core.display.Javascript at 0x1150daf10>"
       ]
      },
      {
       "javascript": [
        "$('div#0e548102-2078-49f8-a3cc-90a0dc910b94').width('18%')"
       ],
       "metadata": {},
       "output_type": "display_data",
       "text": [
        "<IPython.core.display.Javascript at 0x1150daf10>"
       ]
      },
      {
       "javascript": [
        "$('div#0e548102-2078-49f8-a3cc-90a0dc910b94').width('18%')"
       ],
       "metadata": {},
       "output_type": "display_data",
       "text": [
        "<IPython.core.display.Javascript at 0x1150daf10>"
       ]
      },
      {
       "javascript": [
        "$('div#0e548102-2078-49f8-a3cc-90a0dc910b94').width('19%')"
       ],
       "metadata": {},
       "output_type": "display_data",
       "text": [
        "<IPython.core.display.Javascript at 0x1150daf10>"
       ]
      },
      {
       "javascript": [
        "$('div#0e548102-2078-49f8-a3cc-90a0dc910b94').width('19%')"
       ],
       "metadata": {},
       "output_type": "display_data",
       "text": [
        "<IPython.core.display.Javascript at 0x1150daf10>"
       ]
      },
      {
       "javascript": [
        "$('div#0e548102-2078-49f8-a3cc-90a0dc910b94').width('19%')"
       ],
       "metadata": {},
       "output_type": "display_data",
       "text": [
        "<IPython.core.display.Javascript at 0x1150daf10>"
       ]
      },
      {
       "javascript": [
        "$('div#0e548102-2078-49f8-a3cc-90a0dc910b94').width('20%')"
       ],
       "metadata": {},
       "output_type": "display_data",
       "text": [
        "<IPython.core.display.Javascript at 0x1150daf10>"
       ]
      },
      {
       "javascript": [
        "$('div#0e548102-2078-49f8-a3cc-90a0dc910b94').width('20%')"
       ],
       "metadata": {},
       "output_type": "display_data",
       "text": [
        "<IPython.core.display.Javascript at 0x1150daf10>"
       ]
      },
      {
       "javascript": [
        "$('div#0e548102-2078-49f8-a3cc-90a0dc910b94').width('21%')"
       ],
       "metadata": {},
       "output_type": "display_data",
       "text": [
        "<IPython.core.display.Javascript at 0x1150daf10>"
       ]
      },
      {
       "javascript": [
        "$('div#0e548102-2078-49f8-a3cc-90a0dc910b94').width('21%')"
       ],
       "metadata": {},
       "output_type": "display_data",
       "text": [
        "<IPython.core.display.Javascript at 0x1150daf10>"
       ]
      },
      {
       "javascript": [
        "$('div#0e548102-2078-49f8-a3cc-90a0dc910b94').width('21%')"
       ],
       "metadata": {},
       "output_type": "display_data",
       "text": [
        "<IPython.core.display.Javascript at 0x1150daf10>"
       ]
      },
      {
       "javascript": [
        "$('div#0e548102-2078-49f8-a3cc-90a0dc910b94').width('22%')"
       ],
       "metadata": {},
       "output_type": "display_data",
       "text": [
        "<IPython.core.display.Javascript at 0x1150daf10>"
       ]
      },
      {
       "javascript": [
        "$('div#0e548102-2078-49f8-a3cc-90a0dc910b94').width('22%')"
       ],
       "metadata": {},
       "output_type": "display_data",
       "text": [
        "<IPython.core.display.Javascript at 0x1150daf10>"
       ]
      },
      {
       "javascript": [
        "$('div#0e548102-2078-49f8-a3cc-90a0dc910b94').width('23%')"
       ],
       "metadata": {},
       "output_type": "display_data",
       "text": [
        "<IPython.core.display.Javascript at 0x1150daf10>"
       ]
      },
      {
       "javascript": [
        "$('div#0e548102-2078-49f8-a3cc-90a0dc910b94').width('23%')"
       ],
       "metadata": {},
       "output_type": "display_data",
       "text": [
        "<IPython.core.display.Javascript at 0x1150daf10>"
       ]
      },
      {
       "javascript": [
        "$('div#0e548102-2078-49f8-a3cc-90a0dc910b94').width('23%')"
       ],
       "metadata": {},
       "output_type": "display_data",
       "text": [
        "<IPython.core.display.Javascript at 0x1150daf10>"
       ]
      },
      {
       "javascript": [
        "$('div#0e548102-2078-49f8-a3cc-90a0dc910b94').width('24%')"
       ],
       "metadata": {},
       "output_type": "display_data",
       "text": [
        "<IPython.core.display.Javascript at 0x1150daf10>"
       ]
      },
      {
       "javascript": [
        "$('div#0e548102-2078-49f8-a3cc-90a0dc910b94').width('24%')"
       ],
       "metadata": {},
       "output_type": "display_data",
       "text": [
        "<IPython.core.display.Javascript at 0x1150daf10>"
       ]
      },
      {
       "javascript": [
        "$('div#0e548102-2078-49f8-a3cc-90a0dc910b94').width('25%')"
       ],
       "metadata": {},
       "output_type": "display_data",
       "text": [
        "<IPython.core.display.Javascript at 0x1150daf10>"
       ]
      },
      {
       "javascript": [
        "$('div#0e548102-2078-49f8-a3cc-90a0dc910b94').width('25%')"
       ],
       "metadata": {},
       "output_type": "display_data",
       "text": [
        "<IPython.core.display.Javascript at 0x1150daf10>"
       ]
      },
      {
       "javascript": [
        "$('div#0e548102-2078-49f8-a3cc-90a0dc910b94').width('25%')"
       ],
       "metadata": {},
       "output_type": "display_data",
       "text": [
        "<IPython.core.display.Javascript at 0x1150daf10>"
       ]
      },
      {
       "javascript": [
        "$('div#0e548102-2078-49f8-a3cc-90a0dc910b94').width('26%')"
       ],
       "metadata": {},
       "output_type": "display_data",
       "text": [
        "<IPython.core.display.Javascript at 0x1150daf10>"
       ]
      },
      {
       "javascript": [
        "$('div#0e548102-2078-49f8-a3cc-90a0dc910b94').width('26%')"
       ],
       "metadata": {},
       "output_type": "display_data",
       "text": [
        "<IPython.core.display.Javascript at 0x1150daf10>"
       ]
      },
      {
       "javascript": [
        "$('div#0e548102-2078-49f8-a3cc-90a0dc910b94').width('26%')"
       ],
       "metadata": {},
       "output_type": "display_data",
       "text": [
        "<IPython.core.display.Javascript at 0x1150daf10>"
       ]
      },
      {
       "javascript": [
        "$('div#0e548102-2078-49f8-a3cc-90a0dc910b94').width('27%')"
       ],
       "metadata": {},
       "output_type": "display_data",
       "text": [
        "<IPython.core.display.Javascript at 0x1150daf10>"
       ]
      },
      {
       "javascript": [
        "$('div#0e548102-2078-49f8-a3cc-90a0dc910b94').width('27%')"
       ],
       "metadata": {},
       "output_type": "display_data",
       "text": [
        "<IPython.core.display.Javascript at 0x1150daf10>"
       ]
      },
      {
       "javascript": [
        "$('div#0e548102-2078-49f8-a3cc-90a0dc910b94').width('28%')"
       ],
       "metadata": {},
       "output_type": "display_data",
       "text": [
        "<IPython.core.display.Javascript at 0x1150daf10>"
       ]
      },
      {
       "javascript": [
        "$('div#0e548102-2078-49f8-a3cc-90a0dc910b94').width('28%')"
       ],
       "metadata": {},
       "output_type": "display_data",
       "text": [
        "<IPython.core.display.Javascript at 0x1150daf10>"
       ]
      },
      {
       "javascript": [
        "$('div#0e548102-2078-49f8-a3cc-90a0dc910b94').width('28%')"
       ],
       "metadata": {},
       "output_type": "display_data",
       "text": [
        "<IPython.core.display.Javascript at 0x1150daf10>"
       ]
      },
      {
       "javascript": [
        "$('div#0e548102-2078-49f8-a3cc-90a0dc910b94').width('29%')"
       ],
       "metadata": {},
       "output_type": "display_data",
       "text": [
        "<IPython.core.display.Javascript at 0x1150daf10>"
       ]
      },
      {
       "javascript": [
        "$('div#0e548102-2078-49f8-a3cc-90a0dc910b94').width('29%')"
       ],
       "metadata": {},
       "output_type": "display_data",
       "text": [
        "<IPython.core.display.Javascript at 0x1150daf10>"
       ]
      },
      {
       "javascript": [
        "$('div#0e548102-2078-49f8-a3cc-90a0dc910b94').width('30%')"
       ],
       "metadata": {},
       "output_type": "display_data",
       "text": [
        "<IPython.core.display.Javascript at 0x1150daf10>"
       ]
      },
      {
       "javascript": [
        "$('div#0e548102-2078-49f8-a3cc-90a0dc910b94').width('30%')"
       ],
       "metadata": {},
       "output_type": "display_data",
       "text": [
        "<IPython.core.display.Javascript at 0x1150daf10>"
       ]
      },
      {
       "javascript": [
        "$('div#0e548102-2078-49f8-a3cc-90a0dc910b94').width('30%')"
       ],
       "metadata": {},
       "output_type": "display_data",
       "text": [
        "<IPython.core.display.Javascript at 0x1150daf10>"
       ]
      },
      {
       "javascript": [
        "$('div#0e548102-2078-49f8-a3cc-90a0dc910b94').width('31%')"
       ],
       "metadata": {},
       "output_type": "display_data",
       "text": [
        "<IPython.core.display.Javascript at 0x1150daf10>"
       ]
      },
      {
       "javascript": [
        "$('div#0e548102-2078-49f8-a3cc-90a0dc910b94').width('31%')"
       ],
       "metadata": {},
       "output_type": "display_data",
       "text": [
        "<IPython.core.display.Javascript at 0x1150daf10>"
       ]
      },
      {
       "javascript": [
        "$('div#0e548102-2078-49f8-a3cc-90a0dc910b94').width('32%')"
       ],
       "metadata": {},
       "output_type": "display_data",
       "text": [
        "<IPython.core.display.Javascript at 0x1150daf10>"
       ]
      },
      {
       "javascript": [
        "$('div#0e548102-2078-49f8-a3cc-90a0dc910b94').width('32%')"
       ],
       "metadata": {},
       "output_type": "display_data",
       "text": [
        "<IPython.core.display.Javascript at 0x1150daf10>"
       ]
      },
      {
       "javascript": [
        "$('div#0e548102-2078-49f8-a3cc-90a0dc910b94').width('32%')"
       ],
       "metadata": {},
       "output_type": "display_data",
       "text": [
        "<IPython.core.display.Javascript at 0x1150daf10>"
       ]
      },
      {
       "javascript": [
        "$('div#0e548102-2078-49f8-a3cc-90a0dc910b94').width('33%')"
       ],
       "metadata": {},
       "output_type": "display_data",
       "text": [
        "<IPython.core.display.Javascript at 0x1150daf10>"
       ]
      },
      {
       "javascript": [
        "$('div#0e548102-2078-49f8-a3cc-90a0dc910b94').width('33%')"
       ],
       "metadata": {},
       "output_type": "display_data",
       "text": [
        "<IPython.core.display.Javascript at 0x1150daf10>"
       ]
      },
      {
       "javascript": [
        "$('div#0e548102-2078-49f8-a3cc-90a0dc910b94').width('34%')"
       ],
       "metadata": {},
       "output_type": "display_data",
       "text": [
        "<IPython.core.display.Javascript at 0x1150daf10>"
       ]
      },
      {
       "javascript": [
        "$('div#0e548102-2078-49f8-a3cc-90a0dc910b94').width('34%')"
       ],
       "metadata": {},
       "output_type": "display_data",
       "text": [
        "<IPython.core.display.Javascript at 0x1150daf10>"
       ]
      },
      {
       "javascript": [
        "$('div#0e548102-2078-49f8-a3cc-90a0dc910b94').width('34%')"
       ],
       "metadata": {},
       "output_type": "display_data",
       "text": [
        "<IPython.core.display.Javascript at 0x1150daf10>"
       ]
      },
      {
       "javascript": [
        "$('div#0e548102-2078-49f8-a3cc-90a0dc910b94').width('35%')"
       ],
       "metadata": {},
       "output_type": "display_data",
       "text": [
        "<IPython.core.display.Javascript at 0x1150daf10>"
       ]
      },
      {
       "javascript": [
        "$('div#0e548102-2078-49f8-a3cc-90a0dc910b94').width('35%')"
       ],
       "metadata": {},
       "output_type": "display_data",
       "text": [
        "<IPython.core.display.Javascript at 0x1150daf10>"
       ]
      },
      {
       "javascript": [
        "$('div#0e548102-2078-49f8-a3cc-90a0dc910b94').width('36%')"
       ],
       "metadata": {},
       "output_type": "display_data",
       "text": [
        "<IPython.core.display.Javascript at 0x1150daf10>"
       ]
      },
      {
       "javascript": [
        "$('div#0e548102-2078-49f8-a3cc-90a0dc910b94').width('36%')"
       ],
       "metadata": {},
       "output_type": "display_data",
       "text": [
        "<IPython.core.display.Javascript at 0x1150daf10>"
       ]
      },
      {
       "javascript": [
        "$('div#0e548102-2078-49f8-a3cc-90a0dc910b94').width('36%')"
       ],
       "metadata": {},
       "output_type": "display_data",
       "text": [
        "<IPython.core.display.Javascript at 0x1150daf10>"
       ]
      },
      {
       "javascript": [
        "$('div#0e548102-2078-49f8-a3cc-90a0dc910b94').width('37%')"
       ],
       "metadata": {},
       "output_type": "display_data",
       "text": [
        "<IPython.core.display.Javascript at 0x1150daf10>"
       ]
      },
      {
       "javascript": [
        "$('div#0e548102-2078-49f8-a3cc-90a0dc910b94').width('37%')"
       ],
       "metadata": {},
       "output_type": "display_data",
       "text": [
        "<IPython.core.display.Javascript at 0x1150daf10>"
       ]
      },
      {
       "javascript": [
        "$('div#0e548102-2078-49f8-a3cc-90a0dc910b94').width('38%')"
       ],
       "metadata": {},
       "output_type": "display_data",
       "text": [
        "<IPython.core.display.Javascript at 0x1150daf10>"
       ]
      },
      {
       "javascript": [
        "$('div#0e548102-2078-49f8-a3cc-90a0dc910b94').width('38%')"
       ],
       "metadata": {},
       "output_type": "display_data",
       "text": [
        "<IPython.core.display.Javascript at 0x1150daf10>"
       ]
      },
      {
       "javascript": [
        "$('div#0e548102-2078-49f8-a3cc-90a0dc910b94').width('38%')"
       ],
       "metadata": {},
       "output_type": "display_data",
       "text": [
        "<IPython.core.display.Javascript at 0x1150daf10>"
       ]
      },
      {
       "javascript": [
        "$('div#0e548102-2078-49f8-a3cc-90a0dc910b94').width('39%')"
       ],
       "metadata": {},
       "output_type": "display_data",
       "text": [
        "<IPython.core.display.Javascript at 0x1150daf10>"
       ]
      },
      {
       "javascript": [
        "$('div#0e548102-2078-49f8-a3cc-90a0dc910b94').width('39%')"
       ],
       "metadata": {},
       "output_type": "display_data",
       "text": [
        "<IPython.core.display.Javascript at 0x1150daf10>"
       ]
      },
      {
       "javascript": [
        "$('div#0e548102-2078-49f8-a3cc-90a0dc910b94').width('40%')"
       ],
       "metadata": {},
       "output_type": "display_data",
       "text": [
        "<IPython.core.display.Javascript at 0x1150daf10>"
       ]
      },
      {
       "javascript": [
        "$('div#0e548102-2078-49f8-a3cc-90a0dc910b94').width('40%')"
       ],
       "metadata": {},
       "output_type": "display_data",
       "text": [
        "<IPython.core.display.Javascript at 0x1150daf10>"
       ]
      },
      {
       "javascript": [
        "$('div#0e548102-2078-49f8-a3cc-90a0dc910b94').width('40%')"
       ],
       "metadata": {},
       "output_type": "display_data",
       "text": [
        "<IPython.core.display.Javascript at 0x1150daf10>"
       ]
      },
      {
       "javascript": [
        "$('div#0e548102-2078-49f8-a3cc-90a0dc910b94').width('41%')"
       ],
       "metadata": {},
       "output_type": "display_data",
       "text": [
        "<IPython.core.display.Javascript at 0x1150daf10>"
       ]
      },
      {
       "javascript": [
        "$('div#0e548102-2078-49f8-a3cc-90a0dc910b94').width('41%')"
       ],
       "metadata": {},
       "output_type": "display_data",
       "text": [
        "<IPython.core.display.Javascript at 0x1150daf10>"
       ]
      },
      {
       "javascript": [
        "$('div#0e548102-2078-49f8-a3cc-90a0dc910b94').width('42%')"
       ],
       "metadata": {},
       "output_type": "display_data",
       "text": [
        "<IPython.core.display.Javascript at 0x1150daf10>"
       ]
      },
      {
       "javascript": [
        "$('div#0e548102-2078-49f8-a3cc-90a0dc910b94').width('42%')"
       ],
       "metadata": {},
       "output_type": "display_data",
       "text": [
        "<IPython.core.display.Javascript at 0x1150daf10>"
       ]
      },
      {
       "javascript": [
        "$('div#0e548102-2078-49f8-a3cc-90a0dc910b94').width('42%')"
       ],
       "metadata": {},
       "output_type": "display_data",
       "text": [
        "<IPython.core.display.Javascript at 0x1150daf10>"
       ]
      },
      {
       "javascript": [
        "$('div#0e548102-2078-49f8-a3cc-90a0dc910b94').width('43%')"
       ],
       "metadata": {},
       "output_type": "display_data",
       "text": [
        "<IPython.core.display.Javascript at 0x1150daf10>"
       ]
      },
      {
       "javascript": [
        "$('div#0e548102-2078-49f8-a3cc-90a0dc910b94').width('43%')"
       ],
       "metadata": {},
       "output_type": "display_data",
       "text": [
        "<IPython.core.display.Javascript at 0x1150daf10>"
       ]
      },
      {
       "javascript": [
        "$('div#0e548102-2078-49f8-a3cc-90a0dc910b94').width('44%')"
       ],
       "metadata": {},
       "output_type": "display_data",
       "text": [
        "<IPython.core.display.Javascript at 0x1150daf10>"
       ]
      },
      {
       "javascript": [
        "$('div#0e548102-2078-49f8-a3cc-90a0dc910b94').width('44%')"
       ],
       "metadata": {},
       "output_type": "display_data",
       "text": [
        "<IPython.core.display.Javascript at 0x1150daf10>"
       ]
      },
      {
       "javascript": [
        "$('div#0e548102-2078-49f8-a3cc-90a0dc910b94').width('44%')"
       ],
       "metadata": {},
       "output_type": "display_data",
       "text": [
        "<IPython.core.display.Javascript at 0x1150daf10>"
       ]
      },
      {
       "javascript": [
        "$('div#0e548102-2078-49f8-a3cc-90a0dc910b94').width('45%')"
       ],
       "metadata": {},
       "output_type": "display_data",
       "text": [
        "<IPython.core.display.Javascript at 0x1150daf10>"
       ]
      },
      {
       "javascript": [
        "$('div#0e548102-2078-49f8-a3cc-90a0dc910b94').width('45%')"
       ],
       "metadata": {},
       "output_type": "display_data",
       "text": [
        "<IPython.core.display.Javascript at 0x1150daf10>"
       ]
      },
      {
       "javascript": [
        "$('div#0e548102-2078-49f8-a3cc-90a0dc910b94').width('46%')"
       ],
       "metadata": {},
       "output_type": "display_data",
       "text": [
        "<IPython.core.display.Javascript at 0x1150daf10>"
       ]
      },
      {
       "javascript": [
        "$('div#0e548102-2078-49f8-a3cc-90a0dc910b94').width('46%')"
       ],
       "metadata": {},
       "output_type": "display_data",
       "text": [
        "<IPython.core.display.Javascript at 0x1150daf10>"
       ]
      },
      {
       "javascript": [
        "$('div#0e548102-2078-49f8-a3cc-90a0dc910b94').width('46%')"
       ],
       "metadata": {},
       "output_type": "display_data",
       "text": [
        "<IPython.core.display.Javascript at 0x1150daf10>"
       ]
      },
      {
       "javascript": [
        "$('div#0e548102-2078-49f8-a3cc-90a0dc910b94').width('47%')"
       ],
       "metadata": {},
       "output_type": "display_data",
       "text": [
        "<IPython.core.display.Javascript at 0x1150daf10>"
       ]
      },
      {
       "javascript": [
        "$('div#0e548102-2078-49f8-a3cc-90a0dc910b94').width('47%')"
       ],
       "metadata": {},
       "output_type": "display_data",
       "text": [
        "<IPython.core.display.Javascript at 0x1150daf10>"
       ]
      },
      {
       "javascript": [
        "$('div#0e548102-2078-49f8-a3cc-90a0dc910b94').width('48%')"
       ],
       "metadata": {},
       "output_type": "display_data",
       "text": [
        "<IPython.core.display.Javascript at 0x1150daf10>"
       ]
      },
      {
       "javascript": [
        "$('div#0e548102-2078-49f8-a3cc-90a0dc910b94').width('48%')"
       ],
       "metadata": {},
       "output_type": "display_data",
       "text": [
        "<IPython.core.display.Javascript at 0x1150daf10>"
       ]
      },
      {
       "javascript": [
        "$('div#0e548102-2078-49f8-a3cc-90a0dc910b94').width('48%')"
       ],
       "metadata": {},
       "output_type": "display_data",
       "text": [
        "<IPython.core.display.Javascript at 0x1150daf10>"
       ]
      },
      {
       "javascript": [
        "$('div#0e548102-2078-49f8-a3cc-90a0dc910b94').width('49%')"
       ],
       "metadata": {},
       "output_type": "display_data",
       "text": [
        "<IPython.core.display.Javascript at 0x1150daf10>"
       ]
      },
      {
       "javascript": [
        "$('div#0e548102-2078-49f8-a3cc-90a0dc910b94').width('49%')"
       ],
       "metadata": {},
       "output_type": "display_data",
       "text": [
        "<IPython.core.display.Javascript at 0x1150daf10>"
       ]
      },
      {
       "javascript": [
        "$('div#0e548102-2078-49f8-a3cc-90a0dc910b94').width('50%')"
       ],
       "metadata": {},
       "output_type": "display_data",
       "text": [
        "<IPython.core.display.Javascript at 0x1150daf10>"
       ]
      },
      {
       "javascript": [
        "$('div#0e548102-2078-49f8-a3cc-90a0dc910b94').width('50%')"
       ],
       "metadata": {},
       "output_type": "display_data",
       "text": [
        "<IPython.core.display.Javascript at 0x1150daf10>"
       ]
      },
      {
       "javascript": [
        "$('div#0e548102-2078-49f8-a3cc-90a0dc910b94').width('50%')"
       ],
       "metadata": {},
       "output_type": "display_data",
       "text": [
        "<IPython.core.display.Javascript at 0x1150daf10>"
       ]
      },
      {
       "javascript": [
        "$('div#0e548102-2078-49f8-a3cc-90a0dc910b94').width('51%')"
       ],
       "metadata": {},
       "output_type": "display_data",
       "text": [
        "<IPython.core.display.Javascript at 0x1150daf10>"
       ]
      },
      {
       "javascript": [
        "$('div#0e548102-2078-49f8-a3cc-90a0dc910b94').width('51%')"
       ],
       "metadata": {},
       "output_type": "display_data",
       "text": [
        "<IPython.core.display.Javascript at 0x1150daf10>"
       ]
      },
      {
       "javascript": [
        "$('div#0e548102-2078-49f8-a3cc-90a0dc910b94').width('51%')"
       ],
       "metadata": {},
       "output_type": "display_data",
       "text": [
        "<IPython.core.display.Javascript at 0x1150daf10>"
       ]
      },
      {
       "javascript": [
        "$('div#0e548102-2078-49f8-a3cc-90a0dc910b94').width('52%')"
       ],
       "metadata": {},
       "output_type": "display_data",
       "text": [
        "<IPython.core.display.Javascript at 0x1150daf10>"
       ]
      },
      {
       "javascript": [
        "$('div#0e548102-2078-49f8-a3cc-90a0dc910b94').width('52%')"
       ],
       "metadata": {},
       "output_type": "display_data",
       "text": [
        "<IPython.core.display.Javascript at 0x1150daf10>"
       ]
      },
      {
       "javascript": [
        "$('div#0e548102-2078-49f8-a3cc-90a0dc910b94').width('53%')"
       ],
       "metadata": {},
       "output_type": "display_data",
       "text": [
        "<IPython.core.display.Javascript at 0x1150daf10>"
       ]
      },
      {
       "javascript": [
        "$('div#0e548102-2078-49f8-a3cc-90a0dc910b94').width('53%')"
       ],
       "metadata": {},
       "output_type": "display_data",
       "text": [
        "<IPython.core.display.Javascript at 0x1150daf10>"
       ]
      },
      {
       "javascript": [
        "$('div#0e548102-2078-49f8-a3cc-90a0dc910b94').width('53%')"
       ],
       "metadata": {},
       "output_type": "display_data",
       "text": [
        "<IPython.core.display.Javascript at 0x1150daf10>"
       ]
      },
      {
       "javascript": [
        "$('div#0e548102-2078-49f8-a3cc-90a0dc910b94').width('54%')"
       ],
       "metadata": {},
       "output_type": "display_data",
       "text": [
        "<IPython.core.display.Javascript at 0x1150daf10>"
       ]
      },
      {
       "javascript": [
        "$('div#0e548102-2078-49f8-a3cc-90a0dc910b94').width('54%')"
       ],
       "metadata": {},
       "output_type": "display_data",
       "text": [
        "<IPython.core.display.Javascript at 0x1150daf10>"
       ]
      },
      {
       "javascript": [
        "$('div#0e548102-2078-49f8-a3cc-90a0dc910b94').width('55%')"
       ],
       "metadata": {},
       "output_type": "display_data",
       "text": [
        "<IPython.core.display.Javascript at 0x1150daf10>"
       ]
      },
      {
       "javascript": [
        "$('div#0e548102-2078-49f8-a3cc-90a0dc910b94').width('55%')"
       ],
       "metadata": {},
       "output_type": "display_data",
       "text": [
        "<IPython.core.display.Javascript at 0x1150daf10>"
       ]
      },
      {
       "javascript": [
        "$('div#0e548102-2078-49f8-a3cc-90a0dc910b94').width('55%')"
       ],
       "metadata": {},
       "output_type": "display_data",
       "text": [
        "<IPython.core.display.Javascript at 0x1150daf10>"
       ]
      },
      {
       "javascript": [
        "$('div#0e548102-2078-49f8-a3cc-90a0dc910b94').width('56%')"
       ],
       "metadata": {},
       "output_type": "display_data",
       "text": [
        "<IPython.core.display.Javascript at 0x1150daf10>"
       ]
      },
      {
       "javascript": [
        "$('div#0e548102-2078-49f8-a3cc-90a0dc910b94').width('56%')"
       ],
       "metadata": {},
       "output_type": "display_data",
       "text": [
        "<IPython.core.display.Javascript at 0x1150daf10>"
       ]
      },
      {
       "javascript": [
        "$('div#0e548102-2078-49f8-a3cc-90a0dc910b94').width('57%')"
       ],
       "metadata": {},
       "output_type": "display_data",
       "text": [
        "<IPython.core.display.Javascript at 0x1150daf10>"
       ]
      },
      {
       "javascript": [
        "$('div#0e548102-2078-49f8-a3cc-90a0dc910b94').width('57%')"
       ],
       "metadata": {},
       "output_type": "display_data",
       "text": [
        "<IPython.core.display.Javascript at 0x1150daf10>"
       ]
      },
      {
       "javascript": [
        "$('div#0e548102-2078-49f8-a3cc-90a0dc910b94').width('57%')"
       ],
       "metadata": {},
       "output_type": "display_data",
       "text": [
        "<IPython.core.display.Javascript at 0x1150daf10>"
       ]
      },
      {
       "javascript": [
        "$('div#0e548102-2078-49f8-a3cc-90a0dc910b94').width('58%')"
       ],
       "metadata": {},
       "output_type": "display_data",
       "text": [
        "<IPython.core.display.Javascript at 0x1150daf10>"
       ]
      },
      {
       "javascript": [
        "$('div#0e548102-2078-49f8-a3cc-90a0dc910b94').width('58%')"
       ],
       "metadata": {},
       "output_type": "display_data",
       "text": [
        "<IPython.core.display.Javascript at 0x1150daf10>"
       ]
      },
      {
       "javascript": [
        "$('div#0e548102-2078-49f8-a3cc-90a0dc910b94').width('59%')"
       ],
       "metadata": {},
       "output_type": "display_data",
       "text": [
        "<IPython.core.display.Javascript at 0x1150daf10>"
       ]
      },
      {
       "javascript": [
        "$('div#0e548102-2078-49f8-a3cc-90a0dc910b94').width('59%')"
       ],
       "metadata": {},
       "output_type": "display_data",
       "text": [
        "<IPython.core.display.Javascript at 0x1150daf10>"
       ]
      },
      {
       "javascript": [
        "$('div#0e548102-2078-49f8-a3cc-90a0dc910b94').width('59%')"
       ],
       "metadata": {},
       "output_type": "display_data",
       "text": [
        "<IPython.core.display.Javascript at 0x1150daf10>"
       ]
      },
      {
       "javascript": [
        "$('div#0e548102-2078-49f8-a3cc-90a0dc910b94').width('60%')"
       ],
       "metadata": {},
       "output_type": "display_data",
       "text": [
        "<IPython.core.display.Javascript at 0x1150daf10>"
       ]
      },
      {
       "javascript": [
        "$('div#0e548102-2078-49f8-a3cc-90a0dc910b94').width('60%')"
       ],
       "metadata": {},
       "output_type": "display_data",
       "text": [
        "<IPython.core.display.Javascript at 0x1150daf10>"
       ]
      },
      {
       "javascript": [
        "$('div#0e548102-2078-49f8-a3cc-90a0dc910b94').width('61%')"
       ],
       "metadata": {},
       "output_type": "display_data",
       "text": [
        "<IPython.core.display.Javascript at 0x1150daf10>"
       ]
      },
      {
       "javascript": [
        "$('div#0e548102-2078-49f8-a3cc-90a0dc910b94').width('61%')"
       ],
       "metadata": {},
       "output_type": "display_data",
       "text": [
        "<IPython.core.display.Javascript at 0x1150daf10>"
       ]
      },
      {
       "javascript": [
        "$('div#0e548102-2078-49f8-a3cc-90a0dc910b94').width('61%')"
       ],
       "metadata": {},
       "output_type": "display_data",
       "text": [
        "<IPython.core.display.Javascript at 0x1150daf10>"
       ]
      },
      {
       "javascript": [
        "$('div#0e548102-2078-49f8-a3cc-90a0dc910b94').width('62%')"
       ],
       "metadata": {},
       "output_type": "display_data",
       "text": [
        "<IPython.core.display.Javascript at 0x1150daf10>"
       ]
      },
      {
       "javascript": [
        "$('div#0e548102-2078-49f8-a3cc-90a0dc910b94').width('62%')"
       ],
       "metadata": {},
       "output_type": "display_data",
       "text": [
        "<IPython.core.display.Javascript at 0x1150daf10>"
       ]
      },
      {
       "javascript": [
        "$('div#0e548102-2078-49f8-a3cc-90a0dc910b94').width('63%')"
       ],
       "metadata": {},
       "output_type": "display_data",
       "text": [
        "<IPython.core.display.Javascript at 0x1150daf10>"
       ]
      },
      {
       "javascript": [
        "$('div#0e548102-2078-49f8-a3cc-90a0dc910b94').width('63%')"
       ],
       "metadata": {},
       "output_type": "display_data",
       "text": [
        "<IPython.core.display.Javascript at 0x1150daf10>"
       ]
      },
      {
       "javascript": [
        "$('div#0e548102-2078-49f8-a3cc-90a0dc910b94').width('63%')"
       ],
       "metadata": {},
       "output_type": "display_data",
       "text": [
        "<IPython.core.display.Javascript at 0x1150daf10>"
       ]
      },
      {
       "javascript": [
        "$('div#0e548102-2078-49f8-a3cc-90a0dc910b94').width('64%')"
       ],
       "metadata": {},
       "output_type": "display_data",
       "text": [
        "<IPython.core.display.Javascript at 0x1150daf10>"
       ]
      },
      {
       "javascript": [
        "$('div#0e548102-2078-49f8-a3cc-90a0dc910b94').width('64%')"
       ],
       "metadata": {},
       "output_type": "display_data",
       "text": [
        "<IPython.core.display.Javascript at 0x1150daf10>"
       ]
      },
      {
       "javascript": [
        "$('div#0e548102-2078-49f8-a3cc-90a0dc910b94').width('65%')"
       ],
       "metadata": {},
       "output_type": "display_data",
       "text": [
        "<IPython.core.display.Javascript at 0x1150daf10>"
       ]
      },
      {
       "javascript": [
        "$('div#0e548102-2078-49f8-a3cc-90a0dc910b94').width('65%')"
       ],
       "metadata": {},
       "output_type": "display_data",
       "text": [
        "<IPython.core.display.Javascript at 0x1150daf10>"
       ]
      },
      {
       "javascript": [
        "$('div#0e548102-2078-49f8-a3cc-90a0dc910b94').width('65%')"
       ],
       "metadata": {},
       "output_type": "display_data",
       "text": [
        "<IPython.core.display.Javascript at 0x1150daf10>"
       ]
      },
      {
       "javascript": [
        "$('div#0e548102-2078-49f8-a3cc-90a0dc910b94').width('66%')"
       ],
       "metadata": {},
       "output_type": "display_data",
       "text": [
        "<IPython.core.display.Javascript at 0x1150daf10>"
       ]
      },
      {
       "javascript": [
        "$('div#0e548102-2078-49f8-a3cc-90a0dc910b94').width('66%')"
       ],
       "metadata": {},
       "output_type": "display_data",
       "text": [
        "<IPython.core.display.Javascript at 0x1150daf10>"
       ]
      },
      {
       "javascript": [
        "$('div#0e548102-2078-49f8-a3cc-90a0dc910b94').width('67%')"
       ],
       "metadata": {},
       "output_type": "display_data",
       "text": [
        "<IPython.core.display.Javascript at 0x1150daf10>"
       ]
      },
      {
       "javascript": [
        "$('div#0e548102-2078-49f8-a3cc-90a0dc910b94').width('67%')"
       ],
       "metadata": {},
       "output_type": "display_data",
       "text": [
        "<IPython.core.display.Javascript at 0x1150daf10>"
       ]
      },
      {
       "javascript": [
        "$('div#0e548102-2078-49f8-a3cc-90a0dc910b94').width('67%')"
       ],
       "metadata": {},
       "output_type": "display_data",
       "text": [
        "<IPython.core.display.Javascript at 0x1150daf10>"
       ]
      },
      {
       "javascript": [
        "$('div#0e548102-2078-49f8-a3cc-90a0dc910b94').width('68%')"
       ],
       "metadata": {},
       "output_type": "display_data",
       "text": [
        "<IPython.core.display.Javascript at 0x1150daf10>"
       ]
      },
      {
       "javascript": [
        "$('div#0e548102-2078-49f8-a3cc-90a0dc910b94').width('68%')"
       ],
       "metadata": {},
       "output_type": "display_data",
       "text": [
        "<IPython.core.display.Javascript at 0x1150daf10>"
       ]
      },
      {
       "javascript": [
        "$('div#0e548102-2078-49f8-a3cc-90a0dc910b94').width('69%')"
       ],
       "metadata": {},
       "output_type": "display_data",
       "text": [
        "<IPython.core.display.Javascript at 0x1150daf10>"
       ]
      },
      {
       "javascript": [
        "$('div#0e548102-2078-49f8-a3cc-90a0dc910b94').width('69%')"
       ],
       "metadata": {},
       "output_type": "display_data",
       "text": [
        "<IPython.core.display.Javascript at 0x1150daf10>"
       ]
      },
      {
       "javascript": [
        "$('div#0e548102-2078-49f8-a3cc-90a0dc910b94').width('69%')"
       ],
       "metadata": {},
       "output_type": "display_data",
       "text": [
        "<IPython.core.display.Javascript at 0x1150daf10>"
       ]
      },
      {
       "javascript": [
        "$('div#0e548102-2078-49f8-a3cc-90a0dc910b94').width('70%')"
       ],
       "metadata": {},
       "output_type": "display_data",
       "text": [
        "<IPython.core.display.Javascript at 0x1150daf10>"
       ]
      },
      {
       "javascript": [
        "$('div#0e548102-2078-49f8-a3cc-90a0dc910b94').width('70%')"
       ],
       "metadata": {},
       "output_type": "display_data",
       "text": [
        "<IPython.core.display.Javascript at 0x1150daf10>"
       ]
      },
      {
       "javascript": [
        "$('div#0e548102-2078-49f8-a3cc-90a0dc910b94').width('71%')"
       ],
       "metadata": {},
       "output_type": "display_data",
       "text": [
        "<IPython.core.display.Javascript at 0x1150daf10>"
       ]
      },
      {
       "javascript": [
        "$('div#0e548102-2078-49f8-a3cc-90a0dc910b94').width('71%')"
       ],
       "metadata": {},
       "output_type": "display_data",
       "text": [
        "<IPython.core.display.Javascript at 0x1150daf10>"
       ]
      },
      {
       "javascript": [
        "$('div#0e548102-2078-49f8-a3cc-90a0dc910b94').width('71%')"
       ],
       "metadata": {},
       "output_type": "display_data",
       "text": [
        "<IPython.core.display.Javascript at 0x1150daf10>"
       ]
      },
      {
       "javascript": [
        "$('div#0e548102-2078-49f8-a3cc-90a0dc910b94').width('72%')"
       ],
       "metadata": {},
       "output_type": "display_data",
       "text": [
        "<IPython.core.display.Javascript at 0x1150daf10>"
       ]
      },
      {
       "javascript": [
        "$('div#0e548102-2078-49f8-a3cc-90a0dc910b94').width('72%')"
       ],
       "metadata": {},
       "output_type": "display_data",
       "text": [
        "<IPython.core.display.Javascript at 0x1150daf10>"
       ]
      },
      {
       "javascript": [
        "$('div#0e548102-2078-49f8-a3cc-90a0dc910b94').width('73%')"
       ],
       "metadata": {},
       "output_type": "display_data",
       "text": [
        "<IPython.core.display.Javascript at 0x1150daf10>"
       ]
      },
      {
       "javascript": [
        "$('div#0e548102-2078-49f8-a3cc-90a0dc910b94').width('73%')"
       ],
       "metadata": {},
       "output_type": "display_data",
       "text": [
        "<IPython.core.display.Javascript at 0x1150daf10>"
       ]
      },
      {
       "javascript": [
        "$('div#0e548102-2078-49f8-a3cc-90a0dc910b94').width('73%')"
       ],
       "metadata": {},
       "output_type": "display_data",
       "text": [
        "<IPython.core.display.Javascript at 0x1150daf10>"
       ]
      },
      {
       "javascript": [
        "$('div#0e548102-2078-49f8-a3cc-90a0dc910b94').width('74%')"
       ],
       "metadata": {},
       "output_type": "display_data",
       "text": [
        "<IPython.core.display.Javascript at 0x1150daf10>"
       ]
      },
      {
       "javascript": [
        "$('div#0e548102-2078-49f8-a3cc-90a0dc910b94').width('74%')"
       ],
       "metadata": {},
       "output_type": "display_data",
       "text": [
        "<IPython.core.display.Javascript at 0x1150daf10>"
       ]
      },
      {
       "javascript": [
        "$('div#0e548102-2078-49f8-a3cc-90a0dc910b94').width('75%')"
       ],
       "metadata": {},
       "output_type": "display_data",
       "text": [
        "<IPython.core.display.Javascript at 0x1150daf10>"
       ]
      },
      {
       "javascript": [
        "$('div#0e548102-2078-49f8-a3cc-90a0dc910b94').width('75%')"
       ],
       "metadata": {},
       "output_type": "display_data",
       "text": [
        "<IPython.core.display.Javascript at 0x1150daf10>"
       ]
      },
      {
       "javascript": [
        "$('div#0e548102-2078-49f8-a3cc-90a0dc910b94').width('75%')"
       ],
       "metadata": {},
       "output_type": "display_data",
       "text": [
        "<IPython.core.display.Javascript at 0x1150daf10>"
       ]
      },
      {
       "javascript": [
        "$('div#0e548102-2078-49f8-a3cc-90a0dc910b94').width('76%')"
       ],
       "metadata": {},
       "output_type": "display_data",
       "text": [
        "<IPython.core.display.Javascript at 0x1150daf10>"
       ]
      },
      {
       "javascript": [
        "$('div#0e548102-2078-49f8-a3cc-90a0dc910b94').width('76%')"
       ],
       "metadata": {},
       "output_type": "display_data",
       "text": [
        "<IPython.core.display.Javascript at 0x1150daf10>"
       ]
      },
      {
       "javascript": [
        "$('div#0e548102-2078-49f8-a3cc-90a0dc910b94').width('76%')"
       ],
       "metadata": {},
       "output_type": "display_data",
       "text": [
        "<IPython.core.display.Javascript at 0x1150daf10>"
       ]
      },
      {
       "javascript": [
        "$('div#0e548102-2078-49f8-a3cc-90a0dc910b94').width('77%')"
       ],
       "metadata": {},
       "output_type": "display_data",
       "text": [
        "<IPython.core.display.Javascript at 0x1150daf10>"
       ]
      },
      {
       "javascript": [
        "$('div#0e548102-2078-49f8-a3cc-90a0dc910b94').width('77%')"
       ],
       "metadata": {},
       "output_type": "display_data",
       "text": [
        "<IPython.core.display.Javascript at 0x1150daf10>"
       ]
      },
      {
       "javascript": [
        "$('div#0e548102-2078-49f8-a3cc-90a0dc910b94').width('78%')"
       ],
       "metadata": {},
       "output_type": "display_data",
       "text": [
        "<IPython.core.display.Javascript at 0x1150daf10>"
       ]
      },
      {
       "javascript": [
        "$('div#0e548102-2078-49f8-a3cc-90a0dc910b94').width('78%')"
       ],
       "metadata": {},
       "output_type": "display_data",
       "text": [
        "<IPython.core.display.Javascript at 0x1150daf10>"
       ]
      },
      {
       "javascript": [
        "$('div#0e548102-2078-49f8-a3cc-90a0dc910b94').width('78%')"
       ],
       "metadata": {},
       "output_type": "display_data",
       "text": [
        "<IPython.core.display.Javascript at 0x1150daf10>"
       ]
      },
      {
       "javascript": [
        "$('div#0e548102-2078-49f8-a3cc-90a0dc910b94').width('79%')"
       ],
       "metadata": {},
       "output_type": "display_data",
       "text": [
        "<IPython.core.display.Javascript at 0x1150daf10>"
       ]
      },
      {
       "javascript": [
        "$('div#0e548102-2078-49f8-a3cc-90a0dc910b94').width('79%')"
       ],
       "metadata": {},
       "output_type": "display_data",
       "text": [
        "<IPython.core.display.Javascript at 0x1150daf10>"
       ]
      },
      {
       "javascript": [
        "$('div#0e548102-2078-49f8-a3cc-90a0dc910b94').width('80%')"
       ],
       "metadata": {},
       "output_type": "display_data",
       "text": [
        "<IPython.core.display.Javascript at 0x1150daf10>"
       ]
      },
      {
       "javascript": [
        "$('div#0e548102-2078-49f8-a3cc-90a0dc910b94').width('80%')"
       ],
       "metadata": {},
       "output_type": "display_data",
       "text": [
        "<IPython.core.display.Javascript at 0x1150daf10>"
       ]
      },
      {
       "javascript": [
        "$('div#0e548102-2078-49f8-a3cc-90a0dc910b94').width('80%')"
       ],
       "metadata": {},
       "output_type": "display_data",
       "text": [
        "<IPython.core.display.Javascript at 0x1150daf10>"
       ]
      },
      {
       "javascript": [
        "$('div#0e548102-2078-49f8-a3cc-90a0dc910b94').width('81%')"
       ],
       "metadata": {},
       "output_type": "display_data",
       "text": [
        "<IPython.core.display.Javascript at 0x1150daf10>"
       ]
      },
      {
       "javascript": [
        "$('div#0e548102-2078-49f8-a3cc-90a0dc910b94').width('81%')"
       ],
       "metadata": {},
       "output_type": "display_data",
       "text": [
        "<IPython.core.display.Javascript at 0x1150daf10>"
       ]
      },
      {
       "javascript": [
        "$('div#0e548102-2078-49f8-a3cc-90a0dc910b94').width('82%')"
       ],
       "metadata": {},
       "output_type": "display_data",
       "text": [
        "<IPython.core.display.Javascript at 0x1150daf10>"
       ]
      },
      {
       "javascript": [
        "$('div#0e548102-2078-49f8-a3cc-90a0dc910b94').width('82%')"
       ],
       "metadata": {},
       "output_type": "display_data",
       "text": [
        "<IPython.core.display.Javascript at 0x1150daf10>"
       ]
      },
      {
       "javascript": [
        "$('div#0e548102-2078-49f8-a3cc-90a0dc910b94').width('82%')"
       ],
       "metadata": {},
       "output_type": "display_data",
       "text": [
        "<IPython.core.display.Javascript at 0x1150daf10>"
       ]
      },
      {
       "javascript": [
        "$('div#0e548102-2078-49f8-a3cc-90a0dc910b94').width('83%')"
       ],
       "metadata": {},
       "output_type": "display_data",
       "text": [
        "<IPython.core.display.Javascript at 0x1150daf10>"
       ]
      },
      {
       "javascript": [
        "$('div#0e548102-2078-49f8-a3cc-90a0dc910b94').width('83%')"
       ],
       "metadata": {},
       "output_type": "display_data",
       "text": [
        "<IPython.core.display.Javascript at 0x1150daf10>"
       ]
      },
      {
       "javascript": [
        "$('div#0e548102-2078-49f8-a3cc-90a0dc910b94').width('84%')"
       ],
       "metadata": {},
       "output_type": "display_data",
       "text": [
        "<IPython.core.display.Javascript at 0x1150daf10>"
       ]
      },
      {
       "javascript": [
        "$('div#0e548102-2078-49f8-a3cc-90a0dc910b94').width('84%')"
       ],
       "metadata": {},
       "output_type": "display_data",
       "text": [
        "<IPython.core.display.Javascript at 0x1150daf10>"
       ]
      },
      {
       "javascript": [
        "$('div#0e548102-2078-49f8-a3cc-90a0dc910b94').width('84%')"
       ],
       "metadata": {},
       "output_type": "display_data",
       "text": [
        "<IPython.core.display.Javascript at 0x1150daf10>"
       ]
      },
      {
       "javascript": [
        "$('div#0e548102-2078-49f8-a3cc-90a0dc910b94').width('85%')"
       ],
       "metadata": {},
       "output_type": "display_data",
       "text": [
        "<IPython.core.display.Javascript at 0x1150daf10>"
       ]
      },
      {
       "javascript": [
        "$('div#0e548102-2078-49f8-a3cc-90a0dc910b94').width('85%')"
       ],
       "metadata": {},
       "output_type": "display_data",
       "text": [
        "<IPython.core.display.Javascript at 0x1150daf10>"
       ]
      },
      {
       "javascript": [
        "$('div#0e548102-2078-49f8-a3cc-90a0dc910b94').width('86%')"
       ],
       "metadata": {},
       "output_type": "display_data",
       "text": [
        "<IPython.core.display.Javascript at 0x1150daf10>"
       ]
      },
      {
       "javascript": [
        "$('div#0e548102-2078-49f8-a3cc-90a0dc910b94').width('86%')"
       ],
       "metadata": {},
       "output_type": "display_data",
       "text": [
        "<IPython.core.display.Javascript at 0x1150daf10>"
       ]
      },
      {
       "javascript": [
        "$('div#0e548102-2078-49f8-a3cc-90a0dc910b94').width('86%')"
       ],
       "metadata": {},
       "output_type": "display_data",
       "text": [
        "<IPython.core.display.Javascript at 0x1150daf10>"
       ]
      },
      {
       "javascript": [
        "$('div#0e548102-2078-49f8-a3cc-90a0dc910b94').width('87%')"
       ],
       "metadata": {},
       "output_type": "display_data",
       "text": [
        "<IPython.core.display.Javascript at 0x1150daf10>"
       ]
      },
      {
       "javascript": [
        "$('div#0e548102-2078-49f8-a3cc-90a0dc910b94').width('87%')"
       ],
       "metadata": {},
       "output_type": "display_data",
       "text": [
        "<IPython.core.display.Javascript at 0x1150daf10>"
       ]
      },
      {
       "javascript": [
        "$('div#0e548102-2078-49f8-a3cc-90a0dc910b94').width('88%')"
       ],
       "metadata": {},
       "output_type": "display_data",
       "text": [
        "<IPython.core.display.Javascript at 0x1150daf10>"
       ]
      },
      {
       "javascript": [
        "$('div#0e548102-2078-49f8-a3cc-90a0dc910b94').width('88%')"
       ],
       "metadata": {},
       "output_type": "display_data",
       "text": [
        "<IPython.core.display.Javascript at 0x1150daf10>"
       ]
      },
      {
       "javascript": [
        "$('div#0e548102-2078-49f8-a3cc-90a0dc910b94').width('88%')"
       ],
       "metadata": {},
       "output_type": "display_data",
       "text": [
        "<IPython.core.display.Javascript at 0x1150daf10>"
       ]
      },
      {
       "javascript": [
        "$('div#0e548102-2078-49f8-a3cc-90a0dc910b94').width('89%')"
       ],
       "metadata": {},
       "output_type": "display_data",
       "text": [
        "<IPython.core.display.Javascript at 0x1150daf10>"
       ]
      },
      {
       "javascript": [
        "$('div#0e548102-2078-49f8-a3cc-90a0dc910b94').width('89%')"
       ],
       "metadata": {},
       "output_type": "display_data",
       "text": [
        "<IPython.core.display.Javascript at 0x1150daf10>"
       ]
      },
      {
       "javascript": [
        "$('div#0e548102-2078-49f8-a3cc-90a0dc910b94').width('90%')"
       ],
       "metadata": {},
       "output_type": "display_data",
       "text": [
        "<IPython.core.display.Javascript at 0x1150daf10>"
       ]
      },
      {
       "javascript": [
        "$('div#0e548102-2078-49f8-a3cc-90a0dc910b94').width('90%')"
       ],
       "metadata": {},
       "output_type": "display_data",
       "text": [
        "<IPython.core.display.Javascript at 0x1150daf10>"
       ]
      },
      {
       "javascript": [
        "$('div#0e548102-2078-49f8-a3cc-90a0dc910b94').width('90%')"
       ],
       "metadata": {},
       "output_type": "display_data",
       "text": [
        "<IPython.core.display.Javascript at 0x1150daf10>"
       ]
      },
      {
       "javascript": [
        "$('div#0e548102-2078-49f8-a3cc-90a0dc910b94').width('91%')"
       ],
       "metadata": {},
       "output_type": "display_data",
       "text": [
        "<IPython.core.display.Javascript at 0x1150daf10>"
       ]
      },
      {
       "javascript": [
        "$('div#0e548102-2078-49f8-a3cc-90a0dc910b94').width('91%')"
       ],
       "metadata": {},
       "output_type": "display_data",
       "text": [
        "<IPython.core.display.Javascript at 0x1150daf10>"
       ]
      },
      {
       "javascript": [
        "$('div#0e548102-2078-49f8-a3cc-90a0dc910b94').width('92%')"
       ],
       "metadata": {},
       "output_type": "display_data",
       "text": [
        "<IPython.core.display.Javascript at 0x1150daf10>"
       ]
      },
      {
       "javascript": [
        "$('div#0e548102-2078-49f8-a3cc-90a0dc910b94').width('92%')"
       ],
       "metadata": {},
       "output_type": "display_data",
       "text": [
        "<IPython.core.display.Javascript at 0x1150daf10>"
       ]
      },
      {
       "javascript": [
        "$('div#0e548102-2078-49f8-a3cc-90a0dc910b94').width('92%')"
       ],
       "metadata": {},
       "output_type": "display_data",
       "text": [
        "<IPython.core.display.Javascript at 0x1150daf10>"
       ]
      },
      {
       "javascript": [
        "$('div#0e548102-2078-49f8-a3cc-90a0dc910b94').width('93%')"
       ],
       "metadata": {},
       "output_type": "display_data",
       "text": [
        "<IPython.core.display.Javascript at 0x1150daf10>"
       ]
      },
      {
       "javascript": [
        "$('div#0e548102-2078-49f8-a3cc-90a0dc910b94').width('93%')"
       ],
       "metadata": {},
       "output_type": "display_data",
       "text": [
        "<IPython.core.display.Javascript at 0x1150daf10>"
       ]
      },
      {
       "javascript": [
        "$('div#0e548102-2078-49f8-a3cc-90a0dc910b94').width('94%')"
       ],
       "metadata": {},
       "output_type": "display_data",
       "text": [
        "<IPython.core.display.Javascript at 0x1150daf10>"
       ]
      },
      {
       "javascript": [
        "$('div#0e548102-2078-49f8-a3cc-90a0dc910b94').width('94%')"
       ],
       "metadata": {},
       "output_type": "display_data",
       "text": [
        "<IPython.core.display.Javascript at 0x1150daf10>"
       ]
      },
      {
       "javascript": [
        "$('div#0e548102-2078-49f8-a3cc-90a0dc910b94').width('94%')"
       ],
       "metadata": {},
       "output_type": "display_data",
       "text": [
        "<IPython.core.display.Javascript at 0x1150daf10>"
       ]
      },
      {
       "javascript": [
        "$('div#0e548102-2078-49f8-a3cc-90a0dc910b94').width('95%')"
       ],
       "metadata": {},
       "output_type": "display_data",
       "text": [
        "<IPython.core.display.Javascript at 0x1150daf10>"
       ]
      },
      {
       "javascript": [
        "$('div#0e548102-2078-49f8-a3cc-90a0dc910b94').width('95%')"
       ],
       "metadata": {},
       "output_type": "display_data",
       "text": [
        "<IPython.core.display.Javascript at 0x1150daf10>"
       ]
      },
      {
       "javascript": [
        "$('div#0e548102-2078-49f8-a3cc-90a0dc910b94').width('96%')"
       ],
       "metadata": {},
       "output_type": "display_data",
       "text": [
        "<IPython.core.display.Javascript at 0x1150daf10>"
       ]
      },
      {
       "javascript": [
        "$('div#0e548102-2078-49f8-a3cc-90a0dc910b94').width('96%')"
       ],
       "metadata": {},
       "output_type": "display_data",
       "text": [
        "<IPython.core.display.Javascript at 0x1150daf10>"
       ]
      },
      {
       "javascript": [
        "$('div#0e548102-2078-49f8-a3cc-90a0dc910b94').width('96%')"
       ],
       "metadata": {},
       "output_type": "display_data",
       "text": [
        "<IPython.core.display.Javascript at 0x1150daf10>"
       ]
      },
      {
       "javascript": [
        "$('div#0e548102-2078-49f8-a3cc-90a0dc910b94').width('97%')"
       ],
       "metadata": {},
       "output_type": "display_data",
       "text": [
        "<IPython.core.display.Javascript at 0x1150daf10>"
       ]
      },
      {
       "javascript": [
        "$('div#0e548102-2078-49f8-a3cc-90a0dc910b94').width('97%')"
       ],
       "metadata": {},
       "output_type": "display_data",
       "text": [
        "<IPython.core.display.Javascript at 0x1150daf10>"
       ]
      },
      {
       "javascript": [
        "$('div#0e548102-2078-49f8-a3cc-90a0dc910b94').width('98%')"
       ],
       "metadata": {},
       "output_type": "display_data",
       "text": [
        "<IPython.core.display.Javascript at 0x1150daf10>"
       ]
      },
      {
       "javascript": [
        "$('div#0e548102-2078-49f8-a3cc-90a0dc910b94').width('98%')"
       ],
       "metadata": {},
       "output_type": "display_data",
       "text": [
        "<IPython.core.display.Javascript at 0x1150daf10>"
       ]
      },
      {
       "javascript": [
        "$('div#0e548102-2078-49f8-a3cc-90a0dc910b94').width('98%')"
       ],
       "metadata": {},
       "output_type": "display_data",
       "text": [
        "<IPython.core.display.Javascript at 0x1150daf10>"
       ]
      },
      {
       "javascript": [
        "$('div#0e548102-2078-49f8-a3cc-90a0dc910b94').width('99%')"
       ],
       "metadata": {},
       "output_type": "display_data",
       "text": [
        "<IPython.core.display.Javascript at 0x1150daf10>"
       ]
      },
      {
       "javascript": [
        "$('div#0e548102-2078-49f8-a3cc-90a0dc910b94').width('99%')"
       ],
       "metadata": {},
       "output_type": "display_data",
       "text": [
        "<IPython.core.display.Javascript at 0x1150daf10>"
       ]
      },
      {
       "javascript": [
        "$('div#0e548102-2078-49f8-a3cc-90a0dc910b94').width('100%')"
       ],
       "metadata": {},
       "output_type": "display_data",
       "text": [
        "<IPython.core.display.Javascript at 0x1150daf10>"
       ]
      },
      {
       "html": [
        "<iframe src=http://127.0.0.1:8001/6862546 width=100%% height=420 frameborder=0></iframe>"
       ],
       "metadata": {},
       "output_type": "pyout",
       "prompt_number": 3,
       "text": [
        "<DisplayNode.DisplayNodeProxy.DisplayNode instance at 0x10e5957e8>"
       ]
      }
     ],
     "prompt_number": 3
    },
    {
     "cell_type": "code",
     "collapsed": false,
     "input": [
      "# Display dynamic measurements: \n",
      "SCAN.display_measurements(scale=2) "
     ],
     "language": "python",
     "metadata": {},
     "outputs": [
      {
       "html": [
        "\n",
        "        <div style=\"border: 1px solid white; width:100%%; height:6px; background-color:rgb(246,246,246)\">\n",
        "            <div id=\"bbb6d603-8e1a-494e-b485-11e180220989\" style=\"background-color:rgb(200,200,200); width:0%; height:6px\"> </div>\n",
        "        </div> \n",
        "        "
       ],
       "metadata": {},
       "output_type": "display_data",
       "text": [
        "<IPython.core.display.HTML at 0x10e597410>"
       ]
      },
      {
       "javascript": [
        "$('div#bbb6d603-8e1a-494e-b485-11e180220989').width('1%')"
       ],
       "metadata": {},
       "output_type": "display_data",
       "text": [
        "<IPython.core.display.Javascript at 0x1150daf10>"
       ]
      },
      {
       "javascript": [
        "$('div#bbb6d603-8e1a-494e-b485-11e180220989').width('2%')"
       ],
       "metadata": {},
       "output_type": "display_data",
       "text": [
        "<IPython.core.display.Javascript at 0x10e597290>"
       ]
      },
      {
       "javascript": [
        "$('div#bbb6d603-8e1a-494e-b485-11e180220989').width('4%')"
       ],
       "metadata": {},
       "output_type": "display_data",
       "text": [
        "<IPython.core.display.Javascript at 0x1150daf10>"
       ]
      },
      {
       "javascript": [
        "$('div#bbb6d603-8e1a-494e-b485-11e180220989').width('6%')"
       ],
       "metadata": {},
       "output_type": "display_data",
       "text": [
        "<IPython.core.display.Javascript at 0x10e597290>"
       ]
      },
      {
       "javascript": [
        "$('div#bbb6d603-8e1a-494e-b485-11e180220989').width('8%')"
       ],
       "metadata": {},
       "output_type": "display_data",
       "text": [
        "<IPython.core.display.Javascript at 0x1150daf10>"
       ]
      },
      {
       "javascript": [
        "$('div#bbb6d603-8e1a-494e-b485-11e180220989').width('10%')"
       ],
       "metadata": {},
       "output_type": "display_data",
       "text": [
        "<IPython.core.display.Javascript at 0x10e597290>"
       ]
      },
      {
       "javascript": [
        "$('div#bbb6d603-8e1a-494e-b485-11e180220989').width('12%')"
       ],
       "metadata": {},
       "output_type": "display_data",
       "text": [
        "<IPython.core.display.Javascript at 0x1150daf10>"
       ]
      },
      {
       "javascript": [
        "$('div#bbb6d603-8e1a-494e-b485-11e180220989').width('14%')"
       ],
       "metadata": {},
       "output_type": "display_data",
       "text": [
        "<IPython.core.display.Javascript at 0x10e597290>"
       ]
      },
      {
       "javascript": [
        "$('div#bbb6d603-8e1a-494e-b485-11e180220989').width('16%')"
       ],
       "metadata": {},
       "output_type": "display_data",
       "text": [
        "<IPython.core.display.Javascript at 0x1150daf10>"
       ]
      },
      {
       "javascript": [
        "$('div#bbb6d603-8e1a-494e-b485-11e180220989').width('18%')"
       ],
       "metadata": {},
       "output_type": "display_data",
       "text": [
        "<IPython.core.display.Javascript at 0x10e597290>"
       ]
      },
      {
       "javascript": [
        "$('div#bbb6d603-8e1a-494e-b485-11e180220989').width('20%')"
       ],
       "metadata": {},
       "output_type": "display_data",
       "text": [
        "<IPython.core.display.Javascript at 0x1150daf10>"
       ]
      },
      {
       "javascript": [
        "$('div#bbb6d603-8e1a-494e-b485-11e180220989').width('22%')"
       ],
       "metadata": {},
       "output_type": "display_data",
       "text": [
        "<IPython.core.display.Javascript at 0x10e597290>"
       ]
      },
      {
       "javascript": [
        "$('div#bbb6d603-8e1a-494e-b485-11e180220989').width('24%')"
       ],
       "metadata": {},
       "output_type": "display_data",
       "text": [
        "<IPython.core.display.Javascript at 0x1150daf10>"
       ]
      },
      {
       "javascript": [
        "$('div#bbb6d603-8e1a-494e-b485-11e180220989').width('26%')"
       ],
       "metadata": {},
       "output_type": "display_data",
       "text": [
        "<IPython.core.display.Javascript at 0x10e597290>"
       ]
      },
      {
       "javascript": [
        "$('div#bbb6d603-8e1a-494e-b485-11e180220989').width('28%')"
       ],
       "metadata": {},
       "output_type": "display_data",
       "text": [
        "<IPython.core.display.Javascript at 0x1150daf10>"
       ]
      },
      {
       "javascript": [
        "$('div#bbb6d603-8e1a-494e-b485-11e180220989').width('30%')"
       ],
       "metadata": {},
       "output_type": "display_data",
       "text": [
        "<IPython.core.display.Javascript at 0x10e597290>"
       ]
      },
      {
       "javascript": [
        "$('div#bbb6d603-8e1a-494e-b485-11e180220989').width('32%')"
       ],
       "metadata": {},
       "output_type": "display_data",
       "text": [
        "<IPython.core.display.Javascript at 0x1150daf10>"
       ]
      },
      {
       "javascript": [
        "$('div#bbb6d603-8e1a-494e-b485-11e180220989').width('34%')"
       ],
       "metadata": {},
       "output_type": "display_data",
       "text": [
        "<IPython.core.display.Javascript at 0x10e597290>"
       ]
      },
      {
       "javascript": [
        "$('div#bbb6d603-8e1a-494e-b485-11e180220989').width('36%')"
       ],
       "metadata": {},
       "output_type": "display_data",
       "text": [
        "<IPython.core.display.Javascript at 0x1150daf10>"
       ]
      },
      {
       "javascript": [
        "$('div#bbb6d603-8e1a-494e-b485-11e180220989').width('38%')"
       ],
       "metadata": {},
       "output_type": "display_data",
       "text": [
        "<IPython.core.display.Javascript at 0x10e597290>"
       ]
      },
      {
       "javascript": [
        "$('div#bbb6d603-8e1a-494e-b485-11e180220989').width('40%')"
       ],
       "metadata": {},
       "output_type": "display_data",
       "text": [
        "<IPython.core.display.Javascript at 0x1150daf10>"
       ]
      },
      {
       "javascript": [
        "$('div#bbb6d603-8e1a-494e-b485-11e180220989').width('42%')"
       ],
       "metadata": {},
       "output_type": "display_data",
       "text": [
        "<IPython.core.display.Javascript at 0x10e597290>"
       ]
      },
      {
       "javascript": [
        "$('div#bbb6d603-8e1a-494e-b485-11e180220989').width('44%')"
       ],
       "metadata": {},
       "output_type": "display_data",
       "text": [
        "<IPython.core.display.Javascript at 0x1150daf10>"
       ]
      },
      {
       "javascript": [
        "$('div#bbb6d603-8e1a-494e-b485-11e180220989').width('46%')"
       ],
       "metadata": {},
       "output_type": "display_data",
       "text": [
        "<IPython.core.display.Javascript at 0x10e597290>"
       ]
      },
      {
       "javascript": [
        "$('div#bbb6d603-8e1a-494e-b485-11e180220989').width('48%')"
       ],
       "metadata": {},
       "output_type": "display_data",
       "text": [
        "<IPython.core.display.Javascript at 0x1150daf10>"
       ]
      },
      {
       "javascript": [
        "$('div#bbb6d603-8e1a-494e-b485-11e180220989').width('50%')"
       ],
       "metadata": {},
       "output_type": "display_data",
       "text": [
        "<IPython.core.display.Javascript at 0x10e597290>"
       ]
      },
      {
       "javascript": [
        "$('div#bbb6d603-8e1a-494e-b485-11e180220989').width('52%')"
       ],
       "metadata": {},
       "output_type": "display_data",
       "text": [
        "<IPython.core.display.Javascript at 0x1150daf10>"
       ]
      },
      {
       "javascript": [
        "$('div#bbb6d603-8e1a-494e-b485-11e180220989').width('54%')"
       ],
       "metadata": {},
       "output_type": "display_data",
       "text": [
        "<IPython.core.display.Javascript at 0x10e597290>"
       ]
      },
      {
       "javascript": [
        "$('div#bbb6d603-8e1a-494e-b485-11e180220989').width('56%')"
       ],
       "metadata": {},
       "output_type": "display_data",
       "text": [
        "<IPython.core.display.Javascript at 0x1150daf10>"
       ]
      },
      {
       "javascript": [
        "$('div#bbb6d603-8e1a-494e-b485-11e180220989').width('58%')"
       ],
       "metadata": {},
       "output_type": "display_data",
       "text": [
        "<IPython.core.display.Javascript at 0x10e597290>"
       ]
      },
      {
       "javascript": [
        "$('div#bbb6d603-8e1a-494e-b485-11e180220989').width('60%')"
       ],
       "metadata": {},
       "output_type": "display_data",
       "text": [
        "<IPython.core.display.Javascript at 0x1150daf10>"
       ]
      },
      {
       "javascript": [
        "$('div#bbb6d603-8e1a-494e-b485-11e180220989').width('62%')"
       ],
       "metadata": {},
       "output_type": "display_data",
       "text": [
        "<IPython.core.display.Javascript at 0x10e597290>"
       ]
      },
      {
       "javascript": [
        "$('div#bbb6d603-8e1a-494e-b485-11e180220989').width('64%')"
       ],
       "metadata": {},
       "output_type": "display_data",
       "text": [
        "<IPython.core.display.Javascript at 0x1150daf10>"
       ]
      },
      {
       "javascript": [
        "$('div#bbb6d603-8e1a-494e-b485-11e180220989').width('66%')"
       ],
       "metadata": {},
       "output_type": "display_data",
       "text": [
        "<IPython.core.display.Javascript at 0x10e597290>"
       ]
      },
      {
       "javascript": [
        "$('div#bbb6d603-8e1a-494e-b485-11e180220989').width('68%')"
       ],
       "metadata": {},
       "output_type": "display_data",
       "text": [
        "<IPython.core.display.Javascript at 0x1150daf10>"
       ]
      },
      {
       "javascript": [
        "$('div#bbb6d603-8e1a-494e-b485-11e180220989').width('70%')"
       ],
       "metadata": {},
       "output_type": "display_data",
       "text": [
        "<IPython.core.display.Javascript at 0x10e597290>"
       ]
      },
      {
       "javascript": [
        "$('div#bbb6d603-8e1a-494e-b485-11e180220989').width('72%')"
       ],
       "metadata": {},
       "output_type": "display_data",
       "text": [
        "<IPython.core.display.Javascript at 0x1150daf10>"
       ]
      },
      {
       "javascript": [
        "$('div#bbb6d603-8e1a-494e-b485-11e180220989').width('74%')"
       ],
       "metadata": {},
       "output_type": "display_data",
       "text": [
        "<IPython.core.display.Javascript at 0x10e597290>"
       ]
      },
      {
       "javascript": [
        "$('div#bbb6d603-8e1a-494e-b485-11e180220989').width('76%')"
       ],
       "metadata": {},
       "output_type": "display_data",
       "text": [
        "<IPython.core.display.Javascript at 0x1150daf10>"
       ]
      },
      {
       "javascript": [
        "$('div#bbb6d603-8e1a-494e-b485-11e180220989').width('78%')"
       ],
       "metadata": {},
       "output_type": "display_data",
       "text": [
        "<IPython.core.display.Javascript at 0x10e597290>"
       ]
      },
      {
       "javascript": [
        "$('div#bbb6d603-8e1a-494e-b485-11e180220989').width('80%')"
       ],
       "metadata": {},
       "output_type": "display_data",
       "text": [
        "<IPython.core.display.Javascript at 0x1150daf10>"
       ]
      },
      {
       "javascript": [
        "$('div#bbb6d603-8e1a-494e-b485-11e180220989').width('82%')"
       ],
       "metadata": {},
       "output_type": "display_data",
       "text": [
        "<IPython.core.display.Javascript at 0x10e597290>"
       ]
      },
      {
       "javascript": [
        "$('div#bbb6d603-8e1a-494e-b485-11e180220989').width('84%')"
       ],
       "metadata": {},
       "output_type": "display_data",
       "text": [
        "<IPython.core.display.Javascript at 0x1150daf10>"
       ]
      },
      {
       "javascript": [
        "$('div#bbb6d603-8e1a-494e-b485-11e180220989').width('86%')"
       ],
       "metadata": {},
       "output_type": "display_data",
       "text": [
        "<IPython.core.display.Javascript at 0x10e597290>"
       ]
      },
      {
       "javascript": [
        "$('div#bbb6d603-8e1a-494e-b485-11e180220989').width('88%')"
       ],
       "metadata": {},
       "output_type": "display_data",
       "text": [
        "<IPython.core.display.Javascript at 0x1150daf10>"
       ]
      },
      {
       "javascript": [
        "$('div#bbb6d603-8e1a-494e-b485-11e180220989').width('90%')"
       ],
       "metadata": {},
       "output_type": "display_data",
       "text": [
        "<IPython.core.display.Javascript at 0x10e597290>"
       ]
      },
      {
       "javascript": [
        "$('div#bbb6d603-8e1a-494e-b485-11e180220989').width('92%')"
       ],
       "metadata": {},
       "output_type": "display_data",
       "text": [
        "<IPython.core.display.Javascript at 0x1150daf10>"
       ]
      },
      {
       "javascript": [
        "$('div#bbb6d603-8e1a-494e-b485-11e180220989').width('94%')"
       ],
       "metadata": {},
       "output_type": "display_data",
       "text": [
        "<IPython.core.display.Javascript at 0x10e597290>"
       ]
      },
      {
       "javascript": [
        "$('div#bbb6d603-8e1a-494e-b485-11e180220989').width('96%')"
       ],
       "metadata": {},
       "output_type": "display_data",
       "text": [
        "<IPython.core.display.Javascript at 0x1150daf10>"
       ]
      },
      {
       "javascript": [
        "$('div#bbb6d603-8e1a-494e-b485-11e180220989').width('98%')"
       ],
       "metadata": {},
       "output_type": "display_data",
       "text": [
        "<IPython.core.display.Javascript at 0x10e597290>"
       ]
      },
      {
       "javascript": [
        "$('div#bbb6d603-8e1a-494e-b485-11e180220989').width('100%')"
       ],
       "metadata": {},
       "output_type": "display_data",
       "text": [
        "<IPython.core.display.Javascript at 0x10e597250>"
       ]
      },
      {
       "html": [
        "<iframe src=http://127.0.0.1:8001/590133 width=100%% height=420 frameborder=0></iframe>"
       ],
       "metadata": {},
       "output_type": "pyout",
       "prompt_number": 4,
       "text": [
        "<DisplayNode.DisplayNodeProxy.DisplayNode instance at 0x1048367a0>"
       ]
      }
     ],
     "prompt_number": 4
    },
    {
     "cell_type": "code",
     "collapsed": false,
     "input": [
      "# Reconstruct static image: \n",
      "SCAN.static.projection_parameters.direction=7\n",
      "SCAN.static.backprojection_parameters.direction=7\n",
      "\n",
      "activity = SCAN.static.estimate_activity(iterations=10,subset_size=64) \n",
      "SCAN.static.volume_render(activity,scale=10)"
     ],
     "language": "python",
     "metadata": {},
     "outputs": [
      {
       "html": [
        "\n",
        "        <div style=\"border: 1px solid white; width:100%%; height:6px; background-color:rgb(246,246,246)\">\n",
        "            <div id=\"c7ba5289-ae07-474b-8584-2aac303234c1\" style=\"background-color:rgb(200,200,200); width:0%; height:6px\"> </div>\n",
        "        </div> \n",
        "        "
       ],
       "metadata": {},
       "output_type": "display_data",
       "text": [
        "<IPython.core.display.HTML at 0x117027290>"
       ]
      },
      {
       "javascript": [
        "$('div#c7ba5289-ae07-474b-8584-2aac303234c1').width('1%')"
       ],
       "metadata": {},
       "output_type": "display_data",
       "text": [
        "<IPython.core.display.Javascript at 0x1170278d0>"
       ]
      },
      {
       "javascript": [
        "$('div#c7ba5289-ae07-474b-8584-2aac303234c1').width('1%')"
       ],
       "metadata": {},
       "output_type": "display_data",
       "text": [
        "<IPython.core.display.Javascript at 0x1170278d0>"
       ]
      },
      {
       "javascript": [
        "$('div#c7ba5289-ae07-474b-8584-2aac303234c1').width('1%')"
       ],
       "metadata": {},
       "output_type": "display_data",
       "text": [
        "<IPython.core.display.Javascript at 0x1170278d0>"
       ]
      },
      {
       "javascript": [
        "$('div#c7ba5289-ae07-474b-8584-2aac303234c1').width('1%')"
       ],
       "metadata": {},
       "output_type": "display_data",
       "text": [
        "<IPython.core.display.Javascript at 0x1170278d0>"
       ]
      },
      {
       "javascript": [
        "$('div#c7ba5289-ae07-474b-8584-2aac303234c1').width('2%')"
       ],
       "metadata": {},
       "output_type": "display_data",
       "text": [
        "<IPython.core.display.Javascript at 0x1170278d0>"
       ]
      },
      {
       "javascript": [
        "$('div#c7ba5289-ae07-474b-8584-2aac303234c1').width('2%')"
       ],
       "metadata": {},
       "output_type": "display_data",
       "text": [
        "<IPython.core.display.Javascript at 0x1170278d0>"
       ]
      },
      {
       "javascript": [
        "$('div#c7ba5289-ae07-474b-8584-2aac303234c1').width('3%')"
       ],
       "metadata": {},
       "output_type": "display_data",
       "text": [
        "<IPython.core.display.Javascript at 0x1170278d0>"
       ]
      },
      {
       "javascript": [
        "$('div#c7ba5289-ae07-474b-8584-2aac303234c1').width('3%')"
       ],
       "metadata": {},
       "output_type": "display_data",
       "text": [
        "<IPython.core.display.Javascript at 0x1170278d0>"
       ]
      },
      {
       "javascript": [
        "$('div#c7ba5289-ae07-474b-8584-2aac303234c1').width('4%')"
       ],
       "metadata": {},
       "output_type": "display_data",
       "text": [
        "<IPython.core.display.Javascript at 0x1170278d0>"
       ]
      },
      {
       "javascript": [
        "$('div#c7ba5289-ae07-474b-8584-2aac303234c1').width('5%')"
       ],
       "metadata": {},
       "output_type": "display_data",
       "text": [
        "<IPython.core.display.Javascript at 0x1170278d0>"
       ]
      },
      {
       "javascript": [
        "$('div#c7ba5289-ae07-474b-8584-2aac303234c1').width('5%')"
       ],
       "metadata": {},
       "output_type": "display_data",
       "text": [
        "<IPython.core.display.Javascript at 0x1170278d0>"
       ]
      },
      {
       "javascript": [
        "$('div#c7ba5289-ae07-474b-8584-2aac303234c1').width('6%')"
       ],
       "metadata": {},
       "output_type": "display_data",
       "text": [
        "<IPython.core.display.Javascript at 0x1170278d0>"
       ]
      },
      {
       "javascript": [
        "$('div#c7ba5289-ae07-474b-8584-2aac303234c1').width('6%')"
       ],
       "metadata": {},
       "output_type": "display_data",
       "text": [
        "<IPython.core.display.Javascript at 0x1170278d0>"
       ]
      },
      {
       "javascript": [
        "$('div#c7ba5289-ae07-474b-8584-2aac303234c1').width('7%')"
       ],
       "metadata": {},
       "output_type": "display_data",
       "text": [
        "<IPython.core.display.Javascript at 0x1170278d0>"
       ]
      },
      {
       "javascript": [
        "$('div#c7ba5289-ae07-474b-8584-2aac303234c1').width('7%')"
       ],
       "metadata": {},
       "output_type": "display_data",
       "text": [
        "<IPython.core.display.Javascript at 0x1170278d0>"
       ]
      },
      {
       "javascript": [
        "$('div#c7ba5289-ae07-474b-8584-2aac303234c1').width('8%')"
       ],
       "metadata": {},
       "output_type": "display_data",
       "text": [
        "<IPython.core.display.Javascript at 0x1170278d0>"
       ]
      },
      {
       "javascript": [
        "$('div#c7ba5289-ae07-474b-8584-2aac303234c1').width('8%')"
       ],
       "metadata": {},
       "output_type": "display_data",
       "text": [
        "<IPython.core.display.Javascript at 0x1170278d0>"
       ]
      },
      {
       "javascript": [
        "$('div#c7ba5289-ae07-474b-8584-2aac303234c1').width('9%')"
       ],
       "metadata": {},
       "output_type": "display_data",
       "text": [
        "<IPython.core.display.Javascript at 0x1170278d0>"
       ]
      },
      {
       "javascript": [
        "$('div#c7ba5289-ae07-474b-8584-2aac303234c1').width('10%')"
       ],
       "metadata": {},
       "output_type": "display_data",
       "text": [
        "<IPython.core.display.Javascript at 0x1170278d0>"
       ]
      },
      {
       "javascript": [
        "$('div#c7ba5289-ae07-474b-8584-2aac303234c1').width('10%')"
       ],
       "metadata": {},
       "output_type": "display_data",
       "text": [
        "<IPython.core.display.Javascript at 0x1170278d0>"
       ]
      },
      {
       "javascript": [
        "$('div#c7ba5289-ae07-474b-8584-2aac303234c1').width('11%')"
       ],
       "metadata": {},
       "output_type": "display_data",
       "text": [
        "<IPython.core.display.Javascript at 0x1170278d0>"
       ]
      },
      {
       "javascript": [
        "$('div#c7ba5289-ae07-474b-8584-2aac303234c1').width('11%')"
       ],
       "metadata": {},
       "output_type": "display_data",
       "text": [
        "<IPython.core.display.Javascript at 0x1170278d0>"
       ]
      },
      {
       "javascript": [
        "$('div#c7ba5289-ae07-474b-8584-2aac303234c1').width('12%')"
       ],
       "metadata": {},
       "output_type": "display_data",
       "text": [
        "<IPython.core.display.Javascript at 0x1170278d0>"
       ]
      },
      {
       "javascript": [
        "$('div#c7ba5289-ae07-474b-8584-2aac303234c1').width('12%')"
       ],
       "metadata": {},
       "output_type": "display_data",
       "text": [
        "<IPython.core.display.Javascript at 0x1170278d0>"
       ]
      },
      {
       "javascript": [
        "$('div#c7ba5289-ae07-474b-8584-2aac303234c1').width('13%')"
       ],
       "metadata": {},
       "output_type": "display_data",
       "text": [
        "<IPython.core.display.Javascript at 0x1170278d0>"
       ]
      },
      {
       "javascript": [
        "$('div#c7ba5289-ae07-474b-8584-2aac303234c1').width('13%')"
       ],
       "metadata": {},
       "output_type": "display_data",
       "text": [
        "<IPython.core.display.Javascript at 0x1170278d0>"
       ]
      },
      {
       "javascript": [
        "$('div#c7ba5289-ae07-474b-8584-2aac303234c1').width('14%')"
       ],
       "metadata": {},
       "output_type": "display_data",
       "text": [
        "<IPython.core.display.Javascript at 0x1170278d0>"
       ]
      },
      {
       "javascript": [
        "$('div#c7ba5289-ae07-474b-8584-2aac303234c1').width('15%')"
       ],
       "metadata": {},
       "output_type": "display_data",
       "text": [
        "<IPython.core.display.Javascript at 0x1170278d0>"
       ]
      },
      {
       "javascript": [
        "$('div#c7ba5289-ae07-474b-8584-2aac303234c1').width('15%')"
       ],
       "metadata": {},
       "output_type": "display_data",
       "text": [
        "<IPython.core.display.Javascript at 0x1170278d0>"
       ]
      },
      {
       "javascript": [
        "$('div#c7ba5289-ae07-474b-8584-2aac303234c1').width('16%')"
       ],
       "metadata": {},
       "output_type": "display_data",
       "text": [
        "<IPython.core.display.Javascript at 0x1170278d0>"
       ]
      },
      {
       "javascript": [
        "$('div#c7ba5289-ae07-474b-8584-2aac303234c1').width('16%')"
       ],
       "metadata": {},
       "output_type": "display_data",
       "text": [
        "<IPython.core.display.Javascript at 0x1170278d0>"
       ]
      },
      {
       "javascript": [
        "$('div#c7ba5289-ae07-474b-8584-2aac303234c1').width('17%')"
       ],
       "metadata": {},
       "output_type": "display_data",
       "text": [
        "<IPython.core.display.Javascript at 0x1170278d0>"
       ]
      },
      {
       "javascript": [
        "$('div#c7ba5289-ae07-474b-8584-2aac303234c1').width('17%')"
       ],
       "metadata": {},
       "output_type": "display_data",
       "text": [
        "<IPython.core.display.Javascript at 0x1170278d0>"
       ]
      },
      {
       "javascript": [
        "$('div#c7ba5289-ae07-474b-8584-2aac303234c1').width('18%')"
       ],
       "metadata": {},
       "output_type": "display_data",
       "text": [
        "<IPython.core.display.Javascript at 0x1170278d0>"
       ]
      },
      {
       "javascript": [
        "$('div#c7ba5289-ae07-474b-8584-2aac303234c1').width('18%')"
       ],
       "metadata": {},
       "output_type": "display_data",
       "text": [
        "<IPython.core.display.Javascript at 0x1170278d0>"
       ]
      },
      {
       "javascript": [
        "$('div#c7ba5289-ae07-474b-8584-2aac303234c1').width('19%')"
       ],
       "metadata": {},
       "output_type": "display_data",
       "text": [
        "<IPython.core.display.Javascript at 0x1170278d0>"
       ]
      },
      {
       "javascript": [
        "$('div#c7ba5289-ae07-474b-8584-2aac303234c1').width('20%')"
       ],
       "metadata": {},
       "output_type": "display_data",
       "text": [
        "<IPython.core.display.Javascript at 0x1170278d0>"
       ]
      },
      {
       "javascript": [
        "$('div#c7ba5289-ae07-474b-8584-2aac303234c1').width('20%')"
       ],
       "metadata": {},
       "output_type": "display_data",
       "text": [
        "<IPython.core.display.Javascript at 0x1170278d0>"
       ]
      },
      {
       "javascript": [
        "$('div#c7ba5289-ae07-474b-8584-2aac303234c1').width('21%')"
       ],
       "metadata": {},
       "output_type": "display_data",
       "text": [
        "<IPython.core.display.Javascript at 0x1170278d0>"
       ]
      },
      {
       "javascript": [
        "$('div#c7ba5289-ae07-474b-8584-2aac303234c1').width('21%')"
       ],
       "metadata": {},
       "output_type": "display_data",
       "text": [
        "<IPython.core.display.Javascript at 0x1170278d0>"
       ]
      },
      {
       "javascript": [
        "$('div#c7ba5289-ae07-474b-8584-2aac303234c1').width('22%')"
       ],
       "metadata": {},
       "output_type": "display_data",
       "text": [
        "<IPython.core.display.Javascript at 0x1170278d0>"
       ]
      },
      {
       "javascript": [
        "$('div#c7ba5289-ae07-474b-8584-2aac303234c1').width('22%')"
       ],
       "metadata": {},
       "output_type": "display_data",
       "text": [
        "<IPython.core.display.Javascript at 0x1170278d0>"
       ]
      },
      {
       "javascript": [
        "$('div#c7ba5289-ae07-474b-8584-2aac303234c1').width('23%')"
       ],
       "metadata": {},
       "output_type": "display_data",
       "text": [
        "<IPython.core.display.Javascript at 0x1170278d0>"
       ]
      },
      {
       "javascript": [
        "$('div#c7ba5289-ae07-474b-8584-2aac303234c1').width('23%')"
       ],
       "metadata": {},
       "output_type": "display_data",
       "text": [
        "<IPython.core.display.Javascript at 0x1170278d0>"
       ]
      },
      {
       "javascript": [
        "$('div#c7ba5289-ae07-474b-8584-2aac303234c1').width('24%')"
       ],
       "metadata": {},
       "output_type": "display_data",
       "text": [
        "<IPython.core.display.Javascript at 0x1170278d0>"
       ]
      },
      {
       "javascript": [
        "$('div#c7ba5289-ae07-474b-8584-2aac303234c1').width('25%')"
       ],
       "metadata": {},
       "output_type": "display_data",
       "text": [
        "<IPython.core.display.Javascript at 0x1170278d0>"
       ]
      },
      {
       "javascript": [
        "$('div#c7ba5289-ae07-474b-8584-2aac303234c1').width('25%')"
       ],
       "metadata": {},
       "output_type": "display_data",
       "text": [
        "<IPython.core.display.Javascript at 0x1170278d0>"
       ]
      },
      {
       "javascript": [
        "$('div#c7ba5289-ae07-474b-8584-2aac303234c1').width('26%')"
       ],
       "metadata": {},
       "output_type": "display_data",
       "text": [
        "<IPython.core.display.Javascript at 0x1170278d0>"
       ]
      },
      {
       "javascript": [
        "$('div#c7ba5289-ae07-474b-8584-2aac303234c1').width('26%')"
       ],
       "metadata": {},
       "output_type": "display_data",
       "text": [
        "<IPython.core.display.Javascript at 0x1170278d0>"
       ]
      },
      {
       "javascript": [
        "$('div#c7ba5289-ae07-474b-8584-2aac303234c1').width('27%')"
       ],
       "metadata": {},
       "output_type": "display_data",
       "text": [
        "<IPython.core.display.Javascript at 0x1170278d0>"
       ]
      },
      {
       "javascript": [
        "$('div#c7ba5289-ae07-474b-8584-2aac303234c1').width('27%')"
       ],
       "metadata": {},
       "output_type": "display_data",
       "text": [
        "<IPython.core.display.Javascript at 0x1170278d0>"
       ]
      },
      {
       "javascript": [
        "$('div#c7ba5289-ae07-474b-8584-2aac303234c1').width('28%')"
       ],
       "metadata": {},
       "output_type": "display_data",
       "text": [
        "<IPython.core.display.Javascript at 0x1170278d0>"
       ]
      },
      {
       "javascript": [
        "$('div#c7ba5289-ae07-474b-8584-2aac303234c1').width('28%')"
       ],
       "metadata": {},
       "output_type": "display_data",
       "text": [
        "<IPython.core.display.Javascript at 0x1170278d0>"
       ]
      },
      {
       "javascript": [
        "$('div#c7ba5289-ae07-474b-8584-2aac303234c1').width('29%')"
       ],
       "metadata": {},
       "output_type": "display_data",
       "text": [
        "<IPython.core.display.Javascript at 0x1170278d0>"
       ]
      },
      {
       "javascript": [
        "$('div#c7ba5289-ae07-474b-8584-2aac303234c1').width('30%')"
       ],
       "metadata": {},
       "output_type": "display_data",
       "text": [
        "<IPython.core.display.Javascript at 0x1170278d0>"
       ]
      },
      {
       "javascript": [
        "$('div#c7ba5289-ae07-474b-8584-2aac303234c1').width('30%')"
       ],
       "metadata": {},
       "output_type": "display_data",
       "text": [
        "<IPython.core.display.Javascript at 0x1170278d0>"
       ]
      },
      {
       "javascript": [
        "$('div#c7ba5289-ae07-474b-8584-2aac303234c1').width('31%')"
       ],
       "metadata": {},
       "output_type": "display_data",
       "text": [
        "<IPython.core.display.Javascript at 0x1170278d0>"
       ]
      },
      {
       "javascript": [
        "$('div#c7ba5289-ae07-474b-8584-2aac303234c1').width('31%')"
       ],
       "metadata": {},
       "output_type": "display_data",
       "text": [
        "<IPython.core.display.Javascript at 0x1170278d0>"
       ]
      },
      {
       "javascript": [
        "$('div#c7ba5289-ae07-474b-8584-2aac303234c1').width('32%')"
       ],
       "metadata": {},
       "output_type": "display_data",
       "text": [
        "<IPython.core.display.Javascript at 0x1170278d0>"
       ]
      },
      {
       "javascript": [
        "$('div#c7ba5289-ae07-474b-8584-2aac303234c1').width('32%')"
       ],
       "metadata": {},
       "output_type": "display_data",
       "text": [
        "<IPython.core.display.Javascript at 0x1170278d0>"
       ]
      },
      {
       "javascript": [
        "$('div#c7ba5289-ae07-474b-8584-2aac303234c1').width('33%')"
       ],
       "metadata": {},
       "output_type": "display_data",
       "text": [
        "<IPython.core.display.Javascript at 0x1170278d0>"
       ]
      },
      {
       "javascript": [
        "$('div#c7ba5289-ae07-474b-8584-2aac303234c1').width('33%')"
       ],
       "metadata": {},
       "output_type": "display_data",
       "text": [
        "<IPython.core.display.Javascript at 0x1170278d0>"
       ]
      },
      {
       "javascript": [
        "$('div#c7ba5289-ae07-474b-8584-2aac303234c1').width('34%')"
       ],
       "metadata": {},
       "output_type": "display_data",
       "text": [
        "<IPython.core.display.Javascript at 0x1170278d0>"
       ]
      },
      {
       "javascript": [
        "$('div#c7ba5289-ae07-474b-8584-2aac303234c1').width('35%')"
       ],
       "metadata": {},
       "output_type": "display_data",
       "text": [
        "<IPython.core.display.Javascript at 0x1170278d0>"
       ]
      },
      {
       "javascript": [
        "$('div#c7ba5289-ae07-474b-8584-2aac303234c1').width('35%')"
       ],
       "metadata": {},
       "output_type": "display_data",
       "text": [
        "<IPython.core.display.Javascript at 0x1170278d0>"
       ]
      },
      {
       "javascript": [
        "$('div#c7ba5289-ae07-474b-8584-2aac303234c1').width('36%')"
       ],
       "metadata": {},
       "output_type": "display_data",
       "text": [
        "<IPython.core.display.Javascript at 0x1170278d0>"
       ]
      },
      {
       "javascript": [
        "$('div#c7ba5289-ae07-474b-8584-2aac303234c1').width('36%')"
       ],
       "metadata": {},
       "output_type": "display_data",
       "text": [
        "<IPython.core.display.Javascript at 0x1170278d0>"
       ]
      },
      {
       "javascript": [
        "$('div#c7ba5289-ae07-474b-8584-2aac303234c1').width('37%')"
       ],
       "metadata": {},
       "output_type": "display_data",
       "text": [
        "<IPython.core.display.Javascript at 0x1170278d0>"
       ]
      },
      {
       "javascript": [
        "$('div#c7ba5289-ae07-474b-8584-2aac303234c1').width('37%')"
       ],
       "metadata": {},
       "output_type": "display_data",
       "text": [
        "<IPython.core.display.Javascript at 0x1170278d0>"
       ]
      },
      {
       "javascript": [
        "$('div#c7ba5289-ae07-474b-8584-2aac303234c1').width('38%')"
       ],
       "metadata": {},
       "output_type": "display_data",
       "text": [
        "<IPython.core.display.Javascript at 0x1170278d0>"
       ]
      },
      {
       "javascript": [
        "$('div#c7ba5289-ae07-474b-8584-2aac303234c1').width('38%')"
       ],
       "metadata": {},
       "output_type": "display_data",
       "text": [
        "<IPython.core.display.Javascript at 0x1170278d0>"
       ]
      },
      {
       "javascript": [
        "$('div#c7ba5289-ae07-474b-8584-2aac303234c1').width('39%')"
       ],
       "metadata": {},
       "output_type": "display_data",
       "text": [
        "<IPython.core.display.Javascript at 0x1170278d0>"
       ]
      },
      {
       "javascript": [
        "$('div#c7ba5289-ae07-474b-8584-2aac303234c1').width('40%')"
       ],
       "metadata": {},
       "output_type": "display_data",
       "text": [
        "<IPython.core.display.Javascript at 0x1170278d0>"
       ]
      },
      {
       "javascript": [
        "$('div#c7ba5289-ae07-474b-8584-2aac303234c1').width('40%')"
       ],
       "metadata": {},
       "output_type": "display_data",
       "text": [
        "<IPython.core.display.Javascript at 0x1170278d0>"
       ]
      },
      {
       "javascript": [
        "$('div#c7ba5289-ae07-474b-8584-2aac303234c1').width('41%')"
       ],
       "metadata": {},
       "output_type": "display_data",
       "text": [
        "<IPython.core.display.Javascript at 0x1170278d0>"
       ]
      },
      {
       "javascript": [
        "$('div#c7ba5289-ae07-474b-8584-2aac303234c1').width('41%')"
       ],
       "metadata": {},
       "output_type": "display_data",
       "text": [
        "<IPython.core.display.Javascript at 0x1170278d0>"
       ]
      },
      {
       "javascript": [
        "$('div#c7ba5289-ae07-474b-8584-2aac303234c1').width('42%')"
       ],
       "metadata": {},
       "output_type": "display_data",
       "text": [
        "<IPython.core.display.Javascript at 0x1170278d0>"
       ]
      },
      {
       "javascript": [
        "$('div#c7ba5289-ae07-474b-8584-2aac303234c1').width('42%')"
       ],
       "metadata": {},
       "output_type": "display_data",
       "text": [
        "<IPython.core.display.Javascript at 0x1170278d0>"
       ]
      },
      {
       "javascript": [
        "$('div#c7ba5289-ae07-474b-8584-2aac303234c1').width('43%')"
       ],
       "metadata": {},
       "output_type": "display_data",
       "text": [
        "<IPython.core.display.Javascript at 0x1170278d0>"
       ]
      },
      {
       "javascript": [
        "$('div#c7ba5289-ae07-474b-8584-2aac303234c1').width('43%')"
       ],
       "metadata": {},
       "output_type": "display_data",
       "text": [
        "<IPython.core.display.Javascript at 0x1170278d0>"
       ]
      },
      {
       "javascript": [
        "$('div#c7ba5289-ae07-474b-8584-2aac303234c1').width('44%')"
       ],
       "metadata": {},
       "output_type": "display_data",
       "text": [
        "<IPython.core.display.Javascript at 0x1170278d0>"
       ]
      },
      {
       "javascript": [
        "$('div#c7ba5289-ae07-474b-8584-2aac303234c1').width('45%')"
       ],
       "metadata": {},
       "output_type": "display_data",
       "text": [
        "<IPython.core.display.Javascript at 0x1170278d0>"
       ]
      },
      {
       "javascript": [
        "$('div#c7ba5289-ae07-474b-8584-2aac303234c1').width('45%')"
       ],
       "metadata": {},
       "output_type": "display_data",
       "text": [
        "<IPython.core.display.Javascript at 0x1170278d0>"
       ]
      },
      {
       "javascript": [
        "$('div#c7ba5289-ae07-474b-8584-2aac303234c1').width('46%')"
       ],
       "metadata": {},
       "output_type": "display_data",
       "text": [
        "<IPython.core.display.Javascript at 0x1170278d0>"
       ]
      },
      {
       "javascript": [
        "$('div#c7ba5289-ae07-474b-8584-2aac303234c1').width('46%')"
       ],
       "metadata": {},
       "output_type": "display_data",
       "text": [
        "<IPython.core.display.Javascript at 0x1170278d0>"
       ]
      },
      {
       "javascript": [
        "$('div#c7ba5289-ae07-474b-8584-2aac303234c1').width('47%')"
       ],
       "metadata": {},
       "output_type": "display_data",
       "text": [
        "<IPython.core.display.Javascript at 0x1170278d0>"
       ]
      },
      {
       "javascript": [
        "$('div#c7ba5289-ae07-474b-8584-2aac303234c1').width('47%')"
       ],
       "metadata": {},
       "output_type": "display_data",
       "text": [
        "<IPython.core.display.Javascript at 0x1170278d0>"
       ]
      },
      {
       "javascript": [
        "$('div#c7ba5289-ae07-474b-8584-2aac303234c1').width('48%')"
       ],
       "metadata": {},
       "output_type": "display_data",
       "text": [
        "<IPython.core.display.Javascript at 0x1170278d0>"
       ]
      },
      {
       "javascript": [
        "$('div#c7ba5289-ae07-474b-8584-2aac303234c1').width('48%')"
       ],
       "metadata": {},
       "output_type": "display_data",
       "text": [
        "<IPython.core.display.Javascript at 0x1170278d0>"
       ]
      },
      {
       "javascript": [
        "$('div#c7ba5289-ae07-474b-8584-2aac303234c1').width('49%')"
       ],
       "metadata": {},
       "output_type": "display_data",
       "text": [
        "<IPython.core.display.Javascript at 0x1170278d0>"
       ]
      },
      {
       "javascript": [
        "$('div#c7ba5289-ae07-474b-8584-2aac303234c1').width('50%')"
       ],
       "metadata": {},
       "output_type": "display_data",
       "text": [
        "<IPython.core.display.Javascript at 0x1170278d0>"
       ]
      },
      {
       "javascript": [
        "$('div#c7ba5289-ae07-474b-8584-2aac303234c1').width('50%')"
       ],
       "metadata": {},
       "output_type": "display_data",
       "text": [
        "<IPython.core.display.Javascript at 0x1170278d0>"
       ]
      },
      {
       "javascript": [
        "$('div#c7ba5289-ae07-474b-8584-2aac303234c1').width('51%')"
       ],
       "metadata": {},
       "output_type": "display_data",
       "text": [
        "<IPython.core.display.Javascript at 0x1170278d0>"
       ]
      },
      {
       "javascript": [
        "$('div#c7ba5289-ae07-474b-8584-2aac303234c1').width('51%')"
       ],
       "metadata": {},
       "output_type": "display_data",
       "text": [
        "<IPython.core.display.Javascript at 0x1170278d0>"
       ]
      },
      {
       "javascript": [
        "$('div#c7ba5289-ae07-474b-8584-2aac303234c1').width('52%')"
       ],
       "metadata": {},
       "output_type": "display_data",
       "text": [
        "<IPython.core.display.Javascript at 0x1170278d0>"
       ]
      },
      {
       "javascript": [
        "$('div#c7ba5289-ae07-474b-8584-2aac303234c1').width('52%')"
       ],
       "metadata": {},
       "output_type": "display_data",
       "text": [
        "<IPython.core.display.Javascript at 0x1170278d0>"
       ]
      },
      {
       "javascript": [
        "$('div#c7ba5289-ae07-474b-8584-2aac303234c1').width('53%')"
       ],
       "metadata": {},
       "output_type": "display_data",
       "text": [
        "<IPython.core.display.Javascript at 0x1170278d0>"
       ]
      },
      {
       "javascript": [
        "$('div#c7ba5289-ae07-474b-8584-2aac303234c1').width('53%')"
       ],
       "metadata": {},
       "output_type": "display_data",
       "text": [
        "<IPython.core.display.Javascript at 0x1170278d0>"
       ]
      },
      {
       "javascript": [
        "$('div#c7ba5289-ae07-474b-8584-2aac303234c1').width('54%')"
       ],
       "metadata": {},
       "output_type": "display_data",
       "text": [
        "<IPython.core.display.Javascript at 0x1170278d0>"
       ]
      },
      {
       "javascript": [
        "$('div#c7ba5289-ae07-474b-8584-2aac303234c1').width('55%')"
       ],
       "metadata": {},
       "output_type": "display_data",
       "text": [
        "<IPython.core.display.Javascript at 0x1170278d0>"
       ]
      },
      {
       "javascript": [
        "$('div#c7ba5289-ae07-474b-8584-2aac303234c1').width('55%')"
       ],
       "metadata": {},
       "output_type": "display_data",
       "text": [
        "<IPython.core.display.Javascript at 0x1170278d0>"
       ]
      },
      {
       "javascript": [
        "$('div#c7ba5289-ae07-474b-8584-2aac303234c1').width('56%')"
       ],
       "metadata": {},
       "output_type": "display_data",
       "text": [
        "<IPython.core.display.Javascript at 0x1170278d0>"
       ]
      },
      {
       "javascript": [
        "$('div#c7ba5289-ae07-474b-8584-2aac303234c1').width('56%')"
       ],
       "metadata": {},
       "output_type": "display_data",
       "text": [
        "<IPython.core.display.Javascript at 0x1170278d0>"
       ]
      },
      {
       "javascript": [
        "$('div#c7ba5289-ae07-474b-8584-2aac303234c1').width('57%')"
       ],
       "metadata": {},
       "output_type": "display_data",
       "text": [
        "<IPython.core.display.Javascript at 0x1170278d0>"
       ]
      },
      {
       "javascript": [
        "$('div#c7ba5289-ae07-474b-8584-2aac303234c1').width('57%')"
       ],
       "metadata": {},
       "output_type": "display_data",
       "text": [
        "<IPython.core.display.Javascript at 0x1170278d0>"
       ]
      },
      {
       "javascript": [
        "$('div#c7ba5289-ae07-474b-8584-2aac303234c1').width('58%')"
       ],
       "metadata": {},
       "output_type": "display_data",
       "text": [
        "<IPython.core.display.Javascript at 0x1170278d0>"
       ]
      },
      {
       "javascript": [
        "$('div#c7ba5289-ae07-474b-8584-2aac303234c1').width('58%')"
       ],
       "metadata": {},
       "output_type": "display_data",
       "text": [
        "<IPython.core.display.Javascript at 0x1170278d0>"
       ]
      },
      {
       "javascript": [
        "$('div#c7ba5289-ae07-474b-8584-2aac303234c1').width('59%')"
       ],
       "metadata": {},
       "output_type": "display_data",
       "text": [
        "<IPython.core.display.Javascript at 0x1170278d0>"
       ]
      },
      {
       "javascript": [
        "$('div#c7ba5289-ae07-474b-8584-2aac303234c1').width('60%')"
       ],
       "metadata": {},
       "output_type": "display_data",
       "text": [
        "<IPython.core.display.Javascript at 0x1170278d0>"
       ]
      },
      {
       "javascript": [
        "$('div#c7ba5289-ae07-474b-8584-2aac303234c1').width('60%')"
       ],
       "metadata": {},
       "output_type": "display_data",
       "text": [
        "<IPython.core.display.Javascript at 0x1170278d0>"
       ]
      },
      {
       "javascript": [
        "$('div#c7ba5289-ae07-474b-8584-2aac303234c1').width('61%')"
       ],
       "metadata": {},
       "output_type": "display_data",
       "text": [
        "<IPython.core.display.Javascript at 0x1170278d0>"
       ]
      },
      {
       "javascript": [
        "$('div#c7ba5289-ae07-474b-8584-2aac303234c1').width('61%')"
       ],
       "metadata": {},
       "output_type": "display_data",
       "text": [
        "<IPython.core.display.Javascript at 0x1170278d0>"
       ]
      },
      {
       "javascript": [
        "$('div#c7ba5289-ae07-474b-8584-2aac303234c1').width('62%')"
       ],
       "metadata": {},
       "output_type": "display_data",
       "text": [
        "<IPython.core.display.Javascript at 0x1170278d0>"
       ]
      },
      {
       "javascript": [
        "$('div#c7ba5289-ae07-474b-8584-2aac303234c1').width('62%')"
       ],
       "metadata": {},
       "output_type": "display_data",
       "text": [
        "<IPython.core.display.Javascript at 0x1170278d0>"
       ]
      },
      {
       "javascript": [
        "$('div#c7ba5289-ae07-474b-8584-2aac303234c1').width('63%')"
       ],
       "metadata": {},
       "output_type": "display_data",
       "text": [
        "<IPython.core.display.Javascript at 0x1170278d0>"
       ]
      },
      {
       "javascript": [
        "$('div#c7ba5289-ae07-474b-8584-2aac303234c1').width('63%')"
       ],
       "metadata": {},
       "output_type": "display_data",
       "text": [
        "<IPython.core.display.Javascript at 0x1170278d0>"
       ]
      },
      {
       "javascript": [
        "$('div#c7ba5289-ae07-474b-8584-2aac303234c1').width('64%')"
       ],
       "metadata": {},
       "output_type": "display_data",
       "text": [
        "<IPython.core.display.Javascript at 0x1170278d0>"
       ]
      },
      {
       "javascript": [
        "$('div#c7ba5289-ae07-474b-8584-2aac303234c1').width('65%')"
       ],
       "metadata": {},
       "output_type": "display_data",
       "text": [
        "<IPython.core.display.Javascript at 0x1170278d0>"
       ]
      },
      {
       "javascript": [
        "$('div#c7ba5289-ae07-474b-8584-2aac303234c1').width('65%')"
       ],
       "metadata": {},
       "output_type": "display_data",
       "text": [
        "<IPython.core.display.Javascript at 0x1170278d0>"
       ]
      },
      {
       "javascript": [
        "$('div#c7ba5289-ae07-474b-8584-2aac303234c1').width('66%')"
       ],
       "metadata": {},
       "output_type": "display_data",
       "text": [
        "<IPython.core.display.Javascript at 0x1170278d0>"
       ]
      },
      {
       "javascript": [
        "$('div#c7ba5289-ae07-474b-8584-2aac303234c1').width('66%')"
       ],
       "metadata": {},
       "output_type": "display_data",
       "text": [
        "<IPython.core.display.Javascript at 0x1170278d0>"
       ]
      },
      {
       "javascript": [
        "$('div#c7ba5289-ae07-474b-8584-2aac303234c1').width('67%')"
       ],
       "metadata": {},
       "output_type": "display_data",
       "text": [
        "<IPython.core.display.Javascript at 0x1170278d0>"
       ]
      },
      {
       "javascript": [
        "$('div#c7ba5289-ae07-474b-8584-2aac303234c1').width('67%')"
       ],
       "metadata": {},
       "output_type": "display_data",
       "text": [
        "<IPython.core.display.Javascript at 0x1170278d0>"
       ]
      },
      {
       "javascript": [
        "$('div#c7ba5289-ae07-474b-8584-2aac303234c1').width('68%')"
       ],
       "metadata": {},
       "output_type": "display_data",
       "text": [
        "<IPython.core.display.Javascript at 0x1170278d0>"
       ]
      },
      {
       "javascript": [
        "$('div#c7ba5289-ae07-474b-8584-2aac303234c1').width('68%')"
       ],
       "metadata": {},
       "output_type": "display_data",
       "text": [
        "<IPython.core.display.Javascript at 0x1170278d0>"
       ]
      },
      {
       "javascript": [
        "$('div#c7ba5289-ae07-474b-8584-2aac303234c1').width('69%')"
       ],
       "metadata": {},
       "output_type": "display_data",
       "text": [
        "<IPython.core.display.Javascript at 0x1170278d0>"
       ]
      },
      {
       "javascript": [
        "$('div#c7ba5289-ae07-474b-8584-2aac303234c1').width('70%')"
       ],
       "metadata": {},
       "output_type": "display_data",
       "text": [
        "<IPython.core.display.Javascript at 0x1170278d0>"
       ]
      },
      {
       "javascript": [
        "$('div#c7ba5289-ae07-474b-8584-2aac303234c1').width('70%')"
       ],
       "metadata": {},
       "output_type": "display_data",
       "text": [
        "<IPython.core.display.Javascript at 0x1170278d0>"
       ]
      },
      {
       "javascript": [
        "$('div#c7ba5289-ae07-474b-8584-2aac303234c1').width('71%')"
       ],
       "metadata": {},
       "output_type": "display_data",
       "text": [
        "<IPython.core.display.Javascript at 0x1170278d0>"
       ]
      },
      {
       "javascript": [
        "$('div#c7ba5289-ae07-474b-8584-2aac303234c1').width('71%')"
       ],
       "metadata": {},
       "output_type": "display_data",
       "text": [
        "<IPython.core.display.Javascript at 0x1170278d0>"
       ]
      },
      {
       "javascript": [
        "$('div#c7ba5289-ae07-474b-8584-2aac303234c1').width('72%')"
       ],
       "metadata": {},
       "output_type": "display_data",
       "text": [
        "<IPython.core.display.Javascript at 0x1170278d0>"
       ]
      },
      {
       "javascript": [
        "$('div#c7ba5289-ae07-474b-8584-2aac303234c1').width('72%')"
       ],
       "metadata": {},
       "output_type": "display_data",
       "text": [
        "<IPython.core.display.Javascript at 0x1170278d0>"
       ]
      },
      {
       "javascript": [
        "$('div#c7ba5289-ae07-474b-8584-2aac303234c1').width('73%')"
       ],
       "metadata": {},
       "output_type": "display_data",
       "text": [
        "<IPython.core.display.Javascript at 0x1170278d0>"
       ]
      },
      {
       "javascript": [
        "$('div#c7ba5289-ae07-474b-8584-2aac303234c1').width('73%')"
       ],
       "metadata": {},
       "output_type": "display_data",
       "text": [
        "<IPython.core.display.Javascript at 0x1170278d0>"
       ]
      },
      {
       "javascript": [
        "$('div#c7ba5289-ae07-474b-8584-2aac303234c1').width('74%')"
       ],
       "metadata": {},
       "output_type": "display_data",
       "text": [
        "<IPython.core.display.Javascript at 0x1170278d0>"
       ]
      },
      {
       "javascript": [
        "$('div#c7ba5289-ae07-474b-8584-2aac303234c1').width('75%')"
       ],
       "metadata": {},
       "output_type": "display_data",
       "text": [
        "<IPython.core.display.Javascript at 0x1170278d0>"
       ]
      },
      {
       "javascript": [
        "$('div#c7ba5289-ae07-474b-8584-2aac303234c1').width('75%')"
       ],
       "metadata": {},
       "output_type": "display_data",
       "text": [
        "<IPython.core.display.Javascript at 0x1170278d0>"
       ]
      },
      {
       "javascript": [
        "$('div#c7ba5289-ae07-474b-8584-2aac303234c1').width('76%')"
       ],
       "metadata": {},
       "output_type": "display_data",
       "text": [
        "<IPython.core.display.Javascript at 0x1170278d0>"
       ]
      },
      {
       "javascript": [
        "$('div#c7ba5289-ae07-474b-8584-2aac303234c1').width('76%')"
       ],
       "metadata": {},
       "output_type": "display_data",
       "text": [
        "<IPython.core.display.Javascript at 0x1170278d0>"
       ]
      },
      {
       "javascript": [
        "$('div#c7ba5289-ae07-474b-8584-2aac303234c1').width('77%')"
       ],
       "metadata": {},
       "output_type": "display_data",
       "text": [
        "<IPython.core.display.Javascript at 0x1170278d0>"
       ]
      },
      {
       "javascript": [
        "$('div#c7ba5289-ae07-474b-8584-2aac303234c1').width('77%')"
       ],
       "metadata": {},
       "output_type": "display_data",
       "text": [
        "<IPython.core.display.Javascript at 0x1170278d0>"
       ]
      },
      {
       "javascript": [
        "$('div#c7ba5289-ae07-474b-8584-2aac303234c1').width('78%')"
       ],
       "metadata": {},
       "output_type": "display_data",
       "text": [
        "<IPython.core.display.Javascript at 0x1170278d0>"
       ]
      },
      {
       "javascript": [
        "$('div#c7ba5289-ae07-474b-8584-2aac303234c1').width('78%')"
       ],
       "metadata": {},
       "output_type": "display_data",
       "text": [
        "<IPython.core.display.Javascript at 0x1170278d0>"
       ]
      },
      {
       "javascript": [
        "$('div#c7ba5289-ae07-474b-8584-2aac303234c1').width('79%')"
       ],
       "metadata": {},
       "output_type": "display_data",
       "text": [
        "<IPython.core.display.Javascript at 0x1170278d0>"
       ]
      },
      {
       "javascript": [
        "$('div#c7ba5289-ae07-474b-8584-2aac303234c1').width('80%')"
       ],
       "metadata": {},
       "output_type": "display_data",
       "text": [
        "<IPython.core.display.Javascript at 0x1170278d0>"
       ]
      },
      {
       "javascript": [
        "$('div#c7ba5289-ae07-474b-8584-2aac303234c1').width('80%')"
       ],
       "metadata": {},
       "output_type": "display_data",
       "text": [
        "<IPython.core.display.Javascript at 0x1170278d0>"
       ]
      },
      {
       "javascript": [
        "$('div#c7ba5289-ae07-474b-8584-2aac303234c1').width('81%')"
       ],
       "metadata": {},
       "output_type": "display_data",
       "text": [
        "<IPython.core.display.Javascript at 0x1170278d0>"
       ]
      },
      {
       "javascript": [
        "$('div#c7ba5289-ae07-474b-8584-2aac303234c1').width('81%')"
       ],
       "metadata": {},
       "output_type": "display_data",
       "text": [
        "<IPython.core.display.Javascript at 0x1170278d0>"
       ]
      },
      {
       "javascript": [
        "$('div#c7ba5289-ae07-474b-8584-2aac303234c1').width('82%')"
       ],
       "metadata": {},
       "output_type": "display_data",
       "text": [
        "<IPython.core.display.Javascript at 0x1170278d0>"
       ]
      },
      {
       "javascript": [
        "$('div#c7ba5289-ae07-474b-8584-2aac303234c1').width('82%')"
       ],
       "metadata": {},
       "output_type": "display_data",
       "text": [
        "<IPython.core.display.Javascript at 0x1170278d0>"
       ]
      },
      {
       "javascript": [
        "$('div#c7ba5289-ae07-474b-8584-2aac303234c1').width('83%')"
       ],
       "metadata": {},
       "output_type": "display_data",
       "text": [
        "<IPython.core.display.Javascript at 0x1170278d0>"
       ]
      },
      {
       "javascript": [
        "$('div#c7ba5289-ae07-474b-8584-2aac303234c1').width('83%')"
       ],
       "metadata": {},
       "output_type": "display_data",
       "text": [
        "<IPython.core.display.Javascript at 0x1170278d0>"
       ]
      },
      {
       "javascript": [
        "$('div#c7ba5289-ae07-474b-8584-2aac303234c1').width('84%')"
       ],
       "metadata": {},
       "output_type": "display_data",
       "text": [
        "<IPython.core.display.Javascript at 0x1170278d0>"
       ]
      },
      {
       "javascript": [
        "$('div#c7ba5289-ae07-474b-8584-2aac303234c1').width('85%')"
       ],
       "metadata": {},
       "output_type": "display_data",
       "text": [
        "<IPython.core.display.Javascript at 0x1170278d0>"
       ]
      },
      {
       "javascript": [
        "$('div#c7ba5289-ae07-474b-8584-2aac303234c1').width('85%')"
       ],
       "metadata": {},
       "output_type": "display_data",
       "text": [
        "<IPython.core.display.Javascript at 0x1170278d0>"
       ]
      },
      {
       "javascript": [
        "$('div#c7ba5289-ae07-474b-8584-2aac303234c1').width('86%')"
       ],
       "metadata": {},
       "output_type": "display_data",
       "text": [
        "<IPython.core.display.Javascript at 0x1170278d0>"
       ]
      },
      {
       "javascript": [
        "$('div#c7ba5289-ae07-474b-8584-2aac303234c1').width('86%')"
       ],
       "metadata": {},
       "output_type": "display_data",
       "text": [
        "<IPython.core.display.Javascript at 0x1170278d0>"
       ]
      },
      {
       "javascript": [
        "$('div#c7ba5289-ae07-474b-8584-2aac303234c1').width('87%')"
       ],
       "metadata": {},
       "output_type": "display_data",
       "text": [
        "<IPython.core.display.Javascript at 0x1170278d0>"
       ]
      },
      {
       "javascript": [
        "$('div#c7ba5289-ae07-474b-8584-2aac303234c1').width('87%')"
       ],
       "metadata": {},
       "output_type": "display_data",
       "text": [
        "<IPython.core.display.Javascript at 0x1170278d0>"
       ]
      },
      {
       "javascript": [
        "$('div#c7ba5289-ae07-474b-8584-2aac303234c1').width('88%')"
       ],
       "metadata": {},
       "output_type": "display_data",
       "text": [
        "<IPython.core.display.Javascript at 0x1170278d0>"
       ]
      },
      {
       "javascript": [
        "$('div#c7ba5289-ae07-474b-8584-2aac303234c1').width('88%')"
       ],
       "metadata": {},
       "output_type": "display_data",
       "text": [
        "<IPython.core.display.Javascript at 0x1170278d0>"
       ]
      },
      {
       "javascript": [
        "$('div#c7ba5289-ae07-474b-8584-2aac303234c1').width('89%')"
       ],
       "metadata": {},
       "output_type": "display_data",
       "text": [
        "<IPython.core.display.Javascript at 0x1170278d0>"
       ]
      },
      {
       "javascript": [
        "$('div#c7ba5289-ae07-474b-8584-2aac303234c1').width('90%')"
       ],
       "metadata": {},
       "output_type": "display_data",
       "text": [
        "<IPython.core.display.Javascript at 0x1170278d0>"
       ]
      },
      {
       "javascript": [
        "$('div#c7ba5289-ae07-474b-8584-2aac303234c1').width('90%')"
       ],
       "metadata": {},
       "output_type": "display_data",
       "text": [
        "<IPython.core.display.Javascript at 0x1170278d0>"
       ]
      },
      {
       "javascript": [
        "$('div#c7ba5289-ae07-474b-8584-2aac303234c1').width('91%')"
       ],
       "metadata": {},
       "output_type": "display_data",
       "text": [
        "<IPython.core.display.Javascript at 0x1170278d0>"
       ]
      },
      {
       "javascript": [
        "$('div#c7ba5289-ae07-474b-8584-2aac303234c1').width('91%')"
       ],
       "metadata": {},
       "output_type": "display_data",
       "text": [
        "<IPython.core.display.Javascript at 0x1170278d0>"
       ]
      },
      {
       "javascript": [
        "$('div#c7ba5289-ae07-474b-8584-2aac303234c1').width('92%')"
       ],
       "metadata": {},
       "output_type": "display_data",
       "text": [
        "<IPython.core.display.Javascript at 0x1170278d0>"
       ]
      },
      {
       "javascript": [
        "$('div#c7ba5289-ae07-474b-8584-2aac303234c1').width('92%')"
       ],
       "metadata": {},
       "output_type": "display_data",
       "text": [
        "<IPython.core.display.Javascript at 0x1170278d0>"
       ]
      },
      {
       "javascript": [
        "$('div#c7ba5289-ae07-474b-8584-2aac303234c1').width('93%')"
       ],
       "metadata": {},
       "output_type": "display_data",
       "text": [
        "<IPython.core.display.Javascript at 0x1170278d0>"
       ]
      },
      {
       "javascript": [
        "$('div#c7ba5289-ae07-474b-8584-2aac303234c1').width('93%')"
       ],
       "metadata": {},
       "output_type": "display_data",
       "text": [
        "<IPython.core.display.Javascript at 0x1170278d0>"
       ]
      },
      {
       "javascript": [
        "$('div#c7ba5289-ae07-474b-8584-2aac303234c1').width('94%')"
       ],
       "metadata": {},
       "output_type": "display_data",
       "text": [
        "<IPython.core.display.Javascript at 0x1170278d0>"
       ]
      },
      {
       "javascript": [
        "$('div#c7ba5289-ae07-474b-8584-2aac303234c1').width('95%')"
       ],
       "metadata": {},
       "output_type": "display_data",
       "text": [
        "<IPython.core.display.Javascript at 0x1170278d0>"
       ]
      },
      {
       "javascript": [
        "$('div#c7ba5289-ae07-474b-8584-2aac303234c1').width('95%')"
       ],
       "metadata": {},
       "output_type": "display_data",
       "text": [
        "<IPython.core.display.Javascript at 0x1170278d0>"
       ]
      },
      {
       "javascript": [
        "$('div#c7ba5289-ae07-474b-8584-2aac303234c1').width('96%')"
       ],
       "metadata": {},
       "output_type": "display_data",
       "text": [
        "<IPython.core.display.Javascript at 0x1170278d0>"
       ]
      },
      {
       "javascript": [
        "$('div#c7ba5289-ae07-474b-8584-2aac303234c1').width('96%')"
       ],
       "metadata": {},
       "output_type": "display_data",
       "text": [
        "<IPython.core.display.Javascript at 0x1170278d0>"
       ]
      },
      {
       "javascript": [
        "$('div#c7ba5289-ae07-474b-8584-2aac303234c1').width('97%')"
       ],
       "metadata": {},
       "output_type": "display_data",
       "text": [
        "<IPython.core.display.Javascript at 0x1170278d0>"
       ]
      },
      {
       "javascript": [
        "$('div#c7ba5289-ae07-474b-8584-2aac303234c1').width('97%')"
       ],
       "metadata": {},
       "output_type": "display_data",
       "text": [
        "<IPython.core.display.Javascript at 0x1170278d0>"
       ]
      },
      {
       "javascript": [
        "$('div#c7ba5289-ae07-474b-8584-2aac303234c1').width('98%')"
       ],
       "metadata": {},
       "output_type": "display_data",
       "text": [
        "<IPython.core.display.Javascript at 0x1170278d0>"
       ]
      },
      {
       "javascript": [
        "$('div#c7ba5289-ae07-474b-8584-2aac303234c1').width('98%')"
       ],
       "metadata": {},
       "output_type": "display_data",
       "text": [
        "<IPython.core.display.Javascript at 0x1170278d0>"
       ]
      },
      {
       "javascript": [
        "$('div#c7ba5289-ae07-474b-8584-2aac303234c1').width('99%')"
       ],
       "metadata": {},
       "output_type": "display_data",
       "text": [
        "<IPython.core.display.Javascript at 0x1170278d0>"
       ]
      },
      {
       "javascript": [
        "$('div#c7ba5289-ae07-474b-8584-2aac303234c1').width('100%')"
       ],
       "metadata": {},
       "output_type": "display_data",
       "text": [
        "<IPython.core.display.Javascript at 0x117027990>"
       ]
      },
      {
       "html": [
        "<iframe src=http://127.0.0.1:8001/5817964 width=100%% height=420 frameborder=0></iframe>"
       ],
       "metadata": {},
       "output_type": "pyout",
       "prompt_number": 6,
       "text": [
        "<mMR.mMR.UncompressedProjection instance at 0x1170027e8>"
       ]
      }
     ],
     "prompt_number": 6
    },
    {
     "cell_type": "code",
     "collapsed": false,
     "input": [
      "b=SCAN.static.backproject(SCAN.static._measurement_data)z"
     ],
     "language": "python",
     "metadata": {},
     "outputs": [],
     "prompt_number": 8
    },
    {
     "cell_type": "code",
     "collapsed": false,
     "input": [
      "activity.display(scale_factor=0.1)"
     ],
     "language": "python",
     "metadata": {},
     "outputs": [
      {
       "html": [
        "\n",
        "        <div style=\"border: 1px solid white; width:100%%; height:6px; background-color:rgb(246,246,246)\">\n",
        "            <div id=\"745175b5-7887-4073-9bcc-f700bd3499dd\" style=\"background-color:rgb(200,200,200); width:0%; height:6px\"> </div>\n",
        "        </div> \n",
        "        "
       ],
       "metadata": {},
       "output_type": "display_data",
       "text": [
        "<IPython.core.display.HTML at 0x1169c1cd0>"
       ]
      },
      {
       "javascript": [
        "$('div#745175b5-7887-4073-9bcc-f700bd3499dd').width('1%')"
       ],
       "metadata": {},
       "output_type": "display_data",
       "text": [
        "<IPython.core.display.Javascript at 0x10cc90d90>"
       ]
      },
      {
       "javascript": [
        "$('div#745175b5-7887-4073-9bcc-f700bd3499dd').width('1%')"
       ],
       "metadata": {},
       "output_type": "display_data",
       "text": [
        "<IPython.core.display.Javascript at 0x10cc90d90>"
       ]
      },
      {
       "javascript": [
        "$('div#745175b5-7887-4073-9bcc-f700bd3499dd').width('1%')"
       ],
       "metadata": {},
       "output_type": "display_data",
       "text": [
        "<IPython.core.display.Javascript at 0x10cc90d90>"
       ]
      },
      {
       "javascript": [
        "$('div#745175b5-7887-4073-9bcc-f700bd3499dd').width('2%')"
       ],
       "metadata": {},
       "output_type": "display_data",
       "text": [
        "<IPython.core.display.Javascript at 0x10cc90d90>"
       ]
      },
      {
       "javascript": [
        "$('div#745175b5-7887-4073-9bcc-f700bd3499dd').width('3%')"
       ],
       "metadata": {},
       "output_type": "display_data",
       "text": [
        "<IPython.core.display.Javascript at 0x10cc90d90>"
       ]
      },
      {
       "javascript": [
        "$('div#745175b5-7887-4073-9bcc-f700bd3499dd').width('3%')"
       ],
       "metadata": {},
       "output_type": "display_data",
       "text": [
        "<IPython.core.display.Javascript at 0x10cc90d90>"
       ]
      },
      {
       "javascript": [
        "$('div#745175b5-7887-4073-9bcc-f700bd3499dd').width('4%')"
       ],
       "metadata": {},
       "output_type": "display_data",
       "text": [
        "<IPython.core.display.Javascript at 0x10cc90d90>"
       ]
      },
      {
       "javascript": [
        "$('div#745175b5-7887-4073-9bcc-f700bd3499dd').width('5%')"
       ],
       "metadata": {},
       "output_type": "display_data",
       "text": [
        "<IPython.core.display.Javascript at 0x10cc90d90>"
       ]
      },
      {
       "javascript": [
        "$('div#745175b5-7887-4073-9bcc-f700bd3499dd').width('6%')"
       ],
       "metadata": {},
       "output_type": "display_data",
       "text": [
        "<IPython.core.display.Javascript at 0x10cc90d90>"
       ]
      },
      {
       "javascript": [
        "$('div#745175b5-7887-4073-9bcc-f700bd3499dd').width('7%')"
       ],
       "metadata": {},
       "output_type": "display_data",
       "text": [
        "<IPython.core.display.Javascript at 0x10cc90d90>"
       ]
      },
      {
       "javascript": [
        "$('div#745175b5-7887-4073-9bcc-f700bd3499dd').width('7%')"
       ],
       "metadata": {},
       "output_type": "display_data",
       "text": [
        "<IPython.core.display.Javascript at 0x10cc90d90>"
       ]
      },
      {
       "javascript": [
        "$('div#745175b5-7887-4073-9bcc-f700bd3499dd').width('8%')"
       ],
       "metadata": {},
       "output_type": "display_data",
       "text": [
        "<IPython.core.display.Javascript at 0x10cc90d90>"
       ]
      },
      {
       "javascript": [
        "$('div#745175b5-7887-4073-9bcc-f700bd3499dd').width('9%')"
       ],
       "metadata": {},
       "output_type": "display_data",
       "text": [
        "<IPython.core.display.Javascript at 0x10cc90d90>"
       ]
      },
      {
       "javascript": [
        "$('div#745175b5-7887-4073-9bcc-f700bd3499dd').width('10%')"
       ],
       "metadata": {},
       "output_type": "display_data",
       "text": [
        "<IPython.core.display.Javascript at 0x10cc90d90>"
       ]
      },
      {
       "javascript": [
        "$('div#745175b5-7887-4073-9bcc-f700bd3499dd').width('10%')"
       ],
       "metadata": {},
       "output_type": "display_data",
       "text": [
        "<IPython.core.display.Javascript at 0x10cc90d90>"
       ]
      },
      {
       "javascript": [
        "$('div#745175b5-7887-4073-9bcc-f700bd3499dd').width('11%')"
       ],
       "metadata": {},
       "output_type": "display_data",
       "text": [
        "<IPython.core.display.Javascript at 0x10cc90d90>"
       ]
      },
      {
       "javascript": [
        "$('div#745175b5-7887-4073-9bcc-f700bd3499dd').width('12%')"
       ],
       "metadata": {},
       "output_type": "display_data",
       "text": [
        "<IPython.core.display.Javascript at 0x10cc90d90>"
       ]
      },
      {
       "javascript": [
        "$('div#745175b5-7887-4073-9bcc-f700bd3499dd').width('13%')"
       ],
       "metadata": {},
       "output_type": "display_data",
       "text": [
        "<IPython.core.display.Javascript at 0x10cc90d90>"
       ]
      },
      {
       "javascript": [
        "$('div#745175b5-7887-4073-9bcc-f700bd3499dd').width('14%')"
       ],
       "metadata": {},
       "output_type": "display_data",
       "text": [
        "<IPython.core.display.Javascript at 0x10cc90d90>"
       ]
      },
      {
       "javascript": [
        "$('div#745175b5-7887-4073-9bcc-f700bd3499dd').width('14%')"
       ],
       "metadata": {},
       "output_type": "display_data",
       "text": [
        "<IPython.core.display.Javascript at 0x10cc90d90>"
       ]
      },
      {
       "javascript": [
        "$('div#745175b5-7887-4073-9bcc-f700bd3499dd').width('15%')"
       ],
       "metadata": {},
       "output_type": "display_data",
       "text": [
        "<IPython.core.display.Javascript at 0x10cc90d90>"
       ]
      },
      {
       "javascript": [
        "$('div#745175b5-7887-4073-9bcc-f700bd3499dd').width('16%')"
       ],
       "metadata": {},
       "output_type": "display_data",
       "text": [
        "<IPython.core.display.Javascript at 0x10cc90d90>"
       ]
      },
      {
       "javascript": [
        "$('div#745175b5-7887-4073-9bcc-f700bd3499dd').width('17%')"
       ],
       "metadata": {},
       "output_type": "display_data",
       "text": [
        "<IPython.core.display.Javascript at 0x10cc90d90>"
       ]
      },
      {
       "javascript": [
        "$('div#745175b5-7887-4073-9bcc-f700bd3499dd').width('17%')"
       ],
       "metadata": {},
       "output_type": "display_data",
       "text": [
        "<IPython.core.display.Javascript at 0x10cc90d90>"
       ]
      },
      {
       "javascript": [
        "$('div#745175b5-7887-4073-9bcc-f700bd3499dd').width('18%')"
       ],
       "metadata": {},
       "output_type": "display_data",
       "text": [
        "<IPython.core.display.Javascript at 0x10cc90d90>"
       ]
      },
      {
       "javascript": [
        "$('div#745175b5-7887-4073-9bcc-f700bd3499dd').width('19%')"
       ],
       "metadata": {},
       "output_type": "display_data",
       "text": [
        "<IPython.core.display.Javascript at 0x10cc90d90>"
       ]
      },
      {
       "javascript": [
        "$('div#745175b5-7887-4073-9bcc-f700bd3499dd').width('20%')"
       ],
       "metadata": {},
       "output_type": "display_data",
       "text": [
        "<IPython.core.display.Javascript at 0x10cc90d90>"
       ]
      },
      {
       "javascript": [
        "$('div#745175b5-7887-4073-9bcc-f700bd3499dd').width('21%')"
       ],
       "metadata": {},
       "output_type": "display_data",
       "text": [
        "<IPython.core.display.Javascript at 0x10cc90d90>"
       ]
      },
      {
       "javascript": [
        "$('div#745175b5-7887-4073-9bcc-f700bd3499dd').width('21%')"
       ],
       "metadata": {},
       "output_type": "display_data",
       "text": [
        "<IPython.core.display.Javascript at 0x10cc90d90>"
       ]
      },
      {
       "javascript": [
        "$('div#745175b5-7887-4073-9bcc-f700bd3499dd').width('22%')"
       ],
       "metadata": {},
       "output_type": "display_data",
       "text": [
        "<IPython.core.display.Javascript at 0x1169bc450>"
       ]
      },
      {
       "javascript": [
        "$('div#745175b5-7887-4073-9bcc-f700bd3499dd').width('23%')"
       ],
       "metadata": {},
       "output_type": "display_data",
       "text": [
        "<IPython.core.display.Javascript at 0x1169bcc50>"
       ]
      },
      {
       "javascript": [
        "$('div#745175b5-7887-4073-9bcc-f700bd3499dd').width('24%')"
       ],
       "metadata": {},
       "output_type": "display_data",
       "text": [
        "<IPython.core.display.Javascript at 0x10cc90d90>"
       ]
      },
      {
       "javascript": [
        "$('div#745175b5-7887-4073-9bcc-f700bd3499dd').width('25%')"
       ],
       "metadata": {},
       "output_type": "display_data",
       "text": [
        "<IPython.core.display.Javascript at 0x1169bc450>"
       ]
      },
      {
       "javascript": [
        "$('div#745175b5-7887-4073-9bcc-f700bd3499dd').width('25%')"
       ],
       "metadata": {},
       "output_type": "display_data",
       "text": [
        "<IPython.core.display.Javascript at 0x11dc26910>"
       ]
      },
      {
       "javascript": [
        "$('div#745175b5-7887-4073-9bcc-f700bd3499dd').width('26%')"
       ],
       "metadata": {},
       "output_type": "display_data",
       "text": [
        "<IPython.core.display.Javascript at 0x10cc90d90>"
       ]
      },
      {
       "javascript": [
        "$('div#745175b5-7887-4073-9bcc-f700bd3499dd').width('27%')"
       ],
       "metadata": {},
       "output_type": "display_data",
       "text": [
        "<IPython.core.display.Javascript at 0x11dc26910>"
       ]
      },
      {
       "javascript": [
        "$('div#745175b5-7887-4073-9bcc-f700bd3499dd').width('28%')"
       ],
       "metadata": {},
       "output_type": "display_data",
       "text": [
        "<IPython.core.display.Javascript at 0x10cc90d90>"
       ]
      },
      {
       "javascript": [
        "$('div#745175b5-7887-4073-9bcc-f700bd3499dd').width('28%')"
       ],
       "metadata": {},
       "output_type": "display_data",
       "text": [
        "<IPython.core.display.Javascript at 0x1169bc190>"
       ]
      },
      {
       "javascript": [
        "$('div#745175b5-7887-4073-9bcc-f700bd3499dd').width('29%')"
       ],
       "metadata": {},
       "output_type": "display_data",
       "text": [
        "<IPython.core.display.Javascript at 0x11dc26910>"
       ]
      },
      {
       "javascript": [
        "$('div#745175b5-7887-4073-9bcc-f700bd3499dd').width('30%')"
       ],
       "metadata": {},
       "output_type": "display_data",
       "text": [
        "<IPython.core.display.Javascript at 0x1169bc7d0>"
       ]
      },
      {
       "javascript": [
        "$('div#745175b5-7887-4073-9bcc-f700bd3499dd').width('31%')"
       ],
       "metadata": {},
       "output_type": "display_data",
       "text": [
        "<IPython.core.display.Javascript at 0x1169bc7d0>"
       ]
      },
      {
       "javascript": [
        "$('div#745175b5-7887-4073-9bcc-f700bd3499dd').width('32%')"
       ],
       "metadata": {},
       "output_type": "display_data",
       "text": [
        "<IPython.core.display.Javascript at 0x1169bc7d0>"
       ]
      },
      {
       "javascript": [
        "$('div#745175b5-7887-4073-9bcc-f700bd3499dd').width('32%')"
       ],
       "metadata": {},
       "output_type": "display_data",
       "text": [
        "<IPython.core.display.Javascript at 0x1169bc7d0>"
       ]
      },
      {
       "javascript": [
        "$('div#745175b5-7887-4073-9bcc-f700bd3499dd').width('33%')"
       ],
       "metadata": {},
       "output_type": "display_data",
       "text": [
        "<IPython.core.display.Javascript at 0x1169bc7d0>"
       ]
      },
      {
       "javascript": [
        "$('div#745175b5-7887-4073-9bcc-f700bd3499dd').width('34%')"
       ],
       "metadata": {},
       "output_type": "display_data",
       "text": [
        "<IPython.core.display.Javascript at 0x1169bc7d0>"
       ]
      },
      {
       "javascript": [
        "$('div#745175b5-7887-4073-9bcc-f700bd3499dd').width('35%')"
       ],
       "metadata": {},
       "output_type": "display_data",
       "text": [
        "<IPython.core.display.Javascript at 0x1169bc7d0>"
       ]
      },
      {
       "javascript": [
        "$('div#745175b5-7887-4073-9bcc-f700bd3499dd').width('35%')"
       ],
       "metadata": {},
       "output_type": "display_data",
       "text": [
        "<IPython.core.display.Javascript at 0x1169bc7d0>"
       ]
      },
      {
       "javascript": [
        "$('div#745175b5-7887-4073-9bcc-f700bd3499dd').width('36%')"
       ],
       "metadata": {},
       "output_type": "display_data",
       "text": [
        "<IPython.core.display.Javascript at 0x1169bc7d0>"
       ]
      },
      {
       "javascript": [
        "$('div#745175b5-7887-4073-9bcc-f700bd3499dd').width('37%')"
       ],
       "metadata": {},
       "output_type": "display_data",
       "text": [
        "<IPython.core.display.Javascript at 0x1169bc7d0>"
       ]
      },
      {
       "javascript": [
        "$('div#745175b5-7887-4073-9bcc-f700bd3499dd').width('38%')"
       ],
       "metadata": {},
       "output_type": "display_data",
       "text": [
        "<IPython.core.display.Javascript at 0x1169bc7d0>"
       ]
      },
      {
       "javascript": [
        "$('div#745175b5-7887-4073-9bcc-f700bd3499dd').width('39%')"
       ],
       "metadata": {},
       "output_type": "display_data",
       "text": [
        "<IPython.core.display.Javascript at 0x1169bc7d0>"
       ]
      },
      {
       "javascript": [
        "$('div#745175b5-7887-4073-9bcc-f700bd3499dd').width('39%')"
       ],
       "metadata": {},
       "output_type": "display_data",
       "text": [
        "<IPython.core.display.Javascript at 0x1169bc7d0>"
       ]
      },
      {
       "javascript": [
        "$('div#745175b5-7887-4073-9bcc-f700bd3499dd').width('40%')"
       ],
       "metadata": {},
       "output_type": "display_data",
       "text": [
        "<IPython.core.display.Javascript at 0x1169bc7d0>"
       ]
      },
      {
       "javascript": [
        "$('div#745175b5-7887-4073-9bcc-f700bd3499dd').width('41%')"
       ],
       "metadata": {},
       "output_type": "display_data",
       "text": [
        "<IPython.core.display.Javascript at 0x1169bc7d0>"
       ]
      },
      {
       "javascript": [
        "$('div#745175b5-7887-4073-9bcc-f700bd3499dd').width('42%')"
       ],
       "metadata": {},
       "output_type": "display_data",
       "text": [
        "<IPython.core.display.Javascript at 0x1169bc7d0>"
       ]
      },
      {
       "javascript": [
        "$('div#745175b5-7887-4073-9bcc-f700bd3499dd').width('42%')"
       ],
       "metadata": {},
       "output_type": "display_data",
       "text": [
        "<IPython.core.display.Javascript at 0x1169bc7d0>"
       ]
      },
      {
       "javascript": [
        "$('div#745175b5-7887-4073-9bcc-f700bd3499dd').width('43%')"
       ],
       "metadata": {},
       "output_type": "display_data",
       "text": [
        "<IPython.core.display.Javascript at 0x1169bc7d0>"
       ]
      },
      {
       "javascript": [
        "$('div#745175b5-7887-4073-9bcc-f700bd3499dd').width('44%')"
       ],
       "metadata": {},
       "output_type": "display_data",
       "text": [
        "<IPython.core.display.Javascript at 0x1169bc7d0>"
       ]
      },
      {
       "javascript": [
        "$('div#745175b5-7887-4073-9bcc-f700bd3499dd').width('45%')"
       ],
       "metadata": {},
       "output_type": "display_data",
       "text": [
        "<IPython.core.display.Javascript at 0x1169bc7d0>"
       ]
      },
      {
       "javascript": [
        "$('div#745175b5-7887-4073-9bcc-f700bd3499dd').width('46%')"
       ],
       "metadata": {},
       "output_type": "display_data",
       "text": [
        "<IPython.core.display.Javascript at 0x1169bc7d0>"
       ]
      },
      {
       "javascript": [
        "$('div#745175b5-7887-4073-9bcc-f700bd3499dd').width('46%')"
       ],
       "metadata": {},
       "output_type": "display_data",
       "text": [
        "<IPython.core.display.Javascript at 0x1169bc7d0>"
       ]
      },
      {
       "javascript": [
        "$('div#745175b5-7887-4073-9bcc-f700bd3499dd').width('47%')"
       ],
       "metadata": {},
       "output_type": "display_data",
       "text": [
        "<IPython.core.display.Javascript at 0x1169bc7d0>"
       ]
      },
      {
       "javascript": [
        "$('div#745175b5-7887-4073-9bcc-f700bd3499dd').width('48%')"
       ],
       "metadata": {},
       "output_type": "display_data",
       "text": [
        "<IPython.core.display.Javascript at 0x1169bc7d0>"
       ]
      },
      {
       "javascript": [
        "$('div#745175b5-7887-4073-9bcc-f700bd3499dd').width('49%')"
       ],
       "metadata": {},
       "output_type": "display_data",
       "text": [
        "<IPython.core.display.Javascript at 0x1169bc7d0>"
       ]
      },
      {
       "javascript": [
        "$('div#745175b5-7887-4073-9bcc-f700bd3499dd').width('50%')"
       ],
       "metadata": {},
       "output_type": "display_data",
       "text": [
        "<IPython.core.display.Javascript at 0x1169bc7d0>"
       ]
      },
      {
       "javascript": [
        "$('div#745175b5-7887-4073-9bcc-f700bd3499dd').width('50%')"
       ],
       "metadata": {},
       "output_type": "display_data",
       "text": [
        "<IPython.core.display.Javascript at 0x1169bc7d0>"
       ]
      },
      {
       "javascript": [
        "$('div#745175b5-7887-4073-9bcc-f700bd3499dd').width('51%')"
       ],
       "metadata": {},
       "output_type": "display_data",
       "text": [
        "<IPython.core.display.Javascript at 0x1169bc7d0>"
       ]
      },
      {
       "javascript": [
        "$('div#745175b5-7887-4073-9bcc-f700bd3499dd').width('52%')"
       ],
       "metadata": {},
       "output_type": "display_data",
       "text": [
        "<IPython.core.display.Javascript at 0x1169bc7d0>"
       ]
      },
      {
       "javascript": [
        "$('div#745175b5-7887-4073-9bcc-f700bd3499dd').width('53%')"
       ],
       "metadata": {},
       "output_type": "display_data",
       "text": [
        "<IPython.core.display.Javascript at 0x1169bc7d0>"
       ]
      },
      {
       "javascript": [
        "$('div#745175b5-7887-4073-9bcc-f700bd3499dd').width('53%')"
       ],
       "metadata": {},
       "output_type": "display_data",
       "text": [
        "<IPython.core.display.Javascript at 0x1169bc7d0>"
       ]
      },
      {
       "javascript": [
        "$('div#745175b5-7887-4073-9bcc-f700bd3499dd').width('54%')"
       ],
       "metadata": {},
       "output_type": "display_data",
       "text": [
        "<IPython.core.display.Javascript at 0x1169bc7d0>"
       ]
      },
      {
       "javascript": [
        "$('div#745175b5-7887-4073-9bcc-f700bd3499dd').width('55%')"
       ],
       "metadata": {},
       "output_type": "display_data",
       "text": [
        "<IPython.core.display.Javascript at 0x1169bc7d0>"
       ]
      },
      {
       "javascript": [
        "$('div#745175b5-7887-4073-9bcc-f700bd3499dd').width('56%')"
       ],
       "metadata": {},
       "output_type": "display_data",
       "text": [
        "<IPython.core.display.Javascript at 0x1169bc7d0>"
       ]
      },
      {
       "javascript": [
        "$('div#745175b5-7887-4073-9bcc-f700bd3499dd').width('57%')"
       ],
       "metadata": {},
       "output_type": "display_data",
       "text": [
        "<IPython.core.display.Javascript at 0x1169bc7d0>"
       ]
      },
      {
       "javascript": [
        "$('div#745175b5-7887-4073-9bcc-f700bd3499dd').width('57%')"
       ],
       "metadata": {},
       "output_type": "display_data",
       "text": [
        "<IPython.core.display.Javascript at 0x1169bc7d0>"
       ]
      },
      {
       "javascript": [
        "$('div#745175b5-7887-4073-9bcc-f700bd3499dd').width('58%')"
       ],
       "metadata": {},
       "output_type": "display_data",
       "text": [
        "<IPython.core.display.Javascript at 0x1169bc7d0>"
       ]
      },
      {
       "javascript": [
        "$('div#745175b5-7887-4073-9bcc-f700bd3499dd').width('59%')"
       ],
       "metadata": {},
       "output_type": "display_data",
       "text": [
        "<IPython.core.display.Javascript at 0x1169bc7d0>"
       ]
      },
      {
       "javascript": [
        "$('div#745175b5-7887-4073-9bcc-f700bd3499dd').width('60%')"
       ],
       "metadata": {},
       "output_type": "display_data",
       "text": [
        "<IPython.core.display.Javascript at 0x1169bc7d0>"
       ]
      },
      {
       "javascript": [
        "$('div#745175b5-7887-4073-9bcc-f700bd3499dd').width('60%')"
       ],
       "metadata": {},
       "output_type": "display_data",
       "text": [
        "<IPython.core.display.Javascript at 0x1169bc7d0>"
       ]
      },
      {
       "javascript": [
        "$('div#745175b5-7887-4073-9bcc-f700bd3499dd').width('61%')"
       ],
       "metadata": {},
       "output_type": "display_data",
       "text": [
        "<IPython.core.display.Javascript at 0x1169bc7d0>"
       ]
      },
      {
       "javascript": [
        "$('div#745175b5-7887-4073-9bcc-f700bd3499dd').width('62%')"
       ],
       "metadata": {},
       "output_type": "display_data",
       "text": [
        "<IPython.core.display.Javascript at 0x1169bc7d0>"
       ]
      },
      {
       "javascript": [
        "$('div#745175b5-7887-4073-9bcc-f700bd3499dd').width('63%')"
       ],
       "metadata": {},
       "output_type": "display_data",
       "text": [
        "<IPython.core.display.Javascript at 0x1169bc7d0>"
       ]
      },
      {
       "javascript": [
        "$('div#745175b5-7887-4073-9bcc-f700bd3499dd').width('64%')"
       ],
       "metadata": {},
       "output_type": "display_data",
       "text": [
        "<IPython.core.display.Javascript at 0x1169bc7d0>"
       ]
      },
      {
       "javascript": [
        "$('div#745175b5-7887-4073-9bcc-f700bd3499dd').width('64%')"
       ],
       "metadata": {},
       "output_type": "display_data",
       "text": [
        "<IPython.core.display.Javascript at 0x1169bc7d0>"
       ]
      },
      {
       "javascript": [
        "$('div#745175b5-7887-4073-9bcc-f700bd3499dd').width('65%')"
       ],
       "metadata": {},
       "output_type": "display_data",
       "text": [
        "<IPython.core.display.Javascript at 0x1169bc7d0>"
       ]
      },
      {
       "javascript": [
        "$('div#745175b5-7887-4073-9bcc-f700bd3499dd').width('66%')"
       ],
       "metadata": {},
       "output_type": "display_data",
       "text": [
        "<IPython.core.display.Javascript at 0x1169bc7d0>"
       ]
      },
      {
       "javascript": [
        "$('div#745175b5-7887-4073-9bcc-f700bd3499dd').width('67%')"
       ],
       "metadata": {},
       "output_type": "display_data",
       "text": [
        "<IPython.core.display.Javascript at 0x1169bc7d0>"
       ]
      },
      {
       "javascript": [
        "$('div#745175b5-7887-4073-9bcc-f700bd3499dd').width('67%')"
       ],
       "metadata": {},
       "output_type": "display_data",
       "text": [
        "<IPython.core.display.Javascript at 0x1169bc7d0>"
       ]
      },
      {
       "javascript": [
        "$('div#745175b5-7887-4073-9bcc-f700bd3499dd').width('68%')"
       ],
       "metadata": {},
       "output_type": "display_data",
       "text": [
        "<IPython.core.display.Javascript at 0x1169bc7d0>"
       ]
      },
      {
       "javascript": [
        "$('div#745175b5-7887-4073-9bcc-f700bd3499dd').width('69%')"
       ],
       "metadata": {},
       "output_type": "display_data",
       "text": [
        "<IPython.core.display.Javascript at 0x1169bc7d0>"
       ]
      },
      {
       "javascript": [
        "$('div#745175b5-7887-4073-9bcc-f700bd3499dd').width('70%')"
       ],
       "metadata": {},
       "output_type": "display_data",
       "text": [
        "<IPython.core.display.Javascript at 0x1169bc7d0>"
       ]
      },
      {
       "javascript": [
        "$('div#745175b5-7887-4073-9bcc-f700bd3499dd').width('71%')"
       ],
       "metadata": {},
       "output_type": "display_data",
       "text": [
        "<IPython.core.display.Javascript at 0x1169bc7d0>"
       ]
      },
      {
       "javascript": [
        "$('div#745175b5-7887-4073-9bcc-f700bd3499dd').width('71%')"
       ],
       "metadata": {},
       "output_type": "display_data",
       "text": [
        "<IPython.core.display.Javascript at 0x1169bc7d0>"
       ]
      },
      {
       "javascript": [
        "$('div#745175b5-7887-4073-9bcc-f700bd3499dd').width('72%')"
       ],
       "metadata": {},
       "output_type": "display_data",
       "text": [
        "<IPython.core.display.Javascript at 0x1169bc7d0>"
       ]
      },
      {
       "javascript": [
        "$('div#745175b5-7887-4073-9bcc-f700bd3499dd').width('73%')"
       ],
       "metadata": {},
       "output_type": "display_data",
       "text": [
        "<IPython.core.display.Javascript at 0x1169bc7d0>"
       ]
      },
      {
       "javascript": [
        "$('div#745175b5-7887-4073-9bcc-f700bd3499dd').width('74%')"
       ],
       "metadata": {},
       "output_type": "display_data",
       "text": [
        "<IPython.core.display.Javascript at 0x1169bc7d0>"
       ]
      },
      {
       "javascript": [
        "$('div#745175b5-7887-4073-9bcc-f700bd3499dd').width('75%')"
       ],
       "metadata": {},
       "output_type": "display_data",
       "text": [
        "<IPython.core.display.Javascript at 0x1169bc7d0>"
       ]
      },
      {
       "javascript": [
        "$('div#745175b5-7887-4073-9bcc-f700bd3499dd').width('75%')"
       ],
       "metadata": {},
       "output_type": "display_data",
       "text": [
        "<IPython.core.display.Javascript at 0x1169bc7d0>"
       ]
      },
      {
       "javascript": [
        "$('div#745175b5-7887-4073-9bcc-f700bd3499dd').width('76%')"
       ],
       "metadata": {},
       "output_type": "display_data",
       "text": [
        "<IPython.core.display.Javascript at 0x1169bc7d0>"
       ]
      },
      {
       "javascript": [
        "$('div#745175b5-7887-4073-9bcc-f700bd3499dd').width('77%')"
       ],
       "metadata": {},
       "output_type": "display_data",
       "text": [
        "<IPython.core.display.Javascript at 0x1169bc7d0>"
       ]
      },
      {
       "javascript": [
        "$('div#745175b5-7887-4073-9bcc-f700bd3499dd').width('78%')"
       ],
       "metadata": {},
       "output_type": "display_data",
       "text": [
        "<IPython.core.display.Javascript at 0x1169bc7d0>"
       ]
      },
      {
       "javascript": [
        "$('div#745175b5-7887-4073-9bcc-f700bd3499dd').width('78%')"
       ],
       "metadata": {},
       "output_type": "display_data",
       "text": [
        "<IPython.core.display.Javascript at 0x1169bc7d0>"
       ]
      },
      {
       "javascript": [
        "$('div#745175b5-7887-4073-9bcc-f700bd3499dd').width('79%')"
       ],
       "metadata": {},
       "output_type": "display_data",
       "text": [
        "<IPython.core.display.Javascript at 0x1169bc7d0>"
       ]
      },
      {
       "javascript": [
        "$('div#745175b5-7887-4073-9bcc-f700bd3499dd').width('80%')"
       ],
       "metadata": {},
       "output_type": "display_data",
       "text": [
        "<IPython.core.display.Javascript at 0x1169bc7d0>"
       ]
      },
      {
       "javascript": [
        "$('div#745175b5-7887-4073-9bcc-f700bd3499dd').width('81%')"
       ],
       "metadata": {},
       "output_type": "display_data",
       "text": [
        "<IPython.core.display.Javascript at 0x1169bc7d0>"
       ]
      },
      {
       "javascript": [
        "$('div#745175b5-7887-4073-9bcc-f700bd3499dd').width('82%')"
       ],
       "metadata": {},
       "output_type": "display_data",
       "text": [
        "<IPython.core.display.Javascript at 0x1169bc7d0>"
       ]
      },
      {
       "javascript": [
        "$('div#745175b5-7887-4073-9bcc-f700bd3499dd').width('82%')"
       ],
       "metadata": {},
       "output_type": "display_data",
       "text": [
        "<IPython.core.display.Javascript at 0x1169bc7d0>"
       ]
      },
      {
       "javascript": [
        "$('div#745175b5-7887-4073-9bcc-f700bd3499dd').width('83%')"
       ],
       "metadata": {},
       "output_type": "display_data",
       "text": [
        "<IPython.core.display.Javascript at 0x1169bc7d0>"
       ]
      },
      {
       "javascript": [
        "$('div#745175b5-7887-4073-9bcc-f700bd3499dd').width('84%')"
       ],
       "metadata": {},
       "output_type": "display_data",
       "text": [
        "<IPython.core.display.Javascript at 0x1169bc7d0>"
       ]
      },
      {
       "javascript": [
        "$('div#745175b5-7887-4073-9bcc-f700bd3499dd').width('85%')"
       ],
       "metadata": {},
       "output_type": "display_data",
       "text": [
        "<IPython.core.display.Javascript at 0x1169bc7d0>"
       ]
      },
      {
       "javascript": [
        "$('div#745175b5-7887-4073-9bcc-f700bd3499dd').width('85%')"
       ],
       "metadata": {},
       "output_type": "display_data",
       "text": [
        "<IPython.core.display.Javascript at 0x1169bc7d0>"
       ]
      },
      {
       "javascript": [
        "$('div#745175b5-7887-4073-9bcc-f700bd3499dd').width('86%')"
       ],
       "metadata": {},
       "output_type": "display_data",
       "text": [
        "<IPython.core.display.Javascript at 0x1169bc7d0>"
       ]
      },
      {
       "javascript": [
        "$('div#745175b5-7887-4073-9bcc-f700bd3499dd').width('87%')"
       ],
       "metadata": {},
       "output_type": "display_data",
       "text": [
        "<IPython.core.display.Javascript at 0x1169bc7d0>"
       ]
      },
      {
       "javascript": [
        "$('div#745175b5-7887-4073-9bcc-f700bd3499dd').width('88%')"
       ],
       "metadata": {},
       "output_type": "display_data",
       "text": [
        "<IPython.core.display.Javascript at 0x1169bc7d0>"
       ]
      },
      {
       "javascript": [
        "$('div#745175b5-7887-4073-9bcc-f700bd3499dd').width('89%')"
       ],
       "metadata": {},
       "output_type": "display_data",
       "text": [
        "<IPython.core.display.Javascript at 0x1169bc7d0>"
       ]
      },
      {
       "javascript": [
        "$('div#745175b5-7887-4073-9bcc-f700bd3499dd').width('89%')"
       ],
       "metadata": {},
       "output_type": "display_data",
       "text": [
        "<IPython.core.display.Javascript at 0x1169bc7d0>"
       ]
      },
      {
       "javascript": [
        "$('div#745175b5-7887-4073-9bcc-f700bd3499dd').width('90%')"
       ],
       "metadata": {},
       "output_type": "display_data",
       "text": [
        "<IPython.core.display.Javascript at 0x1169bc7d0>"
       ]
      },
      {
       "javascript": [
        "$('div#745175b5-7887-4073-9bcc-f700bd3499dd').width('91%')"
       ],
       "metadata": {},
       "output_type": "display_data",
       "text": [
        "<IPython.core.display.Javascript at 0x1169bc7d0>"
       ]
      },
      {
       "javascript": [
        "$('div#745175b5-7887-4073-9bcc-f700bd3499dd').width('92%')"
       ],
       "metadata": {},
       "output_type": "display_data",
       "text": [
        "<IPython.core.display.Javascript at 0x1169bc7d0>"
       ]
      },
      {
       "javascript": [
        "$('div#745175b5-7887-4073-9bcc-f700bd3499dd').width('92%')"
       ],
       "metadata": {},
       "output_type": "display_data",
       "text": [
        "<IPython.core.display.Javascript at 0x1169bc7d0>"
       ]
      },
      {
       "javascript": [
        "$('div#745175b5-7887-4073-9bcc-f700bd3499dd').width('93%')"
       ],
       "metadata": {},
       "output_type": "display_data",
       "text": [
        "<IPython.core.display.Javascript at 0x1169bc7d0>"
       ]
      },
      {
       "javascript": [
        "$('div#745175b5-7887-4073-9bcc-f700bd3499dd').width('94%')"
       ],
       "metadata": {},
       "output_type": "display_data",
       "text": [
        "<IPython.core.display.Javascript at 0x1169bc7d0>"
       ]
      },
      {
       "javascript": [
        "$('div#745175b5-7887-4073-9bcc-f700bd3499dd').width('95%')"
       ],
       "metadata": {},
       "output_type": "display_data",
       "text": [
        "<IPython.core.display.Javascript at 0x1169bc7d0>"
       ]
      },
      {
       "javascript": [
        "$('div#745175b5-7887-4073-9bcc-f700bd3499dd').width('96%')"
       ],
       "metadata": {},
       "output_type": "display_data",
       "text": [
        "<IPython.core.display.Javascript at 0x1169bc7d0>"
       ]
      },
      {
       "javascript": [
        "$('div#745175b5-7887-4073-9bcc-f700bd3499dd').width('96%')"
       ],
       "metadata": {},
       "output_type": "display_data",
       "text": [
        "<IPython.core.display.Javascript at 0x1169bc7d0>"
       ]
      },
      {
       "javascript": [
        "$('div#745175b5-7887-4073-9bcc-f700bd3499dd').width('97%')"
       ],
       "metadata": {},
       "output_type": "display_data",
       "text": [
        "<IPython.core.display.Javascript at 0x1169bc7d0>"
       ]
      },
      {
       "javascript": [
        "$('div#745175b5-7887-4073-9bcc-f700bd3499dd').width('98%')"
       ],
       "metadata": {},
       "output_type": "display_data",
       "text": [
        "<IPython.core.display.Javascript at 0x1169bc7d0>"
       ]
      },
      {
       "javascript": [
        "$('div#745175b5-7887-4073-9bcc-f700bd3499dd').width('99%')"
       ],
       "metadata": {},
       "output_type": "display_data",
       "text": [
        "<IPython.core.display.Javascript at 0x1169bc7d0>"
       ]
      },
      {
       "javascript": [
        "$('div#745175b5-7887-4073-9bcc-f700bd3499dd').width('100%')"
       ],
       "metadata": {},
       "output_type": "display_data",
       "text": [
        "<IPython.core.display.Javascript at 0x11fc46fd0>"
       ]
      },
      {
       "html": [
        "<iframe src=http://127.0.0.1:8001/4973249 width=100%% height=420 frameborder=0></iframe>"
       ],
       "metadata": {},
       "output_type": "pyout",
       "prompt_number": 13,
       "text": [
        "<DisplayNode.DisplayNodeProxy.DisplayNode instance at 0x11fc579e0>"
       ]
      }
     ],
     "prompt_number": 13
    },
    {
     "cell_type": "code",
     "collapsed": false,
     "input": [
      "activity.data.max()"
     ],
     "language": "python",
     "metadata": {},
     "outputs": [
      {
       "metadata": {},
       "output_type": "pyout",
       "prompt_number": 18,
       "text": [
        "153093.08"
       ]
      }
     ],
     "prompt_number": 18
    },
    {
     "cell_type": "code",
     "collapsed": false,
     "input": [
      "P = SCAN.static.uncompress(p)\n"
     ],
     "language": "python",
     "metadata": {},
     "outputs": [],
     "prompt_number": 9
    },
    {
     "cell_type": "code",
     "collapsed": false,
     "input": [
      "SCAN.static.backprojection_parameters.direction=7\n",
      "b=SCAN.static.backproject(SCAN.static._measurement_data)\n",
      "SCAN.static.volume_render(b,scale=1)"
     ],
     "language": "python",
     "metadata": {},
     "outputs": [
      {
       "html": [
        "\n",
        "        <div style=\"border: 1px solid white; width:100%%; height:6px; background-color:rgb(246,246,246)\">\n",
        "            <div id=\"3fd40318-984c-4504-b6fe-c897cec18e5d\" style=\"background-color:rgb(200,200,200); width:0%; height:6px\"> </div>\n",
        "        </div> \n",
        "        "
       ],
       "metadata": {},
       "output_type": "display_data",
       "text": [
        "<IPython.core.display.HTML at 0x118e06310>"
       ]
      },
      {
       "javascript": [
        "$('div#3fd40318-984c-4504-b6fe-c897cec18e5d').width('1%')"
       ],
       "metadata": {},
       "output_type": "display_data",
       "text": [
        "<IPython.core.display.Javascript at 0x118e06c10>"
       ]
      },
      {
       "javascript": [
        "$('div#3fd40318-984c-4504-b6fe-c897cec18e5d').width('1%')"
       ],
       "metadata": {},
       "output_type": "display_data",
       "text": [
        "<IPython.core.display.Javascript at 0x118e06c10>"
       ]
      },
      {
       "javascript": [
        "$('div#3fd40318-984c-4504-b6fe-c897cec18e5d').width('1%')"
       ],
       "metadata": {},
       "output_type": "display_data",
       "text": [
        "<IPython.core.display.Javascript at 0x118e06c10>"
       ]
      },
      {
       "javascript": [
        "$('div#3fd40318-984c-4504-b6fe-c897cec18e5d').width('1%')"
       ],
       "metadata": {},
       "output_type": "display_data",
       "text": [
        "<IPython.core.display.Javascript at 0x118e06c10>"
       ]
      },
      {
       "javascript": [
        "$('div#3fd40318-984c-4504-b6fe-c897cec18e5d').width('2%')"
       ],
       "metadata": {},
       "output_type": "display_data",
       "text": [
        "<IPython.core.display.Javascript at 0x118e06c10>"
       ]
      },
      {
       "javascript": [
        "$('div#3fd40318-984c-4504-b6fe-c897cec18e5d').width('2%')"
       ],
       "metadata": {},
       "output_type": "display_data",
       "text": [
        "<IPython.core.display.Javascript at 0x118e06c10>"
       ]
      },
      {
       "javascript": [
        "$('div#3fd40318-984c-4504-b6fe-c897cec18e5d').width('3%')"
       ],
       "metadata": {},
       "output_type": "display_data",
       "text": [
        "<IPython.core.display.Javascript at 0x118e06c10>"
       ]
      },
      {
       "javascript": [
        "$('div#3fd40318-984c-4504-b6fe-c897cec18e5d').width('3%')"
       ],
       "metadata": {},
       "output_type": "display_data",
       "text": [
        "<IPython.core.display.Javascript at 0x118e06c10>"
       ]
      },
      {
       "javascript": [
        "$('div#3fd40318-984c-4504-b6fe-c897cec18e5d').width('4%')"
       ],
       "metadata": {},
       "output_type": "display_data",
       "text": [
        "<IPython.core.display.Javascript at 0x118e06c10>"
       ]
      },
      {
       "javascript": [
        "$('div#3fd40318-984c-4504-b6fe-c897cec18e5d').width('5%')"
       ],
       "metadata": {},
       "output_type": "display_data",
       "text": [
        "<IPython.core.display.Javascript at 0x118e06c10>"
       ]
      },
      {
       "javascript": [
        "$('div#3fd40318-984c-4504-b6fe-c897cec18e5d').width('5%')"
       ],
       "metadata": {},
       "output_type": "display_data",
       "text": [
        "<IPython.core.display.Javascript at 0x118e06c10>"
       ]
      },
      {
       "javascript": [
        "$('div#3fd40318-984c-4504-b6fe-c897cec18e5d').width('6%')"
       ],
       "metadata": {},
       "output_type": "display_data",
       "text": [
        "<IPython.core.display.Javascript at 0x118e06c10>"
       ]
      },
      {
       "javascript": [
        "$('div#3fd40318-984c-4504-b6fe-c897cec18e5d').width('6%')"
       ],
       "metadata": {},
       "output_type": "display_data",
       "text": [
        "<IPython.core.display.Javascript at 0x118e06c10>"
       ]
      },
      {
       "javascript": [
        "$('div#3fd40318-984c-4504-b6fe-c897cec18e5d').width('7%')"
       ],
       "metadata": {},
       "output_type": "display_data",
       "text": [
        "<IPython.core.display.Javascript at 0x118e06c10>"
       ]
      },
      {
       "javascript": [
        "$('div#3fd40318-984c-4504-b6fe-c897cec18e5d').width('7%')"
       ],
       "metadata": {},
       "output_type": "display_data",
       "text": [
        "<IPython.core.display.Javascript at 0x118e06c10>"
       ]
      },
      {
       "javascript": [
        "$('div#3fd40318-984c-4504-b6fe-c897cec18e5d').width('8%')"
       ],
       "metadata": {},
       "output_type": "display_data",
       "text": [
        "<IPython.core.display.Javascript at 0x118e06c10>"
       ]
      },
      {
       "javascript": [
        "$('div#3fd40318-984c-4504-b6fe-c897cec18e5d').width('8%')"
       ],
       "metadata": {},
       "output_type": "display_data",
       "text": [
        "<IPython.core.display.Javascript at 0x118e06c10>"
       ]
      },
      {
       "javascript": [
        "$('div#3fd40318-984c-4504-b6fe-c897cec18e5d').width('9%')"
       ],
       "metadata": {},
       "output_type": "display_data",
       "text": [
        "<IPython.core.display.Javascript at 0x118e06c10>"
       ]
      },
      {
       "javascript": [
        "$('div#3fd40318-984c-4504-b6fe-c897cec18e5d').width('10%')"
       ],
       "metadata": {},
       "output_type": "display_data",
       "text": [
        "<IPython.core.display.Javascript at 0x118e06c10>"
       ]
      },
      {
       "javascript": [
        "$('div#3fd40318-984c-4504-b6fe-c897cec18e5d').width('10%')"
       ],
       "metadata": {},
       "output_type": "display_data",
       "text": [
        "<IPython.core.display.Javascript at 0x118e06c10>"
       ]
      },
      {
       "javascript": [
        "$('div#3fd40318-984c-4504-b6fe-c897cec18e5d').width('11%')"
       ],
       "metadata": {},
       "output_type": "display_data",
       "text": [
        "<IPython.core.display.Javascript at 0x118e06c10>"
       ]
      },
      {
       "javascript": [
        "$('div#3fd40318-984c-4504-b6fe-c897cec18e5d').width('11%')"
       ],
       "metadata": {},
       "output_type": "display_data",
       "text": [
        "<IPython.core.display.Javascript at 0x118e06c10>"
       ]
      },
      {
       "javascript": [
        "$('div#3fd40318-984c-4504-b6fe-c897cec18e5d').width('12%')"
       ],
       "metadata": {},
       "output_type": "display_data",
       "text": [
        "<IPython.core.display.Javascript at 0x118e06c10>"
       ]
      },
      {
       "javascript": [
        "$('div#3fd40318-984c-4504-b6fe-c897cec18e5d').width('12%')"
       ],
       "metadata": {},
       "output_type": "display_data",
       "text": [
        "<IPython.core.display.Javascript at 0x118e06c10>"
       ]
      },
      {
       "javascript": [
        "$('div#3fd40318-984c-4504-b6fe-c897cec18e5d').width('13%')"
       ],
       "metadata": {},
       "output_type": "display_data",
       "text": [
        "<IPython.core.display.Javascript at 0x118e06c10>"
       ]
      },
      {
       "javascript": [
        "$('div#3fd40318-984c-4504-b6fe-c897cec18e5d').width('13%')"
       ],
       "metadata": {},
       "output_type": "display_data",
       "text": [
        "<IPython.core.display.Javascript at 0x118e06c10>"
       ]
      },
      {
       "javascript": [
        "$('div#3fd40318-984c-4504-b6fe-c897cec18e5d').width('14%')"
       ],
       "metadata": {},
       "output_type": "display_data",
       "text": [
        "<IPython.core.display.Javascript at 0x118e06c10>"
       ]
      },
      {
       "javascript": [
        "$('div#3fd40318-984c-4504-b6fe-c897cec18e5d').width('15%')"
       ],
       "metadata": {},
       "output_type": "display_data",
       "text": [
        "<IPython.core.display.Javascript at 0x118e06c10>"
       ]
      },
      {
       "javascript": [
        "$('div#3fd40318-984c-4504-b6fe-c897cec18e5d').width('15%')"
       ],
       "metadata": {},
       "output_type": "display_data",
       "text": [
        "<IPython.core.display.Javascript at 0x118e06c10>"
       ]
      },
      {
       "javascript": [
        "$('div#3fd40318-984c-4504-b6fe-c897cec18e5d').width('16%')"
       ],
       "metadata": {},
       "output_type": "display_data",
       "text": [
        "<IPython.core.display.Javascript at 0x118e06c10>"
       ]
      },
      {
       "javascript": [
        "$('div#3fd40318-984c-4504-b6fe-c897cec18e5d').width('16%')"
       ],
       "metadata": {},
       "output_type": "display_data",
       "text": [
        "<IPython.core.display.Javascript at 0x118e06c10>"
       ]
      },
      {
       "javascript": [
        "$('div#3fd40318-984c-4504-b6fe-c897cec18e5d').width('17%')"
       ],
       "metadata": {},
       "output_type": "display_data",
       "text": [
        "<IPython.core.display.Javascript at 0x118e06c10>"
       ]
      },
      {
       "javascript": [
        "$('div#3fd40318-984c-4504-b6fe-c897cec18e5d').width('17%')"
       ],
       "metadata": {},
       "output_type": "display_data",
       "text": [
        "<IPython.core.display.Javascript at 0x118e06c10>"
       ]
      },
      {
       "javascript": [
        "$('div#3fd40318-984c-4504-b6fe-c897cec18e5d').width('18%')"
       ],
       "metadata": {},
       "output_type": "display_data",
       "text": [
        "<IPython.core.display.Javascript at 0x118e06c10>"
       ]
      },
      {
       "javascript": [
        "$('div#3fd40318-984c-4504-b6fe-c897cec18e5d').width('18%')"
       ],
       "metadata": {},
       "output_type": "display_data",
       "text": [
        "<IPython.core.display.Javascript at 0x118e06c10>"
       ]
      },
      {
       "javascript": [
        "$('div#3fd40318-984c-4504-b6fe-c897cec18e5d').width('19%')"
       ],
       "metadata": {},
       "output_type": "display_data",
       "text": [
        "<IPython.core.display.Javascript at 0x118e06c10>"
       ]
      },
      {
       "javascript": [
        "$('div#3fd40318-984c-4504-b6fe-c897cec18e5d').width('20%')"
       ],
       "metadata": {},
       "output_type": "display_data",
       "text": [
        "<IPython.core.display.Javascript at 0x118e06c10>"
       ]
      },
      {
       "javascript": [
        "$('div#3fd40318-984c-4504-b6fe-c897cec18e5d').width('20%')"
       ],
       "metadata": {},
       "output_type": "display_data",
       "text": [
        "<IPython.core.display.Javascript at 0x118e06c10>"
       ]
      },
      {
       "javascript": [
        "$('div#3fd40318-984c-4504-b6fe-c897cec18e5d').width('21%')"
       ],
       "metadata": {},
       "output_type": "display_data",
       "text": [
        "<IPython.core.display.Javascript at 0x118e06c10>"
       ]
      },
      {
       "javascript": [
        "$('div#3fd40318-984c-4504-b6fe-c897cec18e5d').width('21%')"
       ],
       "metadata": {},
       "output_type": "display_data",
       "text": [
        "<IPython.core.display.Javascript at 0x118e06c10>"
       ]
      },
      {
       "javascript": [
        "$('div#3fd40318-984c-4504-b6fe-c897cec18e5d').width('22%')"
       ],
       "metadata": {},
       "output_type": "display_data",
       "text": [
        "<IPython.core.display.Javascript at 0x118e06c10>"
       ]
      },
      {
       "javascript": [
        "$('div#3fd40318-984c-4504-b6fe-c897cec18e5d').width('22%')"
       ],
       "metadata": {},
       "output_type": "display_data",
       "text": [
        "<IPython.core.display.Javascript at 0x118e06c10>"
       ]
      },
      {
       "javascript": [
        "$('div#3fd40318-984c-4504-b6fe-c897cec18e5d').width('23%')"
       ],
       "metadata": {},
       "output_type": "display_data",
       "text": [
        "<IPython.core.display.Javascript at 0x118e06c10>"
       ]
      },
      {
       "javascript": [
        "$('div#3fd40318-984c-4504-b6fe-c897cec18e5d').width('23%')"
       ],
       "metadata": {},
       "output_type": "display_data",
       "text": [
        "<IPython.core.display.Javascript at 0x118e06c10>"
       ]
      },
      {
       "javascript": [
        "$('div#3fd40318-984c-4504-b6fe-c897cec18e5d').width('24%')"
       ],
       "metadata": {},
       "output_type": "display_data",
       "text": [
        "<IPython.core.display.Javascript at 0x118e06c10>"
       ]
      },
      {
       "javascript": [
        "$('div#3fd40318-984c-4504-b6fe-c897cec18e5d').width('25%')"
       ],
       "metadata": {},
       "output_type": "display_data",
       "text": [
        "<IPython.core.display.Javascript at 0x118e06c10>"
       ]
      },
      {
       "javascript": [
        "$('div#3fd40318-984c-4504-b6fe-c897cec18e5d').width('25%')"
       ],
       "metadata": {},
       "output_type": "display_data",
       "text": [
        "<IPython.core.display.Javascript at 0x118e06c10>"
       ]
      },
      {
       "javascript": [
        "$('div#3fd40318-984c-4504-b6fe-c897cec18e5d').width('26%')"
       ],
       "metadata": {},
       "output_type": "display_data",
       "text": [
        "<IPython.core.display.Javascript at 0x118e06c10>"
       ]
      },
      {
       "javascript": [
        "$('div#3fd40318-984c-4504-b6fe-c897cec18e5d').width('26%')"
       ],
       "metadata": {},
       "output_type": "display_data",
       "text": [
        "<IPython.core.display.Javascript at 0x118e06c10>"
       ]
      },
      {
       "javascript": [
        "$('div#3fd40318-984c-4504-b6fe-c897cec18e5d').width('27%')"
       ],
       "metadata": {},
       "output_type": "display_data",
       "text": [
        "<IPython.core.display.Javascript at 0x118e06c10>"
       ]
      },
      {
       "javascript": [
        "$('div#3fd40318-984c-4504-b6fe-c897cec18e5d').width('27%')"
       ],
       "metadata": {},
       "output_type": "display_data",
       "text": [
        "<IPython.core.display.Javascript at 0x118e06c10>"
       ]
      },
      {
       "javascript": [
        "$('div#3fd40318-984c-4504-b6fe-c897cec18e5d').width('28%')"
       ],
       "metadata": {},
       "output_type": "display_data",
       "text": [
        "<IPython.core.display.Javascript at 0x118e06c10>"
       ]
      },
      {
       "javascript": [
        "$('div#3fd40318-984c-4504-b6fe-c897cec18e5d').width('28%')"
       ],
       "metadata": {},
       "output_type": "display_data",
       "text": [
        "<IPython.core.display.Javascript at 0x118e06c10>"
       ]
      },
      {
       "javascript": [
        "$('div#3fd40318-984c-4504-b6fe-c897cec18e5d').width('29%')"
       ],
       "metadata": {},
       "output_type": "display_data",
       "text": [
        "<IPython.core.display.Javascript at 0x118e06c10>"
       ]
      },
      {
       "javascript": [
        "$('div#3fd40318-984c-4504-b6fe-c897cec18e5d').width('30%')"
       ],
       "metadata": {},
       "output_type": "display_data",
       "text": [
        "<IPython.core.display.Javascript at 0x118e06c10>"
       ]
      },
      {
       "javascript": [
        "$('div#3fd40318-984c-4504-b6fe-c897cec18e5d').width('30%')"
       ],
       "metadata": {},
       "output_type": "display_data",
       "text": [
        "<IPython.core.display.Javascript at 0x118e06c10>"
       ]
      },
      {
       "javascript": [
        "$('div#3fd40318-984c-4504-b6fe-c897cec18e5d').width('31%')"
       ],
       "metadata": {},
       "output_type": "display_data",
       "text": [
        "<IPython.core.display.Javascript at 0x118e06c10>"
       ]
      },
      {
       "javascript": [
        "$('div#3fd40318-984c-4504-b6fe-c897cec18e5d').width('31%')"
       ],
       "metadata": {},
       "output_type": "display_data",
       "text": [
        "<IPython.core.display.Javascript at 0x118e06c10>"
       ]
      },
      {
       "javascript": [
        "$('div#3fd40318-984c-4504-b6fe-c897cec18e5d').width('32%')"
       ],
       "metadata": {},
       "output_type": "display_data",
       "text": [
        "<IPython.core.display.Javascript at 0x118e06c10>"
       ]
      },
      {
       "javascript": [
        "$('div#3fd40318-984c-4504-b6fe-c897cec18e5d').width('32%')"
       ],
       "metadata": {},
       "output_type": "display_data",
       "text": [
        "<IPython.core.display.Javascript at 0x118e06c10>"
       ]
      },
      {
       "javascript": [
        "$('div#3fd40318-984c-4504-b6fe-c897cec18e5d').width('33%')"
       ],
       "metadata": {},
       "output_type": "display_data",
       "text": [
        "<IPython.core.display.Javascript at 0x118e06c10>"
       ]
      },
      {
       "javascript": [
        "$('div#3fd40318-984c-4504-b6fe-c897cec18e5d').width('33%')"
       ],
       "metadata": {},
       "output_type": "display_data",
       "text": [
        "<IPython.core.display.Javascript at 0x118e06c10>"
       ]
      },
      {
       "javascript": [
        "$('div#3fd40318-984c-4504-b6fe-c897cec18e5d').width('34%')"
       ],
       "metadata": {},
       "output_type": "display_data",
       "text": [
        "<IPython.core.display.Javascript at 0x118e06c10>"
       ]
      },
      {
       "javascript": [
        "$('div#3fd40318-984c-4504-b6fe-c897cec18e5d').width('35%')"
       ],
       "metadata": {},
       "output_type": "display_data",
       "text": [
        "<IPython.core.display.Javascript at 0x118e06c10>"
       ]
      },
      {
       "javascript": [
        "$('div#3fd40318-984c-4504-b6fe-c897cec18e5d').width('35%')"
       ],
       "metadata": {},
       "output_type": "display_data",
       "text": [
        "<IPython.core.display.Javascript at 0x118e06c10>"
       ]
      },
      {
       "javascript": [
        "$('div#3fd40318-984c-4504-b6fe-c897cec18e5d').width('36%')"
       ],
       "metadata": {},
       "output_type": "display_data",
       "text": [
        "<IPython.core.display.Javascript at 0x118e06c10>"
       ]
      },
      {
       "javascript": [
        "$('div#3fd40318-984c-4504-b6fe-c897cec18e5d').width('36%')"
       ],
       "metadata": {},
       "output_type": "display_data",
       "text": [
        "<IPython.core.display.Javascript at 0x118e06c10>"
       ]
      },
      {
       "javascript": [
        "$('div#3fd40318-984c-4504-b6fe-c897cec18e5d').width('37%')"
       ],
       "metadata": {},
       "output_type": "display_data",
       "text": [
        "<IPython.core.display.Javascript at 0x118e06c10>"
       ]
      },
      {
       "javascript": [
        "$('div#3fd40318-984c-4504-b6fe-c897cec18e5d').width('37%')"
       ],
       "metadata": {},
       "output_type": "display_data",
       "text": [
        "<IPython.core.display.Javascript at 0x118e06c10>"
       ]
      },
      {
       "javascript": [
        "$('div#3fd40318-984c-4504-b6fe-c897cec18e5d').width('38%')"
       ],
       "metadata": {},
       "output_type": "display_data",
       "text": [
        "<IPython.core.display.Javascript at 0x118e06c10>"
       ]
      },
      {
       "javascript": [
        "$('div#3fd40318-984c-4504-b6fe-c897cec18e5d').width('38%')"
       ],
       "metadata": {},
       "output_type": "display_data",
       "text": [
        "<IPython.core.display.Javascript at 0x118e06c10>"
       ]
      },
      {
       "javascript": [
        "$('div#3fd40318-984c-4504-b6fe-c897cec18e5d').width('39%')"
       ],
       "metadata": {},
       "output_type": "display_data",
       "text": [
        "<IPython.core.display.Javascript at 0x118e06c10>"
       ]
      },
      {
       "javascript": [
        "$('div#3fd40318-984c-4504-b6fe-c897cec18e5d').width('40%')"
       ],
       "metadata": {},
       "output_type": "display_data",
       "text": [
        "<IPython.core.display.Javascript at 0x118e06c10>"
       ]
      },
      {
       "javascript": [
        "$('div#3fd40318-984c-4504-b6fe-c897cec18e5d').width('40%')"
       ],
       "metadata": {},
       "output_type": "display_data",
       "text": [
        "<IPython.core.display.Javascript at 0x118e06c10>"
       ]
      },
      {
       "javascript": [
        "$('div#3fd40318-984c-4504-b6fe-c897cec18e5d').width('41%')"
       ],
       "metadata": {},
       "output_type": "display_data",
       "text": [
        "<IPython.core.display.Javascript at 0x118e06c10>"
       ]
      },
      {
       "javascript": [
        "$('div#3fd40318-984c-4504-b6fe-c897cec18e5d').width('41%')"
       ],
       "metadata": {},
       "output_type": "display_data",
       "text": [
        "<IPython.core.display.Javascript at 0x118e06c10>"
       ]
      },
      {
       "javascript": [
        "$('div#3fd40318-984c-4504-b6fe-c897cec18e5d').width('42%')"
       ],
       "metadata": {},
       "output_type": "display_data",
       "text": [
        "<IPython.core.display.Javascript at 0x118e06c10>"
       ]
      },
      {
       "javascript": [
        "$('div#3fd40318-984c-4504-b6fe-c897cec18e5d').width('42%')"
       ],
       "metadata": {},
       "output_type": "display_data",
       "text": [
        "<IPython.core.display.Javascript at 0x118e06c10>"
       ]
      },
      {
       "javascript": [
        "$('div#3fd40318-984c-4504-b6fe-c897cec18e5d').width('43%')"
       ],
       "metadata": {},
       "output_type": "display_data",
       "text": [
        "<IPython.core.display.Javascript at 0x118e06c10>"
       ]
      },
      {
       "javascript": [
        "$('div#3fd40318-984c-4504-b6fe-c897cec18e5d').width('43%')"
       ],
       "metadata": {},
       "output_type": "display_data",
       "text": [
        "<IPython.core.display.Javascript at 0x118e06c10>"
       ]
      },
      {
       "javascript": [
        "$('div#3fd40318-984c-4504-b6fe-c897cec18e5d').width('44%')"
       ],
       "metadata": {},
       "output_type": "display_data",
       "text": [
        "<IPython.core.display.Javascript at 0x118e06c10>"
       ]
      },
      {
       "javascript": [
        "$('div#3fd40318-984c-4504-b6fe-c897cec18e5d').width('45%')"
       ],
       "metadata": {},
       "output_type": "display_data",
       "text": [
        "<IPython.core.display.Javascript at 0x118e06c10>"
       ]
      },
      {
       "javascript": [
        "$('div#3fd40318-984c-4504-b6fe-c897cec18e5d').width('45%')"
       ],
       "metadata": {},
       "output_type": "display_data",
       "text": [
        "<IPython.core.display.Javascript at 0x118e06c10>"
       ]
      },
      {
       "javascript": [
        "$('div#3fd40318-984c-4504-b6fe-c897cec18e5d').width('46%')"
       ],
       "metadata": {},
       "output_type": "display_data",
       "text": [
        "<IPython.core.display.Javascript at 0x118e06c10>"
       ]
      },
      {
       "javascript": [
        "$('div#3fd40318-984c-4504-b6fe-c897cec18e5d').width('46%')"
       ],
       "metadata": {},
       "output_type": "display_data",
       "text": [
        "<IPython.core.display.Javascript at 0x118e06c10>"
       ]
      },
      {
       "javascript": [
        "$('div#3fd40318-984c-4504-b6fe-c897cec18e5d').width('47%')"
       ],
       "metadata": {},
       "output_type": "display_data",
       "text": [
        "<IPython.core.display.Javascript at 0x118e06c10>"
       ]
      },
      {
       "javascript": [
        "$('div#3fd40318-984c-4504-b6fe-c897cec18e5d').width('47%')"
       ],
       "metadata": {},
       "output_type": "display_data",
       "text": [
        "<IPython.core.display.Javascript at 0x118e06c10>"
       ]
      },
      {
       "javascript": [
        "$('div#3fd40318-984c-4504-b6fe-c897cec18e5d').width('48%')"
       ],
       "metadata": {},
       "output_type": "display_data",
       "text": [
        "<IPython.core.display.Javascript at 0x118e06c10>"
       ]
      },
      {
       "javascript": [
        "$('div#3fd40318-984c-4504-b6fe-c897cec18e5d').width('48%')"
       ],
       "metadata": {},
       "output_type": "display_data",
       "text": [
        "<IPython.core.display.Javascript at 0x118e06c10>"
       ]
      },
      {
       "javascript": [
        "$('div#3fd40318-984c-4504-b6fe-c897cec18e5d').width('49%')"
       ],
       "metadata": {},
       "output_type": "display_data",
       "text": [
        "<IPython.core.display.Javascript at 0x118e06c10>"
       ]
      },
      {
       "javascript": [
        "$('div#3fd40318-984c-4504-b6fe-c897cec18e5d').width('50%')"
       ],
       "metadata": {},
       "output_type": "display_data",
       "text": [
        "<IPython.core.display.Javascript at 0x118e06c10>"
       ]
      },
      {
       "javascript": [
        "$('div#3fd40318-984c-4504-b6fe-c897cec18e5d').width('50%')"
       ],
       "metadata": {},
       "output_type": "display_data",
       "text": [
        "<IPython.core.display.Javascript at 0x118e06c10>"
       ]
      },
      {
       "javascript": [
        "$('div#3fd40318-984c-4504-b6fe-c897cec18e5d').width('51%')"
       ],
       "metadata": {},
       "output_type": "display_data",
       "text": [
        "<IPython.core.display.Javascript at 0x118e06c10>"
       ]
      },
      {
       "javascript": [
        "$('div#3fd40318-984c-4504-b6fe-c897cec18e5d').width('51%')"
       ],
       "metadata": {},
       "output_type": "display_data",
       "text": [
        "<IPython.core.display.Javascript at 0x118e06c10>"
       ]
      },
      {
       "javascript": [
        "$('div#3fd40318-984c-4504-b6fe-c897cec18e5d').width('52%')"
       ],
       "metadata": {},
       "output_type": "display_data",
       "text": [
        "<IPython.core.display.Javascript at 0x118e06c10>"
       ]
      },
      {
       "javascript": [
        "$('div#3fd40318-984c-4504-b6fe-c897cec18e5d').width('52%')"
       ],
       "metadata": {},
       "output_type": "display_data",
       "text": [
        "<IPython.core.display.Javascript at 0x118e06c10>"
       ]
      },
      {
       "javascript": [
        "$('div#3fd40318-984c-4504-b6fe-c897cec18e5d').width('53%')"
       ],
       "metadata": {},
       "output_type": "display_data",
       "text": [
        "<IPython.core.display.Javascript at 0x118e06c10>"
       ]
      },
      {
       "javascript": [
        "$('div#3fd40318-984c-4504-b6fe-c897cec18e5d').width('53%')"
       ],
       "metadata": {},
       "output_type": "display_data",
       "text": [
        "<IPython.core.display.Javascript at 0x118e06c10>"
       ]
      },
      {
       "javascript": [
        "$('div#3fd40318-984c-4504-b6fe-c897cec18e5d').width('54%')"
       ],
       "metadata": {},
       "output_type": "display_data",
       "text": [
        "<IPython.core.display.Javascript at 0x118e06c10>"
       ]
      },
      {
       "javascript": [
        "$('div#3fd40318-984c-4504-b6fe-c897cec18e5d').width('55%')"
       ],
       "metadata": {},
       "output_type": "display_data",
       "text": [
        "<IPython.core.display.Javascript at 0x118e06c10>"
       ]
      },
      {
       "javascript": [
        "$('div#3fd40318-984c-4504-b6fe-c897cec18e5d').width('55%')"
       ],
       "metadata": {},
       "output_type": "display_data",
       "text": [
        "<IPython.core.display.Javascript at 0x118e06c10>"
       ]
      },
      {
       "javascript": [
        "$('div#3fd40318-984c-4504-b6fe-c897cec18e5d').width('56%')"
       ],
       "metadata": {},
       "output_type": "display_data",
       "text": [
        "<IPython.core.display.Javascript at 0x118e06c10>"
       ]
      },
      {
       "javascript": [
        "$('div#3fd40318-984c-4504-b6fe-c897cec18e5d').width('56%')"
       ],
       "metadata": {},
       "output_type": "display_data",
       "text": [
        "<IPython.core.display.Javascript at 0x118e06c10>"
       ]
      },
      {
       "javascript": [
        "$('div#3fd40318-984c-4504-b6fe-c897cec18e5d').width('57%')"
       ],
       "metadata": {},
       "output_type": "display_data",
       "text": [
        "<IPython.core.display.Javascript at 0x118e06c10>"
       ]
      },
      {
       "javascript": [
        "$('div#3fd40318-984c-4504-b6fe-c897cec18e5d').width('57%')"
       ],
       "metadata": {},
       "output_type": "display_data",
       "text": [
        "<IPython.core.display.Javascript at 0x118e06c10>"
       ]
      },
      {
       "javascript": [
        "$('div#3fd40318-984c-4504-b6fe-c897cec18e5d').width('58%')"
       ],
       "metadata": {},
       "output_type": "display_data",
       "text": [
        "<IPython.core.display.Javascript at 0x118e06c10>"
       ]
      },
      {
       "javascript": [
        "$('div#3fd40318-984c-4504-b6fe-c897cec18e5d').width('58%')"
       ],
       "metadata": {},
       "output_type": "display_data",
       "text": [
        "<IPython.core.display.Javascript at 0x118e06c10>"
       ]
      },
      {
       "javascript": [
        "$('div#3fd40318-984c-4504-b6fe-c897cec18e5d').width('59%')"
       ],
       "metadata": {},
       "output_type": "display_data",
       "text": [
        "<IPython.core.display.Javascript at 0x118e06c10>"
       ]
      },
      {
       "javascript": [
        "$('div#3fd40318-984c-4504-b6fe-c897cec18e5d').width('60%')"
       ],
       "metadata": {},
       "output_type": "display_data",
       "text": [
        "<IPython.core.display.Javascript at 0x118e06c10>"
       ]
      },
      {
       "javascript": [
        "$('div#3fd40318-984c-4504-b6fe-c897cec18e5d').width('60%')"
       ],
       "metadata": {},
       "output_type": "display_data",
       "text": [
        "<IPython.core.display.Javascript at 0x118e06c10>"
       ]
      },
      {
       "javascript": [
        "$('div#3fd40318-984c-4504-b6fe-c897cec18e5d').width('61%')"
       ],
       "metadata": {},
       "output_type": "display_data",
       "text": [
        "<IPython.core.display.Javascript at 0x118e06c10>"
       ]
      },
      {
       "javascript": [
        "$('div#3fd40318-984c-4504-b6fe-c897cec18e5d').width('61%')"
       ],
       "metadata": {},
       "output_type": "display_data",
       "text": [
        "<IPython.core.display.Javascript at 0x118e06c10>"
       ]
      },
      {
       "javascript": [
        "$('div#3fd40318-984c-4504-b6fe-c897cec18e5d').width('62%')"
       ],
       "metadata": {},
       "output_type": "display_data",
       "text": [
        "<IPython.core.display.Javascript at 0x118e06c10>"
       ]
      },
      {
       "javascript": [
        "$('div#3fd40318-984c-4504-b6fe-c897cec18e5d').width('62%')"
       ],
       "metadata": {},
       "output_type": "display_data",
       "text": [
        "<IPython.core.display.Javascript at 0x118e06c10>"
       ]
      },
      {
       "javascript": [
        "$('div#3fd40318-984c-4504-b6fe-c897cec18e5d').width('63%')"
       ],
       "metadata": {},
       "output_type": "display_data",
       "text": [
        "<IPython.core.display.Javascript at 0x118e06c10>"
       ]
      },
      {
       "javascript": [
        "$('div#3fd40318-984c-4504-b6fe-c897cec18e5d').width('63%')"
       ],
       "metadata": {},
       "output_type": "display_data",
       "text": [
        "<IPython.core.display.Javascript at 0x118e06c10>"
       ]
      },
      {
       "javascript": [
        "$('div#3fd40318-984c-4504-b6fe-c897cec18e5d').width('64%')"
       ],
       "metadata": {},
       "output_type": "display_data",
       "text": [
        "<IPython.core.display.Javascript at 0x118e06c10>"
       ]
      },
      {
       "javascript": [
        "$('div#3fd40318-984c-4504-b6fe-c897cec18e5d').width('65%')"
       ],
       "metadata": {},
       "output_type": "display_data",
       "text": [
        "<IPython.core.display.Javascript at 0x118e06c10>"
       ]
      },
      {
       "javascript": [
        "$('div#3fd40318-984c-4504-b6fe-c897cec18e5d').width('65%')"
       ],
       "metadata": {},
       "output_type": "display_data",
       "text": [
        "<IPython.core.display.Javascript at 0x118e06c10>"
       ]
      },
      {
       "javascript": [
        "$('div#3fd40318-984c-4504-b6fe-c897cec18e5d').width('66%')"
       ],
       "metadata": {},
       "output_type": "display_data",
       "text": [
        "<IPython.core.display.Javascript at 0x118e06c10>"
       ]
      },
      {
       "javascript": [
        "$('div#3fd40318-984c-4504-b6fe-c897cec18e5d').width('66%')"
       ],
       "metadata": {},
       "output_type": "display_data",
       "text": [
        "<IPython.core.display.Javascript at 0x118e06c10>"
       ]
      },
      {
       "javascript": [
        "$('div#3fd40318-984c-4504-b6fe-c897cec18e5d').width('67%')"
       ],
       "metadata": {},
       "output_type": "display_data",
       "text": [
        "<IPython.core.display.Javascript at 0x118e06c10>"
       ]
      },
      {
       "javascript": [
        "$('div#3fd40318-984c-4504-b6fe-c897cec18e5d').width('67%')"
       ],
       "metadata": {},
       "output_type": "display_data",
       "text": [
        "<IPython.core.display.Javascript at 0x118e06c10>"
       ]
      },
      {
       "javascript": [
        "$('div#3fd40318-984c-4504-b6fe-c897cec18e5d').width('68%')"
       ],
       "metadata": {},
       "output_type": "display_data",
       "text": [
        "<IPython.core.display.Javascript at 0x118e06c10>"
       ]
      },
      {
       "javascript": [
        "$('div#3fd40318-984c-4504-b6fe-c897cec18e5d').width('68%')"
       ],
       "metadata": {},
       "output_type": "display_data",
       "text": [
        "<IPython.core.display.Javascript at 0x118e06c10>"
       ]
      },
      {
       "javascript": [
        "$('div#3fd40318-984c-4504-b6fe-c897cec18e5d').width('69%')"
       ],
       "metadata": {},
       "output_type": "display_data",
       "text": [
        "<IPython.core.display.Javascript at 0x118e06c10>"
       ]
      },
      {
       "javascript": [
        "$('div#3fd40318-984c-4504-b6fe-c897cec18e5d').width('70%')"
       ],
       "metadata": {},
       "output_type": "display_data",
       "text": [
        "<IPython.core.display.Javascript at 0x118e06c10>"
       ]
      },
      {
       "javascript": [
        "$('div#3fd40318-984c-4504-b6fe-c897cec18e5d').width('70%')"
       ],
       "metadata": {},
       "output_type": "display_data",
       "text": [
        "<IPython.core.display.Javascript at 0x118e06c10>"
       ]
      },
      {
       "javascript": [
        "$('div#3fd40318-984c-4504-b6fe-c897cec18e5d').width('71%')"
       ],
       "metadata": {},
       "output_type": "display_data",
       "text": [
        "<IPython.core.display.Javascript at 0x118e06c10>"
       ]
      },
      {
       "javascript": [
        "$('div#3fd40318-984c-4504-b6fe-c897cec18e5d').width('71%')"
       ],
       "metadata": {},
       "output_type": "display_data",
       "text": [
        "<IPython.core.display.Javascript at 0x118e06c10>"
       ]
      },
      {
       "javascript": [
        "$('div#3fd40318-984c-4504-b6fe-c897cec18e5d').width('72%')"
       ],
       "metadata": {},
       "output_type": "display_data",
       "text": [
        "<IPython.core.display.Javascript at 0x118e06c10>"
       ]
      },
      {
       "javascript": [
        "$('div#3fd40318-984c-4504-b6fe-c897cec18e5d').width('72%')"
       ],
       "metadata": {},
       "output_type": "display_data",
       "text": [
        "<IPython.core.display.Javascript at 0x118e06c10>"
       ]
      },
      {
       "javascript": [
        "$('div#3fd40318-984c-4504-b6fe-c897cec18e5d').width('73%')"
       ],
       "metadata": {},
       "output_type": "display_data",
       "text": [
        "<IPython.core.display.Javascript at 0x118e06c10>"
       ]
      },
      {
       "javascript": [
        "$('div#3fd40318-984c-4504-b6fe-c897cec18e5d').width('73%')"
       ],
       "metadata": {},
       "output_type": "display_data",
       "text": [
        "<IPython.core.display.Javascript at 0x118e06c10>"
       ]
      },
      {
       "javascript": [
        "$('div#3fd40318-984c-4504-b6fe-c897cec18e5d').width('74%')"
       ],
       "metadata": {},
       "output_type": "display_data",
       "text": [
        "<IPython.core.display.Javascript at 0x118e06c10>"
       ]
      },
      {
       "javascript": [
        "$('div#3fd40318-984c-4504-b6fe-c897cec18e5d').width('75%')"
       ],
       "metadata": {},
       "output_type": "display_data",
       "text": [
        "<IPython.core.display.Javascript at 0x118e06c10>"
       ]
      },
      {
       "javascript": [
        "$('div#3fd40318-984c-4504-b6fe-c897cec18e5d').width('75%')"
       ],
       "metadata": {},
       "output_type": "display_data",
       "text": [
        "<IPython.core.display.Javascript at 0x118e06c10>"
       ]
      },
      {
       "javascript": [
        "$('div#3fd40318-984c-4504-b6fe-c897cec18e5d').width('76%')"
       ],
       "metadata": {},
       "output_type": "display_data",
       "text": [
        "<IPython.core.display.Javascript at 0x118e06c10>"
       ]
      },
      {
       "javascript": [
        "$('div#3fd40318-984c-4504-b6fe-c897cec18e5d').width('76%')"
       ],
       "metadata": {},
       "output_type": "display_data",
       "text": [
        "<IPython.core.display.Javascript at 0x118e06c10>"
       ]
      },
      {
       "javascript": [
        "$('div#3fd40318-984c-4504-b6fe-c897cec18e5d').width('77%')"
       ],
       "metadata": {},
       "output_type": "display_data",
       "text": [
        "<IPython.core.display.Javascript at 0x118e06c10>"
       ]
      },
      {
       "javascript": [
        "$('div#3fd40318-984c-4504-b6fe-c897cec18e5d').width('77%')"
       ],
       "metadata": {},
       "output_type": "display_data",
       "text": [
        "<IPython.core.display.Javascript at 0x118e06c10>"
       ]
      },
      {
       "javascript": [
        "$('div#3fd40318-984c-4504-b6fe-c897cec18e5d').width('78%')"
       ],
       "metadata": {},
       "output_type": "display_data",
       "text": [
        "<IPython.core.display.Javascript at 0x118e06c10>"
       ]
      },
      {
       "javascript": [
        "$('div#3fd40318-984c-4504-b6fe-c897cec18e5d').width('78%')"
       ],
       "metadata": {},
       "output_type": "display_data",
       "text": [
        "<IPython.core.display.Javascript at 0x118e06c10>"
       ]
      },
      {
       "javascript": [
        "$('div#3fd40318-984c-4504-b6fe-c897cec18e5d').width('79%')"
       ],
       "metadata": {},
       "output_type": "display_data",
       "text": [
        "<IPython.core.display.Javascript at 0x118e06c10>"
       ]
      },
      {
       "javascript": [
        "$('div#3fd40318-984c-4504-b6fe-c897cec18e5d').width('80%')"
       ],
       "metadata": {},
       "output_type": "display_data",
       "text": [
        "<IPython.core.display.Javascript at 0x118e06c10>"
       ]
      },
      {
       "javascript": [
        "$('div#3fd40318-984c-4504-b6fe-c897cec18e5d').width('80%')"
       ],
       "metadata": {},
       "output_type": "display_data",
       "text": [
        "<IPython.core.display.Javascript at 0x118e06c10>"
       ]
      },
      {
       "javascript": [
        "$('div#3fd40318-984c-4504-b6fe-c897cec18e5d').width('81%')"
       ],
       "metadata": {},
       "output_type": "display_data",
       "text": [
        "<IPython.core.display.Javascript at 0x118e06c10>"
       ]
      },
      {
       "javascript": [
        "$('div#3fd40318-984c-4504-b6fe-c897cec18e5d').width('81%')"
       ],
       "metadata": {},
       "output_type": "display_data",
       "text": [
        "<IPython.core.display.Javascript at 0x118e06c10>"
       ]
      },
      {
       "javascript": [
        "$('div#3fd40318-984c-4504-b6fe-c897cec18e5d').width('82%')"
       ],
       "metadata": {},
       "output_type": "display_data",
       "text": [
        "<IPython.core.display.Javascript at 0x118e06c10>"
       ]
      },
      {
       "javascript": [
        "$('div#3fd40318-984c-4504-b6fe-c897cec18e5d').width('82%')"
       ],
       "metadata": {},
       "output_type": "display_data",
       "text": [
        "<IPython.core.display.Javascript at 0x118e06c10>"
       ]
      },
      {
       "javascript": [
        "$('div#3fd40318-984c-4504-b6fe-c897cec18e5d').width('83%')"
       ],
       "metadata": {},
       "output_type": "display_data",
       "text": [
        "<IPython.core.display.Javascript at 0x118e06c10>"
       ]
      },
      {
       "javascript": [
        "$('div#3fd40318-984c-4504-b6fe-c897cec18e5d').width('83%')"
       ],
       "metadata": {},
       "output_type": "display_data",
       "text": [
        "<IPython.core.display.Javascript at 0x118e06c10>"
       ]
      },
      {
       "javascript": [
        "$('div#3fd40318-984c-4504-b6fe-c897cec18e5d').width('84%')"
       ],
       "metadata": {},
       "output_type": "display_data",
       "text": [
        "<IPython.core.display.Javascript at 0x118e06c10>"
       ]
      },
      {
       "javascript": [
        "$('div#3fd40318-984c-4504-b6fe-c897cec18e5d').width('85%')"
       ],
       "metadata": {},
       "output_type": "display_data",
       "text": [
        "<IPython.core.display.Javascript at 0x118e06c10>"
       ]
      },
      {
       "javascript": [
        "$('div#3fd40318-984c-4504-b6fe-c897cec18e5d').width('85%')"
       ],
       "metadata": {},
       "output_type": "display_data",
       "text": [
        "<IPython.core.display.Javascript at 0x118e06c10>"
       ]
      },
      {
       "javascript": [
        "$('div#3fd40318-984c-4504-b6fe-c897cec18e5d').width('86%')"
       ],
       "metadata": {},
       "output_type": "display_data",
       "text": [
        "<IPython.core.display.Javascript at 0x118e06c10>"
       ]
      },
      {
       "javascript": [
        "$('div#3fd40318-984c-4504-b6fe-c897cec18e5d').width('86%')"
       ],
       "metadata": {},
       "output_type": "display_data",
       "text": [
        "<IPython.core.display.Javascript at 0x118e06c10>"
       ]
      },
      {
       "javascript": [
        "$('div#3fd40318-984c-4504-b6fe-c897cec18e5d').width('87%')"
       ],
       "metadata": {},
       "output_type": "display_data",
       "text": [
        "<IPython.core.display.Javascript at 0x118e06c10>"
       ]
      },
      {
       "javascript": [
        "$('div#3fd40318-984c-4504-b6fe-c897cec18e5d').width('87%')"
       ],
       "metadata": {},
       "output_type": "display_data",
       "text": [
        "<IPython.core.display.Javascript at 0x118e06c10>"
       ]
      },
      {
       "javascript": [
        "$('div#3fd40318-984c-4504-b6fe-c897cec18e5d').width('88%')"
       ],
       "metadata": {},
       "output_type": "display_data",
       "text": [
        "<IPython.core.display.Javascript at 0x118e06c10>"
       ]
      },
      {
       "javascript": [
        "$('div#3fd40318-984c-4504-b6fe-c897cec18e5d').width('88%')"
       ],
       "metadata": {},
       "output_type": "display_data",
       "text": [
        "<IPython.core.display.Javascript at 0x118e06c10>"
       ]
      },
      {
       "javascript": [
        "$('div#3fd40318-984c-4504-b6fe-c897cec18e5d').width('89%')"
       ],
       "metadata": {},
       "output_type": "display_data",
       "text": [
        "<IPython.core.display.Javascript at 0x118e06c10>"
       ]
      },
      {
       "javascript": [
        "$('div#3fd40318-984c-4504-b6fe-c897cec18e5d').width('90%')"
       ],
       "metadata": {},
       "output_type": "display_data",
       "text": [
        "<IPython.core.display.Javascript at 0x118e06c10>"
       ]
      },
      {
       "javascript": [
        "$('div#3fd40318-984c-4504-b6fe-c897cec18e5d').width('90%')"
       ],
       "metadata": {},
       "output_type": "display_data",
       "text": [
        "<IPython.core.display.Javascript at 0x118e06c10>"
       ]
      },
      {
       "javascript": [
        "$('div#3fd40318-984c-4504-b6fe-c897cec18e5d').width('91%')"
       ],
       "metadata": {},
       "output_type": "display_data",
       "text": [
        "<IPython.core.display.Javascript at 0x118e06c10>"
       ]
      },
      {
       "javascript": [
        "$('div#3fd40318-984c-4504-b6fe-c897cec18e5d').width('91%')"
       ],
       "metadata": {},
       "output_type": "display_data",
       "text": [
        "<IPython.core.display.Javascript at 0x118e06c10>"
       ]
      },
      {
       "javascript": [
        "$('div#3fd40318-984c-4504-b6fe-c897cec18e5d').width('92%')"
       ],
       "metadata": {},
       "output_type": "display_data",
       "text": [
        "<IPython.core.display.Javascript at 0x118e06c10>"
       ]
      },
      {
       "javascript": [
        "$('div#3fd40318-984c-4504-b6fe-c897cec18e5d').width('92%')"
       ],
       "metadata": {},
       "output_type": "display_data",
       "text": [
        "<IPython.core.display.Javascript at 0x118e06c10>"
       ]
      },
      {
       "javascript": [
        "$('div#3fd40318-984c-4504-b6fe-c897cec18e5d').width('93%')"
       ],
       "metadata": {},
       "output_type": "display_data",
       "text": [
        "<IPython.core.display.Javascript at 0x118e06c10>"
       ]
      },
      {
       "javascript": [
        "$('div#3fd40318-984c-4504-b6fe-c897cec18e5d').width('93%')"
       ],
       "metadata": {},
       "output_type": "display_data",
       "text": [
        "<IPython.core.display.Javascript at 0x118e06c10>"
       ]
      },
      {
       "javascript": [
        "$('div#3fd40318-984c-4504-b6fe-c897cec18e5d').width('94%')"
       ],
       "metadata": {},
       "output_type": "display_data",
       "text": [
        "<IPython.core.display.Javascript at 0x118e06c10>"
       ]
      },
      {
       "javascript": [
        "$('div#3fd40318-984c-4504-b6fe-c897cec18e5d').width('95%')"
       ],
       "metadata": {},
       "output_type": "display_data",
       "text": [
        "<IPython.core.display.Javascript at 0x118e06c10>"
       ]
      },
      {
       "javascript": [
        "$('div#3fd40318-984c-4504-b6fe-c897cec18e5d').width('95%')"
       ],
       "metadata": {},
       "output_type": "display_data",
       "text": [
        "<IPython.core.display.Javascript at 0x118e06c10>"
       ]
      },
      {
       "javascript": [
        "$('div#3fd40318-984c-4504-b6fe-c897cec18e5d').width('96%')"
       ],
       "metadata": {},
       "output_type": "display_data",
       "text": [
        "<IPython.core.display.Javascript at 0x118e06c10>"
       ]
      },
      {
       "javascript": [
        "$('div#3fd40318-984c-4504-b6fe-c897cec18e5d').width('96%')"
       ],
       "metadata": {},
       "output_type": "display_data",
       "text": [
        "<IPython.core.display.Javascript at 0x118e06c10>"
       ]
      },
      {
       "javascript": [
        "$('div#3fd40318-984c-4504-b6fe-c897cec18e5d').width('97%')"
       ],
       "metadata": {},
       "output_type": "display_data",
       "text": [
        "<IPython.core.display.Javascript at 0x118e06c10>"
       ]
      },
      {
       "javascript": [
        "$('div#3fd40318-984c-4504-b6fe-c897cec18e5d').width('97%')"
       ],
       "metadata": {},
       "output_type": "display_data",
       "text": [
        "<IPython.core.display.Javascript at 0x118e06c10>"
       ]
      },
      {
       "javascript": [
        "$('div#3fd40318-984c-4504-b6fe-c897cec18e5d').width('98%')"
       ],
       "metadata": {},
       "output_type": "display_data",
       "text": [
        "<IPython.core.display.Javascript at 0x118e06c10>"
       ]
      },
      {
       "javascript": [
        "$('div#3fd40318-984c-4504-b6fe-c897cec18e5d').width('98%')"
       ],
       "metadata": {},
       "output_type": "display_data",
       "text": [
        "<IPython.core.display.Javascript at 0x118e06c10>"
       ]
      },
      {
       "javascript": [
        "$('div#3fd40318-984c-4504-b6fe-c897cec18e5d').width('99%')"
       ],
       "metadata": {},
       "output_type": "display_data",
       "text": [
        "<IPython.core.display.Javascript at 0x118e06c10>"
       ]
      },
      {
       "javascript": [
        "$('div#3fd40318-984c-4504-b6fe-c897cec18e5d').width('100%')"
       ],
       "metadata": {},
       "output_type": "display_data",
       "text": [
        "<IPython.core.display.Javascript at 0x118e060d0>"
       ]
      },
      {
       "html": [
        "<iframe src=http://127.0.0.1:8001/5216365 width=100%% height=420 frameborder=0></iframe>"
       ],
       "metadata": {},
       "output_type": "pyout",
       "prompt_number": 21,
       "text": [
        "<mMR.mMR.UncompressedProjection instance at 0x17abe4320>"
       ]
      }
     ],
     "prompt_number": 21
    },
    {
     "cell_type": "code",
     "collapsed": false,
     "input": [
      "b"
     ],
     "language": "python",
     "metadata": {},
     "outputs": [
      {
       "html": [
        "\n",
        "        <div style=\"border: 1px solid white; width:100%%; height:6px; background-color:rgb(246,246,246)\">\n",
        "            <div id=\"47cbb7f2-55f4-41b5-8a0b-3c1776a9bcc6\" style=\"background-color:rgb(200,200,200); width:0%; height:6px\"> </div>\n",
        "        </div> \n",
        "        "
       ],
       "metadata": {},
       "output_type": "display_data",
       "text": [
        "<IPython.core.display.HTML at 0x15722ad90>"
       ]
      },
      {
       "javascript": [
        "$('div#47cbb7f2-55f4-41b5-8a0b-3c1776a9bcc6').width('1%')"
       ],
       "metadata": {},
       "output_type": "display_data",
       "text": [
        "<IPython.core.display.Javascript at 0x1572437d0>"
       ]
      },
      {
       "javascript": [
        "$('div#47cbb7f2-55f4-41b5-8a0b-3c1776a9bcc6').width('1%')"
       ],
       "metadata": {},
       "output_type": "display_data",
       "text": [
        "<IPython.core.display.Javascript at 0x1572437d0>"
       ]
      },
      {
       "javascript": [
        "$('div#47cbb7f2-55f4-41b5-8a0b-3c1776a9bcc6').width('1%')"
       ],
       "metadata": {},
       "output_type": "display_data",
       "text": [
        "<IPython.core.display.Javascript at 0x1572437d0>"
       ]
      },
      {
       "javascript": [
        "$('div#47cbb7f2-55f4-41b5-8a0b-3c1776a9bcc6').width('2%')"
       ],
       "metadata": {},
       "output_type": "display_data",
       "text": [
        "<IPython.core.display.Javascript at 0x1572437d0>"
       ]
      },
      {
       "javascript": [
        "$('div#47cbb7f2-55f4-41b5-8a0b-3c1776a9bcc6').width('3%')"
       ],
       "metadata": {},
       "output_type": "display_data",
       "text": [
        "<IPython.core.display.Javascript at 0x1572437d0>"
       ]
      },
      {
       "javascript": [
        "$('div#47cbb7f2-55f4-41b5-8a0b-3c1776a9bcc6').width('3%')"
       ],
       "metadata": {},
       "output_type": "display_data",
       "text": [
        "<IPython.core.display.Javascript at 0x1572437d0>"
       ]
      },
      {
       "javascript": [
        "$('div#47cbb7f2-55f4-41b5-8a0b-3c1776a9bcc6').width('4%')"
       ],
       "metadata": {},
       "output_type": "display_data",
       "text": [
        "<IPython.core.display.Javascript at 0x1572437d0>"
       ]
      },
      {
       "javascript": [
        "$('div#47cbb7f2-55f4-41b5-8a0b-3c1776a9bcc6').width('5%')"
       ],
       "metadata": {},
       "output_type": "display_data",
       "text": [
        "<IPython.core.display.Javascript at 0x1572437d0>"
       ]
      },
      {
       "javascript": [
        "$('div#47cbb7f2-55f4-41b5-8a0b-3c1776a9bcc6').width('6%')"
       ],
       "metadata": {},
       "output_type": "display_data",
       "text": [
        "<IPython.core.display.Javascript at 0x1572437d0>"
       ]
      },
      {
       "javascript": [
        "$('div#47cbb7f2-55f4-41b5-8a0b-3c1776a9bcc6').width('7%')"
       ],
       "metadata": {},
       "output_type": "display_data",
       "text": [
        "<IPython.core.display.Javascript at 0x1572437d0>"
       ]
      },
      {
       "javascript": [
        "$('div#47cbb7f2-55f4-41b5-8a0b-3c1776a9bcc6').width('7%')"
       ],
       "metadata": {},
       "output_type": "display_data",
       "text": [
        "<IPython.core.display.Javascript at 0x1572437d0>"
       ]
      },
      {
       "javascript": [
        "$('div#47cbb7f2-55f4-41b5-8a0b-3c1776a9bcc6').width('8%')"
       ],
       "metadata": {},
       "output_type": "display_data",
       "text": [
        "<IPython.core.display.Javascript at 0x1572437d0>"
       ]
      },
      {
       "javascript": [
        "$('div#47cbb7f2-55f4-41b5-8a0b-3c1776a9bcc6').width('9%')"
       ],
       "metadata": {},
       "output_type": "display_data",
       "text": [
        "<IPython.core.display.Javascript at 0x1572437d0>"
       ]
      },
      {
       "javascript": [
        "$('div#47cbb7f2-55f4-41b5-8a0b-3c1776a9bcc6').width('10%')"
       ],
       "metadata": {},
       "output_type": "display_data",
       "text": [
        "<IPython.core.display.Javascript at 0x1572437d0>"
       ]
      },
      {
       "javascript": [
        "$('div#47cbb7f2-55f4-41b5-8a0b-3c1776a9bcc6').width('10%')"
       ],
       "metadata": {},
       "output_type": "display_data",
       "text": [
        "<IPython.core.display.Javascript at 0x1572437d0>"
       ]
      },
      {
       "javascript": [
        "$('div#47cbb7f2-55f4-41b5-8a0b-3c1776a9bcc6').width('11%')"
       ],
       "metadata": {},
       "output_type": "display_data",
       "text": [
        "<IPython.core.display.Javascript at 0x1572437d0>"
       ]
      },
      {
       "javascript": [
        "$('div#47cbb7f2-55f4-41b5-8a0b-3c1776a9bcc6').width('12%')"
       ],
       "metadata": {},
       "output_type": "display_data",
       "text": [
        "<IPython.core.display.Javascript at 0x1572437d0>"
       ]
      },
      {
       "javascript": [
        "$('div#47cbb7f2-55f4-41b5-8a0b-3c1776a9bcc6').width('13%')"
       ],
       "metadata": {},
       "output_type": "display_data",
       "text": [
        "<IPython.core.display.Javascript at 0x1572437d0>"
       ]
      },
      {
       "javascript": [
        "$('div#47cbb7f2-55f4-41b5-8a0b-3c1776a9bcc6').width('14%')"
       ],
       "metadata": {},
       "output_type": "display_data",
       "text": [
        "<IPython.core.display.Javascript at 0x1572437d0>"
       ]
      },
      {
       "javascript": [
        "$('div#47cbb7f2-55f4-41b5-8a0b-3c1776a9bcc6').width('14%')"
       ],
       "metadata": {},
       "output_type": "display_data",
       "text": [
        "<IPython.core.display.Javascript at 0x1572437d0>"
       ]
      },
      {
       "javascript": [
        "$('div#47cbb7f2-55f4-41b5-8a0b-3c1776a9bcc6').width('15%')"
       ],
       "metadata": {},
       "output_type": "display_data",
       "text": [
        "<IPython.core.display.Javascript at 0x1572437d0>"
       ]
      },
      {
       "javascript": [
        "$('div#47cbb7f2-55f4-41b5-8a0b-3c1776a9bcc6').width('16%')"
       ],
       "metadata": {},
       "output_type": "display_data",
       "text": [
        "<IPython.core.display.Javascript at 0x1572437d0>"
       ]
      },
      {
       "javascript": [
        "$('div#47cbb7f2-55f4-41b5-8a0b-3c1776a9bcc6').width('17%')"
       ],
       "metadata": {},
       "output_type": "display_data",
       "text": [
        "<IPython.core.display.Javascript at 0x1572437d0>"
       ]
      },
      {
       "javascript": [
        "$('div#47cbb7f2-55f4-41b5-8a0b-3c1776a9bcc6').width('17%')"
       ],
       "metadata": {},
       "output_type": "display_data",
       "text": [
        "<IPython.core.display.Javascript at 0x1572437d0>"
       ]
      },
      {
       "javascript": [
        "$('div#47cbb7f2-55f4-41b5-8a0b-3c1776a9bcc6').width('18%')"
       ],
       "metadata": {},
       "output_type": "display_data",
       "text": [
        "<IPython.core.display.Javascript at 0x1572437d0>"
       ]
      },
      {
       "javascript": [
        "$('div#47cbb7f2-55f4-41b5-8a0b-3c1776a9bcc6').width('19%')"
       ],
       "metadata": {},
       "output_type": "display_data",
       "text": [
        "<IPython.core.display.Javascript at 0x1572437d0>"
       ]
      },
      {
       "javascript": [
        "$('div#47cbb7f2-55f4-41b5-8a0b-3c1776a9bcc6').width('20%')"
       ],
       "metadata": {},
       "output_type": "display_data",
       "text": [
        "<IPython.core.display.Javascript at 0x1572437d0>"
       ]
      },
      {
       "javascript": [
        "$('div#47cbb7f2-55f4-41b5-8a0b-3c1776a9bcc6').width('21%')"
       ],
       "metadata": {},
       "output_type": "display_data",
       "text": [
        "<IPython.core.display.Javascript at 0x1572437d0>"
       ]
      },
      {
       "javascript": [
        "$('div#47cbb7f2-55f4-41b5-8a0b-3c1776a9bcc6').width('21%')"
       ],
       "metadata": {},
       "output_type": "display_data",
       "text": [
        "<IPython.core.display.Javascript at 0x1572437d0>"
       ]
      },
      {
       "javascript": [
        "$('div#47cbb7f2-55f4-41b5-8a0b-3c1776a9bcc6').width('22%')"
       ],
       "metadata": {},
       "output_type": "display_data",
       "text": [
        "<IPython.core.display.Javascript at 0x1572437d0>"
       ]
      },
      {
       "javascript": [
        "$('div#47cbb7f2-55f4-41b5-8a0b-3c1776a9bcc6').width('23%')"
       ],
       "metadata": {},
       "output_type": "display_data",
       "text": [
        "<IPython.core.display.Javascript at 0x1572437d0>"
       ]
      },
      {
       "javascript": [
        "$('div#47cbb7f2-55f4-41b5-8a0b-3c1776a9bcc6').width('24%')"
       ],
       "metadata": {},
       "output_type": "display_data",
       "text": [
        "<IPython.core.display.Javascript at 0x1572437d0>"
       ]
      },
      {
       "javascript": [
        "$('div#47cbb7f2-55f4-41b5-8a0b-3c1776a9bcc6').width('25%')"
       ],
       "metadata": {},
       "output_type": "display_data",
       "text": [
        "<IPython.core.display.Javascript at 0x1572437d0>"
       ]
      },
      {
       "javascript": [
        "$('div#47cbb7f2-55f4-41b5-8a0b-3c1776a9bcc6').width('25%')"
       ],
       "metadata": {},
       "output_type": "display_data",
       "text": [
        "<IPython.core.display.Javascript at 0x1572437d0>"
       ]
      },
      {
       "javascript": [
        "$('div#47cbb7f2-55f4-41b5-8a0b-3c1776a9bcc6').width('26%')"
       ],
       "metadata": {},
       "output_type": "display_data",
       "text": [
        "<IPython.core.display.Javascript at 0x1572437d0>"
       ]
      },
      {
       "javascript": [
        "$('div#47cbb7f2-55f4-41b5-8a0b-3c1776a9bcc6').width('27%')"
       ],
       "metadata": {},
       "output_type": "display_data",
       "text": [
        "<IPython.core.display.Javascript at 0x1572437d0>"
       ]
      },
      {
       "javascript": [
        "$('div#47cbb7f2-55f4-41b5-8a0b-3c1776a9bcc6').width('28%')"
       ],
       "metadata": {},
       "output_type": "display_data",
       "text": [
        "<IPython.core.display.Javascript at 0x1572437d0>"
       ]
      },
      {
       "javascript": [
        "$('div#47cbb7f2-55f4-41b5-8a0b-3c1776a9bcc6').width('28%')"
       ],
       "metadata": {},
       "output_type": "display_data",
       "text": [
        "<IPython.core.display.Javascript at 0x1572437d0>"
       ]
      },
      {
       "javascript": [
        "$('div#47cbb7f2-55f4-41b5-8a0b-3c1776a9bcc6').width('29%')"
       ],
       "metadata": {},
       "output_type": "display_data",
       "text": [
        "<IPython.core.display.Javascript at 0x1572437d0>"
       ]
      },
      {
       "javascript": [
        "$('div#47cbb7f2-55f4-41b5-8a0b-3c1776a9bcc6').width('30%')"
       ],
       "metadata": {},
       "output_type": "display_data",
       "text": [
        "<IPython.core.display.Javascript at 0x1572437d0>"
       ]
      },
      {
       "javascript": [
        "$('div#47cbb7f2-55f4-41b5-8a0b-3c1776a9bcc6').width('31%')"
       ],
       "metadata": {},
       "output_type": "display_data",
       "text": [
        "<IPython.core.display.Javascript at 0x1572437d0>"
       ]
      },
      {
       "javascript": [
        "$('div#47cbb7f2-55f4-41b5-8a0b-3c1776a9bcc6').width('32%')"
       ],
       "metadata": {},
       "output_type": "display_data",
       "text": [
        "<IPython.core.display.Javascript at 0x1572437d0>"
       ]
      },
      {
       "javascript": [
        "$('div#47cbb7f2-55f4-41b5-8a0b-3c1776a9bcc6').width('32%')"
       ],
       "metadata": {},
       "output_type": "display_data",
       "text": [
        "<IPython.core.display.Javascript at 0x1572437d0>"
       ]
      },
      {
       "javascript": [
        "$('div#47cbb7f2-55f4-41b5-8a0b-3c1776a9bcc6').width('33%')"
       ],
       "metadata": {},
       "output_type": "display_data",
       "text": [
        "<IPython.core.display.Javascript at 0x1572437d0>"
       ]
      },
      {
       "javascript": [
        "$('div#47cbb7f2-55f4-41b5-8a0b-3c1776a9bcc6').width('34%')"
       ],
       "metadata": {},
       "output_type": "display_data",
       "text": [
        "<IPython.core.display.Javascript at 0x1572437d0>"
       ]
      },
      {
       "javascript": [
        "$('div#47cbb7f2-55f4-41b5-8a0b-3c1776a9bcc6').width('35%')"
       ],
       "metadata": {},
       "output_type": "display_data",
       "text": [
        "<IPython.core.display.Javascript at 0x1572437d0>"
       ]
      },
      {
       "javascript": [
        "$('div#47cbb7f2-55f4-41b5-8a0b-3c1776a9bcc6').width('35%')"
       ],
       "metadata": {},
       "output_type": "display_data",
       "text": [
        "<IPython.core.display.Javascript at 0x1572437d0>"
       ]
      },
      {
       "javascript": [
        "$('div#47cbb7f2-55f4-41b5-8a0b-3c1776a9bcc6').width('36%')"
       ],
       "metadata": {},
       "output_type": "display_data",
       "text": [
        "<IPython.core.display.Javascript at 0x1572437d0>"
       ]
      },
      {
       "javascript": [
        "$('div#47cbb7f2-55f4-41b5-8a0b-3c1776a9bcc6').width('37%')"
       ],
       "metadata": {},
       "output_type": "display_data",
       "text": [
        "<IPython.core.display.Javascript at 0x1572437d0>"
       ]
      },
      {
       "javascript": [
        "$('div#47cbb7f2-55f4-41b5-8a0b-3c1776a9bcc6').width('38%')"
       ],
       "metadata": {},
       "output_type": "display_data",
       "text": [
        "<IPython.core.display.Javascript at 0x1572437d0>"
       ]
      },
      {
       "javascript": [
        "$('div#47cbb7f2-55f4-41b5-8a0b-3c1776a9bcc6').width('39%')"
       ],
       "metadata": {},
       "output_type": "display_data",
       "text": [
        "<IPython.core.display.Javascript at 0x1572437d0>"
       ]
      },
      {
       "javascript": [
        "$('div#47cbb7f2-55f4-41b5-8a0b-3c1776a9bcc6').width('39%')"
       ],
       "metadata": {},
       "output_type": "display_data",
       "text": [
        "<IPython.core.display.Javascript at 0x1572437d0>"
       ]
      },
      {
       "javascript": [
        "$('div#47cbb7f2-55f4-41b5-8a0b-3c1776a9bcc6').width('40%')"
       ],
       "metadata": {},
       "output_type": "display_data",
       "text": [
        "<IPython.core.display.Javascript at 0x1572437d0>"
       ]
      },
      {
       "javascript": [
        "$('div#47cbb7f2-55f4-41b5-8a0b-3c1776a9bcc6').width('41%')"
       ],
       "metadata": {},
       "output_type": "display_data",
       "text": [
        "<IPython.core.display.Javascript at 0x1572437d0>"
       ]
      },
      {
       "javascript": [
        "$('div#47cbb7f2-55f4-41b5-8a0b-3c1776a9bcc6').width('42%')"
       ],
       "metadata": {},
       "output_type": "display_data",
       "text": [
        "<IPython.core.display.Javascript at 0x1572437d0>"
       ]
      },
      {
       "javascript": [
        "$('div#47cbb7f2-55f4-41b5-8a0b-3c1776a9bcc6').width('42%')"
       ],
       "metadata": {},
       "output_type": "display_data",
       "text": [
        "<IPython.core.display.Javascript at 0x1572437d0>"
       ]
      },
      {
       "javascript": [
        "$('div#47cbb7f2-55f4-41b5-8a0b-3c1776a9bcc6').width('43%')"
       ],
       "metadata": {},
       "output_type": "display_data",
       "text": [
        "<IPython.core.display.Javascript at 0x1572437d0>"
       ]
      },
      {
       "javascript": [
        "$('div#47cbb7f2-55f4-41b5-8a0b-3c1776a9bcc6').width('44%')"
       ],
       "metadata": {},
       "output_type": "display_data",
       "text": [
        "<IPython.core.display.Javascript at 0x1572437d0>"
       ]
      },
      {
       "javascript": [
        "$('div#47cbb7f2-55f4-41b5-8a0b-3c1776a9bcc6').width('45%')"
       ],
       "metadata": {},
       "output_type": "display_data",
       "text": [
        "<IPython.core.display.Javascript at 0x1572437d0>"
       ]
      },
      {
       "javascript": [
        "$('div#47cbb7f2-55f4-41b5-8a0b-3c1776a9bcc6').width('46%')"
       ],
       "metadata": {},
       "output_type": "display_data",
       "text": [
        "<IPython.core.display.Javascript at 0x1572437d0>"
       ]
      },
      {
       "javascript": [
        "$('div#47cbb7f2-55f4-41b5-8a0b-3c1776a9bcc6').width('46%')"
       ],
       "metadata": {},
       "output_type": "display_data",
       "text": [
        "<IPython.core.display.Javascript at 0x1572437d0>"
       ]
      },
      {
       "javascript": [
        "$('div#47cbb7f2-55f4-41b5-8a0b-3c1776a9bcc6').width('47%')"
       ],
       "metadata": {},
       "output_type": "display_data",
       "text": [
        "<IPython.core.display.Javascript at 0x1572437d0>"
       ]
      },
      {
       "javascript": [
        "$('div#47cbb7f2-55f4-41b5-8a0b-3c1776a9bcc6').width('48%')"
       ],
       "metadata": {},
       "output_type": "display_data",
       "text": [
        "<IPython.core.display.Javascript at 0x1572437d0>"
       ]
      },
      {
       "javascript": [
        "$('div#47cbb7f2-55f4-41b5-8a0b-3c1776a9bcc6').width('49%')"
       ],
       "metadata": {},
       "output_type": "display_data",
       "text": [
        "<IPython.core.display.Javascript at 0x1572437d0>"
       ]
      },
      {
       "javascript": [
        "$('div#47cbb7f2-55f4-41b5-8a0b-3c1776a9bcc6').width('50%')"
       ],
       "metadata": {},
       "output_type": "display_data",
       "text": [
        "<IPython.core.display.Javascript at 0x1572437d0>"
       ]
      },
      {
       "javascript": [
        "$('div#47cbb7f2-55f4-41b5-8a0b-3c1776a9bcc6').width('50%')"
       ],
       "metadata": {},
       "output_type": "display_data",
       "text": [
        "<IPython.core.display.Javascript at 0x1572437d0>"
       ]
      },
      {
       "javascript": [
        "$('div#47cbb7f2-55f4-41b5-8a0b-3c1776a9bcc6').width('51%')"
       ],
       "metadata": {},
       "output_type": "display_data",
       "text": [
        "<IPython.core.display.Javascript at 0x1572437d0>"
       ]
      },
      {
       "javascript": [
        "$('div#47cbb7f2-55f4-41b5-8a0b-3c1776a9bcc6').width('52%')"
       ],
       "metadata": {},
       "output_type": "display_data",
       "text": [
        "<IPython.core.display.Javascript at 0x157243650>"
       ]
      },
      {
       "javascript": [
        "$('div#47cbb7f2-55f4-41b5-8a0b-3c1776a9bcc6').width('53%')"
       ],
       "metadata": {},
       "output_type": "display_data",
       "text": [
        "<IPython.core.display.Javascript at 0x157234910>"
       ]
      },
      {
       "javascript": [
        "$('div#47cbb7f2-55f4-41b5-8a0b-3c1776a9bcc6').width('53%')"
       ],
       "metadata": {},
       "output_type": "display_data",
       "text": [
        "<IPython.core.display.Javascript at 0x157243910>"
       ]
      },
      {
       "javascript": [
        "$('div#47cbb7f2-55f4-41b5-8a0b-3c1776a9bcc6').width('54%')"
       ],
       "metadata": {},
       "output_type": "display_data",
       "text": [
        "<IPython.core.display.Javascript at 0x157243890>"
       ]
      },
      {
       "javascript": [
        "$('div#47cbb7f2-55f4-41b5-8a0b-3c1776a9bcc6').width('55%')"
       ],
       "metadata": {},
       "output_type": "display_data",
       "text": [
        "<IPython.core.display.Javascript at 0x157234910>"
       ]
      },
      {
       "javascript": [
        "$('div#47cbb7f2-55f4-41b5-8a0b-3c1776a9bcc6').width('56%')"
       ],
       "metadata": {},
       "output_type": "display_data",
       "text": [
        "<IPython.core.display.Javascript at 0x157243650>"
       ]
      },
      {
       "javascript": [
        "$('div#47cbb7f2-55f4-41b5-8a0b-3c1776a9bcc6').width('57%')"
       ],
       "metadata": {},
       "output_type": "display_data",
       "text": [
        "<IPython.core.display.Javascript at 0x157234910>"
       ]
      },
      {
       "javascript": [
        "$('div#47cbb7f2-55f4-41b5-8a0b-3c1776a9bcc6').width('57%')"
       ],
       "metadata": {},
       "output_type": "display_data",
       "text": [
        "<IPython.core.display.Javascript at 0x157243850>"
       ]
      },
      {
       "javascript": [
        "$('div#47cbb7f2-55f4-41b5-8a0b-3c1776a9bcc6').width('58%')"
       ],
       "metadata": {},
       "output_type": "display_data",
       "text": [
        "<IPython.core.display.Javascript at 0x157243450>"
       ]
      },
      {
       "javascript": [
        "$('div#47cbb7f2-55f4-41b5-8a0b-3c1776a9bcc6').width('59%')"
       ],
       "metadata": {},
       "output_type": "display_data",
       "text": [
        "<IPython.core.display.Javascript at 0x157243650>"
       ]
      },
      {
       "javascript": [
        "$('div#47cbb7f2-55f4-41b5-8a0b-3c1776a9bcc6').width('60%')"
       ],
       "metadata": {},
       "output_type": "display_data",
       "text": [
        "<IPython.core.display.Javascript at 0x157243890>"
       ]
      },
      {
       "javascript": [
        "$('div#47cbb7f2-55f4-41b5-8a0b-3c1776a9bcc6').width('60%')"
       ],
       "metadata": {},
       "output_type": "display_data",
       "text": [
        "<IPython.core.display.Javascript at 0x157234910>"
       ]
      },
      {
       "javascript": [
        "$('div#47cbb7f2-55f4-41b5-8a0b-3c1776a9bcc6').width('61%')"
       ],
       "metadata": {},
       "output_type": "display_data",
       "text": [
        "<IPython.core.display.Javascript at 0x157234910>"
       ]
      },
      {
       "javascript": [
        "$('div#47cbb7f2-55f4-41b5-8a0b-3c1776a9bcc6').width('62%')"
       ],
       "metadata": {},
       "output_type": "display_data",
       "text": [
        "<IPython.core.display.Javascript at 0x157234910>"
       ]
      },
      {
       "javascript": [
        "$('div#47cbb7f2-55f4-41b5-8a0b-3c1776a9bcc6').width('63%')"
       ],
       "metadata": {},
       "output_type": "display_data",
       "text": [
        "<IPython.core.display.Javascript at 0x157234910>"
       ]
      },
      {
       "javascript": [
        "$('div#47cbb7f2-55f4-41b5-8a0b-3c1776a9bcc6').width('64%')"
       ],
       "metadata": {},
       "output_type": "display_data",
       "text": [
        "<IPython.core.display.Javascript at 0x157234910>"
       ]
      },
      {
       "javascript": [
        "$('div#47cbb7f2-55f4-41b5-8a0b-3c1776a9bcc6').width('64%')"
       ],
       "metadata": {},
       "output_type": "display_data",
       "text": [
        "<IPython.core.display.Javascript at 0x157234910>"
       ]
      },
      {
       "javascript": [
        "$('div#47cbb7f2-55f4-41b5-8a0b-3c1776a9bcc6').width('65%')"
       ],
       "metadata": {},
       "output_type": "display_data",
       "text": [
        "<IPython.core.display.Javascript at 0x157234910>"
       ]
      },
      {
       "javascript": [
        "$('div#47cbb7f2-55f4-41b5-8a0b-3c1776a9bcc6').width('66%')"
       ],
       "metadata": {},
       "output_type": "display_data",
       "text": [
        "<IPython.core.display.Javascript at 0x157234910>"
       ]
      },
      {
       "javascript": [
        "$('div#47cbb7f2-55f4-41b5-8a0b-3c1776a9bcc6').width('67%')"
       ],
       "metadata": {},
       "output_type": "display_data",
       "text": [
        "<IPython.core.display.Javascript at 0x157234910>"
       ]
      },
      {
       "javascript": [
        "$('div#47cbb7f2-55f4-41b5-8a0b-3c1776a9bcc6').width('67%')"
       ],
       "metadata": {},
       "output_type": "display_data",
       "text": [
        "<IPython.core.display.Javascript at 0x157234910>"
       ]
      },
      {
       "javascript": [
        "$('div#47cbb7f2-55f4-41b5-8a0b-3c1776a9bcc6').width('68%')"
       ],
       "metadata": {},
       "output_type": "display_data",
       "text": [
        "<IPython.core.display.Javascript at 0x157234910>"
       ]
      },
      {
       "javascript": [
        "$('div#47cbb7f2-55f4-41b5-8a0b-3c1776a9bcc6').width('69%')"
       ],
       "metadata": {},
       "output_type": "display_data",
       "text": [
        "<IPython.core.display.Javascript at 0x157234910>"
       ]
      },
      {
       "javascript": [
        "$('div#47cbb7f2-55f4-41b5-8a0b-3c1776a9bcc6').width('70%')"
       ],
       "metadata": {},
       "output_type": "display_data",
       "text": [
        "<IPython.core.display.Javascript at 0x157234910>"
       ]
      },
      {
       "javascript": [
        "$('div#47cbb7f2-55f4-41b5-8a0b-3c1776a9bcc6').width('71%')"
       ],
       "metadata": {},
       "output_type": "display_data",
       "text": [
        "<IPython.core.display.Javascript at 0x157234910>"
       ]
      },
      {
       "javascript": [
        "$('div#47cbb7f2-55f4-41b5-8a0b-3c1776a9bcc6').width('71%')"
       ],
       "metadata": {},
       "output_type": "display_data",
       "text": [
        "<IPython.core.display.Javascript at 0x157234910>"
       ]
      },
      {
       "javascript": [
        "$('div#47cbb7f2-55f4-41b5-8a0b-3c1776a9bcc6').width('72%')"
       ],
       "metadata": {},
       "output_type": "display_data",
       "text": [
        "<IPython.core.display.Javascript at 0x157234910>"
       ]
      },
      {
       "javascript": [
        "$('div#47cbb7f2-55f4-41b5-8a0b-3c1776a9bcc6').width('73%')"
       ],
       "metadata": {},
       "output_type": "display_data",
       "text": [
        "<IPython.core.display.Javascript at 0x157234910>"
       ]
      },
      {
       "javascript": [
        "$('div#47cbb7f2-55f4-41b5-8a0b-3c1776a9bcc6').width('74%')"
       ],
       "metadata": {},
       "output_type": "display_data",
       "text": [
        "<IPython.core.display.Javascript at 0x157234910>"
       ]
      },
      {
       "javascript": [
        "$('div#47cbb7f2-55f4-41b5-8a0b-3c1776a9bcc6').width('75%')"
       ],
       "metadata": {},
       "output_type": "display_data",
       "text": [
        "<IPython.core.display.Javascript at 0x157234910>"
       ]
      },
      {
       "javascript": [
        "$('div#47cbb7f2-55f4-41b5-8a0b-3c1776a9bcc6').width('75%')"
       ],
       "metadata": {},
       "output_type": "display_data",
       "text": [
        "<IPython.core.display.Javascript at 0x157234910>"
       ]
      },
      {
       "javascript": [
        "$('div#47cbb7f2-55f4-41b5-8a0b-3c1776a9bcc6').width('76%')"
       ],
       "metadata": {},
       "output_type": "display_data",
       "text": [
        "<IPython.core.display.Javascript at 0x157234910>"
       ]
      },
      {
       "javascript": [
        "$('div#47cbb7f2-55f4-41b5-8a0b-3c1776a9bcc6').width('77%')"
       ],
       "metadata": {},
       "output_type": "display_data",
       "text": [
        "<IPython.core.display.Javascript at 0x157234910>"
       ]
      },
      {
       "javascript": [
        "$('div#47cbb7f2-55f4-41b5-8a0b-3c1776a9bcc6').width('78%')"
       ],
       "metadata": {},
       "output_type": "display_data",
       "text": [
        "<IPython.core.display.Javascript at 0x157234910>"
       ]
      },
      {
       "javascript": [
        "$('div#47cbb7f2-55f4-41b5-8a0b-3c1776a9bcc6').width('78%')"
       ],
       "metadata": {},
       "output_type": "display_data",
       "text": [
        "<IPython.core.display.Javascript at 0x157234910>"
       ]
      },
      {
       "javascript": [
        "$('div#47cbb7f2-55f4-41b5-8a0b-3c1776a9bcc6').width('79%')"
       ],
       "metadata": {},
       "output_type": "display_data",
       "text": [
        "<IPython.core.display.Javascript at 0x157234910>"
       ]
      },
      {
       "javascript": [
        "$('div#47cbb7f2-55f4-41b5-8a0b-3c1776a9bcc6').width('80%')"
       ],
       "metadata": {},
       "output_type": "display_data",
       "text": [
        "<IPython.core.display.Javascript at 0x157234910>"
       ]
      },
      {
       "javascript": [
        "$('div#47cbb7f2-55f4-41b5-8a0b-3c1776a9bcc6').width('81%')"
       ],
       "metadata": {},
       "output_type": "display_data",
       "text": [
        "<IPython.core.display.Javascript at 0x157234910>"
       ]
      },
      {
       "javascript": [
        "$('div#47cbb7f2-55f4-41b5-8a0b-3c1776a9bcc6').width('82%')"
       ],
       "metadata": {},
       "output_type": "display_data",
       "text": [
        "<IPython.core.display.Javascript at 0x157234910>"
       ]
      },
      {
       "javascript": [
        "$('div#47cbb7f2-55f4-41b5-8a0b-3c1776a9bcc6').width('82%')"
       ],
       "metadata": {},
       "output_type": "display_data",
       "text": [
        "<IPython.core.display.Javascript at 0x157234910>"
       ]
      },
      {
       "javascript": [
        "$('div#47cbb7f2-55f4-41b5-8a0b-3c1776a9bcc6').width('83%')"
       ],
       "metadata": {},
       "output_type": "display_data",
       "text": [
        "<IPython.core.display.Javascript at 0x157234910>"
       ]
      },
      {
       "javascript": [
        "$('div#47cbb7f2-55f4-41b5-8a0b-3c1776a9bcc6').width('84%')"
       ],
       "metadata": {},
       "output_type": "display_data",
       "text": [
        "<IPython.core.display.Javascript at 0x157234910>"
       ]
      },
      {
       "javascript": [
        "$('div#47cbb7f2-55f4-41b5-8a0b-3c1776a9bcc6').width('85%')"
       ],
       "metadata": {},
       "output_type": "display_data",
       "text": [
        "<IPython.core.display.Javascript at 0x157234910>"
       ]
      },
      {
       "javascript": [
        "$('div#47cbb7f2-55f4-41b5-8a0b-3c1776a9bcc6').width('85%')"
       ],
       "metadata": {},
       "output_type": "display_data",
       "text": [
        "<IPython.core.display.Javascript at 0x157234910>"
       ]
      },
      {
       "javascript": [
        "$('div#47cbb7f2-55f4-41b5-8a0b-3c1776a9bcc6').width('86%')"
       ],
       "metadata": {},
       "output_type": "display_data",
       "text": [
        "<IPython.core.display.Javascript at 0x157234910>"
       ]
      },
      {
       "javascript": [
        "$('div#47cbb7f2-55f4-41b5-8a0b-3c1776a9bcc6').width('87%')"
       ],
       "metadata": {},
       "output_type": "display_data",
       "text": [
        "<IPython.core.display.Javascript at 0x157234910>"
       ]
      },
      {
       "javascript": [
        "$('div#47cbb7f2-55f4-41b5-8a0b-3c1776a9bcc6').width('88%')"
       ],
       "metadata": {},
       "output_type": "display_data",
       "text": [
        "<IPython.core.display.Javascript at 0x157234910>"
       ]
      },
      {
       "javascript": [
        "$('div#47cbb7f2-55f4-41b5-8a0b-3c1776a9bcc6').width('89%')"
       ],
       "metadata": {},
       "output_type": "display_data",
       "text": [
        "<IPython.core.display.Javascript at 0x157234910>"
       ]
      },
      {
       "javascript": [
        "$('div#47cbb7f2-55f4-41b5-8a0b-3c1776a9bcc6').width('89%')"
       ],
       "metadata": {},
       "output_type": "display_data",
       "text": [
        "<IPython.core.display.Javascript at 0x157234910>"
       ]
      },
      {
       "javascript": [
        "$('div#47cbb7f2-55f4-41b5-8a0b-3c1776a9bcc6').width('90%')"
       ],
       "metadata": {},
       "output_type": "display_data",
       "text": [
        "<IPython.core.display.Javascript at 0x157234910>"
       ]
      },
      {
       "javascript": [
        "$('div#47cbb7f2-55f4-41b5-8a0b-3c1776a9bcc6').width('91%')"
       ],
       "metadata": {},
       "output_type": "display_data",
       "text": [
        "<IPython.core.display.Javascript at 0x157234910>"
       ]
      },
      {
       "javascript": [
        "$('div#47cbb7f2-55f4-41b5-8a0b-3c1776a9bcc6').width('92%')"
       ],
       "metadata": {},
       "output_type": "display_data",
       "text": [
        "<IPython.core.display.Javascript at 0x157234910>"
       ]
      },
      {
       "javascript": [
        "$('div#47cbb7f2-55f4-41b5-8a0b-3c1776a9bcc6').width('92%')"
       ],
       "metadata": {},
       "output_type": "display_data",
       "text": [
        "<IPython.core.display.Javascript at 0x157234910>"
       ]
      },
      {
       "javascript": [
        "$('div#47cbb7f2-55f4-41b5-8a0b-3c1776a9bcc6').width('93%')"
       ],
       "metadata": {},
       "output_type": "display_data",
       "text": [
        "<IPython.core.display.Javascript at 0x157234910>"
       ]
      },
      {
       "javascript": [
        "$('div#47cbb7f2-55f4-41b5-8a0b-3c1776a9bcc6').width('94%')"
       ],
       "metadata": {},
       "output_type": "display_data",
       "text": [
        "<IPython.core.display.Javascript at 0x157234910>"
       ]
      },
      {
       "javascript": [
        "$('div#47cbb7f2-55f4-41b5-8a0b-3c1776a9bcc6').width('95%')"
       ],
       "metadata": {},
       "output_type": "display_data",
       "text": [
        "<IPython.core.display.Javascript at 0x157234910>"
       ]
      },
      {
       "javascript": [
        "$('div#47cbb7f2-55f4-41b5-8a0b-3c1776a9bcc6').width('96%')"
       ],
       "metadata": {},
       "output_type": "display_data",
       "text": [
        "<IPython.core.display.Javascript at 0x157234910>"
       ]
      },
      {
       "javascript": [
        "$('div#47cbb7f2-55f4-41b5-8a0b-3c1776a9bcc6').width('96%')"
       ],
       "metadata": {},
       "output_type": "display_data",
       "text": [
        "<IPython.core.display.Javascript at 0x157234910>"
       ]
      },
      {
       "javascript": [
        "$('div#47cbb7f2-55f4-41b5-8a0b-3c1776a9bcc6').width('97%')"
       ],
       "metadata": {},
       "output_type": "display_data",
       "text": [
        "<IPython.core.display.Javascript at 0x157234910>"
       ]
      },
      {
       "javascript": [
        "$('div#47cbb7f2-55f4-41b5-8a0b-3c1776a9bcc6').width('98%')"
       ],
       "metadata": {},
       "output_type": "display_data",
       "text": [
        "<IPython.core.display.Javascript at 0x157234910>"
       ]
      },
      {
       "javascript": [
        "$('div#47cbb7f2-55f4-41b5-8a0b-3c1776a9bcc6').width('99%')"
       ],
       "metadata": {},
       "output_type": "display_data",
       "text": [
        "<IPython.core.display.Javascript at 0x157234910>"
       ]
      },
      {
       "javascript": [
        "$('div#47cbb7f2-55f4-41b5-8a0b-3c1776a9bcc6').width('100%')"
       ],
       "metadata": {},
       "output_type": "display_data",
       "text": [
        "<IPython.core.display.Javascript at 0x157234910>"
       ]
      },
      {
       "html": [
        "<iframe src=http://127.0.0.1:8001/2918931 width=100%% height=420 frameborder=0></iframe>"
       ],
       "metadata": {},
       "output_type": "pyout",
       "prompt_number": 22,
       "text": [
        "<occiput.Core.RigidVolume at 0x118e06250>"
       ]
      }
     ],
     "prompt_number": 22
    },
    {
     "cell_type": "code",
     "collapsed": false,
     "input": [],
     "language": "python",
     "metadata": {},
     "outputs": []
    },
    {
     "cell_type": "code",
     "collapsed": false,
     "input": [],
     "language": "python",
     "metadata": {},
     "outputs": []
    },
    {
     "cell_type": "code",
     "collapsed": false,
     "input": [
      "# Reconstruct time frame 19: \n",
      "activity19 = SCAN.frame19.estimate_activity() \n",
      "SCAN.static.volume_render(activity19,scale=8)"
     ],
     "language": "python",
     "metadata": {},
     "outputs": []
    },
    {
     "cell_type": "code",
     "collapsed": false,
     "input": [
      "# Joint reconstruction of motion and activity: \n",
      "# activity_moco = SCAN.estimate_activity_motion() \n",
      "activity_moco = occiput.DataSources.FileSource('/Users/spedemon/Desktop/activity_moco_matlab.nii') \n",
      "SCAN.static.volume_render(activity_moco,scale=8) "
     ],
     "language": "python",
     "metadata": {},
     "outputs": []
    },
    {
     "cell_type": "code",
     "collapsed": false,
     "input": [
      "activity_moco.display(axis=1,scale_factor=0.5)"
     ],
     "language": "python",
     "metadata": {},
     "outputs": []
    },
    {
     "cell_type": "code",
     "collapsed": false,
     "input": [
      "b.shape"
     ],
     "language": "python",
     "metadata": {},
     "outputs": [
      {
       "metadata": {},
       "output_type": "pyout",
       "prompt_number": 19,
       "text": [
        "(128, 128, 128)"
       ]
      }
     ],
     "prompt_number": 19
    },
    {
     "cell_type": "code",
     "collapsed": false,
     "input": [],
     "language": "python",
     "metadata": {},
     "outputs": [],
     "prompt_number": 16
    },
    {
     "cell_type": "code",
     "collapsed": false,
     "input": [],
     "language": "python",
     "metadata": {},
     "outputs": [],
     "prompt_number": 16
    },
    {
     "cell_type": "code",
     "collapsed": false,
     "input": [],
     "language": "python",
     "metadata": {},
     "outputs": [],
     "prompt_number": 7
    },
    {
     "cell_type": "code",
     "collapsed": false,
     "input": [],
     "language": "python",
     "metadata": {},
     "outputs": []
    },
    {
     "cell_type": "code",
     "collapsed": false,
     "input": [
      "from occiput.DataSources.Synthetic import uniform_spheres_ring\n",
      "\n",
      "# Number of voxels of the synthetic activity volume: \n",
      "\n",
      "phantom_voxels_x       = 128                       # voxels\n",
      "phantom_voxels_y       = 128                       # voxels\n",
      "phantom_voxels_z       = 128                       # voxels\n",
      "\n",
      "\n",
      "# Size of the synthetic activity volume in [mm] \n",
      "\n",
      "phantom_size_x         = 128                       # [mm]\n",
      "phantom_size_y         = 128                       # [mm]\n",
      "phantom_size_z         = 128                       # [mm]\n",
      "\n",
      "\n",
      "# Center of the synthetic activity volume in [mm]\n",
      "\n",
      "phantom_center_x       = 0.5  * phantom_size_x     # [mm]\n",
      "phantom_center_y       = 0.5  * phantom_size_y     # [mm]\n",
      "phantom_center_z       = 0.5  * phantom_size_z     # [mm]\n",
      "\n",
      "\n",
      "# Synthetic activity parameters: \n",
      "\n",
      "phantom_n_spheres      = 6                         # number of spheres\n",
      "phantom_ring_radius    = 0.4  * phantom_size_x     # radius of the ring of spheres  [mm]\n",
      "phantom_small_radius   = 0.04 * phantom_size_z     # radius of the smallest spheres [mm]\n",
      "phantom_large_radius   = 0.10 * phantom_size_z     # radius of the largest sphere   [mm]\n",
      "phantom_value          = 10.0                      # activity inside the spheres\n",
      "phantom_background     = 0.25                      # activity outside the spheres \n",
      "phantom_ring_axis      = 2                         # axis of the ring of spheres : 0 for X, 1 for Y, 2 for Z \n",
      "phantom_extrusion      = 0.6  * phantom_size_z     # extrusion along axis           [mm] \n",
      "\n",
      "\n",
      "# Make the synthetic activity volume: \n",
      "\n",
      "#phantom = occiput.DataSources.Synthetic.uniform_sphere([128,128,128],[128,128,128],[64,64,64],20,2,0)\n",
      "\n",
      "phantom = uniform_spheres_ring(  [phantom_voxels_x, phantom_voxels_y, phantom_voxels_z], \n",
      "                                 [phantom_size_x,   phantom_size_y,   phantom_size_z  ], \n",
      "                                 [phantom_center_x, phantom_center_y, phantom_center_z], \n",
      "                                  phantom_ring_radius, phantom_small_radius, phantom_large_radius, \n",
      "                                  phantom_n_spheres, phantom_value, phantom_background, phantom_extrusion, phantom_ring_axis)  "
     ],
     "language": "python",
     "metadata": {},
     "outputs": [],
     "prompt_number": 60
    },
    {
     "cell_type": "code",
     "collapsed": false,
     "input": [
      "SCAN.static.projection_parameters.direction=7\n",
      "proj = SCAN.static.project(phantom)"
     ],
     "language": "python",
     "metadata": {},
     "outputs": [],
     "prompt_number": 61
    },
    {
     "cell_type": "code",
     "collapsed": false,
     "input": [
      "Proj = SCAN.static.uncompress(proj)"
     ],
     "language": "python",
     "metadata": {},
     "outputs": [],
     "prompt_number": 62
    },
    {
     "cell_type": "code",
     "collapsed": false,
     "input": [
      "Proj"
     ],
     "language": "python",
     "metadata": {},
     "outputs": [
      {
       "html": [
        "\n",
        "        <div style=\"border: 1px solid white; width:100%%; height:6px; background-color:rgb(246,246,246)\">\n",
        "            <div id=\"152b7bbc-6291-4c4b-9823-4b8e7ae95fec\" style=\"background-color:rgb(200,200,200); width:0%; height:6px\"> </div>\n",
        "        </div> \n",
        "        "
       ],
       "metadata": {},
       "output_type": "display_data",
       "text": [
        "<IPython.core.display.HTML at 0x157243910>"
       ]
      },
      {
       "javascript": [
        "$('div#152b7bbc-6291-4c4b-9823-4b8e7ae95fec').width('1%')"
       ],
       "metadata": {},
       "output_type": "display_data",
       "text": [
        "<IPython.core.display.Javascript at 0x157239b90>"
       ]
      },
      {
       "javascript": [
        "$('div#152b7bbc-6291-4c4b-9823-4b8e7ae95fec').width('1%')"
       ],
       "metadata": {},
       "output_type": "display_data",
       "text": [
        "<IPython.core.display.Javascript at 0x157239b90>"
       ]
      },
      {
       "javascript": [
        "$('div#152b7bbc-6291-4c4b-9823-4b8e7ae95fec').width('1%')"
       ],
       "metadata": {},
       "output_type": "display_data",
       "text": [
        "<IPython.core.display.Javascript at 0x157239b90>"
       ]
      },
      {
       "javascript": [
        "$('div#152b7bbc-6291-4c4b-9823-4b8e7ae95fec').width('1%')"
       ],
       "metadata": {},
       "output_type": "display_data",
       "text": [
        "<IPython.core.display.Javascript at 0x157239b90>"
       ]
      },
      {
       "javascript": [
        "$('div#152b7bbc-6291-4c4b-9823-4b8e7ae95fec').width('1%')"
       ],
       "metadata": {},
       "output_type": "display_data",
       "text": [
        "<IPython.core.display.Javascript at 0x157239b90>"
       ]
      },
      {
       "javascript": [
        "$('div#152b7bbc-6291-4c4b-9823-4b8e7ae95fec').width('1%')"
       ],
       "metadata": {},
       "output_type": "display_data",
       "text": [
        "<IPython.core.display.Javascript at 0x157239b90>"
       ]
      },
      {
       "javascript": [
        "$('div#152b7bbc-6291-4c4b-9823-4b8e7ae95fec').width('2%')"
       ],
       "metadata": {},
       "output_type": "display_data",
       "text": [
        "<IPython.core.display.Javascript at 0x157239b90>"
       ]
      },
      {
       "javascript": [
        "$('div#152b7bbc-6291-4c4b-9823-4b8e7ae95fec').width('2%')"
       ],
       "metadata": {},
       "output_type": "display_data",
       "text": [
        "<IPython.core.display.Javascript at 0x157239b90>"
       ]
      },
      {
       "javascript": [
        "$('div#152b7bbc-6291-4c4b-9823-4b8e7ae95fec').width('3%')"
       ],
       "metadata": {},
       "output_type": "display_data",
       "text": [
        "<IPython.core.display.Javascript at 0x157239b90>"
       ]
      },
      {
       "javascript": [
        "$('div#152b7bbc-6291-4c4b-9823-4b8e7ae95fec').width('3%')"
       ],
       "metadata": {},
       "output_type": "display_data",
       "text": [
        "<IPython.core.display.Javascript at 0x157239b90>"
       ]
      },
      {
       "javascript": [
        "$('div#152b7bbc-6291-4c4b-9823-4b8e7ae95fec').width('3%')"
       ],
       "metadata": {},
       "output_type": "display_data",
       "text": [
        "<IPython.core.display.Javascript at 0x157239b90>"
       ]
      },
      {
       "javascript": [
        "$('div#152b7bbc-6291-4c4b-9823-4b8e7ae95fec').width('4%')"
       ],
       "metadata": {},
       "output_type": "display_data",
       "text": [
        "<IPython.core.display.Javascript at 0x157239b90>"
       ]
      },
      {
       "javascript": [
        "$('div#152b7bbc-6291-4c4b-9823-4b8e7ae95fec').width('4%')"
       ],
       "metadata": {},
       "output_type": "display_data",
       "text": [
        "<IPython.core.display.Javascript at 0x157239b90>"
       ]
      },
      {
       "javascript": [
        "$('div#152b7bbc-6291-4c4b-9823-4b8e7ae95fec').width('5%')"
       ],
       "metadata": {},
       "output_type": "display_data",
       "text": [
        "<IPython.core.display.Javascript at 0x157239b90>"
       ]
      },
      {
       "javascript": [
        "$('div#152b7bbc-6291-4c4b-9823-4b8e7ae95fec').width('5%')"
       ],
       "metadata": {},
       "output_type": "display_data",
       "text": [
        "<IPython.core.display.Javascript at 0x157239b90>"
       ]
      },
      {
       "javascript": [
        "$('div#152b7bbc-6291-4c4b-9823-4b8e7ae95fec').width('5%')"
       ],
       "metadata": {},
       "output_type": "display_data",
       "text": [
        "<IPython.core.display.Javascript at 0x157239b90>"
       ]
      },
      {
       "javascript": [
        "$('div#152b7bbc-6291-4c4b-9823-4b8e7ae95fec').width('6%')"
       ],
       "metadata": {},
       "output_type": "display_data",
       "text": [
        "<IPython.core.display.Javascript at 0x157239b90>"
       ]
      },
      {
       "javascript": [
        "$('div#152b7bbc-6291-4c4b-9823-4b8e7ae95fec').width('6%')"
       ],
       "metadata": {},
       "output_type": "display_data",
       "text": [
        "<IPython.core.display.Javascript at 0x157239b90>"
       ]
      },
      {
       "javascript": [
        "$('div#152b7bbc-6291-4c4b-9823-4b8e7ae95fec').width('7%')"
       ],
       "metadata": {},
       "output_type": "display_data",
       "text": [
        "<IPython.core.display.Javascript at 0x157239b90>"
       ]
      },
      {
       "javascript": [
        "$('div#152b7bbc-6291-4c4b-9823-4b8e7ae95fec').width('7%')"
       ],
       "metadata": {},
       "output_type": "display_data",
       "text": [
        "<IPython.core.display.Javascript at 0x157239b90>"
       ]
      },
      {
       "javascript": [
        "$('div#152b7bbc-6291-4c4b-9823-4b8e7ae95fec').width('7%')"
       ],
       "metadata": {},
       "output_type": "display_data",
       "text": [
        "<IPython.core.display.Javascript at 0x157239b90>"
       ]
      },
      {
       "javascript": [
        "$('div#152b7bbc-6291-4c4b-9823-4b8e7ae95fec').width('8%')"
       ],
       "metadata": {},
       "output_type": "display_data",
       "text": [
        "<IPython.core.display.Javascript at 0x157239b90>"
       ]
      },
      {
       "javascript": [
        "$('div#152b7bbc-6291-4c4b-9823-4b8e7ae95fec').width('8%')"
       ],
       "metadata": {},
       "output_type": "display_data",
       "text": [
        "<IPython.core.display.Javascript at 0x157239b90>"
       ]
      },
      {
       "javascript": [
        "$('div#152b7bbc-6291-4c4b-9823-4b8e7ae95fec').width('9%')"
       ],
       "metadata": {},
       "output_type": "display_data",
       "text": [
        "<IPython.core.display.Javascript at 0x157239b90>"
       ]
      },
      {
       "javascript": [
        "$('div#152b7bbc-6291-4c4b-9823-4b8e7ae95fec').width('9%')"
       ],
       "metadata": {},
       "output_type": "display_data",
       "text": [
        "<IPython.core.display.Javascript at 0x157239b90>"
       ]
      },
      {
       "javascript": [
        "$('div#152b7bbc-6291-4c4b-9823-4b8e7ae95fec').width('9%')"
       ],
       "metadata": {},
       "output_type": "display_data",
       "text": [
        "<IPython.core.display.Javascript at 0x157239b90>"
       ]
      },
      {
       "javascript": [
        "$('div#152b7bbc-6291-4c4b-9823-4b8e7ae95fec').width('10%')"
       ],
       "metadata": {},
       "output_type": "display_data",
       "text": [
        "<IPython.core.display.Javascript at 0x157239b90>"
       ]
      },
      {
       "javascript": [
        "$('div#152b7bbc-6291-4c4b-9823-4b8e7ae95fec').width('10%')"
       ],
       "metadata": {},
       "output_type": "display_data",
       "text": [
        "<IPython.core.display.Javascript at 0x157239b90>"
       ]
      },
      {
       "javascript": [
        "$('div#152b7bbc-6291-4c4b-9823-4b8e7ae95fec').width('11%')"
       ],
       "metadata": {},
       "output_type": "display_data",
       "text": [
        "<IPython.core.display.Javascript at 0x157239b90>"
       ]
      },
      {
       "javascript": [
        "$('div#152b7bbc-6291-4c4b-9823-4b8e7ae95fec').width('11%')"
       ],
       "metadata": {},
       "output_type": "display_data",
       "text": [
        "<IPython.core.display.Javascript at 0x157239b90>"
       ]
      },
      {
       "javascript": [
        "$('div#152b7bbc-6291-4c4b-9823-4b8e7ae95fec').width('11%')"
       ],
       "metadata": {},
       "output_type": "display_data",
       "text": [
        "<IPython.core.display.Javascript at 0x157239b90>"
       ]
      },
      {
       "javascript": [
        "$('div#152b7bbc-6291-4c4b-9823-4b8e7ae95fec').width('12%')"
       ],
       "metadata": {},
       "output_type": "display_data",
       "text": [
        "<IPython.core.display.Javascript at 0x157239b90>"
       ]
      },
      {
       "javascript": [
        "$('div#152b7bbc-6291-4c4b-9823-4b8e7ae95fec').width('12%')"
       ],
       "metadata": {},
       "output_type": "display_data",
       "text": [
        "<IPython.core.display.Javascript at 0x157239b90>"
       ]
      },
      {
       "javascript": [
        "$('div#152b7bbc-6291-4c4b-9823-4b8e7ae95fec').width('13%')"
       ],
       "metadata": {},
       "output_type": "display_data",
       "text": [
        "<IPython.core.display.Javascript at 0x157239b90>"
       ]
      },
      {
       "javascript": [
        "$('div#152b7bbc-6291-4c4b-9823-4b8e7ae95fec').width('13%')"
       ],
       "metadata": {},
       "output_type": "display_data",
       "text": [
        "<IPython.core.display.Javascript at 0x157239b90>"
       ]
      },
      {
       "javascript": [
        "$('div#152b7bbc-6291-4c4b-9823-4b8e7ae95fec').width('13%')"
       ],
       "metadata": {},
       "output_type": "display_data",
       "text": [
        "<IPython.core.display.Javascript at 0x157239b90>"
       ]
      },
      {
       "javascript": [
        "$('div#152b7bbc-6291-4c4b-9823-4b8e7ae95fec').width('14%')"
       ],
       "metadata": {},
       "output_type": "display_data",
       "text": [
        "<IPython.core.display.Javascript at 0x157239b90>"
       ]
      },
      {
       "javascript": [
        "$('div#152b7bbc-6291-4c4b-9823-4b8e7ae95fec').width('14%')"
       ],
       "metadata": {},
       "output_type": "display_data",
       "text": [
        "<IPython.core.display.Javascript at 0x157239b90>"
       ]
      },
      {
       "javascript": [
        "$('div#152b7bbc-6291-4c4b-9823-4b8e7ae95fec').width('15%')"
       ],
       "metadata": {},
       "output_type": "display_data",
       "text": [
        "<IPython.core.display.Javascript at 0x157239b90>"
       ]
      },
      {
       "javascript": [
        "$('div#152b7bbc-6291-4c4b-9823-4b8e7ae95fec').width('15%')"
       ],
       "metadata": {},
       "output_type": "display_data",
       "text": [
        "<IPython.core.display.Javascript at 0x157239b90>"
       ]
      },
      {
       "javascript": [
        "$('div#152b7bbc-6291-4c4b-9823-4b8e7ae95fec').width('15%')"
       ],
       "metadata": {},
       "output_type": "display_data",
       "text": [
        "<IPython.core.display.Javascript at 0x157239b90>"
       ]
      },
      {
       "javascript": [
        "$('div#152b7bbc-6291-4c4b-9823-4b8e7ae95fec').width('16%')"
       ],
       "metadata": {},
       "output_type": "display_data",
       "text": [
        "<IPython.core.display.Javascript at 0x157239b90>"
       ]
      },
      {
       "javascript": [
        "$('div#152b7bbc-6291-4c4b-9823-4b8e7ae95fec').width('16%')"
       ],
       "metadata": {},
       "output_type": "display_data",
       "text": [
        "<IPython.core.display.Javascript at 0x157239b90>"
       ]
      },
      {
       "javascript": [
        "$('div#152b7bbc-6291-4c4b-9823-4b8e7ae95fec').width('17%')"
       ],
       "metadata": {},
       "output_type": "display_data",
       "text": [
        "<IPython.core.display.Javascript at 0x157239b90>"
       ]
      },
      {
       "javascript": [
        "$('div#152b7bbc-6291-4c4b-9823-4b8e7ae95fec').width('17%')"
       ],
       "metadata": {},
       "output_type": "display_data",
       "text": [
        "<IPython.core.display.Javascript at 0x157239b90>"
       ]
      },
      {
       "javascript": [
        "$('div#152b7bbc-6291-4c4b-9823-4b8e7ae95fec').width('17%')"
       ],
       "metadata": {},
       "output_type": "display_data",
       "text": [
        "<IPython.core.display.Javascript at 0x157239b90>"
       ]
      },
      {
       "javascript": [
        "$('div#152b7bbc-6291-4c4b-9823-4b8e7ae95fec').width('18%')"
       ],
       "metadata": {},
       "output_type": "display_data",
       "text": [
        "<IPython.core.display.Javascript at 0x157239b90>"
       ]
      },
      {
       "javascript": [
        "$('div#152b7bbc-6291-4c4b-9823-4b8e7ae95fec').width('18%')"
       ],
       "metadata": {},
       "output_type": "display_data",
       "text": [
        "<IPython.core.display.Javascript at 0x157239b90>"
       ]
      },
      {
       "javascript": [
        "$('div#152b7bbc-6291-4c4b-9823-4b8e7ae95fec').width('19%')"
       ],
       "metadata": {},
       "output_type": "display_data",
       "text": [
        "<IPython.core.display.Javascript at 0x157239b90>"
       ]
      },
      {
       "javascript": [
        "$('div#152b7bbc-6291-4c4b-9823-4b8e7ae95fec').width('19%')"
       ],
       "metadata": {},
       "output_type": "display_data",
       "text": [
        "<IPython.core.display.Javascript at 0x157239b90>"
       ]
      },
      {
       "javascript": [
        "$('div#152b7bbc-6291-4c4b-9823-4b8e7ae95fec').width('19%')"
       ],
       "metadata": {},
       "output_type": "display_data",
       "text": [
        "<IPython.core.display.Javascript at 0x157239b90>"
       ]
      },
      {
       "javascript": [
        "$('div#152b7bbc-6291-4c4b-9823-4b8e7ae95fec').width('20%')"
       ],
       "metadata": {},
       "output_type": "display_data",
       "text": [
        "<IPython.core.display.Javascript at 0x157239b90>"
       ]
      },
      {
       "javascript": [
        "$('div#152b7bbc-6291-4c4b-9823-4b8e7ae95fec').width('20%')"
       ],
       "metadata": {},
       "output_type": "display_data",
       "text": [
        "<IPython.core.display.Javascript at 0x157239b90>"
       ]
      },
      {
       "javascript": [
        "$('div#152b7bbc-6291-4c4b-9823-4b8e7ae95fec').width('21%')"
       ],
       "metadata": {},
       "output_type": "display_data",
       "text": [
        "<IPython.core.display.Javascript at 0x157239b90>"
       ]
      },
      {
       "javascript": [
        "$('div#152b7bbc-6291-4c4b-9823-4b8e7ae95fec').width('21%')"
       ],
       "metadata": {},
       "output_type": "display_data",
       "text": [
        "<IPython.core.display.Javascript at 0x157239b90>"
       ]
      },
      {
       "javascript": [
        "$('div#152b7bbc-6291-4c4b-9823-4b8e7ae95fec').width('21%')"
       ],
       "metadata": {},
       "output_type": "display_data",
       "text": [
        "<IPython.core.display.Javascript at 0x157239b90>"
       ]
      },
      {
       "javascript": [
        "$('div#152b7bbc-6291-4c4b-9823-4b8e7ae95fec').width('22%')"
       ],
       "metadata": {},
       "output_type": "display_data",
       "text": [
        "<IPython.core.display.Javascript at 0x157239b90>"
       ]
      },
      {
       "javascript": [
        "$('div#152b7bbc-6291-4c4b-9823-4b8e7ae95fec').width('22%')"
       ],
       "metadata": {},
       "output_type": "display_data",
       "text": [
        "<IPython.core.display.Javascript at 0x157239b90>"
       ]
      },
      {
       "javascript": [
        "$('div#152b7bbc-6291-4c4b-9823-4b8e7ae95fec').width('23%')"
       ],
       "metadata": {},
       "output_type": "display_data",
       "text": [
        "<IPython.core.display.Javascript at 0x157239b90>"
       ]
      },
      {
       "javascript": [
        "$('div#152b7bbc-6291-4c4b-9823-4b8e7ae95fec').width('23%')"
       ],
       "metadata": {},
       "output_type": "display_data",
       "text": [
        "<IPython.core.display.Javascript at 0x157239b90>"
       ]
      },
      {
       "javascript": [
        "$('div#152b7bbc-6291-4c4b-9823-4b8e7ae95fec').width('23%')"
       ],
       "metadata": {},
       "output_type": "display_data",
       "text": [
        "<IPython.core.display.Javascript at 0x157239b90>"
       ]
      },
      {
       "javascript": [
        "$('div#152b7bbc-6291-4c4b-9823-4b8e7ae95fec').width('24%')"
       ],
       "metadata": {},
       "output_type": "display_data",
       "text": [
        "<IPython.core.display.Javascript at 0x157239b90>"
       ]
      },
      {
       "javascript": [
        "$('div#152b7bbc-6291-4c4b-9823-4b8e7ae95fec').width('24%')"
       ],
       "metadata": {},
       "output_type": "display_data",
       "text": [
        "<IPython.core.display.Javascript at 0x157239b90>"
       ]
      },
      {
       "javascript": [
        "$('div#152b7bbc-6291-4c4b-9823-4b8e7ae95fec').width('25%')"
       ],
       "metadata": {},
       "output_type": "display_data",
       "text": [
        "<IPython.core.display.Javascript at 0x157239b90>"
       ]
      },
      {
       "javascript": [
        "$('div#152b7bbc-6291-4c4b-9823-4b8e7ae95fec').width('25%')"
       ],
       "metadata": {},
       "output_type": "display_data",
       "text": [
        "<IPython.core.display.Javascript at 0x157239b90>"
       ]
      },
      {
       "javascript": [
        "$('div#152b7bbc-6291-4c4b-9823-4b8e7ae95fec').width('25%')"
       ],
       "metadata": {},
       "output_type": "display_data",
       "text": [
        "<IPython.core.display.Javascript at 0x157239b90>"
       ]
      },
      {
       "javascript": [
        "$('div#152b7bbc-6291-4c4b-9823-4b8e7ae95fec').width('26%')"
       ],
       "metadata": {},
       "output_type": "display_data",
       "text": [
        "<IPython.core.display.Javascript at 0x157239b90>"
       ]
      },
      {
       "javascript": [
        "$('div#152b7bbc-6291-4c4b-9823-4b8e7ae95fec').width('26%')"
       ],
       "metadata": {},
       "output_type": "display_data",
       "text": [
        "<IPython.core.display.Javascript at 0x157239b90>"
       ]
      },
      {
       "javascript": [
        "$('div#152b7bbc-6291-4c4b-9823-4b8e7ae95fec').width('26%')"
       ],
       "metadata": {},
       "output_type": "display_data",
       "text": [
        "<IPython.core.display.Javascript at 0x157239b90>"
       ]
      },
      {
       "javascript": [
        "$('div#152b7bbc-6291-4c4b-9823-4b8e7ae95fec').width('27%')"
       ],
       "metadata": {},
       "output_type": "display_data",
       "text": [
        "<IPython.core.display.Javascript at 0x157239b90>"
       ]
      },
      {
       "javascript": [
        "$('div#152b7bbc-6291-4c4b-9823-4b8e7ae95fec').width('27%')"
       ],
       "metadata": {},
       "output_type": "display_data",
       "text": [
        "<IPython.core.display.Javascript at 0x157239b90>"
       ]
      },
      {
       "javascript": [
        "$('div#152b7bbc-6291-4c4b-9823-4b8e7ae95fec').width('28%')"
       ],
       "metadata": {},
       "output_type": "display_data",
       "text": [
        "<IPython.core.display.Javascript at 0x157239b90>"
       ]
      },
      {
       "javascript": [
        "$('div#152b7bbc-6291-4c4b-9823-4b8e7ae95fec').width('28%')"
       ],
       "metadata": {},
       "output_type": "display_data",
       "text": [
        "<IPython.core.display.Javascript at 0x157239b90>"
       ]
      },
      {
       "javascript": [
        "$('div#152b7bbc-6291-4c4b-9823-4b8e7ae95fec').width('28%')"
       ],
       "metadata": {},
       "output_type": "display_data",
       "text": [
        "<IPython.core.display.Javascript at 0x157239b90>"
       ]
      },
      {
       "javascript": [
        "$('div#152b7bbc-6291-4c4b-9823-4b8e7ae95fec').width('29%')"
       ],
       "metadata": {},
       "output_type": "display_data",
       "text": [
        "<IPython.core.display.Javascript at 0x157239b90>"
       ]
      },
      {
       "javascript": [
        "$('div#152b7bbc-6291-4c4b-9823-4b8e7ae95fec').width('29%')"
       ],
       "metadata": {},
       "output_type": "display_data",
       "text": [
        "<IPython.core.display.Javascript at 0x157239b90>"
       ]
      },
      {
       "javascript": [
        "$('div#152b7bbc-6291-4c4b-9823-4b8e7ae95fec').width('30%')"
       ],
       "metadata": {},
       "output_type": "display_data",
       "text": [
        "<IPython.core.display.Javascript at 0x157239b90>"
       ]
      },
      {
       "javascript": [
        "$('div#152b7bbc-6291-4c4b-9823-4b8e7ae95fec').width('30%')"
       ],
       "metadata": {},
       "output_type": "display_data",
       "text": [
        "<IPython.core.display.Javascript at 0x157239b90>"
       ]
      },
      {
       "javascript": [
        "$('div#152b7bbc-6291-4c4b-9823-4b8e7ae95fec').width('30%')"
       ],
       "metadata": {},
       "output_type": "display_data",
       "text": [
        "<IPython.core.display.Javascript at 0x157239b90>"
       ]
      },
      {
       "javascript": [
        "$('div#152b7bbc-6291-4c4b-9823-4b8e7ae95fec').width('31%')"
       ],
       "metadata": {},
       "output_type": "display_data",
       "text": [
        "<IPython.core.display.Javascript at 0x157239b90>"
       ]
      },
      {
       "javascript": [
        "$('div#152b7bbc-6291-4c4b-9823-4b8e7ae95fec').width('31%')"
       ],
       "metadata": {},
       "output_type": "display_data",
       "text": [
        "<IPython.core.display.Javascript at 0x157239b90>"
       ]
      },
      {
       "javascript": [
        "$('div#152b7bbc-6291-4c4b-9823-4b8e7ae95fec').width('32%')"
       ],
       "metadata": {},
       "output_type": "display_data",
       "text": [
        "<IPython.core.display.Javascript at 0x157239b90>"
       ]
      },
      {
       "javascript": [
        "$('div#152b7bbc-6291-4c4b-9823-4b8e7ae95fec').width('32%')"
       ],
       "metadata": {},
       "output_type": "display_data",
       "text": [
        "<IPython.core.display.Javascript at 0x157239b90>"
       ]
      },
      {
       "javascript": [
        "$('div#152b7bbc-6291-4c4b-9823-4b8e7ae95fec').width('32%')"
       ],
       "metadata": {},
       "output_type": "display_data",
       "text": [
        "<IPython.core.display.Javascript at 0x157239b90>"
       ]
      },
      {
       "javascript": [
        "$('div#152b7bbc-6291-4c4b-9823-4b8e7ae95fec').width('33%')"
       ],
       "metadata": {},
       "output_type": "display_data",
       "text": [
        "<IPython.core.display.Javascript at 0x157239b90>"
       ]
      },
      {
       "javascript": [
        "$('div#152b7bbc-6291-4c4b-9823-4b8e7ae95fec').width('33%')"
       ],
       "metadata": {},
       "output_type": "display_data",
       "text": [
        "<IPython.core.display.Javascript at 0x157239b90>"
       ]
      },
      {
       "javascript": [
        "$('div#152b7bbc-6291-4c4b-9823-4b8e7ae95fec').width('34%')"
       ],
       "metadata": {},
       "output_type": "display_data",
       "text": [
        "<IPython.core.display.Javascript at 0x157239b90>"
       ]
      },
      {
       "javascript": [
        "$('div#152b7bbc-6291-4c4b-9823-4b8e7ae95fec').width('34%')"
       ],
       "metadata": {},
       "output_type": "display_data",
       "text": [
        "<IPython.core.display.Javascript at 0x157239b90>"
       ]
      },
      {
       "javascript": [
        "$('div#152b7bbc-6291-4c4b-9823-4b8e7ae95fec').width('34%')"
       ],
       "metadata": {},
       "output_type": "display_data",
       "text": [
        "<IPython.core.display.Javascript at 0x157239b90>"
       ]
      },
      {
       "javascript": [
        "$('div#152b7bbc-6291-4c4b-9823-4b8e7ae95fec').width('35%')"
       ],
       "metadata": {},
       "output_type": "display_data",
       "text": [
        "<IPython.core.display.Javascript at 0x157239b90>"
       ]
      },
      {
       "javascript": [
        "$('div#152b7bbc-6291-4c4b-9823-4b8e7ae95fec').width('35%')"
       ],
       "metadata": {},
       "output_type": "display_data",
       "text": [
        "<IPython.core.display.Javascript at 0x157239b90>"
       ]
      },
      {
       "javascript": [
        "$('div#152b7bbc-6291-4c4b-9823-4b8e7ae95fec').width('36%')"
       ],
       "metadata": {},
       "output_type": "display_data",
       "text": [
        "<IPython.core.display.Javascript at 0x157239b90>"
       ]
      },
      {
       "javascript": [
        "$('div#152b7bbc-6291-4c4b-9823-4b8e7ae95fec').width('36%')"
       ],
       "metadata": {},
       "output_type": "display_data",
       "text": [
        "<IPython.core.display.Javascript at 0x157239b90>"
       ]
      },
      {
       "javascript": [
        "$('div#152b7bbc-6291-4c4b-9823-4b8e7ae95fec').width('36%')"
       ],
       "metadata": {},
       "output_type": "display_data",
       "text": [
        "<IPython.core.display.Javascript at 0x157239b90>"
       ]
      },
      {
       "javascript": [
        "$('div#152b7bbc-6291-4c4b-9823-4b8e7ae95fec').width('37%')"
       ],
       "metadata": {},
       "output_type": "display_data",
       "text": [
        "<IPython.core.display.Javascript at 0x157239b90>"
       ]
      },
      {
       "javascript": [
        "$('div#152b7bbc-6291-4c4b-9823-4b8e7ae95fec').width('37%')"
       ],
       "metadata": {},
       "output_type": "display_data",
       "text": [
        "<IPython.core.display.Javascript at 0x157239b90>"
       ]
      },
      {
       "javascript": [
        "$('div#152b7bbc-6291-4c4b-9823-4b8e7ae95fec').width('38%')"
       ],
       "metadata": {},
       "output_type": "display_data",
       "text": [
        "<IPython.core.display.Javascript at 0x157239b90>"
       ]
      },
      {
       "javascript": [
        "$('div#152b7bbc-6291-4c4b-9823-4b8e7ae95fec').width('38%')"
       ],
       "metadata": {},
       "output_type": "display_data",
       "text": [
        "<IPython.core.display.Javascript at 0x157239b90>"
       ]
      },
      {
       "javascript": [
        "$('div#152b7bbc-6291-4c4b-9823-4b8e7ae95fec').width('38%')"
       ],
       "metadata": {},
       "output_type": "display_data",
       "text": [
        "<IPython.core.display.Javascript at 0x157239b90>"
       ]
      },
      {
       "javascript": [
        "$('div#152b7bbc-6291-4c4b-9823-4b8e7ae95fec').width('39%')"
       ],
       "metadata": {},
       "output_type": "display_data",
       "text": [
        "<IPython.core.display.Javascript at 0x157239b90>"
       ]
      },
      {
       "javascript": [
        "$('div#152b7bbc-6291-4c4b-9823-4b8e7ae95fec').width('39%')"
       ],
       "metadata": {},
       "output_type": "display_data",
       "text": [
        "<IPython.core.display.Javascript at 0x157239b90>"
       ]
      },
      {
       "javascript": [
        "$('div#152b7bbc-6291-4c4b-9823-4b8e7ae95fec').width('40%')"
       ],
       "metadata": {},
       "output_type": "display_data",
       "text": [
        "<IPython.core.display.Javascript at 0x157239b90>"
       ]
      },
      {
       "javascript": [
        "$('div#152b7bbc-6291-4c4b-9823-4b8e7ae95fec').width('40%')"
       ],
       "metadata": {},
       "output_type": "display_data",
       "text": [
        "<IPython.core.display.Javascript at 0x157239b90>"
       ]
      },
      {
       "javascript": [
        "$('div#152b7bbc-6291-4c4b-9823-4b8e7ae95fec').width('40%')"
       ],
       "metadata": {},
       "output_type": "display_data",
       "text": [
        "<IPython.core.display.Javascript at 0x157239b90>"
       ]
      },
      {
       "javascript": [
        "$('div#152b7bbc-6291-4c4b-9823-4b8e7ae95fec').width('41%')"
       ],
       "metadata": {},
       "output_type": "display_data",
       "text": [
        "<IPython.core.display.Javascript at 0x157239b90>"
       ]
      },
      {
       "javascript": [
        "$('div#152b7bbc-6291-4c4b-9823-4b8e7ae95fec').width('41%')"
       ],
       "metadata": {},
       "output_type": "display_data",
       "text": [
        "<IPython.core.display.Javascript at 0x157239b90>"
       ]
      },
      {
       "javascript": [
        "$('div#152b7bbc-6291-4c4b-9823-4b8e7ae95fec').width('42%')"
       ],
       "metadata": {},
       "output_type": "display_data",
       "text": [
        "<IPython.core.display.Javascript at 0x157239b90>"
       ]
      },
      {
       "javascript": [
        "$('div#152b7bbc-6291-4c4b-9823-4b8e7ae95fec').width('42%')"
       ],
       "metadata": {},
       "output_type": "display_data",
       "text": [
        "<IPython.core.display.Javascript at 0x157239b90>"
       ]
      },
      {
       "javascript": [
        "$('div#152b7bbc-6291-4c4b-9823-4b8e7ae95fec').width('42%')"
       ],
       "metadata": {},
       "output_type": "display_data",
       "text": [
        "<IPython.core.display.Javascript at 0x157239b90>"
       ]
      },
      {
       "javascript": [
        "$('div#152b7bbc-6291-4c4b-9823-4b8e7ae95fec').width('43%')"
       ],
       "metadata": {},
       "output_type": "display_data",
       "text": [
        "<IPython.core.display.Javascript at 0x157239b90>"
       ]
      },
      {
       "javascript": [
        "$('div#152b7bbc-6291-4c4b-9823-4b8e7ae95fec').width('43%')"
       ],
       "metadata": {},
       "output_type": "display_data",
       "text": [
        "<IPython.core.display.Javascript at 0x157239b90>"
       ]
      },
      {
       "javascript": [
        "$('div#152b7bbc-6291-4c4b-9823-4b8e7ae95fec').width('44%')"
       ],
       "metadata": {},
       "output_type": "display_data",
       "text": [
        "<IPython.core.display.Javascript at 0x157239b90>"
       ]
      },
      {
       "javascript": [
        "$('div#152b7bbc-6291-4c4b-9823-4b8e7ae95fec').width('44%')"
       ],
       "metadata": {},
       "output_type": "display_data",
       "text": [
        "<IPython.core.display.Javascript at 0x157239b90>"
       ]
      },
      {
       "javascript": [
        "$('div#152b7bbc-6291-4c4b-9823-4b8e7ae95fec').width('44%')"
       ],
       "metadata": {},
       "output_type": "display_data",
       "text": [
        "<IPython.core.display.Javascript at 0x157239b90>"
       ]
      },
      {
       "javascript": [
        "$('div#152b7bbc-6291-4c4b-9823-4b8e7ae95fec').width('45%')"
       ],
       "metadata": {},
       "output_type": "display_data",
       "text": [
        "<IPython.core.display.Javascript at 0x157239b90>"
       ]
      },
      {
       "javascript": [
        "$('div#152b7bbc-6291-4c4b-9823-4b8e7ae95fec').width('45%')"
       ],
       "metadata": {},
       "output_type": "display_data",
       "text": [
        "<IPython.core.display.Javascript at 0x157239b90>"
       ]
      },
      {
       "javascript": [
        "$('div#152b7bbc-6291-4c4b-9823-4b8e7ae95fec').width('46%')"
       ],
       "metadata": {},
       "output_type": "display_data",
       "text": [
        "<IPython.core.display.Javascript at 0x157239b90>"
       ]
      },
      {
       "javascript": [
        "$('div#152b7bbc-6291-4c4b-9823-4b8e7ae95fec').width('46%')"
       ],
       "metadata": {},
       "output_type": "display_data",
       "text": [
        "<IPython.core.display.Javascript at 0x157239b90>"
       ]
      },
      {
       "javascript": [
        "$('div#152b7bbc-6291-4c4b-9823-4b8e7ae95fec').width('46%')"
       ],
       "metadata": {},
       "output_type": "display_data",
       "text": [
        "<IPython.core.display.Javascript at 0x157239b90>"
       ]
      },
      {
       "javascript": [
        "$('div#152b7bbc-6291-4c4b-9823-4b8e7ae95fec').width('47%')"
       ],
       "metadata": {},
       "output_type": "display_data",
       "text": [
        "<IPython.core.display.Javascript at 0x157239b90>"
       ]
      },
      {
       "javascript": [
        "$('div#152b7bbc-6291-4c4b-9823-4b8e7ae95fec').width('47%')"
       ],
       "metadata": {},
       "output_type": "display_data",
       "text": [
        "<IPython.core.display.Javascript at 0x157239b90>"
       ]
      },
      {
       "javascript": [
        "$('div#152b7bbc-6291-4c4b-9823-4b8e7ae95fec').width('48%')"
       ],
       "metadata": {},
       "output_type": "display_data",
       "text": [
        "<IPython.core.display.Javascript at 0x157239b90>"
       ]
      },
      {
       "javascript": [
        "$('div#152b7bbc-6291-4c4b-9823-4b8e7ae95fec').width('48%')"
       ],
       "metadata": {},
       "output_type": "display_data",
       "text": [
        "<IPython.core.display.Javascript at 0x157239b90>"
       ]
      },
      {
       "javascript": [
        "$('div#152b7bbc-6291-4c4b-9823-4b8e7ae95fec').width('48%')"
       ],
       "metadata": {},
       "output_type": "display_data",
       "text": [
        "<IPython.core.display.Javascript at 0x157239b90>"
       ]
      },
      {
       "javascript": [
        "$('div#152b7bbc-6291-4c4b-9823-4b8e7ae95fec').width('49%')"
       ],
       "metadata": {},
       "output_type": "display_data",
       "text": [
        "<IPython.core.display.Javascript at 0x157239b90>"
       ]
      },
      {
       "javascript": [
        "$('div#152b7bbc-6291-4c4b-9823-4b8e7ae95fec').width('49%')"
       ],
       "metadata": {},
       "output_type": "display_data",
       "text": [
        "<IPython.core.display.Javascript at 0x157239b90>"
       ]
      },
      {
       "javascript": [
        "$('div#152b7bbc-6291-4c4b-9823-4b8e7ae95fec').width('50%')"
       ],
       "metadata": {},
       "output_type": "display_data",
       "text": [
        "<IPython.core.display.Javascript at 0x157239b90>"
       ]
      },
      {
       "javascript": [
        "$('div#152b7bbc-6291-4c4b-9823-4b8e7ae95fec').width('50%')"
       ],
       "metadata": {},
       "output_type": "display_data",
       "text": [
        "<IPython.core.display.Javascript at 0x157239b90>"
       ]
      },
      {
       "javascript": [
        "$('div#152b7bbc-6291-4c4b-9823-4b8e7ae95fec').width('50%')"
       ],
       "metadata": {},
       "output_type": "display_data",
       "text": [
        "<IPython.core.display.Javascript at 0x157239b90>"
       ]
      },
      {
       "javascript": [
        "$('div#152b7bbc-6291-4c4b-9823-4b8e7ae95fec').width('51%')"
       ],
       "metadata": {},
       "output_type": "display_data",
       "text": [
        "<IPython.core.display.Javascript at 0x157239b90>"
       ]
      },
      {
       "javascript": [
        "$('div#152b7bbc-6291-4c4b-9823-4b8e7ae95fec').width('51%')"
       ],
       "metadata": {},
       "output_type": "display_data",
       "text": [
        "<IPython.core.display.Javascript at 0x157239b90>"
       ]
      },
      {
       "javascript": [
        "$('div#152b7bbc-6291-4c4b-9823-4b8e7ae95fec').width('51%')"
       ],
       "metadata": {},
       "output_type": "display_data",
       "text": [
        "<IPython.core.display.Javascript at 0x157239b90>"
       ]
      },
      {
       "javascript": [
        "$('div#152b7bbc-6291-4c4b-9823-4b8e7ae95fec').width('52%')"
       ],
       "metadata": {},
       "output_type": "display_data",
       "text": [
        "<IPython.core.display.Javascript at 0x157239b90>"
       ]
      },
      {
       "javascript": [
        "$('div#152b7bbc-6291-4c4b-9823-4b8e7ae95fec').width('52%')"
       ],
       "metadata": {},
       "output_type": "display_data",
       "text": [
        "<IPython.core.display.Javascript at 0x157239b90>"
       ]
      },
      {
       "javascript": [
        "$('div#152b7bbc-6291-4c4b-9823-4b8e7ae95fec').width('53%')"
       ],
       "metadata": {},
       "output_type": "display_data",
       "text": [
        "<IPython.core.display.Javascript at 0x157239b90>"
       ]
      },
      {
       "javascript": [
        "$('div#152b7bbc-6291-4c4b-9823-4b8e7ae95fec').width('53%')"
       ],
       "metadata": {},
       "output_type": "display_data",
       "text": [
        "<IPython.core.display.Javascript at 0x157239b90>"
       ]
      },
      {
       "javascript": [
        "$('div#152b7bbc-6291-4c4b-9823-4b8e7ae95fec').width('53%')"
       ],
       "metadata": {},
       "output_type": "display_data",
       "text": [
        "<IPython.core.display.Javascript at 0x157239b90>"
       ]
      },
      {
       "javascript": [
        "$('div#152b7bbc-6291-4c4b-9823-4b8e7ae95fec').width('54%')"
       ],
       "metadata": {},
       "output_type": "display_data",
       "text": [
        "<IPython.core.display.Javascript at 0x157239b90>"
       ]
      },
      {
       "javascript": [
        "$('div#152b7bbc-6291-4c4b-9823-4b8e7ae95fec').width('54%')"
       ],
       "metadata": {},
       "output_type": "display_data",
       "text": [
        "<IPython.core.display.Javascript at 0x157239b90>"
       ]
      },
      {
       "javascript": [
        "$('div#152b7bbc-6291-4c4b-9823-4b8e7ae95fec').width('55%')"
       ],
       "metadata": {},
       "output_type": "display_data",
       "text": [
        "<IPython.core.display.Javascript at 0x157239b90>"
       ]
      },
      {
       "javascript": [
        "$('div#152b7bbc-6291-4c4b-9823-4b8e7ae95fec').width('55%')"
       ],
       "metadata": {},
       "output_type": "display_data",
       "text": [
        "<IPython.core.display.Javascript at 0x157239b90>"
       ]
      },
      {
       "javascript": [
        "$('div#152b7bbc-6291-4c4b-9823-4b8e7ae95fec').width('55%')"
       ],
       "metadata": {},
       "output_type": "display_data",
       "text": [
        "<IPython.core.display.Javascript at 0x157239b90>"
       ]
      },
      {
       "javascript": [
        "$('div#152b7bbc-6291-4c4b-9823-4b8e7ae95fec').width('56%')"
       ],
       "metadata": {},
       "output_type": "display_data",
       "text": [
        "<IPython.core.display.Javascript at 0x157239b90>"
       ]
      },
      {
       "javascript": [
        "$('div#152b7bbc-6291-4c4b-9823-4b8e7ae95fec').width('56%')"
       ],
       "metadata": {},
       "output_type": "display_data",
       "text": [
        "<IPython.core.display.Javascript at 0x157239b90>"
       ]
      },
      {
       "javascript": [
        "$('div#152b7bbc-6291-4c4b-9823-4b8e7ae95fec').width('57%')"
       ],
       "metadata": {},
       "output_type": "display_data",
       "text": [
        "<IPython.core.display.Javascript at 0x157239b90>"
       ]
      },
      {
       "javascript": [
        "$('div#152b7bbc-6291-4c4b-9823-4b8e7ae95fec').width('57%')"
       ],
       "metadata": {},
       "output_type": "display_data",
       "text": [
        "<IPython.core.display.Javascript at 0x157239b90>"
       ]
      },
      {
       "javascript": [
        "$('div#152b7bbc-6291-4c4b-9823-4b8e7ae95fec').width('57%')"
       ],
       "metadata": {},
       "output_type": "display_data",
       "text": [
        "<IPython.core.display.Javascript at 0x157239b90>"
       ]
      },
      {
       "javascript": [
        "$('div#152b7bbc-6291-4c4b-9823-4b8e7ae95fec').width('58%')"
       ],
       "metadata": {},
       "output_type": "display_data",
       "text": [
        "<IPython.core.display.Javascript at 0x157239b90>"
       ]
      },
      {
       "javascript": [
        "$('div#152b7bbc-6291-4c4b-9823-4b8e7ae95fec').width('58%')"
       ],
       "metadata": {},
       "output_type": "display_data",
       "text": [
        "<IPython.core.display.Javascript at 0x157239b90>"
       ]
      },
      {
       "javascript": [
        "$('div#152b7bbc-6291-4c4b-9823-4b8e7ae95fec').width('59%')"
       ],
       "metadata": {},
       "output_type": "display_data",
       "text": [
        "<IPython.core.display.Javascript at 0x157239b90>"
       ]
      },
      {
       "javascript": [
        "$('div#152b7bbc-6291-4c4b-9823-4b8e7ae95fec').width('59%')"
       ],
       "metadata": {},
       "output_type": "display_data",
       "text": [
        "<IPython.core.display.Javascript at 0x157239b90>"
       ]
      },
      {
       "javascript": [
        "$('div#152b7bbc-6291-4c4b-9823-4b8e7ae95fec').width('59%')"
       ],
       "metadata": {},
       "output_type": "display_data",
       "text": [
        "<IPython.core.display.Javascript at 0x157239b90>"
       ]
      },
      {
       "javascript": [
        "$('div#152b7bbc-6291-4c4b-9823-4b8e7ae95fec').width('60%')"
       ],
       "metadata": {},
       "output_type": "display_data",
       "text": [
        "<IPython.core.display.Javascript at 0x157239b90>"
       ]
      },
      {
       "javascript": [
        "$('div#152b7bbc-6291-4c4b-9823-4b8e7ae95fec').width('60%')"
       ],
       "metadata": {},
       "output_type": "display_data",
       "text": [
        "<IPython.core.display.Javascript at 0x157239b90>"
       ]
      },
      {
       "javascript": [
        "$('div#152b7bbc-6291-4c4b-9823-4b8e7ae95fec').width('61%')"
       ],
       "metadata": {},
       "output_type": "display_data",
       "text": [
        "<IPython.core.display.Javascript at 0x157239b90>"
       ]
      },
      {
       "javascript": [
        "$('div#152b7bbc-6291-4c4b-9823-4b8e7ae95fec').width('61%')"
       ],
       "metadata": {},
       "output_type": "display_data",
       "text": [
        "<IPython.core.display.Javascript at 0x157239b90>"
       ]
      },
      {
       "javascript": [
        "$('div#152b7bbc-6291-4c4b-9823-4b8e7ae95fec').width('61%')"
       ],
       "metadata": {},
       "output_type": "display_data",
       "text": [
        "<IPython.core.display.Javascript at 0x157239b90>"
       ]
      },
      {
       "javascript": [
        "$('div#152b7bbc-6291-4c4b-9823-4b8e7ae95fec').width('62%')"
       ],
       "metadata": {},
       "output_type": "display_data",
       "text": [
        "<IPython.core.display.Javascript at 0x157239b90>"
       ]
      },
      {
       "javascript": [
        "$('div#152b7bbc-6291-4c4b-9823-4b8e7ae95fec').width('62%')"
       ],
       "metadata": {},
       "output_type": "display_data",
       "text": [
        "<IPython.core.display.Javascript at 0x157239b90>"
       ]
      },
      {
       "javascript": [
        "$('div#152b7bbc-6291-4c4b-9823-4b8e7ae95fec').width('63%')"
       ],
       "metadata": {},
       "output_type": "display_data",
       "text": [
        "<IPython.core.display.Javascript at 0x157239b90>"
       ]
      },
      {
       "javascript": [
        "$('div#152b7bbc-6291-4c4b-9823-4b8e7ae95fec').width('63%')"
       ],
       "metadata": {},
       "output_type": "display_data",
       "text": [
        "<IPython.core.display.Javascript at 0x157239b90>"
       ]
      },
      {
       "javascript": [
        "$('div#152b7bbc-6291-4c4b-9823-4b8e7ae95fec').width('63%')"
       ],
       "metadata": {},
       "output_type": "display_data",
       "text": [
        "<IPython.core.display.Javascript at 0x157239b90>"
       ]
      },
      {
       "javascript": [
        "$('div#152b7bbc-6291-4c4b-9823-4b8e7ae95fec').width('64%')"
       ],
       "metadata": {},
       "output_type": "display_data",
       "text": [
        "<IPython.core.display.Javascript at 0x157239b90>"
       ]
      },
      {
       "javascript": [
        "$('div#152b7bbc-6291-4c4b-9823-4b8e7ae95fec').width('64%')"
       ],
       "metadata": {},
       "output_type": "display_data",
       "text": [
        "<IPython.core.display.Javascript at 0x157239b90>"
       ]
      },
      {
       "javascript": [
        "$('div#152b7bbc-6291-4c4b-9823-4b8e7ae95fec').width('65%')"
       ],
       "metadata": {},
       "output_type": "display_data",
       "text": [
        "<IPython.core.display.Javascript at 0x157239b90>"
       ]
      },
      {
       "javascript": [
        "$('div#152b7bbc-6291-4c4b-9823-4b8e7ae95fec').width('65%')"
       ],
       "metadata": {},
       "output_type": "display_data",
       "text": [
        "<IPython.core.display.Javascript at 0x157239b90>"
       ]
      },
      {
       "javascript": [
        "$('div#152b7bbc-6291-4c4b-9823-4b8e7ae95fec').width('65%')"
       ],
       "metadata": {},
       "output_type": "display_data",
       "text": [
        "<IPython.core.display.Javascript at 0x157239b90>"
       ]
      },
      {
       "javascript": [
        "$('div#152b7bbc-6291-4c4b-9823-4b8e7ae95fec').width('66%')"
       ],
       "metadata": {},
       "output_type": "display_data",
       "text": [
        "<IPython.core.display.Javascript at 0x157239b90>"
       ]
      },
      {
       "javascript": [
        "$('div#152b7bbc-6291-4c4b-9823-4b8e7ae95fec').width('66%')"
       ],
       "metadata": {},
       "output_type": "display_data",
       "text": [
        "<IPython.core.display.Javascript at 0x157239b90>"
       ]
      },
      {
       "javascript": [
        "$('div#152b7bbc-6291-4c4b-9823-4b8e7ae95fec').width('67%')"
       ],
       "metadata": {},
       "output_type": "display_data",
       "text": [
        "<IPython.core.display.Javascript at 0x157239b90>"
       ]
      },
      {
       "javascript": [
        "$('div#152b7bbc-6291-4c4b-9823-4b8e7ae95fec').width('67%')"
       ],
       "metadata": {},
       "output_type": "display_data",
       "text": [
        "<IPython.core.display.Javascript at 0x157239b90>"
       ]
      },
      {
       "javascript": [
        "$('div#152b7bbc-6291-4c4b-9823-4b8e7ae95fec').width('67%')"
       ],
       "metadata": {},
       "output_type": "display_data",
       "text": [
        "<IPython.core.display.Javascript at 0x157239b90>"
       ]
      },
      {
       "javascript": [
        "$('div#152b7bbc-6291-4c4b-9823-4b8e7ae95fec').width('68%')"
       ],
       "metadata": {},
       "output_type": "display_data",
       "text": [
        "<IPython.core.display.Javascript at 0x157239b90>"
       ]
      },
      {
       "javascript": [
        "$('div#152b7bbc-6291-4c4b-9823-4b8e7ae95fec').width('68%')"
       ],
       "metadata": {},
       "output_type": "display_data",
       "text": [
        "<IPython.core.display.Javascript at 0x157239b90>"
       ]
      },
      {
       "javascript": [
        "$('div#152b7bbc-6291-4c4b-9823-4b8e7ae95fec').width('69%')"
       ],
       "metadata": {},
       "output_type": "display_data",
       "text": [
        "<IPython.core.display.Javascript at 0x157239b90>"
       ]
      },
      {
       "javascript": [
        "$('div#152b7bbc-6291-4c4b-9823-4b8e7ae95fec').width('69%')"
       ],
       "metadata": {},
       "output_type": "display_data",
       "text": [
        "<IPython.core.display.Javascript at 0x157239b90>"
       ]
      },
      {
       "javascript": [
        "$('div#152b7bbc-6291-4c4b-9823-4b8e7ae95fec').width('69%')"
       ],
       "metadata": {},
       "output_type": "display_data",
       "text": [
        "<IPython.core.display.Javascript at 0x157239b90>"
       ]
      },
      {
       "javascript": [
        "$('div#152b7bbc-6291-4c4b-9823-4b8e7ae95fec').width('70%')"
       ],
       "metadata": {},
       "output_type": "display_data",
       "text": [
        "<IPython.core.display.Javascript at 0x157239b90>"
       ]
      },
      {
       "javascript": [
        "$('div#152b7bbc-6291-4c4b-9823-4b8e7ae95fec').width('70%')"
       ],
       "metadata": {},
       "output_type": "display_data",
       "text": [
        "<IPython.core.display.Javascript at 0x157239b90>"
       ]
      },
      {
       "javascript": [
        "$('div#152b7bbc-6291-4c4b-9823-4b8e7ae95fec').width('71%')"
       ],
       "metadata": {},
       "output_type": "display_data",
       "text": [
        "<IPython.core.display.Javascript at 0x157239b90>"
       ]
      },
      {
       "javascript": [
        "$('div#152b7bbc-6291-4c4b-9823-4b8e7ae95fec').width('71%')"
       ],
       "metadata": {},
       "output_type": "display_data",
       "text": [
        "<IPython.core.display.Javascript at 0x157239b90>"
       ]
      },
      {
       "javascript": [
        "$('div#152b7bbc-6291-4c4b-9823-4b8e7ae95fec').width('71%')"
       ],
       "metadata": {},
       "output_type": "display_data",
       "text": [
        "<IPython.core.display.Javascript at 0x157239b90>"
       ]
      },
      {
       "javascript": [
        "$('div#152b7bbc-6291-4c4b-9823-4b8e7ae95fec').width('72%')"
       ],
       "metadata": {},
       "output_type": "display_data",
       "text": [
        "<IPython.core.display.Javascript at 0x157239b90>"
       ]
      },
      {
       "javascript": [
        "$('div#152b7bbc-6291-4c4b-9823-4b8e7ae95fec').width('72%')"
       ],
       "metadata": {},
       "output_type": "display_data",
       "text": [
        "<IPython.core.display.Javascript at 0x157239b90>"
       ]
      },
      {
       "javascript": [
        "$('div#152b7bbc-6291-4c4b-9823-4b8e7ae95fec').width('73%')"
       ],
       "metadata": {},
       "output_type": "display_data",
       "text": [
        "<IPython.core.display.Javascript at 0x157239b90>"
       ]
      },
      {
       "javascript": [
        "$('div#152b7bbc-6291-4c4b-9823-4b8e7ae95fec').width('73%')"
       ],
       "metadata": {},
       "output_type": "display_data",
       "text": [
        "<IPython.core.display.Javascript at 0x157239b90>"
       ]
      },
      {
       "javascript": [
        "$('div#152b7bbc-6291-4c4b-9823-4b8e7ae95fec').width('73%')"
       ],
       "metadata": {},
       "output_type": "display_data",
       "text": [
        "<IPython.core.display.Javascript at 0x157239b90>"
       ]
      },
      {
       "javascript": [
        "$('div#152b7bbc-6291-4c4b-9823-4b8e7ae95fec').width('74%')"
       ],
       "metadata": {},
       "output_type": "display_data",
       "text": [
        "<IPython.core.display.Javascript at 0x157239b90>"
       ]
      },
      {
       "javascript": [
        "$('div#152b7bbc-6291-4c4b-9823-4b8e7ae95fec').width('74%')"
       ],
       "metadata": {},
       "output_type": "display_data",
       "text": [
        "<IPython.core.display.Javascript at 0x157239b90>"
       ]
      },
      {
       "javascript": [
        "$('div#152b7bbc-6291-4c4b-9823-4b8e7ae95fec').width('75%')"
       ],
       "metadata": {},
       "output_type": "display_data",
       "text": [
        "<IPython.core.display.Javascript at 0x157239b90>"
       ]
      },
      {
       "javascript": [
        "$('div#152b7bbc-6291-4c4b-9823-4b8e7ae95fec').width('75%')"
       ],
       "metadata": {},
       "output_type": "display_data",
       "text": [
        "<IPython.core.display.Javascript at 0x157239b90>"
       ]
      },
      {
       "javascript": [
        "$('div#152b7bbc-6291-4c4b-9823-4b8e7ae95fec').width('75%')"
       ],
       "metadata": {},
       "output_type": "display_data",
       "text": [
        "<IPython.core.display.Javascript at 0x157239b90>"
       ]
      },
      {
       "javascript": [
        "$('div#152b7bbc-6291-4c4b-9823-4b8e7ae95fec').width('76%')"
       ],
       "metadata": {},
       "output_type": "display_data",
       "text": [
        "<IPython.core.display.Javascript at 0x157239b90>"
       ]
      },
      {
       "javascript": [
        "$('div#152b7bbc-6291-4c4b-9823-4b8e7ae95fec').width('76%')"
       ],
       "metadata": {},
       "output_type": "display_data",
       "text": [
        "<IPython.core.display.Javascript at 0x157239b90>"
       ]
      },
      {
       "javascript": [
        "$('div#152b7bbc-6291-4c4b-9823-4b8e7ae95fec').width('76%')"
       ],
       "metadata": {},
       "output_type": "display_data",
       "text": [
        "<IPython.core.display.Javascript at 0x157239b90>"
       ]
      },
      {
       "javascript": [
        "$('div#152b7bbc-6291-4c4b-9823-4b8e7ae95fec').width('77%')"
       ],
       "metadata": {},
       "output_type": "display_data",
       "text": [
        "<IPython.core.display.Javascript at 0x157239b90>"
       ]
      },
      {
       "javascript": [
        "$('div#152b7bbc-6291-4c4b-9823-4b8e7ae95fec').width('77%')"
       ],
       "metadata": {},
       "output_type": "display_data",
       "text": [
        "<IPython.core.display.Javascript at 0x157239b90>"
       ]
      },
      {
       "javascript": [
        "$('div#152b7bbc-6291-4c4b-9823-4b8e7ae95fec').width('78%')"
       ],
       "metadata": {},
       "output_type": "display_data",
       "text": [
        "<IPython.core.display.Javascript at 0x157239b90>"
       ]
      },
      {
       "javascript": [
        "$('div#152b7bbc-6291-4c4b-9823-4b8e7ae95fec').width('78%')"
       ],
       "metadata": {},
       "output_type": "display_data",
       "text": [
        "<IPython.core.display.Javascript at 0x157239b90>"
       ]
      },
      {
       "javascript": [
        "$('div#152b7bbc-6291-4c4b-9823-4b8e7ae95fec').width('78%')"
       ],
       "metadata": {},
       "output_type": "display_data",
       "text": [
        "<IPython.core.display.Javascript at 0x157239b90>"
       ]
      },
      {
       "javascript": [
        "$('div#152b7bbc-6291-4c4b-9823-4b8e7ae95fec').width('79%')"
       ],
       "metadata": {},
       "output_type": "display_data",
       "text": [
        "<IPython.core.display.Javascript at 0x157239b90>"
       ]
      },
      {
       "javascript": [
        "$('div#152b7bbc-6291-4c4b-9823-4b8e7ae95fec').width('79%')"
       ],
       "metadata": {},
       "output_type": "display_data",
       "text": [
        "<IPython.core.display.Javascript at 0x157239b90>"
       ]
      },
      {
       "javascript": [
        "$('div#152b7bbc-6291-4c4b-9823-4b8e7ae95fec').width('80%')"
       ],
       "metadata": {},
       "output_type": "display_data",
       "text": [
        "<IPython.core.display.Javascript at 0x157239b90>"
       ]
      },
      {
       "javascript": [
        "$('div#152b7bbc-6291-4c4b-9823-4b8e7ae95fec').width('80%')"
       ],
       "metadata": {},
       "output_type": "display_data",
       "text": [
        "<IPython.core.display.Javascript at 0x157239b90>"
       ]
      },
      {
       "javascript": [
        "$('div#152b7bbc-6291-4c4b-9823-4b8e7ae95fec').width('80%')"
       ],
       "metadata": {},
       "output_type": "display_data",
       "text": [
        "<IPython.core.display.Javascript at 0x157239b90>"
       ]
      },
      {
       "javascript": [
        "$('div#152b7bbc-6291-4c4b-9823-4b8e7ae95fec').width('81%')"
       ],
       "metadata": {},
       "output_type": "display_data",
       "text": [
        "<IPython.core.display.Javascript at 0x157239b90>"
       ]
      },
      {
       "javascript": [
        "$('div#152b7bbc-6291-4c4b-9823-4b8e7ae95fec').width('81%')"
       ],
       "metadata": {},
       "output_type": "display_data",
       "text": [
        "<IPython.core.display.Javascript at 0x157239b90>"
       ]
      },
      {
       "javascript": [
        "$('div#152b7bbc-6291-4c4b-9823-4b8e7ae95fec').width('82%')"
       ],
       "metadata": {},
       "output_type": "display_data",
       "text": [
        "<IPython.core.display.Javascript at 0x157239b90>"
       ]
      },
      {
       "javascript": [
        "$('div#152b7bbc-6291-4c4b-9823-4b8e7ae95fec').width('82%')"
       ],
       "metadata": {},
       "output_type": "display_data",
       "text": [
        "<IPython.core.display.Javascript at 0x157239b90>"
       ]
      },
      {
       "javascript": [
        "$('div#152b7bbc-6291-4c4b-9823-4b8e7ae95fec').width('82%')"
       ],
       "metadata": {},
       "output_type": "display_data",
       "text": [
        "<IPython.core.display.Javascript at 0x157239b90>"
       ]
      },
      {
       "javascript": [
        "$('div#152b7bbc-6291-4c4b-9823-4b8e7ae95fec').width('83%')"
       ],
       "metadata": {},
       "output_type": "display_data",
       "text": [
        "<IPython.core.display.Javascript at 0x157239b90>"
       ]
      },
      {
       "javascript": [
        "$('div#152b7bbc-6291-4c4b-9823-4b8e7ae95fec').width('83%')"
       ],
       "metadata": {},
       "output_type": "display_data",
       "text": [
        "<IPython.core.display.Javascript at 0x157239b90>"
       ]
      },
      {
       "javascript": [
        "$('div#152b7bbc-6291-4c4b-9823-4b8e7ae95fec').width('84%')"
       ],
       "metadata": {},
       "output_type": "display_data",
       "text": [
        "<IPython.core.display.Javascript at 0x157239b90>"
       ]
      },
      {
       "javascript": [
        "$('div#152b7bbc-6291-4c4b-9823-4b8e7ae95fec').width('84%')"
       ],
       "metadata": {},
       "output_type": "display_data",
       "text": [
        "<IPython.core.display.Javascript at 0x157239b90>"
       ]
      },
      {
       "javascript": [
        "$('div#152b7bbc-6291-4c4b-9823-4b8e7ae95fec').width('84%')"
       ],
       "metadata": {},
       "output_type": "display_data",
       "text": [
        "<IPython.core.display.Javascript at 0x157239b90>"
       ]
      },
      {
       "javascript": [
        "$('div#152b7bbc-6291-4c4b-9823-4b8e7ae95fec').width('85%')"
       ],
       "metadata": {},
       "output_type": "display_data",
       "text": [
        "<IPython.core.display.Javascript at 0x157239b90>"
       ]
      },
      {
       "javascript": [
        "$('div#152b7bbc-6291-4c4b-9823-4b8e7ae95fec').width('85%')"
       ],
       "metadata": {},
       "output_type": "display_data",
       "text": [
        "<IPython.core.display.Javascript at 0x157239b90>"
       ]
      },
      {
       "javascript": [
        "$('div#152b7bbc-6291-4c4b-9823-4b8e7ae95fec').width('86%')"
       ],
       "metadata": {},
       "output_type": "display_data",
       "text": [
        "<IPython.core.display.Javascript at 0x157239b90>"
       ]
      },
      {
       "javascript": [
        "$('div#152b7bbc-6291-4c4b-9823-4b8e7ae95fec').width('86%')"
       ],
       "metadata": {},
       "output_type": "display_data",
       "text": [
        "<IPython.core.display.Javascript at 0x157239b90>"
       ]
      },
      {
       "javascript": [
        "$('div#152b7bbc-6291-4c4b-9823-4b8e7ae95fec').width('86%')"
       ],
       "metadata": {},
       "output_type": "display_data",
       "text": [
        "<IPython.core.display.Javascript at 0x157239b90>"
       ]
      },
      {
       "javascript": [
        "$('div#152b7bbc-6291-4c4b-9823-4b8e7ae95fec').width('87%')"
       ],
       "metadata": {},
       "output_type": "display_data",
       "text": [
        "<IPython.core.display.Javascript at 0x157239b90>"
       ]
      },
      {
       "javascript": [
        "$('div#152b7bbc-6291-4c4b-9823-4b8e7ae95fec').width('87%')"
       ],
       "metadata": {},
       "output_type": "display_data",
       "text": [
        "<IPython.core.display.Javascript at 0x157239b90>"
       ]
      },
      {
       "javascript": [
        "$('div#152b7bbc-6291-4c4b-9823-4b8e7ae95fec').width('88%')"
       ],
       "metadata": {},
       "output_type": "display_data",
       "text": [
        "<IPython.core.display.Javascript at 0x157239b90>"
       ]
      },
      {
       "javascript": [
        "$('div#152b7bbc-6291-4c4b-9823-4b8e7ae95fec').width('88%')"
       ],
       "metadata": {},
       "output_type": "display_data",
       "text": [
        "<IPython.core.display.Javascript at 0x157239b90>"
       ]
      },
      {
       "javascript": [
        "$('div#152b7bbc-6291-4c4b-9823-4b8e7ae95fec').width('88%')"
       ],
       "metadata": {},
       "output_type": "display_data",
       "text": [
        "<IPython.core.display.Javascript at 0x157239b90>"
       ]
      },
      {
       "javascript": [
        "$('div#152b7bbc-6291-4c4b-9823-4b8e7ae95fec').width('89%')"
       ],
       "metadata": {},
       "output_type": "display_data",
       "text": [
        "<IPython.core.display.Javascript at 0x157239b90>"
       ]
      },
      {
       "javascript": [
        "$('div#152b7bbc-6291-4c4b-9823-4b8e7ae95fec').width('89%')"
       ],
       "metadata": {},
       "output_type": "display_data",
       "text": [
        "<IPython.core.display.Javascript at 0x157239b90>"
       ]
      },
      {
       "javascript": [
        "$('div#152b7bbc-6291-4c4b-9823-4b8e7ae95fec').width('90%')"
       ],
       "metadata": {},
       "output_type": "display_data",
       "text": [
        "<IPython.core.display.Javascript at 0x157239b90>"
       ]
      },
      {
       "javascript": [
        "$('div#152b7bbc-6291-4c4b-9823-4b8e7ae95fec').width('90%')"
       ],
       "metadata": {},
       "output_type": "display_data",
       "text": [
        "<IPython.core.display.Javascript at 0x157239b90>"
       ]
      },
      {
       "javascript": [
        "$('div#152b7bbc-6291-4c4b-9823-4b8e7ae95fec').width('90%')"
       ],
       "metadata": {},
       "output_type": "display_data",
       "text": [
        "<IPython.core.display.Javascript at 0x157239b90>"
       ]
      },
      {
       "javascript": [
        "$('div#152b7bbc-6291-4c4b-9823-4b8e7ae95fec').width('91%')"
       ],
       "metadata": {},
       "output_type": "display_data",
       "text": [
        "<IPython.core.display.Javascript at 0x157239b90>"
       ]
      },
      {
       "javascript": [
        "$('div#152b7bbc-6291-4c4b-9823-4b8e7ae95fec').width('91%')"
       ],
       "metadata": {},
       "output_type": "display_data",
       "text": [
        "<IPython.core.display.Javascript at 0x157239b90>"
       ]
      },
      {
       "javascript": [
        "$('div#152b7bbc-6291-4c4b-9823-4b8e7ae95fec').width('92%')"
       ],
       "metadata": {},
       "output_type": "display_data",
       "text": [
        "<IPython.core.display.Javascript at 0x157239b90>"
       ]
      },
      {
       "javascript": [
        "$('div#152b7bbc-6291-4c4b-9823-4b8e7ae95fec').width('92%')"
       ],
       "metadata": {},
       "output_type": "display_data",
       "text": [
        "<IPython.core.display.Javascript at 0x157239b90>"
       ]
      },
      {
       "javascript": [
        "$('div#152b7bbc-6291-4c4b-9823-4b8e7ae95fec').width('92%')"
       ],
       "metadata": {},
       "output_type": "display_data",
       "text": [
        "<IPython.core.display.Javascript at 0x157239b90>"
       ]
      },
      {
       "javascript": [
        "$('div#152b7bbc-6291-4c4b-9823-4b8e7ae95fec').width('93%')"
       ],
       "metadata": {},
       "output_type": "display_data",
       "text": [
        "<IPython.core.display.Javascript at 0x157239b90>"
       ]
      },
      {
       "javascript": [
        "$('div#152b7bbc-6291-4c4b-9823-4b8e7ae95fec').width('93%')"
       ],
       "metadata": {},
       "output_type": "display_data",
       "text": [
        "<IPython.core.display.Javascript at 0x157239b90>"
       ]
      },
      {
       "javascript": [
        "$('div#152b7bbc-6291-4c4b-9823-4b8e7ae95fec').width('94%')"
       ],
       "metadata": {},
       "output_type": "display_data",
       "text": [
        "<IPython.core.display.Javascript at 0x157239b90>"
       ]
      },
      {
       "javascript": [
        "$('div#152b7bbc-6291-4c4b-9823-4b8e7ae95fec').width('94%')"
       ],
       "metadata": {},
       "output_type": "display_data",
       "text": [
        "<IPython.core.display.Javascript at 0x157239b90>"
       ]
      },
      {
       "javascript": [
        "$('div#152b7bbc-6291-4c4b-9823-4b8e7ae95fec').width('94%')"
       ],
       "metadata": {},
       "output_type": "display_data",
       "text": [
        "<IPython.core.display.Javascript at 0x157239b90>"
       ]
      },
      {
       "javascript": [
        "$('div#152b7bbc-6291-4c4b-9823-4b8e7ae95fec').width('95%')"
       ],
       "metadata": {},
       "output_type": "display_data",
       "text": [
        "<IPython.core.display.Javascript at 0x157239b90>"
       ]
      },
      {
       "javascript": [
        "$('div#152b7bbc-6291-4c4b-9823-4b8e7ae95fec').width('95%')"
       ],
       "metadata": {},
       "output_type": "display_data",
       "text": [
        "<IPython.core.display.Javascript at 0x157239b90>"
       ]
      },
      {
       "javascript": [
        "$('div#152b7bbc-6291-4c4b-9823-4b8e7ae95fec').width('96%')"
       ],
       "metadata": {},
       "output_type": "display_data",
       "text": [
        "<IPython.core.display.Javascript at 0x157239b90>"
       ]
      },
      {
       "javascript": [
        "$('div#152b7bbc-6291-4c4b-9823-4b8e7ae95fec').width('96%')"
       ],
       "metadata": {},
       "output_type": "display_data",
       "text": [
        "<IPython.core.display.Javascript at 0x157239b90>"
       ]
      },
      {
       "javascript": [
        "$('div#152b7bbc-6291-4c4b-9823-4b8e7ae95fec').width('96%')"
       ],
       "metadata": {},
       "output_type": "display_data",
       "text": [
        "<IPython.core.display.Javascript at 0x157239b90>"
       ]
      },
      {
       "javascript": [
        "$('div#152b7bbc-6291-4c4b-9823-4b8e7ae95fec').width('97%')"
       ],
       "metadata": {},
       "output_type": "display_data",
       "text": [
        "<IPython.core.display.Javascript at 0x157239b90>"
       ]
      },
      {
       "javascript": [
        "$('div#152b7bbc-6291-4c4b-9823-4b8e7ae95fec').width('97%')"
       ],
       "metadata": {},
       "output_type": "display_data",
       "text": [
        "<IPython.core.display.Javascript at 0x157239b90>"
       ]
      },
      {
       "javascript": [
        "$('div#152b7bbc-6291-4c4b-9823-4b8e7ae95fec').width('98%')"
       ],
       "metadata": {},
       "output_type": "display_data",
       "text": [
        "<IPython.core.display.Javascript at 0x157239b90>"
       ]
      },
      {
       "javascript": [
        "$('div#152b7bbc-6291-4c4b-9823-4b8e7ae95fec').width('98%')"
       ],
       "metadata": {},
       "output_type": "display_data",
       "text": [
        "<IPython.core.display.Javascript at 0x157239b90>"
       ]
      },
      {
       "javascript": [
        "$('div#152b7bbc-6291-4c4b-9823-4b8e7ae95fec').width('98%')"
       ],
       "metadata": {},
       "output_type": "display_data",
       "text": [
        "<IPython.core.display.Javascript at 0x157239b90>"
       ]
      },
      {
       "javascript": [
        "$('div#152b7bbc-6291-4c4b-9823-4b8e7ae95fec').width('99%')"
       ],
       "metadata": {},
       "output_type": "display_data",
       "text": [
        "<IPython.core.display.Javascript at 0x157239b90>"
       ]
      },
      {
       "javascript": [
        "$('div#152b7bbc-6291-4c4b-9823-4b8e7ae95fec').width('99%')"
       ],
       "metadata": {},
       "output_type": "display_data",
       "text": [
        "<IPython.core.display.Javascript at 0x157239b90>"
       ]
      },
      {
       "javascript": [
        "$('div#152b7bbc-6291-4c4b-9823-4b8e7ae95fec').width('100%')"
       ],
       "metadata": {},
       "output_type": "display_data",
       "text": [
        "<IPython.core.display.Javascript at 0x157239dd0>"
       ]
      },
      {
       "html": [
        "<iframe src=http://127.0.0.1:8001/1199632 width=100%% height=420 frameborder=0></iframe>"
       ],
       "metadata": {},
       "output_type": "pyout",
       "prompt_number": 63,
       "text": [
        "<mMR.mMR.UncompressedProjection instance at 0x19c8a7cb0>"
       ]
      }
     ],
     "prompt_number": 63
    },
    {
     "cell_type": "code",
     "collapsed": false,
     "input": [
      "Proj.data.shape"
     ],
     "language": "python",
     "metadata": {},
     "outputs": [
      {
       "metadata": {},
       "output_type": "pyout",
       "prompt_number": 64,
       "text": [
        "(64, 344, 1, 252)"
       ]
      }
     ],
     "prompt_number": 64
    },
    {
     "cell_type": "code",
     "collapsed": false,
     "input": [
      "SCAN.static.backprojection_parameters.direction=7\n",
      "b = SCAN.static.backproject(proj)"
     ],
     "language": "python",
     "metadata": {},
     "outputs": [],
     "prompt_number": 65
    },
    {
     "cell_type": "code",
     "collapsed": false,
     "input": [
      "b"
     ],
     "language": "python",
     "metadata": {},
     "outputs": [
      {
       "html": [
        "\n",
        "        <div style=\"border: 1px solid white; width:100%%; height:6px; background-color:rgb(246,246,246)\">\n",
        "            <div id=\"8ba78cea-c3ed-4464-9d11-39bbab33997f\" style=\"background-color:rgb(200,200,200); width:0%; height:6px\"> </div>\n",
        "        </div> \n",
        "        "
       ],
       "metadata": {},
       "output_type": "display_data",
       "text": [
        "<IPython.core.display.HTML at 0x15722e210>"
       ]
      },
      {
       "javascript": [
        "$('div#8ba78cea-c3ed-4464-9d11-39bbab33997f').width('1%')"
       ],
       "metadata": {},
       "output_type": "display_data",
       "text": [
        "<IPython.core.display.Javascript at 0x15722e290>"
       ]
      },
      {
       "javascript": [
        "$('div#8ba78cea-c3ed-4464-9d11-39bbab33997f').width('1%')"
       ],
       "metadata": {},
       "output_type": "display_data",
       "text": [
        "<IPython.core.display.Javascript at 0x15722e290>"
       ]
      },
      {
       "javascript": [
        "$('div#8ba78cea-c3ed-4464-9d11-39bbab33997f').width('1%')"
       ],
       "metadata": {},
       "output_type": "display_data",
       "text": [
        "<IPython.core.display.Javascript at 0x15722e290>"
       ]
      },
      {
       "javascript": [
        "$('div#8ba78cea-c3ed-4464-9d11-39bbab33997f').width('2%')"
       ],
       "metadata": {},
       "output_type": "display_data",
       "text": [
        "<IPython.core.display.Javascript at 0x15722e290>"
       ]
      },
      {
       "javascript": [
        "$('div#8ba78cea-c3ed-4464-9d11-39bbab33997f').width('3%')"
       ],
       "metadata": {},
       "output_type": "display_data",
       "text": [
        "<IPython.core.display.Javascript at 0x15722e290>"
       ]
      },
      {
       "javascript": [
        "$('div#8ba78cea-c3ed-4464-9d11-39bbab33997f').width('3%')"
       ],
       "metadata": {},
       "output_type": "display_data",
       "text": [
        "<IPython.core.display.Javascript at 0x15722e290>"
       ]
      },
      {
       "javascript": [
        "$('div#8ba78cea-c3ed-4464-9d11-39bbab33997f').width('4%')"
       ],
       "metadata": {},
       "output_type": "display_data",
       "text": [
        "<IPython.core.display.Javascript at 0x15722e290>"
       ]
      },
      {
       "javascript": [
        "$('div#8ba78cea-c3ed-4464-9d11-39bbab33997f').width('5%')"
       ],
       "metadata": {},
       "output_type": "display_data",
       "text": [
        "<IPython.core.display.Javascript at 0x15722e290>"
       ]
      },
      {
       "javascript": [
        "$('div#8ba78cea-c3ed-4464-9d11-39bbab33997f').width('6%')"
       ],
       "metadata": {},
       "output_type": "display_data",
       "text": [
        "<IPython.core.display.Javascript at 0x15722e290>"
       ]
      },
      {
       "javascript": [
        "$('div#8ba78cea-c3ed-4464-9d11-39bbab33997f').width('7%')"
       ],
       "metadata": {},
       "output_type": "display_data",
       "text": [
        "<IPython.core.display.Javascript at 0x15722e290>"
       ]
      },
      {
       "javascript": [
        "$('div#8ba78cea-c3ed-4464-9d11-39bbab33997f').width('7%')"
       ],
       "metadata": {},
       "output_type": "display_data",
       "text": [
        "<IPython.core.display.Javascript at 0x15722e290>"
       ]
      },
      {
       "javascript": [
        "$('div#8ba78cea-c3ed-4464-9d11-39bbab33997f').width('8%')"
       ],
       "metadata": {},
       "output_type": "display_data",
       "text": [
        "<IPython.core.display.Javascript at 0x15722e290>"
       ]
      },
      {
       "javascript": [
        "$('div#8ba78cea-c3ed-4464-9d11-39bbab33997f').width('9%')"
       ],
       "metadata": {},
       "output_type": "display_data",
       "text": [
        "<IPython.core.display.Javascript at 0x15722e290>"
       ]
      },
      {
       "javascript": [
        "$('div#8ba78cea-c3ed-4464-9d11-39bbab33997f').width('10%')"
       ],
       "metadata": {},
       "output_type": "display_data",
       "text": [
        "<IPython.core.display.Javascript at 0x15722e290>"
       ]
      },
      {
       "javascript": [
        "$('div#8ba78cea-c3ed-4464-9d11-39bbab33997f').width('10%')"
       ],
       "metadata": {},
       "output_type": "display_data",
       "text": [
        "<IPython.core.display.Javascript at 0x15722e290>"
       ]
      },
      {
       "javascript": [
        "$('div#8ba78cea-c3ed-4464-9d11-39bbab33997f').width('11%')"
       ],
       "metadata": {},
       "output_type": "display_data",
       "text": [
        "<IPython.core.display.Javascript at 0x15722e290>"
       ]
      },
      {
       "javascript": [
        "$('div#8ba78cea-c3ed-4464-9d11-39bbab33997f').width('12%')"
       ],
       "metadata": {},
       "output_type": "display_data",
       "text": [
        "<IPython.core.display.Javascript at 0x15722e290>"
       ]
      },
      {
       "javascript": [
        "$('div#8ba78cea-c3ed-4464-9d11-39bbab33997f').width('13%')"
       ],
       "metadata": {},
       "output_type": "display_data",
       "text": [
        "<IPython.core.display.Javascript at 0x15722e290>"
       ]
      },
      {
       "javascript": [
        "$('div#8ba78cea-c3ed-4464-9d11-39bbab33997f').width('14%')"
       ],
       "metadata": {},
       "output_type": "display_data",
       "text": [
        "<IPython.core.display.Javascript at 0x15722e290>"
       ]
      },
      {
       "javascript": [
        "$('div#8ba78cea-c3ed-4464-9d11-39bbab33997f').width('14%')"
       ],
       "metadata": {},
       "output_type": "display_data",
       "text": [
        "<IPython.core.display.Javascript at 0x15722e290>"
       ]
      },
      {
       "javascript": [
        "$('div#8ba78cea-c3ed-4464-9d11-39bbab33997f').width('15%')"
       ],
       "metadata": {},
       "output_type": "display_data",
       "text": [
        "<IPython.core.display.Javascript at 0x15722e290>"
       ]
      },
      {
       "javascript": [
        "$('div#8ba78cea-c3ed-4464-9d11-39bbab33997f').width('16%')"
       ],
       "metadata": {},
       "output_type": "display_data",
       "text": [
        "<IPython.core.display.Javascript at 0x15722e290>"
       ]
      },
      {
       "javascript": [
        "$('div#8ba78cea-c3ed-4464-9d11-39bbab33997f').width('17%')"
       ],
       "metadata": {},
       "output_type": "display_data",
       "text": [
        "<IPython.core.display.Javascript at 0x15722e290>"
       ]
      },
      {
       "javascript": [
        "$('div#8ba78cea-c3ed-4464-9d11-39bbab33997f').width('17%')"
       ],
       "metadata": {},
       "output_type": "display_data",
       "text": [
        "<IPython.core.display.Javascript at 0x15722e290>"
       ]
      },
      {
       "javascript": [
        "$('div#8ba78cea-c3ed-4464-9d11-39bbab33997f').width('18%')"
       ],
       "metadata": {},
       "output_type": "display_data",
       "text": [
        "<IPython.core.display.Javascript at 0x15722e290>"
       ]
      },
      {
       "javascript": [
        "$('div#8ba78cea-c3ed-4464-9d11-39bbab33997f').width('19%')"
       ],
       "metadata": {},
       "output_type": "display_data",
       "text": [
        "<IPython.core.display.Javascript at 0x15722e290>"
       ]
      },
      {
       "javascript": [
        "$('div#8ba78cea-c3ed-4464-9d11-39bbab33997f').width('20%')"
       ],
       "metadata": {},
       "output_type": "display_data",
       "text": [
        "<IPython.core.display.Javascript at 0x15722e290>"
       ]
      },
      {
       "javascript": [
        "$('div#8ba78cea-c3ed-4464-9d11-39bbab33997f').width('21%')"
       ],
       "metadata": {},
       "output_type": "display_data",
       "text": [
        "<IPython.core.display.Javascript at 0x15722e290>"
       ]
      },
      {
       "javascript": [
        "$('div#8ba78cea-c3ed-4464-9d11-39bbab33997f').width('21%')"
       ],
       "metadata": {},
       "output_type": "display_data",
       "text": [
        "<IPython.core.display.Javascript at 0x15722e290>"
       ]
      },
      {
       "javascript": [
        "$('div#8ba78cea-c3ed-4464-9d11-39bbab33997f').width('22%')"
       ],
       "metadata": {},
       "output_type": "display_data",
       "text": [
        "<IPython.core.display.Javascript at 0x15722e290>"
       ]
      },
      {
       "javascript": [
        "$('div#8ba78cea-c3ed-4464-9d11-39bbab33997f').width('23%')"
       ],
       "metadata": {},
       "output_type": "display_data",
       "text": [
        "<IPython.core.display.Javascript at 0x15722e290>"
       ]
      },
      {
       "javascript": [
        "$('div#8ba78cea-c3ed-4464-9d11-39bbab33997f').width('24%')"
       ],
       "metadata": {},
       "output_type": "display_data",
       "text": [
        "<IPython.core.display.Javascript at 0x15722e290>"
       ]
      },
      {
       "javascript": [
        "$('div#8ba78cea-c3ed-4464-9d11-39bbab33997f').width('25%')"
       ],
       "metadata": {},
       "output_type": "display_data",
       "text": [
        "<IPython.core.display.Javascript at 0x15722e290>"
       ]
      },
      {
       "javascript": [
        "$('div#8ba78cea-c3ed-4464-9d11-39bbab33997f').width('25%')"
       ],
       "metadata": {},
       "output_type": "display_data",
       "text": [
        "<IPython.core.display.Javascript at 0x15722e290>"
       ]
      },
      {
       "javascript": [
        "$('div#8ba78cea-c3ed-4464-9d11-39bbab33997f').width('26%')"
       ],
       "metadata": {},
       "output_type": "display_data",
       "text": [
        "<IPython.core.display.Javascript at 0x15722e290>"
       ]
      },
      {
       "javascript": [
        "$('div#8ba78cea-c3ed-4464-9d11-39bbab33997f').width('27%')"
       ],
       "metadata": {},
       "output_type": "display_data",
       "text": [
        "<IPython.core.display.Javascript at 0x15722e290>"
       ]
      },
      {
       "javascript": [
        "$('div#8ba78cea-c3ed-4464-9d11-39bbab33997f').width('28%')"
       ],
       "metadata": {},
       "output_type": "display_data",
       "text": [
        "<IPython.core.display.Javascript at 0x15722e290>"
       ]
      },
      {
       "javascript": [
        "$('div#8ba78cea-c3ed-4464-9d11-39bbab33997f').width('28%')"
       ],
       "metadata": {},
       "output_type": "display_data",
       "text": [
        "<IPython.core.display.Javascript at 0x15722e290>"
       ]
      },
      {
       "javascript": [
        "$('div#8ba78cea-c3ed-4464-9d11-39bbab33997f').width('29%')"
       ],
       "metadata": {},
       "output_type": "display_data",
       "text": [
        "<IPython.core.display.Javascript at 0x15722e290>"
       ]
      },
      {
       "javascript": [
        "$('div#8ba78cea-c3ed-4464-9d11-39bbab33997f').width('30%')"
       ],
       "metadata": {},
       "output_type": "display_data",
       "text": [
        "<IPython.core.display.Javascript at 0x15722e290>"
       ]
      },
      {
       "javascript": [
        "$('div#8ba78cea-c3ed-4464-9d11-39bbab33997f').width('31%')"
       ],
       "metadata": {},
       "output_type": "display_data",
       "text": [
        "<IPython.core.display.Javascript at 0x15722e290>"
       ]
      },
      {
       "javascript": [
        "$('div#8ba78cea-c3ed-4464-9d11-39bbab33997f').width('32%')"
       ],
       "metadata": {},
       "output_type": "display_data",
       "text": [
        "<IPython.core.display.Javascript at 0x15722e290>"
       ]
      },
      {
       "javascript": [
        "$('div#8ba78cea-c3ed-4464-9d11-39bbab33997f').width('32%')"
       ],
       "metadata": {},
       "output_type": "display_data",
       "text": [
        "<IPython.core.display.Javascript at 0x15722e290>"
       ]
      },
      {
       "javascript": [
        "$('div#8ba78cea-c3ed-4464-9d11-39bbab33997f').width('33%')"
       ],
       "metadata": {},
       "output_type": "display_data",
       "text": [
        "<IPython.core.display.Javascript at 0x15722e290>"
       ]
      },
      {
       "javascript": [
        "$('div#8ba78cea-c3ed-4464-9d11-39bbab33997f').width('34%')"
       ],
       "metadata": {},
       "output_type": "display_data",
       "text": [
        "<IPython.core.display.Javascript at 0x15722e290>"
       ]
      },
      {
       "javascript": [
        "$('div#8ba78cea-c3ed-4464-9d11-39bbab33997f').width('35%')"
       ],
       "metadata": {},
       "output_type": "display_data",
       "text": [
        "<IPython.core.display.Javascript at 0x15722e290>"
       ]
      },
      {
       "javascript": [
        "$('div#8ba78cea-c3ed-4464-9d11-39bbab33997f').width('35%')"
       ],
       "metadata": {},
       "output_type": "display_data",
       "text": [
        "<IPython.core.display.Javascript at 0x15722e290>"
       ]
      },
      {
       "javascript": [
        "$('div#8ba78cea-c3ed-4464-9d11-39bbab33997f').width('36%')"
       ],
       "metadata": {},
       "output_type": "display_data",
       "text": [
        "<IPython.core.display.Javascript at 0x15722e290>"
       ]
      },
      {
       "javascript": [
        "$('div#8ba78cea-c3ed-4464-9d11-39bbab33997f').width('37%')"
       ],
       "metadata": {},
       "output_type": "display_data",
       "text": [
        "<IPython.core.display.Javascript at 0x15722e290>"
       ]
      },
      {
       "javascript": [
        "$('div#8ba78cea-c3ed-4464-9d11-39bbab33997f').width('38%')"
       ],
       "metadata": {},
       "output_type": "display_data",
       "text": [
        "<IPython.core.display.Javascript at 0x15722e290>"
       ]
      },
      {
       "javascript": [
        "$('div#8ba78cea-c3ed-4464-9d11-39bbab33997f').width('39%')"
       ],
       "metadata": {},
       "output_type": "display_data",
       "text": [
        "<IPython.core.display.Javascript at 0x15722e290>"
       ]
      },
      {
       "javascript": [
        "$('div#8ba78cea-c3ed-4464-9d11-39bbab33997f').width('39%')"
       ],
       "metadata": {},
       "output_type": "display_data",
       "text": [
        "<IPython.core.display.Javascript at 0x15722e290>"
       ]
      },
      {
       "javascript": [
        "$('div#8ba78cea-c3ed-4464-9d11-39bbab33997f').width('40%')"
       ],
       "metadata": {},
       "output_type": "display_data",
       "text": [
        "<IPython.core.display.Javascript at 0x15722e290>"
       ]
      },
      {
       "javascript": [
        "$('div#8ba78cea-c3ed-4464-9d11-39bbab33997f').width('41%')"
       ],
       "metadata": {},
       "output_type": "display_data",
       "text": [
        "<IPython.core.display.Javascript at 0x15722e290>"
       ]
      },
      {
       "javascript": [
        "$('div#8ba78cea-c3ed-4464-9d11-39bbab33997f').width('42%')"
       ],
       "metadata": {},
       "output_type": "display_data",
       "text": [
        "<IPython.core.display.Javascript at 0x15722e290>"
       ]
      },
      {
       "javascript": [
        "$('div#8ba78cea-c3ed-4464-9d11-39bbab33997f').width('42%')"
       ],
       "metadata": {},
       "output_type": "display_data",
       "text": [
        "<IPython.core.display.Javascript at 0x15722e290>"
       ]
      },
      {
       "javascript": [
        "$('div#8ba78cea-c3ed-4464-9d11-39bbab33997f').width('43%')"
       ],
       "metadata": {},
       "output_type": "display_data",
       "text": [
        "<IPython.core.display.Javascript at 0x15722e290>"
       ]
      },
      {
       "javascript": [
        "$('div#8ba78cea-c3ed-4464-9d11-39bbab33997f').width('44%')"
       ],
       "metadata": {},
       "output_type": "display_data",
       "text": [
        "<IPython.core.display.Javascript at 0x15722e290>"
       ]
      },
      {
       "javascript": [
        "$('div#8ba78cea-c3ed-4464-9d11-39bbab33997f').width('45%')"
       ],
       "metadata": {},
       "output_type": "display_data",
       "text": [
        "<IPython.core.display.Javascript at 0x15722e290>"
       ]
      },
      {
       "javascript": [
        "$('div#8ba78cea-c3ed-4464-9d11-39bbab33997f').width('46%')"
       ],
       "metadata": {},
       "output_type": "display_data",
       "text": [
        "<IPython.core.display.Javascript at 0x15722e290>"
       ]
      },
      {
       "javascript": [
        "$('div#8ba78cea-c3ed-4464-9d11-39bbab33997f').width('46%')"
       ],
       "metadata": {},
       "output_type": "display_data",
       "text": [
        "<IPython.core.display.Javascript at 0x15722e290>"
       ]
      },
      {
       "javascript": [
        "$('div#8ba78cea-c3ed-4464-9d11-39bbab33997f').width('47%')"
       ],
       "metadata": {},
       "output_type": "display_data",
       "text": [
        "<IPython.core.display.Javascript at 0x15722e290>"
       ]
      },
      {
       "javascript": [
        "$('div#8ba78cea-c3ed-4464-9d11-39bbab33997f').width('48%')"
       ],
       "metadata": {},
       "output_type": "display_data",
       "text": [
        "<IPython.core.display.Javascript at 0x15722e290>"
       ]
      },
      {
       "javascript": [
        "$('div#8ba78cea-c3ed-4464-9d11-39bbab33997f').width('49%')"
       ],
       "metadata": {},
       "output_type": "display_data",
       "text": [
        "<IPython.core.display.Javascript at 0x15722e290>"
       ]
      },
      {
       "javascript": [
        "$('div#8ba78cea-c3ed-4464-9d11-39bbab33997f').width('50%')"
       ],
       "metadata": {},
       "output_type": "display_data",
       "text": [
        "<IPython.core.display.Javascript at 0x15722e290>"
       ]
      },
      {
       "javascript": [
        "$('div#8ba78cea-c3ed-4464-9d11-39bbab33997f').width('50%')"
       ],
       "metadata": {},
       "output_type": "display_data",
       "text": [
        "<IPython.core.display.Javascript at 0x15722e290>"
       ]
      },
      {
       "javascript": [
        "$('div#8ba78cea-c3ed-4464-9d11-39bbab33997f').width('51%')"
       ],
       "metadata": {},
       "output_type": "display_data",
       "text": [
        "<IPython.core.display.Javascript at 0x15722e290>"
       ]
      },
      {
       "javascript": [
        "$('div#8ba78cea-c3ed-4464-9d11-39bbab33997f').width('52%')"
       ],
       "metadata": {},
       "output_type": "display_data",
       "text": [
        "<IPython.core.display.Javascript at 0x15722e290>"
       ]
      },
      {
       "javascript": [
        "$('div#8ba78cea-c3ed-4464-9d11-39bbab33997f').width('53%')"
       ],
       "metadata": {},
       "output_type": "display_data",
       "text": [
        "<IPython.core.display.Javascript at 0x15722e290>"
       ]
      },
      {
       "javascript": [
        "$('div#8ba78cea-c3ed-4464-9d11-39bbab33997f').width('53%')"
       ],
       "metadata": {},
       "output_type": "display_data",
       "text": [
        "<IPython.core.display.Javascript at 0x15722e290>"
       ]
      },
      {
       "javascript": [
        "$('div#8ba78cea-c3ed-4464-9d11-39bbab33997f').width('54%')"
       ],
       "metadata": {},
       "output_type": "display_data",
       "text": [
        "<IPython.core.display.Javascript at 0x15722e290>"
       ]
      },
      {
       "javascript": [
        "$('div#8ba78cea-c3ed-4464-9d11-39bbab33997f').width('55%')"
       ],
       "metadata": {},
       "output_type": "display_data",
       "text": [
        "<IPython.core.display.Javascript at 0x15722e290>"
       ]
      },
      {
       "javascript": [
        "$('div#8ba78cea-c3ed-4464-9d11-39bbab33997f').width('56%')"
       ],
       "metadata": {},
       "output_type": "display_data",
       "text": [
        "<IPython.core.display.Javascript at 0x15722e290>"
       ]
      },
      {
       "javascript": [
        "$('div#8ba78cea-c3ed-4464-9d11-39bbab33997f').width('57%')"
       ],
       "metadata": {},
       "output_type": "display_data",
       "text": [
        "<IPython.core.display.Javascript at 0x15722e290>"
       ]
      },
      {
       "javascript": [
        "$('div#8ba78cea-c3ed-4464-9d11-39bbab33997f').width('57%')"
       ],
       "metadata": {},
       "output_type": "display_data",
       "text": [
        "<IPython.core.display.Javascript at 0x15722e290>"
       ]
      },
      {
       "javascript": [
        "$('div#8ba78cea-c3ed-4464-9d11-39bbab33997f').width('58%')"
       ],
       "metadata": {},
       "output_type": "display_data",
       "text": [
        "<IPython.core.display.Javascript at 0x15722e290>"
       ]
      },
      {
       "javascript": [
        "$('div#8ba78cea-c3ed-4464-9d11-39bbab33997f').width('59%')"
       ],
       "metadata": {},
       "output_type": "display_data",
       "text": [
        "<IPython.core.display.Javascript at 0x15722e290>"
       ]
      },
      {
       "javascript": [
        "$('div#8ba78cea-c3ed-4464-9d11-39bbab33997f').width('60%')"
       ],
       "metadata": {},
       "output_type": "display_data",
       "text": [
        "<IPython.core.display.Javascript at 0x15722e290>"
       ]
      },
      {
       "javascript": [
        "$('div#8ba78cea-c3ed-4464-9d11-39bbab33997f').width('60%')"
       ],
       "metadata": {},
       "output_type": "display_data",
       "text": [
        "<IPython.core.display.Javascript at 0x15722e290>"
       ]
      },
      {
       "javascript": [
        "$('div#8ba78cea-c3ed-4464-9d11-39bbab33997f').width('61%')"
       ],
       "metadata": {},
       "output_type": "display_data",
       "text": [
        "<IPython.core.display.Javascript at 0x15722e290>"
       ]
      },
      {
       "javascript": [
        "$('div#8ba78cea-c3ed-4464-9d11-39bbab33997f').width('62%')"
       ],
       "metadata": {},
       "output_type": "display_data",
       "text": [
        "<IPython.core.display.Javascript at 0x15722e290>"
       ]
      },
      {
       "javascript": [
        "$('div#8ba78cea-c3ed-4464-9d11-39bbab33997f').width('63%')"
       ],
       "metadata": {},
       "output_type": "display_data",
       "text": [
        "<IPython.core.display.Javascript at 0x15722e290>"
       ]
      },
      {
       "javascript": [
        "$('div#8ba78cea-c3ed-4464-9d11-39bbab33997f').width('64%')"
       ],
       "metadata": {},
       "output_type": "display_data",
       "text": [
        "<IPython.core.display.Javascript at 0x15722e290>"
       ]
      },
      {
       "javascript": [
        "$('div#8ba78cea-c3ed-4464-9d11-39bbab33997f').width('64%')"
       ],
       "metadata": {},
       "output_type": "display_data",
       "text": [
        "<IPython.core.display.Javascript at 0x15722e290>"
       ]
      },
      {
       "javascript": [
        "$('div#8ba78cea-c3ed-4464-9d11-39bbab33997f').width('65%')"
       ],
       "metadata": {},
       "output_type": "display_data",
       "text": [
        "<IPython.core.display.Javascript at 0x15722e290>"
       ]
      },
      {
       "javascript": [
        "$('div#8ba78cea-c3ed-4464-9d11-39bbab33997f').width('66%')"
       ],
       "metadata": {},
       "output_type": "display_data",
       "text": [
        "<IPython.core.display.Javascript at 0x15722e290>"
       ]
      },
      {
       "javascript": [
        "$('div#8ba78cea-c3ed-4464-9d11-39bbab33997f').width('67%')"
       ],
       "metadata": {},
       "output_type": "display_data",
       "text": [
        "<IPython.core.display.Javascript at 0x15722e290>"
       ]
      },
      {
       "javascript": [
        "$('div#8ba78cea-c3ed-4464-9d11-39bbab33997f').width('67%')"
       ],
       "metadata": {},
       "output_type": "display_data",
       "text": [
        "<IPython.core.display.Javascript at 0x15722e290>"
       ]
      },
      {
       "javascript": [
        "$('div#8ba78cea-c3ed-4464-9d11-39bbab33997f').width('68%')"
       ],
       "metadata": {},
       "output_type": "display_data",
       "text": [
        "<IPython.core.display.Javascript at 0x15722e290>"
       ]
      },
      {
       "javascript": [
        "$('div#8ba78cea-c3ed-4464-9d11-39bbab33997f').width('69%')"
       ],
       "metadata": {},
       "output_type": "display_data",
       "text": [
        "<IPython.core.display.Javascript at 0x15722e290>"
       ]
      },
      {
       "javascript": [
        "$('div#8ba78cea-c3ed-4464-9d11-39bbab33997f').width('70%')"
       ],
       "metadata": {},
       "output_type": "display_data",
       "text": [
        "<IPython.core.display.Javascript at 0x15722e290>"
       ]
      },
      {
       "javascript": [
        "$('div#8ba78cea-c3ed-4464-9d11-39bbab33997f').width('71%')"
       ],
       "metadata": {},
       "output_type": "display_data",
       "text": [
        "<IPython.core.display.Javascript at 0x15722e290>"
       ]
      },
      {
       "javascript": [
        "$('div#8ba78cea-c3ed-4464-9d11-39bbab33997f').width('71%')"
       ],
       "metadata": {},
       "output_type": "display_data",
       "text": [
        "<IPython.core.display.Javascript at 0x15722e290>"
       ]
      },
      {
       "javascript": [
        "$('div#8ba78cea-c3ed-4464-9d11-39bbab33997f').width('72%')"
       ],
       "metadata": {},
       "output_type": "display_data",
       "text": [
        "<IPython.core.display.Javascript at 0x15722e290>"
       ]
      },
      {
       "javascript": [
        "$('div#8ba78cea-c3ed-4464-9d11-39bbab33997f').width('73%')"
       ],
       "metadata": {},
       "output_type": "display_data",
       "text": [
        "<IPython.core.display.Javascript at 0x15722e290>"
       ]
      },
      {
       "javascript": [
        "$('div#8ba78cea-c3ed-4464-9d11-39bbab33997f').width('74%')"
       ],
       "metadata": {},
       "output_type": "display_data",
       "text": [
        "<IPython.core.display.Javascript at 0x15722e290>"
       ]
      },
      {
       "javascript": [
        "$('div#8ba78cea-c3ed-4464-9d11-39bbab33997f').width('75%')"
       ],
       "metadata": {},
       "output_type": "display_data",
       "text": [
        "<IPython.core.display.Javascript at 0x15722e290>"
       ]
      },
      {
       "javascript": [
        "$('div#8ba78cea-c3ed-4464-9d11-39bbab33997f').width('75%')"
       ],
       "metadata": {},
       "output_type": "display_data",
       "text": [
        "<IPython.core.display.Javascript at 0x15722e290>"
       ]
      },
      {
       "javascript": [
        "$('div#8ba78cea-c3ed-4464-9d11-39bbab33997f').width('76%')"
       ],
       "metadata": {},
       "output_type": "display_data",
       "text": [
        "<IPython.core.display.Javascript at 0x15722e290>"
       ]
      },
      {
       "javascript": [
        "$('div#8ba78cea-c3ed-4464-9d11-39bbab33997f').width('77%')"
       ],
       "metadata": {},
       "output_type": "display_data",
       "text": [
        "<IPython.core.display.Javascript at 0x15722e290>"
       ]
      },
      {
       "javascript": [
        "$('div#8ba78cea-c3ed-4464-9d11-39bbab33997f').width('78%')"
       ],
       "metadata": {},
       "output_type": "display_data",
       "text": [
        "<IPython.core.display.Javascript at 0x15722e290>"
       ]
      },
      {
       "javascript": [
        "$('div#8ba78cea-c3ed-4464-9d11-39bbab33997f').width('78%')"
       ],
       "metadata": {},
       "output_type": "display_data",
       "text": [
        "<IPython.core.display.Javascript at 0x15722e290>"
       ]
      },
      {
       "javascript": [
        "$('div#8ba78cea-c3ed-4464-9d11-39bbab33997f').width('79%')"
       ],
       "metadata": {},
       "output_type": "display_data",
       "text": [
        "<IPython.core.display.Javascript at 0x15722e290>"
       ]
      },
      {
       "javascript": [
        "$('div#8ba78cea-c3ed-4464-9d11-39bbab33997f').width('80%')"
       ],
       "metadata": {},
       "output_type": "display_data",
       "text": [
        "<IPython.core.display.Javascript at 0x15722e290>"
       ]
      },
      {
       "javascript": [
        "$('div#8ba78cea-c3ed-4464-9d11-39bbab33997f').width('81%')"
       ],
       "metadata": {},
       "output_type": "display_data",
       "text": [
        "<IPython.core.display.Javascript at 0x15722e290>"
       ]
      },
      {
       "javascript": [
        "$('div#8ba78cea-c3ed-4464-9d11-39bbab33997f').width('82%')"
       ],
       "metadata": {},
       "output_type": "display_data",
       "text": [
        "<IPython.core.display.Javascript at 0x15722e290>"
       ]
      },
      {
       "javascript": [
        "$('div#8ba78cea-c3ed-4464-9d11-39bbab33997f').width('82%')"
       ],
       "metadata": {},
       "output_type": "display_data",
       "text": [
        "<IPython.core.display.Javascript at 0x15722e290>"
       ]
      },
      {
       "javascript": [
        "$('div#8ba78cea-c3ed-4464-9d11-39bbab33997f').width('83%')"
       ],
       "metadata": {},
       "output_type": "display_data",
       "text": [
        "<IPython.core.display.Javascript at 0x15722e290>"
       ]
      },
      {
       "javascript": [
        "$('div#8ba78cea-c3ed-4464-9d11-39bbab33997f').width('84%')"
       ],
       "metadata": {},
       "output_type": "display_data",
       "text": [
        "<IPython.core.display.Javascript at 0x15722e290>"
       ]
      },
      {
       "javascript": [
        "$('div#8ba78cea-c3ed-4464-9d11-39bbab33997f').width('85%')"
       ],
       "metadata": {},
       "output_type": "display_data",
       "text": [
        "<IPython.core.display.Javascript at 0x15722e290>"
       ]
      },
      {
       "javascript": [
        "$('div#8ba78cea-c3ed-4464-9d11-39bbab33997f').width('85%')"
       ],
       "metadata": {},
       "output_type": "display_data",
       "text": [
        "<IPython.core.display.Javascript at 0x15722e290>"
       ]
      },
      {
       "javascript": [
        "$('div#8ba78cea-c3ed-4464-9d11-39bbab33997f').width('86%')"
       ],
       "metadata": {},
       "output_type": "display_data",
       "text": [
        "<IPython.core.display.Javascript at 0x15722e290>"
       ]
      },
      {
       "javascript": [
        "$('div#8ba78cea-c3ed-4464-9d11-39bbab33997f').width('87%')"
       ],
       "metadata": {},
       "output_type": "display_data",
       "text": [
        "<IPython.core.display.Javascript at 0x15722e290>"
       ]
      },
      {
       "javascript": [
        "$('div#8ba78cea-c3ed-4464-9d11-39bbab33997f').width('88%')"
       ],
       "metadata": {},
       "output_type": "display_data",
       "text": [
        "<IPython.core.display.Javascript at 0x15722e290>"
       ]
      },
      {
       "javascript": [
        "$('div#8ba78cea-c3ed-4464-9d11-39bbab33997f').width('89%')"
       ],
       "metadata": {},
       "output_type": "display_data",
       "text": [
        "<IPython.core.display.Javascript at 0x15722e290>"
       ]
      },
      {
       "javascript": [
        "$('div#8ba78cea-c3ed-4464-9d11-39bbab33997f').width('89%')"
       ],
       "metadata": {},
       "output_type": "display_data",
       "text": [
        "<IPython.core.display.Javascript at 0x15722e290>"
       ]
      },
      {
       "javascript": [
        "$('div#8ba78cea-c3ed-4464-9d11-39bbab33997f').width('90%')"
       ],
       "metadata": {},
       "output_type": "display_data",
       "text": [
        "<IPython.core.display.Javascript at 0x15722e290>"
       ]
      },
      {
       "javascript": [
        "$('div#8ba78cea-c3ed-4464-9d11-39bbab33997f').width('91%')"
       ],
       "metadata": {},
       "output_type": "display_data",
       "text": [
        "<IPython.core.display.Javascript at 0x15722e290>"
       ]
      },
      {
       "javascript": [
        "$('div#8ba78cea-c3ed-4464-9d11-39bbab33997f').width('92%')"
       ],
       "metadata": {},
       "output_type": "display_data",
       "text": [
        "<IPython.core.display.Javascript at 0x15722e290>"
       ]
      },
      {
       "javascript": [
        "$('div#8ba78cea-c3ed-4464-9d11-39bbab33997f').width('92%')"
       ],
       "metadata": {},
       "output_type": "display_data",
       "text": [
        "<IPython.core.display.Javascript at 0x15722e290>"
       ]
      },
      {
       "javascript": [
        "$('div#8ba78cea-c3ed-4464-9d11-39bbab33997f').width('93%')"
       ],
       "metadata": {},
       "output_type": "display_data",
       "text": [
        "<IPython.core.display.Javascript at 0x15722e290>"
       ]
      },
      {
       "javascript": [
        "$('div#8ba78cea-c3ed-4464-9d11-39bbab33997f').width('94%')"
       ],
       "metadata": {},
       "output_type": "display_data",
       "text": [
        "<IPython.core.display.Javascript at 0x15722e290>"
       ]
      },
      {
       "javascript": [
        "$('div#8ba78cea-c3ed-4464-9d11-39bbab33997f').width('95%')"
       ],
       "metadata": {},
       "output_type": "display_data",
       "text": [
        "<IPython.core.display.Javascript at 0x15722e290>"
       ]
      },
      {
       "javascript": [
        "$('div#8ba78cea-c3ed-4464-9d11-39bbab33997f').width('96%')"
       ],
       "metadata": {},
       "output_type": "display_data",
       "text": [
        "<IPython.core.display.Javascript at 0x15722e290>"
       ]
      },
      {
       "javascript": [
        "$('div#8ba78cea-c3ed-4464-9d11-39bbab33997f').width('96%')"
       ],
       "metadata": {},
       "output_type": "display_data",
       "text": [
        "<IPython.core.display.Javascript at 0x15722e290>"
       ]
      },
      {
       "javascript": [
        "$('div#8ba78cea-c3ed-4464-9d11-39bbab33997f').width('97%')"
       ],
       "metadata": {},
       "output_type": "display_data",
       "text": [
        "<IPython.core.display.Javascript at 0x15722e290>"
       ]
      },
      {
       "javascript": [
        "$('div#8ba78cea-c3ed-4464-9d11-39bbab33997f').width('98%')"
       ],
       "metadata": {},
       "output_type": "display_data",
       "text": [
        "<IPython.core.display.Javascript at 0x15722e290>"
       ]
      },
      {
       "javascript": [
        "$('div#8ba78cea-c3ed-4464-9d11-39bbab33997f').width('99%')"
       ],
       "metadata": {},
       "output_type": "display_data",
       "text": [
        "<IPython.core.display.Javascript at 0x15722e290>"
       ]
      },
      {
       "javascript": [
        "$('div#8ba78cea-c3ed-4464-9d11-39bbab33997f').width('100%')"
       ],
       "metadata": {},
       "output_type": "display_data",
       "text": [
        "<IPython.core.display.Javascript at 0x15722e350>"
       ]
      },
      {
       "html": [
        "<iframe src=http://127.0.0.1:8001/4499141 width=100%% height=420 frameborder=0></iframe>"
       ],
       "metadata": {},
       "output_type": "pyout",
       "prompt_number": 66,
       "text": [
        "<occiput.Core.RigidVolume at 0x118e06690>"
       ]
      }
     ],
     "prompt_number": 66
    },
    {
     "cell_type": "code",
     "collapsed": false,
     "input": [
      "phantom"
     ],
     "language": "python",
     "metadata": {},
     "outputs": [
      {
       "html": [
        "\n",
        "        <div style=\"border: 1px solid white; width:100%%; height:6px; background-color:rgb(246,246,246)\">\n",
        "            <div id=\"ff4d1aad-b0ed-4c9b-9065-fce7cbd2ea43\" style=\"background-color:rgb(200,200,200); width:0%; height:6px\"> </div>\n",
        "        </div> \n",
        "        "
       ],
       "metadata": {},
       "output_type": "display_data",
       "text": [
        "<IPython.core.display.HTML at 0x118e06390>"
       ]
      },
      {
       "javascript": [
        "$('div#ff4d1aad-b0ed-4c9b-9065-fce7cbd2ea43').width('1%')"
       ],
       "metadata": {},
       "output_type": "display_data",
       "text": [
        "<IPython.core.display.Javascript at 0x15722e210>"
       ]
      },
      {
       "javascript": [
        "$('div#ff4d1aad-b0ed-4c9b-9065-fce7cbd2ea43').width('1%')"
       ],
       "metadata": {},
       "output_type": "display_data",
       "text": [
        "<IPython.core.display.Javascript at 0x15722e210>"
       ]
      },
      {
       "javascript": [
        "$('div#ff4d1aad-b0ed-4c9b-9065-fce7cbd2ea43').width('1%')"
       ],
       "metadata": {},
       "output_type": "display_data",
       "text": [
        "<IPython.core.display.Javascript at 0x15722e210>"
       ]
      },
      {
       "javascript": [
        "$('div#ff4d1aad-b0ed-4c9b-9065-fce7cbd2ea43').width('2%')"
       ],
       "metadata": {},
       "output_type": "display_data",
       "text": [
        "<IPython.core.display.Javascript at 0x15722e210>"
       ]
      },
      {
       "javascript": [
        "$('div#ff4d1aad-b0ed-4c9b-9065-fce7cbd2ea43').width('3%')"
       ],
       "metadata": {},
       "output_type": "display_data",
       "text": [
        "<IPython.core.display.Javascript at 0x15722e210>"
       ]
      },
      {
       "javascript": [
        "$('div#ff4d1aad-b0ed-4c9b-9065-fce7cbd2ea43').width('3%')"
       ],
       "metadata": {},
       "output_type": "display_data",
       "text": [
        "<IPython.core.display.Javascript at 0x15722e210>"
       ]
      },
      {
       "javascript": [
        "$('div#ff4d1aad-b0ed-4c9b-9065-fce7cbd2ea43').width('4%')"
       ],
       "metadata": {},
       "output_type": "display_data",
       "text": [
        "<IPython.core.display.Javascript at 0x15722e210>"
       ]
      },
      {
       "javascript": [
        "$('div#ff4d1aad-b0ed-4c9b-9065-fce7cbd2ea43').width('5%')"
       ],
       "metadata": {},
       "output_type": "display_data",
       "text": [
        "<IPython.core.display.Javascript at 0x15722e210>"
       ]
      },
      {
       "javascript": [
        "$('div#ff4d1aad-b0ed-4c9b-9065-fce7cbd2ea43').width('6%')"
       ],
       "metadata": {},
       "output_type": "display_data",
       "text": [
        "<IPython.core.display.Javascript at 0x15722e210>"
       ]
      },
      {
       "javascript": [
        "$('div#ff4d1aad-b0ed-4c9b-9065-fce7cbd2ea43').width('7%')"
       ],
       "metadata": {},
       "output_type": "display_data",
       "text": [
        "<IPython.core.display.Javascript at 0x15722e210>"
       ]
      },
      {
       "javascript": [
        "$('div#ff4d1aad-b0ed-4c9b-9065-fce7cbd2ea43').width('7%')"
       ],
       "metadata": {},
       "output_type": "display_data",
       "text": [
        "<IPython.core.display.Javascript at 0x15722e210>"
       ]
      },
      {
       "javascript": [
        "$('div#ff4d1aad-b0ed-4c9b-9065-fce7cbd2ea43').width('8%')"
       ],
       "metadata": {},
       "output_type": "display_data",
       "text": [
        "<IPython.core.display.Javascript at 0x15722e210>"
       ]
      },
      {
       "javascript": [
        "$('div#ff4d1aad-b0ed-4c9b-9065-fce7cbd2ea43').width('9%')"
       ],
       "metadata": {},
       "output_type": "display_data",
       "text": [
        "<IPython.core.display.Javascript at 0x15722e210>"
       ]
      },
      {
       "javascript": [
        "$('div#ff4d1aad-b0ed-4c9b-9065-fce7cbd2ea43').width('10%')"
       ],
       "metadata": {},
       "output_type": "display_data",
       "text": [
        "<IPython.core.display.Javascript at 0x15722e210>"
       ]
      },
      {
       "javascript": [
        "$('div#ff4d1aad-b0ed-4c9b-9065-fce7cbd2ea43').width('10%')"
       ],
       "metadata": {},
       "output_type": "display_data",
       "text": [
        "<IPython.core.display.Javascript at 0x15722e210>"
       ]
      },
      {
       "javascript": [
        "$('div#ff4d1aad-b0ed-4c9b-9065-fce7cbd2ea43').width('11%')"
       ],
       "metadata": {},
       "output_type": "display_data",
       "text": [
        "<IPython.core.display.Javascript at 0x15722e210>"
       ]
      },
      {
       "javascript": [
        "$('div#ff4d1aad-b0ed-4c9b-9065-fce7cbd2ea43').width('12%')"
       ],
       "metadata": {},
       "output_type": "display_data",
       "text": [
        "<IPython.core.display.Javascript at 0x15722e210>"
       ]
      },
      {
       "javascript": [
        "$('div#ff4d1aad-b0ed-4c9b-9065-fce7cbd2ea43').width('13%')"
       ],
       "metadata": {},
       "output_type": "display_data",
       "text": [
        "<IPython.core.display.Javascript at 0x15722e210>"
       ]
      },
      {
       "javascript": [
        "$('div#ff4d1aad-b0ed-4c9b-9065-fce7cbd2ea43').width('14%')"
       ],
       "metadata": {},
       "output_type": "display_data",
       "text": [
        "<IPython.core.display.Javascript at 0x15722e210>"
       ]
      },
      {
       "javascript": [
        "$('div#ff4d1aad-b0ed-4c9b-9065-fce7cbd2ea43').width('14%')"
       ],
       "metadata": {},
       "output_type": "display_data",
       "text": [
        "<IPython.core.display.Javascript at 0x15722e210>"
       ]
      },
      {
       "javascript": [
        "$('div#ff4d1aad-b0ed-4c9b-9065-fce7cbd2ea43').width('15%')"
       ],
       "metadata": {},
       "output_type": "display_data",
       "text": [
        "<IPython.core.display.Javascript at 0x15722e210>"
       ]
      },
      {
       "javascript": [
        "$('div#ff4d1aad-b0ed-4c9b-9065-fce7cbd2ea43').width('16%')"
       ],
       "metadata": {},
       "output_type": "display_data",
       "text": [
        "<IPython.core.display.Javascript at 0x15722e210>"
       ]
      },
      {
       "javascript": [
        "$('div#ff4d1aad-b0ed-4c9b-9065-fce7cbd2ea43').width('17%')"
       ],
       "metadata": {},
       "output_type": "display_data",
       "text": [
        "<IPython.core.display.Javascript at 0x15722e210>"
       ]
      },
      {
       "javascript": [
        "$('div#ff4d1aad-b0ed-4c9b-9065-fce7cbd2ea43').width('17%')"
       ],
       "metadata": {},
       "output_type": "display_data",
       "text": [
        "<IPython.core.display.Javascript at 0x15722e210>"
       ]
      },
      {
       "javascript": [
        "$('div#ff4d1aad-b0ed-4c9b-9065-fce7cbd2ea43').width('18%')"
       ],
       "metadata": {},
       "output_type": "display_data",
       "text": [
        "<IPython.core.display.Javascript at 0x15722e210>"
       ]
      },
      {
       "javascript": [
        "$('div#ff4d1aad-b0ed-4c9b-9065-fce7cbd2ea43').width('19%')"
       ],
       "metadata": {},
       "output_type": "display_data",
       "text": [
        "<IPython.core.display.Javascript at 0x15722e210>"
       ]
      },
      {
       "javascript": [
        "$('div#ff4d1aad-b0ed-4c9b-9065-fce7cbd2ea43').width('20%')"
       ],
       "metadata": {},
       "output_type": "display_data",
       "text": [
        "<IPython.core.display.Javascript at 0x15722e210>"
       ]
      },
      {
       "javascript": [
        "$('div#ff4d1aad-b0ed-4c9b-9065-fce7cbd2ea43').width('21%')"
       ],
       "metadata": {},
       "output_type": "display_data",
       "text": [
        "<IPython.core.display.Javascript at 0x15722e210>"
       ]
      },
      {
       "javascript": [
        "$('div#ff4d1aad-b0ed-4c9b-9065-fce7cbd2ea43').width('21%')"
       ],
       "metadata": {},
       "output_type": "display_data",
       "text": [
        "<IPython.core.display.Javascript at 0x15722e210>"
       ]
      },
      {
       "javascript": [
        "$('div#ff4d1aad-b0ed-4c9b-9065-fce7cbd2ea43').width('22%')"
       ],
       "metadata": {},
       "output_type": "display_data",
       "text": [
        "<IPython.core.display.Javascript at 0x15722e210>"
       ]
      },
      {
       "javascript": [
        "$('div#ff4d1aad-b0ed-4c9b-9065-fce7cbd2ea43').width('23%')"
       ],
       "metadata": {},
       "output_type": "display_data",
       "text": [
        "<IPython.core.display.Javascript at 0x15722e210>"
       ]
      },
      {
       "javascript": [
        "$('div#ff4d1aad-b0ed-4c9b-9065-fce7cbd2ea43').width('24%')"
       ],
       "metadata": {},
       "output_type": "display_data",
       "text": [
        "<IPython.core.display.Javascript at 0x15722e210>"
       ]
      },
      {
       "javascript": [
        "$('div#ff4d1aad-b0ed-4c9b-9065-fce7cbd2ea43').width('25%')"
       ],
       "metadata": {},
       "output_type": "display_data",
       "text": [
        "<IPython.core.display.Javascript at 0x15722e210>"
       ]
      },
      {
       "javascript": [
        "$('div#ff4d1aad-b0ed-4c9b-9065-fce7cbd2ea43').width('25%')"
       ],
       "metadata": {},
       "output_type": "display_data",
       "text": [
        "<IPython.core.display.Javascript at 0x15722e210>"
       ]
      },
      {
       "javascript": [
        "$('div#ff4d1aad-b0ed-4c9b-9065-fce7cbd2ea43').width('26%')"
       ],
       "metadata": {},
       "output_type": "display_data",
       "text": [
        "<IPython.core.display.Javascript at 0x15722e210>"
       ]
      },
      {
       "javascript": [
        "$('div#ff4d1aad-b0ed-4c9b-9065-fce7cbd2ea43').width('27%')"
       ],
       "metadata": {},
       "output_type": "display_data",
       "text": [
        "<IPython.core.display.Javascript at 0x15722e210>"
       ]
      },
      {
       "javascript": [
        "$('div#ff4d1aad-b0ed-4c9b-9065-fce7cbd2ea43').width('28%')"
       ],
       "metadata": {},
       "output_type": "display_data",
       "text": [
        "<IPython.core.display.Javascript at 0x15722e210>"
       ]
      },
      {
       "javascript": [
        "$('div#ff4d1aad-b0ed-4c9b-9065-fce7cbd2ea43').width('28%')"
       ],
       "metadata": {},
       "output_type": "display_data",
       "text": [
        "<IPython.core.display.Javascript at 0x15722e210>"
       ]
      },
      {
       "javascript": [
        "$('div#ff4d1aad-b0ed-4c9b-9065-fce7cbd2ea43').width('29%')"
       ],
       "metadata": {},
       "output_type": "display_data",
       "text": [
        "<IPython.core.display.Javascript at 0x15722e210>"
       ]
      },
      {
       "javascript": [
        "$('div#ff4d1aad-b0ed-4c9b-9065-fce7cbd2ea43').width('30%')"
       ],
       "metadata": {},
       "output_type": "display_data",
       "text": [
        "<IPython.core.display.Javascript at 0x15722e210>"
       ]
      },
      {
       "javascript": [
        "$('div#ff4d1aad-b0ed-4c9b-9065-fce7cbd2ea43').width('31%')"
       ],
       "metadata": {},
       "output_type": "display_data",
       "text": [
        "<IPython.core.display.Javascript at 0x15722e210>"
       ]
      },
      {
       "javascript": [
        "$('div#ff4d1aad-b0ed-4c9b-9065-fce7cbd2ea43').width('32%')"
       ],
       "metadata": {},
       "output_type": "display_data",
       "text": [
        "<IPython.core.display.Javascript at 0x15722e210>"
       ]
      },
      {
       "javascript": [
        "$('div#ff4d1aad-b0ed-4c9b-9065-fce7cbd2ea43').width('32%')"
       ],
       "metadata": {},
       "output_type": "display_data",
       "text": [
        "<IPython.core.display.Javascript at 0x15722e210>"
       ]
      },
      {
       "javascript": [
        "$('div#ff4d1aad-b0ed-4c9b-9065-fce7cbd2ea43').width('33%')"
       ],
       "metadata": {},
       "output_type": "display_data",
       "text": [
        "<IPython.core.display.Javascript at 0x15722e210>"
       ]
      },
      {
       "javascript": [
        "$('div#ff4d1aad-b0ed-4c9b-9065-fce7cbd2ea43').width('34%')"
       ],
       "metadata": {},
       "output_type": "display_data",
       "text": [
        "<IPython.core.display.Javascript at 0x15722e210>"
       ]
      },
      {
       "javascript": [
        "$('div#ff4d1aad-b0ed-4c9b-9065-fce7cbd2ea43').width('35%')"
       ],
       "metadata": {},
       "output_type": "display_data",
       "text": [
        "<IPython.core.display.Javascript at 0x15722e210>"
       ]
      },
      {
       "javascript": [
        "$('div#ff4d1aad-b0ed-4c9b-9065-fce7cbd2ea43').width('35%')"
       ],
       "metadata": {},
       "output_type": "display_data",
       "text": [
        "<IPython.core.display.Javascript at 0x15722e210>"
       ]
      },
      {
       "javascript": [
        "$('div#ff4d1aad-b0ed-4c9b-9065-fce7cbd2ea43').width('36%')"
       ],
       "metadata": {},
       "output_type": "display_data",
       "text": [
        "<IPython.core.display.Javascript at 0x15722e210>"
       ]
      },
      {
       "javascript": [
        "$('div#ff4d1aad-b0ed-4c9b-9065-fce7cbd2ea43').width('37%')"
       ],
       "metadata": {},
       "output_type": "display_data",
       "text": [
        "<IPython.core.display.Javascript at 0x15722e210>"
       ]
      },
      {
       "javascript": [
        "$('div#ff4d1aad-b0ed-4c9b-9065-fce7cbd2ea43').width('38%')"
       ],
       "metadata": {},
       "output_type": "display_data",
       "text": [
        "<IPython.core.display.Javascript at 0x15722e210>"
       ]
      },
      {
       "javascript": [
        "$('div#ff4d1aad-b0ed-4c9b-9065-fce7cbd2ea43').width('39%')"
       ],
       "metadata": {},
       "output_type": "display_data",
       "text": [
        "<IPython.core.display.Javascript at 0x15722e210>"
       ]
      },
      {
       "javascript": [
        "$('div#ff4d1aad-b0ed-4c9b-9065-fce7cbd2ea43').width('39%')"
       ],
       "metadata": {},
       "output_type": "display_data",
       "text": [
        "<IPython.core.display.Javascript at 0x15722e210>"
       ]
      },
      {
       "javascript": [
        "$('div#ff4d1aad-b0ed-4c9b-9065-fce7cbd2ea43').width('40%')"
       ],
       "metadata": {},
       "output_type": "display_data",
       "text": [
        "<IPython.core.display.Javascript at 0x15722e210>"
       ]
      },
      {
       "javascript": [
        "$('div#ff4d1aad-b0ed-4c9b-9065-fce7cbd2ea43').width('41%')"
       ],
       "metadata": {},
       "output_type": "display_data",
       "text": [
        "<IPython.core.display.Javascript at 0x15722e210>"
       ]
      },
      {
       "javascript": [
        "$('div#ff4d1aad-b0ed-4c9b-9065-fce7cbd2ea43').width('42%')"
       ],
       "metadata": {},
       "output_type": "display_data",
       "text": [
        "<IPython.core.display.Javascript at 0x15722e210>"
       ]
      },
      {
       "javascript": [
        "$('div#ff4d1aad-b0ed-4c9b-9065-fce7cbd2ea43').width('42%')"
       ],
       "metadata": {},
       "output_type": "display_data",
       "text": [
        "<IPython.core.display.Javascript at 0x15722e210>"
       ]
      },
      {
       "javascript": [
        "$('div#ff4d1aad-b0ed-4c9b-9065-fce7cbd2ea43').width('43%')"
       ],
       "metadata": {},
       "output_type": "display_data",
       "text": [
        "<IPython.core.display.Javascript at 0x15722e210>"
       ]
      },
      {
       "javascript": [
        "$('div#ff4d1aad-b0ed-4c9b-9065-fce7cbd2ea43').width('44%')"
       ],
       "metadata": {},
       "output_type": "display_data",
       "text": [
        "<IPython.core.display.Javascript at 0x15722e210>"
       ]
      },
      {
       "javascript": [
        "$('div#ff4d1aad-b0ed-4c9b-9065-fce7cbd2ea43').width('45%')"
       ],
       "metadata": {},
       "output_type": "display_data",
       "text": [
        "<IPython.core.display.Javascript at 0x15722e210>"
       ]
      },
      {
       "javascript": [
        "$('div#ff4d1aad-b0ed-4c9b-9065-fce7cbd2ea43').width('46%')"
       ],
       "metadata": {},
       "output_type": "display_data",
       "text": [
        "<IPython.core.display.Javascript at 0x15722e210>"
       ]
      },
      {
       "javascript": [
        "$('div#ff4d1aad-b0ed-4c9b-9065-fce7cbd2ea43').width('46%')"
       ],
       "metadata": {},
       "output_type": "display_data",
       "text": [
        "<IPython.core.display.Javascript at 0x15722e210>"
       ]
      },
      {
       "javascript": [
        "$('div#ff4d1aad-b0ed-4c9b-9065-fce7cbd2ea43').width('47%')"
       ],
       "metadata": {},
       "output_type": "display_data",
       "text": [
        "<IPython.core.display.Javascript at 0x15722e210>"
       ]
      },
      {
       "javascript": [
        "$('div#ff4d1aad-b0ed-4c9b-9065-fce7cbd2ea43').width('48%')"
       ],
       "metadata": {},
       "output_type": "display_data",
       "text": [
        "<IPython.core.display.Javascript at 0x118e06310>"
       ]
      },
      {
       "javascript": [
        "$('div#ff4d1aad-b0ed-4c9b-9065-fce7cbd2ea43').width('49%')"
       ],
       "metadata": {},
       "output_type": "display_data",
       "text": [
        "<IPython.core.display.Javascript at 0x118e06190>"
       ]
      },
      {
       "javascript": [
        "$('div#ff4d1aad-b0ed-4c9b-9065-fce7cbd2ea43').width('50%')"
       ],
       "metadata": {},
       "output_type": "display_data",
       "text": [
        "<IPython.core.display.Javascript at 0x118e06290>"
       ]
      },
      {
       "javascript": [
        "$('div#ff4d1aad-b0ed-4c9b-9065-fce7cbd2ea43').width('50%')"
       ],
       "metadata": {},
       "output_type": "display_data",
       "text": [
        "<IPython.core.display.Javascript at 0x118e06350>"
       ]
      },
      {
       "javascript": [
        "$('div#ff4d1aad-b0ed-4c9b-9065-fce7cbd2ea43').width('51%')"
       ],
       "metadata": {},
       "output_type": "display_data",
       "text": [
        "<IPython.core.display.Javascript at 0x118e06190>"
       ]
      },
      {
       "javascript": [
        "$('div#ff4d1aad-b0ed-4c9b-9065-fce7cbd2ea43').width('52%')"
       ],
       "metadata": {},
       "output_type": "display_data",
       "text": [
        "<IPython.core.display.Javascript at 0x118e06350>"
       ]
      },
      {
       "javascript": [
        "$('div#ff4d1aad-b0ed-4c9b-9065-fce7cbd2ea43').width('53%')"
       ],
       "metadata": {},
       "output_type": "display_data",
       "text": [
        "<IPython.core.display.Javascript at 0x118e06310>"
       ]
      },
      {
       "javascript": [
        "$('div#ff4d1aad-b0ed-4c9b-9065-fce7cbd2ea43').width('53%')"
       ],
       "metadata": {},
       "output_type": "display_data",
       "text": [
        "<IPython.core.display.Javascript at 0x118e06190>"
       ]
      },
      {
       "javascript": [
        "$('div#ff4d1aad-b0ed-4c9b-9065-fce7cbd2ea43').width('54%')"
       ],
       "metadata": {},
       "output_type": "display_data",
       "text": [
        "<IPython.core.display.Javascript at 0x118e060d0>"
       ]
      },
      {
       "javascript": [
        "$('div#ff4d1aad-b0ed-4c9b-9065-fce7cbd2ea43').width('55%')"
       ],
       "metadata": {},
       "output_type": "display_data",
       "text": [
        "<IPython.core.display.Javascript at 0x118e06190>"
       ]
      },
      {
       "javascript": [
        "$('div#ff4d1aad-b0ed-4c9b-9065-fce7cbd2ea43').width('56%')"
       ],
       "metadata": {},
       "output_type": "display_data",
       "text": [
        "<IPython.core.display.Javascript at 0x118e06190>"
       ]
      },
      {
       "javascript": [
        "$('div#ff4d1aad-b0ed-4c9b-9065-fce7cbd2ea43').width('57%')"
       ],
       "metadata": {},
       "output_type": "display_data",
       "text": [
        "<IPython.core.display.Javascript at 0x118e06190>"
       ]
      },
      {
       "javascript": [
        "$('div#ff4d1aad-b0ed-4c9b-9065-fce7cbd2ea43').width('57%')"
       ],
       "metadata": {},
       "output_type": "display_data",
       "text": [
        "<IPython.core.display.Javascript at 0x118e06190>"
       ]
      },
      {
       "javascript": [
        "$('div#ff4d1aad-b0ed-4c9b-9065-fce7cbd2ea43').width('58%')"
       ],
       "metadata": {},
       "output_type": "display_data",
       "text": [
        "<IPython.core.display.Javascript at 0x118e06190>"
       ]
      },
      {
       "javascript": [
        "$('div#ff4d1aad-b0ed-4c9b-9065-fce7cbd2ea43').width('59%')"
       ],
       "metadata": {},
       "output_type": "display_data",
       "text": [
        "<IPython.core.display.Javascript at 0x118e06190>"
       ]
      },
      {
       "javascript": [
        "$('div#ff4d1aad-b0ed-4c9b-9065-fce7cbd2ea43').width('60%')"
       ],
       "metadata": {},
       "output_type": "display_data",
       "text": [
        "<IPython.core.display.Javascript at 0x118e06190>"
       ]
      },
      {
       "javascript": [
        "$('div#ff4d1aad-b0ed-4c9b-9065-fce7cbd2ea43').width('60%')"
       ],
       "metadata": {},
       "output_type": "display_data",
       "text": [
        "<IPython.core.display.Javascript at 0x118e06190>"
       ]
      },
      {
       "javascript": [
        "$('div#ff4d1aad-b0ed-4c9b-9065-fce7cbd2ea43').width('61%')"
       ],
       "metadata": {},
       "output_type": "display_data",
       "text": [
        "<IPython.core.display.Javascript at 0x118e06190>"
       ]
      },
      {
       "javascript": [
        "$('div#ff4d1aad-b0ed-4c9b-9065-fce7cbd2ea43').width('62%')"
       ],
       "metadata": {},
       "output_type": "display_data",
       "text": [
        "<IPython.core.display.Javascript at 0x118e06190>"
       ]
      },
      {
       "javascript": [
        "$('div#ff4d1aad-b0ed-4c9b-9065-fce7cbd2ea43').width('63%')"
       ],
       "metadata": {},
       "output_type": "display_data",
       "text": [
        "<IPython.core.display.Javascript at 0x118e06190>"
       ]
      },
      {
       "javascript": [
        "$('div#ff4d1aad-b0ed-4c9b-9065-fce7cbd2ea43').width('64%')"
       ],
       "metadata": {},
       "output_type": "display_data",
       "text": [
        "<IPython.core.display.Javascript at 0x118e06190>"
       ]
      },
      {
       "javascript": [
        "$('div#ff4d1aad-b0ed-4c9b-9065-fce7cbd2ea43').width('64%')"
       ],
       "metadata": {},
       "output_type": "display_data",
       "text": [
        "<IPython.core.display.Javascript at 0x118e06190>"
       ]
      },
      {
       "javascript": [
        "$('div#ff4d1aad-b0ed-4c9b-9065-fce7cbd2ea43').width('65%')"
       ],
       "metadata": {},
       "output_type": "display_data",
       "text": [
        "<IPython.core.display.Javascript at 0x118e06190>"
       ]
      },
      {
       "javascript": [
        "$('div#ff4d1aad-b0ed-4c9b-9065-fce7cbd2ea43').width('66%')"
       ],
       "metadata": {},
       "output_type": "display_data",
       "text": [
        "<IPython.core.display.Javascript at 0x118e06190>"
       ]
      },
      {
       "javascript": [
        "$('div#ff4d1aad-b0ed-4c9b-9065-fce7cbd2ea43').width('67%')"
       ],
       "metadata": {},
       "output_type": "display_data",
       "text": [
        "<IPython.core.display.Javascript at 0x118e06190>"
       ]
      },
      {
       "javascript": [
        "$('div#ff4d1aad-b0ed-4c9b-9065-fce7cbd2ea43').width('67%')"
       ],
       "metadata": {},
       "output_type": "display_data",
       "text": [
        "<IPython.core.display.Javascript at 0x118e06190>"
       ]
      },
      {
       "javascript": [
        "$('div#ff4d1aad-b0ed-4c9b-9065-fce7cbd2ea43').width('68%')"
       ],
       "metadata": {},
       "output_type": "display_data",
       "text": [
        "<IPython.core.display.Javascript at 0x118e06190>"
       ]
      },
      {
       "javascript": [
        "$('div#ff4d1aad-b0ed-4c9b-9065-fce7cbd2ea43').width('69%')"
       ],
       "metadata": {},
       "output_type": "display_data",
       "text": [
        "<IPython.core.display.Javascript at 0x118e06190>"
       ]
      },
      {
       "javascript": [
        "$('div#ff4d1aad-b0ed-4c9b-9065-fce7cbd2ea43').width('70%')"
       ],
       "metadata": {},
       "output_type": "display_data",
       "text": [
        "<IPython.core.display.Javascript at 0x118e06190>"
       ]
      },
      {
       "javascript": [
        "$('div#ff4d1aad-b0ed-4c9b-9065-fce7cbd2ea43').width('71%')"
       ],
       "metadata": {},
       "output_type": "display_data",
       "text": [
        "<IPython.core.display.Javascript at 0x118e06190>"
       ]
      },
      {
       "javascript": [
        "$('div#ff4d1aad-b0ed-4c9b-9065-fce7cbd2ea43').width('71%')"
       ],
       "metadata": {},
       "output_type": "display_data",
       "text": [
        "<IPython.core.display.Javascript at 0x118e06190>"
       ]
      },
      {
       "javascript": [
        "$('div#ff4d1aad-b0ed-4c9b-9065-fce7cbd2ea43').width('72%')"
       ],
       "metadata": {},
       "output_type": "display_data",
       "text": [
        "<IPython.core.display.Javascript at 0x118e06190>"
       ]
      },
      {
       "javascript": [
        "$('div#ff4d1aad-b0ed-4c9b-9065-fce7cbd2ea43').width('73%')"
       ],
       "metadata": {},
       "output_type": "display_data",
       "text": [
        "<IPython.core.display.Javascript at 0x118e06190>"
       ]
      },
      {
       "javascript": [
        "$('div#ff4d1aad-b0ed-4c9b-9065-fce7cbd2ea43').width('74%')"
       ],
       "metadata": {},
       "output_type": "display_data",
       "text": [
        "<IPython.core.display.Javascript at 0x118e06190>"
       ]
      },
      {
       "javascript": [
        "$('div#ff4d1aad-b0ed-4c9b-9065-fce7cbd2ea43').width('75%')"
       ],
       "metadata": {},
       "output_type": "display_data",
       "text": [
        "<IPython.core.display.Javascript at 0x118e06190>"
       ]
      },
      {
       "javascript": [
        "$('div#ff4d1aad-b0ed-4c9b-9065-fce7cbd2ea43').width('75%')"
       ],
       "metadata": {},
       "output_type": "display_data",
       "text": [
        "<IPython.core.display.Javascript at 0x118e06190>"
       ]
      },
      {
       "javascript": [
        "$('div#ff4d1aad-b0ed-4c9b-9065-fce7cbd2ea43').width('76%')"
       ],
       "metadata": {},
       "output_type": "display_data",
       "text": [
        "<IPython.core.display.Javascript at 0x118e06190>"
       ]
      },
      {
       "javascript": [
        "$('div#ff4d1aad-b0ed-4c9b-9065-fce7cbd2ea43').width('77%')"
       ],
       "metadata": {},
       "output_type": "display_data",
       "text": [
        "<IPython.core.display.Javascript at 0x118e06190>"
       ]
      },
      {
       "javascript": [
        "$('div#ff4d1aad-b0ed-4c9b-9065-fce7cbd2ea43').width('78%')"
       ],
       "metadata": {},
       "output_type": "display_data",
       "text": [
        "<IPython.core.display.Javascript at 0x118e06190>"
       ]
      },
      {
       "javascript": [
        "$('div#ff4d1aad-b0ed-4c9b-9065-fce7cbd2ea43').width('78%')"
       ],
       "metadata": {},
       "output_type": "display_data",
       "text": [
        "<IPython.core.display.Javascript at 0x118e06190>"
       ]
      },
      {
       "javascript": [
        "$('div#ff4d1aad-b0ed-4c9b-9065-fce7cbd2ea43').width('79%')"
       ],
       "metadata": {},
       "output_type": "display_data",
       "text": [
        "<IPython.core.display.Javascript at 0x118e06190>"
       ]
      },
      {
       "javascript": [
        "$('div#ff4d1aad-b0ed-4c9b-9065-fce7cbd2ea43').width('80%')"
       ],
       "metadata": {},
       "output_type": "display_data",
       "text": [
        "<IPython.core.display.Javascript at 0x118e06190>"
       ]
      },
      {
       "javascript": [
        "$('div#ff4d1aad-b0ed-4c9b-9065-fce7cbd2ea43').width('81%')"
       ],
       "metadata": {},
       "output_type": "display_data",
       "text": [
        "<IPython.core.display.Javascript at 0x118e06190>"
       ]
      },
      {
       "javascript": [
        "$('div#ff4d1aad-b0ed-4c9b-9065-fce7cbd2ea43').width('82%')"
       ],
       "metadata": {},
       "output_type": "display_data",
       "text": [
        "<IPython.core.display.Javascript at 0x118e06190>"
       ]
      },
      {
       "javascript": [
        "$('div#ff4d1aad-b0ed-4c9b-9065-fce7cbd2ea43').width('82%')"
       ],
       "metadata": {},
       "output_type": "display_data",
       "text": [
        "<IPython.core.display.Javascript at 0x118e06190>"
       ]
      },
      {
       "javascript": [
        "$('div#ff4d1aad-b0ed-4c9b-9065-fce7cbd2ea43').width('83%')"
       ],
       "metadata": {},
       "output_type": "display_data",
       "text": [
        "<IPython.core.display.Javascript at 0x118e06190>"
       ]
      },
      {
       "javascript": [
        "$('div#ff4d1aad-b0ed-4c9b-9065-fce7cbd2ea43').width('84%')"
       ],
       "metadata": {},
       "output_type": "display_data",
       "text": [
        "<IPython.core.display.Javascript at 0x118e06190>"
       ]
      },
      {
       "javascript": [
        "$('div#ff4d1aad-b0ed-4c9b-9065-fce7cbd2ea43').width('85%')"
       ],
       "metadata": {},
       "output_type": "display_data",
       "text": [
        "<IPython.core.display.Javascript at 0x118e06190>"
       ]
      },
      {
       "javascript": [
        "$('div#ff4d1aad-b0ed-4c9b-9065-fce7cbd2ea43').width('85%')"
       ],
       "metadata": {},
       "output_type": "display_data",
       "text": [
        "<IPython.core.display.Javascript at 0x118e06190>"
       ]
      },
      {
       "javascript": [
        "$('div#ff4d1aad-b0ed-4c9b-9065-fce7cbd2ea43').width('86%')"
       ],
       "metadata": {},
       "output_type": "display_data",
       "text": [
        "<IPython.core.display.Javascript at 0x118e06190>"
       ]
      },
      {
       "javascript": [
        "$('div#ff4d1aad-b0ed-4c9b-9065-fce7cbd2ea43').width('87%')"
       ],
       "metadata": {},
       "output_type": "display_data",
       "text": [
        "<IPython.core.display.Javascript at 0x118e06190>"
       ]
      },
      {
       "javascript": [
        "$('div#ff4d1aad-b0ed-4c9b-9065-fce7cbd2ea43').width('88%')"
       ],
       "metadata": {},
       "output_type": "display_data",
       "text": [
        "<IPython.core.display.Javascript at 0x118e06190>"
       ]
      },
      {
       "javascript": [
        "$('div#ff4d1aad-b0ed-4c9b-9065-fce7cbd2ea43').width('89%')"
       ],
       "metadata": {},
       "output_type": "display_data",
       "text": [
        "<IPython.core.display.Javascript at 0x118e06190>"
       ]
      },
      {
       "javascript": [
        "$('div#ff4d1aad-b0ed-4c9b-9065-fce7cbd2ea43').width('89%')"
       ],
       "metadata": {},
       "output_type": "display_data",
       "text": [
        "<IPython.core.display.Javascript at 0x118e06190>"
       ]
      },
      {
       "javascript": [
        "$('div#ff4d1aad-b0ed-4c9b-9065-fce7cbd2ea43').width('90%')"
       ],
       "metadata": {},
       "output_type": "display_data",
       "text": [
        "<IPython.core.display.Javascript at 0x118e06190>"
       ]
      },
      {
       "javascript": [
        "$('div#ff4d1aad-b0ed-4c9b-9065-fce7cbd2ea43').width('91%')"
       ],
       "metadata": {},
       "output_type": "display_data",
       "text": [
        "<IPython.core.display.Javascript at 0x118e06190>"
       ]
      },
      {
       "javascript": [
        "$('div#ff4d1aad-b0ed-4c9b-9065-fce7cbd2ea43').width('92%')"
       ],
       "metadata": {},
       "output_type": "display_data",
       "text": [
        "<IPython.core.display.Javascript at 0x118e06190>"
       ]
      },
      {
       "javascript": [
        "$('div#ff4d1aad-b0ed-4c9b-9065-fce7cbd2ea43').width('92%')"
       ],
       "metadata": {},
       "output_type": "display_data",
       "text": [
        "<IPython.core.display.Javascript at 0x118e06190>"
       ]
      },
      {
       "javascript": [
        "$('div#ff4d1aad-b0ed-4c9b-9065-fce7cbd2ea43').width('93%')"
       ],
       "metadata": {},
       "output_type": "display_data",
       "text": [
        "<IPython.core.display.Javascript at 0x118e06190>"
       ]
      },
      {
       "javascript": [
        "$('div#ff4d1aad-b0ed-4c9b-9065-fce7cbd2ea43').width('94%')"
       ],
       "metadata": {},
       "output_type": "display_data",
       "text": [
        "<IPython.core.display.Javascript at 0x118e06190>"
       ]
      },
      {
       "javascript": [
        "$('div#ff4d1aad-b0ed-4c9b-9065-fce7cbd2ea43').width('95%')"
       ],
       "metadata": {},
       "output_type": "display_data",
       "text": [
        "<IPython.core.display.Javascript at 0x118e06190>"
       ]
      },
      {
       "javascript": [
        "$('div#ff4d1aad-b0ed-4c9b-9065-fce7cbd2ea43').width('96%')"
       ],
       "metadata": {},
       "output_type": "display_data",
       "text": [
        "<IPython.core.display.Javascript at 0x118e06190>"
       ]
      },
      {
       "javascript": [
        "$('div#ff4d1aad-b0ed-4c9b-9065-fce7cbd2ea43').width('96%')"
       ],
       "metadata": {},
       "output_type": "display_data",
       "text": [
        "<IPython.core.display.Javascript at 0x118e06190>"
       ]
      },
      {
       "javascript": [
        "$('div#ff4d1aad-b0ed-4c9b-9065-fce7cbd2ea43').width('97%')"
       ],
       "metadata": {},
       "output_type": "display_data",
       "text": [
        "<IPython.core.display.Javascript at 0x118e06190>"
       ]
      },
      {
       "javascript": [
        "$('div#ff4d1aad-b0ed-4c9b-9065-fce7cbd2ea43').width('98%')"
       ],
       "metadata": {},
       "output_type": "display_data",
       "text": [
        "<IPython.core.display.Javascript at 0x118e06190>"
       ]
      },
      {
       "javascript": [
        "$('div#ff4d1aad-b0ed-4c9b-9065-fce7cbd2ea43').width('99%')"
       ],
       "metadata": {},
       "output_type": "display_data",
       "text": [
        "<IPython.core.display.Javascript at 0x118e06190>"
       ]
      },
      {
       "javascript": [
        "$('div#ff4d1aad-b0ed-4c9b-9065-fce7cbd2ea43').width('100%')"
       ],
       "metadata": {},
       "output_type": "display_data",
       "text": [
        "<IPython.core.display.Javascript at 0x118e06190>"
       ]
      },
      {
       "html": [
        "<iframe src=http://127.0.0.1:8001/5267105 width=100%% height=420 frameborder=0></iframe>"
       ],
       "metadata": {},
       "output_type": "pyout",
       "prompt_number": 67,
       "text": [
        "<occiput.Core.RigidVolume at 0x10f0e9290>"
       ]
      }
     ],
     "prompt_number": 67
    },
    {
     "cell_type": "code",
     "collapsed": false,
     "input": [
      "M = SCAN.static._measurement_data\n",
      "SCAN.static.set_measurement_data(proj)\n",
      "A = SCAN.static.estimate_activity(iterations=20,subset_size=32)"
     ],
     "language": "python",
     "metadata": {},
     "outputs": [
      {
       "html": [
        "\n",
        "        <div style=\"border: 1px solid white; width:100%%; height:6px; background-color:rgb(200,228,246)\">\n",
        "            <div id=\"0c5252be-e939-4e43-a1f3-87ad406c1f09\" style=\"background-color:rgb(47,128,246); width:0%; height:6px\"> </div>\n",
        "        </div> \n",
        "        "
       ],
       "metadata": {},
       "output_type": "display_data",
       "text": [
        "<IPython.core.display.HTML at 0x17abdfc50>"
       ]
      },
      {
       "javascript": [
        "$('div#0c5252be-e939-4e43-a1f3-87ad406c1f09').width('1%')"
       ],
       "metadata": {},
       "output_type": "display_data",
       "text": [
        "<IPython.core.display.Javascript at 0x17abdf590>"
       ]
      },
      {
       "javascript": [
        "$('div#0c5252be-e939-4e43-a1f3-87ad406c1f09').width('5%')"
       ],
       "metadata": {},
       "output_type": "display_data",
       "text": [
        "<IPython.core.display.Javascript at 0x17abdf310>"
       ]
      },
      {
       "output_type": "stream",
       "stream": "stdout",
       "text": [
        "Iteration: 0    max act: 2.554204    min act: 0.000000    max proj: 0.570312    min proj: 0.000000    max norm: 30.796875    min norm: 0.000000\n"
       ]
      },
      {
       "javascript": [
        "$('div#0c5252be-e939-4e43-a1f3-87ad406c1f09').width('10%')"
       ],
       "metadata": {},
       "output_type": "display_data",
       "text": [
        "<IPython.core.display.Javascript at 0x17abdf410>"
       ]
      },
      {
       "output_type": "stream",
       "stream": "stdout",
       "text": [
        "Iteration: 1    max act: 6.130528    min act: 0.000000    max proj: 0.484192    min proj: 0.000000    max norm: 31.636719    min norm: 0.000000\n"
       ]
      },
      {
       "javascript": [
        "$('div#0c5252be-e939-4e43-a1f3-87ad406c1f09').width('15%')"
       ],
       "metadata": {},
       "output_type": "display_data",
       "text": [
        "<IPython.core.display.Javascript at 0x10f0e9250>"
       ]
      },
      {
       "output_type": "stream",
       "stream": "stdout",
       "text": [
        "Iteration: 2    max act: 8.950832    min act: 0.000000    max proj: 0.706532    min proj: 0.000000    max norm: 30.753906    min norm: 0.000000\n"
       ]
      },
      {
       "javascript": [
        "$('div#0c5252be-e939-4e43-a1f3-87ad406c1f09').width('20%')"
       ],
       "metadata": {},
       "output_type": "display_data",
       "text": [
        "<IPython.core.display.Javascript at 0x17abdf410>"
       ]
      },
      {
       "output_type": "stream",
       "stream": "stdout",
       "text": [
        "Iteration: 3    max act: 10.341131    min act: 0.000000    max proj: 0.880455    min proj: 0.000000    max norm: 31.804688    min norm: 0.000000\n"
       ]
      },
      {
       "javascript": [
        "$('div#0c5252be-e939-4e43-a1f3-87ad406c1f09').width('25%')"
       ],
       "metadata": {},
       "output_type": "display_data",
       "text": [
        "<IPython.core.display.Javascript at 0x17abdfa10>"
       ]
      },
      {
       "output_type": "stream",
       "stream": "stdout",
       "text": [
        "Iteration: 4    max act: 69.451241    min act: 0.000000    max proj: 1.075356    min proj: 0.000000    max norm: 31.328125    min norm: 0.000000\n"
       ]
      },
      {
       "javascript": [
        "$('div#0c5252be-e939-4e43-a1f3-87ad406c1f09').width('30%')"
       ],
       "metadata": {},
       "output_type": "display_data",
       "text": [
        "<IPython.core.display.Javascript at 0x10f0e9250>"
       ]
      },
      {
       "output_type": "stream",
       "stream": "stdout",
       "text": [
        "Iteration: 5    max act: 86.526428    min act: 0.000000    max proj: 1.175864    min proj: 0.000000    max norm: 31.097656    min norm: 0.000000\n"
       ]
      },
      {
       "javascript": [
        "$('div#0c5252be-e939-4e43-a1f3-87ad406c1f09').width('35%')"
       ],
       "metadata": {},
       "output_type": "display_data",
       "text": [
        "<IPython.core.display.Javascript at 0x17abdfa10>"
       ]
      },
      {
       "output_type": "stream",
       "stream": "stdout",
       "text": [
        "Iteration: 6    max act: 33.477497    min act: 0.000000    max proj: 1.115158    min proj: 0.000000    max norm: 30.914062    min norm: 0.000000\n"
       ]
      },
      {
       "javascript": [
        "$('div#0c5252be-e939-4e43-a1f3-87ad406c1f09').width('40%')"
       ],
       "metadata": {},
       "output_type": "display_data",
       "text": [
        "<IPython.core.display.Javascript at 0x17abdf290>"
       ]
      },
      {
       "output_type": "stream",
       "stream": "stdout",
       "text": [
        "Iteration: 7    max act: 26.963188    min act: 0.000000    max proj: 1.205241    min proj: 0.000000    max norm: 30.800781    min norm: 0.000000\n"
       ]
      },
      {
       "javascript": [
        "$('div#0c5252be-e939-4e43-a1f3-87ad406c1f09').width('45%')"
       ],
       "metadata": {},
       "output_type": "display_data",
       "text": [
        "<IPython.core.display.Javascript at 0x10f0e9250>"
       ]
      },
      {
       "output_type": "stream",
       "stream": "stdout",
       "text": [
        "Iteration: 8    max act: 24.143230    min act: 0.000000    max proj: 1.254223    min proj: 0.000000    max norm: 31.203125    min norm: 0.000000\n"
       ]
      },
      {
       "javascript": [
        "$('div#0c5252be-e939-4e43-a1f3-87ad406c1f09').width('50%')"
       ],
       "metadata": {},
       "output_type": "display_data",
       "text": [
        "<IPython.core.display.Javascript at 0x17abdf290>"
       ]
      },
      {
       "output_type": "stream",
       "stream": "stdout",
       "text": [
        "Iteration: 9    max act: 24.898640    min act: 0.000000    max proj: 1.246310    min proj: 0.000000    max norm: 30.882812    min norm: 0.000000\n"
       ]
      },
      {
       "javascript": [
        "$('div#0c5252be-e939-4e43-a1f3-87ad406c1f09').width('55%')"
       ],
       "metadata": {},
       "output_type": "display_data",
       "text": [
        "<IPython.core.display.Javascript at 0x17abdf310>"
       ]
      },
      {
       "output_type": "stream",
       "stream": "stdout",
       "text": [
        "Iteration: 10    max act: 24.176634    min act: 0.000000    max proj: 1.164023    min proj: 0.000000    max norm: 31.503906    min norm: 0.000000\n"
       ]
      },
      {
       "javascript": [
        "$('div#0c5252be-e939-4e43-a1f3-87ad406c1f09').width('60%')"
       ],
       "metadata": {},
       "output_type": "display_data",
       "text": [
        "<IPython.core.display.Javascript at 0x10f0e9250>"
       ]
      },
      {
       "output_type": "stream",
       "stream": "stdout",
       "text": [
        "Iteration: 11    max act: 132.434296    min act: 0.000000    max proj: 1.257155    min proj: 0.000000    max norm: 31.757812    min norm: 0.000000\n"
       ]
      },
      {
       "javascript": [
        "$('div#0c5252be-e939-4e43-a1f3-87ad406c1f09').width('65%')"
       ],
       "metadata": {},
       "output_type": "display_data",
       "text": [
        "<IPython.core.display.Javascript at 0x17abdf310>"
       ]
      },
      {
       "output_type": "stream",
       "stream": "stdout",
       "text": [
        "Iteration: 12    max act: 912.910339    min act: 0.000000    max proj: 1.677226    min proj: 0.000000    max norm: 31.777344    min norm: 0.000000\n"
       ]
      },
      {
       "javascript": [
        "$('div#0c5252be-e939-4e43-a1f3-87ad406c1f09').width('70%')"
       ],
       "metadata": {},
       "output_type": "display_data",
       "text": [
        "<IPython.core.display.Javascript at 0x17abdf410>"
       ]
      },
      {
       "output_type": "stream",
       "stream": "stdout",
       "text": [
        "Iteration: 13    max act: 611.859985    min act: 0.000000    max proj: 4.237823    min proj: 0.000000    max norm: 31.609375    min norm: 0.000000\n"
       ]
      },
      {
       "javascript": [
        "$('div#0c5252be-e939-4e43-a1f3-87ad406c1f09').width('75%')"
       ],
       "metadata": {},
       "output_type": "display_data",
       "text": [
        "<IPython.core.display.Javascript at 0x10f0e9250>"
       ]
      },
      {
       "output_type": "stream",
       "stream": "stdout",
       "text": [
        "Iteration: 14    max act: 372.791931    min act: 0.000000    max proj: 1.614789    min proj: 0.000000    max norm: 31.746094    min norm: 0.000000\n"
       ]
      },
      {
       "javascript": [
        "$('div#0c5252be-e939-4e43-a1f3-87ad406c1f09').width('80%')"
       ],
       "metadata": {},
       "output_type": "display_data",
       "text": [
        "<IPython.core.display.Javascript at 0x17abdf410>"
       ]
      },
      {
       "output_type": "stream",
       "stream": "stdout",
       "text": [
        "Iteration: 15    max act: 12325.482422    min act: 0.000000    max proj: 1.214439    min proj: 0.000000    max norm: 31.546875    min norm: 0.000000\n"
       ]
      },
      {
       "javascript": [
        "$('div#0c5252be-e939-4e43-a1f3-87ad406c1f09').width('85%')"
       ],
       "metadata": {},
       "output_type": "display_data",
       "text": [
        "<IPython.core.display.Javascript at 0x17abdfa10>"
       ]
      },
      {
       "output_type": "stream",
       "stream": "stdout",
       "text": [
        "Iteration: 16    max act: 7983.379883    min act: 0.000000    max proj: 19.187532    min proj: 0.000000    max norm: 31.613281    min norm: 0.000000\n"
       ]
      },
      {
       "javascript": [
        "$('div#0c5252be-e939-4e43-a1f3-87ad406c1f09').width('90%')"
       ],
       "metadata": {},
       "output_type": "display_data",
       "text": [
        "<IPython.core.display.Javascript at 0x10f0e9250>"
       ]
      },
      {
       "output_type": "stream",
       "stream": "stdout",
       "text": [
        "Iteration: 17    max act: 4174.948730    min act: 0.000000    max proj: 13.155218    min proj: 0.000000    max norm: 32.000000    min norm: 0.000000\n"
       ]
      },
      {
       "javascript": [
        "$('div#0c5252be-e939-4e43-a1f3-87ad406c1f09').width('95%')"
       ],
       "metadata": {},
       "output_type": "display_data",
       "text": [
        "<IPython.core.display.Javascript at 0x17abdfa10>"
       ]
      },
      {
       "output_type": "stream",
       "stream": "stdout",
       "text": [
        "Iteration: 18    max act: 211259.328125    min act: 0.000000    max proj: 2.337691    min proj: 0.000000    max norm: 30.972656    min norm: 0.000000\n"
       ]
      },
      {
       "javascript": [
        "$('div#0c5252be-e939-4e43-a1f3-87ad406c1f09').width('100%')"
       ],
       "metadata": {},
       "output_type": "display_data",
       "text": [
        "<IPython.core.display.Javascript at 0x17abdf290>"
       ]
      },
      {
       "output_type": "stream",
       "stream": "stdout",
       "text": [
        "Iteration: 19    max act: 98739.898438    min act: 0.000000    max proj: 45.833305    min proj: 0.000000    max norm: 31.902344    min norm: 0.000000\n"
       ]
      },
      {
       "javascript": [
        "$('div#0c5252be-e939-4e43-a1f3-87ad406c1f09').width('100%')"
       ],
       "metadata": {},
       "output_type": "display_data",
       "text": [
        "<IPython.core.display.Javascript at 0x17abdf590>"
       ]
      }
     ],
     "prompt_number": 75
    },
    {
     "cell_type": "code",
     "collapsed": false,
     "input": [
      "SCAN.static.volume_render(A,scale=1)"
     ],
     "language": "python",
     "metadata": {},
     "outputs": [
      {
       "html": [
        "\n",
        "        <div style=\"border: 1px solid white; width:100%%; height:6px; background-color:rgb(246,246,246)\">\n",
        "            <div id=\"8d916354-8372-467e-91a0-1f990be7cd02\" style=\"background-color:rgb(200,200,200); width:0%; height:6px\"> </div>\n",
        "        </div> \n",
        "        "
       ],
       "metadata": {},
       "output_type": "display_data",
       "text": [
        "<IPython.core.display.HTML at 0x17f19c150>"
       ]
      },
      {
       "javascript": [
        "$('div#8d916354-8372-467e-91a0-1f990be7cd02').width('1%')"
       ],
       "metadata": {},
       "output_type": "display_data",
       "text": [
        "<IPython.core.display.Javascript at 0x17f19c390>"
       ]
      },
      {
       "javascript": [
        "$('div#8d916354-8372-467e-91a0-1f990be7cd02').width('1%')"
       ],
       "metadata": {},
       "output_type": "display_data",
       "text": [
        "<IPython.core.display.Javascript at 0x17f19c390>"
       ]
      },
      {
       "javascript": [
        "$('div#8d916354-8372-467e-91a0-1f990be7cd02').width('1%')"
       ],
       "metadata": {},
       "output_type": "display_data",
       "text": [
        "<IPython.core.display.Javascript at 0x17f19c390>"
       ]
      },
      {
       "javascript": [
        "$('div#8d916354-8372-467e-91a0-1f990be7cd02').width('1%')"
       ],
       "metadata": {},
       "output_type": "display_data",
       "text": [
        "<IPython.core.display.Javascript at 0x17f19c390>"
       ]
      },
      {
       "javascript": [
        "$('div#8d916354-8372-467e-91a0-1f990be7cd02').width('2%')"
       ],
       "metadata": {},
       "output_type": "display_data",
       "text": [
        "<IPython.core.display.Javascript at 0x17f19c390>"
       ]
      },
      {
       "javascript": [
        "$('div#8d916354-8372-467e-91a0-1f990be7cd02').width('2%')"
       ],
       "metadata": {},
       "output_type": "display_data",
       "text": [
        "<IPython.core.display.Javascript at 0x17f19c390>"
       ]
      },
      {
       "javascript": [
        "$('div#8d916354-8372-467e-91a0-1f990be7cd02').width('3%')"
       ],
       "metadata": {},
       "output_type": "display_data",
       "text": [
        "<IPython.core.display.Javascript at 0x17f19c390>"
       ]
      },
      {
       "javascript": [
        "$('div#8d916354-8372-467e-91a0-1f990be7cd02').width('3%')"
       ],
       "metadata": {},
       "output_type": "display_data",
       "text": [
        "<IPython.core.display.Javascript at 0x17f19c390>"
       ]
      },
      {
       "javascript": [
        "$('div#8d916354-8372-467e-91a0-1f990be7cd02').width('4%')"
       ],
       "metadata": {},
       "output_type": "display_data",
       "text": [
        "<IPython.core.display.Javascript at 0x17f19c390>"
       ]
      },
      {
       "javascript": [
        "$('div#8d916354-8372-467e-91a0-1f990be7cd02').width('5%')"
       ],
       "metadata": {},
       "output_type": "display_data",
       "text": [
        "<IPython.core.display.Javascript at 0x17f19c390>"
       ]
      },
      {
       "javascript": [
        "$('div#8d916354-8372-467e-91a0-1f990be7cd02').width('5%')"
       ],
       "metadata": {},
       "output_type": "display_data",
       "text": [
        "<IPython.core.display.Javascript at 0x17f19c390>"
       ]
      },
      {
       "javascript": [
        "$('div#8d916354-8372-467e-91a0-1f990be7cd02').width('6%')"
       ],
       "metadata": {},
       "output_type": "display_data",
       "text": [
        "<IPython.core.display.Javascript at 0x17f19c390>"
       ]
      },
      {
       "javascript": [
        "$('div#8d916354-8372-467e-91a0-1f990be7cd02').width('6%')"
       ],
       "metadata": {},
       "output_type": "display_data",
       "text": [
        "<IPython.core.display.Javascript at 0x17f19c390>"
       ]
      },
      {
       "javascript": [
        "$('div#8d916354-8372-467e-91a0-1f990be7cd02').width('7%')"
       ],
       "metadata": {},
       "output_type": "display_data",
       "text": [
        "<IPython.core.display.Javascript at 0x17f19c390>"
       ]
      },
      {
       "javascript": [
        "$('div#8d916354-8372-467e-91a0-1f990be7cd02').width('7%')"
       ],
       "metadata": {},
       "output_type": "display_data",
       "text": [
        "<IPython.core.display.Javascript at 0x17f19c390>"
       ]
      },
      {
       "javascript": [
        "$('div#8d916354-8372-467e-91a0-1f990be7cd02').width('8%')"
       ],
       "metadata": {},
       "output_type": "display_data",
       "text": [
        "<IPython.core.display.Javascript at 0x17f19c390>"
       ]
      },
      {
       "javascript": [
        "$('div#8d916354-8372-467e-91a0-1f990be7cd02').width('8%')"
       ],
       "metadata": {},
       "output_type": "display_data",
       "text": [
        "<IPython.core.display.Javascript at 0x17f19c390>"
       ]
      },
      {
       "javascript": [
        "$('div#8d916354-8372-467e-91a0-1f990be7cd02').width('9%')"
       ],
       "metadata": {},
       "output_type": "display_data",
       "text": [
        "<IPython.core.display.Javascript at 0x17f19c390>"
       ]
      },
      {
       "javascript": [
        "$('div#8d916354-8372-467e-91a0-1f990be7cd02').width('10%')"
       ],
       "metadata": {},
       "output_type": "display_data",
       "text": [
        "<IPython.core.display.Javascript at 0x17f19c390>"
       ]
      },
      {
       "javascript": [
        "$('div#8d916354-8372-467e-91a0-1f990be7cd02').width('10%')"
       ],
       "metadata": {},
       "output_type": "display_data",
       "text": [
        "<IPython.core.display.Javascript at 0x17f19c390>"
       ]
      },
      {
       "javascript": [
        "$('div#8d916354-8372-467e-91a0-1f990be7cd02').width('11%')"
       ],
       "metadata": {},
       "output_type": "display_data",
       "text": [
        "<IPython.core.display.Javascript at 0x17f19c390>"
       ]
      },
      {
       "javascript": [
        "$('div#8d916354-8372-467e-91a0-1f990be7cd02').width('11%')"
       ],
       "metadata": {},
       "output_type": "display_data",
       "text": [
        "<IPython.core.display.Javascript at 0x17f19c390>"
       ]
      },
      {
       "javascript": [
        "$('div#8d916354-8372-467e-91a0-1f990be7cd02').width('12%')"
       ],
       "metadata": {},
       "output_type": "display_data",
       "text": [
        "<IPython.core.display.Javascript at 0x17f19c390>"
       ]
      },
      {
       "javascript": [
        "$('div#8d916354-8372-467e-91a0-1f990be7cd02').width('12%')"
       ],
       "metadata": {},
       "output_type": "display_data",
       "text": [
        "<IPython.core.display.Javascript at 0x17f19c390>"
       ]
      },
      {
       "javascript": [
        "$('div#8d916354-8372-467e-91a0-1f990be7cd02').width('13%')"
       ],
       "metadata": {},
       "output_type": "display_data",
       "text": [
        "<IPython.core.display.Javascript at 0x17f19c390>"
       ]
      },
      {
       "javascript": [
        "$('div#8d916354-8372-467e-91a0-1f990be7cd02').width('13%')"
       ],
       "metadata": {},
       "output_type": "display_data",
       "text": [
        "<IPython.core.display.Javascript at 0x17f19c390>"
       ]
      },
      {
       "javascript": [
        "$('div#8d916354-8372-467e-91a0-1f990be7cd02').width('14%')"
       ],
       "metadata": {},
       "output_type": "display_data",
       "text": [
        "<IPython.core.display.Javascript at 0x17f19c390>"
       ]
      },
      {
       "javascript": [
        "$('div#8d916354-8372-467e-91a0-1f990be7cd02').width('15%')"
       ],
       "metadata": {},
       "output_type": "display_data",
       "text": [
        "<IPython.core.display.Javascript at 0x17f19c390>"
       ]
      },
      {
       "javascript": [
        "$('div#8d916354-8372-467e-91a0-1f990be7cd02').width('15%')"
       ],
       "metadata": {},
       "output_type": "display_data",
       "text": [
        "<IPython.core.display.Javascript at 0x17f19c390>"
       ]
      },
      {
       "javascript": [
        "$('div#8d916354-8372-467e-91a0-1f990be7cd02').width('16%')"
       ],
       "metadata": {},
       "output_type": "display_data",
       "text": [
        "<IPython.core.display.Javascript at 0x17f19c390>"
       ]
      },
      {
       "javascript": [
        "$('div#8d916354-8372-467e-91a0-1f990be7cd02').width('16%')"
       ],
       "metadata": {},
       "output_type": "display_data",
       "text": [
        "<IPython.core.display.Javascript at 0x17f19c390>"
       ]
      },
      {
       "javascript": [
        "$('div#8d916354-8372-467e-91a0-1f990be7cd02').width('17%')"
       ],
       "metadata": {},
       "output_type": "display_data",
       "text": [
        "<IPython.core.display.Javascript at 0x17f19c390>"
       ]
      },
      {
       "javascript": [
        "$('div#8d916354-8372-467e-91a0-1f990be7cd02').width('17%')"
       ],
       "metadata": {},
       "output_type": "display_data",
       "text": [
        "<IPython.core.display.Javascript at 0x17f19c390>"
       ]
      },
      {
       "javascript": [
        "$('div#8d916354-8372-467e-91a0-1f990be7cd02').width('18%')"
       ],
       "metadata": {},
       "output_type": "display_data",
       "text": [
        "<IPython.core.display.Javascript at 0x17f19c390>"
       ]
      },
      {
       "javascript": [
        "$('div#8d916354-8372-467e-91a0-1f990be7cd02').width('18%')"
       ],
       "metadata": {},
       "output_type": "display_data",
       "text": [
        "<IPython.core.display.Javascript at 0x17f19c390>"
       ]
      },
      {
       "javascript": [
        "$('div#8d916354-8372-467e-91a0-1f990be7cd02').width('19%')"
       ],
       "metadata": {},
       "output_type": "display_data",
       "text": [
        "<IPython.core.display.Javascript at 0x17f19c390>"
       ]
      },
      {
       "javascript": [
        "$('div#8d916354-8372-467e-91a0-1f990be7cd02').width('20%')"
       ],
       "metadata": {},
       "output_type": "display_data",
       "text": [
        "<IPython.core.display.Javascript at 0x17f19c390>"
       ]
      },
      {
       "javascript": [
        "$('div#8d916354-8372-467e-91a0-1f990be7cd02').width('20%')"
       ],
       "metadata": {},
       "output_type": "display_data",
       "text": [
        "<IPython.core.display.Javascript at 0x17f19c390>"
       ]
      },
      {
       "javascript": [
        "$('div#8d916354-8372-467e-91a0-1f990be7cd02').width('21%')"
       ],
       "metadata": {},
       "output_type": "display_data",
       "text": [
        "<IPython.core.display.Javascript at 0x17f19c390>"
       ]
      },
      {
       "javascript": [
        "$('div#8d916354-8372-467e-91a0-1f990be7cd02').width('21%')"
       ],
       "metadata": {},
       "output_type": "display_data",
       "text": [
        "<IPython.core.display.Javascript at 0x17f19c390>"
       ]
      },
      {
       "javascript": [
        "$('div#8d916354-8372-467e-91a0-1f990be7cd02').width('22%')"
       ],
       "metadata": {},
       "output_type": "display_data",
       "text": [
        "<IPython.core.display.Javascript at 0x17f19c390>"
       ]
      },
      {
       "javascript": [
        "$('div#8d916354-8372-467e-91a0-1f990be7cd02').width('22%')"
       ],
       "metadata": {},
       "output_type": "display_data",
       "text": [
        "<IPython.core.display.Javascript at 0x17f19c390>"
       ]
      },
      {
       "javascript": [
        "$('div#8d916354-8372-467e-91a0-1f990be7cd02').width('23%')"
       ],
       "metadata": {},
       "output_type": "display_data",
       "text": [
        "<IPython.core.display.Javascript at 0x17f19c390>"
       ]
      },
      {
       "javascript": [
        "$('div#8d916354-8372-467e-91a0-1f990be7cd02').width('23%')"
       ],
       "metadata": {},
       "output_type": "display_data",
       "text": [
        "<IPython.core.display.Javascript at 0x17f19c390>"
       ]
      },
      {
       "javascript": [
        "$('div#8d916354-8372-467e-91a0-1f990be7cd02').width('24%')"
       ],
       "metadata": {},
       "output_type": "display_data",
       "text": [
        "<IPython.core.display.Javascript at 0x17f19c390>"
       ]
      },
      {
       "javascript": [
        "$('div#8d916354-8372-467e-91a0-1f990be7cd02').width('25%')"
       ],
       "metadata": {},
       "output_type": "display_data",
       "text": [
        "<IPython.core.display.Javascript at 0x17f19c390>"
       ]
      },
      {
       "javascript": [
        "$('div#8d916354-8372-467e-91a0-1f990be7cd02').width('25%')"
       ],
       "metadata": {},
       "output_type": "display_data",
       "text": [
        "<IPython.core.display.Javascript at 0x17f19c390>"
       ]
      },
      {
       "javascript": [
        "$('div#8d916354-8372-467e-91a0-1f990be7cd02').width('26%')"
       ],
       "metadata": {},
       "output_type": "display_data",
       "text": [
        "<IPython.core.display.Javascript at 0x17f19c390>"
       ]
      },
      {
       "javascript": [
        "$('div#8d916354-8372-467e-91a0-1f990be7cd02').width('26%')"
       ],
       "metadata": {},
       "output_type": "display_data",
       "text": [
        "<IPython.core.display.Javascript at 0x17f19c390>"
       ]
      },
      {
       "javascript": [
        "$('div#8d916354-8372-467e-91a0-1f990be7cd02').width('27%')"
       ],
       "metadata": {},
       "output_type": "display_data",
       "text": [
        "<IPython.core.display.Javascript at 0x17f19c390>"
       ]
      },
      {
       "javascript": [
        "$('div#8d916354-8372-467e-91a0-1f990be7cd02').width('27%')"
       ],
       "metadata": {},
       "output_type": "display_data",
       "text": [
        "<IPython.core.display.Javascript at 0x17f19c390>"
       ]
      },
      {
       "javascript": [
        "$('div#8d916354-8372-467e-91a0-1f990be7cd02').width('28%')"
       ],
       "metadata": {},
       "output_type": "display_data",
       "text": [
        "<IPython.core.display.Javascript at 0x17f19c390>"
       ]
      },
      {
       "javascript": [
        "$('div#8d916354-8372-467e-91a0-1f990be7cd02').width('28%')"
       ],
       "metadata": {},
       "output_type": "display_data",
       "text": [
        "<IPython.core.display.Javascript at 0x17f19c390>"
       ]
      },
      {
       "javascript": [
        "$('div#8d916354-8372-467e-91a0-1f990be7cd02').width('29%')"
       ],
       "metadata": {},
       "output_type": "display_data",
       "text": [
        "<IPython.core.display.Javascript at 0x17f19c390>"
       ]
      },
      {
       "javascript": [
        "$('div#8d916354-8372-467e-91a0-1f990be7cd02').width('30%')"
       ],
       "metadata": {},
       "output_type": "display_data",
       "text": [
        "<IPython.core.display.Javascript at 0x17f19c390>"
       ]
      },
      {
       "javascript": [
        "$('div#8d916354-8372-467e-91a0-1f990be7cd02').width('30%')"
       ],
       "metadata": {},
       "output_type": "display_data",
       "text": [
        "<IPython.core.display.Javascript at 0x17f19c390>"
       ]
      },
      {
       "javascript": [
        "$('div#8d916354-8372-467e-91a0-1f990be7cd02').width('31%')"
       ],
       "metadata": {},
       "output_type": "display_data",
       "text": [
        "<IPython.core.display.Javascript at 0x17f19c390>"
       ]
      },
      {
       "javascript": [
        "$('div#8d916354-8372-467e-91a0-1f990be7cd02').width('31%')"
       ],
       "metadata": {},
       "output_type": "display_data",
       "text": [
        "<IPython.core.display.Javascript at 0x17f19c390>"
       ]
      },
      {
       "javascript": [
        "$('div#8d916354-8372-467e-91a0-1f990be7cd02').width('32%')"
       ],
       "metadata": {},
       "output_type": "display_data",
       "text": [
        "<IPython.core.display.Javascript at 0x17f19c390>"
       ]
      },
      {
       "javascript": [
        "$('div#8d916354-8372-467e-91a0-1f990be7cd02').width('32%')"
       ],
       "metadata": {},
       "output_type": "display_data",
       "text": [
        "<IPython.core.display.Javascript at 0x17f19c390>"
       ]
      },
      {
       "javascript": [
        "$('div#8d916354-8372-467e-91a0-1f990be7cd02').width('33%')"
       ],
       "metadata": {},
       "output_type": "display_data",
       "text": [
        "<IPython.core.display.Javascript at 0x17f19c390>"
       ]
      },
      {
       "javascript": [
        "$('div#8d916354-8372-467e-91a0-1f990be7cd02').width('33%')"
       ],
       "metadata": {},
       "output_type": "display_data",
       "text": [
        "<IPython.core.display.Javascript at 0x17f19c390>"
       ]
      },
      {
       "javascript": [
        "$('div#8d916354-8372-467e-91a0-1f990be7cd02').width('34%')"
       ],
       "metadata": {},
       "output_type": "display_data",
       "text": [
        "<IPython.core.display.Javascript at 0x17f19c390>"
       ]
      },
      {
       "javascript": [
        "$('div#8d916354-8372-467e-91a0-1f990be7cd02').width('35%')"
       ],
       "metadata": {},
       "output_type": "display_data",
       "text": [
        "<IPython.core.display.Javascript at 0x17f19c390>"
       ]
      },
      {
       "javascript": [
        "$('div#8d916354-8372-467e-91a0-1f990be7cd02').width('35%')"
       ],
       "metadata": {},
       "output_type": "display_data",
       "text": [
        "<IPython.core.display.Javascript at 0x17f19c390>"
       ]
      },
      {
       "javascript": [
        "$('div#8d916354-8372-467e-91a0-1f990be7cd02').width('36%')"
       ],
       "metadata": {},
       "output_type": "display_data",
       "text": [
        "<IPython.core.display.Javascript at 0x17f19c390>"
       ]
      },
      {
       "javascript": [
        "$('div#8d916354-8372-467e-91a0-1f990be7cd02').width('36%')"
       ],
       "metadata": {},
       "output_type": "display_data",
       "text": [
        "<IPython.core.display.Javascript at 0x17f19c390>"
       ]
      },
      {
       "javascript": [
        "$('div#8d916354-8372-467e-91a0-1f990be7cd02').width('37%')"
       ],
       "metadata": {},
       "output_type": "display_data",
       "text": [
        "<IPython.core.display.Javascript at 0x17f19c390>"
       ]
      },
      {
       "javascript": [
        "$('div#8d916354-8372-467e-91a0-1f990be7cd02').width('37%')"
       ],
       "metadata": {},
       "output_type": "display_data",
       "text": [
        "<IPython.core.display.Javascript at 0x17f19c390>"
       ]
      },
      {
       "javascript": [
        "$('div#8d916354-8372-467e-91a0-1f990be7cd02').width('38%')"
       ],
       "metadata": {},
       "output_type": "display_data",
       "text": [
        "<IPython.core.display.Javascript at 0x17f19c390>"
       ]
      },
      {
       "javascript": [
        "$('div#8d916354-8372-467e-91a0-1f990be7cd02').width('38%')"
       ],
       "metadata": {},
       "output_type": "display_data",
       "text": [
        "<IPython.core.display.Javascript at 0x17f19c390>"
       ]
      },
      {
       "javascript": [
        "$('div#8d916354-8372-467e-91a0-1f990be7cd02').width('39%')"
       ],
       "metadata": {},
       "output_type": "display_data",
       "text": [
        "<IPython.core.display.Javascript at 0x17f19c390>"
       ]
      },
      {
       "javascript": [
        "$('div#8d916354-8372-467e-91a0-1f990be7cd02').width('40%')"
       ],
       "metadata": {},
       "output_type": "display_data",
       "text": [
        "<IPython.core.display.Javascript at 0x17f19c390>"
       ]
      },
      {
       "javascript": [
        "$('div#8d916354-8372-467e-91a0-1f990be7cd02').width('40%')"
       ],
       "metadata": {},
       "output_type": "display_data",
       "text": [
        "<IPython.core.display.Javascript at 0x17f19c390>"
       ]
      },
      {
       "javascript": [
        "$('div#8d916354-8372-467e-91a0-1f990be7cd02').width('41%')"
       ],
       "metadata": {},
       "output_type": "display_data",
       "text": [
        "<IPython.core.display.Javascript at 0x17f19c390>"
       ]
      },
      {
       "javascript": [
        "$('div#8d916354-8372-467e-91a0-1f990be7cd02').width('41%')"
       ],
       "metadata": {},
       "output_type": "display_data",
       "text": [
        "<IPython.core.display.Javascript at 0x17f19c390>"
       ]
      },
      {
       "javascript": [
        "$('div#8d916354-8372-467e-91a0-1f990be7cd02').width('42%')"
       ],
       "metadata": {},
       "output_type": "display_data",
       "text": [
        "<IPython.core.display.Javascript at 0x17f19c390>"
       ]
      },
      {
       "javascript": [
        "$('div#8d916354-8372-467e-91a0-1f990be7cd02').width('42%')"
       ],
       "metadata": {},
       "output_type": "display_data",
       "text": [
        "<IPython.core.display.Javascript at 0x17f19c390>"
       ]
      },
      {
       "javascript": [
        "$('div#8d916354-8372-467e-91a0-1f990be7cd02').width('43%')"
       ],
       "metadata": {},
       "output_type": "display_data",
       "text": [
        "<IPython.core.display.Javascript at 0x17f19c390>"
       ]
      },
      {
       "javascript": [
        "$('div#8d916354-8372-467e-91a0-1f990be7cd02').width('43%')"
       ],
       "metadata": {},
       "output_type": "display_data",
       "text": [
        "<IPython.core.display.Javascript at 0x17f19c390>"
       ]
      },
      {
       "javascript": [
        "$('div#8d916354-8372-467e-91a0-1f990be7cd02').width('44%')"
       ],
       "metadata": {},
       "output_type": "display_data",
       "text": [
        "<IPython.core.display.Javascript at 0x17f19c390>"
       ]
      },
      {
       "javascript": [
        "$('div#8d916354-8372-467e-91a0-1f990be7cd02').width('45%')"
       ],
       "metadata": {},
       "output_type": "display_data",
       "text": [
        "<IPython.core.display.Javascript at 0x17f19c390>"
       ]
      },
      {
       "javascript": [
        "$('div#8d916354-8372-467e-91a0-1f990be7cd02').width('45%')"
       ],
       "metadata": {},
       "output_type": "display_data",
       "text": [
        "<IPython.core.display.Javascript at 0x17f19c390>"
       ]
      },
      {
       "javascript": [
        "$('div#8d916354-8372-467e-91a0-1f990be7cd02').width('46%')"
       ],
       "metadata": {},
       "output_type": "display_data",
       "text": [
        "<IPython.core.display.Javascript at 0x17f19c390>"
       ]
      },
      {
       "javascript": [
        "$('div#8d916354-8372-467e-91a0-1f990be7cd02').width('46%')"
       ],
       "metadata": {},
       "output_type": "display_data",
       "text": [
        "<IPython.core.display.Javascript at 0x17f19c390>"
       ]
      },
      {
       "javascript": [
        "$('div#8d916354-8372-467e-91a0-1f990be7cd02').width('47%')"
       ],
       "metadata": {},
       "output_type": "display_data",
       "text": [
        "<IPython.core.display.Javascript at 0x17f19c390>"
       ]
      },
      {
       "javascript": [
        "$('div#8d916354-8372-467e-91a0-1f990be7cd02').width('47%')"
       ],
       "metadata": {},
       "output_type": "display_data",
       "text": [
        "<IPython.core.display.Javascript at 0x17f19c390>"
       ]
      },
      {
       "javascript": [
        "$('div#8d916354-8372-467e-91a0-1f990be7cd02').width('48%')"
       ],
       "metadata": {},
       "output_type": "display_data",
       "text": [
        "<IPython.core.display.Javascript at 0x17f19c390>"
       ]
      },
      {
       "javascript": [
        "$('div#8d916354-8372-467e-91a0-1f990be7cd02').width('48%')"
       ],
       "metadata": {},
       "output_type": "display_data",
       "text": [
        "<IPython.core.display.Javascript at 0x17f19c390>"
       ]
      },
      {
       "javascript": [
        "$('div#8d916354-8372-467e-91a0-1f990be7cd02').width('49%')"
       ],
       "metadata": {},
       "output_type": "display_data",
       "text": [
        "<IPython.core.display.Javascript at 0x17f19c390>"
       ]
      },
      {
       "javascript": [
        "$('div#8d916354-8372-467e-91a0-1f990be7cd02').width('50%')"
       ],
       "metadata": {},
       "output_type": "display_data",
       "text": [
        "<IPython.core.display.Javascript at 0x17f19c390>"
       ]
      },
      {
       "javascript": [
        "$('div#8d916354-8372-467e-91a0-1f990be7cd02').width('50%')"
       ],
       "metadata": {},
       "output_type": "display_data",
       "text": [
        "<IPython.core.display.Javascript at 0x17f19c390>"
       ]
      },
      {
       "javascript": [
        "$('div#8d916354-8372-467e-91a0-1f990be7cd02').width('51%')"
       ],
       "metadata": {},
       "output_type": "display_data",
       "text": [
        "<IPython.core.display.Javascript at 0x17f19c390>"
       ]
      },
      {
       "javascript": [
        "$('div#8d916354-8372-467e-91a0-1f990be7cd02').width('51%')"
       ],
       "metadata": {},
       "output_type": "display_data",
       "text": [
        "<IPython.core.display.Javascript at 0x17f19c390>"
       ]
      },
      {
       "javascript": [
        "$('div#8d916354-8372-467e-91a0-1f990be7cd02').width('52%')"
       ],
       "metadata": {},
       "output_type": "display_data",
       "text": [
        "<IPython.core.display.Javascript at 0x17f19c390>"
       ]
      },
      {
       "javascript": [
        "$('div#8d916354-8372-467e-91a0-1f990be7cd02').width('52%')"
       ],
       "metadata": {},
       "output_type": "display_data",
       "text": [
        "<IPython.core.display.Javascript at 0x17f19c390>"
       ]
      },
      {
       "javascript": [
        "$('div#8d916354-8372-467e-91a0-1f990be7cd02').width('53%')"
       ],
       "metadata": {},
       "output_type": "display_data",
       "text": [
        "<IPython.core.display.Javascript at 0x17f19c390>"
       ]
      },
      {
       "javascript": [
        "$('div#8d916354-8372-467e-91a0-1f990be7cd02').width('53%')"
       ],
       "metadata": {},
       "output_type": "display_data",
       "text": [
        "<IPython.core.display.Javascript at 0x17f19c390>"
       ]
      },
      {
       "javascript": [
        "$('div#8d916354-8372-467e-91a0-1f990be7cd02').width('54%')"
       ],
       "metadata": {},
       "output_type": "display_data",
       "text": [
        "<IPython.core.display.Javascript at 0x17f19c390>"
       ]
      },
      {
       "javascript": [
        "$('div#8d916354-8372-467e-91a0-1f990be7cd02').width('55%')"
       ],
       "metadata": {},
       "output_type": "display_data",
       "text": [
        "<IPython.core.display.Javascript at 0x17f19c390>"
       ]
      },
      {
       "javascript": [
        "$('div#8d916354-8372-467e-91a0-1f990be7cd02').width('55%')"
       ],
       "metadata": {},
       "output_type": "display_data",
       "text": [
        "<IPython.core.display.Javascript at 0x17f19c390>"
       ]
      },
      {
       "javascript": [
        "$('div#8d916354-8372-467e-91a0-1f990be7cd02').width('56%')"
       ],
       "metadata": {},
       "output_type": "display_data",
       "text": [
        "<IPython.core.display.Javascript at 0x17f19c390>"
       ]
      },
      {
       "javascript": [
        "$('div#8d916354-8372-467e-91a0-1f990be7cd02').width('56%')"
       ],
       "metadata": {},
       "output_type": "display_data",
       "text": [
        "<IPython.core.display.Javascript at 0x17f19c390>"
       ]
      },
      {
       "javascript": [
        "$('div#8d916354-8372-467e-91a0-1f990be7cd02').width('57%')"
       ],
       "metadata": {},
       "output_type": "display_data",
       "text": [
        "<IPython.core.display.Javascript at 0x17f19c390>"
       ]
      },
      {
       "javascript": [
        "$('div#8d916354-8372-467e-91a0-1f990be7cd02').width('57%')"
       ],
       "metadata": {},
       "output_type": "display_data",
       "text": [
        "<IPython.core.display.Javascript at 0x17f19c390>"
       ]
      },
      {
       "javascript": [
        "$('div#8d916354-8372-467e-91a0-1f990be7cd02').width('58%')"
       ],
       "metadata": {},
       "output_type": "display_data",
       "text": [
        "<IPython.core.display.Javascript at 0x17f19c390>"
       ]
      },
      {
       "javascript": [
        "$('div#8d916354-8372-467e-91a0-1f990be7cd02').width('58%')"
       ],
       "metadata": {},
       "output_type": "display_data",
       "text": [
        "<IPython.core.display.Javascript at 0x17f19c390>"
       ]
      },
      {
       "javascript": [
        "$('div#8d916354-8372-467e-91a0-1f990be7cd02').width('59%')"
       ],
       "metadata": {},
       "output_type": "display_data",
       "text": [
        "<IPython.core.display.Javascript at 0x17f19c390>"
       ]
      },
      {
       "javascript": [
        "$('div#8d916354-8372-467e-91a0-1f990be7cd02').width('60%')"
       ],
       "metadata": {},
       "output_type": "display_data",
       "text": [
        "<IPython.core.display.Javascript at 0x17f19c390>"
       ]
      },
      {
       "javascript": [
        "$('div#8d916354-8372-467e-91a0-1f990be7cd02').width('60%')"
       ],
       "metadata": {},
       "output_type": "display_data",
       "text": [
        "<IPython.core.display.Javascript at 0x17f19c390>"
       ]
      },
      {
       "javascript": [
        "$('div#8d916354-8372-467e-91a0-1f990be7cd02').width('61%')"
       ],
       "metadata": {},
       "output_type": "display_data",
       "text": [
        "<IPython.core.display.Javascript at 0x17f19c390>"
       ]
      },
      {
       "javascript": [
        "$('div#8d916354-8372-467e-91a0-1f990be7cd02').width('61%')"
       ],
       "metadata": {},
       "output_type": "display_data",
       "text": [
        "<IPython.core.display.Javascript at 0x17f19c390>"
       ]
      },
      {
       "javascript": [
        "$('div#8d916354-8372-467e-91a0-1f990be7cd02').width('62%')"
       ],
       "metadata": {},
       "output_type": "display_data",
       "text": [
        "<IPython.core.display.Javascript at 0x17f19c390>"
       ]
      },
      {
       "javascript": [
        "$('div#8d916354-8372-467e-91a0-1f990be7cd02').width('62%')"
       ],
       "metadata": {},
       "output_type": "display_data",
       "text": [
        "<IPython.core.display.Javascript at 0x17f19c390>"
       ]
      },
      {
       "javascript": [
        "$('div#8d916354-8372-467e-91a0-1f990be7cd02').width('63%')"
       ],
       "metadata": {},
       "output_type": "display_data",
       "text": [
        "<IPython.core.display.Javascript at 0x17f19c390>"
       ]
      },
      {
       "javascript": [
        "$('div#8d916354-8372-467e-91a0-1f990be7cd02').width('63%')"
       ],
       "metadata": {},
       "output_type": "display_data",
       "text": [
        "<IPython.core.display.Javascript at 0x17f19c390>"
       ]
      },
      {
       "javascript": [
        "$('div#8d916354-8372-467e-91a0-1f990be7cd02').width('64%')"
       ],
       "metadata": {},
       "output_type": "display_data",
       "text": [
        "<IPython.core.display.Javascript at 0x17f19c390>"
       ]
      },
      {
       "javascript": [
        "$('div#8d916354-8372-467e-91a0-1f990be7cd02').width('65%')"
       ],
       "metadata": {},
       "output_type": "display_data",
       "text": [
        "<IPython.core.display.Javascript at 0x17f19c390>"
       ]
      },
      {
       "javascript": [
        "$('div#8d916354-8372-467e-91a0-1f990be7cd02').width('65%')"
       ],
       "metadata": {},
       "output_type": "display_data",
       "text": [
        "<IPython.core.display.Javascript at 0x17f19c390>"
       ]
      },
      {
       "javascript": [
        "$('div#8d916354-8372-467e-91a0-1f990be7cd02').width('66%')"
       ],
       "metadata": {},
       "output_type": "display_data",
       "text": [
        "<IPython.core.display.Javascript at 0x17f19c390>"
       ]
      },
      {
       "javascript": [
        "$('div#8d916354-8372-467e-91a0-1f990be7cd02').width('66%')"
       ],
       "metadata": {},
       "output_type": "display_data",
       "text": [
        "<IPython.core.display.Javascript at 0x17f19c390>"
       ]
      },
      {
       "javascript": [
        "$('div#8d916354-8372-467e-91a0-1f990be7cd02').width('67%')"
       ],
       "metadata": {},
       "output_type": "display_data",
       "text": [
        "<IPython.core.display.Javascript at 0x17f19c390>"
       ]
      },
      {
       "javascript": [
        "$('div#8d916354-8372-467e-91a0-1f990be7cd02').width('67%')"
       ],
       "metadata": {},
       "output_type": "display_data",
       "text": [
        "<IPython.core.display.Javascript at 0x17f19c390>"
       ]
      },
      {
       "javascript": [
        "$('div#8d916354-8372-467e-91a0-1f990be7cd02').width('68%')"
       ],
       "metadata": {},
       "output_type": "display_data",
       "text": [
        "<IPython.core.display.Javascript at 0x17f19c390>"
       ]
      },
      {
       "javascript": [
        "$('div#8d916354-8372-467e-91a0-1f990be7cd02').width('68%')"
       ],
       "metadata": {},
       "output_type": "display_data",
       "text": [
        "<IPython.core.display.Javascript at 0x17f19c390>"
       ]
      },
      {
       "javascript": [
        "$('div#8d916354-8372-467e-91a0-1f990be7cd02').width('69%')"
       ],
       "metadata": {},
       "output_type": "display_data",
       "text": [
        "<IPython.core.display.Javascript at 0x17f19c390>"
       ]
      },
      {
       "javascript": [
        "$('div#8d916354-8372-467e-91a0-1f990be7cd02').width('70%')"
       ],
       "metadata": {},
       "output_type": "display_data",
       "text": [
        "<IPython.core.display.Javascript at 0x17f19c390>"
       ]
      },
      {
       "javascript": [
        "$('div#8d916354-8372-467e-91a0-1f990be7cd02').width('70%')"
       ],
       "metadata": {},
       "output_type": "display_data",
       "text": [
        "<IPython.core.display.Javascript at 0x17f19c390>"
       ]
      },
      {
       "javascript": [
        "$('div#8d916354-8372-467e-91a0-1f990be7cd02').width('71%')"
       ],
       "metadata": {},
       "output_type": "display_data",
       "text": [
        "<IPython.core.display.Javascript at 0x17f19c390>"
       ]
      },
      {
       "javascript": [
        "$('div#8d916354-8372-467e-91a0-1f990be7cd02').width('71%')"
       ],
       "metadata": {},
       "output_type": "display_data",
       "text": [
        "<IPython.core.display.Javascript at 0x17f19c390>"
       ]
      },
      {
       "javascript": [
        "$('div#8d916354-8372-467e-91a0-1f990be7cd02').width('72%')"
       ],
       "metadata": {},
       "output_type": "display_data",
       "text": [
        "<IPython.core.display.Javascript at 0x17f19c390>"
       ]
      },
      {
       "javascript": [
        "$('div#8d916354-8372-467e-91a0-1f990be7cd02').width('72%')"
       ],
       "metadata": {},
       "output_type": "display_data",
       "text": [
        "<IPython.core.display.Javascript at 0x17f19c390>"
       ]
      },
      {
       "javascript": [
        "$('div#8d916354-8372-467e-91a0-1f990be7cd02').width('73%')"
       ],
       "metadata": {},
       "output_type": "display_data",
       "text": [
        "<IPython.core.display.Javascript at 0x17f19c390>"
       ]
      },
      {
       "javascript": [
        "$('div#8d916354-8372-467e-91a0-1f990be7cd02').width('73%')"
       ],
       "metadata": {},
       "output_type": "display_data",
       "text": [
        "<IPython.core.display.Javascript at 0x17f19c390>"
       ]
      },
      {
       "javascript": [
        "$('div#8d916354-8372-467e-91a0-1f990be7cd02').width('74%')"
       ],
       "metadata": {},
       "output_type": "display_data",
       "text": [
        "<IPython.core.display.Javascript at 0x17f19c390>"
       ]
      },
      {
       "javascript": [
        "$('div#8d916354-8372-467e-91a0-1f990be7cd02').width('75%')"
       ],
       "metadata": {},
       "output_type": "display_data",
       "text": [
        "<IPython.core.display.Javascript at 0x17f19c390>"
       ]
      },
      {
       "javascript": [
        "$('div#8d916354-8372-467e-91a0-1f990be7cd02').width('75%')"
       ],
       "metadata": {},
       "output_type": "display_data",
       "text": [
        "<IPython.core.display.Javascript at 0x17f19c390>"
       ]
      },
      {
       "javascript": [
        "$('div#8d916354-8372-467e-91a0-1f990be7cd02').width('76%')"
       ],
       "metadata": {},
       "output_type": "display_data",
       "text": [
        "<IPython.core.display.Javascript at 0x17f19c390>"
       ]
      },
      {
       "javascript": [
        "$('div#8d916354-8372-467e-91a0-1f990be7cd02').width('76%')"
       ],
       "metadata": {},
       "output_type": "display_data",
       "text": [
        "<IPython.core.display.Javascript at 0x17f19c390>"
       ]
      },
      {
       "javascript": [
        "$('div#8d916354-8372-467e-91a0-1f990be7cd02').width('77%')"
       ],
       "metadata": {},
       "output_type": "display_data",
       "text": [
        "<IPython.core.display.Javascript at 0x17f19c390>"
       ]
      },
      {
       "javascript": [
        "$('div#8d916354-8372-467e-91a0-1f990be7cd02').width('77%')"
       ],
       "metadata": {},
       "output_type": "display_data",
       "text": [
        "<IPython.core.display.Javascript at 0x17f19c390>"
       ]
      },
      {
       "javascript": [
        "$('div#8d916354-8372-467e-91a0-1f990be7cd02').width('78%')"
       ],
       "metadata": {},
       "output_type": "display_data",
       "text": [
        "<IPython.core.display.Javascript at 0x17f19c390>"
       ]
      },
      {
       "javascript": [
        "$('div#8d916354-8372-467e-91a0-1f990be7cd02').width('78%')"
       ],
       "metadata": {},
       "output_type": "display_data",
       "text": [
        "<IPython.core.display.Javascript at 0x17f19c390>"
       ]
      },
      {
       "javascript": [
        "$('div#8d916354-8372-467e-91a0-1f990be7cd02').width('79%')"
       ],
       "metadata": {},
       "output_type": "display_data",
       "text": [
        "<IPython.core.display.Javascript at 0x17f19c390>"
       ]
      },
      {
       "javascript": [
        "$('div#8d916354-8372-467e-91a0-1f990be7cd02').width('80%')"
       ],
       "metadata": {},
       "output_type": "display_data",
       "text": [
        "<IPython.core.display.Javascript at 0x17f19c390>"
       ]
      },
      {
       "javascript": [
        "$('div#8d916354-8372-467e-91a0-1f990be7cd02').width('80%')"
       ],
       "metadata": {},
       "output_type": "display_data",
       "text": [
        "<IPython.core.display.Javascript at 0x17f19c390>"
       ]
      },
      {
       "javascript": [
        "$('div#8d916354-8372-467e-91a0-1f990be7cd02').width('81%')"
       ],
       "metadata": {},
       "output_type": "display_data",
       "text": [
        "<IPython.core.display.Javascript at 0x17f19c390>"
       ]
      },
      {
       "javascript": [
        "$('div#8d916354-8372-467e-91a0-1f990be7cd02').width('81%')"
       ],
       "metadata": {},
       "output_type": "display_data",
       "text": [
        "<IPython.core.display.Javascript at 0x17f19c390>"
       ]
      },
      {
       "javascript": [
        "$('div#8d916354-8372-467e-91a0-1f990be7cd02').width('82%')"
       ],
       "metadata": {},
       "output_type": "display_data",
       "text": [
        "<IPython.core.display.Javascript at 0x17f19c390>"
       ]
      },
      {
       "javascript": [
        "$('div#8d916354-8372-467e-91a0-1f990be7cd02').width('82%')"
       ],
       "metadata": {},
       "output_type": "display_data",
       "text": [
        "<IPython.core.display.Javascript at 0x17f19c390>"
       ]
      },
      {
       "javascript": [
        "$('div#8d916354-8372-467e-91a0-1f990be7cd02').width('83%')"
       ],
       "metadata": {},
       "output_type": "display_data",
       "text": [
        "<IPython.core.display.Javascript at 0x17f19c390>"
       ]
      },
      {
       "javascript": [
        "$('div#8d916354-8372-467e-91a0-1f990be7cd02').width('83%')"
       ],
       "metadata": {},
       "output_type": "display_data",
       "text": [
        "<IPython.core.display.Javascript at 0x17f19c390>"
       ]
      },
      {
       "javascript": [
        "$('div#8d916354-8372-467e-91a0-1f990be7cd02').width('84%')"
       ],
       "metadata": {},
       "output_type": "display_data",
       "text": [
        "<IPython.core.display.Javascript at 0x17f19c390>"
       ]
      },
      {
       "javascript": [
        "$('div#8d916354-8372-467e-91a0-1f990be7cd02').width('85%')"
       ],
       "metadata": {},
       "output_type": "display_data",
       "text": [
        "<IPython.core.display.Javascript at 0x17f19c390>"
       ]
      },
      {
       "javascript": [
        "$('div#8d916354-8372-467e-91a0-1f990be7cd02').width('85%')"
       ],
       "metadata": {},
       "output_type": "display_data",
       "text": [
        "<IPython.core.display.Javascript at 0x17f19c390>"
       ]
      },
      {
       "javascript": [
        "$('div#8d916354-8372-467e-91a0-1f990be7cd02').width('86%')"
       ],
       "metadata": {},
       "output_type": "display_data",
       "text": [
        "<IPython.core.display.Javascript at 0x17f19c390>"
       ]
      },
      {
       "javascript": [
        "$('div#8d916354-8372-467e-91a0-1f990be7cd02').width('86%')"
       ],
       "metadata": {},
       "output_type": "display_data",
       "text": [
        "<IPython.core.display.Javascript at 0x17f19c390>"
       ]
      },
      {
       "javascript": [
        "$('div#8d916354-8372-467e-91a0-1f990be7cd02').width('87%')"
       ],
       "metadata": {},
       "output_type": "display_data",
       "text": [
        "<IPython.core.display.Javascript at 0x17f19c390>"
       ]
      },
      {
       "javascript": [
        "$('div#8d916354-8372-467e-91a0-1f990be7cd02').width('87%')"
       ],
       "metadata": {},
       "output_type": "display_data",
       "text": [
        "<IPython.core.display.Javascript at 0x17f19c390>"
       ]
      },
      {
       "javascript": [
        "$('div#8d916354-8372-467e-91a0-1f990be7cd02').width('88%')"
       ],
       "metadata": {},
       "output_type": "display_data",
       "text": [
        "<IPython.core.display.Javascript at 0x17f19c390>"
       ]
      },
      {
       "javascript": [
        "$('div#8d916354-8372-467e-91a0-1f990be7cd02').width('88%')"
       ],
       "metadata": {},
       "output_type": "display_data",
       "text": [
        "<IPython.core.display.Javascript at 0x17f19c390>"
       ]
      },
      {
       "javascript": [
        "$('div#8d916354-8372-467e-91a0-1f990be7cd02').width('89%')"
       ],
       "metadata": {},
       "output_type": "display_data",
       "text": [
        "<IPython.core.display.Javascript at 0x17f19c390>"
       ]
      },
      {
       "javascript": [
        "$('div#8d916354-8372-467e-91a0-1f990be7cd02').width('90%')"
       ],
       "metadata": {},
       "output_type": "display_data",
       "text": [
        "<IPython.core.display.Javascript at 0x17f19c390>"
       ]
      },
      {
       "javascript": [
        "$('div#8d916354-8372-467e-91a0-1f990be7cd02').width('90%')"
       ],
       "metadata": {},
       "output_type": "display_data",
       "text": [
        "<IPython.core.display.Javascript at 0x17f19c390>"
       ]
      },
      {
       "javascript": [
        "$('div#8d916354-8372-467e-91a0-1f990be7cd02').width('91%')"
       ],
       "metadata": {},
       "output_type": "display_data",
       "text": [
        "<IPython.core.display.Javascript at 0x17f19c390>"
       ]
      },
      {
       "javascript": [
        "$('div#8d916354-8372-467e-91a0-1f990be7cd02').width('91%')"
       ],
       "metadata": {},
       "output_type": "display_data",
       "text": [
        "<IPython.core.display.Javascript at 0x17f19c390>"
       ]
      },
      {
       "javascript": [
        "$('div#8d916354-8372-467e-91a0-1f990be7cd02').width('92%')"
       ],
       "metadata": {},
       "output_type": "display_data",
       "text": [
        "<IPython.core.display.Javascript at 0x17f19c390>"
       ]
      },
      {
       "javascript": [
        "$('div#8d916354-8372-467e-91a0-1f990be7cd02').width('92%')"
       ],
       "metadata": {},
       "output_type": "display_data",
       "text": [
        "<IPython.core.display.Javascript at 0x17f19c390>"
       ]
      },
      {
       "javascript": [
        "$('div#8d916354-8372-467e-91a0-1f990be7cd02').width('93%')"
       ],
       "metadata": {},
       "output_type": "display_data",
       "text": [
        "<IPython.core.display.Javascript at 0x17f19c390>"
       ]
      },
      {
       "javascript": [
        "$('div#8d916354-8372-467e-91a0-1f990be7cd02').width('93%')"
       ],
       "metadata": {},
       "output_type": "display_data",
       "text": [
        "<IPython.core.display.Javascript at 0x17f19c390>"
       ]
      },
      {
       "javascript": [
        "$('div#8d916354-8372-467e-91a0-1f990be7cd02').width('94%')"
       ],
       "metadata": {},
       "output_type": "display_data",
       "text": [
        "<IPython.core.display.Javascript at 0x17f19c390>"
       ]
      },
      {
       "javascript": [
        "$('div#8d916354-8372-467e-91a0-1f990be7cd02').width('95%')"
       ],
       "metadata": {},
       "output_type": "display_data",
       "text": [
        "<IPython.core.display.Javascript at 0x17f19c390>"
       ]
      },
      {
       "javascript": [
        "$('div#8d916354-8372-467e-91a0-1f990be7cd02').width('95%')"
       ],
       "metadata": {},
       "output_type": "display_data",
       "text": [
        "<IPython.core.display.Javascript at 0x17f19c390>"
       ]
      },
      {
       "javascript": [
        "$('div#8d916354-8372-467e-91a0-1f990be7cd02').width('96%')"
       ],
       "metadata": {},
       "output_type": "display_data",
       "text": [
        "<IPython.core.display.Javascript at 0x17f19c390>"
       ]
      },
      {
       "javascript": [
        "$('div#8d916354-8372-467e-91a0-1f990be7cd02').width('96%')"
       ],
       "metadata": {},
       "output_type": "display_data",
       "text": [
        "<IPython.core.display.Javascript at 0x17f19c390>"
       ]
      },
      {
       "javascript": [
        "$('div#8d916354-8372-467e-91a0-1f990be7cd02').width('97%')"
       ],
       "metadata": {},
       "output_type": "display_data",
       "text": [
        "<IPython.core.display.Javascript at 0x17f19c390>"
       ]
      },
      {
       "javascript": [
        "$('div#8d916354-8372-467e-91a0-1f990be7cd02').width('97%')"
       ],
       "metadata": {},
       "output_type": "display_data",
       "text": [
        "<IPython.core.display.Javascript at 0x17f19c390>"
       ]
      },
      {
       "javascript": [
        "$('div#8d916354-8372-467e-91a0-1f990be7cd02').width('98%')"
       ],
       "metadata": {},
       "output_type": "display_data",
       "text": [
        "<IPython.core.display.Javascript at 0x17f19c390>"
       ]
      },
      {
       "javascript": [
        "$('div#8d916354-8372-467e-91a0-1f990be7cd02').width('98%')"
       ],
       "metadata": {},
       "output_type": "display_data",
       "text": [
        "<IPython.core.display.Javascript at 0x17f19c390>"
       ]
      },
      {
       "javascript": [
        "$('div#8d916354-8372-467e-91a0-1f990be7cd02').width('99%')"
       ],
       "metadata": {},
       "output_type": "display_data",
       "text": [
        "<IPython.core.display.Javascript at 0x17f19c390>"
       ]
      },
      {
       "javascript": [
        "$('div#8d916354-8372-467e-91a0-1f990be7cd02').width('100%')"
       ],
       "metadata": {},
       "output_type": "display_data",
       "text": [
        "<IPython.core.display.Javascript at 0x17f19c190>"
       ]
      },
      {
       "html": [
        "<iframe src=http://127.0.0.1:8001/6058938 width=100%% height=420 frameborder=0></iframe>"
       ],
       "metadata": {},
       "output_type": "pyout",
       "prompt_number": 76,
       "text": [
        "<mMR.mMR.UncompressedProjection instance at 0x19c8ab200>"
       ]
      }
     ],
     "prompt_number": 76
    },
    {
     "cell_type": "code",
     "collapsed": false,
     "input": [],
     "language": "python",
     "metadata": {},
     "outputs": [],
     "prompt_number": 6
    },
    {
     "cell_type": "code",
     "collapsed": false,
     "input": [],
     "language": "python",
     "metadata": {},
     "outputs": [],
     "prompt_number": 55
    },
    {
     "cell_type": "code",
     "collapsed": false,
     "input": [],
     "language": "python",
     "metadata": {},
     "outputs": [],
     "prompt_number": 21
    },
    {
     "cell_type": "code",
     "collapsed": false,
     "input": [
      "DEFAULT_RECON_ITERATIONS=10\n",
      "DEFAULT_SUBSET_SIZE = 32\n",
      "EPS=1e-6\n",
      "from occiput.Visualization import ProgressBar\n",
      "from occiput.Core import RigidVolume \n",
      "\n",
      "def update_activity(self,activity,iterations = DEFAULT_RECON_ITERATIONS, subset_size = DEFAULT_SUBSET_SIZE, subset_mode='random', epsilon=None): \n",
      "        if epsilon==None: \n",
      "            epsilon=EPS\n",
      "        progress_bar = ProgressBar() \n",
      "        progress_bar.set_percentage(0.1)\n",
      "        for i in range(iterations):\n",
      "            # Subsets: \n",
      "            if subset_size==None:\n",
      "                subsets_matrix=None\n",
      "            else: \n",
      "                subsets_matrix = self._subsets_generator.new_subset(subset_mode,subset_size)\n",
      "            proj = self.project(activity,subsets_matrix=subsets_matrix)\n",
      "            if subset_size==None:\n",
      "                norm = self.get_normalization()  \n",
      "            else: \n",
      "                norm = self.backproject(ones((1,self.N_locations),dtype=float32,order=\"F\"), subsets_matrix=subsets_matrix) \n",
      "            update = (self.backproject( (self._measurement_data+epsilon)/(proj+epsilon) ,subsets_matrix=subsets_matrix).data+epsilon) / (norm.data +epsilon) \n",
      "\n",
      "            activity = activity * update #* self.get_mask().data\n",
      "\n",
      "            progress_bar.set_percentage((i+1)*100.0/iterations) \n",
      "            print \"Iteration: %d    max act: %f    min act: %f    max proj: %f    min proj: %f    max norm: %f    min norm: %f\"%(i, activity.max(), activity.min(), proj.max(), proj.min(), norm.data.max(), norm.data.min() )\n",
      "        progress_bar.set_percentage(100.0)\n",
      "        return RigidVolume(activity)"
     ],
     "language": "python",
     "metadata": {},
     "outputs": [],
     "prompt_number": 87
    },
    {
     "cell_type": "code",
     "collapsed": false,
     "input": [
      "activity = ones((128,128,128),dtype=float32,order=\"F\")\n",
      "A=activity\n",
      "A = update_activity(SCAN.static,A,12,16,epsilon=100)"
     ],
     "language": "python",
     "metadata": {},
     "outputs": [
      {
       "html": [
        "\n",
        "        <div style=\"border: 1px solid white; width:100%%; height:6px; background-color:rgb(200,228,246)\">\n",
        "            <div id=\"aa17e99f-dfc4-4516-a446-b4d1d1076cd0\" style=\"background-color:rgb(47,128,246); width:0%; height:6px\"> </div>\n",
        "        </div> \n",
        "        "
       ],
       "metadata": {},
       "output_type": "display_data",
       "text": [
        "<IPython.core.display.HTML at 0x19c855090>"
       ]
      },
      {
       "javascript": [
        "$('div#aa17e99f-dfc4-4516-a446-b4d1d1076cd0').width('1%')"
       ],
       "metadata": {},
       "output_type": "display_data",
       "text": [
        "<IPython.core.display.Javascript at 0x19c855cd0>"
       ]
      },
      {
       "javascript": [
        "$('div#aa17e99f-dfc4-4516-a446-b4d1d1076cd0').width('8%')"
       ],
       "metadata": {},
       "output_type": "display_data",
       "text": [
        "<IPython.core.display.Javascript at 0x17f336e10>"
       ]
      },
      {
       "output_type": "stream",
       "stream": "stdout",
       "text": [
        "Iteration: 0    max act: 19.421255    min act: 1.000000    max proj: 0.539062    min proj: 0.000000    max norm: 16.000000    min norm: 0.000000\n"
       ]
      },
      {
       "javascript": [
        "$('div#aa17e99f-dfc4-4516-a446-b4d1d1076cd0').width('16%')"
       ],
       "metadata": {},
       "output_type": "display_data",
       "text": [
        "<IPython.core.display.Javascript at 0x19c855fd0>"
       ]
      },
      {
       "output_type": "stream",
       "stream": "stdout",
       "text": [
        "Iteration: 1    max act: 449.394379    min act: 1.000000    max proj: 1.539253    min proj: 0.000000    max norm: 16.000000    min norm: 0.000000\n"
       ]
      },
      {
       "javascript": [
        "$('div#aa17e99f-dfc4-4516-a446-b4d1d1076cd0').width('25%')"
       ],
       "metadata": {},
       "output_type": "display_data",
       "text": [
        "<IPython.core.display.Javascript at 0x17f336090>"
       ]
      },
      {
       "output_type": "stream",
       "stream": "stdout",
       "text": [
        "Iteration: 2    max act: 9422.223633    min act: 1.000000    max proj: 6.571961    min proj: 0.000000    max norm: 16.000000    min norm: 0.000000\n"
       ]
      },
      {
       "javascript": [
        "$('div#aa17e99f-dfc4-4516-a446-b4d1d1076cd0').width('33%')"
       ],
       "metadata": {},
       "output_type": "display_data",
       "text": [
        "<IPython.core.display.Javascript at 0x19c855d90>"
       ]
      },
      {
       "output_type": "stream",
       "stream": "stdout",
       "text": [
        "Iteration: 3    max act: 120500.718750    min act: 1.000000    max proj: 85.452942    min proj: 0.000000    max norm: 16.000000    min norm: 0.000000\n"
       ]
      },
      {
       "javascript": [
        "$('div#aa17e99f-dfc4-4516-a446-b4d1d1076cd0').width('41%')"
       ],
       "metadata": {},
       "output_type": "display_data",
       "text": [
        "<IPython.core.display.Javascript at 0x17f336110>"
       ]
      },
      {
       "output_type": "stream",
       "stream": "stdout",
       "text": [
        "Iteration: 4    max act: 494565.000000    min act: 1.000000    max proj: 944.261414    min proj: 0.000000    max norm: 16.000000    min norm: 0.000000\n"
       ]
      },
      {
       "javascript": [
        "$('div#aa17e99f-dfc4-4516-a446-b4d1d1076cd0').width('50%')"
       ],
       "metadata": {},
       "output_type": "display_data",
       "text": [
        "<IPython.core.display.Javascript at 0x19c855e50>"
       ]
      },
      {
       "output_type": "stream",
       "stream": "stdout",
       "text": [
        "Iteration: 5    max act: 822538.437500    min act: 1.000000    max proj: 3373.691406    min proj: 0.000000    max norm: 16.000000    min norm: 0.000000\n"
       ]
      },
      {
       "javascript": [
        "$('div#aa17e99f-dfc4-4516-a446-b4d1d1076cd0').width('58%')"
       ],
       "metadata": {},
       "output_type": "display_data",
       "text": [
        "<IPython.core.display.Javascript at 0x17f336ed0>"
       ]
      },
      {
       "output_type": "stream",
       "stream": "stdout",
       "text": [
        "Iteration: 6    max act: 1199235.625000    min act: 1.000000    max proj: 5054.114258    min proj: 0.000000    max norm: 16.000000    min norm: 0.000000\n"
       ]
      },
      {
       "javascript": [
        "$('div#aa17e99f-dfc4-4516-a446-b4d1d1076cd0').width('66%')"
       ],
       "metadata": {},
       "output_type": "display_data",
       "text": [
        "<IPython.core.display.Javascript at 0x19c8550d0>"
       ]
      },
      {
       "output_type": "stream",
       "stream": "stdout",
       "text": [
        "Iteration: 7    max act: 1554865.375000    min act: 1.000000    max proj: 8307.391602    min proj: 0.000000    max norm: 16.000000    min norm: 0.000000\n"
       ]
      },
      {
       "javascript": [
        "$('div#aa17e99f-dfc4-4516-a446-b4d1d1076cd0').width('75%')"
       ],
       "metadata": {},
       "output_type": "display_data",
       "text": [
        "<IPython.core.display.Javascript at 0x17f3360d0>"
       ]
      },
      {
       "output_type": "stream",
       "stream": "stdout",
       "text": [
        "Iteration: 8    max act: 1866630.000000    min act: 1.000000    max proj: 9821.045898    min proj: 0.000000    max norm: 16.000000    min norm: 0.000000\n"
       ]
      },
      {
       "javascript": [
        "$('div#aa17e99f-dfc4-4516-a446-b4d1d1076cd0').width('83%')"
       ],
       "metadata": {},
       "output_type": "display_data",
       "text": [
        "<IPython.core.display.Javascript at 0x19c855fd0>"
       ]
      },
      {
       "output_type": "stream",
       "stream": "stdout",
       "text": [
        "Iteration: 9    max act: 2073283.125000    min act: 1.000000    max proj: 12394.493164    min proj: 0.000000    max norm: 16.000000    min norm: 0.000000\n"
       ]
      },
      {
       "javascript": [
        "$('div#aa17e99f-dfc4-4516-a446-b4d1d1076cd0').width('91%')"
       ],
       "metadata": {},
       "output_type": "display_data",
       "text": [
        "<IPython.core.display.Javascript at 0x17f336e10>"
       ]
      },
      {
       "output_type": "stream",
       "stream": "stdout",
       "text": [
        "Iteration: 10    max act: 2439006.000000    min act: 1.000000    max proj: 12162.270508    min proj: 0.000000    max norm: 16.000000    min norm: 0.000000\n"
       ]
      },
      {
       "javascript": [
        "$('div#aa17e99f-dfc4-4516-a446-b4d1d1076cd0').width('100%')"
       ],
       "metadata": {},
       "output_type": "display_data",
       "text": [
        "<IPython.core.display.Javascript at 0x19c855d90>"
       ]
      },
      {
       "output_type": "stream",
       "stream": "stdout",
       "text": [
        "Iteration: 11    max act: 2787751.500000    min act: 1.000000    max proj: 15013.452148    min proj: 0.000000    max norm: 16.000000    min norm: 0.000000\n"
       ]
      },
      {
       "javascript": [
        "$('div#aa17e99f-dfc4-4516-a446-b4d1d1076cd0').width('100%')"
       ],
       "metadata": {},
       "output_type": "display_data",
       "text": [
        "<IPython.core.display.Javascript at 0x19c855cd0>"
       ]
      }
     ],
     "prompt_number": 107
    },
    {
     "cell_type": "code",
     "collapsed": false,
     "input": [
      "SCAN.static.volume_render(A,scale=4)"
     ],
     "language": "python",
     "metadata": {},
     "outputs": [
      {
       "html": [
        "\n",
        "        <div style=\"border: 1px solid white; width:100%%; height:6px; background-color:rgb(246,246,246)\">\n",
        "            <div id=\"b98ecdf6-d021-47aa-ad77-59bfca685542\" style=\"background-color:rgb(200,200,200); width:0%; height:6px\"> </div>\n",
        "        </div> \n",
        "        "
       ],
       "metadata": {},
       "output_type": "display_data",
       "text": [
        "<IPython.core.display.HTML at 0x17f323350>"
       ]
      },
      {
       "javascript": [
        "$('div#b98ecdf6-d021-47aa-ad77-59bfca685542').width('1%')"
       ],
       "metadata": {},
       "output_type": "display_data",
       "text": [
        "<IPython.core.display.Javascript at 0x15722ad90>"
       ]
      },
      {
       "javascript": [
        "$('div#b98ecdf6-d021-47aa-ad77-59bfca685542').width('1%')"
       ],
       "metadata": {},
       "output_type": "display_data",
       "text": [
        "<IPython.core.display.Javascript at 0x15722ad90>"
       ]
      },
      {
       "javascript": [
        "$('div#b98ecdf6-d021-47aa-ad77-59bfca685542').width('1%')"
       ],
       "metadata": {},
       "output_type": "display_data",
       "text": [
        "<IPython.core.display.Javascript at 0x15722ad90>"
       ]
      },
      {
       "javascript": [
        "$('div#b98ecdf6-d021-47aa-ad77-59bfca685542').width('1%')"
       ],
       "metadata": {},
       "output_type": "display_data",
       "text": [
        "<IPython.core.display.Javascript at 0x15722ad90>"
       ]
      },
      {
       "javascript": [
        "$('div#b98ecdf6-d021-47aa-ad77-59bfca685542').width('2%')"
       ],
       "metadata": {},
       "output_type": "display_data",
       "text": [
        "<IPython.core.display.Javascript at 0x15722ad90>"
       ]
      },
      {
       "javascript": [
        "$('div#b98ecdf6-d021-47aa-ad77-59bfca685542').width('2%')"
       ],
       "metadata": {},
       "output_type": "display_data",
       "text": [
        "<IPython.core.display.Javascript at 0x15722ad90>"
       ]
      },
      {
       "javascript": [
        "$('div#b98ecdf6-d021-47aa-ad77-59bfca685542').width('3%')"
       ],
       "metadata": {},
       "output_type": "display_data",
       "text": [
        "<IPython.core.display.Javascript at 0x15722ad90>"
       ]
      },
      {
       "javascript": [
        "$('div#b98ecdf6-d021-47aa-ad77-59bfca685542').width('3%')"
       ],
       "metadata": {},
       "output_type": "display_data",
       "text": [
        "<IPython.core.display.Javascript at 0x15722ad90>"
       ]
      },
      {
       "javascript": [
        "$('div#b98ecdf6-d021-47aa-ad77-59bfca685542').width('4%')"
       ],
       "metadata": {},
       "output_type": "display_data",
       "text": [
        "<IPython.core.display.Javascript at 0x15722ad90>"
       ]
      },
      {
       "javascript": [
        "$('div#b98ecdf6-d021-47aa-ad77-59bfca685542').width('5%')"
       ],
       "metadata": {},
       "output_type": "display_data",
       "text": [
        "<IPython.core.display.Javascript at 0x15722ad90>"
       ]
      },
      {
       "javascript": [
        "$('div#b98ecdf6-d021-47aa-ad77-59bfca685542').width('5%')"
       ],
       "metadata": {},
       "output_type": "display_data",
       "text": [
        "<IPython.core.display.Javascript at 0x15722ad90>"
       ]
      },
      {
       "javascript": [
        "$('div#b98ecdf6-d021-47aa-ad77-59bfca685542').width('6%')"
       ],
       "metadata": {},
       "output_type": "display_data",
       "text": [
        "<IPython.core.display.Javascript at 0x15722ad90>"
       ]
      },
      {
       "javascript": [
        "$('div#b98ecdf6-d021-47aa-ad77-59bfca685542').width('6%')"
       ],
       "metadata": {},
       "output_type": "display_data",
       "text": [
        "<IPython.core.display.Javascript at 0x15722ad90>"
       ]
      },
      {
       "javascript": [
        "$('div#b98ecdf6-d021-47aa-ad77-59bfca685542').width('7%')"
       ],
       "metadata": {},
       "output_type": "display_data",
       "text": [
        "<IPython.core.display.Javascript at 0x15722ad90>"
       ]
      },
      {
       "javascript": [
        "$('div#b98ecdf6-d021-47aa-ad77-59bfca685542').width('7%')"
       ],
       "metadata": {},
       "output_type": "display_data",
       "text": [
        "<IPython.core.display.Javascript at 0x15722ad90>"
       ]
      },
      {
       "javascript": [
        "$('div#b98ecdf6-d021-47aa-ad77-59bfca685542').width('8%')"
       ],
       "metadata": {},
       "output_type": "display_data",
       "text": [
        "<IPython.core.display.Javascript at 0x15722ad90>"
       ]
      },
      {
       "javascript": [
        "$('div#b98ecdf6-d021-47aa-ad77-59bfca685542').width('8%')"
       ],
       "metadata": {},
       "output_type": "display_data",
       "text": [
        "<IPython.core.display.Javascript at 0x15722ad90>"
       ]
      },
      {
       "javascript": [
        "$('div#b98ecdf6-d021-47aa-ad77-59bfca685542').width('9%')"
       ],
       "metadata": {},
       "output_type": "display_data",
       "text": [
        "<IPython.core.display.Javascript at 0x15722ad90>"
       ]
      },
      {
       "javascript": [
        "$('div#b98ecdf6-d021-47aa-ad77-59bfca685542').width('10%')"
       ],
       "metadata": {},
       "output_type": "display_data",
       "text": [
        "<IPython.core.display.Javascript at 0x15722ad90>"
       ]
      },
      {
       "javascript": [
        "$('div#b98ecdf6-d021-47aa-ad77-59bfca685542').width('10%')"
       ],
       "metadata": {},
       "output_type": "display_data",
       "text": [
        "<IPython.core.display.Javascript at 0x15722ad90>"
       ]
      },
      {
       "javascript": [
        "$('div#b98ecdf6-d021-47aa-ad77-59bfca685542').width('11%')"
       ],
       "metadata": {},
       "output_type": "display_data",
       "text": [
        "<IPython.core.display.Javascript at 0x15722ad90>"
       ]
      },
      {
       "javascript": [
        "$('div#b98ecdf6-d021-47aa-ad77-59bfca685542').width('11%')"
       ],
       "metadata": {},
       "output_type": "display_data",
       "text": [
        "<IPython.core.display.Javascript at 0x15722ad90>"
       ]
      },
      {
       "javascript": [
        "$('div#b98ecdf6-d021-47aa-ad77-59bfca685542').width('12%')"
       ],
       "metadata": {},
       "output_type": "display_data",
       "text": [
        "<IPython.core.display.Javascript at 0x15722ad90>"
       ]
      },
      {
       "javascript": [
        "$('div#b98ecdf6-d021-47aa-ad77-59bfca685542').width('12%')"
       ],
       "metadata": {},
       "output_type": "display_data",
       "text": [
        "<IPython.core.display.Javascript at 0x15722ad90>"
       ]
      },
      {
       "javascript": [
        "$('div#b98ecdf6-d021-47aa-ad77-59bfca685542').width('13%')"
       ],
       "metadata": {},
       "output_type": "display_data",
       "text": [
        "<IPython.core.display.Javascript at 0x15722ad90>"
       ]
      },
      {
       "javascript": [
        "$('div#b98ecdf6-d021-47aa-ad77-59bfca685542').width('13%')"
       ],
       "metadata": {},
       "output_type": "display_data",
       "text": [
        "<IPython.core.display.Javascript at 0x15722ad90>"
       ]
      },
      {
       "javascript": [
        "$('div#b98ecdf6-d021-47aa-ad77-59bfca685542').width('14%')"
       ],
       "metadata": {},
       "output_type": "display_data",
       "text": [
        "<IPython.core.display.Javascript at 0x15722ad90>"
       ]
      },
      {
       "javascript": [
        "$('div#b98ecdf6-d021-47aa-ad77-59bfca685542').width('15%')"
       ],
       "metadata": {},
       "output_type": "display_data",
       "text": [
        "<IPython.core.display.Javascript at 0x15722ad90>"
       ]
      },
      {
       "javascript": [
        "$('div#b98ecdf6-d021-47aa-ad77-59bfca685542').width('15%')"
       ],
       "metadata": {},
       "output_type": "display_data",
       "text": [
        "<IPython.core.display.Javascript at 0x15722ad90>"
       ]
      },
      {
       "javascript": [
        "$('div#b98ecdf6-d021-47aa-ad77-59bfca685542').width('16%')"
       ],
       "metadata": {},
       "output_type": "display_data",
       "text": [
        "<IPython.core.display.Javascript at 0x15722ad90>"
       ]
      },
      {
       "javascript": [
        "$('div#b98ecdf6-d021-47aa-ad77-59bfca685542').width('16%')"
       ],
       "metadata": {},
       "output_type": "display_data",
       "text": [
        "<IPython.core.display.Javascript at 0x15722ad90>"
       ]
      },
      {
       "javascript": [
        "$('div#b98ecdf6-d021-47aa-ad77-59bfca685542').width('17%')"
       ],
       "metadata": {},
       "output_type": "display_data",
       "text": [
        "<IPython.core.display.Javascript at 0x15722ad90>"
       ]
      },
      {
       "javascript": [
        "$('div#b98ecdf6-d021-47aa-ad77-59bfca685542').width('17%')"
       ],
       "metadata": {},
       "output_type": "display_data",
       "text": [
        "<IPython.core.display.Javascript at 0x15722ad90>"
       ]
      },
      {
       "javascript": [
        "$('div#b98ecdf6-d021-47aa-ad77-59bfca685542').width('18%')"
       ],
       "metadata": {},
       "output_type": "display_data",
       "text": [
        "<IPython.core.display.Javascript at 0x15722ad90>"
       ]
      },
      {
       "javascript": [
        "$('div#b98ecdf6-d021-47aa-ad77-59bfca685542').width('18%')"
       ],
       "metadata": {},
       "output_type": "display_data",
       "text": [
        "<IPython.core.display.Javascript at 0x15722ad90>"
       ]
      },
      {
       "javascript": [
        "$('div#b98ecdf6-d021-47aa-ad77-59bfca685542').width('19%')"
       ],
       "metadata": {},
       "output_type": "display_data",
       "text": [
        "<IPython.core.display.Javascript at 0x15722ad90>"
       ]
      },
      {
       "javascript": [
        "$('div#b98ecdf6-d021-47aa-ad77-59bfca685542').width('20%')"
       ],
       "metadata": {},
       "output_type": "display_data",
       "text": [
        "<IPython.core.display.Javascript at 0x15722ad90>"
       ]
      },
      {
       "javascript": [
        "$('div#b98ecdf6-d021-47aa-ad77-59bfca685542').width('20%')"
       ],
       "metadata": {},
       "output_type": "display_data",
       "text": [
        "<IPython.core.display.Javascript at 0x15722ad90>"
       ]
      },
      {
       "javascript": [
        "$('div#b98ecdf6-d021-47aa-ad77-59bfca685542').width('21%')"
       ],
       "metadata": {},
       "output_type": "display_data",
       "text": [
        "<IPython.core.display.Javascript at 0x15722ad90>"
       ]
      },
      {
       "javascript": [
        "$('div#b98ecdf6-d021-47aa-ad77-59bfca685542').width('21%')"
       ],
       "metadata": {},
       "output_type": "display_data",
       "text": [
        "<IPython.core.display.Javascript at 0x15722ad90>"
       ]
      },
      {
       "javascript": [
        "$('div#b98ecdf6-d021-47aa-ad77-59bfca685542').width('22%')"
       ],
       "metadata": {},
       "output_type": "display_data",
       "text": [
        "<IPython.core.display.Javascript at 0x15722ad90>"
       ]
      },
      {
       "javascript": [
        "$('div#b98ecdf6-d021-47aa-ad77-59bfca685542').width('22%')"
       ],
       "metadata": {},
       "output_type": "display_data",
       "text": [
        "<IPython.core.display.Javascript at 0x15722ad90>"
       ]
      },
      {
       "javascript": [
        "$('div#b98ecdf6-d021-47aa-ad77-59bfca685542').width('23%')"
       ],
       "metadata": {},
       "output_type": "display_data",
       "text": [
        "<IPython.core.display.Javascript at 0x15722ad90>"
       ]
      },
      {
       "javascript": [
        "$('div#b98ecdf6-d021-47aa-ad77-59bfca685542').width('23%')"
       ],
       "metadata": {},
       "output_type": "display_data",
       "text": [
        "<IPython.core.display.Javascript at 0x15722ad90>"
       ]
      },
      {
       "javascript": [
        "$('div#b98ecdf6-d021-47aa-ad77-59bfca685542').width('24%')"
       ],
       "metadata": {},
       "output_type": "display_data",
       "text": [
        "<IPython.core.display.Javascript at 0x15722ad90>"
       ]
      },
      {
       "javascript": [
        "$('div#b98ecdf6-d021-47aa-ad77-59bfca685542').width('25%')"
       ],
       "metadata": {},
       "output_type": "display_data",
       "text": [
        "<IPython.core.display.Javascript at 0x15722ad90>"
       ]
      },
      {
       "javascript": [
        "$('div#b98ecdf6-d021-47aa-ad77-59bfca685542').width('25%')"
       ],
       "metadata": {},
       "output_type": "display_data",
       "text": [
        "<IPython.core.display.Javascript at 0x15722ad90>"
       ]
      },
      {
       "javascript": [
        "$('div#b98ecdf6-d021-47aa-ad77-59bfca685542').width('26%')"
       ],
       "metadata": {},
       "output_type": "display_data",
       "text": [
        "<IPython.core.display.Javascript at 0x15722ad90>"
       ]
      },
      {
       "javascript": [
        "$('div#b98ecdf6-d021-47aa-ad77-59bfca685542').width('26%')"
       ],
       "metadata": {},
       "output_type": "display_data",
       "text": [
        "<IPython.core.display.Javascript at 0x15722ad90>"
       ]
      },
      {
       "javascript": [
        "$('div#b98ecdf6-d021-47aa-ad77-59bfca685542').width('27%')"
       ],
       "metadata": {},
       "output_type": "display_data",
       "text": [
        "<IPython.core.display.Javascript at 0x15722ad90>"
       ]
      },
      {
       "javascript": [
        "$('div#b98ecdf6-d021-47aa-ad77-59bfca685542').width('27%')"
       ],
       "metadata": {},
       "output_type": "display_data",
       "text": [
        "<IPython.core.display.Javascript at 0x15722ad90>"
       ]
      },
      {
       "javascript": [
        "$('div#b98ecdf6-d021-47aa-ad77-59bfca685542').width('28%')"
       ],
       "metadata": {},
       "output_type": "display_data",
       "text": [
        "<IPython.core.display.Javascript at 0x15722ad90>"
       ]
      },
      {
       "javascript": [
        "$('div#b98ecdf6-d021-47aa-ad77-59bfca685542').width('28%')"
       ],
       "metadata": {},
       "output_type": "display_data",
       "text": [
        "<IPython.core.display.Javascript at 0x15722ad90>"
       ]
      },
      {
       "javascript": [
        "$('div#b98ecdf6-d021-47aa-ad77-59bfca685542').width('29%')"
       ],
       "metadata": {},
       "output_type": "display_data",
       "text": [
        "<IPython.core.display.Javascript at 0x15722ad90>"
       ]
      },
      {
       "javascript": [
        "$('div#b98ecdf6-d021-47aa-ad77-59bfca685542').width('30%')"
       ],
       "metadata": {},
       "output_type": "display_data",
       "text": [
        "<IPython.core.display.Javascript at 0x15722ad90>"
       ]
      },
      {
       "javascript": [
        "$('div#b98ecdf6-d021-47aa-ad77-59bfca685542').width('30%')"
       ],
       "metadata": {},
       "output_type": "display_data",
       "text": [
        "<IPython.core.display.Javascript at 0x15722ad90>"
       ]
      },
      {
       "javascript": [
        "$('div#b98ecdf6-d021-47aa-ad77-59bfca685542').width('31%')"
       ],
       "metadata": {},
       "output_type": "display_data",
       "text": [
        "<IPython.core.display.Javascript at 0x15722ad90>"
       ]
      },
      {
       "javascript": [
        "$('div#b98ecdf6-d021-47aa-ad77-59bfca685542').width('31%')"
       ],
       "metadata": {},
       "output_type": "display_data",
       "text": [
        "<IPython.core.display.Javascript at 0x15722ad90>"
       ]
      },
      {
       "javascript": [
        "$('div#b98ecdf6-d021-47aa-ad77-59bfca685542').width('32%')"
       ],
       "metadata": {},
       "output_type": "display_data",
       "text": [
        "<IPython.core.display.Javascript at 0x15722ad90>"
       ]
      },
      {
       "javascript": [
        "$('div#b98ecdf6-d021-47aa-ad77-59bfca685542').width('32%')"
       ],
       "metadata": {},
       "output_type": "display_data",
       "text": [
        "<IPython.core.display.Javascript at 0x15722ad90>"
       ]
      },
      {
       "javascript": [
        "$('div#b98ecdf6-d021-47aa-ad77-59bfca685542').width('33%')"
       ],
       "metadata": {},
       "output_type": "display_data",
       "text": [
        "<IPython.core.display.Javascript at 0x15722ad90>"
       ]
      },
      {
       "javascript": [
        "$('div#b98ecdf6-d021-47aa-ad77-59bfca685542').width('33%')"
       ],
       "metadata": {},
       "output_type": "display_data",
       "text": [
        "<IPython.core.display.Javascript at 0x15722ad90>"
       ]
      },
      {
       "javascript": [
        "$('div#b98ecdf6-d021-47aa-ad77-59bfca685542').width('34%')"
       ],
       "metadata": {},
       "output_type": "display_data",
       "text": [
        "<IPython.core.display.Javascript at 0x15722ad90>"
       ]
      },
      {
       "javascript": [
        "$('div#b98ecdf6-d021-47aa-ad77-59bfca685542').width('35%')"
       ],
       "metadata": {},
       "output_type": "display_data",
       "text": [
        "<IPython.core.display.Javascript at 0x15722ad90>"
       ]
      },
      {
       "javascript": [
        "$('div#b98ecdf6-d021-47aa-ad77-59bfca685542').width('35%')"
       ],
       "metadata": {},
       "output_type": "display_data",
       "text": [
        "<IPython.core.display.Javascript at 0x15722ad90>"
       ]
      },
      {
       "javascript": [
        "$('div#b98ecdf6-d021-47aa-ad77-59bfca685542').width('36%')"
       ],
       "metadata": {},
       "output_type": "display_data",
       "text": [
        "<IPython.core.display.Javascript at 0x15722ad90>"
       ]
      },
      {
       "javascript": [
        "$('div#b98ecdf6-d021-47aa-ad77-59bfca685542').width('36%')"
       ],
       "metadata": {},
       "output_type": "display_data",
       "text": [
        "<IPython.core.display.Javascript at 0x15722ad90>"
       ]
      },
      {
       "javascript": [
        "$('div#b98ecdf6-d021-47aa-ad77-59bfca685542').width('37%')"
       ],
       "metadata": {},
       "output_type": "display_data",
       "text": [
        "<IPython.core.display.Javascript at 0x15722ad90>"
       ]
      },
      {
       "javascript": [
        "$('div#b98ecdf6-d021-47aa-ad77-59bfca685542').width('37%')"
       ],
       "metadata": {},
       "output_type": "display_data",
       "text": [
        "<IPython.core.display.Javascript at 0x15722ad90>"
       ]
      },
      {
       "javascript": [
        "$('div#b98ecdf6-d021-47aa-ad77-59bfca685542').width('38%')"
       ],
       "metadata": {},
       "output_type": "display_data",
       "text": [
        "<IPython.core.display.Javascript at 0x15722ad90>"
       ]
      },
      {
       "javascript": [
        "$('div#b98ecdf6-d021-47aa-ad77-59bfca685542').width('38%')"
       ],
       "metadata": {},
       "output_type": "display_data",
       "text": [
        "<IPython.core.display.Javascript at 0x15722ad90>"
       ]
      },
      {
       "javascript": [
        "$('div#b98ecdf6-d021-47aa-ad77-59bfca685542').width('39%')"
       ],
       "metadata": {},
       "output_type": "display_data",
       "text": [
        "<IPython.core.display.Javascript at 0x15722ad90>"
       ]
      },
      {
       "javascript": [
        "$('div#b98ecdf6-d021-47aa-ad77-59bfca685542').width('40%')"
       ],
       "metadata": {},
       "output_type": "display_data",
       "text": [
        "<IPython.core.display.Javascript at 0x15722ad90>"
       ]
      },
      {
       "javascript": [
        "$('div#b98ecdf6-d021-47aa-ad77-59bfca685542').width('40%')"
       ],
       "metadata": {},
       "output_type": "display_data",
       "text": [
        "<IPython.core.display.Javascript at 0x15722ad90>"
       ]
      },
      {
       "javascript": [
        "$('div#b98ecdf6-d021-47aa-ad77-59bfca685542').width('41%')"
       ],
       "metadata": {},
       "output_type": "display_data",
       "text": [
        "<IPython.core.display.Javascript at 0x15722ad90>"
       ]
      },
      {
       "javascript": [
        "$('div#b98ecdf6-d021-47aa-ad77-59bfca685542').width('41%')"
       ],
       "metadata": {},
       "output_type": "display_data",
       "text": [
        "<IPython.core.display.Javascript at 0x15722ad90>"
       ]
      },
      {
       "javascript": [
        "$('div#b98ecdf6-d021-47aa-ad77-59bfca685542').width('42%')"
       ],
       "metadata": {},
       "output_type": "display_data",
       "text": [
        "<IPython.core.display.Javascript at 0x15722ad90>"
       ]
      },
      {
       "javascript": [
        "$('div#b98ecdf6-d021-47aa-ad77-59bfca685542').width('42%')"
       ],
       "metadata": {},
       "output_type": "display_data",
       "text": [
        "<IPython.core.display.Javascript at 0x15722ad90>"
       ]
      },
      {
       "javascript": [
        "$('div#b98ecdf6-d021-47aa-ad77-59bfca685542').width('43%')"
       ],
       "metadata": {},
       "output_type": "display_data",
       "text": [
        "<IPython.core.display.Javascript at 0x15722ad90>"
       ]
      },
      {
       "javascript": [
        "$('div#b98ecdf6-d021-47aa-ad77-59bfca685542').width('43%')"
       ],
       "metadata": {},
       "output_type": "display_data",
       "text": [
        "<IPython.core.display.Javascript at 0x15722ad90>"
       ]
      },
      {
       "javascript": [
        "$('div#b98ecdf6-d021-47aa-ad77-59bfca685542').width('44%')"
       ],
       "metadata": {},
       "output_type": "display_data",
       "text": [
        "<IPython.core.display.Javascript at 0x15722ad90>"
       ]
      },
      {
       "javascript": [
        "$('div#b98ecdf6-d021-47aa-ad77-59bfca685542').width('45%')"
       ],
       "metadata": {},
       "output_type": "display_data",
       "text": [
        "<IPython.core.display.Javascript at 0x15722ad90>"
       ]
      },
      {
       "javascript": [
        "$('div#b98ecdf6-d021-47aa-ad77-59bfca685542').width('45%')"
       ],
       "metadata": {},
       "output_type": "display_data",
       "text": [
        "<IPython.core.display.Javascript at 0x15722ad90>"
       ]
      },
      {
       "javascript": [
        "$('div#b98ecdf6-d021-47aa-ad77-59bfca685542').width('46%')"
       ],
       "metadata": {},
       "output_type": "display_data",
       "text": [
        "<IPython.core.display.Javascript at 0x15722ad90>"
       ]
      },
      {
       "javascript": [
        "$('div#b98ecdf6-d021-47aa-ad77-59bfca685542').width('46%')"
       ],
       "metadata": {},
       "output_type": "display_data",
       "text": [
        "<IPython.core.display.Javascript at 0x15722ad90>"
       ]
      },
      {
       "javascript": [
        "$('div#b98ecdf6-d021-47aa-ad77-59bfca685542').width('47%')"
       ],
       "metadata": {},
       "output_type": "display_data",
       "text": [
        "<IPython.core.display.Javascript at 0x15722ad90>"
       ]
      },
      {
       "javascript": [
        "$('div#b98ecdf6-d021-47aa-ad77-59bfca685542').width('47%')"
       ],
       "metadata": {},
       "output_type": "display_data",
       "text": [
        "<IPython.core.display.Javascript at 0x15722ad90>"
       ]
      },
      {
       "javascript": [
        "$('div#b98ecdf6-d021-47aa-ad77-59bfca685542').width('48%')"
       ],
       "metadata": {},
       "output_type": "display_data",
       "text": [
        "<IPython.core.display.Javascript at 0x15722ad90>"
       ]
      },
      {
       "javascript": [
        "$('div#b98ecdf6-d021-47aa-ad77-59bfca685542').width('48%')"
       ],
       "metadata": {},
       "output_type": "display_data",
       "text": [
        "<IPython.core.display.Javascript at 0x15722ad90>"
       ]
      },
      {
       "javascript": [
        "$('div#b98ecdf6-d021-47aa-ad77-59bfca685542').width('49%')"
       ],
       "metadata": {},
       "output_type": "display_data",
       "text": [
        "<IPython.core.display.Javascript at 0x15722ad90>"
       ]
      },
      {
       "javascript": [
        "$('div#b98ecdf6-d021-47aa-ad77-59bfca685542').width('50%')"
       ],
       "metadata": {},
       "output_type": "display_data",
       "text": [
        "<IPython.core.display.Javascript at 0x15722ad90>"
       ]
      },
      {
       "javascript": [
        "$('div#b98ecdf6-d021-47aa-ad77-59bfca685542').width('50%')"
       ],
       "metadata": {},
       "output_type": "display_data",
       "text": [
        "<IPython.core.display.Javascript at 0x15722ad90>"
       ]
      },
      {
       "javascript": [
        "$('div#b98ecdf6-d021-47aa-ad77-59bfca685542').width('51%')"
       ],
       "metadata": {},
       "output_type": "display_data",
       "text": [
        "<IPython.core.display.Javascript at 0x15722ad90>"
       ]
      },
      {
       "javascript": [
        "$('div#b98ecdf6-d021-47aa-ad77-59bfca685542').width('51%')"
       ],
       "metadata": {},
       "output_type": "display_data",
       "text": [
        "<IPython.core.display.Javascript at 0x15722ad90>"
       ]
      },
      {
       "javascript": [
        "$('div#b98ecdf6-d021-47aa-ad77-59bfca685542').width('52%')"
       ],
       "metadata": {},
       "output_type": "display_data",
       "text": [
        "<IPython.core.display.Javascript at 0x15722ad90>"
       ]
      },
      {
       "javascript": [
        "$('div#b98ecdf6-d021-47aa-ad77-59bfca685542').width('52%')"
       ],
       "metadata": {},
       "output_type": "display_data",
       "text": [
        "<IPython.core.display.Javascript at 0x15722ad90>"
       ]
      },
      {
       "javascript": [
        "$('div#b98ecdf6-d021-47aa-ad77-59bfca685542').width('53%')"
       ],
       "metadata": {},
       "output_type": "display_data",
       "text": [
        "<IPython.core.display.Javascript at 0x15722ad90>"
       ]
      },
      {
       "javascript": [
        "$('div#b98ecdf6-d021-47aa-ad77-59bfca685542').width('53%')"
       ],
       "metadata": {},
       "output_type": "display_data",
       "text": [
        "<IPython.core.display.Javascript at 0x15722ad90>"
       ]
      },
      {
       "javascript": [
        "$('div#b98ecdf6-d021-47aa-ad77-59bfca685542').width('54%')"
       ],
       "metadata": {},
       "output_type": "display_data",
       "text": [
        "<IPython.core.display.Javascript at 0x15722ad90>"
       ]
      },
      {
       "javascript": [
        "$('div#b98ecdf6-d021-47aa-ad77-59bfca685542').width('55%')"
       ],
       "metadata": {},
       "output_type": "display_data",
       "text": [
        "<IPython.core.display.Javascript at 0x15722ad90>"
       ]
      },
      {
       "javascript": [
        "$('div#b98ecdf6-d021-47aa-ad77-59bfca685542').width('55%')"
       ],
       "metadata": {},
       "output_type": "display_data",
       "text": [
        "<IPython.core.display.Javascript at 0x15722ad90>"
       ]
      },
      {
       "javascript": [
        "$('div#b98ecdf6-d021-47aa-ad77-59bfca685542').width('56%')"
       ],
       "metadata": {},
       "output_type": "display_data",
       "text": [
        "<IPython.core.display.Javascript at 0x15722ad90>"
       ]
      },
      {
       "javascript": [
        "$('div#b98ecdf6-d021-47aa-ad77-59bfca685542').width('56%')"
       ],
       "metadata": {},
       "output_type": "display_data",
       "text": [
        "<IPython.core.display.Javascript at 0x15722ad90>"
       ]
      },
      {
       "javascript": [
        "$('div#b98ecdf6-d021-47aa-ad77-59bfca685542').width('57%')"
       ],
       "metadata": {},
       "output_type": "display_data",
       "text": [
        "<IPython.core.display.Javascript at 0x15722ad90>"
       ]
      },
      {
       "javascript": [
        "$('div#b98ecdf6-d021-47aa-ad77-59bfca685542').width('57%')"
       ],
       "metadata": {},
       "output_type": "display_data",
       "text": [
        "<IPython.core.display.Javascript at 0x15722ad90>"
       ]
      },
      {
       "javascript": [
        "$('div#b98ecdf6-d021-47aa-ad77-59bfca685542').width('58%')"
       ],
       "metadata": {},
       "output_type": "display_data",
       "text": [
        "<IPython.core.display.Javascript at 0x15722ad90>"
       ]
      },
      {
       "javascript": [
        "$('div#b98ecdf6-d021-47aa-ad77-59bfca685542').width('58%')"
       ],
       "metadata": {},
       "output_type": "display_data",
       "text": [
        "<IPython.core.display.Javascript at 0x15722ad90>"
       ]
      },
      {
       "javascript": [
        "$('div#b98ecdf6-d021-47aa-ad77-59bfca685542').width('59%')"
       ],
       "metadata": {},
       "output_type": "display_data",
       "text": [
        "<IPython.core.display.Javascript at 0x15722ad90>"
       ]
      },
      {
       "javascript": [
        "$('div#b98ecdf6-d021-47aa-ad77-59bfca685542').width('60%')"
       ],
       "metadata": {},
       "output_type": "display_data",
       "text": [
        "<IPython.core.display.Javascript at 0x15722ad90>"
       ]
      },
      {
       "javascript": [
        "$('div#b98ecdf6-d021-47aa-ad77-59bfca685542').width('60%')"
       ],
       "metadata": {},
       "output_type": "display_data",
       "text": [
        "<IPython.core.display.Javascript at 0x15722ad90>"
       ]
      },
      {
       "javascript": [
        "$('div#b98ecdf6-d021-47aa-ad77-59bfca685542').width('61%')"
       ],
       "metadata": {},
       "output_type": "display_data",
       "text": [
        "<IPython.core.display.Javascript at 0x15722ad90>"
       ]
      },
      {
       "javascript": [
        "$('div#b98ecdf6-d021-47aa-ad77-59bfca685542').width('61%')"
       ],
       "metadata": {},
       "output_type": "display_data",
       "text": [
        "<IPython.core.display.Javascript at 0x15722ad90>"
       ]
      },
      {
       "javascript": [
        "$('div#b98ecdf6-d021-47aa-ad77-59bfca685542').width('62%')"
       ],
       "metadata": {},
       "output_type": "display_data",
       "text": [
        "<IPython.core.display.Javascript at 0x15722ad90>"
       ]
      },
      {
       "javascript": [
        "$('div#b98ecdf6-d021-47aa-ad77-59bfca685542').width('62%')"
       ],
       "metadata": {},
       "output_type": "display_data",
       "text": [
        "<IPython.core.display.Javascript at 0x15722ad90>"
       ]
      },
      {
       "javascript": [
        "$('div#b98ecdf6-d021-47aa-ad77-59bfca685542').width('63%')"
       ],
       "metadata": {},
       "output_type": "display_data",
       "text": [
        "<IPython.core.display.Javascript at 0x15722ad90>"
       ]
      },
      {
       "javascript": [
        "$('div#b98ecdf6-d021-47aa-ad77-59bfca685542').width('63%')"
       ],
       "metadata": {},
       "output_type": "display_data",
       "text": [
        "<IPython.core.display.Javascript at 0x15722ad90>"
       ]
      },
      {
       "javascript": [
        "$('div#b98ecdf6-d021-47aa-ad77-59bfca685542').width('64%')"
       ],
       "metadata": {},
       "output_type": "display_data",
       "text": [
        "<IPython.core.display.Javascript at 0x15722ad90>"
       ]
      },
      {
       "javascript": [
        "$('div#b98ecdf6-d021-47aa-ad77-59bfca685542').width('65%')"
       ],
       "metadata": {},
       "output_type": "display_data",
       "text": [
        "<IPython.core.display.Javascript at 0x15722ad90>"
       ]
      },
      {
       "javascript": [
        "$('div#b98ecdf6-d021-47aa-ad77-59bfca685542').width('65%')"
       ],
       "metadata": {},
       "output_type": "display_data",
       "text": [
        "<IPython.core.display.Javascript at 0x15722ad90>"
       ]
      },
      {
       "javascript": [
        "$('div#b98ecdf6-d021-47aa-ad77-59bfca685542').width('66%')"
       ],
       "metadata": {},
       "output_type": "display_data",
       "text": [
        "<IPython.core.display.Javascript at 0x15722ad90>"
       ]
      },
      {
       "javascript": [
        "$('div#b98ecdf6-d021-47aa-ad77-59bfca685542').width('66%')"
       ],
       "metadata": {},
       "output_type": "display_data",
       "text": [
        "<IPython.core.display.Javascript at 0x15722ad90>"
       ]
      },
      {
       "javascript": [
        "$('div#b98ecdf6-d021-47aa-ad77-59bfca685542').width('67%')"
       ],
       "metadata": {},
       "output_type": "display_data",
       "text": [
        "<IPython.core.display.Javascript at 0x15722ad90>"
       ]
      },
      {
       "javascript": [
        "$('div#b98ecdf6-d021-47aa-ad77-59bfca685542').width('67%')"
       ],
       "metadata": {},
       "output_type": "display_data",
       "text": [
        "<IPython.core.display.Javascript at 0x15722ad90>"
       ]
      },
      {
       "javascript": [
        "$('div#b98ecdf6-d021-47aa-ad77-59bfca685542').width('68%')"
       ],
       "metadata": {},
       "output_type": "display_data",
       "text": [
        "<IPython.core.display.Javascript at 0x15722ad90>"
       ]
      },
      {
       "javascript": [
        "$('div#b98ecdf6-d021-47aa-ad77-59bfca685542').width('68%')"
       ],
       "metadata": {},
       "output_type": "display_data",
       "text": [
        "<IPython.core.display.Javascript at 0x15722ad90>"
       ]
      },
      {
       "javascript": [
        "$('div#b98ecdf6-d021-47aa-ad77-59bfca685542').width('69%')"
       ],
       "metadata": {},
       "output_type": "display_data",
       "text": [
        "<IPython.core.display.Javascript at 0x15722ad90>"
       ]
      },
      {
       "javascript": [
        "$('div#b98ecdf6-d021-47aa-ad77-59bfca685542').width('70%')"
       ],
       "metadata": {},
       "output_type": "display_data",
       "text": [
        "<IPython.core.display.Javascript at 0x15722ad90>"
       ]
      },
      {
       "javascript": [
        "$('div#b98ecdf6-d021-47aa-ad77-59bfca685542').width('70%')"
       ],
       "metadata": {},
       "output_type": "display_data",
       "text": [
        "<IPython.core.display.Javascript at 0x15722ad90>"
       ]
      },
      {
       "javascript": [
        "$('div#b98ecdf6-d021-47aa-ad77-59bfca685542').width('71%')"
       ],
       "metadata": {},
       "output_type": "display_data",
       "text": [
        "<IPython.core.display.Javascript at 0x15722ad90>"
       ]
      },
      {
       "javascript": [
        "$('div#b98ecdf6-d021-47aa-ad77-59bfca685542').width('71%')"
       ],
       "metadata": {},
       "output_type": "display_data",
       "text": [
        "<IPython.core.display.Javascript at 0x15722ad90>"
       ]
      },
      {
       "javascript": [
        "$('div#b98ecdf6-d021-47aa-ad77-59bfca685542').width('72%')"
       ],
       "metadata": {},
       "output_type": "display_data",
       "text": [
        "<IPython.core.display.Javascript at 0x15722ad90>"
       ]
      },
      {
       "javascript": [
        "$('div#b98ecdf6-d021-47aa-ad77-59bfca685542').width('72%')"
       ],
       "metadata": {},
       "output_type": "display_data",
       "text": [
        "<IPython.core.display.Javascript at 0x15722ad90>"
       ]
      },
      {
       "javascript": [
        "$('div#b98ecdf6-d021-47aa-ad77-59bfca685542').width('73%')"
       ],
       "metadata": {},
       "output_type": "display_data",
       "text": [
        "<IPython.core.display.Javascript at 0x15722ad90>"
       ]
      },
      {
       "javascript": [
        "$('div#b98ecdf6-d021-47aa-ad77-59bfca685542').width('73%')"
       ],
       "metadata": {},
       "output_type": "display_data",
       "text": [
        "<IPython.core.display.Javascript at 0x15722ad90>"
       ]
      },
      {
       "javascript": [
        "$('div#b98ecdf6-d021-47aa-ad77-59bfca685542').width('74%')"
       ],
       "metadata": {},
       "output_type": "display_data",
       "text": [
        "<IPython.core.display.Javascript at 0x15722ad90>"
       ]
      },
      {
       "javascript": [
        "$('div#b98ecdf6-d021-47aa-ad77-59bfca685542').width('75%')"
       ],
       "metadata": {},
       "output_type": "display_data",
       "text": [
        "<IPython.core.display.Javascript at 0x15722ad90>"
       ]
      },
      {
       "javascript": [
        "$('div#b98ecdf6-d021-47aa-ad77-59bfca685542').width('75%')"
       ],
       "metadata": {},
       "output_type": "display_data",
       "text": [
        "<IPython.core.display.Javascript at 0x15722ad90>"
       ]
      },
      {
       "javascript": [
        "$('div#b98ecdf6-d021-47aa-ad77-59bfca685542').width('76%')"
       ],
       "metadata": {},
       "output_type": "display_data",
       "text": [
        "<IPython.core.display.Javascript at 0x15722ad90>"
       ]
      },
      {
       "javascript": [
        "$('div#b98ecdf6-d021-47aa-ad77-59bfca685542').width('76%')"
       ],
       "metadata": {},
       "output_type": "display_data",
       "text": [
        "<IPython.core.display.Javascript at 0x15722ad90>"
       ]
      },
      {
       "javascript": [
        "$('div#b98ecdf6-d021-47aa-ad77-59bfca685542').width('77%')"
       ],
       "metadata": {},
       "output_type": "display_data",
       "text": [
        "<IPython.core.display.Javascript at 0x15722ad90>"
       ]
      },
      {
       "javascript": [
        "$('div#b98ecdf6-d021-47aa-ad77-59bfca685542').width('77%')"
       ],
       "metadata": {},
       "output_type": "display_data",
       "text": [
        "<IPython.core.display.Javascript at 0x15722ad90>"
       ]
      },
      {
       "javascript": [
        "$('div#b98ecdf6-d021-47aa-ad77-59bfca685542').width('78%')"
       ],
       "metadata": {},
       "output_type": "display_data",
       "text": [
        "<IPython.core.display.Javascript at 0x15722ad90>"
       ]
      },
      {
       "javascript": [
        "$('div#b98ecdf6-d021-47aa-ad77-59bfca685542').width('78%')"
       ],
       "metadata": {},
       "output_type": "display_data",
       "text": [
        "<IPython.core.display.Javascript at 0x15722ad90>"
       ]
      },
      {
       "javascript": [
        "$('div#b98ecdf6-d021-47aa-ad77-59bfca685542').width('79%')"
       ],
       "metadata": {},
       "output_type": "display_data",
       "text": [
        "<IPython.core.display.Javascript at 0x15722ad90>"
       ]
      },
      {
       "javascript": [
        "$('div#b98ecdf6-d021-47aa-ad77-59bfca685542').width('80%')"
       ],
       "metadata": {},
       "output_type": "display_data",
       "text": [
        "<IPython.core.display.Javascript at 0x15722ad90>"
       ]
      },
      {
       "javascript": [
        "$('div#b98ecdf6-d021-47aa-ad77-59bfca685542').width('80%')"
       ],
       "metadata": {},
       "output_type": "display_data",
       "text": [
        "<IPython.core.display.Javascript at 0x15722ad90>"
       ]
      },
      {
       "javascript": [
        "$('div#b98ecdf6-d021-47aa-ad77-59bfca685542').width('81%')"
       ],
       "metadata": {},
       "output_type": "display_data",
       "text": [
        "<IPython.core.display.Javascript at 0x15722ad90>"
       ]
      },
      {
       "javascript": [
        "$('div#b98ecdf6-d021-47aa-ad77-59bfca685542').width('81%')"
       ],
       "metadata": {},
       "output_type": "display_data",
       "text": [
        "<IPython.core.display.Javascript at 0x15722ad90>"
       ]
      },
      {
       "javascript": [
        "$('div#b98ecdf6-d021-47aa-ad77-59bfca685542').width('82%')"
       ],
       "metadata": {},
       "output_type": "display_data",
       "text": [
        "<IPython.core.display.Javascript at 0x15722ad90>"
       ]
      },
      {
       "javascript": [
        "$('div#b98ecdf6-d021-47aa-ad77-59bfca685542').width('82%')"
       ],
       "metadata": {},
       "output_type": "display_data",
       "text": [
        "<IPython.core.display.Javascript at 0x15722ad90>"
       ]
      },
      {
       "javascript": [
        "$('div#b98ecdf6-d021-47aa-ad77-59bfca685542').width('83%')"
       ],
       "metadata": {},
       "output_type": "display_data",
       "text": [
        "<IPython.core.display.Javascript at 0x15722ad90>"
       ]
      },
      {
       "javascript": [
        "$('div#b98ecdf6-d021-47aa-ad77-59bfca685542').width('83%')"
       ],
       "metadata": {},
       "output_type": "display_data",
       "text": [
        "<IPython.core.display.Javascript at 0x15722ad90>"
       ]
      },
      {
       "javascript": [
        "$('div#b98ecdf6-d021-47aa-ad77-59bfca685542').width('84%')"
       ],
       "metadata": {},
       "output_type": "display_data",
       "text": [
        "<IPython.core.display.Javascript at 0x15722ad90>"
       ]
      },
      {
       "javascript": [
        "$('div#b98ecdf6-d021-47aa-ad77-59bfca685542').width('85%')"
       ],
       "metadata": {},
       "output_type": "display_data",
       "text": [
        "<IPython.core.display.Javascript at 0x15722ad90>"
       ]
      },
      {
       "javascript": [
        "$('div#b98ecdf6-d021-47aa-ad77-59bfca685542').width('85%')"
       ],
       "metadata": {},
       "output_type": "display_data",
       "text": [
        "<IPython.core.display.Javascript at 0x15722ad90>"
       ]
      },
      {
       "javascript": [
        "$('div#b98ecdf6-d021-47aa-ad77-59bfca685542').width('86%')"
       ],
       "metadata": {},
       "output_type": "display_data",
       "text": [
        "<IPython.core.display.Javascript at 0x15722ad90>"
       ]
      },
      {
       "javascript": [
        "$('div#b98ecdf6-d021-47aa-ad77-59bfca685542').width('86%')"
       ],
       "metadata": {},
       "output_type": "display_data",
       "text": [
        "<IPython.core.display.Javascript at 0x15722ad90>"
       ]
      },
      {
       "javascript": [
        "$('div#b98ecdf6-d021-47aa-ad77-59bfca685542').width('87%')"
       ],
       "metadata": {},
       "output_type": "display_data",
       "text": [
        "<IPython.core.display.Javascript at 0x15722ad90>"
       ]
      },
      {
       "javascript": [
        "$('div#b98ecdf6-d021-47aa-ad77-59bfca685542').width('87%')"
       ],
       "metadata": {},
       "output_type": "display_data",
       "text": [
        "<IPython.core.display.Javascript at 0x15722ad90>"
       ]
      },
      {
       "javascript": [
        "$('div#b98ecdf6-d021-47aa-ad77-59bfca685542').width('88%')"
       ],
       "metadata": {},
       "output_type": "display_data",
       "text": [
        "<IPython.core.display.Javascript at 0x15722ad90>"
       ]
      },
      {
       "javascript": [
        "$('div#b98ecdf6-d021-47aa-ad77-59bfca685542').width('88%')"
       ],
       "metadata": {},
       "output_type": "display_data",
       "text": [
        "<IPython.core.display.Javascript at 0x15722ad90>"
       ]
      },
      {
       "javascript": [
        "$('div#b98ecdf6-d021-47aa-ad77-59bfca685542').width('89%')"
       ],
       "metadata": {},
       "output_type": "display_data",
       "text": [
        "<IPython.core.display.Javascript at 0x15722ad90>"
       ]
      },
      {
       "javascript": [
        "$('div#b98ecdf6-d021-47aa-ad77-59bfca685542').width('90%')"
       ],
       "metadata": {},
       "output_type": "display_data",
       "text": [
        "<IPython.core.display.Javascript at 0x15722ad90>"
       ]
      },
      {
       "javascript": [
        "$('div#b98ecdf6-d021-47aa-ad77-59bfca685542').width('90%')"
       ],
       "metadata": {},
       "output_type": "display_data",
       "text": [
        "<IPython.core.display.Javascript at 0x15722ad90>"
       ]
      },
      {
       "javascript": [
        "$('div#b98ecdf6-d021-47aa-ad77-59bfca685542').width('91%')"
       ],
       "metadata": {},
       "output_type": "display_data",
       "text": [
        "<IPython.core.display.Javascript at 0x15722ad90>"
       ]
      },
      {
       "javascript": [
        "$('div#b98ecdf6-d021-47aa-ad77-59bfca685542').width('91%')"
       ],
       "metadata": {},
       "output_type": "display_data",
       "text": [
        "<IPython.core.display.Javascript at 0x15722ad90>"
       ]
      },
      {
       "javascript": [
        "$('div#b98ecdf6-d021-47aa-ad77-59bfca685542').width('92%')"
       ],
       "metadata": {},
       "output_type": "display_data",
       "text": [
        "<IPython.core.display.Javascript at 0x15722ad90>"
       ]
      },
      {
       "javascript": [
        "$('div#b98ecdf6-d021-47aa-ad77-59bfca685542').width('92%')"
       ],
       "metadata": {},
       "output_type": "display_data",
       "text": [
        "<IPython.core.display.Javascript at 0x15722ad90>"
       ]
      },
      {
       "javascript": [
        "$('div#b98ecdf6-d021-47aa-ad77-59bfca685542').width('93%')"
       ],
       "metadata": {},
       "output_type": "display_data",
       "text": [
        "<IPython.core.display.Javascript at 0x15722ad90>"
       ]
      },
      {
       "javascript": [
        "$('div#b98ecdf6-d021-47aa-ad77-59bfca685542').width('93%')"
       ],
       "metadata": {},
       "output_type": "display_data",
       "text": [
        "<IPython.core.display.Javascript at 0x15722ad90>"
       ]
      },
      {
       "javascript": [
        "$('div#b98ecdf6-d021-47aa-ad77-59bfca685542').width('94%')"
       ],
       "metadata": {},
       "output_type": "display_data",
       "text": [
        "<IPython.core.display.Javascript at 0x15722ad90>"
       ]
      },
      {
       "javascript": [
        "$('div#b98ecdf6-d021-47aa-ad77-59bfca685542').width('95%')"
       ],
       "metadata": {},
       "output_type": "display_data",
       "text": [
        "<IPython.core.display.Javascript at 0x15722ad90>"
       ]
      },
      {
       "javascript": [
        "$('div#b98ecdf6-d021-47aa-ad77-59bfca685542').width('95%')"
       ],
       "metadata": {},
       "output_type": "display_data",
       "text": [
        "<IPython.core.display.Javascript at 0x15722ad90>"
       ]
      },
      {
       "javascript": [
        "$('div#b98ecdf6-d021-47aa-ad77-59bfca685542').width('96%')"
       ],
       "metadata": {},
       "output_type": "display_data",
       "text": [
        "<IPython.core.display.Javascript at 0x15722ad90>"
       ]
      },
      {
       "javascript": [
        "$('div#b98ecdf6-d021-47aa-ad77-59bfca685542').width('96%')"
       ],
       "metadata": {},
       "output_type": "display_data",
       "text": [
        "<IPython.core.display.Javascript at 0x15722ad90>"
       ]
      },
      {
       "javascript": [
        "$('div#b98ecdf6-d021-47aa-ad77-59bfca685542').width('97%')"
       ],
       "metadata": {},
       "output_type": "display_data",
       "text": [
        "<IPython.core.display.Javascript at 0x15722ad90>"
       ]
      },
      {
       "javascript": [
        "$('div#b98ecdf6-d021-47aa-ad77-59bfca685542').width('97%')"
       ],
       "metadata": {},
       "output_type": "display_data",
       "text": [
        "<IPython.core.display.Javascript at 0x15722ad90>"
       ]
      },
      {
       "javascript": [
        "$('div#b98ecdf6-d021-47aa-ad77-59bfca685542').width('98%')"
       ],
       "metadata": {},
       "output_type": "display_data",
       "text": [
        "<IPython.core.display.Javascript at 0x15722ad90>"
       ]
      },
      {
       "javascript": [
        "$('div#b98ecdf6-d021-47aa-ad77-59bfca685542').width('98%')"
       ],
       "metadata": {},
       "output_type": "display_data",
       "text": [
        "<IPython.core.display.Javascript at 0x15722ad90>"
       ]
      },
      {
       "javascript": [
        "$('div#b98ecdf6-d021-47aa-ad77-59bfca685542').width('99%')"
       ],
       "metadata": {},
       "output_type": "display_data",
       "text": [
        "<IPython.core.display.Javascript at 0x15722ad90>"
       ]
      },
      {
       "javascript": [
        "$('div#b98ecdf6-d021-47aa-ad77-59bfca685542').width('100%')"
       ],
       "metadata": {},
       "output_type": "display_data",
       "text": [
        "<IPython.core.display.Javascript at 0x15722ad90>"
       ]
      },
      {
       "html": [
        "<iframe src=http://127.0.0.1:8001/918926 width=100%% height=420 frameborder=0></iframe>"
       ],
       "metadata": {},
       "output_type": "pyout",
       "prompt_number": 110,
       "text": [
        "<mMR.mMR.UncompressedProjection instance at 0x189a23248>"
       ]
      }
     ],
     "prompt_number": 110
    },
    {
     "cell_type": "code",
     "collapsed": false,
     "input": [
      "A.display(scale_factor=0.0005)"
     ],
     "language": "python",
     "metadata": {},
     "outputs": [
      {
       "html": [
        "\n",
        "        <div style=\"border: 1px solid white; width:100%%; height:6px; background-color:rgb(246,246,246)\">\n",
        "            <div id=\"2f8d6364-b758-41cb-bc1a-4dd4dab334d5\" style=\"background-color:rgb(200,200,200); width:0%; height:6px\"> </div>\n",
        "        </div> \n",
        "        "
       ],
       "metadata": {},
       "output_type": "display_data",
       "text": [
        "<IPython.core.display.HTML at 0x17f33f750>"
       ]
      },
      {
       "javascript": [
        "$('div#2f8d6364-b758-41cb-bc1a-4dd4dab334d5').width('1%')"
       ],
       "metadata": {},
       "output_type": "display_data",
       "text": [
        "<IPython.core.display.Javascript at 0x157234910>"
       ]
      },
      {
       "javascript": [
        "$('div#2f8d6364-b758-41cb-bc1a-4dd4dab334d5').width('1%')"
       ],
       "metadata": {},
       "output_type": "display_data",
       "text": [
        "<IPython.core.display.Javascript at 0x157234910>"
       ]
      },
      {
       "javascript": [
        "$('div#2f8d6364-b758-41cb-bc1a-4dd4dab334d5').width('1%')"
       ],
       "metadata": {},
       "output_type": "display_data",
       "text": [
        "<IPython.core.display.Javascript at 0x157234910>"
       ]
      },
      {
       "javascript": [
        "$('div#2f8d6364-b758-41cb-bc1a-4dd4dab334d5').width('2%')"
       ],
       "metadata": {},
       "output_type": "display_data",
       "text": [
        "<IPython.core.display.Javascript at 0x157234910>"
       ]
      },
      {
       "javascript": [
        "$('div#2f8d6364-b758-41cb-bc1a-4dd4dab334d5').width('3%')"
       ],
       "metadata": {},
       "output_type": "display_data",
       "text": [
        "<IPython.core.display.Javascript at 0x157234910>"
       ]
      },
      {
       "javascript": [
        "$('div#2f8d6364-b758-41cb-bc1a-4dd4dab334d5').width('3%')"
       ],
       "metadata": {},
       "output_type": "display_data",
       "text": [
        "<IPython.core.display.Javascript at 0x157234910>"
       ]
      },
      {
       "javascript": [
        "$('div#2f8d6364-b758-41cb-bc1a-4dd4dab334d5').width('4%')"
       ],
       "metadata": {},
       "output_type": "display_data",
       "text": [
        "<IPython.core.display.Javascript at 0x157234910>"
       ]
      },
      {
       "javascript": [
        "$('div#2f8d6364-b758-41cb-bc1a-4dd4dab334d5').width('5%')"
       ],
       "metadata": {},
       "output_type": "display_data",
       "text": [
        "<IPython.core.display.Javascript at 0x157234910>"
       ]
      },
      {
       "javascript": [
        "$('div#2f8d6364-b758-41cb-bc1a-4dd4dab334d5').width('6%')"
       ],
       "metadata": {},
       "output_type": "display_data",
       "text": [
        "<IPython.core.display.Javascript at 0x157234910>"
       ]
      },
      {
       "javascript": [
        "$('div#2f8d6364-b758-41cb-bc1a-4dd4dab334d5').width('7%')"
       ],
       "metadata": {},
       "output_type": "display_data",
       "text": [
        "<IPython.core.display.Javascript at 0x157234910>"
       ]
      },
      {
       "javascript": [
        "$('div#2f8d6364-b758-41cb-bc1a-4dd4dab334d5').width('7%')"
       ],
       "metadata": {},
       "output_type": "display_data",
       "text": [
        "<IPython.core.display.Javascript at 0x157234910>"
       ]
      },
      {
       "javascript": [
        "$('div#2f8d6364-b758-41cb-bc1a-4dd4dab334d5').width('8%')"
       ],
       "metadata": {},
       "output_type": "display_data",
       "text": [
        "<IPython.core.display.Javascript at 0x157234910>"
       ]
      },
      {
       "javascript": [
        "$('div#2f8d6364-b758-41cb-bc1a-4dd4dab334d5').width('9%')"
       ],
       "metadata": {},
       "output_type": "display_data",
       "text": [
        "<IPython.core.display.Javascript at 0x157234910>"
       ]
      },
      {
       "javascript": [
        "$('div#2f8d6364-b758-41cb-bc1a-4dd4dab334d5').width('10%')"
       ],
       "metadata": {},
       "output_type": "display_data",
       "text": [
        "<IPython.core.display.Javascript at 0x157234910>"
       ]
      },
      {
       "javascript": [
        "$('div#2f8d6364-b758-41cb-bc1a-4dd4dab334d5').width('10%')"
       ],
       "metadata": {},
       "output_type": "display_data",
       "text": [
        "<IPython.core.display.Javascript at 0x157234910>"
       ]
      },
      {
       "javascript": [
        "$('div#2f8d6364-b758-41cb-bc1a-4dd4dab334d5').width('11%')"
       ],
       "metadata": {},
       "output_type": "display_data",
       "text": [
        "<IPython.core.display.Javascript at 0x157234910>"
       ]
      },
      {
       "javascript": [
        "$('div#2f8d6364-b758-41cb-bc1a-4dd4dab334d5').width('12%')"
       ],
       "metadata": {},
       "output_type": "display_data",
       "text": [
        "<IPython.core.display.Javascript at 0x157234910>"
       ]
      },
      {
       "javascript": [
        "$('div#2f8d6364-b758-41cb-bc1a-4dd4dab334d5').width('13%')"
       ],
       "metadata": {},
       "output_type": "display_data",
       "text": [
        "<IPython.core.display.Javascript at 0x157234910>"
       ]
      },
      {
       "javascript": [
        "$('div#2f8d6364-b758-41cb-bc1a-4dd4dab334d5').width('14%')"
       ],
       "metadata": {},
       "output_type": "display_data",
       "text": [
        "<IPython.core.display.Javascript at 0x157234910>"
       ]
      },
      {
       "javascript": [
        "$('div#2f8d6364-b758-41cb-bc1a-4dd4dab334d5').width('14%')"
       ],
       "metadata": {},
       "output_type": "display_data",
       "text": [
        "<IPython.core.display.Javascript at 0x157234910>"
       ]
      },
      {
       "javascript": [
        "$('div#2f8d6364-b758-41cb-bc1a-4dd4dab334d5').width('15%')"
       ],
       "metadata": {},
       "output_type": "display_data",
       "text": [
        "<IPython.core.display.Javascript at 0x157234910>"
       ]
      },
      {
       "javascript": [
        "$('div#2f8d6364-b758-41cb-bc1a-4dd4dab334d5').width('16%')"
       ],
       "metadata": {},
       "output_type": "display_data",
       "text": [
        "<IPython.core.display.Javascript at 0x157234910>"
       ]
      },
      {
       "javascript": [
        "$('div#2f8d6364-b758-41cb-bc1a-4dd4dab334d5').width('17%')"
       ],
       "metadata": {},
       "output_type": "display_data",
       "text": [
        "<IPython.core.display.Javascript at 0x157234910>"
       ]
      },
      {
       "javascript": [
        "$('div#2f8d6364-b758-41cb-bc1a-4dd4dab334d5').width('17%')"
       ],
       "metadata": {},
       "output_type": "display_data",
       "text": [
        "<IPython.core.display.Javascript at 0x157234910>"
       ]
      },
      {
       "javascript": [
        "$('div#2f8d6364-b758-41cb-bc1a-4dd4dab334d5').width('18%')"
       ],
       "metadata": {},
       "output_type": "display_data",
       "text": [
        "<IPython.core.display.Javascript at 0x157234910>"
       ]
      },
      {
       "javascript": [
        "$('div#2f8d6364-b758-41cb-bc1a-4dd4dab334d5').width('19%')"
       ],
       "metadata": {},
       "output_type": "display_data",
       "text": [
        "<IPython.core.display.Javascript at 0x157234910>"
       ]
      },
      {
       "javascript": [
        "$('div#2f8d6364-b758-41cb-bc1a-4dd4dab334d5').width('20%')"
       ],
       "metadata": {},
       "output_type": "display_data",
       "text": [
        "<IPython.core.display.Javascript at 0x157234910>"
       ]
      },
      {
       "javascript": [
        "$('div#2f8d6364-b758-41cb-bc1a-4dd4dab334d5').width('21%')"
       ],
       "metadata": {},
       "output_type": "display_data",
       "text": [
        "<IPython.core.display.Javascript at 0x157234910>"
       ]
      },
      {
       "javascript": [
        "$('div#2f8d6364-b758-41cb-bc1a-4dd4dab334d5').width('21%')"
       ],
       "metadata": {},
       "output_type": "display_data",
       "text": [
        "<IPython.core.display.Javascript at 0x157234910>"
       ]
      },
      {
       "javascript": [
        "$('div#2f8d6364-b758-41cb-bc1a-4dd4dab334d5').width('22%')"
       ],
       "metadata": {},
       "output_type": "display_data",
       "text": [
        "<IPython.core.display.Javascript at 0x157234910>"
       ]
      },
      {
       "javascript": [
        "$('div#2f8d6364-b758-41cb-bc1a-4dd4dab334d5').width('23%')"
       ],
       "metadata": {},
       "output_type": "display_data",
       "text": [
        "<IPython.core.display.Javascript at 0x157234910>"
       ]
      },
      {
       "javascript": [
        "$('div#2f8d6364-b758-41cb-bc1a-4dd4dab334d5').width('24%')"
       ],
       "metadata": {},
       "output_type": "display_data",
       "text": [
        "<IPython.core.display.Javascript at 0x157234910>"
       ]
      },
      {
       "javascript": [
        "$('div#2f8d6364-b758-41cb-bc1a-4dd4dab334d5').width('25%')"
       ],
       "metadata": {},
       "output_type": "display_data",
       "text": [
        "<IPython.core.display.Javascript at 0x157234910>"
       ]
      },
      {
       "javascript": [
        "$('div#2f8d6364-b758-41cb-bc1a-4dd4dab334d5').width('25%')"
       ],
       "metadata": {},
       "output_type": "display_data",
       "text": [
        "<IPython.core.display.Javascript at 0x157234910>"
       ]
      },
      {
       "javascript": [
        "$('div#2f8d6364-b758-41cb-bc1a-4dd4dab334d5').width('26%')"
       ],
       "metadata": {},
       "output_type": "display_data",
       "text": [
        "<IPython.core.display.Javascript at 0x157234910>"
       ]
      },
      {
       "javascript": [
        "$('div#2f8d6364-b758-41cb-bc1a-4dd4dab334d5').width('27%')"
       ],
       "metadata": {},
       "output_type": "display_data",
       "text": [
        "<IPython.core.display.Javascript at 0x157234910>"
       ]
      },
      {
       "javascript": [
        "$('div#2f8d6364-b758-41cb-bc1a-4dd4dab334d5').width('28%')"
       ],
       "metadata": {},
       "output_type": "display_data",
       "text": [
        "<IPython.core.display.Javascript at 0x157234910>"
       ]
      },
      {
       "javascript": [
        "$('div#2f8d6364-b758-41cb-bc1a-4dd4dab334d5').width('28%')"
       ],
       "metadata": {},
       "output_type": "display_data",
       "text": [
        "<IPython.core.display.Javascript at 0x157234910>"
       ]
      },
      {
       "javascript": [
        "$('div#2f8d6364-b758-41cb-bc1a-4dd4dab334d5').width('29%')"
       ],
       "metadata": {},
       "output_type": "display_data",
       "text": [
        "<IPython.core.display.Javascript at 0x157234910>"
       ]
      },
      {
       "javascript": [
        "$('div#2f8d6364-b758-41cb-bc1a-4dd4dab334d5').width('30%')"
       ],
       "metadata": {},
       "output_type": "display_data",
       "text": [
        "<IPython.core.display.Javascript at 0x157234910>"
       ]
      },
      {
       "javascript": [
        "$('div#2f8d6364-b758-41cb-bc1a-4dd4dab334d5').width('31%')"
       ],
       "metadata": {},
       "output_type": "display_data",
       "text": [
        "<IPython.core.display.Javascript at 0x157234910>"
       ]
      },
      {
       "javascript": [
        "$('div#2f8d6364-b758-41cb-bc1a-4dd4dab334d5').width('32%')"
       ],
       "metadata": {},
       "output_type": "display_data",
       "text": [
        "<IPython.core.display.Javascript at 0x157234910>"
       ]
      },
      {
       "javascript": [
        "$('div#2f8d6364-b758-41cb-bc1a-4dd4dab334d5').width('32%')"
       ],
       "metadata": {},
       "output_type": "display_data",
       "text": [
        "<IPython.core.display.Javascript at 0x157234910>"
       ]
      },
      {
       "javascript": [
        "$('div#2f8d6364-b758-41cb-bc1a-4dd4dab334d5').width('33%')"
       ],
       "metadata": {},
       "output_type": "display_data",
       "text": [
        "<IPython.core.display.Javascript at 0x157234910>"
       ]
      },
      {
       "javascript": [
        "$('div#2f8d6364-b758-41cb-bc1a-4dd4dab334d5').width('34%')"
       ],
       "metadata": {},
       "output_type": "display_data",
       "text": [
        "<IPython.core.display.Javascript at 0x157234910>"
       ]
      },
      {
       "javascript": [
        "$('div#2f8d6364-b758-41cb-bc1a-4dd4dab334d5').width('35%')"
       ],
       "metadata": {},
       "output_type": "display_data",
       "text": [
        "<IPython.core.display.Javascript at 0x157234910>"
       ]
      },
      {
       "javascript": [
        "$('div#2f8d6364-b758-41cb-bc1a-4dd4dab334d5').width('35%')"
       ],
       "metadata": {},
       "output_type": "display_data",
       "text": [
        "<IPython.core.display.Javascript at 0x157234910>"
       ]
      },
      {
       "javascript": [
        "$('div#2f8d6364-b758-41cb-bc1a-4dd4dab334d5').width('36%')"
       ],
       "metadata": {},
       "output_type": "display_data",
       "text": [
        "<IPython.core.display.Javascript at 0x157234910>"
       ]
      },
      {
       "javascript": [
        "$('div#2f8d6364-b758-41cb-bc1a-4dd4dab334d5').width('37%')"
       ],
       "metadata": {},
       "output_type": "display_data",
       "text": [
        "<IPython.core.display.Javascript at 0x157234910>"
       ]
      },
      {
       "javascript": [
        "$('div#2f8d6364-b758-41cb-bc1a-4dd4dab334d5').width('38%')"
       ],
       "metadata": {},
       "output_type": "display_data",
       "text": [
        "<IPython.core.display.Javascript at 0x157234910>"
       ]
      },
      {
       "javascript": [
        "$('div#2f8d6364-b758-41cb-bc1a-4dd4dab334d5').width('39%')"
       ],
       "metadata": {},
       "output_type": "display_data",
       "text": [
        "<IPython.core.display.Javascript at 0x157234910>"
       ]
      },
      {
       "javascript": [
        "$('div#2f8d6364-b758-41cb-bc1a-4dd4dab334d5').width('39%')"
       ],
       "metadata": {},
       "output_type": "display_data",
       "text": [
        "<IPython.core.display.Javascript at 0x157234910>"
       ]
      },
      {
       "javascript": [
        "$('div#2f8d6364-b758-41cb-bc1a-4dd4dab334d5').width('40%')"
       ],
       "metadata": {},
       "output_type": "display_data",
       "text": [
        "<IPython.core.display.Javascript at 0x157234910>"
       ]
      },
      {
       "javascript": [
        "$('div#2f8d6364-b758-41cb-bc1a-4dd4dab334d5').width('41%')"
       ],
       "metadata": {},
       "output_type": "display_data",
       "text": [
        "<IPython.core.display.Javascript at 0x157234910>"
       ]
      },
      {
       "javascript": [
        "$('div#2f8d6364-b758-41cb-bc1a-4dd4dab334d5').width('42%')"
       ],
       "metadata": {},
       "output_type": "display_data",
       "text": [
        "<IPython.core.display.Javascript at 0x157234910>"
       ]
      },
      {
       "javascript": [
        "$('div#2f8d6364-b758-41cb-bc1a-4dd4dab334d5').width('42%')"
       ],
       "metadata": {},
       "output_type": "display_data",
       "text": [
        "<IPython.core.display.Javascript at 0x157234910>"
       ]
      },
      {
       "javascript": [
        "$('div#2f8d6364-b758-41cb-bc1a-4dd4dab334d5').width('43%')"
       ],
       "metadata": {},
       "output_type": "display_data",
       "text": [
        "<IPython.core.display.Javascript at 0x157234910>"
       ]
      },
      {
       "javascript": [
        "$('div#2f8d6364-b758-41cb-bc1a-4dd4dab334d5').width('44%')"
       ],
       "metadata": {},
       "output_type": "display_data",
       "text": [
        "<IPython.core.display.Javascript at 0x157234910>"
       ]
      },
      {
       "javascript": [
        "$('div#2f8d6364-b758-41cb-bc1a-4dd4dab334d5').width('45%')"
       ],
       "metadata": {},
       "output_type": "display_data",
       "text": [
        "<IPython.core.display.Javascript at 0x157234910>"
       ]
      },
      {
       "javascript": [
        "$('div#2f8d6364-b758-41cb-bc1a-4dd4dab334d5').width('46%')"
       ],
       "metadata": {},
       "output_type": "display_data",
       "text": [
        "<IPython.core.display.Javascript at 0x157234910>"
       ]
      },
      {
       "javascript": [
        "$('div#2f8d6364-b758-41cb-bc1a-4dd4dab334d5').width('46%')"
       ],
       "metadata": {},
       "output_type": "display_data",
       "text": [
        "<IPython.core.display.Javascript at 0x157234910>"
       ]
      },
      {
       "javascript": [
        "$('div#2f8d6364-b758-41cb-bc1a-4dd4dab334d5').width('47%')"
       ],
       "metadata": {},
       "output_type": "display_data",
       "text": [
        "<IPython.core.display.Javascript at 0x157234910>"
       ]
      },
      {
       "javascript": [
        "$('div#2f8d6364-b758-41cb-bc1a-4dd4dab334d5').width('48%')"
       ],
       "metadata": {},
       "output_type": "display_data",
       "text": [
        "<IPython.core.display.Javascript at 0x157234910>"
       ]
      },
      {
       "javascript": [
        "$('div#2f8d6364-b758-41cb-bc1a-4dd4dab334d5').width('49%')"
       ],
       "metadata": {},
       "output_type": "display_data",
       "text": [
        "<IPython.core.display.Javascript at 0x157234910>"
       ]
      },
      {
       "javascript": [
        "$('div#2f8d6364-b758-41cb-bc1a-4dd4dab334d5').width('50%')"
       ],
       "metadata": {},
       "output_type": "display_data",
       "text": [
        "<IPython.core.display.Javascript at 0x157234910>"
       ]
      },
      {
       "javascript": [
        "$('div#2f8d6364-b758-41cb-bc1a-4dd4dab334d5').width('50%')"
       ],
       "metadata": {},
       "output_type": "display_data",
       "text": [
        "<IPython.core.display.Javascript at 0x157234910>"
       ]
      },
      {
       "javascript": [
        "$('div#2f8d6364-b758-41cb-bc1a-4dd4dab334d5').width('51%')"
       ],
       "metadata": {},
       "output_type": "display_data",
       "text": [
        "<IPython.core.display.Javascript at 0x157234910>"
       ]
      },
      {
       "javascript": [
        "$('div#2f8d6364-b758-41cb-bc1a-4dd4dab334d5').width('52%')"
       ],
       "metadata": {},
       "output_type": "display_data",
       "text": [
        "<IPython.core.display.Javascript at 0x157234910>"
       ]
      },
      {
       "javascript": [
        "$('div#2f8d6364-b758-41cb-bc1a-4dd4dab334d5').width('53%')"
       ],
       "metadata": {},
       "output_type": "display_data",
       "text": [
        "<IPython.core.display.Javascript at 0x157234910>"
       ]
      },
      {
       "javascript": [
        "$('div#2f8d6364-b758-41cb-bc1a-4dd4dab334d5').width('53%')"
       ],
       "metadata": {},
       "output_type": "display_data",
       "text": [
        "<IPython.core.display.Javascript at 0x157234910>"
       ]
      },
      {
       "javascript": [
        "$('div#2f8d6364-b758-41cb-bc1a-4dd4dab334d5').width('54%')"
       ],
       "metadata": {},
       "output_type": "display_data",
       "text": [
        "<IPython.core.display.Javascript at 0x157234910>"
       ]
      },
      {
       "javascript": [
        "$('div#2f8d6364-b758-41cb-bc1a-4dd4dab334d5').width('55%')"
       ],
       "metadata": {},
       "output_type": "display_data",
       "text": [
        "<IPython.core.display.Javascript at 0x157234910>"
       ]
      },
      {
       "javascript": [
        "$('div#2f8d6364-b758-41cb-bc1a-4dd4dab334d5').width('56%')"
       ],
       "metadata": {},
       "output_type": "display_data",
       "text": [
        "<IPython.core.display.Javascript at 0x157234910>"
       ]
      },
      {
       "javascript": [
        "$('div#2f8d6364-b758-41cb-bc1a-4dd4dab334d5').width('57%')"
       ],
       "metadata": {},
       "output_type": "display_data",
       "text": [
        "<IPython.core.display.Javascript at 0x157234910>"
       ]
      },
      {
       "javascript": [
        "$('div#2f8d6364-b758-41cb-bc1a-4dd4dab334d5').width('57%')"
       ],
       "metadata": {},
       "output_type": "display_data",
       "text": [
        "<IPython.core.display.Javascript at 0x157234910>"
       ]
      },
      {
       "javascript": [
        "$('div#2f8d6364-b758-41cb-bc1a-4dd4dab334d5').width('58%')"
       ],
       "metadata": {},
       "output_type": "display_data",
       "text": [
        "<IPython.core.display.Javascript at 0x157234910>"
       ]
      },
      {
       "javascript": [
        "$('div#2f8d6364-b758-41cb-bc1a-4dd4dab334d5').width('59%')"
       ],
       "metadata": {},
       "output_type": "display_data",
       "text": [
        "<IPython.core.display.Javascript at 0x157234910>"
       ]
      },
      {
       "javascript": [
        "$('div#2f8d6364-b758-41cb-bc1a-4dd4dab334d5').width('60%')"
       ],
       "metadata": {},
       "output_type": "display_data",
       "text": [
        "<IPython.core.display.Javascript at 0x157234910>"
       ]
      },
      {
       "javascript": [
        "$('div#2f8d6364-b758-41cb-bc1a-4dd4dab334d5').width('60%')"
       ],
       "metadata": {},
       "output_type": "display_data",
       "text": [
        "<IPython.core.display.Javascript at 0x157234910>"
       ]
      },
      {
       "javascript": [
        "$('div#2f8d6364-b758-41cb-bc1a-4dd4dab334d5').width('61%')"
       ],
       "metadata": {},
       "output_type": "display_data",
       "text": [
        "<IPython.core.display.Javascript at 0x157234910>"
       ]
      },
      {
       "javascript": [
        "$('div#2f8d6364-b758-41cb-bc1a-4dd4dab334d5').width('62%')"
       ],
       "metadata": {},
       "output_type": "display_data",
       "text": [
        "<IPython.core.display.Javascript at 0x157234910>"
       ]
      },
      {
       "javascript": [
        "$('div#2f8d6364-b758-41cb-bc1a-4dd4dab334d5').width('63%')"
       ],
       "metadata": {},
       "output_type": "display_data",
       "text": [
        "<IPython.core.display.Javascript at 0x157234910>"
       ]
      },
      {
       "javascript": [
        "$('div#2f8d6364-b758-41cb-bc1a-4dd4dab334d5').width('64%')"
       ],
       "metadata": {},
       "output_type": "display_data",
       "text": [
        "<IPython.core.display.Javascript at 0x157234910>"
       ]
      },
      {
       "javascript": [
        "$('div#2f8d6364-b758-41cb-bc1a-4dd4dab334d5').width('64%')"
       ],
       "metadata": {},
       "output_type": "display_data",
       "text": [
        "<IPython.core.display.Javascript at 0x157234910>"
       ]
      },
      {
       "javascript": [
        "$('div#2f8d6364-b758-41cb-bc1a-4dd4dab334d5').width('65%')"
       ],
       "metadata": {},
       "output_type": "display_data",
       "text": [
        "<IPython.core.display.Javascript at 0x157234910>"
       ]
      },
      {
       "javascript": [
        "$('div#2f8d6364-b758-41cb-bc1a-4dd4dab334d5').width('66%')"
       ],
       "metadata": {},
       "output_type": "display_data",
       "text": [
        "<IPython.core.display.Javascript at 0x157234910>"
       ]
      },
      {
       "javascript": [
        "$('div#2f8d6364-b758-41cb-bc1a-4dd4dab334d5').width('67%')"
       ],
       "metadata": {},
       "output_type": "display_data",
       "text": [
        "<IPython.core.display.Javascript at 0x157234910>"
       ]
      },
      {
       "javascript": [
        "$('div#2f8d6364-b758-41cb-bc1a-4dd4dab334d5').width('67%')"
       ],
       "metadata": {},
       "output_type": "display_data",
       "text": [
        "<IPython.core.display.Javascript at 0x157234910>"
       ]
      },
      {
       "javascript": [
        "$('div#2f8d6364-b758-41cb-bc1a-4dd4dab334d5').width('68%')"
       ],
       "metadata": {},
       "output_type": "display_data",
       "text": [
        "<IPython.core.display.Javascript at 0x157234910>"
       ]
      },
      {
       "javascript": [
        "$('div#2f8d6364-b758-41cb-bc1a-4dd4dab334d5').width('69%')"
       ],
       "metadata": {},
       "output_type": "display_data",
       "text": [
        "<IPython.core.display.Javascript at 0x157234910>"
       ]
      },
      {
       "javascript": [
        "$('div#2f8d6364-b758-41cb-bc1a-4dd4dab334d5').width('70%')"
       ],
       "metadata": {},
       "output_type": "display_data",
       "text": [
        "<IPython.core.display.Javascript at 0x157234910>"
       ]
      },
      {
       "javascript": [
        "$('div#2f8d6364-b758-41cb-bc1a-4dd4dab334d5').width('71%')"
       ],
       "metadata": {},
       "output_type": "display_data",
       "text": [
        "<IPython.core.display.Javascript at 0x157234910>"
       ]
      },
      {
       "javascript": [
        "$('div#2f8d6364-b758-41cb-bc1a-4dd4dab334d5').width('71%')"
       ],
       "metadata": {},
       "output_type": "display_data",
       "text": [
        "<IPython.core.display.Javascript at 0x157234910>"
       ]
      },
      {
       "javascript": [
        "$('div#2f8d6364-b758-41cb-bc1a-4dd4dab334d5').width('72%')"
       ],
       "metadata": {},
       "output_type": "display_data",
       "text": [
        "<IPython.core.display.Javascript at 0x17f19c190>"
       ]
      },
      {
       "javascript": [
        "$('div#2f8d6364-b758-41cb-bc1a-4dd4dab334d5').width('73%')"
       ],
       "metadata": {},
       "output_type": "display_data",
       "text": [
        "<IPython.core.display.Javascript at 0x17f19c190>"
       ]
      },
      {
       "javascript": [
        "$('div#2f8d6364-b758-41cb-bc1a-4dd4dab334d5').width('74%')"
       ],
       "metadata": {},
       "output_type": "display_data",
       "text": [
        "<IPython.core.display.Javascript at 0x17f323350>"
       ]
      },
      {
       "javascript": [
        "$('div#2f8d6364-b758-41cb-bc1a-4dd4dab334d5').width('75%')"
       ],
       "metadata": {},
       "output_type": "display_data",
       "text": [
        "<IPython.core.display.Javascript at 0x17f19c510>"
       ]
      },
      {
       "javascript": [
        "$('div#2f8d6364-b758-41cb-bc1a-4dd4dab334d5').width('75%')"
       ],
       "metadata": {},
       "output_type": "display_data",
       "text": [
        "<IPython.core.display.Javascript at 0x157234910>"
       ]
      },
      {
       "javascript": [
        "$('div#2f8d6364-b758-41cb-bc1a-4dd4dab334d5').width('76%')"
       ],
       "metadata": {},
       "output_type": "display_data",
       "text": [
        "<IPython.core.display.Javascript at 0x157234910>"
       ]
      },
      {
       "javascript": [
        "$('div#2f8d6364-b758-41cb-bc1a-4dd4dab334d5').width('77%')"
       ],
       "metadata": {},
       "output_type": "display_data",
       "text": [
        "<IPython.core.display.Javascript at 0x17f19c590>"
       ]
      },
      {
       "javascript": [
        "$('div#2f8d6364-b758-41cb-bc1a-4dd4dab334d5').width('78%')"
       ],
       "metadata": {},
       "output_type": "display_data",
       "text": [
        "<IPython.core.display.Javascript at 0x17f19c190>"
       ]
      },
      {
       "javascript": [
        "$('div#2f8d6364-b758-41cb-bc1a-4dd4dab334d5').width('78%')"
       ],
       "metadata": {},
       "output_type": "display_data",
       "text": [
        "<IPython.core.display.Javascript at 0x17f19c510>"
       ]
      },
      {
       "javascript": [
        "$('div#2f8d6364-b758-41cb-bc1a-4dd4dab334d5').width('79%')"
       ],
       "metadata": {},
       "output_type": "display_data",
       "text": [
        "<IPython.core.display.Javascript at 0x17f19c590>"
       ]
      },
      {
       "javascript": [
        "$('div#2f8d6364-b758-41cb-bc1a-4dd4dab334d5').width('80%')"
       ],
       "metadata": {},
       "output_type": "display_data",
       "text": [
        "<IPython.core.display.Javascript at 0x17f19c590>"
       ]
      },
      {
       "javascript": [
        "$('div#2f8d6364-b758-41cb-bc1a-4dd4dab334d5').width('81%')"
       ],
       "metadata": {},
       "output_type": "display_data",
       "text": [
        "<IPython.core.display.Javascript at 0x17f19c590>"
       ]
      },
      {
       "javascript": [
        "$('div#2f8d6364-b758-41cb-bc1a-4dd4dab334d5').width('82%')"
       ],
       "metadata": {},
       "output_type": "display_data",
       "text": [
        "<IPython.core.display.Javascript at 0x17f19c590>"
       ]
      },
      {
       "javascript": [
        "$('div#2f8d6364-b758-41cb-bc1a-4dd4dab334d5').width('82%')"
       ],
       "metadata": {},
       "output_type": "display_data",
       "text": [
        "<IPython.core.display.Javascript at 0x17f19c590>"
       ]
      },
      {
       "javascript": [
        "$('div#2f8d6364-b758-41cb-bc1a-4dd4dab334d5').width('83%')"
       ],
       "metadata": {},
       "output_type": "display_data",
       "text": [
        "<IPython.core.display.Javascript at 0x17f19c590>"
       ]
      },
      {
       "javascript": [
        "$('div#2f8d6364-b758-41cb-bc1a-4dd4dab334d5').width('84%')"
       ],
       "metadata": {},
       "output_type": "display_data",
       "text": [
        "<IPython.core.display.Javascript at 0x17f19c590>"
       ]
      },
      {
       "javascript": [
        "$('div#2f8d6364-b758-41cb-bc1a-4dd4dab334d5').width('85%')"
       ],
       "metadata": {},
       "output_type": "display_data",
       "text": [
        "<IPython.core.display.Javascript at 0x17f19c590>"
       ]
      },
      {
       "javascript": [
        "$('div#2f8d6364-b758-41cb-bc1a-4dd4dab334d5').width('85%')"
       ],
       "metadata": {},
       "output_type": "display_data",
       "text": [
        "<IPython.core.display.Javascript at 0x17f19c590>"
       ]
      },
      {
       "javascript": [
        "$('div#2f8d6364-b758-41cb-bc1a-4dd4dab334d5').width('86%')"
       ],
       "metadata": {},
       "output_type": "display_data",
       "text": [
        "<IPython.core.display.Javascript at 0x17f19c590>"
       ]
      },
      {
       "javascript": [
        "$('div#2f8d6364-b758-41cb-bc1a-4dd4dab334d5').width('87%')"
       ],
       "metadata": {},
       "output_type": "display_data",
       "text": [
        "<IPython.core.display.Javascript at 0x17f19c590>"
       ]
      },
      {
       "javascript": [
        "$('div#2f8d6364-b758-41cb-bc1a-4dd4dab334d5').width('88%')"
       ],
       "metadata": {},
       "output_type": "display_data",
       "text": [
        "<IPython.core.display.Javascript at 0x17f19c590>"
       ]
      },
      {
       "javascript": [
        "$('div#2f8d6364-b758-41cb-bc1a-4dd4dab334d5').width('89%')"
       ],
       "metadata": {},
       "output_type": "display_data",
       "text": [
        "<IPython.core.display.Javascript at 0x17f19c590>"
       ]
      },
      {
       "javascript": [
        "$('div#2f8d6364-b758-41cb-bc1a-4dd4dab334d5').width('89%')"
       ],
       "metadata": {},
       "output_type": "display_data",
       "text": [
        "<IPython.core.display.Javascript at 0x17f19c590>"
       ]
      },
      {
       "javascript": [
        "$('div#2f8d6364-b758-41cb-bc1a-4dd4dab334d5').width('90%')"
       ],
       "metadata": {},
       "output_type": "display_data",
       "text": [
        "<IPython.core.display.Javascript at 0x17f19c590>"
       ]
      },
      {
       "javascript": [
        "$('div#2f8d6364-b758-41cb-bc1a-4dd4dab334d5').width('91%')"
       ],
       "metadata": {},
       "output_type": "display_data",
       "text": [
        "<IPython.core.display.Javascript at 0x17f19c590>"
       ]
      },
      {
       "javascript": [
        "$('div#2f8d6364-b758-41cb-bc1a-4dd4dab334d5').width('92%')"
       ],
       "metadata": {},
       "output_type": "display_data",
       "text": [
        "<IPython.core.display.Javascript at 0x17f19c590>"
       ]
      },
      {
       "javascript": [
        "$('div#2f8d6364-b758-41cb-bc1a-4dd4dab334d5').width('92%')"
       ],
       "metadata": {},
       "output_type": "display_data",
       "text": [
        "<IPython.core.display.Javascript at 0x17f19c590>"
       ]
      },
      {
       "javascript": [
        "$('div#2f8d6364-b758-41cb-bc1a-4dd4dab334d5').width('93%')"
       ],
       "metadata": {},
       "output_type": "display_data",
       "text": [
        "<IPython.core.display.Javascript at 0x17f19c590>"
       ]
      },
      {
       "javascript": [
        "$('div#2f8d6364-b758-41cb-bc1a-4dd4dab334d5').width('94%')"
       ],
       "metadata": {},
       "output_type": "display_data",
       "text": [
        "<IPython.core.display.Javascript at 0x17f19c590>"
       ]
      },
      {
       "javascript": [
        "$('div#2f8d6364-b758-41cb-bc1a-4dd4dab334d5').width('95%')"
       ],
       "metadata": {},
       "output_type": "display_data",
       "text": [
        "<IPython.core.display.Javascript at 0x17f19c590>"
       ]
      },
      {
       "javascript": [
        "$('div#2f8d6364-b758-41cb-bc1a-4dd4dab334d5').width('96%')"
       ],
       "metadata": {},
       "output_type": "display_data",
       "text": [
        "<IPython.core.display.Javascript at 0x17f19c590>"
       ]
      },
      {
       "javascript": [
        "$('div#2f8d6364-b758-41cb-bc1a-4dd4dab334d5').width('96%')"
       ],
       "metadata": {},
       "output_type": "display_data",
       "text": [
        "<IPython.core.display.Javascript at 0x17f19c590>"
       ]
      },
      {
       "javascript": [
        "$('div#2f8d6364-b758-41cb-bc1a-4dd4dab334d5').width('97%')"
       ],
       "metadata": {},
       "output_type": "display_data",
       "text": [
        "<IPython.core.display.Javascript at 0x17f19c590>"
       ]
      },
      {
       "javascript": [
        "$('div#2f8d6364-b758-41cb-bc1a-4dd4dab334d5').width('98%')"
       ],
       "metadata": {},
       "output_type": "display_data",
       "text": [
        "<IPython.core.display.Javascript at 0x17f19c590>"
       ]
      },
      {
       "javascript": [
        "$('div#2f8d6364-b758-41cb-bc1a-4dd4dab334d5').width('99%')"
       ],
       "metadata": {},
       "output_type": "display_data",
       "text": [
        "<IPython.core.display.Javascript at 0x17f19c590>"
       ]
      },
      {
       "javascript": [
        "$('div#2f8d6364-b758-41cb-bc1a-4dd4dab334d5').width('100%')"
       ],
       "metadata": {},
       "output_type": "display_data",
       "text": [
        "<IPython.core.display.Javascript at 0x15722ad90>"
       ]
      },
      {
       "html": [
        "<iframe src=http://127.0.0.1:8001/710277 width=100%% height=420 frameborder=0></iframe>"
       ],
       "metadata": {},
       "output_type": "pyout",
       "prompt_number": 109,
       "text": [
        "<DisplayNode.DisplayNodeProxy.DisplayNode instance at 0x189a10200>"
       ]
      }
     ],
     "prompt_number": 109
    },
    {
     "cell_type": "code",
     "collapsed": false,
     "input": [],
     "language": "python",
     "metadata": {},
     "outputs": [],
     "prompt_number": 8
    },
    {
     "cell_type": "code",
     "collapsed": false,
     "input": [],
     "language": "python",
     "metadata": {},
     "outputs": [],
     "prompt_number": 8
    },
    {
     "cell_type": "code",
     "collapsed": false,
     "input": [],
     "language": "python",
     "metadata": {},
     "outputs": []
    }
   ],
   "metadata": {}
  }
 ]
}