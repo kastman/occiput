{
 "metadata": {
  "name": ""
 },
 "nbformat": 3,
 "nbformat_minor": 0,
 "worksheets": [
  {
   "cells": [
    {
     "cell_type": "code",
     "collapsed": false,
     "input": [
      "import dropbox\n",
      "\n",
      "# App key and secret \n",
      "app_key    = '3usmqq1nf0x95oo'\n",
      "app_secret = 'hzdl5og9fvwvv1d'\n",
      "\n",
      "flow = dropbox.client.DropboxOAuth2FlowNoRedirect(app_key, app_secret)\n",
      "authorize_url = flow.start() \n",
      "print '1. Go to: ' + authorize_url \n",
      "print '2. Click \"Allow\" (you might have to log in first)'\n",
      "code = raw_input(\"2. Copy the authorization code and paste it here: \").strip()"
     ],
     "language": "python",
     "metadata": {},
     "outputs": [
      {
       "output_type": "stream",
       "stream": "stderr",
       "text": [
        "/Users/spedemon/.virtualenvs/ipy/lib/python2.7/site-packages/dropbox/rest.py:7: UserWarning: Module readline was already imported from /Users/spedemon/.virtualenvs/ipy/lib/python2.7/lib-dynload/readline.so, but /Users/spedemon/.virtualenvs/ipy/lib/python2.7/site-packages is being added to sys.path\n",
        "  import pkg_resources\n"
       ]
      },
      {
       "output_type": "stream",
       "stream": "stdout",
       "text": [
        "1. Go to: https://www.dropbox.com/1/oauth2/authorize?response_type=code&client_id=3usmqq1nf0x95oo\n",
        "2. Click \"Allow\" (you might have to log in first)\n"
       ]
      },
      {
       "name": "stdout",
       "output_type": "stream",
       "stream": "stdout",
       "text": [
        "2. Copy the authorization code and paste it here: T7SFeNnDgL8AAAAAAAAAASxxa5U6uS9m5QxpMKWqVVc\n"
       ]
      }
     ],
     "prompt_number": 1
    },
    {
     "cell_type": "code",
     "collapsed": false,
     "input": [
      "access_token, user_id = flow.finish(code)\n",
      "print access_token"
     ],
     "language": "python",
     "metadata": {},
     "outputs": [
      {
       "output_type": "stream",
       "stream": "stdout",
       "text": [
        "LER6DW5sZioAAAAAAAAAAf_VYzVM0SM5b2DKk7xUZyDO-SpcliAsLHAkuGPE6JE6\n"
       ]
      }
     ],
     "prompt_number": 2
    },
    {
     "cell_type": "code",
     "collapsed": false,
     "input": [
      "import dropbox\n",
      "access_token = \"LER6DW5sZioAAAAAAAAAAf_VYzVM0SM5b2DKk7xUZyDO-SpcliAsLHAkuGPE6JE6\"\n",
      "\n",
      "client = dropbox.client.DropboxClient(access_token)\n",
      "print \"Dropbox account webpage: \",client.account_info()['referral_link']\n",
      "print \"Dropbox account owner:   \",client.account_info()['display_name']\n",
      "print \"Dropbox account email:   \",client.account_info()['email']\n",
      "print \"Dropbox account quota:    %d Mb\"%(int(client.account_info()['quota_info']['quota'])/(2**20))"
     ],
     "language": "python",
     "metadata": {},
     "outputs": [
      {
       "output_type": "stream",
       "stream": "stdout",
       "text": [
        "Dropbox account webpage:  "
       ]
      },
      {
       "output_type": "stream",
       "stream": "stdout",
       "text": [
        "https://db.tt/EJZsYXDy\n",
        "Dropbox account owner:    "
       ]
      },
      {
       "output_type": "stream",
       "stream": "stdout",
       "text": [
        "Stefano Pedemonte\n",
        "Dropbox account email:    "
       ]
      },
      {
       "output_type": "stream",
       "stream": "stdout",
       "text": [
        "stefanopedemonte@gmail.com\n",
        "Dropbox account quota:    4096 Mb"
       ]
      },
      {
       "output_type": "stream",
       "stream": "stdout",
       "text": [
        "\n"
       ]
      }
     ],
     "prompt_number": 5
    },
    {
     "cell_type": "code",
     "collapsed": false,
     "input": [
      "class Bar(): \n",
      "    def __init__(self): \n",
      "        self.pb = HTML(\n",
      "        \"\"\"\n",
      "        <div style=\"border: 1px solid white; width:800px; height:6px; background-color:rgb(200,228,246)\">\n",
      "            <div id=\"%s\" style=\"background-color:rgb(47,128,246); width:0%%; height:6px\">&nbsp;</div>\n",
      "        </div> \n",
      "        \"\"\" % divid)\n",
      "        self.visible = False\n",
      "    def show(self):\n",
      "        display(self.pb)\n",
      "        self.visible = True \n",
      "        \n",
      "    def set_percentage(self,percentage):\n",
      "        if not self.visible: \n",
      "            self.show()\n",
      "        if percentage < 1:\n",
      "            percentage = 1\n",
      "        if percentage > 100:\n",
      "            percentage = 100 \n",
      "        display(Javascript(\"$('div#%s').width('%i%%')\" % (divid, percentage)))\n",
      "        if percentage >= 100:\n",
      "            self.set_done()\n",
      "    def set_done(self):\n",
      "        #display(Javascript(\"$('div#%s').css({'background-color':'rgb(208,92,92)'});\"%divid))\n",
      "        pass \n"
     ],
     "language": "python",
     "metadata": {},
     "outputs": [],
     "prompt_number": 6
    },
    {
     "cell_type": "code",
     "collapsed": false,
     "input": [
      "# Send a file\n",
      "import os\n",
      "import uuid\n",
      "from IPython.display import HTML, Javascript, display\n",
      "divid = str(uuid.uuid4())\n",
      "\n",
      "class DropboxUploader(): \n",
      "    def __init__(self,client):\n",
      "        self.client = client\n",
      "        self._callback_functions = []\n",
      "        self.N_chunks         =  10\n",
      "        self.large_file_size  =  2**18\n",
      "        self.max_chunk_size   =  4*(2**20)\n",
      "\n",
      "    def add_callback(self,callback): \n",
      "        self._callback_functions.append(callback)\n",
      "        \n",
      "    def upload(self,filename,filename_dropbox):  \n",
      "        size = os.path.getsize(filename)\n",
      "        f = open(filename, 'rb')\n",
      "\n",
      "        # All at once is it is small\n",
      "        if size < self.large_file_size: \n",
      "            print \"Small file: %d Mb\"%(size/2**20)\n",
      "            self._do_callbacks(0.0)\n",
      "            info = client.put_file('/magnum-opus.txt', f)\n",
      "            self._do_callbacks(100.0)\n",
      "        # In chunks if it is large\n",
      "        else: \n",
      "            print \"Large file: %d Mb\"%(size/2**20)\n",
      "            N_chunks   = self.N_chunks\n",
      "            chunk_size = size/N_chunks \n",
      "            if chunk_size > self.max_chunk_size: \n",
      "                chunk_size = self.max_chunk_size \n",
      "                N_chunks   = size/chunk_size\n",
      "            self._do_callbacks(0.0) \n",
      "            uploader = client.get_chunked_uploader(f, size)\n",
      "            i=0\n",
      "            \n",
      "            while uploader.offset < size:\n",
      "                try:\n",
      "                    upload = uploader.upload_chunked(chunk_size)\n",
      "                except rest.ErrorResponse, e:\n",
      "                    # perform error handling and retry logic\n",
      "                    pass \n",
      "                else: \n",
      "                    i+=1\n",
      "                    self._do_callbacks(i*100.0/N_chunks) \n",
      "            self._do_callbacks(100.0) \n",
      "            info = uploader.finish(filename_dropbox) \n",
      "        return info\n",
      "\n",
      "    def _do_callbacks(self,status): \n",
      "        for func in self._callback_functions: \n",
      "            func(status)\n"
     ],
     "language": "python",
     "metadata": {},
     "outputs": [],
     "prompt_number": 7
    },
    {
     "cell_type": "code",
     "collapsed": false,
     "input": [
      "filename         = '/Users/spedemon/Desktop/Ralpfh.nii.gz'\n",
      "filename_dropbox = 'Ralpfh.nii.gz'\n",
      "\n",
      "status_bar = Bar()\n",
      "uploader   = DropboxUploader(client) \n",
      "uploader.add_callback(status_bar.set_percentage) \n",
      "info = uploader.upload(filename,filename_dropbox)"
     ],
     "language": "python",
     "metadata": {},
     "outputs": [
      {
       "output_type": "stream",
       "stream": "stdout",
       "text": [
        "Large file: 80 Mb\n"
       ]
      },
      {
       "html": [
        "\n",
        "        <div style=\"border: 1px solid white; width:800px; height:6px; background-color:rgb(200,228,246)\">\n",
        "            <div id=\"49898931-2609-4e80-a33f-3173134762e2\" style=\"background-color:rgb(47,128,246); width:0%; height:6px\">&nbsp;</div>\n",
        "        </div> \n",
        "        "
       ],
       "metadata": {},
       "output_type": "display_data",
       "text": [
        "<IPython.core.display.HTML at 0x10a8be6d0>"
       ]
      },
      {
       "javascript": [
        "$('div#49898931-2609-4e80-a33f-3173134762e2').width('1%')"
       ],
       "metadata": {},
       "output_type": "display_data",
       "text": [
        "<IPython.core.display.Javascript at 0x10a8be3d0>"
       ]
      },
      {
       "output_type": "stream",
       "stream": "stdout",
       "text": [
        "1\n"
       ]
      },
      {
       "javascript": [
        "$('div#49898931-2609-4e80-a33f-3173134762e2').width('5%')"
       ],
       "metadata": {},
       "output_type": "display_data",
       "text": [
        "<IPython.core.display.Javascript at 0x10a8bea50>"
       ]
      },
      {
       "javascript": [
        "$('div#49898931-2609-4e80-a33f-3173134762e2').width('100%')"
       ],
       "metadata": {},
       "output_type": "display_data",
       "text": [
        "<IPython.core.display.Javascript at 0x10a8bea50>"
       ]
      }
     ],
     "prompt_number": 9
    },
    {
     "cell_type": "code",
     "collapsed": false,
     "input": [],
     "language": "python",
     "metadata": {},
     "outputs": [],
     "prompt_number": 8
    },
    {
     "cell_type": "code",
     "collapsed": false,
     "input": [],
     "language": "python",
     "metadata": {},
     "outputs": [],
     "prompt_number": "*"
    },
    {
     "cell_type": "code",
     "collapsed": false,
     "input": [],
     "language": "python",
     "metadata": {},
     "outputs": [],
     "prompt_number": "*"
    },
    {
     "cell_type": "code",
     "collapsed": false,
     "input": [
      "f = open('/Users/spedemon/Desktop/website/DisplayNode4.png', 'rb')\n",
      "response = client.put_file('/DisplayNode2.png', f)\n",
      "print \"uploaded:\", response"
     ],
     "language": "python",
     "metadata": {},
     "outputs": [
      {
       "output_type": "stream",
       "stream": "stdout",
       "text": [
        "uploaded: {u'size': u'15.6 KB', u'rev': u'31d7d4e77', u'thumb_exists': True, u'bytes': 15954, u'modified': u'Sun, 12 Jan 2014 05:41:48 +0000', u'mime_type': u'image/png', u'path': u'/DisplayNode2.png', u'is_dir': False, u'icon': u'page_white_picture', u'root': u'app_folder', u'client_mtime': u'Sun, 12 Jan 2014 05:41:48 +0000', u'revision': 3}\n"
       ]
      }
     ],
     "prompt_number": 30
    },
    {
     "cell_type": "code",
     "collapsed": false,
     "input": [
      "client.share('/DisplayNode2.png',False)"
     ],
     "language": "python",
     "metadata": {},
     "outputs": [
      {
       "metadata": {},
       "output_type": "pyout",
       "prompt_number": 31,
       "text": [
        "{u'expires': u'Tue, 01 Jan 2030 00:00:00 +0000',\n",
        " u'url': u'https://www.dropbox.com/s/j000sa3kmk9zacl/DisplayNode2.png'}"
       ]
      }
     ],
     "prompt_number": 31
    },
    {
     "cell_type": "code",
     "collapsed": false,
     "input": [
      "f, metadata = client.get_file_and_metadata('/DisplayNode4.png') \n",
      "print metadata"
     ],
     "language": "python",
     "metadata": {},
     "outputs": [
      {
       "output_type": "stream",
       "stream": "stdout",
       "text": [
        "{u'size': u'15.6 KB', u'rev': u'11d7d4e77', u'thumb_exists': True, u'bytes': 15954, u'modified': u'Sun, 12 Jan 2014 04:42:57 +0000', u'mime_type': u'image/png', u'path': u'/DisplayNode4.png', u'is_dir': False, u'icon': u'page_white_picture', u'root': u'app_folder', u'client_mtime': u'Sun, 12 Jan 2014 04:42:57 +0000', u'revision': 1}\n"
       ]
      }
     ],
     "prompt_number": 23
    },
    {
     "cell_type": "code",
     "collapsed": false,
     "input": [
      "F = f.read()"
     ],
     "language": "python",
     "metadata": {},
     "outputs": [],
     "prompt_number": 26
    },
    {
     "cell_type": "code",
     "collapsed": false,
     "input": [
      "raw_input()"
     ],
     "language": "python",
     "metadata": {},
     "outputs": [
      {
       "name": "stdout",
       "output_type": "stream",
       "stream": "stdout",
       "text": [
        "hello\n"
       ]
      },
      {
       "metadata": {},
       "output_type": "pyout",
       "prompt_number": 32,
       "text": [
        "'hello'"
       ]
      }
     ],
     "prompt_number": 32
    },
    {
     "cell_type": "code",
     "collapsed": false,
     "input": [
      "import hashlib\n",
      "def md5_for_file(path, block_size=256*128, hr=False):\n",
      "    '''\n",
      "    Block size directly depends on the block size of your filesystem\n",
      "    to avoid performances issues\n",
      "    Here I have blocks of 4096 octets (Default NTFS)\n",
      "    '''\n",
      "    md5 = hashlib.md5()\n",
      "    with open(path,'rb') as f: \n",
      "        for chunk in iter(lambda: f.read(block_size), b''): \n",
      "             md5.update(chunk)\n",
      "    if hr:\n",
      "        return md5.hexdigest()\n",
      "    return md5.digest()"
     ],
     "language": "python",
     "metadata": {},
     "outputs": [],
     "prompt_number": 33
    },
    {
     "cell_type": "code",
     "collapsed": false,
     "input": [
      "md5_for_file('/Users/spedemon/Desktop/mMR_data/2013_12_12_pineapple/listmode/PET_ACQ_85_20131212122532-0.l')"
     ],
     "language": "python",
     "metadata": {},
     "outputs": [
      {
       "metadata": {},
       "output_type": "pyout",
       "prompt_number": 41,
       "text": [
        "'\\xe3d\\x1d\\xe8f\\x81Gj\\xdf\\x89\\xacY\\x0f\\xce\\xf3\\xaa'"
       ]
      }
     ],
     "prompt_number": 41
    },
    {
     "cell_type": "code",
     "collapsed": false,
     "input": [],
     "language": "python",
     "metadata": {},
     "outputs": []
    }
   ],
   "metadata": {}
  }
 ]
}